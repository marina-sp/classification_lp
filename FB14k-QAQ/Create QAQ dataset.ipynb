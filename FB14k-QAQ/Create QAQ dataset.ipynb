{
 "cells": [
  {
   "cell_type": "code",
   "execution_count": 1,
   "metadata": {
    "ExecuteTime": {
     "end_time": "2020-03-31T19:52:02.524617Z",
     "start_time": "2020-03-31T19:52:01.042032Z"
    }
   },
   "outputs": [],
   "source": [
    "import pandas as pd\n",
    "import numpy as np\n",
    "import json\n",
    "from tqdm.notebook import tqdm\n",
    "import os\n",
    "import matplotlib.pyplot as plt\n",
    "import pickle as pkl"
   ]
  },
  {
   "cell_type": "markdown",
   "metadata": {},
   "source": [
    "# Construct the dataset"
   ]
  },
  {
   "cell_type": "markdown",
   "metadata": {},
   "source": [
    "### Read the original data set"
   ]
  },
  {
   "cell_type": "code",
   "execution_count": 2,
   "metadata": {
    "ExecuteTime": {
     "end_time": "2020-03-31T19:52:08.278691Z",
     "start_time": "2020-03-31T19:52:08.276531Z"
    }
   },
   "outputs": [],
   "source": [
    "prefix = '/mounts/work/speranskaya/data'"
   ]
  },
  {
   "cell_type": "code",
   "execution_count": 868,
   "metadata": {
    "ExecuteTime": {
     "end_time": "2020-03-30T19:04:43.019241Z",
     "start_time": "2020-03-30T19:04:42.777447Z"
    }
   },
   "outputs": [],
   "source": [
    "## FB13k\n",
    "dataset = 'FB15k-237'\n",
    "new_name = 'FB13k-QAQ'\n",
    "N = 1000\n",
    "\n",
    "data = []\n",
    "for i, name in enumerate(['train', 'valid', 'test']):\n",
    "    data.append(pd.read_csv(sep=\"\\t\", filepath_or_buffer=\"{}/{}/{}.txt\".format(prefix, dataset, name), \n",
    "                            header=None, names=['e1', 'rel', 'e2']))"
   ]
  },
  {
   "cell_type": "code",
   "execution_count": 6,
   "metadata": {},
   "outputs": [],
   "source": [
    "## YAGO\n",
    "dataset = 'YAGO3-10'\n",
    "new_name = 'YAGO3-QAQ'\n",
    "N = 1500\n",
    "\n",
    "data = []\n",
    "for i, name in enumerate(['train', 'valid', 'test']):\n",
    "    data.append(pd.read_csv(sep=\"\\t\", filepath_or_buffer=\"{}/{}/{}.txt\".format(prefix, dataset, name), \n",
    "                            header=None, names=['e1', 'rel', 'e2']))\n",
    "    \n",
    "for i, split in enumerate(data):\n",
    "    data[i] = split.loc[split.rel != 'isAffiliatedTo']"
   ]
  },
  {
   "cell_type": "code",
   "execution_count": 23,
   "metadata": {
    "ExecuteTime": {
     "end_time": "2020-03-31T19:55:11.223530Z",
     "start_time": "2020-03-31T19:55:11.189752Z"
    }
   },
   "outputs": [],
   "source": [
    "## WN18RR\n",
    "dataset = 'WN18RR'\n",
    "new_name = 'WN18RR-QAQ'\n",
    "N = 1500\n",
    "\n",
    "data = []\n",
    "for i, name in enumerate(['train', 'valid', 'test']):\n",
    "    data.append(pd.read_csv(sep=\"\\t\", filepath_or_buffer=\"{}/{}/{}.txt\".format(prefix, dataset, name), \n",
    "                            header=None, names=['e1', 'rel', 'e2']))"
   ]
  },
  {
   "cell_type": "code",
   "execution_count": 38,
   "metadata": {
    "ExecuteTime": {
     "end_time": "2020-03-04T18:40:47.347802Z",
     "start_time": "2020-03-04T18:40:47.329779Z"
    }
   },
   "outputs": [],
   "source": [
    "## umls\n",
    "dataset = 'umls'\n",
    "new_name = 'umls-QAQ'\n",
    "N = 150\n",
    "\n",
    "data = []\n",
    "for i, name in enumerate(['train', 'valid', 'test']):\n",
    "    data.append(pd.read_csv(sep=\"\\t\", filepath_or_buffer=\"{}/{}/{}.txt\".format(prefix, dataset, name), \n",
    "                            header=None, names=['e1', 'rel', 'e2']))"
   ]
  },
  {
   "cell_type": "code",
   "execution_count": 388,
   "metadata": {
    "ExecuteTime": {
     "end_time": "2020-03-04T18:40:47.347802Z",
     "start_time": "2020-03-04T18:40:47.329779Z"
    }
   },
   "outputs": [],
   "source": [
    "## nations\n",
    "dataset = 'nations'\n",
    "new_name = 'nations-QAQ'\n",
    "N = 10\n",
    "\n",
    "data = []\n",
    "for i, name in enumerate(['train', 'valid', 'test']):\n",
    "    data.append(pd.read_csv(sep=\"\\t\", filepath_or_buffer=\"{}/{}/{}.txt\".format(prefix, dataset, name), \n",
    "                            header=None, names=['e1', 'rel', 'e2']))"
   ]
  },
  {
   "cell_type": "code",
   "execution_count": 555,
   "metadata": {
    "ExecuteTime": {
     "end_time": "2020-03-10T10:08:25.981575Z",
     "start_time": "2020-03-10T10:08:25.885295Z"
    }
   },
   "outputs": [],
   "source": [
    "## kinship\n",
    "dataset = 'kinship'\n",
    "new_name = 'kinship-QAQ'\n",
    "N = 20\n",
    "\n",
    "data = []\n",
    "for i, name in enumerate(['train', 'valid', 'test']):\n",
    "    data.append(pd.read_csv(sep=\"\\t\", filepath_or_buffer=\"{}/{}/{}.txt\".format(prefix, dataset, name), \n",
    "                            header=None, names=['e1', 'rel', 'e2']))"
   ]
  },
  {
   "cell_type": "code",
   "execution_count": 24,
   "metadata": {
    "ExecuteTime": {
     "end_time": "2020-03-31T19:55:13.482008Z",
     "start_time": "2020-03-31T19:55:13.355677Z"
    }
   },
   "outputs": [
    {
     "data": {
      "text/plain": [
       "(86835, 6168)"
      ]
     },
     "execution_count": 24,
     "metadata": {},
     "output_type": "execute_result"
    }
   ],
   "source": [
    "train = data[0].astype(str)\n",
    "evalset = pd.concat(data[1:3]).astype(str)\n",
    "len(train), len(evalset)"
   ]
  },
  {
   "cell_type": "code",
   "execution_count": 25,
   "metadata": {
    "ExecuteTime": {
     "end_time": "2020-03-31T19:55:13.681911Z",
     "start_time": "2020-03-31T19:55:13.659701Z"
    }
   },
   "outputs": [
    {
     "data": {
      "text/plain": [
       "40943"
      ]
     },
     "execution_count": 25,
     "metadata": {},
     "output_type": "execute_result"
    }
   ],
   "source": [
    "entities = pd.concat((train.e1, train.e2, evalset.e1, evalset.e2)).unique()\n",
    "len(entities)"
   ]
  },
  {
   "cell_type": "markdown",
   "metadata": {},
   "source": [
    "### Remove random entities"
   ]
  },
  {
   "cell_type": "code",
   "execution_count": 26,
   "metadata": {
    "ExecuteTime": {
     "end_time": "2020-03-31T19:55:14.827684Z",
     "start_time": "2020-03-31T19:55:14.822112Z"
    }
   },
   "outputs": [
    {
     "name": "stdout",
     "output_type": "stream",
     "text": [
      "603947553\n"
     ]
    },
    {
     "data": {
      "text/plain": [
       "'6769392'"
      ]
     },
     "execution_count": 26,
     "metadata": {},
     "output_type": "execute_result"
    }
   ],
   "source": [
    "# sample entities to remove\n",
    "seed = np.random.randint(1000000000)\n",
    "print(seed)\n",
    "np.random.seed(seed)\n",
    "\n",
    "ent_removed = np.random.choice(entities, N, replace=False)\n",
    "ent_removed[0]"
   ]
  },
  {
   "cell_type": "code",
   "execution_count": 27,
   "metadata": {
    "ExecuteTime": {
     "end_time": "2020-03-31T19:55:15.135812Z",
     "start_time": "2020-03-31T19:55:15.133547Z"
    }
   },
   "outputs": [],
   "source": [
    "# only to reproduce the published split\n",
    "# ent_removed = ['/m/0m_v0', '/m/04svwx', '/m/02rgz4', '/m/0295sy', '/m/0fnpj', '/m/0zchj', '/m/08pgl8', '/m/09th87', '/m/07y9ts', '/m/01drsx', '/m/02jm9c', '/m/095zlp', '/m/015c2f', '/m/02flpc', '/m/02vg0', '/m/0cq8qq', '/m/0d0kn', '/m/02qwg', '/m/0pgm3', '/m/04bfg', '/m/0bth54', '/m/018mmw', '/m/0738y5', '/m/0jn38', '/m/019n9w', '/m/05dxl_', '/m/0f4yh', '/m/0kq39', '/m/0k6yt1', '/m/06wbm8q', '/m/01b_d4', '/m/03339m', '/m/0frq6', '/m/0fvf9q', '/m/02qy3py', '/m/0jqj5', '/m/0h3vhfb', '/m/0c55fj', '/m/04_1l0v', '/m/04p3w', '/m/0241jw', '/m/01shy7', '/m/06y9c2', '/m/04jbyg', '/m/0h63q6t', '/m/0jm3b', '/m/03177r', '/m/01c7p_', '/m/01cm8w', '/m/064vjs', '/m/0465_', '/m/03m6j', '/m/01f62', '/m/02rn00y', '/m/055c8', '/m/01bcwk', '/m/01l8t8', '/m/01svq8', '/m/0d1yn', '/m/056zf9', '/m/027j9wd', '/m/0257w4', '/m/02_cx_', '/m/02pv_d', '/m/0bpbhm', '/m/03czz87', '/m/0c00zd0', '/m/0gs5q', '/m/0fs9vc', '/m/07gql', '/m/035wq7', '/m/01qcx_', '/m/013x0b', '/m/02g9p4', '/m/0c0nhgv', '/m/09mq4m', '/m/050gkf', '/m/0fkx3', '/m/01qb5d', '/m/07ylj', '/m/03qy3l', '/m/035rnz', '/m/01n6c', '/m/04zl8', '/m/02t0n9', '/m/027bs_2', '/m/07jnt', '/m/018d6l', '/m/01tm2s', '/m/03f4w4', '/m/02zd460', '/m/0j86l', '/m/01zpmq', '/m/06rny', '/m/01mqnr', '/m/07g_0c', '/m/0152n0', '/m/01d_h8', '/m/0329qp', '/m/0b82vw', '/m/0gvstc3', '/m/0cl0bk', '/m/0f4l5', '/m/0c_md_', '/m/03205_', '/m/01sxdy', '/m/026y3cf', '/m/01cyd5', '/m/01qx13', '/m/04bbb8', '/m/0jmh7', '/m/01xcgf', '/m/06j6l', '/m/02wb6yq', '/m/0dq3c', '/m/01v3x8', '/m/05m63c', '/m/0c7f7', '/m/026h21_', '/m/05pcjw', '/m/02l840', '/m/035nm', '/m/03h_fk5', '/m/01zkhk', '/m/0bxg3', '/m/03lvyj', '/m/06rqw', '/m/09d6p2', '/m/07brj', '/m/0djywgn', '/m/03qkcn9', '/m/02dlfh', '/m/0fcyj', '/m/0fqy4p', '/m/04y5j64', '/m/0159h6', '/m/07wrz', '/m/0999q', '/m/05b2gsm', '/m/0jf1b', '/m/022s1m', '/m/0yshw', '/m/03c0t9', '/m/0d9z_y', '/m/0gqmvn', '/m/06688p', '/m/01t21q', '/m/05t0zfv', '/m/0cs134', '/m/02zyq6', '/m/0g57ws5', '/m/03bdv', '/m/01kwlwp', '/m/09v42sf', '/m/0l2v0', '/m/01qn7n', '/m/0nvvw', '/m/059dn', '/m/0dm00', '/m/05qhw', '/m/01g4yw', '/m/02s4l6', '/m/0303jw', '/m/01v8y9', '/m/02r22gf', '/m/0dgq80b', '/m/0gmcwlb', '/m/077rj', '/m/010bnr', '/m/01y06y', '/m/05hqv', '/m/01jllg1', '/m/03mstc', '/m/0fmyd', '/m/0hr6lkl', '/m/01vtmw6', '/m/07lnk', '/m/0cmdwwg', '/m/01sqd7', '/m/02ktrs', '/m/0lgsq', '/m/06lj1m', '/m/01gbcf', '/m/05sbv3', '/m/0418ft', '/m/09n4nb', '/m/01q24l', '/m/03r0g9', '/m/07f7jp', '/m/0141kz', '/m/0h08p', '/m/0g133', '/m/080v2', '/m/0l0wv', '/m/03qh03g', '/m/0fv4v', '/m/02t8gf', '/m/051ls', '/m/0gkkf', '/m/0jnkr', '/m/0187x8', '/m/02s_qz', '/m/05jrj4', '/m/0lkm', '/m/0br1w', '/m/0140t7', '/m/01sn3', '/m/02f46y', '/m/07l2m', '/m/03wnh', '/m/0b1q7c', '/m/042gr4', '/m/0gj8t_b', '/m/03cwqpm', '/m/0r3tb', '/m/01k3tq', '/m/01xl5', '/m/037gjc', '/m/0m8vm', '/m/060pl5', '/m/01x6v6', '/m/03z5xd', '/m/025t7ly', '/m/01xzb6', '/m/04chyn', '/m/01pt5w', '/m/0nk72', '/m/0gkr9q', '/m/0ygbf', '/m/01cbwl', '/m/01f6x7', '/m/03by7wc', '/m/02n4kr', '/m/06n8j', '/m/029pnn', '/m/06mr6', '/m/0432_5', '/m/05zvq6g', '/m/041jk9', '/m/0c57yj', '/m/0c8wxp', '/m/015ynm', '/m/07_fj54', '/m/034qt_', '/m/0g7pm1', '/m/0781g', '/m/053yx', '/m/015zql', '/m/0trv', '/m/0127gn', '/m/0n5j_', '/m/03gyvwg', '/m/02665kn', '/m/01rgcg', '/m/01c9x', '/m/0170yd', '/m/04fcjt', '/m/01l7cxq', '/m/027rqbx', '/m/0343h', '/m/040j2_', '/m/0gvrws1', '/m/02g5bf', '/m/05cwl_', '/m/0fvppk', '/m/02gvwz', '/m/0f_y9', '/m/05r5w', '/m/07qv_', '/m/0h2zvzr', '/m/05q9g1', '/m/0340hj', '/m/04qb6g', '/m/09pjnd', '/m/027y_', '/m/015hr', '/m/029bkp', '/m/07cz2', '/m/05k17c', '/m/06gd4', '/m/015pvh', '/m/0k_p5', '/m/03nymk', '/m/0j06n', '/m/01wmxfs', '/m/024dzn', '/m/02p76f9', '/m/09hnb', '/m/01swmr', '/m/04mky3', '/m/01pq4w', '/m/0p_47', '/m/019lxm', '/m/01vb6z', '/m/0gd5z', '/m/0n83s', '/m/02237m', '/m/0fs_s', '/m/011hq1', '/m/012v1t', '/m/01my4f', '/m/011v3', '/m/01xbp7', '/m/05drr9', '/m/03f_jk', '/m/0f0qfz', '/m/0d8_wz', '/m/02b0yk', '/m/02bqxb', '/m/0l3kx', '/m/01grrf', '/m/031rq5', '/m/0crh5_f', '/m/0ycht', '/m/0123_x', '/m/0222qb', '/m/01cf5', '/m/0jryt', '/m/02w7gg', '/m/0bwgc_', '/m/07ym0', '/m/02wtp6', '/m/0gz6b6g', '/m/01gst_', '/m/03_f0', '/m/07zlqp', '/m/01xhh5', '/m/019c57', '/m/0872p_c', '/m/084z0w', '/m/05fyy5', '/m/015zyd', '/m/0mfj2', '/m/03czrpj', '/m/02ppg1r', '/m/03qcq', '/m/01qg7c', '/m/044pqn', '/m/026p4q7', '/m/06wkj0', '/m/06y_n', '/m/061v5m', '/m/09rvcvl', '/m/06pjs', '/m/018y81', '/m/0c9l1', '/m/05qc_', '/m/059x66', '/m/0dk0dj', '/m/070w7s', '/m/09l3p', '/m/0443c', '/m/05c6073', '/m/0lfyx', '/m/039bp', '/m/0m3gy', '/m/0p4wb', '/m/01wdcxk', '/m/015bpl', '/m/01c0cc', '/m/027qq9b', '/m/01grpc', '/m/02qjb_', '/m/06dkzt', '/m/01c6l', '/m/0hv8w', '/m/02jxmr', '/m/02f8lw', '/m/01f6zc', '/m/0gd92', '/m/071_8', '/m/01qqwp9', '/m/0frsw', '/m/0mnm2', '/m/05qbbfb', '/m/059x3p', '/m/03kbr', '/m/038rzr', '/m/02d6n_', '/m/09x8ms', '/m/06cmp', '/m/05fg2', '/m/080dyk', '/m/0c38gj', '/m/0bmnm', '/m/0534nr', '/m/01p2b_', '/m/0czhv7', '/m/07t_x', '/m/08jcfy', '/m/01lrrt', '/m/041288', '/m/09qr6', '/m/09gkdln', '/m/024dw0', '/m/0htlr', '/m/01kr6k', '/m/01vl17', '/m/02lkcc', '/m/01yc02', '/m/04m8fy', '/m/01hbq0', '/m/0fdv3', '/m/01pv91', '/m/026kqs9', '/m/05p8bf9', '/m/07hhnl', '/m/02qwzkm', '/m/05l5n', '/m/034np8', '/m/0tfc', '/m/0g39h', '/m/0fsv2', '/m/0dbb3', '/m/037w7r', '/m/01hxs4', '/m/02l7c8', '/m/02_286', '/m/02h22', '/m/02mxbd', '/m/0p7pw', '/m/0fd3y', '/m/0frnff', '/m/03mbdx_', '/m/01242_', '/m/02jr26', '/m/02xgdv', '/m/03m5y9p', '/m/071h5c', '/m/011yxy', '/m/03bxp5', '/m/04l58n', '/m/073h5b', '/m/07h76', '/m/03v52f', '/m/0b4rf3', '/m/05xpms', '/m/06nsb9', '/m/022qqh', '/m/0167v', '/m/0tr3p', '/m/01ljpm', '/m/0gtvpkw', '/m/04t2t', '/m/02482c', '/m/01x5fb', '/m/02bfxb', '/m/08htt0', '/m/03y0pn', '/m/05sy0cv', '/m/01g63y', '/m/073tm9', '/m/01_j71', '/m/05q5t0b', '/m/0mfc0', '/m/01qszl', '/m/0436zq', '/m/01j8yr', '/m/01jdpf', '/m/01hp5', '/m/09p3_s', '/m/01f7v_', '/m/019lwb', '/m/0284gc', '/m/01tvz5j', '/m/0fg6k', '/m/0flddp', '/m/09889g', '/m/015np0', '/m/0nh57', '/m/01336l', '/m/0kst7v', '/m/01hd99', '/m/0g2mbn', '/m/019lty', '/m/02q0k7v', '/m/01y8cr', '/m/03b_fm5', '/m/064nh4k', '/m/017vb_', '/m/02k6hp', '/m/02bv9', '/m/014vm4', '/m/05gqf', '/m/0n2k5', '/m/04b19t', '/m/0lzkm', '/m/01jq34', '/m/0fztbq', '/m/0806vbn', '/m/0mpfn', '/m/064p92m', '/m/025569', '/m/0f4vx', '/m/05vtw', '/m/04h07s', '/m/01vrt_c', '/m/03x746', '/m/0nqph', '/m/01j67j', '/m/02cqbx', '/m/0gj4fx', '/m/03mp9s', '/m/01ypc', '/m/0kfpm', '/m/01xndd', '/m/014zfs', '/m/01b7b', '/m/06fcqw', '/m/014kbl', '/m/015c4g', '/m/01t110', '/m/0163t3', '/m/0hg11', '/m/013719', '/m/0dzfdw', '/m/0db86', '/m/01vx5w7', '/m/01gln9', '/m/0cjf0', '/m/071jv5', '/m/05vsb7', '/m/0ct_yc', '/m/02bqy', '/m/0417z2', '/m/01mc11', '/m/0f102', '/m/016s0m', '/m/02jxrw', '/m/01l1sq', '/m/039crh', '/m/02rbdlq', '/m/07q68q', '/m/0mw_q', '/m/0bmhn', '/m/04zxrt', '/m/0ff3y', '/m/015_30', '/m/02_fz3', '/m/082gq', '/m/02qpt1w', '/m/01rwcgb', '/m/02cpp', '/m/0c3jz', '/m/05znbh7', '/m/05f_3', '/m/014bpd', '/m/0kcw2', '/m/07nx9j', '/m/09hd16', '/m/057xn_m', '/m/01ypsj', '/m/02cw1m', '/m/0697s', '/m/013v5j', '/m/042fgh', '/m/01f1p9', '/m/01y9pk', '/m/02cbs0', '/m/02ptczs', '/m/06jtd', '/m/019389', '/m/0jm7n', '/m/03lpp_', '/m/07kh6f3', '/m/017vkx', '/m/07hwkr', '/m/02lgj6', '/m/07z542', '/m/017d93', '/m/01cblr', '/m/0fdtd7', '/m/0hn4h', '/m/09ntbc', '/m/03bxwtd', '/m/0jyx6', '/m/04rcr', '/m/011yrp', '/m/05f4vxd', '/m/01r5xw', '/m/08624h', '/m/01z2sn', '/m/02fp3', '/m/02778pf', '/m/013y1f', '/m/0gtzp', '/m/014kj2', '/m/013nws', '/m/023znp', '/m/026bt_h', '/m/057bxr', '/m/01lct6', '/m/027t8fw', '/m/016yxn', '/m/059f4', '/m/07kfzsg', '/m/0n5yv', '/m/0n839', '/m/0mzy7', '/m/09qv_s', '/m/03rwng', '/m/01vsnff', '/m/05zwrg0', '/m/03_48k', '/m/0bm9xk', '/m/011ykb', '/m/0ckm4x', '/m/025b5y', '/m/05j49', '/m/04b5l3', '/m/016tb7', '/m/02vmzp', '/m/03ln8b', '/m/0n5_g', '/m/01fmz6', '/m/0mvxt', '/m/02qfh', '/m/073x6y', '/m/05p7tx', '/m/0163v', '/m/07y2b', '/m/01v_pj6', '/m/074w86', '/m/0dc_v', '/m/0c78m', '/m/0d2psv', '/m/02lxrv', '/m/0xsk8', '/m/0cq7tx', '/m/02_n5d', '/m/027qb1', '/m/02r_pp', '/m/0r1yc', '/m/0djkrp', '/m/0prh7', '/m/0p8r1', '/m/0b7gr2', '/m/0k89p', '/m/032sl_', '/m/067nsm', '/m/0mgkg', '/m/01sb5r', '/m/05zn92p', '/m/01slc', '/m/0mbwf', '/m/01kkx2', '/m/05cj4r', '/m/0pk1p', '/m/0chrx', '/m/01v1d8', '/m/03v36', '/m/026mff', '/m/01gf5h', '/m/08ct6', '/m/024lt6', '/m/0ngg', '/m/07fb8_', '/m/034_t5', '/m/061y4q', '/m/04sh80', '/m/0106dv', '/m/040_t', '/m/0_7z2', '/m/03ndd', '/m/014kkm', '/m/02rq7nd', '/m/046f25', '/m/0f2w0', '/m/01wp8w7', '/m/02f73p', '/m/05sq0m', '/m/01p726', '/m/04mz10g', '/m/03b1sb', '/m/0gj9tn5', '/m/01p45_v', '/m/019mcm', '/m/0cv13', '/m/016yvw', '/m/0276g40', '/m/015lhm', '/m/03hpr', '/m/06jntd', '/m/0vm5t', '/m/0mkp7', '/m/02wwwv5', '/m/0mpdw', '/m/023zl', '/m/02yy_j', '/m/03459x', '/m/060m4', '/m/0kh6b', '/m/013423', '/m/0bs5k8r', '/m/05mt6w', '/m/0_lk5', '/m/03flwk', '/m/0n1tx', '/m/05r6t', '/m/03d_w3h', '/m/022qw7', '/m/04gbl3', '/m/0gf28', '/m/049t4g', '/m/0c7t58', '/m/09d5d5', '/m/06n3y', '/m/0gt_k', '/m/05qzv', '/m/0mbf4', '/m/01clyb', '/m/01q0kg', '/m/06v99d', '/m/0drtkx', '/m/01_f_5', '/m/01wsl7c', '/m/02n9bh', '/m/01xhb_', '/m/016_nr', '/m/0208wk', '/m/017f3m', '/m/03rl1g', '/m/01_9fk', '/m/0b6p3qf', '/m/01r_t_', '/m/01p79b', '/m/0jgm8', '/m/01jq4b', '/m/05q_mg', '/m/03qmx_f', '/m/087z12', '/m/0257pw', '/m/02nrdp', '/m/03pnvq', '/m/0k5px', '/m/0c5x_', '/m/015rkw', '/m/01x66d', '/m/04j14qc', '/m/04mx8h4', '/m/05bpg3', '/m/034ls', '/m/02lpp7', '/m/0bdt8', '/m/075fzd', '/m/06rzwx', '/m/01zfmm', '/m/01hpf6', '/m/057dxsg', '/m/0g5rg', '/m/0pdp8', '/m/01vs8ng', '/m/01kymm', '/m/02hy9p', '/m/030pr', '/m/0gthm', '/m/0g56t9t', '/m/01c40n', '/m/01fh36', '/m/02q5g1z', '/m/0bt7w', '/m/036gdw', '/m/01vw20_', '/m/02cllz', '/m/01trxd', '/m/02l_7y', '/m/09d11', '/m/0pv3x', '/m/0fsb8', '/m/026spg', '/m/0dx84s', '/m/0411q', '/m/04b2qn', '/m/02pyyld', '/m/0flw6', '/m/0hl3d', '/m/01wb8bs', '/m/08z956', '/m/0jg77', '/m/02y6fz', '/m/0jcx', '/m/0pkgt', '/m/012gk9', '/m/0468g4r', '/m/02wvf2s', '/m/025ygws', '/m/041r51', '/m/0372p', '/m/0cwtm', '/m/073hmq', '/m/025b3k', '/m/02fgm7', '/m/0326tc', '/m/016_rm', '/m/042l3v', '/m/015gw6', '/m/0kc40', '/m/034gxk', '/m/0mw93', '/m/03yf3z', '/m/01j_jh', '/m/052nd', '/m/06lc85', '/m/0b_6xf', '/m/025rcc', '/m/045346', '/m/023322', '/m/06cm5', '/m/03lmzl', '/m/01z645', '/m/02grdc', '/m/07x21', '/m/04t9c0', '/m/02s2ft', '/m/03359d', '/m/030qb3t', '/m/028cg00', '/m/06_vpyq', '/m/03h_yfh', '/m/0yyn5', '/m/0693l', '/m/02c638', '/m/025v26c', '/m/047kn_', '/m/019w9j', '/m/07l1c', '/m/016yzz', '/m/01xbxn', '/m/021lkq', '/m/0m_xy', '/m/0djvzd', '/m/017j69', '/m/02q690_', '/m/0zc6f', '/m/02kx3', '/m/02g_6x', '/m/041wm', '/m/075k5', '/m/09l9xt', '/m/036jv', '/m/07m9cm', '/m/04n6k', '/m/0g9wdmc', '/m/0cqt41', '/m/0561xh', '/m/082brv', '/m/02w86hz', '/m/0_xdd', '/m/067xw', '/m/05w1vf', '/m/0ckcvk', '/m/02scbv', '/m/028p0', '/m/078vc', '/m/060d2', '/m/016ks_', '/m/01n4w', '/m/0dj0x', '/m/03jg5t', '/m/0tz41', '/m/0gtt5fb', '/m/01c333', '/m/0jqb8', '/m/04_by', '/m/01kx_81', '/m/0102t4', '/m/0rrwt', '/m/0kszw', '/m/09f07', '/m/07f_t4', '/m/0g9zcgx', '/m/06nzl', '/m/0362q0', '/m/020qr4', '/m/02l1fn', '/m/01531', '/m/072vj', '/m/04pk9', '/m/018d5b', '/m/0j_sncb', '/m/0xjl2', '/m/013qvn', '/m/09nqf', '/m/01vfqh', '/m/0d1t3', '/m/016gp5', '/m/02mqc4', '/m/01fwj8', '/m/02hrh0_', '/m/0d99m', '/m/0dn8b', '/m/02c6d', '/m/02t_8z', '/m/07wg3', '/m/01rf57', '/m/02wkmx', '/m/018grr', '/m/0jnl5', '/m/05925', '/m/06ch55', '/m/03cd0x', '/m/01ty7ll', '/m/03q5t', '/m/03n69x', '/m/01rp13', '/m/04bdzg', '/m/0glqh5_', '/m/025s0zp', '/m/0g824', '/m/02mc79', '/m/02mt51', '/m/05l3g_', '/m/08hbxv', '/m/025m98', '/m/0fy59t', '/m/01v2xl', '/m/081g_l', '/m/06xj4w', '/m/07_k0c0', '/m/09swkk', '/m/0bx_hnp', '/m/084x96', '/m/0ntpv', '/m/02r34n', '/m/01flzb', '/m/025v1sx', '/m/017n9', '/m/01rvgx', '/m/015fr', '/m/01t6b4', '/m/02vnpv', '/m/01m1_t', '/m/03jqfx', '/m/0277g', '/m/02lxj_', '/m/03f22dp', '/m/02qdymm', '/m/03975z', '/m/0gdh5', '/m/049rl0', '/m/06pr6', '/m/050xpd', '/m/0d1mp3', '/m/01grqd', '/m/01yjl', '/m/01gbbz', '/m/02114t', '/m/0cg39k', '/m/02xwq9', '/m/07nv3_', '/m/05mrx8', '/m/03gm48', '/m/0cv9b', '/m/0fqnzts', '/m/05v10', '/m/0727h', '/m/0fq9zdv', '/m/0yzyn', '/m/01cwm1', '/m/02vr7', '/m/0c0cs', '/m/01kb2j', '/m/0c422z4', '/m/07z2lx', '/m/011s9r', '/m/03jvmp', '/m/04f73rc', '/m/092vkg', '/m/050ks', '/m/0smfm', '/m/04c636', '/m/06mz5', '/m/02r7lqg', '/m/05f7w84', '/m/0138t4', '/m/01ggbx', '/m/04xfb', '/m/018z_c', '/m/0gk7z', '/m/0sydc', '/m/0n2vl', '/m/01qdjm', '/m/07gyp7', '/m/01gzm2', '/m/0184jw', '/m/016t_3', '/m/04344j', '/m/02h4rq6', '/m/0642xf3', '/m/02_gzx', '/m/01gjlw', '/m/0150t6', '/m/05yzt_', '/m/01pxqx', '/m/0pmw9', '/m/019vgs', '/m/08qs09', '/m/0l4h_', '/m/02jp2w', '/m/04w8f', '/m/01p5xy', '/m/035bcl', '/m/05ldnp', '/m/012jc', '/m/01n4nd', '/m/01htzx', '/m/01438g', '/m/0hky', '/m/03d0ns', '/m/027752', '/m/03z106', '/m/014kg4', '/m/01vsqvs', '/m/03prz_', '/m/03qbm', '/m/040b5k', '/m/04bs3j', '/m/02cgb8', '/m/084qpk', '/m/02lbrd', '/m/083my7', '/m/048z7l', '/m/0fpzt5', '/m/0gmf0nj', '/m/01tf_6', '/m/025y67', '/m/02cm61', '/m/0fqyzz', '/m/01x9_8', '/m/04pqqb', '/m/0m491', '/m/03z0dt', '/m/04dm2n', '/m/01rr_d', '/m/018sg9', '/m/02s6sh', '/m/0lv1x', '/m/01m2n1', '/m/05m883', '/m/04cj79', '/m/0fpjd_g', '/m/0bjqh', '/m/03m4mj', '/m/02kth6', '/m/09jd9', '/m/0blt6', '/m/01nxzv', '/m/02f1c', '/m/06w58f', '/m/01trhmt', '/m/027f2w', '/m/07mb57', '/m/01kp66', '/m/0h0yt', '/m/01kj0p', '/m/0393g', '/m/01c6k4', '/m/018s6c', '/m/05kjc6', '/m/011_vz', '/m/0cgfb', '/m/029rk', '/m/04dyqk', '/m/06c7mk', '/m/01v80y', '/m/035qlx', '/m/0n6nl', '/m/01_bkd', '/m/06mx8', '/m/01d2v1', '/m/0154d7', '/m/0dwt5', '/m/0604m', '/m/0212ny', '/m/03v1xb', '/m/06274w', '/m/01l63', '/m/027m5wv', '/m/0212zp', '/m/05zh9c', '/m/06y0xx', '/m/027ct7c', '/m/0f40w', '/m/058wp', '/m/05pt0l', '/m/0j8p6', '/m/0tl6d', '/m/05wp1p', '/m/0gr07', '/m/02w0dc0', '/m/01skmp', '/m/0d2ww', '/m/03n785', '/m/017510', '/m/095z4q', '/m/01kvrz', '/m/04gm7n', '/m/0db94w', '/m/03j722', '/m/05nzw6', '/m/017kz7', '/m/0hvb2', '/m/0147w8', '/m/027j79k', '/m/01w61th', '/m/04bpm6', '/m/01cx_', '/m/041rx', '/m/0bbm7r', '/m/01mqc_', '/m/05j82v', '/m/02w9sd7', '/m/02nq10', '/m/0bq8tmw', '/m/048svj', '/m/01c3q', '/m/0jclr', '/m/0ggx5q', '/m/05h7tk', '/m/01vw77', '/m/0cbhh', '/m/05gnf', '/m/05ch98', '/m/0453t', '/m/026c1', '/m/08xvpn', '/m/018qb4', '/m/02gx2k', '/m/0bwfwpj', '/m/011yd2', '/m/0fthdk', '/m/01mvpv', '/m/01kcms4', '/m/02l4pj', '/m/018ysx', '/m/03dj48', '/m/0f11p', '/m/09v6gc9', '/m/011wtv', '/m/0c11mj', '/m/01f8gz', '/m/06w92', '/m/0k3kg', '/m/06t8v', '/m/047vp1n', '/m/02w7fs', '/m/02gdjb', '/m/07fq1y', '/m/011k_j', '/m/09ld6g', '/m/05dxl5', '/m/0408m53', '/m/0bk5r', '/m/02279c', '/m/03f1zhf', '/m/01j5ql', '/m/08821', '/m/0x2sv', '/m/01tlrp', '/m/02xhwm', '/m/06s0l', '/m/0qlnr', '/m/02ndj5', '/m/02sf_r', '/m/0c3dzk', '/m/0fqyc', '/m/0b05xm', '/m/0mww2', '/m/0vqcq', '/m/0yfvf', '/m/025rzfc', '/m/01qqwn', '/m/035qgm', '/m/09x3r', '/m/02xcb6n', '/m/06gcn', '/m/01p5_g', '/m/03d49', '/m/0f42nz', '/m/0c_jc', '/m/07b1gq', '/m/0dyl9', '/m/09wj5', '/m/06mq7', '/m/0258dh', '/m/0g8rj', '/m/054k_8', '/m/01771z', '/m/0qmhk', '/m/0g51l1', '/m/03x31g', '/m/07bzp', '/m/025vl4m', '/m/01j5sv', '/m/03llf8', '/m/03shpq', '/m/0fd6qb', '/m/05n19y', '/m/06k75', '/m/03t1s', '/m/049n2l', '/m/097h2', '/m/04cdxc', '/m/021bmf', '/m/01l_pn', '/m/02sgy', '/m/02kb_jm', '/m/01rcmg', '/m/0lmm3', '/m/02bn_p', '/m/01x73', '/m/018gqj', '/m/06szd3', '/m/0ds1glg', '/m/05tcx0', '/m/016ybr', '/m/0lgm5', '/m/0b_6h7', '/m/0n6c_', '/m/04jr87', '/m/07kbp5', '/m/0ddkf', '/m/029q3k', '/m/02xpy5', '/m/03gyp30', '/m/017180', '/m/08w6v_', '/m/0f0p0', '/m/030_3z', '/m/01t4p0', '/m/0qmd5', '/m/07kb5', '/m/03dpqd', '/m/0y_hb', '/m/09bymc', '/m/0294fd', '/m/02vyyl8', '/m/03phtz', '/m/03gjzk', '/m/04bbv7', '/m/04lgybj', '/m/048vhl', '/m/0bqtx', '/m/0gkg6', '/m/018wl5', '/m/0b_c7', '/m/0r5y9', '/m/03cvvlg', '/m/05np4c', '/m/0g54xkt', '/m/0c_tl', '/m/02hqt6', '/m/09dfcj', '/m/02dbp7', '/m/0kwmc', '/m/0jcky', '/m/081k8', '/m/043tvp3', '/m/0mnzd', '/m/01fx6y', '/m/03m7d', '/m/0cb1ky', '/m/04vvh9', '/m/012g92', '/m/02ltg3', '/m/0nvt9', '/m/01lxw6', '/m/03hh89', '/m/03h_yy', '/m/01bb9r', '/m/0755wz', '/m/0299hs', '/m/02vjzr', '/m/01gkp1', '/m/05znxx', '/m/0hg45', '/m/09k5jh7', '/m/09j9h', '/m/02bm1v', '/m/0f276', '/m/01b4p4', '/m/0lhp1', '/m/0bkq7', '/m/01vd7hn', '/m/03_2y', '/m/04mhbh', '/m/02hxc3j', '/m/075_t2', '/m/05fh2', '/m/0tz54', '/m/056xx8', '/m/092ggq', '/m/05h5nb8', '/m/01vnbh', '/m/0yyts', '/m/018lc_', '/m/0178kd', '/m/01k5t_3', '/m/08jyyk', '/m/018pj3', '/m/023r2x', '/m/0bwfn', '/m/0vlf', '/m/027tbrc', '/m/0fz2y7', '/m/01jgkj2', '/m/08vpjv', '/m/02j416', '/m/03v0vd', '/m/0f721s', '/m/0jvt9', '/m/04h4c9', '/m/07_dn', '/m/01d34b', '/m/03vyw8', '/m/01rrd4', '/m/0197tq', '/m/06hzq3', '/m/016sp_', '/m/0d22f', '/m/03y2kr', '/m/0355dz', '/m/055qm', '/m/04tr1', '/m/038_3y', '/m/0n08r', '/m/03c602', '/m/0cskb', '/m/073bb', '/m/01385g', '/m/025ts_z', '/m/03_r_5', '/m/01q7h2', '/m/03qdm', '/m/01wskg', '/m/02g87m', '/m/075q_', '/m/0436f4', '/m/02r0st6', '/m/06mzp', '/m/0b2v79', '/m/0fphf3v', '/m/02_t6d', '/m/01lp8', '/m/01n951', '/m/04mn81', '/m/045xx', '/m/0k20s', '/m/01gp_d', '/m/0mj1l', '/m/02kc5rj', '/m/043js', '/m/02qd04y', '/m/026w398', '/m/06hx2', '/m/0py9b', '/m/03_bcg', '/m/0fgrm', '/m/01fsz', '/m/0x2p', '/m/02dqdp', '/m/013gxt', '/m/01fjfv', '/m/0ncy4', '/m/058nh2', '/m/0277990', '/m/0473q', '/m/059_gf', '/m/0dm5l', '/m/09fc83', '/m/07r_dg', '/m/03lt8g', '/m/02rp117', '/m/028kj0', '/m/026dx', '/m/017b2p', '/m/09vc4s', '/m/05489', '/m/02h48', '/m/03z9585', '/m/01pr6n', '/m/01y81r', '/m/05z43v', '/m/0fn8jc', '/m/0dr7s', '/m/0581vn8', '/m/0gg4h', '/m/0mmr1', '/m/0gt14', '/m/01rs59', '/m/02d42t', '/m/0lcx', '/m/0fxyd', '/m/01xcr4', '/m/07t65', '/m/0b9f7t', '/m/0ktpx', '/m/01nhgd', '/m/09r8l', '/m/01n7qlf', '/m/02bg55', '/m/0c12h', '/m/014ktf', '/m/02rlj20', '/m/0d3mlc', '/m/0721cy', '/m/018gkb', '/m/03d555l', '/m/0glt670', '/m/079hvk', '/m/02r79_h', '/m/06hgym', '/m/02b19f', '/m/01wg25j', '/m/01ww2fs', '/m/04fhxp', '/m/0prrm', '/m/01vw8mh', '/m/02qyp19', '/m/052_mn', '/m/025_nbr', '/m/018yv3', '/m/01vv126', '/m/0ym8f', '/m/012cph', '/m/05l4yg', '/m/0qm9n', '/m/026fs38', '/m/010v8k', '/m/0g10g', '/m/012x1l', '/m/03rtmz', '/m/03p7rp', '/m/01nczg', '/m/06w2yp9', '/m/0dzz6g', '/m/02r1ysd', '/m/02jyhv', '/m/01fl3', '/m/0gjvqm', '/m/03tcbx', '/m/0ds460j', '/m/0dw6b', '/m/02js6_', '/m/03wh8kl', '/m/01npcy7', '/m/0btmb', '/m/03g3w', '/m/0160nk', '/m/0mn78', '/m/03x42', '/m/03_dj', '/m/0ph2w', '/m/0155w', '/m/0prhz', '/m/0199wf', '/m/0bl8l', '/m/06b9n', '/m/05mvd62', '/m/025sppp', '/m/022lly', '/m/06d_3', '/m/01v0sx2', '/m/02qtywd', '/m/0cf_n', '/m/0f2s6', '/m/025rvx0', '/m/099md', '/m/02hgz', '/m/027hm_', '/m/020hyj', '/m/05jm7', '/m/084w8', '/m/0dhrqx', '/m/0143hl', '/m/0894_x', '/m/06cqb', '/m/01shhf', '/m/03xkps', '/m/02bpy_', '/m/0b_756', '/m/017323', '/m/01s3vk', '/m/0133_p', '/m/025vw4t', '/m/01skxk', '/m/040_9', '/m/0fr59', '/m/0ps1q', '/m/081t6', '/m/01t9_0', '/m/02hn5v', '/m/018wrk', '/m/03jn4', '/m/025tm81', '/m/0fphgb', '/m/07147', '/m/035bpp', '/m/01f39b', '/m/07rnh']"
   ]
  },
  {
   "cell_type": "code",
   "execution_count": 28,
   "metadata": {
    "ExecuteTime": {
     "end_time": "2020-03-31T19:55:15.319475Z",
     "start_time": "2020-03-31T19:55:15.316274Z"
    }
   },
   "outputs": [
    {
     "data": {
      "text/plain": [
       "1500"
      ]
     },
     "execution_count": 28,
     "metadata": {},
     "output_type": "execute_result"
    }
   ],
   "source": [
    "len(ent_removed)"
   ]
  },
  {
   "cell_type": "code",
   "execution_count": 29,
   "metadata": {
    "ExecuteTime": {
     "end_time": "2020-03-31T19:55:15.535614Z",
     "start_time": "2020-03-31T19:55:15.484330Z"
    }
   },
   "outputs": [
    {
     "data": {
      "text/plain": [
       "(86738, 6160)"
      ]
     },
     "execution_count": 29,
     "metadata": {},
     "output_type": "execute_result"
    }
   ],
   "source": [
    "train = train.loc[~(train.e1.isin(ent_removed) & train.e2.isin(ent_removed))]\n",
    "evalset = evalset.loc[~(evalset.e1.isin(ent_removed) & evalset.e2.isin(ent_removed))]\n",
    "len(train), len(evalset)"
   ]
  },
  {
   "cell_type": "code",
   "execution_count": 30,
   "metadata": {
    "ExecuteTime": {
     "end_time": "2020-03-31T19:55:15.735893Z",
     "start_time": "2020-03-31T19:55:15.685926Z"
    }
   },
   "outputs": [
    {
     "data": {
      "text/plain": [
       "(80685, 12213)"
      ]
     },
     "execution_count": 30,
     "metadata": {},
     "output_type": "execute_result"
    }
   ],
   "source": [
    "evalset = evalset.append(train.loc[train.e1.isin(ent_removed) | train.e2.isin(ent_removed)])\n",
    "train = train.loc[~train.e1.isin(ent_removed) & ~train.e2.isin(ent_removed)]\n",
    "len(train), len(evalset)"
   ]
  },
  {
   "cell_type": "code",
   "execution_count": 18,
   "metadata": {
    "ExecuteTime": {
     "end_time": "2020-03-31T19:54:49.947929Z",
     "start_time": "2020-03-31T19:54:49.944997Z"
    }
   },
   "outputs": [
    {
     "data": {
      "text/plain": [
       "13041"
      ]
     },
     "execution_count": 18,
     "metadata": {},
     "output_type": "execute_result"
    }
   ],
   "source": [
    "14541 - 1500"
   ]
  },
  {
   "cell_type": "code",
   "execution_count": 31,
   "metadata": {
    "ExecuteTime": {
     "end_time": "2020-03-31T19:55:15.897352Z",
     "start_time": "2020-03-31T19:55:15.865503Z"
    }
   },
   "outputs": [
    {
     "data": {
      "text/plain": [
       "(39443, 11)"
      ]
     },
     "execution_count": 31,
     "metadata": {},
     "output_type": "execute_result"
    }
   ],
   "source": [
    "new_ents = set(pd.concat((train.e1, train.e2, evalset.e1, evalset.e2)).unique()) - set(ent_removed)\n",
    "new_rels = pd.concat((train.rel, evalset.rel)).unique()\n",
    "len(new_ents), len(new_rels)"
   ]
  },
  {
   "cell_type": "code",
   "execution_count": 32,
   "metadata": {
    "ExecuteTime": {
     "end_time": "2020-03-31T19:55:16.949754Z",
     "start_time": "2020-03-31T19:55:16.313676Z"
    }
   },
   "outputs": [],
   "source": [
    "q_obj = (evalset.loc[~evalset.e1.isin(ent_removed)]\n",
    "         .groupby(by=['e1', 'rel'])\n",
    "         .agg(lambda x: set(filter(lambda e: e not in ent_removed, x)))\n",
    "        )\n",
    "q_obj['n'] = q_obj.e2.apply(len)\n",
    "#q_obj.loc[q_obj.n == 0].head()"
   ]
  },
  {
   "cell_type": "code",
   "execution_count": 33,
   "metadata": {
    "ExecuteTime": {
     "end_time": "2020-03-31T19:55:17.552381Z",
     "start_time": "2020-03-31T19:55:16.951513Z"
    }
   },
   "outputs": [],
   "source": [
    "q_subj = (evalset.loc[~evalset.e2.isin(ent_removed)]\n",
    "         .groupby(by=['e2', 'rel'])\n",
    "         .agg(lambda x: set(filter(lambda e: e not in ent_removed, x)))\n",
    "        )\n",
    "q_subj['n'] = q_subj.e1.apply(len)\n",
    "#q_subj.loc[q_subj.n == 0].tail()"
   ]
  },
  {
   "cell_type": "code",
   "execution_count": 34,
   "metadata": {
    "ExecuteTime": {
     "end_time": "2020-03-31T19:55:17.585663Z",
     "start_time": "2020-03-31T19:55:17.554205Z"
    }
   },
   "outputs": [
    {
     "name": "stdout",
     "output_type": "stream",
     "text": [
      "2581 [2806, 5183, 204] 2335 [2309, 4141, 503]\n",
      "[0.0, 1.0, 2.553921568627451, 0.0, 1.0, 3.107355864811133]\n"
     ]
    },
    {
     "data": {
      "text/plain": [
       "(2581, 2335)"
      ]
     },
     "execution_count": 34,
     "metadata": {},
     "output_type": "execute_result"
    }
   ],
   "source": [
    "N_obj = q_obj.loc[q_obj.n == 0]\n",
    "S_obj = q_obj.loc[q_obj.n == 1]\n",
    "M_obj = q_obj.loc[q_obj.n > 1]\n",
    "fobj_miss = len(M_obj) + len(S_obj) - len(N_obj)\n",
    "\n",
    "N_subj = q_subj.loc[q_subj.n == 0]\n",
    "S_subj = q_subj.loc[q_subj.n == 1]\n",
    "M_subj = q_subj.loc[q_subj.n > 1]\n",
    "fsubj_miss = len(M_subj) + len(S_subj) - len(N_subj)\n",
    "\n",
    "print(fobj_miss, [len(x) for x in [N_obj, S_obj, M_obj]], fsubj_miss, [len(x) for x in [N_subj, S_subj, M_subj]])\n",
    "print([x.n.sum()/len(x) for x in [N_obj, S_obj, M_obj, N_subj, S_subj, M_subj]])\n",
    "fobj_miss, fsubj_miss"
   ]
  },
  {
   "cell_type": "code",
   "execution_count": 35,
   "metadata": {
    "ExecuteTime": {
     "end_time": "2020-03-31T19:55:21.187402Z",
     "start_time": "2020-03-31T19:55:21.182632Z"
    }
   },
   "outputs": [],
   "source": [
    "F_obj = q_obj.loc[q_obj.n == -1]\n",
    "F_subj = q_subj.loc[q_subj.n == -1]"
   ]
  },
  {
   "cell_type": "code",
   "execution_count": 36,
   "metadata": {
    "ExecuteTime": {
     "end_time": "2020-03-31T19:55:21.638695Z",
     "start_time": "2020-03-31T19:55:21.586406Z"
    }
   },
   "outputs": [
    {
     "data": {
      "text/html": [
       "<div>\n",
       "<style scoped>\n",
       "    .dataframe tbody tr th:only-of-type {\n",
       "        vertical-align: middle;\n",
       "    }\n",
       "\n",
       "    .dataframe tbody tr th {\n",
       "        vertical-align: top;\n",
       "    }\n",
       "\n",
       "    .dataframe thead th {\n",
       "        text-align: right;\n",
       "    }\n",
       "</style>\n",
       "<table border=\"1\" class=\"dataframe\">\n",
       "  <thead>\n",
       "    <tr style=\"text-align: right;\">\n",
       "      <th></th>\n",
       "      <th>e1</th>\n",
       "      <th>rel</th>\n",
       "      <th>e2</th>\n",
       "    </tr>\n",
       "  </thead>\n",
       "  <tbody>\n",
       "  </tbody>\n",
       "</table>\n",
       "</div>"
      ],
      "text/plain": [
       "Empty DataFrame\n",
       "Columns: [e1, rel, e2]\n",
       "Index: []"
      ]
     },
     "execution_count": 36,
     "metadata": {},
     "output_type": "execute_result"
    }
   ],
   "source": [
    "x = train\n",
    "x.loc[x.e2.str.contains('Sherlock') & (x.rel != 'isLocatedIn')]"
   ]
  },
  {
   "cell_type": "code",
   "execution_count": 37,
   "metadata": {
    "ExecuteTime": {
     "end_time": "2020-03-31T19:55:21.971475Z",
     "start_time": "2020-03-31T19:55:21.966472Z"
    }
   },
   "outputs": [
    {
     "data": {
      "text/plain": [
       "array([], dtype=object)"
      ]
     },
     "execution_count": 37,
     "metadata": {},
     "output_type": "execute_result"
    }
   ],
   "source": [
    "M_obj.loc[M_obj.index.get_level_values(0).str.contains('Brisbane,_California')].e2.values"
   ]
  },
  {
   "cell_type": "code",
   "execution_count": 38,
   "metadata": {
    "ExecuteTime": {
     "end_time": "2020-03-31T19:55:22.249631Z",
     "start_time": "2020-03-31T19:55:22.246334Z"
    }
   },
   "outputs": [
    {
     "data": {
      "text/plain": [
       "15146"
      ]
     },
     "execution_count": 38,
     "metadata": {},
     "output_type": "execute_result"
    }
   ],
   "source": [
    "sum([len(x) for x in (M_obj, S_obj, N_obj, M_subj, S_subj, N_subj)])"
   ]
  },
  {
   "cell_type": "code",
   "execution_count": 39,
   "metadata": {
    "ExecuteTime": {
     "end_time": "2020-03-31T19:55:22.501970Z",
     "start_time": "2020-03-31T19:55:22.494537Z"
    }
   },
   "outputs": [
    {
     "data": {
      "text/html": [
       "<div>\n",
       "<style scoped>\n",
       "    .dataframe tbody tr th:only-of-type {\n",
       "        vertical-align: middle;\n",
       "    }\n",
       "\n",
       "    .dataframe tbody tr th {\n",
       "        vertical-align: top;\n",
       "    }\n",
       "\n",
       "    .dataframe thead th {\n",
       "        text-align: right;\n",
       "    }\n",
       "</style>\n",
       "<table border=\"1\" class=\"dataframe\">\n",
       "  <thead>\n",
       "    <tr style=\"text-align: right;\">\n",
       "      <th></th>\n",
       "      <th></th>\n",
       "      <th>e2</th>\n",
       "      <th>n</th>\n",
       "    </tr>\n",
       "    <tr>\n",
       "      <th>e1</th>\n",
       "      <th>rel</th>\n",
       "      <th></th>\n",
       "      <th></th>\n",
       "    </tr>\n",
       "  </thead>\n",
       "  <tbody>\n",
       "    <tr>\n",
       "      <th>10001647</th>\n",
       "      <th>_hypernym</th>\n",
       "      <td>{7846}</td>\n",
       "      <td>1</td>\n",
       "    </tr>\n",
       "    <tr>\n",
       "      <th>1000214</th>\n",
       "      <th>_derivationally_related_form</th>\n",
       "      <td>{4063373}</td>\n",
       "      <td>1</td>\n",
       "    </tr>\n",
       "    <tr>\n",
       "      <th>10004539</th>\n",
       "      <th>_derivationally_related_form</th>\n",
       "      <td>{2009433}</td>\n",
       "      <td>1</td>\n",
       "    </tr>\n",
       "    <tr>\n",
       "      <th>10004804</th>\n",
       "      <th>_derivationally_related_form</th>\n",
       "      <td>{725772}</td>\n",
       "      <td>1</td>\n",
       "    </tr>\n",
       "    <tr>\n",
       "      <th>10005280</th>\n",
       "      <th>_derivationally_related_form</th>\n",
       "      <td>{594580}</td>\n",
       "      <td>1</td>\n",
       "    </tr>\n",
       "  </tbody>\n",
       "</table>\n",
       "</div>"
      ],
      "text/plain": [
       "                                              e2  n\n",
       "e1       rel                                       \n",
       "10001647 _hypernym                        {7846}  1\n",
       "1000214  _derivationally_related_form  {4063373}  1\n",
       "10004539 _derivationally_related_form  {2009433}  1\n",
       "10004804 _derivationally_related_form   {725772}  1\n",
       "10005280 _derivationally_related_form   {594580}  1"
      ]
     },
     "execution_count": 39,
     "metadata": {},
     "output_type": "execute_result"
    }
   ],
   "source": [
    "S_obj.head()"
   ]
  },
  {
   "cell_type": "code",
   "execution_count": 40,
   "metadata": {
    "ExecuteTime": {
     "end_time": "2020-03-31T19:55:23.077867Z",
     "start_time": "2020-03-31T19:55:23.070519Z"
    }
   },
   "outputs": [
    {
     "data": {
      "text/html": [
       "<div>\n",
       "<style scoped>\n",
       "    .dataframe tbody tr th:only-of-type {\n",
       "        vertical-align: middle;\n",
       "    }\n",
       "\n",
       "    .dataframe tbody tr th {\n",
       "        vertical-align: top;\n",
       "    }\n",
       "\n",
       "    .dataframe thead th {\n",
       "        text-align: right;\n",
       "    }\n",
       "</style>\n",
       "<table border=\"1\" class=\"dataframe\">\n",
       "  <thead>\n",
       "    <tr style=\"text-align: right;\">\n",
       "      <th></th>\n",
       "      <th></th>\n",
       "      <th>e2</th>\n",
       "      <th>n</th>\n",
       "    </tr>\n",
       "    <tr>\n",
       "      <th>e1</th>\n",
       "      <th>rel</th>\n",
       "      <th></th>\n",
       "      <th></th>\n",
       "    </tr>\n",
       "  </thead>\n",
       "  <tbody>\n",
       "    <tr>\n",
       "      <th>10000787</th>\n",
       "      <th>_derivationally_related_form</th>\n",
       "      <td>{}</td>\n",
       "      <td>0</td>\n",
       "    </tr>\n",
       "    <tr>\n",
       "      <th>10003120</th>\n",
       "      <th>_hypernym</th>\n",
       "      <td>{}</td>\n",
       "      <td>0</td>\n",
       "    </tr>\n",
       "    <tr>\n",
       "      <th>10016103</th>\n",
       "      <th>_derivationally_related_form</th>\n",
       "      <td>{}</td>\n",
       "      <td>0</td>\n",
       "    </tr>\n",
       "    <tr>\n",
       "      <th>1001689</th>\n",
       "      <th>_derivationally_related_form</th>\n",
       "      <td>{}</td>\n",
       "      <td>0</td>\n",
       "    </tr>\n",
       "    <tr>\n",
       "      <th>10017272</th>\n",
       "      <th>_derivationally_related_form</th>\n",
       "      <td>{}</td>\n",
       "      <td>0</td>\n",
       "    </tr>\n",
       "  </tbody>\n",
       "</table>\n",
       "</div>"
      ],
      "text/plain": [
       "                                       e2  n\n",
       "e1       rel                                \n",
       "10000787 _derivationally_related_form  {}  0\n",
       "10003120 _hypernym                     {}  0\n",
       "10016103 _derivationally_related_form  {}  0\n",
       "1001689  _derivationally_related_form  {}  0\n",
       "10017272 _derivationally_related_form  {}  0"
      ]
     },
     "execution_count": 40,
     "metadata": {},
     "output_type": "execute_result"
    }
   ],
   "source": [
    "N_obj.head()"
   ]
  },
  {
   "cell_type": "code",
   "execution_count": 41,
   "metadata": {
    "ExecuteTime": {
     "end_time": "2020-03-31T19:55:23.732419Z",
     "start_time": "2020-03-31T19:55:23.725024Z"
    }
   },
   "outputs": [
    {
     "data": {
      "text/html": [
       "<div>\n",
       "<style scoped>\n",
       "    .dataframe tbody tr th:only-of-type {\n",
       "        vertical-align: middle;\n",
       "    }\n",
       "\n",
       "    .dataframe tbody tr th {\n",
       "        vertical-align: top;\n",
       "    }\n",
       "\n",
       "    .dataframe thead th {\n",
       "        text-align: right;\n",
       "    }\n",
       "</style>\n",
       "<table border=\"1\" class=\"dataframe\">\n",
       "  <thead>\n",
       "    <tr style=\"text-align: right;\">\n",
       "      <th></th>\n",
       "      <th></th>\n",
       "      <th>e2</th>\n",
       "      <th>n</th>\n",
       "    </tr>\n",
       "    <tr>\n",
       "      <th>e1</th>\n",
       "      <th>rel</th>\n",
       "      <th></th>\n",
       "      <th></th>\n",
       "    </tr>\n",
       "  </thead>\n",
       "  <tbody>\n",
       "    <tr>\n",
       "      <th>10066732</th>\n",
       "      <th>_derivationally_related_form</th>\n",
       "      <td>{672277, 672433}</td>\n",
       "      <td>2</td>\n",
       "    </tr>\n",
       "    <tr>\n",
       "      <th>1012712</th>\n",
       "      <th>_derivationally_related_form</th>\n",
       "      <td>{657260, 483801, 739662}</td>\n",
       "      <td>3</td>\n",
       "    </tr>\n",
       "    <tr>\n",
       "      <th>1056411</th>\n",
       "      <th>_derivationally_related_form</th>\n",
       "      <td>{1862918, 2652922}</td>\n",
       "      <td>2</td>\n",
       "    </tr>\n",
       "    <tr>\n",
       "      <th>10648237</th>\n",
       "      <th>_derivationally_related_form</th>\n",
       "      <td>{2394662, 2412175}</td>\n",
       "      <td>2</td>\n",
       "    </tr>\n",
       "    <tr>\n",
       "      <th>1134781</th>\n",
       "      <th>_derivationally_related_form</th>\n",
       "      <td>{122954, 122661}</td>\n",
       "      <td>2</td>\n",
       "    </tr>\n",
       "  </tbody>\n",
       "</table>\n",
       "</div>"
      ],
      "text/plain": [
       "                                                             e2  n\n",
       "e1       rel                                                      \n",
       "10066732 _derivationally_related_form          {672277, 672433}  2\n",
       "1012712  _derivationally_related_form  {657260, 483801, 739662}  3\n",
       "1056411  _derivationally_related_form        {1862918, 2652922}  2\n",
       "10648237 _derivationally_related_form        {2394662, 2412175}  2\n",
       "1134781  _derivationally_related_form          {122954, 122661}  2"
      ]
     },
     "execution_count": 41,
     "metadata": {},
     "output_type": "execute_result"
    }
   ],
   "source": [
    "M_obj.head()"
   ]
  },
  {
   "cell_type": "markdown",
   "metadata": {},
   "source": [
    "### Fake question construction"
   ]
  },
  {
   "cell_type": "code",
   "execution_count": 42,
   "metadata": {
    "ExecuteTime": {
     "end_time": "2020-03-31T19:55:24.559108Z",
     "start_time": "2020-03-31T19:55:24.557012Z"
    }
   },
   "outputs": [],
   "source": [
    "np.random.seed(13081198)"
   ]
  },
  {
   "cell_type": "code",
   "execution_count": null,
   "metadata": {
    "ExecuteTime": {
     "end_time": "2020-03-30T20:11:40.237821Z",
     "start_time": "2020-03-30T20:10:47.496334Z"
    },
    "deletable": false,
    "editable": false,
    "run_control": {
     "frozen": true
    }
   },
   "outputs": [],
   "source": [
    "# ## GIVEN TYPES\n",
    "\n",
    "# fake\n",
    "ents = pd.read_csv(open(os.path.join('entities_types.txt')), sep='\\t', header=None, names = ['ent_id', 'type'], index_col=0)\n",
    "rels = pd.read_csv(open(os.path.join('relations_domain_range.txt')), sep='\\t', header=None, index_col=0, names= ['rel_id', 'domain', 'range'])\n",
    "ents.head()\n",
    "rels.head()\n",
    "\n",
    "# restrict to the vocabulary of a new data set\n",
    "ents = ents.loc[ents.index.isin(new_ents)].reset_index()\n",
    "rels = rels.loc[rels.index.isin(new_rels)].reset_index()\n",
    "# unify . and / types \n",
    "ents.type = ents.type.apply(lambda x: x.replace(\"/\",\"\").replace(\".\",\"\"))\n",
    "rels.domain = rels.domain.apply(lambda x: x.replace(\"/\",\"\").replace(\".\",\"\"))\n",
    "rels.range = rels.range.apply(lambda x: x.replace(\"/\",\"\").replace(\".\",\"\"))\n",
    "\n",
    "# add fake column to merge on\n",
    "ents['merge'] = rels['merge'] = 1\n",
    "\n",
    "fq = pd.merge(rels, ents, on='merge')\n",
    "fq.head()\n",
    "\n",
    "F_obj = fq.loc[fq.domain != fq.type, ['rel_id', 'ent_id']].sample(frac=1.).iloc[:fobj_miss]\n",
    "F_subj = fq.loc[fq.range != fq.type, ['rel_id', 'ent_id']].sample(frac=1.).iloc[:fsubj_miss]\n",
    "\n",
    "F_obj = F_obj.rename(columns={'ent_id':'e1', 'rel_id':'rel'}).reset_index().set_index(['e1', 'rel']).drop(columns='index')\n",
    "F_obj['e2'] = ''\n",
    "F_obj.e2 = F_obj.e2.apply(lambda x: set(x.split()))\n",
    "F_obj['n'] = 0 \n",
    "F_subj = F_subj.rename(columns={'ent_id':'e2', 'rel_id':'rel'}).reset_index().set_index(['e2', 'rel']).drop(columns='index')\n",
    "F_subj['e1'] = ''\n",
    "F_subj.e1 = F_subj.e1.apply(lambda x: set(x.split()))\n",
    "F_subj['n'] = 0 \n",
    "\n",
    "F_obj.head()"
   ]
  },
  {
   "cell_type": "code",
   "execution_count": 45,
   "metadata": {
    "ExecuteTime": {
     "end_time": "2020-03-31T19:55:46.403686Z",
     "start_time": "2020-03-31T19:55:46.392529Z"
    }
   },
   "outputs": [
    {
     "data": {
      "text/html": [
       "<div>\n",
       "<style scoped>\n",
       "    .dataframe tbody tr th:only-of-type {\n",
       "        vertical-align: middle;\n",
       "    }\n",
       "\n",
       "    .dataframe tbody tr th {\n",
       "        vertical-align: top;\n",
       "    }\n",
       "\n",
       "    .dataframe thead th {\n",
       "        text-align: right;\n",
       "    }\n",
       "</style>\n",
       "<table border=\"1\" class=\"dataframe\">\n",
       "  <thead>\n",
       "    <tr style=\"text-align: right;\">\n",
       "      <th></th>\n",
       "      <th>e1</th>\n",
       "      <th>rel</th>\n",
       "      <th>e2</th>\n",
       "    </tr>\n",
       "  </thead>\n",
       "  <tbody>\n",
       "    <tr>\n",
       "      <th>0</th>\n",
       "      <td>260881</td>\n",
       "      <td>_hypernym</td>\n",
       "      <td>260622</td>\n",
       "    </tr>\n",
       "    <tr>\n",
       "      <th>1</th>\n",
       "      <td>1332730</td>\n",
       "      <td>_derivationally_related_form</td>\n",
       "      <td>3122748</td>\n",
       "    </tr>\n",
       "    <tr>\n",
       "      <th>2</th>\n",
       "      <td>6066555</td>\n",
       "      <td>_derivationally_related_form</td>\n",
       "      <td>645415</td>\n",
       "    </tr>\n",
       "    <tr>\n",
       "      <th>3</th>\n",
       "      <td>9322930</td>\n",
       "      <td>_instance_hypernym</td>\n",
       "      <td>9360122</td>\n",
       "    </tr>\n",
       "    <tr>\n",
       "      <th>4</th>\n",
       "      <td>7193596</td>\n",
       "      <td>_derivationally_related_form</td>\n",
       "      <td>784342</td>\n",
       "    </tr>\n",
       "  </tbody>\n",
       "</table>\n",
       "</div>"
      ],
      "text/plain": [
       "        e1                           rel       e2\n",
       "0   260881                     _hypernym   260622\n",
       "1  1332730  _derivationally_related_form  3122748\n",
       "2  6066555  _derivationally_related_form   645415\n",
       "3  9322930            _instance_hypernym  9360122\n",
       "4  7193596  _derivationally_related_form   784342"
      ]
     },
     "execution_count": 45,
     "metadata": {},
     "output_type": "execute_result"
    }
   ],
   "source": [
    "## DERIVE TYPE DEFINITIONS\n",
    "MIN_SHARED = 5\n",
    "dataset = pd.concat([train, evalset])\n",
    "dataset.head()"
   ]
  },
  {
   "cell_type": "code",
   "execution_count": 46,
   "metadata": {
    "ExecuteTime": {
     "end_time": "2020-03-31T19:55:50.520222Z",
     "start_time": "2020-03-31T19:55:50.483674Z"
    }
   },
   "outputs": [
    {
     "data": {
      "text/plain": [
       "0    True\n",
       "1    True\n",
       "2    True\n",
       "3    True\n",
       "4    True\n",
       "dtype: bool"
      ]
     },
     "execution_count": 46,
     "metadata": {},
     "output_type": "execute_result"
    }
   ],
   "source": [
    "# preserve unique e1-rel / e2-rel pairs\n",
    "e1_mask = ~dataset[['rel','e1']].duplicated()\n",
    "e2_mask = ~dataset[['rel','e2']].duplicated()\n",
    "e1_mask.head()"
   ]
  },
  {
   "cell_type": "code",
   "execution_count": 47,
   "metadata": {
    "ExecuteTime": {
     "end_time": "2020-03-31T19:55:50.875658Z",
     "start_time": "2020-03-31T19:55:50.859230Z"
    }
   },
   "outputs": [
    {
     "data": {
      "text/html": [
       "<div>\n",
       "<style scoped>\n",
       "    .dataframe tbody tr th:only-of-type {\n",
       "        vertical-align: middle;\n",
       "    }\n",
       "\n",
       "    .dataframe tbody tr th {\n",
       "        vertical-align: top;\n",
       "    }\n",
       "\n",
       "    .dataframe thead th {\n",
       "        text-align: right;\n",
       "    }\n",
       "</style>\n",
       "<table border=\"1\" class=\"dataframe\">\n",
       "  <thead>\n",
       "    <tr style=\"text-align: right;\">\n",
       "      <th></th>\n",
       "      <th>rel</th>\n",
       "      <th>e1</th>\n",
       "    </tr>\n",
       "  </thead>\n",
       "  <tbody>\n",
       "    <tr>\n",
       "      <th>0</th>\n",
       "      <td>_hypernym</td>\n",
       "      <td>260881</td>\n",
       "    </tr>\n",
       "    <tr>\n",
       "      <th>1</th>\n",
       "      <td>_derivationally_related_form</td>\n",
       "      <td>1332730</td>\n",
       "    </tr>\n",
       "    <tr>\n",
       "      <th>2</th>\n",
       "      <td>_derivationally_related_form</td>\n",
       "      <td>6066555</td>\n",
       "    </tr>\n",
       "    <tr>\n",
       "      <th>3</th>\n",
       "      <td>_instance_hypernym</td>\n",
       "      <td>9322930</td>\n",
       "    </tr>\n",
       "    <tr>\n",
       "      <th>4</th>\n",
       "      <td>_derivationally_related_form</td>\n",
       "      <td>7193596</td>\n",
       "    </tr>\n",
       "  </tbody>\n",
       "</table>\n",
       "</div>"
      ],
      "text/plain": [
       "                            rel       e1\n",
       "0                     _hypernym   260881\n",
       "1  _derivationally_related_form  1332730\n",
       "2  _derivationally_related_form  6066555\n",
       "3            _instance_hypernym  9322930\n",
       "4  _derivationally_related_form  7193596"
      ]
     },
     "execution_count": 47,
     "metadata": {},
     "output_type": "execute_result"
    }
   ],
   "source": [
    "e1_dataset = dataset.loc[e1_mask, ['rel', 'e1']]\n",
    "e2_dataset = dataset.loc[e2_mask, ['rel', 'e2']]\n",
    "e1_dataset.head()"
   ]
  },
  {
   "cell_type": "code",
   "execution_count": 48,
   "metadata": {
    "ExecuteTime": {
     "end_time": "2020-03-31T19:55:51.242144Z",
     "start_time": "2020-03-31T19:55:51.238962Z"
    }
   },
   "outputs": [
    {
     "data": {
      "text/plain": [
       "(66106, 42821)"
      ]
     },
     "execution_count": 48,
     "metadata": {},
     "output_type": "execute_result"
    }
   ],
   "source": [
    "len(e1_dataset), len(e2_dataset)"
   ]
  },
  {
   "cell_type": "code",
   "execution_count": 49,
   "metadata": {
    "ExecuteTime": {
     "end_time": "2020-03-31T19:55:51.826562Z",
     "start_time": "2020-03-31T19:55:51.745275Z"
    }
   },
   "outputs": [
    {
     "data": {
      "text/html": [
       "<div>\n",
       "<style scoped>\n",
       "    .dataframe tbody tr th:only-of-type {\n",
       "        vertical-align: middle;\n",
       "    }\n",
       "\n",
       "    .dataframe tbody tr th {\n",
       "        vertical-align: top;\n",
       "    }\n",
       "\n",
       "    .dataframe thead th {\n",
       "        text-align: right;\n",
       "    }\n",
       "</style>\n",
       "<table border=\"1\" class=\"dataframe\">\n",
       "  <thead>\n",
       "    <tr style=\"text-align: right;\">\n",
       "      <th></th>\n",
       "      <th>rel_x</th>\n",
       "      <th>e</th>\n",
       "      <th>rel_y</th>\n",
       "    </tr>\n",
       "  </thead>\n",
       "  <tbody>\n",
       "    <tr>\n",
       "      <th>1</th>\n",
       "      <td>_hypernym</td>\n",
       "      <td>260881</td>\n",
       "      <td>_synset_domain_topic_of</td>\n",
       "    </tr>\n",
       "    <tr>\n",
       "      <th>2</th>\n",
       "      <td>_synset_domain_topic_of</td>\n",
       "      <td>260881</td>\n",
       "      <td>_hypernym</td>\n",
       "    </tr>\n",
       "    <tr>\n",
       "      <th>5</th>\n",
       "      <td>_derivationally_related_form</td>\n",
       "      <td>1332730</td>\n",
       "      <td>_verb_group</td>\n",
       "    </tr>\n",
       "    <tr>\n",
       "      <th>6</th>\n",
       "      <td>_verb_group</td>\n",
       "      <td>1332730</td>\n",
       "      <td>_derivationally_related_form</td>\n",
       "    </tr>\n",
       "    <tr>\n",
       "      <th>9</th>\n",
       "      <td>_derivationally_related_form</td>\n",
       "      <td>6066555</td>\n",
       "      <td>_hypernym</td>\n",
       "    </tr>\n",
       "  </tbody>\n",
       "</table>\n",
       "</div>"
      ],
      "text/plain": [
       "                          rel_x        e                         rel_y\n",
       "1                     _hypernym   260881       _synset_domain_topic_of\n",
       "2       _synset_domain_topic_of   260881                     _hypernym\n",
       "5  _derivationally_related_form  1332730                   _verb_group\n",
       "6                   _verb_group  1332730  _derivationally_related_form\n",
       "9  _derivationally_related_form  6066555                     _hypernym"
      ]
     },
     "execution_count": 49,
     "metadata": {},
     "output_type": "execute_result"
    }
   ],
   "source": [
    "e1_candidates = pd.merge(e1_dataset, e1_dataset, on='e1').rename(columns={'e1':'e'})\n",
    "e1_candidates = e1_candidates.loc[e1_candidates.rel_x != e1_candidates.rel_y]\n",
    "e2_candidates = pd.merge(e2_dataset, e2_dataset, on='e2').rename(columns={'e2':'e'})\n",
    "e2_candidates = e2_candidates.loc[e2_candidates.rel_x != e2_candidates.rel_y]\n",
    "e1_candidates.head()"
   ]
  },
  {
   "cell_type": "code",
   "execution_count": 50,
   "metadata": {
    "ExecuteTime": {
     "end_time": "2020-03-31T19:55:52.139076Z",
     "start_time": "2020-03-31T19:55:52.135810Z"
    }
   },
   "outputs": [
    {
     "data": {
      "text/plain": [
       "(57262, 21816)"
      ]
     },
     "execution_count": 50,
     "metadata": {},
     "output_type": "execute_result"
    }
   ],
   "source": [
    "len(e1_candidates), len(e2_candidates)"
   ]
  },
  {
   "cell_type": "code",
   "execution_count": 51,
   "metadata": {
    "ExecuteTime": {
     "end_time": "2020-03-31T19:55:52.747284Z",
     "start_time": "2020-03-31T19:55:52.717256Z"
    }
   },
   "outputs": [
    {
     "data": {
      "text/html": [
       "<div>\n",
       "<style scoped>\n",
       "    .dataframe tbody tr th:only-of-type {\n",
       "        vertical-align: middle;\n",
       "    }\n",
       "\n",
       "    .dataframe tbody tr th {\n",
       "        vertical-align: top;\n",
       "    }\n",
       "\n",
       "    .dataframe thead th {\n",
       "        text-align: right;\n",
       "    }\n",
       "</style>\n",
       "<table border=\"1\" class=\"dataframe\">\n",
       "  <thead>\n",
       "    <tr style=\"text-align: right;\">\n",
       "      <th></th>\n",
       "      <th></th>\n",
       "      <th>e</th>\n",
       "    </tr>\n",
       "    <tr>\n",
       "      <th>rel_x</th>\n",
       "      <th>rel_y</th>\n",
       "      <th></th>\n",
       "    </tr>\n",
       "  </thead>\n",
       "  <tbody>\n",
       "    <tr>\n",
       "      <th rowspan=\"5\" valign=\"top\">_also_see</th>\n",
       "      <th>_derivationally_related_form</th>\n",
       "      <td>True</td>\n",
       "    </tr>\n",
       "    <tr>\n",
       "      <th>_hypernym</th>\n",
       "      <td>True</td>\n",
       "    </tr>\n",
       "    <tr>\n",
       "      <th>_member_meronym</th>\n",
       "      <td>False</td>\n",
       "    </tr>\n",
       "    <tr>\n",
       "      <th>_similar_to</th>\n",
       "      <td>True</td>\n",
       "    </tr>\n",
       "    <tr>\n",
       "      <th>_synset_domain_topic_of</th>\n",
       "      <td>True</td>\n",
       "    </tr>\n",
       "  </tbody>\n",
       "</table>\n",
       "</div>"
      ],
      "text/plain": [
       "                                            e\n",
       "rel_x     rel_y                              \n",
       "_also_see _derivationally_related_form   True\n",
       "          _hypernym                      True\n",
       "          _member_meronym               False\n",
       "          _similar_to                    True\n",
       "          _synset_domain_topic_of        True"
      ]
     },
     "execution_count": 51,
     "metadata": {},
     "output_type": "execute_result"
    }
   ],
   "source": [
    "# find relation pairs that share at least MIN_SHARED subjects\n",
    "e1_mask = (e1_candidates.groupby(['rel_x', 'rel_y']).count() >= MIN_SHARED)\n",
    "e2_mask = (e2_candidates.groupby(['rel_x', 'rel_y']).count() >= MIN_SHARED)\n",
    "e1_mask.head()"
   ]
  },
  {
   "cell_type": "code",
   "execution_count": 52,
   "metadata": {
    "ExecuteTime": {
     "end_time": "2020-03-31T19:55:53.142667Z",
     "start_time": "2020-03-31T19:55:53.127089Z"
    }
   },
   "outputs": [
    {
     "data": {
      "text/html": [
       "<div>\n",
       "<style scoped>\n",
       "    .dataframe tbody tr th:only-of-type {\n",
       "        vertical-align: middle;\n",
       "    }\n",
       "\n",
       "    .dataframe tbody tr th {\n",
       "        vertical-align: top;\n",
       "    }\n",
       "\n",
       "    .dataframe thead th {\n",
       "        text-align: right;\n",
       "    }\n",
       "</style>\n",
       "<table border=\"1\" class=\"dataframe\">\n",
       "  <thead>\n",
       "    <tr style=\"text-align: right;\">\n",
       "      <th></th>\n",
       "      <th></th>\n",
       "      <th>e</th>\n",
       "    </tr>\n",
       "    <tr>\n",
       "      <th>rel_x</th>\n",
       "      <th>rel_y</th>\n",
       "      <th></th>\n",
       "    </tr>\n",
       "  </thead>\n",
       "  <tbody>\n",
       "    <tr>\n",
       "      <th rowspan=\"5\" valign=\"top\">_also_see</th>\n",
       "      <th>_derivationally_related_form</th>\n",
       "      <td>True</td>\n",
       "    </tr>\n",
       "    <tr>\n",
       "      <th>_hypernym</th>\n",
       "      <td>True</td>\n",
       "    </tr>\n",
       "    <tr>\n",
       "      <th>_similar_to</th>\n",
       "      <td>True</td>\n",
       "    </tr>\n",
       "    <tr>\n",
       "      <th>_synset_domain_topic_of</th>\n",
       "      <td>True</td>\n",
       "    </tr>\n",
       "    <tr>\n",
       "      <th>_verb_group</th>\n",
       "      <td>True</td>\n",
       "    </tr>\n",
       "  </tbody>\n",
       "</table>\n",
       "</div>"
      ],
      "text/plain": [
       "                                           e\n",
       "rel_x     rel_y                             \n",
       "_also_see _derivationally_related_form  True\n",
       "          _hypernym                     True\n",
       "          _similar_to                   True\n",
       "          _synset_domain_topic_of       True\n",
       "          _verb_group                   True"
      ]
     },
     "execution_count": 52,
     "metadata": {},
     "output_type": "execute_result"
    }
   ],
   "source": [
    "self_pair = pd.DataFrame([[r,r,False] for r in new_rels], \n",
    "                         columns=['rel_x', 'rel_y', 'e']).set_index(['rel_x', 'rel_y'])\n",
    "\n",
    "e1_rpair = pd.concat([\n",
    "    e1_mask.loc[e1_mask.e],\n",
    "    self_pair])\n",
    "e2_rpair = pd.concat([\n",
    "    e2_mask.loc[e2_mask.e],\n",
    "    self_pair])\n",
    "\n",
    "e1_rpair.head()"
   ]
  },
  {
   "cell_type": "code",
   "execution_count": 53,
   "metadata": {
    "ExecuteTime": {
     "end_time": "2020-03-31T19:55:53.611831Z",
     "start_time": "2020-03-31T19:55:53.607297Z"
    }
   },
   "outputs": [
    {
     "data": {
      "text/plain": [
       "True     64\n",
       "False    11\n",
       "Name: e, dtype: int64"
      ]
     },
     "execution_count": 53,
     "metadata": {},
     "output_type": "execute_result"
    }
   ],
   "source": [
    "e1_rpair.e.value_counts()"
   ]
  },
  {
   "cell_type": "code",
   "execution_count": 54,
   "metadata": {
    "ExecuteTime": {
     "end_time": "2020-03-31T19:55:54.257777Z",
     "start_time": "2020-03-31T19:55:54.008865Z"
    }
   },
   "outputs": [],
   "source": [
    "e1_dataset = e1_dataset.set_index('rel')\n",
    "\n",
    "e1_types = {\n",
    "    r: set([\n",
    "        e1 \n",
    "        for rel_r in set(e1_rpair.loc[r].index.values)    # r*, all relevant relations for r\n",
    "        for e1 in (e1_dataset.loc[rel_r, ['e1']].values.flatten() if rel_r in e1_dataset.index else {})     # subjects of r* elements\n",
    "    ])\n",
    "    for r in new_rels\n",
    "}"
   ]
  },
  {
   "cell_type": "code",
   "execution_count": 55,
   "metadata": {
    "ExecuteTime": {
     "end_time": "2020-03-31T19:55:54.851304Z",
     "start_time": "2020-03-31T19:55:54.631604Z"
    }
   },
   "outputs": [],
   "source": [
    "e2_dataset = e2_dataset.set_index('rel')\n",
    "\n",
    "e2_types = {\n",
    "    r: set([\n",
    "        e2\n",
    "        for rel_r in set(e2_rpair.loc[r].index.values)    # r*, all relevant relations for r\n",
    "        for e2 in (e2_dataset.loc[rel_r, ['e2']].values.flatten() if rel_r in e2_dataset.index else {})     # subjects of r* elements\n",
    "    ])\n",
    "    for r in new_rels\n",
    "}"
   ]
  },
  {
   "cell_type": "code",
   "execution_count": 56,
   "metadata": {
    "ExecuteTime": {
     "end_time": "2020-03-31T19:55:56.271283Z",
     "start_time": "2020-03-31T19:55:56.267892Z"
    }
   },
   "outputs": [
    {
     "data": {
      "text/plain": [
       "array(['_derivationally_related_form', '_instance_hypernym', '_also_see',\n",
       "       '_member_meronym', '_synset_domain_topic_of', '_has_part',\n",
       "       '_member_of_domain_usage', '_member_of_domain_region',\n",
       "       '_verb_group', '_similar_to'], dtype=object)"
      ]
     },
     "execution_count": 56,
     "metadata": {},
     "output_type": "execute_result"
    }
   ],
   "source": [
    "new_rels[-10:]"
   ]
  },
  {
   "cell_type": "markdown",
   "metadata": {
    "ExecuteTime": {
     "end_time": "2020-03-12T16:05:27.686978Z",
     "start_time": "2020-03-12T16:05:27.672891Z"
    }
   },
   "source": [
    "e1_types['_instance_hypernym']"
   ]
  },
  {
   "cell_type": "markdown",
   "metadata": {
    "ExecuteTime": {
     "end_time": "2020-03-12T16:05:27.689763Z",
     "start_time": "2020-03-12T16:05:10.245Z"
    }
   },
   "source": [
    "e2_types['derivative_of']"
   ]
  },
  {
   "cell_type": "code",
   "execution_count": 57,
   "metadata": {
    "ExecuteTime": {
     "end_time": "2020-03-31T19:56:14.447927Z",
     "start_time": "2020-03-31T19:55:57.650887Z"
    }
   },
   "outputs": [
    {
     "data": {
      "text/html": [
       "<div>\n",
       "<style scoped>\n",
       "    .dataframe tbody tr th:only-of-type {\n",
       "        vertical-align: middle;\n",
       "    }\n",
       "\n",
       "    .dataframe tbody tr th {\n",
       "        vertical-align: top;\n",
       "    }\n",
       "\n",
       "    .dataframe thead th {\n",
       "        text-align: right;\n",
       "    }\n",
       "</style>\n",
       "<table border=\"1\" class=\"dataframe\">\n",
       "  <thead>\n",
       "    <tr style=\"text-align: right;\">\n",
       "      <th></th>\n",
       "      <th></th>\n",
       "      <th>e2</th>\n",
       "      <th>n</th>\n",
       "    </tr>\n",
       "    <tr>\n",
       "      <th>e1</th>\n",
       "      <th>rel</th>\n",
       "      <th></th>\n",
       "      <th></th>\n",
       "    </tr>\n",
       "  </thead>\n",
       "  <tbody>\n",
       "    <tr>\n",
       "      <th>178575</th>\n",
       "      <th>_member_meronym</th>\n",
       "      <td>{}</td>\n",
       "      <td>0</td>\n",
       "    </tr>\n",
       "    <tr>\n",
       "      <th>3018971</th>\n",
       "      <th>_verb_group</th>\n",
       "      <td>{}</td>\n",
       "      <td>0</td>\n",
       "    </tr>\n",
       "    <tr>\n",
       "      <th>619142</th>\n",
       "      <th>_hypernym</th>\n",
       "      <td>{}</td>\n",
       "      <td>0</td>\n",
       "    </tr>\n",
       "    <tr>\n",
       "      <th>839619</th>\n",
       "      <th>_has_part</th>\n",
       "      <td>{}</td>\n",
       "      <td>0</td>\n",
       "    </tr>\n",
       "    <tr>\n",
       "      <th>8743945</th>\n",
       "      <th>_verb_group</th>\n",
       "      <td>{}</td>\n",
       "      <td>0</td>\n",
       "    </tr>\n",
       "  </tbody>\n",
       "</table>\n",
       "</div>"
      ],
      "text/plain": [
       "                         e2  n\n",
       "e1      rel                   \n",
       "178575  _member_meronym  {}  0\n",
       "3018971 _verb_group      {}  0\n",
       "619142  _hypernym        {}  0\n",
       "839619  _has_part        {}  0\n",
       "8743945 _verb_group      {}  0"
      ]
     },
     "execution_count": 57,
     "metadata": {},
     "output_type": "execute_result"
    }
   ],
   "source": [
    "def generate_mismatched(n, types):\n",
    "    for _ in range(n):\n",
    "        r = np.random.choice(new_rels)\n",
    "        mismatched = list(set(new_ents) - types[r])\n",
    "        if mismatched == []:\n",
    "            continue\n",
    "        e = np.random.choice(mismatched)\n",
    "        yield (e,r,{},0)\n",
    "F_obj = pd.DataFrame(data=generate_mismatched(fobj_miss, e1_types), columns=['e1','rel','e2','n']).set_index(['e1','rel'])\n",
    "F_subj = pd.DataFrame(data=generate_mismatched(fsubj_miss, e2_types), columns=['e2','rel','e1','n']).set_index(['e2','rel'])\n",
    "F_obj.head()"
   ]
  },
  {
   "cell_type": "code",
   "execution_count": 58,
   "metadata": {
    "ExecuteTime": {
     "end_time": "2020-03-31T19:56:14.456724Z",
     "start_time": "2020-03-31T19:56:14.449759Z"
    }
   },
   "outputs": [
    {
     "data": {
      "text/html": [
       "<div>\n",
       "<style scoped>\n",
       "    .dataframe tbody tr th:only-of-type {\n",
       "        vertical-align: middle;\n",
       "    }\n",
       "\n",
       "    .dataframe tbody tr th {\n",
       "        vertical-align: top;\n",
       "    }\n",
       "\n",
       "    .dataframe thead th {\n",
       "        text-align: right;\n",
       "    }\n",
       "</style>\n",
       "<table border=\"1\" class=\"dataframe\">\n",
       "  <thead>\n",
       "    <tr style=\"text-align: right;\">\n",
       "      <th></th>\n",
       "      <th></th>\n",
       "      <th>e1</th>\n",
       "      <th>n</th>\n",
       "    </tr>\n",
       "    <tr>\n",
       "      <th>e2</th>\n",
       "      <th>rel</th>\n",
       "      <th></th>\n",
       "      <th></th>\n",
       "    </tr>\n",
       "  </thead>\n",
       "  <tbody>\n",
       "    <tr>\n",
       "      <th>10708976</th>\n",
       "      <th>_has_part</th>\n",
       "      <td>{}</td>\n",
       "      <td>0</td>\n",
       "    </tr>\n",
       "    <tr>\n",
       "      <th>3050655</th>\n",
       "      <th>_member_meronym</th>\n",
       "      <td>{}</td>\n",
       "      <td>0</td>\n",
       "    </tr>\n",
       "    <tr>\n",
       "      <th>14145501</th>\n",
       "      <th>_has_part</th>\n",
       "      <td>{}</td>\n",
       "      <td>0</td>\n",
       "    </tr>\n",
       "    <tr>\n",
       "      <th>693399</th>\n",
       "      <th>_synset_domain_topic_of</th>\n",
       "      <td>{}</td>\n",
       "      <td>0</td>\n",
       "    </tr>\n",
       "    <tr>\n",
       "      <th>11621281</th>\n",
       "      <th>_derivationally_related_form</th>\n",
       "      <td>{}</td>\n",
       "      <td>0</td>\n",
       "    </tr>\n",
       "  </tbody>\n",
       "</table>\n",
       "</div>"
      ],
      "text/plain": [
       "                                       e1  n\n",
       "e2       rel                                \n",
       "10708976 _has_part                     {}  0\n",
       "3050655  _member_meronym               {}  0\n",
       "14145501 _has_part                     {}  0\n",
       "693399   _synset_domain_topic_of       {}  0\n",
       "11621281 _derivationally_related_form  {}  0"
      ]
     },
     "execution_count": 58,
     "metadata": {},
     "output_type": "execute_result"
    }
   ],
   "source": [
    "F_subj.head()"
   ]
  },
  {
   "cell_type": "code",
   "execution_count": 59,
   "metadata": {
    "ExecuteTime": {
     "end_time": "2020-03-31T19:56:14.468152Z",
     "start_time": "2020-03-31T19:56:14.458466Z"
    }
   },
   "outputs": [
    {
     "data": {
      "text/html": [
       "<div>\n",
       "<style scoped>\n",
       "    .dataframe tbody tr th:only-of-type {\n",
       "        vertical-align: middle;\n",
       "    }\n",
       "\n",
       "    .dataframe tbody tr th {\n",
       "        vertical-align: top;\n",
       "    }\n",
       "\n",
       "    .dataframe thead th {\n",
       "        text-align: right;\n",
       "    }\n",
       "</style>\n",
       "<table border=\"1\" class=\"dataframe\">\n",
       "  <thead>\n",
       "    <tr style=\"text-align: right;\">\n",
       "      <th></th>\n",
       "      <th>e1</th>\n",
       "      <th>rel</th>\n",
       "      <th>e2</th>\n",
       "    </tr>\n",
       "  </thead>\n",
       "  <tbody>\n",
       "  </tbody>\n",
       "</table>\n",
       "</div>"
      ],
      "text/plain": [
       "Empty DataFrame\n",
       "Columns: [e1, rel, e2]\n",
       "Index: []"
      ]
     },
     "execution_count": 59,
     "metadata": {},
     "output_type": "execute_result"
    }
   ],
   "source": [
    "dataset.loc[dataset.rel == 'isConnectedTo']"
   ]
  },
  {
   "cell_type": "markdown",
   "metadata": {},
   "source": [
    "----------------------------------------"
   ]
  },
  {
   "cell_type": "markdown",
   "metadata": {},
   "source": [
    "### Finalize the splits"
   ]
  },
  {
   "cell_type": "code",
   "execution_count": 60,
   "metadata": {
    "ExecuteTime": {
     "end_time": "2020-03-31T19:56:14.503967Z",
     "start_time": "2020-03-31T19:56:14.469745Z"
    }
   },
   "outputs": [],
   "source": [
    "dev_obj = pd.concat([x[:len(x)//2] for x in [N_obj, M_obj, S_obj, F_obj]], sort=True)\n",
    "test_obj = pd.concat([x[len(x)//2:] for x in [N_obj, M_obj, S_obj, F_obj]], sort=True)\n",
    "dev_subj = pd.concat([x[:len(x)//2] for x in [N_subj, M_subj, S_subj, F_subj]], sort=True)\n",
    "test_subj = pd.concat([x[len(x)//2:] for x in [N_subj, M_subj, S_subj, F_subj]], sort=True)"
   ]
  },
  {
   "cell_type": "code",
   "execution_count": 61,
   "metadata": {
    "ExecuteTime": {
     "end_time": "2020-03-31T19:56:14.508538Z",
     "start_time": "2020-03-31T19:56:14.505337Z"
    }
   },
   "outputs": [
    {
     "data": {
      "text/plain": [
       "[5386, 5388, 4642, 4646]"
      ]
     },
     "execution_count": 61,
     "metadata": {},
     "output_type": "execute_result"
    }
   ],
   "source": [
    "[len(x) for x in [dev_obj, test_obj, dev_subj, test_subj]]"
   ]
  },
  {
   "cell_type": "code",
   "execution_count": 62,
   "metadata": {
    "ExecuteTime": {
     "end_time": "2020-03-31T19:56:14.513231Z",
     "start_time": "2020-03-31T19:56:14.509936Z"
    }
   },
   "outputs": [
    {
     "data": {
      "text/plain": [
       "(10028, 10034)"
      ]
     },
     "execution_count": 62,
     "metadata": {},
     "output_type": "execute_result"
    }
   ],
   "source": [
    "len(dev_obj) + len(dev_subj), len(test_obj) + len(test_subj)"
   ]
  },
  {
   "cell_type": "code",
   "execution_count": 63,
   "metadata": {
    "ExecuteTime": {
     "end_time": "2020-03-31T19:56:14.522150Z",
     "start_time": "2020-03-31T19:56:14.514577Z"
    }
   },
   "outputs": [
    {
     "data": {
      "text/html": [
       "<div>\n",
       "<style scoped>\n",
       "    .dataframe tbody tr th:only-of-type {\n",
       "        vertical-align: middle;\n",
       "    }\n",
       "\n",
       "    .dataframe tbody tr th {\n",
       "        vertical-align: top;\n",
       "    }\n",
       "\n",
       "    .dataframe thead th {\n",
       "        text-align: right;\n",
       "    }\n",
       "</style>\n",
       "<table border=\"1\" class=\"dataframe\">\n",
       "  <thead>\n",
       "    <tr style=\"text-align: right;\">\n",
       "      <th></th>\n",
       "      <th></th>\n",
       "      <th>e2</th>\n",
       "      <th>n</th>\n",
       "    </tr>\n",
       "    <tr>\n",
       "      <th>e1</th>\n",
       "      <th>rel</th>\n",
       "      <th></th>\n",
       "      <th></th>\n",
       "    </tr>\n",
       "  </thead>\n",
       "  <tbody>\n",
       "    <tr>\n",
       "      <th>10000787</th>\n",
       "      <th>_derivationally_related_form</th>\n",
       "      <td>{}</td>\n",
       "      <td>0</td>\n",
       "    </tr>\n",
       "    <tr>\n",
       "      <th>10003120</th>\n",
       "      <th>_hypernym</th>\n",
       "      <td>{}</td>\n",
       "      <td>0</td>\n",
       "    </tr>\n",
       "    <tr>\n",
       "      <th>10016103</th>\n",
       "      <th>_derivationally_related_form</th>\n",
       "      <td>{}</td>\n",
       "      <td>0</td>\n",
       "    </tr>\n",
       "    <tr>\n",
       "      <th>1001689</th>\n",
       "      <th>_derivationally_related_form</th>\n",
       "      <td>{}</td>\n",
       "      <td>0</td>\n",
       "    </tr>\n",
       "    <tr>\n",
       "      <th>10017272</th>\n",
       "      <th>_derivationally_related_form</th>\n",
       "      <td>{}</td>\n",
       "      <td>0</td>\n",
       "    </tr>\n",
       "  </tbody>\n",
       "</table>\n",
       "</div>"
      ],
      "text/plain": [
       "                                       e2  n\n",
       "e1       rel                                \n",
       "10000787 _derivationally_related_form  {}  0\n",
       "10003120 _hypernym                     {}  0\n",
       "10016103 _derivationally_related_form  {}  0\n",
       "1001689  _derivationally_related_form  {}  0\n",
       "10017272 _derivationally_related_form  {}  0"
      ]
     },
     "execution_count": 63,
     "metadata": {},
     "output_type": "execute_result"
    }
   ],
   "source": [
    "dev_obj.head()"
   ]
  },
  {
   "cell_type": "code",
   "execution_count": 64,
   "metadata": {
    "ExecuteTime": {
     "end_time": "2020-03-31T19:56:14.538999Z",
     "start_time": "2020-03-31T19:56:14.524022Z"
    }
   },
   "outputs": [
    {
     "data": {
      "text/html": [
       "<div>\n",
       "<style scoped>\n",
       "    .dataframe tbody tr th:only-of-type {\n",
       "        vertical-align: middle;\n",
       "    }\n",
       "\n",
       "    .dataframe tbody tr th {\n",
       "        vertical-align: top;\n",
       "    }\n",
       "\n",
       "    .dataframe thead th {\n",
       "        text-align: right;\n",
       "    }\n",
       "</style>\n",
       "<table border=\"1\" class=\"dataframe\">\n",
       "  <thead>\n",
       "    <tr style=\"text-align: right;\">\n",
       "      <th></th>\n",
       "      <th>e1</th>\n",
       "      <th>rel</th>\n",
       "      <th>e2</th>\n",
       "      <th>n</th>\n",
       "    </tr>\n",
       "  </thead>\n",
       "  <tbody>\n",
       "    <tr>\n",
       "      <th>0</th>\n",
       "      <td>10000787</td>\n",
       "      <td>_derivationally_related_form</td>\n",
       "      <td>{}</td>\n",
       "      <td>0</td>\n",
       "    </tr>\n",
       "    <tr>\n",
       "      <th>1</th>\n",
       "      <td>10003120</td>\n",
       "      <td>_hypernym</td>\n",
       "      <td>{}</td>\n",
       "      <td>0</td>\n",
       "    </tr>\n",
       "    <tr>\n",
       "      <th>2</th>\n",
       "      <td>10016103</td>\n",
       "      <td>_derivationally_related_form</td>\n",
       "      <td>{}</td>\n",
       "      <td>0</td>\n",
       "    </tr>\n",
       "    <tr>\n",
       "      <th>3</th>\n",
       "      <td>1001689</td>\n",
       "      <td>_derivationally_related_form</td>\n",
       "      <td>{}</td>\n",
       "      <td>0</td>\n",
       "    </tr>\n",
       "    <tr>\n",
       "      <th>4</th>\n",
       "      <td>10017272</td>\n",
       "      <td>_derivationally_related_form</td>\n",
       "      <td>{}</td>\n",
       "      <td>0</td>\n",
       "    </tr>\n",
       "    <tr>\n",
       "      <th>...</th>\n",
       "      <td>...</td>\n",
       "      <td>...</td>\n",
       "      <td>...</td>\n",
       "      <td>...</td>\n",
       "    </tr>\n",
       "    <tr>\n",
       "      <th>5381</th>\n",
       "      <td>5510173</td>\n",
       "      <td>_derivationally_related_form</td>\n",
       "      <td>{}</td>\n",
       "      <td>0</td>\n",
       "    </tr>\n",
       "    <tr>\n",
       "      <th>5382</th>\n",
       "      <td>13035707</td>\n",
       "      <td>_member_meronym</td>\n",
       "      <td>{}</td>\n",
       "      <td>0</td>\n",
       "    </tr>\n",
       "    <tr>\n",
       "      <th>5383</th>\n",
       "      <td>14412564</td>\n",
       "      <td>_synset_domain_topic_of</td>\n",
       "      <td>{}</td>\n",
       "      <td>0</td>\n",
       "    </tr>\n",
       "    <tr>\n",
       "      <th>5384</th>\n",
       "      <td>8958334</td>\n",
       "      <td>_similar_to</td>\n",
       "      <td>{}</td>\n",
       "      <td>0</td>\n",
       "    </tr>\n",
       "    <tr>\n",
       "      <th>5385</th>\n",
       "      <td>6346461</td>\n",
       "      <td>_instance_hypernym</td>\n",
       "      <td>{}</td>\n",
       "      <td>0</td>\n",
       "    </tr>\n",
       "  </tbody>\n",
       "</table>\n",
       "<p>5386 rows × 4 columns</p>\n",
       "</div>"
      ],
      "text/plain": [
       "            e1                           rel  e2  n\n",
       "0     10000787  _derivationally_related_form  {}  0\n",
       "1     10003120                     _hypernym  {}  0\n",
       "2     10016103  _derivationally_related_form  {}  0\n",
       "3      1001689  _derivationally_related_form  {}  0\n",
       "4     10017272  _derivationally_related_form  {}  0\n",
       "...        ...                           ...  .. ..\n",
       "5381   5510173  _derivationally_related_form  {}  0\n",
       "5382  13035707               _member_meronym  {}  0\n",
       "5383  14412564       _synset_domain_topic_of  {}  0\n",
       "5384   8958334                   _similar_to  {}  0\n",
       "5385   6346461            _instance_hypernym  {}  0\n",
       "\n",
       "[5386 rows x 4 columns]"
      ]
     },
     "execution_count": 64,
     "metadata": {},
     "output_type": "execute_result"
    }
   ],
   "source": [
    "dev_obj.reset_index().loc[dev_obj.reset_index().rel.isin(new_rels)]"
   ]
  },
  {
   "cell_type": "code",
   "execution_count": 65,
   "metadata": {
    "ExecuteTime": {
     "end_time": "2020-03-31T19:56:14.547090Z",
     "start_time": "2020-03-31T19:56:14.540330Z"
    }
   },
   "outputs": [
    {
     "data": {
      "text/html": [
       "<div>\n",
       "<style scoped>\n",
       "    .dataframe tbody tr th:only-of-type {\n",
       "        vertical-align: middle;\n",
       "    }\n",
       "\n",
       "    .dataframe tbody tr th {\n",
       "        vertical-align: top;\n",
       "    }\n",
       "\n",
       "    .dataframe thead th {\n",
       "        text-align: right;\n",
       "    }\n",
       "</style>\n",
       "<table border=\"1\" class=\"dataframe\">\n",
       "  <thead>\n",
       "    <tr style=\"text-align: right;\">\n",
       "      <th></th>\n",
       "      <th></th>\n",
       "      <th>e1</th>\n",
       "      <th>n</th>\n",
       "    </tr>\n",
       "    <tr>\n",
       "      <th>e2</th>\n",
       "      <th>rel</th>\n",
       "      <th></th>\n",
       "      <th></th>\n",
       "    </tr>\n",
       "  </thead>\n",
       "  <tbody>\n",
       "    <tr>\n",
       "      <th>6975594</th>\n",
       "      <th>_has_part</th>\n",
       "      <td>{}</td>\n",
       "      <td>0</td>\n",
       "    </tr>\n",
       "    <tr>\n",
       "      <th>2544781</th>\n",
       "      <th>_hypernym</th>\n",
       "      <td>{}</td>\n",
       "      <td>0</td>\n",
       "    </tr>\n",
       "    <tr>\n",
       "      <th>14588492</th>\n",
       "      <th>_hypernym</th>\n",
       "      <td>{}</td>\n",
       "      <td>0</td>\n",
       "    </tr>\n",
       "    <tr>\n",
       "      <th>5629381</th>\n",
       "      <th>_hypernym</th>\n",
       "      <td>{}</td>\n",
       "      <td>0</td>\n",
       "    </tr>\n",
       "    <tr>\n",
       "      <th>7971298</th>\n",
       "      <th>_similar_to</th>\n",
       "      <td>{}</td>\n",
       "      <td>0</td>\n",
       "    </tr>\n",
       "  </tbody>\n",
       "</table>\n",
       "</div>"
      ],
      "text/plain": [
       "                      e1  n\n",
       "e2       rel               \n",
       "6975594  _has_part    {}  0\n",
       "2544781  _hypernym    {}  0\n",
       "14588492 _hypernym    {}  0\n",
       "5629381  _hypernym    {}  0\n",
       "7971298  _similar_to  {}  0"
      ]
     },
     "execution_count": 65,
     "metadata": {},
     "output_type": "execute_result"
    }
   ],
   "source": [
    "dev_subj.tail()"
   ]
  },
  {
   "cell_type": "markdown",
   "metadata": {},
   "source": [
    "# Analyse the new dataset"
   ]
  },
  {
   "cell_type": "markdown",
   "metadata": {},
   "source": [
    "#### entities"
   ]
  },
  {
   "cell_type": "code",
   "execution_count": 66,
   "metadata": {
    "ExecuteTime": {
     "end_time": "2020-03-31T19:56:14.627075Z",
     "start_time": "2020-03-31T19:56:14.548490Z"
    }
   },
   "outputs": [
    {
     "data": {
      "text/plain": [
       "39443"
      ]
     },
     "execution_count": 66,
     "metadata": {},
     "output_type": "execute_result"
    }
   ],
   "source": [
    "N_ent = len(\n",
    "    set(pd.concat((test_obj, dev_obj)).reset_index().e1.values)\n",
    ".union(\n",
    "    set([x for y in pd.concat((test_obj, dev_obj)).reset_index()[['e2']].values.flatten() for x in y ])\n",
    ").union(\n",
    "    set(pd.concat((test_subj, dev_subj)).reset_index().e2.values)\n",
    ").union(\n",
    "    set([x for y in pd.concat((test_subj, dev_subj)).reset_index()[['e1']].values.flatten() for x in y ])\n",
    ").union(\n",
    "    set(train.e1.values)\n",
    ").union(\n",
    "    set(train.e2.values)\n",
    ")\n",
    ")\n",
    "\n",
    "# N_ent = len(\n",
    "#     set([e for e in \n",
    "#         pd.concat([x.reset_index() for x in [train, test_obj, dev_obj, test_subj, dev_subj]])\n",
    "#          [['e1','e2']]\n",
    "#         ]\n",
    "#     )\n",
    "# )\n",
    "N_ent"
   ]
  },
  {
   "cell_type": "code",
   "execution_count": 899,
   "metadata": {
    "ExecuteTime": {
     "end_time": "2020-03-30T21:02:25.925825Z",
     "start_time": "2020-03-30T21:02:25.923530Z"
    }
   },
   "outputs": [],
   "source": [
    "assert(N_ent == len(new_ents))"
   ]
  },
  {
   "cell_type": "code",
   "execution_count": 68,
   "metadata": {
    "ExecuteTime": {
     "end_time": "2020-03-31T19:56:14.652313Z",
     "start_time": "2020-03-31T19:56:14.632321Z"
    }
   },
   "outputs": [
    {
     "data": {
      "text/plain": [
       "38829"
      ]
     },
     "execution_count": 68,
     "metadata": {},
     "output_type": "execute_result"
    }
   ],
   "source": [
    "len(set(train.e1.values).union(\n",
    "    set(train.e2.values)\n",
    "))"
   ]
  },
  {
   "cell_type": "markdown",
   "metadata": {
    "heading_collapsed": true
   },
   "source": [
    "#### check queries"
   ]
  },
  {
   "cell_type": "code",
   "execution_count": 69,
   "metadata": {
    "ExecuteTime": {
     "end_time": "2020-03-31T19:56:41.452663Z",
     "start_time": "2020-03-31T19:56:41.446988Z"
    },
    "hidden": true
   },
   "outputs": [],
   "source": [
    "def split_query_types(df, ignore=[]):\n",
    "    df_e1rel = df.loc[~df.e1.isin(ignore), ['e1', 'rel', 'e2']].\\\n",
    "        groupby(['e1', 'rel']).agg({'e2': lambda x: set(x) - set(ignore)})\n",
    "    df_e1rel['n'] = df_e1rel.e2.apply(lambda x: len(x))\n",
    "    df_e2rel = df.loc[~df.e2.isin(ignore), ['e1', 'rel', 'e2']].\\\n",
    "        groupby(['e2', 'rel']).agg({'e1': lambda x: set(x) - set(ignore)})\n",
    "    df_e2rel['n'] = df_e2rel.e1.apply(lambda x: len(x))\n",
    "\n",
    "    return [\n",
    "        df_e1rel.loc[df_e1rel.n == 0], df_e1rel.loc[df_e1rel.n == 1], df_e1rel.loc[df_e1rel.n > 1],\n",
    "        df_e2rel.loc[df_e2rel.n == 0], df_e2rel.loc[df_e2rel.n == 1], df_e2rel.loc[df_e2rel.n > 1]\n",
    "    ]"
   ]
  },
  {
   "cell_type": "code",
   "execution_count": 70,
   "metadata": {
    "ExecuteTime": {
     "end_time": "2020-03-31T19:56:41.815512Z",
     "start_time": "2020-03-31T19:56:41.612068Z"
    },
    "hidden": true
   },
   "outputs": [
    {
     "ename": "SystemError",
     "evalue": "<built-in method view of numpy.ndarray object at 0x7fd83e60a080> returned a result with an error set",
     "output_type": "error",
     "traceback": [
      "\u001b[0;31m---------------------------------------------------------------------------\u001b[0m",
      "\u001b[0;31mTypeError\u001b[0m                                 Traceback (most recent call last)",
      "\u001b[0;31mTypeError\u001b[0m: unhashable type: 'set'",
      "\nThe above exception was the direct cause of the following exception:\n",
      "\u001b[0;31mSystemError\u001b[0m                               Traceback (most recent call last)",
      "\u001b[0;32m<ipython-input-70-a263d5640e1d>\u001b[0m in \u001b[0;36m<module>\u001b[0;34m\u001b[0m\n\u001b[1;32m      1\u001b[0m \u001b[0;32mfor\u001b[0m \u001b[0mx\u001b[0m \u001b[0;32min\u001b[0m \u001b[0;34m[\u001b[0m\u001b[0mM_subj\u001b[0m\u001b[0;34m,\u001b[0m \u001b[0mM_obj\u001b[0m\u001b[0;34m,\u001b[0m \u001b[0mS_subj\u001b[0m\u001b[0;34m,\u001b[0m \u001b[0mS_obj\u001b[0m\u001b[0;34m,\u001b[0m \u001b[0mN_subj\u001b[0m\u001b[0;34m,\u001b[0m \u001b[0mN_obj\u001b[0m\u001b[0;34m]\u001b[0m\u001b[0;34m:\u001b[0m\u001b[0;34m\u001b[0m\u001b[0;34m\u001b[0m\u001b[0m\n\u001b[0;32m----> 2\u001b[0;31m     \u001b[0mprint\u001b[0m\u001b[0;34m(\u001b[0m\u001b[0;34m[\u001b[0m\u001b[0mlen\u001b[0m\u001b[0;34m(\u001b[0m\u001b[0my\u001b[0m\u001b[0;34m)\u001b[0m \u001b[0;32mfor\u001b[0m \u001b[0my\u001b[0m \u001b[0;32min\u001b[0m \u001b[0msplit_query_types\u001b[0m\u001b[0;34m(\u001b[0m\u001b[0mx\u001b[0m\u001b[0;34m)\u001b[0m\u001b[0;34m]\u001b[0m\u001b[0;34m)\u001b[0m\u001b[0;34m\u001b[0m\u001b[0;34m\u001b[0m\u001b[0m\n\u001b[0m",
      "\u001b[0;32m<ipython-input-69-59d9a71db4a1>\u001b[0m in \u001b[0;36msplit_query_types\u001b[0;34m(df, ignore)\u001b[0m\n\u001b[1;32m      1\u001b[0m \u001b[0;32mdef\u001b[0m \u001b[0msplit_query_types\u001b[0m\u001b[0;34m(\u001b[0m\u001b[0mdf\u001b[0m\u001b[0;34m,\u001b[0m \u001b[0mignore\u001b[0m\u001b[0;34m=\u001b[0m\u001b[0;34m[\u001b[0m\u001b[0;34m]\u001b[0m\u001b[0;34m)\u001b[0m\u001b[0;34m:\u001b[0m\u001b[0;34m\u001b[0m\u001b[0;34m\u001b[0m\u001b[0m\n\u001b[0;32m----> 2\u001b[0;31m     \u001b[0mdf_e1rel\u001b[0m \u001b[0;34m=\u001b[0m \u001b[0mdf\u001b[0m\u001b[0;34m.\u001b[0m\u001b[0mloc\u001b[0m\u001b[0;34m[\u001b[0m\u001b[0;34m~\u001b[0m\u001b[0mdf\u001b[0m\u001b[0;34m.\u001b[0m\u001b[0me1\u001b[0m\u001b[0;34m.\u001b[0m\u001b[0misin\u001b[0m\u001b[0;34m(\u001b[0m\u001b[0mignore\u001b[0m\u001b[0;34m)\u001b[0m\u001b[0;34m,\u001b[0m \u001b[0;34m[\u001b[0m\u001b[0;34m'e1'\u001b[0m\u001b[0;34m,\u001b[0m \u001b[0;34m'rel'\u001b[0m\u001b[0;34m,\u001b[0m \u001b[0;34m'e2'\u001b[0m\u001b[0;34m]\u001b[0m\u001b[0;34m]\u001b[0m\u001b[0;34m.\u001b[0m\u001b[0;31m\\\u001b[0m\u001b[0;34m\u001b[0m\u001b[0;34m\u001b[0m\u001b[0m\n\u001b[0m\u001b[1;32m      3\u001b[0m         \u001b[0mgroupby\u001b[0m\u001b[0;34m(\u001b[0m\u001b[0;34m[\u001b[0m\u001b[0;34m'e1'\u001b[0m\u001b[0;34m,\u001b[0m \u001b[0;34m'rel'\u001b[0m\u001b[0;34m]\u001b[0m\u001b[0;34m)\u001b[0m\u001b[0;34m.\u001b[0m\u001b[0magg\u001b[0m\u001b[0;34m(\u001b[0m\u001b[0;34m{\u001b[0m\u001b[0;34m'e2'\u001b[0m\u001b[0;34m:\u001b[0m \u001b[0;32mlambda\u001b[0m \u001b[0mx\u001b[0m\u001b[0;34m:\u001b[0m \u001b[0mset\u001b[0m\u001b[0;34m(\u001b[0m\u001b[0mx\u001b[0m\u001b[0;34m)\u001b[0m \u001b[0;34m-\u001b[0m \u001b[0mset\u001b[0m\u001b[0;34m(\u001b[0m\u001b[0mignore\u001b[0m\u001b[0;34m)\u001b[0m\u001b[0;34m}\u001b[0m\u001b[0;34m)\u001b[0m\u001b[0;34m\u001b[0m\u001b[0;34m\u001b[0m\u001b[0m\n\u001b[1;32m      4\u001b[0m     \u001b[0mdf_e1rel\u001b[0m\u001b[0;34m[\u001b[0m\u001b[0;34m'n'\u001b[0m\u001b[0;34m]\u001b[0m \u001b[0;34m=\u001b[0m \u001b[0mdf_e1rel\u001b[0m\u001b[0;34m.\u001b[0m\u001b[0me2\u001b[0m\u001b[0;34m.\u001b[0m\u001b[0mapply\u001b[0m\u001b[0;34m(\u001b[0m\u001b[0;32mlambda\u001b[0m \u001b[0mx\u001b[0m\u001b[0;34m:\u001b[0m \u001b[0mlen\u001b[0m\u001b[0;34m(\u001b[0m\u001b[0mx\u001b[0m\u001b[0;34m)\u001b[0m\u001b[0;34m)\u001b[0m\u001b[0;34m\u001b[0m\u001b[0;34m\u001b[0m\u001b[0m\n\u001b[1;32m      5\u001b[0m     \u001b[0mdf_e2rel\u001b[0m \u001b[0;34m=\u001b[0m \u001b[0mdf\u001b[0m\u001b[0;34m.\u001b[0m\u001b[0mloc\u001b[0m\u001b[0;34m[\u001b[0m\u001b[0;34m~\u001b[0m\u001b[0mdf\u001b[0m\u001b[0;34m.\u001b[0m\u001b[0me2\u001b[0m\u001b[0;34m.\u001b[0m\u001b[0misin\u001b[0m\u001b[0;34m(\u001b[0m\u001b[0mignore\u001b[0m\u001b[0;34m)\u001b[0m\u001b[0;34m,\u001b[0m \u001b[0;34m[\u001b[0m\u001b[0;34m'e1'\u001b[0m\u001b[0;34m,\u001b[0m \u001b[0;34m'rel'\u001b[0m\u001b[0;34m,\u001b[0m \u001b[0;34m'e2'\u001b[0m\u001b[0;34m]\u001b[0m\u001b[0;34m]\u001b[0m\u001b[0;34m.\u001b[0m\u001b[0;31m\\\u001b[0m\u001b[0;34m\u001b[0m\u001b[0;34m\u001b[0m\u001b[0m\n",
      "\u001b[0;32m~/.local/lib/python3.6/site-packages/pandas/core/series.py\u001b[0m in \u001b[0;36misin\u001b[0;34m(self, values)\u001b[0m\n\u001b[1;32m   4512\u001b[0m         \u001b[0mName\u001b[0m\u001b[0;34m:\u001b[0m \u001b[0manimal\u001b[0m\u001b[0;34m,\u001b[0m \u001b[0mdtype\u001b[0m\u001b[0;34m:\u001b[0m \u001b[0mbool\u001b[0m\u001b[0;34m\u001b[0m\u001b[0;34m\u001b[0m\u001b[0m\n\u001b[1;32m   4513\u001b[0m         \"\"\"\n\u001b[0;32m-> 4514\u001b[0;31m         \u001b[0mresult\u001b[0m \u001b[0;34m=\u001b[0m \u001b[0malgorithms\u001b[0m\u001b[0;34m.\u001b[0m\u001b[0misin\u001b[0m\u001b[0;34m(\u001b[0m\u001b[0mself\u001b[0m\u001b[0;34m,\u001b[0m \u001b[0mvalues\u001b[0m\u001b[0;34m)\u001b[0m\u001b[0;34m\u001b[0m\u001b[0;34m\u001b[0m\u001b[0m\n\u001b[0m\u001b[1;32m   4515\u001b[0m         \u001b[0;32mreturn\u001b[0m \u001b[0mself\u001b[0m\u001b[0;34m.\u001b[0m\u001b[0m_constructor\u001b[0m\u001b[0;34m(\u001b[0m\u001b[0mresult\u001b[0m\u001b[0;34m,\u001b[0m \u001b[0mindex\u001b[0m\u001b[0;34m=\u001b[0m\u001b[0mself\u001b[0m\u001b[0;34m.\u001b[0m\u001b[0mindex\u001b[0m\u001b[0;34m)\u001b[0m\u001b[0;34m.\u001b[0m\u001b[0m__finalize__\u001b[0m\u001b[0;34m(\u001b[0m\u001b[0mself\u001b[0m\u001b[0;34m)\u001b[0m\u001b[0;34m\u001b[0m\u001b[0;34m\u001b[0m\u001b[0m\n\u001b[1;32m   4516\u001b[0m \u001b[0;34m\u001b[0m\u001b[0m\n",
      "\u001b[0;32m~/.local/lib/python3.6/site-packages/pandas/core/algorithms.py\u001b[0m in \u001b[0;36misin\u001b[0;34m(comps, values)\u001b[0m\n\u001b[1;32m    478\u001b[0m             \u001b[0mcomps\u001b[0m \u001b[0;34m=\u001b[0m \u001b[0mcomps\u001b[0m\u001b[0;34m.\u001b[0m\u001b[0mastype\u001b[0m\u001b[0;34m(\u001b[0m\u001b[0mobject\u001b[0m\u001b[0;34m)\u001b[0m\u001b[0;34m\u001b[0m\u001b[0;34m\u001b[0m\u001b[0m\n\u001b[1;32m    479\u001b[0m \u001b[0;34m\u001b[0m\u001b[0m\n\u001b[0;32m--> 480\u001b[0;31m     \u001b[0;32mreturn\u001b[0m \u001b[0mf\u001b[0m\u001b[0;34m(\u001b[0m\u001b[0mcomps\u001b[0m\u001b[0;34m,\u001b[0m \u001b[0mvalues\u001b[0m\u001b[0;34m)\u001b[0m\u001b[0;34m\u001b[0m\u001b[0;34m\u001b[0m\u001b[0m\n\u001b[0m\u001b[1;32m    481\u001b[0m \u001b[0;34m\u001b[0m\u001b[0m\n\u001b[1;32m    482\u001b[0m \u001b[0;34m\u001b[0m\u001b[0m\n",
      "\u001b[0;32m~/.local/lib/python3.6/site-packages/pandas/core/algorithms.py\u001b[0m in \u001b[0;36m<lambda>\u001b[0;34m(x, y)\u001b[0m\n\u001b[1;32m    454\u001b[0m \u001b[0;34m\u001b[0m\u001b[0m\n\u001b[1;32m    455\u001b[0m     \u001b[0;31m# faster for larger cases to use np.in1d\u001b[0m\u001b[0;34m\u001b[0m\u001b[0;34m\u001b[0m\u001b[0;34m\u001b[0m\u001b[0m\n\u001b[0;32m--> 456\u001b[0;31m     \u001b[0mf\u001b[0m \u001b[0;34m=\u001b[0m \u001b[0;32mlambda\u001b[0m \u001b[0mx\u001b[0m\u001b[0;34m,\u001b[0m \u001b[0my\u001b[0m\u001b[0;34m:\u001b[0m \u001b[0mhtable\u001b[0m\u001b[0;34m.\u001b[0m\u001b[0mismember_object\u001b[0m\u001b[0;34m(\u001b[0m\u001b[0mx\u001b[0m\u001b[0;34m,\u001b[0m \u001b[0mvalues\u001b[0m\u001b[0;34m)\u001b[0m\u001b[0;34m\u001b[0m\u001b[0;34m\u001b[0m\u001b[0m\n\u001b[0m\u001b[1;32m    457\u001b[0m \u001b[0;34m\u001b[0m\u001b[0m\n\u001b[1;32m    458\u001b[0m     \u001b[0;31m# GH16012\u001b[0m\u001b[0;34m\u001b[0m\u001b[0;34m\u001b[0m\u001b[0;34m\u001b[0m\u001b[0m\n",
      "\u001b[0;32mpandas/_libs/hashtable_func_helper.pxi\u001b[0m in \u001b[0;36mpandas._libs.hashtable.ismember_object\u001b[0;34m()\u001b[0m\n",
      "\u001b[0;31mSystemError\u001b[0m: <built-in method view of numpy.ndarray object at 0x7fd83e60a080> returned a result with an error set"
     ]
    }
   ],
   "source": [
    "for x in [M_subj, M_obj, S_subj, S_obj, N_subj, N_obj]:\n",
    "    print([len(y) for y in split_query_types(x)])"
   ]
  },
  {
   "cell_type": "markdown",
   "metadata": {},
   "source": [
    "#### test split stats"
   ]
  },
  {
   "cell_type": "code",
   "execution_count": 71,
   "metadata": {
    "ExecuteTime": {
     "end_time": "2020-03-31T19:56:46.592642Z",
     "start_time": "2020-03-31T19:56:46.589515Z"
    }
   },
   "outputs": [
    {
     "name": "stdout",
     "output_type": "stream",
     "text": [
      "[2581, 2806, 5183, 204, 2335, 2309, 4141, 503]\n"
     ]
    }
   ],
   "source": [
    "# distribution of queries of different positions and types\n",
    "# 0, 1, multi for obj and subj pos\n",
    "#[len(o) for o in dev_split], \n",
    "print([len(x) for x in [F_obj, N_obj, S_obj, M_obj, F_subj, N_subj, S_subj, M_subj]])"
   ]
  },
  {
   "cell_type": "code",
   "execution_count": 72,
   "metadata": {
    "ExecuteTime": {
     "end_time": "2020-03-31T19:56:48.337049Z",
     "start_time": "2020-03-31T19:56:48.332561Z"
    }
   },
   "outputs": [
    {
     "name": "stdout",
     "output_type": "stream",
     "text": [
      "[2806, 5183, 204, 2309, 4141, 503]\n",
      "[0.0, 1.0, 2.553921568627451, 0.0, 1.0, 3.107355864811133]\n"
     ]
    }
   ],
   "source": [
    "print([len(x) for x in [N_obj, S_obj, M_obj, N_subj, S_subj, M_subj]])\n",
    "print([x.n.sum()/len(x) for x in [N_obj, S_obj, M_obj, N_subj, S_subj, M_subj]])"
   ]
  },
  {
   "cell_type": "code",
   "execution_count": 73,
   "metadata": {
    "ExecuteTime": {
     "end_time": "2020-03-31T19:57:02.370044Z",
     "start_time": "2020-03-31T19:57:02.366158Z"
    }
   },
   "outputs": [
    {
     "data": {
      "text/plain": [
       "([2309, 4141, 503], [2806, 5183, 204])"
      ]
     },
     "execution_count": 73,
     "metadata": {},
     "output_type": "execute_result"
    }
   ],
   "source": [
    "# distribution of left to right questions\n",
    "[len(x) for x in [N_subj, S_subj, M_subj]], [len(x) for x in [N_obj, S_obj, M_obj]]"
   ]
  },
  {
   "cell_type": "code",
   "execution_count": 74,
   "metadata": {
    "ExecuteTime": {
     "end_time": "2020-03-31T19:57:02.619124Z",
     "start_time": "2020-03-31T19:57:02.615791Z"
    }
   },
   "outputs": [
    {
     "data": {
      "text/plain": [
       "9785"
      ]
     },
     "execution_count": 74,
     "metadata": {},
     "output_type": "execute_result"
    }
   ],
   "source": [
    "# no answer queries\n",
    "len(N_subj) +len(F_subj) + len(N_obj) + len(F_subj)"
   ]
  },
  {
   "cell_type": "code",
   "execution_count": 78,
   "metadata": {
    "ExecuteTime": {
     "end_time": "2020-03-31T20:03:54.117270Z",
     "start_time": "2020-03-31T20:03:54.114120Z"
    }
   },
   "outputs": [
    {
     "data": {
      "text/plain": [
       "9324"
      ]
     },
     "execution_count": 78,
     "metadata": {},
     "output_type": "execute_result"
    }
   ],
   "source": [
    "# single queries/answers total\n",
    "len(S_obj) + len(S_subj)"
   ]
  },
  {
   "cell_type": "code",
   "execution_count": 79,
   "metadata": {
    "ExecuteTime": {
     "end_time": "2020-03-31T20:03:54.869720Z",
     "start_time": "2020-03-31T20:03:54.866295Z"
    }
   },
   "outputs": [
    {
     "data": {
      "text/plain": [
       "(707, 2084)"
      ]
     },
     "execution_count": 79,
     "metadata": {},
     "output_type": "execute_result"
    }
   ],
   "source": [
    "# dev mult queries/answers total\n",
    "len(M_obj) + len(M_subj), sum(M_obj.n) + sum(M_subj.n)"
   ]
  },
  {
   "cell_type": "code",
   "execution_count": 80,
   "metadata": {
    "ExecuteTime": {
     "end_time": "2020-03-31T20:03:55.871707Z",
     "start_time": "2020-03-31T20:03:55.868556Z"
    }
   },
   "outputs": [
    {
     "data": {
      "text/plain": [
       "10031"
      ]
     },
     "execution_count": 80,
     "metadata": {},
     "output_type": "execute_result"
    }
   ],
   "source": [
    "# dev total queries with answer\n",
    "len(M_obj) + len(M_subj) + len(S_obj) + len(S_subj)"
   ]
  },
  {
   "cell_type": "markdown",
   "metadata": {
    "heading_collapsed": true
   },
   "source": [
    "#### check overlap between dev and test"
   ]
  },
  {
   "cell_type": "code",
   "execution_count": 911,
   "metadata": {
    "ExecuteTime": {
     "end_time": "2020-03-30T21:04:56.374055Z",
     "start_time": "2020-03-30T21:04:55.805332Z"
    },
    "hidden": true
   },
   "outputs": [
    {
     "data": {
      "text/plain": [
       "(False, False)"
      ]
     },
     "execution_count": 911,
     "metadata": {},
     "output_type": "execute_result"
    }
   ],
   "source": [
    "dev_obj.index.isin(test_obj.index).all(), dev_subj.index.isin(test_subj.index).all()"
   ]
  },
  {
   "cell_type": "markdown",
   "metadata": {
    "heading_collapsed": true
   },
   "source": [
    "#### check overlap in relations"
   ]
  },
  {
   "cell_type": "code",
   "execution_count": null,
   "metadata": {
    "hidden": true
   },
   "outputs": [],
   "source": [
    "# # total entities\n",
    "# entities = set(reconstruct(new_dev_obj, attr='e2').reset_index()[['e1','e2']].values.flatten()).union(\n",
    "#     set(reconstruct(new_test_obj, attr='e2').reset_index()[['e1','e2']].values.flatten()).union(\n",
    "#     set(reconstruct(new_dev_subj).reset_index()[['e1','e2']].values.flatten()).union(\n",
    "#     set(reconstruct(new_test_subj).reset_index()[['e1','e2']].values.flatten()).union(\n",
    "#         set(new_train[['e1','e2']].values.flatten())\n",
    "#     )\n",
    "#     )\n",
    "#     )\n",
    "#     )\n",
    "\n",
    "# print(len(entities))"
   ]
  },
  {
   "cell_type": "code",
   "execution_count": null,
   "metadata": {
    "hidden": true
   },
   "outputs": [],
   "source": [
    "# total relations\n",
    "dev_rels = set(dev_obj.reset_index().rel.values.flatten()).union(\n",
    "    set(dev_subj.reset_index().rel.values.flatten()))\n",
    "test_rels =  set(test_obj.reset_index().rel.values.flatten()).union(\n",
    "     set(test_subj.reset_index().rel.values.flatten()))\n",
    "train_rels = set(train.rel.values.flatten())\n",
    "len(dev_rels.intersection(train_rels)), len(test_rels.intersection(train_rels)), len(dev_rels.intersection(test_rels))"
   ]
  },
  {
   "cell_type": "code",
   "execution_count": null,
   "metadata": {
    "hidden": true
   },
   "outputs": [],
   "source": [
    "# train / dev / test relation split\n",
    "len(train_rels), len(dev_rels), len(test_rels)"
   ]
  },
  {
   "cell_type": "markdown",
   "metadata": {
    "heading_collapsed": true
   },
   "source": [
    "#### Analyse the new graph structure"
   ]
  },
  {
   "cell_type": "code",
   "execution_count": null,
   "metadata": {
    "hidden": true
   },
   "outputs": [],
   "source": [
    "train"
   ]
  },
  {
   "cell_type": "code",
   "execution_count": null,
   "metadata": {
    "hidden": true
   },
   "outputs": [],
   "source": [
    "[train.reset_index()[[col, 'index']].groupby(col).count().mean().values for col in ['e1', 'rel', 'e2']]"
   ]
  },
  {
   "cell_type": "code",
   "execution_count": null,
   "metadata": {
    "hidden": true
   },
   "outputs": [],
   "source": [
    "#fb13k-qaq old\n",
    "# 17 - 900 - 17"
   ]
  },
  {
   "cell_type": "markdown",
   "metadata": {},
   "source": [
    "#### Analyse the resulting types"
   ]
  },
  {
   "cell_type": "code",
   "execution_count": 81,
   "metadata": {
    "ExecuteTime": {
     "end_time": "2020-03-31T20:04:09.439485Z",
     "start_time": "2020-03-31T20:04:09.436619Z"
    }
   },
   "outputs": [
    {
     "data": {
      "text/plain": [
       "'WN18RR-QAQ'"
      ]
     },
     "execution_count": 81,
     "metadata": {},
     "output_type": "execute_result"
    }
   ],
   "source": [
    "new_name"
   ]
  },
  {
   "cell_type": "code",
   "execution_count": 82,
   "metadata": {
    "ExecuteTime": {
     "end_time": "2020-03-31T20:04:10.373333Z",
     "start_time": "2020-03-31T20:04:09.918990Z"
    }
   },
   "outputs": [],
   "source": [
    "e1_overlap = np.array(\n",
    "    [[len(e1_types[i].intersection(e1_types[j])) / len(e1_types[i].union(e1_types[j])) \n",
    "      for j in new_rels] for i in new_rels]\n",
    ")"
   ]
  },
  {
   "cell_type": "code",
   "execution_count": 83,
   "metadata": {
    "ExecuteTime": {
     "end_time": "2020-03-31T20:04:12.148696Z",
     "start_time": "2020-03-31T20:04:11.897183Z"
    }
   },
   "outputs": [
    {
     "data": {
      "text/plain": [
       "Text(0, 0.5, '')"
      ]
     },
     "execution_count": 83,
     "metadata": {},
     "output_type": "execute_result"
    },
    {
     "data": {
      "image/png": "[encoded data removed]",
      "text/plain": [
       "<Figure size 432x288 with 2 Axes>"
      ]
     },
     "metadata": {
      "needs_background": "light"
     },
     "output_type": "display_data"
    }
   ],
   "source": [
    "fig, ax = plt.subplots()\n",
    "\n",
    "# Plot the heatmap\n",
    "x_order = np.argsort(e1_overlap, 0)[:,0] #, np.argsort(e1_overlap, 1)[0,:]\n",
    "for i in range(len(new_rels)):\n",
    "    e1_overlap[i,i] = 0\n",
    "im = ax.imshow(e1_overlap[x_order][:,x_order])\n",
    "\n",
    "# Create colorbar\n",
    "cbar = ax.figure.colorbar(im, ax=ax)\n",
    "cbar.ax.set_ylabel('', rotation=-90, va=\"bottom\")"
   ]
  },
  {
   "cell_type": "code",
   "execution_count": 84,
   "metadata": {
    "ExecuteTime": {
     "end_time": "2020-03-31T20:04:26.150470Z",
     "start_time": "2020-03-31T20:04:26.143066Z"
    }
   },
   "outputs": [
    {
     "ename": "IndexError",
     "evalue": "index 15 is out of bounds for axis 0 with size 11",
     "output_type": "error",
     "traceback": [
      "\u001b[0;31m---------------------------------------------------------------------------\u001b[0m",
      "\u001b[0;31mIndexError\u001b[0m                                Traceback (most recent call last)",
      "\u001b[0;32m<ipython-input-84-db3bd436f470>\u001b[0m in \u001b[0;36m<module>\u001b[0;34m\u001b[0m\n\u001b[0;32m----> 1\u001b[0;31m \u001b[0me1_overlap\u001b[0m\u001b[0;34m[\u001b[0m\u001b[0mx_order\u001b[0m\u001b[0;34m]\u001b[0m\u001b[0;34m[\u001b[0m\u001b[0;34m:\u001b[0m\u001b[0;34m,\u001b[0m\u001b[0mx_order\u001b[0m\u001b[0;34m]\u001b[0m\u001b[0;34m[\u001b[0m\u001b[0;36m15\u001b[0m\u001b[0;34m]\u001b[0m\u001b[0;34m\u001b[0m\u001b[0;34m\u001b[0m\u001b[0m\n\u001b[0m",
      "\u001b[0;31mIndexError\u001b[0m: index 15 is out of bounds for axis 0 with size 11"
     ]
    }
   ],
   "source": [
    "e1_overlap[x_order][:,x_order][15]"
   ]
  },
  {
   "cell_type": "code",
   "execution_count": 833,
   "metadata": {
    "ExecuteTime": {
     "end_time": "2020-03-12T16:06:29.015177Z",
     "start_time": "2020-03-12T16:06:29.009961Z"
    }
   },
   "outputs": [
    {
     "data": {
      "text/plain": [
       "(array(['/base/x2010fifaworldcupsouthafrica/world_cup_squad/current_world_cup_squad./base/x2010fifaworldcupsouthafrica/current_world_cup_squad/current_club',\n",
       "        '/film/special_film_performance_type/film_performance_type./film/performance/film',\n",
       "        '/government/legislative_session/members./government/government_position_held/district_represented',\n",
       "        '/sports/sports_position/players./sports/sports_team_roster/position',\n",
       "        '/award/award_ceremony/awards_presented./award/award_honor/honored_for',\n",
       "        '/user/ktrueman/default_domain/international_organization/member_states',\n",
       "        '/ice_hockey/hockey_team/current_roster./sports/sports_team_roster/position',\n",
       "        '/base/localfood/seasonal_month/produce_available./base/localfood/produce_availability/seasonal_months',\n",
       "        '/government/legislative_session/members./government/government_position_held/legislative_sessions',\n",
       "        '/sports/sports_position/players./american_football/football_historical_roster_position/position_s',\n",
       "        '/broadcast/content/artist',\n",
       "        '/award/award_category/winners./award/award_honor/ceremony',\n",
       "        '/sports/sports_position/players./sports/sports_team_roster/team',\n",
       "        '/award/award_category/category_of',\n",
       "        '/tv/non_character_role/tv_regular_personal_appearances./tv/tv_regular_personal_appearance/person',\n",
       "        '/sports/sports_league_draft/picks./sports/sports_league_draft_pick/school',\n",
       "        '/sports/sports_team/roster./basketball/basketball_roster_position/position',\n",
       "        '/food/food/nutrients./food/nutrition_fact/nutrient',\n",
       "        '/award/hall_of_fame/inductees./award/hall_of_fame_induction/inductee',\n",
       "        '/people/marriage_union_type/unions_of_this_type./people/marriage/location_of_ceremony',\n",
       "        '/business/job_title/people_with_this_title./business/employment_tenure/company',\n",
       "        '/government/government_office_category/officeholders./government/government_position_held/jurisdiction_of_office'],\n",
       "       dtype=object),\n",
       " array(['/organization/role/leaders./organization/leadership/organization',\n",
       "        '/education/educational_degree/people_with_this_degree./education/education/institution',\n",
       "        '/education/educational_degree/people_with_this_degree./education/education/student',\n",
       "        '/education/educational_degree/people_with_this_degree./education/education/major_field_of_study'],\n",
       "       dtype=object),\n",
       " array(['/base/locations/continents/countries_within',\n",
       "        '/medicine/disease/risk_factors', '/medicine/symptom/symptom_of',\n",
       "        '/medicine/disease/notable_people_with_this_condition',\n",
       "        '/people/ethnicity/people', '/people/ethnicity/languages_spoken',\n",
       "        '/people/ethnicity/geographic_distribution',\n",
       "        '/music/genre/parent_genre'], dtype=object),\n",
       " array(['/time/event/instance_of_recurring_event',\n",
       "        '/award/award_ceremony/awards_presented./award/award_honor/award_winner',\n",
       "        '/base/marchmadness/ncaa_basketball_tournament/seeds./base/marchmadness/ncaa_tournament_seed/team',\n",
       "        '/user/jg/default_domain/olympic_games/sports',\n",
       "        '/olympics/olympic_games/medals_awarded./olympics/olympic_medal_honor/medal',\n",
       "        '/olympics/olympic_games/sports',\n",
       "        '/olympics/olympic_games/participating_countries',\n",
       "        '/soccer/football_player/current_team./sports/sports_team_roster/team',\n",
       "        '/base/americancomedy/celebrity_impressionist/celebrities_impersonated',\n",
       "        '/sports/pro_athlete/teams./sports/sports_team_roster/team',\n",
       "        '/base/saturdaynightlive/snl_cast_member/seasons./base/saturdaynightlive/snl_season_tenure/cast_members',\n",
       "        '/film/film_set_designer/film_sets_designed',\n",
       "        '/music/performance_role/regular_performances./music/group_membership/group',\n",
       "        '/music/performance_role/guest_performances./music/recording_contribution/performance_role',\n",
       "        '/music/instrument/instrumentalists', '/music/instrument/family',\n",
       "        '/music/performance_role/regular_performances./music/group_membership/role',\n",
       "        '/music/performance_role/track_performances./music/track_contribution/role',\n",
       "        '/music/genre/artists',\n",
       "        '/language/human_language/countries_spoken_in',\n",
       "        '/people/cause_of_death/people',\n",
       "        '/user/alexander/philosophy/philosopher/interests',\n",
       "        '/olympics/olympic_sport/athletes./olympics/olympic_athlete_affiliation/olympics',\n",
       "        '/olympics/olympic_sport/athletes./olympics/olympic_athlete_affiliation/country',\n",
       "        '/sports/sport/pro_athletes./sports/pro_sports_played/athlete',\n",
       "        '/film/film/film_festivals',\n",
       "        '/award/award_winning_work/awards_won./award/award_honor/award_winner',\n",
       "        '/award/award_winning_work/awards_won./award/award_honor/award',\n",
       "        '/award/award_nominated_work/award_nominations./award/award_nomination/nominated_for',\n",
       "        '/film/film/language', '/film/film/country', '/film/film/genre',\n",
       "        '/film/film/release_date_s./film/film_regional_release_date/film_release_distribution_medium',\n",
       "        '/organization/organization/child./organization/organization_relationship/child',\n",
       "        '/organization/organization/place_founded',\n",
       "        '/business/business_operation/industry',\n",
       "        '/celebrities/celebrity/celebrity_friends./celebrities/friendship/friend',\n",
       "        '/base/popstra/celebrity/canoodled./base/popstra/canoodled/participant',\n",
       "        '/film/director/film',\n",
       "        '/film/film_distributor/films_distributed./film/film_film_distributor_relationship/film',\n",
       "        '/tv/tv_producer/programs_produced./tv/tv_producer_term/producer_type',\n",
       "        '/base/schemastaging/person_extra/net_worth./measurement_unit/dated_money_value/currency',\n",
       "        '/people/person/spouse_s./people/marriage/spouse',\n",
       "        '/celebrities/celebrity/sexual_relationships./celebrities/romantic_relationship/celebrity',\n",
       "        '/tv/tv_personality/tv_regular_appearances./tv/tv_regular_personal_appearance/program',\n",
       "        '/music/group_member/membership./music/group_membership/group',\n",
       "        '/music/group_member/membership./music/group_membership/role',\n",
       "        '/base/popstra/celebrity/breakup./base/popstra/breakup/participant',\n",
       "        '/music/artist/contribution./music/recording_contribution/performance_role',\n",
       "        '/tv/tv_writer/tv_programs./tv/tv_program_writer_relationship/tv_program',\n",
       "        '/film/actor/dubbing_performances./film/dubbing_performance/language',\n",
       "        '/film/person_or_entity_appearing_in_film/films./film/personal_film_appearance/type_of_appearance',\n",
       "        '/film/actor/film./film/performance/special_performance_type',\n",
       "        '/people/person/sibling_s./people/sibling_relationship/sibling',\n",
       "        '/tv/tv_producer/programs_produced./tv/tv_producer_term/program',\n",
       "        '/film/film/executive_produced_by', '/film/film/cinematography',\n",
       "        '/award/award_winning_work/awards_won./award/award_honor/honored_for',\n",
       "        '/film/film/music', '/film/film/story_by',\n",
       "        '/film/film/featured_film_locations', '/film/film/written_by',\n",
       "        '/film/film/runtime./film/film_cut/film_release_region',\n",
       "        '/award/award_nominee/award_nominations./award/award_nomination/nominated_for',\n",
       "        '/tv/tv_program/languages', '/tv/tv_program/country_of_origin',\n",
       "        '/tv/tv_program/genre',\n",
       "        '/tv/tv_program/tv_producer./tv/tv_producer_term/producer_type',\n",
       "        '/tv/tv_program/regular_cast./tv/regular_tv_appearance/actor',\n",
       "        '/film/film/costume_design_by',\n",
       "        '/film/film/film_production_design_by',\n",
       "        '/film/film/release_date_s./film/film_regional_release_date/film_regional_debut_venue',\n",
       "        '/film/film/edited_by',\n",
       "        '/film/film/other_crew./film/film_crew_gig/crewmember',\n",
       "        '/film/film/film_format',\n",
       "        '/film/film/distributors./film/film_film_distributor_relationship/film_distribution_medium',\n",
       "        '/film/film/film_art_direction_by',\n",
       "        '/film/film/distributors./film/film_film_distributor_relationship/region',\n",
       "        '/film/film/personal_appearances./film/personal_film_appearance/person',\n",
       "        '/film/film/prequel', '/music/record_label/artist',\n",
       "        '/film/film/dubbing_performances./film/dubbing_performance/actor',\n",
       "        '/award/award_nominee/award_nominations./award/award_nomination/award_nominee',\n",
       "        '/tv/tv_network/programs./tv/tv_network_duration/program',\n",
       "        '/film/film/estimated_budget./measurement_unit/dated_money_value/currency',\n",
       "        '/film/film/other_crew./film/film_crew_gig/film_crew_role',\n",
       "        '/film/film/produced_by',\n",
       "        '/film/film/release_date_s./film/film_regional_release_date/film_release_region',\n",
       "        '/award/award_nominee/award_nominations./award/award_nomination/award',\n",
       "        '/film/film/production_companies',\n",
       "        '/tv/tv_program/program_creator',\n",
       "        '/film/actor/film./film/performance/film',\n",
       "        '/sports/sports_team/sport', '/sports/sports_team/colors',\n",
       "        '/soccer/football_team/current_roster./soccer/football_roster_position/position',\n",
       "        '/soccer/football_team/current_roster./sports/sports_team_roster/position',\n",
       "        '/music/artist/track_contributions./music/track_contribution/role',\n",
       "        '/people/person/languages',\n",
       "        '/people/person/spouse_s./people/marriage/location_of_ceremony',\n",
       "        '/base/schemastaging/organization_extra/phone_number./base/schemastaging/phone_sandbox/service_location',\n",
       "        '/base/schemastaging/organization_extra/phone_number./base/schemastaging/phone_sandbox/service_language',\n",
       "        '/base/schemastaging/organization_extra/phone_number./base/schemastaging/phone_sandbox/contact_category',\n",
       "        '/base/eating/practicer_of_diet/diet',\n",
       "        '/influence/influence_node/peers./influence/peer_relationship/peers',\n",
       "        '/music/artist/origin', '/people/deceased_person/place_of_burial',\n",
       "        '/business/business_operation/revenue./measurement_unit/dated_money_value/currency',\n",
       "        '/award/award_category/winners./award/award_honor/award_winner',\n",
       "        '/award/award_category/disciplines_or_subjects',\n",
       "        '/sports/sports_team/roster./american_football/football_roster_position/position',\n",
       "        '/sports/professional_sports_team/draft_picks./sports/sports_league_draft_pick/school',\n",
       "        '/sports/sports_team/roster./american_football/football_historical_roster_position/position_s',\n",
       "        '/sports/professional_sports_team/draft_picks./sports/sports_league_draft_pick/draft',\n",
       "        '/american_football/football_team/current_roster./sports/sports_team_roster/position',\n",
       "        '/baseball/baseball_team/team_stats./baseball/baseball_team_stats/season',\n",
       "        '/sports/sports_team/roster./baseball/baseball_roster_position/position',\n",
       "        '/award/award_category/nominees./award/award_nomination/nominated_for',\n",
       "        '/award/award_winner/awards_won./award/award_honor/award_winner',\n",
       "        '/base/popstra/celebrity/friendship./base/popstra/friendship/participant',\n",
       "        '/base/popstra/celebrity/dated./base/popstra/dated/participant',\n",
       "        '/business/business_operation/assets./measurement_unit/dated_money_value/currency',\n",
       "        '/government/political_party/politicians_in_this_party./government/political_party_tenure/politician',\n",
       "        '/government/politician/government_positions_held./government/government_position_held/legislative_sessions',\n",
       "        '/sports/sports_league/teams./sports/sports_league_participation/team',\n",
       "        '/government/governmental_body/members./government/government_position_held/legislative_sessions',\n",
       "        '/people/person/places_lived./people/place_lived/location',\n",
       "        '/people/profession/specialization_of', '/time/event/locations',\n",
       "        '/people/person/place_of_birth', '/people/person/gender',\n",
       "        '/people/person/profession',\n",
       "        '/people/person/spouse_s./people/marriage/type_of_union',\n",
       "        '/people/person/nationality',\n",
       "        '/award/ranked_item/appears_in_ranked_lists./award/ranking/list',\n",
       "        '/influence/influence_node/influenced_by',\n",
       "        '/people/person/religion',\n",
       "        '/people/person/employment_history./business/employment_tenure/company',\n",
       "        '/government/politician/government_positions_held./government/government_position_held/jurisdiction_of_office',\n",
       "        '/government/politician/government_positions_held./government/government_position_held/basic_title',\n",
       "        '/people/deceased_person/place_of_death',\n",
       "        '/military/military_conflict/combatants./military/military_combatant_group/combatants',\n",
       "        '/base/culturalevent/event/entity_involved',\n",
       "        '/business/business_operation/operating_income./measurement_unit/dated_money_value/currency',\n",
       "        '/organization/organization/headquarters./location/mailing_address/citytown',\n",
       "        '/education/field_of_study/students_majoring./education/education/major_field_of_study',\n",
       "        '/organization/organization/headquarters./location/mailing_address/country',\n",
       "        '/education/field_of_study/students_majoring./education/education/student',\n",
       "        '/organization/organization/headquarters./location/mailing_address/state_province_region',\n",
       "        '/common/topic/webpage./common/webpage/category',\n",
       "        '/dataworld/gardening_hint/split_to',\n",
       "        '/education/university/international_tuition./measurement_unit/dated_money_value/currency',\n",
       "        '/organization/organization_founder/organizations_founded',\n",
       "        '/organization/non_profit_organization/registered_with./organization/non_profit_registration/registering_agency',\n",
       "        '/film/film_subject/films',\n",
       "        '/organization/organization_member/member_of./organization/organization_membership/organization',\n",
       "        '/education/educational_institution_campus/educational_institution',\n",
       "        '/user/tsegaran/random/taxonomy_subject/entry./user/tsegaran/random/taxonomy_entry/taxonomy',\n",
       "        '/education/university/local_tuition./measurement_unit/dated_money_value/currency',\n",
       "        '/education/university/fraternities_and_sororities',\n",
       "        '/media_common/netflix_genre/titles',\n",
       "        '/education/educational_institution/campuses',\n",
       "        '/education/educational_institution/students_graduates./education/education/major_field_of_study',\n",
       "        '/education/educational_institution/students_graduates./education/education/student',\n",
       "        '/education/educational_institution/school_type',\n",
       "        '/organization/endowed_organization/endowment./measurement_unit/dated_money_value/currency',\n",
       "        '/education/educational_institution/colors',\n",
       "        '/education/university/domestic_tuition./measurement_unit/dated_money_value/currency',\n",
       "        '/location/hud_county_place/place',\n",
       "        '/location/hud_county_place/county',\n",
       "        '/location/us_county/county_seat',\n",
       "        '/location/statistical_region/rent50_2./measurement_unit/dated_money_value/currency',\n",
       "        '/base/petbreeds/city_with_dogs/top_breeds./base/petbreeds/dog_city_relationship/dog_breed',\n",
       "        '/location/capital_of_administrative_division/capital_of./location/administrative_division_capital_relationship/administrative_division',\n",
       "        '/base/biblioness/bibs_location/state',\n",
       "        '/location/hud_foreclosure_area/estimated_number_of_mortgages./measurement_unit/dated_integer/source',\n",
       "        '/travel/travel_destination/climate./travel/travel_destination_monthly_climate/month',\n",
       "        '/travel/travel_destination/how_to_get_here./travel/transportation/mode_of_transportation',\n",
       "        '/base/aareas/schema/administrative_area/capital',\n",
       "        '/location/administrative_division/first_level_division_of',\n",
       "        '/base/biblioness/bibs_location/country',\n",
       "        '/location/administrative_division/country',\n",
       "        '/location/location/partially_contains',\n",
       "        '/location/location/time_zones',\n",
       "        '/base/popstra/location/vacationers./base/popstra/vacation_choice/vacationer',\n",
       "        '/location/statistical_region/religions./location/religion_percentage/religion',\n",
       "        '/location/location/adjoin_s./location/adjoining_relationship/adjoins',\n",
       "        '/base/aareas/schema/administrative_area/administrative_parent',\n",
       "        '/location/statistical_region/gdp_nominal./measurement_unit/dated_money_value/currency',\n",
       "        '/location/location/contains',\n",
       "        '/sports/sports_team_location/teams',\n",
       "        '/location/country/second_level_divisions',\n",
       "        '/location/statistical_region/gdp_real./measurement_unit/adjusted_money_value/adjustment_currency',\n",
       "        '/military/military_combatant/military_conflicts./military/military_combatant_group/combatants',\n",
       "        '/olympics/olympic_participating_country/medals_won./olympics/olympic_medal_honor/medal',\n",
       "        '/olympics/olympic_participating_country/medals_won./olympics/olympic_medal_honor/olympics',\n",
       "        '/base/aareas/schema/administrative_area/administrative_area_type',\n",
       "        '/location/statistical_region/places_exported_to./location/imports_and_exports/exported_to',\n",
       "        '/location/statistical_region/gni_per_capita_in_ppp_dollars./measurement_unit/dated_money_value/currency',\n",
       "        '/location/country/official_language', '/location/country/capital',\n",
       "        '/olympics/olympic_participating_country/athletes./olympics/olympic_athlete_affiliation/olympics',\n",
       "        '/location/statistical_region/gdp_nominal_per_capita./measurement_unit/dated_money_value/currency',\n",
       "        '/location/country/form_of_government'], dtype=object))"
      ]
     },
     "execution_count": 833,
     "metadata": {},
     "output_type": "execute_result"
    }
   ],
   "source": [
    "new_rels[x_order][:22], new_rels[x_order][22:26], new_rels[x_order][26:34], new_rels[x_order][34:]"
   ]
  },
  {
   "cell_type": "code",
   "execution_count": 85,
   "metadata": {
    "ExecuteTime": {
     "end_time": "2020-03-31T20:04:29.540411Z",
     "start_time": "2020-03-31T20:04:28.935902Z"
    }
   },
   "outputs": [
    {
     "data": {
      "text/plain": [
       "Text(0, 0.5, '')"
      ]
     },
     "execution_count": 85,
     "metadata": {},
     "output_type": "execute_result"
    },
    {
     "data": {
      "image/png": "[encoded data removed]",
      "text/plain": [
       "<Figure size 432x288 with 2 Axes>"
      ]
     },
     "metadata": {
      "needs_background": "light"
     },
     "output_type": "display_data"
    }
   ],
   "source": [
    "e2_overlap = np.array(\n",
    "    [[len(e2_types[i].intersection(e2_types[j])) / len(e2_types[i].union(e2_types[j])) \n",
    "      for j in new_rels] for i in new_rels]\n",
    ")\n",
    "\n",
    "fig, ax = plt.subplots()\n",
    "\n",
    "# Plot the heatmap\n",
    "x_order = np.argsort(e2_overlap, 0)[:,0]#, np.argsort(e1_overlap, 1)[0,:]\n",
    "for i in range(len(new_rels)):\n",
    "    e2_overlap[i,i] = 0\n",
    "im = ax.imshow(e2_overlap[x_order][:,x_order])\n",
    "\n",
    "# Create colorbar\n",
    "cbar = ax.figure.colorbar(im, ax=ax)\n",
    "cbar.ax.set_ylabel('', rotation=-90, va=\"bottom\")"
   ]
  },
  {
   "cell_type": "code",
   "execution_count": 86,
   "metadata": {
    "ExecuteTime": {
     "end_time": "2020-03-31T20:04:34.150453Z",
     "start_time": "2020-03-31T20:04:34.146626Z"
    }
   },
   "outputs": [
    {
     "data": {
      "text/plain": [
       "array([0.65268954, 0.85251407, 0.85814122, 0.974224  , 0.974224  ,\n",
       "       0.98296727, 0.9888062 , 0.9888062 , 0.9944031 , 1.        ,\n",
       "       0.        ])"
      ]
     },
     "execution_count": 86,
     "metadata": {},
     "output_type": "execute_result"
    }
   ],
   "source": [
    "e2_overlap[x_order][:,x_order][-1]"
   ]
  },
  {
   "cell_type": "code",
   "execution_count": 87,
   "metadata": {
    "ExecuteTime": {
     "end_time": "2020-03-31T20:04:40.373683Z",
     "start_time": "2020-03-31T20:04:40.369213Z"
    }
   },
   "outputs": [
    {
     "data": {
      "text/plain": [
       "(array(['_verb_group', '_similar_to', '_also_see', '_instance_hypernym',\n",
       "        '_synset_domain_topic_of', '_member_of_domain_usage', '_has_part'],\n",
       "       dtype=object),\n",
       " array(['_member_of_domain_region', '_member_meronym', '_hypernym',\n",
       "        '_derivationally_related_form'], dtype=object),\n",
       " array([], dtype=object),\n",
       " array([], dtype=object),\n",
       " array([], dtype=object))"
      ]
     },
     "execution_count": 87,
     "metadata": {},
     "output_type": "execute_result"
    }
   ],
   "source": [
    "new_rels[x_order][:7], new_rels[x_order][7:13], new_rels[x_order][13:22], new_rels[x_order][22:26], new_rels[x_order][26:]"
   ]
  },
  {
   "cell_type": "markdown",
   "metadata": {},
   "source": [
    "# Save new split "
   ]
  },
  {
   "cell_type": "code",
   "execution_count": 88,
   "metadata": {
    "ExecuteTime": {
     "end_time": "2020-03-31T20:05:27.270847Z",
     "start_time": "2020-03-31T20:05:27.267912Z"
    }
   },
   "outputs": [],
   "source": [
    "if not os.path.exists(os.path.join(prefix,new_name)):\n",
    "    os.mkdir(os.path.join(prefix,new_name))"
   ]
  },
  {
   "cell_type": "code",
   "execution_count": 89,
   "metadata": {
    "ExecuteTime": {
     "end_time": "2020-03-31T20:05:28.201602Z",
     "start_time": "2020-03-31T20:05:28.188154Z"
    }
   },
   "outputs": [
    {
     "data": {
      "text/html": [
       "<div>\n",
       "<style scoped>\n",
       "    .dataframe tbody tr th:only-of-type {\n",
       "        vertical-align: middle;\n",
       "    }\n",
       "\n",
       "    .dataframe tbody tr th {\n",
       "        vertical-align: top;\n",
       "    }\n",
       "\n",
       "    .dataframe thead th {\n",
       "        text-align: right;\n",
       "    }\n",
       "</style>\n",
       "<table border=\"1\" class=\"dataframe\">\n",
       "  <thead>\n",
       "    <tr style=\"text-align: right;\">\n",
       "      <th></th>\n",
       "      <th>e1</th>\n",
       "      <th>rel</th>\n",
       "      <th>e2</th>\n",
       "      <th>n</th>\n",
       "    </tr>\n",
       "  </thead>\n",
       "  <tbody>\n",
       "    <tr>\n",
       "      <th>0</th>\n",
       "      <td>10000787</td>\n",
       "      <td>_derivationally_related_form</td>\n",
       "      <td>{}</td>\n",
       "      <td>0</td>\n",
       "    </tr>\n",
       "    <tr>\n",
       "      <th>1</th>\n",
       "      <td>10003120</td>\n",
       "      <td>_hypernym</td>\n",
       "      <td>{}</td>\n",
       "      <td>0</td>\n",
       "    </tr>\n",
       "    <tr>\n",
       "      <th>2</th>\n",
       "      <td>10016103</td>\n",
       "      <td>_derivationally_related_form</td>\n",
       "      <td>{}</td>\n",
       "      <td>0</td>\n",
       "    </tr>\n",
       "    <tr>\n",
       "      <th>3</th>\n",
       "      <td>1001689</td>\n",
       "      <td>_derivationally_related_form</td>\n",
       "      <td>{}</td>\n",
       "      <td>0</td>\n",
       "    </tr>\n",
       "    <tr>\n",
       "      <th>4</th>\n",
       "      <td>10017272</td>\n",
       "      <td>_derivationally_related_form</td>\n",
       "      <td>{}</td>\n",
       "      <td>0</td>\n",
       "    </tr>\n",
       "    <tr>\n",
       "      <th>...</th>\n",
       "      <td>...</td>\n",
       "      <td>...</td>\n",
       "      <td>...</td>\n",
       "      <td>...</td>\n",
       "    </tr>\n",
       "    <tr>\n",
       "      <th>5381</th>\n",
       "      <td>5510173</td>\n",
       "      <td>_derivationally_related_form</td>\n",
       "      <td>{}</td>\n",
       "      <td>0</td>\n",
       "    </tr>\n",
       "    <tr>\n",
       "      <th>5382</th>\n",
       "      <td>13035707</td>\n",
       "      <td>_member_meronym</td>\n",
       "      <td>{}</td>\n",
       "      <td>0</td>\n",
       "    </tr>\n",
       "    <tr>\n",
       "      <th>5383</th>\n",
       "      <td>14412564</td>\n",
       "      <td>_synset_domain_topic_of</td>\n",
       "      <td>{}</td>\n",
       "      <td>0</td>\n",
       "    </tr>\n",
       "    <tr>\n",
       "      <th>5384</th>\n",
       "      <td>8958334</td>\n",
       "      <td>_similar_to</td>\n",
       "      <td>{}</td>\n",
       "      <td>0</td>\n",
       "    </tr>\n",
       "    <tr>\n",
       "      <th>5385</th>\n",
       "      <td>6346461</td>\n",
       "      <td>_instance_hypernym</td>\n",
       "      <td>{}</td>\n",
       "      <td>0</td>\n",
       "    </tr>\n",
       "  </tbody>\n",
       "</table>\n",
       "<p>5386 rows × 4 columns</p>\n",
       "</div>"
      ],
      "text/plain": [
       "            e1                           rel  e2  n\n",
       "0     10000787  _derivationally_related_form  {}  0\n",
       "1     10003120                     _hypernym  {}  0\n",
       "2     10016103  _derivationally_related_form  {}  0\n",
       "3      1001689  _derivationally_related_form  {}  0\n",
       "4     10017272  _derivationally_related_form  {}  0\n",
       "...        ...                           ...  .. ..\n",
       "5381   5510173  _derivationally_related_form  {}  0\n",
       "5382  13035707               _member_meronym  {}  0\n",
       "5383  14412564       _synset_domain_topic_of  {}  0\n",
       "5384   8958334                   _similar_to  {}  0\n",
       "5385   6346461            _instance_hypernym  {}  0\n",
       "\n",
       "[5386 rows x 4 columns]"
      ]
     },
     "execution_count": 89,
     "metadata": {},
     "output_type": "execute_result"
    }
   ],
   "source": [
    "dev_obj.reset_index()"
   ]
  },
  {
   "cell_type": "code",
   "execution_count": 106,
   "metadata": {
    "ExecuteTime": {
     "end_time": "2020-03-31T20:27:58.066788Z",
     "start_time": "2020-03-31T20:27:57.957065Z"
    }
   },
   "outputs": [],
   "source": [
    "# save the transformation configuration \n",
    "with open(os.path.join(prefix, new_name, \"transform.config\"), \"w\") as f:\n",
    "    f.write(\n",
    "        \"Entities in the data set: {} \\n\".format(len(new_ents))\n",
    "    )\n",
    "    f.write(\n",
    "        \"Number of queries by type (fake, no, single, multiple) for object and subjest position: \\\n",
    "        \\n {} \\t {} \\t {} \\t {} \\t {} \\t {} \\t {} \\t {} \\n\".format(\n",
    "                *[len(x) for x in [F_obj, N_obj, S_obj, M_obj, F_subj, N_subj, S_subj, M_subj]]\n",
    "        )\n",
    "    )\n",
    "    f.write(\"List of removed {} enities (seed={}): {}\".format(len(ent_removed), seed, \" \".join(ent_removed)))"
   ]
  },
  {
   "cell_type": "code",
   "execution_count": 91,
   "metadata": {
    "ExecuteTime": {
     "end_time": "2020-03-31T20:05:31.874094Z",
     "start_time": "2020-03-31T20:05:31.692751Z"
    }
   },
   "outputs": [
    {
     "name": "stdout",
     "output_type": "stream",
     "text": [
      "260881\t_hypernym\t260622\n",
      "1332730\t_derivationally_related_form\t3122748\n",
      "6066555\t_derivationally_related_form\t645415\n",
      "9322930\t_instance_hypernym\t9360122\n",
      "7193596\t_derivationally_related_form\t784342\n",
      "1768969\t\n"
     ]
    }
   ],
   "source": [
    "train_str = \"\\n\".join([\"\\t\".join([str(e) for e in triple]) for triple in train.values])\n",
    "print(train_str[:200])\n",
    "with open(\"{}/{}/train.txt\".format(prefix, new_name), \"w\") as f:\n",
    "    f.write(train_str)"
   ]
  },
  {
   "cell_type": "code",
   "execution_count": 92,
   "metadata": {
    "ExecuteTime": {
     "end_time": "2020-03-31T20:05:32.159704Z",
     "start_time": "2020-03-31T20:05:32.110833Z"
    }
   },
   "outputs": [],
   "source": [
    "with open(\"{}/{}/valid_obj.txt\".format(prefix, new_name), \"w\") as f:\n",
    "    f.write(\"\\n\".join([\"\\t\".join((str(t[0]), str(t[1]), \" \".join(t[2]))) for t in dev_obj.reset_index()[['e1','rel','e2']].values]))\n",
    "\n",
    "with open(\"{}/{}/valid_subj.txt\".format(prefix, new_name), \"w\") as f:\n",
    "    f.write(\"\\n\".join([\"\\t\".join((\" \".join(t[2]), str(t[1]), str(t[0]))) for t in dev_subj.reset_index()[['e2','rel','e1']].values]))\n",
    "    \n",
    "with open(\"{}/{}/test_obj.txt\".format(prefix, new_name), \"w\") as f:\n",
    "    f.write(\"\\n\".join([\"\\t\".join((str(t[0]), str(t[1]), \" \".join(t[2]))) for t in test_obj.reset_index()[['e1','rel','e2']].values]))\n",
    "    \n",
    "with open(\"{}/{}/test_subj.txt\".format(prefix, new_name), \"w\") as f:\n",
    "    f.write(\"\\n\".join([\"\\t\".join((\" \".join(t[2]), str(t[1]), str(t[0]))) for t in test_subj.reset_index()[['e2','rel','e1']].values]))"
   ]
  },
  {
   "cell_type": "code",
   "execution_count": 93,
   "metadata": {
    "ExecuteTime": {
     "end_time": "2020-03-31T20:05:32.553804Z",
     "start_time": "2020-03-31T20:05:32.550537Z"
    }
   },
   "outputs": [
    {
     "data": {
      "text/plain": [
       "10034"
      ]
     },
     "execution_count": 93,
     "metadata": {},
     "output_type": "execute_result"
    }
   ],
   "source": [
    "len(test_obj) + len(test_subj)"
   ]
  },
  {
   "cell_type": "markdown",
   "metadata": {},
   "source": [
    "#### Save in the case format"
   ]
  },
  {
   "cell_type": "code",
   "execution_count": 94,
   "metadata": {
    "ExecuteTime": {
     "end_time": "2020-03-31T20:05:34.296446Z",
     "start_time": "2020-03-31T20:05:34.292957Z"
    }
   },
   "outputs": [],
   "source": [
    "# reconstruct train from triples with asnwers\n",
    "def reconstruct(dfr, dfl):\n",
    "    cols = ['e1', 'rel', 'e2']\n",
    "    triples = [(e1, rel, e2) for e1, rel, e2_multi in dfr[cols].values for e2 in e2_multi.split()]\n",
    "    triples += [(e1, rel, e2) for e1_multi, rel, e2  in dfl[cols].values for e1 in e1_multi.split()]\n",
    "    return set(triples)"
   ]
  },
  {
   "cell_type": "code",
   "execution_count": 95,
   "metadata": {
    "ExecuteTime": {
     "end_time": "2020-03-31T20:05:34.561645Z",
     "start_time": "2020-03-31T20:05:34.530685Z"
    }
   },
   "outputs": [
    {
     "data": {
      "text/html": [
       "<div>\n",
       "<style scoped>\n",
       "    .dataframe tbody tr th:only-of-type {\n",
       "        vertical-align: middle;\n",
       "    }\n",
       "\n",
       "    .dataframe tbody tr th {\n",
       "        vertical-align: top;\n",
       "    }\n",
       "\n",
       "    .dataframe thead th {\n",
       "        text-align: right;\n",
       "    }\n",
       "</style>\n",
       "<table border=\"1\" class=\"dataframe\">\n",
       "  <thead>\n",
       "    <tr style=\"text-align: right;\">\n",
       "      <th></th>\n",
       "      <th>e1</th>\n",
       "      <th>rel</th>\n",
       "      <th>e2</th>\n",
       "    </tr>\n",
       "  </thead>\n",
       "  <tbody>\n",
       "    <tr>\n",
       "      <th>5381</th>\n",
       "      <td>5510173</td>\n",
       "      <td>_derivationally_related_form</td>\n",
       "      <td></td>\n",
       "    </tr>\n",
       "    <tr>\n",
       "      <th>5382</th>\n",
       "      <td>13035707</td>\n",
       "      <td>_member_meronym</td>\n",
       "      <td></td>\n",
       "    </tr>\n",
       "    <tr>\n",
       "      <th>5383</th>\n",
       "      <td>14412564</td>\n",
       "      <td>_synset_domain_topic_of</td>\n",
       "      <td></td>\n",
       "    </tr>\n",
       "    <tr>\n",
       "      <th>5384</th>\n",
       "      <td>8958334</td>\n",
       "      <td>_similar_to</td>\n",
       "      <td></td>\n",
       "    </tr>\n",
       "    <tr>\n",
       "      <th>5385</th>\n",
       "      <td>6346461</td>\n",
       "      <td>_instance_hypernym</td>\n",
       "      <td></td>\n",
       "    </tr>\n",
       "  </tbody>\n",
       "</table>\n",
       "</div>"
      ],
      "text/plain": [
       "            e1                           rel e2\n",
       "5381   5510173  _derivationally_related_form   \n",
       "5382  13035707               _member_meronym   \n",
       "5383  14412564       _synset_domain_topic_of   \n",
       "5384   8958334                   _similar_to   \n",
       "5385   6346461            _instance_hypernym   "
      ]
     },
     "execution_count": 95,
     "metadata": {},
     "output_type": "execute_result"
    }
   ],
   "source": [
    "new_dev_e2 = pd.read_csv(open(\"{}/{}/valid_obj.txt\".format(prefix, new_name), \"r\"), sep='\\t', header=None, names=['e1', 'rel', 'e2']).fillna('')\n",
    "new_dev_e1 = pd.read_csv(open(\"{}/{}/valid_subj.txt\".format(prefix, new_name), \"r\"), sep='\\t', header=None, names=['e1', 'rel', 'e2']).fillna('')\n",
    "new_test_e2 = pd.read_csv(open(\"{}/{}/test_obj.txt\".format(prefix, new_name), \"r\"), sep='\\t', header=None, names=['e1', 'rel', 'e2']).fillna('')\n",
    "new_test_e1 = pd.read_csv(open(\"{}/{}/test_subj.txt\".format(prefix, new_name), \"r\"), sep='\\t', header=None, names=['e1', 'rel', 'e2']).fillna('')\n",
    "new_dev_e2.tail()"
   ]
  },
  {
   "cell_type": "code",
   "execution_count": 96,
   "metadata": {
    "ExecuteTime": {
     "end_time": "2020-03-31T20:05:34.785346Z",
     "start_time": "2020-03-31T20:05:34.774757Z"
    }
   },
   "outputs": [
    {
     "data": {
      "text/html": [
       "<div>\n",
       "<style scoped>\n",
       "    .dataframe tbody tr th:only-of-type {\n",
       "        vertical-align: middle;\n",
       "    }\n",
       "\n",
       "    .dataframe tbody tr th {\n",
       "        vertical-align: top;\n",
       "    }\n",
       "\n",
       "    .dataframe thead th {\n",
       "        text-align: right;\n",
       "    }\n",
       "</style>\n",
       "<table border=\"1\" class=\"dataframe\">\n",
       "  <thead>\n",
       "    <tr style=\"text-align: right;\">\n",
       "      <th></th>\n",
       "      <th>e1</th>\n",
       "      <th>rel</th>\n",
       "      <th>e2</th>\n",
       "    </tr>\n",
       "  </thead>\n",
       "  <tbody>\n",
       "    <tr>\n",
       "      <th>1403</th>\n",
       "      <td>10066732</td>\n",
       "      <td>_derivationally_related_form</td>\n",
       "      <td>672277 672433</td>\n",
       "    </tr>\n",
       "    <tr>\n",
       "      <th>1404</th>\n",
       "      <td>1012712</td>\n",
       "      <td>_derivationally_related_form</td>\n",
       "      <td>657260 483801 739662</td>\n",
       "    </tr>\n",
       "    <tr>\n",
       "      <th>1405</th>\n",
       "      <td>1056411</td>\n",
       "      <td>_derivationally_related_form</td>\n",
       "      <td>1862918 2652922</td>\n",
       "    </tr>\n",
       "    <tr>\n",
       "      <th>1406</th>\n",
       "      <td>10648237</td>\n",
       "      <td>_derivationally_related_form</td>\n",
       "      <td>2394662 2412175</td>\n",
       "    </tr>\n",
       "    <tr>\n",
       "      <th>1407</th>\n",
       "      <td>1134781</td>\n",
       "      <td>_derivationally_related_form</td>\n",
       "      <td>122954 122661</td>\n",
       "    </tr>\n",
       "    <tr>\n",
       "      <th>...</th>\n",
       "      <td>...</td>\n",
       "      <td>...</td>\n",
       "      <td>...</td>\n",
       "    </tr>\n",
       "    <tr>\n",
       "      <th>4091</th>\n",
       "      <td>2584004</td>\n",
       "      <td>_member_meronym</td>\n",
       "      <td>2584145</td>\n",
       "    </tr>\n",
       "    <tr>\n",
       "      <th>4092</th>\n",
       "      <td>2585050</td>\n",
       "      <td>_derivationally_related_form</td>\n",
       "      <td>9778783</td>\n",
       "    </tr>\n",
       "    <tr>\n",
       "      <th>4093</th>\n",
       "      <td>2585489</td>\n",
       "      <td>_derivationally_related_form</td>\n",
       "      <td>10379758</td>\n",
       "    </tr>\n",
       "    <tr>\n",
       "      <th>4094</th>\n",
       "      <td>2585489</td>\n",
       "      <td>_hypernym</td>\n",
       "      <td>1803003</td>\n",
       "    </tr>\n",
       "    <tr>\n",
       "      <th>4095</th>\n",
       "      <td>2586382</td>\n",
       "      <td>_member_meronym</td>\n",
       "      <td>2587761</td>\n",
       "    </tr>\n",
       "  </tbody>\n",
       "</table>\n",
       "<p>2693 rows × 3 columns</p>\n",
       "</div>"
      ],
      "text/plain": [
       "            e1                           rel                    e2\n",
       "1403  10066732  _derivationally_related_form         672277 672433\n",
       "1404   1012712  _derivationally_related_form  657260 483801 739662\n",
       "1405   1056411  _derivationally_related_form       1862918 2652922\n",
       "1406  10648237  _derivationally_related_form       2394662 2412175\n",
       "1407   1134781  _derivationally_related_form         122954 122661\n",
       "...        ...                           ...                   ...\n",
       "4091   2584004               _member_meronym               2584145\n",
       "4092   2585050  _derivationally_related_form               9778783\n",
       "4093   2585489  _derivationally_related_form              10379758\n",
       "4094   2585489                     _hypernym               1803003\n",
       "4095   2586382               _member_meronym               2587761\n",
       "\n",
       "[2693 rows x 3 columns]"
      ]
     },
     "execution_count": 96,
     "metadata": {},
     "output_type": "execute_result"
    }
   ],
   "source": [
    "new_dev_e2.loc[new_dev_e2.e2 != '']"
   ]
  },
  {
   "cell_type": "code",
   "execution_count": 97,
   "metadata": {
    "ExecuteTime": {
     "end_time": "2020-03-31T20:05:35.016677Z",
     "start_time": "2020-03-31T20:05:35.007084Z"
    }
   },
   "outputs": [
    {
     "data": {
      "text/html": [
       "<div>\n",
       "<style scoped>\n",
       "    .dataframe tbody tr th:only-of-type {\n",
       "        vertical-align: middle;\n",
       "    }\n",
       "\n",
       "    .dataframe tbody tr th {\n",
       "        vertical-align: top;\n",
       "    }\n",
       "\n",
       "    .dataframe thead th {\n",
       "        text-align: right;\n",
       "    }\n",
       "</style>\n",
       "<table border=\"1\" class=\"dataframe\">\n",
       "  <thead>\n",
       "    <tr style=\"text-align: right;\">\n",
       "      <th></th>\n",
       "      <th>e1</th>\n",
       "      <th>rel</th>\n",
       "      <th>e2</th>\n",
       "    </tr>\n",
       "  </thead>\n",
       "  <tbody>\n",
       "    <tr>\n",
       "      <th>0</th>\n",
       "      <td></td>\n",
       "      <td>_derivationally_related_form</td>\n",
       "      <td>10000787</td>\n",
       "    </tr>\n",
       "    <tr>\n",
       "      <th>1</th>\n",
       "      <td></td>\n",
       "      <td>_hypernym</td>\n",
       "      <td>10004804</td>\n",
       "    </tr>\n",
       "    <tr>\n",
       "      <th>2</th>\n",
       "      <td></td>\n",
       "      <td>_hypernym</td>\n",
       "      <td>1001294</td>\n",
       "    </tr>\n",
       "    <tr>\n",
       "      <th>3</th>\n",
       "      <td></td>\n",
       "      <td>_derivationally_related_form</td>\n",
       "      <td>10016103</td>\n",
       "    </tr>\n",
       "    <tr>\n",
       "      <th>4</th>\n",
       "      <td></td>\n",
       "      <td>_derivationally_related_form</td>\n",
       "      <td>1001689</td>\n",
       "    </tr>\n",
       "  </tbody>\n",
       "</table>\n",
       "</div>"
      ],
      "text/plain": [
       "  e1                           rel        e2\n",
       "0     _derivationally_related_form  10000787\n",
       "1                        _hypernym  10004804\n",
       "2                        _hypernym   1001294\n",
       "3     _derivationally_related_form  10016103\n",
       "4     _derivationally_related_form   1001689"
      ]
     },
     "execution_count": 97,
     "metadata": {},
     "output_type": "execute_result"
    }
   ],
   "source": [
    "new_dev_e1.head()"
   ]
  },
  {
   "cell_type": "code",
   "execution_count": 98,
   "metadata": {
    "ExecuteTime": {
     "end_time": "2020-03-31T20:05:35.332555Z",
     "start_time": "2020-03-31T20:05:35.297183Z"
    }
   },
   "outputs": [
    {
     "data": {
      "text/html": [
       "<div>\n",
       "<style scoped>\n",
       "    .dataframe tbody tr th:only-of-type {\n",
       "        vertical-align: middle;\n",
       "    }\n",
       "\n",
       "    .dataframe tbody tr th {\n",
       "        vertical-align: top;\n",
       "    }\n",
       "\n",
       "    .dataframe thead th {\n",
       "        text-align: right;\n",
       "    }\n",
       "</style>\n",
       "<table border=\"1\" class=\"dataframe\">\n",
       "  <thead>\n",
       "    <tr style=\"text-align: right;\">\n",
       "      <th></th>\n",
       "      <th>e1</th>\n",
       "      <th>rel</th>\n",
       "      <th>e2</th>\n",
       "    </tr>\n",
       "  </thead>\n",
       "  <tbody>\n",
       "  </tbody>\n",
       "</table>\n",
       "</div>"
      ],
      "text/plain": [
       "Empty DataFrame\n",
       "Columns: [e1, rel, e2]\n",
       "Index: []"
      ]
     },
     "execution_count": 98,
     "metadata": {},
     "output_type": "execute_result"
    }
   ],
   "source": [
    "dev_cases = pd.DataFrame(data=reconstruct(new_dev_e2, new_dev_e1), columns=['e1','rel', 'e2'])\n",
    "test_cases = pd.DataFrame(data=reconstruct(new_test_e2, new_test_e1), columns=['e1','rel', 'e2'])\n",
    "dev_cases.loc[(dev_cases.e1 == '') | (dev_cases.e2 == '')]"
   ]
  },
  {
   "cell_type": "code",
   "execution_count": 99,
   "metadata": {
    "ExecuteTime": {
     "end_time": "2020-03-31T20:05:35.665516Z",
     "start_time": "2020-03-31T20:05:35.661285Z"
    }
   },
   "outputs": [
    {
     "data": {
      "text/plain": [
       "0        1844859\n",
       "1         134564\n",
       "2        2246686\n",
       "3         238867\n",
       "4        1949674\n",
       "          ...   \n",
       "5711     1708778\n",
       "5712    11814584\n",
       "5713     1452593\n",
       "5714    12476510\n",
       "5715     4913839\n",
       "Name: e1, Length: 5716, dtype: object"
      ]
     },
     "execution_count": 99,
     "metadata": {},
     "output_type": "execute_result"
    }
   ],
   "source": [
    "dev_cases.e1"
   ]
  },
  {
   "cell_type": "code",
   "execution_count": 100,
   "metadata": {
    "ExecuteTime": {
     "end_time": "2020-03-31T20:05:36.314513Z",
     "start_time": "2020-03-31T20:05:36.264092Z"
    }
   },
   "outputs": [],
   "source": [
    "dev_cases.to_csv(open(\"{}/{}/valid.txt\".format(prefix, new_name), \"w\"), sep=\"\\t\", index=None, header=None)"
   ]
  },
  {
   "cell_type": "code",
   "execution_count": 101,
   "metadata": {
    "ExecuteTime": {
     "end_time": "2020-03-31T20:05:37.142489Z",
     "start_time": "2020-03-31T20:05:37.122457Z"
    }
   },
   "outputs": [],
   "source": [
    "test_cases.to_csv(open(\"{}/{}/test.txt\".format(prefix, new_name), \"w\"), sep=\"\\t\", index=None, header=None)"
   ]
  },
  {
   "cell_type": "code",
   "execution_count": 102,
   "metadata": {
    "ExecuteTime": {
     "end_time": "2020-03-31T20:05:37.646253Z",
     "start_time": "2020-03-31T20:05:37.637589Z"
    }
   },
   "outputs": [
    {
     "data": {
      "text/html": [
       "<div>\n",
       "<style scoped>\n",
       "    .dataframe tbody tr th:only-of-type {\n",
       "        vertical-align: middle;\n",
       "    }\n",
       "\n",
       "    .dataframe tbody tr th {\n",
       "        vertical-align: top;\n",
       "    }\n",
       "\n",
       "    .dataframe thead th {\n",
       "        text-align: right;\n",
       "    }\n",
       "</style>\n",
       "<table border=\"1\" class=\"dataframe\">\n",
       "  <thead>\n",
       "    <tr style=\"text-align: right;\">\n",
       "      <th></th>\n",
       "      <th>e1</th>\n",
       "      <th>e2</th>\n",
       "    </tr>\n",
       "    <tr>\n",
       "      <th>rel</th>\n",
       "      <th></th>\n",
       "      <th></th>\n",
       "    </tr>\n",
       "  </thead>\n",
       "  <tbody>\n",
       "    <tr>\n",
       "      <th>_hypernym</th>\n",
       "      <td>2312</td>\n",
       "      <td>2312</td>\n",
       "    </tr>\n",
       "    <tr>\n",
       "      <th>_derivationally_related_form</th>\n",
       "      <td>1876</td>\n",
       "      <td>1876</td>\n",
       "    </tr>\n",
       "    <tr>\n",
       "      <th>_member_meronym</th>\n",
       "      <td>883</td>\n",
       "      <td>883</td>\n",
       "    </tr>\n",
       "    <tr>\n",
       "      <th>_also_see</th>\n",
       "      <td>146</td>\n",
       "      <td>146</td>\n",
       "    </tr>\n",
       "    <tr>\n",
       "      <th>_instance_hypernym</th>\n",
       "      <td>146</td>\n",
       "      <td>146</td>\n",
       "    </tr>\n",
       "  </tbody>\n",
       "</table>\n",
       "</div>"
      ],
      "text/plain": [
       "                                e1    e2\n",
       "rel                                     \n",
       "_hypernym                     2312  2312\n",
       "_derivationally_related_form  1876  1876\n",
       "_member_meronym                883   883\n",
       "_also_see                      146   146\n",
       "_instance_hypernym             146   146"
      ]
     },
     "execution_count": 102,
     "metadata": {},
     "output_type": "execute_result"
    }
   ],
   "source": [
    "frrel = dev_cases.groupby('rel').count().sort_values('e1', ascending=False)\n",
    "frrel.head()"
   ]
  },
  {
   "cell_type": "code",
   "execution_count": 105,
   "metadata": {
    "ExecuteTime": {
     "end_time": "2020-03-31T20:05:50.975246Z",
     "start_time": "2020-03-31T20:05:50.811467Z"
    }
   },
   "outputs": [
    {
     "data": {
      "text/plain": [
       "<matplotlib.axes._subplots.AxesSubplot at 0x7fd83f2b9f60>"
      ]
     },
     "execution_count": 105,
     "metadata": {},
     "output_type": "execute_result"
    },
    {
     "data": {
      "image/png": "[encoded data removed]",
      "text/plain": [
       "<Figure size 432x288 with 1 Axes>"
      ]
     },
     "metadata": {
      "needs_background": "light"
     },
     "output_type": "display_data"
    }
   ],
   "source": [
    "frrel.e1.hist(bins=10)#bins=[0,10,50,100,500,3000])"
   ]
  },
  {
   "cell_type": "code",
   "execution_count": 104,
   "metadata": {
    "ExecuteTime": {
     "end_time": "2020-03-31T20:05:38.691295Z",
     "start_time": "2020-03-31T20:05:38.687593Z"
    }
   },
   "outputs": [
    {
     "data": {
      "text/plain": [
       "['_hypernym',\n",
       " '_derivationally_related_form',\n",
       " '_member_meronym',\n",
       " '_also_see',\n",
       " '_instance_hypernym',\n",
       " '_synset_domain_topic_of',\n",
       " '_has_part',\n",
       " '_verb_group',\n",
       " '_member_of_domain_region',\n",
       " '_member_of_domain_usage',\n",
       " '_similar_to']"
      ]
     },
     "execution_count": 104,
     "metadata": {},
     "output_type": "execute_result"
    }
   ],
   "source": [
    "frrel.index.to_list()"
   ]
  },
  {
   "cell_type": "markdown",
   "metadata": {},
   "source": [
    "# Compare to the published version"
   ]
  },
  {
   "cell_type": "markdown",
   "metadata": {},
   "source": [
    "#### Analyse input data for the FB13k-237 (wrangle_KG.py output, `e1rel_to_e2_train.json`) and the FB13k-QAQ (`train.txt`)"
   ]
  },
  {
   "cell_type": "code",
   "execution_count": 685,
   "metadata": {
    "ExecuteTime": {
     "end_time": "2020-03-12T15:31:42.974122Z",
     "start_time": "2020-03-12T15:31:39.456444Z"
    }
   },
   "outputs": [],
   "source": [
    "## load FB15k-237 used for the first genereation process (the preprocessed .jsons)\n",
    "## QUERY FORMAT\n",
    "train_prep, eval_prep = [], []\n",
    "idx = 0\n",
    "for var, name in [(train_prep, 'train'), (eval_prep, 'ranking_dev'), (eval_prep, 'ranking_test')]:\n",
    "    with open(\"/mounts/work/speranskaya/data/FB15k-237/e1rel_to_e2_%s.json\"%name) as f:\n",
    "        test_triples = f.readlines()\n",
    "    for triple in test_triples:\n",
    "        row = json.loads(triple)\n",
    "        row['name'] = name\n",
    "        row['id'] = idx\n",
    "        idx +=1\n",
    "        var.append(row)\n",
    "#train_prep, eval_prep = pd.DataFrame(train_prep), pd.DataFrame(eval_prep)"
   ]
  },
  {
   "cell_type": "code",
   "execution_count": 686,
   "metadata": {
    "ExecuteTime": {
     "end_time": "2020-03-12T15:31:44.994800Z",
     "start_time": "2020-03-12T15:31:44.990893Z"
    }
   },
   "outputs": [
    {
     "name": "stdout",
     "output_type": "stream",
     "text": [
      "272115 38001\n"
     ]
    }
   ],
   "source": [
    "print(len(train_prep), len(eval_prep))"
   ]
  },
  {
   "cell_type": "code",
   "execution_count": null,
   "metadata": {},
   "outputs": [],
   "source": [
    "entities"
   ]
  },
  {
   "cell_type": "code",
   "execution_count": 665,
   "metadata": {
    "ExecuteTime": {
     "end_time": "2020-03-12T13:46:57.745373Z",
     "start_time": "2020-03-12T13:46:57.501504Z"
    }
   },
   "outputs": [],
   "source": [
    "## load FB15k-237 used for the second genereation process (the original txts)\n",
    "## QUERY FORMAT\n",
    "dataset = 'FB15k-237'\n",
    "data = []\n",
    "for i, name in enumerate(['train', 'valid', 'test']):\n",
    "    data.append(pd.read_csv(sep=\"\\t\", filepath_or_buffer=\"{}/{}/{}.txt\".format(prefix, dataset, name), \n",
    "                            header=None, names=['e1', 'rel', 'e2']))"
   ]
  },
  {
   "cell_type": "code",
   "execution_count": 695,
   "metadata": {
    "ExecuteTime": {
     "end_time": "2020-03-12T15:54:58.059318Z",
     "start_time": "2020-03-12T15:54:57.963716Z"
    }
   },
   "outputs": [
    {
     "data": {
      "text/plain": [
       "(272115, 38001)"
      ]
     },
     "execution_count": 695,
     "metadata": {},
     "output_type": "execute_result"
    }
   ],
   "source": [
    "train_init = data[0].astype(str)\n",
    "eval_init = pd.concat(data[1:3]).astype(str)\n",
    "len(train_init), len(eval_init)"
   ]
  },
  {
   "cell_type": "code",
   "execution_count": 690,
   "metadata": {
    "ExecuteTime": {
     "end_time": "2020-03-12T15:51:08.836306Z",
     "start_time": "2020-03-12T15:51:08.832906Z"
    }
   },
   "outputs": [
    {
     "data": {
      "text/plain": [
       "579300"
      ]
     },
     "execution_count": 690,
     "metadata": {},
     "output_type": "execute_result"
    }
   ],
   "source": [
    "N = (len(train_init)+ len(eval_init)) * 2  # amount of facts per position\n",
    "N"
   ]
  },
  {
   "cell_type": "markdown",
   "metadata": {},
   "source": [
    "--> double number of queries in the first edition of the dataset\n",
    "\n",
    "- is a logical consequence of a higher number of removed entities\n",
    "\n",
    "? now removing too much entities results in a overwhelming number of No-answer queries. Error in generation no/single/mult statistics in one of the processes? **IMPOSSIBLE SINCE THIS IS NOT PROCESSED DATA**\n",
    "\n",
    "? why are there non-existant entities in the removed list from the first edition?"
   ]
  },
  {
   "cell_type": "markdown",
   "metadata": {},
   "source": [
    "#### Analyse the resulting datasets FB13k-237 (`train.txt` etc.) and the FB13k-QAQ (`train.txt` etc.)"
   ]
  },
  {
   "cell_type": "code",
   "execution_count": 691,
   "metadata": {
    "ExecuteTime": {
     "end_time": "2020-03-12T15:51:57.195043Z",
     "start_time": "2020-03-12T15:51:56.638534Z"
    }
   },
   "outputs": [],
   "source": [
    "train_pub = pd.read_csv(open(os.path.join(prefix, \"FB13k-237/train.txt\"), \"r\"), header=None, sep='\\t', names=['e1','rel','e2'])\n",
    "train_pub['triple'] = train_pub.e1 + '\\t' + train_pub.rel + '\\t' + train_pub.e2\n",
    "dev_pub = pd.read_csv(open(os.path.join(prefix, \"FB13k-237/valid.txt\"), \"r\"), header=None, sep='\\t', names=['e1','rel','e2'])\n",
    "dev_pub['triple'] = dev_pub.e1 + '\\t' + dev_pub.rel + '\\t' + dev_pub.e2\n",
    "test_pub = pd.read_csv(open(os.path.join(prefix, \"FB13k-237/test.txt\"), \"r\"), header=None, sep='\\t', names=['e1','rel','e2'])\n",
    "test_pub['triple'] = test_pub.e1 + '\\t' + test_pub.rel + '\\t' + test_pub.e2"
   ]
  },
  {
   "cell_type": "code",
   "execution_count": 692,
   "metadata": {
    "ExecuteTime": {
     "end_time": "2020-03-12T15:51:57.200027Z",
     "start_time": "2020-03-12T15:51:57.196805Z"
    }
   },
   "outputs": [
    {
     "data": {
      "text/plain": [
       "(213538, 22256, 22185)"
      ]
     },
     "execution_count": 692,
     "metadata": {},
     "output_type": "execute_result"
    }
   ],
   "source": [
    "len(train_pub), len(dev_pub), len(test_pub)"
   ]
  },
  {
   "cell_type": "code",
   "execution_count": 693,
   "metadata": {
    "ExecuteTime": {
     "end_time": "2020-03-12T15:51:57.925854Z",
     "start_time": "2020-03-12T15:51:57.917799Z"
    }
   },
   "outputs": [
    {
     "data": {
      "text/html": [
       "<div>\n",
       "<style scoped>\n",
       "    .dataframe tbody tr th:only-of-type {\n",
       "        vertical-align: middle;\n",
       "    }\n",
       "\n",
       "    .dataframe tbody tr th {\n",
       "        vertical-align: top;\n",
       "    }\n",
       "\n",
       "    .dataframe thead th {\n",
       "        text-align: right;\n",
       "    }\n",
       "</style>\n",
       "<table border=\"1\" class=\"dataframe\">\n",
       "  <thead>\n",
       "    <tr style=\"text-align: right;\">\n",
       "      <th></th>\n",
       "      <th>e1</th>\n",
       "      <th>rel</th>\n",
       "      <th>e2</th>\n",
       "      <th>triple</th>\n",
       "    </tr>\n",
       "  </thead>\n",
       "  <tbody>\n",
       "    <tr>\n",
       "      <th>0</th>\n",
       "      <td>/m/014635</td>\n",
       "      <td>/people/person/spouse_s./people/marriage/type_...</td>\n",
       "      <td>/m/04ztj</td>\n",
       "      <td>/m/014635\\t/people/person/spouse_s./people/mar...</td>\n",
       "    </tr>\n",
       "    <tr>\n",
       "      <th>1</th>\n",
       "      <td>/m/01fs__</td>\n",
       "      <td>/tv/tv_program/country_of_origin</td>\n",
       "      <td>/m/09c7w0</td>\n",
       "      <td>/m/01fs__\\t/tv/tv_program/country_of_origin\\t/...</td>\n",
       "    </tr>\n",
       "    <tr>\n",
       "      <th>2</th>\n",
       "      <td>/m/0d_84</td>\n",
       "      <td>/people/person/places_lived./people/place_live...</td>\n",
       "      <td>/m/05fjy</td>\n",
       "      <td>/m/0d_84\\t/people/person/places_lived./people/...</td>\n",
       "    </tr>\n",
       "    <tr>\n",
       "      <th>3</th>\n",
       "      <td>/m/025mb9</td>\n",
       "      <td>/award/award_category/winners./award/award_hon...</td>\n",
       "      <td>/m/02dbp7</td>\n",
       "      <td>/m/025mb9\\t/award/award_category/winners./awar...</td>\n",
       "    </tr>\n",
       "    <tr>\n",
       "      <th>4</th>\n",
       "      <td>/m/0d063v</td>\n",
       "      <td>/film/film_subject/films</td>\n",
       "      <td>/m/024l2y</td>\n",
       "      <td>/m/0d063v\\t/film/film_subject/films\\t/m/024l2y</td>\n",
       "    </tr>\n",
       "  </tbody>\n",
       "</table>\n",
       "</div>"
      ],
      "text/plain": [
       "          e1                                                rel         e2  \\\n",
       "0  /m/014635  /people/person/spouse_s./people/marriage/type_...   /m/04ztj   \n",
       "1  /m/01fs__                   /tv/tv_program/country_of_origin  /m/09c7w0   \n",
       "2   /m/0d_84  /people/person/places_lived./people/place_live...   /m/05fjy   \n",
       "3  /m/025mb9  /award/award_category/winners./award/award_hon...  /m/02dbp7   \n",
       "4  /m/0d063v                           /film/film_subject/films  /m/024l2y   \n",
       "\n",
       "                                              triple  \n",
       "0  /m/014635\\t/people/person/spouse_s./people/mar...  \n",
       "1  /m/01fs__\\t/tv/tv_program/country_of_origin\\t/...  \n",
       "2  /m/0d_84\\t/people/person/places_lived./people/...  \n",
       "3  /m/025mb9\\t/award/award_category/winners./awar...  \n",
       "4     /m/0d063v\\t/film/film_subject/films\\t/m/024l2y  "
      ]
     },
     "execution_count": 693,
     "metadata": {},
     "output_type": "execute_result"
    }
   ],
   "source": [
    "train_pub.head()"
   ]
  },
  {
   "cell_type": "code",
   "execution_count": 6,
   "metadata": {
    "ExecuteTime": {
     "end_time": "2020-03-04T17:38:53.015871Z",
     "start_time": "2020-03-04T17:38:52.706025Z"
    }
   },
   "outputs": [
    {
     "data": {
      "text/html": [
       "<div>\n",
       "<style scoped>\n",
       "    .dataframe tbody tr th:only-of-type {\n",
       "        vertical-align: middle;\n",
       "    }\n",
       "\n",
       "    .dataframe tbody tr th {\n",
       "        vertical-align: top;\n",
       "    }\n",
       "\n",
       "    .dataframe thead th {\n",
       "        text-align: right;\n",
       "    }\n",
       "</style>\n",
       "<table border=\"1\" class=\"dataframe\">\n",
       "  <thead>\n",
       "    <tr style=\"text-align: right;\">\n",
       "      <th></th>\n",
       "      <th>e1</th>\n",
       "      <th>rel</th>\n",
       "      <th>e2</th>\n",
       "      <th>triple</th>\n",
       "    </tr>\n",
       "  </thead>\n",
       "  <tbody>\n",
       "    <tr>\n",
       "      <th>0</th>\n",
       "      <td>/m/027rn</td>\n",
       "      <td>/location/country/form_of_government</td>\n",
       "      <td>/m/06cx9</td>\n",
       "      <td>/m/027rn\\t/location/country/form_of_government...</td>\n",
       "    </tr>\n",
       "    <tr>\n",
       "      <th>1</th>\n",
       "      <td>/m/017dcd</td>\n",
       "      <td>/tv/tv_program/regular_cast./tv/regular_tv_app...</td>\n",
       "      <td>/m/06v8s0</td>\n",
       "      <td>/m/017dcd\\t/tv/tv_program/regular_cast./tv/reg...</td>\n",
       "    </tr>\n",
       "    <tr>\n",
       "      <th>2</th>\n",
       "      <td>/m/07s9rl0</td>\n",
       "      <td>/media_common/netflix_genre/titles</td>\n",
       "      <td>/m/0170z3</td>\n",
       "      <td>/m/07s9rl0\\t/media_common/netflix_genre/titles...</td>\n",
       "    </tr>\n",
       "    <tr>\n",
       "      <th>3</th>\n",
       "      <td>/m/01sl1q</td>\n",
       "      <td>/award/award_winner/awards_won./award/award_ho...</td>\n",
       "      <td>/m/044mz_</td>\n",
       "      <td>/m/01sl1q\\t/award/award_winner/awards_won./awa...</td>\n",
       "    </tr>\n",
       "    <tr>\n",
       "      <th>4</th>\n",
       "      <td>/m/0cnk2q</td>\n",
       "      <td>/soccer/football_team/current_roster./sports/s...</td>\n",
       "      <td>/m/02nzb8</td>\n",
       "      <td>/m/0cnk2q\\t/soccer/football_team/current_roste...</td>\n",
       "    </tr>\n",
       "  </tbody>\n",
       "</table>\n",
       "</div>"
      ],
      "text/plain": [
       "           e1                                                rel         e2  \\\n",
       "0    /m/027rn               /location/country/form_of_government   /m/06cx9   \n",
       "1   /m/017dcd  /tv/tv_program/regular_cast./tv/regular_tv_app...  /m/06v8s0   \n",
       "2  /m/07s9rl0                 /media_common/netflix_genre/titles  /m/0170z3   \n",
       "3   /m/01sl1q  /award/award_winner/awards_won./award/award_ho...  /m/044mz_   \n",
       "4   /m/0cnk2q  /soccer/football_team/current_roster./sports/s...  /m/02nzb8   \n",
       "\n",
       "                                              triple  \n",
       "0  /m/027rn\\t/location/country/form_of_government...  \n",
       "1  /m/017dcd\\t/tv/tv_program/regular_cast./tv/reg...  \n",
       "2  /m/07s9rl0\\t/media_common/netflix_genre/titles...  \n",
       "3  /m/01sl1q\\t/award/award_winner/awards_won./awa...  \n",
       "4  /m/0cnk2q\\t/soccer/football_team/current_roste...  "
      ]
     },
     "execution_count": 6,
     "metadata": {},
     "output_type": "execute_result"
    }
   ],
   "source": [
    "train_orig = data[0]\n",
    "train_orig['triple'] = train_orig.e1 + '\\t' + train_orig.rel + '\\t' + train_orig.e2\n",
    "train_orig.head()"
   ]
  },
  {
   "cell_type": "code",
   "execution_count": 674,
   "metadata": {
    "ExecuteTime": {
     "end_time": "2020-03-12T14:06:54.741413Z",
     "start_time": "2020-03-12T14:06:54.738267Z"
    }
   },
   "outputs": [
    {
     "data": {
      "text/plain": [
       "272115"
      ]
     },
     "execution_count": 674,
     "metadata": {},
     "output_type": "execute_result"
    }
   ],
   "source": [
    "len(train_orig)"
   ]
  },
  {
   "cell_type": "code",
   "execution_count": 7,
   "metadata": {
    "ExecuteTime": {
     "end_time": "2020-03-04T17:38:53.292827Z",
     "start_time": "2020-03-04T17:38:53.203914Z"
    }
   },
   "outputs": [
    {
     "data": {
      "text/html": [
       "<div>\n",
       "<style scoped>\n",
       "    .dataframe tbody tr th:only-of-type {\n",
       "        vertical-align: middle;\n",
       "    }\n",
       "\n",
       "    .dataframe tbody tr th {\n",
       "        vertical-align: top;\n",
       "    }\n",
       "\n",
       "    .dataframe thead th {\n",
       "        text-align: right;\n",
       "    }\n",
       "</style>\n",
       "<table border=\"1\" class=\"dataframe\">\n",
       "  <thead>\n",
       "    <tr style=\"text-align: right;\">\n",
       "      <th></th>\n",
       "      <th>e1</th>\n",
       "      <th>rel</th>\n",
       "      <th>e2</th>\n",
       "      <th>triple</th>\n",
       "    </tr>\n",
       "  </thead>\n",
       "  <tbody>\n",
       "    <tr>\n",
       "      <th>0</th>\n",
       "      <td>/m/07pd_j</td>\n",
       "      <td>/film/film/genre</td>\n",
       "      <td>/m/02l7c8</td>\n",
       "      <td>/m/07pd_j\\t/film/film/genre\\t/m/02l7c8</td>\n",
       "    </tr>\n",
       "    <tr>\n",
       "      <th>1</th>\n",
       "      <td>/m/06wxw</td>\n",
       "      <td>/location/location/time_zones</td>\n",
       "      <td>/m/02fqwt</td>\n",
       "      <td>/m/06wxw\\t/location/location/time_zones\\t/m/02...</td>\n",
       "    </tr>\n",
       "    <tr>\n",
       "      <th>2</th>\n",
       "      <td>/m/01t94_1</td>\n",
       "      <td>/people/person/spouse_s./people/marriage/type_...</td>\n",
       "      <td>/m/04ztj</td>\n",
       "      <td>/m/01t94_1\\t/people/person/spouse_s./people/ma...</td>\n",
       "    </tr>\n",
       "    <tr>\n",
       "      <th>3</th>\n",
       "      <td>/m/02xcb6n</td>\n",
       "      <td>/award/award_category/winners./award/award_hon...</td>\n",
       "      <td>/m/04x4s2</td>\n",
       "      <td>/m/02xcb6n\\t/award/award_category/winners./awa...</td>\n",
       "    </tr>\n",
       "    <tr>\n",
       "      <th>4</th>\n",
       "      <td>/m/07f_7h</td>\n",
       "      <td>/film/film/release_date_s./film/film_regional_...</td>\n",
       "      <td>/m/04gzd</td>\n",
       "      <td>/m/07f_7h\\t/film/film/release_date_s./film/fil...</td>\n",
       "    </tr>\n",
       "  </tbody>\n",
       "</table>\n",
       "</div>"
      ],
      "text/plain": [
       "           e1                                                rel         e2  \\\n",
       "0   /m/07pd_j                                   /film/film/genre  /m/02l7c8   \n",
       "1    /m/06wxw                      /location/location/time_zones  /m/02fqwt   \n",
       "2  /m/01t94_1  /people/person/spouse_s./people/marriage/type_...   /m/04ztj   \n",
       "3  /m/02xcb6n  /award/award_category/winners./award/award_hon...  /m/04x4s2   \n",
       "4   /m/07f_7h  /film/film/release_date_s./film/film_regional_...   /m/04gzd   \n",
       "\n",
       "                                              triple  \n",
       "0             /m/07pd_j\\t/film/film/genre\\t/m/02l7c8  \n",
       "1  /m/06wxw\\t/location/location/time_zones\\t/m/02...  \n",
       "2  /m/01t94_1\\t/people/person/spouse_s./people/ma...  \n",
       "3  /m/02xcb6n\\t/award/award_category/winners./awa...  \n",
       "4  /m/07f_7h\\t/film/film/release_date_s./film/fil...  "
      ]
     },
     "execution_count": 7,
     "metadata": {},
     "output_type": "execute_result"
    }
   ],
   "source": [
    "eval_orig = pd.concat(data[1:])\n",
    "eval_orig['triple'] = eval_orig.e1 + '\\t' + eval_orig.rel + '\\t' + eval_orig.e2\n",
    "eval_orig.head()"
   ]
  },
  {
   "cell_type": "code",
   "execution_count": 8,
   "metadata": {
    "ExecuteTime": {
     "end_time": "2020-03-04T17:38:54.341904Z",
     "start_time": "2020-03-04T17:38:53.625148Z"
    }
   },
   "outputs": [
    {
     "data": {
      "text/html": [
       "<div>\n",
       "<style scoped>\n",
       "    .dataframe tbody tr th:only-of-type {\n",
       "        vertical-align: middle;\n",
       "    }\n",
       "\n",
       "    .dataframe tbody tr th {\n",
       "        vertical-align: top;\n",
       "    }\n",
       "\n",
       "    .dataframe thead th {\n",
       "        text-align: right;\n",
       "    }\n",
       "</style>\n",
       "<table border=\"1\" class=\"dataframe\">\n",
       "  <thead>\n",
       "    <tr style=\"text-align: right;\">\n",
       "      <th></th>\n",
       "      <th>e1</th>\n",
       "      <th>rel</th>\n",
       "      <th>e2</th>\n",
       "      <th>triple</th>\n",
       "    </tr>\n",
       "  </thead>\n",
       "  <tbody>\n",
       "    <tr>\n",
       "      <th>0</th>\n",
       "      <td>/m/027rn</td>\n",
       "      <td>/location/country/form_of_government</td>\n",
       "      <td>/m/06cx9</td>\n",
       "      <td>/m/027rn\\t/location/country/form_of_government...</td>\n",
       "    </tr>\n",
       "    <tr>\n",
       "      <th>1</th>\n",
       "      <td>/m/017dcd</td>\n",
       "      <td>/tv/tv_program/regular_cast./tv/regular_tv_app...</td>\n",
       "      <td>/m/06v8s0</td>\n",
       "      <td>/m/017dcd\\t/tv/tv_program/regular_cast./tv/reg...</td>\n",
       "    </tr>\n",
       "    <tr>\n",
       "      <th>2</th>\n",
       "      <td>/m/07s9rl0</td>\n",
       "      <td>/media_common/netflix_genre/titles</td>\n",
       "      <td>/m/0170z3</td>\n",
       "      <td>/m/07s9rl0\\t/media_common/netflix_genre/titles...</td>\n",
       "    </tr>\n",
       "    <tr>\n",
       "      <th>3</th>\n",
       "      <td>/m/01sl1q</td>\n",
       "      <td>/award/award_winner/awards_won./award/award_ho...</td>\n",
       "      <td>/m/044mz_</td>\n",
       "      <td>/m/01sl1q\\t/award/award_winner/awards_won./awa...</td>\n",
       "    </tr>\n",
       "    <tr>\n",
       "      <th>4</th>\n",
       "      <td>/m/0cnk2q</td>\n",
       "      <td>/soccer/football_team/current_roster./sports/s...</td>\n",
       "      <td>/m/02nzb8</td>\n",
       "      <td>/m/0cnk2q\\t/soccer/football_team/current_roste...</td>\n",
       "    </tr>\n",
       "  </tbody>\n",
       "</table>\n",
       "</div>"
      ],
      "text/plain": [
       "           e1                                                rel         e2  \\\n",
       "0    /m/027rn               /location/country/form_of_government   /m/06cx9   \n",
       "1   /m/017dcd  /tv/tv_program/regular_cast./tv/regular_tv_app...  /m/06v8s0   \n",
       "2  /m/07s9rl0                 /media_common/netflix_genre/titles  /m/0170z3   \n",
       "3   /m/01sl1q  /award/award_winner/awards_won./award/award_ho...  /m/044mz_   \n",
       "4   /m/0cnk2q  /soccer/football_team/current_roster./sports/s...  /m/02nzb8   \n",
       "\n",
       "                                              triple  \n",
       "0  /m/027rn\\t/location/country/form_of_government...  \n",
       "1  /m/017dcd\\t/tv/tv_program/regular_cast./tv/reg...  \n",
       "2  /m/07s9rl0\\t/media_common/netflix_genre/titles...  \n",
       "3  /m/01sl1q\\t/award/award_winner/awards_won./awa...  \n",
       "4  /m/0cnk2q\\t/soccer/football_team/current_roste...  "
      ]
     },
     "execution_count": 8,
     "metadata": {},
     "output_type": "execute_result"
    }
   ],
   "source": [
    "train_new = pd.read_csv(open(os.path.join(prefix, \"FB13k-QAQ/train.txt\"), \"r\"), header=None, sep='\\t', names=['e1','rel','e2'])\n",
    "train_new['triple'] = train_new.e1 + '\\t' + train_new.rel + '\\t' + train_new.e2\n",
    "dev_new = pd.read_csv(open(os.path.join(prefix, \"FB13k-QAQ/valid.txt\"), \"r\"), header=None, sep='\\t', names=['e1','rel','e2'])\n",
    "dev_new['triple'] = dev_new.e1 + '\\t' + dev_new.rel + '\\t' + dev_new.e2\n",
    "test_new = pd.read_csv(open(os.path.join(prefix, \"FB13k-QAQ/test.txt\"), \"r\"), header=None, sep='\\t', names=['e1','rel','e2'])\n",
    "test_new['triple'] = test_new.e1 + '\\t' + test_new.rel + '\\t' + test_new.e2\n",
    "train_new.head()"
   ]
  },
  {
   "cell_type": "code",
   "execution_count": 675,
   "metadata": {
    "ExecuteTime": {
     "end_time": "2020-03-12T14:07:02.868074Z",
     "start_time": "2020-03-12T14:07:02.864901Z"
    }
   },
   "outputs": [
    {
     "data": {
      "text/plain": [
       "254070"
      ]
     },
     "execution_count": 675,
     "metadata": {},
     "output_type": "execute_result"
    }
   ],
   "source": [
    "len(train_new)"
   ]
  },
  {
   "cell_type": "code",
   "execution_count": 9,
   "metadata": {
    "ExecuteTime": {
     "end_time": "2020-03-04T17:38:54.346692Z",
     "start_time": "2020-03-04T17:38:54.343280Z"
    }
   },
   "outputs": [],
   "source": [
    "def get_ents_from_facts(facts):\n",
    "    return set(pd.concat([facts.e1, facts.e2]).values)\n",
    "\n",
    "def get_ents_from_queries(queries, mode):\n",
    "    # mode 1 or 2 for subject and object position queries\n",
    "    query_ents = set(queries['e{}'.format(3 - mode)].values)    \n",
    "    answer_ents = {x for ans_set in queries['e{}'.format(mode)] for x in ans_set.split()}\n",
    "    return query_ents.union(answer_ents)    "
   ]
  },
  {
   "cell_type": "code",
   "execution_count": 11,
   "metadata": {
    "ExecuteTime": {
     "end_time": "2020-03-04T17:39:14.005769Z",
     "start_time": "2020-03-04T17:39:13.980722Z"
    }
   },
   "outputs": [],
   "source": [
    "eval_pub = pd.concat([dev_pub, test_pub])\n",
    "eval_new = pd.concat([dev_new, test_new])"
   ]
  },
  {
   "cell_type": "code",
   "execution_count": 19,
   "metadata": {
    "ExecuteTime": {
     "end_time": "2020-03-04T17:39:58.222214Z",
     "start_time": "2020-03-04T17:39:58.208811Z"
    }
   },
   "outputs": [
    {
     "data": {
      "text/html": [
       "<div>\n",
       "<style scoped>\n",
       "    .dataframe tbody tr th:only-of-type {\n",
       "        vertical-align: middle;\n",
       "    }\n",
       "\n",
       "    .dataframe tbody tr th {\n",
       "        vertical-align: top;\n",
       "    }\n",
       "\n",
       "    .dataframe thead th {\n",
       "        text-align: right;\n",
       "    }\n",
       "</style>\n",
       "<table border=\"1\" class=\"dataframe\">\n",
       "  <thead>\n",
       "    <tr style=\"text-align: right;\">\n",
       "      <th></th>\n",
       "      <th>e1</th>\n",
       "      <th>rel</th>\n",
       "      <th>e2</th>\n",
       "      <th>triple</th>\n",
       "    </tr>\n",
       "  </thead>\n",
       "  <tbody>\n",
       "    <tr>\n",
       "      <th>0</th>\n",
       "      <td>/m/0821j</td>\n",
       "      <td>/influence/influence_node/influenced_by</td>\n",
       "      <td>/m/040db</td>\n",
       "      <td>/m/0821j\\t/influence/influence_node/influenced...</td>\n",
       "    </tr>\n",
       "    <tr>\n",
       "      <th>1</th>\n",
       "      <td>/m/02_n5d</td>\n",
       "      <td>/people/person/spouse_s./people/marriage/type_...</td>\n",
       "      <td>/m/04ztj</td>\n",
       "      <td>/m/02_n5d\\t/people/person/spouse_s./people/mar...</td>\n",
       "    </tr>\n",
       "    <tr>\n",
       "      <th>2</th>\n",
       "      <td>/m/0bmh4</td>\n",
       "      <td>/people/deceased_person/place_of_burial</td>\n",
       "      <td>/m/018mmj</td>\n",
       "      <td>/m/0bmh4\\t/people/deceased_person/place_of_bur...</td>\n",
       "    </tr>\n",
       "    <tr>\n",
       "      <th>3</th>\n",
       "      <td>/m/099c8n</td>\n",
       "      <td>/award/award_category/nominees./award/award_no...</td>\n",
       "      <td>/m/03s9kp</td>\n",
       "      <td>/m/099c8n\\t/award/award_category/nominees./awa...</td>\n",
       "    </tr>\n",
       "    <tr>\n",
       "      <th>4</th>\n",
       "      <td>/m/09c7w0</td>\n",
       "      <td>/location/location/contains</td>\n",
       "      <td>/m/01nl79</td>\n",
       "      <td>/m/09c7w0\\t/location/location/contains\\t/m/01nl79</td>\n",
       "    </tr>\n",
       "  </tbody>\n",
       "</table>\n",
       "</div>"
      ],
      "text/plain": [
       "          e1                                                rel         e2  \\\n",
       "0   /m/0821j            /influence/influence_node/influenced_by   /m/040db   \n",
       "1  /m/02_n5d  /people/person/spouse_s./people/marriage/type_...   /m/04ztj   \n",
       "2   /m/0bmh4            /people/deceased_person/place_of_burial  /m/018mmj   \n",
       "3  /m/099c8n  /award/award_category/nominees./award/award_no...  /m/03s9kp   \n",
       "4  /m/09c7w0                        /location/location/contains  /m/01nl79   \n",
       "\n",
       "                                              triple  \n",
       "0  /m/0821j\\t/influence/influence_node/influenced...  \n",
       "1  /m/02_n5d\\t/people/person/spouse_s./people/mar...  \n",
       "2  /m/0bmh4\\t/people/deceased_person/place_of_bur...  \n",
       "3  /m/099c8n\\t/award/award_category/nominees./awa...  \n",
       "4  /m/09c7w0\\t/location/location/contains\\t/m/01nl79  "
      ]
     },
     "execution_count": 19,
     "metadata": {},
     "output_type": "execute_result"
    }
   ],
   "source": [
    "eval_pub.head()"
   ]
  },
  {
   "cell_type": "markdown",
   "metadata": {},
   "source": [
    "#### Check total amount of remaining facts"
   ]
  },
  {
   "cell_type": "code",
   "execution_count": 694,
   "metadata": {
    "ExecuteTime": {
     "end_time": "2020-03-12T15:54:02.046175Z",
     "start_time": "2020-03-12T15:54:02.006879Z"
    }
   },
   "outputs": [],
   "source": [
    "# only to reproduce the published split\n",
    "ent_removed = ['/m/0m_v0', '/m/04svwx', '/m/02rgz4', '/m/0295sy', '/m/0fnpj', '/m/0zchj', '/m/08pgl8', '/m/09th87', '/m/07y9ts', '/m/01drsx', '/m/02jm9c', '/m/095zlp', '/m/015c2f', '/m/02flpc', '/m/02vg0', '/m/0cq8qq', '/m/0d0kn', '/m/02qwg', '/m/0pgm3', '/m/04bfg', '/m/0bth54', '/m/018mmw', '/m/0738y5', '/m/0jn38', '/m/019n9w', '/m/05dxl_', '/m/0f4yh', '/m/0kq39', '/m/0k6yt1', '/m/06wbm8q', '/m/01b_d4', '/m/03339m', '/m/0frq6', '/m/0fvf9q', '/m/02qy3py', '/m/0jqj5', '/m/0h3vhfb', '/m/0c55fj', '/m/04_1l0v', '/m/04p3w', '/m/0241jw', '/m/01shy7', '/m/06y9c2', '/m/04jbyg', '/m/0h63q6t', '/m/0jm3b', '/m/03177r', '/m/01c7p_', '/m/01cm8w', '/m/064vjs', '/m/0465_', '/m/03m6j', '/m/01f62', '/m/02rn00y', '/m/055c8', '/m/01bcwk', '/m/01l8t8', '/m/01svq8', '/m/0d1yn', '/m/056zf9', '/m/027j9wd', '/m/0257w4', '/m/02_cx_', '/m/02pv_d', '/m/0bpbhm', '/m/03czz87', '/m/0c00zd0', '/m/0gs5q', '/m/0fs9vc', '/m/07gql', '/m/035wq7', '/m/01qcx_', '/m/013x0b', '/m/02g9p4', '/m/0c0nhgv', '/m/09mq4m', '/m/050gkf', '/m/0fkx3', '/m/01qb5d', '/m/07ylj', '/m/03qy3l', '/m/035rnz', '/m/01n6c', '/m/04zl8', '/m/02t0n9', '/m/027bs_2', '/m/07jnt', '/m/018d6l', '/m/01tm2s', '/m/03f4w4', '/m/02zd460', '/m/0j86l', '/m/01zpmq', '/m/06rny', '/m/01mqnr', '/m/07g_0c', '/m/0152n0', '/m/01d_h8', '/m/0329qp', '/m/0b82vw', '/m/0gvstc3', '/m/0cl0bk', '/m/0f4l5', '/m/0c_md_', '/m/03205_', '/m/01sxdy', '/m/026y3cf', '/m/01cyd5', '/m/01qx13', '/m/04bbb8', '/m/0jmh7', '/m/01xcgf', '/m/06j6l', '/m/02wb6yq', '/m/0dq3c', '/m/01v3x8', '/m/05m63c', '/m/0c7f7', '/m/026h21_', '/m/05pcjw', '/m/02l840', '/m/035nm', '/m/03h_fk5', '/m/01zkhk', '/m/0bxg3', '/m/03lvyj', '/m/06rqw', '/m/09d6p2', '/m/07brj', '/m/0djywgn', '/m/03qkcn9', '/m/02dlfh', '/m/0fcyj', '/m/0fqy4p', '/m/04y5j64', '/m/0159h6', '/m/07wrz', '/m/0999q', '/m/05b2gsm', '/m/0jf1b', '/m/022s1m', '/m/0yshw', '/m/03c0t9', '/m/0d9z_y', '/m/0gqmvn', '/m/06688p', '/m/01t21q', '/m/05t0zfv', '/m/0cs134', '/m/02zyq6', '/m/0g57ws5', '/m/03bdv', '/m/01kwlwp', '/m/09v42sf', '/m/0l2v0', '/m/01qn7n', '/m/0nvvw', '/m/059dn', '/m/0dm00', '/m/05qhw', '/m/01g4yw', '/m/02s4l6', '/m/0303jw', '/m/01v8y9', '/m/02r22gf', '/m/0dgq80b', '/m/0gmcwlb', '/m/077rj', '/m/010bnr', '/m/01y06y', '/m/05hqv', '/m/01jllg1', '/m/03mstc', '/m/0fmyd', '/m/0hr6lkl', '/m/01vtmw6', '/m/07lnk', '/m/0cmdwwg', '/m/01sqd7', '/m/02ktrs', '/m/0lgsq', '/m/06lj1m', '/m/01gbcf', '/m/05sbv3', '/m/0418ft', '/m/09n4nb', '/m/01q24l', '/m/03r0g9', '/m/07f7jp', '/m/0141kz', '/m/0h08p', '/m/0g133', '/m/080v2', '/m/0l0wv', '/m/03qh03g', '/m/0fv4v', '/m/02t8gf', '/m/051ls', '/m/0gkkf', '/m/0jnkr', '/m/0187x8', '/m/02s_qz', '/m/05jrj4', '/m/0lkm', '/m/0br1w', '/m/0140t7', '/m/01sn3', '/m/02f46y', '/m/07l2m', '/m/03wnh', '/m/0b1q7c', '/m/042gr4', '/m/0gj8t_b', '/m/03cwqpm', '/m/0r3tb', '/m/01k3tq', '/m/01xl5', '/m/037gjc', '/m/0m8vm', '/m/060pl5', '/m/01x6v6', '/m/03z5xd', '/m/025t7ly', '/m/01xzb6', '/m/04chyn', '/m/01pt5w', '/m/0nk72', '/m/0gkr9q', '/m/0ygbf', '/m/01cbwl', '/m/01f6x7', '/m/03by7wc', '/m/02n4kr', '/m/06n8j', '/m/029pnn', '/m/06mr6', '/m/0432_5', '/m/05zvq6g', '/m/041jk9', '/m/0c57yj', '/m/0c8wxp', '/m/015ynm', '/m/07_fj54', '/m/034qt_', '/m/0g7pm1', '/m/0781g', '/m/053yx', '/m/015zql', '/m/0trv', '/m/0127gn', '/m/0n5j_', '/m/03gyvwg', '/m/02665kn', '/m/01rgcg', '/m/01c9x', '/m/0170yd', '/m/04fcjt', '/m/01l7cxq', '/m/027rqbx', '/m/0343h', '/m/040j2_', '/m/0gvrws1', '/m/02g5bf', '/m/05cwl_', '/m/0fvppk', '/m/02gvwz', '/m/0f_y9', '/m/05r5w', '/m/07qv_', '/m/0h2zvzr', '/m/05q9g1', '/m/0340hj', '/m/04qb6g', '/m/09pjnd', '/m/027y_', '/m/015hr', '/m/029bkp', '/m/07cz2', '/m/05k17c', '/m/06gd4', '/m/015pvh', '/m/0k_p5', '/m/03nymk', '/m/0j06n', '/m/01wmxfs', '/m/024dzn', '/m/02p76f9', '/m/09hnb', '/m/01swmr', '/m/04mky3', '/m/01pq4w', '/m/0p_47', '/m/019lxm', '/m/01vb6z', '/m/0gd5z', '/m/0n83s', '/m/02237m', '/m/0fs_s', '/m/011hq1', '/m/012v1t', '/m/01my4f', '/m/011v3', '/m/01xbp7', '/m/05drr9', '/m/03f_jk', '/m/0f0qfz', '/m/0d8_wz', '/m/02b0yk', '/m/02bqxb', '/m/0l3kx', '/m/01grrf', '/m/031rq5', '/m/0crh5_f', '/m/0ycht', '/m/0123_x', '/m/0222qb', '/m/01cf5', '/m/0jryt', '/m/02w7gg', '/m/0bwgc_', '/m/07ym0', '/m/02wtp6', '/m/0gz6b6g', '/m/01gst_', '/m/03_f0', '/m/07zlqp', '/m/01xhh5', '/m/019c57', '/m/0872p_c', '/m/084z0w', '/m/05fyy5', '/m/015zyd', '/m/0mfj2', '/m/03czrpj', '/m/02ppg1r', '/m/03qcq', '/m/01qg7c', '/m/044pqn', '/m/026p4q7', '/m/06wkj0', '/m/06y_n', '/m/061v5m', '/m/09rvcvl', '/m/06pjs', '/m/018y81', '/m/0c9l1', '/m/05qc_', '/m/059x66', '/m/0dk0dj', '/m/070w7s', '/m/09l3p', '/m/0443c', '/m/05c6073', '/m/0lfyx', '/m/039bp', '/m/0m3gy', '/m/0p4wb', '/m/01wdcxk', '/m/015bpl', '/m/01c0cc', '/m/027qq9b', '/m/01grpc', '/m/02qjb_', '/m/06dkzt', '/m/01c6l', '/m/0hv8w', '/m/02jxmr', '/m/02f8lw', '/m/01f6zc', '/m/0gd92', '/m/071_8', '/m/01qqwp9', '/m/0frsw', '/m/0mnm2', '/m/05qbbfb', '/m/059x3p', '/m/03kbr', '/m/038rzr', '/m/02d6n_', '/m/09x8ms', '/m/06cmp', '/m/05fg2', '/m/080dyk', '/m/0c38gj', '/m/0bmnm', '/m/0534nr', '/m/01p2b_', '/m/0czhv7', '/m/07t_x', '/m/08jcfy', '/m/01lrrt', '/m/041288', '/m/09qr6', '/m/09gkdln', '/m/024dw0', '/m/0htlr', '/m/01kr6k', '/m/01vl17', '/m/02lkcc', '/m/01yc02', '/m/04m8fy', '/m/01hbq0', '/m/0fdv3', '/m/01pv91', '/m/026kqs9', '/m/05p8bf9', '/m/07hhnl', '/m/02qwzkm', '/m/05l5n', '/m/034np8', '/m/0tfc', '/m/0g39h', '/m/0fsv2', '/m/0dbb3', '/m/037w7r', '/m/01hxs4', '/m/02l7c8', '/m/02_286', '/m/02h22', '/m/02mxbd', '/m/0p7pw', '/m/0fd3y', '/m/0frnff', '/m/03mbdx_', '/m/01242_', '/m/02jr26', '/m/02xgdv', '/m/03m5y9p', '/m/071h5c', '/m/011yxy', '/m/03bxp5', '/m/04l58n', '/m/073h5b', '/m/07h76', '/m/03v52f', '/m/0b4rf3', '/m/05xpms', '/m/06nsb9', '/m/022qqh', '/m/0167v', '/m/0tr3p', '/m/01ljpm', '/m/0gtvpkw', '/m/04t2t', '/m/02482c', '/m/01x5fb', '/m/02bfxb', '/m/08htt0', '/m/03y0pn', '/m/05sy0cv', '/m/01g63y', '/m/073tm9', '/m/01_j71', '/m/05q5t0b', '/m/0mfc0', '/m/01qszl', '/m/0436zq', '/m/01j8yr', '/m/01jdpf', '/m/01hp5', '/m/09p3_s', '/m/01f7v_', '/m/019lwb', '/m/0284gc', '/m/01tvz5j', '/m/0fg6k', '/m/0flddp', '/m/09889g', '/m/015np0', '/m/0nh57', '/m/01336l', '/m/0kst7v', '/m/01hd99', '/m/0g2mbn', '/m/019lty', '/m/02q0k7v', '/m/01y8cr', '/m/03b_fm5', '/m/064nh4k', '/m/017vb_', '/m/02k6hp', '/m/02bv9', '/m/014vm4', '/m/05gqf', '/m/0n2k5', '/m/04b19t', '/m/0lzkm', '/m/01jq34', '/m/0fztbq', '/m/0806vbn', '/m/0mpfn', '/m/064p92m', '/m/025569', '/m/0f4vx', '/m/05vtw', '/m/04h07s', '/m/01vrt_c', '/m/03x746', '/m/0nqph', '/m/01j67j', '/m/02cqbx', '/m/0gj4fx', '/m/03mp9s', '/m/01ypc', '/m/0kfpm', '/m/01xndd', '/m/014zfs', '/m/01b7b', '/m/06fcqw', '/m/014kbl', '/m/015c4g', '/m/01t110', '/m/0163t3', '/m/0hg11', '/m/013719', '/m/0dzfdw', '/m/0db86', '/m/01vx5w7', '/m/01gln9', '/m/0cjf0', '/m/071jv5', '/m/05vsb7', '/m/0ct_yc', '/m/02bqy', '/m/0417z2', '/m/01mc11', '/m/0f102', '/m/016s0m', '/m/02jxrw', '/m/01l1sq', '/m/039crh', '/m/02rbdlq', '/m/07q68q', '/m/0mw_q', '/m/0bmhn', '/m/04zxrt', '/m/0ff3y', '/m/015_30', '/m/02_fz3', '/m/082gq', '/m/02qpt1w', '/m/01rwcgb', '/m/02cpp', '/m/0c3jz', '/m/05znbh7', '/m/05f_3', '/m/014bpd', '/m/0kcw2', '/m/07nx9j', '/m/09hd16', '/m/057xn_m', '/m/01ypsj', '/m/02cw1m', '/m/0697s', '/m/013v5j', '/m/042fgh', '/m/01f1p9', '/m/01y9pk', '/m/02cbs0', '/m/02ptczs', '/m/06jtd', '/m/019389', '/m/0jm7n', '/m/03lpp_', '/m/07kh6f3', '/m/017vkx', '/m/07hwkr', '/m/02lgj6', '/m/07z542', '/m/017d93', '/m/01cblr', '/m/0fdtd7', '/m/0hn4h', '/m/09ntbc', '/m/03bxwtd', '/m/0jyx6', '/m/04rcr', '/m/011yrp', '/m/05f4vxd', '/m/01r5xw', '/m/08624h', '/m/01z2sn', '/m/02fp3', '/m/02778pf', '/m/013y1f', '/m/0gtzp', '/m/014kj2', '/m/013nws', '/m/023znp', '/m/026bt_h', '/m/057bxr', '/m/01lct6', '/m/027t8fw', '/m/016yxn', '/m/059f4', '/m/07kfzsg', '/m/0n5yv', '/m/0n839', '/m/0mzy7', '/m/09qv_s', '/m/03rwng', '/m/01vsnff', '/m/05zwrg0', '/m/03_48k', '/m/0bm9xk', '/m/011ykb', '/m/0ckm4x', '/m/025b5y', '/m/05j49', '/m/04b5l3', '/m/016tb7', '/m/02vmzp', '/m/03ln8b', '/m/0n5_g', '/m/01fmz6', '/m/0mvxt', '/m/02qfh', '/m/073x6y', '/m/05p7tx', '/m/0163v', '/m/07y2b', '/m/01v_pj6', '/m/074w86', '/m/0dc_v', '/m/0c78m', '/m/0d2psv', '/m/02lxrv', '/m/0xsk8', '/m/0cq7tx', '/m/02_n5d', '/m/027qb1', '/m/02r_pp', '/m/0r1yc', '/m/0djkrp', '/m/0prh7', '/m/0p8r1', '/m/0b7gr2', '/m/0k89p', '/m/032sl_', '/m/067nsm', '/m/0mgkg', '/m/01sb5r', '/m/05zn92p', '/m/01slc', '/m/0mbwf', '/m/01kkx2', '/m/05cj4r', '/m/0pk1p', '/m/0chrx', '/m/01v1d8', '/m/03v36', '/m/026mff', '/m/01gf5h', '/m/08ct6', '/m/024lt6', '/m/0ngg', '/m/07fb8_', '/m/034_t5', '/m/061y4q', '/m/04sh80', '/m/0106dv', '/m/040_t', '/m/0_7z2', '/m/03ndd', '/m/014kkm', '/m/02rq7nd', '/m/046f25', '/m/0f2w0', '/m/01wp8w7', '/m/02f73p', '/m/05sq0m', '/m/01p726', '/m/04mz10g', '/m/03b1sb', '/m/0gj9tn5', '/m/01p45_v', '/m/019mcm', '/m/0cv13', '/m/016yvw', '/m/0276g40', '/m/015lhm', '/m/03hpr', '/m/06jntd', '/m/0vm5t', '/m/0mkp7', '/m/02wwwv5', '/m/0mpdw', '/m/023zl', '/m/02yy_j', '/m/03459x', '/m/060m4', '/m/0kh6b', '/m/013423', '/m/0bs5k8r', '/m/05mt6w', '/m/0_lk5', '/m/03flwk', '/m/0n1tx', '/m/05r6t', '/m/03d_w3h', '/m/022qw7', '/m/04gbl3', '/m/0gf28', '/m/049t4g', '/m/0c7t58', '/m/09d5d5', '/m/06n3y', '/m/0gt_k', '/m/05qzv', '/m/0mbf4', '/m/01clyb', '/m/01q0kg', '/m/06v99d', '/m/0drtkx', '/m/01_f_5', '/m/01wsl7c', '/m/02n9bh', '/m/01xhb_', '/m/016_nr', '/m/0208wk', '/m/017f3m', '/m/03rl1g', '/m/01_9fk', '/m/0b6p3qf', '/m/01r_t_', '/m/01p79b', '/m/0jgm8', '/m/01jq4b', '/m/05q_mg', '/m/03qmx_f', '/m/087z12', '/m/0257pw', '/m/02nrdp', '/m/03pnvq', '/m/0k5px', '/m/0c5x_', '/m/015rkw', '/m/01x66d', '/m/04j14qc', '/m/04mx8h4', '/m/05bpg3', '/m/034ls', '/m/02lpp7', '/m/0bdt8', '/m/075fzd', '/m/06rzwx', '/m/01zfmm', '/m/01hpf6', '/m/057dxsg', '/m/0g5rg', '/m/0pdp8', '/m/01vs8ng', '/m/01kymm', '/m/02hy9p', '/m/030pr', '/m/0gthm', '/m/0g56t9t', '/m/01c40n', '/m/01fh36', '/m/02q5g1z', '/m/0bt7w', '/m/036gdw', '/m/01vw20_', '/m/02cllz', '/m/01trxd', '/m/02l_7y', '/m/09d11', '/m/0pv3x', '/m/0fsb8', '/m/026spg', '/m/0dx84s', '/m/0411q', '/m/04b2qn', '/m/02pyyld', '/m/0flw6', '/m/0hl3d', '/m/01wb8bs', '/m/08z956', '/m/0jg77', '/m/02y6fz', '/m/0jcx', '/m/0pkgt', '/m/012gk9', '/m/0468g4r', '/m/02wvf2s', '/m/025ygws', '/m/041r51', '/m/0372p', '/m/0cwtm', '/m/073hmq', '/m/025b3k', '/m/02fgm7', '/m/0326tc', '/m/016_rm', '/m/042l3v', '/m/015gw6', '/m/0kc40', '/m/034gxk', '/m/0mw93', '/m/03yf3z', '/m/01j_jh', '/m/052nd', '/m/06lc85', '/m/0b_6xf', '/m/025rcc', '/m/045346', '/m/023322', '/m/06cm5', '/m/03lmzl', '/m/01z645', '/m/02grdc', '/m/07x21', '/m/04t9c0', '/m/02s2ft', '/m/03359d', '/m/030qb3t', '/m/028cg00', '/m/06_vpyq', '/m/03h_yfh', '/m/0yyn5', '/m/0693l', '/m/02c638', '/m/025v26c', '/m/047kn_', '/m/019w9j', '/m/07l1c', '/m/016yzz', '/m/01xbxn', '/m/021lkq', '/m/0m_xy', '/m/0djvzd', '/m/017j69', '/m/02q690_', '/m/0zc6f', '/m/02kx3', '/m/02g_6x', '/m/041wm', '/m/075k5', '/m/09l9xt', '/m/036jv', '/m/07m9cm', '/m/04n6k', '/m/0g9wdmc', '/m/0cqt41', '/m/0561xh', '/m/082brv', '/m/02w86hz', '/m/0_xdd', '/m/067xw', '/m/05w1vf', '/m/0ckcvk', '/m/02scbv', '/m/028p0', '/m/078vc', '/m/060d2', '/m/016ks_', '/m/01n4w', '/m/0dj0x', '/m/03jg5t', '/m/0tz41', '/m/0gtt5fb', '/m/01c333', '/m/0jqb8', '/m/04_by', '/m/01kx_81', '/m/0102t4', '/m/0rrwt', '/m/0kszw', '/m/09f07', '/m/07f_t4', '/m/0g9zcgx', '/m/06nzl', '/m/0362q0', '/m/020qr4', '/m/02l1fn', '/m/01531', '/m/072vj', '/m/04pk9', '/m/018d5b', '/m/0j_sncb', '/m/0xjl2', '/m/013qvn', '/m/09nqf', '/m/01vfqh', '/m/0d1t3', '/m/016gp5', '/m/02mqc4', '/m/01fwj8', '/m/02hrh0_', '/m/0d99m', '/m/0dn8b', '/m/02c6d', '/m/02t_8z', '/m/07wg3', '/m/01rf57', '/m/02wkmx', '/m/018grr', '/m/0jnl5', '/m/05925', '/m/06ch55', '/m/03cd0x', '/m/01ty7ll', '/m/03q5t', '/m/03n69x', '/m/01rp13', '/m/04bdzg', '/m/0glqh5_', '/m/025s0zp', '/m/0g824', '/m/02mc79', '/m/02mt51', '/m/05l3g_', '/m/08hbxv', '/m/025m98', '/m/0fy59t', '/m/01v2xl', '/m/081g_l', '/m/06xj4w', '/m/07_k0c0', '/m/09swkk', '/m/0bx_hnp', '/m/084x96', '/m/0ntpv', '/m/02r34n', '/m/01flzb', '/m/025v1sx', '/m/017n9', '/m/01rvgx', '/m/015fr', '/m/01t6b4', '/m/02vnpv', '/m/01m1_t', '/m/03jqfx', '/m/0277g', '/m/02lxj_', '/m/03f22dp', '/m/02qdymm', '/m/03975z', '/m/0gdh5', '/m/049rl0', '/m/06pr6', '/m/050xpd', '/m/0d1mp3', '/m/01grqd', '/m/01yjl', '/m/01gbbz', '/m/02114t', '/m/0cg39k', '/m/02xwq9', '/m/07nv3_', '/m/05mrx8', '/m/03gm48', '/m/0cv9b', '/m/0fqnzts', '/m/05v10', '/m/0727h', '/m/0fq9zdv', '/m/0yzyn', '/m/01cwm1', '/m/02vr7', '/m/0c0cs', '/m/01kb2j', '/m/0c422z4', '/m/07z2lx', '/m/011s9r', '/m/03jvmp', '/m/04f73rc', '/m/092vkg', '/m/050ks', '/m/0smfm', '/m/04c636', '/m/06mz5', '/m/02r7lqg', '/m/05f7w84', '/m/0138t4', '/m/01ggbx', '/m/04xfb', '/m/018z_c', '/m/0gk7z', '/m/0sydc', '/m/0n2vl', '/m/01qdjm', '/m/07gyp7', '/m/01gzm2', '/m/0184jw', '/m/016t_3', '/m/04344j', '/m/02h4rq6', '/m/0642xf3', '/m/02_gzx', '/m/01gjlw', '/m/0150t6', '/m/05yzt_', '/m/01pxqx', '/m/0pmw9', '/m/019vgs', '/m/08qs09', '/m/0l4h_', '/m/02jp2w', '/m/04w8f', '/m/01p5xy', '/m/035bcl', '/m/05ldnp', '/m/012jc', '/m/01n4nd', '/m/01htzx', '/m/01438g', '/m/0hky', '/m/03d0ns', '/m/027752', '/m/03z106', '/m/014kg4', '/m/01vsqvs', '/m/03prz_', '/m/03qbm', '/m/040b5k', '/m/04bs3j', '/m/02cgb8', '/m/084qpk', '/m/02lbrd', '/m/083my7', '/m/048z7l', '/m/0fpzt5', '/m/0gmf0nj', '/m/01tf_6', '/m/025y67', '/m/02cm61', '/m/0fqyzz', '/m/01x9_8', '/m/04pqqb', '/m/0m491', '/m/03z0dt', '/m/04dm2n', '/m/01rr_d', '/m/018sg9', '/m/02s6sh', '/m/0lv1x', '/m/01m2n1', '/m/05m883', '/m/04cj79', '/m/0fpjd_g', '/m/0bjqh', '/m/03m4mj', '/m/02kth6', '/m/09jd9', '/m/0blt6', '/m/01nxzv', '/m/02f1c', '/m/06w58f', '/m/01trhmt', '/m/027f2w', '/m/07mb57', '/m/01kp66', '/m/0h0yt', '/m/01kj0p', '/m/0393g', '/m/01c6k4', '/m/018s6c', '/m/05kjc6', '/m/011_vz', '/m/0cgfb', '/m/029rk', '/m/04dyqk', '/m/06c7mk', '/m/01v80y', '/m/035qlx', '/m/0n6nl', '/m/01_bkd', '/m/06mx8', '/m/01d2v1', '/m/0154d7', '/m/0dwt5', '/m/0604m', '/m/0212ny', '/m/03v1xb', '/m/06274w', '/m/01l63', '/m/027m5wv', '/m/0212zp', '/m/05zh9c', '/m/06y0xx', '/m/027ct7c', '/m/0f40w', '/m/058wp', '/m/05pt0l', '/m/0j8p6', '/m/0tl6d', '/m/05wp1p', '/m/0gr07', '/m/02w0dc0', '/m/01skmp', '/m/0d2ww', '/m/03n785', '/m/017510', '/m/095z4q', '/m/01kvrz', '/m/04gm7n', '/m/0db94w', '/m/03j722', '/m/05nzw6', '/m/017kz7', '/m/0hvb2', '/m/0147w8', '/m/027j79k', '/m/01w61th', '/m/04bpm6', '/m/01cx_', '/m/041rx', '/m/0bbm7r', '/m/01mqc_', '/m/05j82v', '/m/02w9sd7', '/m/02nq10', '/m/0bq8tmw', '/m/048svj', '/m/01c3q', '/m/0jclr', '/m/0ggx5q', '/m/05h7tk', '/m/01vw77', '/m/0cbhh', '/m/05gnf', '/m/05ch98', '/m/0453t', '/m/026c1', '/m/08xvpn', '/m/018qb4', '/m/02gx2k', '/m/0bwfwpj', '/m/011yd2', '/m/0fthdk', '/m/01mvpv', '/m/01kcms4', '/m/02l4pj', '/m/018ysx', '/m/03dj48', '/m/0f11p', '/m/09v6gc9', '/m/011wtv', '/m/0c11mj', '/m/01f8gz', '/m/06w92', '/m/0k3kg', '/m/06t8v', '/m/047vp1n', '/m/02w7fs', '/m/02gdjb', '/m/07fq1y', '/m/011k_j', '/m/09ld6g', '/m/05dxl5', '/m/0408m53', '/m/0bk5r', '/m/02279c', '/m/03f1zhf', '/m/01j5ql', '/m/08821', '/m/0x2sv', '/m/01tlrp', '/m/02xhwm', '/m/06s0l', '/m/0qlnr', '/m/02ndj5', '/m/02sf_r', '/m/0c3dzk', '/m/0fqyc', '/m/0b05xm', '/m/0mww2', '/m/0vqcq', '/m/0yfvf', '/m/025rzfc', '/m/01qqwn', '/m/035qgm', '/m/09x3r', '/m/02xcb6n', '/m/06gcn', '/m/01p5_g', '/m/03d49', '/m/0f42nz', '/m/0c_jc', '/m/07b1gq', '/m/0dyl9', '/m/09wj5', '/m/06mq7', '/m/0258dh', '/m/0g8rj', '/m/054k_8', '/m/01771z', '/m/0qmhk', '/m/0g51l1', '/m/03x31g', '/m/07bzp', '/m/025vl4m', '/m/01j5sv', '/m/03llf8', '/m/03shpq', '/m/0fd6qb', '/m/05n19y', '/m/06k75', '/m/03t1s', '/m/049n2l', '/m/097h2', '/m/04cdxc', '/m/021bmf', '/m/01l_pn', '/m/02sgy', '/m/02kb_jm', '/m/01rcmg', '/m/0lmm3', '/m/02bn_p', '/m/01x73', '/m/018gqj', '/m/06szd3', '/m/0ds1glg', '/m/05tcx0', '/m/016ybr', '/m/0lgm5', '/m/0b_6h7', '/m/0n6c_', '/m/04jr87', '/m/07kbp5', '/m/0ddkf', '/m/029q3k', '/m/02xpy5', '/m/03gyp30', '/m/017180', '/m/08w6v_', '/m/0f0p0', '/m/030_3z', '/m/01t4p0', '/m/0qmd5', '/m/07kb5', '/m/03dpqd', '/m/0y_hb', '/m/09bymc', '/m/0294fd', '/m/02vyyl8', '/m/03phtz', '/m/03gjzk', '/m/04bbv7', '/m/04lgybj', '/m/048vhl', '/m/0bqtx', '/m/0gkg6', '/m/018wl5', '/m/0b_c7', '/m/0r5y9', '/m/03cvvlg', '/m/05np4c', '/m/0g54xkt', '/m/0c_tl', '/m/02hqt6', '/m/09dfcj', '/m/02dbp7', '/m/0kwmc', '/m/0jcky', '/m/081k8', '/m/043tvp3', '/m/0mnzd', '/m/01fx6y', '/m/03m7d', '/m/0cb1ky', '/m/04vvh9', '/m/012g92', '/m/02ltg3', '/m/0nvt9', '/m/01lxw6', '/m/03hh89', '/m/03h_yy', '/m/01bb9r', '/m/0755wz', '/m/0299hs', '/m/02vjzr', '/m/01gkp1', '/m/05znxx', '/m/0hg45', '/m/09k5jh7', '/m/09j9h', '/m/02bm1v', '/m/0f276', '/m/01b4p4', '/m/0lhp1', '/m/0bkq7', '/m/01vd7hn', '/m/03_2y', '/m/04mhbh', '/m/02hxc3j', '/m/075_t2', '/m/05fh2', '/m/0tz54', '/m/056xx8', '/m/092ggq', '/m/05h5nb8', '/m/01vnbh', '/m/0yyts', '/m/018lc_', '/m/0178kd', '/m/01k5t_3', '/m/08jyyk', '/m/018pj3', '/m/023r2x', '/m/0bwfn', '/m/0vlf', '/m/027tbrc', '/m/0fz2y7', '/m/01jgkj2', '/m/08vpjv', '/m/02j416', '/m/03v0vd', '/m/0f721s', '/m/0jvt9', '/m/04h4c9', '/m/07_dn', '/m/01d34b', '/m/03vyw8', '/m/01rrd4', '/m/0197tq', '/m/06hzq3', '/m/016sp_', '/m/0d22f', '/m/03y2kr', '/m/0355dz', '/m/055qm', '/m/04tr1', '/m/038_3y', '/m/0n08r', '/m/03c602', '/m/0cskb', '/m/073bb', '/m/01385g', '/m/025ts_z', '/m/03_r_5', '/m/01q7h2', '/m/03qdm', '/m/01wskg', '/m/02g87m', '/m/075q_', '/m/0436f4', '/m/02r0st6', '/m/06mzp', '/m/0b2v79', '/m/0fphf3v', '/m/02_t6d', '/m/01lp8', '/m/01n951', '/m/04mn81', '/m/045xx', '/m/0k20s', '/m/01gp_d', '/m/0mj1l', '/m/02kc5rj', '/m/043js', '/m/02qd04y', '/m/026w398', '/m/06hx2', '/m/0py9b', '/m/03_bcg', '/m/0fgrm', '/m/01fsz', '/m/0x2p', '/m/02dqdp', '/m/013gxt', '/m/01fjfv', '/m/0ncy4', '/m/058nh2', '/m/0277990', '/m/0473q', '/m/059_gf', '/m/0dm5l', '/m/09fc83', '/m/07r_dg', '/m/03lt8g', '/m/02rp117', '/m/028kj0', '/m/026dx', '/m/017b2p', '/m/09vc4s', '/m/05489', '/m/02h48', '/m/03z9585', '/m/01pr6n', '/m/01y81r', '/m/05z43v', '/m/0fn8jc', '/m/0dr7s', '/m/0581vn8', '/m/0gg4h', '/m/0mmr1', '/m/0gt14', '/m/01rs59', '/m/02d42t', '/m/0lcx', '/m/0fxyd', '/m/01xcr4', '/m/07t65', '/m/0b9f7t', '/m/0ktpx', '/m/01nhgd', '/m/09r8l', '/m/01n7qlf', '/m/02bg55', '/m/0c12h', '/m/014ktf', '/m/02rlj20', '/m/0d3mlc', '/m/0721cy', '/m/018gkb', '/m/03d555l', '/m/0glt670', '/m/079hvk', '/m/02r79_h', '/m/06hgym', '/m/02b19f', '/m/01wg25j', '/m/01ww2fs', '/m/04fhxp', '/m/0prrm', '/m/01vw8mh', '/m/02qyp19', '/m/052_mn', '/m/025_nbr', '/m/018yv3', '/m/01vv126', '/m/0ym8f', '/m/012cph', '/m/05l4yg', '/m/0qm9n', '/m/026fs38', '/m/010v8k', '/m/0g10g', '/m/012x1l', '/m/03rtmz', '/m/03p7rp', '/m/01nczg', '/m/06w2yp9', '/m/0dzz6g', '/m/02r1ysd', '/m/02jyhv', '/m/01fl3', '/m/0gjvqm', '/m/03tcbx', '/m/0ds460j', '/m/0dw6b', '/m/02js6_', '/m/03wh8kl', '/m/01npcy7', '/m/0btmb', '/m/03g3w', '/m/0160nk', '/m/0mn78', '/m/03x42', '/m/03_dj', '/m/0ph2w', '/m/0155w', '/m/0prhz', '/m/0199wf', '/m/0bl8l', '/m/06b9n', '/m/05mvd62', '/m/025sppp', '/m/022lly', '/m/06d_3', '/m/01v0sx2', '/m/02qtywd', '/m/0cf_n', '/m/0f2s6', '/m/025rvx0', '/m/099md', '/m/02hgz', '/m/027hm_', '/m/020hyj', '/m/05jm7', '/m/084w8', '/m/0dhrqx', '/m/0143hl', '/m/0894_x', '/m/06cqb', '/m/01shhf', '/m/03xkps', '/m/02bpy_', '/m/0b_756', '/m/017323', '/m/01s3vk', '/m/0133_p', '/m/025vw4t', '/m/01skxk', '/m/040_9', '/m/0fr59', '/m/0ps1q', '/m/081t6', '/m/01t9_0', '/m/02hn5v', '/m/018wrk', '/m/03jn4', '/m/025tm81', '/m/0fphgb', '/m/07147', '/m/035bpp', '/m/01f39b', '/m/07rnh']"
   ]
  },
  {
   "cell_type": "code",
   "execution_count": null,
   "metadata": {},
   "outputs": [],
   "source": []
  },
  {
   "cell_type": "markdown",
   "metadata": {},
   "source": [
    "#### Check entities!"
   ]
  },
  {
   "cell_type": "code",
   "execution_count": null,
   "metadata": {},
   "outputs": [],
   "source": []
  },
  {
   "cell_type": "markdown",
   "metadata": {
    "heading_collapsed": true
   },
   "source": [
    "#### Check total"
   ]
  },
  {
   "cell_type": "code",
   "execution_count": 12,
   "metadata": {
    "ExecuteTime": {
     "end_time": "2020-03-04T17:39:15.085592Z",
     "start_time": "2020-03-04T17:39:15.011386Z"
    },
    "hidden": true
   },
   "outputs": [
    {
     "data": {
      "text/plain": [
       "13016"
      ]
     },
     "execution_count": 12,
     "metadata": {},
     "output_type": "execute_result"
    }
   ],
   "source": [
    "len(get_ents_from_facts(pd.concat([train_pub, eval_pub])))"
   ]
  },
  {
   "cell_type": "code",
   "execution_count": 13,
   "metadata": {
    "ExecuteTime": {
     "end_time": "2020-03-04T17:39:15.563409Z",
     "start_time": "2020-03-04T17:39:15.434390Z"
    },
    "hidden": true
   },
   "outputs": [
    {
     "data": {
      "text/plain": [
       "13998"
      ]
     },
     "execution_count": 13,
     "metadata": {},
     "output_type": "execute_result"
    }
   ],
   "source": [
    "len(get_ents_from_facts(pd.concat([train_new, eval_new])))"
   ]
  },
  {
   "cell_type": "markdown",
   "metadata": {
    "heading_collapsed": true
   },
   "source": [
    "#### Check train triples"
   ]
  },
  {
   "cell_type": "code",
   "execution_count": 14,
   "metadata": {
    "ExecuteTime": {
     "end_time": "2020-03-04T17:39:16.387337Z",
     "start_time": "2020-03-04T17:39:16.160094Z"
    },
    "hidden": true
   },
   "outputs": [
    {
     "data": {
      "text/plain": [
       "True"
      ]
     },
     "execution_count": 14,
     "metadata": {},
     "output_type": "execute_result"
    }
   ],
   "source": [
    "train_pub.triple.isin(train_orig.triple).all()"
   ]
  },
  {
   "cell_type": "code",
   "execution_count": 15,
   "metadata": {
    "ExecuteTime": {
     "end_time": "2020-03-04T17:39:16.702991Z",
     "start_time": "2020-03-04T17:39:16.649465Z"
    },
    "hidden": true
   },
   "outputs": [
    {
     "data": {
      "text/plain": [
       "12970"
      ]
     },
     "execution_count": 15,
     "metadata": {},
     "output_type": "execute_result"
    }
   ],
   "source": [
    "len(get_ents_from_facts(train_pub))"
   ]
  },
  {
   "cell_type": "code",
   "execution_count": 16,
   "metadata": {
    "ExecuteTime": {
     "end_time": "2020-03-04T17:39:17.254112Z",
     "start_time": "2020-03-04T17:39:17.130416Z"
    },
    "hidden": true
   },
   "outputs": [
    {
     "data": {
      "text/plain": [
       "True"
      ]
     },
     "execution_count": 16,
     "metadata": {},
     "output_type": "execute_result"
    }
   ],
   "source": [
    "train_new.triple.isin(train_orig.triple).all()"
   ]
  },
  {
   "cell_type": "code",
   "execution_count": 17,
   "metadata": {
    "ExecuteTime": {
     "end_time": "2020-03-04T17:39:17.586441Z",
     "start_time": "2020-03-04T17:39:17.535151Z"
    },
    "hidden": true
   },
   "outputs": [
    {
     "data": {
      "text/plain": [
       "13990"
      ]
     },
     "execution_count": 17,
     "metadata": {},
     "output_type": "execute_result"
    }
   ],
   "source": [
    "len(get_ents_from_facts(train_new))"
   ]
  },
  {
   "cell_type": "markdown",
   "metadata": {
    "heading_collapsed": true
   },
   "source": [
    "#### Check eval triples for MRR (no empty queries, subset of the initial eval data) "
   ]
  },
  {
   "cell_type": "code",
   "execution_count": 20,
   "metadata": {
    "ExecuteTime": {
     "end_time": "2020-03-04T17:40:09.263331Z",
     "start_time": "2020-03-04T17:40:09.235768Z"
    },
    "hidden": true
   },
   "outputs": [
    {
     "data": {
      "text/plain": [
       "True"
      ]
     },
     "execution_count": 20,
     "metadata": {},
     "output_type": "execute_result"
    }
   ],
   "source": [
    "eval_pub.triple.isin(eval_orig.triple).all()"
   ]
  },
  {
   "cell_type": "code",
   "execution_count": 21,
   "metadata": {
    "ExecuteTime": {
     "end_time": "2020-03-04T17:40:11.462710Z",
     "start_time": "2020-03-04T17:40:11.453339Z"
    },
    "hidden": true
   },
   "outputs": [
    {
     "data": {
      "text/plain": [
       "10539"
      ]
     },
     "execution_count": 21,
     "metadata": {},
     "output_type": "execute_result"
    }
   ],
   "source": [
    "len(get_ents_from_facts(eval_pub))"
   ]
  },
  {
   "cell_type": "code",
   "execution_count": 22,
   "metadata": {
    "ExecuteTime": {
     "end_time": "2020-03-04T17:40:16.457988Z",
     "start_time": "2020-03-04T17:40:16.434413Z"
    },
    "hidden": true
   },
   "outputs": [
    {
     "data": {
      "text/plain": [
       "True"
      ]
     },
     "execution_count": 22,
     "metadata": {},
     "output_type": "execute_result"
    }
   ],
   "source": [
    "eval_new.triple.isin(eval_orig.triple).all()"
   ]
  },
  {
   "cell_type": "code",
   "execution_count": 23,
   "metadata": {
    "ExecuteTime": {
     "end_time": "2020-03-04T17:40:18.222277Z",
     "start_time": "2020-03-04T17:40:18.213153Z"
    },
    "hidden": true
   },
   "outputs": [
    {
     "data": {
      "text/plain": [
       "9374"
      ]
     },
     "execution_count": 23,
     "metadata": {},
     "output_type": "execute_result"
    }
   ],
   "source": [
    "len(get_ents_from_facts(eval_new))"
   ]
  },
  {
   "cell_type": "markdown",
   "metadata": {
    "heading_collapsed": true
   },
   "source": [
    "#### Check eval queries, including empty"
   ]
  },
  {
   "cell_type": "code",
   "execution_count": 24,
   "metadata": {
    "ExecuteTime": {
     "end_time": "2020-03-04T18:07:46.175877Z",
     "start_time": "2020-03-04T18:07:46.162236Z"
    },
    "hidden": true
   },
   "outputs": [
    {
     "data": {
      "text/html": [
       "<div>\n",
       "<style scoped>\n",
       "    .dataframe tbody tr th:only-of-type {\n",
       "        vertical-align: middle;\n",
       "    }\n",
       "\n",
       "    .dataframe tbody tr th {\n",
       "        vertical-align: top;\n",
       "    }\n",
       "\n",
       "    .dataframe thead th {\n",
       "        text-align: right;\n",
       "    }\n",
       "</style>\n",
       "<table border=\"1\" class=\"dataframe\">\n",
       "  <thead>\n",
       "    <tr style=\"text-align: right;\">\n",
       "      <th></th>\n",
       "      <th>e1</th>\n",
       "      <th>rel</th>\n",
       "      <th>e2</th>\n",
       "      <th>triple</th>\n",
       "    </tr>\n",
       "  </thead>\n",
       "  <tbody>\n",
       "    <tr>\n",
       "      <th>0</th>\n",
       "      <td>/m/027rn</td>\n",
       "      <td>/location/country/form_of_government</td>\n",
       "      <td>/m/06cx9</td>\n",
       "      <td>/m/027rn\\t/location/country/form_of_government...</td>\n",
       "    </tr>\n",
       "    <tr>\n",
       "      <th>1</th>\n",
       "      <td>/m/017dcd</td>\n",
       "      <td>/tv/tv_program/regular_cast./tv/regular_tv_app...</td>\n",
       "      <td>/m/06v8s0</td>\n",
       "      <td>/m/017dcd\\t/tv/tv_program/regular_cast./tv/reg...</td>\n",
       "    </tr>\n",
       "    <tr>\n",
       "      <th>2</th>\n",
       "      <td>/m/07s9rl0</td>\n",
       "      <td>/media_common/netflix_genre/titles</td>\n",
       "      <td>/m/0170z3</td>\n",
       "      <td>/m/07s9rl0\\t/media_common/netflix_genre/titles...</td>\n",
       "    </tr>\n",
       "    <tr>\n",
       "      <th>3</th>\n",
       "      <td>/m/01sl1q</td>\n",
       "      <td>/award/award_winner/awards_won./award/award_ho...</td>\n",
       "      <td>/m/044mz_</td>\n",
       "      <td>/m/01sl1q\\t/award/award_winner/awards_won./awa...</td>\n",
       "    </tr>\n",
       "    <tr>\n",
       "      <th>4</th>\n",
       "      <td>/m/0cnk2q</td>\n",
       "      <td>/soccer/football_team/current_roster./sports/s...</td>\n",
       "      <td>/m/02nzb8</td>\n",
       "      <td>/m/0cnk2q\\t/soccer/football_team/current_roste...</td>\n",
       "    </tr>\n",
       "    <tr>\n",
       "      <th>...</th>\n",
       "      <td>...</td>\n",
       "      <td>...</td>\n",
       "      <td>...</td>\n",
       "      <td>...</td>\n",
       "    </tr>\n",
       "    <tr>\n",
       "      <th>254065</th>\n",
       "      <td>/m/016mhd</td>\n",
       "      <td>/film/film/release_date_s./film/film_regional_...</td>\n",
       "      <td>/m/029j_</td>\n",
       "      <td>/m/016mhd\\t/film/film/release_date_s./film/fil...</td>\n",
       "    </tr>\n",
       "    <tr>\n",
       "      <th>254066</th>\n",
       "      <td>/m/01g888</td>\n",
       "      <td>/music/genre/artists</td>\n",
       "      <td>/m/01vv126</td>\n",
       "      <td>/m/01g888\\t/music/genre/artists\\t/m/01vv126</td>\n",
       "    </tr>\n",
       "    <tr>\n",
       "      <th>254067</th>\n",
       "      <td>/m/0djvzd</td>\n",
       "      <td>/soccer/football_player/current_team./sports/s...</td>\n",
       "      <td>/m/02b16p</td>\n",
       "      <td>/m/0djvzd\\t/soccer/football_player/current_tea...</td>\n",
       "    </tr>\n",
       "    <tr>\n",
       "      <th>254068</th>\n",
       "      <td>/m/0gmblvq</td>\n",
       "      <td>/award/award_winning_work/awards_won./award/aw...</td>\n",
       "      <td>/m/07kjk7c</td>\n",
       "      <td>/m/0gmblvq\\t/award/award_winning_work/awards_w...</td>\n",
       "    </tr>\n",
       "    <tr>\n",
       "      <th>254069</th>\n",
       "      <td>/m/020jqv</td>\n",
       "      <td>/award/award_nominee/award_nominations./award/...</td>\n",
       "      <td>/m/09d3b7</td>\n",
       "      <td>/m/020jqv\\t/award/award_nominee/award_nominati...</td>\n",
       "    </tr>\n",
       "  </tbody>\n",
       "</table>\n",
       "<p>254070 rows × 4 columns</p>\n",
       "</div>"
      ],
      "text/plain": [
       "                e1                                                rel  \\\n",
       "0         /m/027rn               /location/country/form_of_government   \n",
       "1        /m/017dcd  /tv/tv_program/regular_cast./tv/regular_tv_app...   \n",
       "2       /m/07s9rl0                 /media_common/netflix_genre/titles   \n",
       "3        /m/01sl1q  /award/award_winner/awards_won./award/award_ho...   \n",
       "4        /m/0cnk2q  /soccer/football_team/current_roster./sports/s...   \n",
       "...            ...                                                ...   \n",
       "254065   /m/016mhd  /film/film/release_date_s./film/film_regional_...   \n",
       "254066   /m/01g888                               /music/genre/artists   \n",
       "254067   /m/0djvzd  /soccer/football_player/current_team./sports/s...   \n",
       "254068  /m/0gmblvq  /award/award_winning_work/awards_won./award/aw...   \n",
       "254069   /m/020jqv  /award/award_nominee/award_nominations./award/...   \n",
       "\n",
       "                e2                                             triple  \n",
       "0         /m/06cx9  /m/027rn\\t/location/country/form_of_government...  \n",
       "1        /m/06v8s0  /m/017dcd\\t/tv/tv_program/regular_cast./tv/reg...  \n",
       "2        /m/0170z3  /m/07s9rl0\\t/media_common/netflix_genre/titles...  \n",
       "3        /m/044mz_  /m/01sl1q\\t/award/award_winner/awards_won./awa...  \n",
       "4        /m/02nzb8  /m/0cnk2q\\t/soccer/football_team/current_roste...  \n",
       "...            ...                                                ...  \n",
       "254065    /m/029j_  /m/016mhd\\t/film/film/release_date_s./film/fil...  \n",
       "254066  /m/01vv126        /m/01g888\\t/music/genre/artists\\t/m/01vv126  \n",
       "254067   /m/02b16p  /m/0djvzd\\t/soccer/football_player/current_tea...  \n",
       "254068  /m/07kjk7c  /m/0gmblvq\\t/award/award_winning_work/awards_w...  \n",
       "254069   /m/09d3b7  /m/020jqv\\t/award/award_nominee/award_nominati...  \n",
       "\n",
       "[254070 rows x 4 columns]"
      ]
     },
     "execution_count": 24,
     "metadata": {},
     "output_type": "execute_result"
    }
   ],
   "source": [
    "train_new"
   ]
  },
  {
   "cell_type": "code",
   "execution_count": 33,
   "metadata": {
    "ExecuteTime": {
     "end_time": "2020-03-04T18:20:10.667560Z",
     "start_time": "2020-03-04T18:20:10.439149Z"
    },
    "hidden": true
   },
   "outputs": [
    {
     "data": {
      "text/plain": [
       "8"
      ]
     },
     "execution_count": 33,
     "metadata": {},
     "output_type": "execute_result"
    }
   ],
   "source": [
    "split = pkl.load(open(prefix+'/question_type_split_testset.pkl', \"rb\"))\n",
    "len(split)"
   ]
  },
  {
   "cell_type": "code",
   "execution_count": 36,
   "metadata": {
    "ExecuteTime": {
     "end_time": "2020-03-04T18:23:43.527271Z",
     "start_time": "2020-03-04T18:23:43.522553Z"
    },
    "hidden": true
   },
   "outputs": [
    {
     "data": {
      "text/plain": [
       "(13386, 3129)"
      ]
     },
     "execution_count": 36,
     "metadata": {},
     "output_type": "execute_result"
    }
   ],
   "source": [
    "on, of, _, _, sn, sf, _, _ = split\n",
    "len(on), len(sn)"
   ]
  },
  {
   "cell_type": "code",
   "execution_count": 25,
   "metadata": {
    "ExecuteTime": {
     "end_time": "2020-03-04T18:07:50.854382Z",
     "start_time": "2020-03-04T18:07:50.584307Z"
    },
    "hidden": true
   },
   "outputs": [],
   "source": [
    "dev_obj_pub = pd.read_csv(open(os.path.join(prefix, \"FB13k-237/valid_obj.txt\"), \"r\"), header=None, sep='\\t', names=['e1','rel','e2']).fillna('')\n",
    "test_obj_pub = pd.read_csv(open(os.path.join(prefix, \"FB13k-237/test_obj.txt\"), \"r\"), header=None, sep='\\t', names=['e1','rel','e2']).fillna('')\n",
    "dev_subj_pub = pd.read_csv(open(os.path.join(prefix, \"FB13k-237/valid_subj.txt\"), \"r\"), header=None, sep='\\t', names=['e1','rel','e2']).fillna('')\n",
    "test_subj_pub = pd.read_csv(open(os.path.join(prefix, \"FB13k-237/test_subj.txt\"), \"r\"), header=None, sep='\\t', names=['e1','rel','e2']).fillna('')"
   ]
  },
  {
   "cell_type": "code",
   "execution_count": 26,
   "metadata": {
    "ExecuteTime": {
     "end_time": "2020-03-04T18:07:51.216216Z",
     "start_time": "2020-03-04T18:07:51.027273Z"
    },
    "hidden": true
   },
   "outputs": [],
   "source": [
    "dev_obj_new = pd.read_csv(open(os.path.join(prefix, \"FB13k-QAQ/valid_obj.txt\"), \"r\"), header=None, sep='\\t', names=['e1','rel','e2']).fillna('')\n",
    "test_obj_new = pd.read_csv(open(os.path.join(prefix, \"FB13k-QAQ/test_obj.txt\"), \"r\"), header=None, sep='\\t', names=['e1','rel','e2']).fillna('')\n",
    "dev_subj_new = pd.read_csv(open(os.path.join(prefix, \"FB13k-QAQ/valid_subj.txt\"), \"r\"), header=None, sep='\\t', names=['e1','rel','e2']).fillna('')\n",
    "test_subj_new = pd.read_csv(open(os.path.join(prefix, \"FB13k-QAQ/test_subj.txt\"), \"r\"), header=None, sep='\\t', names=['e1','rel','e2']).fillna('')"
   ]
  },
  {
   "cell_type": "code",
   "execution_count": 27,
   "metadata": {
    "ExecuteTime": {
     "end_time": "2020-03-04T18:07:52.414875Z",
     "start_time": "2020-03-04T18:07:52.407312Z"
    },
    "hidden": true
   },
   "outputs": [
    {
     "data": {
      "text/html": [
       "<div>\n",
       "<style scoped>\n",
       "    .dataframe tbody tr th:only-of-type {\n",
       "        vertical-align: middle;\n",
       "    }\n",
       "\n",
       "    .dataframe tbody tr th {\n",
       "        vertical-align: top;\n",
       "    }\n",
       "\n",
       "    .dataframe thead th {\n",
       "        text-align: right;\n",
       "    }\n",
       "</style>\n",
       "<table border=\"1\" class=\"dataframe\">\n",
       "  <thead>\n",
       "    <tr style=\"text-align: right;\">\n",
       "      <th></th>\n",
       "      <th>e1</th>\n",
       "      <th>rel</th>\n",
       "      <th>e2</th>\n",
       "    </tr>\n",
       "  </thead>\n",
       "  <tbody>\n",
       "    <tr>\n",
       "      <th>0</th>\n",
       "      <td></td>\n",
       "      <td>/film/film/featured_film_locations</td>\n",
       "      <td>/m/0100mt</td>\n",
       "    </tr>\n",
       "    <tr>\n",
       "      <th>1</th>\n",
       "      <td></td>\n",
       "      <td>/time/event/locations</td>\n",
       "      <td>/m/010h9y</td>\n",
       "    </tr>\n",
       "    <tr>\n",
       "      <th>2</th>\n",
       "      <td></td>\n",
       "      <td>/award/award_ceremony/awards_presented./award/...</td>\n",
       "      <td>/m/010hn</td>\n",
       "    </tr>\n",
       "    <tr>\n",
       "      <th>3</th>\n",
       "      <td></td>\n",
       "      <td>/location/location/contains</td>\n",
       "      <td>/m/010m55</td>\n",
       "    </tr>\n",
       "    <tr>\n",
       "      <th>4</th>\n",
       "      <td></td>\n",
       "      <td>/people/person/place_of_birth</td>\n",
       "      <td>/m/010r6f</td>\n",
       "    </tr>\n",
       "  </tbody>\n",
       "</table>\n",
       "</div>"
      ],
      "text/plain": [
       "  e1                                                rel         e2\n",
       "0                    /film/film/featured_film_locations  /m/0100mt\n",
       "1                                 /time/event/locations  /m/010h9y\n",
       "2     /award/award_ceremony/awards_presented./award/...   /m/010hn\n",
       "3                           /location/location/contains  /m/010m55\n",
       "4                         /people/person/place_of_birth  /m/010r6f"
      ]
     },
     "execution_count": 27,
     "metadata": {},
     "output_type": "execute_result"
    }
   ],
   "source": [
    "dev_subj_new.head()"
   ]
  },
  {
   "cell_type": "code",
   "execution_count": null,
   "metadata": {
    "hidden": true
   },
   "outputs": [],
   "source": [
    "eval_pub[0].isin(eval_orig.triple).all()"
   ]
  },
  {
   "cell_type": "code",
   "execution_count": 1070,
   "metadata": {
    "hidden": true
   },
   "outputs": [],
   "source": [
    "eval_pub = pd.concat([dev_pub, test_pub])\n",
    "eval_new = pd.concat([dev_new, test_new])\n"
   ]
  },
  {
   "cell_type": "code",
   "execution_count": 1071,
   "metadata": {
    "hidden": true
   },
   "outputs": [
    {
     "data": {
      "text/plain": [
       "True"
      ]
     },
     "execution_count": 1071,
     "metadata": {},
     "output_type": "execute_result"
    }
   ],
   "source": [
    "eval_pub[0].isin(eval_orig.triple).all()"
   ]
  },
  {
   "cell_type": "code",
   "execution_count": 1072,
   "metadata": {
    "hidden": true
   },
   "outputs": [
    {
     "data": {
      "text/plain": [
       "True"
      ]
     },
     "execution_count": 1072,
     "metadata": {},
     "output_type": "execute_result"
    }
   ],
   "source": [
    "eval_new[0].isin(eval_orig.triple).all()"
   ]
  }
 ],
 "metadata": {
  "kernelspec": {
   "display_name": "Python 3",
   "language": "python",
   "name": "python3"
  },
  "language_info": {
   "codemirror_mode": {
    "name": "ipython",
    "version": 3
   },
   "file_extension": ".py",
   "mimetype": "text/x-python",
   "name": "python",
   "nbconvert_exporter": "python",
   "pygments_lexer": "ipython3",
   "version": "3.6.10"
  }
 },
 "nbformat": 4,
 "nbformat_minor": 2
}
