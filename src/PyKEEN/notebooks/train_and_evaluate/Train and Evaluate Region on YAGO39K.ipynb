{
 "cells": [
  {
   "cell_type": "code",
   "execution_count": 1,
   "metadata": {
    "ExecuteTime": {
     "end_time": "2019-05-12T15:49:47.773302Z",
     "start_time": "2019-05-12T15:49:47.768297Z"
    }
   },
   "outputs": [],
   "source": [
    "TEST = False\n",
    "N = 500\n",
    "relation_to_test = 0 # 0 - triple, 1 - instanceOf, 2 - subClassOf"
   ]
  },
  {
   "cell_type": "code",
   "execution_count": 2,
   "metadata": {
    "ExecuteTime": {
     "end_time": "2019-05-12T15:49:47.804199Z",
     "start_time": "2019-05-12T15:49:47.797218Z"
    }
   },
   "outputs": [],
   "source": [
    "train_path = [\n",
    "    'D:/uni/master/data/YAGO39K/Train/triple2id.tsv',\n",
    "    'D:/uni/master/data/YAGO39K/Train/long.tsv',\n",
    "    'D:/uni/master/data/YAGO39K/Train/instanceOf2id.tsv',\n",
    "    'D:/uni/master/data/YAGO39K/Train/subClassOf2id.tsv'\n",
    "]\n",
    "\n",
    "val_path =  [\n",
    "    'D:/uni/master/data/YAGO39K/Valid/triple2id_positive.tsv',\n",
    "    'D:/uni/master/data/YAGO39K/Valid/instanceOf2id_positive.tsv',\n",
    "    'D:/uni/master/data/YAGO39K/Valid/subClassOf2id_positive.tsv'\n",
    "]\n",
    "\n",
    "neg_val_path = [\n",
    "    'D:/uni/master/data/YAGO39K/Valid/triple2id_negative.tsv',\n",
    "    'D:/uni/master/data/YAGO39K/Valid/instanceOf2id_negative.tsv',\n",
    "    'D:/uni/master/data/YAGO39K/Valid/subClassOf2id_negative.tsv'\n",
    "]\n",
    "\n",
    "test_path =  [\n",
    "    'D:/uni/master/data/YAGO39K/Test/triple2id_positive.tsv',\n",
    "    'D:/uni/master/data/YAGO39K/Test/instanceOf2id_positive.tsv',\n",
    "    'D:/uni/master/data/YAGO39K/Test/subClassOf2id_positive.tsv'\n",
    "]\n",
    "\n",
    "neg_test_path = [\n",
    "    'D:/uni/master/data/YAGO39K/Test/triple2id_negative.tsv',\n",
    "    'D:/uni/master/data/YAGO39K/Test/instanceOf2id_negative.tsv',\n",
    "    'D:/uni/master/data/YAGO39K/Test/subClassOf2id_negative.tsv'\n",
    "]\n",
    "\n",
    "\n",
    "\n",
    "if TEST:   \n",
    "    train_path = [\n",
    "        'D:/uni/master/data/debug/triple2id.tsv'\n",
    "    ]\n",
    "    #test_path =  [\n",
    "    #    'D:/uni/master/data/debug/triple2id_positive_test.tsv']\n",
    "    #val_path =  [\n",
    "    #    'D:/uni/master/data/debug/triple2id_positive_test.tsv']\n"
   ]
  },
  {
   "cell_type": "markdown",
   "metadata": {},
   "source": [
    "Check which hyper-parameters are required by Region:"
   ]
  },
  {
   "cell_type": "code",
   "execution_count": 3,
   "metadata": {
    "ExecuteTime": {
     "end_time": "2019-05-12T15:49:56.390859Z",
     "start_time": "2019-05-12T15:49:47.807192Z"
    }
   },
   "outputs": [
    {
     "data": {
      "text/plain": [
       "['embedding_dim',\n",
       " 'margin_loss',\n",
       " 'learning_rate',\n",
       " 'normalization_of_entities',\n",
       " 'init_radius',\n",
       " 'reg_lambda',\n",
       " 'loss_type',\n",
       " 'single_pass',\n",
       " 'neg_factor',\n",
       " 'region_type']"
      ]
     },
     "execution_count": 3,
     "metadata": {},
     "output_type": "execute_result"
    }
   ],
   "source": [
    "from pykeen.kge_models import Region\n",
    "Region.hyper_params"
   ]
  },
  {
   "cell_type": "markdown",
   "metadata": {},
   "source": [
    "Train and evaluate Region (provide test set):\n",
    "* Define the path to our test set: **test_set_path**\n",
    "* Define the path to our the negative test set: **neg_test_path** in case of triple classfication evaluation\n",
    "* Define whether you want to compute the metrics (mean rank and hits@k) in raw or in a filtered setting: **filter_negative_triples**"
   ]
  },
  {
   "cell_type": "markdown",
   "metadata": {},
   "source": [
    "{'training_set_path': 'D:/uni/master/data/YAGO39K/Train/instanceOf2id.tsv', 'test_set_path': 'D:/uni/master/data/YAGO39K/Valid/instanceOf2id_positive.tsv', 'neg_test_set_path': 'D:/uni/master/data/YAGO39K/Valid/triple2id_negative.tsv', 'execution_mode': 'HPO_mode', 'random_seed': 2, 'kg_embedding_model_name': 'Region', 'embedding_dim': 50, 'normalization_of_entities': 2, 'init_radius': 10, 'reg_lambda': 0.1, 'margin_loss': 0, 'learning_rate': 2, 'num_epochs': 30, 'batch_size': 1024, 'test_batch_size': 1024, 'filter_negative_triples': True, 'maximum_number_of_hpo_iters': 20, 'preferred_device': 'gpu', 'pykeen-version': '0.0.26-dev', 'num_entities': 46100, 'num_relations': 39}"
   ]
  },
  {
   "cell_type": "markdown",
   "metadata": {},
   "source": [
    "{'training_set_path': 'D:/uni/master/data/YAGO39K/Train/instanceOf2id.tsv', 'test_set_path': 'D:/uni/master/data/YAGO39K/Valid/instanceOf2id_positive.tsv', 'neg_test_set_path': 'D:/uni/master/data/YAGO39K/Valid/instanceOf2id_negative.tsv', 'execution_mode': 'HPO_mode', 'random_seed': 2, 'kg_embedding_model_name': 'Region', 'region_type': 'ellipse', 'embedding_dim': 70, 'normalization_of_entities': 1, 'init_radius': 10, 'reg_lambda': 10, 'loss_type': 'MRL', 'margin_loss': 0.0, 'single_pass': True, 'neg_factor': 2, 'learning_rate': 5, 'num_epochs': 50, 'batch_size': 1024, 'test_batch_size': 4096, 'filter_negative_triples': True, 'maximum_number_of_hpo_iters': 100, 'preferred_device': 'gpu', 'pykeen-version': '0.0.26-dev', 'num_entities': 46100, 'num_relations': 39}"
   ]
  },
  {
   "cell_type": "code",
   "execution_count": 4,
   "metadata": {
    "ExecuteTime": {
     "end_time": "2019-05-12T15:49:56.397578Z",
     "start_time": "2019-05-12T15:49:56.392303Z"
    }
   },
   "outputs": [],
   "source": [
    "config = dict(\n",
    "    metrics                     = ['prediction'],\n",
    "    training_set_path           = train_path,\n",
    "    test_set_path               = val_path,\n",
    "    neg_test_set_path           = neg_val_path,\n",
    "    mapping_path                = 'D:/uni/master/data/YAGO39K/',\n",
    "    execution_mode              = 'Training_mode',\n",
    "    random_seed                 = 2,\n",
    "    kg_embedding_model_name     = 'Region',\n",
    "    region_type                 = 'ellipse', # 'ellipse', 'sphere'\n",
    "    embedding_dim               = 100,\n",
    "    normalization_of_entities   = 2,\n",
    "    init_radius                 = 0,\n",
    "    reg_lambda                  = 1e-1,\n",
    "    loss_type                   = 'NLL',\n",
    "    margin_loss                 = 0.5,  # für log WS\n",
    "    single_pass                 = True,\n",
    "    neg_factor                  = 1,\n",
    "    learning_rate               = 0.001,\n",
    "    num_epochs                  = N,  \n",
    "    batch_size                  = 1024,\n",
    "    test_batch_size             = 4096,\n",
    "    filter_negative_triples     = True,\n",
    "    preferred_device            = 'gpu'\n",
    ")"
   ]
  },
  {
   "cell_type": "code",
   "execution_count": 5,
   "metadata": {
    "ExecuteTime": {
     "end_time": "2019-05-12T15:49:56.418079Z",
     "start_time": "2019-05-12T15:49:56.398539Z"
    }
   },
   "outputs": [
    {
     "data": {
      "text/plain": [
       "'D:/uni/master/models/region_dim100_ellipse_rad0_regL01_lr0001_loss-NLL_margin0.5_singlepass-True_negfactor1_epochs500/'"
      ]
     },
     "execution_count": 5,
     "metadata": {},
     "output_type": "execute_result"
    }
   ],
   "source": [
    "output_directory = 'D:/uni/master/models/region_dim{}_{}_rad{}_regL{}_lr{}_loss-{}_margin{}_singlepass-{}_negfactor{}_epochs{}/'.format(\n",
    "    config['embedding_dim'], config['region_type'], config['init_radius'], \n",
    "    str(config['reg_lambda']).replace('.',''), \n",
    "    str(config['learning_rate']).replace('.',''),\n",
    "    config['loss_type'],\n",
    "    config['margin_loss'],\n",
    "    config['single_pass'],\n",
    "    config['neg_factor'],\n",
    "    config['num_epochs']\n",
    ")\n",
    "output_directory"
   ]
  },
  {
   "cell_type": "code",
   "execution_count": 6,
   "metadata": {
    "ExecuteTime": {
     "end_time": "2019-05-12T15:49:56.427281Z",
     "start_time": "2019-05-12T15:49:56.420299Z"
    }
   },
   "outputs": [],
   "source": [
    "if TEST:\n",
    "    output_directory = 'D:/uni/master/models/test/'"
   ]
  },
  {
   "cell_type": "code",
   "execution_count": 7,
   "metadata": {
    "ExecuteTime": {
     "end_time": "2019-05-12T15:49:56.438251Z",
     "start_time": "2019-05-12T15:49:56.430274Z"
    }
   },
   "outputs": [],
   "source": [
    "import logging\n",
    "import os\n",
    "import sys\n",
    "import time\n",
    "import pykeen"
   ]
  },
  {
   "cell_type": "code",
   "execution_count": 8,
   "metadata": {
    "ExecuteTime": {
     "end_time": "2019-05-12T15:49:56.452213Z",
     "start_time": "2019-05-12T15:49:56.442242Z"
    }
   },
   "outputs": [],
   "source": [
    "logging.basicConfig(level=logging.DEBUG)\n",
    "logging.getLogger('pykeen').setLevel(logging.DEBUG)"
   ]
  },
  {
   "cell_type": "code",
   "execution_count": 9,
   "metadata": {
    "ExecuteTime": {
     "end_time": "2019-05-12T15:49:56.478145Z",
     "start_time": "2019-05-12T15:49:56.458199Z"
    }
   },
   "outputs": [
    {
     "name": "stdout",
     "output_type": "stream",
     "text": [
      "3.6.8 |Anaconda, Inc.| (default, Feb 21 2019, 18:30:04) [MSC v.1916 64 bit (AMD64)]\n"
     ]
    }
   ],
   "source": [
    "print(sys.version)"
   ]
  },
  {
   "cell_type": "code",
   "execution_count": 10,
   "metadata": {
    "ExecuteTime": {
     "end_time": "2019-05-12T15:49:56.490112Z",
     "start_time": "2019-05-12T15:49:56.483147Z"
    },
    "scrolled": true
   },
   "outputs": [
    {
     "name": "stdout",
     "output_type": "stream",
     "text": [
      "Sun May 12 17:49:56 2019\n"
     ]
    }
   ],
   "source": [
    "print(time.asctime())"
   ]
  },
  {
   "cell_type": "code",
   "execution_count": 11,
   "metadata": {
    "ExecuteTime": {
     "end_time": "2019-05-12T15:49:56.501086Z",
     "start_time": "2019-05-12T15:49:56.492110Z"
    }
   },
   "outputs": [
    {
     "name": "stdout",
     "output_type": "stream",
     "text": [
      "0.0.26-dev\n"
     ]
    }
   ],
   "source": [
    "print(pykeen.get_version())"
   ]
  },
  {
   "cell_type": "markdown",
   "metadata": {
    "heading_collapsed": true
   },
   "source": [
    "## Train and evaluate Region:"
   ]
  },
  {
   "cell_type": "code",
   "execution_count": 12,
   "metadata": {
    "ExecuteTime": {
     "end_time": "2019-05-12T15:49:57.664588Z",
     "start_time": "2019-05-12T15:49:56.503077Z"
    },
    "hidden": true,
    "scrolled": true
   },
   "outputs": [
    {
     "name": "stderr",
     "output_type": "stream",
     "text": [
      "DEBUG:matplotlib:$HOME=C:\\Users\\aquam\n",
      "DEBUG:matplotlib:CONFIGDIR=C:\\Users\\aquam\\.matplotlib\n",
      "DEBUG:matplotlib:matplotlib data path: D:\\uni\\master\\conda_env\\lib\\site-packages\\matplotlib\\mpl-data\n",
      "DEBUG:matplotlib:loaded rc file D:\\uni\\master\\conda_env\\lib\\site-packages\\matplotlib\\mpl-data\\matplotlibrc\n",
      "DEBUG:matplotlib:matplotlib version 3.0.3\n",
      "DEBUG:matplotlib:interactive is False\n",
      "DEBUG:matplotlib:platform is win32\n",
      "DEBUG:matplotlib:loaded modules: ['builtins', 'sys', '_frozen_importlib', '_imp', '_warnings', '_thread', '_weakref', '_frozen_importlib_external', '_io', 'marshal', 'nt', 'winreg', 'zipimport', 'encodings', 'codecs', '_codecs', 'encodings.aliases', 'encodings.utf_8', '_signal', '__main__', 'encodings.latin_1', 'io', 'abc', '_weakrefset', 'encodings.cp1251', 'site', 'os', 'errno', 'stat', '_stat', 'ntpath', 'genericpath', 'os.path', '_collections_abc', '_sitebuiltins', 'sysconfig', '_bootlocale', '_locale', 'types', 'functools', '_functools', 'collections', 'operator', '_operator', 'keyword', 'heapq', '_heapq', 'itertools', 'reprlib', '_collections', 'weakref', 'collections.abc', 'importlib', 'importlib._bootstrap', 'importlib._bootstrap_external', 'warnings', 'importlib.util', 'importlib.abc', 'importlib.machinery', 'contextlib', 'mpl_toolkits', 'runpy', 'pkgutil', 'ipykernel', 'ipykernel._version', 'ipykernel.connect', '__future__', 'json', 'json.decoder', 're', 'enum', 'sre_compile', '_sre', 'sre_parse', 'sre_constants', 'copyreg', 'json.scanner', '_json', 'json.encoder', 'subprocess', 'time', 'signal', 'threading', 'traceback', 'linecache', 'tokenize', 'token', 'msvcrt', '_winapi', 'IPython', 'IPython.core', 'IPython.core.getipython', 'IPython.core.release', 'IPython.core.application', 'atexit', 'copy', 'glob', 'fnmatch', 'posixpath', 'logging', 'string', '_string', 'shutil', 'zlib', 'bz2', '_compression', '_bz2', 'lzma', '_lzma', 'traitlets', 'traitlets.traitlets', 'inspect', 'ast', '_ast', 'dis', 'opcode', '_opcode', 'six', 'struct', '_struct', 'traitlets.utils', 'traitlets.utils.getargspec', 'traitlets.utils.importstring', 'ipython_genutils', 'ipython_genutils._version', 'ipython_genutils.py3compat', 'ipython_genutils.encoding', 'locale', 'platform', 'traitlets.utils.sentinel', 'traitlets.utils.bunch', 'traitlets._version', 'traitlets.config', 'traitlets.config.application', 'decorator', 'traitlets.config.configurable', 'traitlets.config.loader', 'argparse', 'textwrap', 'gettext', 'ipython_genutils.path', 'random', 'math', 'hashlib', '_hashlib', '_blake2', '_sha3', 'bisect', '_bisect', '_random', 'ipython_genutils.text', 'ipython_genutils.importstring', 'IPython.core.crashhandler', 'pprint', 'IPython.core.ultratb', 'pydoc', 'urllib', 'urllib.parse', 'IPython.core.debugger', 'bdb', 'IPython.utils', 'IPython.utils.PyColorize', 'IPython.utils.coloransi', 'IPython.utils.ipstruct', 'IPython.utils.colorable', 'pygments', 'pygments.util', 'IPython.utils.py3compat', 'IPython.utils.encoding', 'IPython.core.excolors', 'IPython.testing', 'IPython.testing.skipdoctest', 'pdb', 'cmd', 'code', 'codeop', 'IPython.core.display_trap', 'IPython.utils.path', 'IPython.utils.process', 'IPython.utils._process_win32', 'ctypes', '_ctypes', 'ctypes._endian', 'ctypes.wintypes', 'IPython.utils._process_common', 'shlex', 'IPython.utils.decorators', 'IPython.utils.data', 'IPython.utils.terminal', 'IPython.utils.sysinfo', 'IPython.utils._sysinfo', 'IPython.core.profiledir', 'IPython.paths', 'tempfile', 'IPython.utils.importstring', 'IPython.terminal', 'IPython.terminal.embed', 'IPython.core.compilerop', 'IPython.core.magic_arguments', 'IPython.core.error', 'IPython.utils.text', 'pathlib', 'IPython.core.magic', 'getopt', 'IPython.core.oinspect', 'IPython.core.page', 'IPython.core.display', 'binascii', 'mimetypes', 'IPython.lib', 'IPython.lib.security', 'getpass', 'IPython.lib.pretty', 'datetime', '_datetime', 'IPython.utils.openpy', 'IPython.utils.dir2', 'IPython.utils.wildcard', 'pygments.lexers', 'pygments.lexers._mapping', 'pygments.modeline', 'pygments.plugin', 'pygments.lexers.python', 'pygments.lexer', 'pygments.filter', 'pygments.filters', 'pygments.token', 'pygments.regexopt', 'pygments.unistring', 'pygments.formatters', 'pygments.formatters._mapping', 'pygments.formatters.html', 'pygments.formatter', 'pygments.styles', 'IPython.core.inputtransformer2', 'typing', 'typing.io', 'typing.re', 'IPython.core.interactiveshell', 'asyncio', 'selectors', 'select', '_socket', '_overlapped', 'asyncio.base_events', 'concurrent', 'concurrent.futures', 'concurrent.futures._base', 'concurrent.futures.process', 'queue', 'multiprocessing', 'multiprocessing.context', 'multiprocessing.process', 'multiprocessing.reduction', 'pickle', '_compat_pickle', '_pickle', 'socket', '__mp_main__', 'multiprocessing.connection', '_multiprocessing', 'multiprocessing.util', 'concurrent.futures.thread', 'asyncio.compat', 'asyncio.coroutines', 'asyncio.constants', 'asyncio.events', 'asyncio.base_futures', 'asyncio.log', 'asyncio.futures', 'asyncio.base_tasks', '_asyncio', 'asyncio.tasks', 'asyncio.locks', 'asyncio.protocols', 'asyncio.queues', 'asyncio.streams', 'asyncio.subprocess', 'asyncio.transports', 'asyncio.windows_events', 'asyncio.base_subprocess', 'asyncio.proactor_events', 'asyncio.sslproto', 'ssl', 'ipaddress', '_ssl', 'base64', 'asyncio.selector_events', 'asyncio.windows_utils', 'pickleshare', 'IPython.core.prefilter', 'IPython.core.autocall', 'IPython.core.macro', 'IPython.core.splitinput', 'IPython.core.alias', 'IPython.core.builtin_trap', 'IPython.core.events', 'backcall', 'backcall.backcall', 'IPython.core.displayhook', 'IPython.core.displaypub', 'IPython.core.extensions', 'IPython.core.formatters', 'IPython.utils.sentinel', 'IPython.core.history', 'sqlite3', 'sqlite3.dbapi2', '_sqlite3', 'IPython.core.logger', 'IPython.core.payload', 'IPython.core.usage', 'IPython.display', 'IPython.lib.display', 'html', 'html.entities', 'IPython.utils.io', 'IPython.utils.capture', 'IPython.utils.strdispatch', 'IPython.core.hooks', 'IPython.utils.syspathcontext', 'IPython.utils.tempdir', 'IPython.utils.contexts', 'IPython.core.async_helpers', 'IPython.terminal.interactiveshell', 'prompt_toolkit', 'prompt_toolkit.application', 'prompt_toolkit.application.application', 'prompt_toolkit.buffer', 'prompt_toolkit.application.current', 'prompt_toolkit.eventloop', 'prompt_toolkit.eventloop.base', 'prompt_toolkit.log', 'prompt_toolkit.eventloop.coroutine', 'prompt_toolkit.eventloop.defaults', 'prompt_toolkit.utils', 'six.moves', 'wcwidth', 'wcwidth.wcwidth', 'wcwidth.table_wide', 'wcwidth.table_zero', 'prompt_toolkit.cache', 'prompt_toolkit.eventloop.future', 'prompt_toolkit.eventloop.context', 'prompt_toolkit.eventloop.async_generator', 'six.moves.queue', 'prompt_toolkit.eventloop.event', 'prompt_toolkit.application.run_in_terminal', 'prompt_toolkit.auto_suggest', 'prompt_toolkit.filters', 'prompt_toolkit.filters.base', 'prompt_toolkit.filters.app', 'prompt_toolkit.enums', 'prompt_toolkit.filters.utils', 'prompt_toolkit.filters.cli', 'prompt_toolkit.clipboard', 'prompt_toolkit.clipboard.base', 'prompt_toolkit.selection', 'prompt_toolkit.clipboard.in_memory', 'prompt_toolkit.completion', 'prompt_toolkit.completion.base', 'prompt_toolkit.completion.filesystem', 'prompt_toolkit.completion.word_completer', 'prompt_toolkit.completion.fuzzy_completer', 'prompt_toolkit.document', 'prompt_toolkit.history', 'prompt_toolkit.search', 'prompt_toolkit.key_binding', 'prompt_toolkit.key_binding.key_bindings', 'prompt_toolkit.keys', 'prompt_toolkit.key_binding.vi_state', 'prompt_toolkit.validation', 'prompt_toolkit.input', 'prompt_toolkit.input.base', 'prompt_toolkit.input.defaults', 'prompt_toolkit.input.typeahead', 'prompt_toolkit.key_binding.bindings', 'prompt_toolkit.key_binding.bindings.page_navigation', 'prompt_toolkit.key_binding.bindings.scroll', 'prompt_toolkit.key_binding.defaults', 'prompt_toolkit.key_binding.bindings.basic', 'prompt_toolkit.key_binding.key_processor', 'prompt_toolkit.key_binding.bindings.named_commands', 'prompt_toolkit.key_binding.bindings.completion', 'prompt_toolkit.key_binding.bindings.emacs', 'prompt_toolkit.key_binding.bindings.vi', 'prompt_toolkit.input.vt100_parser', 'prompt_toolkit.input.ansi_escape_sequences', 'prompt_toolkit.key_binding.digraphs', 'prompt_toolkit.key_binding.bindings.mouse', 'prompt_toolkit.layout', 'prompt_toolkit.layout.containers', 'prompt_toolkit.layout.controls', 'prompt_toolkit.formatted_text', 'prompt_toolkit.formatted_text.base', 'prompt_toolkit.formatted_text.html', 'xml', 'xml.dom', 'xml.dom.domreg', 'xml.dom.minidom', 'xml.dom.minicompat', 'xml.dom.xmlbuilder', 'xml.dom.NodeFilter', 'prompt_toolkit.formatted_text.ansi', 'prompt_toolkit.output', 'prompt_toolkit.output.base', 'prompt_toolkit.layout.screen', 'prompt_toolkit.output.defaults', 'prompt_toolkit.output.color_depth', 'prompt_toolkit.output.vt100', 'prompt_toolkit.styles', 'prompt_toolkit.styles.base', 'prompt_toolkit.styles.defaults', 'prompt_toolkit.styles.style', 'prompt_toolkit.styles.named_colors', 'prompt_toolkit.styles.pygments', 'prompt_toolkit.styles.style_transformation', 'colorsys', 'array', 'prompt_toolkit.formatted_text.pygments', 'prompt_toolkit.formatted_text.utils', 'prompt_toolkit.lexers', 'prompt_toolkit.lexers.base', 'prompt_toolkit.lexers.pygments', 'prompt_toolkit.mouse_events', 'prompt_toolkit.layout.processors', 'prompt_toolkit.layout.utils', 'prompt_toolkit.layout.dimension', 'prompt_toolkit.layout.margins', 'prompt_toolkit.layout.layout', 'prompt_toolkit.layout.menus', 'prompt_toolkit.renderer', 'prompt_toolkit.layout.mouse_handlers', 'prompt_toolkit.key_binding.bindings.cpr', 'prompt_toolkit.key_binding.emacs_state', 'prompt_toolkit.layout.dummy', 'prompt_toolkit.application.dummy', 'prompt_toolkit.shortcuts', 'prompt_toolkit.shortcuts.dialogs', 'prompt_toolkit.key_binding.bindings.focus', 'prompt_toolkit.widgets', 'prompt_toolkit.widgets.base', 'prompt_toolkit.widgets.toolbars', 'prompt_toolkit.widgets.dialogs', 'prompt_toolkit.widgets.menus', 'prompt_toolkit.shortcuts.prompt', 'prompt_toolkit.key_binding.bindings.auto_suggest', 'prompt_toolkit.key_binding.bindings.open_in_editor', 'prompt_toolkit.shortcuts.utils', 'prompt_toolkit.shortcuts.progress_bar', 'prompt_toolkit.shortcuts.progress_bar.base', 'prompt_toolkit.shortcuts.progress_bar.formatters', 'prompt_toolkit.patch_stdout', 'pygments.style', 'IPython.terminal.debugger', 'IPython.core.completer', 'unicodedata', 'IPython.core.latex_symbols', 'IPython.utils.generics', 'jedi', 'jedi.api', 'parso', 'parso.parser', 'parso.tree', 'parso._compatibility', 'parso.utils', 'parso.pgen2', 'parso.pgen2.generator', 'parso.pgen2.grammar_parser', 'parso.python', 'parso.python.tokenize', 'parso.python.token', 'parso.grammar', 'parso.python.diff', 'difflib', 'parso.python.parser', 'parso.python.tree', 'parso.python.prefix', 'parso.cache', 'gc', 'parso.python.errors', 'parso.normalizer', 'parso.python.pep8', 'jedi._compatibility', 'jedi.parser_utils', 'jedi.debug', 'jedi.settings', 'jedi.cache', 'jedi.api.classes', 'jedi.evaluate', 'jedi.evaluate.utils', 'jedi.evaluate.imports', 'jedi.evaluate.sys_path', 'jedi.evaluate.cache', 'jedi.evaluate.base_context', 'jedi.common', 'jedi.common.context', 'jedi.evaluate.helpers', 'jedi.common.utils', 'jedi.evaluate.compiled', 'jedi.evaluate.compiled.context', 'jedi.evaluate.filters', 'jedi.evaluate.flow_analysis', 'jedi.evaluate.recursion', 'jedi.evaluate.lazy_context', 'jedi.evaluate.compiled.access', 'jedi.evaluate.compiled.getattr_static', 'jedi.evaluate.compiled.fake', 'jedi.evaluate.analysis', 'jedi.evaluate.context', 'jedi.evaluate.context.module', 'jedi.evaluate.context.klass', 'jedi.evaluate.context.function', 'jedi.evaluate.docstrings', 'jedi.evaluate.pep0484', 'jedi.evaluate.arguments', 'jedi.evaluate.context.iterable', 'jedi.evaluate.param', 'jedi.evaluate.context.asynchronous', 'jedi.evaluate.parser_cache', 'jedi.evaluate.context.instance', 'jedi.evaluate.syntax_tree', 'jedi.evaluate.finder', 'jedi.api.keywords', 'pydoc_data', 'pydoc_data.topics', 'jedi.api.interpreter', 'jedi.evaluate.compiled.mixed', 'jedi.api.helpers', 'jedi.api.completion', 'jedi.api.environment', 'filecmp', 'jedi.evaluate.compiled.subprocess', 'jedi.evaluate.compiled.subprocess.functions', 'jedi.api.exceptions', 'jedi.api.project', 'jedi.evaluate.usages', 'IPython.terminal.ptutils', 'IPython.terminal.shortcuts', 'IPython.lib.clipboard', 'IPython.terminal.magics', 'IPython.terminal.pt_inputhooks', 'IPython.terminal.prompts', 'IPython.terminal.ipapp', 'IPython.core.magics', 'IPython.core.magics.auto', 'IPython.core.magics.basic', 'IPython.core.magics.code', 'urllib.request', 'email', 'http', 'http.client', 'email.parser', 'email.feedparser', 'email.errors', 'email._policybase', 'email.header', 'email.quoprimime', 'email.base64mime', 'email.charset', 'email.encoders', 'quopri', 'email.utils', 'email._parseaddr', 'calendar', 'email.message', 'uu', 'email._encoded_words', 'email.iterators', 'urllib.error', 'urllib.response', 'nturl2path', 'IPython.core.magics.config', 'IPython.core.magics.display', 'IPython.core.magics.execution', 'timeit', 'cProfile', '_lsprof', 'profile', 'optparse', 'pstats', 'IPython.utils.module_paths', 'IPython.utils.timing', 'IPython.core.magics.extension', 'IPython.core.magics.history', 'IPython.core.magics.logging', 'IPython.core.magics.namespace', 'IPython.core.magics.osm', 'IPython.core.magics.packaging', 'IPython.core.magics.pylab', 'IPython.core.pylabtools', 'IPython.core.magics.script', 'IPython.lib.backgroundjobs', 'IPython.core.shellapp', 'IPython.extensions', 'IPython.extensions.storemagic', 'IPython.utils.frame', 'jupyter_client', 'jupyter_client._version', 'jupyter_client.connect', 'zmq', 'zmq.backend', 'zmq.backend.select', 'zmq.backend.cython', 'zmq.backend.cython.constants', 'cython_runtime', 'zmq.backend.cython.error', '_cython_0_29_5', 'zmq.backend.cython.message', 'zmq.error', 'zmq.backend.cython.context', 'zmq.backend.cython.socket', 'zmq.backend.cython.utils', 'zmq.backend.cython._poll', 'zmq.backend.cython._version', 'zmq.backend.cython._device', 'zmq.backend.cython._proxy_steerable', 'zmq.sugar', 'zmq.sugar.constants', 'zmq.utils', 'zmq.utils.constant_names', 'zmq.sugar.context', 'zmq.sugar.attrsettr', 'zmq.sugar.socket', 'zmq.sugar.poll', 'zmq.utils.jsonapi', 'zmq.utils.strtypes', 'zmq.sugar.frame', 'zmq.sugar.tracker', 'zmq.sugar.version', 'zmq.sugar.stopwatch', 'jupyter_client.localinterfaces', 'jupyter_core', 'jupyter_core.version', 'jupyter_core.paths', 'jupyter_client.launcher', 'traitlets.log', 'jupyter_client.client', 'jupyter_client.channels', 'jupyter_client.channelsabc', 'jupyter_client.clientabc', 'jupyter_client.manager', 'jupyter_client.kernelspec', 'jupyter_client.managerabc', 'jupyter_client.blocking', 'jupyter_client.blocking.client', 'jupyter_client.blocking.channels', 'jupyter_client.multikernelmanager', 'uuid', 'ctypes.util', 'ipykernel.kernelapp', 'tornado', 'tornado.ioloop', 'numbers', 'tornado.concurrent', 'tornado.log', 'logging.handlers', 'tornado.escape', 'tornado.util', 'tornado.speedups', 'colorama', 'colorama.initialise', 'colorama.ansitowin32', 'colorama.ansi', 'colorama.winterm', 'colorama.win32', 'tornado.stack_context', 'tornado.platform', 'tornado.platform.auto', 'tornado.platform.common', 'tornado.platform.interface', 'tornado.platform.windows', 'zmq.eventloop', 'zmq.eventloop.ioloop', 'tornado.platform.asyncio', 'tornado.gen', 'zmq.eventloop.zmqstream', 'ipykernel.iostream', 'imp', 'jupyter_client.session', 'hmac', 'jupyter_client.jsonutil', 'dateutil', 'dateutil._version', 'dateutil.parser', 'dateutil.parser._parser', 'decimal', '_decimal', 'dateutil.relativedelta', 'dateutil._common', 'dateutil.tz', 'dateutil.tz.tz', 'dateutil.tz._common', 'dateutil.tz._factories', 'dateutil.tz.win', 'dateutil.parser.isoparser', '_strptime', 'jupyter_client.adapter', 'ipykernel.heartbeat', 'ipykernel.ipkernel', 'IPython.utils.tokenutil', 'ipykernel.comm', 'ipykernel.comm.manager', 'ipykernel.comm.comm', 'ipykernel.kernelbase', 'tornado.queues', 'tornado.locks', 'ipykernel.jsonutil', 'ipykernel.zmqshell', 'IPython.core.payloadpage', 'ipykernel.displayhook', 'ipykernel.parentpoller', 'faulthandler', 'ipykernel.datapub', 'ipykernel.serialize', 'ipykernel.pickleutil', 'ipykernel.codeutil', 'IPython.core.completerlib', 'storemagic', 'ipywidgets', 'ipywidgets._version', 'ipywidgets.widgets', 'ipywidgets.widgets.widget', 'ipywidgets.widgets.domwidget', 'ipywidgets.widgets.trait_types', 'ipywidgets.widgets.widget_layout', 'ipywidgets.widgets.widget_style', 'ipywidgets.widgets.valuewidget', 'ipywidgets.widgets.widget_core', 'ipywidgets.widgets.widget_bool', 'ipywidgets.widgets.widget_description', 'ipywidgets.widgets.widget_button', 'ipywidgets.widgets.widget_box', 'ipywidgets.widgets.docutils', 'ipywidgets.widgets.widget_float', 'ipywidgets.widgets.widget_int', 'ipywidgets.widgets.widget_color', 'ipywidgets.widgets.widget_date', 'ipywidgets.widgets.widget_output', 'ipywidgets.widgets.widget_selection', 'ipywidgets.widgets.widget_selectioncontainer', 'ipywidgets.widgets.widget_string', 'ipywidgets.widgets.widget_controller', 'ipywidgets.widgets.interaction', 'ipywidgets.widgets.widget_link', 'ipywidgets.widgets.widget_media', 'pykeen', 'pykeen.constants', 'numpy', 'numpy._globals', 'numpy.__config__', 'numpy.version', 'numpy._distributor_init', 'numpy._mklinit', 'numpy.core', 'numpy.core.info', 'numpy.core.multiarray', 'numpy.core.overrides', 'numpy.core._multiarray_umath', 'numpy.compat', 'numpy.compat._inspect', 'numpy.compat.py3k', 'numpy.core.umath', 'numpy.core.numerictypes', 'numpy.core._string_helpers', 'numpy.core._type_aliases', 'numpy.core._dtype', 'numpy.core.numeric', 'numpy.core._internal', 'numpy.core.fromnumeric', 'numpy.core._methods', 'numpy.core.arrayprint', 'numpy.core.defchararray', 'numpy.core.records', 'numpy.core.memmap', 'numpy.core.function_base', 'numpy.core.machar', 'numpy.core.getlimits', 'numpy.core.shape_base', 'numpy.core.einsumfunc', 'numpy.core._add_newdocs', 'numpy.core._multiarray_tests', 'numpy.core._dtype_ctypes', 'numpy._pytesttester', 'numpy.lib', 'numpy.lib.info', 'numpy.lib.type_check', 'numpy.lib.ufunclike', 'numpy.lib.index_tricks', 'numpy.matrixlib', 'numpy.matrixlib.defmatrix', 'numpy.linalg', 'numpy.linalg.info', 'numpy.linalg.linalg', 'numpy.lib.twodim_base', 'numpy.linalg.lapack_lite', 'numpy.linalg._umath_linalg', 'numpy.lib.function_base', 'numpy.lib.utils', 'numpy.lib.histograms', 'numpy.lib.stride_tricks', 'numpy.lib.mixins', 'numpy.lib.nanfunctions', 'numpy.lib.shape_base', 'numpy.lib.scimath', 'numpy.lib.polynomial', 'numpy.lib.arraysetops', 'numpy.lib.npyio', 'numpy.lib.format', 'numpy.lib._datasource', 'numpy.lib._iotools', 'numpy.lib.financial', 'numpy.lib.arrayterator', 'numpy.lib.arraypad', 'numpy.lib._version', 'numpy.fft', 'numpy.fft.info', 'numpy.fft.fftpack', 'numpy.fft.fftpack_lite', 'numpy.fft.helper', 'mkl_fft', 'mkl_fft._pydfti', '_cython_0_29_2', 'mkl_fft._version', 'mkl_fft._numpy_fft', 'numpy.polynomial', 'numpy.polynomial.polynomial', 'numpy.polynomial.polyutils', 'numpy.polynomial._polybase', 'numpy.polynomial.chebyshev', 'numpy.polynomial.legendre', 'numpy.polynomial.hermite', 'numpy.polynomial.hermite_e', 'numpy.polynomial.laguerre', 'numpy.random', 'numpy.random.mtrand', 'mtrand', 'numpy.ctypeslib', 'numpy.ma', 'numpy.ma.core', 'numpy.ma.extras', 'numpy.testing', 'unittest', 'unittest.result', 'unittest.util', 'unittest.case', 'unittest.suite', 'unittest.loader', 'unittest.main', 'unittest.runner', 'unittest.signals', 'numpy.testing._private', 'numpy.testing._private.utils', 'numpy.testing._private.decorators', 'numpy.testing._private.nosetester', 'pkg_resources', 'zipfile', 'plistlib', 'xml.parsers', 'xml.parsers.expat', 'pyexpat.errors', 'pyexpat.model', 'pyexpat', 'xml.parsers.expat.model', 'xml.parsers.expat.errors', 'pkg_resources.extern', 'pkg_resources._vendor', 'pkg_resources.extern.six', 'pkg_resources._vendor.six', 'pkg_resources.extern.six.moves', 'pkg_resources._vendor.six.moves', 'pkg_resources.py31compat', 'pkg_resources.extern.appdirs', 'pkg_resources._vendor.packaging.__about__', 'pkg_resources.extern.packaging', 'pkg_resources.extern.packaging.version', 'pkg_resources.extern.packaging._structures', 'pkg_resources.extern.packaging.specifiers', 'pkg_resources.extern.packaging._compat', 'pkg_resources.extern.packaging.requirements', 'pkg_resources.extern.pyparsing', 'pkg_resources.extern.six.moves.urllib', 'pkg_resources.extern.packaging.markers', 'pykeen.utilities', 'pykeen.utilities.handlers', 'pykeen.run', 'dataclasses', 'torch', 'torch._utils', 'torch.version', 'torch._six', 'torch._nvrtc', 'torch._C._jit_tree_views', 'torch._C._onnx', 'torch._C', 'torch.random', 'torch.serialization', 'tarfile', 'torch._tensor_str', 'torch.tensor', 'torch.utils', 'torch.utils.hooks', 'torch.storage', 'torch.cuda', 'torch.cuda.random', 'torch.cuda.sparse', 'torch.cuda.profiler', 'torch.cuda.nvtx', 'torch.cuda.streams', 'torch.sparse', 'torch.functional', 'torch.autograd', 'torch.autograd.variable', 'torch.autograd.function', 'torch.autograd.gradcheck', 'torch.testing', 'torch.autograd.grad_mode', 'torch.autograd.profiler', 'torch.nn', 'torch.nn.modules', 'torch.nn.modules.module', 'torch.nn.backends', 'torch.nn.backends.thnn', 'torch.nn.backends.backend', 'torch.nn._functions', 'torch.nn._functions.thnn', 'torch.nn._functions.thnn.auto', 'torch._thnn', 'torch._thnn.utils', 'torch.nn._functions.thnn.auto_double_backwards', 'torch.nn._functions.thnn.auto_symbolic', 'torch.autograd._functions', 'torch.autograd._functions.tensor', 'torch.autograd._functions.utils', 'torch.nn._functions.thnn.normalization', 'torch.nn._functions.thnn.fold', 'torch.nn._functions.thnn.sparse', 'torch.nn._functions.thnn.rnnFusedPointwise', 'torch.nn._functions.rnn', 'torch.backends', 'torch.backends.cudnn', 'torch.nn.functional', 'torch.nn.modules.utils', 'torch.nn._functions.padding', 'torch.nn._functions.vision', 'torch.nn.grad', 'torch.backends.cudnn.rnn', 'torch.nn._functions.dropout', 'torch.nn.parameter', 'torch.nn.modules.linear', 'torch.nn.modules.conv', 'torch.nn.modules.activation', 'torch.nn.modules.loss', 'torch.nn.modules.container', 'torch.nn.modules.pooling', 'torch.nn.modules.batchnorm', 'torch.nn.modules.instancenorm', 'torch.nn.modules.normalization', 'torch.nn.modules.dropout', 'torch.nn.modules.padding', 'torch.nn.modules.sparse', 'torch.nn.modules.rnn', 'torch.nn.utils', 'torch.nn.utils.rnn', 'torch.onnx', 'torch.nn._functions.packing', 'torch.nn.utils.clip_grad', 'torch.nn.utils.weight_norm', 'torch.nn.utils.convert_parameters', 'torch.nn.modules.pixelshuffle', 'torch.nn.modules.upsampling', 'torch.nn.modules.distance', 'torch.nn.modules.fold', 'torch.nn.parallel', 'torch.nn.parallel.parallel_apply', 'torch.nn.parallel.replicate', 'torch.cuda.comm', 'torch.cuda.nccl', 'torch.nn.parallel.data_parallel', 'torch.nn.parallel.scatter_gather', 'torch.nn.parallel._functions', 'torch.nn.parallel.distributed', 'torch.distributed', 'torch.nn.parallel.distributed_cpu', 'torch.nn.init', 'torch.optim', 'torch.optim.adadelta', 'torch.optim.optimizer', 'torch.optim.adagrad', 'torch.optim.adam', 'torch.optim.sparse_adam', 'torch.optim.adamax', 'torch.optim.asgd', 'torch.optim.sgd', 'torch.optim.rprop', 'torch.optim.rmsprop', 'torch.optim.lbfgs', 'torch.optim.lr_scheduler', 'torch.multiprocessing', 'torch.multiprocessing.reductions', 'multiprocessing.resource_sharer', 'torch.utils.backcompat', 'torch.jit', 'torch.jit.frontend', 'torch.distributions', 'torch.distributions.bernoulli', 'torch.distributions.constraints', 'torch.distributions.utils', 'torch.distributions.exp_family', 'torch.distributions.distribution', 'torch.distributions.beta', 'torch.distributions.dirichlet', 'torch.distributions.binomial', 'torch.distributions.categorical', 'torch.distributions.cauchy', 'torch.distributions.chi2', 'torch.distributions.gamma', 'torch.distributions.constraint_registry', 'torch.distributions.transforms', 'torch.distributions.exponential', 'torch.distributions.fishersnedecor', 'torch.distributions.geometric', 'torch.distributions.gumbel', 'torch.distributions.uniform', 'torch.distributions.transformed_distribution', 'torch.distributions.independent', 'torch.distributions.kl', 'torch.distributions.laplace', 'torch.distributions.log_normal', 'torch.distributions.normal', 'torch.distributions.logistic_normal', 'torch.distributions.multivariate_normal', 'torch.distributions.one_hot_categorical', 'torch.distributions.pareto', 'torch.distributions.poisson', 'torch.distributions.multinomial', 'torch.distributions.relaxed_bernoulli', 'torch.distributions.relaxed_categorical', 'torch.distributions.studentT', 'torch.backends.mkl', 'torch._torch_docs', 'torch._tensor_docs', 'torch._storage_docs', 'pykeen.utilities.pipeline', 'rdflib', 'rdflib.term', 'isodate', 'isodate.isodates', 'isodate.isostrf', 'isodate.duration', 'isodate.isotzinfo', 'isodate.isoerror', 'isodate.tzinfo', 'isodate.isotime', 'isodate.isodatetime', 'isodate.isoduration', 'rdflib.py3compat', 'rdflib.compat', 'xml.etree', 'xml.etree.cElementTree', 'xml.etree.ElementTree', 'xml.etree.ElementPath', '_elementtree', 'rdflib.namespace', 'rdflib.graph', 'rdflib.plugin', 'rdflib.store', 'rdflib.events', 'rdflib.parser', 'xml.sax', 'xml.sax.xmlreader', 'xml.sax.handler', 'xml.sax._exceptions', 'rdflib.serializer', 'rdflib.query', 'rdflib.exceptions', 'rdflib.paths', 'rdflib.resource', 'rdflib.collection', 'rdflib.util', 'sklearn', 'sklearn.__check_build', 'sklearn.__check_build._check_build', 'sklearn.base', 'scipy', 'scipy._distributor_init', 'scipy.__config__', 'scipy.version', 'scipy._lib', 'scipy._lib._testutils', 'scipy._lib._version', 'scipy._lib.six', 'scipy._lib._ccallback', 'scipy._lib._ccallback_c', 'scipy.sparse', 'scipy.sparse.base', 'scipy._lib._numpy_compat', 'scipy.sparse.sputils', 'scipy.sparse.csr', 'scipy.sparse._sparsetools', 'scipy.sparse.compressed', 'scipy._lib._util', 'scipy.sparse.data', 'scipy.sparse.dia', 'scipy.sparse.csc', 'scipy.sparse.lil', 'scipy.sparse._csparsetools', 'scipy.sparse.dok', 'scipy.sparse.coo', 'scipy.sparse.bsr', 'scipy.sparse.construct', 'scipy.sparse.extract', 'scipy.sparse._matrix_io', 'scipy.sparse.csgraph', 'scipy.sparse.csgraph._laplacian', 'scipy.sparse.csgraph._shortest_path', '_cython_0_29', 'scipy.sparse.csgraph._validation', 'scipy.sparse.csgraph._tools', 'scipy.sparse.csgraph._traversal', 'scipy.sparse.csgraph._min_spanning_tree', 'scipy.sparse.csgraph._reordering', 'sklearn.externals', 'sklearn.externals.six', 'sklearn.externals.six.moves', 'sklearn.externals.six.moves.urllib_parse', 'sklearn.externals.six.moves.urllib.parse', 'sklearn.externals.six.moves.urllib_error', 'sklearn.externals.six.moves.urllib.error', 'sklearn.externals.six.moves.urllib_request', 'sklearn.externals.six.moves.urllib.request', 'sklearn.externals.six.moves.urllib_response', 'sklearn.externals.six.moves.urllib.response', 'sklearn.externals.six.moves.urllib_robotparser', 'sklearn.externals.six.moves.urllib.robotparser', 'sklearn.externals.six.moves.urllib', 'sklearn.utils', 'sklearn.utils.murmurhash', 'sklearn.utils.validation', 'sklearn.utils.fixes', 'scipy.sparse.linalg', 'scipy.sparse.linalg.isolve', 'scipy.sparse.linalg.isolve.iterative', 'scipy.sparse.linalg.isolve._iterative', 'scipy.sparse.linalg.interface', 'scipy.sparse.linalg.isolve.utils', 'scipy._lib._threadsafety', 'scipy._lib.decorator', 'scipy.sparse.linalg.isolve.minres', 'scipy.sparse.linalg.isolve.lgmres', 'scipy.linalg', 'scipy.linalg.linalg_version', 'scipy.linalg.misc', 'scipy.linalg.blas', 'scipy.linalg._fblas', 'scipy.linalg.lapack', 'scipy.linalg._flapack', 'scipy.linalg.basic', 'scipy.linalg.flinalg', 'scipy.linalg._flinalg', 'scipy.linalg.decomp', 'scipy.linalg.decomp_svd', 'scipy.linalg._solve_toeplitz', 'scipy.linalg.decomp_lu', 'scipy.linalg._decomp_ldl', 'scipy.linalg.decomp_cholesky', 'scipy.linalg.decomp_qr', 'scipy.linalg._decomp_qz', 'scipy.linalg.decomp_schur', 'scipy.linalg._decomp_polar', 'scipy.linalg.matfuncs', 'scipy.linalg.special_matrices', 'scipy.linalg._expm_frechet', 'scipy.linalg._matfuncs_sqrtm', 'scipy.linalg._solvers', 'scipy.linalg._procrustes', 'scipy.linalg._decomp_update', 'scipy.linalg.cython_blas', 'scipy.linalg.cython_lapack', 'scipy.linalg._sketches', 'numpy.dual', 'scipy.sparse.linalg.isolve._gcrotmk', 'scipy.sparse.linalg.isolve.lsqr', 'scipy.sparse.linalg.isolve.lsmr', 'scipy.sparse.linalg.dsolve', 'scipy.sparse.linalg.dsolve.linsolve', 'scipy.sparse.linalg.dsolve._superlu', 'scipy.sparse.linalg.dsolve._add_newdocs', 'scipy.sparse.linalg.eigen', 'scipy.sparse.linalg.eigen.arpack', 'scipy.sparse.linalg.eigen.arpack.arpack', 'scipy.sparse.linalg.eigen.arpack._arpack', 'scipy.sparse.linalg.eigen.lobpcg', 'scipy.sparse.linalg.eigen.lobpcg.lobpcg', 'scipy.sparse.linalg.matfuncs', 'scipy.special', 'scipy.special.sf_error', 'scipy.special._ufuncs', 'scipy.special._ufuncs_cxx', 'scipy.special.basic', 'scipy.special.specfun', 'scipy.special.orthogonal', 'scipy.special._comb', 'scipy.special._logsumexp', 'scipy.special.spfun_stats', 'scipy.special._ellip_harm', 'scipy.special._ellip_harm_2', 'scipy.special.lambertw', 'scipy.special._spherical_bessel', 'scipy.sparse.linalg._onenormest', 'scipy.sparse.linalg._norm', 'scipy.sparse.linalg._expm_multiply', 'sklearn.exceptions', 'sklearn.externals.joblib', 'sklearn.externals.joblib.memory', 'sklearn.externals.joblib.hashing', 'sklearn.externals.joblib._compat', 'sklearn.externals.joblib.func_inspect', 'sklearn.externals.joblib.logger', 'sklearn.externals.joblib.disk', 'sklearn.externals.joblib._memory_helpers', 'sklearn.externals.joblib.numpy_pickle', 'sklearn.externals.joblib.numpy_pickle_utils', 'gzip', 'sklearn.externals.joblib.numpy_pickle_compat', 'sklearn.externals.joblib.backports', 'distutils', 'distutils.version', 'sklearn.externals.joblib.parallel', 'sklearn.externals.joblib._multiprocessing_helpers', 'multiprocessing.synchronize', 'sklearn.externals.joblib.format_stack', 'sklearn.externals.joblib.my_exceptions', 'sklearn.externals.joblib._parallel_backends', 'sklearn.externals.joblib.pool', 'mmap', 'multiprocessing.pool', 'sklearn.utils.class_weight', 'sklearn.utils.deprecation', 'sklearn.model_selection', 'sklearn.model_selection._split', 'sklearn.utils.multiclass', 'sklearn.model_selection._validation', 'sklearn.utils.metaestimators', 'sklearn.metrics', 'sklearn.metrics.ranking', 'scipy.stats', 'scipy.stats.stats', 'scipy.stats.distributions', 'scipy.stats._distn_infrastructure', 'scipy.misc', 'scipy.misc.doccer', 'scipy.misc.common', 'scipy.interpolate', 'scipy.interpolate.interpolate', 'scipy.interpolate.fitpack', 'scipy.interpolate._fitpack_impl', 'scipy.interpolate._fitpack', 'scipy.interpolate.dfitpack', 'scipy.interpolate._bsplines', 'scipy.interpolate._bspl', 'scipy.interpolate.polyint', 'scipy.interpolate._ppoly', 'scipy.interpolate.fitpack2', 'scipy.interpolate.interpnd', 'scipy.spatial', 'scipy.spatial.kdtree', 'scipy.spatial.ckdtree', 'scipy.spatial.qhull', 'scipy._lib.messagestream', 'scipy.spatial._spherical_voronoi', 'scipy.spatial._voronoi', 'scipy.spatial.distance', 'scipy.spatial._distance_wrap', 'scipy.spatial._hausdorff', 'scipy.spatial._plotutils', 'scipy.spatial._procrustes', 'scipy.spatial.transform', 'scipy.spatial.transform.rotation', 'scipy.interpolate.rbf', 'scipy.interpolate._cubic', 'scipy.interpolate.ndgriddata', 'scipy.interpolate._pade', 'scipy.misc.pilutil', 'PIL', 'PIL._version', 'PIL.Image', 'PIL._util', 'PIL.ImageMode', 'PIL._binary', 'PIL._imaging', 'cffi', 'cffi.api', 'cffi.lock', 'cffi.error', 'cffi.model', 'PIL.ImageFilter', 'scipy.stats._distr_params', 'scipy.optimize', 'scipy.optimize.optimize', 'scipy.optimize.linesearch', 'scipy.optimize.minpack2', 'scipy.optimize._minimize', 'scipy.optimize._trustregion_dogleg', 'scipy.optimize._trustregion', 'scipy.optimize._trustregion_ncg', 'scipy.optimize._trustregion_krylov', 'scipy.optimize._trlib', 'scipy.optimize._trlib._trlib', 'scipy.optimize._trustregion_exact', 'scipy.optimize._trustregion_constr', 'scipy.optimize._trustregion_constr.minimize_trustregion_constr', 'scipy.optimize._differentiable_functions', 'scipy.optimize._numdiff', 'scipy.optimize._group_columns', 'scipy.optimize._hessian_update_strategy', 'scipy.optimize._constraints', 'scipy.optimize._trustregion_constr.equality_constrained_sqp', 'scipy.optimize._trustregion_constr.projections', 'scipy.optimize._trustregion_constr.qp_subproblem', 'scipy.optimize._trustregion_constr.canonical_constraint', 'scipy.optimize._trustregion_constr.tr_interior_point', 'scipy.optimize._trustregion_constr.report', 'scipy.optimize.lbfgsb', 'scipy.optimize._lbfgsb', 'scipy.optimize.tnc', 'scipy.optimize.moduleTNC', 'scipy.optimize.cobyla', 'scipy.optimize._cobyla', 'scipy.optimize.slsqp', 'scipy.optimize._slsqp', 'scipy.optimize._root', 'scipy.optimize.minpack', 'scipy.optimize._minpack', 'scipy.optimize._lsq', 'scipy.optimize._lsq.least_squares', 'scipy.optimize._lsq.trf', 'scipy.optimize._lsq.common', 'scipy.optimize._lsq.dogbox', 'scipy.optimize._lsq.lsq_linear', 'scipy.optimize._lsq.trf_linear', 'scipy.optimize._lsq.givens_elimination', 'scipy.optimize._lsq.bvls', 'scipy.optimize._spectral', 'scipy.optimize.nonlin', 'scipy.optimize._root_scalar', 'scipy.optimize.zeros', 'scipy.optimize._zeros', 'scipy.optimize.nnls', 'scipy.optimize._nnls', 'scipy.optimize._basinhopping', 'scipy.optimize._linprog', 'scipy.optimize._linprog_ip', 'scipy.optimize._linprog_simplex', 'scipy.optimize._linprog_util', 'scipy.optimize._remove_redundancy', 'scipy.optimize._hungarian', 'scipy.optimize._differentialevolution', 'scipy.optimize._shgo', 'scipy.optimize._shgo_lib', 'scipy.optimize._shgo_lib.sobol_seq', 'scipy.optimize._shgo_lib.triangulation', 'scipy.optimize._dual_annealing', 'scipy.integrate', 'scipy.integrate.quadrature', 'scipy.integrate.odepack', 'scipy.integrate._odepack', 'scipy.integrate.quadpack', 'scipy.integrate._quadpack', 'scipy.integrate._ode', 'scipy.integrate.vode', 'scipy.integrate._dop', 'scipy.integrate.lsoda', 'scipy.integrate._bvp', 'scipy.integrate._ivp', 'scipy.integrate._ivp.ivp', 'scipy.integrate._ivp.bdf', 'scipy.integrate._ivp.common', 'scipy.integrate._ivp.base', 'scipy.integrate._ivp.radau', 'scipy.integrate._ivp.rk', 'scipy.integrate._ivp.lsoda', 'scipy.stats._constants', 'scipy.stats._continuous_distns', 'scipy.stats._stats', 'scipy.stats._tukeylambda_stats', 'scipy.stats._discrete_distns', 'scipy.stats.mstats_basic', 'scipy.stats._stats_mstats_common', 'scipy.stats._rvs_sampling', 'scipy.stats.morestats', 'scipy.stats.statlib', 'scipy.stats.contingency', 'scipy.stats._binned_statistic', 'scipy.stats.kde', 'scipy.stats.mvn', 'scipy.stats.mstats', 'scipy.stats.mstats_extras', 'scipy.stats._multivariate', 'sklearn.utils.extmath', 'sklearn.utils._logistic_sigmoid', '_cython_0_27_1', 'sklearn.utils.sparsefuncs_fast', 'sklearn.utils.sparsefuncs', 'sklearn.preprocessing', 'sklearn.preprocessing._function_transformer', 'sklearn.preprocessing.data', 'sklearn.preprocessing.label', 'sklearn.preprocessing.imputation', 'sklearn.metrics.base', 'sklearn.metrics.classification', 'sklearn.metrics.cluster', 'sklearn.metrics.cluster.supervised', 'sklearn.metrics.cluster.expected_mutual_info_fast', 'sklearn.utils.lgamma', 'sklearn.metrics.cluster.unsupervised', 'sklearn.metrics.pairwise', 'sklearn.metrics.pairwise_fast', 'sklearn.metrics.cluster.bicluster', 'sklearn.utils.linear_assignment_', 'sklearn.metrics.regression', 'sklearn.metrics.scorer', 'sklearn.model_selection._search', 'sklearn.utils.random', 'sklearn.utils._random', 'pykeen.hpo', 'pykeen.hpo.random_search', 'tqdm', 'tqdm._tqdm', 'tqdm._utils', 'tqdm._monitor', 'tqdm._tqdm_gui', 'tqdm._tqdm_pandas', 'tqdm._main', 'tqdm._version', 'pykeen.hpo.utils', 'pykeen.kge_models', 'pykeen.kge_models.conv_e', 'pykeen.kge_models.distmult', 'pykeen.kge_models.base', 'pykeen.kge_models.ermlp', 'pykeen.kge_models.rescal', 'pykeen.kge_models.structured_embedding', 'pykeen.kge_models.trans_e', 'pykeen.kge_models.trans_d', 'pykeen.kge_models.trans_h', 'pykeen.kge_models.trans_r', 'pykeen.kge_models.region', 'pykeen.kge_models.unstructured_model', 'pykeen.kge_models.utils', 'pykeen.utilities.evaluation_utils', 'pykeen.utilities.evaluation_utils.metrics_computations', 'pykeen.utilities.train_utils', 'pykeen.utilities.triples_creation_utils', 'pykeen.utilities.triples_creation_utils.data_transformation_utils', 'pykeen.utilities.triples_creation_utils.instance_creation_utils', 'matplotlib', 'matplotlib.cbook', 'matplotlib.cbook.deprecation', 'matplotlib.rcsetup', 'matplotlib.fontconfig_pattern', 'pyparsing', 'matplotlib.colors', 'matplotlib._color_data', 'cycler', 'matplotlib._version']\n"
     ]
    },
    {
     "name": "stderr",
     "output_type": "stream",
     "text": [
      "DEBUG:matplotlib:CACHEDIR=C:\\Users\\aquam\\.matplotlib\n",
      "DEBUG:matplotlib.font_manager:Using fontManager instance from C:\\Users\\aquam\\.matplotlib\\fontlist-v300.json\n",
      "DEBUG:matplotlib.pyplot:Loaded backend module://ipykernel.pylab.backend_inline version unknown.\n",
      "DEBUG:matplotlib.pyplot:Loaded backend module://ipykernel.pylab.backend_inline version unknown.\n"
     ]
    }
   ],
   "source": [
    "import numpy as np\n",
    "import matplotlib.pyplot as plt"
   ]
  },
  {
   "cell_type": "code",
   "execution_count": 13,
   "metadata": {
    "ExecuteTime": {
     "end_time": "2019-05-12T15:49:57.686504Z",
     "start_time": "2019-05-12T15:49:57.667556Z"
    },
    "hidden": true
   },
   "outputs": [
    {
     "name": "stderr",
     "output_type": "stream",
     "text": [
      "DEBUG:matplotlib.pyplot:Loaded backend module://ipykernel.pylab.backend_inline version unknown.\n"
     ]
    }
   ],
   "source": [
    "%matplotlib inline"
   ]
  },
  {
   "cell_type": "code",
   "execution_count": 14,
   "metadata": {
    "ExecuteTime": {
     "end_time": "2019-05-12T19:09:07.403741Z",
     "start_time": "2019-05-12T15:49:57.687499Z"
    },
    "hidden": true
   },
   "outputs": [
    {
     "name": "stderr",
     "output_type": "stream",
     "text": [
      "DEBUG:pykeen.utilities.pipeline:Reading the label mappings...\n"
     ]
    },
    {
     "name": "stdout",
     "output_type": "stream",
     "text": [
      "{'metrics': ['prediction'], 'training_set_path': ['D:/uni/master/data/YAGO39K/Train/triple2id.tsv', 'D:/uni/master/data/YAGO39K/Train/long.tsv', 'D:/uni/master/data/YAGO39K/Train/instanceOf2id.tsv', 'D:/uni/master/data/YAGO39K/Train/subClassOf2id.tsv'], 'test_set_path': ['D:/uni/master/data/YAGO39K/Valid/triple2id_positive.tsv', 'D:/uni/master/data/YAGO39K/Valid/instanceOf2id_positive.tsv', 'D:/uni/master/data/YAGO39K/Valid/subClassOf2id_positive.tsv'], 'neg_test_set_path': ['D:/uni/master/data/YAGO39K/Valid/triple2id_negative.tsv', 'D:/uni/master/data/YAGO39K/Valid/instanceOf2id_negative.tsv', 'D:/uni/master/data/YAGO39K/Valid/subClassOf2id_negative.tsv'], 'mapping_path': 'D:/uni/master/data/YAGO39K/', 'execution_mode': 'Training_mode', 'random_seed': 2, 'kg_embedding_model_name': 'Region', 'region_type': 'ellipse', 'embedding_dim': 100, 'normalization_of_entities': 2, 'init_radius': 0, 'reg_lambda': 0.1, 'loss_type': 'NLL', 'margin_loss': 0.5, 'single_pass': True, 'neg_factor': 1, 'learning_rate': 0.001, 'num_epochs': 500, 'batch_size': 1024, 'test_batch_size': 4096, 'filter_negative_triples': True, 'preferred_device': 'gpu', 'pykeen-version': '0.0.26-dev', 'num_entities': 85482, 'num_relations': 39}\n"
     ]
    },
    {
     "name": "stderr",
     "output_type": "stream",
     "text": [
      "INFO:pykeen.utilities.pipeline:-------------Train KG Embeddings-------------\n",
      "DEBUG:pykeen.utilities.train_utils:****running model on cuda:0****\n",
      "INFO:pykeen.utilities.train_utils:Epoch  0 / 500 (116.1 s):   loss: 1.279   val loss: 2.152\n",
      "DEBUG:pykeen.utilities.train_utils:Saving the following model to disk:\n",
      "INFO:pykeen.utilities.train_utils:Epoch  1 / 500 (115.8 s):   loss: 3.077   val loss: 4.046\n",
      "INFO:pykeen.utilities.train_utils:Epoch  2 / 500 (116.4 s):   loss: 4.904   val loss: 5.787\n",
      "INFO:pykeen.utilities.train_utils:Epoch  3 / 500 (116.6 s):   loss: 6.572   val loss: 7.383\n",
      "INFO:pykeen.utilities.train_utils:Epoch  4 / 500 (116.5 s):   loss: 8.125   val loss: 8.905\n",
      "INFO:pykeen.utilities.train_utils:Epoch  5 / 500 (116.6 s):   loss: 9.643   val loss: 10.431\n",
      "INFO:pykeen.utilities.train_utils:Epoch  6 / 500 (116.6 s):   loss: 11.186   val loss: 11.993\n",
      "INFO:pykeen.utilities.train_utils:Epoch  7 / 500 (116.6 s):   loss: 12.771   val loss: 13.609\n",
      "INFO:pykeen.utilities.train_utils:Epoch  8 / 500 (116.7 s):   loss: 14.422   val loss: 15.300\n",
      "INFO:pykeen.utilities.train_utils:Epoch  9 / 500 (116.5 s):   loss: 16.160   val loss: 17.095\n",
      "INFO:pykeen.utilities.train_utils:Epoch 10 / 500 (116.4 s):   loss: 18.013   val loss: 19.008\n",
      "INFO:pykeen.utilities.train_utils:Epoch 11 / 500 (116.4 s):   loss: 20.001   val loss: 21.089\n",
      "INFO:pykeen.utilities.train_utils:Epoch 12 / 500 (116.5 s):   loss: 22.179   val loss: 23.381\n",
      "INFO:pykeen.utilities.train_utils:Epoch 13 / 500 (116.5 s):   loss: 24.614   val loss: 25.982\n",
      "INFO:pykeen.utilities.train_utils:Epoch 14 / 500 (116.7 s):   loss: 27.397   val loss: 28.977\n",
      "INFO:pykeen.utilities.train_utils:Epoch 15 / 500 (116.6 s):   loss: 30.613   val loss: 32.446\n",
      "INFO:pykeen.utilities.train_utils:Epoch 16 / 500 (116.5 s):   loss: 34.371   val loss: 36.532\n",
      "INFO:pykeen.utilities.train_utils:Epoch 17 / 500 (116.6 s):   loss: 38.787   val loss: 41.314\n",
      "INFO:pykeen.utilities.train_utils:Epoch 18 / 500 (116.6 s):   loss: 43.965   val loss: 46.967\n",
      "INFO:pykeen.utilities.train_utils:Epoch 19 / 500 (116.6 s):   loss: 50.121   val loss: 53.689\n",
      "INFO:pykeen.utilities.train_utils:Epoch 20 / 500 (116.6 s):   loss: 57.455   val loss: 61.733\n",
      "INFO:pykeen.utilities.train_utils:Epoch 21 / 500 (116.7 s):   loss: 66.241   val loss: 71.326\n",
      "INFO:pykeen.utilities.train_utils:Epoch 22 / 500 (116.6 s):   loss: 76.255   val loss: 81.397\n",
      "INFO:pykeen.utilities.train_utils:Epoch 23 / 500 (116.6 s):   loss: 85.728   val loss: 89.824\n",
      "INFO:pykeen.utilities.train_utils:Epoch 24 / 500 (116.6 s):   loss: 94.771   val loss: 100.193\n",
      "INFO:pykeen.utilities.train_utils:Epoch 25 / 500 (116.6 s):   loss: 106.278   val loss: 112.582\n",
      "INFO:pykeen.utilities.train_utils:Epoch 26 / 500 (116.6 s):   loss: 118.945   val loss: 125.647\n",
      "INFO:pykeen.utilities.train_utils:Epoch 27 / 500 (116.6 s):   loss: 132.666   val loss: 139.984\n",
      "INFO:pykeen.utilities.train_utils:Epoch 28 / 500 (116.6 s):   loss: 147.258   val loss: 154.652\n",
      "INFO:pykeen.utilities.train_utils:Epoch 29 / 500 (116.5 s):   loss: 162.163   val loss: 169.871\n",
      "INFO:pykeen.utilities.train_utils:Epoch 30 / 500 (116.6 s):   loss: 177.312   val loss: 184.707\n",
      "INFO:pykeen.utilities.train_utils:Epoch 31 / 500 (116.6 s):   loss: 192.040   val loss: 199.231\n",
      "INFO:pykeen.utilities.train_utils:Epoch 32 / 500 (116.6 s):   loss: 205.970   val loss: 212.278\n",
      "INFO:pykeen.utilities.train_utils:Epoch 33 / 500 (116.6 s):   loss: 218.848   val loss: 224.759\n",
      "INFO:pykeen.utilities.train_utils:Epoch 34 / 500 (116.6 s):   loss: 230.840   val loss: 236.374\n",
      "INFO:pykeen.utilities.train_utils:Epoch 35 / 500 (116.6 s):   loss: 242.236   val loss: 247.508\n",
      "INFO:pykeen.utilities.train_utils:Epoch 36 / 500 (116.6 s):   loss: 253.145   val loss: 258.236\n",
      "INFO:pykeen.utilities.train_utils:Epoch 37 / 500 (116.6 s):   loss: 263.610   val loss: 268.477\n",
      "INFO:pykeen.utilities.train_utils:Epoch 38 / 500 (116.6 s):   loss: 273.718   val loss: 278.499\n",
      "INFO:pykeen.utilities.train_utils:Epoch 39 / 500 (116.7 s):   loss: 283.777   val loss: 288.594\n",
      "INFO:pykeen.utilities.train_utils:Epoch 40 / 500 (116.6 s):   loss: 293.720   val loss: 298.340\n",
      "INFO:pykeen.utilities.train_utils:Epoch 41 / 500 (116.6 s):   loss: 303.641   val loss: 308.461\n",
      "INFO:pykeen.utilities.train_utils:Epoch 42 / 500 (116.5 s):   loss: 313.672   val loss: 318.314\n",
      "INFO:pykeen.utilities.train_utils:Epoch 43 / 500 (116.5 s):   loss: 323.581   val loss: 328.304\n",
      "INFO:pykeen.utilities.train_utils:Epoch 44 / 500 (116.5 s):   loss: 333.512   val loss: 338.192\n",
      "INFO:pykeen.utilities.train_utils:Epoch 45 / 500 (116.5 s):   loss: 342.936   val loss: 347.606\n",
      "INFO:pykeen.utilities.train_utils:Epoch 46 / 500 (116.5 s):   loss: 353.065   val loss: 357.939\n",
      "INFO:pykeen.utilities.train_utils:Epoch 47 / 500 (116.5 s):   loss: 363.054   val loss: 367.913\n",
      "INFO:pykeen.utilities.train_utils:Epoch 48 / 500 (116.5 s):   loss: 373.316   val loss: 378.243\n",
      "INFO:pykeen.utilities.train_utils:Epoch 49 / 500 (116.5 s):   loss: 383.270   val loss: 388.187\n",
      "INFO:pykeen.utilities.train_utils:Epoch 50 / 500 (116.5 s):   loss: 393.553   val loss: 398.564\n",
      "INFO:pykeen.utilities.train_utils:Epoch 51 / 500 (116.5 s):   loss: 403.815   val loss: 408.834\n",
      "INFO:pykeen.utilities.train_utils:Epoch 52 / 500 (116.5 s):   loss: 413.523   val loss: 418.553\n",
      "INFO:pykeen.utilities.train_utils:Epoch 53 / 500 (116.5 s):   loss: 423.712   val loss: 428.789\n",
      "INFO:pykeen.utilities.train_utils:Epoch 54 / 500 (116.6 s):   loss: 434.001   val loss: 439.078\n",
      "INFO:pykeen.utilities.train_utils:Epoch 55 / 500 (116.5 s):   loss: 444.041   val loss: 449.137\n",
      "INFO:pykeen.utilities.train_utils:Epoch 56 / 500 (116.5 s):   loss: 454.360   val loss: 459.481\n",
      "INFO:pykeen.utilities.train_utils:Epoch 57 / 500 (116.5 s):   loss: 464.751   val loss: 469.977\n",
      "INFO:pykeen.utilities.train_utils:Epoch 58 / 500 (116.5 s):   loss: 475.262   val loss: 480.311\n",
      "INFO:pykeen.utilities.train_utils:Epoch 59 / 500 (116.5 s):   loss: 485.357   val loss: 490.516\n",
      "INFO:pykeen.utilities.train_utils:Epoch 60 / 500 (116.5 s):   loss: 495.220   val loss: 500.246\n",
      "INFO:pykeen.utilities.train_utils:Epoch 61 / 500 (116.6 s):   loss: 505.358   val loss: 510.438\n",
      "INFO:pykeen.utilities.train_utils:Epoch 62 / 500 (116.5 s):   loss: 515.224   val loss: 519.943\n",
      "INFO:pykeen.utilities.train_utils:Epoch 63 / 500 (116.5 s):   loss: 524.615   val loss: 529.358\n",
      "INFO:pykeen.utilities.train_utils:Epoch 64 / 500 (116.6 s):   loss: 534.229   val loss: 538.896\n",
      "INFO:pykeen.utilities.train_utils:Epoch 65 / 500 (116.6 s):   loss: 543.505   val loss: 548.118\n",
      "INFO:pykeen.utilities.train_utils:Epoch 66 / 500 (116.5 s):   loss: 552.275   val loss: 556.708\n",
      "INFO:pykeen.utilities.train_utils:Epoch 67 / 500 (116.5 s):   loss: 561.240   val loss: 565.667\n",
      "INFO:pykeen.utilities.train_utils:Epoch 68 / 500 (116.5 s):   loss: 570.037   val loss: 574.194\n",
      "INFO:pykeen.utilities.train_utils:Epoch 69 / 500 (116.5 s):   loss: 578.420   val loss: 582.500\n",
      "INFO:pykeen.utilities.train_utils:Epoch 70 / 500 (116.5 s):   loss: 586.448   val loss: 590.483\n",
      "INFO:pykeen.utilities.train_utils:Epoch 71 / 500 (116.5 s):   loss: 594.603   val loss: 598.556\n",
      "INFO:pykeen.utilities.train_utils:Epoch 72 / 500 (116.5 s):   loss: 602.424   val loss: 606.161\n",
      "INFO:pykeen.utilities.train_utils:Epoch 73 / 500 (116.5 s):   loss: 609.781   val loss: 613.465\n",
      "INFO:pykeen.utilities.train_utils:Epoch 74 / 500 (116.5 s):   loss: 617.240   val loss: 620.837\n",
      "INFO:pykeen.utilities.train_utils:Epoch 75 / 500 (116.4 s):   loss: 624.798   val loss: 628.444\n",
      "INFO:pykeen.utilities.train_utils:Epoch 76 / 500 (116.4 s):   loss: 631.555   val loss: 635.084\n",
      "INFO:pykeen.utilities.train_utils:Epoch 77 / 500 (116.5 s):   loss: 638.813   val loss: 642.434\n",
      "INFO:pykeen.utilities.train_utils:Epoch 78 / 500 (116.5 s):   loss: 646.083   val loss: 649.551\n",
      "INFO:pykeen.utilities.train_utils:Epoch 79 / 500 (116.4 s):   loss: 652.697   val loss: 656.086\n",
      "INFO:pykeen.utilities.train_utils:Epoch 80 / 500 (116.5 s):   loss: 659.616   val loss: 663.008\n",
      "INFO:pykeen.utilities.train_utils:Epoch 81 / 500 (116.4 s):   loss: 666.054   val loss: 669.361\n",
      "INFO:pykeen.utilities.train_utils:Epoch 82 / 500 (116.5 s):   loss: 672.877   val loss: 676.216\n",
      "INFO:pykeen.utilities.train_utils:Epoch 83 / 500 (116.5 s):   loss: 679.229   val loss: 682.419\n",
      "INFO:pykeen.utilities.train_utils:Epoch 84 / 500 (116.5 s):   loss: 685.392   val loss: 688.453\n",
      "INFO:pykeen.utilities.train_utils:Epoch 85 / 500 (116.5 s):   loss: 691.843   val loss: 694.986\n",
      "INFO:pykeen.utilities.train_utils:Epoch 86 / 500 (116.5 s):   loss: 698.241   val loss: 701.360\n",
      "INFO:pykeen.utilities.train_utils:Epoch 87 / 500 (116.5 s):   loss: 704.122   val loss: 707.153\n",
      "INFO:pykeen.utilities.train_utils:Epoch 88 / 500 (116.4 s):   loss: 710.228   val loss: 713.201\n",
      "INFO:pykeen.utilities.train_utils:Epoch 89 / 500 (116.4 s):   loss: 716.231   val loss: 719.237\n",
      "INFO:pykeen.utilities.train_utils:Epoch 90 / 500 (116.4 s):   loss: 722.001   val loss: 725.002\n",
      "INFO:pykeen.utilities.train_utils:Epoch 91 / 500 (116.4 s):   loss: 728.058   val loss: 731.030\n",
      "INFO:pykeen.utilities.train_utils:Epoch 92 / 500 (116.5 s):   loss: 733.944   val loss: 736.908\n",
      "INFO:pykeen.utilities.train_utils:Epoch 93 / 500 (116.4 s):   loss: 739.697   val loss: 742.665\n",
      "INFO:pykeen.utilities.train_utils:Epoch 94 / 500 (116.5 s):   loss: 745.562   val loss: 748.498\n",
      "INFO:pykeen.utilities.train_utils:Epoch 95 / 500 (116.5 s):   loss: 751.208   val loss: 754.086\n",
      "INFO:pykeen.utilities.train_utils:Epoch 96 / 500 (116.5 s):   loss: 756.990   val loss: 759.839\n",
      "INFO:pykeen.utilities.train_utils:Epoch 97 / 500 (116.5 s):   loss: 762.632   val loss: 765.499\n",
      "INFO:pykeen.utilities.train_utils:Epoch 98 / 500 (116.5 s):   loss: 768.172   val loss: 771.002\n",
      "INFO:pykeen.utilities.train_utils:Epoch 99 / 500 (116.5 s):   loss: 773.809   val loss: 776.652\n",
      "INFO:pykeen.utilities.train_utils:Epoch 100 / 500 (116.5 s):   loss: 779.159   val loss: 781.776\n",
      "DEBUG:pykeen.utilities.train_utils:training took 11884.83s seconds\n",
      "INFO:pykeen.utilities.pipeline:-------------Start Evaluation-------------\n",
      "INFO:pykeen.utilities.evaluation_utils.metrics_computations:Best accuracy achieved on threshold: 0.50\n",
      "INFO:pykeen.utilities.evaluation_utils.metrics_computations:Evaluation took 0.32s seconds\n"
     ]
    }
   ],
   "source": [
    "results = pykeen.run(\n",
    "    config=config,\n",
    "    output_directory=output_directory,\n",
    ")"
   ]
  },
  {
   "cell_type": "markdown",
   "metadata": {
    "hidden": true
   },
   "source": [
    "Check result entries:"
   ]
  },
  {
   "cell_type": "code",
   "execution_count": 15,
   "metadata": {
    "ExecuteTime": {
     "end_time": "2019-05-12T19:09:07.410588Z",
     "start_time": "2019-05-12T19:09:07.405436Z"
    },
    "hidden": true
   },
   "outputs": [
    {
     "data": {
      "text/plain": [
       "odict_keys(['trained_model', 'losses', 'validation_losses', 'entity_to_embedding', 'relation_to_embedding', 'eval_summary', 'entity_to_id', 'relation_to_id', 'final_configuration', 'search_summary'])"
      ]
     },
     "execution_count": 15,
     "metadata": {},
     "output_type": "execute_result"
    }
   ],
   "source": [
    "results.results.keys()"
   ]
  },
  {
   "cell_type": "markdown",
   "metadata": {
    "hidden": true
   },
   "source": [
    "Visualize loss values:"
   ]
  },
  {
   "cell_type": "code",
   "execution_count": 16,
   "metadata": {
    "ExecuteTime": {
     "end_time": "2019-05-12T19:09:07.612053Z",
     "start_time": "2019-05-12T19:09:07.412584Z"
    },
    "hidden": true
   },
   "outputs": [
    {
     "name": "stderr",
     "output_type": "stream",
     "text": [
      "DEBUG:matplotlib.axes._base:update_title_pos\n",
      "DEBUG:matplotlib.font_manager:findfont: Matching :family=sans-serif:style=normal:variant=normal:weight=normal:stretch=normal:size=10.0 to DejaVu Sans ('D:\\\\uni\\\\master\\\\conda_env\\\\lib\\\\site-packages\\\\matplotlib\\\\mpl-data\\\\fonts\\\\ttf\\\\DejaVuSans.ttf') with score of 0.050000.\n",
      "DEBUG:matplotlib.font_manager:findfont: Matching :family=sans-serif:style=normal:variant=normal:weight=normal:stretch=normal:size=12.0 to DejaVu Sans ('D:\\\\uni\\\\master\\\\conda_env\\\\lib\\\\site-packages\\\\matplotlib\\\\mpl-data\\\\fonts\\\\ttf\\\\DejaVuSans.ttf') with score of 0.050000.\n",
      "DEBUG:matplotlib.axes._base:update_title_pos\n",
      "DEBUG:matplotlib.axes._base:update_title_pos\n",
      "DEBUG:matplotlib.axes._base:update_title_pos\n"
     ]
    },
    {
     "data": {
      "image/png": "[encoded data removed]",
      "text/plain": [
       "<Figure size 432x288 with 1 Axes>"
      ]
     },
     "metadata": {
      "needs_background": "light"
     },
     "output_type": "display_data"
    }
   ],
   "source": [
    "losses = results.results['losses']\n",
    "epochs = np.arange(len(losses))\n",
    "plt.title(r'Loss Per Epoch')\n",
    "plt.xlabel('epoch')\n",
    "plt.ylabel('loss')\n",
    "plt.plot(epochs, losses)\n",
    "plt.show()"
   ]
  },
  {
   "cell_type": "code",
   "execution_count": 17,
   "metadata": {
    "ExecuteTime": {
     "end_time": "2019-05-12T19:09:07.799548Z",
     "start_time": "2019-05-12T19:09:07.616039Z"
    },
    "hidden": true
   },
   "outputs": [
    {
     "name": "stderr",
     "output_type": "stream",
     "text": [
      "DEBUG:matplotlib.axes._base:update_title_pos\n",
      "DEBUG:matplotlib.axes._base:update_title_pos\n",
      "DEBUG:matplotlib.axes._base:update_title_pos\n",
      "DEBUG:matplotlib.axes._base:update_title_pos\n"
     ]
    },
    {
     "data": {
      "image/png": "[encoded data removed]",
      "text/plain": [
       "<Figure size 432x288 with 1 Axes>"
      ]
     },
     "metadata": {
      "needs_background": "light"
     },
     "output_type": "display_data"
    }
   ],
   "source": [
    "losses = results.results['validation_losses']\n",
    "epochs = np.arange(len(losses))\n",
    "plt.title(r'Loss Per Epoch')\n",
    "plt.xlabel('epoch')\n",
    "plt.ylabel('loss')\n",
    "plt.plot(epochs, losses)\n",
    "plt.show()"
   ]
  },
  {
   "cell_type": "code",
   "execution_count": 18,
   "metadata": {
    "ExecuteTime": {
     "end_time": "2019-05-12T19:09:07.806531Z",
     "start_time": "2019-05-12T19:09:07.801543Z"
    },
    "hidden": true
   },
   "outputs": [
    {
     "data": {
      "text/plain": [
       "{'mean_rank': None,\n",
       " 'hits@k': None,\n",
       " 'precision': 0.5630004214075011,\n",
       " 'recall': 0.3483475653477609,\n",
       " 'accuracy': 0.5386045601330854,\n",
       " 'f1_score': 0.430395038859582}"
      ]
     },
     "execution_count": 18,
     "metadata": {},
     "output_type": "execute_result"
    }
   ],
   "source": [
    "results.results['eval_summary']"
   ]
  },
  {
   "cell_type": "markdown",
   "metadata": {},
   "source": [
    "## Load and evaluate"
   ]
  },
  {
   "cell_type": "code",
   "execution_count": 19,
   "metadata": {
    "ExecuteTime": {
     "end_time": "2019-05-12T19:09:07.821489Z",
     "start_time": "2019-05-12T19:09:07.808524Z"
    }
   },
   "outputs": [],
   "source": [
    "import torch\n",
    "import json\n",
    "import os\n",
    "import pykeen.constants as pkc\n",
    "from pykeen.kge_models import get_kge_model\n",
    "from pykeen.utilities.pipeline import Pipeline"
   ]
  },
  {
   "cell_type": "code",
   "execution_count": 20,
   "metadata": {
    "ExecuteTime": {
     "end_time": "2019-05-12T19:09:07.835451Z",
     "start_time": "2019-05-12T19:09:07.822486Z"
    }
   },
   "outputs": [
    {
     "data": {
      "text/plain": [
       "'D:/uni/master/models/region_dim100_ellipse_rad0_regL01_lr0001_loss-NLL_margin0.5_singlepass-True_negfactor1_epochs500/'"
      ]
     },
     "execution_count": 20,
     "metadata": {},
     "output_type": "execute_result"
    }
   ],
   "source": [
    "#input_directory = 'D:/uni/master/models/region_hpo/'\n",
    "#input_directory = 'D:/uni/master/models/region_dim50_rad10_regL01_lr2/'\n",
    "input_directory = output_directory\n",
    "input_directory"
   ]
  },
  {
   "cell_type": "code",
   "execution_count": 21,
   "metadata": {
    "ExecuteTime": {
     "end_time": "2019-05-12T19:09:07.849415Z",
     "start_time": "2019-05-12T19:09:07.836451Z"
    }
   },
   "outputs": [
    {
     "data": {
      "text/plain": [
       "['region_1000epochs',\n",
       " 'region_20epochs',\n",
       " 'region_300epochs',\n",
       " 'region_5epochs',\n",
       " 'region_dim100_ellipse_rad0_regL01_lr0001_loss-NLL_margin0.5_singlepass-True_negfactor1_epochs500',\n",
       " 'region_dim100_ellipse_rad0_regL1e-05_lr0001_loss-NLL_margin0.5_singlepass-True_negfactor1_epochs500',\n",
       " 'region_dim100_ellipse_rad10_regL1e-05_lr0001_loss-NLL_margin0.0_singlepass-True_negfactor2_epochs50',\n",
       " 'region_dim100_sphere_rad10_regL1e-05_lr0001_loss-MRL_margin0.0_singlepass-False_negfactor1_epochs1',\n",
       " 'region_dim100_sphere_rad10_regL1e-05_lr0001_loss-NLL_margin0.0_singlepass-True_negfactor2_epochs1',\n",
       " 'region_dim100_sphere_rad10_regL1e-05_lr0001_loss-NLL_margin0.0_singlepass-True_negfactor2_epochs3',\n",
       " 'region_dim100_sphere_rad10_regL1e-05_lr0001_loss-NLL_margin0.0_singlepass-True_negfactor2_epochs50',\n",
       " 'region_dim10_sphere_rad10_regL1e-05_lr0001_loss-NLL_margin0.0_singlepass-True_negfactor2_epochs5',\n",
       " 'region_dim20_rad5_regL002_lr5',\n",
       " 'region_dim20_rad5_regL002_lr5_loss-MRL_margin0_singlepass-False_negfactor1',\n",
       " 'region_dim50_rad10_regL01_lr2',\n",
       " 'region_dim50_rad5_regL002_lr1_loss-MRL_margin0.0_singlepass-False_negfactor3',\n",
       " 'region_dim50_sphere_rad10_regL1e-05_lr0001_loss-MRL_margin1_singlepass-False_negfactor1_epochs10',\n",
       " 'region_dim50_sphere_rad10_regL1e-05_lr0001_loss-NLL_margin1_singlepass-True_negfactor1_epochs500',\n",
       " 'region_dim50_sphere_rad10_regL1e-05_lr001_loss-MRL_margin1_singlepass-False_negfactor1_epochs10',\n",
       " 'region_dim50_sphere_rad10_regL1e-05_lr001_loss-MRL_margin2_singlepass-False_negfactor1_epochs10',\n",
       " 'region_dim50_sphere_rad10_regL1e-05_lr001_loss-NLL_margin0.0_singlepass-True_negfactor1_epochs10',\n",
       " 'region_dim50_sphere_rad10_regL1e-05_lr001_loss-NLL_margin1_singlepass-True_negfactor1_epochs500',\n",
       " 'region_dim70_ellipse_rad10_regL1e-05_lr0001_loss-NLL_margin0.0_singlepass-True_negfactor2_epochs50',\n",
       " 'region_dim70_rad10_regL01_lr0001_loss-NLL_margin0.0_singlepass-True_negfactor2_epochs10',\n",
       " 'region_dim70_rad10_regL10_lr5_loss-MRL_margin0.0_singlepass-True_negfactor2',\n",
       " 'region_dim70_rad10_regL10_lr5_loss-NLL_margin0.0_singlepass-True_negfactor2',\n",
       " 'region_dim70_rad10_regL1e-05_lr0001_loss-NLL_margin0.0_singlepass-True_negfactor2_epochs50',\n",
       " 'region_dim70_rad10_regL2_lr10_loss-NLL_margin0.0_singlepass-True_negfactor2_epochs100',\n",
       " 'region_dim70_rad10_regL2_lr10_loss-NLL_margin0.0_singlepass-True_negfactor2_epochs1000',\n",
       " 'region_dim70_rad10_regL2_lr5_loss-NLL_margin0.0_singlepass-True_negfactor2',\n",
       " 'region_dim70_sphere_rad10_regL1e-05_lr0001_loss-MRL_margin0.0_singlepass-False_negfactor1_epochs10',\n",
       " 'region_dim70_sphere_rad10_regL1e-05_lr0001_loss-MRL_margin0.0_singlepass-False_negfactor1_epochs2',\n",
       " 'region_dim70_sphere_rad10_regL1e-05_lr0001_loss-NLL_margin0.0_singlepass-False_negfactor1_epochs10',\n",
       " 'region_dim70_sphere_rad10_regL1e-05_lr0001_loss-NLL_margin0.0_singlepass-True_negfactor1_epochs10',\n",
       " 'region_dim70_sphere_rad10_regL1e-05_lr001_loss-NLL_margin0.0_singlepass-True_negfactor1_epochs10',\n",
       " 'region_hpo',\n",
       " 'test',\n",
       " 'TransE',\n",
       " 'TransE_3margins',\n",
       " 'TransE_dim20_lr001_margin1_epochs1000',\n",
       " 'TransE_dim20_lr01_margin1_epochs1000',\n",
       " 'TransE_dim50_lr0001_scoreL1_margin1_epochs1000',\n",
       " 'TransE_dim50_lr0001_scoreL1_margin1_epochs1001',\n",
       " 'TransE_dim50_lr0001_scoreL1_margin1_epochs3',\n",
       " 'TransE_dim50_lr001_margin1_epochs1000',\n",
       " 'TransE_dim50_lr001_scoreL1_margin1_epochs1000',\n",
       " 'TransE_dim50_lr001_scoreL2_margin1_epochs1001',\n",
       " 'TransE_dim50_lr1_margin1_epochs1000',\n",
       " 'TransE_dim50_lr1_scoreL2_margin1_epochs1001',\n",
       " 'TransE_FB15k_dim50_lr001_margin1_epochs1000',\n",
       " 'TransE_FB15k_dim50_lr001_margin1_epochs500',\n",
       " 'TransE_FB15k_dim50_lr1_margin1_epochs1000']"
      ]
     },
     "execution_count": 21,
     "metadata": {},
     "output_type": "execute_result"
    }
   ],
   "source": [
    "model_dir = 'D:/uni/master/models/'\n",
    "models = os.listdir(model_dir)\n",
    "models"
   ]
  },
  {
   "cell_type": "code",
   "execution_count": 42,
   "metadata": {
    "ExecuteTime": {
     "end_time": "2019-05-13T12:57:14.956956Z",
     "start_time": "2019-05-13T12:56:42.198932Z"
    }
   },
   "outputs": [],
   "source": [
    "model_path = 'region_dim100_ellipse_rad0_regL1e-05_lr0001_loss-NLL_margin0.5_singlepass-True_negfactor1_epochs500'\n",
    "if model_path:\n",
    "    input_directory = os.path.join(model_dir, model_path)\n",
    "    results = {\n",
    "    'losses': json.load(open(os.path.join(input_directory, 'losses.json'))),\n",
    "    'validation_losses': json.load(open(os.path.join(input_directory, 'val_losses.json'))),\n",
    "    'entity_to_embedding': json.load(open(os.path.join(input_directory, 'entities_to_embeddings.json'))),\n",
    "    'relation_to_embedding': json.load(open(os.path.join(input_directory, 'relations_to_embeddings.json'))),\n",
    "    'final_configuration': json.load(open(os.path.join(input_directory, 'configuration.json'))),\n",
    "    'eval_summary': json.load(open(os.path.join(input_directory, 'evaluation_summary.json'))),\n",
    "    'entity_to_id': json.load(open(os.path.join(input_directory, 'entity_to_id.json'))),\n",
    "    'relation_to_id': json.load(open(os.path.join(input_directory, 'relation_to_id.json')))\n",
    "    }\n",
    "    # Initialize KG embedding model\n",
    "    config = results['final_configuration']\n",
    "    config['training_set_path'] = train_path\n",
    "    config['test_set_path'] = val_path\n",
    "    config['neg_test_set_path'] = neg_val_path\n",
    "    relation_to_id = results['relation_to_id']\n",
    "    entity_to_id = results['entity_to_id']\n",
    "else:\n",
    "    # Initialize KG embedding model\n",
    "    config[pkc.NUM_ENTITIES] = 85482\n",
    "    config[pkc.NUM_RELATIONS] = 39\n",
    "    config[pkc.PREFERRED_DEVICE] = 'gpu'\n",
    "    relation_to_id = json.load(open(os.path.join(input_directory, 'relation_to_id.json'),'r'))\n",
    "    entity_to_id = json.load(open(os.path.join(input_directory, 'entity_to_id.json'),'r'))"
   ]
  },
  {
   "cell_type": "markdown",
   "metadata": {},
   "source": [
    "Get evaluation results:\n",
    " * Mean rank\n",
    " * Hits@k, k $\\in$ {1,3,5,10} "
   ]
  },
  {
   "cell_type": "code",
   "execution_count": 43,
   "metadata": {
    "ExecuteTime": {
     "end_time": "2019-05-13T12:58:33.425991Z",
     "start_time": "2019-05-13T12:58:12.532142Z"
    }
   },
   "outputs": [
    {
     "data": {
      "text/plain": [
       "pykeen.kge_models.region.Region"
      ]
     },
     "execution_count": 43,
     "metadata": {},
     "output_type": "execute_result"
    }
   ],
   "source": [
    "pipeline = Pipeline(config)\n",
    "if config['random_seed'] is not None:\n",
    "    torch.manual_seed(config['random_seed'])\n",
    "pipeline.entity_label_to_id = entity_to_id\n",
    "pipeline.relation_label_to_id = relation_to_id\n",
    "    \n",
    "model: torch.nn.Module = get_kge_model(config=config)\n",
    "model.load_state_dict(torch.load(os.path.join(input_directory, 'best_model.pkl')))\n",
    "\n",
    "#results['trained_model'] = model \n",
    "type(model)"
   ]
  },
  {
   "cell_type": "code",
   "execution_count": 44,
   "metadata": {
    "ExecuteTime": {
     "end_time": "2019-05-13T12:58:33.533750Z",
     "start_time": "2019-05-13T12:58:33.452920Z"
    }
   },
   "outputs": [],
   "source": [
    "metrics = [pkc.TRIPLE_PREDICTION]  # [pkc.MEAN_RANK, pkc.HITS_AT_K, pkc.TRIPLE_PREDICTION]\n",
    "threshold_search = True"
   ]
  },
  {
   "cell_type": "markdown",
   "metadata": {},
   "source": [
    "#### Evaluate RelationalTriple"
   ]
  },
  {
   "cell_type": "code",
   "execution_count": 45,
   "metadata": {
    "ExecuteTime": {
     "end_time": "2019-05-13T13:00:13.307081Z",
     "start_time": "2019-05-13T12:58:33.551947Z"
    }
   },
   "outputs": [
    {
     "name": "stderr",
     "output_type": "stream",
     "text": [
      "INFO:pykeen.utilities.pipeline:-------------Start Evaluation-------------\n",
      "INFO:pykeen.utilities.evaluation_utils.metrics_computations:Best accuracy achieved on threshold: 0.62\n",
      "INFO:pykeen.utilities.evaluation_utils.metrics_computations:Evaluation took 33.28s seconds\n",
      "INFO:pykeen.utilities.pipeline:MetricResults(mean_rank=None, hits_at_k=None, precision=0.5154133776485251, recall=0.664061663633444, accuracy=0.51931836450351, fscore=0.580370508982036)\n"
     ]
    }
   ],
   "source": [
    "test_results = pipeline.evaluate(\n",
    "    model, \n",
    "    val_path[0], \n",
    "    neg_val_path[0],\n",
    "    metrics= metrics,\n",
    "    threshold_search=threshold_search\n",
    ")"
   ]
  },
  {
   "cell_type": "code",
   "execution_count": 46,
   "metadata": {
    "ExecuteTime": {
     "end_time": "2019-05-13T13:00:13.338109Z",
     "start_time": "2019-05-13T13:00:13.320083Z"
    }
   },
   "outputs": [
    {
     "data": {
      "text/plain": [
       "{'mean_rank': None,\n",
       " 'hits@k': None,\n",
       " 'precision': 0.5154133776485251,\n",
       " 'recall': 0.664061663633444,\n",
       " 'accuracy': 0.51931836450351,\n",
       " 'f1_score': 0.580370508982036}"
      ]
     },
     "execution_count": 46,
     "metadata": {},
     "output_type": "execute_result"
    }
   ],
   "source": [
    "test_results['eval_summary']"
   ]
  },
  {
   "cell_type": "markdown",
   "metadata": {},
   "source": [
    "#### Evaluate InstanceOf"
   ]
  },
  {
   "cell_type": "code",
   "execution_count": 47,
   "metadata": {
    "ExecuteTime": {
     "end_time": "2019-05-13T13:01:10.452270Z",
     "start_time": "2019-05-13T13:00:13.761615Z"
    }
   },
   "outputs": [
    {
     "name": "stderr",
     "output_type": "stream",
     "text": [
      "INFO:pykeen.utilities.pipeline:-------------Start Evaluation-------------\n",
      "INFO:pykeen.utilities.evaluation_utils.metrics_computations:Best accuracy achieved on threshold: 0.56\n",
      "INFO:pykeen.utilities.evaluation_utils.metrics_computations:Evaluation took 6.11s seconds\n",
      "INFO:pykeen.utilities.pipeline:MetricResults(mean_rank=None, hits_at_k=None, precision=0.6225725821957316, recall=0.6476, accuracy=0.6273509403761505, fscore=0.6348397215959218)\n"
     ]
    }
   ],
   "source": [
    "test_results = pipeline.evaluate(\n",
    "    model, \n",
    "    val_path[1], \n",
    "    neg_val_path[1],\n",
    "    metrics= metrics,\n",
    "    threshold_search=threshold_search\n",
    ")"
   ]
  },
  {
   "cell_type": "code",
   "execution_count": 48,
   "metadata": {
    "ExecuteTime": {
     "end_time": "2019-05-13T13:01:11.037075Z",
     "start_time": "2019-05-13T13:01:10.690323Z"
    }
   },
   "outputs": [
    {
     "data": {
      "text/plain": [
       "{'mean_rank': None,\n",
       " 'hits@k': None,\n",
       " 'precision': 0.6225725821957316,\n",
       " 'recall': 0.6476,\n",
       " 'accuracy': 0.6273509403761505,\n",
       " 'f1_score': 0.6348397215959218}"
      ]
     },
     "execution_count": 48,
     "metadata": {},
     "output_type": "execute_result"
    }
   ],
   "source": [
    "test_results['eval_summary']"
   ]
  },
  {
   "cell_type": "markdown",
   "metadata": {},
   "source": [
    "#### Evaluate SubclassOf"
   ]
  },
  {
   "cell_type": "code",
   "execution_count": 49,
   "metadata": {
    "ExecuteTime": {
     "end_time": "2019-05-13T13:01:41.847970Z",
     "start_time": "2019-05-13T13:01:11.045149Z"
    }
   },
   "outputs": [
    {
     "name": "stderr",
     "output_type": "stream",
     "text": [
      "INFO:pykeen.utilities.pipeline:-------------Start Evaluation-------------\n",
      "INFO:pykeen.utilities.evaluation_utils.metrics_computations:Best accuracy achieved on threshold: 0.28\n",
      "INFO:pykeen.utilities.evaluation_utils.metrics_computations:Evaluation took 0.25s seconds\n",
      "INFO:pykeen.utilities.pipeline:MetricResults(mean_rank=None, hits_at_k=None, precision=0.6812634601579325, recall=0.949, accuracy=0.7525, fscore=0.7931466778102799)\n"
     ]
    }
   ],
   "source": [
    "test_results = pipeline.evaluate(\n",
    "    model, \n",
    "    val_path[2], \n",
    "    neg_val_path[2],\n",
    "    metrics=metrics,\n",
    "    threshold_search=threshold_search\n",
    ")"
   ]
  },
  {
   "cell_type": "code",
   "execution_count": 50,
   "metadata": {
    "ExecuteTime": {
     "end_time": "2019-05-13T13:01:41.859288Z",
     "start_time": "2019-05-13T13:01:41.851736Z"
    }
   },
   "outputs": [
    {
     "data": {
      "text/plain": [
       "{'mean_rank': None,\n",
       " 'hits@k': None,\n",
       " 'precision': 0.6812634601579325,\n",
       " 'recall': 0.949,\n",
       " 'accuracy': 0.7525,\n",
       " 'f1_score': 0.7931466778102799}"
      ]
     },
     "execution_count": 50,
     "metadata": {},
     "output_type": "execute_result"
    }
   ],
   "source": [
    "test_results['eval_summary']"
   ]
  },
  {
   "cell_type": "markdown",
   "metadata": {
    "ExecuteTime": {
     "end_time": "2019-04-27T10:38:21.101558Z",
     "start_time": "2019-04-27T10:38:21.079645Z"
    }
   },
   "source": [
    "json.dump(test_results['eval_summary'], open(os.path.join(output_directory, 'evaluation_summary.json'),\"w\"))"
   ]
  },
  {
   "cell_type": "markdown",
   "metadata": {},
   "source": [
    "## Load results"
   ]
  },
  {
   "cell_type": "code",
   "execution_count": 31,
   "metadata": {
    "ExecuteTime": {
     "end_time": "2019-05-12T19:10:04.930561Z",
     "start_time": "2019-05-12T19:10:04.916596Z"
    }
   },
   "outputs": [],
   "source": [
    "import numpy as np\n",
    "import matplotlib.pyplot as plt\n",
    "import json\n",
    "import os"
   ]
  },
  {
   "cell_type": "code",
   "execution_count": 32,
   "metadata": {
    "ExecuteTime": {
     "end_time": "2019-05-12T19:10:04.980424Z",
     "start_time": "2019-05-12T19:10:04.932551Z"
    }
   },
   "outputs": [
    {
     "name": "stderr",
     "output_type": "stream",
     "text": [
      "DEBUG:matplotlib.pyplot:Loaded backend module://ipykernel.pylab.backend_inline version unknown.\n"
     ]
    }
   ],
   "source": [
    "%matplotlib inline"
   ]
  },
  {
   "cell_type": "code",
   "execution_count": 33,
   "metadata": {
    "ExecuteTime": {
     "end_time": "2019-05-12T19:10:04.995386Z",
     "start_time": "2019-05-12T19:10:04.983418Z"
    }
   },
   "outputs": [
    {
     "data": {
      "text/plain": [
       "['region_1000epochs',\n",
       " 'region_20epochs',\n",
       " 'region_300epochs',\n",
       " 'region_5epochs',\n",
       " 'region_dim100_ellipse_rad0_regL01_lr0001_loss-NLL_margin0.5_singlepass-True_negfactor1_epochs500',\n",
       " 'region_dim100_ellipse_rad0_regL1e-05_lr0001_loss-NLL_margin0.5_singlepass-True_negfactor1_epochs500',\n",
       " 'region_dim100_ellipse_rad10_regL1e-05_lr0001_loss-NLL_margin0.0_singlepass-True_negfactor2_epochs50',\n",
       " 'region_dim100_sphere_rad10_regL1e-05_lr0001_loss-MRL_margin0.0_singlepass-False_negfactor1_epochs1',\n",
       " 'region_dim100_sphere_rad10_regL1e-05_lr0001_loss-NLL_margin0.0_singlepass-True_negfactor2_epochs1',\n",
       " 'region_dim100_sphere_rad10_regL1e-05_lr0001_loss-NLL_margin0.0_singlepass-True_negfactor2_epochs3',\n",
       " 'region_dim100_sphere_rad10_regL1e-05_lr0001_loss-NLL_margin0.0_singlepass-True_negfactor2_epochs50',\n",
       " 'region_dim10_sphere_rad10_regL1e-05_lr0001_loss-NLL_margin0.0_singlepass-True_negfactor2_epochs5',\n",
       " 'region_dim20_rad5_regL002_lr5',\n",
       " 'region_dim20_rad5_regL002_lr5_loss-MRL_margin0_singlepass-False_negfactor1',\n",
       " 'region_dim50_rad10_regL01_lr2',\n",
       " 'region_dim50_rad5_regL002_lr1_loss-MRL_margin0.0_singlepass-False_negfactor3',\n",
       " 'region_dim50_sphere_rad10_regL1e-05_lr0001_loss-MRL_margin1_singlepass-False_negfactor1_epochs10',\n",
       " 'region_dim50_sphere_rad10_regL1e-05_lr0001_loss-NLL_margin1_singlepass-True_negfactor1_epochs500',\n",
       " 'region_dim50_sphere_rad10_regL1e-05_lr001_loss-MRL_margin1_singlepass-False_negfactor1_epochs10',\n",
       " 'region_dim50_sphere_rad10_regL1e-05_lr001_loss-MRL_margin2_singlepass-False_negfactor1_epochs10',\n",
       " 'region_dim50_sphere_rad10_regL1e-05_lr001_loss-NLL_margin0.0_singlepass-True_negfactor1_epochs10',\n",
       " 'region_dim50_sphere_rad10_regL1e-05_lr001_loss-NLL_margin1_singlepass-True_negfactor1_epochs500',\n",
       " 'region_dim70_ellipse_rad10_regL1e-05_lr0001_loss-NLL_margin0.0_singlepass-True_negfactor2_epochs50',\n",
       " 'region_dim70_rad10_regL01_lr0001_loss-NLL_margin0.0_singlepass-True_negfactor2_epochs10',\n",
       " 'region_dim70_rad10_regL10_lr5_loss-MRL_margin0.0_singlepass-True_negfactor2',\n",
       " 'region_dim70_rad10_regL10_lr5_loss-NLL_margin0.0_singlepass-True_negfactor2',\n",
       " 'region_dim70_rad10_regL1e-05_lr0001_loss-NLL_margin0.0_singlepass-True_negfactor2_epochs50',\n",
       " 'region_dim70_rad10_regL2_lr10_loss-NLL_margin0.0_singlepass-True_negfactor2_epochs100',\n",
       " 'region_dim70_rad10_regL2_lr10_loss-NLL_margin0.0_singlepass-True_negfactor2_epochs1000',\n",
       " 'region_dim70_rad10_regL2_lr5_loss-NLL_margin0.0_singlepass-True_negfactor2',\n",
       " 'region_dim70_sphere_rad10_regL1e-05_lr0001_loss-MRL_margin0.0_singlepass-False_negfactor1_epochs10',\n",
       " 'region_dim70_sphere_rad10_regL1e-05_lr0001_loss-MRL_margin0.0_singlepass-False_negfactor1_epochs2',\n",
       " 'region_dim70_sphere_rad10_regL1e-05_lr0001_loss-NLL_margin0.0_singlepass-False_negfactor1_epochs10',\n",
       " 'region_dim70_sphere_rad10_regL1e-05_lr0001_loss-NLL_margin0.0_singlepass-True_negfactor1_epochs10',\n",
       " 'region_dim70_sphere_rad10_regL1e-05_lr001_loss-NLL_margin0.0_singlepass-True_negfactor1_epochs10',\n",
       " 'region_hpo',\n",
       " 'test',\n",
       " 'TransE',\n",
       " 'TransE_3margins',\n",
       " 'TransE_dim20_lr001_margin1_epochs1000',\n",
       " 'TransE_dim20_lr01_margin1_epochs1000',\n",
       " 'TransE_dim50_lr0001_scoreL1_margin1_epochs1000',\n",
       " 'TransE_dim50_lr0001_scoreL1_margin1_epochs1001',\n",
       " 'TransE_dim50_lr0001_scoreL1_margin1_epochs3',\n",
       " 'TransE_dim50_lr001_margin1_epochs1000',\n",
       " 'TransE_dim50_lr001_scoreL1_margin1_epochs1000',\n",
       " 'TransE_dim50_lr001_scoreL2_margin1_epochs1001',\n",
       " 'TransE_dim50_lr1_margin1_epochs1000',\n",
       " 'TransE_dim50_lr1_scoreL2_margin1_epochs1001',\n",
       " 'TransE_FB15k_dim50_lr001_margin1_epochs1000',\n",
       " 'TransE_FB15k_dim50_lr001_margin1_epochs500',\n",
       " 'TransE_FB15k_dim50_lr1_margin1_epochs1000']"
      ]
     },
     "execution_count": 33,
     "metadata": {},
     "output_type": "execute_result"
    }
   ],
   "source": [
    "model_dir = 'D:/uni/master/models/'\n",
    "models = os.listdir(model_dir)\n",
    "models"
   ]
  },
  {
   "cell_type": "code",
   "execution_count": 34,
   "metadata": {
    "ExecuteTime": {
     "end_time": "2019-05-12T19:10:09.030427Z",
     "start_time": "2019-05-12T19:10:04.997380Z"
    }
   },
   "outputs": [],
   "source": [
    "#output_directory = 'D:/uni/master/models/region_hpo/'\n",
    "model_path = 'region_dim100_ellipse_rad10_regL1e-05_lr0001_loss-NLL_margin0.0_singlepass-True_negfactor2_epochs50'\n",
    "input_directory = os.path.join(model_dir, model_path)\n",
    "model_path = ''\n",
    "\n",
    "results = {\n",
    "    'losses': json.load(open(os.path.join(input_directory, 'losses.json'))),\n",
    "    'validation_losses': json.load(open(os.path.join(input_directory, 'val_losses.json'))),\n",
    "    'entity_to_embedding': json.load(open(os.path.join(input_directory, 'entities_to_embeddings.json'))),\n",
    "    'relation_to_embedding': json.load(open(os.path.join(input_directory, 'relations_to_embeddings.json'))),\n",
    "    'final_configuration': json.load(open(os.path.join(input_directory, 'configuration.json'))),\n",
    "    'eval_summary': json.load(open(os.path.join(input_directory, 'evaluation_summary.json'))),\n",
    "    'entity_to_id': json.load(open(os.path.join(input_directory, 'entity_to_id.json'))),\n",
    "    'relation_to_id': json.load(open(os.path.join(input_directory, 'relation_to_id.json')))\n",
    "}"
   ]
  },
  {
   "cell_type": "code",
   "execution_count": 35,
   "metadata": {
    "ExecuteTime": {
     "end_time": "2019-05-12T19:10:09.038130Z",
     "start_time": "2019-05-12T19:10:09.032176Z"
    }
   },
   "outputs": [
    {
     "data": {
      "text/plain": [
       "dict_keys(['losses', 'validation_losses', 'entity_to_embedding', 'relation_to_embedding', 'final_configuration', 'eval_summary', 'entity_to_id', 'relation_to_id'])"
      ]
     },
     "execution_count": 35,
     "metadata": {},
     "output_type": "execute_result"
    }
   ],
   "source": [
    "results.keys()"
   ]
  },
  {
   "cell_type": "code",
   "execution_count": 36,
   "metadata": {
    "ExecuteTime": {
     "end_time": "2019-05-12T19:10:09.059085Z",
     "start_time": "2019-05-12T19:10:09.040161Z"
    }
   },
   "outputs": [
    {
     "data": {
      "text/plain": [
       "{'metrics': ['prediction'],\n",
       " 'training_set_path': ['D:/uni/master/data/YAGO39K/Train/triple2id.tsv',\n",
       "  'D:/uni/master/data/YAGO39K/Train/instanceOf2id.tsv',\n",
       "  'D:/uni/master/data/YAGO39K/Train/subClassOf2id.tsv'],\n",
       " 'test_set_path': 'D:/uni/master/data/YAGO39K/Valid/triple2id_positive.tsv',\n",
       " 'neg_test_set_path': 'D:/uni/master/data/YAGO39K/Valid/triple2id_negative.tsv',\n",
       " 'execution_mode': 'Training_mode',\n",
       " 'random_seed': 2,\n",
       " 'kg_embedding_model_name': 'Region',\n",
       " 'region_type': 'ellipse',\n",
       " 'embedding_dim': 100,\n",
       " 'normalization_of_entities': 2,\n",
       " 'init_radius': 10,\n",
       " 'reg_lambda': 1e-05,\n",
       " 'loss_type': 'NLL',\n",
       " 'margin_loss': 0.0,\n",
       " 'single_pass': True,\n",
       " 'neg_factor': 2,\n",
       " 'learning_rate': 0.001,\n",
       " 'num_epochs': 50,\n",
       " 'batch_size': 1024,\n",
       " 'test_batch_size': 4096,\n",
       " 'filter_negative_triples': True,\n",
       " 'preferred_device': 'gpu',\n",
       " 'pykeen-version': '0.0.26-dev',\n",
       " 'num_entities': 46081,\n",
       " 'num_relations': 39}"
      ]
     },
     "execution_count": 36,
     "metadata": {},
     "output_type": "execute_result"
    }
   ],
   "source": [
    "results['final_configuration']"
   ]
  },
  {
   "cell_type": "code",
   "execution_count": 37,
   "metadata": {
    "ExecuteTime": {
     "end_time": "2019-05-12T19:10:09.665812Z",
     "start_time": "2019-05-12T19:10:09.061066Z"
    }
   },
   "outputs": [
    {
     "name": "stderr",
     "output_type": "stream",
     "text": [
      "DEBUG:matplotlib.axes._base:update_title_pos\n",
      "DEBUG:matplotlib.axes._base:update_title_pos\n",
      "DEBUG:matplotlib.axes._base:update_title_pos\n",
      "DEBUG:matplotlib.axes._base:update_title_pos\n"
     ]
    },
    {
     "data": {
      "image/png": "[encoded data removed]",
      "text/plain": [
       "<Figure size 432x288 with 1 Axes>"
      ]
     },
     "metadata": {
      "needs_background": "light"
     },
     "output_type": "display_data"
    }
   ],
   "source": [
    "losses = results['losses']\n",
    "epochs = np.arange(len(losses))\n",
    "plt.title(r'Loss Per Epoch')\n",
    "plt.xlabel('epoch')\n",
    "plt.ylabel('loss')\n",
    "plt.plot(epochs, losses)\n",
    "plt.show()"
   ]
  },
  {
   "cell_type": "code",
   "execution_count": 38,
   "metadata": {
    "ExecuteTime": {
     "end_time": "2019-05-12T19:10:09.837357Z",
     "start_time": "2019-05-12T19:10:09.671796Z"
    }
   },
   "outputs": [
    {
     "name": "stderr",
     "output_type": "stream",
     "text": [
      "DEBUG:matplotlib.axes._base:update_title_pos\n",
      "DEBUG:matplotlib.axes._base:update_title_pos\n",
      "DEBUG:matplotlib.axes._base:update_title_pos\n",
      "DEBUG:matplotlib.axes._base:update_title_pos\n"
     ]
    },
    {
     "data": {
      "image/png": "[encoded data removed]",
      "text/plain": [
       "<Figure size 432x288 with 1 Axes>"
      ]
     },
     "metadata": {
      "needs_background": "light"
     },
     "output_type": "display_data"
    }
   ],
   "source": [
    "losses = results['validation_losses']\n",
    "epochs = np.arange(len(losses))\n",
    "plt.title(r'Loss Per Epoch')\n",
    "plt.xlabel('epoch')\n",
    "plt.ylabel('loss')\n",
    "plt.plot(epochs, losses)\n",
    "plt.show()"
   ]
  },
  {
   "cell_type": "code",
   "execution_count": 39,
   "metadata": {
    "ExecuteTime": {
     "end_time": "2019-05-12T19:10:09.847328Z",
     "start_time": "2019-05-12T19:10:09.841343Z"
    }
   },
   "outputs": [
    {
     "data": {
      "text/plain": [
       "{'mean_rank': None,\n",
       " 'hits@k': None,\n",
       " 'precision': 0.7560653261587841,\n",
       " 'recall': 0.8574028476608501,\n",
       " 'accuracy': 0.7901505814265045,\n",
       " 'f1_score': 0.8035517206782382}"
      ]
     },
     "execution_count": 39,
     "metadata": {},
     "output_type": "execute_result"
    }
   ],
   "source": [
    "results['eval_summary']"
   ]
  },
  {
   "cell_type": "code",
   "execution_count": null,
   "metadata": {},
   "outputs": [],
   "source": []
  },
  {
   "cell_type": "code",
   "execution_count": null,
   "metadata": {},
   "outputs": [],
   "source": []
  },
  {
   "cell_type": "code",
   "execution_count": null,
   "metadata": {},
   "outputs": [],
   "source": []
  },
  {
   "cell_type": "markdown",
   "metadata": {},
   "source": [
    "    config = dict(\n",
    "        training_set_path           = train_path,\n",
    "        test_set_path               = test_path,\n",
    "        execution_mode              = 'Training_mode',\n",
    "        random_seed                 = 2,\n",
    "        kg_embedding_model_name     = 'Region',\n",
    "        embedding_dim               = 100,\n",
    "        scoring_function            = 1,  # corresponds to L1 \n",
    "        normalization_of_entities   = 2,  # corresponds to L2\n",
    "        init_radius                 = 1,\n",
    "        reg_lambda                  = 2,\n",
    "        margin_loss                 = 0,\n",
    "        learning_rate               = 0.1,\n",
    "        num_epochs                  = 100,  \n",
    "        batch_size                  = 1024,\n",
    "        filter_negative_triples     = True,\n",
    "        preferred_device            = 'gpu'\n",
    "    )"
   ]
  },
  {
   "cell_type": "code",
   "execution_count": 40,
   "metadata": {
    "ExecuteTime": {
     "end_time": "2019-05-12T19:10:10.049786Z",
     "start_time": "2019-05-12T19:10:09.849322Z"
    }
   },
   "outputs": [
    {
     "name": "stderr",
     "output_type": "stream",
     "text": [
      "DEBUG:matplotlib.axes._base:update_title_pos\n",
      "DEBUG:matplotlib.axes._base:update_title_pos\n",
      "DEBUG:matplotlib.axes._base:update_title_pos\n",
      "DEBUG:matplotlib.axes._base:update_title_pos\n"
     ]
    },
    {
     "data": {
      "image/png": "[encoded data removed]",
      "text/plain": [
       "<Figure size 432x288 with 1 Axes>"
      ]
     },
     "metadata": {
      "needs_background": "light"
     },
     "output_type": "display_data"
    }
   ],
   "source": [
    "losses = losses[:30]\n",
    "epochs = np.arange(len(losses))\n",
    "plt.title(r'Loss Per Epoch')\n",
    "plt.xlabel('epoch')\n",
    "plt.ylabel('loss')\n",
    "plt.plot(epochs, losses)\n",
    "plt.show()"
   ]
  },
  {
   "cell_type": "code",
   "execution_count": 41,
   "metadata": {
    "ExecuteTime": {
     "end_time": "2019-05-12T19:10:11.854206Z",
     "start_time": "2019-05-12T19:10:10.050784Z"
    }
   },
   "outputs": [
    {
     "ename": "AttributeError",
     "evalue": "'dict' object has no attribute 'results'",
     "output_type": "error",
     "traceback": [
      "\u001b[1;31m---------------------------------------------------------------------------\u001b[0m",
      "\u001b[1;31mAttributeError\u001b[0m                            Traceback (most recent call last)",
      "\u001b[1;32m<ipython-input-41-d62b279181c9>\u001b[0m in \u001b[0;36m<module>\u001b[1;34m\u001b[0m\n\u001b[1;32m----> 1\u001b[1;33m \u001b[0mresults\u001b[0m\u001b[1;33m.\u001b[0m\u001b[0mresults\u001b[0m\u001b[1;33m[\u001b[0m\u001b[1;34m'eval_summary'\u001b[0m\u001b[1;33m]\u001b[0m\u001b[1;33m\u001b[0m\u001b[1;33m\u001b[0m\u001b[0m\n\u001b[0m",
      "\u001b[1;31mAttributeError\u001b[0m: 'dict' object has no attribute 'results'"
     ]
    }
   ],
   "source": [
    "results.results['eval_summary']"
   ]
  },
  {
   "cell_type": "code",
   "execution_count": null,
   "metadata": {},
   "outputs": [],
   "source": []
  }
 ],
 "metadata": {
  "kernelspec": {
   "display_name": "Python 3",
   "language": "python",
   "name": "python3"
  },
  "language_info": {
   "codemirror_mode": {
    "name": "ipython",
    "version": 3
   },
   "file_extension": ".py",
   "mimetype": "text/x-python",
   "name": "python",
   "nbconvert_exporter": "python",
   "pygments_lexer": "ipython3",
   "version": "3.6.8"
  },
  "notify_time": "30",
  "toc": {
   "base_numbering": 1,
   "nav_menu": {},
   "number_sections": true,
   "sideBar": false,
   "skip_h1_title": false,
   "title_cell": "Table of Contents",
   "title_sidebar": "Contents",
   "toc_cell": false,
   "toc_position": {
    "height": "184.717px",
    "left": "10px",
    "top": "150px",
    "width": "224.6px"
   },
   "toc_section_display": false,
   "toc_window_display": true
  }
 },
 "nbformat": 4,
 "nbformat_minor": 2
}
