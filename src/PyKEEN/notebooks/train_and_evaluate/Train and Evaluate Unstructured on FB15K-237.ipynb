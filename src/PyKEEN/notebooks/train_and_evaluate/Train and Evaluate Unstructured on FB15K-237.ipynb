{
 "cells": [
  {
   "cell_type": "code",
   "execution_count": 15,
   "metadata": {
    "ExecuteTime": {
     "end_time": "2019-07-09T13:01:19.456052Z",
     "start_time": "2019-07-09T13:01:19.452103Z"
    }
   },
   "outputs": [],
   "source": [
    "TEST = False"
   ]
  },
  {
   "cell_type": "markdown",
   "metadata": {},
   "source": [
    "Check which hyper-parameters are required by TransE:"
   ]
  },
  {
   "cell_type": "code",
   "execution_count": 16,
   "metadata": {
    "ExecuteTime": {
     "end_time": "2019-07-09T13:01:35.077324Z",
     "start_time": "2019-07-09T13:01:19.468022Z"
    }
   },
   "outputs": [
    {
     "data": {
      "text/plain": [
       "['embedding_dim',\n",
       " 'margin_loss',\n",
       " 'learning_rate',\n",
       " 'corrupt_relations',\n",
       " 'scoring_function',\n",
       " 'normalization_of_entities']"
      ]
     },
     "execution_count": 16,
     "metadata": {},
     "output_type": "execute_result"
    }
   ],
   "source": [
    "from pykeen.kge_models import UnstructuredModel, Region\n",
    "UnstructuredModel.hyper_params"
   ]
  },
  {
   "cell_type": "markdown",
   "metadata": {},
   "source": [
    "Train and evaluate Region (provide test set):\n",
    "* Define the path to our test set: **test_set_path**\n",
    "* Define the path to our the negative test set: **neg_test_path** in case of triple classfication evaluation\n",
    "* Define whether you want to compute the metrics (mean rank and hits@k) in raw or in a filtered setting: **filter_negative_triples**"
   ]
  },
  {
   "cell_type": "code",
   "execution_count": 20,
   "metadata": {
    "ExecuteTime": {
     "end_time": "2019-07-09T13:01:35.089272Z",
     "start_time": "2019-07-09T13:01:35.080307Z"
    }
   },
   "outputs": [],
   "source": [
    "config = dict(\n",
    "    metrics                     = [],    \n",
    "     training_set_path           = '../../../data/fb15k-237/train.tsv',\n",
    "    test_set_path               = '../../../data/fb15k-237/valid_200.tsv',\n",
    "    #neg_test_set_path           = '../../../data/fb15k-237/valid_neg.tsv',\n",
    "    mapping_path                = '../../../data/fb15k-237/',\n",
    "    \n",
    "    execution_mode              = 'Training_mode',\n",
    "    random_seed                 = 2,\n",
    "    kg_embedding_model_name     = 'UM',\n",
    "    embedding_dim               = 50,\n",
    "    scoring_function            = 1,  # corresponds to L1\n",
    "    normalization_of_entities   = 2,  # corresponds to L2\n",
    "    margin_loss                 = 1,\n",
    "    es_metric                   = 'custom',\n",
    "    \n",
    "    learning_rate               = 0.0001,\n",
    "    num_epochs                  = 500 if not TEST else 10,  \n",
    "    batch_size                  = 2048,\n",
    "    test_batch_size             = 6000,\n",
    "    filter_negative_triples     = False,\n",
    "    corrupt_relations           = False,\n",
    "    neg_factor                  = 1,\n",
    "    preferred_device            = 'gpu'\n",
    ")"
   ]
  },
  {
   "cell_type": "code",
   "execution_count": 21,
   "metadata": {
    "ExecuteTime": {
     "end_time": "2019-07-09T13:01:35.105205Z",
     "start_time": "2019-07-09T13:01:35.091242Z"
    }
   },
   "outputs": [
    {
     "data": {
      "text/plain": [
       "'../../../models/FB15k-237_UM_dim50_lr00001_margin1_epochs500_bs2048_esmetric-custom/'"
      ]
     },
     "execution_count": 21,
     "metadata": {},
     "output_type": "execute_result"
    }
   ],
   "source": [
    "output_directory = '../../../models/FB15k-237_UM_dim{}_lr{}_margin{}_epochs{}_bs{}_esmetric-{}/'.format(\n",
    "    config['embedding_dim'],\n",
    "    str(config['learning_rate']).replace('.',''),\n",
    "    config['margin_loss'],\n",
    "    config['num_epochs'],\n",
    "    config['batch_size'],\n",
    "    config['es_metric']\n",
    ")\n",
    "output_directory"
   ]
  },
  {
   "cell_type": "code",
   "execution_count": 22,
   "metadata": {
    "ExecuteTime": {
     "end_time": "2019-07-09T13:01:35.116185Z",
     "start_time": "2019-07-09T13:01:35.111196Z"
    }
   },
   "outputs": [],
   "source": [
    "if TEST:\n",
    "    output_directory = '../../../models/test'"
   ]
  },
  {
   "cell_type": "code",
   "execution_count": 23,
   "metadata": {
    "ExecuteTime": {
     "end_time": "2019-07-09T13:01:35.126149Z",
     "start_time": "2019-07-09T13:01:35.121164Z"
    }
   },
   "outputs": [],
   "source": [
    "import logging\n",
    "import os\n",
    "import sys\n",
    "import time\n",
    "import pykeen"
   ]
  },
  {
   "cell_type": "code",
   "execution_count": 24,
   "metadata": {
    "ExecuteTime": {
     "end_time": "2019-07-09T13:01:35.133132Z",
     "start_time": "2019-07-09T13:01:35.128145Z"
    }
   },
   "outputs": [],
   "source": [
    "logging.basicConfig(level=logging.DEBUG)\n",
    "logging.getLogger('pykeen').setLevel(logging.DEBUG)"
   ]
  },
  {
   "cell_type": "code",
   "execution_count": 25,
   "metadata": {
    "ExecuteTime": {
     "end_time": "2019-07-09T13:01:35.153077Z",
     "start_time": "2019-07-09T13:01:35.135157Z"
    }
   },
   "outputs": [
    {
     "name": "stdout",
     "output_type": "stream",
     "text": [
      "3.6.5 (default, Mar 31 2018, 19:45:04) [GCC]\n"
     ]
    }
   ],
   "source": [
    "print(sys.version)"
   ]
  },
  {
   "cell_type": "code",
   "execution_count": 26,
   "metadata": {
    "ExecuteTime": {
     "end_time": "2019-07-09T13:01:35.161055Z",
     "start_time": "2019-07-09T13:01:35.155074Z"
    },
    "scrolled": true
   },
   "outputs": [
    {
     "name": "stdout",
     "output_type": "stream",
     "text": [
      "Tue Oct 29 10:55:52 2019\n"
     ]
    }
   ],
   "source": [
    "print(time.asctime())"
   ]
  },
  {
   "cell_type": "code",
   "execution_count": 27,
   "metadata": {
    "ExecuteTime": {
     "end_time": "2019-07-09T13:01:35.171029Z",
     "start_time": "2019-07-09T13:01:35.163052Z"
    }
   },
   "outputs": [
    {
     "name": "stdout",
     "output_type": "stream",
     "text": [
      "0.0.26-dev\n"
     ]
    }
   ],
   "source": [
    "print(pykeen.get_version())"
   ]
  },
  {
   "cell_type": "markdown",
   "metadata": {
    "heading_collapsed": true
   },
   "source": [
    "## Train and evaluate UM:"
   ]
  },
  {
   "cell_type": "code",
   "execution_count": 28,
   "metadata": {
    "ExecuteTime": {
     "end_time": "2019-07-09T13:01:35.560986Z",
     "start_time": "2019-07-09T13:01:35.173024Z"
    },
    "hidden": true,
    "scrolled": true
   },
   "outputs": [],
   "source": [
    "import numpy as np\n",
    "import matplotlib.pyplot as plt"
   ]
  },
  {
   "cell_type": "code",
   "execution_count": 29,
   "metadata": {
    "ExecuteTime": {
     "end_time": "2019-07-09T13:01:35.576991Z",
     "start_time": "2019-07-09T13:01:35.563979Z"
    },
    "hidden": true
   },
   "outputs": [],
   "source": [
    "%matplotlib inline"
   ]
  },
  {
   "cell_type": "code",
   "execution_count": 30,
   "metadata": {
    "ExecuteTime": {
     "end_time": "2019-07-09T13:43:07.504394Z",
     "start_time": "2019-07-09T13:01:35.580934Z"
    },
    "hidden": true
   },
   "outputs": [
    {
     "name": "stderr",
     "output_type": "stream",
     "text": [
      "DEBUG:pykeen.utilities.pipeline:Reading the label mappings...\n",
      "INFO:pykeen.utilities.pipeline:-------------Train KG Embeddings-------------\n",
      "DEBUG:pykeen.utilities.train_utils:****running model on cuda:0****\n"
     ]
    },
    {
     "name": "stdout",
     "output_type": "stream",
     "text": [
      "{'metrics': [], 'training_set_path': '../../../data/fb15k-237/train.tsv', 'test_set_path': '../../../data/fb15k-237/valid_200.tsv', 'mapping_path': '../../../data/fb15k-237/', 'execution_mode': 'Training_mode', 'random_seed': 2, 'kg_embedding_model_name': 'UM', 'embedding_dim': 50, 'scoring_function': 1, 'normalization_of_entities': 2, 'margin_loss': 1, 'es_metric': 'custom', 'learning_rate': 0.0001, 'num_epochs': 500, 'batch_size': 2048, 'test_batch_size': 6000, 'filter_negative_triples': False, 'corrupt_relations': False, 'neg_factor': 1, 'preferred_device': 'cuda:0', 'pykeen-version': '0.0.26-dev', 'num_entities': 14541, 'num_relations': 237}\n"
     ]
    },
    {
     "name": "stderr",
     "output_type": "stream",
     "text": [
      "DEBUG:pykeen.utilities.evaluation_utils.metrics_computations:Evaluation took 1.47s seconds\n",
      "DEBUG:pykeen.utilities.train_utils:\n",
      "current metric: 0.011094438556646744  ---- rank/hits@10: (0.008802519769028563, 0.015)\n",
      "DEBUG:pykeen.utilities.train_utils:Saving the following model to disk:\n",
      "INFO:pykeen.utilities.train_utils:Epoch   0 /  500 (0.3s):  57.941 ---- 38.259 ---- 0.01 ----   1\n",
      "INFO:pykeen.utilities.train_utils:Epoch   1 /  500 (0.3s):  38.591 ---- 32.442 ---- 0.01 ----   2\n",
      "INFO:pykeen.utilities.train_utils:Epoch   2 /  500 (0.3s):  31.769 ---- 29.816 ---- 0.01 ----   3\n",
      "INFO:pykeen.utilities.train_utils:Epoch   3 /  500 (0.3s):  27.582 ---- 28.263 ---- 0.01 ----   4\n",
      "INFO:pykeen.utilities.train_utils:Epoch   4 /  500 (0.3s):  24.606 ---- 29.200 ---- 0.01 ----   5\n",
      "DEBUG:pykeen.utilities.evaluation_utils.metrics_computations:Evaluation took 1.47s seconds\n",
      "DEBUG:pykeen.utilities.train_utils:\n",
      "current metric: 0.010474350836688177  ---- rank/hits@10: (0.00901366844170361, 0.0125)\n",
      "INFO:pykeen.utilities.train_utils:Epoch   5 /  500 (0.3s):  22.275 ---- 26.813 ---- 0.01 ----   6\n",
      "INFO:pykeen.utilities.train_utils:Epoch   6 /  500 (0.3s):  20.129 ---- 25.203 ---- 0.01 ----   7\n",
      "INFO:pykeen.utilities.train_utils:Epoch   7 /  500 (0.3s):  18.963 ---- 24.307 ---- 0.01 ----   8\n",
      "INFO:pykeen.utilities.train_utils:Epoch   8 /  500 (0.3s):  17.426 ---- 24.260 ---- 0.01 ----   9\n",
      "INFO:pykeen.utilities.train_utils:Epoch   9 /  500 (0.3s):  16.301 ---- 24.617 ---- 0.01 ----  10\n",
      "DEBUG:pykeen.utilities.evaluation_utils.metrics_computations:Evaluation took 1.47s seconds\n",
      "DEBUG:pykeen.utilities.train_utils:\n",
      "current metric: 0.008280549956081783  ---- rank/hits@10: (0.009242441608271782, 0.0075)\n",
      "INFO:pykeen.utilities.train_utils:Epoch  10 /  500 (0.3s):  15.236 ---- 24.249 ---- 0.01 ----  11\n",
      "INFO:pykeen.utilities.train_utils:Epoch  11 /  500 (0.3s):  14.344 ---- 23.687 ---- 0.01 ----  12\n",
      "INFO:pykeen.utilities.train_utils:Epoch  12 /  500 (0.3s):  13.698 ---- 23.594 ---- 0.01 ----  13\n",
      "INFO:pykeen.utilities.train_utils:Epoch  13 /  500 (0.3s):  12.689 ---- 24.272 ---- 0.01 ----  14\n",
      "INFO:pykeen.utilities.train_utils:Epoch  14 /  500 (0.3s):  12.014 ---- 23.597 ---- 0.01 ----  15\n",
      "DEBUG:pykeen.utilities.evaluation_utils.metrics_computations:Evaluation took 1.48s seconds\n",
      "DEBUG:pykeen.utilities.train_utils:\n",
      "current metric: 0.01145500732727984  ---- rank/hits@10: (0.010571256482063678, 0.0125)\n",
      "DEBUG:pykeen.utilities.train_utils:Saving the following model to disk:\n",
      "INFO:pykeen.utilities.train_utils:Epoch  15 /  500 (0.3s):  11.390 ---- 23.708 ---- 0.01 ----   1\n",
      "INFO:pykeen.utilities.train_utils:Epoch  16 /  500 (0.3s):  10.757 ---- 22.963 ---- 0.01 ----   2\n",
      "INFO:pykeen.utilities.train_utils:Epoch  17 /  500 (0.3s):  10.291 ---- 22.352 ---- 0.01 ----   3\n",
      "INFO:pykeen.utilities.train_utils:Epoch  18 /  500 (0.3s):  9.822 ---- 21.732 ---- 0.01 ----   4\n",
      "INFO:pykeen.utilities.train_utils:Epoch  19 /  500 (0.3s):  9.353 ---- 21.501 ---- 0.01 ----   5\n",
      "DEBUG:pykeen.utilities.evaluation_utils.metrics_computations:Evaluation took 1.47s seconds\n",
      "DEBUG:pykeen.utilities.train_utils:\n",
      "current metric: 0.01378984301656759  ---- rank/hits@10: (0.010522518446023981, 0.02)\n",
      "DEBUG:pykeen.utilities.train_utils:Saving the following model to disk:\n",
      "INFO:pykeen.utilities.train_utils:Epoch  20 /  500 (0.3s):  8.955 ---- 21.537 ---- 0.01 ----   1\n",
      "INFO:pykeen.utilities.train_utils:Epoch  21 /  500 (0.3s):  8.512 ---- 21.185 ---- 0.01 ----   2\n",
      "INFO:pykeen.utilities.train_utils:Epoch  22 /  500 (0.3s):  8.238 ---- 19.888 ---- 0.01 ----   3\n",
      "INFO:pykeen.utilities.train_utils:Epoch  23 /  500 (0.3s):  7.881 ---- 20.450 ---- 0.01 ----   4\n",
      "INFO:pykeen.utilities.train_utils:Epoch  24 /  500 (0.3s):  7.571 ---- 20.295 ---- 0.01 ----   5\n",
      "DEBUG:pykeen.utilities.evaluation_utils.metrics_computations:Evaluation took 1.46s seconds\n",
      "DEBUG:pykeen.utilities.train_utils:\n",
      "current metric: 0.01397247683192546  ---- rank/hits@10: (0.011628490079608636, 0.0175)\n",
      "DEBUG:pykeen.utilities.train_utils:Saving the following model to disk:\n",
      "INFO:pykeen.utilities.train_utils:Epoch  25 /  500 (0.3s):  7.264 ---- 20.172 ---- 0.01 ----   1\n",
      "INFO:pykeen.utilities.train_utils:Epoch  26 /  500 (0.3s):  7.016 ---- 19.634 ---- 0.01 ----   2\n",
      "INFO:pykeen.utilities.train_utils:Epoch  27 /  500 (0.3s):  6.753 ---- 19.382 ---- 0.01 ----   3\n",
      "INFO:pykeen.utilities.train_utils:Epoch  28 /  500 (0.3s):  6.470 ---- 18.675 ---- 0.01 ----   4\n",
      "INFO:pykeen.utilities.train_utils:Epoch  29 /  500 (0.3s):  6.319 ---- 18.043 ---- 0.01 ----   5\n",
      "DEBUG:pykeen.utilities.evaluation_utils.metrics_computations:Evaluation took 1.48s seconds\n",
      "DEBUG:pykeen.utilities.train_utils:\n",
      "current metric: 0.014342655140572903  ---- rank/hits@10: (0.01215047077289229, 0.0175)\n",
      "DEBUG:pykeen.utilities.train_utils:Saving the following model to disk:\n",
      "INFO:pykeen.utilities.train_utils:Epoch  30 /  500 (0.3s):  5.991 ---- 17.616 ---- 0.01 ----   1\n",
      "INFO:pykeen.utilities.train_utils:Epoch  31 /  500 (0.3s):  5.816 ---- 17.384 ---- 0.01 ----   2\n",
      "INFO:pykeen.utilities.train_utils:Epoch  32 /  500 (0.3s):  5.620 ---- 17.271 ---- 0.01 ----   3\n",
      "INFO:pykeen.utilities.train_utils:Epoch  33 /  500 (0.3s):  5.466 ---- 16.724 ---- 0.01 ----   4\n",
      "INFO:pykeen.utilities.train_utils:Epoch  34 /  500 (0.3s):  5.195 ---- 16.036 ---- 0.01 ----   5\n",
      "DEBUG:pykeen.utilities.evaluation_utils.metrics_computations:Evaluation took 1.46s seconds\n",
      "DEBUG:pykeen.utilities.train_utils:\n",
      "current metric: 0.01347228950052861  ---- rank/hits@10: (0.012227001587085671, 0.015)\n",
      "INFO:pykeen.utilities.train_utils:Epoch  35 /  500 (0.3s):  5.147 ---- 17.040 ---- 0.01 ----   6\n",
      "INFO:pykeen.utilities.train_utils:Epoch  36 /  500 (0.3s):  4.923 ---- 17.011 ---- 0.01 ----   7\n",
      "INFO:pykeen.utilities.train_utils:Epoch  37 /  500 (0.3s):  4.818 ---- 17.436 ---- 0.01 ----   8\n",
      "INFO:pykeen.utilities.train_utils:Epoch  38 /  500 (0.3s):  4.640 ---- 17.387 ---- 0.01 ----   9\n",
      "INFO:pykeen.utilities.train_utils:Epoch  39 /  500 (0.3s):  4.540 ---- 16.841 ---- 0.01 ----  10\n",
      "DEBUG:pykeen.utilities.evaluation_utils.metrics_computations:Evaluation took 1.49s seconds\n",
      "DEBUG:pykeen.utilities.train_utils:\n",
      "current metric: 0.014874573535749391  ---- rank/hits@10: (0.01293413768587721, 0.0175)\n",
      "DEBUG:pykeen.utilities.train_utils:Saving the following model to disk:\n",
      "INFO:pykeen.utilities.train_utils:Epoch  40 /  500 (0.3s):  4.405 ---- 17.245 ---- 0.01 ----   1\n",
      "INFO:pykeen.utilities.train_utils:Epoch  41 /  500 (0.3s):  4.307 ---- 16.737 ---- 0.01 ----   2\n",
      "INFO:pykeen.utilities.train_utils:Epoch  42 /  500 (0.3s):  4.184 ---- 16.854 ---- 0.01 ----   3\n",
      "INFO:pykeen.utilities.train_utils:Epoch  43 /  500 (0.3s):  4.107 ---- 16.265 ---- 0.01 ----   4\n",
      "INFO:pykeen.utilities.train_utils:Epoch  44 /  500 (0.3s):  4.007 ---- 16.021 ---- 0.01 ----   5\n",
      "DEBUG:pykeen.utilities.evaluation_utils.metrics_computations:Evaluation took 1.47s seconds\n",
      "DEBUG:pykeen.utilities.train_utils:\n",
      "current metric: 0.014634411337924818  ---- rank/hits@10: (0.012575241632499335, 0.0175)\n",
      "INFO:pykeen.utilities.train_utils:Epoch  45 /  500 (0.3s):  3.837 ---- 15.569 ---- 0.01 ----   6\n",
      "INFO:pykeen.utilities.train_utils:Epoch  46 /  500 (0.3s):  3.753 ---- 15.106 ---- 0.01 ----   7\n",
      "INFO:pykeen.utilities.train_utils:Epoch  47 /  500 (0.3s):  3.712 ---- 15.265 ---- 0.01 ----   8\n",
      "INFO:pykeen.utilities.train_utils:Epoch  48 /  500 (0.3s):  3.573 ---- 15.046 ---- 0.01 ----   9\n",
      "INFO:pykeen.utilities.train_utils:Epoch  49 /  500 (0.3s):  3.543 ---- 14.901 ---- 0.01 ----  10\n",
      "DEBUG:pykeen.utilities.evaluation_utils.metrics_computations:Evaluation took 1.50s seconds\n",
      "DEBUG:pykeen.utilities.train_utils:\n",
      "current metric: 0.01697632844187685  ---- rank/hits@10: (0.013630169378412842, 0.0225)\n",
      "DEBUG:pykeen.utilities.train_utils:Saving the following model to disk:\n",
      "INFO:pykeen.utilities.train_utils:Epoch  50 /  500 (0.3s):  3.457 ---- 14.796 ---- 0.02 ----   1\n",
      "INFO:pykeen.utilities.train_utils:Epoch  51 /  500 (0.3s):  3.380 ---- 15.165 ---- 0.02 ----   2\n",
      "INFO:pykeen.utilities.train_utils:Epoch  52 /  500 (0.3s):  3.256 ---- 14.979 ---- 0.02 ----   3\n",
      "INFO:pykeen.utilities.train_utils:Epoch  53 /  500 (0.3s):  3.222 ---- 14.972 ---- 0.02 ----   4\n",
      "INFO:pykeen.utilities.train_utils:Epoch  54 /  500 (0.3s):  3.163 ---- 14.964 ---- 0.02 ----   5\n"
     ]
    },
    {
     "name": "stderr",
     "output_type": "stream",
     "text": [
      "DEBUG:pykeen.utilities.evaluation_utils.metrics_computations:Evaluation took 1.48s seconds\n",
      "DEBUG:pykeen.utilities.train_utils:\n",
      "current metric: 0.01694637006162709  ---- rank/hits@10: (0.013591586087940113, 0.0225)\n",
      "INFO:pykeen.utilities.train_utils:Epoch  55 /  500 (0.3s):  3.053 ---- 14.608 ---- 0.02 ----   6\n",
      "DEBUG:pykeen.utilities.evaluation_utils.metrics_computations:Evaluation took 1.48s seconds\n",
      "DEBUG:pykeen.utilities.train_utils:\n",
      "current metric: 0.01713639372664864  ---- rank/hits@10: (0.013837722765209719, 0.0225)\n",
      "DEBUG:pykeen.utilities.train_utils:Saving the following model to disk:\n",
      "INFO:pykeen.utilities.train_utils:Epoch  56 /  500 (0.3s):  3.031 ---- 14.516 ---- 0.02 ----   1\n",
      "INFO:pykeen.utilities.train_utils:Epoch  57 /  500 (0.3s):  2.961 ---- 14.622 ---- 0.02 ----   2\n",
      "DEBUG:pykeen.utilities.evaluation_utils.metrics_computations:Evaluation took 1.47s seconds\n",
      "DEBUG:pykeen.utilities.train_utils:\n",
      "current metric: 0.017722144043069495  ---- rank/hits@10: (0.013726240109253836, 0.025)\n",
      "DEBUG:pykeen.utilities.train_utils:Saving the following model to disk:\n",
      "INFO:pykeen.utilities.train_utils:Epoch  58 /  500 (0.3s):  2.920 ---- 13.947 ---- 0.02 ----   1\n",
      "DEBUG:pykeen.utilities.evaluation_utils.metrics_computations:Evaluation took 1.46s seconds\n",
      "DEBUG:pykeen.utilities.train_utils:\n",
      "current metric: 0.017820659213509497  ---- rank/hits@10: (0.013844798229203427, 0.025)\n",
      "DEBUG:pykeen.utilities.train_utils:Saving the following model to disk:\n",
      "INFO:pykeen.utilities.train_utils:Epoch  59 /  500 (0.3s):  2.848 ---- 13.865 ---- 0.02 ----   1\n",
      "DEBUG:pykeen.utilities.evaluation_utils.metrics_computations:Evaluation took 1.50s seconds\n",
      "DEBUG:pykeen.utilities.train_utils:\n",
      "current metric: 0.01769649466627003  ---- rank/hits@10: (0.013695491002792264, 0.025)\n",
      "INFO:pykeen.utilities.train_utils:Epoch  60 /  500 (0.3s):  2.832 ---- 13.826 ---- 0.02 ----   2\n",
      "DEBUG:pykeen.utilities.evaluation_utils.metrics_computations:Evaluation took 1.48s seconds\n",
      "DEBUG:pykeen.utilities.train_utils:\n",
      "current metric: 0.01850706810210664  ---- rank/hits@10: (0.01394638211673293, 0.0275)\n",
      "DEBUG:pykeen.utilities.train_utils:Saving the following model to disk:\n",
      "INFO:pykeen.utilities.train_utils:Epoch  61 /  500 (0.3s):  2.759 ---- 13.823 ---- 0.02 ----   1\n",
      "INFO:pykeen.utilities.train_utils:Epoch  62 /  500 (0.3s):  2.696 ---- 14.230 ---- 0.02 ----   2\n",
      "INFO:pykeen.utilities.train_utils:Epoch  63 /  500 (0.3s):  2.619 ---- 14.092 ---- 0.02 ----   3\n",
      "INFO:pykeen.utilities.train_utils:Epoch  64 /  500 (0.3s):  2.525 ---- 14.346 ---- 0.02 ----   4\n",
      "DEBUG:pykeen.utilities.evaluation_utils.metrics_computations:Evaluation took 1.46s seconds\n",
      "DEBUG:pykeen.utilities.train_utils:\n",
      "current metric: 0.017054379478379903  ---- rank/hits@10: (0.013731079543096228, 0.0225)\n",
      "INFO:pykeen.utilities.train_utils:Epoch  65 /  500 (0.3s):  2.526 ---- 14.854 ---- 0.02 ----   5\n",
      "INFO:pykeen.utilities.train_utils:Epoch  66 /  500 (0.3s):  2.505 ---- 14.010 ---- 0.02 ----   6\n",
      "INFO:pykeen.utilities.train_utils:Epoch  67 /  500 (0.3s):  2.406 ---- 14.148 ---- 0.02 ----   7\n",
      "INFO:pykeen.utilities.train_utils:Epoch  68 /  500 (0.3s):  2.380 ---- 13.884 ---- 0.02 ----   8\n",
      "INFO:pykeen.utilities.train_utils:Epoch  69 /  500 (0.3s):  2.434 ---- 13.965 ---- 0.02 ----   9\n",
      "DEBUG:pykeen.utilities.evaluation_utils.metrics_computations:Evaluation took 1.47s seconds\n",
      "DEBUG:pykeen.utilities.train_utils:\n",
      "current metric: 0.01983768191902299  ---- rank/hits@10: (0.01481813017791358, 0.03)\n",
      "DEBUG:pykeen.utilities.train_utils:Saving the following model to disk:\n",
      "INFO:pykeen.utilities.train_utils:Epoch  70 /  500 (0.3s):  2.364 ---- 14.043 ---- 0.02 ----   1\n",
      "INFO:pykeen.utilities.train_utils:Epoch  71 /  500 (0.3s):  2.327 ---- 14.052 ---- 0.02 ----   2\n",
      "DEBUG:pykeen.utilities.evaluation_utils.metrics_computations:Evaluation took 1.46s seconds\n",
      "DEBUG:pykeen.utilities.train_utils:\n",
      "current metric: 0.019310800829148423  ---- rank/hits@10: (0.014237783900388528, 0.03)\n",
      "INFO:pykeen.utilities.train_utils:Epoch  72 /  500 (0.3s):  2.293 ---- 13.738 ---- 0.02 ----   3\n",
      "DEBUG:pykeen.utilities.evaluation_utils.metrics_computations:Evaluation took 1.49s seconds\n",
      "DEBUG:pykeen.utilities.train_utils:\n",
      "current metric: 0.0191682263430013  ---- rank/hits@10: (0.014711139601362631, 0.0275)\n",
      "INFO:pykeen.utilities.train_utils:Epoch  73 /  500 (0.3s):  2.280 ---- 13.482 ---- 0.02 ----   4\n",
      "DEBUG:pykeen.utilities.evaluation_utils.metrics_computations:Evaluation took 1.47s seconds\n",
      "DEBUG:pykeen.utilities.train_utils:\n",
      "current metric: 0.020671493039755927  ---- rank/hits@10: (0.016559591690125927, 0.0275)\n",
      "DEBUG:pykeen.utilities.train_utils:Saving the following model to disk:\n",
      "INFO:pykeen.utilities.train_utils:Epoch  74 /  500 (0.3s):  2.232 ---- 12.815 ---- 0.02 ----   1\n",
      "DEBUG:pykeen.utilities.evaluation_utils.metrics_computations:Evaluation took 1.47s seconds\n",
      "DEBUG:pykeen.utilities.train_utils:\n",
      "current metric: 0.016339964823815424  ---- rank/hits@10: (0.013812291234683118, 0.02)\n",
      "INFO:pykeen.utilities.train_utils:Epoch  75 /  500 (0.3s):  2.196 ---- 13.085 ---- 0.02 ----   2\n",
      "INFO:pykeen.utilities.train_utils:Epoch  76 /  500 (0.3s):  2.206 ---- 13.030 ---- 0.02 ----   3\n",
      "INFO:pykeen.utilities.train_utils:Epoch  77 /  500 (0.3s):  2.106 ---- 12.904 ---- 0.02 ----   4\n",
      "DEBUG:pykeen.utilities.evaluation_utils.metrics_computations:Evaluation took 1.49s seconds\n",
      "DEBUG:pykeen.utilities.train_utils:\n",
      "current metric: 0.017580861242383998  ---- rank/hits@10: (0.01442676159344231, 0.0225)\n",
      "INFO:pykeen.utilities.train_utils:Epoch  78 /  500 (0.3s):  2.119 ---- 12.800 ---- 0.02 ----   5\n",
      "INFO:pykeen.utilities.train_utils:Epoch  79 /  500 (0.3s):  2.091 ---- 12.830 ---- 0.02 ----   6\n",
      "DEBUG:pykeen.utilities.evaluation_utils.metrics_computations:Evaluation took 1.46s seconds\n",
      "DEBUG:pykeen.utilities.train_utils:\n",
      "current metric: 0.018414759139129454  ---- rank/hits@10: (0.01384180790969405, 0.0275)\n",
      "INFO:pykeen.utilities.train_utils:Epoch  80 /  500 (0.3s):  2.050 ---- 12.643 ---- 0.02 ----   7\n",
      "INFO:pykeen.utilities.train_utils:Epoch  81 /  500 (0.3s):  1.984 ---- 13.159 ---- 0.02 ----   8\n",
      "DEBUG:pykeen.utilities.evaluation_utils.metrics_computations:Evaluation took 1.47s seconds\n",
      "DEBUG:pykeen.utilities.train_utils:\n",
      "current metric: 0.01840422528546144  ---- rank/hits@10: (0.014562251955949724, 0.025)\n",
      "INFO:pykeen.utilities.train_utils:Epoch  82 /  500 (0.3s):  1.957 ---- 12.479 ---- 0.02 ----   9\n",
      "DEBUG:pykeen.utilities.evaluation_utils.metrics_computations:Evaluation took 1.49s seconds\n",
      "DEBUG:pykeen.utilities.train_utils:\n",
      "current metric: 0.019189595910373097  ---- rank/hits@10: (0.014736328755589816, 0.0275)\n",
      "INFO:pykeen.utilities.train_utils:Epoch  83 /  500 (0.3s):  1.961 ---- 12.334 ---- 0.02 ----  10\n",
      "DEBUG:pykeen.utilities.evaluation_utils.metrics_computations:Evaluation took 1.46s seconds\n",
      "DEBUG:pykeen.utilities.train_utils:\n",
      "current metric: 0.019010008866547825  ---- rank/hits@10: (0.015335603666910584, 0.025)\n",
      "INFO:pykeen.utilities.train_utils:Epoch  84 /  500 (0.3s):  1.893 ---- 12.246 ---- 0.02 ----  11\n",
      "DEBUG:pykeen.utilities.evaluation_utils.metrics_computations:Evaluation took 1.47s seconds\n",
      "DEBUG:pykeen.utilities.train_utils:\n",
      "current metric: 0.01839809550558353  ---- rank/hits@10: (0.014554578117937611, 0.025)\n",
      "INFO:pykeen.utilities.train_utils:Epoch  85 /  500 (0.3s):  1.885 ---- 12.466 ---- 0.02 ----  12\n",
      "DEBUG:pykeen.utilities.evaluation_utils.metrics_computations:Evaluation took 1.49s seconds\n",
      "DEBUG:pykeen.utilities.train_utils:\n",
      "current metric: 0.021551344677980776  ---- rank/hits@10: (0.01556899894776873, 0.035)\n",
      "DEBUG:pykeen.utilities.train_utils:Saving the following model to disk:\n",
      "INFO:pykeen.utilities.train_utils:Epoch  86 /  500 (0.3s):  1.913 ---- 12.172 ---- 0.02 ----   1\n",
      "INFO:pykeen.utilities.train_utils:Epoch  87 /  500 (0.3s):  1.837 ---- 12.436 ---- 0.02 ----   2\n",
      "DEBUG:pykeen.utilities.evaluation_utils.metrics_computations:Evaluation took 1.45s seconds\n",
      "DEBUG:pykeen.utilities.train_utils:\n",
      "current metric: 0.019241008001820853  ---- rank/hits@10: (0.014797053565632294, 0.0275)\n",
      "INFO:pykeen.utilities.train_utils:Epoch  88 /  500 (0.3s):  1.825 ---- 12.075 ---- 0.02 ----   3\n",
      "DEBUG:pykeen.utilities.evaluation_utils.metrics_computations:Evaluation took 1.47s seconds\n",
      "DEBUG:pykeen.utilities.train_utils:\n",
      "current metric: 0.019778993692432918  ---- rank/hits@10: (0.014752734087146707, 0.03)\n"
     ]
    },
    {
     "name": "stderr",
     "output_type": "stream",
     "text": [
      "INFO:pykeen.utilities.train_utils:Epoch  89 /  500 (0.3s):  1.786 ---- 11.965 ---- 0.02 ----   4\n",
      "DEBUG:pykeen.utilities.evaluation_utils.metrics_computations:Evaluation took 1.48s seconds\n",
      "DEBUG:pykeen.utilities.train_utils:\n",
      "current metric: 0.018225586192571436  ---- rank/hits@10: (0.014339828818738475, 0.025)\n",
      "INFO:pykeen.utilities.train_utils:Epoch  90 /  500 (0.3s):  1.796 ---- 12.280 ---- 0.02 ----   5\n",
      "INFO:pykeen.utilities.train_utils:Epoch  91 /  500 (0.3s):  1.762 ---- 12.143 ---- 0.02 ----   6\n",
      "INFO:pykeen.utilities.train_utils:Epoch  92 /  500 (0.3s):  1.750 ---- 11.978 ---- 0.02 ----   7\n",
      "INFO:pykeen.utilities.train_utils:Epoch  93 /  500 (0.3s):  1.710 ---- 12.364 ---- 0.02 ----   8\n",
      "INFO:pykeen.utilities.train_utils:Epoch  94 /  500 (0.3s):  1.697 ---- 12.250 ---- 0.02 ----   9\n",
      "DEBUG:pykeen.utilities.evaluation_utils.metrics_computations:Evaluation took 1.47s seconds\n",
      "DEBUG:pykeen.utilities.train_utils:\n",
      "current metric: 0.01899848289137735  ---- rank/hits@10: (0.014512118418135893, 0.0275)\n",
      "INFO:pykeen.utilities.train_utils:Epoch  95 /  500 (0.3s):  1.699 ---- 12.242 ---- 0.02 ----  10\n",
      "INFO:pykeen.utilities.train_utils:Epoch  96 /  500 (0.3s):  1.701 ---- 12.118 ---- 0.02 ----  11\n",
      "INFO:pykeen.utilities.train_utils:Epoch  97 /  500 (0.3s):  1.638 ---- 12.036 ---- 0.02 ----  12\n",
      "INFO:pykeen.utilities.train_utils:Epoch  98 /  500 (0.3s):  1.615 ---- 12.334 ---- 0.02 ----  13\n",
      "INFO:pykeen.utilities.train_utils:Epoch  99 /  500 (0.3s):  1.629 ---- 12.092 ---- 0.02 ----  14\n",
      "DEBUG:pykeen.utilities.evaluation_utils.metrics_computations:Evaluation took 1.50s seconds\n",
      "DEBUG:pykeen.utilities.train_utils:\n",
      "current metric: 0.018594828132993357  ---- rank/hits@10: (0.014802361384725092, 0.025)\n",
      "INFO:pykeen.utilities.train_utils:Epoch 100 /  500 (0.3s):  1.605 ---- 11.610 ---- 0.02 ----  15\n",
      "INFO:pykeen.utilities.train_utils:Epoch 101 /  500 (0.3s):  1.585 ---- 11.977 ---- 0.02 ----  16\n",
      "INFO:pykeen.utilities.train_utils:Epoch 102 /  500 (0.3s):  1.574 ---- 11.896 ---- 0.02 ----  17\n",
      "INFO:pykeen.utilities.train_utils:Epoch 103 /  500 (0.3s):  1.550 ---- 11.740 ---- 0.02 ----  18\n",
      "DEBUG:pykeen.utilities.evaluation_utils.metrics_computations:Evaluation took 1.46s seconds\n",
      "DEBUG:pykeen.utilities.train_utils:\n",
      "current metric: 0.020684414698847246  ---- rank/hits@10: (0.01516945952861078, 0.0325)\n",
      "INFO:pykeen.utilities.train_utils:Epoch 104 /  500 (0.3s):  1.590 ---- 11.562 ---- 0.02 ----  19\n",
      "DEBUG:pykeen.utilities.evaluation_utils.metrics_computations:Evaluation took 1.50s seconds\n",
      "DEBUG:pykeen.utilities.train_utils:\n",
      "current metric: 0.019145930378233658  ---- rank/hits@10: (0.014684890472845775, 0.0275)\n",
      "INFO:pykeen.utilities.train_utils:Epoch 105 /  500 (0.3s):  1.507 ---- 11.536 ---- 0.02 ----  20\n",
      "INFO:pykeen.utilities.train_utils:Epoch 106 /  500 (0.3s):  1.506 ---- 11.671 ---- 0.02 ----  21\n",
      "INFO:pykeen.utilities.train_utils:Epoch 107 /  500 (0.3s):  1.512 ---- 11.583 ---- 0.02 ----  22\n",
      "INFO:pykeen.utilities.train_utils:Epoch 108 /  500 (0.3s):  1.492 ---- 11.662 ---- 0.02 ----  23\n",
      "INFO:pykeen.utilities.train_utils:Epoch 109 /  500 (0.3s):  1.486 ---- 11.615 ---- 0.02 ----  24\n",
      "DEBUG:pykeen.utilities.evaluation_utils.metrics_computations:Evaluation took 1.46s seconds\n",
      "DEBUG:pykeen.utilities.train_utils:\n",
      "current metric: 0.017354400650314267  ---- rank/hits@10: (0.014124273801881233, 0.0225)\n",
      "INFO:pykeen.utilities.train_utils:Epoch 110 /  500 (0.3s):  1.420 ---- 11.527 ---- 0.02 ----  25\n",
      "INFO:pykeen.utilities.train_utils:Epoch 111 /  500 (0.3s):  1.443 ---- 11.655 ---- 0.02 ----  26\n",
      "INFO:pykeen.utilities.train_utils:Epoch 112 /  500 (0.3s):  1.440 ---- 11.680 ---- 0.02 ----  27\n",
      "DEBUG:pykeen.utilities.evaluation_utils.metrics_computations:Evaluation took 1.47s seconds\n",
      "DEBUG:pykeen.utilities.train_utils:\n",
      "current metric: 0.020661867615207993  ---- rank/hits@10: (0.015145218379215904, 0.0325)\n",
      "INFO:pykeen.utilities.train_utils:Epoch 113 /  500 (0.3s):  1.438 ---- 11.497 ---- 0.02 ----  28\n",
      "DEBUG:pykeen.utilities.evaluation_utils.metrics_computations:Evaluation took 1.47s seconds\n",
      "DEBUG:pykeen.utilities.train_utils:\n",
      "current metric: 0.018420576853603644  ---- rank/hits@10: (0.014582736967842368, 0.025)\n",
      "INFO:pykeen.utilities.train_utils:Epoch 114 /  500 (0.3s):  1.392 ---- 11.188 ---- 0.02 ----  29\n",
      "DEBUG:pykeen.utilities.evaluation_utils.metrics_computations:Evaluation took 1.46s seconds\n",
      "DEBUG:pykeen.utilities.train_utils:\n",
      "current metric: 0.018980925928268336  ---- rank/hits@10: (0.014491640234501026, 0.0275)\n",
      "INFO:pykeen.utilities.train_utils:Epoch 115 /  500 (0.3s):  1.411 ---- 11.452 ---- 0.02 ----  30\n",
      "INFO:pykeen.utilities.train_utils:Epoch 116 /  500 (0.3s):  1.366 ---- 11.481 ---- 0.02 ----  31\n",
      "INFO:pykeen.utilities.train_utils:Epoch 117 /  500 (0.3s):  1.366 ---- 11.484 ---- 0.02 ----  32\n",
      "INFO:pykeen.utilities.train_utils:Epoch 118 /  500 (0.3s):  1.375 ---- 11.286 ---- 0.02 ----  33\n",
      "DEBUG:pykeen.utilities.evaluation_utils.metrics_computations:Evaluation took 1.49s seconds\n",
      "DEBUG:pykeen.utilities.train_utils:\n",
      "current metric: 0.019635772196970356  ---- rank/hits@10: (0.014593941169485132, 0.03)\n",
      "INFO:pykeen.utilities.train_utils:Epoch 119 /  500 (0.3s):  1.347 ---- 11.174 ---- 0.02 ----  34\n",
      "DEBUG:pykeen.utilities.evaluation_utils.metrics_computations:Evaluation took 1.47s seconds\n",
      "DEBUG:pykeen.utilities.train_utils:\n",
      "current metric: 0.016703786111325513  ---- rank/hits@10: (0.014340344050022736, 0.02)\n",
      "INFO:pykeen.utilities.train_utils:Epoch 120 /  500 (0.3s):  1.330 ---- 11.307 ---- 0.02 ----  35\n",
      "INFO:pykeen.utilities.train_utils:Epoch 121 /  500 (0.3s):  1.357 ---- 11.459 ---- 0.02 ----  36\n",
      "INFO:pykeen.utilities.train_utils:Epoch 122 /  500 (0.3s):  1.327 ---- 11.596 ---- 0.02 ----  37\n",
      "INFO:pykeen.utilities.train_utils:Epoch 123 /  500 (0.3s):  1.294 ---- 11.387 ---- 0.02 ----  38\n",
      "INFO:pykeen.utilities.train_utils:Epoch 124 /  500 (0.3s):  1.269 ---- 11.221 ---- 0.02 ----  39\n",
      "DEBUG:pykeen.utilities.evaluation_utils.metrics_computations:Evaluation took 1.46s seconds\n",
      "DEBUG:pykeen.utilities.train_utils:\n",
      "current metric: 0.017038391862664377  ---- rank/hits@10: (0.014840765298977399, 0.02)\n",
      "INFO:pykeen.utilities.train_utils:Epoch 125 /  500 (0.3s):  1.270 ---- 11.123 ---- 0.02 ----  40\n",
      "DEBUG:pykeen.utilities.evaluation_utils.metrics_computations:Evaluation took 1.47s seconds\n",
      "DEBUG:pykeen.utilities.train_utils:\n",
      "current metric: 0.01859482686653899  ---- rank/hits@10: (0.01480235977964321, 0.025)\n",
      "INFO:pykeen.utilities.train_utils:Epoch 126 /  500 (0.3s):  1.278 ---- 10.855 ---- 0.02 ----  41\n",
      "INFO:pykeen.utilities.train_utils:Epoch 127 /  500 (0.3s):  1.265 ---- 10.995 ---- 0.02 ----  42\n",
      "INFO:pykeen.utilities.train_utils:Epoch 128 /  500 (0.3s):  1.272 ---- 11.049 ---- 0.02 ----  43\n",
      "DEBUG:pykeen.utilities.evaluation_utils.metrics_computations:Evaluation took 1.46s seconds\n",
      "DEBUG:pykeen.utilities.train_utils:\n",
      "current metric: 0.017578015563096135  ---- rank/hits@10: (0.01442292956878063, 0.0225)\n",
      "INFO:pykeen.utilities.train_utils:Epoch 129 /  500 (0.3s):  1.266 ---- 10.621 ---- 0.02 ----  44\n",
      "DEBUG:pykeen.utilities.evaluation_utils.metrics_computations:Evaluation took 1.46s seconds\n",
      "DEBUG:pykeen.utilities.train_utils:\n",
      "current metric: 0.016453639870055704  ---- rank/hits@10: (0.013975527240094607, 0.02)\n",
      "INFO:pykeen.utilities.train_utils:Epoch 130 /  500 (0.3s):  1.244 ---- 10.781 ---- 0.02 ----  45\n",
      "INFO:pykeen.utilities.train_utils:Epoch 131 /  500 (0.3s):  1.247 ---- 10.652 ---- 0.02 ----  46\n",
      "INFO:pykeen.utilities.train_utils:Epoch 132 /  500 (0.3s):  1.226 ---- 10.650 ---- 0.02 ----  47\n",
      "INFO:pykeen.utilities.train_utils:Epoch 133 /  500 (0.3s):  1.201 ---- 10.884 ---- 0.02 ----  48\n",
      "INFO:pykeen.utilities.train_utils:Epoch 134 /  500 (0.3s):  1.203 ---- 10.978 ---- 0.02 ----  49\n",
      "DEBUG:pykeen.utilities.evaluation_utils.metrics_computations:Evaluation took 1.48s seconds\n",
      "DEBUG:pykeen.utilities.train_utils:\n",
      "current metric: 0.01947307807050666  ---- rank/hits@10: (0.01594746279651348, 0.025)\n",
      "INFO:pykeen.utilities.train_utils:Epoch 135 /  500 (0.3s):  1.212 ---- 11.225 ---- 0.02 ----  50\n",
      "INFO:pykeen.utilities.train_utils:Epoch 136 /  500 (0.3s):  1.185 ---- 11.137 ---- 0.02 ----  51\n",
      "INFO:pykeen.utilities.train_utils:Epoch 137 /  500 (0.3s):  1.148 ---- 10.655 ---- 0.02 ----  52\n",
      "INFO:pykeen.utilities.train_utils:Epoch 138 /  500 (0.3s):  1.174 ---- 10.684 ---- 0.02 ----  53\n"
     ]
    },
    {
     "name": "stderr",
     "output_type": "stream",
     "text": [
      "DEBUG:pykeen.utilities.evaluation_utils.metrics_computations:Evaluation took 1.47s seconds\n",
      "DEBUG:pykeen.utilities.train_utils:\n",
      "current metric: 0.018061637125024246  ---- rank/hits@10: (0.015085802994010317, 0.0225)\n",
      "INFO:pykeen.utilities.train_utils:Epoch 139 /  500 (0.3s):  1.134 ---- 10.612 ---- 0.02 ----  54\n",
      "DEBUG:pykeen.utilities.evaluation_utils.metrics_computations:Evaluation took 1.47s seconds\n",
      "DEBUG:pykeen.utilities.train_utils:\n",
      "current metric: 0.01630034550265375  ---- rank/hits@10: (0.013755766358939082, 0.02)\n",
      "INFO:pykeen.utilities.train_utils:Epoch 140 /  500 (0.3s):  1.109 ---- 10.469 ---- 0.02 ----  55\n",
      "DEBUG:pykeen.utilities.evaluation_utils.metrics_computations:Evaluation took 1.48s seconds\n",
      "DEBUG:pykeen.utilities.train_utils:\n",
      "current metric: 0.016705370442532404  ---- rank/hits@10: (0.014342679630358948, 0.02)\n",
      "INFO:pykeen.utilities.train_utils:Epoch 141 /  500 (0.3s):  1.157 ---- 10.296 ---- 0.02 ----  56\n",
      "INFO:pykeen.utilities.train_utils:Epoch 142 /  500 (0.3s):  1.145 ---- 10.364 ---- 0.02 ----  57\n",
      "DEBUG:pykeen.utilities.evaluation_utils.metrics_computations:Evaluation took 1.49s seconds\n",
      "DEBUG:pykeen.utilities.train_utils:\n",
      "current metric: 0.01944233451387901  ---- rank/hits@10: (0.015906266238425136, 0.025)\n",
      "INFO:pykeen.utilities.train_utils:Epoch 143 /  500 (0.3s):  1.141 ---- 10.252 ---- 0.02 ----  58\n",
      "INFO:pykeen.utilities.train_utils:Epoch 144 /  500 (0.3s):  1.124 ---- 10.316 ---- 0.02 ----  59\n",
      "DEBUG:pykeen.utilities.evaluation_utils.metrics_computations:Evaluation took 1.48s seconds\n",
      "DEBUG:pykeen.utilities.train_utils:\n",
      "current metric: 0.018140908000418378  ---- rank/hits@10: (0.015196732265400912, 0.0225)\n",
      "INFO:pykeen.utilities.train_utils:Epoch 145 /  500 (0.3s):  1.099 ---- 10.322 ---- 0.02 ----  60\n",
      "DEBUG:pykeen.utilities.evaluation_utils.metrics_computations:Evaluation took 1.47s seconds\n",
      "DEBUG:pykeen.utilities.train_utils:\n",
      "current metric: 0.017437305970797633  ---- rank/hits@10: (0.014234435281517388, 0.0225)\n",
      "INFO:pykeen.utilities.train_utils:Epoch 146 /  500 (0.3s):  1.124 ---- 10.143 ---- 0.02 ----  61\n",
      "DEBUG:pykeen.utilities.evaluation_utils.metrics_computations:Evaluation took 1.49s seconds\n",
      "DEBUG:pykeen.utilities.train_utils:\n",
      "current metric: 0.016825756930413577  ---- rank/hits@10: (0.014521084360675824, 0.02)\n",
      "INFO:pykeen.utilities.train_utils:Epoch 147 /  500 (0.3s):  1.119 ---- 10.104 ---- 0.02 ----  62\n",
      "INFO:pykeen.utilities.train_utils:Epoch 148 /  500 (0.3s):  1.105 ---- 10.457 ---- 0.02 ----  63\n",
      "INFO:pykeen.utilities.train_utils:Epoch 149 /  500 (0.3s):  1.093 ---- 10.488 ---- 0.02 ----  64\n",
      "DEBUG:pykeen.utilities.evaluation_utils.metrics_computations:Evaluation took 1.47s seconds\n",
      "DEBUG:pykeen.utilities.train_utils:\n",
      "current metric: 0.016647666443213104  ---- rank/hits@10: (0.01425781830559266, 0.02)\n",
      "INFO:pykeen.utilities.train_utils:Epoch 150 /  500 (0.3s):  1.067 ---- 10.154 ---- 0.02 ----  65\n",
      "DEBUG:pykeen.utilities.evaluation_utils.metrics_computations:Evaluation took 1.46s seconds\n",
      "DEBUG:pykeen.utilities.train_utils:\n",
      "current metric: 0.017111286136903305  ---- rank/hits@10: (0.014951723578048397, 0.02)\n",
      "INFO:pykeen.utilities.train_utils:Epoch 151 /  500 (0.3s):  1.075 ---- 9.857 ---- 0.02 ----  66\n",
      "INFO:pykeen.utilities.train_utils:Epoch 152 /  500 (0.3s):  1.082 ---- 9.874 ---- 0.02 ----  67\n",
      "DEBUG:pykeen.utilities.evaluation_utils.metrics_computations:Evaluation took 1.49s seconds\n",
      "DEBUG:pykeen.utilities.train_utils:\n",
      "current metric: 0.018981630621977018  ---- rank/hits@10: (0.014492461794310683, 0.0275)\n",
      "INFO:pykeen.utilities.train_utils:Epoch 153 /  500 (0.3s):  1.066 ---- 9.811 ---- 0.02 ----  68\n",
      "INFO:pykeen.utilities.train_utils:Epoch 154 /  500 (0.3s):  1.048 ---- 9.994 ---- 0.02 ----  69\n",
      "DEBUG:pykeen.utilities.evaluation_utils.metrics_computations:Evaluation took 1.47s seconds\n",
      "DEBUG:pykeen.utilities.train_utils:\n",
      "current metric: 0.019699508216068237  ---- rank/hits@10: (0.015346428578325546, 0.0275)\n",
      "INFO:pykeen.utilities.train_utils:Epoch 155 /  500 (0.3s):  1.059 ---- 9.335 ---- 0.02 ----  70\n",
      "INFO:pykeen.utilities.train_utils:Epoch 156 /  500 (0.3s):  1.049 ---- 9.392 ---- 0.02 ----  71\n",
      "INFO:pykeen.utilities.train_utils:Epoch 157 /  500 (0.3s):  0.993 ---- 10.021 ---- 0.02 ----  72\n",
      "INFO:pykeen.utilities.train_utils:Epoch 158 /  500 (0.3s):  1.040 ---- 9.554 ---- 0.02 ----  73\n",
      "DEBUG:pykeen.utilities.evaluation_utils.metrics_computations:Evaluation took 1.48s seconds\n",
      "DEBUG:pykeen.utilities.train_utils:\n",
      "current metric: 0.017092288378386635  ---- rank/hits@10: (0.014922737513650298, 0.02)\n",
      "INFO:pykeen.utilities.train_utils:Epoch 159 /  500 (0.3s):  1.018 ---- 9.225 ---- 0.02 ----  74\n",
      "DEBUG:pykeen.utilities.evaluation_utils.metrics_computations:Evaluation took 1.47s seconds\n",
      "DEBUG:pykeen.utilities.train_utils:\n",
      "current metric: 0.019718748200253558  ---- rank/hits@10: (0.015369794093044908, 0.0275)\n",
      "INFO:pykeen.utilities.train_utils:Epoch 160 /  500 (0.3s):  1.017 ---- 9.133 ---- 0.02 ----  75\n",
      "INFO:pykeen.utilities.train_utils:Epoch 161 /  500 (0.3s):  1.030 ---- 9.394 ---- 0.02 ----  76\n",
      "INFO:pykeen.utilities.train_utils:Epoch 162 /  500 (0.3s):  1.019 ---- 9.434 ---- 0.02 ----  77\n",
      "DEBUG:pykeen.utilities.evaluation_utils.metrics_computations:Evaluation took 1.48s seconds\n",
      "DEBUG:pykeen.utilities.train_utils:\n",
      "current metric: 0.018814220972733588  ---- rank/hits@10: (0.015082372125676178, 0.025)\n",
      "INFO:pykeen.utilities.train_utils:Epoch 163 /  500 (0.3s):  1.011 ---- 8.967 ---- 0.02 ----  78\n",
      "INFO:pykeen.utilities.train_utils:Epoch 164 /  500 (0.3s):  0.994 ---- 9.025 ---- 0.02 ----  79\n",
      "DEBUG:pykeen.utilities.evaluation_utils.metrics_computations:Evaluation took 1.50s seconds\n",
      "DEBUG:pykeen.utilities.train_utils:\n",
      "current metric: 0.02135529085745487  ---- rank/hits@10: (0.015902201355048603, 0.0325)\n",
      "INFO:pykeen.utilities.train_utils:Epoch 165 /  500 (0.3s):  1.004 ---- 9.163 ---- 0.02 ----  80\n",
      "DEBUG:pykeen.utilities.evaluation_utils.metrics_computations:Evaluation took 1.46s seconds\n",
      "DEBUG:pykeen.utilities.train_utils:\n",
      "current metric: 0.019144677384231434  ---- rank/hits@10: (0.014683416286842388, 0.0275)\n",
      "INFO:pykeen.utilities.train_utils:Epoch 166 /  500 (0.3s):  0.992 ---- 8.854 ---- 0.02 ----  81\n",
      "INFO:pykeen.utilities.train_utils:Epoch 167 /  500 (0.3s):  1.001 ---- 8.967 ---- 0.02 ----  82\n",
      "INFO:pykeen.utilities.train_utils:Epoch 168 /  500 (0.3s):  0.975 ---- 9.002 ---- 0.02 ----  83\n",
      "DEBUG:pykeen.utilities.evaluation_utils.metrics_computations:Evaluation took 1.47s seconds\n",
      "DEBUG:pykeen.utilities.train_utils:\n",
      "current metric: 0.020518986368421116  ---- rank/hits@10: (0.015591534624639681, 0.03)\n",
      "INFO:pykeen.utilities.train_utils:Epoch 169 /  500 (0.3s):  0.966 ---- 8.785 ---- 0.02 ----  84\n",
      "DEBUG:pykeen.utilities.evaluation_utils.metrics_computations:Evaluation took 1.50s seconds\n",
      "DEBUG:pykeen.utilities.train_utils:\n",
      "current metric: 0.017264477740222405  ---- rank/hits@10: (0.015187227760116818, 0.02)\n",
      "INFO:pykeen.utilities.train_utils:Epoch 170 /  500 (0.3s):  0.948 ---- 9.004 ---- 0.02 ----  85\n",
      "INFO:pykeen.utilities.train_utils:Epoch 171 /  500 (0.3s):  0.939 ---- 9.333 ---- 0.02 ----  86\n",
      "INFO:pykeen.utilities.train_utils:Epoch 172 /  500 (0.3s):  0.945 ---- 9.144 ---- 0.02 ----  87\n",
      "INFO:pykeen.utilities.train_utils:Epoch 173 /  500 (0.3s):  0.939 ---- 8.970 ---- 0.02 ----  88\n",
      "INFO:pykeen.utilities.train_utils:Epoch 174 /  500 (0.3s):  0.940 ---- 9.137 ---- 0.02 ----  89\n",
      "DEBUG:pykeen.utilities.evaluation_utils.metrics_computations:Evaluation took 1.48s seconds\n",
      "DEBUG:pykeen.utilities.train_utils:\n",
      "current metric: 0.021423457827826307  ---- rank/hits@10: (0.01597791712461668, 0.0325)\n",
      "INFO:pykeen.utilities.train_utils:Epoch 175 /  500 (0.3s):  0.949 ---- 8.792 ---- 0.02 ----  90\n",
      "INFO:pykeen.utilities.train_utils:Epoch 176 /  500 (0.3s):  0.935 ---- 9.113 ---- 0.02 ----  91\n",
      "INFO:pykeen.utilities.train_utils:Epoch 177 /  500 (0.3s):  0.949 ---- 9.015 ---- 0.02 ----  92\n",
      "INFO:pykeen.utilities.train_utils:Epoch 178 /  500 (0.3s):  0.959 ---- 8.797 ---- 0.02 ----  93\n",
      "INFO:pykeen.utilities.train_utils:Epoch 179 /  500 (0.3s):  0.909 ---- 9.004 ---- 0.02 ----  94\n",
      "DEBUG:pykeen.utilities.evaluation_utils.metrics_computations:Evaluation took 1.49s seconds\n",
      "DEBUG:pykeen.utilities.train_utils:\n",
      "current metric: 0.019462833580931337  ---- rank/hits@10: (0.015061074852282459, 0.0275)\n"
     ]
    },
    {
     "name": "stderr",
     "output_type": "stream",
     "text": [
      "INFO:pykeen.utilities.train_utils:Epoch 180 /  500 (0.3s):  0.911 ---- 9.184 ---- 0.02 ----  95\n",
      "INFO:pykeen.utilities.train_utils:Epoch 181 /  500 (0.3s):  0.942 ---- 8.902 ---- 0.02 ----  96\n",
      "DEBUG:pykeen.utilities.evaluation_utils.metrics_computations:Evaluation took 1.46s seconds\n",
      "DEBUG:pykeen.utilities.train_utils:\n",
      "current metric: 0.017794689568331645  ---- rank/hits@10: (0.01471699859088536, 0.0225)\n",
      "INFO:pykeen.utilities.train_utils:Epoch 182 /  500 (0.3s):  0.903 ---- 8.652 ---- 0.02 ----  97\n",
      "INFO:pykeen.utilities.train_utils:Epoch 183 /  500 (0.3s):  0.916 ---- 8.967 ---- 0.02 ----  98\n",
      "INFO:pykeen.utilities.train_utils:Epoch 184 /  500 (0.3s):  0.918 ---- 9.119 ---- 0.02 ----  99\n",
      "DEBUG:pykeen.utilities.evaluation_utils.metrics_computations:Evaluation took 1.49s seconds\n",
      "DEBUG:pykeen.utilities.train_utils:\n",
      "current metric: 0.017896556228336115  ---- rank/hits@10: (0.01485687643717618, 0.0225)\n",
      "INFO:pykeen.utilities.train_utils:Epoch 185 /  500 (0.3s):  0.901 ---- 8.714 ---- 0.02 ---- 100\n",
      "INFO:pykeen.utilities.train_utils:Epoch 186 /  500 (0.3s):  0.899 ---- 8.813 ---- 0.02 ---- 101\n",
      "INFO:pykeen.utilities.train_utils:Epoch 187 /  500 (0.3s):  0.883 ---- 8.820 ---- 0.02 ---- 102\n",
      "INFO:pykeen.utilities.train_utils:Epoch 188 /  500 (0.3s):  0.889 ---- 8.704 ---- 0.02 ---- 103\n",
      "INFO:pykeen.utilities.train_utils:Epoch 189 /  500 (0.3s):  0.894 ---- 8.714 ---- 0.02 ---- 104\n",
      "DEBUG:pykeen.utilities.evaluation_utils.metrics_computations:Evaluation took 1.47s seconds\n",
      "DEBUG:pykeen.utilities.train_utils:\n",
      "current metric: 0.02114960122568516  ---- rank/hits@10: (0.015675160524136138, 0.0325)\n",
      "INFO:pykeen.utilities.train_utils:Epoch 190 /  500 (0.3s):  0.881 ---- 8.636 ---- 0.02 ---- 105\n",
      "DEBUG:pykeen.utilities.evaluation_utils.metrics_computations:Evaluation took 1.47s seconds\n",
      "DEBUG:pykeen.utilities.train_utils:\n",
      "current metric: 0.02020834631474806  ---- rank/hits@10: (0.015235616851659965, 0.03)\n",
      "INFO:pykeen.utilities.train_utils:Epoch 191 /  500 (0.3s):  0.895 ---- 8.404 ---- 0.02 ---- 106\n",
      "INFO:pykeen.utilities.train_utils:Epoch 192 /  500 (0.3s):  0.884 ---- 8.659 ---- 0.02 ---- 107\n",
      "INFO:pykeen.utilities.train_utils:Epoch 193 /  500 (0.3s):  0.855 ---- 8.779 ---- 0.02 ---- 108\n",
      "INFO:pykeen.utilities.train_utils:Epoch 194 /  500 (0.3s):  0.863 ---- 8.428 ---- 0.02 ---- 109\n",
      "DEBUG:pykeen.utilities.evaluation_utils.metrics_computations:Evaluation took 1.47s seconds\n",
      "DEBUG:pykeen.utilities.train_utils:\n",
      "current metric: 0.017820203256670577  ---- rank/hits@10: (0.014751934205449563, 0.0225)\n",
      "INFO:pykeen.utilities.train_utils:Epoch 195 /  500 (0.3s):  0.879 ---- 8.673 ---- 0.02 ---- 110\n",
      "INFO:pykeen.utilities.train_utils:Epoch 196 /  500 (0.3s):  0.863 ---- 8.694 ---- 0.02 ---- 111\n",
      "INFO:pykeen.utilities.train_utils:Epoch 197 /  500 (0.3s):  0.844 ---- 8.742 ---- 0.02 ---- 112\n",
      "INFO:pykeen.utilities.train_utils:Epoch 198 /  500 (0.3s):  0.843 ---- 8.404 ---- 0.02 ---- 113\n",
      "INFO:pykeen.utilities.train_utils:Epoch 199 /  500 (0.3s):  0.846 ---- 8.744 ---- 0.02 ---- 114\n",
      "DEBUG:pykeen.utilities.evaluation_utils.metrics_computations:Evaluation took 1.46s seconds\n",
      "DEBUG:pykeen.utilities.train_utils:\n",
      "current metric: 0.01855062916594218  ---- rank/hits@10: (0.015780683739223145, 0.0225)\n",
      "INFO:pykeen.utilities.train_utils:Epoch 200 /  500 (0.3s):  0.835 ---- 8.597 ---- 0.02 ---- 115\n",
      "DEBUG:pykeen.utilities.evaluation_utils.metrics_computations:Evaluation took 1.49s seconds\n",
      "DEBUG:pykeen.utilities.train_utils:\n",
      "current metric: 0.019238607272992838  ---- rank/hits@10: (0.01563535130197647, 0.025)\n",
      "INFO:pykeen.utilities.train_utils:Epoch 201 /  500 (0.3s):  0.834 ---- 8.399 ---- 0.02 ---- 116\n",
      "INFO:pykeen.utilities.train_utils:Epoch 202 /  500 (0.3s):  0.838 ---- 8.501 ---- 0.02 ---- 117\n",
      "INFO:pykeen.utilities.train_utils:Epoch 203 /  500 (0.3s):  0.843 ---- 8.439 ---- 0.02 ---- 118\n",
      "INFO:pykeen.utilities.train_utils:Epoch 204 /  500 (0.3s):  0.828 ---- 8.508 ---- 0.02 ---- 119\n",
      "DEBUG:pykeen.utilities.evaluation_utils.metrics_computations:Evaluation took 1.47s seconds\n",
      "DEBUG:pykeen.utilities.train_utils:\n",
      "current metric: 0.020483028754366826  ---- rank/hits@10: (0.015550049592905204, 0.03)\n",
      "INFO:pykeen.utilities.train_utils:Epoch 205 /  500 (0.3s):  0.845 ---- 8.289 ---- 0.02 ---- 120\n",
      "DEBUG:pykeen.utilities.evaluation_utils.metrics_computations:Evaluation took 1.49s seconds\n",
      "DEBUG:pykeen.utilities.train_utils:\n",
      "current metric: 0.01989778587833836  ---- rank/hits@10: (0.015588450054967718, 0.0275)\n",
      "INFO:pykeen.utilities.train_utils:Epoch 206 /  500 (0.3s):  0.830 ---- 8.201 ---- 0.02 ---- 121\n",
      "INFO:pykeen.utilities.train_utils:Epoch 207 /  500 (0.3s):  0.838 ---- 8.204 ---- 0.02 ---- 122\n",
      "DEBUG:pykeen.utilities.evaluation_utils.metrics_computations:Evaluation took 1.46s seconds\n",
      "DEBUG:pykeen.utilities.train_utils:\n",
      "current metric: 0.02247157678477434  ---- rank/hits@10: (0.017172662193685587, 0.0325)\n",
      "DEBUG:pykeen.utilities.train_utils:Saving the following model to disk:\n",
      "INFO:pykeen.utilities.train_utils:Epoch 208 /  500 (0.3s):  0.801 ---- 7.942 ---- 0.02 ----   1\n",
      "INFO:pykeen.utilities.train_utils:Epoch 209 /  500 (0.3s):  0.809 ---- 8.005 ---- 0.02 ----   2\n",
      "DEBUG:pykeen.utilities.evaluation_utils.metrics_computations:Evaluation took 1.47s seconds\n",
      "DEBUG:pykeen.utilities.train_utils:\n",
      "current metric: 0.020166235950381205  ---- rank/hits@10: (0.01592051573426077, 0.0275)\n",
      "INFO:pykeen.utilities.train_utils:Epoch 210 /  500 (0.3s):  0.806 ---- 8.212 ---- 0.02 ----   3\n",
      "INFO:pykeen.utilities.train_utils:Epoch 211 /  500 (0.3s):  0.771 ---- 8.067 ---- 0.02 ----   4\n",
      "DEBUG:pykeen.utilities.evaluation_utils.metrics_computations:Evaluation took 1.50s seconds\n",
      "DEBUG:pykeen.utilities.train_utils:\n",
      "current metric: 0.020494509291239086  ---- rank/hits@10: (0.016333603549245502, 0.0275)\n",
      "INFO:pykeen.utilities.train_utils:Epoch 212 /  500 (0.3s):  0.806 ---- 7.872 ---- 0.02 ----   5\n",
      "INFO:pykeen.utilities.train_utils:Epoch 213 /  500 (0.3s):  0.769 ---- 8.108 ---- 0.02 ----   6\n",
      "DEBUG:pykeen.utilities.evaluation_utils.metrics_computations:Evaluation took 1.47s seconds\n",
      "DEBUG:pykeen.utilities.train_utils:\n",
      "current metric: 0.022448967441654078  ---- rank/hits@10: (0.01652359198496496, 0.035)\n",
      "INFO:pykeen.utilities.train_utils:Epoch 214 /  500 (0.3s):  0.802 ---- 7.763 ---- 0.02 ----   7\n",
      "DEBUG:pykeen.utilities.evaluation_utils.metrics_computations:Evaluation took 1.48s seconds\n",
      "DEBUG:pykeen.utilities.train_utils:\n",
      "current metric: 0.023082307996379885  ---- rank/hits@10: (0.01721910744908255, 0.035)\n",
      "DEBUG:pykeen.utilities.train_utils:Saving the following model to disk:\n",
      "INFO:pykeen.utilities.train_utils:Epoch 215 /  500 (0.3s):  0.797 ---- 8.142 ---- 0.02 ----   1\n",
      "INFO:pykeen.utilities.train_utils:Epoch 216 /  500 (0.3s):  0.802 ---- 7.851 ---- 0.02 ----   2\n",
      "INFO:pykeen.utilities.train_utils:Epoch 217 /  500 (0.3s):  0.783 ---- 8.318 ---- 0.02 ----   3\n",
      "INFO:pykeen.utilities.train_utils:Epoch 218 /  500 (0.3s):  0.793 ---- 8.279 ---- 0.02 ----   4\n",
      "INFO:pykeen.utilities.train_utils:Epoch 219 /  500 (0.3s):  0.792 ---- 8.033 ---- 0.02 ----   5\n",
      "DEBUG:pykeen.utilities.evaluation_utils.metrics_computations:Evaluation took 1.47s seconds\n",
      "DEBUG:pykeen.utilities.train_utils:\n",
      "current metric: 0.020146549946582576  ---- rank/hits@10: (0.015895990861217412, 0.0275)\n",
      "INFO:pykeen.utilities.train_utils:Epoch 220 /  500 (0.3s):  0.798 ---- 8.230 ---- 0.02 ----   6\n",
      "INFO:pykeen.utilities.train_utils:Epoch 221 /  500 (0.3s):  0.780 ---- 8.311 ---- 0.02 ----   7\n",
      "INFO:pykeen.utilities.train_utils:Epoch 222 /  500 (0.3s):  0.758 ---- 8.155 ---- 0.02 ----   8\n",
      "INFO:pykeen.utilities.train_utils:Epoch 223 /  500 (0.3s):  0.788 ---- 8.337 ---- 0.02 ----   9\n",
      "INFO:pykeen.utilities.train_utils:Epoch 224 /  500 (0.3s):  0.767 ---- 8.680 ---- 0.02 ----  10\n",
      "DEBUG:pykeen.utilities.evaluation_utils.metrics_computations:Evaluation took 1.46s seconds\n",
      "DEBUG:pykeen.utilities.train_utils:\n",
      "current metric: 0.01833224142199341  ---- rank/hits@10: (0.015467195369581157, 0.0225)\n",
      "INFO:pykeen.utilities.train_utils:Epoch 225 /  500 (0.3s):  0.769 ---- 8.189 ---- 0.02 ----  11\n",
      "INFO:pykeen.utilities.train_utils:Epoch 226 /  500 (0.3s):  0.750 ---- 7.990 ---- 0.02 ----  12\n",
      "INFO:pykeen.utilities.train_utils:Epoch 227 /  500 (0.3s):  0.734 ---- 8.131 ---- 0.02 ----  13\n",
      "INFO:pykeen.utilities.train_utils:Epoch 228 /  500 (0.3s):  0.743 ---- 7.804 ---- 0.02 ----  14\n"
     ]
    },
    {
     "name": "stderr",
     "output_type": "stream",
     "text": [
      "INFO:pykeen.utilities.train_utils:Epoch 229 /  500 (0.3s):  0.767 ---- 7.837 ---- 0.02 ----  15\n",
      "DEBUG:pykeen.utilities.evaluation_utils.metrics_computations:Evaluation took 1.48s seconds\n",
      "DEBUG:pykeen.utilities.train_utils:\n",
      "current metric: 0.018925186408315243  ---- rank/hits@10: (0.016330574816568796, 0.0225)\n",
      "INFO:pykeen.utilities.train_utils:Epoch 230 /  500 (0.3s):  0.746 ---- 7.795 ---- 0.02 ----  16\n",
      "INFO:pykeen.utilities.train_utils:Epoch 231 /  500 (0.3s):  0.748 ---- 8.132 ---- 0.02 ----  17\n",
      "INFO:pykeen.utilities.train_utils:Epoch 232 /  500 (0.3s):  0.746 ---- 8.110 ---- 0.02 ----  18\n",
      "DEBUG:pykeen.utilities.evaluation_utils.metrics_computations:Evaluation took 1.47s seconds\n",
      "DEBUG:pykeen.utilities.train_utils:\n",
      "current metric: 0.019953364054020536  ---- rank/hits@10: (0.015656781219497144, 0.0275)\n",
      "INFO:pykeen.utilities.train_utils:Epoch 233 /  500 (0.3s):  0.736 ---- 7.661 ---- 0.02 ----  19\n",
      "DEBUG:pykeen.utilities.evaluation_utils.metrics_computations:Evaluation took 1.49s seconds\n",
      "DEBUG:pykeen.utilities.train_utils:\n",
      "current metric: 0.02071504562225977  ---- rank/hits@10: (0.0158190681015509, 0.03)\n",
      "INFO:pykeen.utilities.train_utils:Epoch 234 /  500 (0.3s):  0.741 ---- 7.610 ---- 0.02 ----  20\n",
      "DEBUG:pykeen.utilities.evaluation_utils.metrics_computations:Evaluation took 1.48s seconds\n",
      "DEBUG:pykeen.utilities.train_utils:\n",
      "current metric: 0.01918074366568476  ---- rank/hits@10: (0.015559057831911608, 0.025)\n",
      "INFO:pykeen.utilities.train_utils:Epoch 235 /  500 (0.3s):  0.751 ---- 7.666 ---- 0.02 ----  21\n",
      "INFO:pykeen.utilities.train_utils:Epoch 236 /  500 (0.3s):  0.728 ---- 7.781 ---- 0.02 ----  22\n",
      "INFO:pykeen.utilities.train_utils:Epoch 237 /  500 (0.3s):  0.733 ---- 7.756 ---- 0.02 ----  23\n",
      "INFO:pykeen.utilities.train_utils:Epoch 238 /  500 (0.3s):  0.731 ---- 7.820 ---- 0.02 ----  24\n",
      "INFO:pykeen.utilities.train_utils:Epoch 239 /  500 (0.3s):  0.722 ---- 7.767 ---- 0.02 ----  25\n",
      "DEBUG:pykeen.utilities.evaluation_utils.metrics_computations:Evaluation took 1.51s seconds\n",
      "DEBUG:pykeen.utilities.train_utils:\n",
      "current metric: 0.019410395372199435  ---- rank/hits@10: (0.015863555289759128, 0.025)\n",
      "INFO:pykeen.utilities.train_utils:Epoch 240 /  500 (0.3s):  0.715 ---- 7.762 ---- 0.02 ----  26\n",
      "INFO:pykeen.utilities.train_utils:Epoch 241 /  500 (0.3s):  0.715 ---- 8.021 ---- 0.02 ----  27\n",
      "INFO:pykeen.utilities.train_utils:Epoch 242 /  500 (0.3s):  0.702 ---- 8.152 ---- 0.02 ----  28\n",
      "INFO:pykeen.utilities.train_utils:Epoch 243 /  500 (0.3s):  0.721 ---- 8.266 ---- 0.02 ----  29\n",
      "INFO:pykeen.utilities.train_utils:Epoch 244 /  500 (0.3s):  0.735 ---- 8.427 ---- 0.02 ----  30\n",
      "DEBUG:pykeen.utilities.evaluation_utils.metrics_computations:Evaluation took 1.46s seconds\n",
      "DEBUG:pykeen.utilities.train_utils:\n",
      "current metric: 0.02156952884090373  ---- rank/hits@10: (0.016140964364890355, 0.0325)\n",
      "INFO:pykeen.utilities.train_utils:Epoch 245 /  500 (0.3s):  0.721 ---- 8.471 ---- 0.02 ----  31\n",
      "INFO:pykeen.utilities.train_utils:Epoch 246 /  500 (0.3s):  0.725 ---- 8.496 ---- 0.02 ----  32\n",
      "INFO:pykeen.utilities.train_utils:Epoch 247 /  500 (0.3s):  0.705 ---- 8.538 ---- 0.02 ----  33\n",
      "INFO:pykeen.utilities.train_utils:Epoch 248 /  500 (0.3s):  0.711 ---- 8.344 ---- 0.02 ----  34\n",
      "INFO:pykeen.utilities.train_utils:Epoch 249 /  500 (0.3s):  0.711 ---- 8.410 ---- 0.02 ----  35\n",
      "DEBUG:pykeen.utilities.evaluation_utils.metrics_computations:Evaluation took 1.51s seconds\n",
      "DEBUG:pykeen.utilities.train_utils:\n",
      "current metric: 0.019102392232642217  ---- rank/hits@10: (0.01545620649377847, 0.025)\n",
      "INFO:pykeen.utilities.train_utils:Epoch 250 /  500 (0.3s):  0.690 ---- 8.287 ---- 0.02 ----  36\n",
      "INFO:pykeen.utilities.train_utils:Epoch 251 /  500 (0.3s):  0.709 ---- 8.071 ---- 0.02 ----  37\n",
      "INFO:pykeen.utilities.train_utils:Epoch 252 /  500 (0.3s):  0.696 ---- 8.380 ---- 0.02 ----  38\n",
      "INFO:pykeen.utilities.train_utils:Epoch 253 /  500 (0.3s):  0.693 ---- 8.293 ---- 0.02 ----  39\n",
      "INFO:pykeen.utilities.train_utils:Epoch 254 /  500 (0.3s):  0.684 ---- 7.838 ---- 0.02 ----  40\n",
      "DEBUG:pykeen.utilities.evaluation_utils.metrics_computations:Evaluation took 1.46s seconds\n",
      "DEBUG:pykeen.utilities.train_utils:\n",
      "current metric: 0.023369216172872152  ---- rank/hits@10: (0.017540399258197586, 0.035)\n",
      "DEBUG:pykeen.utilities.train_utils:Saving the following model to disk:\n",
      "INFO:pykeen.utilities.train_utils:Epoch 255 /  500 (0.3s):  0.682 ---- 7.777 ---- 0.02 ----   1\n",
      "INFO:pykeen.utilities.train_utils:Epoch 256 /  500 (0.3s):  0.698 ---- 7.817 ---- 0.02 ----   2\n",
      "INFO:pykeen.utilities.train_utils:Epoch 257 /  500 (0.3s):  0.648 ---- 7.752 ---- 0.02 ----   3\n",
      "DEBUG:pykeen.utilities.evaluation_utils.metrics_computations:Evaluation took 1.50s seconds\n",
      "DEBUG:pykeen.utilities.train_utils:\n",
      "current metric: 0.021588825730712788  ---- rank/hits@10: (0.01686136350273579, 0.03)\n",
      "INFO:pykeen.utilities.train_utils:Epoch 258 /  500 (0.3s):  0.679 ---- 7.449 ---- 0.02 ----   4\n",
      "DEBUG:pykeen.utilities.evaluation_utils.metrics_computations:Evaluation took 1.47s seconds\n",
      "DEBUG:pykeen.utilities.train_utils:\n",
      "current metric: 0.024238455127274648  ---- rank/hits@10: (0.017906115141920798, 0.0375)\n",
      "DEBUG:pykeen.utilities.train_utils:Saving the following model to disk:\n",
      "INFO:pykeen.utilities.train_utils:Epoch 259 /  500 (0.3s):  0.680 ---- 7.169 ---- 0.02 ----   1\n",
      "DEBUG:pykeen.utilities.evaluation_utils.metrics_computations:Evaluation took 1.46s seconds\n",
      "DEBUG:pykeen.utilities.train_utils:\n",
      "current metric: 0.02077054786413578  ---- rank/hits@10: (0.01668709344211982, 0.0275)\n",
      "INFO:pykeen.utilities.train_utils:Epoch 260 /  500 (0.3s):  0.680 ---- 7.434 ---- 0.02 ----   2\n",
      "INFO:pykeen.utilities.train_utils:Epoch 261 /  500 (0.3s):  0.664 ---- 7.439 ---- 0.02 ----   3\n",
      "INFO:pykeen.utilities.train_utils:Epoch 262 /  500 (0.3s):  0.681 ---- 7.432 ---- 0.02 ----   4\n",
      "INFO:pykeen.utilities.train_utils:Epoch 263 /  500 (0.3s):  0.673 ---- 7.331 ---- 0.02 ----   5\n",
      "INFO:pykeen.utilities.train_utils:Epoch 264 /  500 (0.3s):  0.666 ---- 7.607 ---- 0.02 ----   6\n",
      "DEBUG:pykeen.utilities.evaluation_utils.metrics_computations:Evaluation took 1.49s seconds\n",
      "DEBUG:pykeen.utilities.train_utils:\n",
      "current metric: 0.020789620020867833  ---- rank/hits@10: (0.016711727578664806, 0.0275)\n",
      "INFO:pykeen.utilities.train_utils:Epoch 265 /  500 (0.3s):  0.678 ---- 7.384 ---- 0.02 ----   7\n",
      "INFO:pykeen.utilities.train_utils:Epoch 266 /  500 (0.3s):  0.669 ---- 7.457 ---- 0.02 ----   8\n",
      "INFO:pykeen.utilities.train_utils:Epoch 267 /  500 (0.3s):  0.674 ---- 7.617 ---- 0.02 ----   9\n",
      "INFO:pykeen.utilities.train_utils:Epoch 268 /  500 (0.3s):  0.655 ---- 7.551 ---- 0.02 ----  10\n",
      "INFO:pykeen.utilities.train_utils:Epoch 269 /  500 (0.3s):  0.663 ---- 7.393 ---- 0.02 ----  11\n",
      "DEBUG:pykeen.utilities.evaluation_utils.metrics_computations:Evaluation took 1.46s seconds\n",
      "DEBUG:pykeen.utilities.train_utils:\n",
      "current metric: 0.021821208527380082  ---- rank/hits@10: (0.016424481856782774, 0.0325)\n",
      "INFO:pykeen.utilities.train_utils:Epoch 270 /  500 (0.3s):  0.670 ---- 7.750 ---- 0.02 ----  12\n",
      "INFO:pykeen.utilities.train_utils:Epoch 271 /  500 (0.3s):  0.662 ---- 7.789 ---- 0.02 ----  13\n",
      "INFO:pykeen.utilities.train_utils:Epoch 272 /  500 (0.3s):  0.668 ---- 7.640 ---- 0.02 ----  14\n",
      "INFO:pykeen.utilities.train_utils:Epoch 273 /  500 (0.3s):  0.656 ---- 7.809 ---- 0.02 ----  15\n",
      "INFO:pykeen.utilities.train_utils:Epoch 274 /  500 (0.3s):  0.645 ---- 7.987 ---- 0.02 ----  16\n",
      "DEBUG:pykeen.utilities.evaluation_utils.metrics_computations:Evaluation took 1.47s seconds\n",
      "DEBUG:pykeen.utilities.train_utils:\n",
      "current metric: 0.02324057314102196  ---- rank/hits@10: (0.018087380117402744, 0.0325)\n",
      "INFO:pykeen.utilities.train_utils:Epoch 275 /  500 (0.3s):  0.661 ---- 7.823 ---- 0.02 ----  17\n",
      "INFO:pykeen.utilities.train_utils:Epoch 276 /  500 (0.3s):  0.645 ---- 7.744 ---- 0.02 ----  18\n",
      "INFO:pykeen.utilities.train_utils:Epoch 277 /  500 (0.3s):  0.652 ---- 8.072 ---- 0.02 ----  19\n",
      "INFO:pykeen.utilities.train_utils:Epoch 278 /  500 (0.3s):  0.655 ---- 7.851 ---- 0.02 ----  20\n",
      "INFO:pykeen.utilities.train_utils:Epoch 279 /  500 (0.3s):  0.647 ---- 7.813 ---- 0.02 ----  21\n",
      "DEBUG:pykeen.utilities.evaluation_utils.metrics_computations:Evaluation took 1.48s seconds\n",
      "DEBUG:pykeen.utilities.train_utils:\n",
      "current metric: 0.022352751058486293  ---- rank/hits@10: (0.01703426193790543, 0.0325)\n"
     ]
    },
    {
     "name": "stderr",
     "output_type": "stream",
     "text": [
      "INFO:pykeen.utilities.train_utils:Epoch 280 /  500 (0.3s):  0.644 ---- 7.640 ---- 0.02 ----  22\n",
      "INFO:pykeen.utilities.train_utils:Epoch 281 /  500 (0.3s):  0.631 ---- 7.485 ---- 0.02 ----  23\n",
      "INFO:pykeen.utilities.train_utils:Epoch 282 /  500 (0.3s):  0.632 ---- 7.516 ---- 0.02 ----  24\n",
      "INFO:pykeen.utilities.train_utils:Epoch 283 /  500 (0.3s):  0.625 ---- 7.681 ---- 0.02 ----  25\n",
      "INFO:pykeen.utilities.train_utils:Epoch 284 /  500 (0.3s):  0.623 ---- 7.600 ---- 0.02 ----  26\n",
      "DEBUG:pykeen.utilities.evaluation_utils.metrics_computations:Evaluation took 1.48s seconds\n",
      "DEBUG:pykeen.utilities.train_utils:\n",
      "current metric: 0.023551213789177416  ---- rank/hits@10: (0.017746265292700996, 0.035)\n",
      "INFO:pykeen.utilities.train_utils:Epoch 285 /  500 (0.3s):  0.640 ---- 7.776 ---- 0.02 ----  27\n",
      "INFO:pykeen.utilities.train_utils:Epoch 286 /  500 (0.3s):  0.629 ---- 7.540 ---- 0.02 ----  28\n",
      "INFO:pykeen.utilities.train_utils:Epoch 287 /  500 (0.3s):  0.639 ---- 7.283 ---- 0.02 ----  29\n",
      "INFO:pykeen.utilities.train_utils:Epoch 288 /  500 (0.3s):  0.598 ---- 7.575 ---- 0.02 ----  30\n",
      "INFO:pykeen.utilities.train_utils:Epoch 289 /  500 (0.3s):  0.639 ---- 7.493 ---- 0.02 ----  31\n",
      "DEBUG:pykeen.utilities.evaluation_utils.metrics_computations:Evaluation took 1.48s seconds\n",
      "DEBUG:pykeen.utilities.train_utils:\n",
      "current metric: 0.023343450630950186  ---- rank/hits@10: (0.01694614544240383, 0.0375)\n",
      "INFO:pykeen.utilities.train_utils:Epoch 290 /  500 (0.3s):  0.616 ---- 7.572 ---- 0.02 ----  32\n",
      "INFO:pykeen.utilities.train_utils:Epoch 291 /  500 (0.3s):  0.614 ---- 7.274 ---- 0.02 ----  33\n",
      "INFO:pykeen.utilities.train_utils:Epoch 292 /  500 (0.3s):  0.632 ---- 7.225 ---- 0.02 ----  34\n",
      "INFO:pykeen.utilities.train_utils:Epoch 293 /  500 (0.3s):  0.628 ---- 7.490 ---- 0.02 ----  35\n",
      "INFO:pykeen.utilities.train_utils:Epoch 294 /  500 (0.3s):  0.626 ---- 7.459 ---- 0.02 ----  36\n",
      "DEBUG:pykeen.utilities.evaluation_utils.metrics_computations:Evaluation took 1.47s seconds\n",
      "DEBUG:pykeen.utilities.train_utils:\n",
      "current metric: 0.023786513020700152  ---- rank/hits@10: (0.017417174476652877, 0.0375)\n",
      "INFO:pykeen.utilities.train_utils:Epoch 295 /  500 (0.3s):  0.605 ---- 7.705 ---- 0.02 ----  37\n",
      "INFO:pykeen.utilities.train_utils:Epoch 296 /  500 (0.3s):  0.606 ---- 7.667 ---- 0.02 ----  38\n",
      "INFO:pykeen.utilities.train_utils:Epoch 297 /  500 (0.3s):  0.618 ---- 7.650 ---- 0.02 ----  39\n",
      "INFO:pykeen.utilities.train_utils:Epoch 298 /  500 (0.3s):  0.628 ---- 7.642 ---- 0.02 ----  40\n",
      "INFO:pykeen.utilities.train_utils:Epoch 299 /  500 (0.3s):  0.626 ---- 7.550 ---- 0.02 ----  41\n",
      "DEBUG:pykeen.utilities.evaluation_utils.metrics_computations:Evaluation took 1.48s seconds\n",
      "DEBUG:pykeen.utilities.train_utils:\n",
      "current metric: 0.022199940691887823  ---- rank/hits@10: (0.016857408240777923, 0.0325)\n",
      "INFO:pykeen.utilities.train_utils:Epoch 300 /  500 (0.3s):  0.620 ---- 7.243 ---- 0.02 ----  42\n",
      "INFO:pykeen.utilities.train_utils:Epoch 301 /  500 (0.3s):  0.605 ---- 7.210 ---- 0.02 ----  43\n",
      "INFO:pykeen.utilities.train_utils:Epoch 302 /  500 (0.3s):  0.599 ---- 7.289 ---- 0.02 ----  44\n",
      "INFO:pykeen.utilities.train_utils:Epoch 303 /  500 (0.3s):  0.612 ---- 7.343 ---- 0.02 ----  45\n",
      "INFO:pykeen.utilities.train_utils:Epoch 304 /  500 (0.3s):  0.602 ---- 7.257 ---- 0.02 ----  46\n",
      "DEBUG:pykeen.utilities.evaluation_utils.metrics_computations:Evaluation took 1.46s seconds\n",
      "DEBUG:pykeen.utilities.train_utils:\n",
      "current metric: 0.025844457592660484  ---- rank/hits@10: (0.018567819734027016, 0.0425)\n",
      "DEBUG:pykeen.utilities.train_utils:Saving the following model to disk:\n",
      "INFO:pykeen.utilities.train_utils:Epoch 305 /  500 (0.3s):  0.609 ---- 7.481 ---- 0.03 ----   1\n",
      "INFO:pykeen.utilities.train_utils:Epoch 306 /  500 (0.3s):  0.592 ---- 7.293 ---- 0.03 ----   2\n",
      "INFO:pykeen.utilities.train_utils:Epoch 307 /  500 (0.3s):  0.596 ---- 7.391 ---- 0.03 ----   3\n",
      "INFO:pykeen.utilities.train_utils:Epoch 308 /  500 (0.3s):  0.596 ---- 7.588 ---- 0.03 ----   4\n",
      "INFO:pykeen.utilities.train_utils:Epoch 309 /  500 (0.3s):  0.585 ---- 7.289 ---- 0.03 ----   5\n",
      "DEBUG:pykeen.utilities.evaluation_utils.metrics_computations:Evaluation took 1.48s seconds\n",
      "DEBUG:pykeen.utilities.train_utils:\n",
      "current metric: 0.02118559588082134  ---- rank/hits@10: (0.01637453648581452, 0.03)\n",
      "INFO:pykeen.utilities.train_utils:Epoch 310 /  500 (0.3s):  0.587 ---- 7.570 ---- 0.02 ----   6\n",
      "INFO:pykeen.utilities.train_utils:Epoch 311 /  500 (0.3s):  0.591 ---- 7.214 ---- 0.02 ----   7\n",
      "INFO:pykeen.utilities.train_utils:Epoch 312 /  500 (0.3s):  0.594 ---- 7.312 ---- 0.02 ----   8\n",
      "INFO:pykeen.utilities.train_utils:Epoch 313 /  500 (0.3s):  0.594 ---- 7.412 ---- 0.02 ----   9\n",
      "INFO:pykeen.utilities.train_utils:Epoch 314 /  500 (0.3s):  0.598 ---- 7.515 ---- 0.02 ----  10\n",
      "DEBUG:pykeen.utilities.evaluation_utils.metrics_computations:Evaluation took 1.47s seconds\n",
      "DEBUG:pykeen.utilities.train_utils:\n",
      "current metric: 0.025933812377072634  ---- rank/hits@10: (0.019186714297625168, 0.04)\n",
      "DEBUG:pykeen.utilities.train_utils:Saving the following model to disk:\n",
      "INFO:pykeen.utilities.train_utils:Epoch 315 /  500 (0.3s):  0.578 ---- 7.600 ---- 0.03 ----   1\n",
      "INFO:pykeen.utilities.train_utils:Epoch 316 /  500 (0.3s):  0.571 ---- 7.207 ---- 0.03 ----   2\n",
      "INFO:pykeen.utilities.train_utils:Epoch 317 /  500 (0.3s):  0.582 ---- 7.269 ---- 0.03 ----   3\n",
      "DEBUG:pykeen.utilities.evaluation_utils.metrics_computations:Evaluation took 1.49s seconds\n",
      "DEBUG:pykeen.utilities.train_utils:\n",
      "current metric: 0.025150312695542125  ---- rank/hits@10: (0.017859546769610685, 0.0425)\n",
      "INFO:pykeen.utilities.train_utils:Epoch 318 /  500 (0.3s):  0.591 ---- 7.121 ---- 0.03 ----   4\n",
      "INFO:pykeen.utilities.train_utils:Epoch 319 /  500 (0.3s):  0.571 ---- 7.359 ---- 0.03 ----   5\n",
      "DEBUG:pykeen.utilities.evaluation_utils.metrics_computations:Evaluation took 1.47s seconds\n",
      "DEBUG:pykeen.utilities.train_utils:\n",
      "current metric: 0.02282458355001761  ---- rank/hits@10: (0.017588420644412676, 0.0325)\n",
      "INFO:pykeen.utilities.train_utils:Epoch 320 /  500 (0.3s):  0.578 ---- 7.324 ---- 0.02 ----   6\n",
      "INFO:pykeen.utilities.train_utils:Epoch 321 /  500 (0.3s):  0.579 ---- 7.195 ---- 0.02 ----   7\n",
      "DEBUG:pykeen.utilities.evaluation_utils.metrics_computations:Evaluation took 1.46s seconds\n",
      "DEBUG:pykeen.utilities.train_utils:\n",
      "current metric: 0.022339456365894312  ---- rank/hits@10: (0.017018825126061597, 0.0325)\n",
      "INFO:pykeen.utilities.train_utils:Epoch 322 /  500 (0.3s):  0.549 ---- 7.080 ---- 0.02 ----   8\n",
      "DEBUG:pykeen.utilities.evaluation_utils.metrics_computations:Evaluation took 1.50s seconds\n",
      "DEBUG:pykeen.utilities.train_utils:\n",
      "current metric: 0.024532173154901808  ---- rank/hits@10: (0.018228573545131174, 0.0375)\n",
      "INFO:pykeen.utilities.train_utils:Epoch 323 /  500 (0.3s):  0.598 ---- 6.955 ---- 0.02 ----   9\n",
      "INFO:pykeen.utilities.train_utils:Epoch 324 /  500 (0.3s):  0.570 ---- 7.016 ---- 0.02 ----  10\n",
      "DEBUG:pykeen.utilities.evaluation_utils.metrics_computations:Evaluation took 1.46s seconds\n",
      "DEBUG:pykeen.utilities.train_utils:\n",
      "current metric: 0.023115986978462236  ---- rank/hits@10: (0.016707449196971185, 0.0375)\n",
      "INFO:pykeen.utilities.train_utils:Epoch 325 /  500 (0.3s):  0.571 ---- 7.079 ---- 0.02 ----  11\n",
      "INFO:pykeen.utilities.train_utils:Epoch 326 /  500 (0.3s):  0.566 ---- 7.080 ---- 0.02 ----  12\n",
      "INFO:pykeen.utilities.train_utils:Epoch 327 /  500 (0.3s):  0.579 ---- 7.080 ---- 0.02 ----  13\n",
      "DEBUG:pykeen.utilities.evaluation_utils.metrics_computations:Evaluation took 1.48s seconds\n",
      "DEBUG:pykeen.utilities.train_utils:\n",
      "current metric: 0.023713344701227553  ---- rank/hits@10: (0.016851841400314805, 0.04)\n",
      "INFO:pykeen.utilities.train_utils:Epoch 328 /  500 (0.3s):  0.554 ---- 6.899 ---- 0.02 ----  14\n",
      "INFO:pykeen.utilities.train_utils:Epoch 329 /  500 (0.3s):  0.569 ---- 7.031 ---- 0.02 ----  15\n",
      "DEBUG:pykeen.utilities.evaluation_utils.metrics_computations:Evaluation took 1.48s seconds\n",
      "DEBUG:pykeen.utilities.train_utils:\n",
      "current metric: 0.022420926877642255  ---- rank/hits@10: (0.016493226732252744, 0.035)\n",
      "INFO:pykeen.utilities.train_utils:Epoch 330 /  500 (0.3s):  0.572 ---- 7.302 ---- 0.02 ----  16\n",
      "INFO:pykeen.utilities.train_utils:Epoch 331 /  500 (0.3s):  0.574 ---- 7.389 ---- 0.02 ----  17\n",
      "INFO:pykeen.utilities.train_utils:Epoch 332 /  500 (0.3s):  0.545 ---- 7.144 ---- 0.02 ----  18\n"
     ]
    },
    {
     "name": "stderr",
     "output_type": "stream",
     "text": [
      "INFO:pykeen.utilities.train_utils:Epoch 333 /  500 (0.3s):  0.563 ---- 7.480 ---- 0.02 ----  19\n",
      "INFO:pykeen.utilities.train_utils:Epoch 334 /  500 (0.3s):  0.559 ---- 7.240 ---- 0.02 ----  20\n",
      "DEBUG:pykeen.utilities.evaluation_utils.metrics_computations:Evaluation took 1.48s seconds\n",
      "DEBUG:pykeen.utilities.train_utils:\n",
      "current metric: 0.02350716933951634  ---- rank/hits@10: (0.017119254057795526, 0.0375)\n",
      "INFO:pykeen.utilities.train_utils:Epoch 335 /  500 (0.3s):  0.569 ---- 7.275 ---- 0.02 ----  21\n",
      "INFO:pykeen.utilities.train_utils:Epoch 336 /  500 (0.3s):  0.552 ---- 7.247 ---- 0.02 ----  22\n",
      "INFO:pykeen.utilities.train_utils:Epoch 337 /  500 (0.3s):  0.546 ---- 7.079 ---- 0.02 ----  23\n",
      "INFO:pykeen.utilities.train_utils:Epoch 338 /  500 (0.3s):  0.562 ---- 6.969 ---- 0.02 ----  24\n",
      "INFO:pykeen.utilities.train_utils:Epoch 339 /  500 (0.3s):  0.561 ---- 7.132 ---- 0.02 ----  25\n",
      "DEBUG:pykeen.utilities.evaluation_utils.metrics_computations:Evaluation took 1.48s seconds\n",
      "DEBUG:pykeen.utilities.train_utils:\n",
      "current metric: 0.02420876428190454  ---- rank/hits@10: (0.017873726593503354, 0.0375)\n",
      "INFO:pykeen.utilities.train_utils:Epoch 340 /  500 (0.3s):  0.574 ---- 7.179 ---- 0.02 ----  26\n",
      "INFO:pykeen.utilities.train_utils:Epoch 341 /  500 (0.3s):  0.558 ---- 7.084 ---- 0.02 ----  27\n",
      "INFO:pykeen.utilities.train_utils:Epoch 342 /  500 (0.3s):  0.540 ---- 7.092 ---- 0.02 ----  28\n",
      "INFO:pykeen.utilities.train_utils:Epoch 343 /  500 (0.3s):  0.541 ---- 7.003 ---- 0.02 ----  29\n",
      "INFO:pykeen.utilities.train_utils:Epoch 344 /  500 (0.3s):  0.548 ---- 7.128 ---- 0.02 ----  30\n",
      "DEBUG:pykeen.utilities.evaluation_utils.metrics_computations:Evaluation took 1.47s seconds\n",
      "DEBUG:pykeen.utilities.train_utils:\n",
      "current metric: 0.02565263556591043  ---- rank/hits@10: (0.01757096609689984, 0.0475)\n",
      "INFO:pykeen.utilities.train_utils:Epoch 345 /  500 (0.3s):  0.547 ---- 7.025 ---- 0.03 ----  31\n",
      "DEBUG:pykeen.utilities.evaluation_utils.metrics_computations:Evaluation took 1.49s seconds\n",
      "DEBUG:pykeen.utilities.train_utils:\n",
      "current metric: 0.023758876863097123  ---- rank/hits@10: (0.017387555694002566, 0.0375)\n",
      "INFO:pykeen.utilities.train_utils:Epoch 346 /  500 (0.3s):  0.560 ---- 6.896 ---- 0.02 ----  32\n",
      "DEBUG:pykeen.utilities.evaluation_utils.metrics_computations:Evaluation took 1.48s seconds\n",
      "DEBUG:pykeen.utilities.train_utils:\n",
      "current metric: 0.021650176987398302  ---- rank/hits@10: (0.01693633134652336, 0.03)\n",
      "INFO:pykeen.utilities.train_utils:Epoch 347 /  500 (0.3s):  0.547 ---- 6.760 ---- 0.02 ----  33\n",
      "INFO:pykeen.utilities.train_utils:Epoch 348 /  500 (0.3s):  0.560 ---- 6.842 ---- 0.02 ----  34\n",
      "INFO:pykeen.utilities.train_utils:Epoch 349 /  500 (0.3s):  0.559 ---- 7.004 ---- 0.02 ----  35\n",
      "DEBUG:pykeen.utilities.evaluation_utils.metrics_computations:Evaluation took 1.48s seconds\n",
      "DEBUG:pykeen.utilities.train_utils:\n",
      "current metric: 0.02101384722075504  ---- rank/hits@10: (0.016170239217814412, 0.03)\n",
      "INFO:pykeen.utilities.train_utils:Epoch 350 /  500 (0.3s):  0.541 ---- 6.995 ---- 0.02 ----  36\n",
      "INFO:pykeen.utilities.train_utils:Epoch 351 /  500 (0.3s):  0.557 ---- 7.014 ---- 0.02 ----  37\n",
      "INFO:pykeen.utilities.train_utils:Epoch 352 /  500 (0.3s):  0.537 ---- 6.790 ---- 0.02 ----  38\n",
      "INFO:pykeen.utilities.train_utils:Epoch 353 /  500 (0.3s):  0.546 ---- 6.815 ---- 0.02 ----  39\n",
      "INFO:pykeen.utilities.train_utils:Epoch 354 /  500 (0.3s):  0.520 ---- 6.822 ---- 0.02 ----  40\n",
      "DEBUG:pykeen.utilities.evaluation_utils.metrics_computations:Evaluation took 1.47s seconds\n",
      "DEBUG:pykeen.utilities.train_utils:\n",
      "current metric: 0.02141919543080706  ---- rank/hits@10: (0.016655325623699237, 0.03)\n",
      "INFO:pykeen.utilities.train_utils:Epoch 355 /  500 (0.3s):  0.534 ---- 7.047 ---- 0.02 ----  41\n",
      "INFO:pykeen.utilities.train_utils:Epoch 356 /  500 (0.3s):  0.534 ---- 7.153 ---- 0.02 ----  42\n",
      "INFO:pykeen.utilities.train_utils:Epoch 357 /  500 (0.3s):  0.522 ---- 7.086 ---- 0.02 ----  43\n",
      "INFO:pykeen.utilities.train_utils:Epoch 358 /  500 (0.3s):  0.528 ---- 7.004 ---- 0.02 ----  44\n",
      "INFO:pykeen.utilities.train_utils:Epoch 359 /  500 (0.3s):  0.526 ---- 7.085 ---- 0.02 ----  45\n",
      "DEBUG:pykeen.utilities.evaluation_utils.metrics_computations:Evaluation took 1.48s seconds\n",
      "DEBUG:pykeen.utilities.train_utils:\n",
      "current metric: 0.022750251295701126  ---- rank/hits@10: (0.01685212762363526, 0.035)\n",
      "INFO:pykeen.utilities.train_utils:Epoch 360 /  500 (0.3s):  0.527 ---- 7.196 ---- 0.02 ----  46\n",
      "INFO:pykeen.utilities.train_utils:Epoch 361 /  500 (0.3s):  0.534 ---- 7.150 ---- 0.02 ----  47\n",
      "INFO:pykeen.utilities.train_utils:Epoch 362 /  500 (0.3s):  0.538 ---- 7.164 ---- 0.02 ----  48\n",
      "INFO:pykeen.utilities.train_utils:Epoch 363 /  500 (0.3s):  0.548 ---- 7.372 ---- 0.02 ----  49\n",
      "INFO:pykeen.utilities.train_utils:Epoch 364 /  500 (0.3s):  0.523 ---- 7.373 ---- 0.02 ----  50\n",
      "DEBUG:pykeen.utilities.evaluation_utils.metrics_computations:Evaluation took 1.47s seconds\n",
      "DEBUG:pykeen.utilities.train_utils:\n",
      "current metric: 0.021114370359031666  ---- rank/hits@10: (0.017135440333425594, 0.0275)\n",
      "INFO:pykeen.utilities.train_utils:Epoch 365 /  500 (0.3s):  0.514 ---- 7.395 ---- 0.02 ----  51\n",
      "INFO:pykeen.utilities.train_utils:Epoch 366 /  500 (0.3s):  0.508 ---- 7.387 ---- 0.02 ----  52\n",
      "INFO:pykeen.utilities.train_utils:Epoch 367 /  500 (0.3s):  0.538 ---- 7.461 ---- 0.02 ----  53\n",
      "INFO:pykeen.utilities.train_utils:Epoch 368 /  500 (0.3s):  0.520 ---- 7.423 ---- 0.02 ----  54\n",
      "INFO:pykeen.utilities.train_utils:Epoch 369 /  500 (0.3s):  0.529 ---- 7.108 ---- 0.02 ----  55\n",
      "DEBUG:pykeen.utilities.evaluation_utils.metrics_computations:Evaluation took 1.49s seconds\n",
      "DEBUG:pykeen.utilities.train_utils:\n",
      "current metric: 0.02432508259256508  ---- rank/hits@10: (0.017476510949842324, 0.04)\n",
      "INFO:pykeen.utilities.train_utils:Epoch 370 /  500 (0.3s):  0.528 ---- 7.065 ---- 0.02 ----  56\n",
      "INFO:pykeen.utilities.train_utils:Epoch 371 /  500 (0.3s):  0.523 ---- 7.234 ---- 0.02 ----  57\n",
      "INFO:pykeen.utilities.train_utils:Epoch 372 /  500 (0.3s):  0.522 ---- 7.188 ---- 0.02 ----  58\n",
      "INFO:pykeen.utilities.train_utils:Epoch 373 /  500 (0.3s):  0.511 ---- 6.987 ---- 0.02 ----  59\n",
      "INFO:pykeen.utilities.train_utils:Epoch 374 /  500 (0.3s):  0.503 ---- 7.097 ---- 0.02 ----  60\n",
      "DEBUG:pykeen.utilities.evaluation_utils.metrics_computations:Evaluation took 1.47s seconds\n",
      "DEBUG:pykeen.utilities.train_utils:\n",
      "current metric: 0.023791952248344392  ---- rank/hits@10: (0.017423007681132877, 0.0375)\n",
      "INFO:pykeen.utilities.train_utils:Epoch 375 /  500 (0.3s):  0.516 ---- 7.158 ---- 0.02 ----  61\n",
      "INFO:pykeen.utilities.train_utils:Epoch 376 /  500 (0.3s):  0.518 ---- 7.081 ---- 0.02 ----  62\n",
      "INFO:pykeen.utilities.train_utils:Epoch 377 /  500 (0.3s):  0.508 ---- 7.152 ---- 0.02 ----  63\n",
      "INFO:pykeen.utilities.train_utils:Epoch 378 /  500 (0.3s):  0.518 ---- 7.178 ---- 0.02 ----  64\n",
      "INFO:pykeen.utilities.train_utils:Epoch 379 /  500 (0.3s):  0.529 ---- 7.046 ---- 0.02 ----  65\n",
      "DEBUG:pykeen.utilities.evaluation_utils.metrics_computations:Evaluation took 1.49s seconds\n",
      "DEBUG:pykeen.utilities.train_utils:\n",
      "current metric: 0.022564214867415115  ---- rank/hits@10: (0.017281098509189324, 0.0325)\n",
      "INFO:pykeen.utilities.train_utils:Epoch 380 /  500 (0.3s):  0.505 ---- 7.322 ---- 0.02 ----  66\n",
      "INFO:pykeen.utilities.train_utils:Epoch 381 /  500 (0.3s):  0.512 ---- 7.131 ---- 0.02 ----  67\n",
      "INFO:pykeen.utilities.train_utils:Epoch 382 /  500 (0.3s):  0.503 ---- 6.895 ---- 0.02 ----  68\n",
      "INFO:pykeen.utilities.train_utils:Epoch 383 /  500 (0.3s):  0.507 ---- 7.189 ---- 0.02 ----  69\n",
      "INFO:pykeen.utilities.train_utils:Epoch 384 /  500 (0.3s):  0.504 ---- 7.288 ---- 0.02 ----  70\n",
      "DEBUG:pykeen.utilities.evaluation_utils.metrics_computations:Evaluation took 1.47s seconds\n",
      "DEBUG:pykeen.utilities.train_utils:\n",
      "current metric: 0.02418554293121679  ---- rank/hits@10: (0.017332816049011542, 0.04)\n",
      "INFO:pykeen.utilities.train_utils:Epoch 385 /  500 (0.3s):  0.508 ---- 7.136 ---- 0.02 ----  71\n",
      "INFO:pykeen.utilities.train_utils:Epoch 386 /  500 (0.3s):  0.508 ---- 7.211 ---- 0.02 ----  72\n",
      "INFO:pykeen.utilities.train_utils:Epoch 387 /  500 (0.3s):  0.501 ---- 7.068 ---- 0.02 ----  73\n",
      "INFO:pykeen.utilities.train_utils:Epoch 388 /  500 (0.3s):  0.511 ---- 7.134 ---- 0.02 ----  74\n",
      "INFO:pykeen.utilities.train_utils:Epoch 389 /  500 (0.3s):  0.497 ---- 7.138 ---- 0.02 ----  75\n"
     ]
    },
    {
     "name": "stderr",
     "output_type": "stream",
     "text": [
      "DEBUG:pykeen.utilities.evaluation_utils.metrics_computations:Evaluation took 1.48s seconds\n",
      "DEBUG:pykeen.utilities.train_utils:\n",
      "current metric: 0.023531964799904947  ---- rank/hits@10: (0.017145567662835627, 0.0375)\n",
      "INFO:pykeen.utilities.train_utils:Epoch 390 /  500 (0.3s):  0.503 ---- 7.068 ---- 0.02 ----  76\n",
      "INFO:pykeen.utilities.train_utils:Epoch 391 /  500 (0.3s):  0.499 ---- 7.103 ---- 0.02 ----  77\n",
      "INFO:pykeen.utilities.train_utils:Epoch 392 /  500 (0.3s):  0.503 ---- 7.082 ---- 0.02 ----  78\n",
      "INFO:pykeen.utilities.train_utils:Epoch 393 /  500 (0.3s):  0.506 ---- 7.225 ---- 0.02 ----  79\n",
      "INFO:pykeen.utilities.train_utils:Epoch 394 /  500 (0.3s):  0.495 ---- 7.357 ---- 0.02 ----  80\n",
      "DEBUG:pykeen.utilities.evaluation_utils.metrics_computations:Evaluation took 1.45s seconds\n",
      "DEBUG:pykeen.utilities.train_utils:\n",
      "current metric: 0.025322788426896763  ---- rank/hits@10: (0.018525296150510736, 0.04)\n",
      "INFO:pykeen.utilities.train_utils:Epoch 395 /  500 (0.3s):  0.499 ---- 7.288 ---- 0.03 ----  81\n",
      "INFO:pykeen.utilities.train_utils:Epoch 396 /  500 (0.3s):  0.467 ---- 7.203 ---- 0.03 ----  82\n",
      "INFO:pykeen.utilities.train_utils:Epoch 397 /  500 (0.3s):  0.506 ---- 7.233 ---- 0.03 ----  83\n",
      "INFO:pykeen.utilities.train_utils:Epoch 398 /  500 (0.3s):  0.495 ---- 7.096 ---- 0.03 ----  84\n",
      "INFO:pykeen.utilities.train_utils:Epoch 399 /  500 (0.3s):  0.505 ---- 7.113 ---- 0.03 ----  85\n",
      "DEBUG:pykeen.utilities.evaluation_utils.metrics_computations:Evaluation took 1.47s seconds\n",
      "DEBUG:pykeen.utilities.train_utils:\n",
      "current metric: 0.024636144704578738  ---- rank/hits@10: (0.017345415477861573, 0.0425)\n",
      "INFO:pykeen.utilities.train_utils:Epoch 400 /  500 (0.3s):  0.496 ---- 7.244 ---- 0.02 ----  86\n",
      "INFO:pykeen.utilities.train_utils:Epoch 401 /  500 (0.3s):  0.487 ---- 7.131 ---- 0.02 ----  87\n",
      "INFO:pykeen.utilities.train_utils:Epoch 402 /  500 (0.3s):  0.494 ---- 7.132 ---- 0.02 ----  88\n",
      "INFO:pykeen.utilities.train_utils:Epoch 403 /  500 (0.3s):  0.492 ---- 7.152 ---- 0.02 ----  89\n",
      "INFO:pykeen.utilities.train_utils:Epoch 404 /  500 (0.3s):  0.479 ---- 6.917 ---- 0.02 ----  90\n",
      "DEBUG:pykeen.utilities.evaluation_utils.metrics_computations:Evaluation took 1.47s seconds\n",
      "DEBUG:pykeen.utilities.train_utils:\n",
      "current metric: 0.02068879232113366  ---- rank/hits@10: (0.01658180598468441, 0.0275)\n",
      "INFO:pykeen.utilities.train_utils:Epoch 405 /  500 (0.3s):  0.489 ---- 7.041 ---- 0.02 ----  91\n",
      "INFO:pykeen.utilities.train_utils:Epoch 406 /  500 (0.3s):  0.481 ---- 6.964 ---- 0.02 ----  92\n",
      "INFO:pykeen.utilities.train_utils:Epoch 407 /  500 (0.3s):  0.481 ---- 7.142 ---- 0.02 ----  93\n",
      "INFO:pykeen.utilities.train_utils:Epoch 408 /  500 (0.3s):  0.482 ---- 7.090 ---- 0.02 ----  94\n",
      "INFO:pykeen.utilities.train_utils:Epoch 409 /  500 (0.3s):  0.475 ---- 7.142 ---- 0.02 ----  95\n",
      "DEBUG:pykeen.utilities.evaluation_utils.metrics_computations:Evaluation took 1.48s seconds\n",
      "DEBUG:pykeen.utilities.train_utils:\n",
      "current metric: 0.02029482507963331  ---- rank/hits@10: (0.01708021004255947, 0.025)\n",
      "INFO:pykeen.utilities.train_utils:Epoch 410 /  500 (0.3s):  0.477 ---- 7.233 ---- 0.02 ----  96\n",
      "INFO:pykeen.utilities.train_utils:Epoch 411 /  500 (0.3s):  0.473 ---- 7.114 ---- 0.02 ----  97\n",
      "DEBUG:pykeen.utilities.evaluation_utils.metrics_computations:Evaluation took 1.46s seconds\n",
      "DEBUG:pykeen.utilities.train_utils:\n",
      "current metric: 0.021441595393980772  ---- rank/hits@10: (0.017570676563948135, 0.0275)\n",
      "INFO:pykeen.utilities.train_utils:Epoch 412 /  500 (0.3s):  0.470 ---- 6.721 ---- 0.02 ----  98\n",
      "INFO:pykeen.utilities.train_utils:Epoch 413 /  500 (0.3s):  0.480 ---- 6.998 ---- 0.02 ----  99\n",
      "INFO:pykeen.utilities.train_utils:Epoch 414 /  500 (0.3s):  0.497 ---- 7.017 ---- 0.02 ---- 100\n",
      "DEBUG:pykeen.utilities.evaluation_utils.metrics_computations:Evaluation took 1.49s seconds\n",
      "DEBUG:pykeen.utilities.train_utils:\n",
      "current metric: 0.022335104751098827  ---- rank/hits@10: (0.01778985811868182, 0.03)\n",
      "INFO:pykeen.utilities.train_utils:Epoch 415 /  500 (0.3s):  0.476 ---- 7.204 ---- 0.02 ---- 101\n",
      "INFO:pykeen.utilities.train_utils:Epoch 416 /  500 (0.3s):  0.478 ---- 7.024 ---- 0.02 ---- 102\n",
      "INFO:pykeen.utilities.train_utils:Epoch 417 /  500 (0.3s):  0.492 ---- 7.040 ---- 0.02 ---- 103\n",
      "INFO:pykeen.utilities.train_utils:Epoch 418 /  500 (0.3s):  0.469 ---- 6.956 ---- 0.02 ---- 104\n",
      "INFO:pykeen.utilities.train_utils:Epoch 419 /  500 (0.3s):  0.468 ---- 6.986 ---- 0.02 ---- 105\n",
      "DEBUG:pykeen.utilities.evaluation_utils.metrics_computations:Evaluation took 1.47s seconds\n",
      "DEBUG:pykeen.utilities.train_utils:\n",
      "current metric: 0.021444193772600394  ---- rank/hits@10: (0.016685575432756318, 0.03)\n",
      "INFO:pykeen.utilities.train_utils:Epoch 420 /  500 (0.3s):  0.472 ---- 6.754 ---- 0.02 ---- 106\n",
      "DEBUG:pykeen.utilities.evaluation_utils.metrics_computations:Evaluation took 1.48s seconds\n",
      "DEBUG:pykeen.utilities.train_utils:\n",
      "current metric: 0.019647338688393825  ---- rank/hits@10: (0.016182550260330157, 0.025)\n",
      "INFO:pykeen.utilities.train_utils:Epoch 421 /  500 (0.3s):  0.485 ---- 6.719 ---- 0.02 ---- 107\n",
      "INFO:pykeen.utilities.train_utils:Epoch 422 /  500 (0.3s):  0.474 ---- 6.787 ---- 0.02 ---- 108\n",
      "DEBUG:pykeen.utilities.evaluation_utils.metrics_computations:Evaluation took 1.47s seconds\n",
      "DEBUG:pykeen.utilities.train_utils:\n",
      "current metric: 0.022174009419300464  ---- rank/hits@10: (0.017586328140166096, 0.03)\n",
      "INFO:pykeen.utilities.train_utils:Epoch 423 /  500 (0.3s):  0.467 ---- 6.660 ---- 0.02 ---- 109\n",
      "DEBUG:pykeen.utilities.evaluation_utils.metrics_computations:Evaluation took 1.47s seconds\n",
      "DEBUG:pykeen.utilities.train_utils:\n",
      "current metric: 0.020362247579607497  ---- rank/hits@10: (0.017175937711792447, 0.025)\n",
      "INFO:pykeen.utilities.train_utils:Epoch 424 /  500 (0.3s):  0.461 ---- 6.653 ---- 0.02 ---- 110\n",
      "DEBUG:pykeen.utilities.evaluation_utils.metrics_computations:Evaluation took 1.49s seconds\n",
      "DEBUG:pykeen.utilities.train_utils:\n",
      "current metric: 0.022588772148078713  ---- rank/hits@10: (0.01730992314996843, 0.0325)\n",
      "INFO:pykeen.utilities.train_utils:Epoch 425 /  500 (0.3s):  0.475 ---- 6.706 ---- 0.02 ---- 111\n",
      "DEBUG:pykeen.utilities.evaluation_utils.metrics_computations:Evaluation took 1.48s seconds\n",
      "DEBUG:pykeen.utilities.train_utils:\n",
      "current metric: 0.023206757716163644  ---- rank/hits@10: (0.01735798761579502, 0.035)\n",
      "INFO:pykeen.utilities.train_utils:Epoch 426 /  500 (0.3s):  0.467 ---- 6.550 ---- 0.02 ---- 112\n",
      "DEBUG:pykeen.utilities.evaluation_utils.metrics_computations:Evaluation took 1.47s seconds\n",
      "DEBUG:pykeen.utilities.train_utils:\n",
      "current metric: 0.020278131435034884  ---- rank/hits@10: (0.017056575186980245, 0.025)\n",
      "INFO:pykeen.utilities.train_utils:Epoch 427 /  500 (0.3s):  0.471 ---- 6.441 ---- 0.02 ---- 113\n",
      "INFO:pykeen.utilities.train_utils:Epoch 428 /  500 (0.3s):  0.482 ---- 6.477 ---- 0.02 ---- 114\n",
      "DEBUG:pykeen.utilities.evaluation_utils.metrics_computations:Evaluation took 1.48s seconds\n",
      "DEBUG:pykeen.utilities.train_utils:\n",
      "current metric: 0.02111878280237585  ---- rank/hits@10: (0.01714125332858646, 0.0275)\n",
      "INFO:pykeen.utilities.train_utils:Epoch 429 /  500 (0.3s):  0.471 ---- 6.412 ---- 0.02 ---- 115\n",
      "DEBUG:pykeen.utilities.evaluation_utils.metrics_computations:Evaluation took 1.47s seconds\n",
      "DEBUG:pykeen.utilities.train_utils:\n",
      "current metric: 0.020912523707715295  ---- rank/hits@10: (0.01687113463698503, 0.0275)\n",
      "INFO:pykeen.utilities.train_utils:Epoch 430 /  500 (0.3s):  0.472 ---- 6.336 ---- 0.02 ---- 116\n",
      "DEBUG:pykeen.utilities.evaluation_utils.metrics_computations:Evaluation took 1.47s seconds\n",
      "DEBUG:pykeen.utilities.train_utils:\n",
      "current metric: 0.021021864446503686  ---- rank/hits@10: (0.01701391977110308, 0.0275)\n",
      "INFO:pykeen.utilities.train_utils:Epoch 431 /  500 (0.3s):  0.461 ---- 6.316 ---- 0.02 ---- 117\n",
      "INFO:pykeen.utilities.train_utils:Epoch 432 /  500 (0.3s):  0.453 ---- 6.319 ---- 0.02 ---- 118\n",
      "INFO:pykeen.utilities.train_utils:Epoch 433 /  500 (0.3s):  0.464 ---- 6.330 ---- 0.02 ---- 119\n",
      "INFO:pykeen.utilities.train_utils:Epoch 434 /  500 (0.3s):  0.449 ---- 6.322 ---- 0.02 ---- 120\n",
      "DEBUG:pykeen.utilities.evaluation_utils.metrics_computations:Evaluation took 1.49s seconds\n",
      "DEBUG:pykeen.utilities.train_utils:\n",
      "current metric: 0.022501724850457514  ---- rank/hits@10: (0.017207899733967014, 0.0325)\n",
      "INFO:pykeen.utilities.train_utils:Epoch 435 /  500 (0.3s):  0.452 ---- 6.509 ---- 0.02 ---- 121\n"
     ]
    },
    {
     "name": "stderr",
     "output_type": "stream",
     "text": [
      "INFO:pykeen.utilities.train_utils:Epoch 436 /  500 (0.3s):  0.460 ---- 6.438 ---- 0.02 ---- 122\n",
      "INFO:pykeen.utilities.train_utils:Epoch 437 /  500 (0.3s):  0.473 ---- 6.573 ---- 0.02 ---- 123\n",
      "INFO:pykeen.utilities.train_utils:Epoch 438 /  500 (0.3s):  0.461 ---- 6.609 ---- 0.02 ---- 124\n",
      "INFO:pykeen.utilities.train_utils:Epoch 439 /  500 (0.3s):  0.471 ---- 6.496 ---- 0.02 ---- 125\n",
      "DEBUG:pykeen.utilities.evaluation_utils.metrics_computations:Evaluation took 1.46s seconds\n",
      "DEBUG:pykeen.utilities.train_utils:\n",
      "current metric: 0.02235759158031146  ---- rank/hits@10: (0.01703988478344558, 0.0325)\n",
      "INFO:pykeen.utilities.train_utils:Epoch 440 /  500 (0.3s):  0.463 ---- 6.506 ---- 0.02 ---- 126\n",
      "INFO:pykeen.utilities.train_utils:Epoch 441 /  500 (0.3s):  0.465 ---- 6.655 ---- 0.02 ---- 127\n",
      "INFO:pykeen.utilities.train_utils:Epoch 442 /  500 (0.3s):  0.448 ---- 6.656 ---- 0.02 ---- 128\n",
      "INFO:pykeen.utilities.train_utils:Epoch 443 /  500 (0.3s):  0.453 ---- 6.636 ---- 0.02 ---- 129\n",
      "INFO:pykeen.utilities.train_utils:Epoch 444 /  500 (0.3s):  0.448 ---- 6.800 ---- 0.02 ---- 130\n",
      "DEBUG:pykeen.utilities.evaluation_utils.metrics_computations:Evaluation took 1.48s seconds\n",
      "DEBUG:pykeen.utilities.train_utils:\n",
      "current metric: 0.021911759513128376  ---- rank/hits@10: (0.016527297845769517, 0.0325)\n",
      "INFO:pykeen.utilities.train_utils:Epoch 445 /  500 (0.3s):  0.449 ---- 6.669 ---- 0.02 ---- 131\n",
      "INFO:pykeen.utilities.train_utils:Epoch 446 /  500 (0.3s):  0.434 ---- 6.624 ---- 0.02 ---- 132\n",
      "INFO:pykeen.utilities.train_utils:Epoch 447 /  500 (0.3s):  0.466 ---- 6.536 ---- 0.02 ---- 133\n",
      "INFO:pykeen.utilities.train_utils:Epoch 448 /  500 (0.3s):  0.454 ---- 6.481 ---- 0.02 ---- 134\n",
      "INFO:pykeen.utilities.train_utils:Epoch 449 /  500 (0.3s):  0.465 ---- 6.539 ---- 0.02 ---- 135\n",
      "DEBUG:pykeen.utilities.evaluation_utils.metrics_computations:Evaluation took 1.47s seconds\n",
      "DEBUG:pykeen.utilities.train_utils:\n",
      "current metric: 0.021547620276728168  ---- rank/hits@10: (0.01611643973134586, 0.0325)\n",
      "INFO:pykeen.utilities.train_utils:Epoch 450 /  500 (0.3s):  0.460 ---- 6.567 ---- 0.02 ---- 136\n",
      "INFO:pykeen.utilities.train_utils:Epoch 451 /  500 (0.3s):  0.446 ---- 6.619 ---- 0.02 ---- 137\n",
      "INFO:pykeen.utilities.train_utils:Epoch 452 /  500 (0.3s):  0.433 ---- 6.453 ---- 0.02 ---- 138\n",
      "INFO:pykeen.utilities.train_utils:Epoch 453 /  500 (0.3s):  0.442 ---- 6.714 ---- 0.02 ---- 139\n",
      "INFO:pykeen.utilities.train_utils:Epoch 454 /  500 (0.3s):  0.454 ---- 6.525 ---- 0.02 ---- 140\n",
      "DEBUG:pykeen.utilities.evaluation_utils.metrics_computations:Evaluation took 1.48s seconds\n",
      "DEBUG:pykeen.utilities.train_utils:\n",
      "current metric: 0.022658323605864054  ---- rank/hits@10: (0.016751441575555893, 0.035)\n",
      "INFO:pykeen.utilities.train_utils:Epoch 455 /  500 (0.3s):  0.446 ---- 6.552 ---- 0.02 ---- 141\n",
      "INFO:pykeen.utilities.train_utils:Epoch 456 /  500 (0.3s):  0.441 ---- 6.610 ---- 0.02 ---- 142\n",
      "INFO:pykeen.utilities.train_utils:Epoch 457 /  500 (0.3s):  0.449 ---- 6.511 ---- 0.02 ---- 143\n",
      "INFO:pykeen.utilities.train_utils:Epoch 458 /  500 (0.3s):  0.443 ---- 6.482 ---- 0.02 ---- 144\n",
      "INFO:pykeen.utilities.train_utils:Epoch 459 /  500 (0.3s):  0.461 ---- 6.534 ---- 0.02 ---- 145\n",
      "DEBUG:pykeen.utilities.evaluation_utils.metrics_computations:Evaluation took 1.48s seconds\n",
      "DEBUG:pykeen.utilities.train_utils:\n",
      "current metric: 0.021071742887960078  ---- rank/hits@10: (0.016238905451620825, 0.03)\n",
      "INFO:pykeen.utilities.train_utils:Epoch 460 /  500 (0.3s):  0.454 ---- 6.585 ---- 0.02 ---- 146\n",
      "INFO:pykeen.utilities.train_utils:Epoch 461 /  500 (0.3s):  0.423 ---- 6.669 ---- 0.02 ---- 147\n",
      "INFO:pykeen.utilities.train_utils:Epoch 462 /  500 (0.3s):  0.428 ---- 6.937 ---- 0.02 ---- 148\n",
      "INFO:pykeen.utilities.train_utils:Epoch 463 /  500 (0.3s):  0.428 ---- 6.874 ---- 0.02 ---- 149\n",
      "INFO:pykeen.utilities.train_utils:Epoch 464 /  500 (0.3s):  0.434 ---- 6.685 ---- 0.02 ---- 150\n",
      "DEBUG:pykeen.utilities.evaluation_utils.metrics_computations:Evaluation took 1.47s seconds\n",
      "DEBUG:pykeen.utilities.train_utils:\n",
      "current metric: 0.021634404580230335  ---- rank/hits@10: (0.016213732154521408, 0.0325)\n",
      "INFO:pykeen.utilities.train_utils:Epoch 465 /  500 (0.3s):  0.438 ---- 6.729 ---- 0.02 ---- 151\n",
      "INFO:pykeen.utilities.train_utils:Epoch 466 /  500 (0.3s):  0.441 ---- 6.467 ---- 0.02 ---- 152\n",
      "INFO:pykeen.utilities.train_utils:Epoch 467 /  500 (0.3s):  0.446 ---- 6.650 ---- 0.02 ---- 153\n",
      "INFO:pykeen.utilities.train_utils:Epoch 468 /  500 (0.3s):  0.439 ---- 6.750 ---- 0.02 ---- 154\n",
      "INFO:pykeen.utilities.train_utils:Epoch 469 /  500 (0.3s):  0.428 ---- 6.628 ---- 0.02 ---- 155\n",
      "DEBUG:pykeen.utilities.evaluation_utils.metrics_computations:Evaluation took 1.47s seconds\n",
      "DEBUG:pykeen.utilities.train_utils:\n",
      "current metric: 0.022489649368704567  ---- rank/hits@10: (0.017193779717846212, 0.0325)\n",
      "INFO:pykeen.utilities.train_utils:Epoch 470 /  500 (0.3s):  0.436 ---- 6.461 ---- 0.02 ---- 156\n",
      "INFO:pykeen.utilities.train_utils:Epoch 471 /  500 (0.3s):  0.431 ---- 6.589 ---- 0.02 ---- 157\n",
      "INFO:pykeen.utilities.train_utils:Epoch 472 /  500 (0.3s):  0.455 ---- 6.520 ---- 0.02 ---- 158\n",
      "INFO:pykeen.utilities.train_utils:Epoch 473 /  500 (0.3s):  0.439 ---- 6.609 ---- 0.02 ---- 159\n",
      "INFO:pykeen.utilities.train_utils:Epoch 474 /  500 (0.3s):  0.435 ---- 6.863 ---- 0.02 ---- 160\n",
      "DEBUG:pykeen.utilities.evaluation_utils.metrics_computations:Evaluation took 1.48s seconds\n",
      "DEBUG:pykeen.utilities.train_utils:\n",
      "current metric: 0.0236082483605615  ---- rank/hits@10: (0.017226681038862702, 0.0375)\n",
      "INFO:pykeen.utilities.train_utils:Epoch 475 /  500 (0.3s):  0.430 ---- 6.777 ---- 0.02 ---- 161\n",
      "INFO:pykeen.utilities.train_utils:Epoch 476 /  500 (0.3s):  0.418 ---- 6.671 ---- 0.02 ---- 162\n",
      "INFO:pykeen.utilities.train_utils:Epoch 477 /  500 (0.3s):  0.438 ---- 6.443 ---- 0.02 ---- 163\n",
      "INFO:pykeen.utilities.train_utils:Epoch 478 /  500 (0.3s):  0.436 ---- 6.585 ---- 0.02 ---- 164\n",
      "INFO:pykeen.utilities.train_utils:Epoch 479 /  500 (0.3s):  0.441 ---- 6.545 ---- 0.02 ---- 165\n",
      "DEBUG:pykeen.utilities.evaluation_utils.metrics_computations:Evaluation took 1.47s seconds\n",
      "DEBUG:pykeen.utilities.train_utils:\n",
      "current metric: 0.02318454314341506  ---- rank/hits@10: (0.017333143036612046, 0.035)\n",
      "INFO:pykeen.utilities.train_utils:Epoch 480 /  500 (0.3s):  0.446 ---- 6.667 ---- 0.02 ---- 166\n",
      "INFO:pykeen.utilities.train_utils:Epoch 481 /  500 (0.3s):  0.420 ---- 6.709 ---- 0.02 ---- 167\n",
      "INFO:pykeen.utilities.train_utils:Epoch 482 /  500 (0.3s):  0.431 ---- 6.755 ---- 0.02 ---- 168\n",
      "INFO:pykeen.utilities.train_utils:Epoch 483 /  500 (0.3s):  0.439 ---- 6.821 ---- 0.02 ---- 169\n",
      "INFO:pykeen.utilities.train_utils:Epoch 484 /  500 (0.3s):  0.421 ---- 6.909 ---- 0.02 ---- 170\n",
      "DEBUG:pykeen.utilities.evaluation_utils.metrics_computations:Evaluation took 1.47s seconds\n",
      "DEBUG:pykeen.utilities.train_utils:\n",
      "current metric: 0.019705156598043963  ---- rank/hits@10: (0.015353285472182527, 0.0275)\n",
      "INFO:pykeen.utilities.train_utils:Epoch 485 /  500 (0.3s):  0.418 ---- 6.732 ---- 0.02 ---- 171\n",
      "INFO:pykeen.utilities.train_utils:Epoch 486 /  500 (0.3s):  0.408 ---- 6.877 ---- 0.02 ---- 172\n",
      "INFO:pykeen.utilities.train_utils:Epoch 487 /  500 (0.3s):  0.425 ---- 6.797 ---- 0.02 ---- 173\n",
      "INFO:pykeen.utilities.train_utils:Epoch 488 /  500 (0.3s):  0.436 ---- 6.753 ---- 0.02 ---- 174\n",
      "INFO:pykeen.utilities.train_utils:Epoch 489 /  500 (0.3s):  0.431 ---- 6.939 ---- 0.02 ---- 175\n",
      "DEBUG:pykeen.utilities.evaluation_utils.metrics_computations:Evaluation took 1.46s seconds\n",
      "DEBUG:pykeen.utilities.train_utils:\n",
      "current metric: 0.02473587191978117  ---- rank/hits@10: (0.01790374536182005, 0.04)\n",
      "INFO:pykeen.utilities.train_utils:Epoch 490 /  500 (0.3s):  0.425 ---- 6.758 ---- 0.02 ---- 176\n",
      "INFO:pykeen.utilities.train_utils:Epoch 491 /  500 (0.3s):  0.418 ---- 6.763 ---- 0.02 ---- 177\n",
      "INFO:pykeen.utilities.train_utils:Epoch 492 /  500 (0.3s):  0.412 ---- 6.923 ---- 0.02 ---- 178\n",
      "INFO:pykeen.utilities.train_utils:Epoch 493 /  500 (0.3s):  0.431 ---- 6.773 ---- 0.02 ---- 179\n",
      "INFO:pykeen.utilities.train_utils:Epoch 494 /  500 (0.3s):  0.425 ---- 6.849 ---- 0.02 ---- 180\n",
      "DEBUG:pykeen.utilities.evaluation_utils.metrics_computations:Evaluation took 1.46s seconds\n",
      "DEBUG:pykeen.utilities.train_utils:\n",
      "current metric: 0.023837811587512858  ---- rank/hits@10: (0.018073740311177717, 0.035)\n"
     ]
    },
    {
     "name": "stderr",
     "output_type": "stream",
     "text": [
      "INFO:pykeen.utilities.train_utils:Epoch 495 /  500 (0.3s):  0.430 ---- 6.679 ---- 0.02 ---- 181\n",
      "INFO:pykeen.utilities.train_utils:Epoch 496 /  500 (0.3s):  0.428 ---- 6.670 ---- 0.02 ---- 182\n",
      "INFO:pykeen.utilities.train_utils:Epoch 497 /  500 (0.3s):  0.419 ---- 6.652 ---- 0.02 ---- 183\n",
      "INFO:pykeen.utilities.train_utils:Epoch 498 /  500 (0.3s):  0.420 ---- 6.774 ---- 0.02 ---- 184\n",
      "INFO:pykeen.utilities.train_utils:Epoch 499 /  500 (0.3s):  0.429 ---- 6.549 ---- 0.02 ---- 185\n",
      "DEBUG:pykeen.utilities.train_utils:training took 379.08s seconds\n",
      "INFO:pykeen.utilities.pipeline:-------------Start Evaluation-------------\n",
      "DEBUG:pykeen.utilities.evaluation_utils.metrics_computations:Evaluation took 0.00s seconds\n"
     ]
    }
   ],
   "source": [
    "# my\n",
    "results = pykeen.run(\n",
    "    config=config,\n",
    "    output_directory=output_directory,\n",
    ")"
   ]
  },
  {
   "cell_type": "markdown",
   "metadata": {
    "hidden": true
   },
   "source": [
    "Check result entries:"
   ]
  },
  {
   "cell_type": "markdown",
   "metadata": {
    "hidden": true
   },
   "source": [
    "Visualize loss values:"
   ]
  },
  {
   "cell_type": "code",
   "execution_count": 31,
   "metadata": {
    "ExecuteTime": {
     "end_time": "2019-07-09T13:43:08.038968Z",
     "start_time": "2019-07-09T13:43:07.518357Z"
    },
    "hidden": true
   },
   "outputs": [
    {
     "data": {
      "image/png": "[encoded data removed]",
      "text/plain": [
       "<matplotlib.figure.Figure at 0x7f939d701e48>"
      ]
     },
     "metadata": {
      "needs_background": "light"
     },
     "output_type": "display_data"
    }
   ],
   "source": [
    "fig, (ax1, ax2) = plt.subplots(1,2, figsize = (10,5), sharey=True)\n",
    "losses = results.results['losses']\n",
    "epochs = np.arange(len(losses))\n",
    "ax1.set_title('Loss Per Epoch')\n",
    "plt.xlabel('epoch')\n",
    "plt.ylabel('loss')\n",
    "ax1.plot(epochs, losses) #plt.subplot(122)\n",
    "val_losses = results.results['validation_losses']\n",
    "epochs = np.arange(len(val_losses))\n",
    "plt.title(r'Validation Loss Per Epoch')\n",
    "plt.xlabel('epoch')\n",
    "plt.ylabel('loss')\n",
    "ax2.plot(epochs, val_losses)\n",
    "plt.show()\n"
   ]
  },
  {
   "cell_type": "markdown",
   "metadata": {
    "ExecuteTime": {
     "end_time": "2019-07-07T22:28:39.627660Z",
     "start_time": "2019-07-07T22:28:39.327816Z"
    },
    "hidden": true
   },
   "source": [
    "from sklearn.preprocessing import minmax_scale\n",
    "metric = minmax_scale(results.results['metric_per_epoch'], feature_range=(0,1))\n",
    "epochs = np.arange(len(losses)) * 15\n",
    "plt.xlabel('epoch')\n",
    "plt.ylabel('loss')\n",
    "plt.plot(epochs, metric)\n",
    "\n",
    "val_losses = minmax_scale(results.results['validation_losses'], feature_range=(0,1))\n",
    "epochs = np.arange(len(val_losses))\n",
    "plt.title(r'Early stopping evaluation')\n",
    "plt.xlabel('epoch')\n",
    "plt.ylabel('loss')\n",
    "plt.plot(epochs, val_losses)\n",
    "\n",
    "plt.legend([\"metric\", \"val_loss\"])\n",
    "plt.show()"
   ]
  },
  {
   "cell_type": "code",
   "execution_count": 32,
   "metadata": {
    "ExecuteTime": {
     "end_time": "2019-07-09T13:43:08.049935Z",
     "start_time": "2019-07-09T13:43:08.041960Z"
    },
    "hidden": true
   },
   "outputs": [
    {
     "data": {
      "text/plain": [
       "{'mean_rank': None,\n",
       " 'hits@k': None,\n",
       " 'precision': None,\n",
       " 'recall': None,\n",
       " 'accuracy': None,\n",
       " 'f1_score': None}"
      ]
     },
     "execution_count": 32,
     "metadata": {},
     "output_type": "execute_result"
    }
   ],
   "source": [
    "results.results['eval_summary']"
   ]
  },
  {
   "cell_type": "markdown",
   "metadata": {},
   "source": [
    "## Load and evaluate"
   ]
  },
  {
   "cell_type": "code",
   "execution_count": 33,
   "metadata": {
    "ExecuteTime": {
     "end_time": "2019-07-15T12:59:13.918220Z",
     "start_time": "2019-07-15T12:59:03.529175Z"
    }
   },
   "outputs": [],
   "source": [
    "import torch\n",
    "import json\n",
    "import os\n",
    "import pykeen.constants as pkc\n",
    "from pykeen.kge_models import get_kge_model\n",
    "from pykeen.utilities.pipeline import Pipeline"
   ]
  },
  {
   "cell_type": "code",
   "execution_count": 34,
   "metadata": {
    "ExecuteTime": {
     "end_time": "2019-07-15T12:59:13.937738Z",
     "start_time": "2019-07-15T12:59:13.920778Z"
    }
   },
   "outputs": [
    {
     "data": {
      "text/plain": [
       "['test',\n",
       " 'region_FB15k_20191023-1742_dim50_sphere_rad0_regL0_lr001_loss-BPR_margin0.5_negfactor1_epochs1000_esmetric-custom_bs8192',\n",
       " 'FB15k-237_region_20191028_1118_dim50_full_rad1_regL0_lr001_loss-MRL_margin0.5_negfactor1_epochs2000_esmetric-custom_vs8192',\n",
       " 'FB15k-237_UM_dim50_lr00001_margin1_epochs500_bs2048_esmetric-custom',\n",
       " 'region_FB15k_20191023_dim50_sphere_rad0_regL0_lr001_loss-BPR_margin0.5_negfactor1_epochs1000_esmetric-custom_final',\n",
       " 'FB15k237_TransE_20191024-1716_dim50_loss-MRL_lr001_margin1_epochs1000_bs8192_esmetric-custom',\n",
       " 'region_FB15k_20191023_dim50_sphere_rad0_regL0_lr001_loss-BPR_margin0.5_negfactor1_epochs500_esmetric-custom_final',\n",
       " 'region_FB15k_dim50_sphere_rad0_regL0_lr01_loss-MRL_margin0.5_negfactor1_epochs500_esmetric-custom_final',\n",
       " 'region_FB15k_20191023_dim50_sphere_rad0_regL0_lr001_loss-MRL_margin0.5_negfactor1_epochs1000_esmetric-custom',\n",
       " 'FB15k237_region_20191024-1716_dim50_sphere_rad0_regL0_lr001_loss-MRL_margin0.5_negfactor1_epochs1000_esmetric-custom_bs8192',\n",
       " '.directory',\n",
       " 'TransE_FB15k_20191023_dim50_lr001_margin1_epochs1000_bs8192_esmetric-custom_final',\n",
       " 'region_FB15k_20191024-11 5_dim50_sphere_rad0_regL0_lr001_loss-BPR_margin0.5_negfactor1_epochs1000_esmetric-custom_bs8192',\n",
       " 'FB15k_region_20191028-1547_dim50_full_rad1_regL0_lr0001_loss-MRL_margin0.5_negfactor1_epochs2000_esmetric-custom_bs8192',\n",
       " 'region_FB15k_20191023_dim50_sphere_rad0_regL0_lr001_loss-BPR_margin0.5_negfactor1_epochs1000_esmetric-custom',\n",
       " 'region_FB15k_dim50_sphere_rad0_regL0_lr01_loss-MRL_margin0.5_negfactor1_epochs500_esmetric-custom_bs-2048',\n",
       " 'reference masterarbeit',\n",
       " 'region_FB15k_20191024-1031_dim50_sphere_rad0_regL0_lr001_loss-MRL_margin0.5_negfactor1_epochs1000_esmetric-custom_bs8192',\n",
       " 'region_FB15k_dim50_sphere_rad0_regL0_lr01_loss-MRL_margin0.5_negfactor1_epochs500_esmetric-custom_bs-4096',\n",
       " 'transE_FB15K_dim50_retrained',\n",
       " 'region_FB15k_20191024-1246_dim50_sphere_rad0_regL0_lr001_loss-BPR_margin0.5_negfactor1_epochs1000_esmetric-custom_bs8192']"
      ]
     },
     "execution_count": 34,
     "metadata": {},
     "output_type": "execute_result"
    }
   ],
   "source": [
    "model_dir = '../../../models/'\n",
    "models = os.listdir(model_dir)\n",
    "models"
   ]
  },
  {
   "cell_type": "code",
   "execution_count": 35,
   "metadata": {
    "ExecuteTime": {
     "end_time": "2019-07-15T12:59:41.243685Z",
     "start_time": "2019-07-15T12:59:40.206438Z"
    }
   },
   "outputs": [],
   "source": [
    "model_path = ''\n",
    "if model_path:\n",
    "    input_directory = os.path.join(model_dir, model_path)\n",
    "    results = {\n",
    "    'losses': json.load(open(os.path.join(input_directory, 'losses.json'))),\n",
    "    'validation_losses': json.load(open(os.path.join(input_directory, 'val_losses.json'))),\n",
    "    'entity_to_embedding': json.load(open(os.path.join(input_directory, 'entities_to_embeddings.json'))),\n",
    "    #'relation_to_embedding': json.load(open(os.path.join(input_directory, 'relations_to_embeddings.json'))),\n",
    "    'final_configuration': json.load(open(os.path.join(input_directory, 'configuration.json'))),\n",
    "    'eval_summary': json.load(open(os.path.join(input_directory, 'evaluation_summary.json'))),\n",
    "    'entity_to_id': json.load(open(os.path.join(input_directory, 'entity_to_id.json'))),\n",
    "    'relation_to_id': json.load(open(os.path.join(input_directory, 'relation_to_id.json')))\n",
    "    }\n",
    "    # Initialize KG embedding model\n",
    "    config = results['final_configuration']\n",
    "    config['training_set_path'] = '../../../data/fb15k-237/train.tsv',\n",
    "    config['test_set_path'] = '../../../data/fb15k-237/valid.tsv',\n",
    "    relation_to_id = results['relation_to_id']\n",
    "    entity_to_id = results['entity_to_id']\n",
    "else:\n",
    "    # Initialize KG embedding model\n",
    "    input_directory = output_directory\n",
    "    config[pkc.NUM_ENTITIES] = 14541\n",
    "    config[pkc.NUM_RELATIONS] = 237\n",
    "    config[pkc.PREFERRED_DEVICE] = 'gpu'\n",
    "    relation_to_id = json.load(open(os.path.join(input_directory, 'relation_to_id.json'),'r'))\n",
    "    entity_to_id = json.load(open(os.path.join(input_directory, 'entity_to_id.json'),'r'))"
   ]
  },
  {
   "cell_type": "markdown",
   "metadata": {},
   "source": [
    "Get evaluation results:\n",
    " * Mean rank\n",
    " * Hits@k, k $\\in$ {1,3,5,10} "
   ]
  },
  {
   "cell_type": "code",
   "execution_count": 37,
   "metadata": {
    "ExecuteTime": {
     "end_time": "2019-07-15T12:59:59.666958Z",
     "start_time": "2019-07-15T12:59:48.074089Z"
    }
   },
   "outputs": [
    {
     "data": {
      "text/plain": [
       "pykeen.kge_models.unstructured_model.UnstructuredModel"
      ]
     },
     "execution_count": 37,
     "metadata": {},
     "output_type": "execute_result"
    }
   ],
   "source": [
    "#config[pkc.PREFERRED_DEVICE] = 'gpu1'\n",
    "pipeline = Pipeline(config)\n",
    "config[pkc.PREFERRED_DEVICE] = pipeline.device_name\n",
    "config['test_batch_size'] = 2**10\n",
    "if config['random_seed'] is not None:\n",
    "    torch.manual_seed(config['random_seed'])\n",
    "pipeline.entity_label_to_id = entity_to_id\n",
    "pipeline.relation_label_to_id = relation_to_id\n",
    "\n",
    "    \n",
    "model: torch.nn.Module = get_kge_model(config=config)\n",
    "model.load_state_dict(torch.load(os.path.join(input_directory, 'best_model.pkl')))\n",
    "\n",
    "#results['trained_model'] = model \n",
    "type(model)"
   ]
  },
  {
   "cell_type": "code",
   "execution_count": 38,
   "metadata": {
    "ExecuteTime": {
     "end_time": "2019-07-15T13:03:48.776615Z",
     "start_time": "2019-07-15T13:03:48.773585Z"
    }
   },
   "outputs": [],
   "source": [
    "metrics =[pkc.MEAN_RANK, pkc.HITS_AT_K] #  [pkc.MEAN_RANK, pkc.HITS_AT_K, pkc.TRIPLE_PREDICTION]"
   ]
  },
  {
   "cell_type": "markdown",
   "metadata": {},
   "source": [
    "#### Evaluate RelationalTriple"
   ]
  },
  {
   "cell_type": "code",
   "execution_count": 40,
   "metadata": {
    "ExecuteTime": {
     "end_time": "2019-07-09T13:55:43.008170Z",
     "start_time": "2019-07-09T13:43:09.620737Z"
    }
   },
   "outputs": [
    {
     "name": "stderr",
     "output_type": "stream",
     "text": [
      "INFO:pykeen.utilities.pipeline:-------------Start Evaluation-------------\n"
     ]
    },
    {
     "data": {
      "application/vnd.jupyter.widget-view+json": {
       "model_id": "1e99b2cd799b45dab2c220a061136e6a",
       "version_major": 2,
       "version_minor": 0
      },
      "text/plain": [
       "HBox(children=(IntProgress(value=0, max=17535), HTML(value='')))"
      ]
     },
     "metadata": {},
     "output_type": "display_data"
    },
    {
     "name": "stderr",
     "output_type": "stream",
     "text": [
      "DEBUG:pykeen.utilities.evaluation_utils.metrics_computations:Evaluation took 2211.95s seconds\n",
      "INFO:pykeen.utilities.pipeline:MetricResults(mean_rank=0.01968744806664897, hits_at_k={1: 0.0051325919589392645, 3: 0.012004562303963502, 5: 0.021129170230966637, 10: 0.04294268605645851}, precision=None, recall=None, accuracy=None, fscore=None)\n"
     ]
    }
   ],
   "source": [
    "val_results = pipeline.evaluate(\n",
    "    model, \n",
    "    '../../../data/fb15k-237/valid.tsv',\n",
    "    #neg_test_path = '../../../data/fb15k-237/valid.tsv',\n",
    "    metrics=metrics,\n",
    "    threshold_search=True,\n",
    "    single_threshold=False,\n",
    "    filter_neg_triples=True\n",
    ")"
   ]
  },
  {
   "cell_type": "code",
   "execution_count": null,
   "metadata": {
    "ExecuteTime": {
     "end_time": "2019-07-15T13:04:41.012954Z",
     "start_time": "2019-07-15T13:04:14.180381Z"
    }
   },
   "outputs": [],
   "source": [
    "val_results = pipeline.evaluate(\n",
    "    model, \n",
    "    'D:/uni/master/data/FB15K/valid.tsv', \n",
    "    neg_test_path = 'D:/uni/master/data/FB15K/valid_neg.tsv', \n",
    "    metrics=['prediction'],\n",
    "    threshold_search=True,\n",
    "    single_threshold=False\n",
    ")"
   ]
  },
  {
   "cell_type": "code",
   "execution_count": null,
   "metadata": {
    "ExecuteTime": {
     "end_time": "2019-07-09T13:56:18.165155Z",
     "start_time": "2019-07-09T13:56:04.400931Z"
    }
   },
   "outputs": [],
   "source": [
    "val_results_ = pipeline.evaluate(\n",
    "    model, \n",
    "    'D:/uni/master/data/FB15K/valid.tsv', \n",
    "    neg_test_path = 'D:/uni/master/data/FB15K/valid_neg.tsv', \n",
    "    metrics=['prediction'],\n",
    "    threshold_search=True,\n",
    "    single_threshold=True\n",
    ")"
   ]
  },
  {
   "cell_type": "code",
   "execution_count": null,
   "metadata": {
    "ExecuteTime": {
     "end_time": "2019-07-09T13:56:18.172105Z",
     "start_time": "2019-07-09T13:56:18.167118Z"
    }
   },
   "outputs": [],
   "source": [
    "val_results['eval_summary']"
   ]
  },
  {
   "cell_type": "code",
   "execution_count": null,
   "metadata": {
    "ExecuteTime": {
     "end_time": "2019-07-09T14:06:30.662711Z",
     "start_time": "2019-07-09T13:56:18.197040Z"
    }
   },
   "outputs": [],
   "source": [
    "test_results = pipeline.evaluate(\n",
    "    model, \n",
    "    'D:/uni/master/data/FB15K/clean_test.tsv', \n",
    "    neg_test_path = 'D:/uni/master/data/FB15K/clean_test_neg.tsv',\n",
    "    metrics= metrics,\n",
    "    threshold_search=False\n",
    ")"
   ]
  },
  {
   "cell_type": "code",
   "execution_count": null,
   "metadata": {
    "ExecuteTime": {
     "end_time": "2019-07-09T14:06:43.766675Z",
     "start_time": "2019-07-09T14:06:30.664706Z"
    }
   },
   "outputs": [],
   "source": [
    "test_results = pipeline.evaluate(\n",
    "    model, \n",
    "    'D:/uni/master/data/FB15K_237/test.tsv', \n",
    "    neg_test_path = 'D:/uni/master/data/FB15K_237/test_neg.tsv',\n",
    "    metrics= ['prediction'],\n",
    "    threshold_search=False\n",
    ")"
   ]
  },
  {
   "cell_type": "code",
   "execution_count": null,
   "metadata": {
    "ExecuteTime": {
     "end_time": "2019-07-09T13:56:18.195045Z",
     "start_time": "2019-07-09T13:56:18.173149Z"
    }
   },
   "outputs": [],
   "source": [
    "model.relation_thresholds.tolist()"
   ]
  },
  {
   "cell_type": "code",
   "execution_count": null,
   "metadata": {
    "ExecuteTime": {
     "end_time": "2019-07-09T14:06:43.773625Z",
     "start_time": "2019-07-09T14:06:43.768636Z"
    }
   },
   "outputs": [],
   "source": [
    "test_results['eval_summary']"
   ]
  },
  {
   "cell_type": "code",
   "execution_count": null,
   "metadata": {
    "ExecuteTime": {
     "end_time": "2019-07-09T14:06:43.785591Z",
     "start_time": "2019-07-09T14:06:43.775619Z"
    }
   },
   "outputs": [],
   "source": [
    "json.dump(val_results['eval_summary'], open(os.path.join(output_directory, 'valid_evaluation_summary.json'),\"w\"))"
   ]
  },
  {
   "cell_type": "code",
   "execution_count": null,
   "metadata": {
    "ExecuteTime": {
     "end_time": "2019-07-09T14:06:43.792575Z",
     "start_time": "2019-07-09T14:06:43.787588Z"
    }
   },
   "outputs": [],
   "source": [
    "json.dump(test_results['eval_summary'], open(os.path.join(output_directory, 'evaluation_summary.json'),\"w\"))"
   ]
  },
  {
   "cell_type": "markdown",
   "metadata": {},
   "source": [
    "## Load results"
   ]
  },
  {
   "cell_type": "code",
   "execution_count": null,
   "metadata": {
    "ExecuteTime": {
     "end_time": "2019-07-09T14:06:43.799555Z",
     "start_time": "2019-07-09T14:06:43.794568Z"
    }
   },
   "outputs": [],
   "source": [
    "import numpy as np\n",
    "import matplotlib.pyplot as plt\n",
    "import json\n",
    "import os"
   ]
  },
  {
   "cell_type": "code",
   "execution_count": null,
   "metadata": {
    "ExecuteTime": {
     "end_time": "2019-07-09T14:06:43.824487Z",
     "start_time": "2019-07-09T14:06:43.801549Z"
    }
   },
   "outputs": [],
   "source": [
    "%matplotlib inline"
   ]
  },
  {
   "cell_type": "code",
   "execution_count": null,
   "metadata": {
    "ExecuteTime": {
     "end_time": "2019-07-09T14:06:43.834460Z",
     "start_time": "2019-07-09T14:06:43.826482Z"
    }
   },
   "outputs": [],
   "source": [
    "model_dir = 'D:/uni/master/models/'\n",
    "models = os.listdir(model_dir)\n",
    "models"
   ]
  },
  {
   "cell_type": "code",
   "execution_count": null,
   "metadata": {
    "ExecuteTime": {
     "end_time": "2019-07-09T14:06:44.814838Z",
     "start_time": "2019-07-09T14:06:43.836455Z"
    }
   },
   "outputs": [],
   "source": [
    "#output_directory = 'D:/uni/master/models/region_hpo/'\n",
    "model_path = 'TransE_FB15k_dim50_lr001_margin1_epochs1000'\n",
    "input_directory = os.path.join(model_dir, model_path)\n",
    "\n",
    "\n",
    "results = {\n",
    "    'losses': json.load(open(os.path.join(input_directory, 'losses.json'))),\n",
    "    'validation_losses': json.load(open(os.path.join(input_directory, 'val_losses.json'))),\n",
    "    'entity_to_embedding': json.load(open(os.path.join(input_directory, 'entities_to_embeddings.json'))),\n",
    "    'relation_to_embedding': json.load(open(os.path.join(input_directory, 'relations_to_embeddings.json'))),\n",
    "    'final_configuration': json.load(open(os.path.join(input_directory, 'configuration.json'))),\n",
    "    'eval_summary': json.load(open(os.path.join(input_directory, 'evaluation_summary.json'))),\n",
    "    'entity_to_id': json.load(open(os.path.join(input_directory, 'entity_to_id.json'))),\n",
    "    'relation_to_id': json.load(open(os.path.join(input_directory, 'relation_to_id.json')))\n",
    "}"
   ]
  },
  {
   "cell_type": "code",
   "execution_count": null,
   "metadata": {
    "ExecuteTime": {
     "end_time": "2019-07-09T14:06:44.820823Z",
     "start_time": "2019-07-09T14:06:44.816834Z"
    }
   },
   "outputs": [],
   "source": [
    "results.keys()"
   ]
  },
  {
   "cell_type": "code",
   "execution_count": null,
   "metadata": {
    "ExecuteTime": {
     "end_time": "2019-07-09T14:06:44.828803Z",
     "start_time": "2019-07-09T14:06:44.822819Z"
    }
   },
   "outputs": [],
   "source": [
    "results['final_configuration']"
   ]
  },
  {
   "cell_type": "code",
   "execution_count": null,
   "metadata": {
    "ExecuteTime": {
     "end_time": "2019-07-09T14:06:44.981428Z",
     "start_time": "2019-07-09T14:06:44.830798Z"
    }
   },
   "outputs": [],
   "source": [
    "losses = results['losses']\n",
    "epochs = np.arange(len(losses))\n",
    "plt.title(r'Loss Per Epoch')\n",
    "plt.xlabel('epoch')\n",
    "plt.ylabel('loss')\n",
    "plt.plot(epochs, losses)\n",
    "plt.show()"
   ]
  },
  {
   "cell_type": "code",
   "execution_count": null,
   "metadata": {
    "ExecuteTime": {
     "end_time": "2019-07-09T14:06:45.132989Z",
     "start_time": "2019-07-09T14:06:44.983421Z"
    }
   },
   "outputs": [],
   "source": [
    "losses = results['validation_losses']\n",
    "epochs = np.arange(len(losses))\n",
    "plt.title(r'Loss Per Epoch')\n",
    "plt.xlabel('epoch')\n",
    "plt.ylabel('loss')\n",
    "plt.plot(epochs, losses)\n",
    "plt.show()"
   ]
  },
  {
   "cell_type": "code",
   "execution_count": null,
   "metadata": {
    "ExecuteTime": {
     "end_time": "2019-07-09T14:06:45.139971Z",
     "start_time": "2019-07-09T14:06:45.135016Z"
    }
   },
   "outputs": [],
   "source": [
    "results['eval_summary']"
   ]
  },
  {
   "cell_type": "code",
   "execution_count": null,
   "metadata": {},
   "outputs": [],
   "source": []
  }
 ],
 "metadata": {
  "kernelspec": {
   "display_name": "Python 3",
   "language": "python",
   "name": "python3"
  },
  "language_info": {
   "codemirror_mode": {
    "name": "ipython",
    "version": 3
   },
   "file_extension": ".py",
   "mimetype": "text/x-python",
   "name": "python",
   "nbconvert_exporter": "python",
   "pygments_lexer": "ipython3",
   "version": "3.6.5"
  },
  "notify_time": "30",
  "toc": {
   "base_numbering": 1,
   "nav_menu": {},
   "number_sections": true,
   "sideBar": true,
   "skip_h1_title": false,
   "title_cell": "Table of Contents",
   "title_sidebar": "Contents",
   "toc_cell": false,
   "toc_position": {
    "height": "193.717px",
    "left": "10px",
    "top": "150px",
    "width": "165px"
   },
   "toc_section_display": true,
   "toc_window_display": true
  }
 },
 "nbformat": 4,
 "nbformat_minor": 2
}
