{
 "cells": [
  {
   "cell_type": "code",
   "execution_count": 1,
   "metadata": {
    "ExecuteTime": {
     "end_time": "2019-06-21T16:23:17.262157Z",
     "start_time": "2019-06-21T16:23:17.258211Z"
    }
   },
   "outputs": [],
   "source": [
    "TEST = True\n",
    "##dataset = 'WN11' \n",
    "dataset = 'FB15k'"
   ]
  },
  {
   "cell_type": "markdown",
   "metadata": {},
   "source": [
    "Check which hyper-parameters are required by Gaussian embeddings:"
   ]
  },
  {
   "cell_type": "code",
   "execution_count": 2,
   "metadata": {
    "ExecuteTime": {
     "end_time": "2019-06-21T16:23:18.497886Z",
     "start_time": "2019-06-21T16:23:17.264153Z"
    }
   },
   "outputs": [
    {
     "data": {
      "text/plain": [
       "['embedding_dim',\n",
       " 'margin_loss',\n",
       " 'learning_rate',\n",
       " 'corrupt_relations',\n",
       " 'energy_function',\n",
       " 'covariance_max',\n",
       " 'covariance_min']"
      ]
     },
     "execution_count": 2,
     "metadata": {},
     "output_type": "execute_result"
    }
   ],
   "source": [
    "from pykeen.kge_models import KG2E\n",
    "KG2E.hyper_params"
   ]
  },
  {
   "cell_type": "markdown",
   "metadata": {},
   "source": [
    "Train and evaluate Region (provide test set):\n",
    "* Define the path to our test set: **test_set_path**\n",
    "* Define the path to our the negative test set: **neg_test_path** in case of triple classfication evaluation\n",
    "* Define whether you want to compute the metrics (mean rank and hits@k) in raw or in a filtered setting: **filter_negative_triples**"
   ]
  },
  {
   "cell_type": "markdown",
   "metadata": {},
   "source": [
    "##### Configs"
   ]
  },
  {
   "cell_type": "code",
   "execution_count": 3,
   "metadata": {
    "ExecuteTime": {
     "end_time": "2019-06-21T16:23:18.510852Z",
     "start_time": "2019-06-21T16:23:18.500880Z"
    }
   },
   "outputs": [],
   "source": [
    "## WORDNET config\n",
    "\n",
    "if dataset == 'WN11':\n",
    "    config = dict(\n",
    "        metrics                     = ['mean_rank'],\n",
    "        training_set_path           = 'D:/uni/master/data/WN11/train.tsv',\n",
    "        test_set_path               = 'D:/uni/master/data/WN11/dev_150.tsv',\n",
    "        neg_test_set_path           = 'D:/uni/master/data/WN11/dev_150_neg.tsv',\n",
    "        mapping_path                = 'D:/uni/master/data/WN11/',\n",
    "        execution_mode              = 'Training_mode',\n",
    "        random_seed                 = 2,\n",
    "\n",
    "        kg_embedding_model_name     = 'kg2e',\n",
    "        embedding_dim               = 20,\n",
    "        normalization_of_entities   = 2,  # corresponds to L2\n",
    "        margin_loss                 = 2,\n",
    "        energy_function             = 'KL',\n",
    "        covariance_min              = 0.05,\n",
    "        covariance_max              = 5,\n",
    "\n",
    "        neg_factor                  = 2,\n",
    "        corrupt_relations           = True,\n",
    "\n",
    "        learning_rate               = 0.01,\n",
    "        num_epochs                  = 1000,  \n",
    "        batch_size                  = 1024,\n",
    "        test_batch_size             = 4096,\n",
    "        es_metric                   = 'prediction',\n",
    "        filter_negative_triples     = False,\n",
    "        preferred_device            = 'gpu'\n",
    "    )\n",
    "elif dataset == 'FB15k':\n",
    "    ## FREEBASE config\n",
    "    config = dict(\n",
    "        metrics                     = [],\n",
    "        training_set_path           = 'D:/uni/master/data/FB15K/train.tsv',\n",
    "        test_set_path               = 'D:/uni/master/data/FB15K/valid_150.tsv',\n",
    "        neg_test_set_path           = 'D:/uni/master/data/FB15K/valid_neg.tsv',\n",
    "        mapping_path                = 'D:/uni/master/data/fb15k/',\n",
    "        execution_mode              = 'Training_mode',\n",
    "        random_seed                 = 2,\n",
    "\n",
    "        kg_embedding_model_name     = 'kg2e',\n",
    "        embedding_dim               = 50,\n",
    "        normalization_of_entities   = 2,  # corresponds to L2\n",
    "        margin_loss                 = 1,\n",
    "        energy_function             = 'KL',\n",
    "        covariance_min              = 0.05,\n",
    "        covariance_max              = 5,\n",
    "\n",
    "        neg_factor                  = 2,\n",
    "        corrupt_relations           = True,\n",
    "\n",
    "        learning_rate               = 0.01,\n",
    "        num_epochs                  = 500,  \n",
    "        batch_size                  = 1440,\n",
    "        test_batch_size             = 4096,\n",
    "        es_metric                   = 'custom',\n",
    "        filter_negative_triples     = False,\n",
    "        preferred_device            = 'gpu'\n",
    "    )"
   ]
  },
  {
   "cell_type": "code",
   "execution_count": 4,
   "metadata": {
    "ExecuteTime": {
     "end_time": "2019-06-21T16:23:18.522797Z",
     "start_time": "2019-06-21T16:23:18.514811Z"
    }
   },
   "outputs": [
    {
     "data": {
      "text/plain": [
       "'D:/uni/master/models/KG2E_FB15k_KL_dim50_lr001_margin1_epochs500_custom/'"
      ]
     },
     "execution_count": 4,
     "metadata": {},
     "output_type": "execute_result"
    }
   ],
   "source": [
    "output_directory = 'D:/uni/master/models/KG2E_{}_{}_dim{}_lr{}_margin{}_epochs{}_{}/'.format(\n",
    "    dataset,\n",
    "    config['energy_function'],\n",
    "    config['embedding_dim'],\n",
    "    str(config['learning_rate']).replace('.',''),\n",
    "    config['margin_loss'],\n",
    "    config['num_epochs'],\n",
    "    config['es_metric']\n",
    ")\n",
    "output_directory"
   ]
  },
  {
   "cell_type": "code",
   "execution_count": 5,
   "metadata": {
    "ExecuteTime": {
     "end_time": "2019-06-21T16:23:18.530765Z",
     "start_time": "2019-06-21T16:23:18.526777Z"
    }
   },
   "outputs": [],
   "source": [
    "if TEST:\n",
    "    output_directory = 'D:/uni/master/models/test/'"
   ]
  },
  {
   "cell_type": "markdown",
   "metadata": {},
   "source": [
    "##### imports"
   ]
  },
  {
   "cell_type": "code",
   "execution_count": 6,
   "metadata": {
    "ExecuteTime": {
     "end_time": "2019-06-21T16:23:18.537747Z",
     "start_time": "2019-06-21T16:23:18.532760Z"
    }
   },
   "outputs": [],
   "source": [
    "import logging\n",
    "import os\n",
    "import sys\n",
    "import time\n",
    "import pykeen"
   ]
  },
  {
   "cell_type": "code",
   "execution_count": 7,
   "metadata": {
    "ExecuteTime": {
     "end_time": "2019-06-21T16:23:18.547720Z",
     "start_time": "2019-06-21T16:23:18.541746Z"
    }
   },
   "outputs": [],
   "source": [
    "logging.basicConfig(level=logging.DEBUG)\n",
    "logging.getLogger('pykeen').setLevel(logging.DEBUG)"
   ]
  },
  {
   "cell_type": "code",
   "execution_count": 8,
   "metadata": {
    "ExecuteTime": {
     "end_time": "2019-06-21T16:23:18.568665Z",
     "start_time": "2019-06-21T16:23:18.551709Z"
    }
   },
   "outputs": [
    {
     "name": "stdout",
     "output_type": "stream",
     "text": [
      "3.7.3 (default, Apr 24 2019, 15:29:51) [MSC v.1915 64 bit (AMD64)]\n"
     ]
    }
   ],
   "source": [
    "print(sys.version)"
   ]
  },
  {
   "cell_type": "code",
   "execution_count": 9,
   "metadata": {
    "ExecuteTime": {
     "end_time": "2019-06-21T16:23:18.580634Z",
     "start_time": "2019-06-21T16:23:18.573677Z"
    },
    "scrolled": true
   },
   "outputs": [
    {
     "name": "stdout",
     "output_type": "stream",
     "text": [
      "Fri Jun 21 18:23:18 2019\n"
     ]
    }
   ],
   "source": [
    "print(time.asctime())"
   ]
  },
  {
   "cell_type": "code",
   "execution_count": 10,
   "metadata": {
    "ExecuteTime": {
     "end_time": "2019-06-21T16:23:18.589610Z",
     "start_time": "2019-06-21T16:23:18.582626Z"
    }
   },
   "outputs": [
    {
     "name": "stdout",
     "output_type": "stream",
     "text": [
      "0.0.26-dev\n"
     ]
    }
   ],
   "source": [
    "print(pykeen.get_version())"
   ]
  },
  {
   "cell_type": "markdown",
   "metadata": {},
   "source": [
    "## Train and evaluate KG2E:"
   ]
  },
  {
   "cell_type": "code",
   "execution_count": 11,
   "metadata": {
    "ExecuteTime": {
     "end_time": "2019-06-21T16:23:18.968594Z",
     "start_time": "2019-06-21T16:23:18.592603Z"
    }
   },
   "outputs": [
    {
     "name": "stderr",
     "output_type": "stream",
     "text": [
      "DEBUG:matplotlib:$HOME=C:\\Users\\aquam\n",
      "DEBUG:matplotlib:CONFIGDIR=C:\\Users\\aquam\\.matplotlib\n",
      "DEBUG:matplotlib:matplotlib data path: C:\\Users\\aquam\\AppData\\Local\\conda\\conda\\envs\\pykeen\\lib\\site-packages\\matplotlib\\mpl-data\n",
      "DEBUG:matplotlib:loaded rc file C:\\Users\\aquam\\AppData\\Local\\conda\\conda\\envs\\pykeen\\lib\\site-packages\\matplotlib\\mpl-data\\matplotlibrc\n",
      "DEBUG:matplotlib:matplotlib version 3.1.0\n",
      "DEBUG:matplotlib:interactive is False\n",
      "DEBUG:matplotlib:platform is win32\n",
      "DEBUG:matplotlib:loaded modules: ['sys', 'builtins', '_frozen_importlib', '_imp', '_thread', '_warnings', '_weakref', 'zipimport', '_frozen_importlib_external', '_io', 'marshal', 'nt', 'winreg', 'encodings', 'codecs', '_codecs', 'encodings.aliases', 'encodings.utf_8', '_signal', '__main__', 'encodings.latin_1', 'io', 'abc', '_abc', 'encodings.cp1251', 'site', 'os', 'stat', '_stat', 'ntpath', 'genericpath', 'os.path', '_collections_abc', '_sitebuiltins', '_bootlocale', '_locale', 'types', 'importlib', 'importlib._bootstrap', 'importlib._bootstrap_external', 'warnings', 'importlib.util', 'importlib.abc', 'importlib.machinery', 'contextlib', 'collections', 'operator', '_operator', 'keyword', 'heapq', '_heapq', 'itertools', 'reprlib', '_collections', 'functools', '_functools', 'mpl_toolkits', 'runpy', 'pkgutil', 'weakref', '_weakrefset', 'ipykernel', 'ipykernel._version', 'ipykernel.connect', '__future__', 'json', 'json.decoder', 're', 'enum', 'sre_compile', '_sre', 'sre_parse', 'sre_constants', 'copyreg', 'json.scanner', '_json', 'json.encoder', 'subprocess', 'time', 'signal', 'errno', 'threading', 'traceback', 'linecache', 'tokenize', 'token', 'msvcrt', '_winapi', 'IPython', 'IPython.core', 'IPython.core.getipython', 'IPython.core.release', 'IPython.core.application', 'atexit', 'copy', 'glob', 'fnmatch', 'posixpath', 'logging', 'collections.abc', 'string', '_string', 'shutil', 'zlib', 'bz2', '_compression', '_bz2', 'lzma', '_lzma', 'traitlets', 'traitlets.traitlets', 'inspect', 'dis', 'opcode', '_opcode', 'six', 'struct', '_struct', 'traitlets.utils', 'traitlets.utils.getargspec', 'traitlets.utils.importstring', 'ipython_genutils', 'ipython_genutils._version', 'ipython_genutils.py3compat', 'ipython_genutils.encoding', 'locale', 'platform', 'traitlets.utils.sentinel', 'traitlets.utils.bunch', 'traitlets._version', 'traitlets.config', 'traitlets.config.application', 'decorator', 'traitlets.config.configurable', 'traitlets.config.loader', 'argparse', 'gettext', 'ast', '_ast', 'ipython_genutils.path', 'random', 'math', 'hashlib', '_hashlib', '_blake2', '_sha3', 'bisect', '_bisect', '_random', 'ipython_genutils.text', 'textwrap', 'ipython_genutils.importstring', 'IPython.core.crashhandler', 'pprint', 'IPython.core.ultratb', 'pydoc', 'urllib', 'urllib.parse', 'IPython.core.debugger', 'bdb', 'IPython.utils', 'IPython.utils.PyColorize', 'IPython.utils.coloransi', 'IPython.utils.ipstruct', 'IPython.utils.colorable', 'pygments', 'pygments.util', 'IPython.utils.py3compat', 'IPython.utils.encoding', 'IPython.core.excolors', 'IPython.testing', 'IPython.testing.skipdoctest', 'pdb', 'cmd', 'code', 'codeop', 'IPython.core.display_trap', 'IPython.utils.path', 'IPython.utils.process', 'IPython.utils._process_win32', 'ctypes', '_ctypes', 'ctypes._endian', 'ctypes.wintypes', 'IPython.utils._process_common', 'shlex', 'IPython.utils.decorators', 'IPython.utils.data', 'IPython.utils.terminal', 'IPython.utils.sysinfo', 'IPython.utils._sysinfo', 'IPython.core.profiledir', 'IPython.paths', 'tempfile', 'IPython.utils.importstring', 'IPython.terminal', 'IPython.terminal.embed', 'IPython.core.compilerop', 'IPython.core.magic_arguments', 'IPython.core.error', 'IPython.utils.text', 'pathlib', 'IPython.core.magic', 'getopt', 'IPython.core.oinspect', 'IPython.core.page', 'IPython.core.display', 'binascii', 'mimetypes', 'IPython.lib', 'IPython.lib.security', 'getpass', 'IPython.lib.pretty', 'datetime', '_datetime', 'IPython.utils.openpy', 'IPython.utils.dir2', 'IPython.utils.wildcard', 'pygments.lexers', 'pygments.lexers._mapping', 'pygments.modeline', 'pygments.plugin', 'pygments.lexers.python', 'pygments.lexer', 'pygments.filter', 'pygments.filters', 'pygments.token', 'pygments.regexopt', 'pygments.unistring', 'pygments.formatters', 'pygments.formatters._mapping', 'pygments.formatters.html', 'pygments.formatter', 'pygments.styles', 'IPython.core.inputtransformer2', 'typing', 'typing.io', 'typing.re', 'IPython.core.interactiveshell', 'asyncio', 'asyncio.base_events', 'concurrent', 'concurrent.futures', 'concurrent.futures._base', 'socket', '_socket', 'selectors', 'select', 'ssl', '_ssl', 'base64', 'asyncio.constants', 'asyncio.coroutines', 'asyncio.base_futures', 'asyncio.format_helpers', 'asyncio.log', 'asyncio.events', 'contextvars', '_contextvars', 'asyncio.base_tasks', '_asyncio', 'asyncio.futures', 'asyncio.protocols', 'asyncio.sslproto', 'asyncio.transports', 'asyncio.tasks', 'asyncio.locks', 'asyncio.runners', 'asyncio.queues', 'asyncio.streams', 'asyncio.subprocess', 'asyncio.windows_events', '_overlapped', 'asyncio.base_subprocess', 'asyncio.proactor_events', 'asyncio.selector_events', 'asyncio.windows_utils', 'pickleshare', 'pickle', '_compat_pickle', '_pickle', 'IPython.core.prefilter', 'IPython.core.autocall', 'IPython.core.macro', 'IPython.core.splitinput', 'IPython.core.alias', 'IPython.core.builtin_trap', 'IPython.core.events', 'backcall', 'backcall.backcall', 'IPython.core.displayhook', 'IPython.core.displaypub', 'IPython.core.extensions', 'IPython.core.formatters', 'IPython.utils.sentinel', 'IPython.core.history', 'sqlite3', 'sqlite3.dbapi2', '_sqlite3', 'IPython.core.logger', 'IPython.core.payload', 'IPython.core.usage', 'IPython.display', 'IPython.lib.display', 'html', 'html.entities', 'IPython.utils.io', 'IPython.utils.capture', 'IPython.utils.strdispatch', 'IPython.core.hooks', 'IPython.utils.syspathcontext', 'IPython.utils.tempdir', 'IPython.utils.contexts', 'IPython.core.async_helpers', 'IPython.terminal.interactiveshell', 'prompt_toolkit', 'prompt_toolkit.application', 'prompt_toolkit.application.application', 'prompt_toolkit.buffer', 'prompt_toolkit.application.current', 'prompt_toolkit.eventloop', 'prompt_toolkit.eventloop.base', 'prompt_toolkit.log', 'prompt_toolkit.eventloop.coroutine', 'prompt_toolkit.eventloop.defaults', 'prompt_toolkit.utils', 'six.moves', 'wcwidth', 'wcwidth.wcwidth', 'wcwidth.table_wide', 'wcwidth.table_zero', 'prompt_toolkit.cache', 'prompt_toolkit.eventloop.future', 'prompt_toolkit.eventloop.context', 'prompt_toolkit.eventloop.async_generator', 'queue', '_queue', 'six.moves.queue', 'prompt_toolkit.eventloop.event', 'prompt_toolkit.application.run_in_terminal', 'prompt_toolkit.auto_suggest', 'prompt_toolkit.filters', 'prompt_toolkit.filters.base', 'prompt_toolkit.filters.app', 'prompt_toolkit.enums', 'prompt_toolkit.filters.utils', 'prompt_toolkit.filters.cli', 'prompt_toolkit.clipboard', 'prompt_toolkit.clipboard.base', 'prompt_toolkit.selection', 'prompt_toolkit.clipboard.in_memory', 'prompt_toolkit.completion', 'prompt_toolkit.completion.base', 'prompt_toolkit.completion.filesystem', 'prompt_toolkit.completion.word_completer', 'prompt_toolkit.completion.fuzzy_completer', 'prompt_toolkit.document', 'prompt_toolkit.history', 'prompt_toolkit.search', 'prompt_toolkit.key_binding', 'prompt_toolkit.key_binding.key_bindings', 'prompt_toolkit.keys', 'prompt_toolkit.key_binding.vi_state', 'prompt_toolkit.validation', 'prompt_toolkit.input', 'prompt_toolkit.input.base', 'prompt_toolkit.input.defaults', 'prompt_toolkit.input.typeahead', 'prompt_toolkit.key_binding.bindings', 'prompt_toolkit.key_binding.bindings.page_navigation', 'prompt_toolkit.key_binding.bindings.scroll', 'prompt_toolkit.key_binding.defaults', 'prompt_toolkit.key_binding.bindings.basic', 'prompt_toolkit.key_binding.key_processor', 'prompt_toolkit.key_binding.bindings.named_commands', 'prompt_toolkit.key_binding.bindings.completion', 'prompt_toolkit.key_binding.bindings.emacs', 'prompt_toolkit.key_binding.bindings.vi', 'prompt_toolkit.input.vt100_parser', 'prompt_toolkit.input.ansi_escape_sequences', 'prompt_toolkit.key_binding.digraphs', 'prompt_toolkit.key_binding.bindings.mouse', 'prompt_toolkit.layout', 'prompt_toolkit.layout.containers', 'prompt_toolkit.layout.controls', 'prompt_toolkit.formatted_text', 'prompt_toolkit.formatted_text.base', 'prompt_toolkit.formatted_text.html', 'xml', 'xml.dom', 'xml.dom.domreg', 'xml.dom.minidom', 'xml.dom.minicompat', 'xml.dom.xmlbuilder', 'xml.dom.NodeFilter', 'prompt_toolkit.formatted_text.ansi', 'prompt_toolkit.output', 'prompt_toolkit.output.base', 'prompt_toolkit.layout.screen', 'prompt_toolkit.output.defaults', 'prompt_toolkit.output.color_depth', 'prompt_toolkit.output.vt100', 'prompt_toolkit.styles', 'prompt_toolkit.styles.base', 'prompt_toolkit.styles.defaults', 'prompt_toolkit.styles.style', 'prompt_toolkit.styles.named_colors', 'prompt_toolkit.styles.pygments', 'prompt_toolkit.styles.style_transformation', 'colorsys', 'array', 'prompt_toolkit.formatted_text.pygments', 'prompt_toolkit.formatted_text.utils', 'prompt_toolkit.lexers', 'prompt_toolkit.lexers.base', 'prompt_toolkit.lexers.pygments', 'prompt_toolkit.mouse_events', 'prompt_toolkit.layout.processors', 'prompt_toolkit.layout.utils', 'prompt_toolkit.layout.dimension', 'prompt_toolkit.layout.margins', 'prompt_toolkit.layout.layout', 'prompt_toolkit.layout.menus', 'prompt_toolkit.renderer', 'prompt_toolkit.layout.mouse_handlers', 'prompt_toolkit.key_binding.bindings.cpr', 'prompt_toolkit.key_binding.emacs_state', 'prompt_toolkit.layout.dummy', 'prompt_toolkit.application.dummy', 'prompt_toolkit.shortcuts', 'prompt_toolkit.shortcuts.dialogs', 'prompt_toolkit.key_binding.bindings.focus', 'prompt_toolkit.widgets', 'prompt_toolkit.widgets.base', 'prompt_toolkit.widgets.toolbars', 'prompt_toolkit.widgets.dialogs', 'prompt_toolkit.widgets.menus', 'prompt_toolkit.shortcuts.prompt', 'prompt_toolkit.key_binding.bindings.auto_suggest', 'prompt_toolkit.key_binding.bindings.open_in_editor', 'prompt_toolkit.shortcuts.utils', 'prompt_toolkit.shortcuts.progress_bar', 'prompt_toolkit.shortcuts.progress_bar.base', 'prompt_toolkit.shortcuts.progress_bar.formatters', 'prompt_toolkit.patch_stdout', 'pygments.style', 'IPython.terminal.debugger', 'IPython.core.completer', 'unicodedata', 'IPython.core.latex_symbols', 'IPython.utils.generics', 'jedi', 'jedi.api', 'parso', 'parso.parser', 'parso.tree', 'parso._compatibility', 'parso.utils', 'parso.pgen2', 'parso.pgen2.generator', 'parso.pgen2.grammar_parser', 'parso.python', 'parso.python.tokenize', 'parso.python.token', 'parso.grammar', 'parso.python.diff', 'difflib', 'parso.python.parser', 'parso.python.tree', 'parso.python.prefix', 'parso.cache', 'gc', 'parso.python.errors', 'parso.normalizer', 'parso.python.pep8', 'parso.file_io', 'jedi._compatibility', 'jedi.parser_utils', 'jedi.debug', 'jedi.settings', 'jedi.cache', 'jedi.api.classes', 'jedi.evaluate', 'jedi.evaluate.utils', 'jedi.evaluate.imports', 'jedi.evaluate.sys_path', 'jedi.evaluate.cache', 'jedi.evaluate.base_context', 'jedi.common', 'jedi.common.context', 'jedi.evaluate.helpers', 'jedi.common.utils', 'jedi.evaluate.compiled', 'jedi.evaluate.compiled.context', 'jedi.evaluate.filters', 'jedi.evaluate.flow_analysis', 'jedi.evaluate.recursion', 'jedi.evaluate.lazy_context', 'jedi.evaluate.compiled.access', 'jedi.evaluate.compiled.getattr_static', 'jedi.evaluate.compiled.fake', 'jedi.evaluate.analysis', 'jedi.evaluate.context', 'jedi.evaluate.context.module', 'jedi.evaluate.context.klass', 'jedi.evaluate.context.function', 'jedi.evaluate.docstrings', 'jedi.evaluate.pep0484', 'jedi.evaluate.arguments', 'jedi.evaluate.context.iterable', 'jedi.evaluate.param', 'jedi.evaluate.context.asynchronous', 'jedi.evaluate.parser_cache', 'jedi.evaluate.context.instance', 'jedi.evaluate.syntax_tree', 'jedi.evaluate.finder', 'jedi.api.keywords', 'pydoc_data', 'pydoc_data.topics', 'jedi.api.interpreter', 'jedi.evaluate.compiled.mixed', 'jedi.api.helpers', 'jedi.api.completion', 'jedi.api.environment', 'filecmp', 'jedi.evaluate.compiled.subprocess', 'jedi.evaluate.compiled.subprocess.functions', 'jedi.api.exceptions', 'jedi.api.project', 'jedi.evaluate.usages', 'IPython.terminal.ptutils', 'IPython.terminal.shortcuts', 'IPython.lib.clipboard', 'IPython.terminal.magics', 'IPython.terminal.pt_inputhooks', 'IPython.terminal.prompts', 'IPython.terminal.ipapp', 'IPython.core.magics', 'IPython.core.magics.auto', 'IPython.core.magics.basic', 'IPython.core.magics.code', 'urllib.request', 'email', 'http', 'http.client', 'email.parser', 'email.feedparser', 'email.errors', 'email._policybase', 'email.header', 'email.quoprimime', 'email.base64mime', 'email.charset', 'email.encoders', 'quopri', 'email.utils', 'email._parseaddr', 'calendar', 'email.message', 'uu', 'email._encoded_words', 'email.iterators', 'urllib.error', 'urllib.response', 'nturl2path', 'IPython.core.magics.config', 'IPython.core.magics.display', 'IPython.core.magics.execution', 'timeit', 'cProfile', '_lsprof', 'profile', 'pstats', 'IPython.utils.module_paths', 'IPython.utils.timing', 'IPython.core.magics.extension', 'IPython.core.magics.history', 'IPython.core.magics.logging', 'IPython.core.magics.namespace', 'IPython.core.magics.osm', 'IPython.core.magics.packaging', 'IPython.core.magics.pylab', 'IPython.core.pylabtools', 'IPython.core.magics.script', 'IPython.lib.backgroundjobs', 'IPython.core.shellapp', 'IPython.extensions', 'IPython.extensions.storemagic', 'IPython.utils.frame', 'jupyter_client', 'jupyter_client._version', 'jupyter_client.connect', 'zmq', 'zmq.backend', 'zmq.backend.select', 'zmq.backend.cython', 'zmq.backend.cython.constants', 'cython_runtime', 'zmq.backend.cython.error', '_cython_0_29_5', 'zmq.backend.cython.message', 'zmq.error', 'zmq.backend.cython.context', 'zmq.backend.cython.socket', 'zmq.backend.cython.utils', 'zmq.backend.cython._poll', 'zmq.backend.cython._version', 'zmq.backend.cython._device', 'zmq.backend.cython._proxy_steerable', 'zmq.sugar', 'zmq.sugar.constants', 'zmq.utils', 'zmq.utils.constant_names', 'zmq.sugar.context', 'zmq.sugar.attrsettr', 'zmq.sugar.socket', 'zmq.sugar.poll', 'zmq.utils.jsonapi', 'zmq.utils.strtypes', 'zmq.sugar.frame', 'zmq.sugar.tracker', 'zmq.sugar.version', 'zmq.sugar.stopwatch', 'jupyter_client.localinterfaces', 'jupyter_core', 'jupyter_core.version', 'jupyter_core.paths', 'jupyter_client.launcher', 'traitlets.log', 'jupyter_client.client', 'jupyter_client.channels', 'jupyter_client.channelsabc', 'jupyter_client.clientabc', 'jupyter_client.manager', 'jupyter_client.kernelspec', 'jupyter_client.managerabc', 'jupyter_client.blocking', 'jupyter_client.blocking.client', 'jupyter_client.blocking.channels', 'jupyter_client.multikernelmanager', 'uuid', 'ipykernel.kernelapp', 'tornado', 'tornado.ioloop', 'numbers', 'tornado.concurrent', 'tornado.log', 'logging.handlers', 'tornado.escape', 'tornado.util', 'tornado.speedups', 'colorama', 'colorama.initialise', 'colorama.ansitowin32', 'colorama.ansi', 'colorama.winterm', 'colorama.win32', 'zmq.eventloop', 'zmq.eventloop.ioloop', 'tornado.platform', 'tornado.platform.asyncio', 'tornado.gen', 'zmq.eventloop.zmqstream', 'ipykernel.iostream', 'imp', 'jupyter_client.session', 'hmac', 'jupyter_client.jsonutil', 'dateutil', 'dateutil._version', 'dateutil.parser', 'dateutil.parser._parser', 'decimal', '_decimal', 'dateutil.relativedelta', 'dateutil._common', 'dateutil.tz', 'dateutil.tz.tz', 'dateutil.tz._common', 'dateutil.tz._factories', 'dateutil.tz.win', 'dateutil.parser.isoparser', '_strptime', 'jupyter_client.adapter', 'ipykernel.heartbeat', 'ipykernel.ipkernel', 'IPython.utils.tokenutil', 'ipykernel.comm', 'ipykernel.comm.manager', 'ipykernel.comm.comm', 'ipykernel.kernelbase', 'tornado.queues', 'tornado.locks', 'ipykernel.jsonutil', 'ipykernel.zmqshell', 'IPython.core.payloadpage', 'ipykernel.displayhook', 'ipykernel.parentpoller', 'faulthandler', 'ipykernel.datapub', 'ipykernel.serialize', 'ipykernel.pickleutil', 'ipykernel.codeutil', 'IPython.core.completerlib', 'storemagic', 'ipywidgets', 'ipywidgets._version', 'ipywidgets.widgets', 'ipywidgets.widgets.widget', 'ipywidgets.widgets.domwidget', 'ipywidgets.widgets.trait_types', 'ipywidgets.widgets.widget_layout', 'ipywidgets.widgets.widget_style', 'ipywidgets.widgets.valuewidget', 'ipywidgets.widgets.widget_core', 'ipywidgets.widgets.widget_bool', 'ipywidgets.widgets.widget_description', 'ipywidgets.widgets.widget_button', 'ipywidgets.widgets.widget_box', 'ipywidgets.widgets.docutils', 'ipywidgets.widgets.widget_float', 'ipywidgets.widgets.widget_int', 'ipywidgets.widgets.widget_color', 'ipywidgets.widgets.widget_date', 'ipywidgets.widgets.widget_output', 'ipywidgets.widgets.widget_selection', 'ipywidgets.widgets.widget_selectioncontainer', 'ipywidgets.widgets.widget_string', 'ipywidgets.widgets.widget_controller', 'ipywidgets.widgets.interaction', 'ipywidgets.widgets.widget_link', 'ipywidgets.widgets.widget_media', 'pykeen', 'pykeen.constants', 'numpy', 'numpy._globals', 'numpy.__config__', 'numpy.version', 'numpy._distributor_init', 'numpy._mklinit', 'numpy.core', 'numpy.core.info', 'numpy.core.multiarray', 'numpy.core.overrides', 'numpy.core._multiarray_umath', 'numpy.compat', 'numpy.compat._inspect', 'numpy.compat.py3k', 'numpy.core.umath', 'numpy.core.numerictypes', 'numpy.core._string_helpers', 'numpy.core._type_aliases', 'numpy.core._dtype', 'numpy.core.numeric', 'numpy.core._internal', 'numpy.core.fromnumeric', 'numpy.core._methods', 'numpy.core.arrayprint', 'numpy.core.defchararray', 'numpy.core.records', 'numpy.core.memmap', 'numpy.core.function_base', 'numpy.core.machar', 'numpy.core.getlimits', 'numpy.core.shape_base', 'numpy.core.einsumfunc', 'numpy.core._add_newdocs', 'numpy.core._multiarray_tests', 'numpy.core._dtype_ctypes', 'numpy._pytesttester', 'numpy.lib', 'numpy.lib.info', 'numpy.lib.type_check', 'numpy.lib.ufunclike', 'numpy.lib.index_tricks', 'numpy.matrixlib', 'numpy.matrixlib.defmatrix', 'numpy.linalg', 'numpy.linalg.info', 'numpy.linalg.linalg', 'numpy.lib.twodim_base', 'numpy.linalg.lapack_lite', 'numpy.linalg._umath_linalg', 'numpy.lib.function_base', 'numpy.lib.utils', 'numpy.lib.histograms', 'numpy.lib.stride_tricks', 'numpy.lib.mixins', 'numpy.lib.nanfunctions', 'numpy.lib.shape_base', 'numpy.lib.scimath', 'numpy.lib.polynomial', 'numpy.lib.arraysetops', 'numpy.lib.npyio', 'numpy.lib.format', 'numpy.lib._datasource', 'numpy.lib._iotools', 'numpy.lib.financial', 'numpy.lib.arrayterator', 'numpy.lib.arraypad', 'numpy.lib._version', 'numpy.fft', 'numpy.fft.info', 'numpy.fft.fftpack', 'numpy.fft.fftpack_lite', 'numpy.fft.helper', 'mkl_fft', 'mkl_fft._pydfti', '_cython_0_29_7', 'mkl_fft._version', 'mkl_fft._numpy_fft', 'numpy.polynomial', 'numpy.polynomial.polynomial', 'numpy.polynomial.polyutils', 'numpy.polynomial._polybase', 'numpy.polynomial.chebyshev', 'numpy.polynomial.legendre', 'numpy.polynomial.hermite', 'numpy.polynomial.hermite_e', 'numpy.polynomial.laguerre', 'numpy.random', 'numpy.random.mtrand', 'mtrand', 'numpy.ctypeslib', 'numpy.ma', 'numpy.ma.core', 'numpy.ma.extras', 'numpy.testing', 'unittest', 'unittest.result', 'unittest.util', 'unittest.case', 'unittest.suite', 'unittest.loader', 'unittest.main', 'unittest.runner', 'unittest.signals', 'numpy.testing._private', 'numpy.testing._private.utils', 'numpy.testing._private.decorators', 'numpy.testing._private.nosetester', 'pkg_resources', 'zipfile', 'plistlib', 'xml.parsers', 'xml.parsers.expat', 'pyexpat.errors', 'pyexpat.model', 'pyexpat', 'xml.parsers.expat.model', 'xml.parsers.expat.errors', 'pkg_resources.extern', 'pkg_resources._vendor', 'pkg_resources.extern.six', 'pkg_resources._vendor.six', 'pkg_resources.extern.six.moves', 'pkg_resources._vendor.six.moves', 'pkg_resources.py31compat', 'pkg_resources.extern.appdirs', 'pkg_resources._vendor.packaging.__about__', 'pkg_resources.extern.packaging', 'pkg_resources.extern.packaging.version', 'pkg_resources.extern.packaging._structures', 'pkg_resources.extern.packaging.specifiers', 'pkg_resources.extern.packaging._compat', 'pkg_resources.extern.packaging.requirements', 'pkg_resources.extern.pyparsing', 'pkg_resources.extern.six.moves.urllib', 'pkg_resources.extern.packaging.markers', 'sysconfig', 'pykeen.utilities', 'pykeen.utilities.handlers', 'pykeen.run', 'dataclasses', 'torch', 'torch._utils', 'torch._utils_internal', 'torch.version', 'torch._six', 'torch._C._onnx', 'torch._C._jit_tree_views', 'torch._C.cpp', 'torch._C.cpp.nn', 'torch._C', 'torch.random', 'torch.serialization', 'tarfile', 'torch._tensor_str', 'torch.tensor', 'torch.utils', 'torch.utils.hooks', 'torch.storage', 'torch.cuda', 'multiprocessing', 'multiprocessing.context', 'multiprocessing.process', 'multiprocessing.reduction', '__mp_main__', 'multiprocessing.util', 'torch.cuda._utils', 'torch.cuda.random', 'torch.cuda.sparse', 'torch.cuda.profiler', 'torch.cuda.nvtx', 'torch.cuda.streams', 'torch.sparse', 'torch.functional', 'torch.nn', 'torch.nn.modules', 'torch.nn.modules.module', 'torch.nn.backends', 'torch.nn.backends.thnn', 'torch.nn.backends.backend', 'torch.nn._functions', 'torch.nn._functions.thnn', 'torch.nn._functions.thnn.auto', 'torch._thnn', 'torch._thnn.utils', 'torch.autograd', 'torch.autograd.variable', 'torch.autograd.function', 'torch.autograd.gradcheck', 'torch.testing', 'torch.autograd.grad_mode', 'torch.autograd.anomaly_mode', 'torch.autograd.profiler', 'torch.nn._functions.thnn.auto_double_backwards', 'torch.nn._functions.thnn.auto_symbolic', 'torch.autograd._functions', 'torch.autograd._functions.tensor', 'torch.autograd._functions.utils', 'torch.nn._functions.thnn.normalization', 'torch.nn._functions.thnn.sparse', 'torch.nn.parameter', 'torch.nn.modules.linear', 'torch.nn.functional', 'torch.nn._reduction', 'torch._jit_internal', 'torch.nn.modules.utils', 'torch.nn._functions.vision', 'torch.backends', 'torch.backends.cudnn', 'torch.nn.grad', 'torch.nn._VF', 'torch.nn.init', 'torch.nn.modules.conv', 'torch.nn.modules.activation', 'torch.nn.modules.loss', 'torch.nn.modules.container', 'torch.nn.modules.pooling', 'torch.nn.modules.batchnorm', 'torch.nn.modules._functions', 'torch.nn.modules.instancenorm', 'torch.nn.modules.normalization', 'torch.nn.modules.dropout', 'torch.nn.modules.padding', 'torch.nn.modules.sparse', 'torch.nn.modules.rnn', 'torch.nn.utils', 'torch.nn.utils.rnn', 'torch.nn.utils.clip_grad', 'torch.nn.utils.weight_norm', 'torch.nn.utils.convert_parameters', 'torch.nn.utils.spectral_norm', 'torch.nn.modules.pixelshuffle', 'torch.nn.modules.upsampling', 'torch.nn.modules.distance', 'torch.nn.modules.fold', 'torch.nn.modules.adaptive', 'torch.nn.parallel', 'torch.nn.parallel.parallel_apply', 'torch.nn.parallel.replicate', 'torch.cuda.comm', 'torch.cuda.nccl', 'torch.nn.parallel.data_parallel', 'torch.nn.parallel.scatter_gather', 'torch.nn.parallel._functions', 'torch.nn.parallel.distributed', 'torch.distributed', 'torch.nn.parallel.distributed_cpu', 'torch.nn.parallel.deprecated', 'torch.nn.parallel.deprecated.distributed', 'torch.distributed.deprecated', 'torch.nn.parallel.deprecated.distributed_cpu', 'torch.optim', 'torch.optim.adadelta', 'torch.optim.optimizer', 'torch.optim.adagrad', 'torch.optim.adam', 'torch.optim.sparse_adam', 'torch.optim.adamax', 'torch.optim.asgd', 'torch.optim.sgd', 'torch.optim.rprop', 'torch.optim.rmsprop', 'torch.optim.lbfgs', 'torch.optim.lr_scheduler', 'torch.multiprocessing', 'torch.multiprocessing.reductions', 'multiprocessing.resource_sharer', 'torch.multiprocessing.spawn', 'multiprocessing.connection', '_multiprocessing', 'torch.utils.backcompat', 'torch.onnx', 'torch.jit', 'torch.jit.frontend', 'torch.jit.annotations', 'torch.hub', 'tqdm', 'tqdm._tqdm', 'tqdm._utils', 'tqdm._monitor', 'tqdm._tqdm_gui', 'tqdm._tqdm_pandas', 'tqdm._main', 'tqdm._version', 'torch.distributions', 'torch.distributions.bernoulli', 'torch.distributions.constraints', 'torch.distributions.exp_family', 'torch.distributions.distribution', 'torch.distributions.utils', 'torch.distributions.beta', 'torch.distributions.dirichlet', 'torch.distributions.binomial', 'torch.distributions.categorical', 'torch.distributions.cauchy', 'torch.distributions.chi2', 'torch.distributions.gamma', 'torch.distributions.constraint_registry', 'torch.distributions.transforms', 'torch.distributions.exponential', 'torch.distributions.fishersnedecor', 'torch.distributions.geometric', 'torch.distributions.gumbel', 'torch.distributions.uniform', 'torch.distributions.transformed_distribution', 'torch.distributions.half_cauchy', 'torch.distributions.half_normal', 'torch.distributions.normal', 'torch.distributions.independent', 'torch.distributions.kl', 'torch.distributions.laplace', 'torch.distributions.lowrank_multivariate_normal', 'torch.distributions.multivariate_normal', 'torch.distributions.one_hot_categorical', 'torch.distributions.pareto', 'torch.distributions.poisson', 'torch.distributions.log_normal', 'torch.distributions.logistic_normal', 'torch.distributions.multinomial', 'torch.distributions.negative_binomial', 'torch.distributions.relaxed_bernoulli', 'torch.distributions.relaxed_categorical', 'torch.distributions.studentT', 'torch.distributions.weibull', 'torch.backends.cuda', 'torch.backends.mkl', 'torch.backends.openmp', 'torch.__config__', 'torch._torch_docs', 'torch._tensor_docs', 'torch._storage_docs', 'torch._ops', 'torch.quasirandom', 'pykeen.utilities.pipeline', 'rdflib', 'rdflib.term', 'isodate', 'isodate.isodates', 'isodate.isostrf', 'isodate.duration', 'isodate.isotzinfo', 'isodate.isoerror', 'isodate.tzinfo', 'isodate.isotime', 'isodate.isodatetime', 'isodate.isoduration', 'rdflib.py3compat', 'rdflib.compat', 'xml.etree', 'xml.etree.cElementTree', 'xml.etree.ElementTree', 'xml.etree.ElementPath', '_elementtree', 'rdflib.namespace', 'rdflib.graph', 'rdflib.plugin', 'rdflib.store', 'rdflib.events', 'rdflib.parser', 'xml.sax', 'xml.sax.xmlreader', 'xml.sax.handler', 'xml.sax._exceptions', 'rdflib.serializer', 'rdflib.query', 'rdflib.exceptions', 'rdflib.paths', 'rdflib.resource', 'rdflib.collection', 'rdflib.util', 'sklearn', 'sklearn._config', 'sklearn.__check_build', 'sklearn.__check_build._check_build', 'sklearn.base', 'sklearn.utils', 'scipy', 'scipy._distributor_init', 'scipy.__config__', 'scipy.version', 'scipy._lib', 'scipy._lib._testutils', 'scipy._lib._version', 'scipy._lib.six', 'scipy._lib._ccallback', 'scipy._lib._ccallback_c', 'scipy.sparse', 'scipy.sparse.base', 'scipy._lib._numpy_compat', 'scipy.sparse.sputils', 'scipy.sparse.csr', 'scipy.sparse._sparsetools', 'scipy.sparse.compressed', 'scipy._lib._util', 'scipy.sparse.data', 'scipy.sparse.dia', 'scipy.sparse._index', 'scipy.sparse.csc', 'scipy.sparse.lil', 'scipy.sparse._csparsetools', 'scipy.sparse.dok', 'scipy.sparse.coo', 'scipy.sparse.bsr', 'scipy.sparse.construct', 'scipy.sparse.extract', 'scipy.sparse._matrix_io', 'scipy.sparse.csgraph', 'scipy.sparse.csgraph._laplacian', 'scipy.sparse.csgraph._shortest_path', 'scipy.sparse.csgraph._validation', 'scipy.sparse.csgraph._tools', 'scipy.sparse.csgraph._traversal', 'scipy.sparse.csgraph._min_spanning_tree', 'scipy.sparse.csgraph._reordering', 'sklearn.utils.murmurhash', 'sklearn.utils.class_weight', 'sklearn.utils._joblib', 'joblib', 'joblib.memory', 'joblib.hashing', 'joblib._compat', 'joblib.func_inspect', 'joblib.logger', 'joblib.disk', 'joblib._memory_helpers', 'joblib._store_backends', 'joblib.backports', 'distutils', 'distutils.version', 'joblib.numpy_pickle', 'joblib.compressor', 'joblib.numpy_pickle_utils', 'joblib.numpy_pickle_compat', 'joblib.parallel', 'joblib._multiprocessing_helpers', 'multiprocessing.synchronize', 'joblib.format_stack', 'joblib.my_exceptions', 'joblib._parallel_backends', 'joblib.pool', 'joblib._memmapping_reducer', 'mmap', 'multiprocessing.pool', 'joblib.executor', 'joblib.externals', 'joblib.externals.loky', 'joblib.externals.loky._base', 'joblib.externals.loky.backend', 'joblib.externals.loky.backend.context', 'joblib.externals.loky.backend.process', 'joblib.externals.loky.backend.compat', 'joblib.externals.loky.backend.compat_win32', 'multiprocessing.popen_spawn_win32', 'multiprocessing.spawn', 'joblib.externals.loky.backend.reduction', 'joblib.externals.loky.backend._win_reduction', 'joblib.externals.cloudpickle', 'joblib.externals.cloudpickle.cloudpickle', 'joblib.externals.loky.reusable_executor', 'joblib.externals.loky.process_executor', 'joblib.externals.loky.backend.queues', 'multiprocessing.queues', 'joblib.externals.loky.backend.utils', 'concurrent.futures.process', 'joblib.externals.loky.cloudpickle_wrapper', 'sklearn.exceptions', 'sklearn.utils.deprecation', 'sklearn.utils.validation', 'sklearn.utils.fixes', 'scipy.sparse.linalg', 'scipy.sparse.linalg.isolve', 'scipy.sparse.linalg.isolve.iterative', 'scipy.sparse.linalg.isolve._iterative', 'scipy.sparse.linalg.interface', 'scipy.sparse.linalg.isolve.utils', 'scipy._lib._threadsafety', 'scipy._lib.decorator', 'scipy.sparse.linalg.isolve.minres', 'scipy.sparse.linalg.isolve.lgmres', 'scipy.linalg', 'scipy.linalg.linalg_version', 'scipy.linalg.misc', 'scipy.linalg.blas', 'scipy.linalg._fblas', 'scipy.linalg.lapack', 'scipy.linalg._flapack', 'scipy.linalg.basic', 'scipy.linalg.flinalg', 'scipy.linalg._flinalg', 'scipy.linalg.decomp', 'scipy.linalg.decomp_svd', 'scipy.linalg._solve_toeplitz', 'scipy.linalg.decomp_lu', 'scipy.linalg._decomp_ldl', 'scipy.linalg.decomp_cholesky', 'scipy.linalg.decomp_qr', 'scipy.linalg._decomp_qz', 'scipy.linalg.decomp_schur', 'scipy.linalg._decomp_polar', 'scipy.linalg.matfuncs', 'scipy.linalg.special_matrices', 'scipy.linalg._expm_frechet', 'scipy.linalg._matfuncs_sqrtm', 'scipy.linalg._solvers', 'scipy.linalg._procrustes', 'scipy.linalg._decomp_update', 'scipy.linalg.cython_blas', 'scipy.linalg.cython_lapack', 'scipy.linalg._sketches', 'numpy.dual', 'scipy.sparse.linalg.isolve._gcrotmk', 'scipy.sparse.linalg.isolve.lsqr', 'scipy.sparse.linalg.isolve.lsmr', 'scipy.sparse.linalg.dsolve', 'scipy.sparse.linalg.dsolve.linsolve', 'scipy.sparse.linalg.dsolve._superlu', 'scipy.sparse.linalg.dsolve._add_newdocs', 'scipy.sparse.linalg.eigen', 'scipy.sparse.linalg.eigen.arpack', 'scipy.sparse.linalg.eigen.arpack.arpack', 'scipy.sparse.linalg.eigen.arpack._arpack', 'scipy.sparse.linalg.eigen.lobpcg', 'scipy.sparse.linalg.eigen.lobpcg.lobpcg', 'scipy.sparse.linalg.matfuncs', 'scipy.special', 'scipy.special.sf_error', 'scipy.special._ufuncs', 'scipy.special._ufuncs_cxx', 'scipy.special.basic', 'scipy.special.specfun', 'scipy.special.orthogonal', 'scipy.special._comb', 'scipy.special._logsumexp', 'scipy.special.spfun_stats', 'scipy.special._ellip_harm', 'scipy.special._ellip_harm_2', 'scipy.special.lambertw', 'scipy.special._spherical_bessel', 'scipy.sparse.linalg._onenormest', 'scipy.sparse.linalg._norm', 'scipy.sparse.linalg._expm_multiply', 'sklearn.utils._show_versions', 'sklearn.model_selection', 'sklearn.model_selection._split', 'sklearn.utils.multiclass', 'sklearn.model_selection._validation', 'sklearn.utils.metaestimators', 'sklearn.metrics', 'sklearn.metrics.ranking', 'scipy.stats', 'scipy.stats.stats', 'scipy.stats.distributions', 'scipy.stats._distn_infrastructure', 'scipy._lib.doccer', 'scipy.stats._distr_params', 'scipy.optimize', 'scipy.optimize.optimize', 'scipy.optimize.linesearch', 'scipy.optimize.minpack2', 'scipy.optimize._minimize', 'scipy.optimize._trustregion_dogleg', 'scipy.optimize._trustregion', 'scipy.optimize._trustregion_ncg', 'scipy.optimize._trustregion_krylov', 'scipy.optimize._trlib', 'scipy.optimize._trlib._trlib', 'scipy._lib.messagestream', 'scipy.optimize._trustregion_exact', 'scipy.optimize._trustregion_constr', 'scipy.optimize._trustregion_constr.minimize_trustregion_constr', 'scipy.optimize._differentiable_functions', 'scipy.optimize._numdiff', 'scipy.optimize._group_columns', 'scipy.optimize._hessian_update_strategy', 'scipy.optimize._constraints', 'scipy.optimize._trustregion_constr.equality_constrained_sqp', 'scipy.optimize._trustregion_constr.projections', 'scipy.optimize._trustregion_constr.qp_subproblem', 'scipy.optimize._trustregion_constr.canonical_constraint', 'scipy.optimize._trustregion_constr.tr_interior_point', 'scipy.optimize._trustregion_constr.report', 'scipy.optimize.lbfgsb', 'scipy.optimize._lbfgsb', 'scipy.optimize.tnc', 'scipy.optimize.moduleTNC', 'scipy.optimize.cobyla', 'scipy.optimize._cobyla', 'scipy.optimize.slsqp', 'scipy.optimize._slsqp', 'scipy.optimize._root', 'scipy.optimize.minpack', 'scipy.optimize._minpack', 'scipy.optimize._lsq', 'scipy.optimize._lsq.least_squares', 'scipy.optimize._lsq.trf', 'scipy.optimize._lsq.common', 'scipy.optimize._lsq.dogbox', 'scipy.optimize._lsq.lsq_linear', 'scipy.optimize._lsq.trf_linear', 'scipy.optimize._lsq.givens_elimination', 'scipy.optimize._lsq.bvls', 'scipy.optimize._spectral', 'scipy.optimize.nonlin', 'scipy.optimize._root_scalar', 'scipy.optimize.zeros', 'scipy.optimize._zeros', 'scipy.optimize.nnls', 'scipy.optimize._nnls', 'scipy.optimize._basinhopping', 'scipy.optimize._linprog', 'scipy.optimize._linprog_ip', 'scipy.optimize._linprog_util', 'scipy.optimize._remove_redundancy', 'scipy.optimize._linprog_simplex', 'scipy.optimize._linprog_rs', 'scipy.optimize._bglu_dense', 'scipy.optimize._hungarian', 'scipy.optimize._differentialevolution', 'scipy.optimize._shgo', 'scipy.spatial', 'scipy.spatial.kdtree', 'scipy.spatial.ckdtree', 'scipy.spatial.qhull', 'scipy.spatial._spherical_voronoi', 'scipy.spatial._voronoi', 'scipy.spatial.distance', 'scipy.spatial._distance_wrap', 'scipy.spatial._hausdorff', 'scipy.spatial._plotutils', 'scipy.spatial._procrustes', 'scipy.spatial.transform', 'scipy.spatial.transform.rotation', 'scipy.spatial.transform._rotation_spline', 'scipy.optimize._shgo_lib', 'scipy.optimize._shgo_lib.sobol_seq', 'scipy.optimize._shgo_lib.triangulation', 'scipy.optimize._dual_annealing', 'scipy.integrate', 'scipy.integrate.quadrature', 'scipy.integrate.odepack', 'scipy.integrate._odepack', 'scipy.integrate.quadpack', 'scipy.integrate._quadpack', 'scipy.integrate._ode', 'scipy.integrate.vode', 'scipy.integrate._dop', 'scipy.integrate.lsoda', 'scipy.integrate._bvp', 'scipy.integrate._ivp', 'scipy.integrate._ivp.ivp', 'scipy.integrate._ivp.bdf', 'scipy.integrate._ivp.common', 'scipy.integrate._ivp.base', 'scipy.integrate._ivp.radau', 'scipy.integrate._ivp.rk', 'scipy.integrate._ivp.lsoda', 'scipy.misc', 'scipy.misc.doccer', 'scipy.misc.common', 'scipy.stats._constants', 'scipy.stats._continuous_distns', 'scipy.interpolate', 'scipy.interpolate.interpolate', 'scipy.interpolate.fitpack', 'scipy.interpolate._fitpack_impl', 'scipy.interpolate._fitpack', 'scipy.interpolate.dfitpack', 'scipy.interpolate._bsplines', 'scipy.interpolate._bspl', 'scipy.interpolate.polyint', 'scipy.interpolate._ppoly', 'scipy.interpolate.fitpack2', 'scipy.interpolate.interpnd', 'scipy.interpolate.rbf', 'scipy.interpolate._cubic', 'scipy.interpolate.ndgriddata', 'scipy.interpolate._pade', 'scipy.stats._stats', 'scipy.stats._tukeylambda_stats', 'scipy.stats._discrete_distns', 'scipy.stats.mstats_basic', 'scipy.stats._stats_mstats_common', 'scipy.stats._rvs_sampling', 'scipy.stats._hypotests', 'scipy.stats.morestats', 'scipy.stats.statlib', 'scipy.stats.contingency', 'scipy.stats._binned_statistic', 'scipy.stats.kde', 'scipy.stats.mvn', 'scipy.stats.mstats', 'scipy.stats.mstats_extras', 'scipy.stats._multivariate', 'sklearn.utils.extmath', 'sklearn.utils._logistic_sigmoid', 'sklearn.utils.sparsefuncs_fast', 'sklearn.utils.sparsefuncs', 'sklearn.preprocessing', 'sklearn.preprocessing._function_transformer', 'sklearn.utils.testing', 'scipy.io', 'scipy.io.matlab', 'scipy.io.matlab.mio', 'scipy.io.matlab.miobase', 'scipy.io.matlab.byteordercodes', 'scipy.io.matlab.mio4', 'scipy.io.matlab.mio_utils', 'scipy.io.matlab.mio5', 'scipy.io.matlab.mio5_utils', 'scipy.io.matlab.streams', 'scipy.io.matlab.mio5_params', 'scipy.io.netcdf', 'scipy.io._fortran', 'scipy.io.mmio', 'scipy.io.idl', 'scipy.io.harwell_boeing', 'scipy.io.harwell_boeing.hb', 'scipy.io.harwell_boeing._fortran_format_parser', 'sklearn.utils._unittest_backport', 'sklearn.preprocessing.data', 'sklearn.preprocessing._csr_polynomial_expansion', 'sklearn.preprocessing._encoders', 'sklearn.preprocessing.base', 'sklearn.preprocessing.label', 'sklearn.preprocessing._discretization', 'sklearn.preprocessing.imputation', 'sklearn.metrics.base', 'sklearn.metrics.classification', 'sklearn.metrics.cluster', 'sklearn.metrics.cluster.supervised', 'sklearn.metrics.cluster.expected_mutual_info_fast', 'sklearn.utils.lgamma', 'sklearn.metrics.cluster.unsupervised', 'sklearn.metrics.pairwise', 'sklearn.metrics.pairwise_fast', 'sklearn.utils._cython_blas', 'sklearn.metrics.cluster.bicluster', 'sklearn.metrics.regression', 'sklearn.metrics.scorer', 'sklearn.model_selection._search', 'sklearn.utils.random', 'sklearn.utils._random', 'pykeen.hpo', 'pykeen.hpo.random_search', 'pykeen.hpo.utils', 'pykeen.kge_models', 'pykeen.kge_models.conv_e', 'pykeen.kge_models.distmult', 'pykeen.kge_models.base', 'pykeen.kge_models.ermlp', 'pykeen.kge_models.rescal', 'pykeen.kge_models.structured_embedding', 'pykeen.kge_models.trans_e', 'pykeen.kge_models.trans_d', 'pykeen.kge_models.trans_h', 'pykeen.kge_models.trans_r', 'pykeen.kge_models.region', 'pykeen.kge_models.kg2e_kl', 'pykeen.kge_models.unstructured_model', 'pykeen.kge_models.utils', 'pykeen.utilities.evaluation_utils', 'pykeen.utilities.evaluation_utils.metrics_computations', 'pykeen.utilities.train_utils', 'pykeen.utilities.triples_creation_utils', 'pykeen.utilities.triples_creation_utils.data_transformation_utils', 'pykeen.utilities.triples_creation_utils.instance_creation_utils', 'matplotlib', 'matplotlib.cbook', 'gzip', 'matplotlib.cbook.deprecation', 'matplotlib.rcsetup', 'matplotlib.fontconfig_pattern', 'pyparsing', 'matplotlib.colors', 'matplotlib._color_data', 'cycler', 'matplotlib._version', 'kiwisolver']\n"
     ]
    },
    {
     "name": "stderr",
     "output_type": "stream",
     "text": [
      "DEBUG:matplotlib:CACHEDIR=C:\\Users\\aquam\\.matplotlib\n",
      "DEBUG:matplotlib.font_manager:Using fontManager instance from C:\\Users\\aquam\\.matplotlib\\fontlist-v310.json\n",
      "DEBUG:matplotlib.pyplot:Loaded backend module://ipykernel.pylab.backend_inline version unknown.\n",
      "DEBUG:matplotlib.pyplot:Loaded backend module://ipykernel.pylab.backend_inline version unknown.\n"
     ]
    }
   ],
   "source": [
    "import numpy as np\n",
    "import matplotlib.pyplot as plt"
   ]
  },
  {
   "cell_type": "code",
   "execution_count": 12,
   "metadata": {
    "ExecuteTime": {
     "end_time": "2019-06-21T16:23:18.979565Z",
     "start_time": "2019-06-21T16:23:18.971587Z"
    }
   },
   "outputs": [
    {
     "name": "stderr",
     "output_type": "stream",
     "text": [
      "DEBUG:matplotlib.pyplot:Loaded backend module://ipykernel.pylab.backend_inline version unknown.\n"
     ]
    }
   ],
   "source": [
    "%matplotlib inline"
   ]
  },
  {
   "cell_type": "code",
   "execution_count": 13,
   "metadata": {
    "ExecuteTime": {
     "end_time": "2019-06-21T17:01:14.209049Z",
     "start_time": "2019-06-21T16:23:18.982558Z"
    }
   },
   "outputs": [
    {
     "name": "stderr",
     "output_type": "stream",
     "text": [
      "DEBUG:pykeen.utilities.pipeline:Reading the label mappings...\n"
     ]
    },
    {
     "name": "stdout",
     "output_type": "stream",
     "text": [
      "{'metrics': [], 'training_set_path': 'D:/uni/master/data/FB15K/train.tsv', 'test_set_path': 'D:/uni/master/data/FB15K/valid_150.tsv', 'neg_test_set_path': 'D:/uni/master/data/FB15K/valid_neg.tsv', 'mapping_path': 'D:/uni/master/data/fb15k/', 'execution_mode': 'Training_mode', 'random_seed': 2, 'kg_embedding_model_name': 'kg2e', 'embedding_dim': 50, 'normalization_of_entities': 2, 'margin_loss': 1, 'energy_function': 'KL', 'covariance_min': 0.05, 'covariance_max': 5, 'neg_factor': 2, 'corrupt_relations': True, 'learning_rate': 0.01, 'num_epochs': 500, 'batch_size': 1440, 'test_batch_size': 4096, 'es_metric': 'custom', 'filter_negative_triples': False, 'preferred_device': 'gpu', 'pykeen-version': '0.0.26-dev', 'num_entities': 14951, 'num_relations': 1345}\n"
     ]
    },
    {
     "name": "stderr",
     "output_type": "stream",
     "text": [
      "C:\\Users\\aquam\\AppData\\Local\\conda\\conda\\envs\\pykeen\\lib\\site-packages\\torch\\nn\\_reduction.py:46: UserWarning: size_average and reduce args will be deprecated, please use reduction='sum' instead.\n",
      "  warnings.warn(warning.format(ret))\n",
      "INFO:pykeen.utilities.pipeline:-------------Train KG Embeddings-------------\n",
      "DEBUG:pykeen.utilities.train_utils:****running model on cuda:0****\n",
      "INFO:pykeen.utilities.evaluation_utils.metrics_computations:Evaluation took 13.83s seconds\n"
     ]
    },
    {
     "name": "stdout",
     "output_type": "stream",
     "text": [
      "0.026520213926725968 (0.020772122351724823, 0.03666666666666667)\n"
     ]
    },
    {
     "name": "stderr",
     "output_type": "stream",
     "text": [
      "DEBUG:pykeen.utilities.train_utils:Saving the following model to disk:\n",
      "INFO:pykeen.utilities.train_utils:Epoch   0 /  500 (18.9s):  loss: 0.900  val loss: 1.024  value: 0.027  patience:   1\n",
      "INFO:pykeen.utilities.train_utils:Epoch   1 /  500 (19.5s):  loss: 0.570  val loss: 0.916  value: 0.027  patience:   2\n",
      "INFO:pykeen.utilities.train_utils:Epoch   2 /  500 (20.0s):  loss: 0.497  val loss: 0.825  value: 0.027  patience:   3\n",
      "INFO:pykeen.utilities.train_utils:Epoch   3 /  500 (19.3s):  loss: 0.450  val loss: 0.778  value: 0.027  patience:   4\n",
      "INFO:pykeen.utilities.train_utils:Epoch   4 /  500 (19.5s):  loss: 0.418  val loss: 0.735  value: 0.027  patience:   5\n",
      "INFO:pykeen.utilities.train_utils:Epoch   5 /  500 (19.5s):  loss: 0.390  val loss: 0.696  value: 0.027  patience:   6\n",
      "INFO:pykeen.utilities.train_utils:Epoch   6 /  500 (19.5s):  loss: 0.367  val loss: 0.672  value: 0.027  patience:   7\n",
      "INFO:pykeen.utilities.train_utils:Epoch   7 /  500 (20.4s):  loss: 0.347  val loss: 0.644  value: 0.027  patience:   8\n",
      "INFO:pykeen.utilities.train_utils:Epoch   8 /  500 (19.8s):  loss: 0.327  val loss: 0.599  value: 0.027  patience:   9\n",
      "INFO:pykeen.utilities.train_utils:Epoch   9 /  500 (20.6s):  loss: 0.310  val loss: 0.578  value: 0.027  patience:  10\n",
      "INFO:pykeen.utilities.evaluation_utils.metrics_computations:Evaluation took 14.93s seconds\n"
     ]
    },
    {
     "name": "stdout",
     "output_type": "stream",
     "text": [
      "0.09901819955437259 (0.08428168677777191, 0.12)\n"
     ]
    },
    {
     "name": "stderr",
     "output_type": "stream",
     "text": [
      "DEBUG:pykeen.utilities.train_utils:Saving the following model to disk:\n",
      "INFO:pykeen.utilities.train_utils:Epoch  10 /  500 (20.2s):  loss: 0.296  val loss: 0.553  value: 0.099  patience:   1\n",
      "INFO:pykeen.utilities.train_utils:Epoch  11 /  500 (20.1s):  loss: 0.283  val loss: 0.536  value: 0.099  patience:   2\n",
      "INFO:pykeen.utilities.train_utils:Epoch  12 /  500 (20.1s):  loss: 0.269  val loss: 0.512  value: 0.099  patience:   3\n",
      "INFO:pykeen.utilities.train_utils:Epoch  13 /  500 (19.9s):  loss: 0.256  val loss: 0.482  value: 0.099  patience:   4\n",
      "INFO:pykeen.utilities.train_utils:Epoch  14 /  500 (20.0s):  loss: 0.245  val loss: 0.462  value: 0.099  patience:   5\n",
      "INFO:pykeen.utilities.train_utils:Epoch  15 /  500 (19.7s):  loss: 0.235  val loss: 0.453  value: 0.099  patience:   6\n",
      "INFO:pykeen.utilities.train_utils:Epoch  16 /  500 (19.5s):  loss: 0.224  val loss: 0.431  value: 0.099  patience:   7\n",
      "INFO:pykeen.utilities.train_utils:Epoch  17 /  500 (19.6s):  loss: 0.216  val loss: 0.425  value: 0.099  patience:   8\n",
      "INFO:pykeen.utilities.train_utils:Epoch  18 /  500 (19.8s):  loss: 0.208  val loss: 0.412  value: 0.099  patience:   9\n",
      "INFO:pykeen.utilities.train_utils:Epoch  19 /  500 (20.2s):  loss: 0.201  val loss: 0.393  value: 0.099  patience:  10\n",
      "INFO:pykeen.utilities.evaluation_utils.metrics_computations:Evaluation took 14.51s seconds\n"
     ]
    },
    {
     "name": "stdout",
     "output_type": "stream",
     "text": [
      "0.1129144700096754 (0.0946103818940512, 0.14)\n"
     ]
    },
    {
     "name": "stderr",
     "output_type": "stream",
     "text": [
      "DEBUG:pykeen.utilities.train_utils:Saving the following model to disk:\n",
      "INFO:pykeen.utilities.train_utils:Epoch  20 /  500 (19.4s):  loss: 0.193  val loss: 0.372  value: 0.113  patience:   1\n",
      "INFO:pykeen.utilities.train_utils:Epoch  21 /  500 (19.4s):  loss: 0.187  val loss: 0.368  value: 0.113  patience:   2\n",
      "INFO:pykeen.utilities.train_utils:Epoch  22 /  500 (19.7s):  loss: 0.180  val loss: 0.355  value: 0.113  patience:   3\n",
      "INFO:pykeen.utilities.train_utils:Epoch  23 /  500 (20.2s):  loss: 0.175  val loss: 0.344  value: 0.113  patience:   4\n",
      "INFO:pykeen.utilities.train_utils:Epoch  24 /  500 (22.1s):  loss: 0.169  val loss: 0.335  value: 0.113  patience:   5\n",
      "INFO:pykeen.utilities.train_utils:Epoch  25 /  500 (20.1s):  loss: 0.164  val loss: 0.327  value: 0.113  patience:   6\n",
      "INFO:pykeen.utilities.train_utils:Epoch  26 /  500 (19.9s):  loss: 0.159  val loss: 0.313  value: 0.113  patience:   7\n",
      "INFO:pykeen.utilities.train_utils:Epoch  27 /  500 (20.0s):  loss: 0.154  val loss: 0.305  value: 0.113  patience:   8\n",
      "INFO:pykeen.utilities.train_utils:Epoch  28 /  500 (19.9s):  loss: 0.151  val loss: 0.303  value: 0.113  patience:   9\n",
      "INFO:pykeen.utilities.train_utils:Epoch  29 /  500 (19.6s):  loss: 0.146  val loss: 0.296  value: 0.113  patience:  10\n",
      "INFO:pykeen.utilities.evaluation_utils.metrics_computations:Evaluation took 14.55s seconds\n"
     ]
    },
    {
     "name": "stdout",
     "output_type": "stream",
     "text": [
      "0.12850187467220317 (0.10455903234798401, 0.16666666666666666)\n"
     ]
    },
    {
     "name": "stderr",
     "output_type": "stream",
     "text": [
      "DEBUG:pykeen.utilities.train_utils:Saving the following model to disk:\n",
      "INFO:pykeen.utilities.train_utils:Epoch  30 /  500 (19.4s):  loss: 0.143  val loss: 0.295  value: 0.129  patience:   1\n",
      "INFO:pykeen.utilities.train_utils:Epoch  31 /  500 (19.6s):  loss: 0.139  val loss: 0.281  value: 0.129  patience:   2\n",
      "INFO:pykeen.utilities.train_utils:Epoch  32 /  500 (20.1s):  loss: 0.134  val loss: 0.288  value: 0.129  patience:   3\n",
      "INFO:pykeen.utilities.train_utils:Epoch  33 /  500 (20.2s):  loss: 0.132  val loss: 0.273  value: 0.129  patience:   4\n",
      "INFO:pykeen.utilities.train_utils:Epoch  34 /  500 (21.0s):  loss: 0.129  val loss: 0.268  value: 0.129  patience:   5\n",
      "INFO:pykeen.utilities.train_utils:Epoch  35 /  500 (19.8s):  loss: 0.125  val loss: 0.262  value: 0.129  patience:   6\n",
      "INFO:pykeen.utilities.train_utils:Epoch  36 /  500 (19.4s):  loss: 0.123  val loss: 0.263  value: 0.129  patience:   7\n",
      "INFO:pykeen.utilities.train_utils:Epoch  37 /  500 (20.5s):  loss: 0.120  val loss: 0.254  value: 0.129  patience:   8\n",
      "INFO:pykeen.utilities.train_utils:Epoch  38 /  500 (19.5s):  loss: 0.117  val loss: 0.253  value: 0.129  patience:   9\n",
      "INFO:pykeen.utilities.train_utils:Epoch  39 /  500 (19.3s):  loss: 0.115  val loss: 0.247  value: 0.129  patience:  10\n",
      "INFO:pykeen.utilities.evaluation_utils.metrics_computations:Evaluation took 14.52s seconds\n"
     ]
    },
    {
     "name": "stdout",
     "output_type": "stream",
     "text": [
      "0.1304710933936408 (0.1071918669474316, 0.16666666666666666)\n"
     ]
    },
    {
     "name": "stderr",
     "output_type": "stream",
     "text": [
      "DEBUG:pykeen.utilities.train_utils:Saving the following model to disk:\n",
      "INFO:pykeen.utilities.train_utils:Epoch  40 /  500 (19.4s):  loss: 0.113  val loss: 0.243  value: 0.130  patience:   1\n",
      "INFO:pykeen.utilities.train_utils:Epoch  41 /  500 (19.9s):  loss: 0.110  val loss: 0.239  value: 0.130  patience:   2\n",
      "INFO:pykeen.utilities.train_utils:Epoch  42 /  500 (20.4s):  loss: 0.108  val loss: 0.235  value: 0.130  patience:   3\n",
      "INFO:pykeen.utilities.train_utils:Epoch  43 /  500 (20.0s):  loss: 0.108  val loss: 0.225  value: 0.130  patience:   4\n",
      "INFO:pykeen.utilities.train_utils:Epoch  44 /  500 (20.4s):  loss: 0.105  val loss: 0.222  value: 0.130  patience:   5\n",
      "INFO:pykeen.utilities.train_utils:Epoch  45 /  500 (19.6s):  loss: 0.104  val loss: 0.226  value: 0.130  patience:   6\n",
      "INFO:pykeen.utilities.train_utils:Epoch  46 /  500 (19.7s):  loss: 0.102  val loss: 0.219  value: 0.130  patience:   7\n",
      "INFO:pykeen.utilities.train_utils:Epoch  47 /  500 (20.3s):  loss: 0.101  val loss: 0.212  value: 0.130  patience:   8\n",
      "INFO:pykeen.utilities.train_utils:Epoch  48 /  500 (20.4s):  loss: 0.098  val loss: 0.203  value: 0.130  patience:   9\n",
      "INFO:pykeen.utilities.train_utils:Epoch  49 /  500 (21.2s):  loss: 0.096  val loss: 0.197  value: 0.130  patience:  10\n",
      "INFO:pykeen.utilities.evaluation_utils.metrics_computations:Evaluation took 14.98s seconds\n"
     ]
    },
    {
     "name": "stdout",
     "output_type": "stream",
     "text": [
      "0.13679464555841453 (0.1129787180377019, 0.17333333333333334)\n"
     ]
    },
    {
     "name": "stderr",
     "output_type": "stream",
     "text": [
      "DEBUG:pykeen.utilities.train_utils:Saving the following model to disk:\n",
      "INFO:pykeen.utilities.train_utils:Epoch  50 /  500 (19.5s):  loss: 0.094  val loss: 0.194  value: 0.137  patience:   1\n",
      "INFO:pykeen.utilities.evaluation_utils.metrics_computations:Evaluation took 14.63s seconds\n"
     ]
    },
    {
     "name": "stdout",
     "output_type": "stream",
     "text": [
      "0.1324246106254208 (0.10713862441020411, 0.17333333333333334)\n"
     ]
    },
    {
     "name": "stderr",
     "output_type": "stream",
     "text": [
      "INFO:pykeen.utilities.train_utils:Epoch  51 /  500 (21.1s):  loss: 0.092  val loss: 0.190  value: 0.132  patience:   2\n",
      "INFO:pykeen.utilities.evaluation_utils.metrics_computations:Evaluation took 14.78s seconds\n"
     ]
    },
    {
     "name": "stdout",
     "output_type": "stream",
     "text": [
      "0.13542140445927722 (0.10978952939729288, 0.17666666666666667)\n"
     ]
    },
    {
     "name": "stderr",
     "output_type": "stream",
     "text": [
      "INFO:pykeen.utilities.train_utils:Epoch  52 /  500 (20.6s):  loss: 0.091  val loss: 0.187  value: 0.135  patience:   3\n",
      "INFO:pykeen.utilities.evaluation_utils.metrics_computations:Evaluation took 15.55s seconds\n"
     ]
    },
    {
     "name": "stdout",
     "output_type": "stream",
     "text": [
      "0.13597742764338888 (0.10925656606088734, 0.18)\n"
     ]
    },
    {
     "name": "stderr",
     "output_type": "stream",
     "text": [
      "INFO:pykeen.utilities.train_utils:Epoch  53 /  500 (21.5s):  loss: 0.089  val loss: 0.181  value: 0.136  patience:   4\n",
      "INFO:pykeen.utilities.evaluation_utils.metrics_computations:Evaluation took 14.54s seconds\n"
     ]
    },
    {
     "name": "stdout",
     "output_type": "stream",
     "text": [
      "0.1340365377248717 (0.10926485342381023, 0.17333333333333334)\n"
     ]
    },
    {
     "name": "stderr",
     "output_type": "stream",
     "text": [
      "INFO:pykeen.utilities.train_utils:Epoch  54 /  500 (22.0s):  loss: 0.087  val loss: 0.179  value: 0.134  patience:   5\n",
      "INFO:pykeen.utilities.train_utils:Epoch  55 /  500 (19.5s):  loss: 0.088  val loss: 0.191  value: 0.134  patience:   6\n",
      "INFO:pykeen.utilities.train_utils:Epoch  56 /  500 (19.5s):  loss: 0.086  val loss: 0.186  value: 0.134  patience:   7\n",
      "INFO:pykeen.utilities.train_utils:Epoch  57 /  500 (19.4s):  loss: 0.085  val loss: 0.181  value: 0.134  patience:   8\n",
      "INFO:pykeen.utilities.evaluation_utils.metrics_computations:Evaluation took 14.45s seconds\n"
     ]
    },
    {
     "name": "stdout",
     "output_type": "stream",
     "text": [
      "0.1362059602694733 (0.11082459406839978, 0.17666666666666667)\n"
     ]
    },
    {
     "name": "stderr",
     "output_type": "stream",
     "text": [
      "INFO:pykeen.utilities.train_utils:Epoch  58 /  500 (19.8s):  loss: 0.084  val loss: 0.166  value: 0.136  patience:   9\n",
      "INFO:pykeen.utilities.train_utils:Epoch  59 /  500 (20.0s):  loss: 0.083  val loss: 0.174  value: 0.136  patience:  10\n",
      "INFO:pykeen.utilities.evaluation_utils.metrics_computations:Evaluation took 14.91s seconds\n"
     ]
    },
    {
     "name": "stdout",
     "output_type": "stream",
     "text": [
      "0.13813269199140465 (0.1120664634263719, 0.18)\n"
     ]
    },
    {
     "name": "stderr",
     "output_type": "stream",
     "text": [
      "DEBUG:pykeen.utilities.train_utils:Saving the following model to disk:\n",
      "INFO:pykeen.utilities.train_utils:Epoch  60 /  500 (21.9s):  loss: 0.082  val loss: 0.164  value: 0.138  patience:   1\n",
      "INFO:pykeen.utilities.evaluation_utils.metrics_computations:Evaluation took 14.80s seconds\n"
     ]
    },
    {
     "name": "stdout",
     "output_type": "stream",
     "text": [
      "0.14220762594365494 (0.11615214074554857, 0.18333333333333332)\n"
     ]
    },
    {
     "name": "stderr",
     "output_type": "stream",
     "text": [
      "DEBUG:pykeen.utilities.train_utils:Saving the following model to disk:\n",
      "INFO:pykeen.utilities.train_utils:Epoch  61 /  500 (21.3s):  loss: 0.081  val loss: 0.161  value: 0.142  patience:   1\n",
      "INFO:pykeen.utilities.train_utils:Epoch  62 /  500 (20.0s):  loss: 0.080  val loss: 0.191  value: 0.142  patience:   2\n",
      "INFO:pykeen.utilities.train_utils:Epoch  63 /  500 (19.7s):  loss: 0.080  val loss: 0.185  value: 0.142  patience:   3\n",
      "INFO:pykeen.utilities.train_utils:Epoch  64 /  500 (19.6s):  loss: 0.079  val loss: 0.183  value: 0.142  patience:   4\n",
      "INFO:pykeen.utilities.evaluation_utils.metrics_computations:Evaluation took 15.06s seconds\n"
     ]
    },
    {
     "name": "stdout",
     "output_type": "stream",
     "text": [
      "0.13692552543485584 (0.1131573786747473, 0.17333333333333334)\n"
     ]
    },
    {
     "name": "stderr",
     "output_type": "stream",
     "text": [
      "INFO:pykeen.utilities.train_utils:Epoch  65 /  500 (19.9s):  loss: 0.077  val loss: 0.153  value: 0.137  patience:   5\n",
      "INFO:pykeen.utilities.evaluation_utils.metrics_computations:Evaluation took 14.60s seconds\n"
     ]
    },
    {
     "name": "stdout",
     "output_type": "stream",
     "text": [
      "0.14015139349599273 (0.11343350839557677, 0.18333333333333332)\n"
     ]
    },
    {
     "name": "stderr",
     "output_type": "stream",
     "text": [
      "INFO:pykeen.utilities.train_utils:Epoch  66 /  500 (19.6s):  loss: 0.076  val loss: 0.149  value: 0.140  patience:   6\n",
      "INFO:pykeen.utilities.evaluation_utils.metrics_computations:Evaluation took 14.58s seconds\n"
     ]
    },
    {
     "name": "stdout",
     "output_type": "stream",
     "text": [
      "0.14139228074434337 (0.1137928169435106, 0.18666666666666668)\n"
     ]
    },
    {
     "name": "stderr",
     "output_type": "stream",
     "text": [
      "INFO:pykeen.utilities.train_utils:Epoch  67 /  500 (20.0s):  loss: 0.074  val loss: 0.147  value: 0.141  patience:   7\n",
      "INFO:pykeen.utilities.evaluation_utils.metrics_computations:Evaluation took 14.99s seconds\n"
     ]
    },
    {
     "name": "stdout",
     "output_type": "stream",
     "text": [
      "0.14172542252807083 (0.11301176384839373, 0.19)\n"
     ]
    },
    {
     "name": "stderr",
     "output_type": "stream",
     "text": [
      "INFO:pykeen.utilities.train_utils:Epoch  68 /  500 (20.2s):  loss: 0.072  val loss: 0.146  value: 0.142  patience:   8\n",
      "INFO:pykeen.utilities.evaluation_utils.metrics_computations:Evaluation took 14.65s seconds\n"
     ]
    },
    {
     "name": "stdout",
     "output_type": "stream",
     "text": [
      "0.13953040128736405 (0.11391807477484225, 0.18)\n"
     ]
    },
    {
     "name": "stderr",
     "output_type": "stream",
     "text": [
      "INFO:pykeen.utilities.train_utils:Epoch  69 /  500 (20.2s):  loss: 0.071  val loss: 0.140  value: 0.140  patience:   9\n",
      "INFO:pykeen.utilities.evaluation_utils.metrics_computations:Evaluation took 14.58s seconds\n"
     ]
    },
    {
     "name": "stdout",
     "output_type": "stream",
     "text": [
      "0.14239790370245753 (0.11640623509220868, 0.18333333333333332)\n"
     ]
    },
    {
     "name": "stderr",
     "output_type": "stream",
     "text": [
      "DEBUG:pykeen.utilities.train_utils:Saving the following model to disk:\n",
      "INFO:pykeen.utilities.train_utils:Epoch  70 /  500 (19.5s):  loss: 0.072  val loss: 0.139  value: 0.142  patience:   1\n",
      "INFO:pykeen.utilities.train_utils:Epoch  71 /  500 (20.3s):  loss: 0.070  val loss: 0.143  value: 0.142  patience:   2\n",
      "INFO:pykeen.utilities.evaluation_utils.metrics_computations:Evaluation took 14.85s seconds\n"
     ]
    },
    {
     "name": "stdout",
     "output_type": "stream",
     "text": [
      "0.1445087570153121 (0.11788492481988333, 0.18666666666666668)\n"
     ]
    },
    {
     "name": "stderr",
     "output_type": "stream",
     "text": [
      "DEBUG:pykeen.utilities.train_utils:Saving the following model to disk:\n",
      "INFO:pykeen.utilities.train_utils:Epoch  72 /  500 (19.8s):  loss: 0.071  val loss: 0.133  value: 0.145  patience:   1\n",
      "INFO:pykeen.utilities.evaluation_utils.metrics_computations:Evaluation took 14.61s seconds\n"
     ]
    },
    {
     "name": "stdout",
     "output_type": "stream",
     "text": [
      "0.14455957443685144 (0.11932346860555787, 0.18333333333333332)\n"
     ]
    },
    {
     "name": "stderr",
     "output_type": "stream",
     "text": [
      "DEBUG:pykeen.utilities.train_utils:Saving the following model to disk:\n",
      "INFO:pykeen.utilities.train_utils:Epoch  73 /  500 (19.7s):  loss: 0.070  val loss: 0.127  value: 0.145  patience:   1\n",
      "INFO:pykeen.utilities.evaluation_utils.metrics_computations:Evaluation took 14.80s seconds\n"
     ]
    },
    {
     "name": "stdout",
     "output_type": "stream",
     "text": [
      "0.14805419140090129 (0.11995940407401799, 0.19333333333333333)\n"
     ]
    },
    {
     "name": "stderr",
     "output_type": "stream",
     "text": [
      "DEBUG:pykeen.utilities.train_utils:Saving the following model to disk:\n",
      "INFO:pykeen.utilities.train_utils:Epoch  74 /  500 (20.0s):  loss: 0.069  val loss: 0.125  value: 0.148  patience:   1\n",
      "INFO:pykeen.utilities.evaluation_utils.metrics_computations:Evaluation took 15.30s seconds\n"
     ]
    },
    {
     "name": "stdout",
     "output_type": "stream",
     "text": [
      "0.1454849567435033 (0.11786937587211636, 0.19)\n"
     ]
    },
    {
     "name": "stderr",
     "output_type": "stream",
     "text": [
      "INFO:pykeen.utilities.train_utils:Epoch  75 /  500 (20.5s):  loss: 0.067  val loss: 0.123  value: 0.145  patience:   2\n",
      "INFO:pykeen.utilities.train_utils:Epoch  76 /  500 (19.9s):  loss: 0.067  val loss: 0.132  value: 0.145  patience:   3\n",
      "INFO:pykeen.utilities.train_utils:Epoch  77 /  500 (20.2s):  loss: 0.067  val loss: 0.125  value: 0.145  patience:   4\n",
      "INFO:pykeen.utilities.train_utils:Epoch  78 /  500 (19.8s):  loss: 0.067  val loss: 0.129  value: 0.145  patience:   5\n",
      "INFO:pykeen.utilities.train_utils:Epoch  79 /  500 (19.8s):  loss: 0.066  val loss: 0.124  value: 0.145  patience:   6\n",
      "INFO:pykeen.utilities.evaluation_utils.metrics_computations:Evaluation took 14.80s seconds\n"
     ]
    },
    {
     "name": "stdout",
     "output_type": "stream",
     "text": [
      "0.14863478289119214 (0.12072356681735966, 0.19333333333333333)\n"
     ]
    },
    {
     "name": "stderr",
     "output_type": "stream",
     "text": [
      "DEBUG:pykeen.utilities.train_utils:Saving the following model to disk:\n",
      "INFO:pykeen.utilities.train_utils:Epoch  80 /  500 (19.7s):  loss: 0.065  val loss: 0.122  value: 0.149  patience:   1\n",
      "INFO:pykeen.utilities.evaluation_utils.metrics_computations:Evaluation took 14.60s seconds\n"
     ]
    },
    {
     "name": "stdout",
     "output_type": "stream",
     "text": [
      "0.145305560739191 (0.11639161289730808, 0.19333333333333333)\n"
     ]
    },
    {
     "name": "stderr",
     "output_type": "stream",
     "text": [
      "INFO:pykeen.utilities.train_utils:Epoch  81 /  500 (19.8s):  loss: 0.065  val loss: 0.120  value: 0.145  patience:   2\n",
      "INFO:pykeen.utilities.evaluation_utils.metrics_computations:Evaluation took 14.44s seconds\n"
     ]
    },
    {
     "name": "stdout",
     "output_type": "stream",
     "text": [
      "0.1511448059938099 (0.1227355626846478, 0.19666666666666666)\n"
     ]
    },
    {
     "name": "stderr",
     "output_type": "stream",
     "text": [
      "DEBUG:pykeen.utilities.train_utils:Saving the following model to disk:\n",
      "INFO:pykeen.utilities.train_utils:Epoch  82 /  500 (19.6s):  loss: 0.064  val loss: 0.116  value: 0.151  patience:   1\n",
      "INFO:pykeen.utilities.train_utils:Epoch  83 /  500 (19.5s):  loss: 0.064  val loss: 0.126  value: 0.151  patience:   2\n",
      "INFO:pykeen.utilities.train_utils:Epoch  84 /  500 (19.3s):  loss: 0.063  val loss: 0.117  value: 0.151  patience:   3\n",
      "INFO:pykeen.utilities.evaluation_utils.metrics_computations:Evaluation took 14.71s seconds\n"
     ]
    },
    {
     "name": "stdout",
     "output_type": "stream",
     "text": [
      "0.15186003945537482 (0.1236816182855042, 0.19666666666666666)\n"
     ]
    },
    {
     "name": "stderr",
     "output_type": "stream",
     "text": [
      "DEBUG:pykeen.utilities.train_utils:Saving the following model to disk:\n",
      "INFO:pykeen.utilities.train_utils:Epoch  85 /  500 (19.3s):  loss: 0.062  val loss: 0.113  value: 0.152  patience:   1\n",
      "INFO:pykeen.utilities.train_utils:Epoch  86 /  500 (20.2s):  loss: 0.061  val loss: 0.117  value: 0.152  patience:   2\n",
      "INFO:pykeen.utilities.train_utils:Epoch  87 /  500 (19.5s):  loss: 0.061  val loss: 0.116  value: 0.152  patience:   3\n",
      "INFO:pykeen.utilities.train_utils:Epoch  88 /  500 (19.5s):  loss: 0.061  val loss: 0.114  value: 0.152  patience:   4\n",
      "INFO:pykeen.utilities.train_utils:Epoch  89 /  500 (19.4s):  loss: 0.061  val loss: 0.136  value: 0.152  patience:   5\n",
      "INFO:pykeen.utilities.evaluation_utils.metrics_computations:Evaluation took 14.63s seconds\n"
     ]
    },
    {
     "name": "stdout",
     "output_type": "stream",
     "text": [
      "0.1483571297068074 (0.12168669214215729, 0.19)\n"
     ]
    },
    {
     "name": "stderr",
     "output_type": "stream",
     "text": [
      "INFO:pykeen.utilities.train_utils:Epoch  90 /  500 (19.5s):  loss: 0.061  val loss: 0.106  value: 0.148  patience:   6\n",
      "INFO:pykeen.utilities.train_utils:Epoch  91 /  500 (19.5s):  loss: 0.061  val loss: 0.107  value: 0.148  patience:   7\n"
     ]
    },
    {
     "ename": "KeyboardInterrupt",
     "evalue": "",
     "output_type": "error",
     "traceback": [
      "\u001b[1;31m---------------------------------------------------------------------------\u001b[0m",
      "\u001b[1;31mKeyboardInterrupt\u001b[0m                         Traceback (most recent call last)",
      "\u001b[1;32m<ipython-input-13-c7a83f0f10a4>\u001b[0m in \u001b[0;36m<module>\u001b[1;34m\u001b[0m\n\u001b[0;32m      1\u001b[0m results = pykeen.run(\n\u001b[0;32m      2\u001b[0m     \u001b[0mconfig\u001b[0m\u001b[1;33m=\u001b[0m\u001b[0mconfig\u001b[0m\u001b[1;33m,\u001b[0m\u001b[1;33m\u001b[0m\u001b[1;33m\u001b[0m\u001b[0m\n\u001b[1;32m----> 3\u001b[1;33m     \u001b[0moutput_directory\u001b[0m\u001b[1;33m=\u001b[0m\u001b[0moutput_directory\u001b[0m\u001b[1;33m,\u001b[0m\u001b[1;33m\u001b[0m\u001b[1;33m\u001b[0m\u001b[0m\n\u001b[0m\u001b[0;32m      4\u001b[0m )\n",
      "\u001b[1;32md:\\uni\\master\\pykeen\\src\\pykeen\\run.py\u001b[0m in \u001b[0;36mrun\u001b[1;34m(config, output_directory)\u001b[0m\n\u001b[0;32m    162\u001b[0m \u001b[1;33m\u001b[0m\u001b[0m\n\u001b[0;32m    163\u001b[0m     \u001b[0mpipeline\u001b[0m \u001b[1;33m=\u001b[0m \u001b[0mPipeline\u001b[0m\u001b[1;33m(\u001b[0m\u001b[0mconfig\u001b[0m\u001b[1;33m=\u001b[0m\u001b[0mconfig\u001b[0m\u001b[1;33m)\u001b[0m\u001b[1;33m\u001b[0m\u001b[1;33m\u001b[0m\u001b[0m\n\u001b[1;32m--> 164\u001b[1;33m     \u001b[0mresults\u001b[0m \u001b[1;33m=\u001b[0m \u001b[0mpipeline\u001b[0m\u001b[1;33m.\u001b[0m\u001b[0mrun\u001b[0m\u001b[1;33m(\u001b[0m\u001b[0moutput_directory\u001b[0m\u001b[1;33m)\u001b[0m\u001b[1;33m\u001b[0m\u001b[1;33m\u001b[0m\u001b[0m\n\u001b[0m\u001b[0;32m    165\u001b[0m \u001b[1;33m\u001b[0m\u001b[0m\n\u001b[0;32m    166\u001b[0m     \u001b[1;31m# Export experimental artifacts\u001b[0m\u001b[1;33m\u001b[0m\u001b[1;33m\u001b[0m\u001b[1;33m\u001b[0m\u001b[0m\n",
      "\u001b[1;32md:\\uni\\master\\pykeen\\src\\pykeen\\utilities\\pipeline.py\u001b[0m in \u001b[0;36mrun\u001b[1;34m(self, output_directory)\u001b[0m\n\u001b[0;32m    137\u001b[0m                 \u001b[0msingle_pass\u001b[0m\u001b[1;33m=\u001b[0m\u001b[0msingle_pass\u001b[0m\u001b[1;33m,\u001b[0m\u001b[1;33m\u001b[0m\u001b[1;33m\u001b[0m\u001b[0m\n\u001b[0;32m    138\u001b[0m                 \u001b[0mseed\u001b[0m\u001b[1;33m=\u001b[0m\u001b[0mself\u001b[0m\u001b[1;33m.\u001b[0m\u001b[0mseed\u001b[0m\u001b[1;33m,\u001b[0m\u001b[1;33m\u001b[0m\u001b[1;33m\u001b[0m\u001b[0m\n\u001b[1;32m--> 139\u001b[1;33m                 \u001b[0mmodel_dir\u001b[0m\u001b[1;33m=\u001b[0m\u001b[0moutput_directory\u001b[0m\u001b[1;33m\u001b[0m\u001b[1;33m\u001b[0m\u001b[0m\n\u001b[0m\u001b[0;32m    140\u001b[0m             )\n\u001b[0;32m    141\u001b[0m \u001b[1;33m\u001b[0m\u001b[0m\n",
      "\u001b[1;32md:\\uni\\master\\pykeen\\src\\pykeen\\utilities\\train_utils.py\u001b[0m in \u001b[0;36mtrain_kge_model\u001b[1;34m(kge_model, all_entities, all_relations, learning_rate, num_epochs, batch_size, test_batch_size, train_triples, train_types, val_triples, val_types, neg_val_triples, device, model_dir, es_metric, neg_factor, single_pass, seed, tqdm_kwargs)\u001b[0m\n\u001b[0;32m     85\u001b[0m         \u001b[0mneg_factor\u001b[0m\u001b[1;33m=\u001b[0m\u001b[0mneg_factor\u001b[0m\u001b[1;33m,\u001b[0m\u001b[1;33m\u001b[0m\u001b[1;33m\u001b[0m\u001b[0m\n\u001b[0;32m     86\u001b[0m         \u001b[0mtqdm_kwargs\u001b[0m\u001b[1;33m=\u001b[0m\u001b[0mtqdm_kwargs\u001b[0m\u001b[1;33m,\u001b[0m\u001b[1;33m\u001b[0m\u001b[1;33m\u001b[0m\u001b[0m\n\u001b[1;32m---> 87\u001b[1;33m         \u001b[0mmodel_dir\u001b[0m\u001b[1;33m=\u001b[0m\u001b[0mmodel_dir\u001b[0m\u001b[1;33m\u001b[0m\u001b[1;33m\u001b[0m\u001b[0m\n\u001b[0m\u001b[0;32m     88\u001b[0m     )\n\u001b[0;32m     89\u001b[0m \u001b[1;33m\u001b[0m\u001b[0m\n",
      "\u001b[1;32md:\\uni\\master\\pykeen\\src\\pykeen\\utilities\\train_utils.py\u001b[0m in \u001b[0;36m_train_basic_model\u001b[1;34m(kge_model, all_entities, all_relations, learning_rate, num_epochs, batch_size, test_batch_size, train_triples, train_types, val_triples, val_types, neg_val_triples, neg_factor, es_metric, device, model_dir, seed, tqdm_kwargs)\u001b[0m\n\u001b[0;32m    239\u001b[0m                     \u001b[0mloss\u001b[0m \u001b[1;33m=\u001b[0m \u001b[0mkge_model\u001b[0m\u001b[1;33m(\u001b[0m\u001b[0mpos_batch\u001b[0m\u001b[1;33m,\u001b[0m \u001b[0mneg_batch\u001b[0m\u001b[1;33m,\u001b[0m \u001b[0mtrain_types\u001b[0m\u001b[1;33m)\u001b[0m\u001b[1;33m\u001b[0m\u001b[1;33m\u001b[0m\u001b[0m\n\u001b[0;32m    240\u001b[0m                 \u001b[1;32melse\u001b[0m\u001b[1;33m:\u001b[0m\u001b[1;33m\u001b[0m\u001b[1;33m\u001b[0m\u001b[0m\n\u001b[1;32m--> 241\u001b[1;33m                     \u001b[0mloss\u001b[0m \u001b[1;33m=\u001b[0m \u001b[0mkge_model\u001b[0m\u001b[1;33m(\u001b[0m\u001b[0mpos_batch\u001b[0m\u001b[1;33m,\u001b[0m \u001b[0mneg_batch\u001b[0m\u001b[1;33m)\u001b[0m\u001b[1;33m\u001b[0m\u001b[1;33m\u001b[0m\u001b[0m\n\u001b[0m\u001b[0;32m    242\u001b[0m \u001b[1;33m\u001b[0m\u001b[0m\n\u001b[0;32m    243\u001b[0m             \u001b[0mcurrent_epoch_loss\u001b[0m \u001b[1;33m+=\u001b[0m \u001b[0mloss\u001b[0m\u001b[1;33m.\u001b[0m\u001b[0mitem\u001b[0m\u001b[1;33m(\u001b[0m\u001b[1;33m)\u001b[0m\u001b[1;33m\u001b[0m\u001b[1;33m\u001b[0m\u001b[0m\n",
      "\u001b[1;32m~\\AppData\\Local\\conda\\conda\\envs\\pykeen\\lib\\site-packages\\torch\\nn\\modules\\module.py\u001b[0m in \u001b[0;36m__call__\u001b[1;34m(self, *input, **kwargs)\u001b[0m\n\u001b[0;32m    491\u001b[0m             \u001b[0mresult\u001b[0m \u001b[1;33m=\u001b[0m \u001b[0mself\u001b[0m\u001b[1;33m.\u001b[0m\u001b[0m_slow_forward\u001b[0m\u001b[1;33m(\u001b[0m\u001b[1;33m*\u001b[0m\u001b[0minput\u001b[0m\u001b[1;33m,\u001b[0m \u001b[1;33m**\u001b[0m\u001b[0mkwargs\u001b[0m\u001b[1;33m)\u001b[0m\u001b[1;33m\u001b[0m\u001b[1;33m\u001b[0m\u001b[0m\n\u001b[0;32m    492\u001b[0m         \u001b[1;32melse\u001b[0m\u001b[1;33m:\u001b[0m\u001b[1;33m\u001b[0m\u001b[1;33m\u001b[0m\u001b[0m\n\u001b[1;32m--> 493\u001b[1;33m             \u001b[0mresult\u001b[0m \u001b[1;33m=\u001b[0m \u001b[0mself\u001b[0m\u001b[1;33m.\u001b[0m\u001b[0mforward\u001b[0m\u001b[1;33m(\u001b[0m\u001b[1;33m*\u001b[0m\u001b[0minput\u001b[0m\u001b[1;33m,\u001b[0m \u001b[1;33m**\u001b[0m\u001b[0mkwargs\u001b[0m\u001b[1;33m)\u001b[0m\u001b[1;33m\u001b[0m\u001b[1;33m\u001b[0m\u001b[0m\n\u001b[0m\u001b[0;32m    494\u001b[0m         \u001b[1;32mfor\u001b[0m \u001b[0mhook\u001b[0m \u001b[1;32min\u001b[0m \u001b[0mself\u001b[0m\u001b[1;33m.\u001b[0m\u001b[0m_forward_hooks\u001b[0m\u001b[1;33m.\u001b[0m\u001b[0mvalues\u001b[0m\u001b[1;33m(\u001b[0m\u001b[1;33m)\u001b[0m\u001b[1;33m:\u001b[0m\u001b[1;33m\u001b[0m\u001b[1;33m\u001b[0m\u001b[0m\n\u001b[0;32m    495\u001b[0m             \u001b[0mhook_result\u001b[0m \u001b[1;33m=\u001b[0m \u001b[0mhook\u001b[0m\u001b[1;33m(\u001b[0m\u001b[0mself\u001b[0m\u001b[1;33m,\u001b[0m \u001b[0minput\u001b[0m\u001b[1;33m,\u001b[0m \u001b[0mresult\u001b[0m\u001b[1;33m)\u001b[0m\u001b[1;33m\u001b[0m\u001b[1;33m\u001b[0m\u001b[0m\n",
      "\u001b[1;32md:\\uni\\master\\pykeen\\src\\pykeen\\kge_models\\kg2e_kl.py\u001b[0m in \u001b[0;36mforward\u001b[1;34m(self, batch_positives, batch_negatives)\u001b[0m\n\u001b[0;32m    131\u001b[0m \u001b[1;33m\u001b[0m\u001b[0m\n\u001b[0;32m    132\u001b[0m         \u001b[0mpositive_scores\u001b[0m \u001b[1;33m=\u001b[0m \u001b[0mself\u001b[0m\u001b[1;33m.\u001b[0m\u001b[0m_score_triples\u001b[0m\u001b[1;33m(\u001b[0m\u001b[0mbatch_positives\u001b[0m\u001b[1;33m)\u001b[0m\u001b[1;33m\u001b[0m\u001b[1;33m\u001b[0m\u001b[0m\n\u001b[1;32m--> 133\u001b[1;33m         \u001b[0mnegative_scores\u001b[0m \u001b[1;33m=\u001b[0m \u001b[0mself\u001b[0m\u001b[1;33m.\u001b[0m\u001b[0m_score_triples\u001b[0m\u001b[1;33m(\u001b[0m\u001b[0mbatch_negatives\u001b[0m\u001b[1;33m)\u001b[0m\u001b[1;33m\u001b[0m\u001b[1;33m\u001b[0m\u001b[0m\n\u001b[0m\u001b[0;32m    134\u001b[0m         \u001b[0mloss\u001b[0m \u001b[1;33m=\u001b[0m \u001b[0mself\u001b[0m\u001b[1;33m.\u001b[0m\u001b[0m_compute_loss\u001b[0m\u001b[1;33m(\u001b[0m\u001b[0mpositive_scores\u001b[0m\u001b[1;33m=\u001b[0m\u001b[0mpositive_scores\u001b[0m\u001b[1;33m,\u001b[0m \u001b[0mnegative_scores\u001b[0m\u001b[1;33m=\u001b[0m\u001b[0mnegative_scores\u001b[0m\u001b[1;33m)\u001b[0m\u001b[1;33m\u001b[0m\u001b[1;33m\u001b[0m\u001b[0m\n\u001b[0;32m    135\u001b[0m         \u001b[1;32mreturn\u001b[0m \u001b[0mloss\u001b[0m\u001b[1;33m\u001b[0m\u001b[1;33m\u001b[0m\u001b[0m\n",
      "\u001b[1;32md:\\uni\\master\\pykeen\\src\\pykeen\\kge_models\\kg2e_kl.py\u001b[0m in \u001b[0;36m_score_triples\u001b[1;34m(self, triples)\u001b[0m\n\u001b[0;32m    156\u001b[0m         \u001b[0mr_mean\u001b[0m\u001b[1;33m,\u001b[0m \u001b[0mr_vari\u001b[0m \u001b[1;33m=\u001b[0m \u001b[0mrelation_embeddings\u001b[0m\u001b[1;33m\u001b[0m\u001b[1;33m\u001b[0m\u001b[0m\n\u001b[0;32m    157\u001b[0m         \u001b[0mt_mean\u001b[0m\u001b[1;33m,\u001b[0m \u001b[0mt_vari\u001b[0m \u001b[1;33m=\u001b[0m \u001b[0mtail_embeddings\u001b[0m\u001b[1;33m\u001b[0m\u001b[1;33m\u001b[0m\u001b[0m\n\u001b[1;32m--> 158\u001b[1;33m         \u001b[0mscores\u001b[0m \u001b[1;33m=\u001b[0m \u001b[0mself\u001b[0m\u001b[1;33m.\u001b[0m\u001b[0m_compute_scores\u001b[0m\u001b[1;33m(\u001b[0m\u001b[0mh_mean\u001b[0m\u001b[1;33m,\u001b[0m \u001b[0mh_vari\u001b[0m\u001b[1;33m,\u001b[0m \u001b[0mr_mean\u001b[0m\u001b[1;33m,\u001b[0m \u001b[0mr_vari\u001b[0m\u001b[1;33m,\u001b[0m \u001b[0mt_mean\u001b[0m\u001b[1;33m,\u001b[0m \u001b[0mt_vari\u001b[0m\u001b[1;33m)\u001b[0m\u001b[1;33m\u001b[0m\u001b[1;33m\u001b[0m\u001b[0m\n\u001b[0m\u001b[0;32m    159\u001b[0m         \u001b[1;32mreturn\u001b[0m \u001b[0mscores\u001b[0m\u001b[1;33m\u001b[0m\u001b[1;33m\u001b[0m\u001b[0m\n\u001b[0;32m    160\u001b[0m \u001b[1;33m\u001b[0m\u001b[0m\n",
      "\u001b[1;32md:\\uni\\master\\pykeen\\src\\pykeen\\kge_models\\kg2e_kl.py\u001b[0m in \u001b[0;36mforward\u001b[1;34m(ctx, h_mean, h_vari, r_mean, r_vari, t_mean, t_vari)\u001b[0m\n\u001b[0;32m    262\u001b[0m         \u001b[0mr_vari_inv\u001b[0m \u001b[1;33m=\u001b[0m \u001b[1;36m1\u001b[0m \u001b[1;33m/\u001b[0m \u001b[0mr_vari\u001b[0m\u001b[1;33m\u001b[0m\u001b[1;33m\u001b[0m\u001b[0m\n\u001b[0;32m    263\u001b[0m         \u001b[0mdet_r\u001b[0m \u001b[1;33m=\u001b[0m \u001b[0mr_vari\u001b[0m\u001b[1;33m.\u001b[0m\u001b[0mdouble\u001b[0m\u001b[1;33m(\u001b[0m\u001b[1;33m)\u001b[0m\u001b[1;33m.\u001b[0m\u001b[0mprod\u001b[0m\u001b[1;33m(\u001b[0m\u001b[1;33m-\u001b[0m\u001b[1;36m1\u001b[0m\u001b[1;33m)\u001b[0m\u001b[1;33m\u001b[0m\u001b[1;33m\u001b[0m\u001b[0m\n\u001b[1;32m--> 264\u001b[1;33m         \u001b[0mdet_e\u001b[0m \u001b[1;33m=\u001b[0m \u001b[0me_vari\u001b[0m\u001b[1;33m.\u001b[0m\u001b[0mdouble\u001b[0m\u001b[1;33m(\u001b[0m\u001b[1;33m)\u001b[0m\u001b[1;33m.\u001b[0m\u001b[0mprod\u001b[0m\u001b[1;33m(\u001b[0m\u001b[1;33m-\u001b[0m\u001b[1;36m1\u001b[0m\u001b[1;33m)\u001b[0m\u001b[1;33m\u001b[0m\u001b[1;33m\u001b[0m\u001b[0m\n\u001b[0m\u001b[0;32m    265\u001b[0m         \u001b[1;31m#print('e_vari', (e_vari == float('inf')).any(), (e_vari == - float('inf')).any())\u001b[0m\u001b[1;33m\u001b[0m\u001b[1;33m\u001b[0m\u001b[1;33m\u001b[0m\u001b[0m\n\u001b[0;32m    266\u001b[0m         \u001b[1;31m#print('det_E', (e_vari[det_e == float('inf')]))\u001b[0m\u001b[1;33m\u001b[0m\u001b[1;33m\u001b[0m\u001b[1;33m\u001b[0m\u001b[0m\n",
      "\u001b[1;31mKeyboardInterrupt\u001b[0m: "
     ]
    }
   ],
   "source": [
    "results = pykeen.run(\n",
    "    config=config,\n",
    "    output_directory=output_directory,\n",
    ")"
   ]
  },
  {
   "cell_type": "markdown",
   "metadata": {},
   "source": [
    "Check result entries:"
   ]
  },
  {
   "cell_type": "code",
   "execution_count": null,
   "metadata": {
    "ExecuteTime": {
     "end_time": "2019-06-21T17:01:14.222980Z",
     "start_time": "2019-06-21T16:23:17.288Z"
    }
   },
   "outputs": [],
   "source": [
    "results.results.keys()"
   ]
  },
  {
   "cell_type": "markdown",
   "metadata": {},
   "source": [
    "Visualize loss values:"
   ]
  },
  {
   "cell_type": "code",
   "execution_count": null,
   "metadata": {
    "ExecuteTime": {
     "end_time": "2019-06-21T17:01:14.223977Z",
     "start_time": "2019-06-21T16:23:17.290Z"
    }
   },
   "outputs": [],
   "source": [
    "losses = results.results['losses']\n",
    "epochs = np.arange(len(losses))\n",
    "plt.title(r'Loss Per Epoch')\n",
    "plt.xlabel('epoch')\n",
    "plt.ylabel('loss')\n",
    "plt.plot(epochs, losses)\n",
    "plt.show()"
   ]
  },
  {
   "cell_type": "code",
   "execution_count": null,
   "metadata": {
    "ExecuteTime": {
     "end_time": "2019-06-21T17:01:14.224975Z",
     "start_time": "2019-06-21T16:23:17.292Z"
    }
   },
   "outputs": [],
   "source": [
    "losses = results.results['validation_losses']\n",
    "epochs = np.arange(len(losses))\n",
    "plt.title(r'Loss Per Epoch')\n",
    "plt.xlabel('epoch')\n",
    "plt.ylabel('loss')\n",
    "plt.plot(epochs, losses)\n",
    "plt.show()"
   ]
  },
  {
   "cell_type": "code",
   "execution_count": null,
   "metadata": {
    "ExecuteTime": {
     "end_time": "2019-06-21T17:01:14.226968Z",
     "start_time": "2019-06-21T16:23:17.294Z"
    }
   },
   "outputs": [],
   "source": [
    "losses = results.results['metric_per_epoch']\n",
    "epochs = np.arange(len(losses))\n",
    "plt.title(r'Loss Per Epoch')\n",
    "plt.xlabel('epoch')\n",
    "plt.ylabel('loss')\n",
    "plt.plot(epochs, losses)\n",
    "plt.show()"
   ]
  },
  {
   "cell_type": "code",
   "execution_count": null,
   "metadata": {
    "ExecuteTime": {
     "end_time": "2019-06-21T17:01:14.227965Z",
     "start_time": "2019-06-21T16:23:17.297Z"
    }
   },
   "outputs": [],
   "source": [
    "results.results['eval_summary']"
   ]
  },
  {
   "cell_type": "markdown",
   "metadata": {
    "heading_collapsed": true
   },
   "source": [
    "## Load and evaluate"
   ]
  },
  {
   "cell_type": "code",
   "execution_count": null,
   "metadata": {
    "ExecuteTime": {
     "end_time": "2019-06-21T17:01:14.229961Z",
     "start_time": "2019-06-21T16:23:17.300Z"
    },
    "hidden": true
   },
   "outputs": [],
   "source": [
    "import torch\n",
    "import json\n",
    "import os\n",
    "import pykeen.constants as pkc\n",
    "from pykeen.kge_models import get_kge_model\n",
    "from pykeen.utilities.pipeline import Pipeline"
   ]
  },
  {
   "cell_type": "code",
   "execution_count": null,
   "metadata": {
    "ExecuteTime": {
     "end_time": "2019-06-21T17:01:14.230958Z",
     "start_time": "2019-06-21T16:23:17.304Z"
    },
    "hidden": true
   },
   "outputs": [],
   "source": [
    "model_dir = 'D:/uni/master/models/'\n",
    "models = os.listdir(model_dir)\n",
    "models"
   ]
  },
  {
   "cell_type": "code",
   "execution_count": null,
   "metadata": {
    "ExecuteTime": {
     "end_time": "2019-06-21T17:01:14.232952Z",
     "start_time": "2019-06-21T16:23:17.306Z"
    },
    "hidden": true
   },
   "outputs": [],
   "source": [
    "model_path = 'test'\n",
    "if model_path:\n",
    "    input_directory = os.path.join(model_dir, model_path)\n",
    "    results = {\n",
    "    'losses': json.load(open(os.path.join(input_directory, 'losses.json'))),\n",
    "    'validation_losses': json.load(open(os.path.join(input_directory, 'val_losses.json'))),\n",
    "    'entity_to_embedding': json.load(open(os.path.join(input_directory, 'entities_to_embeddings.json'))),\n",
    "    'relation_to_embedding': json.load(open(os.path.join(input_directory, 'relations_to_embeddings.json'))),\n",
    "    'final_configuration': json.load(open(os.path.join(input_directory, 'configuration.json'))),\n",
    "    'eval_summary': json.load(open(os.path.join(input_directory, 'evaluation_summary.json'))),\n",
    "    'entity_to_id': json.load(open(os.path.join(input_directory, 'entity_to_id.json'))),\n",
    "    'relation_to_id': json.load(open(os.path.join(input_directory, 'relation_to_id.json')))\n",
    "    }\n",
    "    # Initialize KG embedding model\n",
    "    config = results['final_configuration']\n",
    "    config['training_set_path'] = 'D:/uni/master/data/FB15K/train.tsv'\n",
    "    config['test_set_path'] = 'D:/uni/master/data/FB15K/valid.tsv'\n",
    "    relation_to_id = results['relation_to_id']\n",
    "    entity_to_id = results['entity_to_id']\n",
    "else:\n",
    "    # Initialize KG embedding model\n",
    "    input_directory = output_directory\n",
    "    config[pkc.NUM_ENTITIES] = 14951\n",
    "    config[pkc.NUM_RELATIONS] = 1345\n",
    "    config[pkc.PREFERRED_DEVICE] = 'gpu'\n",
    "    relation_to_id = json.load(open(os.path.join(input_directory, 'relation_to_id.json'),'r'))\n",
    "    entity_to_id = json.load(open(os.path.join(input_directory, 'entity_to_id.json'),'r'))"
   ]
  },
  {
   "cell_type": "markdown",
   "metadata": {
    "hidden": true
   },
   "source": [
    "Get evaluation results:\n",
    " * Mean rank\n",
    " * Hits@k, k $\\in$ {1,3,5,10} "
   ]
  },
  {
   "cell_type": "code",
   "execution_count": null,
   "metadata": {
    "ExecuteTime": {
     "end_time": "2019-06-21T17:01:14.234946Z",
     "start_time": "2019-06-21T16:23:17.309Z"
    },
    "hidden": true
   },
   "outputs": [],
   "source": [
    "pipeline = Pipeline(config)\n",
    "if config['random_seed'] is not None:\n",
    "    torch.manual_seed(config['random_seed'])\n",
    "pipeline.entity_label_to_id = entity_to_id\n",
    "pipeline.relation_label_to_id = relation_to_id\n",
    "    \n",
    "model: torch.nn.Module = get_kge_model(config=config)\n",
    "model.load_state_dict(torch.load(os.path.join(input_directory, 'best_model.pkl')))\n",
    "\n",
    "#results['trained_model'] = model \n",
    "type(model)"
   ]
  },
  {
   "cell_type": "code",
   "execution_count": null,
   "metadata": {
    "ExecuteTime": {
     "end_time": "2019-06-21T17:01:14.237940Z",
     "start_time": "2019-06-21T16:23:17.311Z"
    },
    "hidden": true
   },
   "outputs": [],
   "source": [
    "metrics = [pkc.TRIPLE_PREDICTION] #  [pkc.MEAN_RANK, pkc.HITS_AT_K, pkc.TRIPLE_PREDICTION]\n",
    "threshold_search = True"
   ]
  },
  {
   "cell_type": "code",
   "execution_count": null,
   "metadata": {
    "ExecuteTime": {
     "end_time": "2019-06-21T17:01:14.239959Z",
     "start_time": "2019-06-21T16:23:17.313Z"
    },
    "hidden": true
   },
   "outputs": [],
   "source": [
    "valid_results = pipeline.evaluate(\n",
    "    model, \n",
    "    'D:/uni/master/data/FB15K/valid.tsv', \n",
    "    neg_test_path = 'D:/uni/master/data/FB15K/valid_neg.tsv', \n",
    "    metrics= metrics,\n",
    "    threshold_search=True\n",
    ")"
   ]
  },
  {
   "cell_type": "code",
   "execution_count": null,
   "metadata": {
    "ExecuteTime": {
     "end_time": "2019-06-21T17:01:14.241929Z",
     "start_time": "2019-06-21T16:23:17.314Z"
    },
    "hidden": true
   },
   "outputs": [],
   "source": [
    "valid_results['eval_summary']"
   ]
  },
  {
   "cell_type": "code",
   "execution_count": null,
   "metadata": {
    "ExecuteTime": {
     "end_time": "2019-06-21T17:01:14.243923Z",
     "start_time": "2019-06-21T16:23:17.316Z"
    },
    "hidden": true
   },
   "outputs": [],
   "source": [
    "test_results = pipeline.evaluate(\n",
    "    model, \n",
    "    'D:/uni/master/data/FB15K/test.tsv', \n",
    "    neg_test_path = 'D:/uni/master/data/FB15K/test_neg.tsv', \n",
    "    metrics= metrics,\n",
    "    threshold_search=False\n",
    ")"
   ]
  },
  {
   "cell_type": "code",
   "execution_count": null,
   "metadata": {
    "ExecuteTime": {
     "end_time": "2019-06-21T17:01:14.244919Z",
     "start_time": "2019-06-21T16:23:17.318Z"
    },
    "hidden": true
   },
   "outputs": [],
   "source": [
    "test_results['eval_summary']"
   ]
  },
  {
   "cell_type": "code",
   "execution_count": null,
   "metadata": {
    "ExecuteTime": {
     "end_time": "2019-06-21T17:01:14.246913Z",
     "start_time": "2019-06-21T16:23:17.321Z"
    },
    "hidden": true
   },
   "outputs": [],
   "source": [
    "pipeline.evaluate(model, 'D:/uni/master/data/FB15K/valid.tsv', metrics = ['prediction'], \n",
    "                  threshold_search=threshold_search)['eval_summary']"
   ]
  },
  {
   "cell_type": "code",
   "execution_count": null,
   "metadata": {
    "ExecuteTime": {
     "end_time": "2019-06-21T17:01:14.248909Z",
     "start_time": "2019-06-21T16:23:17.323Z"
    },
    "hidden": true
   },
   "outputs": [],
   "source": [
    "json.dump(test_results['eval_summary'], open(os.path.join(output_directory, 'evaluation_summary.json'),\"w\"))"
   ]
  },
  {
   "cell_type": "markdown",
   "metadata": {},
   "source": [
    "## Load results"
   ]
  },
  {
   "cell_type": "code",
   "execution_count": null,
   "metadata": {
    "ExecuteTime": {
     "end_time": "2019-06-21T17:01:14.250903Z",
     "start_time": "2019-06-21T16:23:17.326Z"
    }
   },
   "outputs": [],
   "source": [
    "import numpy as np\n",
    "import matplotlib.pyplot as plt\n",
    "import json\n",
    "import os"
   ]
  },
  {
   "cell_type": "code",
   "execution_count": null,
   "metadata": {
    "ExecuteTime": {
     "end_time": "2019-06-21T17:01:14.252898Z",
     "start_time": "2019-06-21T16:23:17.328Z"
    }
   },
   "outputs": [],
   "source": [
    "%matplotlib inline"
   ]
  },
  {
   "cell_type": "code",
   "execution_count": null,
   "metadata": {
    "ExecuteTime": {
     "end_time": "2019-06-21T17:01:14.254892Z",
     "start_time": "2019-06-21T16:23:17.330Z"
    }
   },
   "outputs": [],
   "source": [
    "model_dir = 'D:/uni/master/models/'\n",
    "models = os.listdir(model_dir)\n",
    "models"
   ]
  },
  {
   "cell_type": "code",
   "execution_count": null,
   "metadata": {
    "ExecuteTime": {
     "end_time": "2019-06-21T17:01:14.256887Z",
     "start_time": "2019-06-21T16:23:17.332Z"
    }
   },
   "outputs": [],
   "source": [
    "#output_directory = 'D:/uni/master/models/region_hpo/'\n",
    "model_path = 'TransE_FB15k_dim50_lr001_margin1_epochs1000'\n",
    "input_directory = os.path.join(model_dir, model_path)\n",
    "\n",
    "\n",
    "results = {\n",
    "    'losses': json.load(open(os.path.join(input_directory, 'losses.json'))),\n",
    "    'validation_losses': json.load(open(os.path.join(input_directory, 'val_losses.json'))),\n",
    "    'entity_to_embedding': json.load(open(os.path.join(input_directory, 'entities_to_embeddings.json'))),\n",
    "    'relation_to_embedding': json.load(open(os.path.join(input_directory, 'relations_to_embeddings.json'))),\n",
    "    'final_configuration': json.load(open(os.path.join(input_directory, 'configuration.json'))),\n",
    "    'eval_summary': json.load(open(os.path.join(input_directory, 'evaluation_summary.json'))),\n",
    "    'entity_to_id': json.load(open(os.path.join(input_directory, 'entity_to_id.json'))),\n",
    "    'relation_to_id': json.load(open(os.path.join(input_directory, 'relation_to_id.json')))\n",
    "}"
   ]
  },
  {
   "cell_type": "code",
   "execution_count": null,
   "metadata": {
    "ExecuteTime": {
     "end_time": "2019-06-21T17:01:14.258882Z",
     "start_time": "2019-06-21T16:23:17.334Z"
    }
   },
   "outputs": [],
   "source": [
    "results.keys()"
   ]
  },
  {
   "cell_type": "code",
   "execution_count": null,
   "metadata": {
    "ExecuteTime": {
     "end_time": "2019-06-21T17:01:14.260876Z",
     "start_time": "2019-06-21T16:23:17.336Z"
    }
   },
   "outputs": [],
   "source": [
    "results['final_configuration']"
   ]
  },
  {
   "cell_type": "code",
   "execution_count": null,
   "metadata": {
    "ExecuteTime": {
     "end_time": "2019-06-21T17:01:14.262874Z",
     "start_time": "2019-06-21T16:23:17.339Z"
    }
   },
   "outputs": [],
   "source": [
    "losses = results['losses']\n",
    "epochs = np.arange(len(losses))\n",
    "plt.title(r'Loss Per Epoch')\n",
    "plt.xlabel('epoch')\n",
    "plt.ylabel('loss')\n",
    "plt.plot(epochs, losses)\n",
    "plt.show()"
   ]
  },
  {
   "cell_type": "code",
   "execution_count": null,
   "metadata": {
    "ExecuteTime": {
     "end_time": "2019-06-21T17:01:14.264868Z",
     "start_time": "2019-06-21T16:23:17.341Z"
    }
   },
   "outputs": [],
   "source": [
    "losses = results['validation_losses']\n",
    "epochs = np.arange(len(losses))\n",
    "plt.title(r'Loss Per Epoch')\n",
    "plt.xlabel('epoch')\n",
    "plt.ylabel('loss')\n",
    "plt.plot(epochs, losses)\n",
    "plt.show()"
   ]
  },
  {
   "cell_type": "code",
   "execution_count": null,
   "metadata": {
    "ExecuteTime": {
     "end_time": "2019-06-21T17:01:14.267860Z",
     "start_time": "2019-06-21T16:23:17.343Z"
    }
   },
   "outputs": [],
   "source": [
    "results['eval_summary']"
   ]
  },
  {
   "cell_type": "code",
   "execution_count": null,
   "metadata": {},
   "outputs": [],
   "source": []
  },
  {
   "cell_type": "code",
   "execution_count": null,
   "metadata": {},
   "outputs": [],
   "source": []
  }
 ],
 "metadata": {
  "kernelspec": {
   "display_name": "Python 3",
   "language": "python",
   "name": "python3"
  },
  "language_info": {
   "codemirror_mode": {
    "name": "ipython",
    "version": 3
   },
   "file_extension": ".py",
   "mimetype": "text/x-python",
   "name": "python",
   "nbconvert_exporter": "python",
   "pygments_lexer": "ipython3",
   "version": "3.7.3"
  },
  "notify_time": "30",
  "toc": {
   "base_numbering": 1,
   "nav_menu": {},
   "number_sections": true,
   "sideBar": true,
   "skip_h1_title": false,
   "title_cell": "Table of Contents",
   "title_sidebar": "Contents",
   "toc_cell": false,
   "toc_position": {
    "height": "193.717px",
    "left": "10px",
    "top": "150px",
    "width": "165px"
   },
   "toc_section_display": true,
   "toc_window_display": true
  }
 },
 "nbformat": 4,
 "nbformat_minor": 2
}
