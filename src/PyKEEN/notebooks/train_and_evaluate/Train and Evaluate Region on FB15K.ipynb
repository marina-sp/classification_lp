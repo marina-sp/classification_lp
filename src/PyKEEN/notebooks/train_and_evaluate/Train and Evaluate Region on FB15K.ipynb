{
 "cells": [
  {
   "cell_type": "code",
   "execution_count": 1,
   "metadata": {
    "ExecuteTime": {
     "end_time": "2019-07-26T15:44:10.559819Z",
     "start_time": "2019-07-26T15:44:10.551521Z"
    }
   },
   "outputs": [],
   "source": [
    "TEST = False"
   ]
  },
  {
   "cell_type": "markdown",
   "metadata": {},
   "source": [
    "Check which hyper-parameters are required by Region:"
   ]
  },
  {
   "cell_type": "code",
   "execution_count": 2,
   "metadata": {
    "ExecuteTime": {
     "end_time": "2019-07-26T15:44:23.061013Z",
     "start_time": "2019-07-26T15:44:10.566480Z"
    }
   },
   "outputs": [
    {
     "data": {
      "text/plain": [
       "['embedding_dim',\n",
       " 'margin_loss',\n",
       " 'learning_rate',\n",
       " 'corrupt_relations',\n",
       " 'normalization_of_entities',\n",
       " 'strict_norm',\n",
       " 'init_radius',\n",
       " 'reg_lambda',\n",
       " 'loss_type',\n",
       " 'neg_factor',\n",
       " 'region_type',\n",
       " 'gradient_matrix']"
      ]
     },
     "execution_count": 2,
     "metadata": {},
     "output_type": "execute_result"
    }
   ],
   "source": [
    "from pykeen.kge_models import Region\n",
    "from datetime import datetime\n",
    "Region.hyper_params"
   ]
  },
  {
   "cell_type": "markdown",
   "metadata": {},
   "source": [
    "Train and evaluate Region (provide test set):\n",
    "* Define the path to our test set: **test_set_path**\n",
    "* Define the path to our the negative test set: **neg_test_path** in case of triple classfication evaluation\n",
    "* Define whether you want to compute the metrics (mean rank and hits@k) in raw or in a filtered setting: **filter_negative_triples**"
   ]
  },
  {
   "cell_type": "code",
   "execution_count": 3,
   "metadata": {
    "ExecuteTime": {
     "end_time": "2019-07-26T15:44:23.071896Z",
     "start_time": "2019-07-26T15:44:23.063954Z"
    }
   },
   "outputs": [],
   "source": [
    "config = dict(\n",
    "    metrics                     = [],\n",
    "    training_set_path           = '../../../data/fb15k/train.tsv',\n",
    "    test_set_path               = '../../../data/fb15k/valid_200.tsv',\n",
    "    #neg_test_set_path           = '../../../data/fb15k/valid_neg.tsv',\n",
    "    mapping_path                = '../../../data/fb15k/',\n",
    "    execution_mode              = 'Training_mode',\n",
    "    random_seed                 = 2,\n",
    "    \n",
    "    kg_embedding_model_name     = 'Region',\n",
    "    region_type                 = 'full',\n",
    "    embedding_dim               = 50,\n",
    "    gradient_matrix             = False,\n",
    "    \n",
    "    init_radius                 = 1,\n",
    "    reg_lambda                  = 0,\n",
    "    loss_type                   = 'MRL',\n",
    "    neg_factor                  = 1,\n",
    "    corrupt_relations           = False,\n",
    " \n",
    "    normalization_of_entities   = 2,  # corresponds to L2\n",
    "    strict_norm                 = True,\n",
    "    \n",
    "    margin_loss                 = 0.5,\n",
    "    learning_rate               = 0.001,\n",
    "    es_metric                   = 'custom',\n",
    "    num_epochs                  = 2000 if not TEST else 1000,  \n",
    "    batch_size                  = 2**13,\n",
    "    test_batch_size             = 2**16,\n",
    "    filter_negative_triples     = False,\n",
    "    preferred_device            = 'gpu'\n",
    ")"
   ]
  },
  {
   "cell_type": "code",
   "execution_count": 4,
   "metadata": {},
   "outputs": [
    {
     "data": {
      "text/plain": [
       "'20191028-1547'"
      ]
     },
     "execution_count": 4,
     "metadata": {},
     "output_type": "execute_result"
    }
   ],
   "source": [
    "time = datetime.now()\n",
    "stamp = \"{:04d}{:2d}{:2d}-{:2d}{:2d}\".format(time.year, time.month, time.day, time.hour, time.minute)\n",
    "stamp"
   ]
  },
  {
   "cell_type": "code",
   "execution_count": 5,
   "metadata": {
    "ExecuteTime": {
     "end_time": "2019-07-26T15:44:23.204542Z",
     "start_time": "2019-07-26T15:44:23.074889Z"
    }
   },
   "outputs": [
    {
     "data": {
      "text/plain": [
       "'../../../models/FB15k_region_20191028-1547_dim50_full_rad1_regL0_lr0001_loss-MRL_margin0.5_negfactor1_epochs2000_esmetric-custom_bs8192'"
      ]
     },
     "execution_count": 5,
     "metadata": {},
     "output_type": "execute_result"
    }
   ],
   "source": [
    "output_directory = '../../../models/FB15k_region_{}_dim{}_{}_rad{}_regL{}_lr{}_loss-{}_margin{}_negfactor{}_epochs{}_esmetric-{}_bs{}'.format(\n",
    "    stamp,\n",
    "    config['embedding_dim'], config['region_type'], config['init_radius'], \n",
    "    str(config['reg_lambda']).replace('.',''), \n",
    "    str(config['learning_rate']).replace('.',''),\n",
    "    config['loss_type'],\n",
    "    config['margin_loss'],\n",
    "    config['neg_factor'],\n",
    "    config['num_epochs'],\n",
    "    config['es_metric'],\n",
    "    config['batch_size']\n",
    ")\n",
    "output_directory"
   ]
  },
  {
   "cell_type": "code",
   "execution_count": 6,
   "metadata": {
    "ExecuteTime": {
     "end_time": "2019-07-26T15:44:23.217510Z",
     "start_time": "2019-07-26T15:44:23.212594Z"
    }
   },
   "outputs": [],
   "source": [
    "if TEST:\n",
    "    output_directory = '../../../models/test'"
   ]
  },
  {
   "cell_type": "code",
   "execution_count": 7,
   "metadata": {
    "ExecuteTime": {
     "end_time": "2019-07-26T15:44:23.229579Z",
     "start_time": "2019-07-26T15:44:23.224495Z"
    }
   },
   "outputs": [],
   "source": [
    "import logging\n",
    "import os\n",
    "import sys\n",
    "import time\n",
    "import pykeen"
   ]
  },
  {
   "cell_type": "code",
   "execution_count": 8,
   "metadata": {
    "ExecuteTime": {
     "end_time": "2019-07-26T15:44:23.241443Z",
     "start_time": "2019-07-26T15:44:23.233778Z"
    }
   },
   "outputs": [],
   "source": [
    "logging.basicConfig(level=logging.DEBUG)\n",
    "logging.getLogger('pykeen').setLevel(logging.DEBUG)"
   ]
  },
  {
   "cell_type": "code",
   "execution_count": 9,
   "metadata": {
    "ExecuteTime": {
     "end_time": "2019-07-26T15:44:23.269369Z",
     "start_time": "2019-07-26T15:44:23.245434Z"
    }
   },
   "outputs": [
    {
     "name": "stdout",
     "output_type": "stream",
     "text": [
      "3.6.5 (default, Mar 31 2018, 19:45:04) [GCC]\n"
     ]
    }
   ],
   "source": [
    "print(sys.version)"
   ]
  },
  {
   "cell_type": "code",
   "execution_count": 10,
   "metadata": {
    "ExecuteTime": {
     "end_time": "2019-07-26T15:44:23.289315Z",
     "start_time": "2019-07-26T15:44:23.272360Z"
    },
    "scrolled": true
   },
   "outputs": [
    {
     "name": "stdout",
     "output_type": "stream",
     "text": [
      "Mon Oct 28 15:47:27 2019\n"
     ]
    }
   ],
   "source": [
    "print(time.asctime())"
   ]
  },
  {
   "cell_type": "code",
   "execution_count": 11,
   "metadata": {
    "ExecuteTime": {
     "end_time": "2019-07-26T15:44:23.302280Z",
     "start_time": "2019-07-26T15:44:23.293305Z"
    }
   },
   "outputs": [
    {
     "name": "stdout",
     "output_type": "stream",
     "text": [
      "0.0.26-dev\n"
     ]
    }
   ],
   "source": [
    "print(pykeen.get_version())"
   ]
  },
  {
   "cell_type": "markdown",
   "metadata": {},
   "source": [
    "## Train and evaluate Region:"
   ]
  },
  {
   "cell_type": "code",
   "execution_count": 12,
   "metadata": {
    "ExecuteTime": {
     "end_time": "2019-07-26T15:44:24.623005Z",
     "start_time": "2019-07-26T15:44:23.305276Z"
    },
    "scrolled": true
   },
   "outputs": [],
   "source": [
    "import numpy as np\n",
    "import matplotlib.pyplot as plt"
   ]
  },
  {
   "cell_type": "code",
   "execution_count": 13,
   "metadata": {
    "ExecuteTime": {
     "end_time": "2019-07-26T15:44:24.652917Z",
     "start_time": "2019-07-26T15:44:24.629977Z"
    }
   },
   "outputs": [],
   "source": [
    "%matplotlib inline"
   ]
  },
  {
   "cell_type": "code",
   "execution_count": 14,
   "metadata": {
    "ExecuteTime": {
     "end_time": "2019-07-26T23:30:36.683781Z",
     "start_time": "2019-07-26T15:44:24.661892Z"
    },
    "scrolled": true
   },
   "outputs": [
    {
     "name": "stderr",
     "output_type": "stream",
     "text": [
      "DEBUG:pykeen.utilities.pipeline:Reading the label mappings...\n",
      "/mounts/Users/student/speranskaya/.local/lib/python3.6/site-packages/torch/nn/_reduction.py:43: UserWarning: size_average and reduce args will be deprecated, please use reduction='sum' instead.\n",
      "  warnings.warn(warning.format(ret))\n",
      "INFO:pykeen.utilities.pipeline:-------------Train KG Embeddings-------------\n"
     ]
    },
    {
     "name": "stdout",
     "output_type": "stream",
     "text": [
      "{'metrics': [], 'training_set_path': '../../../data/fb15k/train.tsv', 'test_set_path': '../../../data/fb15k/valid_200.tsv', 'mapping_path': '../../../data/fb15k/', 'execution_mode': 'Training_mode', 'random_seed': 2, 'kg_embedding_model_name': 'Region', 'region_type': 'full', 'embedding_dim': 50, 'gradient_matrix': False, 'init_radius': 1, 'reg_lambda': 0, 'loss_type': 'MRL', 'neg_factor': 1, 'corrupt_relations': False, 'normalization_of_entities': 2, 'strict_norm': True, 'margin_loss': 0.5, 'learning_rate': 0.001, 'es_metric': 'custom', 'num_epochs': 2000, 'batch_size': 8192, 'test_batch_size': 65536, 'filter_negative_triples': False, 'preferred_device': 'cuda:0', 'pykeen-version': '0.0.26-dev', 'num_entities': 14951, 'num_relations': 1345}\n"
     ]
    },
    {
     "name": "stderr",
     "output_type": "stream",
     "text": [
      "DEBUG:pykeen.utilities.train_utils:****running model on cuda:0****\n"
     ]
    },
    {
     "data": {
      "application/vnd.jupyter.widget-view+json": {
       "model_id": "20307564ac154ec8ad67907ffeb07a22",
       "version_major": 2,
       "version_minor": 0
      },
      "text/plain": [
       "HBox(children=(IntProgress(value=0, max=200), HTML(value='')))"
      ]
     },
     "metadata": {},
     "output_type": "display_data"
    },
    {
     "name": "stderr",
     "output_type": "stream",
     "text": [
      "DEBUG:pykeen.utilities.evaluation_utils.metrics_computations:Evaluation took 3.88s seconds\n",
      "DEBUG:pykeen.utilities.train_utils:\n",
      "current metric: 0.060460968905836375  ---- rank/hits@10: (0.054751387846568154, 0.0675)\n",
      "DEBUG:pykeen.utilities.train_utils:Saving the following model to disk:\n",
      "INFO:pykeen.utilities.train_utils:Epoch   0 / 2000 (2.1s):  0.474 ---- 0.462 ---- 0.06 ----   1\n",
      "INFO:pykeen.utilities.train_utils:Epoch   1 / 2000 (2.1s):  0.396 ---- 0.444 ---- 0.06 ----   2\n",
      "INFO:pykeen.utilities.train_utils:Epoch   2 / 2000 (2.1s):  0.368 ---- 0.415 ---- 0.06 ----   3\n",
      "INFO:pykeen.utilities.train_utils:Epoch   3 / 2000 (2.1s):  0.344 ---- 0.391 ---- 0.06 ----   4\n",
      "INFO:pykeen.utilities.train_utils:Epoch   4 / 2000 (2.1s):  0.323 ---- 0.363 ---- 0.06 ----   5\n"
     ]
    },
    {
     "data": {
      "application/vnd.jupyter.widget-view+json": {
       "model_id": "32b44279ad9f40608ecfaa4bb1d57757",
       "version_major": 2,
       "version_minor": 0
      },
      "text/plain": [
       "HBox(children=(IntProgress(value=0, max=200), HTML(value='')))"
      ]
     },
     "metadata": {},
     "output_type": "display_data"
    },
    {
     "name": "stderr",
     "output_type": "stream",
     "text": [
      "DEBUG:pykeen.utilities.evaluation_utils.metrics_computations:Evaluation took 3.88s seconds\n",
      "DEBUG:pykeen.utilities.train_utils:\n",
      "current metric: 0.10059313228869085  ---- rank/hits@10: (0.08016246945853124, 0.135)\n",
      "DEBUG:pykeen.utilities.train_utils:Saving the following model to disk:\n",
      "INFO:pykeen.utilities.train_utils:Epoch   5 / 2000 (2.1s):  0.304 ---- 0.348 ---- 0.10 ----   1\n",
      "INFO:pykeen.utilities.train_utils:Epoch   6 / 2000 (2.1s):  0.286 ---- 0.329 ---- 0.10 ----   2\n",
      "INFO:pykeen.utilities.train_utils:Epoch   7 / 2000 (2.1s):  0.269 ---- 0.319 ---- 0.10 ----   3\n",
      "INFO:pykeen.utilities.train_utils:Epoch   8 / 2000 (2.1s):  0.254 ---- 0.300 ---- 0.10 ----   4\n",
      "INFO:pykeen.utilities.train_utils:Epoch   9 / 2000 (2.1s):  0.239 ---- 0.284 ---- 0.10 ----   5\n"
     ]
    },
    {
     "data": {
      "application/vnd.jupyter.widget-view+json": {
       "model_id": "1b9bd252c30541b8a262595eef6af675",
       "version_major": 2,
       "version_minor": 0
      },
      "text/plain": [
       "HBox(children=(IntProgress(value=0, max=200), HTML(value='')))"
      ]
     },
     "metadata": {},
     "output_type": "display_data"
    },
    {
     "name": "stderr",
     "output_type": "stream",
     "text": [
      "DEBUG:pykeen.utilities.evaluation_utils.metrics_computations:Evaluation took 3.87s seconds\n",
      "DEBUG:pykeen.utilities.train_utils:\n",
      "current metric: 0.11571916542008658  ---- rank/hits@10: (0.0891057864869083, 0.165)\n",
      "DEBUG:pykeen.utilities.train_utils:Saving the following model to disk:\n",
      "INFO:pykeen.utilities.train_utils:Epoch  10 / 2000 (2.1s):  0.225 ---- 0.271 ---- 0.12 ----   1\n",
      "INFO:pykeen.utilities.train_utils:Epoch  11 / 2000 (2.1s):  0.212 ---- 0.251 ---- 0.12 ----   2\n",
      "INFO:pykeen.utilities.train_utils:Epoch  12 / 2000 (2.1s):  0.199 ---- 0.243 ---- 0.12 ----   3\n",
      "INFO:pykeen.utilities.train_utils:Epoch  13 / 2000 (2.1s):  0.187 ---- 0.233 ---- 0.12 ----   4\n",
      "INFO:pykeen.utilities.train_utils:Epoch  14 / 2000 (2.1s):  0.176 ---- 0.225 ---- 0.12 ----   5\n"
     ]
    },
    {
     "data": {
      "application/vnd.jupyter.widget-view+json": {
       "model_id": "1ac1552da5b9406c9df28bd6c2e06841",
       "version_major": 2,
       "version_minor": 0
      },
      "text/plain": [
       "HBox(children=(IntProgress(value=0, max=200), HTML(value='')))"
      ]
     },
     "metadata": {},
     "output_type": "display_data"
    },
    {
     "name": "stderr",
     "output_type": "stream",
     "text": [
      "DEBUG:pykeen.utilities.evaluation_utils.metrics_computations:Evaluation took 3.87s seconds\n",
      "DEBUG:pykeen.utilities.train_utils:\n",
      "current metric: 0.13250263034406268  ---- rank/hits@10: (0.09732584706852034, 0.2075)\n",
      "DEBUG:pykeen.utilities.train_utils:Saving the following model to disk:\n",
      "INFO:pykeen.utilities.train_utils:Epoch  15 / 2000 (2.1s):  0.167 ---- 0.212 ---- 0.13 ----   1\n",
      "INFO:pykeen.utilities.train_utils:Epoch  16 / 2000 (2.1s):  0.157 ---- 0.202 ---- 0.13 ----   2\n",
      "INFO:pykeen.utilities.train_utils:Epoch  17 / 2000 (2.1s):  0.149 ---- 0.192 ---- 0.13 ----   3\n",
      "INFO:pykeen.utilities.train_utils:Epoch  18 / 2000 (2.1s):  0.141 ---- 0.184 ---- 0.13 ----   4\n",
      "INFO:pykeen.utilities.train_utils:Epoch  19 / 2000 (2.1s):  0.134 ---- 0.179 ---- 0.13 ----   5\n"
     ]
    },
    {
     "data": {
      "application/vnd.jupyter.widget-view+json": {
       "model_id": "9ae189565e444e1ebd327d6e55cd67cb",
       "version_major": 2,
       "version_minor": 0
      },
      "text/plain": [
       "HBox(children=(IntProgress(value=0, max=200), HTML(value='')))"
      ]
     },
     "metadata": {},
     "output_type": "display_data"
    },
    {
     "name": "stderr",
     "output_type": "stream",
     "text": [
      "DEBUG:pykeen.utilities.evaluation_utils.metrics_computations:Evaluation took 3.88s seconds\n",
      "DEBUG:pykeen.utilities.train_utils:\n",
      "current metric: 0.13416093076571012  ---- rank/hits@10: (0.10030897151162087, 0.2025)\n",
      "DEBUG:pykeen.utilities.train_utils:Saving the following model to disk:\n",
      "INFO:pykeen.utilities.train_utils:Epoch  20 / 2000 (2.1s):  0.127 ---- 0.169 ---- 0.13 ----   1\n",
      "INFO:pykeen.utilities.train_utils:Epoch  21 / 2000 (2.1s):  0.121 ---- 0.163 ---- 0.13 ----   2\n",
      "INFO:pykeen.utilities.train_utils:Epoch  22 / 2000 (2.1s):  0.115 ---- 0.156 ---- 0.13 ----   3\n",
      "INFO:pykeen.utilities.train_utils:Epoch  23 / 2000 (2.1s):  0.111 ---- 0.152 ---- 0.13 ----   4\n",
      "INFO:pykeen.utilities.train_utils:Epoch  24 / 2000 (2.1s):  0.106 ---- 0.147 ---- 0.13 ----   5\n"
     ]
    },
    {
     "data": {
      "application/vnd.jupyter.widget-view+json": {
       "model_id": "e52b0b7a3d614362b1ebae09a83d5b36",
       "version_major": 2,
       "version_minor": 0
      },
      "text/plain": [
       "HBox(children=(IntProgress(value=0, max=200), HTML(value='')))"
      ]
     },
     "metadata": {},
     "output_type": "display_data"
    },
    {
     "name": "stderr",
     "output_type": "stream",
     "text": [
      "DEBUG:pykeen.utilities.evaluation_utils.metrics_computations:Evaluation took 3.87s seconds\n",
      "DEBUG:pykeen.utilities.train_utils:\n",
      "current metric: 0.14617603243259472  ---- rank/hits@10: (0.11140508171851148, 0.2125)\n",
      "DEBUG:pykeen.utilities.train_utils:Saving the following model to disk:\n",
      "INFO:pykeen.utilities.train_utils:Epoch  25 / 2000 (2.1s):  0.101 ---- 0.142 ---- 0.15 ----   1\n",
      "INFO:pykeen.utilities.train_utils:Epoch  26 / 2000 (2.1s):  0.097 ---- 0.136 ---- 0.15 ----   2\n",
      "INFO:pykeen.utilities.train_utils:Epoch  27 / 2000 (2.1s):  0.094 ---- 0.130 ---- 0.15 ----   3\n",
      "INFO:pykeen.utilities.train_utils:Epoch  28 / 2000 (2.1s):  0.091 ---- 0.130 ---- 0.15 ----   4\n",
      "INFO:pykeen.utilities.train_utils:Epoch  29 / 2000 (2.1s):  0.088 ---- 0.126 ---- 0.15 ----   5\n"
     ]
    },
    {
     "data": {
      "application/vnd.jupyter.widget-view+json": {
       "model_id": "b0e49c93625340c79344be6bf857df2a",
       "version_major": 2,
       "version_minor": 0
      },
      "text/plain": [
       "HBox(children=(IntProgress(value=0, max=200), HTML(value='')))"
      ]
     },
     "metadata": {},
     "output_type": "display_data"
    },
    {
     "name": "stderr",
     "output_type": "stream",
     "text": [
      "DEBUG:pykeen.utilities.evaluation_utils.metrics_computations:Evaluation took 3.89s seconds\n",
      "DEBUG:pykeen.utilities.train_utils:\n",
      "current metric: 0.15888084067932118  ---- rank/hits@10: (0.11874533379977485, 0.24)\n",
      "DEBUG:pykeen.utilities.train_utils:Saving the following model to disk:\n",
      "INFO:pykeen.utilities.train_utils:Epoch  30 / 2000 (2.1s):  0.085 ---- 0.119 ---- 0.16 ----   1\n",
      "INFO:pykeen.utilities.train_utils:Epoch  31 / 2000 (2.1s):  0.082 ---- 0.117 ---- 0.16 ----   2\n",
      "INFO:pykeen.utilities.train_utils:Epoch  32 / 2000 (2.1s):  0.079 ---- 0.114 ---- 0.16 ----   3\n",
      "INFO:pykeen.utilities.train_utils:Epoch  33 / 2000 (2.1s):  0.077 ---- 0.110 ---- 0.16 ----   4\n",
      "INFO:pykeen.utilities.train_utils:Epoch  34 / 2000 (2.1s):  0.075 ---- 0.105 ---- 0.16 ----   5\n"
     ]
    },
    {
     "data": {
      "application/vnd.jupyter.widget-view+json": {
       "model_id": "ff75ec7f82414f26b53b4c5551d01d27",
       "version_major": 2,
       "version_minor": 0
      },
      "text/plain": [
       "HBox(children=(IntProgress(value=0, max=200), HTML(value='')))"
      ]
     },
     "metadata": {},
     "output_type": "display_data"
    },
    {
     "name": "stderr",
     "output_type": "stream",
     "text": [
      "DEBUG:pykeen.utilities.evaluation_utils.metrics_computations:Evaluation took 3.87s seconds\n",
      "DEBUG:pykeen.utilities.train_utils:\n",
      "current metric: 0.15468449939261134  ---- rank/hits@10: (0.11528407987314743, 0.235)\n",
      "INFO:pykeen.utilities.train_utils:Epoch  35 / 2000 (2.1s):  0.073 ---- 0.103 ---- 0.15 ----   6\n",
      "INFO:pykeen.utilities.train_utils:Epoch  36 / 2000 (2.1s):  0.070 ---- 0.100 ---- 0.15 ----   7\n",
      "INFO:pykeen.utilities.train_utils:Epoch  37 / 2000 (2.1s):  0.068 ---- 0.098 ---- 0.15 ----   8\n",
      "INFO:pykeen.utilities.train_utils:Epoch  38 / 2000 (2.1s):  0.067 ---- 0.098 ---- 0.15 ----   9\n",
      "INFO:pykeen.utilities.train_utils:Epoch  39 / 2000 (2.1s):  0.066 ---- 0.095 ---- 0.15 ----  10\n"
     ]
    },
    {
     "data": {
      "application/vnd.jupyter.widget-view+json": {
       "model_id": "37c4291525ca43489ec1888be20ac171",
       "version_major": 2,
       "version_minor": 0
      },
      "text/plain": [
       "HBox(children=(IntProgress(value=0, max=200), HTML(value='')))"
      ]
     },
     "metadata": {},
     "output_type": "display_data"
    },
    {
     "name": "stderr",
     "output_type": "stream",
     "text": [
      "DEBUG:pykeen.utilities.evaluation_utils.metrics_computations:Evaluation took 3.89s seconds\n",
      "DEBUG:pykeen.utilities.train_utils:\n",
      "current metric: 0.15726958128480123  ---- rank/hits@10: (0.12017189878242633, 0.2275)\n",
      "INFO:pykeen.utilities.train_utils:Epoch  40 / 2000 (2.1s):  0.064 ---- 0.090 ---- 0.16 ----  11\n",
      "INFO:pykeen.utilities.train_utils:Epoch  41 / 2000 (2.1s):  0.062 ---- 0.089 ---- 0.16 ----  12\n",
      "INFO:pykeen.utilities.train_utils:Epoch  42 / 2000 (2.1s):  0.060 ---- 0.086 ---- 0.16 ----  13\n",
      "INFO:pykeen.utilities.train_utils:Epoch  43 / 2000 (2.1s):  0.059 ---- 0.085 ---- 0.16 ----  14\n",
      "INFO:pykeen.utilities.train_utils:Epoch  44 / 2000 (2.1s):  0.058 ---- 0.083 ---- 0.16 ----  15\n"
     ]
    },
    {
     "data": {
      "application/vnd.jupyter.widget-view+json": {
       "model_id": "b97b4f7d63af435c95e8e9010b8ea656",
       "version_major": 2,
       "version_minor": 0
      },
      "text/plain": [
       "HBox(children=(IntProgress(value=0, max=200), HTML(value='')))"
      ]
     },
     "metadata": {},
     "output_type": "display_data"
    },
    {
     "name": "stderr",
     "output_type": "stream",
     "text": [
      "DEBUG:pykeen.utilities.evaluation_utils.metrics_computations:Evaluation took 3.91s seconds\n",
      "DEBUG:pykeen.utilities.train_utils:\n",
      "current metric: 0.1684081826747959  ---- rank/hits@10: (0.12899570381722175, 0.2425)\n",
      "DEBUG:pykeen.utilities.train_utils:Saving the following model to disk:\n",
      "INFO:pykeen.utilities.train_utils:Epoch  45 / 2000 (2.1s):  0.057 ---- 0.079 ---- 0.17 ----   1\n",
      "INFO:pykeen.utilities.train_utils:Epoch  46 / 2000 (2.1s):  0.056 ---- 0.078 ---- 0.17 ----   2\n",
      "INFO:pykeen.utilities.train_utils:Epoch  47 / 2000 (2.1s):  0.055 ---- 0.077 ---- 0.17 ----   3\n",
      "INFO:pykeen.utilities.train_utils:Epoch  48 / 2000 (2.1s):  0.054 ---- 0.076 ---- 0.17 ----   4\n",
      "INFO:pykeen.utilities.train_utils:Epoch  49 / 2000 (2.1s):  0.053 ---- 0.076 ---- 0.17 ----   5\n"
     ]
    },
    {
     "data": {
      "application/vnd.jupyter.widget-view+json": {
       "model_id": "61def5e5f2304d1cba1d09b4b6676529",
       "version_major": 2,
       "version_minor": 0
      },
      "text/plain": [
       "HBox(children=(IntProgress(value=0, max=200), HTML(value='')))"
      ]
     },
     "metadata": {},
     "output_type": "display_data"
    },
    {
     "name": "stderr",
     "output_type": "stream",
     "text": [
      "DEBUG:pykeen.utilities.evaluation_utils.metrics_computations:Evaluation took 3.88s seconds\n",
      "DEBUG:pykeen.utilities.train_utils:\n",
      "current metric: 0.1691613392647909  ---- rank/hits@10: (0.12718380329070217, 0.2525)\n",
      "DEBUG:pykeen.utilities.train_utils:Saving the following model to disk:\n",
      "INFO:pykeen.utilities.train_utils:Epoch  50 / 2000 (2.1s):  0.052 ---- 0.072 ---- 0.17 ----   1\n",
      "INFO:pykeen.utilities.train_utils:Epoch  51 / 2000 (2.1s):  0.050 ---- 0.073 ---- 0.17 ----   2\n"
     ]
    },
    {
     "data": {
      "application/vnd.jupyter.widget-view+json": {
       "model_id": "952f70b6055b4989947b13999caa99e3",
       "version_major": 2,
       "version_minor": 0
      },
      "text/plain": [
       "HBox(children=(IntProgress(value=0, max=200), HTML(value='')))"
      ]
     },
     "metadata": {},
     "output_type": "display_data"
    },
    {
     "name": "stderr",
     "output_type": "stream",
     "text": [
      "DEBUG:pykeen.utilities.evaluation_utils.metrics_computations:Evaluation took 3.90s seconds\n",
      "DEBUG:pykeen.utilities.train_utils:\n",
      "current metric: 0.16948578523278765  ---- rank/hits@10: (0.1288660523630692, 0.2475)\n",
      "DEBUG:pykeen.utilities.train_utils:Saving the following model to disk:\n",
      "INFO:pykeen.utilities.train_utils:Epoch  52 / 2000 (2.1s):  0.050 ---- 0.072 ---- 0.17 ----   1\n"
     ]
    },
    {
     "data": {
      "application/vnd.jupyter.widget-view+json": {
       "model_id": "4fbf47d860d247c891bdd57fc6d31c0e",
       "version_major": 2,
       "version_minor": 0
      },
      "text/plain": [
       "HBox(children=(IntProgress(value=0, max=200), HTML(value='')))"
      ]
     },
     "metadata": {},
     "output_type": "display_data"
    },
    {
     "name": "stderr",
     "output_type": "stream",
     "text": [
      "DEBUG:pykeen.utilities.evaluation_utils.metrics_computations:Evaluation took 3.90s seconds\n",
      "DEBUG:pykeen.utilities.train_utils:\n",
      "current metric: 0.17329508425380252  ---- rank/hits@10: (0.13332259239288013, 0.2475)\n",
      "DEBUG:pykeen.utilities.train_utils:Saving the following model to disk:\n",
      "INFO:pykeen.utilities.train_utils:Epoch  53 / 2000 (2.1s):  0.049 ---- 0.070 ---- 0.17 ----   1\n"
     ]
    },
    {
     "data": {
      "application/vnd.jupyter.widget-view+json": {
       "model_id": "6f76aa6df68f4bf38aeae0d227672fdf",
       "version_major": 2,
       "version_minor": 0
      },
      "text/plain": [
       "HBox(children=(IntProgress(value=0, max=200), HTML(value='')))"
      ]
     },
     "metadata": {},
     "output_type": "display_data"
    },
    {
     "name": "stderr",
     "output_type": "stream",
     "text": [
      "DEBUG:pykeen.utilities.evaluation_utils.metrics_computations:Evaluation took 3.91s seconds\n",
      "DEBUG:pykeen.utilities.train_utils:\n",
      "current metric: 0.17403726113624854  ---- rank/hits@10: (0.13209649897437384, 0.255)\n",
      "DEBUG:pykeen.utilities.train_utils:Saving the following model to disk:\n",
      "INFO:pykeen.utilities.train_utils:Epoch  54 / 2000 (2.1s):  0.048 ---- 0.069 ---- 0.17 ----   1\n"
     ]
    },
    {
     "data": {
      "application/vnd.jupyter.widget-view+json": {
       "model_id": "cfccffa129f64e11b95eada5459062d1",
       "version_major": 2,
       "version_minor": 0
      },
      "text/plain": [
       "HBox(children=(IntProgress(value=0, max=200), HTML(value='')))"
      ]
     },
     "metadata": {},
     "output_type": "display_data"
    },
    {
     "name": "stderr",
     "output_type": "stream",
     "text": [
      "DEBUG:pykeen.utilities.evaluation_utils.metrics_computations:Evaluation took 3.89s seconds\n",
      "DEBUG:pykeen.utilities.train_utils:\n",
      "current metric: 0.17520907829321525  ---- rank/hits@10: (0.13414648299012502, 0.2525)\n",
      "DEBUG:pykeen.utilities.train_utils:Saving the following model to disk:\n",
      "INFO:pykeen.utilities.train_utils:Epoch  55 / 2000 (2.1s):  0.047 ---- 0.067 ---- 0.18 ----   1\n"
     ]
    },
    {
     "data": {
      "application/vnd.jupyter.widget-view+json": {
       "model_id": "9c8da792c003492d9515abbd6e8fb401",
       "version_major": 2,
       "version_minor": 0
      },
      "text/plain": [
       "HBox(children=(IntProgress(value=0, max=200), HTML(value='')))"
      ]
     },
     "metadata": {},
     "output_type": "display_data"
    },
    {
     "name": "stderr",
     "output_type": "stream",
     "text": [
      "DEBUG:pykeen.utilities.evaluation_utils.metrics_computations:Evaluation took 3.87s seconds\n",
      "DEBUG:pykeen.utilities.train_utils:\n",
      "current metric: 0.17422299742164127  ---- rank/hits@10: (0.1329938493488319, 0.2525)\n",
      "INFO:pykeen.utilities.train_utils:Epoch  56 / 2000 (2.1s):  0.047 ---- 0.066 ---- 0.17 ----   2\n"
     ]
    },
    {
     "data": {
      "application/vnd.jupyter.widget-view+json": {
       "model_id": "a903d4896c8740d680951dd19032a753",
       "version_major": 2,
       "version_minor": 0
      },
      "text/plain": [
       "HBox(children=(IntProgress(value=0, max=200), HTML(value='')))"
      ]
     },
     "metadata": {},
     "output_type": "display_data"
    },
    {
     "name": "stderr",
     "output_type": "stream",
     "text": [
      "DEBUG:pykeen.utilities.evaluation_utils.metrics_computations:Evaluation took 3.86s seconds\n",
      "DEBUG:pykeen.utilities.train_utils:\n",
      "current metric: 0.17518798758690443  ---- rank/hits@10: (0.13275253715512686, 0.2575)\n",
      "INFO:pykeen.utilities.train_utils:Epoch  57 / 2000 (2.1s):  0.046 ---- 0.064 ---- 0.18 ----   3\n",
      "INFO:pykeen.utilities.train_utils:Epoch  58 / 2000 (2.1s):  0.045 ---- 0.067 ---- 0.18 ----   4\n"
     ]
    },
    {
     "data": {
      "application/vnd.jupyter.widget-view+json": {
       "model_id": "934a1b72a5db4bbd84f915f373e5cdb8",
       "version_major": 2,
       "version_minor": 0
      },
      "text/plain": [
       "HBox(children=(IntProgress(value=0, max=200), HTML(value='')))"
      ]
     },
     "metadata": {},
     "output_type": "display_data"
    },
    {
     "name": "stderr",
     "output_type": "stream",
     "text": [
      "DEBUG:pykeen.utilities.evaluation_utils.metrics_computations:Evaluation took 3.90s seconds\n",
      "DEBUG:pykeen.utilities.train_utils:\n",
      "current metric: 0.18053853783045676  ---- rank/hits@10: (0.13498478348285206, 0.2725)\n",
      "DEBUG:pykeen.utilities.train_utils:Saving the following model to disk:\n",
      "INFO:pykeen.utilities.train_utils:Epoch  59 / 2000 (2.1s):  0.045 ---- 0.063 ---- 0.18 ----   1\n"
     ]
    },
    {
     "name": "stdout",
     "output_type": "stream",
     "text": [
      "\n"
     ]
    },
    {
     "data": {
      "application/vnd.jupyter.widget-view+json": {
       "model_id": "ad7322ffaf14417081b191c072eb1506",
       "version_major": 2,
       "version_minor": 0
      },
      "text/plain": [
       "HBox(children=(IntProgress(value=0, max=200), HTML(value='')))"
      ]
     },
     "metadata": {},
     "output_type": "display_data"
    },
    {
     "name": "stderr",
     "output_type": "stream",
     "text": [
      "DEBUG:pykeen.utilities.evaluation_utils.metrics_computations:Evaluation took 3.92s seconds\n",
      "DEBUG:pykeen.utilities.train_utils:\n",
      "current metric: 0.1757233947085037  ---- rank/hits@10: (0.13475040877750163, 0.2525)\n",
      "INFO:pykeen.utilities.train_utils:Epoch  60 / 2000 (2.1s):  0.044 ---- 0.063 ---- 0.18 ----   2\n"
     ]
    },
    {
     "data": {
      "application/vnd.jupyter.widget-view+json": {
       "model_id": "a76e0c8a356d496892df51282c2d093d",
       "version_major": 2,
       "version_minor": 0
      },
      "text/plain": [
       "HBox(children=(IntProgress(value=0, max=200), HTML(value='')))"
      ]
     },
     "metadata": {},
     "output_type": "display_data"
    },
    {
     "name": "stderr",
     "output_type": "stream",
     "text": [
      "DEBUG:pykeen.utilities.evaluation_utils.metrics_computations:Evaluation took 3.93s seconds\n",
      "DEBUG:pykeen.utilities.train_utils:\n",
      "current metric: 0.17499505558024564  ---- rank/hits@10: (0.13062829252860575, 0.265)\n",
      "INFO:pykeen.utilities.train_utils:Epoch  61 / 2000 (2.1s):  0.044 ---- 0.060 ---- 0.17 ----   3\n",
      "INFO:pykeen.utilities.train_utils:Epoch  62 / 2000 (2.1s):  0.043 ---- 0.061 ---- 0.17 ----   4\n"
     ]
    },
    {
     "data": {
      "application/vnd.jupyter.widget-view+json": {
       "model_id": "36a2f225accb43859c7a74e885bb9f13",
       "version_major": 2,
       "version_minor": 0
      },
      "text/plain": [
       "HBox(children=(IntProgress(value=0, max=200), HTML(value='')))"
      ]
     },
     "metadata": {},
     "output_type": "display_data"
    },
    {
     "name": "stderr",
     "output_type": "stream",
     "text": [
      "DEBUG:pykeen.utilities.evaluation_utils.metrics_computations:Evaluation took 3.90s seconds\n",
      "DEBUG:pykeen.utilities.train_utils:\n",
      "current metric: 0.17806974574795617  ---- rank/hits@10: (0.1310968113798997, 0.2775)\n",
      "INFO:pykeen.utilities.train_utils:Epoch  63 / 2000 (2.1s):  0.043 ---- 0.060 ---- 0.18 ----   5\n"
     ]
    },
    {
     "data": {
      "application/vnd.jupyter.widget-view+json": {
       "model_id": "d9390e4746fd4b67ad45b271fd6f6e7e",
       "version_major": 2,
       "version_minor": 0
      },
      "text/plain": [
       "HBox(children=(IntProgress(value=0, max=200), HTML(value='')))"
      ]
     },
     "metadata": {},
     "output_type": "display_data"
    },
    {
     "name": "stderr",
     "output_type": "stream",
     "text": [
      "DEBUG:pykeen.utilities.evaluation_utils.metrics_computations:Evaluation took 3.91s seconds\n",
      "DEBUG:pykeen.utilities.train_utils:\n",
      "current metric: 0.17987537423190603  ---- rank/hits@10: (0.13485984453029165, 0.27)\n",
      "INFO:pykeen.utilities.train_utils:Epoch  64 / 2000 (2.1s):  0.042 ---- 0.059 ---- 0.18 ----   6\n"
     ]
    },
    {
     "data": {
      "application/vnd.jupyter.widget-view+json": {
       "model_id": "d295bad80e2a4992817bfd57fe39771c",
       "version_major": 2,
       "version_minor": 0
      },
      "text/plain": [
       "HBox(children=(IntProgress(value=0, max=200), HTML(value='')))"
      ]
     },
     "metadata": {},
     "output_type": "display_data"
    },
    {
     "name": "stderr",
     "output_type": "stream",
     "text": [
      "DEBUG:pykeen.utilities.evaluation_utils.metrics_computations:Evaluation took 3.90s seconds\n",
      "DEBUG:pykeen.utilities.train_utils:\n",
      "current metric: 0.1800966854420065  ---- rank/hits@10: (0.1351088003428385, 0.27)\n",
      "INFO:pykeen.utilities.train_utils:Epoch  65 / 2000 (2.1s):  0.041 ---- 0.058 ---- 0.18 ----   7\n"
     ]
    },
    {
     "data": {
      "application/vnd.jupyter.widget-view+json": {
       "model_id": "f8bd1e226bf443d79215ad6c1a663277",
       "version_major": 2,
       "version_minor": 0
      },
      "text/plain": [
       "HBox(children=(IntProgress(value=0, max=200), HTML(value='')))"
      ]
     },
     "metadata": {},
     "output_type": "display_data"
    },
    {
     "name": "stderr",
     "output_type": "stream",
     "text": [
      "DEBUG:pykeen.utilities.evaluation_utils.metrics_computations:Evaluation took 3.90s seconds\n",
      "DEBUG:pykeen.utilities.train_utils:\n",
      "current metric: 0.17779969624637168  ---- rank/hits@10: (0.13136721269340332, 0.275)\n",
      "INFO:pykeen.utilities.train_utils:Epoch  66 / 2000 (2.1s):  0.041 ---- 0.057 ---- 0.18 ----   8\n"
     ]
    },
    {
     "data": {
      "application/vnd.jupyter.widget-view+json": {
       "model_id": "304271316d134714b652a726806be7d8",
       "version_major": 2,
       "version_minor": 0
      },
      "text/plain": [
       "HBox(children=(IntProgress(value=0, max=200), HTML(value='')))"
      ]
     },
     "metadata": {},
     "output_type": "display_data"
    },
    {
     "name": "stderr",
     "output_type": "stream",
     "text": [
      "DEBUG:pykeen.utilities.evaluation_utils.metrics_computations:Evaluation took 3.90s seconds\n",
      "DEBUG:pykeen.utilities.train_utils:\n",
      "current metric: 0.17677744310540905  ---- rank/hits@10: (0.13200722601232415, 0.2675)\n",
      "INFO:pykeen.utilities.train_utils:Epoch  67 / 2000 (2.1s):  0.041 ---- 0.055 ---- 0.18 ----   9\n",
      "INFO:pykeen.utilities.train_utils:Epoch  68 / 2000 (2.1s):  0.040 ---- 0.056 ---- 0.18 ----  10\n",
      "INFO:pykeen.utilities.train_utils:Epoch  69 / 2000 (2.1s):  0.040 ---- 0.056 ---- 0.18 ----  11\n"
     ]
    },
    {
     "data": {
      "application/vnd.jupyter.widget-view+json": {
       "model_id": "96955a1fd5664882994c538a43b9c737",
       "version_major": 2,
       "version_minor": 0
      },
      "text/plain": [
       "HBox(children=(IntProgress(value=0, max=200), HTML(value='')))"
      ]
     },
     "metadata": {},
     "output_type": "display_data"
    },
    {
     "name": "stderr",
     "output_type": "stream",
     "text": [
      "DEBUG:pykeen.utilities.evaluation_utils.metrics_computations:Evaluation took 3.87s seconds\n",
      "DEBUG:pykeen.utilities.train_utils:\n",
      "current metric: 0.18206752700409234  ---- rank/hits@10: (0.13547690909766938, 0.2775)\n",
      "DEBUG:pykeen.utilities.train_utils:Saving the following model to disk:\n",
      "INFO:pykeen.utilities.train_utils:Epoch  70 / 2000 (2.1s):  0.039 ---- 0.054 ---- 0.18 ----   1\n",
      "INFO:pykeen.utilities.train_utils:Epoch  71 / 2000 (2.1s):  0.039 ---- 0.054 ---- 0.18 ----   2\n"
     ]
    },
    {
     "data": {
      "application/vnd.jupyter.widget-view+json": {
       "model_id": "496677232c3f402495c75d8a940a5a9b",
       "version_major": 2,
       "version_minor": 0
      },
      "text/plain": [
       "HBox(children=(IntProgress(value=0, max=200), HTML(value='')))"
      ]
     },
     "metadata": {},
     "output_type": "display_data"
    },
    {
     "name": "stderr",
     "output_type": "stream",
     "text": [
      "DEBUG:pykeen.utilities.evaluation_utils.metrics_computations:Evaluation took 3.87s seconds\n",
      "DEBUG:pykeen.utilities.train_utils:\n",
      "current metric: 0.18199838462397647  ---- rank/hits@10: (0.13726073218094387, 0.27)\n",
      "INFO:pykeen.utilities.train_utils:Epoch  72 / 2000 (2.1s):  0.038 ---- 0.052 ---- 0.18 ----   3\n"
     ]
    },
    {
     "data": {
      "application/vnd.jupyter.widget-view+json": {
       "model_id": "6573abc55dde49cc8737556d5cb5a8d9",
       "version_major": 2,
       "version_minor": 0
      },
      "text/plain": [
       "HBox(children=(IntProgress(value=0, max=200), HTML(value='')))"
      ]
     },
     "metadata": {},
     "output_type": "display_data"
    },
    {
     "name": "stderr",
     "output_type": "stream",
     "text": [
      "DEBUG:pykeen.utilities.evaluation_utils.metrics_computations:Evaluation took 3.88s seconds\n",
      "DEBUG:pykeen.utilities.train_utils:\n",
      "current metric: 0.1865706589328789  ---- rank/hits@10: (0.14052452419754954, 0.2775)\n",
      "DEBUG:pykeen.utilities.train_utils:Saving the following model to disk:\n",
      "INFO:pykeen.utilities.train_utils:Epoch  73 / 2000 (2.1s):  0.038 ---- 0.051 ---- 0.19 ----   1\n",
      "INFO:pykeen.utilities.train_utils:Epoch  74 / 2000 (2.1s):  0.038 ---- 0.052 ---- 0.19 ----   2\n"
     ]
    },
    {
     "data": {
      "application/vnd.jupyter.widget-view+json": {
       "model_id": "52e7386e8a824e6db08b66336c122e84",
       "version_major": 2,
       "version_minor": 0
      },
      "text/plain": [
       "HBox(children=(IntProgress(value=0, max=200), HTML(value='')))"
      ]
     },
     "metadata": {},
     "output_type": "display_data"
    },
    {
     "name": "stderr",
     "output_type": "stream",
     "text": [
      "DEBUG:pykeen.utilities.evaluation_utils.metrics_computations:Evaluation took 3.89s seconds\n",
      "DEBUG:pykeen.utilities.train_utils:\n",
      "current metric: 0.18545463294835127  ---- rank/hits@10: (0.13926209129277153, 0.2775)\n",
      "INFO:pykeen.utilities.train_utils:Epoch  75 / 2000 (2.1s):  0.037 ---- 0.053 ---- 0.19 ----   3\n"
     ]
    },
    {
     "data": {
      "application/vnd.jupyter.widget-view+json": {
       "model_id": "2f6c76b40b864b75a5959aaa79729330",
       "version_major": 2,
       "version_minor": 0
      },
      "text/plain": [
       "HBox(children=(IntProgress(value=0, max=200), HTML(value='')))"
      ]
     },
     "metadata": {},
     "output_type": "display_data"
    },
    {
     "name": "stderr",
     "output_type": "stream",
     "text": [
      "DEBUG:pykeen.utilities.evaluation_utils.metrics_computations:Evaluation took 3.90s seconds\n",
      "DEBUG:pykeen.utilities.train_utils:\n",
      "current metric: 0.18316959844211775  ---- rank/hits@10: (0.13731588046590582, 0.275)\n",
      "INFO:pykeen.utilities.train_utils:Epoch  76 / 2000 (2.1s):  0.036 ---- 0.051 ---- 0.18 ----   4\n",
      "INFO:pykeen.utilities.train_utils:Epoch  77 / 2000 (2.1s):  0.036 ---- 0.052 ---- 0.18 ----   5\n"
     ]
    },
    {
     "data": {
      "application/vnd.jupyter.widget-view+json": {
       "model_id": "03875190b7124764890d183f3d4f5c68",
       "version_major": 2,
       "version_minor": 0
      },
      "text/plain": [
       "HBox(children=(IntProgress(value=0, max=200), HTML(value='')))"
      ]
     },
     "metadata": {},
     "output_type": "display_data"
    },
    {
     "name": "stderr",
     "output_type": "stream",
     "text": [
      "DEBUG:pykeen.utilities.evaluation_utils.metrics_computations:Evaluation took 3.87s seconds\n",
      "DEBUG:pykeen.utilities.train_utils:\n",
      "current metric: 0.18760930484585536  ---- rank/hits@10: (0.138090102099967, 0.2925)\n",
      "DEBUG:pykeen.utilities.train_utils:Saving the following model to disk:\n",
      "INFO:pykeen.utilities.train_utils:Epoch  78 / 2000 (2.1s):  0.036 ---- 0.050 ---- 0.19 ----   1\n"
     ]
    },
    {
     "data": {
      "application/vnd.jupyter.widget-view+json": {
       "model_id": "8e00fd9dbdab4c7d8cd3092636784d08",
       "version_major": 2,
       "version_minor": 0
      },
      "text/plain": [
       "HBox(children=(IntProgress(value=0, max=200), HTML(value='')))"
      ]
     },
     "metadata": {},
     "output_type": "display_data"
    },
    {
     "name": "stderr",
     "output_type": "stream",
     "text": [
      "DEBUG:pykeen.utilities.evaluation_utils.metrics_computations:Evaluation took 3.89s seconds\n",
      "DEBUG:pykeen.utilities.train_utils:\n",
      "current metric: 0.18548724882937567  ---- rank/hits@10: (0.13580297530834276, 0.2925)\n",
      "INFO:pykeen.utilities.train_utils:Epoch  79 / 2000 (2.1s):  0.036 ---- 0.048 ---- 0.19 ----   2\n"
     ]
    },
    {
     "data": {
      "application/vnd.jupyter.widget-view+json": {
       "model_id": "c18c7ce6c79b4a5cb936526a9ec4b115",
       "version_major": 2,
       "version_minor": 0
      },
      "text/plain": [
       "HBox(children=(IntProgress(value=0, max=200), HTML(value='')))"
      ]
     },
     "metadata": {},
     "output_type": "display_data"
    },
    {
     "name": "stderr",
     "output_type": "stream",
     "text": [
      "DEBUG:pykeen.utilities.evaluation_utils.metrics_computations:Evaluation took 3.89s seconds\n",
      "DEBUG:pykeen.utilities.train_utils:\n",
      "current metric: 0.1838623583815883  ---- rank/hits@10: (0.13809601310436306, 0.275)\n",
      "INFO:pykeen.utilities.train_utils:Epoch  80 / 2000 (2.1s):  0.035 ---- 0.049 ---- 0.18 ----   3\n",
      "INFO:pykeen.utilities.train_utils:Epoch  81 / 2000 (2.1s):  0.035 ---- 0.049 ---- 0.18 ----   4\n",
      "INFO:pykeen.utilities.train_utils:Epoch  82 / 2000 (2.1s):  0.035 ---- 0.048 ---- 0.18 ----   5\n",
      "INFO:pykeen.utilities.train_utils:Epoch  83 / 2000 (2.1s):  0.034 ---- 0.049 ---- 0.18 ----   6\n"
     ]
    },
    {
     "data": {
      "application/vnd.jupyter.widget-view+json": {
       "model_id": "f1a5c7da98864778a87af35265f75fd4",
       "version_major": 2,
       "version_minor": 0
      },
      "text/plain": [
       "HBox(children=(IntProgress(value=0, max=200), HTML(value='')))"
      ]
     },
     "metadata": {},
     "output_type": "display_data"
    },
    {
     "name": "stderr",
     "output_type": "stream",
     "text": [
      "DEBUG:pykeen.utilities.evaluation_utils.metrics_computations:Evaluation took 3.89s seconds\n",
      "DEBUG:pykeen.utilities.train_utils:\n",
      "current metric: 0.18824617452717404  ---- rank/hits@10: (0.13993597894060175, 0.2875)\n",
      "DEBUG:pykeen.utilities.train_utils:Saving the following model to disk:\n",
      "INFO:pykeen.utilities.train_utils:Epoch  84 / 2000 (2.1s):  0.034 ---- 0.045 ---- 0.19 ----   1\n"
     ]
    },
    {
     "name": "stdout",
     "output_type": "stream",
     "text": [
      "\n"
     ]
    },
    {
     "name": "stderr",
     "output_type": "stream",
     "text": [
      "Exception in thread Thread-4:\n",
      "Traceback (most recent call last):\n",
      "  File \"/usr/lib64/python3.6/threading.py\", line 916, in _bootstrap_inner\n",
      "    self.run()\n",
      "  File \"/mounts/Users/student/speranskaya/.local/lib/python3.6/site-packages/tqdm/_monitor.py\", line 78, in run\n",
      "    instances = self.get_instances()\n",
      "  File \"/mounts/Users/student/speranskaya/.local/lib/python3.6/site-packages/tqdm/_monitor.py\", line 58, in get_instances\n",
      "    return [i for i in self.tqdm_cls._instances.copy()\n",
      "  File \"/usr/lib64/python3.6/_weakrefset.py\", line 92, in copy\n",
      "    return self.__class__(self)\n",
      "  File \"/usr/lib64/python3.6/_weakrefset.py\", line 50, in __init__\n",
      "    self.update(data)\n",
      "  File \"/usr/lib64/python3.6/_weakrefset.py\", line 119, in update\n",
      "    for element in other:\n",
      "  File \"/usr/lib64/python3.6/_weakrefset.py\", line 60, in __iter__\n",
      "    for itemref in self.data:\n",
      "RuntimeError: Set changed size during iteration\n",
      "\n"
     ]
    },
    {
     "data": {
      "application/vnd.jupyter.widget-view+json": {
       "model_id": "7e5d059470534ba59159776f226ef59c",
       "version_major": 2,
       "version_minor": 0
      },
      "text/plain": [
       "HBox(children=(IntProgress(value=0, max=200), HTML(value='')))"
      ]
     },
     "metadata": {},
     "output_type": "display_data"
    },
    {
     "name": "stderr",
     "output_type": "stream",
     "text": [
      "DEBUG:pykeen.utilities.evaluation_utils.metrics_computations:Evaluation took 3.92s seconds\n",
      "DEBUG:pykeen.utilities.train_utils:\n",
      "current metric: 0.1938923716051359  ---- rank/hits@10: (0.14562982865488847, 0.29)\n",
      "DEBUG:pykeen.utilities.train_utils:Saving the following model to disk:\n",
      "INFO:pykeen.utilities.train_utils:Epoch  85 / 2000 (2.1s):  0.034 ---- 0.048 ---- 0.19 ----   1\n",
      "INFO:pykeen.utilities.train_utils:Epoch  86 / 2000 (2.1s):  0.034 ---- 0.047 ---- 0.19 ----   2\n",
      "INFO:pykeen.utilities.train_utils:Epoch  87 / 2000 (2.1s):  0.033 ---- 0.046 ---- 0.19 ----   3\n"
     ]
    },
    {
     "data": {
      "application/vnd.jupyter.widget-view+json": {
       "model_id": "b4d0eed0303b4116970c9cbebfe28c96",
       "version_major": 2,
       "version_minor": 0
      },
      "text/plain": [
       "HBox(children=(IntProgress(value=0, max=200), HTML(value='')))"
      ]
     },
     "metadata": {},
     "output_type": "display_data"
    },
    {
     "name": "stderr",
     "output_type": "stream",
     "text": [
      "DEBUG:pykeen.utilities.evaluation_utils.metrics_computations:Evaluation took 3.91s seconds\n",
      "DEBUG:pykeen.utilities.train_utils:\n",
      "current metric: 0.1923111268065662  ---- rank/hits@10: (0.1404272352949161, 0.305)\n",
      "INFO:pykeen.utilities.train_utils:Epoch  88 / 2000 (2.1s):  0.033 ---- 0.045 ---- 0.19 ----   4\n"
     ]
    },
    {
     "data": {
      "application/vnd.jupyter.widget-view+json": {
       "model_id": "1bab9be73bfc4b6ebb0274dab885058c",
       "version_major": 2,
       "version_minor": 0
      },
      "text/plain": [
       "HBox(children=(IntProgress(value=0, max=200), HTML(value='')))"
      ]
     },
     "metadata": {},
     "output_type": "display_data"
    },
    {
     "name": "stderr",
     "output_type": "stream",
     "text": [
      "DEBUG:pykeen.utilities.evaluation_utils.metrics_computations:Evaluation took 3.91s seconds\n",
      "DEBUG:pykeen.utilities.train_utils:\n",
      "current metric: 0.19904638129292218  ---- rank/hits@10: (0.15019347480552941, 0.295)\n",
      "DEBUG:pykeen.utilities.train_utils:Saving the following model to disk:\n",
      "INFO:pykeen.utilities.train_utils:Epoch  89 / 2000 (2.1s):  0.033 ---- 0.045 ---- 0.20 ----   1\n"
     ]
    },
    {
     "name": "stdout",
     "output_type": "stream",
     "text": [
      "\n",
      "\n",
      "\n"
     ]
    },
    {
     "data": {
      "application/vnd.jupyter.widget-view+json": {
       "model_id": "4b2312684bf041b5a67bf44b1ab408ed",
       "version_major": 2,
       "version_minor": 0
      },
      "text/plain": [
       "HBox(children=(IntProgress(value=0, max=200), HTML(value='')))"
      ]
     },
     "metadata": {},
     "output_type": "display_data"
    },
    {
     "name": "stderr",
     "output_type": "stream",
     "text": [
      "DEBUG:pykeen.utilities.evaluation_utils.metrics_computations:Evaluation took 3.91s seconds\n",
      "DEBUG:pykeen.utilities.train_utils:\n",
      "current metric: 0.1957220997369251  ---- rank/hits@10: (0.14409467746615123, 0.305)\n",
      "INFO:pykeen.utilities.train_utils:Epoch  90 / 2000 (2.1s):  0.033 ---- 0.045 ---- 0.20 ----   2\n"
     ]
    },
    {
     "data": {
      "application/vnd.jupyter.widget-view+json": {
       "model_id": "fab5e38cf5a04b749501cd574a48e7ee",
       "version_major": 2,
       "version_minor": 0
      },
      "text/plain": [
       "HBox(children=(IntProgress(value=0, max=200), HTML(value='')))"
      ]
     },
     "metadata": {},
     "output_type": "display_data"
    },
    {
     "name": "stderr",
     "output_type": "stream",
     "text": [
      "DEBUG:pykeen.utilities.evaluation_utils.metrics_computations:Evaluation took 3.91s seconds\n",
      "DEBUG:pykeen.utilities.train_utils:\n",
      "current metric: 0.19517256589878518  ---- rank/hits@10: (0.14295293527532432, 0.3075)\n",
      "INFO:pykeen.utilities.train_utils:Epoch  91 / 2000 (2.1s):  0.032 ---- 0.045 ---- 0.20 ----   3\n",
      "INFO:pykeen.utilities.train_utils:Epoch  92 / 2000 (2.1s):  0.032 ---- 0.046 ---- 0.20 ----   4\n",
      "INFO:pykeen.utilities.train_utils:Epoch  93 / 2000 (2.1s):  0.032 ---- 0.045 ---- 0.20 ----   5\n",
      "INFO:pykeen.utilities.train_utils:Epoch  94 / 2000 (2.1s):  0.032 ---- 0.045 ---- 0.20 ----   6\n"
     ]
    },
    {
     "data": {
      "application/vnd.jupyter.widget-view+json": {
       "model_id": "14a7866641b947e09e842c6d94cc1a80",
       "version_major": 2,
       "version_minor": 0
      },
      "text/plain": [
       "HBox(children=(IntProgress(value=0, max=200), HTML(value='')))"
      ]
     },
     "metadata": {},
     "output_type": "display_data"
    },
    {
     "name": "stderr",
     "output_type": "stream",
     "text": [
      "DEBUG:pykeen.utilities.evaluation_utils.metrics_computations:Evaluation took 3.89s seconds\n",
      "DEBUG:pykeen.utilities.train_utils:\n",
      "current metric: 0.19459937520878673  ---- rank/hits@10: (0.14642897592893261, 0.29)\n",
      "INFO:pykeen.utilities.train_utils:Epoch  95 / 2000 (2.1s):  0.031 ---- 0.045 ---- 0.19 ----   7\n"
     ]
    },
    {
     "data": {
      "application/vnd.jupyter.widget-view+json": {
       "model_id": "18a6baa4874742aaa89f2c98e14134ba",
       "version_major": 2,
       "version_minor": 0
      },
      "text/plain": [
       "HBox(children=(IntProgress(value=0, max=200), HTML(value='')))"
      ]
     },
     "metadata": {},
     "output_type": "display_data"
    },
    {
     "name": "stderr",
     "output_type": "stream",
     "text": [
      "DEBUG:pykeen.utilities.evaluation_utils.metrics_computations:Evaluation took 3.85s seconds\n",
      "DEBUG:pykeen.utilities.train_utils:\n",
      "current metric: 0.19670563459157878  ---- rank/hits@10: (0.14405754412665822, 0.31)\n",
      "INFO:pykeen.utilities.train_utils:Epoch  96 / 2000 (2.1s):  0.031 ---- 0.043 ---- 0.20 ----   8\n",
      "INFO:pykeen.utilities.train_utils:Epoch  97 / 2000 (2.1s):  0.031 ---- 0.045 ---- 0.20 ----   9\n",
      "INFO:pykeen.utilities.train_utils:Epoch  98 / 2000 (2.1s):  0.031 ---- 0.045 ---- 0.20 ----  10\n",
      "INFO:pykeen.utilities.train_utils:Epoch  99 / 2000 (2.1s):  0.031 ---- 0.044 ---- 0.20 ----  11\n"
     ]
    },
    {
     "name": "stdout",
     "output_type": "stream",
     "text": [
      "\n",
      "\n",
      "\n"
     ]
    },
    {
     "data": {
      "application/vnd.jupyter.widget-view+json": {
       "model_id": "13f9ec02118648a2b3c1a7bfb2a0cec5",
       "version_major": 2,
       "version_minor": 0
      },
      "text/plain": [
       "HBox(children=(IntProgress(value=0, max=200), HTML(value='')))"
      ]
     },
     "metadata": {},
     "output_type": "display_data"
    },
    {
     "name": "stderr",
     "output_type": "stream",
     "text": [
      "DEBUG:pykeen.utilities.evaluation_utils.metrics_computations:Evaluation took 3.87s seconds\n",
      "DEBUG:pykeen.utilities.train_utils:\n",
      "current metric: 0.19428415626076517  ---- rank/hits@10: (0.14096021707584694, 0.3125)\n",
      "INFO:pykeen.utilities.train_utils:Epoch 100 / 2000 (2.1s):  0.030 ---- 0.045 ---- 0.19 ----  12\n",
      "INFO:pykeen.utilities.train_utils:Epoch 101 / 2000 (2.1s):  0.030 ---- 0.043 ---- 0.19 ----  13\n",
      "INFO:pykeen.utilities.train_utils:Epoch 102 / 2000 (2.1s):  0.030 ---- 0.043 ---- 0.19 ----  14\n"
     ]
    },
    {
     "data": {
      "application/vnd.jupyter.widget-view+json": {
       "model_id": "72b33d69497f46c0a81efa09c079bf59",
       "version_major": 2,
       "version_minor": 0
      },
      "text/plain": [
       "HBox(children=(IntProgress(value=0, max=200), HTML(value='')))"
      ]
     },
     "metadata": {},
     "output_type": "display_data"
    },
    {
     "name": "stderr",
     "output_type": "stream",
     "text": [
      "DEBUG:pykeen.utilities.evaluation_utils.metrics_computations:Evaluation took 3.90s seconds\n",
      "DEBUG:pykeen.utilities.train_utils:\n",
      "current metric: 0.19333965183228288  ---- rank/hits@10: (0.1415267713094451, 0.305)\n",
      "INFO:pykeen.utilities.train_utils:Epoch 103 / 2000 (2.1s):  0.030 ---- 0.041 ---- 0.19 ----  15\n",
      "INFO:pykeen.utilities.train_utils:Epoch 104 / 2000 (2.1s):  0.030 ---- 0.042 ---- 0.19 ----  16\n"
     ]
    },
    {
     "data": {
      "application/vnd.jupyter.widget-view+json": {
       "model_id": "bd92772f461c4f52bdac439ec3dfe63e",
       "version_major": 2,
       "version_minor": 0
      },
      "text/plain": [
       "HBox(children=(IntProgress(value=0, max=200), HTML(value='')))"
      ]
     },
     "metadata": {},
     "output_type": "display_data"
    },
    {
     "name": "stderr",
     "output_type": "stream",
     "text": [
      "DEBUG:pykeen.utilities.evaluation_utils.metrics_computations:Evaluation took 3.96s seconds\n",
      "DEBUG:pykeen.utilities.train_utils:\n",
      "current metric: 0.1926360157473353  ---- rank/hits@10: (0.13973373302877143, 0.31)\n",
      "INFO:pykeen.utilities.train_utils:Epoch 105 / 2000 (2.1s):  0.029 ---- 0.043 ---- 0.19 ----  17\n",
      "INFO:pykeen.utilities.train_utils:Epoch 106 / 2000 (2.1s):  0.029 ---- 0.042 ---- 0.19 ----  18\n",
      "INFO:pykeen.utilities.train_utils:Epoch 107 / 2000 (2.1s):  0.029 ---- 0.044 ---- 0.19 ----  19\n",
      "INFO:pykeen.utilities.train_utils:Epoch 108 / 2000 (2.1s):  0.029 ---- 0.043 ---- 0.19 ----  20\n"
     ]
    },
    {
     "data": {
      "application/vnd.jupyter.widget-view+json": {
       "model_id": "e5e3283c9d064f8783ece0cfaf55c92c",
       "version_major": 2,
       "version_minor": 0
      },
      "text/plain": [
       "HBox(children=(IntProgress(value=0, max=200), HTML(value='')))"
      ]
     },
     "metadata": {},
     "output_type": "display_data"
    },
    {
     "name": "stderr",
     "output_type": "stream",
     "text": [
      "DEBUG:pykeen.utilities.evaluation_utils.metrics_computations:Evaluation took 3.89s seconds\n",
      "DEBUG:pykeen.utilities.train_utils:\n",
      "current metric: 0.20637763662278227  ---- rank/hits@10: (0.15230036385794044, 0.32)\n",
      "DEBUG:pykeen.utilities.train_utils:Saving the following model to disk:\n",
      "INFO:pykeen.utilities.train_utils:Epoch 109 / 2000 (2.1s):  0.029 ---- 0.041 ---- 0.21 ----   1\n"
     ]
    },
    {
     "name": "stdout",
     "output_type": "stream",
     "text": [
      "\n",
      "\n",
      "\n"
     ]
    },
    {
     "data": {
      "application/vnd.jupyter.widget-view+json": {
       "model_id": "23ecbd32571544128c84995432af1778",
       "version_major": 2,
       "version_minor": 0
      },
      "text/plain": [
       "HBox(children=(IntProgress(value=0, max=200), HTML(value='')))"
      ]
     },
     "metadata": {},
     "output_type": "display_data"
    },
    {
     "name": "stderr",
     "output_type": "stream",
     "text": [
      "DEBUG:pykeen.utilities.evaluation_utils.metrics_computations:Evaluation took 3.88s seconds\n",
      "DEBUG:pykeen.utilities.train_utils:\n",
      "current metric: 0.20067365349793825  ---- rank/hits@10: (0.14778841152584665, 0.3125)\n",
      "INFO:pykeen.utilities.train_utils:Epoch 110 / 2000 (2.1s):  0.028 ---- 0.044 ---- 0.20 ----   2\n",
      "INFO:pykeen.utilities.train_utils:Epoch 111 / 2000 (2.1s):  0.029 ---- 0.041 ---- 0.20 ----   3\n",
      "INFO:pykeen.utilities.train_utils:Epoch 112 / 2000 (2.1s):  0.028 ---- 0.042 ---- 0.20 ----   4\n",
      "INFO:pykeen.utilities.train_utils:Epoch 113 / 2000 (2.1s):  0.028 ---- 0.044 ---- 0.20 ----   5\n",
      "INFO:pykeen.utilities.train_utils:Epoch 114 / 2000 (2.1s):  0.028 ---- 0.041 ---- 0.20 ----   6\n"
     ]
    },
    {
     "data": {
      "application/vnd.jupyter.widget-view+json": {
       "model_id": "892f1b0122154a2eb182a7f358bda7ac",
       "version_major": 2,
       "version_minor": 0
      },
      "text/plain": [
       "HBox(children=(IntProgress(value=0, max=200), HTML(value='')))"
      ]
     },
     "metadata": {},
     "output_type": "display_data"
    },
    {
     "name": "stderr",
     "output_type": "stream",
     "text": [
      "DEBUG:pykeen.utilities.evaluation_utils.metrics_computations:Evaluation took 3.86s seconds\n",
      "DEBUG:pykeen.utilities.train_utils:\n",
      "current metric: 0.2068438047052561  ---- rank/hits@10: (0.1533853970014597, 0.3175)\n",
      "DEBUG:pykeen.utilities.train_utils:Saving the following model to disk:\n",
      "INFO:pykeen.utilities.train_utils:Epoch 115 / 2000 (2.1s):  0.028 ---- 0.041 ---- 0.21 ----   1\n"
     ]
    },
    {
     "data": {
      "application/vnd.jupyter.widget-view+json": {
       "model_id": "ee54b3cf41f843a88dc161fec46eff4c",
       "version_major": 2,
       "version_minor": 0
      },
      "text/plain": [
       "HBox(children=(IntProgress(value=0, max=200), HTML(value='')))"
      ]
     },
     "metadata": {},
     "output_type": "display_data"
    },
    {
     "name": "stderr",
     "output_type": "stream",
     "text": [
      "DEBUG:pykeen.utilities.evaluation_utils.metrics_computations:Evaluation took 3.88s seconds\n",
      "DEBUG:pykeen.utilities.train_utils:\n",
      "current metric: 0.20678124814902027  ---- rank/hits@10: (0.15390644408373608, 0.315)\n",
      "INFO:pykeen.utilities.train_utils:Epoch 116 / 2000 (2.1s):  0.028 ---- 0.039 ---- 0.21 ----   2\n",
      "INFO:pykeen.utilities.train_utils:Epoch 117 / 2000 (2.1s):  0.028 ---- 0.043 ---- 0.21 ----   3\n",
      "INFO:pykeen.utilities.train_utils:Epoch 118 / 2000 (2.1s):  0.027 ---- 0.040 ---- 0.21 ----   4\n",
      "INFO:pykeen.utilities.train_utils:Epoch 119 / 2000 (2.1s):  0.027 ---- 0.041 ---- 0.21 ----   5\n"
     ]
    },
    {
     "name": "stdout",
     "output_type": "stream",
     "text": [
      "\n",
      "\n"
     ]
    },
    {
     "data": {
      "application/vnd.jupyter.widget-view+json": {
       "model_id": "065bc94fbfdf46fab249af689c87fde4",
       "version_major": 2,
       "version_minor": 0
      },
      "text/plain": [
       "HBox(children=(IntProgress(value=0, max=200), HTML(value='')))"
      ]
     },
     "metadata": {},
     "output_type": "display_data"
    },
    {
     "name": "stderr",
     "output_type": "stream",
     "text": [
      "DEBUG:pykeen.utilities.evaluation_utils.metrics_computations:Evaluation took 3.90s seconds\n",
      "DEBUG:pykeen.utilities.train_utils:\n",
      "current metric: 0.20170226113741177  ---- rank/hits@10: (0.14890690598728365, 0.3125)\n",
      "INFO:pykeen.utilities.train_utils:Epoch 120 / 2000 (2.1s):  0.027 ---- 0.043 ---- 0.20 ----   6\n",
      "INFO:pykeen.utilities.train_utils:Epoch 121 / 2000 (2.1s):  0.027 ---- 0.042 ---- 0.20 ----   7\n"
     ]
    },
    {
     "data": {
      "application/vnd.jupyter.widget-view+json": {
       "model_id": "140d635791864b2da648371146ea761f",
       "version_major": 2,
       "version_minor": 0
      },
      "text/plain": [
       "HBox(children=(IntProgress(value=0, max=200), HTML(value='')))"
      ]
     },
     "metadata": {},
     "output_type": "display_data"
    },
    {
     "name": "stderr",
     "output_type": "stream",
     "text": [
      "DEBUG:pykeen.utilities.evaluation_utils.metrics_computations:Evaluation took 3.89s seconds\n",
      "DEBUG:pykeen.utilities.train_utils:\n",
      "current metric: 0.20241855138705686  ---- rank/hits@10: (0.14698113472903013, 0.325)\n",
      "INFO:pykeen.utilities.train_utils:Epoch 122 / 2000 (2.1s):  0.027 ---- 0.039 ---- 0.20 ----   8\n",
      "INFO:pykeen.utilities.train_utils:Epoch 123 / 2000 (2.1s):  0.027 ---- 0.040 ---- 0.20 ----   9\n",
      "INFO:pykeen.utilities.train_utils:Epoch 124 / 2000 (2.1s):  0.027 ---- 0.041 ---- 0.20 ----  10\n"
     ]
    },
    {
     "data": {
      "application/vnd.jupyter.widget-view+json": {
       "model_id": "68fe69725927493b90f42b1c1ec4690a",
       "version_major": 2,
       "version_minor": 0
      },
      "text/plain": [
       "HBox(children=(IntProgress(value=0, max=200), HTML(value='')))"
      ]
     },
     "metadata": {},
     "output_type": "display_data"
    },
    {
     "name": "stderr",
     "output_type": "stream",
     "text": [
      "DEBUG:pykeen.utilities.evaluation_utils.metrics_computations:Evaluation took 3.86s seconds\n",
      "DEBUG:pykeen.utilities.train_utils:\n",
      "current metric: 0.2053169360192748  ---- rank/hits@10: (0.15059645751813366, 0.3225)\n",
      "INFO:pykeen.utilities.train_utils:Epoch 125 / 2000 (2.1s):  0.027 ---- 0.040 ---- 0.21 ----  11\n",
      "INFO:pykeen.utilities.train_utils:Epoch 126 / 2000 (2.1s):  0.026 ---- 0.039 ---- 0.21 ----  12\n",
      "INFO:pykeen.utilities.train_utils:Epoch 127 / 2000 (2.1s):  0.026 ---- 0.040 ---- 0.21 ----  13\n",
      "INFO:pykeen.utilities.train_utils:Epoch 128 / 2000 (2.1s):  0.026 ---- 0.039 ---- 0.21 ----  14\n",
      "INFO:pykeen.utilities.train_utils:Epoch 129 / 2000 (2.1s):  0.026 ---- 0.040 ---- 0.21 ----  15\n"
     ]
    },
    {
     "data": {
      "application/vnd.jupyter.widget-view+json": {
       "model_id": "eb999d5833684894b4a636f588febe73",
       "version_major": 2,
       "version_minor": 0
      },
      "text/plain": [
       "HBox(children=(IntProgress(value=0, max=200), HTML(value='')))"
      ]
     },
     "metadata": {},
     "output_type": "display_data"
    },
    {
     "name": "stderr",
     "output_type": "stream",
     "text": [
      "DEBUG:pykeen.utilities.evaluation_utils.metrics_computations:Evaluation took 3.87s seconds\n",
      "DEBUG:pykeen.utilities.train_utils:\n",
      "current metric: 0.2038836345115992  ---- rank/hits@10: (0.14853115989978757, 0.325)\n",
      "INFO:pykeen.utilities.train_utils:Epoch 130 / 2000 (2.1s):  0.026 ---- 0.040 ---- 0.20 ----  16\n",
      "INFO:pykeen.utilities.train_utils:Epoch 131 / 2000 (2.1s):  0.026 ---- 0.039 ---- 0.20 ----  17\n"
     ]
    },
    {
     "name": "stdout",
     "output_type": "stream",
     "text": [
      "\n",
      "\n",
      "\n"
     ]
    },
    {
     "data": {
      "application/vnd.jupyter.widget-view+json": {
       "model_id": "e527e46cb1884815ba53923ba4b7ef7d",
       "version_major": 2,
       "version_minor": 0
      },
      "text/plain": [
       "HBox(children=(IntProgress(value=0, max=200), HTML(value='')))"
      ]
     },
     "metadata": {},
     "output_type": "display_data"
    },
    {
     "name": "stderr",
     "output_type": "stream",
     "text": [
      "DEBUG:pykeen.utilities.evaluation_utils.metrics_computations:Evaluation took 3.86s seconds\n",
      "DEBUG:pykeen.utilities.train_utils:\n",
      "current metric: 0.2074960069584793  ---- rank/hits@10: (0.15185326463131005, 0.3275)\n",
      "DEBUG:pykeen.utilities.train_utils:Saving the following model to disk:\n",
      "INFO:pykeen.utilities.train_utils:Epoch 132 / 2000 (2.1s):  0.026 ---- 0.037 ---- 0.21 ----   1\n",
      "INFO:pykeen.utilities.train_utils:Epoch 133 / 2000 (2.1s):  0.026 ---- 0.037 ---- 0.21 ----   2\n",
      "INFO:pykeen.utilities.train_utils:Epoch 134 / 2000 (2.1s):  0.025 ---- 0.038 ---- 0.21 ----   3\n"
     ]
    },
    {
     "data": {
      "application/vnd.jupyter.widget-view+json": {
       "model_id": "6dacbc713ee24e91a93b90448214e6f8",
       "version_major": 2,
       "version_minor": 0
      },
      "text/plain": [
       "HBox(children=(IntProgress(value=0, max=200), HTML(value='')))"
      ]
     },
     "metadata": {},
     "output_type": "display_data"
    },
    {
     "name": "stderr",
     "output_type": "stream",
     "text": [
      "DEBUG:pykeen.utilities.evaluation_utils.metrics_computations:Evaluation took 3.90s seconds\n",
      "DEBUG:pykeen.utilities.train_utils:\n",
      "current metric: 0.20574337538456833  ---- rank/hits@10: (0.15051344942321884, 0.325)\n",
      "INFO:pykeen.utilities.train_utils:Epoch 135 / 2000 (2.1s):  0.025 ---- 0.038 ---- 0.21 ----   4\n",
      "INFO:pykeen.utilities.train_utils:Epoch 136 / 2000 (2.1s):  0.025 ---- 0.037 ---- 0.21 ----   5\n",
      "INFO:pykeen.utilities.train_utils:Epoch 137 / 2000 (2.1s):  0.025 ---- 0.037 ---- 0.21 ----   6\n",
      "INFO:pykeen.utilities.train_utils:Epoch 138 / 2000 (2.1s):  0.025 ---- 0.039 ---- 0.21 ----   7\n"
     ]
    },
    {
     "data": {
      "application/vnd.jupyter.widget-view+json": {
       "model_id": "020375d44e664c2995b70d4ffb58cc40",
       "version_major": 2,
       "version_minor": 0
      },
      "text/plain": [
       "HBox(children=(IntProgress(value=0, max=200), HTML(value='')))"
      ]
     },
     "metadata": {},
     "output_type": "display_data"
    },
    {
     "name": "stderr",
     "output_type": "stream",
     "text": [
      "DEBUG:pykeen.utilities.evaluation_utils.metrics_computations:Evaluation took 3.89s seconds\n",
      "DEBUG:pykeen.utilities.train_utils:\n",
      "current metric: 0.20684183791893382  ---- rank/hits@10: (0.1516921114754429, 0.325)\n",
      "INFO:pykeen.utilities.train_utils:Epoch 139 / 2000 (2.1s):  0.025 ---- 0.036 ---- 0.21 ----   8\n"
     ]
    },
    {
     "data": {
      "application/vnd.jupyter.widget-view+json": {
       "model_id": "317de6dc6e114bfa83b61e71055bcb09",
       "version_major": 2,
       "version_minor": 0
      },
      "text/plain": [
       "HBox(children=(IntProgress(value=0, max=200), HTML(value='')))"
      ]
     },
     "metadata": {},
     "output_type": "display_data"
    },
    {
     "name": "stderr",
     "output_type": "stream",
     "text": [
      "DEBUG:pykeen.utilities.evaluation_utils.metrics_computations:Evaluation took 3.87s seconds\n",
      "DEBUG:pykeen.utilities.train_utils:\n",
      "current metric: 0.20926595842500084  ---- rank/hits@10: (0.1537567136268549, 0.3275)\n",
      "DEBUG:pykeen.utilities.train_utils:Saving the following model to disk:\n",
      "INFO:pykeen.utilities.train_utils:Epoch 140 / 2000 (2.1s):  0.025 ---- 0.036 ---- 0.21 ----   1\n",
      "INFO:pykeen.utilities.train_utils:Epoch 141 / 2000 (2.1s):  0.025 ---- 0.037 ---- 0.21 ----   2\n",
      "INFO:pykeen.utilities.train_utils:Epoch 142 / 2000 (2.1s):  0.025 ---- 0.039 ---- 0.21 ----   3\n",
      "INFO:pykeen.utilities.train_utils:Epoch 143 / 2000 (2.1s):  0.025 ---- 0.036 ---- 0.21 ----   4\n",
      "INFO:pykeen.utilities.train_utils:Epoch 144 / 2000 (2.1s):  0.025 ---- 0.036 ---- 0.21 ----   5\n"
     ]
    },
    {
     "name": "stdout",
     "output_type": "stream",
     "text": [
      "\n",
      "\n",
      "\n"
     ]
    },
    {
     "data": {
      "application/vnd.jupyter.widget-view+json": {
       "model_id": "f79421be460d4615b6c44259df10bdd4",
       "version_major": 2,
       "version_minor": 0
      },
      "text/plain": [
       "HBox(children=(IntProgress(value=0, max=200), HTML(value='')))"
      ]
     },
     "metadata": {},
     "output_type": "display_data"
    },
    {
     "name": "stderr",
     "output_type": "stream",
     "text": [
      "DEBUG:pykeen.utilities.evaluation_utils.metrics_computations:Evaluation took 3.92s seconds\n",
      "DEBUG:pykeen.utilities.train_utils:\n",
      "current metric: 0.20723461507429358  ---- rank/hits@10: (0.15381560220800877, 0.3175)\n",
      "INFO:pykeen.utilities.train_utils:Epoch 145 / 2000 (2.1s):  0.024 ---- 0.034 ---- 0.21 ----   6\n",
      "INFO:pykeen.utilities.train_utils:Epoch 146 / 2000 (2.1s):  0.024 ---- 0.035 ---- 0.21 ----   7\n",
      "INFO:pykeen.utilities.train_utils:Epoch 147 / 2000 (2.1s):  0.024 ---- 0.035 ---- 0.21 ----   8\n"
     ]
    },
    {
     "data": {
      "application/vnd.jupyter.widget-view+json": {
       "model_id": "2f5fce97cdf040fba5a2321d5c0377c0",
       "version_major": 2,
       "version_minor": 0
      },
      "text/plain": [
       "HBox(children=(IntProgress(value=0, max=200), HTML(value='')))"
      ]
     },
     "metadata": {},
     "output_type": "display_data"
    },
    {
     "name": "stderr",
     "output_type": "stream",
     "text": [
      "DEBUG:pykeen.utilities.evaluation_utils.metrics_computations:Evaluation took 3.88s seconds\n",
      "DEBUG:pykeen.utilities.train_utils:\n",
      "current metric: 0.2104300486115613  ---- rank/hits@10: (0.15558335046046592, 0.325)\n",
      "DEBUG:pykeen.utilities.train_utils:Saving the following model to disk:\n",
      "INFO:pykeen.utilities.train_utils:Epoch 148 / 2000 (2.1s):  0.024 ---- 0.034 ---- 0.21 ----   1\n",
      "INFO:pykeen.utilities.train_utils:Epoch 149 / 2000 (2.1s):  0.024 ---- 0.036 ---- 0.21 ----   2\n"
     ]
    },
    {
     "data": {
      "application/vnd.jupyter.widget-view+json": {
       "model_id": "d905b91813454e67b2748d7300ae6f8d",
       "version_major": 2,
       "version_minor": 0
      },
      "text/plain": [
       "HBox(children=(IntProgress(value=0, max=200), HTML(value='')))"
      ]
     },
     "metadata": {},
     "output_type": "display_data"
    },
    {
     "name": "stderr",
     "output_type": "stream",
     "text": [
      "DEBUG:pykeen.utilities.evaluation_utils.metrics_computations:Evaluation took 3.86s seconds\n",
      "DEBUG:pykeen.utilities.train_utils:\n",
      "current metric: 0.20999824058477096  ---- rank/hits@10: (0.15399810765857458, 0.33)\n",
      "INFO:pykeen.utilities.train_utils:Epoch 150 / 2000 (2.1s):  0.024 ---- 0.036 ---- 0.21 ----   3\n"
     ]
    },
    {
     "data": {
      "application/vnd.jupyter.widget-view+json": {
       "model_id": "b494b0ecbbec4dc7b447582ca1ec3ece",
       "version_major": 2,
       "version_minor": 0
      },
      "text/plain": [
       "HBox(children=(IntProgress(value=0, max=200), HTML(value='')))"
      ]
     },
     "metadata": {},
     "output_type": "display_data"
    },
    {
     "name": "stderr",
     "output_type": "stream",
     "text": [
      "DEBUG:pykeen.utilities.evaluation_utils.metrics_computations:Evaluation took 3.89s seconds\n",
      "DEBUG:pykeen.utilities.train_utils:\n",
      "current metric: 0.21420588358366185  ---- rank/hits@10: (0.15974725114962593, 0.325)\n",
      "DEBUG:pykeen.utilities.train_utils:Saving the following model to disk:\n",
      "INFO:pykeen.utilities.train_utils:Epoch 151 / 2000 (2.1s):  0.024 ---- 0.033 ---- 0.21 ----   1\n",
      "INFO:pykeen.utilities.train_utils:Epoch 152 / 2000 (2.1s):  0.024 ---- 0.034 ---- 0.21 ----   2\n",
      "INFO:pykeen.utilities.train_utils:Epoch 153 / 2000 (2.1s):  0.024 ---- 0.037 ---- 0.21 ----   3\n",
      "INFO:pykeen.utilities.train_utils:Epoch 154 / 2000 (2.1s):  0.024 ---- 0.035 ---- 0.21 ----   4\n"
     ]
    },
    {
     "name": "stdout",
     "output_type": "stream",
     "text": [
      "\n",
      "\n",
      "\n"
     ]
    },
    {
     "data": {
      "application/vnd.jupyter.widget-view+json": {
       "model_id": "142413f5bf4e4d9aac409e3354ef6b0f",
       "version_major": 2,
       "version_minor": 0
      },
      "text/plain": [
       "HBox(children=(IntProgress(value=0, max=200), HTML(value='')))"
      ]
     },
     "metadata": {},
     "output_type": "display_data"
    },
    {
     "name": "stderr",
     "output_type": "stream",
     "text": [
      "DEBUG:pykeen.utilities.evaluation_utils.metrics_computations:Evaluation took 3.89s seconds\n",
      "DEBUG:pykeen.utilities.train_utils:\n",
      "current metric: 0.21361620902127404  ---- rank/hits@10: (0.15909222424647435, 0.325)\n",
      "INFO:pykeen.utilities.train_utils:Epoch 155 / 2000 (2.1s):  0.024 ---- 0.033 ---- 0.21 ----   5\n",
      "INFO:pykeen.utilities.train_utils:Epoch 156 / 2000 (2.1s):  0.024 ---- 0.035 ---- 0.21 ----   6\n",
      "INFO:pykeen.utilities.train_utils:Epoch 157 / 2000 (2.1s):  0.023 ---- 0.033 ---- 0.21 ----   7\n",
      "INFO:pykeen.utilities.train_utils:Epoch 158 / 2000 (2.1s):  0.024 ---- 0.034 ---- 0.21 ----   8\n",
      "INFO:pykeen.utilities.train_utils:Epoch 159 / 2000 (2.1s):  0.023 ---- 0.035 ---- 0.21 ----   9\n"
     ]
    },
    {
     "data": {
      "application/vnd.jupyter.widget-view+json": {
       "model_id": "64cd65a6baca406da3187438ab610c19",
       "version_major": 2,
       "version_minor": 0
      },
      "text/plain": [
       "HBox(children=(IntProgress(value=0, max=200), HTML(value='')))"
      ]
     },
     "metadata": {},
     "output_type": "display_data"
    },
    {
     "name": "stderr",
     "output_type": "stream",
     "text": [
      "DEBUG:pykeen.utilities.evaluation_utils.metrics_computations:Evaluation took 3.87s seconds\n",
      "DEBUG:pykeen.utilities.train_utils:\n",
      "current metric: 0.21945191283801058  ---- rank/hits@10: (0.16201055317526397, 0.34)\n",
      "DEBUG:pykeen.utilities.train_utils:Saving the following model to disk:\n",
      "INFO:pykeen.utilities.train_utils:Epoch 160 / 2000 (2.1s):  0.023 ---- 0.034 ---- 0.22 ----   1\n"
     ]
    },
    {
     "data": {
      "application/vnd.jupyter.widget-view+json": {
       "model_id": "796f459fa14945d2a781f455a9c3aaa9",
       "version_major": 2,
       "version_minor": 0
      },
      "text/plain": [
       "HBox(children=(IntProgress(value=0, max=200), HTML(value='')))"
      ]
     },
     "metadata": {},
     "output_type": "display_data"
    },
    {
     "name": "stderr",
     "output_type": "stream",
     "text": [
      "DEBUG:pykeen.utilities.evaluation_utils.metrics_computations:Evaluation took 3.87s seconds\n",
      "DEBUG:pykeen.utilities.train_utils:\n",
      "current metric: 0.21879754665204001  ---- rank/hits@10: (0.16365092679625068, 0.33)\n",
      "INFO:pykeen.utilities.train_utils:Epoch 161 / 2000 (2.1s):  0.023 ---- 0.032 ---- 0.22 ----   2\n",
      "INFO:pykeen.utilities.train_utils:Epoch 162 / 2000 (2.1s):  0.023 ---- 0.035 ---- 0.22 ----   3\n",
      "INFO:pykeen.utilities.train_utils:Epoch 163 / 2000 (2.1s):  0.023 ---- 0.034 ---- 0.22 ----   4\n",
      "INFO:pykeen.utilities.train_utils:Epoch 164 / 2000 (2.1s):  0.023 ---- 0.034 ---- 0.22 ----   5\n"
     ]
    },
    {
     "data": {
      "application/vnd.jupyter.widget-view+json": {
       "model_id": "a1c3843a4f6e455e90e845eb040fcdd6",
       "version_major": 2,
       "version_minor": 0
      },
      "text/plain": [
       "HBox(children=(IntProgress(value=0, max=200), HTML(value='')))"
      ]
     },
     "metadata": {},
     "output_type": "display_data"
    },
    {
     "name": "stderr",
     "output_type": "stream",
     "text": [
      "DEBUG:pykeen.utilities.evaluation_utils.metrics_computations:Evaluation took 3.88s seconds\n",
      "DEBUG:pykeen.utilities.train_utils:\n",
      "current metric: 0.21859792528729052  ---- rank/hits@10: (0.16052627865563138, 0.3425)\n",
      "INFO:pykeen.utilities.train_utils:Epoch 165 / 2000 (2.1s):  0.023 ---- 0.032 ---- 0.22 ----   6\n",
      "INFO:pykeen.utilities.train_utils:Epoch 166 / 2000 (2.1s):  0.023 ---- 0.032 ---- 0.22 ----   7\n",
      "INFO:pykeen.utilities.train_utils:Epoch 167 / 2000 (2.1s):  0.023 ---- 0.033 ---- 0.22 ----   8\n"
     ]
    },
    {
     "name": "stdout",
     "output_type": "stream",
     "text": [
      "\n",
      "\n",
      "\n"
     ]
    },
    {
     "data": {
      "application/vnd.jupyter.widget-view+json": {
       "model_id": "c9b6c392635c4bc6a375d78addfdf664",
       "version_major": 2,
       "version_minor": 0
      },
      "text/plain": [
       "HBox(children=(IntProgress(value=0, max=200), HTML(value='')))"
      ]
     },
     "metadata": {},
     "output_type": "display_data"
    },
    {
     "name": "stderr",
     "output_type": "stream",
     "text": [
      "DEBUG:pykeen.utilities.evaluation_utils.metrics_computations:Evaluation took 3.90s seconds\n",
      "DEBUG:pykeen.utilities.train_utils:\n",
      "current metric: 0.21721294735285787  ---- rank/hits@10: (0.15958182424840087, 0.34)\n",
      "INFO:pykeen.utilities.train_utils:Epoch 168 / 2000 (2.1s):  0.023 ---- 0.031 ---- 0.22 ----   9\n"
     ]
    },
    {
     "data": {
      "application/vnd.jupyter.widget-view+json": {
       "model_id": "741be547139146f09307273410c985d9",
       "version_major": 2,
       "version_minor": 0
      },
      "text/plain": [
       "HBox(children=(IntProgress(value=0, max=200), HTML(value='')))"
      ]
     },
     "metadata": {},
     "output_type": "display_data"
    },
    {
     "name": "stderr",
     "output_type": "stream",
     "text": [
      "DEBUG:pykeen.utilities.evaluation_utils.metrics_computations:Evaluation took 3.89s seconds\n",
      "DEBUG:pykeen.utilities.train_utils:\n",
      "current metric: 0.22217127065900172  ---- rank/hits@10: (0.16681832636299737, 0.3325)\n",
      "DEBUG:pykeen.utilities.train_utils:Saving the following model to disk:\n",
      "INFO:pykeen.utilities.train_utils:Epoch 169 / 2000 (2.1s):  0.022 ---- 0.031 ---- 0.22 ----   1\n"
     ]
    },
    {
     "data": {
      "application/vnd.jupyter.widget-view+json": {
       "model_id": "bd646d7cd7d2462faa4a7ff313a187cc",
       "version_major": 2,
       "version_minor": 0
      },
      "text/plain": [
       "HBox(children=(IntProgress(value=0, max=200), HTML(value='')))"
      ]
     },
     "metadata": {},
     "output_type": "display_data"
    },
    {
     "name": "stderr",
     "output_type": "stream",
     "text": [
      "DEBUG:pykeen.utilities.evaluation_utils.metrics_computations:Evaluation took 3.93s seconds\n",
      "DEBUG:pykeen.utilities.train_utils:\n",
      "current metric: 0.21518663708439853  ---- rank/hits@10: (0.15740394413312114, 0.34)\n",
      "INFO:pykeen.utilities.train_utils:Epoch 170 / 2000 (2.1s):  0.022 ---- 0.033 ---- 0.22 ----   2\n"
     ]
    },
    {
     "data": {
      "application/vnd.jupyter.widget-view+json": {
       "model_id": "63690acadfc04f109e35528e26b8c36f",
       "version_major": 2,
       "version_minor": 0
      },
      "text/plain": [
       "HBox(children=(IntProgress(value=0, max=200), HTML(value='')))"
      ]
     },
     "metadata": {},
     "output_type": "display_data"
    },
    {
     "name": "stdout",
     "output_type": "stream",
     "text": [
      "\n",
      "\n",
      "\n"
     ]
    },
    {
     "name": "stderr",
     "output_type": "stream",
     "text": [
      "DEBUG:pykeen.utilities.evaluation_utils.metrics_computations:Evaluation took 3.91s seconds\n",
      "DEBUG:pykeen.utilities.train_utils:\n",
      "current metric: 0.21811405207525617  ---- rank/hits@10: (0.16288736386134825, 0.33)\n",
      "INFO:pykeen.utilities.train_utils:Epoch 171 / 2000 (2.1s):  0.023 ---- 0.031 ---- 0.22 ----   3\n",
      "INFO:pykeen.utilities.train_utils:Epoch 172 / 2000 (2.1s):  0.022 ---- 0.032 ---- 0.22 ----   4\n",
      "INFO:pykeen.utilities.train_utils:Epoch 173 / 2000 (2.1s):  0.022 ---- 0.032 ---- 0.22 ----   5\n",
      "INFO:pykeen.utilities.train_utils:Epoch 174 / 2000 (2.1s):  0.022 ---- 0.033 ---- 0.22 ----   6\n"
     ]
    },
    {
     "data": {
      "application/vnd.jupyter.widget-view+json": {
       "model_id": "489cdec2f38a4a13b503743a838f6e2f",
       "version_major": 2,
       "version_minor": 0
      },
      "text/plain": [
       "HBox(children=(IntProgress(value=0, max=200), HTML(value='')))"
      ]
     },
     "metadata": {},
     "output_type": "display_data"
    },
    {
     "name": "stderr",
     "output_type": "stream",
     "text": [
      "DEBUG:pykeen.utilities.evaluation_utils.metrics_computations:Evaluation took 3.88s seconds\n",
      "DEBUG:pykeen.utilities.train_utils:\n",
      "current metric: 0.2295462821987508  ---- rank/hits@10: (0.1701849442870148, 0.3525)\n",
      "DEBUG:pykeen.utilities.train_utils:Saving the following model to disk:\n",
      "INFO:pykeen.utilities.train_utils:Epoch 175 / 2000 (2.1s):  0.022 ---- 0.034 ---- 0.23 ----   1\n",
      "INFO:pykeen.utilities.train_utils:Epoch 176 / 2000 (2.1s):  0.022 ---- 0.032 ---- 0.23 ----   2\n",
      "INFO:pykeen.utilities.train_utils:Epoch 177 / 2000 (2.1s):  0.022 ---- 0.034 ---- 0.23 ----   3\n",
      "INFO:pykeen.utilities.train_utils:Epoch 178 / 2000 (2.1s):  0.022 ---- 0.033 ---- 0.23 ----   4\n",
      "INFO:pykeen.utilities.train_utils:Epoch 179 / 2000 (2.1s):  0.022 ---- 0.033 ---- 0.23 ----   5\n"
     ]
    },
    {
     "data": {
      "application/vnd.jupyter.widget-view+json": {
       "model_id": "0753eca13ea6452c8ab74caf202d95a6",
       "version_major": 2,
       "version_minor": 0
      },
      "text/plain": [
       "HBox(children=(IntProgress(value=0, max=200), HTML(value='')))"
      ]
     },
     "metadata": {},
     "output_type": "display_data"
    },
    {
     "name": "stderr",
     "output_type": "stream",
     "text": [
      "DEBUG:pykeen.utilities.evaluation_utils.metrics_computations:Evaluation took 3.88s seconds\n",
      "DEBUG:pykeen.utilities.train_utils:\n",
      "current metric: 0.22614048121193026  ---- rank/hits@10: (0.16537516183317497, 0.3575)\n",
      "INFO:pykeen.utilities.train_utils:Epoch 180 / 2000 (2.1s):  0.022 ---- 0.032 ---- 0.23 ----   6\n",
      "INFO:pykeen.utilities.train_utils:Epoch 181 / 2000 (2.1s):  0.022 ---- 0.033 ---- 0.23 ----   7\n",
      "INFO:pykeen.utilities.train_utils:Epoch 182 / 2000 (2.1s):  0.022 ---- 0.033 ---- 0.23 ----   8\n",
      "INFO:pykeen.utilities.train_utils:Epoch 183 / 2000 (2.1s):  0.022 ---- 0.033 ---- 0.23 ----   9\n",
      "INFO:pykeen.utilities.train_utils:Epoch 184 / 2000 (2.1s):  0.021 ---- 0.032 ---- 0.23 ----  10\n"
     ]
    },
    {
     "data": {
      "application/vnd.jupyter.widget-view+json": {
       "model_id": "79d68050c7da497580e8c61ca207a050",
       "version_major": 2,
       "version_minor": 0
      },
      "text/plain": [
       "HBox(children=(IntProgress(value=0, max=200), HTML(value='')))"
      ]
     },
     "metadata": {},
     "output_type": "display_data"
    },
    {
     "name": "stdout",
     "output_type": "stream",
     "text": [
      "\n",
      "\n"
     ]
    },
    {
     "name": "stderr",
     "output_type": "stream",
     "text": [
      "DEBUG:pykeen.utilities.evaluation_utils.metrics_computations:Evaluation took 3.91s seconds\n",
      "DEBUG:pykeen.utilities.train_utils:\n",
      "current metric: 0.2230574795122014  ---- rank/hits@10: (0.16060199476582093, 0.365)\n",
      "INFO:pykeen.utilities.train_utils:Epoch 185 / 2000 (2.1s):  0.022 ---- 0.032 ---- 0.22 ----  11\n",
      "INFO:pykeen.utilities.train_utils:Epoch 186 / 2000 (2.1s):  0.022 ---- 0.032 ---- 0.22 ----  12\n",
      "INFO:pykeen.utilities.train_utils:Epoch 187 / 2000 (2.1s):  0.021 ---- 0.031 ---- 0.22 ----  13\n"
     ]
    },
    {
     "data": {
      "application/vnd.jupyter.widget-view+json": {
       "model_id": "e70ea7a4daf0456b905b92cd5dbbfb44",
       "version_major": 2,
       "version_minor": 0
      },
      "text/plain": [
       "HBox(children=(IntProgress(value=0, max=200), HTML(value='')))"
      ]
     },
     "metadata": {},
     "output_type": "display_data"
    },
    {
     "name": "stderr",
     "output_type": "stream",
     "text": [
      "DEBUG:pykeen.utilities.evaluation_utils.metrics_computations:Evaluation took 3.87s seconds\n",
      "DEBUG:pykeen.utilities.train_utils:\n",
      "current metric: 0.2313210551030896  ---- rank/hits@10: (0.1693117104233907, 0.365)\n",
      "DEBUG:pykeen.utilities.train_utils:Saving the following model to disk:\n",
      "INFO:pykeen.utilities.train_utils:Epoch 188 / 2000 (2.1s):  0.022 ---- 0.031 ---- 0.23 ----   1\n",
      "INFO:pykeen.utilities.train_utils:Epoch 189 / 2000 (2.1s):  0.021 ---- 0.032 ---- 0.23 ----   2\n"
     ]
    },
    {
     "data": {
      "application/vnd.jupyter.widget-view+json": {
       "model_id": "3b0a3f2eb51a4b238cf6b028d93d854e",
       "version_major": 2,
       "version_minor": 0
      },
      "text/plain": [
       "HBox(children=(IntProgress(value=0, max=200), HTML(value='')))"
      ]
     },
     "metadata": {},
     "output_type": "display_data"
    },
    {
     "name": "stderr",
     "output_type": "stream",
     "text": [
      "DEBUG:pykeen.utilities.evaluation_utils.metrics_computations:Evaluation took 3.88s seconds\n",
      "DEBUG:pykeen.utilities.train_utils:\n",
      "current metric: 0.23071147608114384  ---- rank/hits@10: (0.17088365341848288, 0.355)\n",
      "INFO:pykeen.utilities.train_utils:Epoch 190 / 2000 (2.1s):  0.021 ---- 0.032 ---- 0.23 ----   3\n",
      "INFO:pykeen.utilities.train_utils:Epoch 191 / 2000 (2.1s):  0.021 ---- 0.032 ---- 0.23 ----   4\n",
      "INFO:pykeen.utilities.train_utils:Epoch 192 / 2000 (2.1s):  0.021 ---- 0.032 ---- 0.23 ----   5\n",
      "INFO:pykeen.utilities.train_utils:Epoch 193 / 2000 (2.1s):  0.021 ---- 0.031 ---- 0.23 ----   6\n",
      "INFO:pykeen.utilities.train_utils:Epoch 194 / 2000 (2.1s):  0.021 ---- 0.033 ---- 0.23 ----   7\n"
     ]
    },
    {
     "data": {
      "application/vnd.jupyter.widget-view+json": {
       "model_id": "bca343682a9d4638bffe81aaee4cdf62",
       "version_major": 2,
       "version_minor": 0
      },
      "text/plain": [
       "HBox(children=(IntProgress(value=0, max=200), HTML(value='')))"
      ]
     },
     "metadata": {},
     "output_type": "display_data"
    },
    {
     "name": "stderr",
     "output_type": "stream",
     "text": [
      "DEBUG:pykeen.utilities.evaluation_utils.metrics_computations:Evaluation took 3.90s seconds\n",
      "DEBUG:pykeen.utilities.train_utils:\n",
      "current metric: 0.2335478816887623  ---- rank/hits@10: (0.17226725444402352, 0.3625)\n",
      "DEBUG:pykeen.utilities.train_utils:Saving the following model to disk:\n",
      "INFO:pykeen.utilities.train_utils:Epoch 195 / 2000 (2.1s):  0.021 ---- 0.031 ---- 0.23 ----   1\n"
     ]
    },
    {
     "name": "stdout",
     "output_type": "stream",
     "text": [
      "\n",
      "\n",
      "\n"
     ]
    },
    {
     "data": {
      "application/vnd.jupyter.widget-view+json": {
       "model_id": "7f65dc3f2fab4d21be01110902ea15df",
       "version_major": 2,
       "version_minor": 0
      },
      "text/plain": [
       "HBox(children=(IntProgress(value=0, max=200), HTML(value='')))"
      ]
     },
     "metadata": {},
     "output_type": "display_data"
    },
    {
     "name": "stderr",
     "output_type": "stream",
     "text": [
      "DEBUG:pykeen.utilities.evaluation_utils.metrics_computations:Evaluation took 3.93s seconds\n",
      "DEBUG:pykeen.utilities.train_utils:\n",
      "current metric: 0.2299725877005378  ---- rank/hits@10: (0.16950629597030184, 0.3575)\n",
      "INFO:pykeen.utilities.train_utils:Epoch 196 / 2000 (2.1s):  0.021 ---- 0.030 ---- 0.23 ----   2\n",
      "INFO:pykeen.utilities.train_utils:Epoch 197 / 2000 (2.1s):  0.021 ---- 0.032 ---- 0.23 ----   3\n"
     ]
    },
    {
     "data": {
      "application/vnd.jupyter.widget-view+json": {
       "model_id": "674bef69e6e647d2851352153e22169c",
       "version_major": 2,
       "version_minor": 0
      },
      "text/plain": [
       "HBox(children=(IntProgress(value=0, max=200), HTML(value='')))"
      ]
     },
     "metadata": {},
     "output_type": "display_data"
    },
    {
     "name": "stderr",
     "output_type": "stream",
     "text": [
      "DEBUG:pykeen.utilities.evaluation_utils.metrics_computations:Evaluation took 3.89s seconds\n",
      "DEBUG:pykeen.utilities.train_utils:\n",
      "current metric: 0.23562338181146505  ---- rank/hits@10: (0.17632888581752557, 0.355)\n",
      "DEBUG:pykeen.utilities.train_utils:Saving the following model to disk:\n",
      "INFO:pykeen.utilities.train_utils:Epoch 198 / 2000 (2.1s):  0.021 ---- 0.029 ---- 0.24 ----   1\n",
      "INFO:pykeen.utilities.train_utils:Epoch 199 / 2000 (2.1s):  0.021 ---- 0.030 ---- 0.24 ----   2\n"
     ]
    },
    {
     "data": {
      "application/vnd.jupyter.widget-view+json": {
       "model_id": "5fca839bf5714a7990e33701b93224dd",
       "version_major": 2,
       "version_minor": 0
      },
      "text/plain": [
       "HBox(children=(IntProgress(value=0, max=200), HTML(value='')))"
      ]
     },
     "metadata": {},
     "output_type": "display_data"
    },
    {
     "name": "stderr",
     "output_type": "stream",
     "text": [
      "DEBUG:pykeen.utilities.evaluation_utils.metrics_computations:Evaluation took 3.91s seconds\n",
      "DEBUG:pykeen.utilities.train_utils:\n",
      "current metric: 0.23817251021211888  ---- rank/hits@10: (0.17734728782368436, 0.3625)\n",
      "DEBUG:pykeen.utilities.train_utils:Saving the following model to disk:\n",
      "INFO:pykeen.utilities.train_utils:Epoch 200 / 2000 (2.1s):  0.021 ---- 0.030 ---- 0.24 ----   1\n"
     ]
    },
    {
     "data": {
      "application/vnd.jupyter.widget-view+json": {
       "model_id": "8c685c9864e9406387309468ad3ab1b9",
       "version_major": 2,
       "version_minor": 0
      },
      "text/plain": [
       "HBox(children=(IntProgress(value=0, max=200), HTML(value='')))"
      ]
     },
     "metadata": {},
     "output_type": "display_data"
    },
    {
     "name": "stderr",
     "output_type": "stream",
     "text": [
      "DEBUG:pykeen.utilities.evaluation_utils.metrics_computations:Evaluation took 3.88s seconds\n",
      "DEBUG:pykeen.utilities.train_utils:\n",
      "current metric: 0.23321639720957385  ---- rank/hits@10: (0.1724747968382016, 0.36)\n",
      "INFO:pykeen.utilities.train_utils:Epoch 201 / 2000 (2.1s):  0.021 ---- 0.029 ---- 0.23 ----   2\n",
      "INFO:pykeen.utilities.train_utils:Epoch 202 / 2000 (2.1s):  0.021 ---- 0.030 ---- 0.23 ----   3\n",
      "INFO:pykeen.utilities.train_utils:Epoch 203 / 2000 (2.1s):  0.021 ---- 0.030 ---- 0.23 ----   4\n"
     ]
    },
    {
     "name": "stdout",
     "output_type": "stream",
     "text": [
      "\n",
      "\n",
      "\n",
      "\n",
      "\n",
      "\n",
      "\n",
      "\n",
      "\n",
      "\n",
      "\n",
      "\n",
      "\n"
     ]
    },
    {
     "data": {
      "application/vnd.jupyter.widget-view+json": {
       "model_id": "a3fb7f020f934927b4da8b7e2e09de0f",
       "version_major": 2,
       "version_minor": 0
      },
      "text/plain": [
       "HBox(children=(IntProgress(value=0, max=200), HTML(value='')))"
      ]
     },
     "metadata": {},
     "output_type": "display_data"
    },
    {
     "name": "stderr",
     "output_type": "stream",
     "text": [
      "DEBUG:pykeen.utilities.evaluation_utils.metrics_computations:Evaluation took 3.90s seconds\n",
      "DEBUG:pykeen.utilities.train_utils:\n",
      "current metric: 0.23220026346711112  ---- rank/hits@10: (0.17080487116131035, 0.3625)\n",
      "INFO:pykeen.utilities.train_utils:Epoch 204 / 2000 (2.1s):  0.021 ---- 0.029 ---- 0.23 ----   5\n"
     ]
    },
    {
     "data": {
      "application/vnd.jupyter.widget-view+json": {
       "model_id": "d2471aa003e34e6897c1d08929fd6b21",
       "version_major": 2,
       "version_minor": 0
      },
      "text/plain": [
       "HBox(children=(IntProgress(value=0, max=200), HTML(value='')))"
      ]
     },
     "metadata": {},
     "output_type": "display_data"
    },
    {
     "name": "stderr",
     "output_type": "stream",
     "text": [
      "DEBUG:pykeen.utilities.evaluation_utils.metrics_computations:Evaluation took 3.88s seconds\n",
      "DEBUG:pykeen.utilities.train_utils:\n",
      "current metric: 0.23029887815743252  ---- rank/hits@10: (0.17160829218142276, 0.35)\n",
      "INFO:pykeen.utilities.train_utils:Epoch 205 / 2000 (2.1s):  0.021 ---- 0.029 ---- 0.23 ----   6\n",
      "INFO:pykeen.utilities.train_utils:Epoch 206 / 2000 (2.1s):  0.020 ---- 0.032 ---- 0.23 ----   7\n",
      "INFO:pykeen.utilities.train_utils:Epoch 207 / 2000 (2.1s):  0.021 ---- 0.031 ---- 0.23 ----   8\n"
     ]
    },
    {
     "data": {
      "application/vnd.jupyter.widget-view+json": {
       "model_id": "362f13fc0dd7459e84f686bb415c3527",
       "version_major": 2,
       "version_minor": 0
      },
      "text/plain": [
       "HBox(children=(IntProgress(value=0, max=200), HTML(value='')))"
      ]
     },
     "metadata": {},
     "output_type": "display_data"
    },
    {
     "name": "stderr",
     "output_type": "stream",
     "text": [
      "DEBUG:pykeen.utilities.evaluation_utils.metrics_computations:Evaluation took 3.89s seconds\n",
      "DEBUG:pykeen.utilities.train_utils:\n",
      "current metric: 0.23514704590100693  ---- rank/hits@10: (0.17401304498796377, 0.3625)\n",
      "INFO:pykeen.utilities.train_utils:Epoch 208 / 2000 (2.1s):  0.020 ---- 0.029 ---- 0.24 ----   9\n"
     ]
    },
    {
     "data": {
      "application/vnd.jupyter.widget-view+json": {
       "model_id": "13a3eb0426e0434ca9a3048fc1c0f3b8",
       "version_major": 2,
       "version_minor": 0
      },
      "text/plain": [
       "HBox(children=(IntProgress(value=0, max=200), HTML(value='')))"
      ]
     },
     "metadata": {},
     "output_type": "display_data"
    },
    {
     "name": "stderr",
     "output_type": "stream",
     "text": [
      "DEBUG:pykeen.utilities.evaluation_utils.metrics_computations:Evaluation took 3.89s seconds\n",
      "DEBUG:pykeen.utilities.train_utils:\n",
      "current metric: 0.23350182403857206  ---- rank/hits@10: (0.17278719799465542, 0.36)\n",
      "INFO:pykeen.utilities.train_utils:Epoch 209 / 2000 (2.1s):  0.020 ---- 0.028 ---- 0.23 ----  10\n"
     ]
    },
    {
     "name": "stdout",
     "output_type": "stream",
     "text": [
      "\n",
      "\n",
      "\n"
     ]
    },
    {
     "data": {
      "application/vnd.jupyter.widget-view+json": {
       "model_id": "2563fdc8a31040458c2379f23e139d11",
       "version_major": 2,
       "version_minor": 0
      },
      "text/plain": [
       "HBox(children=(IntProgress(value=0, max=200), HTML(value='')))"
      ]
     },
     "metadata": {},
     "output_type": "display_data"
    },
    {
     "name": "stderr",
     "output_type": "stream",
     "text": [
      "DEBUG:pykeen.utilities.evaluation_utils.metrics_computations:Evaluation took 3.88s seconds\n",
      "DEBUG:pykeen.utilities.train_utils:\n",
      "current metric: 0.23557666054427914  ---- rank/hits@10: (0.17627656048533097, 0.355)\n",
      "INFO:pykeen.utilities.train_utils:Epoch 210 / 2000 (2.1s):  0.020 ---- 0.028 ---- 0.24 ----  11\n",
      "INFO:pykeen.utilities.train_utils:Epoch 211 / 2000 (2.1s):  0.020 ---- 0.029 ---- 0.24 ----  12\n",
      "INFO:pykeen.utilities.train_utils:Epoch 212 / 2000 (2.1s):  0.020 ---- 0.028 ---- 0.24 ----  13\n",
      "INFO:pykeen.utilities.train_utils:Epoch 213 / 2000 (2.1s):  0.020 ---- 0.029 ---- 0.24 ----  14\n",
      "INFO:pykeen.utilities.train_utils:Epoch 214 / 2000 (2.1s):  0.020 ---- 0.029 ---- 0.24 ----  15\n"
     ]
    },
    {
     "data": {
      "application/vnd.jupyter.widget-view+json": {
       "model_id": "c2d3347c14ea484b9f4ca88423871fa9",
       "version_major": 2,
       "version_minor": 0
      },
      "text/plain": [
       "HBox(children=(IntProgress(value=0, max=200), HTML(value='')))"
      ]
     },
     "metadata": {},
     "output_type": "display_data"
    },
    {
     "name": "stderr",
     "output_type": "stream",
     "text": [
      "DEBUG:pykeen.utilities.evaluation_utils.metrics_computations:Evaluation took 3.88s seconds\n",
      "DEBUG:pykeen.utilities.train_utils:\n",
      "current metric: 0.2370899911475869  ---- rank/hits@10: (0.17735487908862269, 0.3575)\n",
      "INFO:pykeen.utilities.train_utils:Epoch 215 / 2000 (2.1s):  0.020 ---- 0.028 ---- 0.24 ----  16\n",
      "INFO:pykeen.utilities.train_utils:Epoch 216 / 2000 (2.1s):  0.020 ---- 0.028 ---- 0.24 ----  17\n"
     ]
    },
    {
     "data": {
      "application/vnd.jupyter.widget-view+json": {
       "model_id": "2b0d875db2184a919590d52f32f819d2",
       "version_major": 2,
       "version_minor": 0
      },
      "text/plain": [
       "HBox(children=(IntProgress(value=0, max=200), HTML(value='')))"
      ]
     },
     "metadata": {},
     "output_type": "display_data"
    },
    {
     "name": "stderr",
     "output_type": "stream",
     "text": [
      "DEBUG:pykeen.utilities.evaluation_utils.metrics_computations:Evaluation took 3.89s seconds\n",
      "DEBUG:pykeen.utilities.train_utils:\n",
      "current metric: 0.24124978396833233  ---- rank/hits@10: (0.17839306399931054, 0.3725)\n",
      "DEBUG:pykeen.utilities.train_utils:Saving the following model to disk:\n",
      "INFO:pykeen.utilities.train_utils:Epoch 217 / 2000 (2.1s):  0.020 ---- 0.027 ---- 0.24 ----   1\n",
      "INFO:pykeen.utilities.train_utils:Epoch 218 / 2000 (2.1s):  0.020 ---- 0.027 ---- 0.24 ----   2\n",
      "INFO:pykeen.utilities.train_utils:Epoch 219 / 2000 (2.1s):  0.020 ---- 0.027 ---- 0.24 ----   3\n"
     ]
    },
    {
     "data": {
      "application/vnd.jupyter.widget-view+json": {
       "model_id": "e67a10a320684f50953cc1d75cbc2bc5",
       "version_major": 2,
       "version_minor": 0
      },
      "text/plain": [
       "HBox(children=(IntProgress(value=0, max=200), HTML(value='')))"
      ]
     },
     "metadata": {},
     "output_type": "display_data"
    },
    {
     "name": "stderr",
     "output_type": "stream",
     "text": [
      "DEBUG:pykeen.utilities.evaluation_utils.metrics_computations:Evaluation took 3.92s seconds\n",
      "DEBUG:pykeen.utilities.train_utils:\n",
      "current metric: 0.24210966317685653  ---- rank/hits@10: (0.1805174388099649, 0.3675)\n",
      "DEBUG:pykeen.utilities.train_utils:Saving the following model to disk:\n",
      "INFO:pykeen.utilities.train_utils:Epoch 220 / 2000 (2.1s):  0.020 ---- 0.027 ---- 0.24 ----   1\n",
      "INFO:pykeen.utilities.train_utils:Epoch 221 / 2000 (2.1s):  0.020 ---- 0.027 ---- 0.24 ----   2\n",
      "INFO:pykeen.utilities.train_utils:Epoch 222 / 2000 (2.1s):  0.019 ---- 0.027 ---- 0.24 ----   3\n"
     ]
    },
    {
     "name": "stdout",
     "output_type": "stream",
     "text": [
      "\n",
      "\n",
      "\n"
     ]
    },
    {
     "data": {
      "application/vnd.jupyter.widget-view+json": {
       "model_id": "d4b6d00dec604174b20e57003a177061",
       "version_major": 2,
       "version_minor": 0
      },
      "text/plain": [
       "HBox(children=(IntProgress(value=0, max=200), HTML(value='')))"
      ]
     },
     "metadata": {},
     "output_type": "display_data"
    },
    {
     "name": "stderr",
     "output_type": "stream",
     "text": [
      "DEBUG:pykeen.utilities.evaluation_utils.metrics_computations:Evaluation took 3.93s seconds\n",
      "DEBUG:pykeen.utilities.train_utils:\n",
      "current metric: 0.24334967818312503  ---- rank/hits@10: (0.18315000394606226, 0.3625)\n",
      "DEBUG:pykeen.utilities.train_utils:Saving the following model to disk:\n",
      "INFO:pykeen.utilities.train_utils:Epoch 223 / 2000 (2.1s):  0.020 ---- 0.026 ---- 0.24 ----   1\n",
      "INFO:pykeen.utilities.train_utils:Epoch 224 / 2000 (2.1s):  0.020 ---- 0.027 ---- 0.24 ----   2\n"
     ]
    },
    {
     "data": {
      "application/vnd.jupyter.widget-view+json": {
       "model_id": "4343894a59d84f8eabf270b4efc9eac6",
       "version_major": 2,
       "version_minor": 0
      },
      "text/plain": [
       "HBox(children=(IntProgress(value=0, max=200), HTML(value='')))"
      ]
     },
     "metadata": {},
     "output_type": "display_data"
    },
    {
     "name": "stderr",
     "output_type": "stream",
     "text": [
      "DEBUG:pykeen.utilities.evaluation_utils.metrics_computations:Evaluation took 3.89s seconds\n",
      "DEBUG:pykeen.utilities.train_utils:\n",
      "current metric: 0.24124976569836226  ---- rank/hits@10: (0.17956303153870537, 0.3675)\n",
      "INFO:pykeen.utilities.train_utils:Epoch 225 / 2000 (2.1s):  0.020 ---- 0.028 ---- 0.24 ----   3\n",
      "INFO:pykeen.utilities.train_utils:Epoch 226 / 2000 (2.1s):  0.020 ---- 0.028 ---- 0.24 ----   4\n",
      "INFO:pykeen.utilities.train_utils:Epoch 227 / 2000 (2.1s):  0.019 ---- 0.028 ---- 0.24 ----   5\n",
      "INFO:pykeen.utilities.train_utils:Epoch 228 / 2000 (2.1s):  0.020 ---- 0.027 ---- 0.24 ----   6\n",
      "INFO:pykeen.utilities.train_utils:Epoch 229 / 2000 (2.1s):  0.020 ---- 0.027 ---- 0.24 ----   7\n"
     ]
    },
    {
     "data": {
      "application/vnd.jupyter.widget-view+json": {
       "model_id": "e93d955ee8d94441b9394831d4395184",
       "version_major": 2,
       "version_minor": 0
      },
      "text/plain": [
       "HBox(children=(IntProgress(value=0, max=200), HTML(value='')))"
      ]
     },
     "metadata": {},
     "output_type": "display_data"
    },
    {
     "name": "stderr",
     "output_type": "stream",
     "text": [
      "DEBUG:pykeen.utilities.evaluation_utils.metrics_computations:Evaluation took 3.87s seconds\n",
      "DEBUG:pykeen.utilities.train_utils:\n",
      "current metric: 0.24471769307945243  ---- rank/hits@10: (0.18281603274377126, 0.37)\n",
      "DEBUG:pykeen.utilities.train_utils:Saving the following model to disk:\n",
      "INFO:pykeen.utilities.train_utils:Epoch 230 / 2000 (2.1s):  0.020 ---- 0.025 ---- 0.24 ----   1\n",
      "INFO:pykeen.utilities.train_utils:Epoch 231 / 2000 (2.1s):  0.020 ---- 0.026 ---- 0.24 ----   2\n",
      "INFO:pykeen.utilities.train_utils:Epoch 232 / 2000 (2.1s):  0.019 ---- 0.026 ---- 0.24 ----   3\n",
      "INFO:pykeen.utilities.train_utils:Epoch 233 / 2000 (2.1s):  0.020 ---- 0.027 ---- 0.24 ----   4\n",
      "INFO:pykeen.utilities.train_utils:Epoch 234 / 2000 (2.1s):  0.019 ---- 0.028 ---- 0.24 ----   5\n"
     ]
    },
    {
     "data": {
      "application/vnd.jupyter.widget-view+json": {
       "model_id": "268482d859d44183850a114f6554bff6",
       "version_major": 2,
       "version_minor": 0
      },
      "text/plain": [
       "HBox(children=(IntProgress(value=0, max=200), HTML(value='')))"
      ]
     },
     "metadata": {},
     "output_type": "display_data"
    },
    {
     "name": "stdout",
     "output_type": "stream",
     "text": [
      "\n",
      "\n"
     ]
    },
    {
     "name": "stderr",
     "output_type": "stream",
     "text": [
      "DEBUG:pykeen.utilities.evaluation_utils.metrics_computations:Evaluation took 3.88s seconds\n",
      "DEBUG:pykeen.utilities.train_utils:\n",
      "current metric: 0.2429527149606287  ---- rank/hits@10: (0.17911363379377238, 0.3775)\n",
      "INFO:pykeen.utilities.train_utils:Epoch 235 / 2000 (2.1s):  0.019 ---- 0.027 ---- 0.24 ----   6\n",
      "INFO:pykeen.utilities.train_utils:Epoch 236 / 2000 (2.1s):  0.019 ---- 0.028 ---- 0.24 ----   7\n",
      "INFO:pykeen.utilities.train_utils:Epoch 237 / 2000 (2.1s):  0.019 ---- 0.027 ---- 0.24 ----   8\n",
      "INFO:pykeen.utilities.train_utils:Epoch 238 / 2000 (2.1s):  0.019 ---- 0.026 ---- 0.24 ----   9\n",
      "INFO:pykeen.utilities.train_utils:Epoch 239 / 2000 (2.1s):  0.019 ---- 0.026 ---- 0.24 ----  10\n"
     ]
    },
    {
     "data": {
      "application/vnd.jupyter.widget-view+json": {
       "model_id": "125ff514697f4b7d98de54c9230fbb8c",
       "version_major": 2,
       "version_minor": 0
      },
      "text/plain": [
       "HBox(children=(IntProgress(value=0, max=200), HTML(value='')))"
      ]
     },
     "metadata": {},
     "output_type": "display_data"
    },
    {
     "name": "stderr",
     "output_type": "stream",
     "text": [
      "DEBUG:pykeen.utilities.evaluation_utils.metrics_computations:Evaluation took 3.89s seconds\n",
      "DEBUG:pykeen.utilities.train_utils:\n",
      "current metric: 0.24092225934897396  ---- rank/hits@10: (0.17861192495349393, 0.37)\n",
      "INFO:pykeen.utilities.train_utils:Epoch 240 / 2000 (2.1s):  0.019 ---- 0.025 ---- 0.24 ----  11\n",
      "INFO:pykeen.utilities.train_utils:Epoch 241 / 2000 (2.1s):  0.019 ---- 0.026 ---- 0.24 ----  12\n",
      "INFO:pykeen.utilities.train_utils:Epoch 242 / 2000 (2.1s):  0.019 ---- 0.026 ---- 0.24 ----  13\n",
      "INFO:pykeen.utilities.train_utils:Epoch 243 / 2000 (2.1s):  0.019 ---- 0.025 ---- 0.24 ----  14\n",
      "INFO:pykeen.utilities.train_utils:Epoch 244 / 2000 (2.1s):  0.019 ---- 0.025 ---- 0.24 ----  15\n"
     ]
    },
    {
     "data": {
      "application/vnd.jupyter.widget-view+json": {
       "model_id": "3863fe1a85174b478fce29d03b4a896d",
       "version_major": 2,
       "version_minor": 0
      },
      "text/plain": [
       "HBox(children=(IntProgress(value=0, max=200), HTML(value='')))"
      ]
     },
     "metadata": {},
     "output_type": "display_data"
    },
    {
     "name": "stderr",
     "output_type": "stream",
     "text": [
      "DEBUG:pykeen.utilities.evaluation_utils.metrics_computations:Evaluation took 3.87s seconds\n",
      "DEBUG:pykeen.utilities.train_utils:\n",
      "current metric: 0.24931359493682623  ---- rank/hits@10: (0.1832198848466592, 0.39)\n",
      "DEBUG:pykeen.utilities.train_utils:Saving the following model to disk:\n",
      "INFO:pykeen.utilities.train_utils:Epoch 245 / 2000 (2.1s):  0.019 ---- 0.028 ---- 0.25 ----   1\n",
      "INFO:pykeen.utilities.train_utils:Epoch 246 / 2000 (2.1s):  0.019 ---- 0.026 ---- 0.25 ----   2\n",
      "INFO:pykeen.utilities.train_utils:Epoch 247 / 2000 (2.1s):  0.019 ---- 0.026 ---- 0.25 ----   3\n",
      "INFO:pykeen.utilities.train_utils:Epoch 248 / 2000 (2.1s):  0.019 ---- 0.026 ---- 0.25 ----   4\n",
      "INFO:pykeen.utilities.train_utils:Epoch 249 / 2000 (2.1s):  0.019 ---- 0.026 ---- 0.25 ----   5\n"
     ]
    },
    {
     "name": "stdout",
     "output_type": "stream",
     "text": [
      "\n",
      "\n"
     ]
    },
    {
     "data": {
      "application/vnd.jupyter.widget-view+json": {
       "model_id": "4521ba11572946a3a73a1dac934b2d33",
       "version_major": 2,
       "version_minor": 0
      },
      "text/plain": [
       "HBox(children=(IntProgress(value=0, max=200), HTML(value='')))"
      ]
     },
     "metadata": {},
     "output_type": "display_data"
    },
    {
     "name": "stderr",
     "output_type": "stream",
     "text": [
      "DEBUG:pykeen.utilities.evaluation_utils.metrics_computations:Evaluation took 3.89s seconds\n",
      "DEBUG:pykeen.utilities.train_utils:\n",
      "current metric: 0.24035257369727941  ---- rank/hits@10: (0.17857076805994163, 0.3675)\n",
      "INFO:pykeen.utilities.train_utils:Epoch 250 / 2000 (2.1s):  0.019 ---- 0.025 ---- 0.24 ----   6\n",
      "INFO:pykeen.utilities.train_utils:Epoch 251 / 2000 (2.1s):  0.019 ---- 0.025 ---- 0.24 ----   7\n",
      "INFO:pykeen.utilities.train_utils:Epoch 252 / 2000 (2.1s):  0.019 ---- 0.025 ---- 0.24 ----   8\n"
     ]
    },
    {
     "data": {
      "application/vnd.jupyter.widget-view+json": {
       "model_id": "9126a25c522549928d72967de885a210",
       "version_major": 2,
       "version_minor": 0
      },
      "text/plain": [
       "HBox(children=(IntProgress(value=0, max=200), HTML(value='')))"
      ]
     },
     "metadata": {},
     "output_type": "display_data"
    },
    {
     "name": "stderr",
     "output_type": "stream",
     "text": [
      "DEBUG:pykeen.utilities.evaluation_utils.metrics_computations:Evaluation took 3.90s seconds\n",
      "DEBUG:pykeen.utilities.train_utils:\n",
      "current metric: 0.24101383691291545  ---- rank/hits@10: (0.17756904882084146, 0.375)\n",
      "INFO:pykeen.utilities.train_utils:Epoch 253 / 2000 (2.1s):  0.019 ---- 0.023 ---- 0.24 ----   9\n",
      "INFO:pykeen.utilities.train_utils:Epoch 254 / 2000 (2.1s):  0.019 ---- 0.024 ---- 0.24 ----  10\n"
     ]
    },
    {
     "data": {
      "application/vnd.jupyter.widget-view+json": {
       "model_id": "615239871f2440c0a5b7eb1f097d3d8a",
       "version_major": 2,
       "version_minor": 0
      },
      "text/plain": [
       "HBox(children=(IntProgress(value=0, max=200), HTML(value='')))"
      ]
     },
     "metadata": {},
     "output_type": "display_data"
    },
    {
     "name": "stderr",
     "output_type": "stream",
     "text": [
      "DEBUG:pykeen.utilities.evaluation_utils.metrics_computations:Evaluation took 3.90s seconds\n",
      "DEBUG:pykeen.utilities.train_utils:\n",
      "current metric: 0.24004587201593297  ---- rank/hits@10: (0.17387990958534005, 0.3875)\n",
      "INFO:pykeen.utilities.train_utils:Epoch 255 / 2000 (2.1s):  0.019 ---- 0.025 ---- 0.24 ----  11\n",
      "INFO:pykeen.utilities.train_utils:Epoch 256 / 2000 (2.1s):  0.019 ---- 0.025 ---- 0.24 ----  12\n",
      "INFO:pykeen.utilities.train_utils:Epoch 257 / 2000 (2.1s):  0.019 ---- 0.026 ---- 0.24 ----  13\n",
      "INFO:pykeen.utilities.train_utils:Epoch 258 / 2000 (2.1s):  0.018 ---- 0.024 ---- 0.24 ----  14\n",
      "INFO:pykeen.utilities.train_utils:Epoch 259 / 2000 (2.1s):  0.019 ---- 0.024 ---- 0.24 ----  15\n"
     ]
    },
    {
     "data": {
      "application/vnd.jupyter.widget-view+json": {
       "model_id": "110da821a3944a28870d0c81d7d3efdc",
       "version_major": 2,
       "version_minor": 0
      },
      "text/plain": [
       "HBox(children=(IntProgress(value=0, max=200), HTML(value='')))"
      ]
     },
     "metadata": {},
     "output_type": "display_data"
    },
    {
     "name": "stderr",
     "output_type": "stream",
     "text": [
      "DEBUG:pykeen.utilities.evaluation_utils.metrics_computations:Evaluation took 3.88s seconds\n",
      "DEBUG:pykeen.utilities.train_utils:\n",
      "current metric: 0.2502239080623276  ---- rank/hits@10: (0.1859267482170261, 0.3825)\n",
      "DEBUG:pykeen.utilities.train_utils:Saving the following model to disk:\n",
      "INFO:pykeen.utilities.train_utils:Epoch 260 / 2000 (2.1s):  0.018 ---- 0.025 ---- 0.25 ----   1\n",
      "INFO:pykeen.utilities.train_utils:Epoch 261 / 2000 (2.1s):  0.018 ---- 0.024 ---- 0.25 ----   2\n",
      "INFO:pykeen.utilities.train_utils:Epoch 262 / 2000 (2.1s):  0.019 ---- 0.023 ---- 0.25 ----   3\n",
      "INFO:pykeen.utilities.train_utils:Epoch 263 / 2000 (2.1s):  0.019 ---- 0.025 ---- 0.25 ----   4\n",
      "INFO:pykeen.utilities.train_utils:Epoch 264 / 2000 (2.1s):  0.018 ---- 0.024 ---- 0.25 ----   5\n"
     ]
    },
    {
     "name": "stdout",
     "output_type": "stream",
     "text": [
      "\n",
      "\n",
      "\n"
     ]
    },
    {
     "data": {
      "application/vnd.jupyter.widget-view+json": {
       "model_id": "ffc78c7785ee4e9b837f9d2754267a94",
       "version_major": 2,
       "version_minor": 0
      },
      "text/plain": [
       "HBox(children=(IntProgress(value=0, max=200), HTML(value='')))"
      ]
     },
     "metadata": {},
     "output_type": "display_data"
    },
    {
     "name": "stderr",
     "output_type": "stream",
     "text": [
      "DEBUG:pykeen.utilities.evaluation_utils.metrics_computations:Evaluation took 3.88s seconds\n",
      "DEBUG:pykeen.utilities.train_utils:\n",
      "current metric: 0.24406391301944766  ---- rank/hits@10: (0.18148783839418975, 0.3725)\n",
      "INFO:pykeen.utilities.train_utils:Epoch 265 / 2000 (2.1s):  0.018 ---- 0.023 ---- 0.24 ----   6\n",
      "INFO:pykeen.utilities.train_utils:Epoch 266 / 2000 (2.1s):  0.018 ---- 0.024 ---- 0.24 ----   7\n",
      "INFO:pykeen.utilities.train_utils:Epoch 267 / 2000 (2.1s):  0.018 ---- 0.025 ---- 0.24 ----   8\n",
      "INFO:pykeen.utilities.train_utils:Epoch 268 / 2000 (2.1s):  0.018 ---- 0.025 ---- 0.24 ----   9\n",
      "INFO:pykeen.utilities.train_utils:Epoch 269 / 2000 (2.1s):  0.018 ---- 0.024 ---- 0.24 ----  10\n"
     ]
    },
    {
     "data": {
      "application/vnd.jupyter.widget-view+json": {
       "model_id": "7cf4fe8d19134ca0996eb367b21278f0",
       "version_major": 2,
       "version_minor": 0
      },
      "text/plain": [
       "HBox(children=(IntProgress(value=0, max=200), HTML(value='')))"
      ]
     },
     "metadata": {},
     "output_type": "display_data"
    },
    {
     "name": "stderr",
     "output_type": "stream",
     "text": [
      "DEBUG:pykeen.utilities.evaluation_utils.metrics_computations:Evaluation took 3.85s seconds\n",
      "DEBUG:pykeen.utilities.train_utils:\n",
      "current metric: 0.24654924793016061  ---- rank/hits@10: (0.18364451258379405, 0.375)\n",
      "INFO:pykeen.utilities.train_utils:Epoch 270 / 2000 (2.1s):  0.018 ---- 0.022 ---- 0.25 ----  11\n",
      "INFO:pykeen.utilities.train_utils:Epoch 271 / 2000 (2.1s):  0.018 ---- 0.024 ---- 0.25 ----  12\n",
      "INFO:pykeen.utilities.train_utils:Epoch 272 / 2000 (2.1s):  0.018 ---- 0.023 ---- 0.25 ----  13\n",
      "INFO:pykeen.utilities.train_utils:Epoch 273 / 2000 (2.1s):  0.018 ---- 0.023 ---- 0.25 ----  14\n",
      "INFO:pykeen.utilities.train_utils:Epoch 274 / 2000 (2.1s):  0.018 ---- 0.025 ---- 0.25 ----  15\n"
     ]
    },
    {
     "data": {
      "application/vnd.jupyter.widget-view+json": {
       "model_id": "64dcbc1ac5c6440785946e9a0cf4a788",
       "version_major": 2,
       "version_minor": 0
      },
      "text/plain": [
       "HBox(children=(IntProgress(value=0, max=200), HTML(value='')))"
      ]
     },
     "metadata": {},
     "output_type": "display_data"
    },
    {
     "name": "stderr",
     "output_type": "stream",
     "text": [
      "DEBUG:pykeen.utilities.evaluation_utils.metrics_computations:Evaluation took 3.88s seconds\n",
      "DEBUG:pykeen.utilities.train_utils:\n",
      "current metric: 0.24447220385251245  ---- rank/hits@10: (0.17803774180980422, 0.39)\n",
      "INFO:pykeen.utilities.train_utils:Epoch 275 / 2000 (2.1s):  0.018 ---- 0.023 ---- 0.24 ----  16\n",
      "INFO:pykeen.utilities.train_utils:Epoch 276 / 2000 (2.1s):  0.018 ---- 0.024 ---- 0.24 ----  17\n",
      "INFO:pykeen.utilities.train_utils:Epoch 277 / 2000 (2.1s):  0.018 ---- 0.026 ---- 0.24 ----  18\n",
      "INFO:pykeen.utilities.train_utils:Epoch 278 / 2000 (2.1s):  0.018 ---- 0.026 ---- 0.24 ----  19\n"
     ]
    },
    {
     "name": "stdout",
     "output_type": "stream",
     "text": [
      "\n",
      "\n",
      "\n"
     ]
    },
    {
     "name": "stderr",
     "output_type": "stream",
     "text": [
      "INFO:pykeen.utilities.train_utils:Epoch 279 / 2000 (2.1s):  0.018 ---- 0.026 ---- 0.24 ----  20\n"
     ]
    },
    {
     "data": {
      "application/vnd.jupyter.widget-view+json": {
       "model_id": "da886845cc6e46b7ba6bdc8a1a2163cc",
       "version_major": 2,
       "version_minor": 0
      },
      "text/plain": [
       "HBox(children=(IntProgress(value=0, max=200), HTML(value='')))"
      ]
     },
     "metadata": {},
     "output_type": "display_data"
    },
    {
     "name": "stderr",
     "output_type": "stream",
     "text": [
      "DEBUG:pykeen.utilities.evaluation_utils.metrics_computations:Evaluation took 3.86s seconds\n",
      "DEBUG:pykeen.utilities.train_utils:\n",
      "current metric: 0.24818894939869932  ---- rank/hits@10: (0.182007670122784, 0.39)\n",
      "INFO:pykeen.utilities.train_utils:Epoch 280 / 2000 (2.1s):  0.018 ---- 0.025 ---- 0.25 ----  21\n",
      "INFO:pykeen.utilities.train_utils:Epoch 281 / 2000 (2.1s):  0.018 ---- 0.023 ---- 0.25 ----  22\n",
      "INFO:pykeen.utilities.train_utils:Epoch 282 / 2000 (2.1s):  0.018 ---- 0.024 ---- 0.25 ----  23\n",
      "INFO:pykeen.utilities.train_utils:Epoch 283 / 2000 (2.1s):  0.018 ---- 0.024 ---- 0.25 ----  24\n",
      "INFO:pykeen.utilities.train_utils:Epoch 284 / 2000 (2.1s):  0.018 ---- 0.024 ---- 0.25 ----  25\n"
     ]
    },
    {
     "data": {
      "application/vnd.jupyter.widget-view+json": {
       "model_id": "f295c85c68cf4c079bd4dcb78d13a696",
       "version_major": 2,
       "version_minor": 0
      },
      "text/plain": [
       "HBox(children=(IntProgress(value=0, max=200), HTML(value='')))"
      ]
     },
     "metadata": {},
     "output_type": "display_data"
    },
    {
     "name": "stderr",
     "output_type": "stream",
     "text": [
      "DEBUG:pykeen.utilities.evaluation_utils.metrics_computations:Evaluation took 3.92s seconds\n",
      "DEBUG:pykeen.utilities.train_utils:\n",
      "current metric: 0.24740217354376165  ---- rank/hits@10: (0.18226221387150054, 0.385)\n",
      "INFO:pykeen.utilities.train_utils:Epoch 285 / 2000 (2.1s):  0.018 ---- 0.024 ---- 0.25 ----  26\n",
      "INFO:pykeen.utilities.train_utils:Epoch 286 / 2000 (2.1s):  0.018 ---- 0.026 ---- 0.25 ----  27\n",
      "INFO:pykeen.utilities.train_utils:Epoch 287 / 2000 (2.1s):  0.018 ---- 0.023 ---- 0.25 ----  28\n",
      "INFO:pykeen.utilities.train_utils:Epoch 288 / 2000 (2.1s):  0.018 ---- 0.023 ---- 0.25 ----  29\n",
      "INFO:pykeen.utilities.train_utils:Epoch 289 / 2000 (2.1s):  0.018 ---- 0.024 ---- 0.25 ----  30\n"
     ]
    },
    {
     "data": {
      "application/vnd.jupyter.widget-view+json": {
       "model_id": "737ba824347d4e299f505eae2ecf9f09",
       "version_major": 2,
       "version_minor": 0
      },
      "text/plain": [
       "HBox(children=(IntProgress(value=0, max=200), HTML(value='')))"
      ]
     },
     "metadata": {},
     "output_type": "display_data"
    },
    {
     "name": "stdout",
     "output_type": "stream",
     "text": [
      "\n",
      "\n"
     ]
    },
    {
     "name": "stderr",
     "output_type": "stream",
     "text": [
      "DEBUG:pykeen.utilities.evaluation_utils.metrics_computations:Evaluation took 3.88s seconds\n",
      "DEBUG:pykeen.utilities.train_utils:\n",
      "current metric: 0.24815695479555086  ---- rank/hits@10: (0.18252270929373157, 0.3875)\n",
      "INFO:pykeen.utilities.train_utils:Epoch 290 / 2000 (2.1s):  0.018 ---- 0.024 ---- 0.25 ----  31\n",
      "INFO:pykeen.utilities.train_utils:Epoch 291 / 2000 (2.1s):  0.018 ---- 0.024 ---- 0.25 ----  32\n",
      "INFO:pykeen.utilities.train_utils:Epoch 292 / 2000 (2.1s):  0.018 ---- 0.023 ---- 0.25 ----  33\n",
      "INFO:pykeen.utilities.train_utils:Epoch 293 / 2000 (2.1s):  0.017 ---- 0.023 ---- 0.25 ----  34\n",
      "INFO:pykeen.utilities.train_utils:Epoch 294 / 2000 (2.1s):  0.018 ---- 0.023 ---- 0.25 ----  35\n"
     ]
    },
    {
     "data": {
      "application/vnd.jupyter.widget-view+json": {
       "model_id": "70bb00f043394a64b7ca39a331620557",
       "version_major": 2,
       "version_minor": 0
      },
      "text/plain": [
       "HBox(children=(IntProgress(value=0, max=200), HTML(value='')))"
      ]
     },
     "metadata": {},
     "output_type": "display_data"
    },
    {
     "name": "stderr",
     "output_type": "stream",
     "text": [
      "DEBUG:pykeen.utilities.evaluation_utils.metrics_computations:Evaluation took 3.89s seconds\n",
      "DEBUG:pykeen.utilities.train_utils:\n",
      "current metric: 0.24743774765772886  ---- rank/hits@10: (0.18286677216268715, 0.3825)\n",
      "INFO:pykeen.utilities.train_utils:Epoch 295 / 2000 (2.1s):  0.018 ---- 0.023 ---- 0.25 ----  36\n",
      "INFO:pykeen.utilities.train_utils:Epoch 296 / 2000 (2.1s):  0.017 ---- 0.023 ---- 0.25 ----  37\n",
      "INFO:pykeen.utilities.train_utils:Epoch 297 / 2000 (2.1s):  0.017 ---- 0.023 ---- 0.25 ----  38\n"
     ]
    },
    {
     "data": {
      "application/vnd.jupyter.widget-view+json": {
       "model_id": "4dc88113fd5a45279f98cba3cbbcca12",
       "version_major": 2,
       "version_minor": 0
      },
      "text/plain": [
       "HBox(children=(IntProgress(value=0, max=200), HTML(value='')))"
      ]
     },
     "metadata": {},
     "output_type": "display_data"
    },
    {
     "name": "stderr",
     "output_type": "stream",
     "text": [
      "DEBUG:pykeen.utilities.evaluation_utils.metrics_computations:Evaluation took 3.91s seconds\n",
      "DEBUG:pykeen.utilities.train_utils:\n",
      "current metric: 0.2489857974260702  ---- rank/hits@10: (0.18178707604234887, 0.395)\n",
      "INFO:pykeen.utilities.train_utils:Epoch 298 / 2000 (2.1s):  0.018 ---- 0.021 ---- 0.25 ----  39\n"
     ]
    },
    {
     "data": {
      "application/vnd.jupyter.widget-view+json": {
       "model_id": "b2df075ced31498eaff519dad821e0eb",
       "version_major": 2,
       "version_minor": 0
      },
      "text/plain": [
       "HBox(children=(IntProgress(value=0, max=200), HTML(value='')))"
      ]
     },
     "metadata": {},
     "output_type": "display_data"
    },
    {
     "name": "stderr",
     "output_type": "stream",
     "text": [
      "DEBUG:pykeen.utilities.evaluation_utils.metrics_computations:Evaluation took 3.90s seconds\n",
      "DEBUG:pykeen.utilities.train_utils:\n",
      "current metric: 0.24648521883450242  ---- rank/hits@10: (0.18071968032330396, 0.3875)\n",
      "INFO:pykeen.utilities.train_utils:Epoch 299 / 2000 (2.1s):  0.017 ---- 0.021 ---- 0.25 ----  40\n"
     ]
    },
    {
     "name": "stdout",
     "output_type": "stream",
     "text": [
      "\n",
      "\n",
      "\n"
     ]
    },
    {
     "data": {
      "application/vnd.jupyter.widget-view+json": {
       "model_id": "0de50d6bd74240a585031351e3029f7d",
       "version_major": 2,
       "version_minor": 0
      },
      "text/plain": [
       "HBox(children=(IntProgress(value=0, max=200), HTML(value='')))"
      ]
     },
     "metadata": {},
     "output_type": "display_data"
    },
    {
     "name": "stderr",
     "output_type": "stream",
     "text": [
      "DEBUG:pykeen.utilities.evaluation_utils.metrics_computations:Evaluation took 3.89s seconds\n",
      "DEBUG:pykeen.utilities.train_utils:\n",
      "current metric: 0.24938910884496154  ---- rank/hits@10: (0.18117266683323904, 0.4)\n",
      "INFO:pykeen.utilities.train_utils:Epoch 300 / 2000 (2.1s):  0.018 ---- 0.022 ---- 0.25 ----  41\n",
      "INFO:pykeen.utilities.train_utils:Epoch 301 / 2000 (2.1s):  0.017 ---- 0.023 ---- 0.25 ----  42\n",
      "INFO:pykeen.utilities.train_utils:Epoch 302 / 2000 (2.1s):  0.017 ---- 0.023 ---- 0.25 ----  43\n",
      "INFO:pykeen.utilities.train_utils:Epoch 303 / 2000 (2.1s):  0.017 ---- 0.022 ---- 0.25 ----  44\n",
      "INFO:pykeen.utilities.train_utils:Epoch 304 / 2000 (2.1s):  0.017 ---- 0.023 ---- 0.25 ----  45\n"
     ]
    },
    {
     "data": {
      "application/vnd.jupyter.widget-view+json": {
       "model_id": "420b63a3845a428db9c473b06859d643",
       "version_major": 2,
       "version_minor": 0
      },
      "text/plain": [
       "HBox(children=(IntProgress(value=0, max=200), HTML(value='')))"
      ]
     },
     "metadata": {},
     "output_type": "display_data"
    },
    {
     "name": "stderr",
     "output_type": "stream",
     "text": [
      "DEBUG:pykeen.utilities.evaluation_utils.metrics_computations:Evaluation took 3.94s seconds\n",
      "DEBUG:pykeen.utilities.train_utils:\n",
      "current metric: 0.25383951489191786  ---- rank/hits@10: (0.18757421229255095, 0.3925)\n",
      "DEBUG:pykeen.utilities.train_utils:Saving the following model to disk:\n",
      "INFO:pykeen.utilities.train_utils:Epoch 305 / 2000 (2.1s):  0.017 ---- 0.023 ---- 0.25 ----   1\n",
      "INFO:pykeen.utilities.train_utils:Epoch 306 / 2000 (2.1s):  0.017 ---- 0.025 ---- 0.25 ----   2\n",
      "INFO:pykeen.utilities.train_utils:Epoch 307 / 2000 (2.1s):  0.017 ---- 0.021 ---- 0.25 ----   3\n",
      "INFO:pykeen.utilities.train_utils:Epoch 308 / 2000 (2.1s):  0.017 ---- 0.022 ---- 0.25 ----   4\n"
     ]
    },
    {
     "data": {
      "application/vnd.jupyter.widget-view+json": {
       "model_id": "5592d9e593a34bed987e3d4cfa34f94a",
       "version_major": 2,
       "version_minor": 0
      },
      "text/plain": [
       "HBox(children=(IntProgress(value=0, max=200), HTML(value='')))"
      ]
     },
     "metadata": {},
     "output_type": "display_data"
    },
    {
     "name": "stderr",
     "output_type": "stream",
     "text": [
      "DEBUG:pykeen.utilities.evaluation_utils.metrics_computations:Evaluation took 3.88s seconds\n",
      "DEBUG:pykeen.utilities.train_utils:\n",
      "current metric: 0.2536938188478427  ---- rank/hits@10: (0.18917480328912642, 0.385)\n",
      "INFO:pykeen.utilities.train_utils:Epoch 309 / 2000 (2.1s):  0.017 ---- 0.021 ---- 0.25 ----   5\n"
     ]
    },
    {
     "data": {
      "application/vnd.jupyter.widget-view+json": {
       "model_id": "7463374aeeb54464800f140c77e3f2c1",
       "version_major": 2,
       "version_minor": 0
      },
      "text/plain": [
       "HBox(children=(IntProgress(value=0, max=200), HTML(value='')))"
      ]
     },
     "metadata": {},
     "output_type": "display_data"
    },
    {
     "name": "stderr",
     "output_type": "stream",
     "text": [
      "DEBUG:pykeen.utilities.evaluation_utils.metrics_computations:Evaluation took 3.90s seconds\n",
      "DEBUG:pykeen.utilities.train_utils:\n",
      "current metric: 0.2531345558090637  ---- rank/hits@10: (0.18680535507659254, 0.3925)\n",
      "INFO:pykeen.utilities.train_utils:Epoch 310 / 2000 (2.1s):  0.017 ---- 0.023 ---- 0.25 ----   6\n",
      "INFO:pykeen.utilities.train_utils:Epoch 311 / 2000 (2.1s):  0.017 ---- 0.023 ---- 0.25 ----   7\n",
      "INFO:pykeen.utilities.train_utils:Epoch 312 / 2000 (2.1s):  0.017 ---- 0.023 ---- 0.25 ----   8\n"
     ]
    },
    {
     "name": "stdout",
     "output_type": "stream",
     "text": [
      "\n",
      "\n",
      "\n"
     ]
    },
    {
     "name": "stderr",
     "output_type": "stream",
     "text": [
      "INFO:pykeen.utilities.train_utils:Epoch 313 / 2000 (2.1s):  0.017 ---- 0.023 ---- 0.25 ----   9\n",
      "INFO:pykeen.utilities.train_utils:Epoch 314 / 2000 (2.1s):  0.017 ---- 0.024 ---- 0.25 ----  10\n"
     ]
    },
    {
     "data": {
      "application/vnd.jupyter.widget-view+json": {
       "model_id": "565b13218f4d4175ae9cc4e1b2fb4db3",
       "version_major": 2,
       "version_minor": 0
      },
      "text/plain": [
       "HBox(children=(IntProgress(value=0, max=200), HTML(value='')))"
      ]
     },
     "metadata": {},
     "output_type": "display_data"
    },
    {
     "name": "stderr",
     "output_type": "stream",
     "text": [
      "DEBUG:pykeen.utilities.evaluation_utils.metrics_computations:Evaluation took 3.88s seconds\n",
      "DEBUG:pykeen.utilities.train_utils:\n",
      "current metric: 0.2543883748041837  ---- rank/hits@10: (0.18704625330251878, 0.3975)\n",
      "DEBUG:pykeen.utilities.train_utils:Saving the following model to disk:\n",
      "INFO:pykeen.utilities.train_utils:Epoch 315 / 2000 (2.1s):  0.017 ---- 0.024 ---- 0.25 ----   1\n",
      "INFO:pykeen.utilities.train_utils:Epoch 316 / 2000 (2.1s):  0.017 ---- 0.023 ---- 0.25 ----   2\n",
      "INFO:pykeen.utilities.train_utils:Epoch 317 / 2000 (2.1s):  0.017 ---- 0.023 ---- 0.25 ----   3\n"
     ]
    },
    {
     "data": {
      "application/vnd.jupyter.widget-view+json": {
       "model_id": "b22b1ee499f045bc967dad20e7936cc7",
       "version_major": 2,
       "version_minor": 0
      },
      "text/plain": [
       "HBox(children=(IntProgress(value=0, max=200), HTML(value='')))"
      ]
     },
     "metadata": {},
     "output_type": "display_data"
    },
    {
     "name": "stderr",
     "output_type": "stream",
     "text": [
      "DEBUG:pykeen.utilities.evaluation_utils.metrics_computations:Evaluation took 3.87s seconds\n",
      "DEBUG:pykeen.utilities.train_utils:\n",
      "current metric: 0.2566542678373337  ---- rank/hits@10: (0.18784816152438233, 0.405)\n",
      "DEBUG:pykeen.utilities.train_utils:Saving the following model to disk:\n",
      "INFO:pykeen.utilities.train_utils:Epoch 318 / 2000 (2.1s):  0.017 ---- 0.021 ---- 0.26 ----   1\n",
      "INFO:pykeen.utilities.train_utils:Epoch 319 / 2000 (2.1s):  0.017 ---- 0.022 ---- 0.26 ----   2\n"
     ]
    },
    {
     "data": {
      "application/vnd.jupyter.widget-view+json": {
       "model_id": "002d881771b54936838c2e3df2e4c85a",
       "version_major": 2,
       "version_minor": 0
      },
      "text/plain": [
       "HBox(children=(IntProgress(value=0, max=200), HTML(value='')))"
      ]
     },
     "metadata": {},
     "output_type": "display_data"
    },
    {
     "name": "stderr",
     "output_type": "stream",
     "text": [
      "DEBUG:pykeen.utilities.evaluation_utils.metrics_computations:Evaluation took 3.91s seconds\n",
      "DEBUG:pykeen.utilities.train_utils:\n",
      "current metric: 0.26154361600684134  ---- rank/hits@10: (0.1954933868753107, 0.395)\n",
      "DEBUG:pykeen.utilities.train_utils:Saving the following model to disk:\n",
      "INFO:pykeen.utilities.train_utils:Epoch 320 / 2000 (2.1s):  0.017 ---- 0.022 ---- 0.26 ----   1\n",
      "INFO:pykeen.utilities.train_utils:Epoch 321 / 2000 (2.1s):  0.017 ---- 0.021 ---- 0.26 ----   2\n",
      "INFO:pykeen.utilities.train_utils:Epoch 322 / 2000 (2.1s):  0.017 ---- 0.023 ---- 0.26 ----   3\n",
      "INFO:pykeen.utilities.train_utils:Epoch 323 / 2000 (2.1s):  0.017 ---- 0.021 ---- 0.26 ----   4\n",
      "INFO:pykeen.utilities.train_utils:Epoch 324 / 2000 (2.1s):  0.017 ---- 0.024 ---- 0.26 ----   5\n"
     ]
    },
    {
     "name": "stdout",
     "output_type": "stream",
     "text": [
      "\n",
      "\n",
      "\n"
     ]
    },
    {
     "data": {
      "application/vnd.jupyter.widget-view+json": {
       "model_id": "601b590730d54ba2afb3d3db4af0b23a",
       "version_major": 2,
       "version_minor": 0
      },
      "text/plain": [
       "HBox(children=(IntProgress(value=0, max=200), HTML(value='')))"
      ]
     },
     "metadata": {},
     "output_type": "display_data"
    },
    {
     "name": "stderr",
     "output_type": "stream",
     "text": [
      "DEBUG:pykeen.utilities.evaluation_utils.metrics_computations:Evaluation took 3.89s seconds\n",
      "DEBUG:pykeen.utilities.train_utils:\n",
      "current metric: 0.26581719636281725  ---- rank/hits@10: (0.19904586561222246, 0.4)\n",
      "DEBUG:pykeen.utilities.train_utils:Saving the following model to disk:\n",
      "INFO:pykeen.utilities.train_utils:Epoch 325 / 2000 (2.1s):  0.017 ---- 0.022 ---- 0.27 ----   1\n",
      "INFO:pykeen.utilities.train_utils:Epoch 326 / 2000 (2.1s):  0.017 ---- 0.022 ---- 0.27 ----   2\n",
      "INFO:pykeen.utilities.train_utils:Epoch 327 / 2000 (2.1s):  0.017 ---- 0.023 ---- 0.27 ----   3\n",
      "INFO:pykeen.utilities.train_utils:Epoch 328 / 2000 (2.1s):  0.017 ---- 0.023 ---- 0.27 ----   4\n",
      "INFO:pykeen.utilities.train_utils:Epoch 329 / 2000 (2.1s):  0.016 ---- 0.023 ---- 0.27 ----   5\n"
     ]
    },
    {
     "data": {
      "application/vnd.jupyter.widget-view+json": {
       "model_id": "cc859b5e6e334306a3dc9f09e0ac4714",
       "version_major": 2,
       "version_minor": 0
      },
      "text/plain": [
       "HBox(children=(IntProgress(value=0, max=200), HTML(value='')))"
      ]
     },
     "metadata": {},
     "output_type": "display_data"
    },
    {
     "name": "stderr",
     "output_type": "stream",
     "text": [
      "DEBUG:pykeen.utilities.evaluation_utils.metrics_computations:Evaluation took 3.86s seconds\n",
      "DEBUG:pykeen.utilities.train_utils:\n",
      "current metric: 0.25703206631634623  ---- rank/hits@10: (0.19108184340909976, 0.3925)\n",
      "INFO:pykeen.utilities.train_utils:Epoch 330 / 2000 (2.1s):  0.017 ---- 0.022 ---- 0.26 ----   6\n"
     ]
    },
    {
     "data": {
      "application/vnd.jupyter.widget-view+json": {
       "model_id": "896a3e265e184c4cb56d4b1aee23700b",
       "version_major": 2,
       "version_minor": 0
      },
      "text/plain": [
       "HBox(children=(IntProgress(value=0, max=200), HTML(value='')))"
      ]
     },
     "metadata": {},
     "output_type": "display_data"
    },
    {
     "name": "stderr",
     "output_type": "stream",
     "text": [
      "DEBUG:pykeen.utilities.evaluation_utils.metrics_computations:Evaluation took 3.86s seconds\n",
      "DEBUG:pykeen.utilities.train_utils:\n",
      "current metric: 0.2621475583647075  ---- rank/hits@10: (0.19266833109927958, 0.41)\n",
      "INFO:pykeen.utilities.train_utils:Epoch 331 / 2000 (2.1s):  0.017 ---- 0.020 ---- 0.26 ----   7\n",
      "INFO:pykeen.utilities.train_utils:Epoch 332 / 2000 (2.1s):  0.017 ---- 0.024 ---- 0.26 ----   8\n",
      "INFO:pykeen.utilities.train_utils:Epoch 333 / 2000 (2.1s):  0.017 ---- 0.022 ---- 0.26 ----   9\n",
      "INFO:pykeen.utilities.train_utils:Epoch 334 / 2000 (2.1s):  0.017 ---- 0.024 ---- 0.26 ----  10\n"
     ]
    },
    {
     "data": {
      "application/vnd.jupyter.widget-view+json": {
       "model_id": "09f27bc7ef894fde8c896c3116685414",
       "version_major": 2,
       "version_minor": 0
      },
      "text/plain": [
       "HBox(children=(IntProgress(value=0, max=200), HTML(value='')))"
      ]
     },
     "metadata": {},
     "output_type": "display_data"
    },
    {
     "name": "stderr",
     "output_type": "stream",
     "text": [
      "DEBUG:pykeen.utilities.evaluation_utils.metrics_computations:Evaluation took 3.87s seconds\n",
      "DEBUG:pykeen.utilities.train_utils:\n",
      "current metric: 0.25806401930887324  ---- rank/hits@10: (0.1904756491567629, 0.4)\n",
      "INFO:pykeen.utilities.train_utils:Epoch 335 / 2000 (2.1s):  0.017 ---- 0.023 ---- 0.26 ----  11\n",
      "INFO:pykeen.utilities.train_utils:Epoch 336 / 2000 (2.1s):  0.017 ---- 0.023 ---- 0.26 ----  12\n",
      "INFO:pykeen.utilities.train_utils:Epoch 337 / 2000 (2.1s):  0.016 ---- 0.023 ---- 0.26 ----  13\n",
      "INFO:pykeen.utilities.train_utils:Epoch 338 / 2000 (2.1s):  0.016 ---- 0.022 ---- 0.26 ----  14\n"
     ]
    },
    {
     "name": "stdout",
     "output_type": "stream",
     "text": [
      "\n",
      "\n",
      "\n"
     ]
    },
    {
     "name": "stderr",
     "output_type": "stream",
     "text": [
      "INFO:pykeen.utilities.train_utils:Epoch 339 / 2000 (2.1s):  0.016 ---- 0.022 ---- 0.26 ----  15\n"
     ]
    },
    {
     "data": {
      "application/vnd.jupyter.widget-view+json": {
       "model_id": "b8af0af3ffd945a8b643ba27636c09c9",
       "version_major": 2,
       "version_minor": 0
      },
      "text/plain": [
       "HBox(children=(IntProgress(value=0, max=200), HTML(value='')))"
      ]
     },
     "metadata": {},
     "output_type": "display_data"
    },
    {
     "name": "stderr",
     "output_type": "stream",
     "text": [
      "DEBUG:pykeen.utilities.evaluation_utils.metrics_computations:Evaluation took 3.90s seconds\n",
      "DEBUG:pykeen.utilities.train_utils:\n",
      "current metric: 0.260123561924041  ---- rank/hits@10: (0.19331402264932515, 0.3975)\n",
      "INFO:pykeen.utilities.train_utils:Epoch 340 / 2000 (2.1s):  0.016 ---- 0.024 ---- 0.26 ----  16\n",
      "INFO:pykeen.utilities.train_utils:Epoch 341 / 2000 (2.1s):  0.016 ---- 0.021 ---- 0.26 ----  17\n",
      "INFO:pykeen.utilities.train_utils:Epoch 342 / 2000 (2.1s):  0.016 ---- 0.023 ---- 0.26 ----  18\n",
      "INFO:pykeen.utilities.train_utils:Epoch 343 / 2000 (2.1s):  0.016 ---- 0.021 ---- 0.26 ----  19\n",
      "INFO:pykeen.utilities.train_utils:Epoch 344 / 2000 (2.1s):  0.016 ---- 0.021 ---- 0.26 ----  20\n"
     ]
    },
    {
     "data": {
      "application/vnd.jupyter.widget-view+json": {
       "model_id": "80e8cd40127a478a939d66f4cb5b896a",
       "version_major": 2,
       "version_minor": 0
      },
      "text/plain": [
       "HBox(children=(IntProgress(value=0, max=200), HTML(value='')))"
      ]
     },
     "metadata": {},
     "output_type": "display_data"
    },
    {
     "name": "stderr",
     "output_type": "stream",
     "text": [
      "DEBUG:pykeen.utilities.evaluation_utils.metrics_computations:Evaluation took 3.87s seconds\n",
      "DEBUG:pykeen.utilities.train_utils:\n",
      "current metric: 0.26865363874062226  ---- rank/hits@10: (0.19640235851381216, 0.425)\n",
      "DEBUG:pykeen.utilities.train_utils:Saving the following model to disk:\n",
      "INFO:pykeen.utilities.train_utils:Epoch 345 / 2000 (2.1s):  0.016 ---- 0.023 ---- 0.27 ----   1\n"
     ]
    },
    {
     "data": {
      "application/vnd.jupyter.widget-view+json": {
       "model_id": "2e1f2abc1edf4ba48c3a1bace9d94bcc",
       "version_major": 2,
       "version_minor": 0
      },
      "text/plain": [
       "HBox(children=(IntProgress(value=0, max=200), HTML(value='')))"
      ]
     },
     "metadata": {},
     "output_type": "display_data"
    },
    {
     "name": "stderr",
     "output_type": "stream",
     "text": [
      "DEBUG:pykeen.utilities.evaluation_utils.metrics_computations:Evaluation took 3.88s seconds\n",
      "DEBUG:pykeen.utilities.train_utils:\n",
      "current metric: 0.26646926992198555  ---- rank/hits@10: (0.19513704758594266, 0.42)\n",
      "INFO:pykeen.utilities.train_utils:Epoch 346 / 2000 (2.1s):  0.016 ---- 0.020 ---- 0.27 ----   2\n",
      "INFO:pykeen.utilities.train_utils:Epoch 347 / 2000 (2.1s):  0.016 ---- 0.022 ---- 0.27 ----   3\n",
      "INFO:pykeen.utilities.train_utils:Epoch 348 / 2000 (2.1s):  0.017 ---- 0.021 ---- 0.27 ----   4\n",
      "INFO:pykeen.utilities.train_utils:Epoch 349 / 2000 (2.1s):  0.016 ---- 0.022 ---- 0.27 ----   5\n"
     ]
    },
    {
     "name": "stdout",
     "output_type": "stream",
     "text": [
      "\n",
      "\n",
      "\n",
      "\n",
      "\n",
      "\n",
      "\n",
      "\n",
      "\n",
      "\n"
     ]
    },
    {
     "data": {
      "application/vnd.jupyter.widget-view+json": {
       "model_id": "dd47d8ef2cda40c197fd23cc3d2d489a",
       "version_major": 2,
       "version_minor": 0
      },
      "text/plain": [
       "HBox(children=(IntProgress(value=0, max=200), HTML(value='')))"
      ]
     },
     "metadata": {},
     "output_type": "display_data"
    },
    {
     "name": "stderr",
     "output_type": "stream",
     "text": [
      "DEBUG:pykeen.utilities.evaluation_utils.metrics_computations:Evaluation took 3.92s seconds\n",
      "DEBUG:pykeen.utilities.train_utils:\n",
      "current metric: 0.25900954595164316  ---- rank/hits@10: (0.1903823656828893, 0.405)\n",
      "INFO:pykeen.utilities.train_utils:Epoch 350 / 2000 (2.1s):  0.016 ---- 0.021 ---- 0.26 ----   6\n",
      "INFO:pykeen.utilities.train_utils:Epoch 351 / 2000 (2.1s):  0.016 ---- 0.021 ---- 0.26 ----   7\n",
      "INFO:pykeen.utilities.train_utils:Epoch 352 / 2000 (2.1s):  0.016 ---- 0.021 ---- 0.26 ----   8\n",
      "INFO:pykeen.utilities.train_utils:Epoch 353 / 2000 (2.1s):  0.016 ---- 0.020 ---- 0.26 ----   9\n"
     ]
    },
    {
     "data": {
      "application/vnd.jupyter.widget-view+json": {
       "model_id": "986934f413484a8f97c77be496dd9031",
       "version_major": 2,
       "version_minor": 0
      },
      "text/plain": [
       "HBox(children=(IntProgress(value=0, max=200), HTML(value='')))"
      ]
     },
     "metadata": {},
     "output_type": "display_data"
    },
    {
     "name": "stderr",
     "output_type": "stream",
     "text": [
      "DEBUG:pykeen.utilities.evaluation_utils.metrics_computations:Evaluation took 3.90s seconds\n",
      "DEBUG:pykeen.utilities.train_utils:\n",
      "current metric: 0.26969264245068786  ---- rank/hits@10: (0.1986137971567285, 0.42)\n",
      "DEBUG:pykeen.utilities.train_utils:Saving the following model to disk:\n",
      "INFO:pykeen.utilities.train_utils:Epoch 354 / 2000 (2.1s):  0.016 ---- 0.019 ---- 0.27 ----   1\n"
     ]
    },
    {
     "data": {
      "application/vnd.jupyter.widget-view+json": {
       "model_id": "0dffb3fc16c8498e8bf2d0a5f68d9876",
       "version_major": 2,
       "version_minor": 0
      },
      "text/plain": [
       "HBox(children=(IntProgress(value=0, max=200), HTML(value='')))"
      ]
     },
     "metadata": {},
     "output_type": "display_data"
    },
    {
     "name": "stderr",
     "output_type": "stream",
     "text": [
      "DEBUG:pykeen.utilities.evaluation_utils.metrics_computations:Evaluation took 3.87s seconds\n",
      "DEBUG:pykeen.utilities.train_utils:\n",
      "current metric: 0.26922909106094095  ---- rank/hits@10: (0.19811139018241086, 0.42)\n",
      "INFO:pykeen.utilities.train_utils:Epoch 355 / 2000 (2.1s):  0.016 ---- 0.020 ---- 0.27 ----   2\n"
     ]
    },
    {
     "data": {
      "application/vnd.jupyter.widget-view+json": {
       "model_id": "5992203741314fd5a858208cdaa61054",
       "version_major": 2,
       "version_minor": 0
      },
      "text/plain": [
       "HBox(children=(IntProgress(value=0, max=200), HTML(value='')))"
      ]
     },
     "metadata": {},
     "output_type": "display_data"
    },
    {
     "name": "stderr",
     "output_type": "stream",
     "text": [
      "DEBUG:pykeen.utilities.evaluation_utils.metrics_computations:Evaluation took 3.85s seconds\n",
      "DEBUG:pykeen.utilities.train_utils:\n",
      "current metric: 0.26142162306016237  ---- rank/hits@10: (0.19243763093838054, 0.4075)\n",
      "INFO:pykeen.utilities.train_utils:Epoch 356 / 2000 (2.1s):  0.016 ---- 0.019 ---- 0.26 ----   3\n",
      "INFO:pykeen.utilities.train_utils:Epoch 357 / 2000 (2.1s):  0.016 ---- 0.021 ---- 0.26 ----   4\n",
      "INFO:pykeen.utilities.train_utils:Epoch 358 / 2000 (2.1s):  0.016 ---- 0.021 ---- 0.26 ----   5\n"
     ]
    },
    {
     "name": "stdout",
     "output_type": "stream",
     "text": [
      "\n",
      "\n",
      "\n"
     ]
    },
    {
     "name": "stderr",
     "output_type": "stream",
     "text": [
      "INFO:pykeen.utilities.train_utils:Epoch 359 / 2000 (2.1s):  0.016 ---- 0.020 ---- 0.26 ----   6\n"
     ]
    },
    {
     "data": {
      "application/vnd.jupyter.widget-view+json": {
       "model_id": "2e1a40a3145b4aed807fb01e5a413315",
       "version_major": 2,
       "version_minor": 0
      },
      "text/plain": [
       "HBox(children=(IntProgress(value=0, max=200), HTML(value='')))"
      ]
     },
     "metadata": {},
     "output_type": "display_data"
    },
    {
     "name": "stderr",
     "output_type": "stream",
     "text": [
      "DEBUG:pykeen.utilities.evaluation_utils.metrics_computations:Evaluation took 3.89s seconds\n",
      "DEBUG:pykeen.utilities.train_utils:\n",
      "current metric: 0.27174663871594484  ---- rank/hits@10: (0.20028309053489401, 0.4225)\n",
      "DEBUG:pykeen.utilities.train_utils:Saving the following model to disk:\n",
      "INFO:pykeen.utilities.train_utils:Epoch 360 / 2000 (2.1s):  0.016 ---- 0.021 ---- 0.27 ----   1\n",
      "INFO:pykeen.utilities.train_utils:Epoch 361 / 2000 (2.1s):  0.016 ---- 0.020 ---- 0.27 ----   2\n",
      "INFO:pykeen.utilities.train_utils:Epoch 362 / 2000 (2.1s):  0.016 ---- 0.020 ---- 0.27 ----   3\n",
      "INFO:pykeen.utilities.train_utils:Epoch 363 / 2000 (2.1s):  0.016 ---- 0.020 ---- 0.27 ----   4\n",
      "INFO:pykeen.utilities.train_utils:Epoch 364 / 2000 (2.1s):  0.016 ---- 0.021 ---- 0.27 ----   5\n"
     ]
    },
    {
     "data": {
      "application/vnd.jupyter.widget-view+json": {
       "model_id": "6c43249a9c1242ce8186ebfb60a3f5b0",
       "version_major": 2,
       "version_minor": 0
      },
      "text/plain": [
       "HBox(children=(IntProgress(value=0, max=200), HTML(value='')))"
      ]
     },
     "metadata": {},
     "output_type": "display_data"
    },
    {
     "name": "stderr",
     "output_type": "stream",
     "text": [
      "DEBUG:pykeen.utilities.evaluation_utils.metrics_computations:Evaluation took 3.91s seconds\n",
      "DEBUG:pykeen.utilities.train_utils:\n",
      "current metric: 0.2678833191604377  ---- rank/hits@10: (0.19777313365890298, 0.415)\n",
      "INFO:pykeen.utilities.train_utils:Epoch 365 / 2000 (2.1s):  0.016 ---- 0.020 ---- 0.27 ----   6\n",
      "INFO:pykeen.utilities.train_utils:Epoch 366 / 2000 (2.1s):  0.016 ---- 0.021 ---- 0.27 ----   7\n",
      "INFO:pykeen.utilities.train_utils:Epoch 367 / 2000 (2.1s):  0.016 ---- 0.021 ---- 0.27 ----   8\n",
      "INFO:pykeen.utilities.train_utils:Epoch 368 / 2000 (2.0s):  0.016 ---- 0.022 ---- 0.27 ----   9\n",
      "INFO:pykeen.utilities.train_utils:Epoch 369 / 2000 (2.1s):  0.016 ---- 0.020 ---- 0.27 ----  10\n"
     ]
    },
    {
     "data": {
      "application/vnd.jupyter.widget-view+json": {
       "model_id": "264777c6d0344faca10cd45ed5de6d36",
       "version_major": 2,
       "version_minor": 0
      },
      "text/plain": [
       "HBox(children=(IntProgress(value=0, max=200), HTML(value='')))"
      ]
     },
     "metadata": {},
     "output_type": "display_data"
    },
    {
     "name": "stdout",
     "output_type": "stream",
     "text": [
      "\n",
      "\n"
     ]
    },
    {
     "name": "stderr",
     "output_type": "stream",
     "text": [
      "DEBUG:pykeen.utilities.evaluation_utils.metrics_computations:Evaluation took 3.90s seconds\n",
      "DEBUG:pykeen.utilities.train_utils:\n",
      "current metric: 0.26910665399572853  ---- rank/hits@10: (0.19969027435054967, 0.4125)\n",
      "INFO:pykeen.utilities.train_utils:Epoch 370 / 2000 (2.0s):  0.016 ---- 0.022 ---- 0.27 ----  11\n",
      "INFO:pykeen.utilities.train_utils:Epoch 371 / 2000 (2.1s):  0.016 ---- 0.021 ---- 0.27 ----  12\n",
      "INFO:pykeen.utilities.train_utils:Epoch 372 / 2000 (2.0s):  0.016 ---- 0.021 ---- 0.27 ----  13\n",
      "INFO:pykeen.utilities.train_utils:Epoch 373 / 2000 (2.1s):  0.016 ---- 0.022 ---- 0.27 ----  14\n",
      "INFO:pykeen.utilities.train_utils:Epoch 374 / 2000 (2.1s):  0.016 ---- 0.022 ---- 0.27 ----  15\n"
     ]
    },
    {
     "data": {
      "application/vnd.jupyter.widget-view+json": {
       "model_id": "4e87da8d7df14237bf9c9c1db02a1e2b",
       "version_major": 2,
       "version_minor": 0
      },
      "text/plain": [
       "HBox(children=(IntProgress(value=0, max=200), HTML(value='')))"
      ]
     },
     "metadata": {},
     "output_type": "display_data"
    },
    {
     "name": "stderr",
     "output_type": "stream",
     "text": [
      "DEBUG:pykeen.utilities.evaluation_utils.metrics_computations:Evaluation took 3.85s seconds\n",
      "DEBUG:pykeen.utilities.train_utils:\n",
      "current metric: 0.265503021411875  ---- rank/hits@10: (0.19518927127211724, 0.415)\n",
      "INFO:pykeen.utilities.train_utils:Epoch 375 / 2000 (2.1s):  0.016 ---- 0.021 ---- 0.27 ----  16\n",
      "INFO:pykeen.utilities.train_utils:Epoch 376 / 2000 (2.1s):  0.016 ---- 0.020 ---- 0.27 ----  17\n",
      "INFO:pykeen.utilities.train_utils:Epoch 377 / 2000 (2.1s):  0.016 ---- 0.021 ---- 0.27 ----  18\n",
      "INFO:pykeen.utilities.train_utils:Epoch 378 / 2000 (2.1s):  0.016 ---- 0.021 ---- 0.27 ----  19\n",
      "INFO:pykeen.utilities.train_utils:Epoch 379 / 2000 (2.1s):  0.016 ---- 0.019 ---- 0.27 ----  20\n"
     ]
    },
    {
     "data": {
      "application/vnd.jupyter.widget-view+json": {
       "model_id": "b045d3dd75794ddca0594c39123d9dc4",
       "version_major": 2,
       "version_minor": 0
      },
      "text/plain": [
       "HBox(children=(IntProgress(value=0, max=200), HTML(value='')))"
      ]
     },
     "metadata": {},
     "output_type": "display_data"
    },
    {
     "name": "stderr",
     "output_type": "stream",
     "text": [
      "DEBUG:pykeen.utilities.evaluation_utils.metrics_computations:Evaluation took 3.88s seconds\n",
      "DEBUG:pykeen.utilities.train_utils:\n",
      "current metric: 0.26279382719552397  ---- rank/hits@10: (0.19336732866377054, 0.41)\n",
      "INFO:pykeen.utilities.train_utils:Epoch 380 / 2000 (2.0s):  0.016 ---- 0.019 ---- 0.26 ----  21\n",
      "INFO:pykeen.utilities.train_utils:Epoch 381 / 2000 (2.1s):  0.016 ---- 0.020 ---- 0.26 ----  22\n",
      "INFO:pykeen.utilities.train_utils:Epoch 382 / 2000 (2.1s):  0.016 ---- 0.019 ---- 0.26 ----  23\n"
     ]
    },
    {
     "data": {
      "application/vnd.jupyter.widget-view+json": {
       "model_id": "085d79cb91ba407392165701b0fd9398",
       "version_major": 2,
       "version_minor": 0
      },
      "text/plain": [
       "HBox(children=(IntProgress(value=0, max=200), HTML(value='')))"
      ]
     },
     "metadata": {},
     "output_type": "display_data"
    },
    {
     "name": "stdout",
     "output_type": "stream",
     "text": [
      "\n",
      "\n"
     ]
    },
    {
     "name": "stderr",
     "output_type": "stream",
     "text": [
      "DEBUG:pykeen.utilities.evaluation_utils.metrics_computations:Evaluation took 3.87s seconds\n",
      "DEBUG:pykeen.utilities.train_utils:\n",
      "current metric: 0.26740345312329267  ---- rank/hits@10: (0.19560012876722965, 0.4225)\n",
      "INFO:pykeen.utilities.train_utils:Epoch 383 / 2000 (2.1s):  0.016 ---- 0.018 ---- 0.27 ----  24\n",
      "INFO:pykeen.utilities.train_utils:Epoch 384 / 2000 (2.1s):  0.016 ---- 0.019 ---- 0.27 ----  25\n"
     ]
    },
    {
     "data": {
      "application/vnd.jupyter.widget-view+json": {
       "model_id": "660131e8573d41809745b5d88222bff1",
       "version_major": 2,
       "version_minor": 0
      },
      "text/plain": [
       "HBox(children=(IntProgress(value=0, max=200), HTML(value='')))"
      ]
     },
     "metadata": {},
     "output_type": "display_data"
    },
    {
     "name": "stderr",
     "output_type": "stream",
     "text": [
      "DEBUG:pykeen.utilities.evaluation_utils.metrics_computations:Evaluation took 3.86s seconds\n",
      "DEBUG:pykeen.utilities.train_utils:\n",
      "current metric: 0.26177063683659907  ---- rank/hits@10: (0.1906553430483059, 0.4175)\n",
      "INFO:pykeen.utilities.train_utils:Epoch 385 / 2000 (2.1s):  0.016 ---- 0.019 ---- 0.26 ----  26\n",
      "INFO:pykeen.utilities.train_utils:Epoch 386 / 2000 (2.1s):  0.016 ---- 0.020 ---- 0.26 ----  27\n",
      "INFO:pykeen.utilities.train_utils:Epoch 387 / 2000 (2.1s):  0.016 ---- 0.021 ---- 0.26 ----  28\n",
      "INFO:pykeen.utilities.train_utils:Epoch 388 / 2000 (2.0s):  0.016 ---- 0.019 ---- 0.26 ----  29\n",
      "INFO:pykeen.utilities.train_utils:Epoch 389 / 2000 (2.1s):  0.016 ---- 0.018 ---- 0.26 ----  30\n"
     ]
    },
    {
     "data": {
      "application/vnd.jupyter.widget-view+json": {
       "model_id": "1ee66028c2ce46d5a8c508f23bbd03a6",
       "version_major": 2,
       "version_minor": 0
      },
      "text/plain": [
       "HBox(children=(IntProgress(value=0, max=200), HTML(value='')))"
      ]
     },
     "metadata": {},
     "output_type": "display_data"
    },
    {
     "name": "stderr",
     "output_type": "stream",
     "text": [
      "DEBUG:pykeen.utilities.evaluation_utils.metrics_computations:Evaluation took 3.87s seconds\n",
      "DEBUG:pykeen.utilities.train_utils:\n",
      "current metric: 0.27325243278971767  ---- rank/hits@10: (0.20135721507653648, 0.425)\n",
      "DEBUG:pykeen.utilities.train_utils:Saving the following model to disk:\n",
      "INFO:pykeen.utilities.train_utils:Epoch 390 / 2000 (2.0s):  0.016 ---- 0.018 ---- 0.27 ----   1\n",
      "INFO:pykeen.utilities.train_utils:Epoch 391 / 2000 (2.1s):  0.015 ---- 0.021 ---- 0.27 ----   2\n",
      "INFO:pykeen.utilities.train_utils:Epoch 392 / 2000 (2.0s):  0.016 ---- 0.020 ---- 0.27 ----   3\n",
      "INFO:pykeen.utilities.train_utils:Epoch 393 / 2000 (2.1s):  0.016 ---- 0.019 ---- 0.27 ----   4\n",
      "INFO:pykeen.utilities.train_utils:Epoch 394 / 2000 (2.0s):  0.016 ---- 0.020 ---- 0.27 ----   5\n"
     ]
    },
    {
     "data": {
      "application/vnd.jupyter.widget-view+json": {
       "model_id": "5683c92dcef24cfea9c79e9408b13d61",
       "version_major": 2,
       "version_minor": 0
      },
      "text/plain": [
       "HBox(children=(IntProgress(value=0, max=200), HTML(value='')))"
      ]
     },
     "metadata": {},
     "output_type": "display_data"
    },
    {
     "name": "stdout",
     "output_type": "stream",
     "text": [
      "\n",
      "\n"
     ]
    },
    {
     "name": "stderr",
     "output_type": "stream",
     "text": [
      "DEBUG:pykeen.utilities.evaluation_utils.metrics_computations:Evaluation took 3.89s seconds\n",
      "DEBUG:pykeen.utilities.train_utils:\n",
      "current metric: 0.274843884405199  ---- rank/hits@10: (0.20196810243383467, 0.43)\n",
      "DEBUG:pykeen.utilities.train_utils:Saving the following model to disk:\n",
      "INFO:pykeen.utilities.train_utils:Epoch 395 / 2000 (2.1s):  0.016 ---- 0.018 ---- 0.27 ----   1\n",
      "INFO:pykeen.utilities.train_utils:Epoch 396 / 2000 (2.1s):  0.016 ---- 0.019 ---- 0.27 ----   2\n",
      "INFO:pykeen.utilities.train_utils:Epoch 397 / 2000 (2.1s):  0.016 ---- 0.019 ---- 0.27 ----   3\n",
      "INFO:pykeen.utilities.train_utils:Epoch 398 / 2000 (2.1s):  0.016 ---- 0.018 ---- 0.27 ----   4\n",
      "INFO:pykeen.utilities.train_utils:Epoch 399 / 2000 (2.1s):  0.016 ---- 0.020 ---- 0.27 ----   5\n"
     ]
    },
    {
     "data": {
      "application/vnd.jupyter.widget-view+json": {
       "model_id": "a438af94a84a4d119a2f44621fc1057c",
       "version_major": 2,
       "version_minor": 0
      },
      "text/plain": [
       "HBox(children=(IntProgress(value=0, max=200), HTML(value='')))"
      ]
     },
     "metadata": {},
     "output_type": "display_data"
    },
    {
     "name": "stderr",
     "output_type": "stream",
     "text": [
      "DEBUG:pykeen.utilities.evaluation_utils.metrics_computations:Evaluation took 3.89s seconds\n",
      "DEBUG:pykeen.utilities.train_utils:\n",
      "current metric: 0.2615514994541704  ---- rank/hits@10: (0.19257841682190743, 0.4075)\n",
      "INFO:pykeen.utilities.train_utils:Epoch 400 / 2000 (2.1s):  0.015 ---- 0.019 ---- 0.26 ----   6\n",
      "INFO:pykeen.utilities.train_utils:Epoch 401 / 2000 (2.1s):  0.015 ---- 0.021 ---- 0.26 ----   7\n",
      "INFO:pykeen.utilities.train_utils:Epoch 402 / 2000 (2.1s):  0.016 ---- 0.020 ---- 0.26 ----   8\n"
     ]
    },
    {
     "data": {
      "application/vnd.jupyter.widget-view+json": {
       "model_id": "766a43ba4333480993fd3d0b3d9019f5",
       "version_major": 2,
       "version_minor": 0
      },
      "text/plain": [
       "HBox(children=(IntProgress(value=0, max=200), HTML(value='')))"
      ]
     },
     "metadata": {},
     "output_type": "display_data"
    },
    {
     "name": "stderr",
     "output_type": "stream",
     "text": [
      "DEBUG:pykeen.utilities.evaluation_utils.metrics_computations:Evaluation took 3.87s seconds\n",
      "DEBUG:pykeen.utilities.train_utils:\n",
      "current metric: 0.2615110237809888  ---- rank/hits@10: (0.19425543350371466, 0.4)\n",
      "INFO:pykeen.utilities.train_utils:Epoch 403 / 2000 (2.1s):  0.016 ---- 0.018 ---- 0.26 ----   9\n",
      "INFO:pykeen.utilities.train_utils:Epoch 404 / 2000 (2.1s):  0.015 ---- 0.018 ---- 0.26 ----  10\n"
     ]
    },
    {
     "data": {
      "application/vnd.jupyter.widget-view+json": {
       "model_id": "6811f1511ca2460c9b7c9aa8ef328800",
       "version_major": 2,
       "version_minor": 0
      },
      "text/plain": [
       "HBox(children=(IntProgress(value=0, max=200), HTML(value='')))"
      ]
     },
     "metadata": {},
     "output_type": "display_data"
    },
    {
     "name": "stderr",
     "output_type": "stream",
     "text": [
      "DEBUG:pykeen.utilities.evaluation_utils.metrics_computations:Evaluation took 3.89s seconds\n",
      "DEBUG:pykeen.utilities.train_utils:\n",
      "current metric: 0.2727525076276596  ---- rank/hits@10: (0.20373186107751848, 0.4125)\n",
      "INFO:pykeen.utilities.train_utils:Epoch 405 / 2000 (2.1s):  0.016 ---- 0.019 ---- 0.27 ----  11\n",
      "INFO:pykeen.utilities.train_utils:Epoch 406 / 2000 (2.1s):  0.015 ---- 0.020 ---- 0.27 ----  12\n",
      "INFO:pykeen.utilities.train_utils:Epoch 407 / 2000 (2.1s):  0.016 ---- 0.020 ---- 0.27 ----  13\n",
      "INFO:pykeen.utilities.train_utils:Epoch 408 / 2000 (2.1s):  0.015 ---- 0.019 ---- 0.27 ----  14\n"
     ]
    },
    {
     "name": "stdout",
     "output_type": "stream",
     "text": [
      "\n",
      "\n",
      "\n"
     ]
    },
    {
     "name": "stderr",
     "output_type": "stream",
     "text": [
      "INFO:pykeen.utilities.train_utils:Epoch 409 / 2000 (2.1s):  0.015 ---- 0.020 ---- 0.27 ----  15\n"
     ]
    },
    {
     "data": {
      "application/vnd.jupyter.widget-view+json": {
       "model_id": "59dd0080448b49f09760e53a87b5115e",
       "version_major": 2,
       "version_minor": 0
      },
      "text/plain": [
       "HBox(children=(IntProgress(value=0, max=200), HTML(value='')))"
      ]
     },
     "metadata": {},
     "output_type": "display_data"
    },
    {
     "name": "stderr",
     "output_type": "stream",
     "text": [
      "DEBUG:pykeen.utilities.evaluation_utils.metrics_computations:Evaluation took 3.87s seconds\n",
      "DEBUG:pykeen.utilities.train_utils:\n",
      "current metric: 0.27664676815393957  ---- rank/hits@10: (0.20565249389959928, 0.4225)\n",
      "DEBUG:pykeen.utilities.train_utils:Saving the following model to disk:\n",
      "INFO:pykeen.utilities.train_utils:Epoch 410 / 2000 (2.1s):  0.015 ---- 0.019 ---- 0.28 ----   1\n",
      "INFO:pykeen.utilities.train_utils:Epoch 411 / 2000 (2.1s):  0.015 ---- 0.019 ---- 0.28 ----   2\n",
      "INFO:pykeen.utilities.train_utils:Epoch 412 / 2000 (2.1s):  0.015 ---- 0.020 ---- 0.28 ----   3\n",
      "INFO:pykeen.utilities.train_utils:Epoch 413 / 2000 (2.1s):  0.015 ---- 0.020 ---- 0.28 ----   4\n",
      "INFO:pykeen.utilities.train_utils:Epoch 414 / 2000 (2.0s):  0.015 ---- 0.019 ---- 0.28 ----   5\n"
     ]
    },
    {
     "data": {
      "application/vnd.jupyter.widget-view+json": {
       "model_id": "3dab208c26fa4e51b182c5a33341c1de",
       "version_major": 2,
       "version_minor": 0
      },
      "text/plain": [
       "HBox(children=(IntProgress(value=0, max=200), HTML(value='')))"
      ]
     },
     "metadata": {},
     "output_type": "display_data"
    },
    {
     "name": "stderr",
     "output_type": "stream",
     "text": [
      "DEBUG:pykeen.utilities.evaluation_utils.metrics_computations:Evaluation took 3.86s seconds\n",
      "DEBUG:pykeen.utilities.train_utils:\n",
      "current metric: 0.2677845285519026  ---- rank/hits@10: (0.2006332253455105, 0.4025)\n",
      "INFO:pykeen.utilities.train_utils:Epoch 415 / 2000 (2.1s):  0.015 ---- 0.019 ---- 0.27 ----   6\n",
      "INFO:pykeen.utilities.train_utils:Epoch 416 / 2000 (2.1s):  0.015 ---- 0.020 ---- 0.27 ----   7\n",
      "INFO:pykeen.utilities.train_utils:Epoch 417 / 2000 (2.1s):  0.015 ---- 0.019 ---- 0.27 ----   8\n",
      "INFO:pykeen.utilities.train_utils:Epoch 418 / 2000 (2.0s):  0.015 ---- 0.019 ---- 0.27 ----   9\n",
      "INFO:pykeen.utilities.train_utils:Epoch 419 / 2000 (2.1s):  0.015 ---- 0.018 ---- 0.27 ----  10\n"
     ]
    },
    {
     "data": {
      "application/vnd.jupyter.widget-view+json": {
       "model_id": "bededa8ef28b4865bdc9f09c463cd28e",
       "version_major": 2,
       "version_minor": 0
      },
      "text/plain": [
       "HBox(children=(IntProgress(value=0, max=200), HTML(value='')))"
      ]
     },
     "metadata": {},
     "output_type": "display_data"
    },
    {
     "name": "stderr",
     "output_type": "stream",
     "text": [
      "DEBUG:pykeen.utilities.evaluation_utils.metrics_computations:Evaluation took 3.88s seconds\n",
      "DEBUG:pykeen.utilities.train_utils:\n",
      "current metric: 0.26571152393143677  ---- rank/hits@10: (0.1954147339669364, 0.415)\n",
      "INFO:pykeen.utilities.train_utils:Epoch 420 / 2000 (2.1s):  0.015 ---- 0.018 ---- 0.27 ----  11\n",
      "INFO:pykeen.utilities.train_utils:Epoch 421 / 2000 (2.1s):  0.015 ---- 0.019 ---- 0.27 ----  12\n"
     ]
    },
    {
     "name": "stdout",
     "output_type": "stream",
     "text": [
      "\n",
      "\n",
      "\n"
     ]
    },
    {
     "name": "stderr",
     "output_type": "stream",
     "text": [
      "INFO:pykeen.utilities.train_utils:Epoch 422 / 2000 (2.1s):  0.015 ---- 0.019 ---- 0.27 ----  13\n",
      "INFO:pykeen.utilities.train_utils:Epoch 423 / 2000 (2.1s):  0.015 ---- 0.020 ---- 0.27 ----  14\n",
      "INFO:pykeen.utilities.train_utils:Epoch 424 / 2000 (2.1s):  0.015 ---- 0.018 ---- 0.27 ----  15\n"
     ]
    },
    {
     "data": {
      "application/vnd.jupyter.widget-view+json": {
       "model_id": "299fd79044db4f9ca673de77697d099d",
       "version_major": 2,
       "version_minor": 0
      },
      "text/plain": [
       "HBox(children=(IntProgress(value=0, max=200), HTML(value='')))"
      ]
     },
     "metadata": {},
     "output_type": "display_data"
    },
    {
     "name": "stderr",
     "output_type": "stream",
     "text": [
      "DEBUG:pykeen.utilities.evaluation_utils.metrics_computations:Evaluation took 3.86s seconds\n",
      "DEBUG:pykeen.utilities.train_utils:\n",
      "current metric: 0.26551495019353116  ---- rank/hits@10: (0.19520216588214892, 0.415)\n",
      "INFO:pykeen.utilities.train_utils:Epoch 425 / 2000 (2.1s):  0.015 ---- 0.017 ---- 0.27 ----  16\n"
     ]
    },
    {
     "data": {
      "application/vnd.jupyter.widget-view+json": {
       "model_id": "1ee761250537430590b0ade82952f929",
       "version_major": 2,
       "version_minor": 0
      },
      "text/plain": [
       "HBox(children=(IntProgress(value=0, max=200), HTML(value='')))"
      ]
     },
     "metadata": {},
     "output_type": "display_data"
    },
    {
     "name": "stderr",
     "output_type": "stream",
     "text": [
      "DEBUG:pykeen.utilities.evaluation_utils.metrics_computations:Evaluation took 3.86s seconds\n",
      "DEBUG:pykeen.utilities.train_utils:\n",
      "current metric: 0.27539836085114544  ---- rank/hits@10: (0.2031270985305621, 0.4275)\n",
      "INFO:pykeen.utilities.train_utils:Epoch 426 / 2000 (2.1s):  0.015 ---- 0.017 ---- 0.28 ----  17\n",
      "INFO:pykeen.utilities.train_utils:Epoch 427 / 2000 (2.1s):  0.015 ---- 0.018 ---- 0.28 ----  18\n"
     ]
    },
    {
     "data": {
      "application/vnd.jupyter.widget-view+json": {
       "model_id": "06b83cab9f7d4f2a93be39d9a63df0d1",
       "version_major": 2,
       "version_minor": 0
      },
      "text/plain": [
       "HBox(children=(IntProgress(value=0, max=200), HTML(value='')))"
      ]
     },
     "metadata": {},
     "output_type": "display_data"
    },
    {
     "name": "stderr",
     "output_type": "stream",
     "text": [
      "DEBUG:pykeen.utilities.evaluation_utils.metrics_computations:Evaluation took 3.87s seconds\n",
      "DEBUG:pykeen.utilities.train_utils:\n",
      "current metric: 0.27158610760960494  ---- rank/hits@10: (0.20183637297331086, 0.415)\n",
      "INFO:pykeen.utilities.train_utils:Epoch 428 / 2000 (2.1s):  0.015 ---- 0.015 ---- 0.27 ----  19\n",
      "INFO:pykeen.utilities.train_utils:Epoch 429 / 2000 (2.1s):  0.015 ---- 0.019 ---- 0.27 ----  20\n"
     ]
    },
    {
     "name": "stdout",
     "output_type": "stream",
     "text": [
      "\n",
      "\n",
      "\n"
     ]
    },
    {
     "data": {
      "application/vnd.jupyter.widget-view+json": {
       "model_id": "31dc5fc7a04741ee923a208638c98971",
       "version_major": 2,
       "version_minor": 0
      },
      "text/plain": [
       "HBox(children=(IntProgress(value=0, max=200), HTML(value='')))"
      ]
     },
     "metadata": {},
     "output_type": "display_data"
    },
    {
     "name": "stderr",
     "output_type": "stream",
     "text": [
      "DEBUG:pykeen.utilities.evaluation_utils.metrics_computations:Evaluation took 3.86s seconds\n",
      "DEBUG:pykeen.utilities.train_utils:\n",
      "current metric: 0.2774784734641122  ---- rank/hits@10: (0.20539848638618088, 0.4275)\n",
      "DEBUG:pykeen.utilities.train_utils:Saving the following model to disk:\n",
      "INFO:pykeen.utilities.train_utils:Epoch 430 / 2000 (2.1s):  0.015 ---- 0.018 ---- 0.28 ----   1\n",
      "INFO:pykeen.utilities.train_utils:Epoch 431 / 2000 (2.1s):  0.015 ---- 0.018 ---- 0.28 ----   2\n",
      "INFO:pykeen.utilities.train_utils:Epoch 432 / 2000 (2.1s):  0.015 ---- 0.016 ---- 0.28 ----   3\n",
      "INFO:pykeen.utilities.train_utils:Epoch 433 / 2000 (2.1s):  0.015 ---- 0.017 ---- 0.28 ----   4\n",
      "INFO:pykeen.utilities.train_utils:Epoch 434 / 2000 (2.1s):  0.015 ---- 0.016 ---- 0.28 ----   5\n"
     ]
    },
    {
     "data": {
      "application/vnd.jupyter.widget-view+json": {
       "model_id": "8b92b755e2a14466b7712f51eb33db97",
       "version_major": 2,
       "version_minor": 0
      },
      "text/plain": [
       "HBox(children=(IntProgress(value=0, max=200), HTML(value='')))"
      ]
     },
     "metadata": {},
     "output_type": "display_data"
    },
    {
     "name": "stderr",
     "output_type": "stream",
     "text": [
      "DEBUG:pykeen.utilities.evaluation_utils.metrics_computations:Evaluation took 3.88s seconds\n",
      "DEBUG:pykeen.utilities.train_utils:\n",
      "current metric: 0.2696992448145114  ---- rank/hits@10: (0.19752202288540757, 0.425)\n",
      "INFO:pykeen.utilities.train_utils:Epoch 435 / 2000 (2.1s):  0.015 ---- 0.018 ---- 0.27 ----   6\n",
      "INFO:pykeen.utilities.train_utils:Epoch 436 / 2000 (2.1s):  0.015 ---- 0.018 ---- 0.27 ----   7\n",
      "INFO:pykeen.utilities.train_utils:Epoch 437 / 2000 (2.1s):  0.015 ---- 0.019 ---- 0.27 ----   8\n",
      "INFO:pykeen.utilities.train_utils:Epoch 438 / 2000 (2.1s):  0.015 ---- 0.018 ---- 0.27 ----   9\n",
      "INFO:pykeen.utilities.train_utils:Epoch 439 / 2000 (2.1s):  0.015 ---- 0.018 ---- 0.27 ----  10\n"
     ]
    },
    {
     "data": {
      "application/vnd.jupyter.widget-view+json": {
       "model_id": "d648038766074b569c493bf1c197df79",
       "version_major": 2,
       "version_minor": 0
      },
      "text/plain": [
       "HBox(children=(IntProgress(value=0, max=200), HTML(value='')))"
      ]
     },
     "metadata": {},
     "output_type": "display_data"
    },
    {
     "name": "stderr",
     "output_type": "stream",
     "text": [
      "DEBUG:pykeen.utilities.evaluation_utils.metrics_computations:Evaluation took 3.85s seconds\n",
      "DEBUG:pykeen.utilities.train_utils:\n",
      "current metric: 0.27294530320070753  ---- rank/hits@10: (0.2004693334835131, 0.4275)\n",
      "INFO:pykeen.utilities.train_utils:Epoch 440 / 2000 (2.1s):  0.015 ---- 0.018 ---- 0.27 ----  11\n",
      "INFO:pykeen.utilities.train_utils:Epoch 441 / 2000 (2.2s):  0.015 ---- 0.019 ---- 0.27 ----  12\n",
      "INFO:pykeen.utilities.train_utils:Epoch 442 / 2000 (2.1s):  0.015 ---- 0.019 ---- 0.27 ----  13\n",
      "INFO:pykeen.utilities.train_utils:Epoch 443 / 2000 (2.1s):  0.015 ---- 0.018 ---- 0.27 ----  14\n",
      "INFO:pykeen.utilities.train_utils:Epoch 444 / 2000 (2.1s):  0.015 ---- 0.019 ---- 0.27 ----  15\n"
     ]
    },
    {
     "name": "stdout",
     "output_type": "stream",
     "text": [
      "\n",
      "\n"
     ]
    },
    {
     "data": {
      "application/vnd.jupyter.widget-view+json": {
       "model_id": "606bafccf42c42ada499fc2dbe1574ca",
       "version_major": 2,
       "version_minor": 0
      },
      "text/plain": [
       "HBox(children=(IntProgress(value=0, max=200), HTML(value='')))"
      ]
     },
     "metadata": {},
     "output_type": "display_data"
    },
    {
     "name": "stderr",
     "output_type": "stream",
     "text": [
      "DEBUG:pykeen.utilities.evaluation_utils.metrics_computations:Evaluation took 3.94s seconds\n",
      "DEBUG:pykeen.utilities.train_utils:\n",
      "current metric: 0.272745534935973  ---- rank/hits@10: (0.2013701867709419, 0.4225)\n",
      "INFO:pykeen.utilities.train_utils:Epoch 445 / 2000 (2.1s):  0.015 ---- 0.019 ---- 0.27 ----  16\n",
      "INFO:pykeen.utilities.train_utils:Epoch 446 / 2000 (2.1s):  0.015 ---- 0.019 ---- 0.27 ----  17\n",
      "INFO:pykeen.utilities.train_utils:Epoch 447 / 2000 (2.1s):  0.015 ---- 0.017 ---- 0.27 ----  18\n",
      "INFO:pykeen.utilities.train_utils:Epoch 448 / 2000 (2.1s):  0.015 ---- 0.017 ---- 0.27 ----  19\n",
      "INFO:pykeen.utilities.train_utils:Epoch 449 / 2000 (2.1s):  0.015 ---- 0.018 ---- 0.27 ----  20\n"
     ]
    },
    {
     "data": {
      "application/vnd.jupyter.widget-view+json": {
       "model_id": "03bcbc6ce6e147ccb6a335a1db39847e",
       "version_major": 2,
       "version_minor": 0
      },
      "text/plain": [
       "HBox(children=(IntProgress(value=0, max=200), HTML(value='')))"
      ]
     },
     "metadata": {},
     "output_type": "display_data"
    },
    {
     "name": "stderr",
     "output_type": "stream",
     "text": [
      "DEBUG:pykeen.utilities.evaluation_utils.metrics_computations:Evaluation took 3.87s seconds\n",
      "DEBUG:pykeen.utilities.train_utils:\n",
      "current metric: 0.27256163896097585  ---- rank/hits@10: (0.2017415392114053, 0.42)\n",
      "INFO:pykeen.utilities.train_utils:Epoch 450 / 2000 (2.1s):  0.015 ---- 0.018 ---- 0.27 ----  21\n",
      "INFO:pykeen.utilities.train_utils:Epoch 451 / 2000 (2.1s):  0.015 ---- 0.017 ---- 0.27 ----  22\n",
      "INFO:pykeen.utilities.train_utils:Epoch 452 / 2000 (2.0s):  0.015 ---- 0.017 ---- 0.27 ----  23\n",
      "INFO:pykeen.utilities.train_utils:Epoch 453 / 2000 (2.1s):  0.015 ---- 0.017 ---- 0.27 ----  24\n",
      "INFO:pykeen.utilities.train_utils:Epoch 454 / 2000 (2.1s):  0.015 ---- 0.018 ---- 0.27 ----  25\n"
     ]
    },
    {
     "data": {
      "application/vnd.jupyter.widget-view+json": {
       "model_id": "ab550d8ddc42484ca550311b8941e3cf",
       "version_major": 2,
       "version_minor": 0
      },
      "text/plain": [
       "HBox(children=(IntProgress(value=0, max=200), HTML(value='')))"
      ]
     },
     "metadata": {},
     "output_type": "display_data"
    },
    {
     "name": "stderr",
     "output_type": "stream",
     "text": [
      "DEBUG:pykeen.utilities.evaluation_utils.metrics_computations:Evaluation took 3.88s seconds\n",
      "DEBUG:pykeen.utilities.train_utils:\n",
      "current metric: 0.27082830866799723  ---- rank/hits@10: (0.19928701142819832, 0.4225)\n",
      "INFO:pykeen.utilities.train_utils:Epoch 455 / 2000 (2.1s):  0.015 ---- 0.018 ---- 0.27 ----  26\n",
      "INFO:pykeen.utilities.train_utils:Epoch 456 / 2000 (2.1s):  0.015 ---- 0.019 ---- 0.27 ----  27\n",
      "INFO:pykeen.utilities.train_utils:Epoch 457 / 2000 (2.1s):  0.015 ---- 0.018 ---- 0.27 ----  28\n",
      "INFO:pykeen.utilities.train_utils:Epoch 458 / 2000 (2.1s):  0.015 ---- 0.019 ---- 0.27 ----  29\n",
      "INFO:pykeen.utilities.train_utils:Epoch 459 / 2000 (2.1s):  0.015 ---- 0.017 ---- 0.27 ----  30\n"
     ]
    },
    {
     "name": "stdout",
     "output_type": "stream",
     "text": [
      "\n",
      "\n"
     ]
    },
    {
     "data": {
      "application/vnd.jupyter.widget-view+json": {
       "model_id": "24249165b1204a90978526f5fe3ee7a9",
       "version_major": 2,
       "version_minor": 0
      },
      "text/plain": [
       "HBox(children=(IntProgress(value=0, max=200), HTML(value='')))"
      ]
     },
     "metadata": {},
     "output_type": "display_data"
    },
    {
     "name": "stderr",
     "output_type": "stream",
     "text": [
      "DEBUG:pykeen.utilities.evaluation_utils.metrics_computations:Evaluation took 3.87s seconds\n",
      "DEBUG:pykeen.utilities.train_utils:\n",
      "current metric: 0.2720260449916387  ---- rank/hits@10: (0.19893942299662104, 0.43)\n",
      "INFO:pykeen.utilities.train_utils:Epoch 460 / 2000 (2.1s):  0.015 ---- 0.018 ---- 0.27 ----  31\n",
      "INFO:pykeen.utilities.train_utils:Epoch 461 / 2000 (2.1s):  0.015 ---- 0.018 ---- 0.27 ----  32\n",
      "INFO:pykeen.utilities.train_utils:Epoch 462 / 2000 (2.1s):  0.015 ---- 0.017 ---- 0.27 ----  33\n",
      "INFO:pykeen.utilities.train_utils:Epoch 463 / 2000 (2.1s):  0.015 ---- 0.018 ---- 0.27 ----  34\n",
      "INFO:pykeen.utilities.train_utils:Epoch 464 / 2000 (2.0s):  0.015 ---- 0.018 ---- 0.27 ----  35\n"
     ]
    },
    {
     "data": {
      "application/vnd.jupyter.widget-view+json": {
       "model_id": "4cafdc85331e49699dbb34a1e9992ced",
       "version_major": 2,
       "version_minor": 0
      },
      "text/plain": [
       "HBox(children=(IntProgress(value=0, max=200), HTML(value='')))"
      ]
     },
     "metadata": {},
     "output_type": "display_data"
    },
    {
     "name": "stderr",
     "output_type": "stream",
     "text": [
      "DEBUG:pykeen.utilities.evaluation_utils.metrics_computations:Evaluation took 3.85s seconds\n",
      "DEBUG:pykeen.utilities.train_utils:\n",
      "current metric: 0.27550828848973163  ---- rank/hits@10: (0.2038167309678289, 0.425)\n",
      "INFO:pykeen.utilities.train_utils:Epoch 465 / 2000 (2.1s):  0.015 ---- 0.019 ---- 0.28 ----  36\n",
      "INFO:pykeen.utilities.train_utils:Epoch 466 / 2000 (2.1s):  0.015 ---- 0.018 ---- 0.28 ----  37\n",
      "INFO:pykeen.utilities.train_utils:Epoch 467 / 2000 (2.1s):  0.015 ---- 0.019 ---- 0.28 ----  38\n",
      "INFO:pykeen.utilities.train_utils:Epoch 468 / 2000 (2.1s):  0.015 ---- 0.018 ---- 0.28 ----  39\n",
      "INFO:pykeen.utilities.train_utils:Epoch 469 / 2000 (2.1s):  0.015 ---- 0.018 ---- 0.28 ----  40\n"
     ]
    },
    {
     "data": {
      "application/vnd.jupyter.widget-view+json": {
       "model_id": "066364e436924a92bd9499ce9bcf3599",
       "version_major": 2,
       "version_minor": 0
      },
      "text/plain": [
       "HBox(children=(IntProgress(value=0, max=200), HTML(value='')))"
      ]
     },
     "metadata": {},
     "output_type": "display_data"
    },
    {
     "name": "stderr",
     "output_type": "stream",
     "text": [
      "DEBUG:pykeen.utilities.evaluation_utils.metrics_computations:Evaluation took 3.86s seconds\n",
      "DEBUG:pykeen.utilities.train_utils:\n",
      "current metric: 0.273391428090831  ---- rank/hits@10: (0.2020751333077118, 0.4225)\n",
      "INFO:pykeen.utilities.train_utils:Epoch 470 / 2000 (2.1s):  0.015 ---- 0.018 ---- 0.27 ----  41\n",
      "INFO:pykeen.utilities.train_utils:Epoch 471 / 2000 (2.1s):  0.015 ---- 0.019 ---- 0.27 ----  42\n",
      "INFO:pykeen.utilities.train_utils:Epoch 472 / 2000 (2.1s):  0.014 ---- 0.020 ---- 0.27 ----  43\n",
      "INFO:pykeen.utilities.train_utils:Epoch 473 / 2000 (2.1s):  0.015 ---- 0.018 ---- 0.27 ----  44\n",
      "INFO:pykeen.utilities.train_utils:Epoch 474 / 2000 (2.1s):  0.014 ---- 0.018 ---- 0.27 ----  45\n"
     ]
    },
    {
     "data": {
      "application/vnd.jupyter.widget-view+json": {
       "model_id": "b03dfa8a465c4b599b91e0a5e6a751a4",
       "version_major": 2,
       "version_minor": 0
      },
      "text/plain": [
       "HBox(children=(IntProgress(value=0, max=200), HTML(value='')))"
      ]
     },
     "metadata": {},
     "output_type": "display_data"
    },
    {
     "name": "stdout",
     "output_type": "stream",
     "text": [
      "\n",
      "\n"
     ]
    },
    {
     "name": "stderr",
     "output_type": "stream",
     "text": [
      "DEBUG:pykeen.utilities.evaluation_utils.metrics_computations:Evaluation took 3.88s seconds\n",
      "DEBUG:pykeen.utilities.train_utils:\n",
      "current metric: 0.2815574627862031  ---- rank/hits@10: (0.2099003954710562, 0.4275)\n",
      "DEBUG:pykeen.utilities.train_utils:Saving the following model to disk:\n",
      "INFO:pykeen.utilities.train_utils:Epoch 475 / 2000 (2.1s):  0.015 ---- 0.020 ---- 0.28 ----   1\n",
      "INFO:pykeen.utilities.train_utils:Epoch 476 / 2000 (2.1s):  0.015 ---- 0.020 ---- 0.28 ----   2\n",
      "INFO:pykeen.utilities.train_utils:Epoch 477 / 2000 (2.1s):  0.015 ---- 0.019 ---- 0.28 ----   3\n",
      "INFO:pykeen.utilities.train_utils:Epoch 478 / 2000 (2.1s):  0.014 ---- 0.020 ---- 0.28 ----   4\n",
      "INFO:pykeen.utilities.train_utils:Epoch 479 / 2000 (2.1s):  0.014 ---- 0.018 ---- 0.28 ----   5\n"
     ]
    },
    {
     "data": {
      "application/vnd.jupyter.widget-view+json": {
       "model_id": "738ea7dca1824338bed059fb1f7b5b19",
       "version_major": 2,
       "version_minor": 0
      },
      "text/plain": [
       "HBox(children=(IntProgress(value=0, max=200), HTML(value='')))"
      ]
     },
     "metadata": {},
     "output_type": "display_data"
    },
    {
     "name": "stderr",
     "output_type": "stream",
     "text": [
      "DEBUG:pykeen.utilities.evaluation_utils.metrics_computations:Evaluation took 3.91s seconds\n",
      "DEBUG:pykeen.utilities.train_utils:\n",
      "current metric: 0.2732231647846361  ---- rank/hits@10: (0.20305335525957596, 0.4175)\n",
      "INFO:pykeen.utilities.train_utils:Epoch 480 / 2000 (2.1s):  0.014 ---- 0.019 ---- 0.27 ----   6\n",
      "INFO:pykeen.utilities.train_utils:Epoch 481 / 2000 (2.1s):  0.014 ---- 0.020 ---- 0.27 ----   7\n",
      "INFO:pykeen.utilities.train_utils:Epoch 482 / 2000 (2.1s):  0.014 ---- 0.020 ---- 0.27 ----   8\n",
      "INFO:pykeen.utilities.train_utils:Epoch 483 / 2000 (2.1s):  0.014 ---- 0.019 ---- 0.27 ----   9\n",
      "INFO:pykeen.utilities.train_utils:Epoch 484 / 2000 (2.1s):  0.014 ---- 0.018 ---- 0.27 ----  10\n"
     ]
    },
    {
     "data": {
      "application/vnd.jupyter.widget-view+json": {
       "model_id": "dcd16947744940d7ae1cd6e4ce6af553",
       "version_major": 2,
       "version_minor": 0
      },
      "text/plain": [
       "HBox(children=(IntProgress(value=0, max=200), HTML(value='')))"
      ]
     },
     "metadata": {},
     "output_type": "display_data"
    },
    {
     "name": "stderr",
     "output_type": "stream",
     "text": [
      "DEBUG:pykeen.utilities.evaluation_utils.metrics_computations:Evaluation took 3.89s seconds\n",
      "DEBUG:pykeen.utilities.train_utils:\n",
      "current metric: 0.28081848207042737  ---- rank/hits@10: (0.20968329279922102, 0.425)\n",
      "INFO:pykeen.utilities.train_utils:Epoch 485 / 2000 (2.1s):  0.014 ---- 0.018 ---- 0.28 ----  11\n",
      "INFO:pykeen.utilities.train_utils:Epoch 486 / 2000 (2.0s):  0.014 ---- 0.019 ---- 0.28 ----  12\n",
      "INFO:pykeen.utilities.train_utils:Epoch 487 / 2000 (2.1s):  0.015 ---- 0.019 ---- 0.28 ----  13\n",
      "INFO:pykeen.utilities.train_utils:Epoch 488 / 2000 (2.1s):  0.015 ---- 0.019 ---- 0.28 ----  14\n",
      "INFO:pykeen.utilities.train_utils:Epoch 489 / 2000 (2.1s):  0.014 ---- 0.019 ---- 0.28 ----  15\n"
     ]
    },
    {
     "name": "stdout",
     "output_type": "stream",
     "text": [
      "\n",
      "\n"
     ]
    },
    {
     "data": {
      "application/vnd.jupyter.widget-view+json": {
       "model_id": "24e303c81ab24212938d11fbd61f3529",
       "version_major": 2,
       "version_minor": 0
      },
      "text/plain": [
       "HBox(children=(IntProgress(value=0, max=200), HTML(value='')))"
      ]
     },
     "metadata": {},
     "output_type": "display_data"
    },
    {
     "name": "stderr",
     "output_type": "stream",
     "text": [
      "DEBUG:pykeen.utilities.evaluation_utils.metrics_computations:Evaluation took 3.90s seconds\n",
      "DEBUG:pykeen.utilities.train_utils:\n",
      "current metric: 0.2811242668049801  ---- rank/hits@10: (0.21321738216893876, 0.4125)\n",
      "INFO:pykeen.utilities.train_utils:Epoch 490 / 2000 (2.0s):  0.014 ---- 0.020 ---- 0.28 ----  16\n",
      "INFO:pykeen.utilities.train_utils:Epoch 491 / 2000 (2.1s):  0.014 ---- 0.019 ---- 0.28 ----  17\n",
      "INFO:pykeen.utilities.train_utils:Epoch 492 / 2000 (2.1s):  0.014 ---- 0.019 ---- 0.28 ----  18\n",
      "INFO:pykeen.utilities.train_utils:Epoch 493 / 2000 (2.1s):  0.015 ---- 0.019 ---- 0.28 ----  19\n",
      "INFO:pykeen.utilities.train_utils:Epoch 494 / 2000 (2.1s):  0.014 ---- 0.018 ---- 0.28 ----  20\n"
     ]
    },
    {
     "data": {
      "application/vnd.jupyter.widget-view+json": {
       "model_id": "ed15cf544d3248609c910384ab439155",
       "version_major": 2,
       "version_minor": 0
      },
      "text/plain": [
       "HBox(children=(IntProgress(value=0, max=200), HTML(value='')))"
      ]
     },
     "metadata": {},
     "output_type": "display_data"
    },
    {
     "name": "stderr",
     "output_type": "stream",
     "text": [
      "DEBUG:pykeen.utilities.evaluation_utils.metrics_computations:Evaluation took 3.88s seconds\n",
      "DEBUG:pykeen.utilities.train_utils:\n",
      "current metric: 0.28243631809034375  ---- rank/hits@10: (0.21149245276674186, 0.425)\n",
      "DEBUG:pykeen.utilities.train_utils:Saving the following model to disk:\n",
      "INFO:pykeen.utilities.train_utils:Epoch 495 / 2000 (2.1s):  0.014 ---- 0.019 ---- 0.28 ----   1\n",
      "INFO:pykeen.utilities.train_utils:Epoch 496 / 2000 (2.1s):  0.014 ---- 0.018 ---- 0.28 ----   2\n",
      "INFO:pykeen.utilities.train_utils:Epoch 497 / 2000 (2.1s):  0.014 ---- 0.018 ---- 0.28 ----   3\n",
      "INFO:pykeen.utilities.train_utils:Epoch 498 / 2000 (2.1s):  0.014 ---- 0.018 ---- 0.28 ----   4\n",
      "INFO:pykeen.utilities.train_utils:Epoch 499 / 2000 (2.1s):  0.014 ---- 0.018 ---- 0.28 ----   5\n"
     ]
    },
    {
     "data": {
      "application/vnd.jupyter.widget-view+json": {
       "model_id": "a51c2303fde54c4eaecf27735c9b8f33",
       "version_major": 2,
       "version_minor": 0
      },
      "text/plain": [
       "HBox(children=(IntProgress(value=0, max=200), HTML(value='')))"
      ]
     },
     "metadata": {},
     "output_type": "display_data"
    },
    {
     "name": "stderr",
     "output_type": "stream",
     "text": [
      "DEBUG:pykeen.utilities.evaluation_utils.metrics_computations:Evaluation took 3.89s seconds\n",
      "DEBUG:pykeen.utilities.train_utils:\n",
      "current metric: 0.2851473420182047  ---- rank/hits@10: (0.21391580262959273, 0.4275)\n",
      "DEBUG:pykeen.utilities.train_utils:Saving the following model to disk:\n",
      "INFO:pykeen.utilities.train_utils:Epoch 500 / 2000 (2.1s):  0.014 ---- 0.019 ---- 0.29 ----   1\n",
      "INFO:pykeen.utilities.train_utils:Epoch 501 / 2000 (2.1s):  0.014 ---- 0.018 ---- 0.29 ----   2\n",
      "INFO:pykeen.utilities.train_utils:Epoch 502 / 2000 (2.1s):  0.014 ---- 0.018 ---- 0.29 ----   3\n",
      "INFO:pykeen.utilities.train_utils:Epoch 503 / 2000 (2.1s):  0.014 ---- 0.016 ---- 0.29 ----   4\n",
      "INFO:pykeen.utilities.train_utils:Epoch 504 / 2000 (2.1s):  0.014 ---- 0.017 ---- 0.29 ----   5\n"
     ]
    },
    {
     "name": "stdout",
     "output_type": "stream",
     "text": [
      "\n",
      "\n",
      "\n",
      "\n",
      "\n",
      "\n",
      "\n",
      "\n",
      "\n",
      "\n"
     ]
    },
    {
     "data": {
      "application/vnd.jupyter.widget-view+json": {
       "model_id": "d0408da87e42472ba5ade592590c438e",
       "version_major": 2,
       "version_minor": 0
      },
      "text/plain": [
       "HBox(children=(IntProgress(value=0, max=200), HTML(value='')))"
      ]
     },
     "metadata": {},
     "output_type": "display_data"
    },
    {
     "name": "stderr",
     "output_type": "stream",
     "text": [
      "DEBUG:pykeen.utilities.evaluation_utils.metrics_computations:Evaluation took 3.90s seconds\n",
      "DEBUG:pykeen.utilities.train_utils:\n",
      "current metric: 0.2829303613690884  ---- rank/hits@10: (0.211430080041919, 0.4275)\n",
      "INFO:pykeen.utilities.train_utils:Epoch 505 / 2000 (2.1s):  0.014 ---- 0.016 ---- 0.28 ----   6\n",
      "INFO:pykeen.utilities.train_utils:Epoch 506 / 2000 (2.1s):  0.014 ---- 0.017 ---- 0.28 ----   7\n",
      "INFO:pykeen.utilities.train_utils:Epoch 507 / 2000 (2.1s):  0.014 ---- 0.019 ---- 0.28 ----   8\n",
      "INFO:pykeen.utilities.train_utils:Epoch 508 / 2000 (2.0s):  0.014 ---- 0.018 ---- 0.28 ----   9\n",
      "INFO:pykeen.utilities.train_utils:Epoch 509 / 2000 (2.1s):  0.014 ---- 0.018 ---- 0.28 ----  10\n"
     ]
    },
    {
     "data": {
      "application/vnd.jupyter.widget-view+json": {
       "model_id": "e3952c7ec3ee4467b61d09d35b20678d",
       "version_major": 2,
       "version_minor": 0
      },
      "text/plain": [
       "HBox(children=(IntProgress(value=0, max=200), HTML(value='')))"
      ]
     },
     "metadata": {},
     "output_type": "display_data"
    },
    {
     "name": "stderr",
     "output_type": "stream",
     "text": [
      "DEBUG:pykeen.utilities.evaluation_utils.metrics_computations:Evaluation took 3.89s seconds\n",
      "DEBUG:pykeen.utilities.train_utils:\n",
      "current metric: 0.28373948445542607  ---- rank/hits@10: (0.2111227646557066, 0.4325)\n",
      "INFO:pykeen.utilities.train_utils:Epoch 510 / 2000 (2.1s):  0.014 ---- 0.017 ---- 0.28 ----  11\n",
      "INFO:pykeen.utilities.train_utils:Epoch 511 / 2000 (2.1s):  0.014 ---- 0.020 ---- 0.28 ----  12\n",
      "INFO:pykeen.utilities.train_utils:Epoch 512 / 2000 (2.1s):  0.014 ---- 0.018 ---- 0.28 ----  13\n",
      "INFO:pykeen.utilities.train_utils:Epoch 513 / 2000 (2.1s):  0.014 ---- 0.018 ---- 0.28 ----  14\n",
      "INFO:pykeen.utilities.train_utils:Epoch 514 / 2000 (2.1s):  0.014 ---- 0.017 ---- 0.28 ----  15\n"
     ]
    },
    {
     "data": {
      "application/vnd.jupyter.widget-view+json": {
       "model_id": "8d6ff928e2d24c4ba230dfc19e616de4",
       "version_major": 2,
       "version_minor": 0
      },
      "text/plain": [
       "HBox(children=(IntProgress(value=0, max=200), HTML(value='')))"
      ]
     },
     "metadata": {},
     "output_type": "display_data"
    },
    {
     "name": "stderr",
     "output_type": "stream",
     "text": [
      "DEBUG:pykeen.utilities.evaluation_utils.metrics_computations:Evaluation took 3.90s seconds\n",
      "DEBUG:pykeen.utilities.train_utils:\n",
      "current metric: 0.28253128847079645  ---- rank/hits@10: (0.21222419475454465, 0.4225)\n",
      "INFO:pykeen.utilities.train_utils:Epoch 515 / 2000 (2.1s):  0.014 ---- 0.019 ---- 0.28 ----  16\n",
      "INFO:pykeen.utilities.train_utils:Epoch 516 / 2000 (2.1s):  0.014 ---- 0.018 ---- 0.28 ----  17\n",
      "INFO:pykeen.utilities.train_utils:Epoch 517 / 2000 (2.1s):  0.014 ---- 0.017 ---- 0.28 ----  18\n",
      "INFO:pykeen.utilities.train_utils:Epoch 518 / 2000 (2.1s):  0.014 ---- 0.019 ---- 0.28 ----  19\n",
      "INFO:pykeen.utilities.train_utils:Epoch 519 / 2000 (2.1s):  0.014 ---- 0.018 ---- 0.28 ----  20\n"
     ]
    },
    {
     "data": {
      "application/vnd.jupyter.widget-view+json": {
       "model_id": "84f10304d9014e908c2949980393c22b",
       "version_major": 2,
       "version_minor": 0
      },
      "text/plain": [
       "HBox(children=(IntProgress(value=0, max=200), HTML(value='')))"
      ]
     },
     "metadata": {},
     "output_type": "display_data"
    },
    {
     "name": "stdout",
     "output_type": "stream",
     "text": [
      "\n",
      "\n"
     ]
    },
    {
     "name": "stderr",
     "output_type": "stream",
     "text": [
      "DEBUG:pykeen.utilities.evaluation_utils.metrics_computations:Evaluation took 3.87s seconds\n",
      "DEBUG:pykeen.utilities.train_utils:\n",
      "current metric: 0.2814154685398801  ---- rank/hits@10: (0.21422884498474368, 0.41)\n",
      "INFO:pykeen.utilities.train_utils:Epoch 520 / 2000 (2.1s):  0.014 ---- 0.019 ---- 0.28 ----  21\n",
      "INFO:pykeen.utilities.train_utils:Epoch 521 / 2000 (2.1s):  0.014 ---- 0.017 ---- 0.28 ----  22\n",
      "INFO:pykeen.utilities.train_utils:Epoch 522 / 2000 (2.1s):  0.014 ---- 0.019 ---- 0.28 ----  23\n",
      "INFO:pykeen.utilities.train_utils:Epoch 523 / 2000 (2.1s):  0.014 ---- 0.020 ---- 0.28 ----  24\n",
      "INFO:pykeen.utilities.train_utils:Epoch 524 / 2000 (2.0s):  0.014 ---- 0.019 ---- 0.28 ----  25\n"
     ]
    },
    {
     "data": {
      "application/vnd.jupyter.widget-view+json": {
       "model_id": "007376651fe64e36b187b304ef62bb06",
       "version_major": 2,
       "version_minor": 0
      },
      "text/plain": [
       "HBox(children=(IntProgress(value=0, max=200), HTML(value='')))"
      ]
     },
     "metadata": {},
     "output_type": "display_data"
    },
    {
     "name": "stderr",
     "output_type": "stream",
     "text": [
      "DEBUG:pykeen.utilities.evaluation_utils.metrics_computations:Evaluation took 3.88s seconds\n",
      "DEBUG:pykeen.utilities.train_utils:\n",
      "current metric: 0.28274934649516625  ---- rank/hits@10: (0.21247036023797297, 0.4225)\n",
      "INFO:pykeen.utilities.train_utils:Epoch 525 / 2000 (2.1s):  0.014 ---- 0.018 ---- 0.28 ----  26\n",
      "INFO:pykeen.utilities.train_utils:Epoch 526 / 2000 (2.1s):  0.014 ---- 0.019 ---- 0.28 ----  27\n",
      "INFO:pykeen.utilities.train_utils:Epoch 527 / 2000 (2.1s):  0.014 ---- 0.018 ---- 0.28 ----  28\n",
      "INFO:pykeen.utilities.train_utils:Epoch 528 / 2000 (2.1s):  0.014 ---- 0.019 ---- 0.28 ----  29\n",
      "INFO:pykeen.utilities.train_utils:Epoch 529 / 2000 (2.1s):  0.014 ---- 0.019 ---- 0.28 ----  30\n"
     ]
    },
    {
     "name": "stdout",
     "output_type": "stream",
     "text": [
      "Epoch   529: reducing learning rate of group 0 to 1.0000e-04.\n"
     ]
    },
    {
     "data": {
      "application/vnd.jupyter.widget-view+json": {
       "model_id": "2f9ef5209279427d97af67b02f141f8b",
       "version_major": 2,
       "version_minor": 0
      },
      "text/plain": [
       "HBox(children=(IntProgress(value=0, max=200), HTML(value='')))"
      ]
     },
     "metadata": {},
     "output_type": "display_data"
    },
    {
     "name": "stderr",
     "output_type": "stream",
     "text": [
      "DEBUG:pykeen.utilities.evaluation_utils.metrics_computations:Evaluation took 3.89s seconds\n",
      "DEBUG:pykeen.utilities.train_utils:\n",
      "current metric: 0.2853260838317541  ---- rank/hits@10: (0.21349536249307438, 0.43)\n",
      "DEBUG:pykeen.utilities.train_utils:Saving the following model to disk:\n",
      "INFO:pykeen.utilities.train_utils:Epoch 530 / 2000 (2.1s):  0.014 ---- 0.019 ---- 0.29 ----   1\n",
      "INFO:pykeen.utilities.train_utils:Epoch 531 / 2000 (2.1s):  0.014 ---- 0.019 ---- 0.29 ----   2\n",
      "INFO:pykeen.utilities.train_utils:Epoch 532 / 2000 (2.1s):  0.014 ---- 0.019 ---- 0.29 ----   3\n",
      "INFO:pykeen.utilities.train_utils:Epoch 533 / 2000 (2.1s):  0.014 ---- 0.018 ---- 0.29 ----   4\n",
      "INFO:pykeen.utilities.train_utils:Epoch 534 / 2000 (2.1s):  0.014 ---- 0.020 ---- 0.29 ----   5\n"
     ]
    },
    {
     "name": "stdout",
     "output_type": "stream",
     "text": [
      "\n",
      "\n"
     ]
    },
    {
     "data": {
      "application/vnd.jupyter.widget-view+json": {
       "model_id": "f29a1c107a7b44b5bb982e980ff1ad6d",
       "version_major": 2,
       "version_minor": 0
      },
      "text/plain": [
       "HBox(children=(IntProgress(value=0, max=200), HTML(value='')))"
      ]
     },
     "metadata": {},
     "output_type": "display_data"
    },
    {
     "name": "stderr",
     "output_type": "stream",
     "text": [
      "DEBUG:pykeen.utilities.evaluation_utils.metrics_computations:Evaluation took 3.88s seconds\n",
      "DEBUG:pykeen.utilities.train_utils:\n",
      "current metric: 0.2817804396289127  ---- rank/hits@10: (0.20896082439683955, 0.4325)\n",
      "INFO:pykeen.utilities.train_utils:Epoch 535 / 2000 (2.1s):  0.014 ---- 0.018 ---- 0.28 ----   6\n",
      "INFO:pykeen.utilities.train_utils:Epoch 536 / 2000 (2.1s):  0.014 ---- 0.019 ---- 0.28 ----   7\n",
      "INFO:pykeen.utilities.train_utils:Epoch 537 / 2000 (2.1s):  0.014 ---- 0.020 ---- 0.28 ----   8\n",
      "INFO:pykeen.utilities.train_utils:Epoch 538 / 2000 (2.1s):  0.014 ---- 0.018 ---- 0.28 ----   9\n",
      "INFO:pykeen.utilities.train_utils:Epoch 539 / 2000 (2.1s):  0.014 ---- 0.018 ---- 0.28 ----  10\n"
     ]
    },
    {
     "data": {
      "application/vnd.jupyter.widget-view+json": {
       "model_id": "6079a0b9ff0c4a729f4489fc102a5b70",
       "version_major": 2,
       "version_minor": 0
      },
      "text/plain": [
       "HBox(children=(IntProgress(value=0, max=200), HTML(value='')))"
      ]
     },
     "metadata": {},
     "output_type": "display_data"
    },
    {
     "name": "stderr",
     "output_type": "stream",
     "text": [
      "DEBUG:pykeen.utilities.evaluation_utils.metrics_computations:Evaluation took 3.88s seconds\n",
      "DEBUG:pykeen.utilities.train_utils:\n",
      "current metric: 0.2857408952804557  ---- rank/hits@10: (0.21334655977247233, 0.4325)\n",
      "DEBUG:pykeen.utilities.train_utils:Saving the following model to disk:\n",
      "INFO:pykeen.utilities.train_utils:Epoch 540 / 2000 (2.0s):  0.014 ---- 0.019 ---- 0.29 ----   1\n",
      "INFO:pykeen.utilities.train_utils:Epoch 541 / 2000 (2.1s):  0.014 ---- 0.018 ---- 0.29 ----   2\n",
      "INFO:pykeen.utilities.train_utils:Epoch 542 / 2000 (2.1s):  0.014 ---- 0.019 ---- 0.29 ----   3\n",
      "INFO:pykeen.utilities.train_utils:Epoch 543 / 2000 (2.1s):  0.014 ---- 0.018 ---- 0.29 ----   4\n",
      "INFO:pykeen.utilities.train_utils:Epoch 544 / 2000 (2.0s):  0.014 ---- 0.018 ---- 0.29 ----   5\n"
     ]
    },
    {
     "data": {
      "application/vnd.jupyter.widget-view+json": {
       "model_id": "6856f4125fd44e33ba0fa069e6c33cfe",
       "version_major": 2,
       "version_minor": 0
      },
      "text/plain": [
       "HBox(children=(IntProgress(value=0, max=200), HTML(value='')))"
      ]
     },
     "metadata": {},
     "output_type": "display_data"
    },
    {
     "name": "stderr",
     "output_type": "stream",
     "text": [
      "DEBUG:pykeen.utilities.evaluation_utils.metrics_computations:Evaluation took 3.86s seconds\n",
      "DEBUG:pykeen.utilities.train_utils:\n",
      "current metric: 0.2878417334897081  ---- rank/hits@10: (0.21632466512366313, 0.43)\n",
      "DEBUG:pykeen.utilities.train_utils:Saving the following model to disk:\n",
      "INFO:pykeen.utilities.train_utils:Epoch 545 / 2000 (2.1s):  0.014 ---- 0.018 ---- 0.29 ----   1\n",
      "INFO:pykeen.utilities.train_utils:Epoch 546 / 2000 (2.1s):  0.014 ---- 0.018 ---- 0.29 ----   2\n",
      "INFO:pykeen.utilities.train_utils:Epoch 547 / 2000 (2.1s):  0.014 ---- 0.017 ---- 0.29 ----   3\n",
      "INFO:pykeen.utilities.train_utils:Epoch 548 / 2000 (2.1s):  0.014 ---- 0.017 ---- 0.29 ----   4\n",
      "INFO:pykeen.utilities.train_utils:Epoch 549 / 2000 (2.1s):  0.014 ---- 0.017 ---- 0.29 ----   5\n"
     ]
    },
    {
     "name": "stdout",
     "output_type": "stream",
     "text": [
      "\n",
      "\n"
     ]
    },
    {
     "data": {
      "application/vnd.jupyter.widget-view+json": {
       "model_id": "f899b3bc80fd43f0a275ebcfc5433319",
       "version_major": 2,
       "version_minor": 0
      },
      "text/plain": [
       "HBox(children=(IntProgress(value=0, max=200), HTML(value='')))"
      ]
     },
     "metadata": {},
     "output_type": "display_data"
    },
    {
     "name": "stderr",
     "output_type": "stream",
     "text": [
      "DEBUG:pykeen.utilities.evaluation_utils.metrics_computations:Evaluation took 3.94s seconds\n",
      "DEBUG:pykeen.utilities.train_utils:\n",
      "current metric: 0.2811473088263001  ---- rank/hits@10: (0.20769044817588303, 0.435)\n",
      "INFO:pykeen.utilities.train_utils:Epoch 550 / 2000 (2.1s):  0.014 ---- 0.017 ---- 0.28 ----   6\n",
      "INFO:pykeen.utilities.train_utils:Epoch 551 / 2000 (2.1s):  0.014 ---- 0.017 ---- 0.28 ----   7\n",
      "INFO:pykeen.utilities.train_utils:Epoch 552 / 2000 (2.1s):  0.014 ---- 0.018 ---- 0.28 ----   8\n",
      "INFO:pykeen.utilities.train_utils:Epoch 553 / 2000 (2.1s):  0.014 ---- 0.017 ---- 0.28 ----   9\n",
      "INFO:pykeen.utilities.train_utils:Epoch 554 / 2000 (2.1s):  0.014 ---- 0.018 ---- 0.28 ----  10\n"
     ]
    },
    {
     "data": {
      "application/vnd.jupyter.widget-view+json": {
       "model_id": "cb12b3979c4640b19f859276994bbc6f",
       "version_major": 2,
       "version_minor": 0
      },
      "text/plain": [
       "HBox(children=(IntProgress(value=0, max=200), HTML(value='')))"
      ]
     },
     "metadata": {},
     "output_type": "display_data"
    },
    {
     "name": "stderr",
     "output_type": "stream",
     "text": [
      "DEBUG:pykeen.utilities.evaluation_utils.metrics_computations:Evaluation took 3.87s seconds\n",
      "DEBUG:pykeen.utilities.train_utils:\n",
      "current metric: 0.2865740631757076  ---- rank/hits@10: (0.21427684070319208, 0.4325)\n",
      "INFO:pykeen.utilities.train_utils:Epoch 555 / 2000 (2.1s):  0.014 ---- 0.018 ---- 0.29 ----  11\n",
      "INFO:pykeen.utilities.train_utils:Epoch 556 / 2000 (2.1s):  0.014 ---- 0.019 ---- 0.29 ----  12\n",
      "INFO:pykeen.utilities.train_utils:Epoch 557 / 2000 (2.1s):  0.014 ---- 0.018 ---- 0.29 ----  13\n",
      "INFO:pykeen.utilities.train_utils:Epoch 558 / 2000 (2.1s):  0.014 ---- 0.018 ---- 0.29 ----  14\n",
      "INFO:pykeen.utilities.train_utils:Epoch 559 / 2000 (2.1s):  0.014 ---- 0.017 ---- 0.29 ----  15\n"
     ]
    },
    {
     "data": {
      "application/vnd.jupyter.widget-view+json": {
       "model_id": "1bd2147705f6465d96bad2707b386c41",
       "version_major": 2,
       "version_minor": 0
      },
      "text/plain": [
       "HBox(children=(IntProgress(value=0, max=200), HTML(value='')))"
      ]
     },
     "metadata": {},
     "output_type": "display_data"
    },
    {
     "name": "stderr",
     "output_type": "stream",
     "text": [
      "DEBUG:pykeen.utilities.evaluation_utils.metrics_computations:Evaluation took 3.92s seconds\n",
      "DEBUG:pykeen.utilities.train_utils:\n",
      "current metric: 0.2884935300862714  ---- rank/hits@10: (0.2158096118967451, 0.435)\n",
      "DEBUG:pykeen.utilities.train_utils:Saving the following model to disk:\n",
      "INFO:pykeen.utilities.train_utils:Epoch 560 / 2000 (2.1s):  0.014 ---- 0.018 ---- 0.29 ----   1\n",
      "INFO:pykeen.utilities.train_utils:Epoch 561 / 2000 (2.1s):  0.014 ---- 0.018 ---- 0.29 ----   2\n",
      "INFO:pykeen.utilities.train_utils:Epoch 562 / 2000 (2.1s):  0.014 ---- 0.019 ---- 0.29 ----   3\n",
      "INFO:pykeen.utilities.train_utils:Epoch 563 / 2000 (2.1s):  0.013 ---- 0.020 ---- 0.29 ----   4\n",
      "INFO:pykeen.utilities.train_utils:Epoch 564 / 2000 (2.1s):  0.014 ---- 0.019 ---- 0.29 ----   5\n"
     ]
    },
    {
     "name": "stdout",
     "output_type": "stream",
     "text": [
      "\n",
      "\n"
     ]
    },
    {
     "data": {
      "application/vnd.jupyter.widget-view+json": {
       "model_id": "4a9f7293eb5c42508ca0c74e9fe8dab9",
       "version_major": 2,
       "version_minor": 0
      },
      "text/plain": [
       "HBox(children=(IntProgress(value=0, max=200), HTML(value='')))"
      ]
     },
     "metadata": {},
     "output_type": "display_data"
    },
    {
     "name": "stderr",
     "output_type": "stream",
     "text": [
      "DEBUG:pykeen.utilities.evaluation_utils.metrics_computations:Evaluation took 3.88s seconds\n",
      "DEBUG:pykeen.utilities.train_utils:\n",
      "current metric: 0.2863538737676547  ---- rank/hits@10: (0.21342373313267188, 0.435)\n",
      "INFO:pykeen.utilities.train_utils:Epoch 565 / 2000 (2.1s):  0.014 ---- 0.018 ---- 0.29 ----   6\n",
      "INFO:pykeen.utilities.train_utils:Epoch 566 / 2000 (2.1s):  0.014 ---- 0.018 ---- 0.29 ----   7\n",
      "INFO:pykeen.utilities.train_utils:Epoch 567 / 2000 (2.1s):  0.014 ---- 0.018 ---- 0.29 ----   8\n",
      "INFO:pykeen.utilities.train_utils:Epoch 568 / 2000 (2.1s):  0.014 ---- 0.018 ---- 0.29 ----   9\n",
      "INFO:pykeen.utilities.train_utils:Epoch 569 / 2000 (2.1s):  0.014 ---- 0.018 ---- 0.29 ----  10\n"
     ]
    },
    {
     "data": {
      "application/vnd.jupyter.widget-view+json": {
       "model_id": "89cbb0cd79864fc88f5cd802e4b75493",
       "version_major": 2,
       "version_minor": 0
      },
      "text/plain": [
       "HBox(children=(IntProgress(value=0, max=200), HTML(value='')))"
      ]
     },
     "metadata": {},
     "output_type": "display_data"
    },
    {
     "name": "stderr",
     "output_type": "stream",
     "text": [
      "DEBUG:pykeen.utilities.evaluation_utils.metrics_computations:Evaluation took 3.87s seconds\n",
      "DEBUG:pykeen.utilities.train_utils:\n",
      "current metric: 0.2861437057556893  ---- rank/hits@10: (0.21319032308254976, 0.435)\n",
      "INFO:pykeen.utilities.train_utils:Epoch 570 / 2000 (2.1s):  0.014 ---- 0.018 ---- 0.29 ----  11\n",
      "INFO:pykeen.utilities.train_utils:Epoch 571 / 2000 (2.1s):  0.014 ---- 0.019 ---- 0.29 ----  12\n",
      "INFO:pykeen.utilities.train_utils:Epoch 572 / 2000 (2.1s):  0.014 ---- 0.018 ---- 0.29 ----  13\n",
      "INFO:pykeen.utilities.train_utils:Epoch 573 / 2000 (2.1s):  0.014 ---- 0.018 ---- 0.29 ----  14\n",
      "INFO:pykeen.utilities.train_utils:Epoch 574 / 2000 (2.1s):  0.014 ---- 0.018 ---- 0.29 ----  15\n"
     ]
    },
    {
     "data": {
      "application/vnd.jupyter.widget-view+json": {
       "model_id": "316766f033bd42d8873af606856bf991",
       "version_major": 2,
       "version_minor": 0
      },
      "text/plain": [
       "HBox(children=(IntProgress(value=0, max=200), HTML(value='')))"
      ]
     },
     "metadata": {},
     "output_type": "display_data"
    },
    {
     "name": "stderr",
     "output_type": "stream",
     "text": [
      "DEBUG:pykeen.utilities.evaluation_utils.metrics_computations:Evaluation took 3.90s seconds\n",
      "DEBUG:pykeen.utilities.train_utils:\n",
      "current metric: 0.28815261841460493  ---- rank/hits@10: (0.21796820068937828, 0.425)\n",
      "INFO:pykeen.utilities.train_utils:Epoch 575 / 2000 (2.1s):  0.014 ---- 0.018 ---- 0.29 ----  16\n",
      "INFO:pykeen.utilities.train_utils:Epoch 576 / 2000 (2.1s):  0.014 ---- 0.017 ---- 0.29 ----  17\n",
      "INFO:pykeen.utilities.train_utils:Epoch 577 / 2000 (2.1s):  0.014 ---- 0.018 ---- 0.29 ----  18\n",
      "INFO:pykeen.utilities.train_utils:Epoch 578 / 2000 (2.1s):  0.014 ---- 0.017 ---- 0.29 ----  19\n",
      "INFO:pykeen.utilities.train_utils:Epoch 579 / 2000 (2.1s):  0.014 ---- 0.018 ---- 0.29 ----  20\n"
     ]
    },
    {
     "name": "stdout",
     "output_type": "stream",
     "text": [
      "\n",
      "\n"
     ]
    },
    {
     "data": {
      "application/vnd.jupyter.widget-view+json": {
       "model_id": "421b5374362d4fbf878ee3453034b1a2",
       "version_major": 2,
       "version_minor": 0
      },
      "text/plain": [
       "HBox(children=(IntProgress(value=0, max=200), HTML(value='')))"
      ]
     },
     "metadata": {},
     "output_type": "display_data"
    },
    {
     "name": "stderr",
     "output_type": "stream",
     "text": [
      "DEBUG:pykeen.utilities.evaluation_utils.metrics_computations:Evaluation took 3.88s seconds\n",
      "DEBUG:pykeen.utilities.train_utils:\n",
      "current metric: 0.28517472155813806  ---- rank/hits@10: (0.213325918098784, 0.43)\n",
      "INFO:pykeen.utilities.train_utils:Epoch 580 / 2000 (2.1s):  0.014 ---- 0.018 ---- 0.29 ----  21\n",
      "INFO:pykeen.utilities.train_utils:Epoch 581 / 2000 (2.1s):  0.014 ---- 0.018 ---- 0.29 ----  22\n",
      "INFO:pykeen.utilities.train_utils:Epoch 582 / 2000 (2.0s):  0.014 ---- 0.017 ---- 0.29 ----  23\n",
      "INFO:pykeen.utilities.train_utils:Epoch 583 / 2000 (2.1s):  0.014 ---- 0.019 ---- 0.29 ----  24\n",
      "INFO:pykeen.utilities.train_utils:Epoch 584 / 2000 (2.1s):  0.014 ---- 0.017 ---- 0.29 ----  25\n"
     ]
    },
    {
     "data": {
      "application/vnd.jupyter.widget-view+json": {
       "model_id": "546fe3ca620643e5a7b8e8e55346caa4",
       "version_major": 2,
       "version_minor": 0
      },
      "text/plain": [
       "HBox(children=(IntProgress(value=0, max=200), HTML(value='')))"
      ]
     },
     "metadata": {},
     "output_type": "display_data"
    },
    {
     "name": "stderr",
     "output_type": "stream",
     "text": [
      "DEBUG:pykeen.utilities.evaluation_utils.metrics_computations:Evaluation took 3.88s seconds\n",
      "DEBUG:pykeen.utilities.train_utils:\n",
      "current metric: 0.2841920342571026  ---- rank/hits@10: (0.21222800308587345, 0.43)\n",
      "INFO:pykeen.utilities.train_utils:Epoch 585 / 2000 (2.1s):  0.014 ---- 0.017 ---- 0.28 ----  26\n",
      "INFO:pykeen.utilities.train_utils:Epoch 586 / 2000 (2.0s):  0.014 ---- 0.018 ---- 0.28 ----  27\n",
      "INFO:pykeen.utilities.train_utils:Epoch 587 / 2000 (2.1s):  0.014 ---- 0.019 ---- 0.28 ----  28\n",
      "INFO:pykeen.utilities.train_utils:Epoch 588 / 2000 (2.1s):  0.014 ---- 0.019 ---- 0.28 ----  29\n",
      "INFO:pykeen.utilities.train_utils:Epoch 589 / 2000 (2.1s):  0.013 ---- 0.018 ---- 0.28 ----  30\n"
     ]
    },
    {
     "data": {
      "application/vnd.jupyter.widget-view+json": {
       "model_id": "5378e5f132304239ab7a8f20fa502bbb",
       "version_major": 2,
       "version_minor": 0
      },
      "text/plain": [
       "HBox(children=(IntProgress(value=0, max=200), HTML(value='')))"
      ]
     },
     "metadata": {},
     "output_type": "display_data"
    },
    {
     "name": "stderr",
     "output_type": "stream",
     "text": [
      "DEBUG:pykeen.utilities.evaluation_utils.metrics_computations:Evaluation took 3.88s seconds\n",
      "DEBUG:pykeen.utilities.train_utils:\n",
      "current metric: 0.28340910476773407  ---- rank/hits@10: (0.21196522425182088, 0.4275)\n",
      "INFO:pykeen.utilities.train_utils:Epoch 590 / 2000 (2.1s):  0.014 ---- 0.019 ---- 0.28 ----  31\n",
      "INFO:pykeen.utilities.train_utils:Epoch 591 / 2000 (2.1s):  0.014 ---- 0.018 ---- 0.28 ----  32\n",
      "INFO:pykeen.utilities.train_utils:Epoch 592 / 2000 (2.1s):  0.014 ---- 0.017 ---- 0.28 ----  33\n",
      "INFO:pykeen.utilities.train_utils:Epoch 593 / 2000 (2.1s):  0.014 ---- 0.018 ---- 0.28 ----  34\n",
      "INFO:pykeen.utilities.train_utils:Epoch 594 / 2000 (2.1s):  0.013 ---- 0.018 ---- 0.28 ----  35\n"
     ]
    },
    {
     "name": "stdout",
     "output_type": "stream",
     "text": [
      "\n",
      "\n"
     ]
    },
    {
     "data": {
      "application/vnd.jupyter.widget-view+json": {
       "model_id": "3b6146c792eb45f59eab08d7e89ab08c",
       "version_major": 2,
       "version_minor": 0
      },
      "text/plain": [
       "HBox(children=(IntProgress(value=0, max=200), HTML(value='')))"
      ]
     },
     "metadata": {},
     "output_type": "display_data"
    },
    {
     "name": "stderr",
     "output_type": "stream",
     "text": [
      "DEBUG:pykeen.utilities.evaluation_utils.metrics_computations:Evaluation took 3.91s seconds\n",
      "DEBUG:pykeen.utilities.train_utils:\n",
      "current metric: 0.28328059576345177  ---- rank/hits@10: (0.21371241834799862, 0.42)\n",
      "INFO:pykeen.utilities.train_utils:Epoch 595 / 2000 (2.1s):  0.014 ---- 0.020 ---- 0.28 ----  36\n",
      "INFO:pykeen.utilities.train_utils:Epoch 596 / 2000 (2.1s):  0.014 ---- 0.017 ---- 0.28 ----  37\n",
      "INFO:pykeen.utilities.train_utils:Epoch 597 / 2000 (2.1s):  0.014 ---- 0.017 ---- 0.28 ----  38\n",
      "INFO:pykeen.utilities.train_utils:Epoch 598 / 2000 (2.1s):  0.014 ---- 0.018 ---- 0.28 ----  39\n",
      "INFO:pykeen.utilities.train_utils:Epoch 599 / 2000 (2.1s):  0.014 ---- 0.018 ---- 0.28 ----  40\n"
     ]
    },
    {
     "data": {
      "application/vnd.jupyter.widget-view+json": {
       "model_id": "fa7c8099b56146eda48c72426ec4f778",
       "version_major": 2,
       "version_minor": 0
      },
      "text/plain": [
       "HBox(children=(IntProgress(value=0, max=200), HTML(value='')))"
      ]
     },
     "metadata": {},
     "output_type": "display_data"
    },
    {
     "name": "stderr",
     "output_type": "stream",
     "text": [
      "DEBUG:pykeen.utilities.evaluation_utils.metrics_computations:Evaluation took 3.90s seconds\n",
      "DEBUG:pykeen.utilities.train_utils:\n",
      "current metric: 0.2863141839132725  ---- rank/hits@10: (0.21523187348892392, 0.4275)\n",
      "INFO:pykeen.utilities.train_utils:Epoch 600 / 2000 (2.1s):  0.013 ---- 0.018 ---- 0.29 ----  41\n",
      "INFO:pykeen.utilities.train_utils:Epoch 601 / 2000 (2.1s):  0.014 ---- 0.018 ---- 0.29 ----  42\n",
      "INFO:pykeen.utilities.train_utils:Epoch 602 / 2000 (2.1s):  0.014 ---- 0.018 ---- 0.29 ----  43\n",
      "INFO:pykeen.utilities.train_utils:Epoch 603 / 2000 (2.1s):  0.014 ---- 0.018 ---- 0.29 ----  44\n",
      "INFO:pykeen.utilities.train_utils:Epoch 604 / 2000 (2.1s):  0.014 ---- 0.017 ---- 0.29 ----  45\n"
     ]
    },
    {
     "data": {
      "application/vnd.jupyter.widget-view+json": {
       "model_id": "188755d4c76641b5a16955aae6c92fe4",
       "version_major": 2,
       "version_minor": 0
      },
      "text/plain": [
       "HBox(children=(IntProgress(value=0, max=200), HTML(value='')))"
      ]
     },
     "metadata": {},
     "output_type": "display_data"
    },
    {
     "name": "stderr",
     "output_type": "stream",
     "text": [
      "DEBUG:pykeen.utilities.evaluation_utils.metrics_computations:Evaluation took 3.89s seconds\n",
      "DEBUG:pykeen.utilities.train_utils:\n",
      "current metric: 0.28312361417354  ---- rank/hits@10: (0.21103854670738045, 0.43)\n",
      "INFO:pykeen.utilities.train_utils:Epoch 605 / 2000 (2.1s):  0.014 ---- 0.018 ---- 0.28 ----  46\n",
      "INFO:pykeen.utilities.train_utils:Epoch 606 / 2000 (2.1s):  0.014 ---- 0.018 ---- 0.28 ----  47\n",
      "INFO:pykeen.utilities.train_utils:Epoch 607 / 2000 (2.1s):  0.014 ---- 0.018 ---- 0.28 ----  48\n",
      "INFO:pykeen.utilities.train_utils:Epoch 608 / 2000 (2.0s):  0.014 ---- 0.018 ---- 0.28 ----  49\n",
      "INFO:pykeen.utilities.train_utils:Epoch 609 / 2000 (2.1s):  0.014 ---- 0.018 ---- 0.28 ----  50\n"
     ]
    },
    {
     "name": "stdout",
     "output_type": "stream",
     "text": [
      "\n",
      "\n"
     ]
    },
    {
     "data": {
      "application/vnd.jupyter.widget-view+json": {
       "model_id": "a85fc1c54bcc40a082e568e28c91d97d",
       "version_major": 2,
       "version_minor": 0
      },
      "text/plain": [
       "HBox(children=(IntProgress(value=0, max=200), HTML(value='')))"
      ]
     },
     "metadata": {},
     "output_type": "display_data"
    },
    {
     "name": "stderr",
     "output_type": "stream",
     "text": [
      "DEBUG:pykeen.utilities.evaluation_utils.metrics_computations:Evaluation took 3.88s seconds\n",
      "DEBUG:pykeen.utilities.train_utils:\n",
      "current metric: 0.28572600612720095  ---- rank/hits@10: (0.21332995949607608, 0.4325)\n",
      "INFO:pykeen.utilities.train_utils:Epoch 610 / 2000 (2.0s):  0.014 ---- 0.019 ---- 0.29 ----  51\n",
      "INFO:pykeen.utilities.train_utils:Epoch 611 / 2000 (2.1s):  0.014 ---- 0.017 ---- 0.29 ----  52\n",
      "INFO:pykeen.utilities.train_utils:Epoch 612 / 2000 (2.1s):  0.014 ---- 0.018 ---- 0.29 ----  53\n",
      "INFO:pykeen.utilities.train_utils:Epoch 613 / 2000 (2.1s):  0.013 ---- 0.018 ---- 0.29 ----  54\n",
      "INFO:pykeen.utilities.train_utils:Epoch 614 / 2000 (2.1s):  0.014 ---- 0.017 ---- 0.29 ----  55\n"
     ]
    },
    {
     "data": {
      "application/vnd.jupyter.widget-view+json": {
       "model_id": "a6b6416a97024922b9597ffc8afce24e",
       "version_major": 2,
       "version_minor": 0
      },
      "text/plain": [
       "HBox(children=(IntProgress(value=0, max=200), HTML(value='')))"
      ]
     },
     "metadata": {},
     "output_type": "display_data"
    },
    {
     "name": "stderr",
     "output_type": "stream",
     "text": [
      "DEBUG:pykeen.utilities.evaluation_utils.metrics_computations:Evaluation took 3.86s seconds\n",
      "DEBUG:pykeen.utilities.train_utils:\n",
      "current metric: 0.2848013936021483  ---- rank/hits@10: (0.21290837266774915, 0.43)\n",
      "INFO:pykeen.utilities.train_utils:Epoch 615 / 2000 (2.1s):  0.014 ---- 0.019 ---- 0.28 ----  56\n",
      "INFO:pykeen.utilities.train_utils:Epoch 616 / 2000 (2.1s):  0.014 ---- 0.018 ---- 0.28 ----  57\n",
      "INFO:pykeen.utilities.train_utils:Epoch 617 / 2000 (2.1s):  0.013 ---- 0.019 ---- 0.28 ----  58\n",
      "INFO:pykeen.utilities.train_utils:Epoch 618 / 2000 (2.1s):  0.013 ---- 0.018 ---- 0.28 ----  59\n",
      "INFO:pykeen.utilities.train_utils:Epoch 619 / 2000 (2.1s):  0.014 ---- 0.019 ---- 0.28 ----  60\n"
     ]
    },
    {
     "data": {
      "application/vnd.jupyter.widget-view+json": {
       "model_id": "4226e8cc15774b308d26af8aa0b8e7da",
       "version_major": 2,
       "version_minor": 0
      },
      "text/plain": [
       "HBox(children=(IntProgress(value=0, max=200), HTML(value='')))"
      ]
     },
     "metadata": {},
     "output_type": "display_data"
    },
    {
     "name": "stderr",
     "output_type": "stream",
     "text": [
      "DEBUG:pykeen.utilities.evaluation_utils.metrics_computations:Evaluation took 3.89s seconds\n",
      "DEBUG:pykeen.utilities.train_utils:\n",
      "current metric: 0.2873614875089572  ---- rank/hits@10: (0.2151585129108773, 0.4325)\n",
      "INFO:pykeen.utilities.train_utils:Epoch 620 / 2000 (2.1s):  0.014 ---- 0.018 ---- 0.29 ----  61\n",
      "INFO:pykeen.utilities.train_utils:Epoch 621 / 2000 (2.1s):  0.014 ---- 0.017 ---- 0.29 ----  62\n",
      "INFO:pykeen.utilities.train_utils:Epoch 622 / 2000 (2.1s):  0.013 ---- 0.018 ---- 0.29 ----  63\n",
      "INFO:pykeen.utilities.train_utils:Epoch 623 / 2000 (2.1s):  0.014 ---- 0.017 ---- 0.29 ----  64\n",
      "INFO:pykeen.utilities.train_utils:Epoch 624 / 2000 (2.1s):  0.014 ---- 0.018 ---- 0.29 ----  65\n"
     ]
    },
    {
     "name": "stdout",
     "output_type": "stream",
     "text": [
      "\n",
      "\n"
     ]
    },
    {
     "data": {
      "application/vnd.jupyter.widget-view+json": {
       "model_id": "155573f7aefd4e47a3e2f192d1eca013",
       "version_major": 2,
       "version_minor": 0
      },
      "text/plain": [
       "HBox(children=(IntProgress(value=0, max=200), HTML(value='')))"
      ]
     },
     "metadata": {},
     "output_type": "display_data"
    },
    {
     "name": "stderr",
     "output_type": "stream",
     "text": [
      "DEBUG:pykeen.utilities.evaluation_utils.metrics_computations:Evaluation took 3.89s seconds\n",
      "DEBUG:pykeen.utilities.train_utils:\n",
      "current metric: 0.29005051210736393  ---- rank/hits@10: (0.21693684954599524, 0.4375)\n",
      "DEBUG:pykeen.utilities.train_utils:Saving the following model to disk:\n",
      "INFO:pykeen.utilities.train_utils:Epoch 625 / 2000 (2.1s):  0.014 ---- 0.018 ---- 0.29 ----   1\n",
      "INFO:pykeen.utilities.train_utils:Epoch 626 / 2000 (2.1s):  0.014 ---- 0.017 ---- 0.29 ----   2\n",
      "INFO:pykeen.utilities.train_utils:Epoch 627 / 2000 (2.1s):  0.014 ---- 0.017 ---- 0.29 ----   3\n",
      "INFO:pykeen.utilities.train_utils:Epoch 628 / 2000 (2.1s):  0.014 ---- 0.018 ---- 0.29 ----   4\n",
      "INFO:pykeen.utilities.train_utils:Epoch 629 / 2000 (2.1s):  0.014 ---- 0.018 ---- 0.29 ----   5\n"
     ]
    },
    {
     "data": {
      "application/vnd.jupyter.widget-view+json": {
       "model_id": "1ad6f0a58f314a4f81547e0ca944aee1",
       "version_major": 2,
       "version_minor": 0
      },
      "text/plain": [
       "HBox(children=(IntProgress(value=0, max=200), HTML(value='')))"
      ]
     },
     "metadata": {},
     "output_type": "display_data"
    },
    {
     "name": "stderr",
     "output_type": "stream",
     "text": [
      "DEBUG:pykeen.utilities.evaluation_utils.metrics_computations:Evaluation took 3.89s seconds\n",
      "DEBUG:pykeen.utilities.train_utils:\n",
      "current metric: 0.2876166444834235  ---- rank/hits@10: (0.21607049879403842, 0.43)\n",
      "INFO:pykeen.utilities.train_utils:Epoch 630 / 2000 (2.1s):  0.014 ---- 0.018 ---- 0.29 ----   6\n",
      "INFO:pykeen.utilities.train_utils:Epoch 631 / 2000 (2.1s):  0.013 ---- 0.018 ---- 0.29 ----   7\n",
      "INFO:pykeen.utilities.train_utils:Epoch 632 / 2000 (2.1s):  0.013 ---- 0.016 ---- 0.29 ----   8\n",
      "INFO:pykeen.utilities.train_utils:Epoch 633 / 2000 (2.1s):  0.013 ---- 0.018 ---- 0.29 ----   9\n",
      "INFO:pykeen.utilities.train_utils:Epoch 634 / 2000 (2.1s):  0.013 ---- 0.017 ---- 0.29 ----  10\n"
     ]
    },
    {
     "data": {
      "application/vnd.jupyter.widget-view+json": {
       "model_id": "41c8b09172a647668fedd58e53cdeb23",
       "version_major": 2,
       "version_minor": 0
      },
      "text/plain": [
       "HBox(children=(IntProgress(value=0, max=200), HTML(value='')))"
      ]
     },
     "metadata": {},
     "output_type": "display_data"
    },
    {
     "name": "stderr",
     "output_type": "stream",
     "text": [
      "DEBUG:pykeen.utilities.evaluation_utils.metrics_computations:Evaluation took 3.90s seconds\n",
      "DEBUG:pykeen.utilities.train_utils:\n",
      "current metric: 0.2835240976955125  ---- rank/hits@10: (0.21088435783379636, 0.4325)\n",
      "INFO:pykeen.utilities.train_utils:Epoch 635 / 2000 (2.1s):  0.014 ---- 0.017 ---- 0.28 ----  11\n",
      "INFO:pykeen.utilities.train_utils:Epoch 636 / 2000 (2.1s):  0.014 ---- 0.017 ---- 0.28 ----  12\n",
      "INFO:pykeen.utilities.train_utils:Epoch 637 / 2000 (2.1s):  0.013 ---- 0.017 ---- 0.28 ----  13\n",
      "INFO:pykeen.utilities.train_utils:Epoch 638 / 2000 (2.1s):  0.014 ---- 0.018 ---- 0.28 ----  14\n",
      "INFO:pykeen.utilities.train_utils:Epoch 639 / 2000 (2.1s):  0.014 ---- 0.017 ---- 0.28 ----  15\n"
     ]
    },
    {
     "name": "stdout",
     "output_type": "stream",
     "text": [
      "\n",
      "\n"
     ]
    },
    {
     "data": {
      "application/vnd.jupyter.widget-view+json": {
       "model_id": "25197a54ef1e46cca5e090595ad114f1",
       "version_major": 2,
       "version_minor": 0
      },
      "text/plain": [
       "HBox(children=(IntProgress(value=0, max=200), HTML(value='')))"
      ]
     },
     "metadata": {},
     "output_type": "display_data"
    },
    {
     "name": "stderr",
     "output_type": "stream",
     "text": [
      "DEBUG:pykeen.utilities.evaluation_utils.metrics_computations:Evaluation took 3.89s seconds\n",
      "DEBUG:pykeen.utilities.train_utils:\n",
      "current metric: 0.2838071336903923  ---- rank/hits@10: (0.21119768055739732, 0.4325)\n",
      "INFO:pykeen.utilities.train_utils:Epoch 640 / 2000 (2.1s):  0.014 ---- 0.018 ---- 0.28 ----  16\n",
      "INFO:pykeen.utilities.train_utils:Epoch 641 / 2000 (2.1s):  0.014 ---- 0.018 ---- 0.28 ----  17\n",
      "INFO:pykeen.utilities.train_utils:Epoch 642 / 2000 (2.1s):  0.014 ---- 0.019 ---- 0.28 ----  18\n",
      "INFO:pykeen.utilities.train_utils:Epoch 643 / 2000 (2.1s):  0.014 ---- 0.019 ---- 0.28 ----  19\n",
      "INFO:pykeen.utilities.train_utils:Epoch 644 / 2000 (2.1s):  0.013 ---- 0.018 ---- 0.28 ----  20\n"
     ]
    },
    {
     "data": {
      "application/vnd.jupyter.widget-view+json": {
       "model_id": "350f3b0a79ee4f8c90287f784ff00e96",
       "version_major": 2,
       "version_minor": 0
      },
      "text/plain": [
       "HBox(children=(IntProgress(value=0, max=200), HTML(value='')))"
      ]
     },
     "metadata": {},
     "output_type": "display_data"
    },
    {
     "name": "stderr",
     "output_type": "stream",
     "text": [
      "DEBUG:pykeen.utilities.evaluation_utils.metrics_computations:Evaluation took 3.88s seconds\n",
      "DEBUG:pykeen.utilities.train_utils:\n",
      "current metric: 0.286853217763024  ---- rank/hits@10: (0.2145891328884979, 0.4325)\n",
      "INFO:pykeen.utilities.train_utils:Epoch 645 / 2000 (2.1s):  0.013 ---- 0.017 ---- 0.29 ----  21\n",
      "INFO:pykeen.utilities.train_utils:Epoch 646 / 2000 (2.1s):  0.013 ---- 0.018 ---- 0.29 ----  22\n",
      "INFO:pykeen.utilities.train_utils:Epoch 647 / 2000 (2.1s):  0.014 ---- 0.017 ---- 0.29 ----  23\n",
      "INFO:pykeen.utilities.train_utils:Epoch 648 / 2000 (2.1s):  0.014 ---- 0.017 ---- 0.29 ----  24\n",
      "INFO:pykeen.utilities.train_utils:Epoch 649 / 2000 (2.1s):  0.014 ---- 0.017 ---- 0.29 ----  25\n"
     ]
    },
    {
     "data": {
      "application/vnd.jupyter.widget-view+json": {
       "model_id": "92e61c1d80e54521a1ac33d095bd86c8",
       "version_major": 2,
       "version_minor": 0
      },
      "text/plain": [
       "HBox(children=(IntProgress(value=0, max=200), HTML(value='')))"
      ]
     },
     "metadata": {},
     "output_type": "display_data"
    },
    {
     "name": "stderr",
     "output_type": "stream",
     "text": [
      "DEBUG:pykeen.utilities.evaluation_utils.metrics_computations:Evaluation took 3.86s seconds\n",
      "DEBUG:pykeen.utilities.train_utils:\n",
      "current metric: 0.28520092734090974  ---- rank/hits@10: (0.21274508168706632, 0.4325)\n",
      "INFO:pykeen.utilities.train_utils:Epoch 650 / 2000 (2.1s):  0.014 ---- 0.017 ---- 0.29 ----  26\n",
      "INFO:pykeen.utilities.train_utils:Epoch 651 / 2000 (2.1s):  0.014 ---- 0.017 ---- 0.29 ----  27\n",
      "INFO:pykeen.utilities.train_utils:Epoch 652 / 2000 (2.1s):  0.014 ---- 0.017 ---- 0.29 ----  28\n",
      "INFO:pykeen.utilities.train_utils:Epoch 653 / 2000 (2.1s):  0.014 ---- 0.017 ---- 0.29 ----  29\n",
      "INFO:pykeen.utilities.train_utils:Epoch 654 / 2000 (2.1s):  0.013 ---- 0.017 ---- 0.29 ----  30\n"
     ]
    },
    {
     "name": "stdout",
     "output_type": "stream",
     "text": [
      "\n",
      "\n"
     ]
    },
    {
     "data": {
      "application/vnd.jupyter.widget-view+json": {
       "model_id": "b5ec06cafb684b4f86d69b580cbfe8d2",
       "version_major": 2,
       "version_minor": 0
      },
      "text/plain": [
       "HBox(children=(IntProgress(value=0, max=200), HTML(value='')))"
      ]
     },
     "metadata": {},
     "output_type": "display_data"
    },
    {
     "name": "stderr",
     "output_type": "stream",
     "text": [
      "DEBUG:pykeen.utilities.evaluation_utils.metrics_computations:Evaluation took 3.92s seconds\n",
      "DEBUG:pykeen.utilities.train_utils:\n",
      "current metric: 0.2849771189190311  ---- rank/hits@10: (0.21310484359304738, 0.43)\n",
      "INFO:pykeen.utilities.train_utils:Epoch 655 / 2000 (2.1s):  0.014 ---- 0.018 ---- 0.28 ----  31\n",
      "INFO:pykeen.utilities.train_utils:Epoch 656 / 2000 (2.1s):  0.014 ---- 0.017 ---- 0.28 ----  32\n",
      "INFO:pykeen.utilities.train_utils:Epoch 657 / 2000 (2.1s):  0.014 ---- 0.016 ---- 0.28 ----  33\n",
      "INFO:pykeen.utilities.train_utils:Epoch 658 / 2000 (2.0s):  0.014 ---- 0.017 ---- 0.28 ----  34\n",
      "INFO:pykeen.utilities.train_utils:Epoch 659 / 2000 (2.1s):  0.014 ---- 0.017 ---- 0.28 ----  35\n"
     ]
    },
    {
     "data": {
      "application/vnd.jupyter.widget-view+json": {
       "model_id": "078cb649d79240d6a3db812fa3dffa9d",
       "version_major": 2,
       "version_minor": 0
      },
      "text/plain": [
       "HBox(children=(IntProgress(value=0, max=200), HTML(value='')))"
      ]
     },
     "metadata": {},
     "output_type": "display_data"
    },
    {
     "name": "stderr",
     "output_type": "stream",
     "text": [
      "DEBUG:pykeen.utilities.evaluation_utils.metrics_computations:Evaluation took 3.87s seconds\n",
      "DEBUG:pykeen.utilities.train_utils:\n",
      "current metric: 0.2861202853465949  ---- rank/hits@10: (0.21256908961927926, 0.4375)\n",
      "INFO:pykeen.utilities.train_utils:Epoch 660 / 2000 (2.1s):  0.013 ---- 0.017 ---- 0.29 ----  36\n",
      "INFO:pykeen.utilities.train_utils:Epoch 661 / 2000 (2.1s):  0.013 ---- 0.017 ---- 0.29 ----  37\n",
      "INFO:pykeen.utilities.train_utils:Epoch 662 / 2000 (2.1s):  0.014 ---- 0.018 ---- 0.29 ----  38\n",
      "INFO:pykeen.utilities.train_utils:Epoch 663 / 2000 (2.1s):  0.014 ---- 0.017 ---- 0.29 ----  39\n",
      "INFO:pykeen.utilities.train_utils:Epoch 664 / 2000 (2.1s):  0.014 ---- 0.017 ---- 0.29 ----  40\n"
     ]
    },
    {
     "data": {
      "application/vnd.jupyter.widget-view+json": {
       "model_id": "73e23923a0b544358b297c6e22090968",
       "version_major": 2,
       "version_minor": 0
      },
      "text/plain": [
       "HBox(children=(IntProgress(value=0, max=200), HTML(value='')))"
      ]
     },
     "metadata": {},
     "output_type": "display_data"
    },
    {
     "name": "stderr",
     "output_type": "stream",
     "text": [
      "DEBUG:pykeen.utilities.evaluation_utils.metrics_computations:Evaluation took 3.88s seconds\n",
      "DEBUG:pykeen.utilities.train_utils:\n",
      "current metric: 0.28490761818399196  ---- rank/hits@10: (0.209528154546206, 0.445)\n",
      "INFO:pykeen.utilities.train_utils:Epoch 665 / 2000 (2.1s):  0.013 ---- 0.017 ---- 0.28 ----  41\n",
      "INFO:pykeen.utilities.train_utils:Epoch 666 / 2000 (2.0s):  0.014 ---- 0.017 ---- 0.28 ----  42\n",
      "INFO:pykeen.utilities.train_utils:Epoch 667 / 2000 (2.1s):  0.014 ---- 0.018 ---- 0.28 ----  43\n",
      "INFO:pykeen.utilities.train_utils:Epoch 668 / 2000 (2.1s):  0.014 ---- 0.017 ---- 0.28 ----  44\n",
      "INFO:pykeen.utilities.train_utils:Epoch 669 / 2000 (2.1s):  0.014 ---- 0.016 ---- 0.28 ----  45\n"
     ]
    },
    {
     "name": "stdout",
     "output_type": "stream",
     "text": [
      "\n",
      "\n"
     ]
    },
    {
     "data": {
      "application/vnd.jupyter.widget-view+json": {
       "model_id": "2ebd38c4a9d0464cad189dba159e621c",
       "version_major": 2,
       "version_minor": 0
      },
      "text/plain": [
       "HBox(children=(IntProgress(value=0, max=200), HTML(value='')))"
      ]
     },
     "metadata": {},
     "output_type": "display_data"
    },
    {
     "name": "stderr",
     "output_type": "stream",
     "text": [
      "DEBUG:pykeen.utilities.evaluation_utils.metrics_computations:Evaluation took 3.90s seconds\n",
      "DEBUG:pykeen.utilities.train_utils:\n",
      "current metric: 0.28922951598964974  ---- rank/hits@10: (0.21663435542853007, 0.435)\n",
      "INFO:pykeen.utilities.train_utils:Epoch 670 / 2000 (2.0s):  0.014 ---- 0.017 ---- 0.29 ----  46\n",
      "INFO:pykeen.utilities.train_utils:Epoch 671 / 2000 (2.1s):  0.014 ---- 0.017 ---- 0.29 ----  47\n",
      "INFO:pykeen.utilities.train_utils:Epoch 672 / 2000 (2.1s):  0.013 ---- 0.017 ---- 0.29 ----  48\n",
      "INFO:pykeen.utilities.train_utils:Epoch 673 / 2000 (2.1s):  0.013 ---- 0.017 ---- 0.29 ----  49\n",
      "INFO:pykeen.utilities.train_utils:Epoch 674 / 2000 (2.1s):  0.013 ---- 0.018 ---- 0.29 ----  50\n"
     ]
    },
    {
     "data": {
      "application/vnd.jupyter.widget-view+json": {
       "model_id": "8544282288804556a7272e99b3dcfe14",
       "version_major": 2,
       "version_minor": 0
      },
      "text/plain": [
       "HBox(children=(IntProgress(value=0, max=200), HTML(value='')))"
      ]
     },
     "metadata": {},
     "output_type": "display_data"
    },
    {
     "name": "stderr",
     "output_type": "stream",
     "text": [
      "DEBUG:pykeen.utilities.evaluation_utils.metrics_computations:Evaluation took 3.90s seconds\n",
      "DEBUG:pykeen.utilities.train_utils:\n",
      "current metric: 0.2896375770113121  ---- rank/hits@10: (0.2152716108351715, 0.4425)\n",
      "INFO:pykeen.utilities.train_utils:Epoch 675 / 2000 (2.1s):  0.013 ---- 0.017 ---- 0.29 ----  51\n",
      "INFO:pykeen.utilities.train_utils:Epoch 676 / 2000 (2.1s):  0.013 ---- 0.017 ---- 0.29 ----  52\n",
      "INFO:pykeen.utilities.train_utils:Epoch 677 / 2000 (2.1s):  0.014 ---- 0.018 ---- 0.29 ----  53\n",
      "INFO:pykeen.utilities.train_utils:Epoch 678 / 2000 (2.0s):  0.014 ---- 0.018 ---- 0.29 ----  54\n",
      "INFO:pykeen.utilities.train_utils:Epoch 679 / 2000 (2.1s):  0.013 ---- 0.017 ---- 0.29 ----  55\n"
     ]
    },
    {
     "data": {
      "application/vnd.jupyter.widget-view+json": {
       "model_id": "83e990ad725b470199364b29483b830d",
       "version_major": 2,
       "version_minor": 0
      },
      "text/plain": [
       "HBox(children=(IntProgress(value=0, max=200), HTML(value='')))"
      ]
     },
     "metadata": {},
     "output_type": "display_data"
    },
    {
     "name": "stderr",
     "output_type": "stream",
     "text": [
      "DEBUG:pykeen.utilities.evaluation_utils.metrics_computations:Evaluation took 3.90s seconds\n",
      "DEBUG:pykeen.utilities.train_utils:\n",
      "current metric: 0.28583098808604607  ---- rank/hits@10: (0.2134470246235847, 0.4325)\n",
      "INFO:pykeen.utilities.train_utils:Epoch 680 / 2000 (2.1s):  0.013 ---- 0.017 ---- 0.29 ----  56\n",
      "INFO:pykeen.utilities.train_utils:Epoch 681 / 2000 (2.1s):  0.013 ---- 0.018 ---- 0.29 ----  57\n",
      "INFO:pykeen.utilities.train_utils:Epoch 682 / 2000 (2.1s):  0.014 ---- 0.017 ---- 0.29 ----  58\n",
      "INFO:pykeen.utilities.train_utils:Epoch 683 / 2000 (2.1s):  0.014 ---- 0.017 ---- 0.29 ----  59\n",
      "INFO:pykeen.utilities.train_utils:Epoch 684 / 2000 (2.1s):  0.014 ---- 0.018 ---- 0.29 ----  60\n"
     ]
    },
    {
     "name": "stdout",
     "output_type": "stream",
     "text": [
      "\n",
      "\n",
      "\n",
      "\n",
      "\n",
      "\n",
      "\n",
      "\n",
      "\n",
      "\n",
      "\n",
      "\n",
      "\n"
     ]
    },
    {
     "data": {
      "application/vnd.jupyter.widget-view+json": {
       "model_id": "270523cda06440e7bff0cd70222ca83a",
       "version_major": 2,
       "version_minor": 0
      },
      "text/plain": [
       "HBox(children=(IntProgress(value=0, max=200), HTML(value='')))"
      ]
     },
     "metadata": {},
     "output_type": "display_data"
    },
    {
     "name": "stderr",
     "output_type": "stream",
     "text": [
      "DEBUG:pykeen.utilities.evaluation_utils.metrics_computations:Evaluation took 3.88s seconds\n",
      "DEBUG:pykeen.utilities.train_utils:\n",
      "current metric: 0.28069391970818275  ---- rank/hits@10: (0.2077680249590399, 0.4325)\n",
      "INFO:pykeen.utilities.train_utils:Epoch 685 / 2000 (2.1s):  0.013 ---- 0.018 ---- 0.28 ----  61\n",
      "INFO:pykeen.utilities.train_utils:Epoch 686 / 2000 (2.1s):  0.014 ---- 0.017 ---- 0.28 ----  62\n",
      "INFO:pykeen.utilities.train_utils:Epoch 687 / 2000 (2.1s):  0.013 ---- 0.018 ---- 0.28 ----  63\n",
      "INFO:pykeen.utilities.train_utils:Epoch 688 / 2000 (2.1s):  0.014 ---- 0.018 ---- 0.28 ----  64\n",
      "INFO:pykeen.utilities.train_utils:Epoch 689 / 2000 (2.1s):  0.013 ---- 0.017 ---- 0.28 ----  65\n"
     ]
    },
    {
     "data": {
      "application/vnd.jupyter.widget-view+json": {
       "model_id": "a8178b15f6ba41928678ad33d231e3fe",
       "version_major": 2,
       "version_minor": 0
      },
      "text/plain": [
       "HBox(children=(IntProgress(value=0, max=200), HTML(value='')))"
      ]
     },
     "metadata": {},
     "output_type": "display_data"
    },
    {
     "name": "stderr",
     "output_type": "stream",
     "text": [
      "DEBUG:pykeen.utilities.evaluation_utils.metrics_computations:Evaluation took 3.91s seconds\n",
      "DEBUG:pykeen.utilities.train_utils:\n",
      "current metric: 0.28356797290888136  ---- rank/hits@10: (0.20863343214206584, 0.4425)\n",
      "INFO:pykeen.utilities.train_utils:Epoch 690 / 2000 (2.1s):  0.014 ---- 0.019 ---- 0.28 ----  66\n",
      "INFO:pykeen.utilities.train_utils:Epoch 691 / 2000 (2.1s):  0.013 ---- 0.017 ---- 0.28 ----  67\n",
      "INFO:pykeen.utilities.train_utils:Epoch 692 / 2000 (2.1s):  0.013 ---- 0.017 ---- 0.28 ----  68\n",
      "INFO:pykeen.utilities.train_utils:Epoch 693 / 2000 (2.0s):  0.014 ---- 0.019 ---- 0.28 ----  69\n",
      "INFO:pykeen.utilities.train_utils:Epoch 694 / 2000 (2.0s):  0.013 ---- 0.016 ---- 0.28 ----  70\n"
     ]
    },
    {
     "data": {
      "application/vnd.jupyter.widget-view+json": {
       "model_id": "91614d9e340041188ac3613e32a24c3d",
       "version_major": 2,
       "version_minor": 0
      },
      "text/plain": [
       "HBox(children=(IntProgress(value=0, max=200), HTML(value='')))"
      ]
     },
     "metadata": {},
     "output_type": "display_data"
    },
    {
     "name": "stderr",
     "output_type": "stream",
     "text": [
      "DEBUG:pykeen.utilities.evaluation_utils.metrics_computations:Evaluation took 3.90s seconds\n",
      "DEBUG:pykeen.utilities.train_utils:\n",
      "current metric: 0.2820757710097922  ---- rank/hits@10: (0.20870539831299126, 0.435)\n",
      "INFO:pykeen.utilities.train_utils:Epoch 695 / 2000 (2.1s):  0.014 ---- 0.017 ---- 0.28 ----  71\n",
      "INFO:pykeen.utilities.train_utils:Epoch 696 / 2000 (2.1s):  0.014 ---- 0.017 ---- 0.28 ----  72\n",
      "INFO:pykeen.utilities.train_utils:Epoch 697 / 2000 (2.1s):  0.014 ---- 0.017 ---- 0.28 ----  73\n",
      "INFO:pykeen.utilities.train_utils:Epoch 698 / 2000 (2.0s):  0.013 ---- 0.016 ---- 0.28 ----  74\n",
      "INFO:pykeen.utilities.train_utils:Epoch 699 / 2000 (2.1s):  0.014 ---- 0.018 ---- 0.28 ----  75\n"
     ]
    },
    {
     "name": "stdout",
     "output_type": "stream",
     "text": [
      "\n",
      "\n"
     ]
    },
    {
     "data": {
      "application/vnd.jupyter.widget-view+json": {
       "model_id": "4fa12076bfee497ab8118ef24e511456",
       "version_major": 2,
       "version_minor": 0
      },
      "text/plain": [
       "HBox(children=(IntProgress(value=0, max=200), HTML(value='')))"
      ]
     },
     "metadata": {},
     "output_type": "display_data"
    },
    {
     "name": "stderr",
     "output_type": "stream",
     "text": [
      "DEBUG:pykeen.utilities.evaluation_utils.metrics_computations:Evaluation took 3.90s seconds\n",
      "DEBUG:pykeen.utilities.train_utils:\n",
      "current metric: 0.287240821911067  ---- rank/hits@10: (0.21149868638658922, 0.4475)\n",
      "INFO:pykeen.utilities.train_utils:Epoch 700 / 2000 (2.0s):  0.013 ---- 0.016 ---- 0.29 ----  76\n",
      "INFO:pykeen.utilities.train_utils:Epoch 701 / 2000 (2.1s):  0.013 ---- 0.018 ---- 0.29 ----  77\n",
      "INFO:pykeen.utilities.train_utils:Epoch 702 / 2000 (2.1s):  0.013 ---- 0.017 ---- 0.29 ----  78\n",
      "INFO:pykeen.utilities.train_utils:Epoch 703 / 2000 (2.1s):  0.014 ---- 0.017 ---- 0.29 ----  79\n",
      "INFO:pykeen.utilities.train_utils:Epoch 704 / 2000 (2.0s):  0.014 ---- 0.017 ---- 0.29 ----  80\n"
     ]
    },
    {
     "data": {
      "application/vnd.jupyter.widget-view+json": {
       "model_id": "92f038414e844c3b925ee7c7be8bfa65",
       "version_major": 2,
       "version_minor": 0
      },
      "text/plain": [
       "HBox(children=(IntProgress(value=0, max=200), HTML(value='')))"
      ]
     },
     "metadata": {},
     "output_type": "display_data"
    },
    {
     "name": "stderr",
     "output_type": "stream",
     "text": [
      "DEBUG:pykeen.utilities.evaluation_utils.metrics_computations:Evaluation took 3.88s seconds\n",
      "DEBUG:pykeen.utilities.train_utils:\n",
      "current metric: 0.28503882050885904  ---- rank/hits@10: (0.21137744025833555, 0.4375)\n",
      "INFO:pykeen.utilities.train_utils:Epoch 705 / 2000 (2.1s):  0.014 ---- 0.017 ---- 0.29 ----  81\n",
      "INFO:pykeen.utilities.train_utils:Epoch 706 / 2000 (2.1s):  0.013 ---- 0.016 ---- 0.29 ----  82\n",
      "INFO:pykeen.utilities.train_utils:Epoch 707 / 2000 (2.0s):  0.014 ---- 0.018 ---- 0.29 ----  83\n",
      "INFO:pykeen.utilities.train_utils:Epoch 708 / 2000 (2.1s):  0.014 ---- 0.017 ---- 0.29 ----  84\n",
      "INFO:pykeen.utilities.train_utils:Epoch 709 / 2000 (2.0s):  0.014 ---- 0.017 ---- 0.29 ----  85\n"
     ]
    },
    {
     "data": {
      "application/vnd.jupyter.widget-view+json": {
       "model_id": "94c74aaff8c242c9bcb9f028cd543d56",
       "version_major": 2,
       "version_minor": 0
      },
      "text/plain": [
       "HBox(children=(IntProgress(value=0, max=200), HTML(value='')))"
      ]
     },
     "metadata": {},
     "output_type": "display_data"
    },
    {
     "name": "stderr",
     "output_type": "stream",
     "text": [
      "DEBUG:pykeen.utilities.evaluation_utils.metrics_computations:Evaluation took 3.89s seconds\n",
      "DEBUG:pykeen.utilities.train_utils:\n",
      "current metric: 0.2878784869831969  ---- rank/hits@10: (0.21573870114352778, 0.4325)\n",
      "INFO:pykeen.utilities.train_utils:Epoch 710 / 2000 (2.0s):  0.013 ---- 0.017 ---- 0.29 ----  86\n",
      "INFO:pykeen.utilities.train_utils:Epoch 711 / 2000 (2.0s):  0.013 ---- 0.018 ---- 0.29 ----  87\n",
      "INFO:pykeen.utilities.train_utils:Epoch 712 / 2000 (2.1s):  0.013 ---- 0.018 ---- 0.29 ----  88\n",
      "INFO:pykeen.utilities.train_utils:Epoch 713 / 2000 (2.1s):  0.014 ---- 0.017 ---- 0.29 ----  89\n",
      "INFO:pykeen.utilities.train_utils:Epoch 714 / 2000 (2.1s):  0.014 ---- 0.018 ---- 0.29 ----  90\n"
     ]
    },
    {
     "data": {
      "application/vnd.jupyter.widget-view+json": {
       "model_id": "66c739bdfc09429582af274177f0a73c",
       "version_major": 2,
       "version_minor": 0
      },
      "text/plain": [
       "HBox(children=(IntProgress(value=0, max=200), HTML(value='')))"
      ]
     },
     "metadata": {},
     "output_type": "display_data"
    },
    {
     "name": "stdout",
     "output_type": "stream",
     "text": [
      "\n",
      "\n"
     ]
    },
    {
     "name": "stderr",
     "output_type": "stream",
     "text": [
      "DEBUG:pykeen.utilities.evaluation_utils.metrics_computations:Evaluation took 3.87s seconds\n",
      "DEBUG:pykeen.utilities.train_utils:\n",
      "current metric: 0.2860893002806767  ---- rank/hits@10: (0.21194986415127245, 0.44)\n",
      "INFO:pykeen.utilities.train_utils:Epoch 715 / 2000 (2.1s):  0.013 ---- 0.017 ---- 0.29 ----  91\n",
      "INFO:pykeen.utilities.train_utils:Epoch 716 / 2000 (2.1s):  0.013 ---- 0.017 ---- 0.29 ----  92\n",
      "INFO:pykeen.utilities.train_utils:Epoch 717 / 2000 (2.1s):  0.013 ---- 0.017 ---- 0.29 ----  93\n",
      "INFO:pykeen.utilities.train_utils:Epoch 718 / 2000 (2.1s):  0.013 ---- 0.017 ---- 0.29 ----  94\n",
      "INFO:pykeen.utilities.train_utils:Epoch 719 / 2000 (2.1s):  0.013 ---- 0.017 ---- 0.29 ----  95\n"
     ]
    },
    {
     "data": {
      "application/vnd.jupyter.widget-view+json": {
       "model_id": "0aca435116a4499097591f87e75c8dd3",
       "version_major": 2,
       "version_minor": 0
      },
      "text/plain": [
       "HBox(children=(IntProgress(value=0, max=200), HTML(value='')))"
      ]
     },
     "metadata": {},
     "output_type": "display_data"
    },
    {
     "name": "stderr",
     "output_type": "stream",
     "text": [
      "DEBUG:pykeen.utilities.evaluation_utils.metrics_computations:Evaluation took 3.85s seconds\n",
      "DEBUG:pykeen.utilities.train_utils:\n",
      "current metric: 0.2887706155983325  ---- rank/hits@10: (0.2155080377849294, 0.4375)\n",
      "INFO:pykeen.utilities.train_utils:Epoch 720 / 2000 (2.1s):  0.013 ---- 0.018 ---- 0.29 ----  96\n",
      "INFO:pykeen.utilities.train_utils:Epoch 721 / 2000 (2.1s):  0.014 ---- 0.017 ---- 0.29 ----  97\n",
      "INFO:pykeen.utilities.train_utils:Epoch 722 / 2000 (2.1s):  0.014 ---- 0.017 ---- 0.29 ----  98\n",
      "INFO:pykeen.utilities.train_utils:Epoch 723 / 2000 (2.1s):  0.014 ---- 0.018 ---- 0.29 ----  99\n",
      "INFO:pykeen.utilities.train_utils:Epoch 724 / 2000 (2.1s):  0.014 ---- 0.017 ---- 0.29 ---- 100\n"
     ]
    },
    {
     "data": {
      "application/vnd.jupyter.widget-view+json": {
       "model_id": "6fc1bba1c3c045dea89abef1251def4c",
       "version_major": 2,
       "version_minor": 0
      },
      "text/plain": [
       "HBox(children=(IntProgress(value=0, max=200), HTML(value='')))"
      ]
     },
     "metadata": {},
     "output_type": "display_data"
    },
    {
     "name": "stderr",
     "output_type": "stream",
     "text": [
      "DEBUG:pykeen.utilities.evaluation_utils.metrics_computations:Evaluation took 3.87s seconds\n",
      "DEBUG:pykeen.utilities.train_utils:\n",
      "current metric: 0.2950201235420781  ---- rank/hits@10: (0.2219031108292349, 0.44)\n",
      "DEBUG:pykeen.utilities.train_utils:Saving the following model to disk:\n",
      "INFO:pykeen.utilities.train_utils:Epoch 725 / 2000 (2.1s):  0.013 ---- 0.018 ---- 0.30 ----   1\n",
      "INFO:pykeen.utilities.train_utils:Epoch 726 / 2000 (2.1s):  0.014 ---- 0.017 ---- 0.30 ----   2\n",
      "INFO:pykeen.utilities.train_utils:Epoch 727 / 2000 (2.1s):  0.013 ---- 0.017 ---- 0.30 ----   3\n",
      "INFO:pykeen.utilities.train_utils:Epoch 728 / 2000 (2.0s):  0.014 ---- 0.017 ---- 0.30 ----   4\n",
      "INFO:pykeen.utilities.train_utils:Epoch 729 / 2000 (2.1s):  0.014 ---- 0.017 ---- 0.30 ----   5\n"
     ]
    },
    {
     "data": {
      "application/vnd.jupyter.widget-view+json": {
       "model_id": "b183984a2dcf445f8a5785d02060deac",
       "version_major": 2,
       "version_minor": 0
      },
      "text/plain": [
       "HBox(children=(IntProgress(value=0, max=200), HTML(value='')))"
      ]
     },
     "metadata": {},
     "output_type": "display_data"
    },
    {
     "name": "stdout",
     "output_type": "stream",
     "text": [
      "\n",
      "\n"
     ]
    },
    {
     "name": "stderr",
     "output_type": "stream",
     "text": [
      "DEBUG:pykeen.utilities.evaluation_utils.metrics_computations:Evaluation took 3.86s seconds\n",
      "DEBUG:pykeen.utilities.train_utils:\n",
      "current metric: 0.28683255851363854  ---- rank/hits@10: (0.21335632593431592, 0.4375)\n",
      "INFO:pykeen.utilities.train_utils:Epoch 730 / 2000 (2.1s):  0.013 ---- 0.019 ---- 0.29 ----   6\n",
      "INFO:pykeen.utilities.train_utils:Epoch 731 / 2000 (2.1s):  0.013 ---- 0.018 ---- 0.29 ----   7\n",
      "INFO:pykeen.utilities.train_utils:Epoch 732 / 2000 (2.1s):  0.013 ---- 0.017 ---- 0.29 ----   8\n",
      "INFO:pykeen.utilities.train_utils:Epoch 733 / 2000 (2.1s):  0.014 ---- 0.018 ---- 0.29 ----   9\n",
      "INFO:pykeen.utilities.train_utils:Epoch 734 / 2000 (2.1s):  0.013 ---- 0.017 ---- 0.29 ----  10\n"
     ]
    },
    {
     "data": {
      "application/vnd.jupyter.widget-view+json": {
       "model_id": "18c2c510a93e44ea8c3a69d4aec10750",
       "version_major": 2,
       "version_minor": 0
      },
      "text/plain": [
       "HBox(children=(IntProgress(value=0, max=200), HTML(value='')))"
      ]
     },
     "metadata": {},
     "output_type": "display_data"
    },
    {
     "name": "stderr",
     "output_type": "stream",
     "text": [
      "DEBUG:pykeen.utilities.evaluation_utils.metrics_computations:Evaluation took 3.87s seconds\n",
      "DEBUG:pykeen.utilities.train_utils:\n",
      "current metric: 0.28824758112867527  ---- rank/hits@10: (0.21615354311321172, 0.4325)\n",
      "INFO:pykeen.utilities.train_utils:Epoch 735 / 2000 (2.1s):  0.014 ---- 0.017 ---- 0.29 ----  11\n",
      "INFO:pykeen.utilities.train_utils:Epoch 736 / 2000 (2.0s):  0.013 ---- 0.017 ---- 0.29 ----  12\n",
      "INFO:pykeen.utilities.train_utils:Epoch 737 / 2000 (2.1s):  0.014 ---- 0.019 ---- 0.29 ----  13\n",
      "INFO:pykeen.utilities.train_utils:Epoch 738 / 2000 (2.1s):  0.014 ---- 0.017 ---- 0.29 ----  14\n",
      "INFO:pykeen.utilities.train_utils:Epoch 739 / 2000 (2.1s):  0.014 ---- 0.018 ---- 0.29 ----  15\n"
     ]
    },
    {
     "data": {
      "application/vnd.jupyter.widget-view+json": {
       "model_id": "f356659f044f451793c86eccde3668c5",
       "version_major": 2,
       "version_minor": 0
      },
      "text/plain": [
       "HBox(children=(IntProgress(value=0, max=200), HTML(value='')))"
      ]
     },
     "metadata": {},
     "output_type": "display_data"
    },
    {
     "name": "stderr",
     "output_type": "stream",
     "text": [
      "DEBUG:pykeen.utilities.evaluation_utils.metrics_computations:Evaluation took 3.85s seconds\n",
      "DEBUG:pykeen.utilities.train_utils:\n",
      "current metric: 0.28900248915992777  ---- rank/hits@10: (0.2157664267655489, 0.4375)\n",
      "INFO:pykeen.utilities.train_utils:Epoch 740 / 2000 (2.1s):  0.013 ---- 0.017 ---- 0.29 ----  16\n",
      "INFO:pykeen.utilities.train_utils:Epoch 741 / 2000 (2.1s):  0.014 ---- 0.017 ---- 0.29 ----  17\n",
      "INFO:pykeen.utilities.train_utils:Epoch 742 / 2000 (2.1s):  0.014 ---- 0.018 ---- 0.29 ----  18\n",
      "INFO:pykeen.utilities.train_utils:Epoch 743 / 2000 (2.1s):  0.013 ---- 0.017 ---- 0.29 ----  19\n",
      "INFO:pykeen.utilities.train_utils:Epoch 744 / 2000 (2.1s):  0.013 ---- 0.018 ---- 0.29 ----  20\n"
     ]
    },
    {
     "name": "stdout",
     "output_type": "stream",
     "text": [
      "\n",
      "\n"
     ]
    },
    {
     "data": {
      "application/vnd.jupyter.widget-view+json": {
       "model_id": "90f395191d024d2ea7704f154a72b9b8",
       "version_major": 2,
       "version_minor": 0
      },
      "text/plain": [
       "HBox(children=(IntProgress(value=0, max=200), HTML(value='')))"
      ]
     },
     "metadata": {},
     "output_type": "display_data"
    },
    {
     "name": "stderr",
     "output_type": "stream",
     "text": [
      "DEBUG:pykeen.utilities.evaluation_utils.metrics_computations:Evaluation took 3.88s seconds\n",
      "DEBUG:pykeen.utilities.train_utils:\n",
      "current metric: 0.2870279711390241  ---- rank/hits@10: (0.2147847842434053, 0.4325)\n",
      "INFO:pykeen.utilities.train_utils:Epoch 745 / 2000 (2.1s):  0.013 ---- 0.017 ---- 0.29 ----  21\n",
      "INFO:pykeen.utilities.train_utils:Epoch 746 / 2000 (2.1s):  0.013 ---- 0.017 ---- 0.29 ----  22\n",
      "INFO:pykeen.utilities.train_utils:Epoch 747 / 2000 (2.1s):  0.013 ---- 0.016 ---- 0.29 ----  23\n",
      "INFO:pykeen.utilities.train_utils:Epoch 748 / 2000 (2.1s):  0.014 ---- 0.018 ---- 0.29 ----  24\n",
      "INFO:pykeen.utilities.train_utils:Epoch 749 / 2000 (2.1s):  0.014 ---- 0.017 ---- 0.29 ----  25\n"
     ]
    },
    {
     "data": {
      "application/vnd.jupyter.widget-view+json": {
       "model_id": "e482579ca1844cdf9c2dfd04f8b51f6b",
       "version_major": 2,
       "version_minor": 0
      },
      "text/plain": [
       "HBox(children=(IntProgress(value=0, max=200), HTML(value='')))"
      ]
     },
     "metadata": {},
     "output_type": "display_data"
    },
    {
     "name": "stderr",
     "output_type": "stream",
     "text": [
      "DEBUG:pykeen.utilities.evaluation_utils.metrics_computations:Evaluation took 3.93s seconds\n",
      "DEBUG:pykeen.utilities.train_utils:\n",
      "current metric: 0.2885908953947135  ---- rank/hits@10: (0.21530790661951285, 0.4375)\n",
      "INFO:pykeen.utilities.train_utils:Epoch 750 / 2000 (2.1s):  0.013 ---- 0.016 ---- 0.29 ----  26\n",
      "INFO:pykeen.utilities.train_utils:Epoch 751 / 2000 (2.1s):  0.013 ---- 0.017 ---- 0.29 ----  27\n",
      "INFO:pykeen.utilities.train_utils:Epoch 752 / 2000 (2.1s):  0.013 ---- 0.017 ---- 0.29 ----  28\n",
      "INFO:pykeen.utilities.train_utils:Epoch 753 / 2000 (2.1s):  0.013 ---- 0.018 ---- 0.29 ----  29\n",
      "INFO:pykeen.utilities.train_utils:Epoch 754 / 2000 (2.0s):  0.014 ---- 0.018 ---- 0.29 ----  30\n"
     ]
    },
    {
     "data": {
      "application/vnd.jupyter.widget-view+json": {
       "model_id": "56dba17746954910a984d1c0bbf4d46a",
       "version_major": 2,
       "version_minor": 0
      },
      "text/plain": [
       "HBox(children=(IntProgress(value=0, max=200), HTML(value='')))"
      ]
     },
     "metadata": {},
     "output_type": "display_data"
    },
    {
     "name": "stderr",
     "output_type": "stream",
     "text": [
      "DEBUG:pykeen.utilities.evaluation_utils.metrics_computations:Evaluation took 3.88s seconds\n",
      "DEBUG:pykeen.utilities.train_utils:\n",
      "current metric: 0.2854971388819082  ---- rank/hits@10: (0.21247330624877594, 0.435)\n",
      "INFO:pykeen.utilities.train_utils:Epoch 755 / 2000 (2.1s):  0.013 ---- 0.018 ---- 0.29 ----  31\n",
      "INFO:pykeen.utilities.train_utils:Epoch 756 / 2000 (2.1s):  0.014 ---- 0.017 ---- 0.29 ----  32\n",
      "INFO:pykeen.utilities.train_utils:Epoch 757 / 2000 (2.1s):  0.014 ---- 0.018 ---- 0.29 ----  33\n",
      "INFO:pykeen.utilities.train_utils:Epoch 758 / 2000 (2.0s):  0.013 ---- 0.017 ---- 0.29 ----  34\n",
      "INFO:pykeen.utilities.train_utils:Epoch 759 / 2000 (2.1s):  0.013 ---- 0.017 ---- 0.29 ----  35\n"
     ]
    },
    {
     "data": {
      "application/vnd.jupyter.widget-view+json": {
       "model_id": "c2df5c5f20fb4b26bbd70cd043492bab",
       "version_major": 2,
       "version_minor": 0
      },
      "text/plain": [
       "HBox(children=(IntProgress(value=0, max=200), HTML(value='')))"
      ]
     },
     "metadata": {},
     "output_type": "display_data"
    },
    {
     "name": "stdout",
     "output_type": "stream",
     "text": [
      "\n",
      "\n"
     ]
    },
    {
     "name": "stderr",
     "output_type": "stream",
     "text": [
      "DEBUG:pykeen.utilities.evaluation_utils.metrics_computations:Evaluation took 3.88s seconds\n",
      "DEBUG:pykeen.utilities.train_utils:\n",
      "current metric: 0.2868595544635875  ---- rank/hits@10: (0.21398602540229528, 0.435)\n",
      "INFO:pykeen.utilities.train_utils:Epoch 760 / 2000 (2.1s):  0.014 ---- 0.017 ---- 0.29 ----  36\n",
      "INFO:pykeen.utilities.train_utils:Epoch 761 / 2000 (2.1s):  0.013 ---- 0.017 ---- 0.29 ----  37\n",
      "INFO:pykeen.utilities.train_utils:Epoch 762 / 2000 (2.1s):  0.014 ---- 0.017 ---- 0.29 ----  38\n",
      "INFO:pykeen.utilities.train_utils:Epoch 763 / 2000 (2.1s):  0.013 ---- 0.017 ---- 0.29 ----  39\n",
      "INFO:pykeen.utilities.train_utils:Epoch 764 / 2000 (2.1s):  0.013 ---- 0.018 ---- 0.29 ----  40\n"
     ]
    },
    {
     "data": {
      "application/vnd.jupyter.widget-view+json": {
       "model_id": "913f9abebb2a4e48870ae6a4295ac900",
       "version_major": 2,
       "version_minor": 0
      },
      "text/plain": [
       "HBox(children=(IntProgress(value=0, max=200), HTML(value='')))"
      ]
     },
     "metadata": {},
     "output_type": "display_data"
    },
    {
     "name": "stderr",
     "output_type": "stream",
     "text": [
      "DEBUG:pykeen.utilities.evaluation_utils.metrics_computations:Evaluation took 3.86s seconds\n",
      "DEBUG:pykeen.utilities.train_utils:\n",
      "current metric: 0.29011502874506984  ---- rank/hits@10: (0.21700903821077305, 0.4375)\n",
      "INFO:pykeen.utilities.train_utils:Epoch 765 / 2000 (2.1s):  0.013 ---- 0.016 ---- 0.29 ----  41\n",
      "INFO:pykeen.utilities.train_utils:Epoch 766 / 2000 (2.1s):  0.013 ---- 0.017 ---- 0.29 ----  42\n",
      "INFO:pykeen.utilities.train_utils:Epoch 767 / 2000 (2.1s):  0.014 ---- 0.017 ---- 0.29 ----  43\n",
      "INFO:pykeen.utilities.train_utils:Epoch 768 / 2000 (2.0s):  0.013 ---- 0.017 ---- 0.29 ----  44\n",
      "INFO:pykeen.utilities.train_utils:Epoch 769 / 2000 (2.1s):  0.014 ---- 0.017 ---- 0.29 ----  45\n"
     ]
    },
    {
     "data": {
      "application/vnd.jupyter.widget-view+json": {
       "model_id": "29e6c7f93d0e40cbaa345675191ac4a2",
       "version_major": 2,
       "version_minor": 0
      },
      "text/plain": [
       "HBox(children=(IntProgress(value=0, max=200), HTML(value='')))"
      ]
     },
     "metadata": {},
     "output_type": "display_data"
    },
    {
     "name": "stderr",
     "output_type": "stream",
     "text": [
      "DEBUG:pykeen.utilities.evaluation_utils.metrics_computations:Evaluation took 3.91s seconds\n",
      "DEBUG:pykeen.utilities.train_utils:\n",
      "current metric: 0.29105073810609006  ---- rank/hits@10: (0.2168366220395254, 0.4425)\n",
      "INFO:pykeen.utilities.train_utils:Epoch 770 / 2000 (2.1s):  0.013 ---- 0.017 ---- 0.29 ----  46\n",
      "INFO:pykeen.utilities.train_utils:Epoch 771 / 2000 (2.1s):  0.013 ---- 0.017 ---- 0.29 ----  47\n",
      "INFO:pykeen.utilities.train_utils:Epoch 772 / 2000 (2.1s):  0.013 ---- 0.018 ---- 0.29 ----  48\n",
      "INFO:pykeen.utilities.train_utils:Epoch 773 / 2000 (2.1s):  0.013 ---- 0.016 ---- 0.29 ----  49\n",
      "INFO:pykeen.utilities.train_utils:Epoch 774 / 2000 (2.1s):  0.014 ---- 0.017 ---- 0.29 ----  50\n"
     ]
    },
    {
     "name": "stdout",
     "output_type": "stream",
     "text": [
      "\n",
      "\n"
     ]
    },
    {
     "data": {
      "application/vnd.jupyter.widget-view+json": {
       "model_id": "1f19cfecd71f445bae538c10d3b735e9",
       "version_major": 2,
       "version_minor": 0
      },
      "text/plain": [
       "HBox(children=(IntProgress(value=0, max=200), HTML(value='')))"
      ]
     },
     "metadata": {},
     "output_type": "display_data"
    },
    {
     "name": "stderr",
     "output_type": "stream",
     "text": [
      "DEBUG:pykeen.utilities.evaluation_utils.metrics_computations:Evaluation took 3.90s seconds\n",
      "DEBUG:pykeen.utilities.train_utils:\n",
      "current metric: 0.2933047138320362  ---- rank/hits@10: (0.21996780463163518, 0.44)\n",
      "INFO:pykeen.utilities.train_utils:Epoch 775 / 2000 (2.1s):  0.014 ---- 0.018 ---- 0.29 ----  51\n",
      "INFO:pykeen.utilities.train_utils:Epoch 776 / 2000 (2.1s):  0.013 ---- 0.017 ---- 0.29 ----  52\n",
      "INFO:pykeen.utilities.train_utils:Epoch 777 / 2000 (2.1s):  0.013 ---- 0.019 ---- 0.29 ----  53\n",
      "INFO:pykeen.utilities.train_utils:Epoch 778 / 2000 (2.1s):  0.013 ---- 0.017 ---- 0.29 ----  54\n",
      "INFO:pykeen.utilities.train_utils:Epoch 779 / 2000 (2.1s):  0.013 ---- 0.018 ---- 0.29 ----  55\n"
     ]
    },
    {
     "data": {
      "application/vnd.jupyter.widget-view+json": {
       "model_id": "de9a699a621b44edab81848ab021eecb",
       "version_major": 2,
       "version_minor": 0
      },
      "text/plain": [
       "HBox(children=(IntProgress(value=0, max=200), HTML(value='')))"
      ]
     },
     "metadata": {},
     "output_type": "display_data"
    },
    {
     "name": "stderr",
     "output_type": "stream",
     "text": [
      "DEBUG:pykeen.utilities.evaluation_utils.metrics_computations:Evaluation took 3.89s seconds\n",
      "DEBUG:pykeen.utilities.train_utils:\n",
      "current metric: 0.28458409464334433  ---- rank/hits@10: (0.21087768855287264, 0.4375)\n",
      "INFO:pykeen.utilities.train_utils:Epoch 780 / 2000 (2.0s):  0.013 ---- 0.017 ---- 0.28 ----  56\n",
      "INFO:pykeen.utilities.train_utils:Epoch 781 / 2000 (2.1s):  0.013 ---- 0.017 ---- 0.28 ----  57\n",
      "INFO:pykeen.utilities.train_utils:Epoch 782 / 2000 (2.1s):  0.013 ---- 0.018 ---- 0.28 ----  58\n",
      "INFO:pykeen.utilities.train_utils:Epoch 783 / 2000 (2.1s):  0.013 ---- 0.017 ---- 0.28 ----  59\n",
      "INFO:pykeen.utilities.train_utils:Epoch 784 / 2000 (2.0s):  0.014 ---- 0.017 ---- 0.28 ----  60\n"
     ]
    },
    {
     "data": {
      "application/vnd.jupyter.widget-view+json": {
       "model_id": "df23a94be9ca4b20b3280d5edd60f4bf",
       "version_major": 2,
       "version_minor": 0
      },
      "text/plain": [
       "HBox(children=(IntProgress(value=0, max=200), HTML(value='')))"
      ]
     },
     "metadata": {},
     "output_type": "display_data"
    },
    {
     "name": "stderr",
     "output_type": "stream",
     "text": [
      "DEBUG:pykeen.utilities.evaluation_utils.metrics_computations:Evaluation took 3.88s seconds\n",
      "DEBUG:pykeen.utilities.train_utils:\n",
      "current metric: 0.2845806414836637  ---- rank/hits@10: (0.21145966091577278, 0.435)\n",
      "INFO:pykeen.utilities.train_utils:Epoch 785 / 2000 (2.1s):  0.013 ---- 0.018 ---- 0.28 ----  61\n",
      "INFO:pykeen.utilities.train_utils:Epoch 786 / 2000 (2.0s):  0.013 ---- 0.017 ---- 0.28 ----  62\n",
      "INFO:pykeen.utilities.train_utils:Epoch 787 / 2000 (2.1s):  0.013 ---- 0.017 ---- 0.28 ----  63\n",
      "INFO:pykeen.utilities.train_utils:Epoch 788 / 2000 (2.0s):  0.014 ---- 0.018 ---- 0.28 ----  64\n",
      "INFO:pykeen.utilities.train_utils:Epoch 789 / 2000 (2.0s):  0.013 ---- 0.018 ---- 0.28 ----  65\n"
     ]
    },
    {
     "name": "stdout",
     "output_type": "stream",
     "text": [
      "\n",
      "\n"
     ]
    },
    {
     "data": {
      "application/vnd.jupyter.widget-view+json": {
       "model_id": "f9b6167d786c4cd0aec254e8bf9f3680",
       "version_major": 2,
       "version_minor": 0
      },
      "text/plain": [
       "HBox(children=(IntProgress(value=0, max=200), HTML(value='')))"
      ]
     },
     "metadata": {},
     "output_type": "display_data"
    },
    {
     "name": "stderr",
     "output_type": "stream",
     "text": [
      "DEBUG:pykeen.utilities.evaluation_utils.metrics_computations:Evaluation took 3.91s seconds\n",
      "DEBUG:pykeen.utilities.train_utils:\n",
      "current metric: 0.2896534755157451  ---- rank/hits@10: (0.21649294945381908, 0.4375)\n",
      "INFO:pykeen.utilities.train_utils:Epoch 790 / 2000 (2.0s):  0.013 ---- 0.018 ---- 0.29 ----  66\n",
      "INFO:pykeen.utilities.train_utils:Epoch 791 / 2000 (2.1s):  0.013 ---- 0.018 ---- 0.29 ----  67\n",
      "INFO:pykeen.utilities.train_utils:Epoch 792 / 2000 (2.1s):  0.013 ---- 0.017 ---- 0.29 ----  68\n",
      "INFO:pykeen.utilities.train_utils:Epoch 793 / 2000 (2.1s):  0.013 ---- 0.017 ---- 0.29 ----  69\n",
      "INFO:pykeen.utilities.train_utils:Epoch 794 / 2000 (2.1s):  0.013 ---- 0.017 ---- 0.29 ----  70\n"
     ]
    },
    {
     "data": {
      "application/vnd.jupyter.widget-view+json": {
       "model_id": "114e0de72117488d9c2c779944201e6a",
       "version_major": 2,
       "version_minor": 0
      },
      "text/plain": [
       "HBox(children=(IntProgress(value=0, max=200), HTML(value='')))"
      ]
     },
     "metadata": {},
     "output_type": "display_data"
    },
    {
     "name": "stderr",
     "output_type": "stream",
     "text": [
      "DEBUG:pykeen.utilities.evaluation_utils.metrics_computations:Evaluation took 3.88s seconds\n",
      "DEBUG:pykeen.utilities.train_utils:\n",
      "current metric: 0.28933860317617704  ---- rank/hits@10: (0.2149414626970129, 0.4425)\n",
      "INFO:pykeen.utilities.train_utils:Epoch 795 / 2000 (2.1s):  0.013 ---- 0.018 ---- 0.29 ----  71\n",
      "INFO:pykeen.utilities.train_utils:Epoch 796 / 2000 (2.1s):  0.013 ---- 0.017 ---- 0.29 ----  72\n",
      "INFO:pykeen.utilities.train_utils:Epoch 797 / 2000 (2.1s):  0.013 ---- 0.017 ---- 0.29 ----  73\n",
      "INFO:pykeen.utilities.train_utils:Epoch 798 / 2000 (2.1s):  0.013 ---- 0.016 ---- 0.29 ----  74\n",
      "INFO:pykeen.utilities.train_utils:Epoch 799 / 2000 (2.0s):  0.013 ---- 0.017 ---- 0.29 ----  75\n"
     ]
    },
    {
     "data": {
      "application/vnd.jupyter.widget-view+json": {
       "model_id": "a0fb35a9bf3a450ea400406e197777aa",
       "version_major": 2,
       "version_minor": 0
      },
      "text/plain": [
       "HBox(children=(IntProgress(value=0, max=200), HTML(value='')))"
      ]
     },
     "metadata": {},
     "output_type": "display_data"
    },
    {
     "name": "stderr",
     "output_type": "stream",
     "text": [
      "DEBUG:pykeen.utilities.evaluation_utils.metrics_computations:Evaluation took 3.89s seconds\n",
      "DEBUG:pykeen.utilities.train_utils:\n",
      "current metric: 0.2917431679994014  ---- rank/hits@10: (0.21760617809388308, 0.4425)\n",
      "INFO:pykeen.utilities.train_utils:Epoch 800 / 2000 (2.1s):  0.013 ---- 0.017 ---- 0.29 ----  76\n",
      "INFO:pykeen.utilities.train_utils:Epoch 801 / 2000 (2.1s):  0.014 ---- 0.016 ---- 0.29 ----  77\n",
      "INFO:pykeen.utilities.train_utils:Epoch 802 / 2000 (2.0s):  0.013 ---- 0.016 ---- 0.29 ----  78\n",
      "INFO:pykeen.utilities.train_utils:Epoch 803 / 2000 (2.0s):  0.013 ---- 0.016 ---- 0.29 ----  79\n",
      "INFO:pykeen.utilities.train_utils:Epoch 804 / 2000 (2.0s):  0.014 ---- 0.018 ---- 0.29 ----  80\n"
     ]
    },
    {
     "name": "stdout",
     "output_type": "stream",
     "text": [
      "\n",
      "\n"
     ]
    },
    {
     "data": {
      "application/vnd.jupyter.widget-view+json": {
       "model_id": "f2e0f4b0f9af4f098c1438a68b906dc9",
       "version_major": 2,
       "version_minor": 0
      },
      "text/plain": [
       "HBox(children=(IntProgress(value=0, max=200), HTML(value='')))"
      ]
     },
     "metadata": {},
     "output_type": "display_data"
    },
    {
     "name": "stderr",
     "output_type": "stream",
     "text": [
      "DEBUG:pykeen.utilities.evaluation_utils.metrics_computations:Evaluation took 3.90s seconds\n",
      "DEBUG:pykeen.utilities.train_utils:\n",
      "current metric: 0.28781209274399827  ---- rank/hits@10: (0.21268507674736725, 0.445)\n",
      "INFO:pykeen.utilities.train_utils:Epoch 805 / 2000 (2.0s):  0.013 ---- 0.017 ---- 0.29 ----  81\n",
      "INFO:pykeen.utilities.train_utils:Epoch 806 / 2000 (2.0s):  0.013 ---- 0.018 ---- 0.29 ----  82\n",
      "INFO:pykeen.utilities.train_utils:Epoch 807 / 2000 (2.1s):  0.014 ---- 0.018 ---- 0.29 ----  83\n",
      "INFO:pykeen.utilities.train_utils:Epoch 808 / 2000 (2.1s):  0.013 ---- 0.018 ---- 0.29 ----  84\n",
      "INFO:pykeen.utilities.train_utils:Epoch 809 / 2000 (2.1s):  0.013 ---- 0.017 ---- 0.29 ----  85\n"
     ]
    },
    {
     "data": {
      "application/vnd.jupyter.widget-view+json": {
       "model_id": "0ebee7c72c0e43bfac57c42322be0273",
       "version_major": 2,
       "version_minor": 0
      },
      "text/plain": [
       "HBox(children=(IntProgress(value=0, max=200), HTML(value='')))"
      ]
     },
     "metadata": {},
     "output_type": "display_data"
    },
    {
     "name": "stderr",
     "output_type": "stream",
     "text": [
      "DEBUG:pykeen.utilities.evaluation_utils.metrics_computations:Evaluation took 3.87s seconds\n",
      "DEBUG:pykeen.utilities.train_utils:\n",
      "current metric: 0.2871916492469471  ---- rank/hits@10: (0.21316218894037903, 0.44)\n",
      "INFO:pykeen.utilities.train_utils:Epoch 810 / 2000 (2.1s):  0.013 ---- 0.019 ---- 0.29 ----  86\n",
      "INFO:pykeen.utilities.train_utils:Epoch 811 / 2000 (2.1s):  0.013 ---- 0.018 ---- 0.29 ----  87\n",
      "INFO:pykeen.utilities.train_utils:Epoch 812 / 2000 (2.1s):  0.013 ---- 0.017 ---- 0.29 ----  88\n",
      "INFO:pykeen.utilities.train_utils:Epoch 813 / 2000 (2.1s):  0.013 ---- 0.016 ---- 0.29 ----  89\n",
      "INFO:pykeen.utilities.train_utils:Epoch 814 / 2000 (2.1s):  0.013 ---- 0.017 ---- 0.29 ----  90\n"
     ]
    },
    {
     "data": {
      "application/vnd.jupyter.widget-view+json": {
       "model_id": "295d29cae35845bc840e28d7c07498cc",
       "version_major": 2,
       "version_minor": 0
      },
      "text/plain": [
       "HBox(children=(IntProgress(value=0, max=200), HTML(value='')))"
      ]
     },
     "metadata": {},
     "output_type": "display_data"
    },
    {
     "name": "stderr",
     "output_type": "stream",
     "text": [
      "DEBUG:pykeen.utilities.evaluation_utils.metrics_computations:Evaluation took 3.89s seconds\n",
      "DEBUG:pykeen.utilities.train_utils:\n",
      "current metric: 0.28816261923647696  ---- rank/hits@10: (0.2148314849199447, 0.4375)\n",
      "INFO:pykeen.utilities.train_utils:Epoch 815 / 2000 (2.1s):  0.013 ---- 0.017 ---- 0.29 ----  91\n",
      "INFO:pykeen.utilities.train_utils:Epoch 816 / 2000 (2.0s):  0.013 ---- 0.019 ---- 0.29 ----  92\n",
      "INFO:pykeen.utilities.train_utils:Epoch 817 / 2000 (2.1s):  0.013 ---- 0.017 ---- 0.29 ----  93\n",
      "INFO:pykeen.utilities.train_utils:Epoch 818 / 2000 (2.0s):  0.013 ---- 0.016 ---- 0.29 ----  94\n",
      "INFO:pykeen.utilities.train_utils:Epoch 819 / 2000 (2.1s):  0.013 ---- 0.017 ---- 0.29 ----  95\n"
     ]
    },
    {
     "data": {
      "application/vnd.jupyter.widget-view+json": {
       "model_id": "58cb2cf598a94dfb8606b622a7ca35a2",
       "version_major": 2,
       "version_minor": 0
      },
      "text/plain": [
       "HBox(children=(IntProgress(value=0, max=200), HTML(value='')))"
      ]
     },
     "metadata": {},
     "output_type": "display_data"
    },
    {
     "name": "stdout",
     "output_type": "stream",
     "text": [
      "\n",
      "\n"
     ]
    },
    {
     "name": "stderr",
     "output_type": "stream",
     "text": [
      "DEBUG:pykeen.utilities.evaluation_utils.metrics_computations:Evaluation took 3.88s seconds\n",
      "DEBUG:pykeen.utilities.train_utils:\n",
      "current metric: 0.2831709629702417  ---- rank/hits@10: (0.21109116611777332, 0.43)\n",
      "INFO:pykeen.utilities.train_utils:Epoch 820 / 2000 (2.0s):  0.014 ---- 0.017 ---- 0.28 ----  96\n",
      "INFO:pykeen.utilities.train_utils:Epoch 821 / 2000 (2.1s):  0.013 ---- 0.018 ---- 0.28 ----  97\n",
      "INFO:pykeen.utilities.train_utils:Epoch 822 / 2000 (2.1s):  0.013 ---- 0.017 ---- 0.28 ----  98\n",
      "INFO:pykeen.utilities.train_utils:Epoch 823 / 2000 (2.1s):  0.013 ---- 0.018 ---- 0.28 ----  99\n",
      "INFO:pykeen.utilities.train_utils:Epoch 824 / 2000 (2.1s):  0.013 ---- 0.018 ---- 0.28 ---- 100\n"
     ]
    },
    {
     "data": {
      "application/vnd.jupyter.widget-view+json": {
       "model_id": "df119f888e3a436ab737044ce6474165",
       "version_major": 2,
       "version_minor": 0
      },
      "text/plain": [
       "HBox(children=(IntProgress(value=0, max=200), HTML(value='')))"
      ]
     },
     "metadata": {},
     "output_type": "display_data"
    },
    {
     "name": "stderr",
     "output_type": "stream",
     "text": [
      "DEBUG:pykeen.utilities.evaluation_utils.metrics_computations:Evaluation took 3.88s seconds\n",
      "DEBUG:pykeen.utilities.train_utils:\n",
      "current metric: 0.2917858328817929  ---- rank/hits@10: (0.21951526704400454, 0.435)\n",
      "INFO:pykeen.utilities.train_utils:Epoch 825 / 2000 (2.1s):  0.013 ---- 0.016 ---- 0.29 ---- 101\n",
      "INFO:pykeen.utilities.train_utils:Epoch 826 / 2000 (2.1s):  0.013 ---- 0.018 ---- 0.29 ---- 102\n",
      "INFO:pykeen.utilities.train_utils:Epoch 827 / 2000 (2.1s):  0.014 ---- 0.018 ---- 0.29 ---- 103\n",
      "INFO:pykeen.utilities.train_utils:Epoch 828 / 2000 (2.0s):  0.013 ---- 0.018 ---- 0.29 ---- 104\n",
      "INFO:pykeen.utilities.train_utils:Epoch 829 / 2000 (2.1s):  0.013 ---- 0.016 ---- 0.29 ---- 105\n"
     ]
    },
    {
     "data": {
      "application/vnd.jupyter.widget-view+json": {
       "model_id": "410c9bfce11549a28b82cc769746decf",
       "version_major": 2,
       "version_minor": 0
      },
      "text/plain": [
       "HBox(children=(IntProgress(value=0, max=200), HTML(value='')))"
      ]
     },
     "metadata": {},
     "output_type": "display_data"
    },
    {
     "name": "stderr",
     "output_type": "stream",
     "text": [
      "DEBUG:pykeen.utilities.evaluation_utils.metrics_computations:Evaluation took 3.87s seconds\n",
      "DEBUG:pykeen.utilities.train_utils:\n",
      "current metric: 0.2833909875065109  ---- rank/hits@10: (0.2090012585993672, 0.44)\n",
      "INFO:pykeen.utilities.train_utils:Epoch 830 / 2000 (2.1s):  0.013 ---- 0.017 ---- 0.28 ---- 106\n",
      "INFO:pykeen.utilities.train_utils:Epoch 831 / 2000 (2.1s):  0.013 ---- 0.017 ---- 0.28 ---- 107\n",
      "INFO:pykeen.utilities.train_utils:Epoch 832 / 2000 (2.1s):  0.013 ---- 0.017 ---- 0.28 ---- 108\n",
      "INFO:pykeen.utilities.train_utils:Epoch 833 / 2000 (2.1s):  0.013 ---- 0.017 ---- 0.28 ---- 109\n",
      "INFO:pykeen.utilities.train_utils:Epoch 834 / 2000 (2.0s):  0.014 ---- 0.016 ---- 0.28 ---- 110\n"
     ]
    },
    {
     "name": "stdout",
     "output_type": "stream",
     "text": [
      "\n",
      "\n"
     ]
    },
    {
     "data": {
      "application/vnd.jupyter.widget-view+json": {
       "model_id": "6af16494630e447cbcfbcec8ef722ddb",
       "version_major": 2,
       "version_minor": 0
      },
      "text/plain": [
       "HBox(children=(IntProgress(value=0, max=200), HTML(value='')))"
      ]
     },
     "metadata": {},
     "output_type": "display_data"
    },
    {
     "name": "stderr",
     "output_type": "stream",
     "text": [
      "DEBUG:pykeen.utilities.evaluation_utils.metrics_computations:Evaluation took 3.91s seconds\n",
      "DEBUG:pykeen.utilities.train_utils:\n",
      "current metric: 0.2942490405420681  ---- rank/hits@10: (0.22166808877477187, 0.4375)\n",
      "INFO:pykeen.utilities.train_utils:Epoch 835 / 2000 (2.1s):  0.014 ---- 0.017 ---- 0.29 ---- 111\n",
      "INFO:pykeen.utilities.train_utils:Epoch 836 / 2000 (2.0s):  0.013 ---- 0.017 ---- 0.29 ---- 112\n",
      "INFO:pykeen.utilities.train_utils:Epoch 837 / 2000 (2.1s):  0.013 ---- 0.017 ---- 0.29 ---- 113\n",
      "INFO:pykeen.utilities.train_utils:Epoch 838 / 2000 (2.0s):  0.014 ---- 0.018 ---- 0.29 ---- 114\n",
      "INFO:pykeen.utilities.train_utils:Epoch 839 / 2000 (2.1s):  0.013 ---- 0.017 ---- 0.29 ---- 115\n"
     ]
    },
    {
     "data": {
      "application/vnd.jupyter.widget-view+json": {
       "model_id": "06667e76800b40eca5f2226a89cac0b5",
       "version_major": 2,
       "version_minor": 0
      },
      "text/plain": [
       "HBox(children=(IntProgress(value=0, max=200), HTML(value='')))"
      ]
     },
     "metadata": {},
     "output_type": "display_data"
    },
    {
     "name": "stderr",
     "output_type": "stream",
     "text": [
      "DEBUG:pykeen.utilities.evaluation_utils.metrics_computations:Evaluation took 3.87s seconds\n",
      "DEBUG:pykeen.utilities.train_utils:\n",
      "current metric: 0.2873788511503924  ---- rank/hits@10: (0.21396140629798002, 0.4375)\n",
      "INFO:pykeen.utilities.train_utils:Epoch 840 / 2000 (2.0s):  0.013 ---- 0.018 ---- 0.29 ---- 116\n",
      "INFO:pykeen.utilities.train_utils:Epoch 841 / 2000 (2.1s):  0.014 ---- 0.017 ---- 0.29 ---- 117\n",
      "INFO:pykeen.utilities.train_utils:Epoch 842 / 2000 (2.0s):  0.013 ---- 0.018 ---- 0.29 ---- 118\n",
      "INFO:pykeen.utilities.train_utils:Epoch 843 / 2000 (2.1s):  0.013 ---- 0.017 ---- 0.29 ---- 119\n",
      "INFO:pykeen.utilities.train_utils:Epoch 844 / 2000 (2.1s):  0.013 ---- 0.018 ---- 0.29 ---- 120\n"
     ]
    },
    {
     "data": {
      "application/vnd.jupyter.widget-view+json": {
       "model_id": "32b2b23ec6f64e339e01e458be82dc2f",
       "version_major": 2,
       "version_minor": 0
      },
      "text/plain": [
       "HBox(children=(IntProgress(value=0, max=200), HTML(value='')))"
      ]
     },
     "metadata": {},
     "output_type": "display_data"
    },
    {
     "name": "stderr",
     "output_type": "stream",
     "text": [
      "DEBUG:pykeen.utilities.evaluation_utils.metrics_computations:Evaluation took 3.89s seconds\n",
      "DEBUG:pykeen.utilities.train_utils:\n",
      "current metric: 0.2896894992394165  ---- rank/hits@10: (0.2177792831095701, 0.4325)\n",
      "INFO:pykeen.utilities.train_utils:Epoch 845 / 2000 (2.1s):  0.013 ---- 0.017 ---- 0.29 ---- 121\n",
      "INFO:pykeen.utilities.train_utils:Epoch 846 / 2000 (2.1s):  0.013 ---- 0.018 ---- 0.29 ---- 122\n",
      "INFO:pykeen.utilities.train_utils:Epoch 847 / 2000 (2.1s):  0.013 ---- 0.017 ---- 0.29 ---- 123\n",
      "INFO:pykeen.utilities.train_utils:Epoch 848 / 2000 (2.0s):  0.013 ---- 0.018 ---- 0.29 ---- 124\n",
      "INFO:pykeen.utilities.train_utils:Epoch 849 / 2000 (2.1s):  0.014 ---- 0.017 ---- 0.29 ---- 125\n"
     ]
    },
    {
     "name": "stdout",
     "output_type": "stream",
     "text": [
      "\n",
      "\n"
     ]
    },
    {
     "data": {
      "application/vnd.jupyter.widget-view+json": {
       "model_id": "815219544f1544a3990223a5368d8aba",
       "version_major": 2,
       "version_minor": 0
      },
      "text/plain": [
       "HBox(children=(IntProgress(value=0, max=200), HTML(value='')))"
      ]
     },
     "metadata": {},
     "output_type": "display_data"
    },
    {
     "name": "stderr",
     "output_type": "stream",
     "text": [
      "DEBUG:pykeen.utilities.evaluation_utils.metrics_computations:Evaluation took 3.86s seconds\n",
      "DEBUG:pykeen.utilities.train_utils:\n",
      "current metric: 0.2845626733995849  ---- rank/hits@10: (0.21085416521535827, 0.4375)\n",
      "INFO:pykeen.utilities.train_utils:Epoch 850 / 2000 (2.1s):  0.013 ---- 0.018 ---- 0.28 ---- 126\n",
      "INFO:pykeen.utilities.train_utils:Epoch 851 / 2000 (2.1s):  0.013 ---- 0.017 ---- 0.28 ---- 127\n",
      "INFO:pykeen.utilities.train_utils:Epoch 852 / 2000 (2.1s):  0.013 ---- 0.017 ---- 0.28 ---- 128\n",
      "INFO:pykeen.utilities.train_utils:Epoch 853 / 2000 (2.1s):  0.013 ---- 0.017 ---- 0.28 ---- 129\n",
      "INFO:pykeen.utilities.train_utils:Epoch 854 / 2000 (2.0s):  0.013 ---- 0.017 ---- 0.28 ---- 130\n"
     ]
    },
    {
     "data": {
      "application/vnd.jupyter.widget-view+json": {
       "model_id": "ee9fdb21dbdd450e8d14d4f035639af4",
       "version_major": 2,
       "version_minor": 0
      },
      "text/plain": [
       "HBox(children=(IntProgress(value=0, max=200), HTML(value='')))"
      ]
     },
     "metadata": {},
     "output_type": "display_data"
    },
    {
     "name": "stderr",
     "output_type": "stream",
     "text": [
      "DEBUG:pykeen.utilities.evaluation_utils.metrics_computations:Evaluation took 3.88s seconds\n",
      "DEBUG:pykeen.utilities.train_utils:\n",
      "current metric: 0.28536669384885727  ---- rank/hits@10: (0.21479576844745946, 0.425)\n",
      "INFO:pykeen.utilities.train_utils:Epoch 855 / 2000 (2.1s):  0.013 ---- 0.017 ---- 0.29 ---- 131\n",
      "INFO:pykeen.utilities.train_utils:Epoch 856 / 2000 (2.1s):  0.014 ---- 0.017 ---- 0.29 ---- 132\n",
      "INFO:pykeen.utilities.train_utils:Epoch 857 / 2000 (2.1s):  0.013 ---- 0.017 ---- 0.29 ---- 133\n",
      "INFO:pykeen.utilities.train_utils:Epoch 858 / 2000 (2.0s):  0.013 ---- 0.016 ---- 0.29 ---- 134\n",
      "INFO:pykeen.utilities.train_utils:Epoch 859 / 2000 (2.1s):  0.013 ---- 0.017 ---- 0.29 ---- 135\n"
     ]
    },
    {
     "data": {
      "application/vnd.jupyter.widget-view+json": {
       "model_id": "9f1e38426d584b98b7c5931a91fefc2a",
       "version_major": 2,
       "version_minor": 0
      },
      "text/plain": [
       "HBox(children=(IntProgress(value=0, max=200), HTML(value='')))"
      ]
     },
     "metadata": {},
     "output_type": "display_data"
    },
    {
     "name": "stderr",
     "output_type": "stream",
     "text": [
      "DEBUG:pykeen.utilities.evaluation_utils.metrics_computations:Evaluation took 3.89s seconds\n",
      "DEBUG:pykeen.utilities.train_utils:\n",
      "current metric: 0.28578415075556224  ---- rank/hits@10: (0.212791395063052, 0.435)\n",
      "INFO:pykeen.utilities.train_utils:Epoch 860 / 2000 (2.1s):  0.013 ---- 0.017 ---- 0.29 ---- 136\n",
      "INFO:pykeen.utilities.train_utils:Epoch 861 / 2000 (2.1s):  0.013 ---- 0.017 ---- 0.29 ---- 137\n",
      "INFO:pykeen.utilities.train_utils:Epoch 862 / 2000 (2.1s):  0.013 ---- 0.017 ---- 0.29 ---- 138\n",
      "INFO:pykeen.utilities.train_utils:Epoch 863 / 2000 (2.1s):  0.013 ---- 0.017 ---- 0.29 ---- 139\n",
      "INFO:pykeen.utilities.train_utils:Epoch 864 / 2000 (2.0s):  0.013 ---- 0.018 ---- 0.29 ---- 140\n"
     ]
    },
    {
     "name": "stdout",
     "output_type": "stream",
     "text": [
      "\n",
      "\n",
      "\n",
      "\n",
      "\n",
      "\n",
      "\n",
      "\n",
      "\n",
      "\n",
      "\n",
      "\n",
      "\n"
     ]
    },
    {
     "data": {
      "application/vnd.jupyter.widget-view+json": {
       "model_id": "30a6af22297547a29b9b8483bba89410",
       "version_major": 2,
       "version_minor": 0
      },
      "text/plain": [
       "HBox(children=(IntProgress(value=0, max=200), HTML(value='')))"
      ]
     },
     "metadata": {},
     "output_type": "display_data"
    },
    {
     "name": "stderr",
     "output_type": "stream",
     "text": [
      "DEBUG:pykeen.utilities.evaluation_utils.metrics_computations:Evaluation took 3.91s seconds\n",
      "DEBUG:pykeen.utilities.train_utils:\n",
      "current metric: 0.2878555408471175  ---- rank/hits@10: (0.21389449147919998, 0.44)\n",
      "INFO:pykeen.utilities.train_utils:Epoch 865 / 2000 (2.1s):  0.013 ---- 0.018 ---- 0.29 ---- 141\n",
      "INFO:pykeen.utilities.train_utils:Epoch 866 / 2000 (2.1s):  0.013 ---- 0.017 ---- 0.29 ---- 142\n",
      "INFO:pykeen.utilities.train_utils:Epoch 867 / 2000 (2.1s):  0.013 ---- 0.018 ---- 0.29 ---- 143\n",
      "INFO:pykeen.utilities.train_utils:Epoch 868 / 2000 (2.1s):  0.013 ---- 0.017 ---- 0.29 ---- 144\n",
      "INFO:pykeen.utilities.train_utils:Epoch 869 / 2000 (2.1s):  0.013 ---- 0.017 ---- 0.29 ---- 145\n"
     ]
    },
    {
     "data": {
      "application/vnd.jupyter.widget-view+json": {
       "model_id": "c24502ddbcf54db3a36fc571e9674625",
       "version_major": 2,
       "version_minor": 0
      },
      "text/plain": [
       "HBox(children=(IntProgress(value=0, max=200), HTML(value='')))"
      ]
     },
     "metadata": {},
     "output_type": "display_data"
    },
    {
     "name": "stderr",
     "output_type": "stream",
     "text": [
      "DEBUG:pykeen.utilities.evaluation_utils.metrics_computations:Evaluation took 3.89s seconds\n",
      "DEBUG:pykeen.utilities.train_utils:\n",
      "current metric: 0.2889767984750036  ---- rank/hits@10: (0.21513502515793198, 0.44)\n",
      "INFO:pykeen.utilities.train_utils:Epoch 870 / 2000 (2.0s):  0.013 ---- 0.016 ---- 0.29 ---- 146\n",
      "INFO:pykeen.utilities.train_utils:Epoch 871 / 2000 (2.1s):  0.013 ---- 0.017 ---- 0.29 ---- 147\n",
      "INFO:pykeen.utilities.train_utils:Epoch 872 / 2000 (2.0s):  0.013 ---- 0.018 ---- 0.29 ---- 148\n",
      "INFO:pykeen.utilities.train_utils:Epoch 873 / 2000 (2.1s):  0.013 ---- 0.018 ---- 0.29 ---- 149\n",
      "INFO:pykeen.utilities.train_utils:Epoch 874 / 2000 (2.1s):  0.013 ---- 0.017 ---- 0.29 ---- 150\n"
     ]
    },
    {
     "data": {
      "application/vnd.jupyter.widget-view+json": {
       "model_id": "db138c1f65484dc78e74985dfa7b88f1",
       "version_major": 2,
       "version_minor": 0
      },
      "text/plain": [
       "HBox(children=(IntProgress(value=0, max=200), HTML(value='')))"
      ]
     },
     "metadata": {},
     "output_type": "display_data"
    },
    {
     "name": "stderr",
     "output_type": "stream",
     "text": [
      "DEBUG:pykeen.utilities.evaluation_utils.metrics_computations:Evaluation took 3.87s seconds\n",
      "DEBUG:pykeen.utilities.train_utils:\n",
      "current metric: 0.2860655921137776  ---- rank/hits@10: (0.21370878445615568, 0.4325)\n",
      "INFO:pykeen.utilities.train_utils:Epoch 875 / 2000 (2.1s):  0.013 ---- 0.016 ---- 0.29 ---- 151\n",
      "INFO:pykeen.utilities.train_utils:Epoch 876 / 2000 (2.0s):  0.013 ---- 0.017 ---- 0.29 ---- 152\n",
      "INFO:pykeen.utilities.train_utils:Epoch 877 / 2000 (2.1s):  0.013 ---- 0.017 ---- 0.29 ---- 153\n",
      "INFO:pykeen.utilities.train_utils:Epoch 878 / 2000 (2.1s):  0.013 ---- 0.017 ---- 0.29 ---- 154\n",
      "INFO:pykeen.utilities.train_utils:Epoch 879 / 2000 (2.1s):  0.013 ---- 0.017 ---- 0.29 ---- 155\n"
     ]
    },
    {
     "data": {
      "application/vnd.jupyter.widget-view+json": {
       "model_id": "a93e24ea685741758630299c3832ce45",
       "version_major": 2,
       "version_minor": 0
      },
      "text/plain": [
       "HBox(children=(IntProgress(value=0, max=200), HTML(value='')))"
      ]
     },
     "metadata": {},
     "output_type": "display_data"
    },
    {
     "name": "stdout",
     "output_type": "stream",
     "text": [
      "\n",
      "\n"
     ]
    },
    {
     "name": "stderr",
     "output_type": "stream",
     "text": [
      "DEBUG:pykeen.utilities.evaluation_utils.metrics_computations:Evaluation took 3.90s seconds\n",
      "DEBUG:pykeen.utilities.train_utils:\n",
      "current metric: 0.2876168033161564  ---- rank/hits@10: (0.21363096415891356, 0.44)\n",
      "INFO:pykeen.utilities.train_utils:Epoch 880 / 2000 (2.1s):  0.013 ---- 0.017 ---- 0.29 ---- 156\n",
      "INFO:pykeen.utilities.train_utils:Epoch 881 / 2000 (2.1s):  0.013 ---- 0.018 ---- 0.29 ---- 157\n",
      "INFO:pykeen.utilities.train_utils:Epoch 882 / 2000 (2.1s):  0.013 ---- 0.017 ---- 0.29 ---- 158\n",
      "INFO:pykeen.utilities.train_utils:Epoch 883 / 2000 (2.1s):  0.013 ---- 0.016 ---- 0.29 ---- 159\n",
      "INFO:pykeen.utilities.train_utils:Epoch 884 / 2000 (2.1s):  0.013 ---- 0.017 ---- 0.29 ---- 160\n"
     ]
    },
    {
     "data": {
      "application/vnd.jupyter.widget-view+json": {
       "model_id": "19d1617af1274576b31be2978c561f9b",
       "version_major": 2,
       "version_minor": 0
      },
      "text/plain": [
       "HBox(children=(IntProgress(value=0, max=200), HTML(value='')))"
      ]
     },
     "metadata": {},
     "output_type": "display_data"
    },
    {
     "name": "stderr",
     "output_type": "stream",
     "text": [
      "DEBUG:pykeen.utilities.evaluation_utils.metrics_computations:Evaluation took 3.88s seconds\n",
      "DEBUG:pykeen.utilities.train_utils:\n",
      "current metric: 0.28597372746192967  ---- rank/hits@10: (0.2130016701223494, 0.435)\n",
      "INFO:pykeen.utilities.train_utils:Epoch 885 / 2000 (2.1s):  0.013 ---- 0.017 ---- 0.29 ---- 161\n",
      "INFO:pykeen.utilities.train_utils:Epoch 886 / 2000 (2.0s):  0.013 ---- 0.016 ---- 0.29 ---- 162\n",
      "INFO:pykeen.utilities.train_utils:Epoch 887 / 2000 (2.1s):  0.013 ---- 0.016 ---- 0.29 ---- 163\n",
      "INFO:pykeen.utilities.train_utils:Epoch 888 / 2000 (2.1s):  0.013 ---- 0.018 ---- 0.29 ---- 164\n",
      "INFO:pykeen.utilities.train_utils:Epoch 889 / 2000 (2.1s):  0.013 ---- 0.018 ---- 0.29 ---- 165\n"
     ]
    },
    {
     "data": {
      "application/vnd.jupyter.widget-view+json": {
       "model_id": "d8d5337df4c74878a19535782fc8e9ae",
       "version_major": 2,
       "version_minor": 0
      },
      "text/plain": [
       "HBox(children=(IntProgress(value=0, max=200), HTML(value='')))"
      ]
     },
     "metadata": {},
     "output_type": "display_data"
    },
    {
     "name": "stderr",
     "output_type": "stream",
     "text": [
      "DEBUG:pykeen.utilities.evaluation_utils.metrics_computations:Evaluation took 3.88s seconds\n",
      "DEBUG:pykeen.utilities.train_utils:\n",
      "current metric: 0.28495375226161  ---- rank/hits@10: (0.21247012343183136, 0.4325)\n",
      "INFO:pykeen.utilities.train_utils:Epoch 890 / 2000 (2.1s):  0.013 ---- 0.016 ---- 0.28 ---- 166\n",
      "INFO:pykeen.utilities.train_utils:Epoch 891 / 2000 (2.1s):  0.013 ---- 0.016 ---- 0.28 ---- 167\n",
      "INFO:pykeen.utilities.train_utils:Epoch 892 / 2000 (2.0s):  0.013 ---- 0.017 ---- 0.28 ---- 168\n",
      "INFO:pykeen.utilities.train_utils:Epoch 893 / 2000 (2.1s):  0.013 ---- 0.017 ---- 0.28 ---- 169\n",
      "INFO:pykeen.utilities.train_utils:Epoch 894 / 2000 (2.1s):  0.013 ---- 0.017 ---- 0.28 ---- 170\n"
     ]
    },
    {
     "name": "stdout",
     "output_type": "stream",
     "text": [
      "\n",
      "\n"
     ]
    },
    {
     "data": {
      "application/vnd.jupyter.widget-view+json": {
       "model_id": "30a3f54bd8ca4e3db62a89ea3e627b92",
       "version_major": 2,
       "version_minor": 0
      },
      "text/plain": [
       "HBox(children=(IntProgress(value=0, max=200), HTML(value='')))"
      ]
     },
     "metadata": {},
     "output_type": "display_data"
    },
    {
     "name": "stderr",
     "output_type": "stream",
     "text": [
      "DEBUG:pykeen.utilities.evaluation_utils.metrics_computations:Evaluation took 3.91s seconds\n",
      "DEBUG:pykeen.utilities.train_utils:\n",
      "current metric: 0.28547221568481707  ---- rank/hits@10: (0.21244569916959868, 0.435)\n",
      "INFO:pykeen.utilities.train_utils:Epoch 895 / 2000 (2.1s):  0.013 ---- 0.017 ---- 0.29 ---- 171\n",
      "INFO:pykeen.utilities.train_utils:Epoch 896 / 2000 (2.0s):  0.013 ---- 0.017 ---- 0.29 ---- 172\n",
      "INFO:pykeen.utilities.train_utils:Epoch 897 / 2000 (2.1s):  0.013 ---- 0.017 ---- 0.29 ---- 173\n",
      "INFO:pykeen.utilities.train_utils:Epoch 898 / 2000 (2.0s):  0.013 ---- 0.016 ---- 0.29 ---- 174\n",
      "INFO:pykeen.utilities.train_utils:Epoch 899 / 2000 (2.1s):  0.014 ---- 0.017 ---- 0.29 ---- 175\n"
     ]
    },
    {
     "data": {
      "application/vnd.jupyter.widget-view+json": {
       "model_id": "65e32df126164122b74aba864217a77d",
       "version_major": 2,
       "version_minor": 0
      },
      "text/plain": [
       "HBox(children=(IntProgress(value=0, max=200), HTML(value='')))"
      ]
     },
     "metadata": {},
     "output_type": "display_data"
    },
    {
     "name": "stderr",
     "output_type": "stream",
     "text": [
      "DEBUG:pykeen.utilities.evaluation_utils.metrics_computations:Evaluation took 3.90s seconds\n",
      "DEBUG:pykeen.utilities.train_utils:\n",
      "current metric: 0.2889641743083593  ---- rank/hits@10: (0.21572371639686683, 0.4375)\n",
      "INFO:pykeen.utilities.train_utils:Epoch 900 / 2000 (2.1s):  0.013 ---- 0.016 ---- 0.29 ---- 176\n",
      "INFO:pykeen.utilities.train_utils:Epoch 901 / 2000 (2.1s):  0.013 ---- 0.018 ---- 0.29 ---- 177\n",
      "INFO:pykeen.utilities.train_utils:Epoch 902 / 2000 (2.0s):  0.013 ---- 0.017 ---- 0.29 ---- 178\n",
      "INFO:pykeen.utilities.train_utils:Epoch 903 / 2000 (2.1s):  0.013 ---- 0.018 ---- 0.29 ---- 179\n",
      "INFO:pykeen.utilities.train_utils:Epoch 904 / 2000 (2.1s):  0.013 ---- 0.017 ---- 0.29 ---- 180\n"
     ]
    },
    {
     "data": {
      "application/vnd.jupyter.widget-view+json": {
       "model_id": "2b4c84dc315a478b9af3a1776918e934",
       "version_major": 2,
       "version_minor": 0
      },
      "text/plain": [
       "HBox(children=(IntProgress(value=0, max=200), HTML(value='')))"
      ]
     },
     "metadata": {},
     "output_type": "display_data"
    },
    {
     "name": "stderr",
     "output_type": "stream",
     "text": [
      "DEBUG:pykeen.utilities.evaluation_utils.metrics_computations:Evaluation took 3.90s seconds\n",
      "DEBUG:pykeen.utilities.train_utils:\n",
      "current metric: 0.2880943196839382  ---- rank/hits@10: (0.21475557161731154, 0.4375)\n",
      "INFO:pykeen.utilities.train_utils:Epoch 905 / 2000 (2.1s):  0.013 ---- 0.017 ---- 0.29 ---- 181\n",
      "INFO:pykeen.utilities.train_utils:Epoch 906 / 2000 (2.0s):  0.013 ---- 0.018 ---- 0.29 ---- 182\n",
      "INFO:pykeen.utilities.train_utils:Epoch 907 / 2000 (2.1s):  0.013 ---- 0.016 ---- 0.29 ---- 183\n",
      "INFO:pykeen.utilities.train_utils:Epoch 908 / 2000 (2.0s):  0.013 ---- 0.017 ---- 0.29 ---- 184\n",
      "INFO:pykeen.utilities.train_utils:Epoch 909 / 2000 (2.1s):  0.013 ---- 0.018 ---- 0.29 ---- 185\n"
     ]
    },
    {
     "name": "stdout",
     "output_type": "stream",
     "text": [
      "\n",
      "\n"
     ]
    },
    {
     "data": {
      "application/vnd.jupyter.widget-view+json": {
       "model_id": "68dd42e1a2c741b6b624db86f76221da",
       "version_major": 2,
       "version_minor": 0
      },
      "text/plain": [
       "HBox(children=(IntProgress(value=0, max=200), HTML(value='')))"
      ]
     },
     "metadata": {},
     "output_type": "display_data"
    },
    {
     "name": "stderr",
     "output_type": "stream",
     "text": [
      "DEBUG:pykeen.utilities.evaluation_utils.metrics_computations:Evaluation took 3.85s seconds\n",
      "DEBUG:pykeen.utilities.train_utils:\n",
      "current metric: 0.2848652994105868  ---- rank/hits@10: (0.21237178515593713, 0.4325)\n",
      "INFO:pykeen.utilities.train_utils:Epoch 910 / 2000 (2.1s):  0.013 ---- 0.017 ---- 0.28 ---- 186\n",
      "INFO:pykeen.utilities.train_utils:Epoch 911 / 2000 (2.1s):  0.013 ---- 0.017 ---- 0.28 ---- 187\n",
      "INFO:pykeen.utilities.train_utils:Epoch 912 / 2000 (2.1s):  0.013 ---- 0.017 ---- 0.28 ---- 188\n",
      "INFO:pykeen.utilities.train_utils:Epoch 913 / 2000 (2.1s):  0.013 ---- 0.017 ---- 0.28 ---- 189\n",
      "INFO:pykeen.utilities.train_utils:Epoch 914 / 2000 (2.0s):  0.014 ---- 0.017 ---- 0.28 ---- 190\n"
     ]
    },
    {
     "data": {
      "application/vnd.jupyter.widget-view+json": {
       "model_id": "0b14eea87b534848a279869f029dc232",
       "version_major": 2,
       "version_minor": 0
      },
      "text/plain": [
       "HBox(children=(IntProgress(value=0, max=200), HTML(value='')))"
      ]
     },
     "metadata": {},
     "output_type": "display_data"
    },
    {
     "name": "stderr",
     "output_type": "stream",
     "text": [
      "DEBUG:pykeen.utilities.evaluation_utils.metrics_computations:Evaluation took 3.90s seconds\n",
      "DEBUG:pykeen.utilities.train_utils:\n",
      "current metric: 0.28799831839417994  ---- rank/hits@10: (0.21587332702190587, 0.4325)\n",
      "INFO:pykeen.utilities.train_utils:Epoch 915 / 2000 (2.1s):  0.013 ---- 0.018 ---- 0.29 ---- 191\n",
      "INFO:pykeen.utilities.train_utils:Epoch 916 / 2000 (2.1s):  0.013 ---- 0.016 ---- 0.29 ---- 192\n",
      "INFO:pykeen.utilities.train_utils:Epoch 917 / 2000 (2.1s):  0.013 ---- 0.017 ---- 0.29 ---- 193\n",
      "INFO:pykeen.utilities.train_utils:Epoch 918 / 2000 (2.1s):  0.013 ---- 0.017 ---- 0.29 ---- 194\n",
      "INFO:pykeen.utilities.train_utils:Epoch 919 / 2000 (2.1s):  0.013 ---- 0.017 ---- 0.29 ---- 195\n"
     ]
    },
    {
     "data": {
      "application/vnd.jupyter.widget-view+json": {
       "model_id": "43c0bd5d0a764668b56537ad97b60511",
       "version_major": 2,
       "version_minor": 0
      },
      "text/plain": [
       "HBox(children=(IntProgress(value=0, max=200), HTML(value='')))"
      ]
     },
     "metadata": {},
     "output_type": "display_data"
    },
    {
     "name": "stderr",
     "output_type": "stream",
     "text": [
      "DEBUG:pykeen.utilities.evaluation_utils.metrics_computations:Evaluation took 3.87s seconds\n",
      "DEBUG:pykeen.utilities.train_utils:\n",
      "current metric: 0.28461701388777183  ---- rank/hits@10: (0.2120959115825256, 0.4325)\n",
      "INFO:pykeen.utilities.train_utils:Epoch 920 / 2000 (2.1s):  0.013 ---- 0.018 ---- 0.28 ---- 196\n",
      "INFO:pykeen.utilities.train_utils:Epoch 921 / 2000 (2.1s):  0.013 ---- 0.017 ---- 0.28 ---- 197\n",
      "INFO:pykeen.utilities.train_utils:Epoch 922 / 2000 (2.0s):  0.013 ---- 0.017 ---- 0.28 ---- 198\n",
      "INFO:pykeen.utilities.train_utils:Epoch 923 / 2000 (2.1s):  0.013 ---- 0.017 ---- 0.28 ---- 199\n",
      "INFO:pykeen.utilities.train_utils:Epoch 924 / 2000 (2.1s):  0.013 ---- 0.017 ---- 0.28 ---- 200\n"
     ]
    },
    {
     "data": {
      "application/vnd.jupyter.widget-view+json": {
       "model_id": "f6ee8c821b6b42999d7317c9b402e92b",
       "version_major": 2,
       "version_minor": 0
      },
      "text/plain": [
       "HBox(children=(IntProgress(value=0, max=200), HTML(value='')))"
      ]
     },
     "metadata": {},
     "output_type": "display_data"
    },
    {
     "name": "stdout",
     "output_type": "stream",
     "text": [
      "\n",
      "\n"
     ]
    },
    {
     "name": "stderr",
     "output_type": "stream",
     "text": [
      "DEBUG:pykeen.utilities.evaluation_utils.metrics_computations:Evaluation took 3.91s seconds\n",
      "DEBUG:pykeen.utilities.train_utils:\n",
      "current metric: 0.28801596375654037  ---- rank/hits@10: (0.2165215400567545, 0.43)\n",
      "INFO:pykeen.utilities.train_utils:Epoch 925 / 2000 (2.1s):  0.013 ---- 0.018 ---- 0.29 ---- 201\n",
      "INFO:pykeen.utilities.train_utils:Epoch 926 / 2000 (2.1s):  0.013 ---- 0.017 ---- 0.29 ---- 202\n",
      "INFO:pykeen.utilities.train_utils:Epoch 927 / 2000 (2.1s):  0.013 ---- 0.018 ---- 0.29 ---- 203\n",
      "INFO:pykeen.utilities.train_utils:Epoch 928 / 2000 (2.0s):  0.013 ---- 0.017 ---- 0.29 ---- 204\n",
      "INFO:pykeen.utilities.train_utils:Epoch 929 / 2000 (2.1s):  0.013 ---- 0.018 ---- 0.29 ---- 205\n"
     ]
    },
    {
     "data": {
      "application/vnd.jupyter.widget-view+json": {
       "model_id": "0ab0d1aadb7d47e8aa636fd3449e672b",
       "version_major": 2,
       "version_minor": 0
      },
      "text/plain": [
       "HBox(children=(IntProgress(value=0, max=200), HTML(value='')))"
      ]
     },
     "metadata": {},
     "output_type": "display_data"
    },
    {
     "name": "stderr",
     "output_type": "stream",
     "text": [
      "DEBUG:pykeen.utilities.evaluation_utils.metrics_computations:Evaluation took 3.88s seconds\n",
      "DEBUG:pykeen.utilities.train_utils:\n",
      "current metric: 0.2845453219817059  ---- rank/hits@10: (0.21323889492808795, 0.4275)\n",
      "INFO:pykeen.utilities.train_utils:Epoch 930 / 2000 (2.1s):  0.013 ---- 0.017 ---- 0.28 ---- 206\n",
      "INFO:pykeen.utilities.train_utils:Epoch 931 / 2000 (2.1s):  0.013 ---- 0.017 ---- 0.28 ---- 207\n",
      "INFO:pykeen.utilities.train_utils:Epoch 932 / 2000 (2.0s):  0.013 ---- 0.018 ---- 0.28 ---- 208\n",
      "INFO:pykeen.utilities.train_utils:Epoch 933 / 2000 (2.1s):  0.013 ---- 0.017 ---- 0.28 ---- 209\n",
      "INFO:pykeen.utilities.train_utils:Epoch 934 / 2000 (2.0s):  0.013 ---- 0.017 ---- 0.28 ---- 210\n"
     ]
    },
    {
     "data": {
      "application/vnd.jupyter.widget-view+json": {
       "model_id": "bf06b9353a024644bcdbc46aebd38616",
       "version_major": 2,
       "version_minor": 0
      },
      "text/plain": [
       "HBox(children=(IntProgress(value=0, max=200), HTML(value='')))"
      ]
     },
     "metadata": {},
     "output_type": "display_data"
    },
    {
     "name": "stderr",
     "output_type": "stream",
     "text": [
      "DEBUG:pykeen.utilities.evaluation_utils.metrics_computations:Evaluation took 3.88s seconds\n",
      "DEBUG:pykeen.utilities.train_utils:\n",
      "current metric: 0.28954817820301365  ---- rank/hits@10: (0.21956923137785136, 0.425)\n",
      "INFO:pykeen.utilities.train_utils:Epoch 935 / 2000 (2.1s):  0.013 ---- 0.017 ---- 0.29 ---- 211\n",
      "INFO:pykeen.utilities.train_utils:Epoch 936 / 2000 (2.1s):  0.013 ---- 0.017 ---- 0.29 ---- 212\n",
      "INFO:pykeen.utilities.train_utils:Epoch 937 / 2000 (2.1s):  0.013 ---- 0.017 ---- 0.29 ---- 213\n",
      "INFO:pykeen.utilities.train_utils:Epoch 938 / 2000 (2.0s):  0.013 ---- 0.017 ---- 0.29 ---- 214\n",
      "INFO:pykeen.utilities.train_utils:Epoch 939 / 2000 (2.1s):  0.013 ---- 0.018 ---- 0.29 ---- 215\n"
     ]
    },
    {
     "name": "stdout",
     "output_type": "stream",
     "text": [
      "\n",
      "\n"
     ]
    },
    {
     "data": {
      "application/vnd.jupyter.widget-view+json": {
       "model_id": "fcd65cc1035e4ba5ab1e6bf999185c10",
       "version_major": 2,
       "version_minor": 0
      },
      "text/plain": [
       "HBox(children=(IntProgress(value=0, max=200), HTML(value='')))"
      ]
     },
     "metadata": {},
     "output_type": "display_data"
    },
    {
     "name": "stderr",
     "output_type": "stream",
     "text": [
      "DEBUG:pykeen.utilities.evaluation_utils.metrics_computations:Evaluation took 3.87s seconds\n",
      "DEBUG:pykeen.utilities.train_utils:\n",
      "current metric: 0.28391448004742187  ---- rank/hits@10: (0.2125311113304912, 0.4275)\n",
      "INFO:pykeen.utilities.train_utils:Epoch 940 / 2000 (2.1s):  0.013 ---- 0.017 ---- 0.28 ---- 216\n",
      "INFO:pykeen.utilities.train_utils:Epoch 941 / 2000 (2.1s):  0.013 ---- 0.016 ---- 0.28 ---- 217\n",
      "INFO:pykeen.utilities.train_utils:Epoch 942 / 2000 (2.1s):  0.013 ---- 0.017 ---- 0.28 ---- 218\n",
      "INFO:pykeen.utilities.train_utils:Epoch 943 / 2000 (2.1s):  0.013 ---- 0.017 ---- 0.28 ---- 219\n",
      "INFO:pykeen.utilities.train_utils:Epoch 944 / 2000 (2.1s):  0.013 ---- 0.017 ---- 0.28 ---- 220\n"
     ]
    },
    {
     "data": {
      "application/vnd.jupyter.widget-view+json": {
       "model_id": "c8d9c6f72aff4a758344afbdab886f1f",
       "version_major": 2,
       "version_minor": 0
      },
      "text/plain": [
       "HBox(children=(IntProgress(value=0, max=200), HTML(value='')))"
      ]
     },
     "metadata": {},
     "output_type": "display_data"
    },
    {
     "name": "stderr",
     "output_type": "stream",
     "text": [
      "DEBUG:pykeen.utilities.evaluation_utils.metrics_computations:Evaluation took 3.86s seconds\n",
      "DEBUG:pykeen.utilities.train_utils:\n",
      "current metric: 0.2895597665827798  ---- rank/hits@10: (0.2163882675786046, 0.4375)\n",
      "INFO:pykeen.utilities.train_utils:Epoch 945 / 2000 (2.1s):  0.013 ---- 0.018 ---- 0.29 ---- 221\n",
      "INFO:pykeen.utilities.train_utils:Epoch 946 / 2000 (2.1s):  0.013 ---- 0.017 ---- 0.29 ---- 222\n",
      "INFO:pykeen.utilities.train_utils:Epoch 947 / 2000 (2.1s):  0.013 ---- 0.018 ---- 0.29 ---- 223\n",
      "INFO:pykeen.utilities.train_utils:Epoch 948 / 2000 (2.1s):  0.013 ---- 0.016 ---- 0.29 ---- 224\n",
      "INFO:pykeen.utilities.train_utils:Epoch 949 / 2000 (2.1s):  0.013 ---- 0.017 ---- 0.29 ---- 225\n"
     ]
    },
    {
     "data": {
      "application/vnd.jupyter.widget-view+json": {
       "model_id": "91afd2df8c194187babf774ae9373393",
       "version_major": 2,
       "version_minor": 0
      },
      "text/plain": [
       "HBox(children=(IntProgress(value=0, max=200), HTML(value='')))"
      ]
     },
     "metadata": {},
     "output_type": "display_data"
    },
    {
     "name": "stderr",
     "output_type": "stream",
     "text": [
      "DEBUG:pykeen.utilities.evaluation_utils.metrics_computations:Evaluation took 3.90s seconds\n",
      "DEBUG:pykeen.utilities.train_utils:\n",
      "current metric: 0.28293162700627034  ---- rank/hits@10: (0.2114314936031367, 0.4275)\n",
      "INFO:pykeen.utilities.train_utils:Epoch 950 / 2000 (2.1s):  0.013 ---- 0.018 ---- 0.28 ---- 226\n",
      "INFO:pykeen.utilities.train_utils:Epoch 951 / 2000 (2.1s):  0.013 ---- 0.017 ---- 0.28 ---- 227\n",
      "INFO:pykeen.utilities.train_utils:Epoch 952 / 2000 (2.1s):  0.013 ---- 0.017 ---- 0.28 ---- 228\n",
      "INFO:pykeen.utilities.train_utils:Epoch 953 / 2000 (2.1s):  0.013 ---- 0.016 ---- 0.28 ---- 229\n",
      "INFO:pykeen.utilities.train_utils:Epoch 954 / 2000 (2.0s):  0.013 ---- 0.017 ---- 0.28 ---- 230\n"
     ]
    },
    {
     "data": {
      "application/vnd.jupyter.widget-view+json": {
       "model_id": "5ace878e6f954e66a587a690902a1941",
       "version_major": 2,
       "version_minor": 0
      },
      "text/plain": [
       "HBox(children=(IntProgress(value=0, max=200), HTML(value='')))"
      ]
     },
     "metadata": {},
     "output_type": "display_data"
    },
    {
     "name": "stdout",
     "output_type": "stream",
     "text": [
      "\n",
      "\n"
     ]
    },
    {
     "name": "stderr",
     "output_type": "stream",
     "text": [
      "DEBUG:pykeen.utilities.evaluation_utils.metrics_computations:Evaluation took 3.88s seconds\n",
      "DEBUG:pykeen.utilities.train_utils:\n",
      "current metric: 0.2913704324212668  ---- rank/hits@10: (0.21904538793898556, 0.435)\n",
      "INFO:pykeen.utilities.train_utils:Epoch 955 / 2000 (2.1s):  0.013 ---- 0.018 ---- 0.29 ---- 231\n",
      "INFO:pykeen.utilities.train_utils:Epoch 956 / 2000 (2.1s):  0.013 ---- 0.016 ---- 0.29 ---- 232\n",
      "INFO:pykeen.utilities.train_utils:Epoch 957 / 2000 (2.1s):  0.013 ---- 0.017 ---- 0.29 ---- 233\n",
      "INFO:pykeen.utilities.train_utils:Epoch 958 / 2000 (2.1s):  0.013 ---- 0.017 ---- 0.29 ---- 234\n",
      "INFO:pykeen.utilities.train_utils:Epoch 959 / 2000 (2.0s):  0.013 ---- 0.017 ---- 0.29 ---- 235\n"
     ]
    },
    {
     "data": {
      "application/vnd.jupyter.widget-view+json": {
       "model_id": "18b7582cf61240bb8aba91c7c2fc37fa",
       "version_major": 2,
       "version_minor": 0
      },
      "text/plain": [
       "HBox(children=(IntProgress(value=0, max=200), HTML(value='')))"
      ]
     },
     "metadata": {},
     "output_type": "display_data"
    },
    {
     "name": "stderr",
     "output_type": "stream",
     "text": [
      "DEBUG:pykeen.utilities.evaluation_utils.metrics_computations:Evaluation took 3.91s seconds\n",
      "DEBUG:pykeen.utilities.train_utils:\n",
      "current metric: 0.2868141929988199  ---- rank/hits@10: (0.21333600359508836, 0.4375)\n",
      "INFO:pykeen.utilities.train_utils:Epoch 960 / 2000 (2.0s):  0.013 ---- 0.017 ---- 0.29 ---- 236\n",
      "INFO:pykeen.utilities.train_utils:Epoch 961 / 2000 (2.1s):  0.013 ---- 0.017 ---- 0.29 ---- 237\n",
      "INFO:pykeen.utilities.train_utils:Epoch 962 / 2000 (2.0s):  0.013 ---- 0.017 ---- 0.29 ---- 238\n",
      "INFO:pykeen.utilities.train_utils:Epoch 963 / 2000 (2.1s):  0.013 ---- 0.017 ---- 0.29 ---- 239\n",
      "INFO:pykeen.utilities.train_utils:Epoch 964 / 2000 (2.1s):  0.013 ---- 0.018 ---- 0.29 ---- 240\n"
     ]
    },
    {
     "data": {
      "application/vnd.jupyter.widget-view+json": {
       "model_id": "e096365d1e1f464e9ad7eaf8279161e2",
       "version_major": 2,
       "version_minor": 0
      },
      "text/plain": [
       "HBox(children=(IntProgress(value=0, max=200), HTML(value='')))"
      ]
     },
     "metadata": {},
     "output_type": "display_data"
    },
    {
     "name": "stderr",
     "output_type": "stream",
     "text": [
      "DEBUG:pykeen.utilities.evaluation_utils.metrics_computations:Evaluation took 3.86s seconds\n",
      "DEBUG:pykeen.utilities.train_utils:\n",
      "current metric: 0.2861896354285345  ---- rank/hits@10: (0.2163795244944712, 0.4225)\n",
      "INFO:pykeen.utilities.train_utils:Epoch 965 / 2000 (2.1s):  0.013 ---- 0.017 ---- 0.29 ---- 241\n",
      "INFO:pykeen.utilities.train_utils:Epoch 966 / 2000 (2.0s):  0.013 ---- 0.017 ---- 0.29 ---- 242\n",
      "INFO:pykeen.utilities.train_utils:Epoch 967 / 2000 (2.1s):  0.013 ---- 0.017 ---- 0.29 ---- 243\n",
      "INFO:pykeen.utilities.train_utils:Epoch 968 / 2000 (2.1s):  0.013 ---- 0.017 ---- 0.29 ---- 244\n",
      "INFO:pykeen.utilities.train_utils:Epoch 969 / 2000 (2.1s):  0.013 ---- 0.018 ---- 0.29 ---- 245\n"
     ]
    },
    {
     "name": "stdout",
     "output_type": "stream",
     "text": [
      "\n",
      "\n"
     ]
    },
    {
     "data": {
      "application/vnd.jupyter.widget-view+json": {
       "model_id": "370131c507f44573bbb1fa8022be6856",
       "version_major": 2,
       "version_minor": 0
      },
      "text/plain": [
       "HBox(children=(IntProgress(value=0, max=200), HTML(value='')))"
      ]
     },
     "metadata": {},
     "output_type": "display_data"
    },
    {
     "name": "stderr",
     "output_type": "stream",
     "text": [
      "DEBUG:pykeen.utilities.evaluation_utils.metrics_computations:Evaluation took 3.88s seconds\n",
      "DEBUG:pykeen.utilities.train_utils:\n",
      "current metric: 0.2844626686781896  ---- rank/hits@10: (0.21252999740381248, 0.43)\n",
      "INFO:pykeen.utilities.train_utils:Epoch 970 / 2000 (2.1s):  0.013 ---- 0.018 ---- 0.28 ---- 246\n",
      "INFO:pykeen.utilities.train_utils:Epoch 971 / 2000 (2.1s):  0.013 ---- 0.016 ---- 0.28 ---- 247\n",
      "INFO:pykeen.utilities.train_utils:Epoch 972 / 2000 (2.1s):  0.013 ---- 0.016 ---- 0.28 ---- 248\n",
      "INFO:pykeen.utilities.train_utils:Epoch 973 / 2000 (2.1s):  0.013 ---- 0.016 ---- 0.28 ---- 249\n",
      "INFO:pykeen.utilities.train_utils:Epoch 974 / 2000 (2.1s):  0.013 ---- 0.018 ---- 0.28 ---- 250\n"
     ]
    },
    {
     "data": {
      "application/vnd.jupyter.widget-view+json": {
       "model_id": "6e1e3dea09854589b6e1d2731ed657f1",
       "version_major": 2,
       "version_minor": 0
      },
      "text/plain": [
       "HBox(children=(IntProgress(value=0, max=200), HTML(value='')))"
      ]
     },
     "metadata": {},
     "output_type": "display_data"
    },
    {
     "name": "stderr",
     "output_type": "stream",
     "text": [
      "DEBUG:pykeen.utilities.evaluation_utils.metrics_computations:Evaluation took 3.89s seconds\n",
      "DEBUG:pykeen.utilities.train_utils:\n",
      "current metric: 0.281280173222391  ---- rank/hits@10: (0.20841107212387505, 0.4325)\n",
      "INFO:pykeen.utilities.train_utils:Epoch 975 / 2000 (2.1s):  0.013 ---- 0.018 ---- 0.28 ---- 251\n",
      "INFO:pykeen.utilities.train_utils:Epoch 976 / 2000 (2.1s):  0.013 ---- 0.017 ---- 0.28 ---- 252\n",
      "INFO:pykeen.utilities.train_utils:Epoch 977 / 2000 (2.1s):  0.013 ---- 0.017 ---- 0.28 ---- 253\n",
      "INFO:pykeen.utilities.train_utils:Epoch 978 / 2000 (2.1s):  0.013 ---- 0.016 ---- 0.28 ---- 254\n",
      "INFO:pykeen.utilities.train_utils:Epoch 979 / 2000 (2.1s):  0.013 ---- 0.018 ---- 0.28 ---- 255\n"
     ]
    },
    {
     "data": {
      "application/vnd.jupyter.widget-view+json": {
       "model_id": "c6e662d46a684f9fbc9e133317e58abd",
       "version_major": 2,
       "version_minor": 0
      },
      "text/plain": [
       "HBox(children=(IntProgress(value=0, max=200), HTML(value='')))"
      ]
     },
     "metadata": {},
     "output_type": "display_data"
    },
    {
     "name": "stderr",
     "output_type": "stream",
     "text": [
      "DEBUG:pykeen.utilities.evaluation_utils.metrics_computations:Evaluation took 3.87s seconds\n",
      "DEBUG:pykeen.utilities.train_utils:\n",
      "current metric: 0.2825671665474981  ---- rank/hits@10: (0.21102469432176396, 0.4275)\n",
      "INFO:pykeen.utilities.train_utils:Epoch 980 / 2000 (2.1s):  0.013 ---- 0.017 ---- 0.28 ---- 256\n",
      "INFO:pykeen.utilities.train_utils:Epoch 981 / 2000 (2.1s):  0.013 ---- 0.018 ---- 0.28 ---- 257\n",
      "INFO:pykeen.utilities.train_utils:Epoch 982 / 2000 (2.0s):  0.013 ---- 0.017 ---- 0.28 ---- 258\n",
      "INFO:pykeen.utilities.train_utils:Epoch 983 / 2000 (2.1s):  0.013 ---- 0.017 ---- 0.28 ---- 259\n",
      "INFO:pykeen.utilities.train_utils:Epoch 984 / 2000 (2.1s):  0.013 ---- 0.017 ---- 0.28 ---- 260\n"
     ]
    },
    {
     "data": {
      "application/vnd.jupyter.widget-view+json": {
       "model_id": "bc007f0115ed4411bc15b7d41c49df2c",
       "version_major": 2,
       "version_minor": 0
      },
      "text/plain": [
       "HBox(children=(IntProgress(value=0, max=200), HTML(value='')))"
      ]
     },
     "metadata": {},
     "output_type": "display_data"
    },
    {
     "name": "stdout",
     "output_type": "stream",
     "text": [
      "\n",
      "\n"
     ]
    },
    {
     "name": "stderr",
     "output_type": "stream",
     "text": [
      "DEBUG:pykeen.utilities.evaluation_utils.metrics_computations:Evaluation took 3.88s seconds\n",
      "DEBUG:pykeen.utilities.train_utils:\n",
      "current metric: 0.2817479719196584  ---- rank/hits@10: (0.20834669824259827, 0.435)\n",
      "INFO:pykeen.utilities.train_utils:Epoch 985 / 2000 (2.1s):  0.013 ---- 0.017 ---- 0.28 ---- 261\n",
      "INFO:pykeen.utilities.train_utils:Epoch 986 / 2000 (2.1s):  0.013 ---- 0.018 ---- 0.28 ---- 262\n",
      "INFO:pykeen.utilities.train_utils:Epoch 987 / 2000 (2.1s):  0.013 ---- 0.017 ---- 0.28 ---- 263\n",
      "INFO:pykeen.utilities.train_utils:Epoch 988 / 2000 (2.0s):  0.013 ---- 0.018 ---- 0.28 ---- 264\n",
      "INFO:pykeen.utilities.train_utils:Epoch 989 / 2000 (2.1s):  0.013 ---- 0.016 ---- 0.28 ---- 265\n"
     ]
    },
    {
     "data": {
      "application/vnd.jupyter.widget-view+json": {
       "model_id": "0bd75a2d32bb4a8f8f99971e099f63ea",
       "version_major": 2,
       "version_minor": 0
      },
      "text/plain": [
       "HBox(children=(IntProgress(value=0, max=200), HTML(value='')))"
      ]
     },
     "metadata": {},
     "output_type": "display_data"
    },
    {
     "name": "stderr",
     "output_type": "stream",
     "text": [
      "DEBUG:pykeen.utilities.evaluation_utils.metrics_computations:Evaluation took 3.87s seconds\n",
      "DEBUG:pykeen.utilities.train_utils:\n",
      "current metric: 0.2814802404034054  ---- rank/hits@10: (0.20863081664729852, 0.4325)\n",
      "INFO:pykeen.utilities.train_utils:Epoch 990 / 2000 (2.0s):  0.013 ---- 0.017 ---- 0.28 ---- 266\n",
      "INFO:pykeen.utilities.train_utils:Epoch 991 / 2000 (2.1s):  0.013 ---- 0.017 ---- 0.28 ---- 267\n",
      "INFO:pykeen.utilities.train_utils:Epoch 992 / 2000 (2.0s):  0.013 ---- 0.017 ---- 0.28 ---- 268\n",
      "INFO:pykeen.utilities.train_utils:Epoch 993 / 2000 (2.1s):  0.013 ---- 0.016 ---- 0.28 ---- 269\n",
      "INFO:pykeen.utilities.train_utils:Epoch 994 / 2000 (2.0s):  0.013 ---- 0.017 ---- 0.28 ---- 270\n"
     ]
    },
    {
     "data": {
      "application/vnd.jupyter.widget-view+json": {
       "model_id": "38403301603e42fca7db8cbc8531f8b6",
       "version_major": 2,
       "version_minor": 0
      },
      "text/plain": [
       "HBox(children=(IntProgress(value=0, max=200), HTML(value='')))"
      ]
     },
     "metadata": {},
     "output_type": "display_data"
    },
    {
     "name": "stderr",
     "output_type": "stream",
     "text": [
      "DEBUG:pykeen.utilities.evaluation_utils.metrics_computations:Evaluation took 3.90s seconds\n",
      "DEBUG:pykeen.utilities.train_utils:\n",
      "current metric: 0.2837780122653518  ---- rank/hits@10: (0.21057455693951965, 0.435)\n",
      "INFO:pykeen.utilities.train_utils:Epoch 995 / 2000 (2.1s):  0.013 ---- 0.017 ---- 0.28 ---- 271\n",
      "INFO:pykeen.utilities.train_utils:Epoch 996 / 2000 (2.0s):  0.013 ---- 0.017 ---- 0.28 ---- 272\n",
      "INFO:pykeen.utilities.train_utils:Epoch 997 / 2000 (2.1s):  0.013 ---- 0.018 ---- 0.28 ---- 273\n",
      "INFO:pykeen.utilities.train_utils:Epoch 998 / 2000 (2.0s):  0.013 ---- 0.018 ---- 0.28 ---- 274\n",
      "INFO:pykeen.utilities.train_utils:Epoch 999 / 2000 (2.1s):  0.013 ---- 0.017 ---- 0.28 ---- 275\n"
     ]
    },
    {
     "data": {
      "application/vnd.jupyter.widget-view+json": {
       "model_id": "7d42a686e8e84b6088b308b1be6794e0",
       "version_major": 2,
       "version_minor": 0
      },
      "text/plain": [
       "HBox(children=(IntProgress(value=0, max=200), HTML(value='')))"
      ]
     },
     "metadata": {},
     "output_type": "display_data"
    },
    {
     "name": "stdout",
     "output_type": "stream",
     "text": [
      "\n",
      "\n"
     ]
    },
    {
     "name": "stderr",
     "output_type": "stream",
     "text": [
      "DEBUG:pykeen.utilities.evaluation_utils.metrics_computations:Evaluation took 3.87s seconds\n",
      "DEBUG:pykeen.utilities.train_utils:\n",
      "current metric: 0.2914604790325275  ---- rank/hits@10: (0.21914718663840035, 0.435)\n",
      "INFO:pykeen.utilities.train_utils:Epoch 1000 / 2000 (2.1s):  0.013 ---- 0.017 ---- 0.29 ---- 276\n",
      "INFO:pykeen.utilities.train_utils:Epoch 1001 / 2000 (2.1s):  0.013 ---- 0.016 ---- 0.29 ---- 277\n",
      "INFO:pykeen.utilities.train_utils:Epoch 1002 / 2000 (2.0s):  0.013 ---- 0.018 ---- 0.29 ---- 278\n",
      "INFO:pykeen.utilities.train_utils:Epoch 1003 / 2000 (2.1s):  0.013 ---- 0.017 ---- 0.29 ---- 279\n",
      "INFO:pykeen.utilities.train_utils:Epoch 1004 / 2000 (2.1s):  0.013 ---- 0.018 ---- 0.29 ---- 280\n"
     ]
    },
    {
     "data": {
      "application/vnd.jupyter.widget-view+json": {
       "model_id": "170f4fb5896e4f81b40e5c5c92f86325",
       "version_major": 2,
       "version_minor": 0
      },
      "text/plain": [
       "HBox(children=(IntProgress(value=0, max=200), HTML(value='')))"
      ]
     },
     "metadata": {},
     "output_type": "display_data"
    },
    {
     "name": "stderr",
     "output_type": "stream",
     "text": [
      "DEBUG:pykeen.utilities.evaluation_utils.metrics_computations:Evaluation took 3.86s seconds\n",
      "DEBUG:pykeen.utilities.train_utils:\n",
      "current metric: 0.2825751841183655  ---- rank/hits@10: (0.20925265969059317, 0.435)\n",
      "INFO:pykeen.utilities.train_utils:Epoch 1005 / 2000 (2.1s):  0.013 ---- 0.018 ---- 0.28 ---- 281\n",
      "INFO:pykeen.utilities.train_utils:Epoch 1006 / 2000 (2.0s):  0.013 ---- 0.016 ---- 0.28 ---- 282\n",
      "INFO:pykeen.utilities.train_utils:Epoch 1007 / 2000 (2.1s):  0.013 ---- 0.016 ---- 0.28 ---- 283\n",
      "INFO:pykeen.utilities.train_utils:Epoch 1008 / 2000 (2.1s):  0.013 ---- 0.018 ---- 0.28 ---- 284\n",
      "INFO:pykeen.utilities.train_utils:Epoch 1009 / 2000 (2.1s):  0.013 ---- 0.017 ---- 0.28 ---- 285\n"
     ]
    },
    {
     "data": {
      "application/vnd.jupyter.widget-view+json": {
       "model_id": "37003a117fc8430f8b76c55581f8c97e",
       "version_major": 2,
       "version_minor": 0
      },
      "text/plain": [
       "HBox(children=(IntProgress(value=0, max=200), HTML(value='')))"
      ]
     },
     "metadata": {},
     "output_type": "display_data"
    },
    {
     "name": "stderr",
     "output_type": "stream",
     "text": [
      "DEBUG:pykeen.utilities.evaluation_utils.metrics_computations:Evaluation took 3.92s seconds\n",
      "DEBUG:pykeen.utilities.train_utils:\n",
      "current metric: 0.2810946615149394  ---- rank/hits@10: (0.2093863913425937, 0.4275)\n",
      "INFO:pykeen.utilities.train_utils:Epoch 1010 / 2000 (2.1s):  0.013 ---- 0.018 ---- 0.28 ---- 286\n",
      "INFO:pykeen.utilities.train_utils:Epoch 1011 / 2000 (2.1s):  0.013 ---- 0.016 ---- 0.28 ---- 287\n",
      "INFO:pykeen.utilities.train_utils:Epoch 1012 / 2000 (2.0s):  0.013 ---- 0.018 ---- 0.28 ---- 288\n",
      "INFO:pykeen.utilities.train_utils:Epoch 1013 / 2000 (2.1s):  0.013 ---- 0.018 ---- 0.28 ---- 289\n",
      "INFO:pykeen.utilities.train_utils:Epoch 1014 / 2000 (2.1s):  0.013 ---- 0.017 ---- 0.28 ---- 290\n"
     ]
    },
    {
     "name": "stdout",
     "output_type": "stream",
     "text": [
      "\n",
      "\n"
     ]
    },
    {
     "data": {
      "application/vnd.jupyter.widget-view+json": {
       "model_id": "605cd2e8fca94a9d8493f4c77cfc996f",
       "version_major": 2,
       "version_minor": 0
      },
      "text/plain": [
       "HBox(children=(IntProgress(value=0, max=200), HTML(value='')))"
      ]
     },
     "metadata": {},
     "output_type": "display_data"
    },
    {
     "name": "stderr",
     "output_type": "stream",
     "text": [
      "DEBUG:pykeen.utilities.evaluation_utils.metrics_computations:Evaluation took 3.89s seconds\n",
      "DEBUG:pykeen.utilities.train_utils:\n",
      "current metric: 0.29106274315324304  ---- rank/hits@10: (0.21933518849324188, 0.4325)\n",
      "INFO:pykeen.utilities.train_utils:Epoch 1015 / 2000 (2.1s):  0.013 ---- 0.017 ---- 0.29 ---- 291\n",
      "INFO:pykeen.utilities.train_utils:Epoch 1016 / 2000 (2.1s):  0.013 ---- 0.018 ---- 0.29 ---- 292\n",
      "INFO:pykeen.utilities.train_utils:Epoch 1017 / 2000 (2.1s):  0.013 ---- 0.017 ---- 0.29 ---- 293\n",
      "INFO:pykeen.utilities.train_utils:Epoch 1018 / 2000 (2.1s):  0.013 ---- 0.017 ---- 0.29 ---- 294\n",
      "INFO:pykeen.utilities.train_utils:Epoch 1019 / 2000 (2.1s):  0.013 ---- 0.018 ---- 0.29 ---- 295\n"
     ]
    },
    {
     "data": {
      "application/vnd.jupyter.widget-view+json": {
       "model_id": "28384db339834d72a727b08629ead989",
       "version_major": 2,
       "version_minor": 0
      },
      "text/plain": [
       "HBox(children=(IntProgress(value=0, max=200), HTML(value='')))"
      ]
     },
     "metadata": {},
     "output_type": "display_data"
    },
    {
     "name": "stderr",
     "output_type": "stream",
     "text": [
      "DEBUG:pykeen.utilities.evaluation_utils.metrics_computations:Evaluation took 3.88s seconds\n",
      "DEBUG:pykeen.utilities.train_utils:\n",
      "current metric: 0.28363727919571086  ---- rank/hits@10: (0.2128421226012025, 0.425)\n",
      "INFO:pykeen.utilities.train_utils:Epoch 1020 / 2000 (2.1s):  0.013 ---- 0.018 ---- 0.28 ---- 296\n",
      "INFO:pykeen.utilities.train_utils:Epoch 1021 / 2000 (2.1s):  0.013 ---- 0.018 ---- 0.28 ---- 297\n",
      "INFO:pykeen.utilities.train_utils:Epoch 1022 / 2000 (2.1s):  0.013 ---- 0.018 ---- 0.28 ---- 298\n",
      "INFO:pykeen.utilities.train_utils:Epoch 1023 / 2000 (2.1s):  0.013 ---- 0.018 ---- 0.28 ---- 299\n",
      "INFO:pykeen.utilities.train_utils:Epoch 1024 / 2000 (2.1s):  0.013 ---- 0.018 ---- 0.28 ---- 300\n"
     ]
    },
    {
     "data": {
      "application/vnd.jupyter.widget-view+json": {
       "model_id": "747f1a3de7b14d96a5c818f1c116d93b",
       "version_major": 2,
       "version_minor": 0
      },
      "text/plain": [
       "HBox(children=(IntProgress(value=0, max=200), HTML(value='')))"
      ]
     },
     "metadata": {},
     "output_type": "display_data"
    },
    {
     "name": "stderr",
     "output_type": "stream",
     "text": [
      "DEBUG:pykeen.utilities.evaluation_utils.metrics_computations:Evaluation took 3.89s seconds\n",
      "DEBUG:pykeen.utilities.train_utils:\n",
      "current metric: 0.28567703025269486  ---- rank/hits@10: (0.21267263926602703, 0.435)\n",
      "INFO:pykeen.utilities.train_utils:Epoch 1025 / 2000 (2.1s):  0.013 ---- 0.018 ---- 0.29 ---- 301\n",
      "INFO:pykeen.utilities.train_utils:Epoch 1026 / 2000 (2.1s):  0.013 ---- 0.017 ---- 0.29 ---- 302\n",
      "INFO:pykeen.utilities.train_utils:Epoch 1027 / 2000 (2.1s):  0.013 ---- 0.018 ---- 0.29 ---- 303\n",
      "INFO:pykeen.utilities.train_utils:Epoch 1028 / 2000 (2.1s):  0.013 ---- 0.018 ---- 0.29 ---- 304\n",
      "INFO:pykeen.utilities.train_utils:Epoch 1029 / 2000 (2.1s):  0.013 ---- 0.017 ---- 0.29 ---- 305\n"
     ]
    },
    {
     "data": {
      "application/vnd.jupyter.widget-view+json": {
       "model_id": "4b2b9af30c0848d59cc1e394fe7e7960",
       "version_major": 2,
       "version_minor": 0
      },
      "text/plain": [
       "HBox(children=(IntProgress(value=0, max=200), HTML(value='')))"
      ]
     },
     "metadata": {},
     "output_type": "display_data"
    },
    {
     "name": "stdout",
     "output_type": "stream",
     "text": [
      "\n",
      "\n"
     ]
    },
    {
     "name": "stderr",
     "output_type": "stream",
     "text": [
      "DEBUG:pykeen.utilities.evaluation_utils.metrics_computations:Evaluation took 3.88s seconds\n",
      "DEBUG:pykeen.utilities.train_utils:\n",
      "current metric: 0.2836704035169975  ---- rank/hits@10: (0.20987584974068477, 0.4375)\n",
      "INFO:pykeen.utilities.train_utils:Epoch 1030 / 2000 (2.1s):  0.013 ---- 0.018 ---- 0.28 ---- 306\n",
      "INFO:pykeen.utilities.train_utils:Epoch 1031 / 2000 (2.1s):  0.013 ---- 0.018 ---- 0.28 ---- 307\n",
      "INFO:pykeen.utilities.train_utils:Epoch 1032 / 2000 (2.1s):  0.013 ---- 0.017 ---- 0.28 ---- 308\n",
      "INFO:pykeen.utilities.train_utils:Epoch 1033 / 2000 (2.1s):  0.013 ---- 0.016 ---- 0.28 ---- 309\n",
      "INFO:pykeen.utilities.train_utils:Epoch 1034 / 2000 (2.0s):  0.013 ---- 0.016 ---- 0.28 ---- 310\n"
     ]
    },
    {
     "data": {
      "application/vnd.jupyter.widget-view+json": {
       "model_id": "738137ade9344272b8078eb15a8e5c50",
       "version_major": 2,
       "version_minor": 0
      },
      "text/plain": [
       "HBox(children=(IntProgress(value=0, max=200), HTML(value='')))"
      ]
     },
     "metadata": {},
     "output_type": "display_data"
    },
    {
     "name": "stderr",
     "output_type": "stream",
     "text": [
      "DEBUG:pykeen.utilities.evaluation_utils.metrics_computations:Evaluation took 3.89s seconds\n",
      "DEBUG:pykeen.utilities.train_utils:\n",
      "current metric: 0.28543991703485755  ---- rank/hits@10: (0.2118188922741801, 0.4375)\n",
      "INFO:pykeen.utilities.train_utils:Epoch 1035 / 2000 (2.1s):  0.013 ---- 0.017 ---- 0.29 ---- 311\n",
      "INFO:pykeen.utilities.train_utils:Epoch 1036 / 2000 (2.1s):  0.013 ---- 0.017 ---- 0.29 ---- 312\n",
      "INFO:pykeen.utilities.train_utils:Epoch 1037 / 2000 (2.0s):  0.013 ---- 0.017 ---- 0.29 ---- 313\n",
      "INFO:pykeen.utilities.train_utils:Epoch 1038 / 2000 (2.0s):  0.013 ---- 0.017 ---- 0.29 ---- 314\n",
      "INFO:pykeen.utilities.train_utils:Epoch 1039 / 2000 (2.1s):  0.013 ---- 0.017 ---- 0.29 ---- 315\n"
     ]
    },
    {
     "data": {
      "application/vnd.jupyter.widget-view+json": {
       "model_id": "32f19b9d85ac46dca8894663308bbc8b",
       "version_major": 2,
       "version_minor": 0
      },
      "text/plain": [
       "HBox(children=(IntProgress(value=0, max=200), HTML(value='')))"
      ]
     },
     "metadata": {},
     "output_type": "display_data"
    },
    {
     "name": "stderr",
     "output_type": "stream",
     "text": [
      "DEBUG:pykeen.utilities.evaluation_utils.metrics_computations:Evaluation took 3.90s seconds\n",
      "DEBUG:pykeen.utilities.train_utils:\n",
      "current metric: 0.28714905603484675  ---- rank/hits@10: (0.21492041854752167, 0.4325)\n",
      "INFO:pykeen.utilities.train_utils:Epoch 1040 / 2000 (2.0s):  0.013 ---- 0.017 ---- 0.29 ---- 316\n",
      "INFO:pykeen.utilities.train_utils:Epoch 1041 / 2000 (2.0s):  0.013 ---- 0.017 ---- 0.29 ---- 317\n",
      "INFO:pykeen.utilities.train_utils:Epoch 1042 / 2000 (2.0s):  0.013 ---- 0.017 ---- 0.29 ---- 318\n",
      "INFO:pykeen.utilities.train_utils:Epoch 1043 / 2000 (2.0s):  0.013 ---- 0.018 ---- 0.29 ---- 319\n",
      "INFO:pykeen.utilities.train_utils:Epoch 1044 / 2000 (2.0s):  0.013 ---- 0.017 ---- 0.29 ---- 320\n"
     ]
    },
    {
     "data": {
      "application/vnd.jupyter.widget-view+json": {
       "model_id": "17004056eeea416c9bea3817a513053d",
       "version_major": 2,
       "version_minor": 0
      },
      "text/plain": [
       "HBox(children=(IntProgress(value=0, max=200), HTML(value='')))"
      ]
     },
     "metadata": {},
     "output_type": "display_data"
    },
    {
     "name": "stdout",
     "output_type": "stream",
     "text": [
      "\n",
      "\n",
      "\n",
      "\n",
      "\n",
      "\n",
      "\n",
      "\n",
      "\n",
      "\n",
      "\n",
      "\n",
      "\n"
     ]
    },
    {
     "name": "stderr",
     "output_type": "stream",
     "text": [
      "DEBUG:pykeen.utilities.evaluation_utils.metrics_computations:Evaluation took 3.90s seconds\n",
      "DEBUG:pykeen.utilities.train_utils:\n",
      "current metric: 0.28903797792790126  ---- rank/hits@10: (0.21580599182227794, 0.4375)\n",
      "INFO:pykeen.utilities.train_utils:Epoch 1045 / 2000 (2.1s):  0.013 ---- 0.017 ---- 0.29 ---- 321\n",
      "INFO:pykeen.utilities.train_utils:Epoch 1046 / 2000 (2.1s):  0.013 ---- 0.017 ---- 0.29 ---- 322\n",
      "INFO:pykeen.utilities.train_utils:Epoch 1047 / 2000 (2.1s):  0.013 ---- 0.018 ---- 0.29 ---- 323\n",
      "INFO:pykeen.utilities.train_utils:Epoch 1048 / 2000 (2.1s):  0.013 ---- 0.017 ---- 0.29 ---- 324\n",
      "INFO:pykeen.utilities.train_utils:Epoch 1049 / 2000 (2.1s):  0.013 ---- 0.017 ---- 0.29 ---- 325\n"
     ]
    },
    {
     "data": {
      "application/vnd.jupyter.widget-view+json": {
       "model_id": "24e78f1c4a744595bb7cd527928fb27c",
       "version_major": 2,
       "version_minor": 0
      },
      "text/plain": [
       "HBox(children=(IntProgress(value=0, max=200), HTML(value='')))"
      ]
     },
     "metadata": {},
     "output_type": "display_data"
    },
    {
     "name": "stderr",
     "output_type": "stream",
     "text": [
      "DEBUG:pykeen.utilities.evaluation_utils.metrics_computations:Evaluation took 3.89s seconds\n",
      "DEBUG:pykeen.utilities.train_utils:\n",
      "current metric: 0.29066222993310314  ---- rank/hits@10: (0.2158126832316837, 0.445)\n",
      "INFO:pykeen.utilities.train_utils:Epoch 1050 / 2000 (2.1s):  0.013 ---- 0.017 ---- 0.29 ---- 326\n",
      "INFO:pykeen.utilities.train_utils:Epoch 1051 / 2000 (2.1s):  0.013 ---- 0.017 ---- 0.29 ---- 327\n",
      "INFO:pykeen.utilities.train_utils:Epoch 1052 / 2000 (2.1s):  0.013 ---- 0.017 ---- 0.29 ---- 328\n",
      "INFO:pykeen.utilities.train_utils:Epoch 1053 / 2000 (2.1s):  0.013 ---- 0.017 ---- 0.29 ---- 329\n",
      "INFO:pykeen.utilities.train_utils:Epoch 1054 / 2000 (2.1s):  0.013 ---- 0.017 ---- 0.29 ---- 330\n"
     ]
    },
    {
     "data": {
      "application/vnd.jupyter.widget-view+json": {
       "model_id": "ae9c1c0926114245a767f75183231b58",
       "version_major": 2,
       "version_minor": 0
      },
      "text/plain": [
       "HBox(children=(IntProgress(value=0, max=200), HTML(value='')))"
      ]
     },
     "metadata": {},
     "output_type": "display_data"
    },
    {
     "name": "stderr",
     "output_type": "stream",
     "text": [
      "DEBUG:pykeen.utilities.evaluation_utils.metrics_computations:Evaluation took 3.88s seconds\n",
      "DEBUG:pykeen.utilities.train_utils:\n",
      "current metric: 0.2902025812295429  ---- rank/hits@10: (0.21589643488959095, 0.4425)\n",
      "INFO:pykeen.utilities.train_utils:Epoch 1055 / 2000 (2.1s):  0.013 ---- 0.018 ---- 0.29 ---- 331\n",
      "INFO:pykeen.utilities.train_utils:Epoch 1056 / 2000 (2.0s):  0.013 ---- 0.018 ---- 0.29 ---- 332\n",
      "INFO:pykeen.utilities.train_utils:Epoch 1057 / 2000 (2.1s):  0.013 ---- 0.017 ---- 0.29 ---- 333\n",
      "INFO:pykeen.utilities.train_utils:Epoch 1058 / 2000 (2.1s):  0.013 ---- 0.017 ---- 0.29 ---- 334\n",
      "INFO:pykeen.utilities.train_utils:Epoch 1059 / 2000 (2.1s):  0.013 ---- 0.018 ---- 0.29 ---- 335\n"
     ]
    },
    {
     "name": "stdout",
     "output_type": "stream",
     "text": [
      "\n",
      "\n"
     ]
    },
    {
     "data": {
      "application/vnd.jupyter.widget-view+json": {
       "model_id": "80403a45705b43718212063a44012602",
       "version_major": 2,
       "version_minor": 0
      },
      "text/plain": [
       "HBox(children=(IntProgress(value=0, max=200), HTML(value='')))"
      ]
     },
     "metadata": {},
     "output_type": "display_data"
    },
    {
     "name": "stderr",
     "output_type": "stream",
     "text": [
      "DEBUG:pykeen.utilities.evaluation_utils.metrics_computations:Evaluation took 3.86s seconds\n",
      "DEBUG:pykeen.utilities.train_utils:\n",
      "current metric: 0.2893974794969685  ---- rank/hits@10: (0.21500645190227455, 0.4425)\n",
      "INFO:pykeen.utilities.train_utils:Epoch 1060 / 2000 (2.1s):  0.013 ---- 0.016 ---- 0.29 ---- 336\n",
      "INFO:pykeen.utilities.train_utils:Epoch 1061 / 2000 (2.1s):  0.013 ---- 0.017 ---- 0.29 ---- 337\n",
      "INFO:pykeen.utilities.train_utils:Epoch 1062 / 2000 (2.1s):  0.013 ---- 0.016 ---- 0.29 ---- 338\n",
      "INFO:pykeen.utilities.train_utils:Epoch 1063 / 2000 (2.1s):  0.013 ---- 0.017 ---- 0.29 ---- 339\n",
      "INFO:pykeen.utilities.train_utils:Epoch 1064 / 2000 (2.1s):  0.013 ---- 0.016 ---- 0.29 ---- 340\n"
     ]
    },
    {
     "data": {
      "application/vnd.jupyter.widget-view+json": {
       "model_id": "6923f3c184394af8a4e8624b1ec9002d",
       "version_major": 2,
       "version_minor": 0
      },
      "text/plain": [
       "HBox(children=(IntProgress(value=0, max=200), HTML(value='')))"
      ]
     },
     "metadata": {},
     "output_type": "display_data"
    },
    {
     "name": "stderr",
     "output_type": "stream",
     "text": [
      "DEBUG:pykeen.utilities.evaluation_utils.metrics_computations:Evaluation took 3.89s seconds\n",
      "DEBUG:pykeen.utilities.train_utils:\n",
      "current metric: 0.28698437229183604  ---- rank/hits@10: (0.2147359605281932, 0.4325)\n",
      "INFO:pykeen.utilities.train_utils:Epoch 1065 / 2000 (2.1s):  0.013 ---- 0.017 ---- 0.29 ---- 341\n",
      "INFO:pykeen.utilities.train_utils:Epoch 1066 / 2000 (2.1s):  0.013 ---- 0.017 ---- 0.29 ---- 342\n",
      "INFO:pykeen.utilities.train_utils:Epoch 1067 / 2000 (2.1s):  0.013 ---- 0.017 ---- 0.29 ---- 343\n",
      "INFO:pykeen.utilities.train_utils:Epoch 1068 / 2000 (2.1s):  0.013 ---- 0.017 ---- 0.29 ---- 344\n",
      "INFO:pykeen.utilities.train_utils:Epoch 1069 / 2000 (2.1s):  0.013 ---- 0.016 ---- 0.29 ---- 345\n"
     ]
    },
    {
     "data": {
      "application/vnd.jupyter.widget-view+json": {
       "model_id": "5b67bbe3b99643c5b98f6bb7578a3064",
       "version_major": 2,
       "version_minor": 0
      },
      "text/plain": [
       "HBox(children=(IntProgress(value=0, max=200), HTML(value='')))"
      ]
     },
     "metadata": {},
     "output_type": "display_data"
    },
    {
     "name": "stderr",
     "output_type": "stream",
     "text": [
      "DEBUG:pykeen.utilities.evaluation_utils.metrics_computations:Evaluation took 3.87s seconds\n",
      "DEBUG:pykeen.utilities.train_utils:\n",
      "current metric: 0.2875077435927825  ---- rank/hits@10: (0.21410433320614752, 0.4375)\n",
      "INFO:pykeen.utilities.train_utils:Epoch 1070 / 2000 (2.1s):  0.013 ---- 0.016 ---- 0.29 ---- 346\n",
      "INFO:pykeen.utilities.train_utils:Epoch 1071 / 2000 (2.1s):  0.013 ---- 0.016 ---- 0.29 ---- 347\n",
      "INFO:pykeen.utilities.train_utils:Epoch 1072 / 2000 (2.0s):  0.013 ---- 0.016 ---- 0.29 ---- 348\n",
      "INFO:pykeen.utilities.train_utils:Epoch 1073 / 2000 (2.1s):  0.013 ---- 0.017 ---- 0.29 ---- 349\n",
      "INFO:pykeen.utilities.train_utils:Epoch 1074 / 2000 (2.1s):  0.013 ---- 0.017 ---- 0.29 ---- 350\n"
     ]
    },
    {
     "data": {
      "application/vnd.jupyter.widget-view+json": {
       "model_id": "64fce56f0d934429ac282c7e2d7c10ed",
       "version_major": 2,
       "version_minor": 0
      },
      "text/plain": [
       "HBox(children=(IntProgress(value=0, max=200), HTML(value='')))"
      ]
     },
     "metadata": {},
     "output_type": "display_data"
    },
    {
     "name": "stdout",
     "output_type": "stream",
     "text": [
      "\n",
      "\n"
     ]
    },
    {
     "name": "stderr",
     "output_type": "stream",
     "text": [
      "DEBUG:pykeen.utilities.evaluation_utils.metrics_computations:Evaluation took 3.89s seconds\n",
      "DEBUG:pykeen.utilities.train_utils:\n",
      "current metric: 0.28873704313031784  ---- rank/hits@10: (0.2160822606657999, 0.435)\n",
      "INFO:pykeen.utilities.train_utils:Epoch 1075 / 2000 (2.1s):  0.013 ---- 0.017 ---- 0.29 ---- 351\n",
      "INFO:pykeen.utilities.train_utils:Epoch 1076 / 2000 (2.1s):  0.013 ---- 0.017 ---- 0.29 ---- 352\n",
      "INFO:pykeen.utilities.train_utils:Epoch 1077 / 2000 (2.1s):  0.013 ---- 0.017 ---- 0.29 ---- 353\n",
      "INFO:pykeen.utilities.train_utils:Epoch 1078 / 2000 (2.0s):  0.013 ---- 0.016 ---- 0.29 ---- 354\n",
      "INFO:pykeen.utilities.train_utils:Epoch 1079 / 2000 (2.1s):  0.013 ---- 0.017 ---- 0.29 ---- 355\n"
     ]
    },
    {
     "data": {
      "application/vnd.jupyter.widget-view+json": {
       "model_id": "6427b5d1921445d2b9a7c5e1e10bff36",
       "version_major": 2,
       "version_minor": 0
      },
      "text/plain": [
       "HBox(children=(IntProgress(value=0, max=200), HTML(value='')))"
      ]
     },
     "metadata": {},
     "output_type": "display_data"
    },
    {
     "name": "stderr",
     "output_type": "stream",
     "text": [
      "DEBUG:pykeen.utilities.evaluation_utils.metrics_computations:Evaluation took 3.86s seconds\n",
      "DEBUG:pykeen.utilities.train_utils:\n",
      "current metric: 0.289905141206901  ---- rank/hits@10: (0.21616568968576844, 0.44)\n",
      "INFO:pykeen.utilities.train_utils:Epoch 1080 / 2000 (2.1s):  0.013 ---- 0.017 ---- 0.29 ---- 356\n",
      "INFO:pykeen.utilities.train_utils:Epoch 1081 / 2000 (2.1s):  0.013 ---- 0.016 ---- 0.29 ---- 357\n",
      "INFO:pykeen.utilities.train_utils:Epoch 1082 / 2000 (2.1s):  0.013 ---- 0.018 ---- 0.29 ---- 358\n",
      "INFO:pykeen.utilities.train_utils:Epoch 1083 / 2000 (2.1s):  0.013 ---- 0.017 ---- 0.29 ---- 359\n",
      "INFO:pykeen.utilities.train_utils:Epoch 1084 / 2000 (2.1s):  0.013 ---- 0.019 ---- 0.29 ---- 360\n"
     ]
    },
    {
     "data": {
      "application/vnd.jupyter.widget-view+json": {
       "model_id": "70fc504cf0f0483d942ad1f327dfe213",
       "version_major": 2,
       "version_minor": 0
      },
      "text/plain": [
       "HBox(children=(IntProgress(value=0, max=200), HTML(value='')))"
      ]
     },
     "metadata": {},
     "output_type": "display_data"
    },
    {
     "name": "stderr",
     "output_type": "stream",
     "text": [
      "DEBUG:pykeen.utilities.evaluation_utils.metrics_computations:Evaluation took 3.91s seconds\n",
      "DEBUG:pykeen.utilities.train_utils:\n",
      "current metric: 0.2873288917915878  ---- rank/hits@10: (0.21331343916943818, 0.44)\n",
      "INFO:pykeen.utilities.train_utils:Epoch 1085 / 2000 (2.1s):  0.013 ---- 0.016 ---- 0.29 ---- 361\n",
      "INFO:pykeen.utilities.train_utils:Epoch 1086 / 2000 (2.0s):  0.013 ---- 0.017 ---- 0.29 ---- 362\n",
      "INFO:pykeen.utilities.train_utils:Epoch 1087 / 2000 (2.1s):  0.013 ---- 0.018 ---- 0.29 ---- 363\n",
      "INFO:pykeen.utilities.train_utils:Epoch 1088 / 2000 (2.0s):  0.013 ---- 0.016 ---- 0.29 ---- 364\n",
      "INFO:pykeen.utilities.train_utils:Epoch 1089 / 2000 (2.1s):  0.013 ---- 0.018 ---- 0.29 ---- 365\n"
     ]
    },
    {
     "name": "stdout",
     "output_type": "stream",
     "text": [
      "\n",
      "\n"
     ]
    },
    {
     "data": {
      "application/vnd.jupyter.widget-view+json": {
       "model_id": "bc5e4d5dfe424fefa74cf581ce8442c5",
       "version_major": 2,
       "version_minor": 0
      },
      "text/plain": [
       "HBox(children=(IntProgress(value=0, max=200), HTML(value='')))"
      ]
     },
     "metadata": {},
     "output_type": "display_data"
    },
    {
     "name": "stderr",
     "output_type": "stream",
     "text": [
      "DEBUG:pykeen.utilities.evaluation_utils.metrics_computations:Evaluation took 3.87s seconds\n",
      "DEBUG:pykeen.utilities.train_utils:\n",
      "current metric: 0.29147261712980804  ---- rank/hits@10: (0.21853176686767106, 0.4375)\n",
      "INFO:pykeen.utilities.train_utils:Epoch 1090 / 2000 (2.1s):  0.013 ---- 0.016 ---- 0.29 ---- 366\n",
      "INFO:pykeen.utilities.train_utils:Epoch 1091 / 2000 (2.1s):  0.013 ---- 0.017 ---- 0.29 ---- 367\n",
      "INFO:pykeen.utilities.train_utils:Epoch 1092 / 2000 (2.1s):  0.013 ---- 0.017 ---- 0.29 ---- 368\n",
      "INFO:pykeen.utilities.train_utils:Epoch 1093 / 2000 (2.1s):  0.013 ---- 0.017 ---- 0.29 ---- 369\n",
      "INFO:pykeen.utilities.train_utils:Epoch 1094 / 2000 (2.0s):  0.013 ---- 0.017 ---- 0.29 ---- 370\n"
     ]
    },
    {
     "data": {
      "application/vnd.jupyter.widget-view+json": {
       "model_id": "59c7c5df2e9449e782d4a2f824c53f32",
       "version_major": 2,
       "version_minor": 0
      },
      "text/plain": [
       "HBox(children=(IntProgress(value=0, max=200), HTML(value='')))"
      ]
     },
     "metadata": {},
     "output_type": "display_data"
    },
    {
     "name": "stderr",
     "output_type": "stream",
     "text": [
      "DEBUG:pykeen.utilities.evaluation_utils.metrics_computations:Evaluation took 3.90s seconds\n",
      "DEBUG:pykeen.utilities.train_utils:\n",
      "current metric: 0.2923097349824825  ---- rank/hits@10: (0.21885045754239033, 0.44)\n",
      "INFO:pykeen.utilities.train_utils:Epoch 1095 / 2000 (2.0s):  0.013 ---- 0.018 ---- 0.29 ---- 371\n",
      "INFO:pykeen.utilities.train_utils:Epoch 1096 / 2000 (2.0s):  0.013 ---- 0.016 ---- 0.29 ---- 372\n",
      "INFO:pykeen.utilities.train_utils:Epoch 1097 / 2000 (2.1s):  0.013 ---- 0.016 ---- 0.29 ---- 373\n",
      "INFO:pykeen.utilities.train_utils:Epoch 1098 / 2000 (2.1s):  0.013 ---- 0.017 ---- 0.29 ---- 374\n",
      "INFO:pykeen.utilities.train_utils:Epoch 1099 / 2000 (2.1s):  0.013 ---- 0.017 ---- 0.29 ---- 375\n"
     ]
    },
    {
     "data": {
      "application/vnd.jupyter.widget-view+json": {
       "model_id": "3b1052bcb9ba4491afa0c4cf916aedc2",
       "version_major": 2,
       "version_minor": 0
      },
      "text/plain": [
       "HBox(children=(IntProgress(value=0, max=200), HTML(value='')))"
      ]
     },
     "metadata": {},
     "output_type": "display_data"
    },
    {
     "name": "stderr",
     "output_type": "stream",
     "text": [
      "DEBUG:pykeen.utilities.evaluation_utils.metrics_computations:Evaluation took 3.88s seconds\n",
      "DEBUG:pykeen.utilities.train_utils:\n",
      "current metric: 0.29172252195350296  ---- rank/hits@10: (0.21698380272175263, 0.445)\n",
      "INFO:pykeen.utilities.train_utils:Epoch 1100 / 2000 (2.0s):  0.013 ---- 0.018 ---- 0.29 ---- 376\n",
      "INFO:pykeen.utilities.train_utils:Epoch 1101 / 2000 (2.1s):  0.013 ---- 0.019 ---- 0.29 ---- 377\n",
      "INFO:pykeen.utilities.train_utils:Epoch 1102 / 2000 (2.1s):  0.013 ---- 0.017 ---- 0.29 ---- 378\n",
      "INFO:pykeen.utilities.train_utils:Epoch 1103 / 2000 (2.1s):  0.013 ---- 0.018 ---- 0.29 ---- 379\n",
      "INFO:pykeen.utilities.train_utils:Epoch 1104 / 2000 (2.0s):  0.013 ---- 0.018 ---- 0.29 ---- 380\n"
     ]
    },
    {
     "name": "stdout",
     "output_type": "stream",
     "text": [
      "\n",
      "\n"
     ]
    },
    {
     "data": {
      "application/vnd.jupyter.widget-view+json": {
       "model_id": "4e83b50136674158a8a142d28b80b6e8",
       "version_major": 2,
       "version_minor": 0
      },
      "text/plain": [
       "HBox(children=(IntProgress(value=0, max=200), HTML(value='')))"
      ]
     },
     "metadata": {},
     "output_type": "display_data"
    },
    {
     "name": "stderr",
     "output_type": "stream",
     "text": [
      "DEBUG:pykeen.utilities.evaluation_utils.metrics_computations:Evaluation took 3.88s seconds\n",
      "DEBUG:pykeen.utilities.train_utils:\n",
      "current metric: 0.2868846569650533  ---- rank/hits@10: (0.2134139823227715, 0.4375)\n",
      "INFO:pykeen.utilities.train_utils:Epoch 1105 / 2000 (2.1s):  0.013 ---- 0.016 ---- 0.29 ---- 381\n",
      "INFO:pykeen.utilities.train_utils:Epoch 1106 / 2000 (2.1s):  0.013 ---- 0.017 ---- 0.29 ---- 382\n",
      "INFO:pykeen.utilities.train_utils:Epoch 1107 / 2000 (2.1s):  0.013 ---- 0.017 ---- 0.29 ---- 383\n",
      "INFO:pykeen.utilities.train_utils:Epoch 1108 / 2000 (2.0s):  0.013 ---- 0.018 ---- 0.29 ---- 384\n",
      "INFO:pykeen.utilities.train_utils:Epoch 1109 / 2000 (2.1s):  0.013 ---- 0.018 ---- 0.29 ---- 385\n"
     ]
    },
    {
     "data": {
      "application/vnd.jupyter.widget-view+json": {
       "model_id": "d50d1916ac7345b79ea9b46b4faa724a",
       "version_major": 2,
       "version_minor": 0
      },
      "text/plain": [
       "HBox(children=(IntProgress(value=0, max=200), HTML(value='')))"
      ]
     },
     "metadata": {},
     "output_type": "display_data"
    },
    {
     "name": "stderr",
     "output_type": "stream",
     "text": [
      "DEBUG:pykeen.utilities.evaluation_utils.metrics_computations:Evaluation took 3.89s seconds\n",
      "DEBUG:pykeen.utilities.train_utils:\n",
      "current metric: 0.290966939607446  ---- rank/hits@10: (0.21614881829804752, 0.445)\n",
      "INFO:pykeen.utilities.train_utils:Epoch 1110 / 2000 (2.0s):  0.013 ---- 0.017 ---- 0.29 ---- 386\n",
      "INFO:pykeen.utilities.train_utils:Epoch 1111 / 2000 (2.1s):  0.013 ---- 0.018 ---- 0.29 ---- 387\n",
      "INFO:pykeen.utilities.train_utils:Epoch 1112 / 2000 (2.1s):  0.013 ---- 0.017 ---- 0.29 ---- 388\n",
      "INFO:pykeen.utilities.train_utils:Epoch 1113 / 2000 (2.1s):  0.013 ---- 0.017 ---- 0.29 ---- 389\n",
      "INFO:pykeen.utilities.train_utils:Epoch 1114 / 2000 (2.0s):  0.013 ---- 0.017 ---- 0.29 ---- 390\n"
     ]
    },
    {
     "data": {
      "application/vnd.jupyter.widget-view+json": {
       "model_id": "e818d9fae49943e8bc08c7d346513a3d",
       "version_major": 2,
       "version_minor": 0
      },
      "text/plain": [
       "HBox(children=(IntProgress(value=0, max=200), HTML(value='')))"
      ]
     },
     "metadata": {},
     "output_type": "display_data"
    },
    {
     "name": "stderr",
     "output_type": "stream",
     "text": [
      "DEBUG:pykeen.utilities.evaluation_utils.metrics_computations:Evaluation took 3.89s seconds\n",
      "DEBUG:pykeen.utilities.train_utils:\n",
      "current metric: 0.28522137219441207  ---- rank/hits@10: (0.2121679743498035, 0.435)\n",
      "INFO:pykeen.utilities.train_utils:Epoch 1115 / 2000 (2.1s):  0.013 ---- 0.016 ---- 0.29 ---- 391\n",
      "INFO:pykeen.utilities.train_utils:Epoch 1116 / 2000 (2.1s):  0.013 ---- 0.017 ---- 0.29 ---- 392\n",
      "INFO:pykeen.utilities.train_utils:Epoch 1117 / 2000 (2.1s):  0.013 ---- 0.017 ---- 0.29 ---- 393\n",
      "INFO:pykeen.utilities.train_utils:Epoch 1118 / 2000 (2.0s):  0.013 ---- 0.017 ---- 0.29 ---- 394\n",
      "INFO:pykeen.utilities.train_utils:Epoch 1119 / 2000 (2.1s):  0.013 ---- 0.017 ---- 0.29 ---- 395\n"
     ]
    },
    {
     "name": "stdout",
     "output_type": "stream",
     "text": [
      "\n",
      "\n"
     ]
    },
    {
     "data": {
      "application/vnd.jupyter.widget-view+json": {
       "model_id": "8a55f897de06464d962a1fe61a9b5449",
       "version_major": 2,
       "version_minor": 0
      },
      "text/plain": [
       "HBox(children=(IntProgress(value=0, max=200), HTML(value='')))"
      ]
     },
     "metadata": {},
     "output_type": "display_data"
    },
    {
     "name": "stderr",
     "output_type": "stream",
     "text": [
      "DEBUG:pykeen.utilities.evaluation_utils.metrics_computations:Evaluation took 3.91s seconds\n",
      "DEBUG:pykeen.utilities.train_utils:\n",
      "current metric: 0.29007619005573093  ---- rank/hits@10: (0.216355945417052, 0.44)\n",
      "INFO:pykeen.utilities.train_utils:Epoch 1120 / 2000 (2.1s):  0.013 ---- 0.017 ---- 0.29 ---- 396\n",
      "INFO:pykeen.utilities.train_utils:Epoch 1121 / 2000 (2.1s):  0.013 ---- 0.016 ---- 0.29 ---- 397\n",
      "INFO:pykeen.utilities.train_utils:Epoch 1122 / 2000 (2.1s):  0.013 ---- 0.017 ---- 0.29 ---- 398\n",
      "INFO:pykeen.utilities.train_utils:Epoch 1123 / 2000 (2.1s):  0.013 ---- 0.018 ---- 0.29 ---- 399\n",
      "INFO:pykeen.utilities.train_utils:Epoch 1124 / 2000 (2.0s):  0.013 ---- 0.016 ---- 0.29 ---- 400\n"
     ]
    },
    {
     "data": {
      "application/vnd.jupyter.widget-view+json": {
       "model_id": "c62c5f5d6e7246cca9123cdbae94d2de",
       "version_major": 2,
       "version_minor": 0
      },
      "text/plain": [
       "HBox(children=(IntProgress(value=0, max=200), HTML(value='')))"
      ]
     },
     "metadata": {},
     "output_type": "display_data"
    },
    {
     "name": "stderr",
     "output_type": "stream",
     "text": [
      "DEBUG:pykeen.utilities.evaluation_utils.metrics_computations:Evaluation took 3.87s seconds\n",
      "DEBUG:pykeen.utilities.train_utils:\n",
      "current metric: 0.28713567325779227  ---- rank/hits@10: (0.21310051985698963, 0.44)\n",
      "INFO:pykeen.utilities.train_utils:Epoch 1125 / 2000 (2.1s):  0.013 ---- 0.018 ---- 0.29 ---- 401\n",
      "INFO:pykeen.utilities.train_utils:Epoch 1126 / 2000 (2.1s):  0.013 ---- 0.017 ---- 0.29 ---- 402\n",
      "INFO:pykeen.utilities.train_utils:Epoch 1127 / 2000 (2.1s):  0.013 ---- 0.017 ---- 0.29 ---- 403\n",
      "INFO:pykeen.utilities.train_utils:Epoch 1128 / 2000 (2.1s):  0.013 ---- 0.017 ---- 0.29 ---- 404\n",
      "INFO:pykeen.utilities.train_utils:Epoch 1129 / 2000 (2.1s):  0.013 ---- 0.018 ---- 0.29 ---- 405\n"
     ]
    },
    {
     "data": {
      "application/vnd.jupyter.widget-view+json": {
       "model_id": "cf18fc2f30084ce28edcb7950b36a34d",
       "version_major": 2,
       "version_minor": 0
      },
      "text/plain": [
       "HBox(children=(IntProgress(value=0, max=200), HTML(value='')))"
      ]
     },
     "metadata": {},
     "output_type": "display_data"
    },
    {
     "name": "stderr",
     "output_type": "stream",
     "text": [
      "DEBUG:pykeen.utilities.evaluation_utils.metrics_computations:Evaluation took 3.90s seconds\n",
      "DEBUG:pykeen.utilities.train_utils:\n",
      "current metric: 0.29804035066932  ---- rank/hits@10: (0.22342055627052937, 0.4475)\n",
      "DEBUG:pykeen.utilities.train_utils:Saving the following model to disk:\n",
      "INFO:pykeen.utilities.train_utils:Epoch 1130 / 2000 (2.1s):  0.013 ---- 0.017 ---- 0.30 ----   1\n",
      "INFO:pykeen.utilities.train_utils:Epoch 1131 / 2000 (2.1s):  0.013 ---- 0.018 ---- 0.30 ----   2\n",
      "INFO:pykeen.utilities.train_utils:Epoch 1132 / 2000 (2.1s):  0.013 ---- 0.016 ---- 0.30 ----   3\n",
      "INFO:pykeen.utilities.train_utils:Epoch 1133 / 2000 (2.1s):  0.013 ---- 0.018 ---- 0.30 ----   4\n",
      "INFO:pykeen.utilities.train_utils:Epoch 1134 / 2000 (2.0s):  0.013 ---- 0.017 ---- 0.30 ----   5\n"
     ]
    },
    {
     "name": "stdout",
     "output_type": "stream",
     "text": [
      "\n",
      "\n"
     ]
    },
    {
     "data": {
      "application/vnd.jupyter.widget-view+json": {
       "model_id": "b1cdffea1ff04f7194258dbb31c9774f",
       "version_major": 2,
       "version_minor": 0
      },
      "text/plain": [
       "HBox(children=(IntProgress(value=0, max=200), HTML(value='')))"
      ]
     },
     "metadata": {},
     "output_type": "display_data"
    },
    {
     "name": "stderr",
     "output_type": "stream",
     "text": [
      "DEBUG:pykeen.utilities.evaluation_utils.metrics_computations:Evaluation took 3.91s seconds\n",
      "DEBUG:pykeen.utilities.train_utils:\n",
      "current metric: 0.2919607676050854  ---- rank/hits@10: (0.21845946778592612, 0.44)\n",
      "INFO:pykeen.utilities.train_utils:Epoch 1135 / 2000 (2.1s):  0.013 ---- 0.017 ---- 0.29 ----   6\n",
      "INFO:pykeen.utilities.train_utils:Epoch 1136 / 2000 (2.0s):  0.013 ---- 0.017 ---- 0.29 ----   7\n",
      "INFO:pykeen.utilities.train_utils:Epoch 1137 / 2000 (2.1s):  0.013 ---- 0.018 ---- 0.29 ----   8\n",
      "INFO:pykeen.utilities.train_utils:Epoch 1138 / 2000 (2.1s):  0.013 ---- 0.018 ---- 0.29 ----   9\n",
      "INFO:pykeen.utilities.train_utils:Epoch 1139 / 2000 (2.1s):  0.013 ---- 0.018 ---- 0.29 ----  10\n"
     ]
    },
    {
     "data": {
      "application/vnd.jupyter.widget-view+json": {
       "model_id": "de9f85ba40d84f1db5c502a622538744",
       "version_major": 2,
       "version_minor": 0
      },
      "text/plain": [
       "HBox(children=(IntProgress(value=0, max=200), HTML(value='')))"
      ]
     },
     "metadata": {},
     "output_type": "display_data"
    },
    {
     "name": "stderr",
     "output_type": "stream",
     "text": [
      "DEBUG:pykeen.utilities.evaluation_utils.metrics_computations:Evaluation took 3.93s seconds\n",
      "DEBUG:pykeen.utilities.train_utils:\n",
      "current metric: 0.28932985562992547  ---- rank/hits@10: (0.2180100696492508, 0.43)\n",
      "INFO:pykeen.utilities.train_utils:Epoch 1140 / 2000 (2.0s):  0.013 ---- 0.017 ---- 0.29 ----  11\n",
      "INFO:pykeen.utilities.train_utils:Epoch 1141 / 2000 (2.1s):  0.013 ---- 0.017 ---- 0.29 ----  12\n",
      "INFO:pykeen.utilities.train_utils:Epoch 1142 / 2000 (2.1s):  0.013 ---- 0.018 ---- 0.29 ----  13\n",
      "INFO:pykeen.utilities.train_utils:Epoch 1143 / 2000 (2.1s):  0.013 ---- 0.017 ---- 0.29 ----  14\n",
      "INFO:pykeen.utilities.train_utils:Epoch 1144 / 2000 (2.1s):  0.013 ---- 0.017 ---- 0.29 ----  15\n"
     ]
    },
    {
     "data": {
      "application/vnd.jupyter.widget-view+json": {
       "model_id": "d3b8e5f2309b4b499ecbae57beb1d8f5",
       "version_major": 2,
       "version_minor": 0
      },
      "text/plain": [
       "HBox(children=(IntProgress(value=0, max=200), HTML(value='')))"
      ]
     },
     "metadata": {},
     "output_type": "display_data"
    },
    {
     "name": "stderr",
     "output_type": "stream",
     "text": [
      "DEBUG:pykeen.utilities.evaluation_utils.metrics_computations:Evaluation took 3.87s seconds\n",
      "DEBUG:pykeen.utilities.train_utils:\n",
      "current metric: 0.2880580044044915  ---- rank/hits@10: (0.21532254565633707, 0.435)\n",
      "INFO:pykeen.utilities.train_utils:Epoch 1145 / 2000 (2.1s):  0.013 ---- 0.017 ---- 0.29 ----  16\n",
      "INFO:pykeen.utilities.train_utils:Epoch 1146 / 2000 (2.0s):  0.013 ---- 0.017 ---- 0.29 ----  17\n",
      "INFO:pykeen.utilities.train_utils:Epoch 1147 / 2000 (2.1s):  0.013 ---- 0.017 ---- 0.29 ----  18\n",
      "INFO:pykeen.utilities.train_utils:Epoch 1148 / 2000 (2.1s):  0.013 ---- 0.017 ---- 0.29 ----  19\n",
      "INFO:pykeen.utilities.train_utils:Epoch 1149 / 2000 (2.1s):  0.013 ---- 0.017 ---- 0.29 ----  20\n"
     ]
    },
    {
     "name": "stdout",
     "output_type": "stream",
     "text": [
      "\n",
      "\n"
     ]
    },
    {
     "data": {
      "application/vnd.jupyter.widget-view+json": {
       "model_id": "86a7f9e6089d484bb890aaaab81b16e1",
       "version_major": 2,
       "version_minor": 0
      },
      "text/plain": [
       "HBox(children=(IntProgress(value=0, max=200), HTML(value='')))"
      ]
     },
     "metadata": {},
     "output_type": "display_data"
    },
    {
     "name": "stderr",
     "output_type": "stream",
     "text": [
      "DEBUG:pykeen.utilities.evaluation_utils.metrics_computations:Evaluation took 3.88s seconds\n",
      "DEBUG:pykeen.utilities.train_utils:\n",
      "current metric: 0.2900614238873126  ---- rank/hits@10: (0.21756910919211503, 0.435)\n",
      "INFO:pykeen.utilities.train_utils:Epoch 1150 / 2000 (2.1s):  0.013 ---- 0.017 ---- 0.29 ----  21\n",
      "INFO:pykeen.utilities.train_utils:Epoch 1151 / 2000 (2.1s):  0.013 ---- 0.016 ---- 0.29 ----  22\n",
      "INFO:pykeen.utilities.train_utils:Epoch 1152 / 2000 (2.0s):  0.013 ---- 0.017 ---- 0.29 ----  23\n",
      "INFO:pykeen.utilities.train_utils:Epoch 1153 / 2000 (2.1s):  0.013 ---- 0.018 ---- 0.29 ----  24\n",
      "INFO:pykeen.utilities.train_utils:Epoch 1154 / 2000 (2.1s):  0.013 ---- 0.018 ---- 0.29 ----  25\n"
     ]
    },
    {
     "data": {
      "application/vnd.jupyter.widget-view+json": {
       "model_id": "a841ba18050448b486e92d261ec6b881",
       "version_major": 2,
       "version_minor": 0
      },
      "text/plain": [
       "HBox(children=(IntProgress(value=0, max=200), HTML(value='')))"
      ]
     },
     "metadata": {},
     "output_type": "display_data"
    },
    {
     "name": "stderr",
     "output_type": "stream",
     "text": [
      "DEBUG:pykeen.utilities.evaluation_utils.metrics_computations:Evaluation took 3.90s seconds\n",
      "DEBUG:pykeen.utilities.train_utils:\n",
      "current metric: 0.2883190927090264  ---- rank/hits@10: (0.21440678451634554, 0.44)\n",
      "INFO:pykeen.utilities.train_utils:Epoch 1155 / 2000 (2.1s):  0.013 ---- 0.017 ---- 0.29 ----  26\n",
      "INFO:pykeen.utilities.train_utils:Epoch 1156 / 2000 (2.1s):  0.013 ---- 0.019 ---- 0.29 ----  27\n",
      "INFO:pykeen.utilities.train_utils:Epoch 1157 / 2000 (2.1s):  0.013 ---- 0.017 ---- 0.29 ----  28\n",
      "INFO:pykeen.utilities.train_utils:Epoch 1158 / 2000 (2.0s):  0.013 ---- 0.018 ---- 0.29 ----  29\n",
      "INFO:pykeen.utilities.train_utils:Epoch 1159 / 2000 (2.1s):  0.013 ---- 0.017 ---- 0.29 ----  30\n"
     ]
    },
    {
     "data": {
      "application/vnd.jupyter.widget-view+json": {
       "model_id": "c15e7eb7b2e840698d7b4cf430f2fea5",
       "version_major": 2,
       "version_minor": 0
      },
      "text/plain": [
       "HBox(children=(IntProgress(value=0, max=200), HTML(value='')))"
      ]
     },
     "metadata": {},
     "output_type": "display_data"
    },
    {
     "name": "stderr",
     "output_type": "stream",
     "text": [
      "DEBUG:pykeen.utilities.evaluation_utils.metrics_computations:Evaluation took 3.86s seconds\n",
      "DEBUG:pykeen.utilities.train_utils:\n",
      "current metric: 0.29440906355701413  ---- rank/hits@10: (0.22121241963193947, 0.44)\n",
      "INFO:pykeen.utilities.train_utils:Epoch 1160 / 2000 (2.1s):  0.013 ---- 0.018 ---- 0.29 ----  31\n",
      "INFO:pykeen.utilities.train_utils:Epoch 1161 / 2000 (2.1s):  0.013 ---- 0.018 ---- 0.29 ----  32\n",
      "INFO:pykeen.utilities.train_utils:Epoch 1162 / 2000 (2.0s):  0.013 ---- 0.017 ---- 0.29 ----  33\n",
      "INFO:pykeen.utilities.train_utils:Epoch 1163 / 2000 (2.1s):  0.013 ---- 0.018 ---- 0.29 ----  34\n",
      "INFO:pykeen.utilities.train_utils:Epoch 1164 / 2000 (2.1s):  0.013 ---- 0.018 ---- 0.29 ----  35\n"
     ]
    },
    {
     "name": "stdout",
     "output_type": "stream",
     "text": [
      "\n",
      "\n"
     ]
    },
    {
     "data": {
      "application/vnd.jupyter.widget-view+json": {
       "model_id": "baaf6d16af64483e80a92fd3b79e64ae",
       "version_major": 2,
       "version_minor": 0
      },
      "text/plain": [
       "HBox(children=(IntProgress(value=0, max=200), HTML(value='')))"
      ]
     },
     "metadata": {},
     "output_type": "display_data"
    },
    {
     "name": "stderr",
     "output_type": "stream",
     "text": [
      "DEBUG:pykeen.utilities.evaluation_utils.metrics_computations:Evaluation took 3.90s seconds\n",
      "DEBUG:pykeen.utilities.train_utils:\n",
      "current metric: 0.2939325575937299  ---- rank/hits@10: (0.22005129601746057, 0.4425)\n",
      "INFO:pykeen.utilities.train_utils:Epoch 1165 / 2000 (2.1s):  0.013 ---- 0.017 ---- 0.29 ----  36\n",
      "INFO:pykeen.utilities.train_utils:Epoch 1166 / 2000 (2.1s):  0.013 ---- 0.017 ---- 0.29 ----  37\n",
      "INFO:pykeen.utilities.train_utils:Epoch 1167 / 2000 (2.1s):  0.013 ---- 0.016 ---- 0.29 ----  38\n",
      "INFO:pykeen.utilities.train_utils:Epoch 1168 / 2000 (2.1s):  0.013 ---- 0.016 ---- 0.29 ----  39\n",
      "INFO:pykeen.utilities.train_utils:Epoch 1169 / 2000 (2.1s):  0.013 ---- 0.018 ---- 0.29 ----  40\n"
     ]
    },
    {
     "data": {
      "application/vnd.jupyter.widget-view+json": {
       "model_id": "8c6dbb3cbf844e7aafefbfa1f4deee6f",
       "version_major": 2,
       "version_minor": 0
      },
      "text/plain": [
       "HBox(children=(IntProgress(value=0, max=200), HTML(value='')))"
      ]
     },
     "metadata": {},
     "output_type": "display_data"
    },
    {
     "name": "stderr",
     "output_type": "stream",
     "text": [
      "DEBUG:pykeen.utilities.evaluation_utils.metrics_computations:Evaluation took 3.89s seconds\n",
      "DEBUG:pykeen.utilities.train_utils:\n",
      "current metric: 0.2901138094347078  ---- rank/hits@10: (0.2152085632722922, 0.445)\n",
      "INFO:pykeen.utilities.train_utils:Epoch 1170 / 2000 (2.1s):  0.013 ---- 0.017 ---- 0.29 ----  41\n",
      "INFO:pykeen.utilities.train_utils:Epoch 1171 / 2000 (2.1s):  0.013 ---- 0.017 ---- 0.29 ----  42\n",
      "INFO:pykeen.utilities.train_utils:Epoch 1172 / 2000 (2.0s):  0.013 ---- 0.017 ---- 0.29 ----  43\n",
      "INFO:pykeen.utilities.train_utils:Epoch 1173 / 2000 (2.1s):  0.013 ---- 0.018 ---- 0.29 ----  44\n",
      "INFO:pykeen.utilities.train_utils:Epoch 1174 / 2000 (2.1s):  0.013 ---- 0.018 ---- 0.29 ----  45\n"
     ]
    },
    {
     "data": {
      "application/vnd.jupyter.widget-view+json": {
       "model_id": "b58ae2d0830d4f359a4ea44158944e96",
       "version_major": 2,
       "version_minor": 0
      },
      "text/plain": [
       "HBox(children=(IntProgress(value=0, max=200), HTML(value='')))"
      ]
     },
     "metadata": {},
     "output_type": "display_data"
    },
    {
     "name": "stderr",
     "output_type": "stream",
     "text": [
      "DEBUG:pykeen.utilities.evaluation_utils.metrics_computations:Evaluation took 3.88s seconds\n",
      "DEBUG:pykeen.utilities.train_utils:\n",
      "current metric: 0.2906368320895545  ---- rank/hits@10: (0.21637746943802114, 0.4425)\n",
      "INFO:pykeen.utilities.train_utils:Epoch 1175 / 2000 (2.1s):  0.013 ---- 0.018 ---- 0.29 ----  46\n",
      "INFO:pykeen.utilities.train_utils:Epoch 1176 / 2000 (2.0s):  0.013 ---- 0.017 ---- 0.29 ----  47\n",
      "INFO:pykeen.utilities.train_utils:Epoch 1177 / 2000 (2.1s):  0.013 ---- 0.017 ---- 0.29 ----  48\n",
      "INFO:pykeen.utilities.train_utils:Epoch 1178 / 2000 (2.1s):  0.013 ---- 0.017 ---- 0.29 ----  49\n",
      "INFO:pykeen.utilities.train_utils:Epoch 1179 / 2000 (2.1s):  0.013 ---- 0.017 ---- 0.29 ----  50\n"
     ]
    },
    {
     "name": "stdout",
     "output_type": "stream",
     "text": [
      "\n",
      "\n"
     ]
    },
    {
     "data": {
      "application/vnd.jupyter.widget-view+json": {
       "model_id": "7b188293dd2d49a78ff32d7c30c7ba15",
       "version_major": 2,
       "version_minor": 0
      },
      "text/plain": [
       "HBox(children=(IntProgress(value=0, max=200), HTML(value='')))"
      ]
     },
     "metadata": {},
     "output_type": "display_data"
    },
    {
     "name": "stderr",
     "output_type": "stream",
     "text": [
      "DEBUG:pykeen.utilities.evaluation_utils.metrics_computations:Evaluation took 3.93s seconds\n",
      "DEBUG:pykeen.utilities.train_utils:\n",
      "current metric: 0.29492788224307565  ---- rank/hits@10: (0.2211688774393535, 0.4425)\n",
      "INFO:pykeen.utilities.train_utils:Epoch 1180 / 2000 (2.1s):  0.013 ---- 0.016 ---- 0.29 ----  51\n",
      "INFO:pykeen.utilities.train_utils:Epoch 1181 / 2000 (2.1s):  0.013 ---- 0.017 ---- 0.29 ----  52\n",
      "INFO:pykeen.utilities.train_utils:Epoch 1182 / 2000 (2.1s):  0.013 ---- 0.018 ---- 0.29 ----  53\n",
      "INFO:pykeen.utilities.train_utils:Epoch 1183 / 2000 (2.1s):  0.013 ---- 0.019 ---- 0.29 ----  54\n",
      "INFO:pykeen.utilities.train_utils:Epoch 1184 / 2000 (2.1s):  0.013 ---- 0.016 ---- 0.29 ----  55\n"
     ]
    },
    {
     "data": {
      "application/vnd.jupyter.widget-view+json": {
       "model_id": "f1c20d96980b4a8db22edd27dff1107f",
       "version_major": 2,
       "version_minor": 0
      },
      "text/plain": [
       "HBox(children=(IntProgress(value=0, max=200), HTML(value='')))"
      ]
     },
     "metadata": {},
     "output_type": "display_data"
    },
    {
     "name": "stderr",
     "output_type": "stream",
     "text": [
      "DEBUG:pykeen.utilities.evaluation_utils.metrics_computations:Evaluation took 3.90s seconds\n",
      "DEBUG:pykeen.utilities.train_utils:\n",
      "current metric: 0.29455137617449495  ---- rank/hits@10: (0.22074568166955885, 0.4425)\n",
      "INFO:pykeen.utilities.train_utils:Epoch 1185 / 2000 (2.1s):  0.013 ---- 0.018 ---- 0.29 ----  56\n",
      "INFO:pykeen.utilities.train_utils:Epoch 1186 / 2000 (2.1s):  0.013 ---- 0.017 ---- 0.29 ----  57\n",
      "INFO:pykeen.utilities.train_utils:Epoch 1187 / 2000 (2.1s):  0.013 ---- 0.017 ---- 0.29 ----  58\n",
      "INFO:pykeen.utilities.train_utils:Epoch 1188 / 2000 (2.1s):  0.013 ---- 0.017 ---- 0.29 ----  59\n",
      "INFO:pykeen.utilities.train_utils:Epoch 1189 / 2000 (2.1s):  0.013 ---- 0.017 ---- 0.29 ----  60\n"
     ]
    },
    {
     "data": {
      "application/vnd.jupyter.widget-view+json": {
       "model_id": "8186d14bf3254440a3ce3942fe3cfeb2",
       "version_major": 2,
       "version_minor": 0
      },
      "text/plain": [
       "HBox(children=(IntProgress(value=0, max=200), HTML(value='')))"
      ]
     },
     "metadata": {},
     "output_type": "display_data"
    },
    {
     "name": "stderr",
     "output_type": "stream",
     "text": [
      "DEBUG:pykeen.utilities.evaluation_utils.metrics_computations:Evaluation took 3.88s seconds\n",
      "DEBUG:pykeen.utilities.train_utils:\n",
      "current metric: 0.29250778788250326  ---- rank/hits@10: (0.21785382799619957, 0.445)\n",
      "INFO:pykeen.utilities.train_utils:Epoch 1190 / 2000 (2.1s):  0.013 ---- 0.017 ---- 0.29 ----  61\n",
      "INFO:pykeen.utilities.train_utils:Epoch 1191 / 2000 (2.1s):  0.013 ---- 0.016 ---- 0.29 ----  62\n",
      "INFO:pykeen.utilities.train_utils:Epoch 1192 / 2000 (2.1s):  0.013 ---- 0.016 ---- 0.29 ----  63\n",
      "INFO:pykeen.utilities.train_utils:Epoch 1193 / 2000 (2.1s):  0.013 ---- 0.018 ---- 0.29 ----  64\n",
      "INFO:pykeen.utilities.train_utils:Epoch 1194 / 2000 (2.1s):  0.013 ---- 0.018 ---- 0.29 ----  65\n"
     ]
    },
    {
     "data": {
      "application/vnd.jupyter.widget-view+json": {
       "model_id": "20c4ce1a09014d7f82ddf4b69b2b8f0d",
       "version_major": 2,
       "version_minor": 0
      },
      "text/plain": [
       "HBox(children=(IntProgress(value=0, max=200), HTML(value='')))"
      ]
     },
     "metadata": {},
     "output_type": "display_data"
    },
    {
     "name": "stdout",
     "output_type": "stream",
     "text": [
      "\n",
      "\n"
     ]
    },
    {
     "name": "stderr",
     "output_type": "stream",
     "text": [
      "DEBUG:pykeen.utilities.evaluation_utils.metrics_computations:Evaluation took 3.88s seconds\n",
      "DEBUG:pykeen.utilities.train_utils:\n",
      "current metric: 0.2965516574694201  ---- rank/hits@10: (0.22114278299550805, 0.45)\n",
      "INFO:pykeen.utilities.train_utils:Epoch 1195 / 2000 (2.1s):  0.013 ---- 0.018 ---- 0.30 ----  66\n",
      "INFO:pykeen.utilities.train_utils:Epoch 1196 / 2000 (2.1s):  0.013 ---- 0.017 ---- 0.30 ----  67\n",
      "INFO:pykeen.utilities.train_utils:Epoch 1197 / 2000 (2.1s):  0.013 ---- 0.017 ---- 0.30 ----  68\n",
      "INFO:pykeen.utilities.train_utils:Epoch 1198 / 2000 (2.0s):  0.013 ---- 0.016 ---- 0.30 ----  69\n",
      "INFO:pykeen.utilities.train_utils:Epoch 1199 / 2000 (2.1s):  0.013 ---- 0.017 ---- 0.30 ----  70\n"
     ]
    },
    {
     "data": {
      "application/vnd.jupyter.widget-view+json": {
       "model_id": "de60e3752fd44f5ba4b7950cc201d0c9",
       "version_major": 2,
       "version_minor": 0
      },
      "text/plain": [
       "HBox(children=(IntProgress(value=0, max=200), HTML(value='')))"
      ]
     },
     "metadata": {},
     "output_type": "display_data"
    },
    {
     "name": "stderr",
     "output_type": "stream",
     "text": [
      "DEBUG:pykeen.utilities.evaluation_utils.metrics_computations:Evaluation took 3.90s seconds\n",
      "DEBUG:pykeen.utilities.train_utils:\n",
      "current metric: 0.29740960828382573  ---- rank/hits@10: (0.22149436459702435, 0.4525)\n",
      "INFO:pykeen.utilities.train_utils:Epoch 1200 / 2000 (2.0s):  0.013 ---- 0.018 ---- 0.30 ----  71\n",
      "INFO:pykeen.utilities.train_utils:Epoch 1201 / 2000 (2.1s):  0.013 ---- 0.018 ---- 0.30 ----  72\n",
      "INFO:pykeen.utilities.train_utils:Epoch 1202 / 2000 (2.1s):  0.013 ---- 0.017 ---- 0.30 ----  73\n",
      "INFO:pykeen.utilities.train_utils:Epoch 1203 / 2000 (2.1s):  0.013 ---- 0.017 ---- 0.30 ----  74\n",
      "INFO:pykeen.utilities.train_utils:Epoch 1204 / 2000 (2.0s):  0.013 ---- 0.017 ---- 0.30 ----  75\n"
     ]
    },
    {
     "data": {
      "application/vnd.jupyter.widget-view+json": {
       "model_id": "792e3e012e65430abe558429d046d554",
       "version_major": 2,
       "version_minor": 0
      },
      "text/plain": [
       "HBox(children=(IntProgress(value=0, max=200), HTML(value='')))"
      ]
     },
     "metadata": {},
     "output_type": "display_data"
    },
    {
     "name": "stderr",
     "output_type": "stream",
     "text": [
      "DEBUG:pykeen.utilities.evaluation_utils.metrics_computations:Evaluation took 3.88s seconds\n",
      "DEBUG:pykeen.utilities.train_utils:\n",
      "current metric: 0.28765918129447104  ---- rank/hits@10: (0.2136777270324994, 0.44)\n",
      "INFO:pykeen.utilities.train_utils:Epoch 1205 / 2000 (2.1s):  0.013 ---- 0.017 ---- 0.29 ----  76\n",
      "INFO:pykeen.utilities.train_utils:Epoch 1206 / 2000 (2.1s):  0.013 ---- 0.017 ---- 0.29 ----  77\n",
      "INFO:pykeen.utilities.train_utils:Epoch 1207 / 2000 (2.1s):  0.013 ---- 0.017 ---- 0.29 ----  78\n",
      "INFO:pykeen.utilities.train_utils:Epoch 1208 / 2000 (2.1s):  0.013 ---- 0.017 ---- 0.29 ----  79\n",
      "INFO:pykeen.utilities.train_utils:Epoch 1209 / 2000 (2.1s):  0.013 ---- 0.017 ---- 0.29 ----  80\n"
     ]
    },
    {
     "name": "stdout",
     "output_type": "stream",
     "text": [
      "\n",
      "\n"
     ]
    },
    {
     "data": {
      "application/vnd.jupyter.widget-view+json": {
       "model_id": "6ffd6e2e80414f9a9d5527fa92abc67b",
       "version_major": 2,
       "version_minor": 0
      },
      "text/plain": [
       "HBox(children=(IntProgress(value=0, max=200), HTML(value='')))"
      ]
     },
     "metadata": {},
     "output_type": "display_data"
    },
    {
     "name": "stderr",
     "output_type": "stream",
     "text": [
      "DEBUG:pykeen.utilities.evaluation_utils.metrics_computations:Evaluation took 3.90s seconds\n",
      "DEBUG:pykeen.utilities.train_utils:\n",
      "current metric: 0.29230822450744737  ---- rank/hits@10: (0.21947254723804271, 0.4375)\n",
      "INFO:pykeen.utilities.train_utils:Epoch 1210 / 2000 (2.1s):  0.013 ---- 0.016 ---- 0.29 ----  81\n",
      "INFO:pykeen.utilities.train_utils:Epoch 1211 / 2000 (2.1s):  0.013 ---- 0.016 ---- 0.29 ----  82\n",
      "INFO:pykeen.utilities.train_utils:Epoch 1212 / 2000 (2.1s):  0.013 ---- 0.018 ---- 0.29 ----  83\n",
      "INFO:pykeen.utilities.train_utils:Epoch 1213 / 2000 (2.1s):  0.013 ---- 0.018 ---- 0.29 ----  84\n",
      "INFO:pykeen.utilities.train_utils:Epoch 1214 / 2000 (2.1s):  0.013 ---- 0.018 ---- 0.29 ----  85\n"
     ]
    },
    {
     "data": {
      "application/vnd.jupyter.widget-view+json": {
       "model_id": "9bd49d1d3fd548a489b06c645dff3e99",
       "version_major": 2,
       "version_minor": 0
      },
      "text/plain": [
       "HBox(children=(IntProgress(value=0, max=200), HTML(value='')))"
      ]
     },
     "metadata": {},
     "output_type": "display_data"
    },
    {
     "name": "stderr",
     "output_type": "stream",
     "text": [
      "DEBUG:pykeen.utilities.evaluation_utils.metrics_computations:Evaluation took 3.90s seconds\n",
      "DEBUG:pykeen.utilities.train_utils:\n",
      "current metric: 0.28877165336382815  ---- rank/hits@10: (0.21737683656223367, 0.43)\n",
      "INFO:pykeen.utilities.train_utils:Epoch 1215 / 2000 (2.1s):  0.013 ---- 0.016 ---- 0.29 ----  86\n",
      "INFO:pykeen.utilities.train_utils:Epoch 1216 / 2000 (2.1s):  0.013 ---- 0.017 ---- 0.29 ----  87\n",
      "INFO:pykeen.utilities.train_utils:Epoch 1217 / 2000 (2.1s):  0.013 ---- 0.017 ---- 0.29 ----  88\n",
      "INFO:pykeen.utilities.train_utils:Epoch 1218 / 2000 (2.1s):  0.013 ---- 0.017 ---- 0.29 ----  89\n",
      "INFO:pykeen.utilities.train_utils:Epoch 1219 / 2000 (2.1s):  0.013 ---- 0.017 ---- 0.29 ----  90\n"
     ]
    },
    {
     "data": {
      "application/vnd.jupyter.widget-view+json": {
       "model_id": "66fa3429eb784ba0a9b1afbd4c35216c",
       "version_major": 2,
       "version_minor": 0
      },
      "text/plain": [
       "HBox(children=(IntProgress(value=0, max=200), HTML(value='')))"
      ]
     },
     "metadata": {},
     "output_type": "display_data"
    },
    {
     "name": "stderr",
     "output_type": "stream",
     "text": [
      "DEBUG:pykeen.utilities.evaluation_utils.metrics_computations:Evaluation took 3.90s seconds\n",
      "DEBUG:pykeen.utilities.train_utils:\n",
      "current metric: 0.29215293230927564  ---- rank/hits@10: (0.21929750524734812, 0.4375)\n",
      "INFO:pykeen.utilities.train_utils:Epoch 1220 / 2000 (2.1s):  0.013 ---- 0.017 ---- 0.29 ----  91\n",
      "INFO:pykeen.utilities.train_utils:Epoch 1221 / 2000 (2.1s):  0.013 ---- 0.017 ---- 0.29 ----  92\n",
      "INFO:pykeen.utilities.train_utils:Epoch 1222 / 2000 (2.1s):  0.013 ---- 0.018 ---- 0.29 ----  93\n",
      "INFO:pykeen.utilities.train_utils:Epoch 1223 / 2000 (2.1s):  0.013 ---- 0.017 ---- 0.29 ----  94\n",
      "INFO:pykeen.utilities.train_utils:Epoch 1224 / 2000 (2.1s):  0.013 ---- 0.018 ---- 0.29 ----  95\n"
     ]
    },
    {
     "name": "stdout",
     "output_type": "stream",
     "text": [
      "\n",
      "\n",
      "\n",
      "\n",
      "\n",
      "\n",
      "\n",
      "\n",
      "\n",
      "\n",
      "\n",
      "\n",
      "\n"
     ]
    },
    {
     "data": {
      "application/vnd.jupyter.widget-view+json": {
       "model_id": "032faaa95ae749cc95cae523eb5b212d",
       "version_major": 2,
       "version_minor": 0
      },
      "text/plain": [
       "HBox(children=(IntProgress(value=0, max=200), HTML(value='')))"
      ]
     },
     "metadata": {},
     "output_type": "display_data"
    },
    {
     "name": "stderr",
     "output_type": "stream",
     "text": [
      "DEBUG:pykeen.utilities.evaluation_utils.metrics_computations:Evaluation took 3.91s seconds\n",
      "DEBUG:pykeen.utilities.train_utils:\n",
      "current metric: 0.28924732624609867  ---- rank/hits@10: (0.21665433945185975, 0.435)\n",
      "INFO:pykeen.utilities.train_utils:Epoch 1225 / 2000 (2.1s):  0.013 ---- 0.018 ---- 0.29 ----  96\n",
      "INFO:pykeen.utilities.train_utils:Epoch 1226 / 2000 (2.0s):  0.013 ---- 0.016 ---- 0.29 ----  97\n",
      "INFO:pykeen.utilities.train_utils:Epoch 1227 / 2000 (2.1s):  0.013 ---- 0.016 ---- 0.29 ----  98\n",
      "INFO:pykeen.utilities.train_utils:Epoch 1228 / 2000 (2.1s):  0.013 ---- 0.017 ---- 0.29 ----  99\n",
      "INFO:pykeen.utilities.train_utils:Epoch 1229 / 2000 (2.1s):  0.013 ---- 0.017 ---- 0.29 ---- 100\n"
     ]
    },
    {
     "data": {
      "application/vnd.jupyter.widget-view+json": {
       "model_id": "2a22445ffd084268b14fdc637f32ca6e",
       "version_major": 2,
       "version_minor": 0
      },
      "text/plain": [
       "HBox(children=(IntProgress(value=0, max=200), HTML(value='')))"
      ]
     },
     "metadata": {},
     "output_type": "display_data"
    },
    {
     "name": "stderr",
     "output_type": "stream",
     "text": [
      "DEBUG:pykeen.utilities.evaluation_utils.metrics_computations:Evaluation took 3.93s seconds\n",
      "DEBUG:pykeen.utilities.train_utils:\n",
      "current metric: 0.29330541921687403  ---- rank/hits@10: (0.21873989768804003, 0.445)\n",
      "INFO:pykeen.utilities.train_utils:Epoch 1230 / 2000 (2.1s):  0.013 ---- 0.017 ---- 0.29 ---- 101\n",
      "INFO:pykeen.utilities.train_utils:Epoch 1231 / 2000 (2.1s):  0.013 ---- 0.016 ---- 0.29 ---- 102\n",
      "INFO:pykeen.utilities.train_utils:Epoch 1232 / 2000 (2.0s):  0.013 ---- 0.017 ---- 0.29 ---- 103\n",
      "INFO:pykeen.utilities.train_utils:Epoch 1233 / 2000 (2.0s):  0.013 ---- 0.016 ---- 0.29 ---- 104\n",
      "INFO:pykeen.utilities.train_utils:Epoch 1234 / 2000 (2.1s):  0.013 ---- 0.016 ---- 0.29 ---- 105\n"
     ]
    },
    {
     "data": {
      "application/vnd.jupyter.widget-view+json": {
       "model_id": "c96d97273a79417d8743118ea0f48170",
       "version_major": 2,
       "version_minor": 0
      },
      "text/plain": [
       "HBox(children=(IntProgress(value=0, max=200), HTML(value='')))"
      ]
     },
     "metadata": {},
     "output_type": "display_data"
    },
    {
     "name": "stderr",
     "output_type": "stream",
     "text": [
      "DEBUG:pykeen.utilities.evaluation_utils.metrics_computations:Evaluation took 3.88s seconds\n",
      "DEBUG:pykeen.utilities.train_utils:\n",
      "current metric: 0.2919389406312185  ---- rank/hits@10: (0.21968862478515952, 0.435)\n",
      "INFO:pykeen.utilities.train_utils:Epoch 1235 / 2000 (2.1s):  0.013 ---- 0.016 ---- 0.29 ---- 106\n",
      "INFO:pykeen.utilities.train_utils:Epoch 1236 / 2000 (2.1s):  0.013 ---- 0.017 ---- 0.29 ---- 107\n",
      "INFO:pykeen.utilities.train_utils:Epoch 1237 / 2000 (2.1s):  0.013 ---- 0.016 ---- 0.29 ---- 108\n",
      "INFO:pykeen.utilities.train_utils:Epoch 1238 / 2000 (2.0s):  0.013 ---- 0.017 ---- 0.29 ---- 109\n",
      "INFO:pykeen.utilities.train_utils:Epoch 1239 / 2000 (2.1s):  0.013 ---- 0.016 ---- 0.29 ---- 110\n"
     ]
    },
    {
     "data": {
      "application/vnd.jupyter.widget-view+json": {
       "model_id": "f8e27137deee4903a30f7d5a376cb522",
       "version_major": 2,
       "version_minor": 0
      },
      "text/plain": [
       "HBox(children=(IntProgress(value=0, max=200), HTML(value='')))"
      ]
     },
     "metadata": {},
     "output_type": "display_data"
    },
    {
     "name": "stdout",
     "output_type": "stream",
     "text": [
      "\n",
      "\n"
     ]
    },
    {
     "name": "stderr",
     "output_type": "stream",
     "text": [
      "DEBUG:pykeen.utilities.evaluation_utils.metrics_computations:Evaluation took 3.89s seconds\n",
      "DEBUG:pykeen.utilities.train_utils:\n",
      "current metric: 0.2944029010486096  ---- rank/hits@10: (0.22057894281111598, 0.4425)\n",
      "INFO:pykeen.utilities.train_utils:Epoch 1240 / 2000 (2.1s):  0.013 ---- 0.017 ---- 0.29 ---- 111\n",
      "INFO:pykeen.utilities.train_utils:Epoch 1241 / 2000 (2.1s):  0.013 ---- 0.016 ---- 0.29 ---- 112\n",
      "INFO:pykeen.utilities.train_utils:Epoch 1242 / 2000 (2.0s):  0.013 ---- 0.016 ---- 0.29 ---- 113\n",
      "INFO:pykeen.utilities.train_utils:Epoch 1243 / 2000 (2.1s):  0.013 ---- 0.017 ---- 0.29 ---- 114\n",
      "INFO:pykeen.utilities.train_utils:Epoch 1244 / 2000 (2.0s):  0.013 ---- 0.017 ---- 0.29 ---- 115\n"
     ]
    },
    {
     "data": {
      "application/vnd.jupyter.widget-view+json": {
       "model_id": "7c8e9bffd7cd4f8d8a1d30cb75344089",
       "version_major": 2,
       "version_minor": 0
      },
      "text/plain": [
       "HBox(children=(IntProgress(value=0, max=200), HTML(value='')))"
      ]
     },
     "metadata": {},
     "output_type": "display_data"
    },
    {
     "name": "stderr",
     "output_type": "stream",
     "text": [
      "DEBUG:pykeen.utilities.evaluation_utils.metrics_computations:Evaluation took 3.90s seconds\n",
      "DEBUG:pykeen.utilities.train_utils:\n",
      "current metric: 0.29444087418843895  ---- rank/hits@10: (0.22062157899826942, 0.4425)\n",
      "INFO:pykeen.utilities.train_utils:Epoch 1245 / 2000 (2.0s):  0.013 ---- 0.017 ---- 0.29 ---- 116\n",
      "INFO:pykeen.utilities.train_utils:Epoch 1246 / 2000 (2.0s):  0.013 ---- 0.016 ---- 0.29 ---- 117\n",
      "INFO:pykeen.utilities.train_utils:Epoch 1247 / 2000 (2.1s):  0.013 ---- 0.016 ---- 0.29 ---- 118\n",
      "INFO:pykeen.utilities.train_utils:Epoch 1248 / 2000 (2.0s):  0.013 ---- 0.016 ---- 0.29 ---- 119\n",
      "INFO:pykeen.utilities.train_utils:Epoch 1249 / 2000 (2.0s):  0.013 ---- 0.016 ---- 0.29 ---- 120\n"
     ]
    },
    {
     "data": {
      "application/vnd.jupyter.widget-view+json": {
       "model_id": "8a98ef2a2ab646f18c913991f395341c",
       "version_major": 2,
       "version_minor": 0
      },
      "text/plain": [
       "HBox(children=(IntProgress(value=0, max=200), HTML(value='')))"
      ]
     },
     "metadata": {},
     "output_type": "display_data"
    },
    {
     "name": "stderr",
     "output_type": "stream",
     "text": [
      "DEBUG:pykeen.utilities.evaluation_utils.metrics_computations:Evaluation took 3.89s seconds\n",
      "DEBUG:pykeen.utilities.train_utils:\n",
      "current metric: 0.292646523750907  ---- rank/hits@10: (0.22113890589385207, 0.4325)\n",
      "INFO:pykeen.utilities.train_utils:Epoch 1250 / 2000 (2.1s):  0.013 ---- 0.016 ---- 0.29 ---- 121\n",
      "INFO:pykeen.utilities.train_utils:Epoch 1251 / 2000 (2.1s):  0.013 ---- 0.016 ---- 0.29 ---- 122\n",
      "INFO:pykeen.utilities.train_utils:Epoch 1252 / 2000 (2.1s):  0.013 ---- 0.016 ---- 0.29 ---- 123\n",
      "INFO:pykeen.utilities.train_utils:Epoch 1253 / 2000 (2.1s):  0.013 ---- 0.018 ---- 0.29 ---- 124\n",
      "INFO:pykeen.utilities.train_utils:Epoch 1254 / 2000 (2.1s):  0.013 ---- 0.018 ---- 0.29 ---- 125\n"
     ]
    },
    {
     "name": "stdout",
     "output_type": "stream",
     "text": [
      "\n",
      "\n"
     ]
    },
    {
     "data": {
      "application/vnd.jupyter.widget-view+json": {
       "model_id": "80e9cb897f104872a07122312db72337",
       "version_major": 2,
       "version_minor": 0
      },
      "text/plain": [
       "HBox(children=(IntProgress(value=0, max=200), HTML(value='')))"
      ]
     },
     "metadata": {},
     "output_type": "display_data"
    },
    {
     "name": "stderr",
     "output_type": "stream",
     "text": [
      "DEBUG:pykeen.utilities.evaluation_utils.metrics_computations:Evaluation took 3.87s seconds\n",
      "DEBUG:pykeen.utilities.train_utils:\n",
      "current metric: 0.295517262061248  ---- rank/hits@10: (0.22246610013754542, 0.44)\n",
      "INFO:pykeen.utilities.train_utils:Epoch 1255 / 2000 (2.1s):  0.013 ---- 0.017 ---- 0.30 ---- 126\n",
      "INFO:pykeen.utilities.train_utils:Epoch 1256 / 2000 (2.1s):  0.013 ---- 0.016 ---- 0.30 ---- 127\n",
      "INFO:pykeen.utilities.train_utils:Epoch 1257 / 2000 (2.1s):  0.013 ---- 0.017 ---- 0.30 ---- 128\n",
      "INFO:pykeen.utilities.train_utils:Epoch 1258 / 2000 (2.0s):  0.013 ---- 0.017 ---- 0.30 ---- 129\n",
      "INFO:pykeen.utilities.train_utils:Epoch 1259 / 2000 (2.1s):  0.013 ---- 0.016 ---- 0.30 ---- 130\n"
     ]
    },
    {
     "data": {
      "application/vnd.jupyter.widget-view+json": {
       "model_id": "b7024b1efea94f74863f9a8379a5297c",
       "version_major": 2,
       "version_minor": 0
      },
      "text/plain": [
       "HBox(children=(IntProgress(value=0, max=200), HTML(value='')))"
      ]
     },
     "metadata": {},
     "output_type": "display_data"
    },
    {
     "name": "stderr",
     "output_type": "stream",
     "text": [
      "DEBUG:pykeen.utilities.evaluation_utils.metrics_computations:Evaluation took 3.88s seconds\n",
      "DEBUG:pykeen.utilities.train_utils:\n",
      "current metric: 0.2915520545389605  ---- rank/hits@10: (0.21989138610780412, 0.4325)\n",
      "INFO:pykeen.utilities.train_utils:Epoch 1260 / 2000 (2.1s):  0.013 ---- 0.017 ---- 0.29 ---- 131\n",
      "INFO:pykeen.utilities.train_utils:Epoch 1261 / 2000 (2.0s):  0.013 ---- 0.018 ---- 0.29 ---- 132\n",
      "INFO:pykeen.utilities.train_utils:Epoch 1262 / 2000 (2.0s):  0.013 ---- 0.017 ---- 0.29 ---- 133\n",
      "INFO:pykeen.utilities.train_utils:Epoch 1263 / 2000 (2.1s):  0.013 ---- 0.017 ---- 0.29 ---- 134\n",
      "INFO:pykeen.utilities.train_utils:Epoch 1264 / 2000 (2.0s):  0.013 ---- 0.017 ---- 0.29 ---- 135\n"
     ]
    },
    {
     "data": {
      "application/vnd.jupyter.widget-view+json": {
       "model_id": "ba3181f6a65248618e9fb3367b22c5da",
       "version_major": 2,
       "version_minor": 0
      },
      "text/plain": [
       "HBox(children=(IntProgress(value=0, max=200), HTML(value='')))"
      ]
     },
     "metadata": {},
     "output_type": "display_data"
    },
    {
     "name": "stderr",
     "output_type": "stream",
     "text": [
      "DEBUG:pykeen.utilities.evaluation_utils.metrics_computations:Evaluation took 3.90s seconds\n",
      "DEBUG:pykeen.utilities.train_utils:\n",
      "current metric: 0.28889649543633217  ---- rank/hits@10: (0.21564828698215963, 0.4375)\n",
      "INFO:pykeen.utilities.train_utils:Epoch 1265 / 2000 (2.0s):  0.013 ---- 0.018 ---- 0.29 ---- 136\n",
      "INFO:pykeen.utilities.train_utils:Epoch 1266 / 2000 (2.0s):  0.013 ---- 0.017 ---- 0.29 ---- 137\n",
      "INFO:pykeen.utilities.train_utils:Epoch 1267 / 2000 (2.1s):  0.013 ---- 0.018 ---- 0.29 ---- 138\n",
      "INFO:pykeen.utilities.train_utils:Epoch 1268 / 2000 (2.1s):  0.013 ---- 0.018 ---- 0.29 ---- 139\n",
      "INFO:pykeen.utilities.train_utils:Epoch 1269 / 2000 (2.1s):  0.013 ---- 0.018 ---- 0.29 ---- 140\n"
     ]
    },
    {
     "name": "stdout",
     "output_type": "stream",
     "text": [
      "\n",
      "\n"
     ]
    },
    {
     "data": {
      "application/vnd.jupyter.widget-view+json": {
       "model_id": "37ba01a2a715459997bdf728dfd19290",
       "version_major": 2,
       "version_minor": 0
      },
      "text/plain": [
       "HBox(children=(IntProgress(value=0, max=200), HTML(value='')))"
      ]
     },
     "metadata": {},
     "output_type": "display_data"
    },
    {
     "name": "stderr",
     "output_type": "stream",
     "text": [
      "DEBUG:pykeen.utilities.evaluation_utils.metrics_computations:Evaluation took 3.90s seconds\n",
      "DEBUG:pykeen.utilities.train_utils:\n",
      "current metric: 0.2873619501323613  ---- rank/hits@10: (0.2164182505211373, 0.4275)\n",
      "INFO:pykeen.utilities.train_utils:Epoch 1270 / 2000 (2.0s):  0.013 ---- 0.017 ---- 0.29 ---- 141\n",
      "INFO:pykeen.utilities.train_utils:Epoch 1271 / 2000 (2.1s):  0.013 ---- 0.018 ---- 0.29 ---- 142\n",
      "INFO:pykeen.utilities.train_utils:Epoch 1272 / 2000 (2.1s):  0.013 ---- 0.016 ---- 0.29 ---- 143\n",
      "INFO:pykeen.utilities.train_utils:Epoch 1273 / 2000 (2.1s):  0.013 ---- 0.016 ---- 0.29 ---- 144\n",
      "INFO:pykeen.utilities.train_utils:Epoch 1274 / 2000 (2.0s):  0.013 ---- 0.017 ---- 0.29 ---- 145\n"
     ]
    },
    {
     "data": {
      "application/vnd.jupyter.widget-view+json": {
       "model_id": "8b4e8b88bdef472896550f53dab83a4c",
       "version_major": 2,
       "version_minor": 0
      },
      "text/plain": [
       "HBox(children=(IntProgress(value=0, max=200), HTML(value='')))"
      ]
     },
     "metadata": {},
     "output_type": "display_data"
    },
    {
     "name": "stderr",
     "output_type": "stream",
     "text": [
      "DEBUG:pykeen.utilities.evaluation_utils.metrics_computations:Evaluation took 3.87s seconds\n",
      "DEBUG:pykeen.utilities.train_utils:\n",
      "current metric: 0.2910801606204679  ---- rank/hits@10: (0.21809084343969723, 0.4375)\n",
      "INFO:pykeen.utilities.train_utils:Epoch 1275 / 2000 (2.1s):  0.013 ---- 0.017 ---- 0.29 ---- 146\n",
      "INFO:pykeen.utilities.train_utils:Epoch 1276 / 2000 (2.1s):  0.013 ---- 0.016 ---- 0.29 ---- 147\n",
      "INFO:pykeen.utilities.train_utils:Epoch 1277 / 2000 (2.0s):  0.013 ---- 0.018 ---- 0.29 ---- 148\n",
      "INFO:pykeen.utilities.train_utils:Epoch 1278 / 2000 (2.0s):  0.013 ---- 0.016 ---- 0.29 ---- 149\n",
      "INFO:pykeen.utilities.train_utils:Epoch 1279 / 2000 (2.1s):  0.013 ---- 0.017 ---- 0.29 ---- 150\n"
     ]
    },
    {
     "data": {
      "application/vnd.jupyter.widget-view+json": {
       "model_id": "e229a10a08454abfb9429a15d4ba8fa0",
       "version_major": 2,
       "version_minor": 0
      },
      "text/plain": [
       "HBox(children=(IntProgress(value=0, max=200), HTML(value='')))"
      ]
     },
     "metadata": {},
     "output_type": "display_data"
    },
    {
     "name": "stderr",
     "output_type": "stream",
     "text": [
      "DEBUG:pykeen.utilities.evaluation_utils.metrics_computations:Evaluation took 3.92s seconds\n",
      "DEBUG:pykeen.utilities.train_utils:\n",
      "current metric: 0.29198850156483286  ---- rank/hits@10: (0.2191122641277032, 0.4375)\n",
      "INFO:pykeen.utilities.train_utils:Epoch 1280 / 2000 (2.0s):  0.013 ---- 0.016 ---- 0.29 ---- 151\n",
      "INFO:pykeen.utilities.train_utils:Epoch 1281 / 2000 (2.1s):  0.013 ---- 0.017 ---- 0.29 ---- 152\n",
      "INFO:pykeen.utilities.train_utils:Epoch 1282 / 2000 (2.1s):  0.013 ---- 0.017 ---- 0.29 ---- 153\n",
      "INFO:pykeen.utilities.train_utils:Epoch 1283 / 2000 (2.1s):  0.013 ---- 0.018 ---- 0.29 ---- 154\n",
      "INFO:pykeen.utilities.train_utils:Epoch 1284 / 2000 (2.0s):  0.013 ---- 0.017 ---- 0.29 ---- 155\n"
     ]
    },
    {
     "name": "stdout",
     "output_type": "stream",
     "text": [
      "\n",
      "\n"
     ]
    },
    {
     "data": {
      "application/vnd.jupyter.widget-view+json": {
       "model_id": "433c01bcab994f21afdc1c3de7953ef5",
       "version_major": 2,
       "version_minor": 0
      },
      "text/plain": [
       "HBox(children=(IntProgress(value=0, max=200), HTML(value='')))"
      ]
     },
     "metadata": {},
     "output_type": "display_data"
    },
    {
     "name": "stderr",
     "output_type": "stream",
     "text": [
      "DEBUG:pykeen.utilities.evaluation_utils.metrics_computations:Evaluation took 3.91s seconds\n",
      "DEBUG:pykeen.utilities.train_utils:\n",
      "current metric: 0.29370489618600026  ---- rank/hits@10: (0.22041827312076265, 0.44)\n",
      "INFO:pykeen.utilities.train_utils:Epoch 1285 / 2000 (2.1s):  0.013 ---- 0.016 ---- 0.29 ---- 156\n",
      "INFO:pykeen.utilities.train_utils:Epoch 1286 / 2000 (2.1s):  0.013 ---- 0.017 ---- 0.29 ---- 157\n",
      "INFO:pykeen.utilities.train_utils:Epoch 1287 / 2000 (2.1s):  0.013 ---- 0.017 ---- 0.29 ---- 158\n",
      "INFO:pykeen.utilities.train_utils:Epoch 1288 / 2000 (2.1s):  0.013 ---- 0.017 ---- 0.29 ---- 159\n",
      "INFO:pykeen.utilities.train_utils:Epoch 1289 / 2000 (2.1s):  0.013 ---- 0.017 ---- 0.29 ---- 160\n"
     ]
    },
    {
     "data": {
      "application/vnd.jupyter.widget-view+json": {
       "model_id": "bb1018e0e3144b5f93722f50139a113d",
       "version_major": 2,
       "version_minor": 0
      },
      "text/plain": [
       "HBox(children=(IntProgress(value=0, max=200), HTML(value='')))"
      ]
     },
     "metadata": {},
     "output_type": "display_data"
    },
    {
     "name": "stderr",
     "output_type": "stream",
     "text": [
      "DEBUG:pykeen.utilities.evaluation_utils.metrics_computations:Evaluation took 3.90s seconds\n",
      "DEBUG:pykeen.utilities.train_utils:\n",
      "current metric: 0.29327516629608225  ---- rank/hits@10: (0.21870624721898474, 0.445)\n",
      "INFO:pykeen.utilities.train_utils:Epoch 1290 / 2000 (2.1s):  0.013 ---- 0.018 ---- 0.29 ---- 161\n",
      "INFO:pykeen.utilities.train_utils:Epoch 1291 / 2000 (2.1s):  0.013 ---- 0.016 ---- 0.29 ---- 162\n",
      "INFO:pykeen.utilities.train_utils:Epoch 1292 / 2000 (2.1s):  0.013 ---- 0.017 ---- 0.29 ---- 163\n",
      "INFO:pykeen.utilities.train_utils:Epoch 1293 / 2000 (2.1s):  0.013 ---- 0.017 ---- 0.29 ---- 164\n",
      "INFO:pykeen.utilities.train_utils:Epoch 1294 / 2000 (2.0s):  0.013 ---- 0.017 ---- 0.29 ---- 165\n"
     ]
    },
    {
     "data": {
      "application/vnd.jupyter.widget-view+json": {
       "model_id": "5d70c06d23b9423f9df3240af7754d49",
       "version_major": 2,
       "version_minor": 0
      },
      "text/plain": [
       "HBox(children=(IntProgress(value=0, max=200), HTML(value='')))"
      ]
     },
     "metadata": {},
     "output_type": "display_data"
    },
    {
     "name": "stderr",
     "output_type": "stream",
     "text": [
      "DEBUG:pykeen.utilities.evaluation_utils.metrics_computations:Evaluation took 3.89s seconds\n",
      "DEBUG:pykeen.utilities.train_utils:\n",
      "current metric: 0.29155064719127277  ---- rank/hits@10: (0.2180005537466495, 0.44)\n",
      "INFO:pykeen.utilities.train_utils:Epoch 1295 / 2000 (2.1s):  0.013 ---- 0.017 ---- 0.29 ---- 166\n",
      "INFO:pykeen.utilities.train_utils:Epoch 1296 / 2000 (2.1s):  0.013 ---- 0.017 ---- 0.29 ---- 167\n",
      "INFO:pykeen.utilities.train_utils:Epoch 1297 / 2000 (2.1s):  0.013 ---- 0.017 ---- 0.29 ---- 168\n",
      "INFO:pykeen.utilities.train_utils:Epoch 1298 / 2000 (2.1s):  0.013 ---- 0.017 ---- 0.29 ---- 169\n",
      "INFO:pykeen.utilities.train_utils:Epoch 1299 / 2000 (2.1s):  0.013 ---- 0.016 ---- 0.29 ---- 170\n"
     ]
    },
    {
     "name": "stdout",
     "output_type": "stream",
     "text": [
      "\n",
      "\n"
     ]
    },
    {
     "data": {
      "application/vnd.jupyter.widget-view+json": {
       "model_id": "bd781e3ba0d44e768041ebc981a9e436",
       "version_major": 2,
       "version_minor": 0
      },
      "text/plain": [
       "HBox(children=(IntProgress(value=0, max=200), HTML(value='')))"
      ]
     },
     "metadata": {},
     "output_type": "display_data"
    },
    {
     "name": "stderr",
     "output_type": "stream",
     "text": [
      "DEBUG:pykeen.utilities.evaluation_utils.metrics_computations:Evaluation took 3.90s seconds\n",
      "DEBUG:pykeen.utilities.train_utils:\n",
      "current metric: 0.2911800335650821  ---- rank/hits@10: (0.21698018277509426, 0.4425)\n",
      "INFO:pykeen.utilities.train_utils:Epoch 1300 / 2000 (2.0s):  0.013 ---- 0.017 ---- 0.29 ---- 171\n",
      "INFO:pykeen.utilities.train_utils:Epoch 1301 / 2000 (2.1s):  0.013 ---- 0.017 ---- 0.29 ---- 172\n",
      "INFO:pykeen.utilities.train_utils:Epoch 1302 / 2000 (2.1s):  0.013 ---- 0.017 ---- 0.29 ---- 173\n",
      "INFO:pykeen.utilities.train_utils:Epoch 1303 / 2000 (2.1s):  0.013 ---- 0.017 ---- 0.29 ---- 174\n",
      "INFO:pykeen.utilities.train_utils:Epoch 1304 / 2000 (2.1s):  0.013 ---- 0.017 ---- 0.29 ---- 175\n"
     ]
    },
    {
     "data": {
      "application/vnd.jupyter.widget-view+json": {
       "model_id": "3b0e5ffc20f24b16acdeb9cfa508a464",
       "version_major": 2,
       "version_minor": 0
      },
      "text/plain": [
       "HBox(children=(IntProgress(value=0, max=200), HTML(value='')))"
      ]
     },
     "metadata": {},
     "output_type": "display_data"
    },
    {
     "name": "stderr",
     "output_type": "stream",
     "text": [
      "DEBUG:pykeen.utilities.evaluation_utils.metrics_computations:Evaluation took 3.91s seconds\n",
      "DEBUG:pykeen.utilities.train_utils:\n",
      "current metric: 0.28693208566930817  ---- rank/hits@10: (0.2134664796721603, 0.4375)\n",
      "INFO:pykeen.utilities.train_utils:Epoch 1305 / 2000 (2.1s):  0.013 ---- 0.017 ---- 0.29 ---- 176\n",
      "INFO:pykeen.utilities.train_utils:Epoch 1306 / 2000 (2.1s):  0.013 ---- 0.017 ---- 0.29 ---- 177\n",
      "INFO:pykeen.utilities.train_utils:Epoch 1307 / 2000 (2.1s):  0.013 ---- 0.017 ---- 0.29 ---- 178\n",
      "INFO:pykeen.utilities.train_utils:Epoch 1308 / 2000 (2.1s):  0.013 ---- 0.017 ---- 0.29 ---- 179\n",
      "INFO:pykeen.utilities.train_utils:Epoch 1309 / 2000 (2.1s):  0.013 ---- 0.017 ---- 0.29 ---- 180\n"
     ]
    },
    {
     "data": {
      "application/vnd.jupyter.widget-view+json": {
       "model_id": "c6bcb2ef8c454a549c2d587d57b6224a",
       "version_major": 2,
       "version_minor": 0
      },
      "text/plain": [
       "HBox(children=(IntProgress(value=0, max=200), HTML(value='')))"
      ]
     },
     "metadata": {},
     "output_type": "display_data"
    },
    {
     "name": "stderr",
     "output_type": "stream",
     "text": [
      "DEBUG:pykeen.utilities.evaluation_utils.metrics_computations:Evaluation took 3.88s seconds\n",
      "DEBUG:pykeen.utilities.train_utils:\n",
      "current metric: 0.28956978895201463  ---- rank/hits@10: (0.2163994619268502, 0.4375)\n",
      "INFO:pykeen.utilities.train_utils:Epoch 1310 / 2000 (2.1s):  0.013 ---- 0.017 ---- 0.29 ---- 181\n",
      "INFO:pykeen.utilities.train_utils:Epoch 1311 / 2000 (2.1s):  0.013 ---- 0.017 ---- 0.29 ---- 182\n",
      "INFO:pykeen.utilities.train_utils:Epoch 1312 / 2000 (2.1s):  0.013 ---- 0.017 ---- 0.29 ---- 183\n",
      "INFO:pykeen.utilities.train_utils:Epoch 1313 / 2000 (2.1s):  0.013 ---- 0.017 ---- 0.29 ---- 184\n",
      "INFO:pykeen.utilities.train_utils:Epoch 1314 / 2000 (2.1s):  0.013 ---- 0.017 ---- 0.29 ---- 185\n"
     ]
    },
    {
     "data": {
      "application/vnd.jupyter.widget-view+json": {
       "model_id": "f947c18c5a104c4f8d19485b2347799c",
       "version_major": 2,
       "version_minor": 0
      },
      "text/plain": [
       "HBox(children=(IntProgress(value=0, max=200), HTML(value='')))"
      ]
     },
     "metadata": {},
     "output_type": "display_data"
    },
    {
     "name": "stdout",
     "output_type": "stream",
     "text": [
      "\n",
      "\n"
     ]
    },
    {
     "name": "stderr",
     "output_type": "stream",
     "text": [
      "DEBUG:pykeen.utilities.evaluation_utils.metrics_computations:Evaluation took 3.88s seconds\n",
      "DEBUG:pykeen.utilities.train_utils:\n",
      "current metric: 0.2933963744614416  ---- rank/hits@10: (0.22007092889088994, 0.44)\n",
      "INFO:pykeen.utilities.train_utils:Epoch 1315 / 2000 (2.1s):  0.013 ---- 0.017 ---- 0.29 ---- 186\n",
      "INFO:pykeen.utilities.train_utils:Epoch 1316 / 2000 (2.1s):  0.013 ---- 0.019 ---- 0.29 ---- 187\n",
      "INFO:pykeen.utilities.train_utils:Epoch 1317 / 2000 (2.1s):  0.013 ---- 0.018 ---- 0.29 ---- 188\n",
      "INFO:pykeen.utilities.train_utils:Epoch 1318 / 2000 (2.1s):  0.013 ---- 0.017 ---- 0.29 ---- 189\n",
      "INFO:pykeen.utilities.train_utils:Epoch 1319 / 2000 (2.1s):  0.013 ---- 0.016 ---- 0.29 ---- 190\n"
     ]
    },
    {
     "data": {
      "application/vnd.jupyter.widget-view+json": {
       "model_id": "43532c19c1274523a257eed14eb72eb3",
       "version_major": 2,
       "version_minor": 0
      },
      "text/plain": [
       "HBox(children=(IntProgress(value=0, max=200), HTML(value='')))"
      ]
     },
     "metadata": {},
     "output_type": "display_data"
    },
    {
     "name": "stderr",
     "output_type": "stream",
     "text": [
      "DEBUG:pykeen.utilities.evaluation_utils.metrics_computations:Evaluation took 3.87s seconds\n",
      "DEBUG:pykeen.utilities.train_utils:\n",
      "current metric: 0.2907098357419982  ---- rank/hits@10: (0.2147079236757614, 0.45)\n",
      "INFO:pykeen.utilities.train_utils:Epoch 1320 / 2000 (2.1s):  0.013 ---- 0.018 ---- 0.29 ---- 191\n",
      "INFO:pykeen.utilities.train_utils:Epoch 1321 / 2000 (2.1s):  0.013 ---- 0.017 ---- 0.29 ---- 192\n",
      "INFO:pykeen.utilities.train_utils:Epoch 1322 / 2000 (2.0s):  0.013 ---- 0.016 ---- 0.29 ---- 193\n",
      "INFO:pykeen.utilities.train_utils:Epoch 1323 / 2000 (2.0s):  0.013 ---- 0.018 ---- 0.29 ---- 194\n",
      "INFO:pykeen.utilities.train_utils:Epoch 1324 / 2000 (2.1s):  0.013 ---- 0.018 ---- 0.29 ---- 195\n"
     ]
    },
    {
     "data": {
      "application/vnd.jupyter.widget-view+json": {
       "model_id": "a19b39e6028547edb5e48296235f4f85",
       "version_major": 2,
       "version_minor": 0
      },
      "text/plain": [
       "HBox(children=(IntProgress(value=0, max=200), HTML(value='')))"
      ]
     },
     "metadata": {},
     "output_type": "display_data"
    },
    {
     "name": "stderr",
     "output_type": "stream",
     "text": [
      "DEBUG:pykeen.utilities.evaluation_utils.metrics_computations:Evaluation took 3.90s seconds\n",
      "DEBUG:pykeen.utilities.train_utils:\n",
      "current metric: 0.2930233538333427  ---- rank/hits@10: (0.21903369822253185, 0.4425)\n",
      "INFO:pykeen.utilities.train_utils:Epoch 1325 / 2000 (2.1s):  0.013 ---- 0.017 ---- 0.29 ---- 196\n",
      "INFO:pykeen.utilities.train_utils:Epoch 1326 / 2000 (2.1s):  0.013 ---- 0.016 ---- 0.29 ---- 197\n",
      "INFO:pykeen.utilities.train_utils:Epoch 1327 / 2000 (2.1s):  0.013 ---- 0.016 ---- 0.29 ---- 198\n",
      "INFO:pykeen.utilities.train_utils:Epoch 1328 / 2000 (2.0s):  0.013 ---- 0.017 ---- 0.29 ---- 199\n",
      "INFO:pykeen.utilities.train_utils:Epoch 1329 / 2000 (2.1s):  0.013 ---- 0.017 ---- 0.29 ---- 200\n"
     ]
    },
    {
     "name": "stdout",
     "output_type": "stream",
     "text": [
      "\n",
      "\n"
     ]
    },
    {
     "data": {
      "application/vnd.jupyter.widget-view+json": {
       "model_id": "611a31c215af4371b1847bca05d75352",
       "version_major": 2,
       "version_minor": 0
      },
      "text/plain": [
       "HBox(children=(IntProgress(value=0, max=200), HTML(value='')))"
      ]
     },
     "metadata": {},
     "output_type": "display_data"
    },
    {
     "name": "stderr",
     "output_type": "stream",
     "text": [
      "DEBUG:pykeen.utilities.evaluation_utils.metrics_computations:Evaluation took 3.87s seconds\n",
      "DEBUG:pykeen.utilities.train_utils:\n",
      "current metric: 0.29500635474063364  ---- rank/hits@10: (0.21942851908200253, 0.45)\n",
      "INFO:pykeen.utilities.train_utils:Epoch 1330 / 2000 (2.1s):  0.013 ---- 0.017 ---- 0.30 ---- 201\n",
      "INFO:pykeen.utilities.train_utils:Epoch 1331 / 2000 (2.1s):  0.013 ---- 0.017 ---- 0.30 ---- 202\n",
      "INFO:pykeen.utilities.train_utils:Epoch 1332 / 2000 (2.1s):  0.013 ---- 0.017 ---- 0.30 ---- 203\n",
      "INFO:pykeen.utilities.train_utils:Epoch 1333 / 2000 (2.1s):  0.013 ---- 0.017 ---- 0.30 ---- 204\n",
      "INFO:pykeen.utilities.train_utils:Epoch 1334 / 2000 (2.1s):  0.013 ---- 0.017 ---- 0.30 ---- 205\n"
     ]
    },
    {
     "data": {
      "application/vnd.jupyter.widget-view+json": {
       "model_id": "2cdb0ef8a25f4b31b52ce03a82a58a47",
       "version_major": 2,
       "version_minor": 0
      },
      "text/plain": [
       "HBox(children=(IntProgress(value=0, max=200), HTML(value='')))"
      ]
     },
     "metadata": {},
     "output_type": "display_data"
    },
    {
     "name": "stderr",
     "output_type": "stream",
     "text": [
      "DEBUG:pykeen.utilities.evaluation_utils.metrics_computations:Evaluation took 3.89s seconds\n",
      "DEBUG:pykeen.utilities.train_utils:\n",
      "current metric: 0.29074344979269723  ---- rank/hits@10: (0.21709918687162919, 0.44)\n",
      "INFO:pykeen.utilities.train_utils:Epoch 1335 / 2000 (2.1s):  0.013 ---- 0.018 ---- 0.29 ---- 206\n",
      "INFO:pykeen.utilities.train_utils:Epoch 1336 / 2000 (2.0s):  0.013 ---- 0.017 ---- 0.29 ---- 207\n",
      "INFO:pykeen.utilities.train_utils:Epoch 1337 / 2000 (2.1s):  0.013 ---- 0.016 ---- 0.29 ---- 208\n",
      "INFO:pykeen.utilities.train_utils:Epoch 1338 / 2000 (2.1s):  0.013 ---- 0.018 ---- 0.29 ---- 209\n",
      "INFO:pykeen.utilities.train_utils:Epoch 1339 / 2000 (2.1s):  0.013 ---- 0.018 ---- 0.29 ---- 210\n"
     ]
    },
    {
     "data": {
      "application/vnd.jupyter.widget-view+json": {
       "model_id": "ff52f6cbf6df41b18268f12074f36bd9",
       "version_major": 2,
       "version_minor": 0
      },
      "text/plain": [
       "HBox(children=(IntProgress(value=0, max=200), HTML(value='')))"
      ]
     },
     "metadata": {},
     "output_type": "display_data"
    },
    {
     "name": "stderr",
     "output_type": "stream",
     "text": [
      "DEBUG:pykeen.utilities.evaluation_utils.metrics_computations:Evaluation took 3.89s seconds\n",
      "DEBUG:pykeen.utilities.train_utils:\n",
      "current metric: 0.29232971842013  ---- rank/hits@10: (0.21949678206005374, 0.4375)\n",
      "INFO:pykeen.utilities.train_utils:Epoch 1340 / 2000 (2.1s):  0.013 ---- 0.016 ---- 0.29 ---- 211\n",
      "INFO:pykeen.utilities.train_utils:Epoch 1341 / 2000 (2.1s):  0.013 ---- 0.017 ---- 0.29 ---- 212\n",
      "INFO:pykeen.utilities.train_utils:Epoch 1342 / 2000 (2.1s):  0.013 ---- 0.017 ---- 0.29 ---- 213\n",
      "INFO:pykeen.utilities.train_utils:Epoch 1343 / 2000 (2.1s):  0.013 ---- 0.016 ---- 0.29 ---- 214\n",
      "INFO:pykeen.utilities.train_utils:Epoch 1344 / 2000 (2.1s):  0.013 ---- 0.017 ---- 0.29 ---- 215\n"
     ]
    },
    {
     "data": {
      "application/vnd.jupyter.widget-view+json": {
       "model_id": "9747b14aff4d45d0960a5ed9aab73809",
       "version_major": 2,
       "version_minor": 0
      },
      "text/plain": [
       "HBox(children=(IntProgress(value=0, max=200), HTML(value='')))"
      ]
     },
     "metadata": {},
     "output_type": "display_data"
    },
    {
     "name": "stdout",
     "output_type": "stream",
     "text": [
      "\n",
      "\n"
     ]
    },
    {
     "name": "stderr",
     "output_type": "stream",
     "text": [
      "DEBUG:pykeen.utilities.evaluation_utils.metrics_computations:Evaluation took 3.88s seconds\n",
      "DEBUG:pykeen.utilities.train_utils:\n",
      "current metric: 0.2938656589844179  ---- rank/hits@10: (0.21936367233144816, 0.445)\n",
      "INFO:pykeen.utilities.train_utils:Epoch 1345 / 2000 (2.1s):  0.013 ---- 0.017 ---- 0.29 ---- 216\n",
      "INFO:pykeen.utilities.train_utils:Epoch 1346 / 2000 (2.0s):  0.013 ---- 0.018 ---- 0.29 ---- 217\n",
      "INFO:pykeen.utilities.train_utils:Epoch 1347 / 2000 (2.1s):  0.013 ---- 0.017 ---- 0.29 ---- 218\n",
      "INFO:pykeen.utilities.train_utils:Epoch 1348 / 2000 (2.0s):  0.013 ---- 0.017 ---- 0.29 ---- 219\n",
      "INFO:pykeen.utilities.train_utils:Epoch 1349 / 2000 (2.1s):  0.013 ---- 0.017 ---- 0.29 ---- 220\n"
     ]
    },
    {
     "data": {
      "application/vnd.jupyter.widget-view+json": {
       "model_id": "c1104b6400cb47e18ca7f9dc5f149f6e",
       "version_major": 2,
       "version_minor": 0
      },
      "text/plain": [
       "HBox(children=(IntProgress(value=0, max=200), HTML(value='')))"
      ]
     },
     "metadata": {},
     "output_type": "display_data"
    },
    {
     "name": "stderr",
     "output_type": "stream",
     "text": [
      "DEBUG:pykeen.utilities.evaluation_utils.metrics_computations:Evaluation took 3.87s seconds\n",
      "DEBUG:pykeen.utilities.train_utils:\n",
      "current metric: 0.2903999522761553  ---- rank/hits@10: (0.21611498245603905, 0.4425)\n",
      "INFO:pykeen.utilities.train_utils:Epoch 1350 / 2000 (2.0s):  0.013 ---- 0.018 ---- 0.29 ---- 221\n",
      "INFO:pykeen.utilities.train_utils:Epoch 1351 / 2000 (2.1s):  0.013 ---- 0.017 ---- 0.29 ---- 222\n",
      "INFO:pykeen.utilities.train_utils:Epoch 1352 / 2000 (2.0s):  0.013 ---- 0.019 ---- 0.29 ---- 223\n",
      "INFO:pykeen.utilities.train_utils:Epoch 1353 / 2000 (2.1s):  0.013 ---- 0.017 ---- 0.29 ---- 224\n",
      "INFO:pykeen.utilities.train_utils:Epoch 1354 / 2000 (2.1s):  0.013 ---- 0.017 ---- 0.29 ---- 225\n"
     ]
    },
    {
     "data": {
      "application/vnd.jupyter.widget-view+json": {
       "model_id": "cb89cf5183a44767b4ae2c031d151e83",
       "version_major": 2,
       "version_minor": 0
      },
      "text/plain": [
       "HBox(children=(IntProgress(value=0, max=200), HTML(value='')))"
      ]
     },
     "metadata": {},
     "output_type": "display_data"
    },
    {
     "name": "stderr",
     "output_type": "stream",
     "text": [
      "DEBUG:pykeen.utilities.evaluation_utils.metrics_computations:Evaluation took 3.89s seconds\n",
      "DEBUG:pykeen.utilities.train_utils:\n",
      "current metric: 0.28908555491279486  ---- rank/hits@10: (0.2140788476428203, 0.445)\n",
      "INFO:pykeen.utilities.train_utils:Epoch 1355 / 2000 (2.1s):  0.013 ---- 0.016 ---- 0.29 ---- 226\n",
      "INFO:pykeen.utilities.train_utils:Epoch 1356 / 2000 (2.1s):  0.013 ---- 0.016 ---- 0.29 ---- 227\n",
      "INFO:pykeen.utilities.train_utils:Epoch 1357 / 2000 (2.1s):  0.013 ---- 0.018 ---- 0.29 ---- 228\n",
      "INFO:pykeen.utilities.train_utils:Epoch 1358 / 2000 (2.0s):  0.013 ---- 0.017 ---- 0.29 ---- 229\n",
      "INFO:pykeen.utilities.train_utils:Epoch 1359 / 2000 (2.1s):  0.013 ---- 0.017 ---- 0.29 ---- 230\n"
     ]
    },
    {
     "data": {
      "application/vnd.jupyter.widget-view+json": {
       "model_id": "9facfd0539124425a5a338bfc1e02f13",
       "version_major": 2,
       "version_minor": 0
      },
      "text/plain": [
       "HBox(children=(IntProgress(value=0, max=200), HTML(value='')))"
      ]
     },
     "metadata": {},
     "output_type": "display_data"
    },
    {
     "name": "stdout",
     "output_type": "stream",
     "text": [
      "\n",
      "\n"
     ]
    },
    {
     "name": "stderr",
     "output_type": "stream",
     "text": [
      "DEBUG:pykeen.utilities.evaluation_utils.metrics_computations:Evaluation took 3.87s seconds\n",
      "DEBUG:pykeen.utilities.train_utils:\n",
      "current metric: 0.28987415467353755  ---- rank/hits@10: (0.21379748227727519, 0.45)\n",
      "INFO:pykeen.utilities.train_utils:Epoch 1360 / 2000 (2.0s):  0.013 ---- 0.017 ---- 0.29 ---- 231\n",
      "INFO:pykeen.utilities.train_utils:Epoch 1361 / 2000 (2.1s):  0.013 ---- 0.017 ---- 0.29 ---- 232\n",
      "INFO:pykeen.utilities.train_utils:Epoch 1362 / 2000 (2.1s):  0.013 ---- 0.017 ---- 0.29 ---- 233\n",
      "INFO:pykeen.utilities.train_utils:Epoch 1363 / 2000 (2.1s):  0.013 ---- 0.016 ---- 0.29 ---- 234\n",
      "INFO:pykeen.utilities.train_utils:Epoch 1364 / 2000 (2.1s):  0.013 ---- 0.017 ---- 0.29 ---- 235\n"
     ]
    },
    {
     "data": {
      "application/vnd.jupyter.widget-view+json": {
       "model_id": "10e868d414ea4632a889df3191d3e0d4",
       "version_major": 2,
       "version_minor": 0
      },
      "text/plain": [
       "HBox(children=(IntProgress(value=0, max=200), HTML(value='')))"
      ]
     },
     "metadata": {},
     "output_type": "display_data"
    },
    {
     "name": "stderr",
     "output_type": "stream",
     "text": [
      "DEBUG:pykeen.utilities.evaluation_utils.metrics_computations:Evaluation took 3.89s seconds\n",
      "DEBUG:pykeen.utilities.train_utils:\n",
      "current metric: 0.292703378398395  ---- rank/hits@10: (0.21747550481849276, 0.4475)\n",
      "INFO:pykeen.utilities.train_utils:Epoch 1365 / 2000 (2.1s):  0.013 ---- 0.018 ---- 0.29 ---- 236\n",
      "INFO:pykeen.utilities.train_utils:Epoch 1366 / 2000 (2.1s):  0.013 ---- 0.017 ---- 0.29 ---- 237\n",
      "INFO:pykeen.utilities.train_utils:Epoch 1367 / 2000 (2.1s):  0.013 ---- 0.016 ---- 0.29 ---- 238\n",
      "INFO:pykeen.utilities.train_utils:Epoch 1368 / 2000 (2.0s):  0.013 ---- 0.018 ---- 0.29 ---- 239\n",
      "INFO:pykeen.utilities.train_utils:Epoch 1369 / 2000 (2.1s):  0.013 ---- 0.016 ---- 0.29 ---- 240\n"
     ]
    },
    {
     "data": {
      "application/vnd.jupyter.widget-view+json": {
       "model_id": "e979a6fab9a94e529ffa3c9ba8e8d6ef",
       "version_major": 2,
       "version_minor": 0
      },
      "text/plain": [
       "HBox(children=(IntProgress(value=0, max=200), HTML(value='')))"
      ]
     },
     "metadata": {},
     "output_type": "display_data"
    },
    {
     "name": "stderr",
     "output_type": "stream",
     "text": [
      "DEBUG:pykeen.utilities.evaluation_utils.metrics_computations:Evaluation took 3.88s seconds\n",
      "DEBUG:pykeen.utilities.train_utils:\n",
      "current metric: 0.29254884751919685  ---- rank/hits@10: (0.21672027593658888, 0.45)\n",
      "INFO:pykeen.utilities.train_utils:Epoch 1370 / 2000 (2.0s):  0.013 ---- 0.016 ---- 0.29 ---- 241\n",
      "INFO:pykeen.utilities.train_utils:Epoch 1371 / 2000 (2.0s):  0.013 ---- 0.017 ---- 0.29 ---- 242\n",
      "INFO:pykeen.utilities.train_utils:Epoch 1372 / 2000 (2.0s):  0.013 ---- 0.016 ---- 0.29 ---- 243\n",
      "INFO:pykeen.utilities.train_utils:Epoch 1373 / 2000 (2.0s):  0.013 ---- 0.017 ---- 0.29 ---- 244\n",
      "INFO:pykeen.utilities.train_utils:Epoch 1374 / 2000 (2.0s):  0.013 ---- 0.018 ---- 0.29 ---- 245\n"
     ]
    },
    {
     "name": "stdout",
     "output_type": "stream",
     "text": [
      "\n",
      "\n"
     ]
    },
    {
     "data": {
      "application/vnd.jupyter.widget-view+json": {
       "model_id": "3f2ca07b6b8e4f85abb708ef08543851",
       "version_major": 2,
       "version_minor": 0
      },
      "text/plain": [
       "HBox(children=(IntProgress(value=0, max=200), HTML(value='')))"
      ]
     },
     "metadata": {},
     "output_type": "display_data"
    },
    {
     "name": "stderr",
     "output_type": "stream",
     "text": [
      "DEBUG:pykeen.utilities.evaluation_utils.metrics_computations:Evaluation took 3.88s seconds\n",
      "DEBUG:pykeen.utilities.train_utils:\n",
      "current metric: 0.2925367953969851  ---- rank/hits@10: (0.21729163696629805, 0.4475)\n",
      "INFO:pykeen.utilities.train_utils:Epoch 1375 / 2000 (2.1s):  0.013 ---- 0.016 ---- 0.29 ---- 246\n",
      "INFO:pykeen.utilities.train_utils:Epoch 1376 / 2000 (2.1s):  0.013 ---- 0.016 ---- 0.29 ---- 247\n",
      "INFO:pykeen.utilities.train_utils:Epoch 1377 / 2000 (2.1s):  0.013 ---- 0.018 ---- 0.29 ---- 248\n",
      "INFO:pykeen.utilities.train_utils:Epoch 1378 / 2000 (2.0s):  0.013 ---- 0.016 ---- 0.29 ---- 249\n",
      "INFO:pykeen.utilities.train_utils:Epoch 1379 / 2000 (2.1s):  0.013 ---- 0.017 ---- 0.29 ---- 250\n"
     ]
    },
    {
     "data": {
      "application/vnd.jupyter.widget-view+json": {
       "model_id": "68e70a027e084842974512e0381908cb",
       "version_major": 2,
       "version_minor": 0
      },
      "text/plain": [
       "HBox(children=(IntProgress(value=0, max=200), HTML(value='')))"
      ]
     },
     "metadata": {},
     "output_type": "display_data"
    },
    {
     "name": "stderr",
     "output_type": "stream",
     "text": [
      "DEBUG:pykeen.utilities.evaluation_utils.metrics_computations:Evaluation took 3.90s seconds\n",
      "DEBUG:pykeen.utilities.train_utils:\n",
      "current metric: 0.29282344187401355  ---- rank/hits@10: (0.2176080893059364, 0.4475)\n",
      "INFO:pykeen.utilities.train_utils:Epoch 1380 / 2000 (2.0s):  0.013 ---- 0.016 ---- 0.29 ---- 251\n",
      "INFO:pykeen.utilities.train_utils:Epoch 1381 / 2000 (2.1s):  0.013 ---- 0.017 ---- 0.29 ---- 252\n",
      "INFO:pykeen.utilities.train_utils:Epoch 1382 / 2000 (2.1s):  0.013 ---- 0.018 ---- 0.29 ---- 253\n",
      "INFO:pykeen.utilities.train_utils:Epoch 1383 / 2000 (2.1s):  0.013 ---- 0.017 ---- 0.29 ---- 254\n",
      "INFO:pykeen.utilities.train_utils:Epoch 1384 / 2000 (2.1s):  0.013 ---- 0.017 ---- 0.29 ---- 255\n"
     ]
    },
    {
     "data": {
      "application/vnd.jupyter.widget-view+json": {
       "model_id": "9ebb58d4ece147fc9509e708c446ddbe",
       "version_major": 2,
       "version_minor": 0
      },
      "text/plain": [
       "HBox(children=(IntProgress(value=0, max=200), HTML(value='')))"
      ]
     },
     "metadata": {},
     "output_type": "display_data"
    },
    {
     "name": "stderr",
     "output_type": "stream",
     "text": [
      "DEBUG:pykeen.utilities.evaluation_utils.metrics_computations:Evaluation took 3.89s seconds\n",
      "DEBUG:pykeen.utilities.train_utils:\n",
      "current metric: 0.28939487811205394  ---- rank/hits@10: (0.2150035801550341, 0.4425)\n",
      "INFO:pykeen.utilities.train_utils:Epoch 1385 / 2000 (2.1s):  0.013 ---- 0.016 ---- 0.29 ---- 256\n",
      "INFO:pykeen.utilities.train_utils:Epoch 1386 / 2000 (2.1s):  0.013 ---- 0.016 ---- 0.29 ---- 257\n",
      "INFO:pykeen.utilities.train_utils:Epoch 1387 / 2000 (2.1s):  0.013 ---- 0.017 ---- 0.29 ---- 258\n",
      "INFO:pykeen.utilities.train_utils:Epoch 1388 / 2000 (2.1s):  0.013 ---- 0.017 ---- 0.29 ---- 259\n",
      "INFO:pykeen.utilities.train_utils:Epoch 1389 / 2000 (2.1s):  0.013 ---- 0.016 ---- 0.29 ---- 260\n"
     ]
    },
    {
     "name": "stdout",
     "output_type": "stream",
     "text": [
      "\n",
      "\n"
     ]
    },
    {
     "data": {
      "application/vnd.jupyter.widget-view+json": {
       "model_id": "e6fdb2ca6d1c4a17b1de75272f766a86",
       "version_major": 2,
       "version_minor": 0
      },
      "text/plain": [
       "HBox(children=(IntProgress(value=0, max=200), HTML(value='')))"
      ]
     },
     "metadata": {},
     "output_type": "display_data"
    },
    {
     "name": "stderr",
     "output_type": "stream",
     "text": [
      "DEBUG:pykeen.utilities.evaluation_utils.metrics_computations:Evaluation took 3.89s seconds\n",
      "DEBUG:pykeen.utilities.train_utils:\n",
      "current metric: 0.29249015195705186  ---- rank/hits@10: (0.21843838151971767, 0.4425)\n",
      "INFO:pykeen.utilities.train_utils:Epoch 1390 / 2000 (2.0s):  0.013 ---- 0.016 ---- 0.29 ---- 261\n",
      "INFO:pykeen.utilities.train_utils:Epoch 1391 / 2000 (2.1s):  0.013 ---- 0.018 ---- 0.29 ---- 262\n",
      "INFO:pykeen.utilities.train_utils:Epoch 1392 / 2000 (2.1s):  0.013 ---- 0.017 ---- 0.29 ---- 263\n",
      "INFO:pykeen.utilities.train_utils:Epoch 1393 / 2000 (2.1s):  0.013 ---- 0.017 ---- 0.29 ---- 264\n",
      "INFO:pykeen.utilities.train_utils:Epoch 1394 / 2000 (2.1s):  0.013 ---- 0.017 ---- 0.29 ---- 265\n"
     ]
    },
    {
     "data": {
      "application/vnd.jupyter.widget-view+json": {
       "model_id": "fed97396352843a49e2236dee74b10b4",
       "version_major": 2,
       "version_minor": 0
      },
      "text/plain": [
       "HBox(children=(IntProgress(value=0, max=200), HTML(value='')))"
      ]
     },
     "metadata": {},
     "output_type": "display_data"
    },
    {
     "name": "stderr",
     "output_type": "stream",
     "text": [
      "DEBUG:pykeen.utilities.evaluation_utils.metrics_computations:Evaluation took 3.87s seconds\n",
      "DEBUG:pykeen.utilities.train_utils:\n",
      "current metric: 0.2929818400558319  ---- rank/hits@10: (0.2177830872031236, 0.4475)\n",
      "INFO:pykeen.utilities.train_utils:Epoch 1395 / 2000 (2.1s):  0.013 ---- 0.017 ---- 0.29 ---- 266\n",
      "INFO:pykeen.utilities.train_utils:Epoch 1396 / 2000 (2.1s):  0.013 ---- 0.017 ---- 0.29 ---- 267\n",
      "INFO:pykeen.utilities.train_utils:Epoch 1397 / 2000 (2.1s):  0.013 ---- 0.017 ---- 0.29 ---- 268\n",
      "INFO:pykeen.utilities.train_utils:Epoch 1398 / 2000 (2.1s):  0.013 ---- 0.016 ---- 0.29 ---- 269\n",
      "INFO:pykeen.utilities.train_utils:Epoch 1399 / 2000 (2.0s):  0.013 ---- 0.016 ---- 0.29 ---- 270\n"
     ]
    },
    {
     "data": {
      "application/vnd.jupyter.widget-view+json": {
       "model_id": "3da6cd32bee34e10a73da0bab51aac97",
       "version_major": 2,
       "version_minor": 0
      },
      "text/plain": [
       "HBox(children=(IntProgress(value=0, max=200), HTML(value='')))"
      ]
     },
     "metadata": {},
     "output_type": "display_data"
    },
    {
     "name": "stderr",
     "output_type": "stream",
     "text": [
      "DEBUG:pykeen.utilities.evaluation_utils.metrics_computations:Evaluation took 3.87s seconds\n",
      "DEBUG:pykeen.utilities.train_utils:\n",
      "current metric: 0.2925132112258375  ---- rank/hits@10: (0.21610625813595527, 0.4525)\n",
      "INFO:pykeen.utilities.train_utils:Epoch 1400 / 2000 (2.1s):  0.013 ---- 0.018 ---- 0.29 ---- 271\n",
      "INFO:pykeen.utilities.train_utils:Epoch 1401 / 2000 (2.1s):  0.013 ---- 0.018 ---- 0.29 ---- 272\n",
      "INFO:pykeen.utilities.train_utils:Epoch 1402 / 2000 (2.1s):  0.013 ---- 0.017 ---- 0.29 ---- 273\n",
      "INFO:pykeen.utilities.train_utils:Epoch 1403 / 2000 (2.1s):  0.013 ---- 0.016 ---- 0.29 ---- 274\n",
      "INFO:pykeen.utilities.train_utils:Epoch 1404 / 2000 (2.1s):  0.013 ---- 0.016 ---- 0.29 ---- 275\n"
     ]
    },
    {
     "name": "stdout",
     "output_type": "stream",
     "text": [
      "\n",
      "\n",
      "\n",
      "\n",
      "\n",
      "\n",
      "\n",
      "\n",
      "\n",
      "\n",
      "\n",
      "\n",
      "\n"
     ]
    },
    {
     "data": {
      "application/vnd.jupyter.widget-view+json": {
       "model_id": "81bfbc6697ab4bc289c6826c28fb6075",
       "version_major": 2,
       "version_minor": 0
      },
      "text/plain": [
       "HBox(children=(IntProgress(value=0, max=200), HTML(value='')))"
      ]
     },
     "metadata": {},
     "output_type": "display_data"
    },
    {
     "name": "stderr",
     "output_type": "stream",
     "text": [
      "DEBUG:pykeen.utilities.evaluation_utils.metrics_computations:Evaluation took 3.89s seconds\n",
      "DEBUG:pykeen.utilities.train_utils:\n",
      "current metric: 0.2957270011399192  ---- rank/hits@10: (0.22083062854799543, 0.4475)\n",
      "INFO:pykeen.utilities.train_utils:Epoch 1405 / 2000 (2.0s):  0.013 ---- 0.016 ---- 0.30 ---- 276\n",
      "INFO:pykeen.utilities.train_utils:Epoch 1406 / 2000 (2.0s):  0.013 ---- 0.017 ---- 0.30 ---- 277\n",
      "INFO:pykeen.utilities.train_utils:Epoch 1407 / 2000 (2.1s):  0.013 ---- 0.017 ---- 0.30 ---- 278\n",
      "INFO:pykeen.utilities.train_utils:Epoch 1408 / 2000 (2.1s):  0.013 ---- 0.017 ---- 0.30 ---- 279\n",
      "INFO:pykeen.utilities.train_utils:Epoch 1409 / 2000 (2.1s):  0.013 ---- 0.017 ---- 0.30 ---- 280\n"
     ]
    },
    {
     "data": {
      "application/vnd.jupyter.widget-view+json": {
       "model_id": "cde704c4b55a400f87b1c9544e449685",
       "version_major": 2,
       "version_minor": 0
      },
      "text/plain": [
       "HBox(children=(IntProgress(value=0, max=200), HTML(value='')))"
      ]
     },
     "metadata": {},
     "output_type": "display_data"
    },
    {
     "name": "stderr",
     "output_type": "stream",
     "text": [
      "DEBUG:pykeen.utilities.evaluation_utils.metrics_computations:Evaluation took 3.88s seconds\n",
      "DEBUG:pykeen.utilities.train_utils:\n",
      "current metric: 0.2928311185966265  ---- rank/hits@10: (0.21703023228711507, 0.45)\n",
      "INFO:pykeen.utilities.train_utils:Epoch 1410 / 2000 (2.1s):  0.013 ---- 0.017 ---- 0.29 ---- 281\n",
      "INFO:pykeen.utilities.train_utils:Epoch 1411 / 2000 (2.1s):  0.013 ---- 0.016 ---- 0.29 ---- 282\n",
      "INFO:pykeen.utilities.train_utils:Epoch 1412 / 2000 (2.0s):  0.013 ---- 0.016 ---- 0.29 ---- 283\n",
      "INFO:pykeen.utilities.train_utils:Epoch 1413 / 2000 (2.1s):  0.013 ---- 0.017 ---- 0.29 ---- 284\n",
      "INFO:pykeen.utilities.train_utils:Epoch 1414 / 2000 (2.1s):  0.013 ---- 0.016 ---- 0.29 ---- 285\n"
     ]
    },
    {
     "data": {
      "application/vnd.jupyter.widget-view+json": {
       "model_id": "6cd357737aa24f4fb28eba5610643edb",
       "version_major": 2,
       "version_minor": 0
      },
      "text/plain": [
       "HBox(children=(IntProgress(value=0, max=200), HTML(value='')))"
      ]
     },
     "metadata": {},
     "output_type": "display_data"
    },
    {
     "name": "stderr",
     "output_type": "stream",
     "text": [
      "DEBUG:pykeen.utilities.evaluation_utils.metrics_computations:Evaluation took 3.88s seconds\n",
      "DEBUG:pykeen.utilities.train_utils:\n",
      "current metric: 0.2916540431526645  ---- rank/hits@10: (0.2169080407708844, 0.445)\n",
      "INFO:pykeen.utilities.train_utils:Epoch 1415 / 2000 (2.1s):  0.013 ---- 0.017 ---- 0.29 ---- 286\n",
      "INFO:pykeen.utilities.train_utils:Epoch 1416 / 2000 (2.0s):  0.013 ---- 0.017 ---- 0.29 ---- 287\n",
      "INFO:pykeen.utilities.train_utils:Epoch 1417 / 2000 (2.1s):  0.013 ---- 0.016 ---- 0.29 ---- 288\n",
      "INFO:pykeen.utilities.train_utils:Epoch 1418 / 2000 (2.1s):  0.013 ---- 0.017 ---- 0.29 ---- 289\n",
      "INFO:pykeen.utilities.train_utils:Epoch 1419 / 2000 (2.1s):  0.013 ---- 0.017 ---- 0.29 ---- 290\n"
     ]
    },
    {
     "data": {
      "application/vnd.jupyter.widget-view+json": {
       "model_id": "7803e462cabb44e5ad48a0117d7caacd",
       "version_major": 2,
       "version_minor": 0
      },
      "text/plain": [
       "HBox(children=(IntProgress(value=0, max=200), HTML(value='')))"
      ]
     },
     "metadata": {},
     "output_type": "display_data"
    },
    {
     "name": "stdout",
     "output_type": "stream",
     "text": [
      "\n",
      "\n"
     ]
    },
    {
     "name": "stderr",
     "output_type": "stream",
     "text": [
      "DEBUG:pykeen.utilities.evaluation_utils.metrics_computations:Evaluation took 3.89s seconds\n",
      "DEBUG:pykeen.utilities.train_utils:\n",
      "current metric: 0.2912086390704222  ---- rank/hits@10: (0.21582929868917602, 0.4475)\n",
      "INFO:pykeen.utilities.train_utils:Epoch 1420 / 2000 (2.1s):  0.013 ---- 0.016 ---- 0.29 ---- 291\n",
      "INFO:pykeen.utilities.train_utils:Epoch 1421 / 2000 (2.1s):  0.013 ---- 0.017 ---- 0.29 ---- 292\n",
      "INFO:pykeen.utilities.train_utils:Epoch 1422 / 2000 (2.1s):  0.013 ---- 0.016 ---- 0.29 ---- 293\n",
      "INFO:pykeen.utilities.train_utils:Epoch 1423 / 2000 (2.1s):  0.013 ---- 0.016 ---- 0.29 ---- 294\n",
      "INFO:pykeen.utilities.train_utils:Epoch 1424 / 2000 (2.1s):  0.013 ---- 0.016 ---- 0.29 ---- 295\n"
     ]
    },
    {
     "data": {
      "application/vnd.jupyter.widget-view+json": {
       "model_id": "9b5f0deb28a54c63a24d1e9d6d9b7f28",
       "version_major": 2,
       "version_minor": 0
      },
      "text/plain": [
       "HBox(children=(IntProgress(value=0, max=200), HTML(value='')))"
      ]
     },
     "metadata": {},
     "output_type": "display_data"
    },
    {
     "name": "stderr",
     "output_type": "stream",
     "text": [
      "DEBUG:pykeen.utilities.evaluation_utils.metrics_computations:Evaluation took 3.89s seconds\n",
      "DEBUG:pykeen.utilities.train_utils:\n",
      "current metric: 0.2918605409264183  ---- rank/hits@10: (0.2177368026764826, 0.4425)\n",
      "INFO:pykeen.utilities.train_utils:Epoch 1425 / 2000 (2.1s):  0.013 ---- 0.017 ---- 0.29 ---- 296\n",
      "INFO:pykeen.utilities.train_utils:Epoch 1426 / 2000 (2.1s):  0.013 ---- 0.016 ---- 0.29 ---- 297\n",
      "INFO:pykeen.utilities.train_utils:Epoch 1427 / 2000 (2.1s):  0.013 ---- 0.017 ---- 0.29 ---- 298\n",
      "INFO:pykeen.utilities.train_utils:Epoch 1428 / 2000 (2.1s):  0.013 ---- 0.017 ---- 0.29 ---- 299\n",
      "INFO:pykeen.utilities.train_utils:Epoch 1429 / 2000 (2.1s):  0.013 ---- 0.016 ---- 0.29 ---- 300\n"
     ]
    },
    {
     "data": {
      "application/vnd.jupyter.widget-view+json": {
       "model_id": "dc23d2ce840b4db5b48ca354378cad4f",
       "version_major": 2,
       "version_minor": 0
      },
      "text/plain": [
       "HBox(children=(IntProgress(value=0, max=200), HTML(value='')))"
      ]
     },
     "metadata": {},
     "output_type": "display_data"
    },
    {
     "name": "stderr",
     "output_type": "stream",
     "text": [
      "DEBUG:pykeen.utilities.evaluation_utils.metrics_computations:Evaluation took 3.88s seconds\n",
      "DEBUG:pykeen.utilities.train_utils:\n",
      "current metric: 0.2925834588021692  ---- rank/hits@10: (0.21734313196916935, 0.4475)\n",
      "INFO:pykeen.utilities.train_utils:Epoch 1430 / 2000 (2.1s):  0.013 ---- 0.018 ---- 0.29 ---- 301\n",
      "INFO:pykeen.utilities.train_utils:Epoch 1431 / 2000 (2.1s):  0.013 ---- 0.017 ---- 0.29 ---- 302\n",
      "INFO:pykeen.utilities.train_utils:Epoch 1432 / 2000 (2.1s):  0.013 ---- 0.016 ---- 0.29 ---- 303\n",
      "INFO:pykeen.utilities.train_utils:Epoch 1433 / 2000 (2.1s):  0.013 ---- 0.017 ---- 0.29 ---- 304\n",
      "INFO:pykeen.utilities.train_utils:Epoch 1434 / 2000 (2.1s):  0.013 ---- 0.017 ---- 0.29 ---- 305\n"
     ]
    },
    {
     "name": "stdout",
     "output_type": "stream",
     "text": [
      "\n",
      "\n"
     ]
    },
    {
     "data": {
      "application/vnd.jupyter.widget-view+json": {
       "model_id": "567491a8bf4e496d8c0bde11978bec7f",
       "version_major": 2,
       "version_minor": 0
      },
      "text/plain": [
       "HBox(children=(IntProgress(value=0, max=200), HTML(value='')))"
      ]
     },
     "metadata": {},
     "output_type": "display_data"
    },
    {
     "name": "stderr",
     "output_type": "stream",
     "text": [
      "DEBUG:pykeen.utilities.evaluation_utils.metrics_computations:Evaluation took 3.89s seconds\n",
      "DEBUG:pykeen.utilities.train_utils:\n",
      "current metric: 0.29428422383564184  ---- rank/hits@10: (0.21804514715825912, 0.4525)\n",
      "INFO:pykeen.utilities.train_utils:Epoch 1435 / 2000 (2.1s):  0.013 ---- 0.017 ---- 0.29 ---- 306\n",
      "INFO:pykeen.utilities.train_utils:Epoch 1436 / 2000 (2.1s):  0.013 ---- 0.017 ---- 0.29 ---- 307\n",
      "INFO:pykeen.utilities.train_utils:Epoch 1437 / 2000 (2.1s):  0.013 ---- 0.017 ---- 0.29 ---- 308\n",
      "INFO:pykeen.utilities.train_utils:Epoch 1438 / 2000 (2.0s):  0.013 ---- 0.017 ---- 0.29 ---- 309\n",
      "INFO:pykeen.utilities.train_utils:Epoch 1439 / 2000 (2.1s):  0.013 ---- 0.016 ---- 0.29 ---- 310\n"
     ]
    },
    {
     "data": {
      "application/vnd.jupyter.widget-view+json": {
       "model_id": "38baab7a41ae4842a8f45a064cc72280",
       "version_major": 2,
       "version_minor": 0
      },
      "text/plain": [
       "HBox(children=(IntProgress(value=0, max=200), HTML(value='')))"
      ]
     },
     "metadata": {},
     "output_type": "display_data"
    },
    {
     "name": "stderr",
     "output_type": "stream",
     "text": [
      "DEBUG:pykeen.utilities.evaluation_utils.metrics_computations:Evaluation took 3.89s seconds\n",
      "DEBUG:pykeen.utilities.train_utils:\n",
      "current metric: 0.2967482618770861  ---- rank/hits@10: (0.22136151361984194, 0.45)\n",
      "INFO:pykeen.utilities.train_utils:Epoch 1440 / 2000 (2.1s):  0.013 ---- 0.016 ---- 0.30 ---- 311\n",
      "INFO:pykeen.utilities.train_utils:Epoch 1441 / 2000 (2.1s):  0.013 ---- 0.017 ---- 0.30 ---- 312\n",
      "INFO:pykeen.utilities.train_utils:Epoch 1442 / 2000 (2.0s):  0.013 ---- 0.017 ---- 0.30 ---- 313\n",
      "INFO:pykeen.utilities.train_utils:Epoch 1443 / 2000 (2.1s):  0.013 ---- 0.017 ---- 0.30 ---- 314\n",
      "INFO:pykeen.utilities.train_utils:Epoch 1444 / 2000 (2.0s):  0.013 ---- 0.017 ---- 0.30 ---- 315\n"
     ]
    },
    {
     "data": {
      "application/vnd.jupyter.widget-view+json": {
       "model_id": "5264dfbe6582442dbee5902458453c9f",
       "version_major": 2,
       "version_minor": 0
      },
      "text/plain": [
       "HBox(children=(IntProgress(value=0, max=200), HTML(value='')))"
      ]
     },
     "metadata": {},
     "output_type": "display_data"
    },
    {
     "name": "stderr",
     "output_type": "stream",
     "text": [
      "DEBUG:pykeen.utilities.evaluation_utils.metrics_computations:Evaluation took 3.87s seconds\n",
      "DEBUG:pykeen.utilities.train_utils:\n",
      "current metric: 0.2958195529287719  ---- rank/hits@10: (0.22032953807631864, 0.45)\n",
      "INFO:pykeen.utilities.train_utils:Epoch 1445 / 2000 (2.1s):  0.013 ---- 0.017 ---- 0.30 ---- 316\n",
      "INFO:pykeen.utilities.train_utils:Epoch 1446 / 2000 (2.1s):  0.013 ---- 0.017 ---- 0.30 ---- 317\n",
      "INFO:pykeen.utilities.train_utils:Epoch 1447 / 2000 (2.1s):  0.013 ---- 0.019 ---- 0.30 ---- 318\n",
      "INFO:pykeen.utilities.train_utils:Epoch 1448 / 2000 (2.1s):  0.013 ---- 0.017 ---- 0.30 ---- 319\n",
      "INFO:pykeen.utilities.train_utils:Epoch 1449 / 2000 (2.1s):  0.013 ---- 0.017 ---- 0.30 ---- 320\n"
     ]
    },
    {
     "name": "stdout",
     "output_type": "stream",
     "text": [
      "\n",
      "\n"
     ]
    },
    {
     "data": {
      "application/vnd.jupyter.widget-view+json": {
       "model_id": "84d7e6fbfbdb4d4db4f9e714dddf50f8",
       "version_major": 2,
       "version_minor": 0
      },
      "text/plain": [
       "HBox(children=(IntProgress(value=0, max=200), HTML(value='')))"
      ]
     },
     "metadata": {},
     "output_type": "display_data"
    },
    {
     "name": "stderr",
     "output_type": "stream",
     "text": [
      "DEBUG:pykeen.utilities.evaluation_utils.metrics_computations:Evaluation took 3.88s seconds\n",
      "DEBUG:pykeen.utilities.train_utils:\n",
      "current metric: 0.29148842411523285  ---- rank/hits@10: (0.2173228508284955, 0.4425)\n",
      "INFO:pykeen.utilities.train_utils:Epoch 1450 / 2000 (2.0s):  0.013 ---- 0.017 ---- 0.29 ---- 321\n",
      "INFO:pykeen.utilities.train_utils:Epoch 1451 / 2000 (2.1s):  0.013 ---- 0.017 ---- 0.29 ---- 322\n",
      "INFO:pykeen.utilities.train_utils:Epoch 1452 / 2000 (2.1s):  0.013 ---- 0.018 ---- 0.29 ---- 323\n",
      "INFO:pykeen.utilities.train_utils:Epoch 1453 / 2000 (2.1s):  0.013 ---- 0.016 ---- 0.29 ---- 324\n",
      "INFO:pykeen.utilities.train_utils:Epoch 1454 / 2000 (2.0s):  0.013 ---- 0.017 ---- 0.29 ---- 325\n"
     ]
    },
    {
     "data": {
      "application/vnd.jupyter.widget-view+json": {
       "model_id": "4010845fbb5f4140963f986451f01e4c",
       "version_major": 2,
       "version_minor": 0
      },
      "text/plain": [
       "HBox(children=(IntProgress(value=0, max=200), HTML(value='')))"
      ]
     },
     "metadata": {},
     "output_type": "display_data"
    },
    {
     "name": "stderr",
     "output_type": "stream",
     "text": [
      "DEBUG:pykeen.utilities.evaluation_utils.metrics_computations:Evaluation took 3.85s seconds\n",
      "DEBUG:pykeen.utilities.train_utils:\n",
      "current metric: 0.29137078675380174  ---- rank/hits@10: (0.21659484241060004, 0.445)\n",
      "INFO:pykeen.utilities.train_utils:Epoch 1455 / 2000 (2.1s):  0.013 ---- 0.016 ---- 0.29 ---- 326\n",
      "INFO:pykeen.utilities.train_utils:Epoch 1456 / 2000 (2.1s):  0.013 ---- 0.018 ---- 0.29 ---- 327\n",
      "INFO:pykeen.utilities.train_utils:Epoch 1457 / 2000 (2.1s):  0.013 ---- 0.017 ---- 0.29 ---- 328\n",
      "INFO:pykeen.utilities.train_utils:Epoch 1458 / 2000 (2.0s):  0.013 ---- 0.016 ---- 0.29 ---- 329\n",
      "INFO:pykeen.utilities.train_utils:Epoch 1459 / 2000 (2.1s):  0.013 ---- 0.018 ---- 0.29 ---- 330\n"
     ]
    },
    {
     "data": {
      "application/vnd.jupyter.widget-view+json": {
       "model_id": "e27b4e744d5c49b9aa26a138a702b431",
       "version_major": 2,
       "version_minor": 0
      },
      "text/plain": [
       "HBox(children=(IntProgress(value=0, max=200), HTML(value='')))"
      ]
     },
     "metadata": {},
     "output_type": "display_data"
    },
    {
     "name": "stderr",
     "output_type": "stream",
     "text": [
      "DEBUG:pykeen.utilities.evaluation_utils.metrics_computations:Evaluation took 3.87s seconds\n",
      "DEBUG:pykeen.utilities.train_utils:\n",
      "current metric: 0.2933693646923843  ---- rank/hits@10: (0.21881103577727168, 0.445)\n",
      "INFO:pykeen.utilities.train_utils:Epoch 1460 / 2000 (2.0s):  0.013 ---- 0.017 ---- 0.29 ---- 331\n",
      "INFO:pykeen.utilities.train_utils:Epoch 1461 / 2000 (2.1s):  0.013 ---- 0.016 ---- 0.29 ---- 332\n",
      "INFO:pykeen.utilities.train_utils:Epoch 1462 / 2000 (2.1s):  0.013 ---- 0.017 ---- 0.29 ---- 333\n",
      "INFO:pykeen.utilities.train_utils:Epoch 1463 / 2000 (2.1s):  0.013 ---- 0.017 ---- 0.29 ---- 334\n",
      "INFO:pykeen.utilities.train_utils:Epoch 1464 / 2000 (2.0s):  0.013 ---- 0.017 ---- 0.29 ---- 335\n"
     ]
    },
    {
     "name": "stdout",
     "output_type": "stream",
     "text": [
      "\n",
      "\n"
     ]
    },
    {
     "data": {
      "application/vnd.jupyter.widget-view+json": {
       "model_id": "64ff9d6ca56e4df7bb9d3128196651b6",
       "version_major": 2,
       "version_minor": 0
      },
      "text/plain": [
       "HBox(children=(IntProgress(value=0, max=200), HTML(value='')))"
      ]
     },
     "metadata": {},
     "output_type": "display_data"
    },
    {
     "name": "stderr",
     "output_type": "stream",
     "text": [
      "DEBUG:pykeen.utilities.evaluation_utils.metrics_computations:Evaluation took 3.88s seconds\n",
      "DEBUG:pykeen.utilities.train_utils:\n",
      "current metric: 0.2917032195398343  ---- rank/hits@10: (0.21756173115630634, 0.4425)\n",
      "INFO:pykeen.utilities.train_utils:Epoch 1465 / 2000 (2.1s):  0.013 ---- 0.017 ---- 0.29 ---- 336\n",
      "INFO:pykeen.utilities.train_utils:Epoch 1466 / 2000 (2.1s):  0.013 ---- 0.016 ---- 0.29 ---- 337\n",
      "INFO:pykeen.utilities.train_utils:Epoch 1467 / 2000 (2.1s):  0.013 ---- 0.017 ---- 0.29 ---- 338\n",
      "INFO:pykeen.utilities.train_utils:Epoch 1468 / 2000 (2.1s):  0.013 ---- 0.016 ---- 0.29 ---- 339\n",
      "INFO:pykeen.utilities.train_utils:Epoch 1469 / 2000 (2.1s):  0.013 ---- 0.017 ---- 0.29 ---- 340\n"
     ]
    },
    {
     "data": {
      "application/vnd.jupyter.widget-view+json": {
       "model_id": "5a3271533bfa4cbca5c0bf78c5a09789",
       "version_major": 2,
       "version_minor": 0
      },
      "text/plain": [
       "HBox(children=(IntProgress(value=0, max=200), HTML(value='')))"
      ]
     },
     "metadata": {},
     "output_type": "display_data"
    },
    {
     "name": "stderr",
     "output_type": "stream",
     "text": [
      "DEBUG:pykeen.utilities.evaluation_utils.metrics_computations:Evaluation took 3.90s seconds\n",
      "DEBUG:pykeen.utilities.train_utils:\n",
      "current metric: 0.29508111959718236  ---- rank/hits@10: (0.2189212547897184, 0.4525)\n",
      "INFO:pykeen.utilities.train_utils:Epoch 1470 / 2000 (2.0s):  0.013 ---- 0.017 ---- 0.30 ---- 341\n",
      "INFO:pykeen.utilities.train_utils:Epoch 1471 / 2000 (2.1s):  0.013 ---- 0.017 ---- 0.30 ---- 342\n",
      "INFO:pykeen.utilities.train_utils:Epoch 1472 / 2000 (2.1s):  0.013 ---- 0.017 ---- 0.30 ---- 343\n",
      "INFO:pykeen.utilities.train_utils:Epoch 1473 / 2000 (2.1s):  0.013 ---- 0.016 ---- 0.30 ---- 344\n",
      "INFO:pykeen.utilities.train_utils:Epoch 1474 / 2000 (2.0s):  0.013 ---- 0.017 ---- 0.30 ---- 345\n"
     ]
    },
    {
     "data": {
      "application/vnd.jupyter.widget-view+json": {
       "model_id": "571cf2a49c394c459e14569f3f5daaae",
       "version_major": 2,
       "version_minor": 0
      },
      "text/plain": [
       "HBox(children=(IntProgress(value=0, max=200), HTML(value='')))"
      ]
     },
     "metadata": {},
     "output_type": "display_data"
    },
    {
     "name": "stderr",
     "output_type": "stream",
     "text": [
      "DEBUG:pykeen.utilities.evaluation_utils.metrics_computations:Evaluation took 3.86s seconds\n",
      "DEBUG:pykeen.utilities.train_utils:\n",
      "current metric: 0.2906305743580442  ---- rank/hits@10: (0.2157777825433952, 0.445)\n",
      "INFO:pykeen.utilities.train_utils:Epoch 1475 / 2000 (2.1s):  0.013 ---- 0.017 ---- 0.29 ---- 346\n",
      "INFO:pykeen.utilities.train_utils:Epoch 1476 / 2000 (2.1s):  0.013 ---- 0.018 ---- 0.29 ---- 347\n",
      "INFO:pykeen.utilities.train_utils:Epoch 1477 / 2000 (2.1s):  0.013 ---- 0.018 ---- 0.29 ---- 348\n",
      "INFO:pykeen.utilities.train_utils:Epoch 1478 / 2000 (2.1s):  0.013 ---- 0.017 ---- 0.29 ---- 349\n",
      "INFO:pykeen.utilities.train_utils:Epoch 1479 / 2000 (2.1s):  0.013 ---- 0.016 ---- 0.29 ---- 350\n"
     ]
    },
    {
     "name": "stdout",
     "output_type": "stream",
     "text": [
      "\n",
      "\n"
     ]
    },
    {
     "data": {
      "application/vnd.jupyter.widget-view+json": {
       "model_id": "b02729ce71a849a7a1f50c843ba44187",
       "version_major": 2,
       "version_minor": 0
      },
      "text/plain": [
       "HBox(children=(IntProgress(value=0, max=200), HTML(value='')))"
      ]
     },
     "metadata": {},
     "output_type": "display_data"
    },
    {
     "name": "stderr",
     "output_type": "stream",
     "text": [
      "DEBUG:pykeen.utilities.evaluation_utils.metrics_computations:Evaluation took 3.91s seconds\n",
      "DEBUG:pykeen.utilities.train_utils:\n",
      "current metric: 0.2887967296589867  ---- rank/hits@10: (0.21553712785038823, 0.4375)\n",
      "INFO:pykeen.utilities.train_utils:Epoch 1480 / 2000 (2.1s):  0.013 ---- 0.018 ---- 0.29 ---- 351\n",
      "INFO:pykeen.utilities.train_utils:Epoch 1481 / 2000 (2.1s):  0.013 ---- 0.017 ---- 0.29 ---- 352\n",
      "INFO:pykeen.utilities.train_utils:Epoch 1482 / 2000 (2.1s):  0.013 ---- 0.018 ---- 0.29 ---- 353\n",
      "INFO:pykeen.utilities.train_utils:Epoch 1483 / 2000 (2.1s):  0.013 ---- 0.016 ---- 0.29 ---- 354\n",
      "INFO:pykeen.utilities.train_utils:Epoch 1484 / 2000 (2.1s):  0.013 ---- 0.017 ---- 0.29 ---- 355\n"
     ]
    },
    {
     "data": {
      "application/vnd.jupyter.widget-view+json": {
       "model_id": "c82d1faa9bbb4a219aa693b92fd021aa",
       "version_major": 2,
       "version_minor": 0
      },
      "text/plain": [
       "HBox(children=(IntProgress(value=0, max=200), HTML(value='')))"
      ]
     },
     "metadata": {},
     "output_type": "display_data"
    },
    {
     "name": "stderr",
     "output_type": "stream",
     "text": [
      "DEBUG:pykeen.utilities.evaluation_utils.metrics_computations:Evaluation took 3.88s seconds\n",
      "DEBUG:pykeen.utilities.train_utils:\n",
      "current metric: 0.294002909808206  ---- rank/hits@10: (0.21891337626474347, 0.4475)\n",
      "INFO:pykeen.utilities.train_utils:Epoch 1485 / 2000 (2.1s):  0.013 ---- 0.017 ---- 0.29 ---- 356\n",
      "INFO:pykeen.utilities.train_utils:Epoch 1486 / 2000 (2.1s):  0.013 ---- 0.016 ---- 0.29 ---- 357\n",
      "INFO:pykeen.utilities.train_utils:Epoch 1487 / 2000 (2.1s):  0.013 ---- 0.016 ---- 0.29 ---- 358\n",
      "INFO:pykeen.utilities.train_utils:Epoch 1488 / 2000 (2.1s):  0.013 ---- 0.018 ---- 0.29 ---- 359\n",
      "INFO:pykeen.utilities.train_utils:Epoch 1489 / 2000 (2.0s):  0.013 ---- 0.016 ---- 0.29 ---- 360\n"
     ]
    },
    {
     "data": {
      "application/vnd.jupyter.widget-view+json": {
       "model_id": "9f3bdf09790a4a4bbfb223d45c96623c",
       "version_major": 2,
       "version_minor": 0
      },
      "text/plain": [
       "HBox(children=(IntProgress(value=0, max=200), HTML(value='')))"
      ]
     },
     "metadata": {},
     "output_type": "display_data"
    },
    {
     "name": "stderr",
     "output_type": "stream",
     "text": [
      "DEBUG:pykeen.utilities.evaluation_utils.metrics_computations:Evaluation took 3.87s seconds\n",
      "DEBUG:pykeen.utilities.train_utils:\n",
      "current metric: 0.29276481697543094  ---- rank/hits@10: (0.21874490949696557, 0.4425)\n",
      "INFO:pykeen.utilities.train_utils:Epoch 1490 / 2000 (2.0s):  0.013 ---- 0.017 ---- 0.29 ---- 361\n",
      "INFO:pykeen.utilities.train_utils:Epoch 1491 / 2000 (2.1s):  0.013 ---- 0.017 ---- 0.29 ---- 362\n",
      "INFO:pykeen.utilities.train_utils:Epoch 1492 / 2000 (2.0s):  0.013 ---- 0.017 ---- 0.29 ---- 363\n",
      "INFO:pykeen.utilities.train_utils:Epoch 1493 / 2000 (2.0s):  0.013 ---- 0.016 ---- 0.29 ---- 364\n",
      "INFO:pykeen.utilities.train_utils:Epoch 1494 / 2000 (2.0s):  0.013 ---- 0.016 ---- 0.29 ---- 365\n"
     ]
    },
    {
     "name": "stdout",
     "output_type": "stream",
     "text": [
      "\n",
      "\n"
     ]
    },
    {
     "data": {
      "application/vnd.jupyter.widget-view+json": {
       "model_id": "a0d50415638540f2bd27194fdc052283",
       "version_major": 2,
       "version_minor": 0
      },
      "text/plain": [
       "HBox(children=(IntProgress(value=0, max=200), HTML(value='')))"
      ]
     },
     "metadata": {},
     "output_type": "display_data"
    },
    {
     "name": "stderr",
     "output_type": "stream",
     "text": [
      "DEBUG:pykeen.utilities.evaluation_utils.metrics_computations:Evaluation took 3.88s seconds\n",
      "DEBUG:pykeen.utilities.train_utils:\n",
      "current metric: 0.29177883298332036  ---- rank/hits@10: (0.217645864264127, 0.4425)\n",
      "INFO:pykeen.utilities.train_utils:Epoch 1495 / 2000 (2.0s):  0.013 ---- 0.017 ---- 0.29 ---- 366\n",
      "INFO:pykeen.utilities.train_utils:Epoch 1496 / 2000 (2.0s):  0.013 ---- 0.017 ---- 0.29 ---- 367\n",
      "INFO:pykeen.utilities.train_utils:Epoch 1497 / 2000 (2.1s):  0.013 ---- 0.017 ---- 0.29 ---- 368\n",
      "INFO:pykeen.utilities.train_utils:Epoch 1498 / 2000 (2.0s):  0.013 ---- 0.017 ---- 0.29 ---- 369\n",
      "INFO:pykeen.utilities.train_utils:Epoch 1499 / 2000 (2.0s):  0.013 ---- 0.017 ---- 0.29 ---- 370\n"
     ]
    },
    {
     "data": {
      "application/vnd.jupyter.widget-view+json": {
       "model_id": "93d564c31d474965a62c588b6a776d79",
       "version_major": 2,
       "version_minor": 0
      },
      "text/plain": [
       "HBox(children=(IntProgress(value=0, max=200), HTML(value='')))"
      ]
     },
     "metadata": {},
     "output_type": "display_data"
    },
    {
     "name": "stderr",
     "output_type": "stream",
     "text": [
      "DEBUG:pykeen.utilities.evaluation_utils.metrics_computations:Evaluation took 3.87s seconds\n",
      "DEBUG:pykeen.utilities.train_utils:\n",
      "current metric: 0.2944406001390405  ---- rank/hits@10: (0.21880309362383066, 0.45)\n",
      "INFO:pykeen.utilities.train_utils:Epoch 1500 / 2000 (2.0s):  0.013 ---- 0.018 ---- 0.29 ---- 371\n",
      "INFO:pykeen.utilities.train_utils:Epoch 1501 / 2000 (2.1s):  0.013 ---- 0.018 ---- 0.29 ---- 372\n",
      "INFO:pykeen.utilities.train_utils:Epoch 1502 / 2000 (2.0s):  0.013 ---- 0.018 ---- 0.29 ---- 373\n",
      "INFO:pykeen.utilities.train_utils:Epoch 1503 / 2000 (2.0s):  0.013 ---- 0.017 ---- 0.29 ---- 374\n",
      "INFO:pykeen.utilities.train_utils:Epoch 1504 / 2000 (2.1s):  0.013 ---- 0.018 ---- 0.29 ---- 375\n"
     ]
    },
    {
     "data": {
      "application/vnd.jupyter.widget-view+json": {
       "model_id": "bd487e18183349779b320e440f34e4ec",
       "version_major": 2,
       "version_minor": 0
      },
      "text/plain": [
       "HBox(children=(IntProgress(value=0, max=200), HTML(value='')))"
      ]
     },
     "metadata": {},
     "output_type": "display_data"
    },
    {
     "name": "stderr",
     "output_type": "stream",
     "text": [
      "DEBUG:pykeen.utilities.evaluation_utils.metrics_computations:Evaluation took 3.87s seconds\n",
      "DEBUG:pykeen.utilities.train_utils:\n",
      "current metric: 0.2954088687079131  ---- rank/hits@10: (0.22171029628071673, 0.4425)\n",
      "INFO:pykeen.utilities.train_utils:Epoch 1505 / 2000 (2.1s):  0.013 ---- 0.016 ---- 0.30 ---- 376\n",
      "INFO:pykeen.utilities.train_utils:Epoch 1506 / 2000 (2.0s):  0.013 ---- 0.017 ---- 0.30 ---- 377\n",
      "INFO:pykeen.utilities.train_utils:Epoch 1507 / 2000 (2.1s):  0.013 ---- 0.017 ---- 0.30 ---- 378\n",
      "INFO:pykeen.utilities.train_utils:Epoch 1508 / 2000 (2.0s):  0.013 ---- 0.017 ---- 0.30 ---- 379\n",
      "INFO:pykeen.utilities.train_utils:Epoch 1509 / 2000 (2.1s):  0.013 ---- 0.018 ---- 0.30 ---- 380\n"
     ]
    },
    {
     "data": {
      "application/vnd.jupyter.widget-view+json": {
       "model_id": "4d018ee138694b12960b69142679f7ef",
       "version_major": 2,
       "version_minor": 0
      },
      "text/plain": [
       "HBox(children=(IntProgress(value=0, max=200), HTML(value='')))"
      ]
     },
     "metadata": {},
     "output_type": "display_data"
    },
    {
     "name": "stdout",
     "output_type": "stream",
     "text": [
      "\n",
      "\n"
     ]
    },
    {
     "name": "stderr",
     "output_type": "stream",
     "text": [
      "DEBUG:pykeen.utilities.evaluation_utils.metrics_computations:Evaluation took 3.85s seconds\n",
      "DEBUG:pykeen.utilities.train_utils:\n",
      "current metric: 0.2924184385894629  ---- rank/hits@10: (0.2171610610893419, 0.4475)\n",
      "INFO:pykeen.utilities.train_utils:Epoch 1510 / 2000 (2.1s):  0.013 ---- 0.017 ---- 0.29 ---- 381\n",
      "INFO:pykeen.utilities.train_utils:Epoch 1511 / 2000 (2.1s):  0.013 ---- 0.018 ---- 0.29 ---- 382\n",
      "INFO:pykeen.utilities.train_utils:Epoch 1512 / 2000 (2.0s):  0.013 ---- 0.017 ---- 0.29 ---- 383\n",
      "INFO:pykeen.utilities.train_utils:Epoch 1513 / 2000 (2.1s):  0.013 ---- 0.017 ---- 0.29 ---- 384\n",
      "INFO:pykeen.utilities.train_utils:Epoch 1514 / 2000 (2.0s):  0.013 ---- 0.016 ---- 0.29 ---- 385\n"
     ]
    },
    {
     "data": {
      "application/vnd.jupyter.widget-view+json": {
       "model_id": "43fdb6f02b314623a4f7a2b1c0673e39",
       "version_major": 2,
       "version_minor": 0
      },
      "text/plain": [
       "HBox(children=(IntProgress(value=0, max=200), HTML(value='')))"
      ]
     },
     "metadata": {},
     "output_type": "display_data"
    },
    {
     "name": "stderr",
     "output_type": "stream",
     "text": [
      "DEBUG:pykeen.utilities.evaluation_utils.metrics_computations:Evaluation took 3.90s seconds\n",
      "DEBUG:pykeen.utilities.train_utils:\n",
      "current metric: 0.29403327823351005  ---- rank/hits@10: (0.2177697305934687, 0.4525)\n",
      "INFO:pykeen.utilities.train_utils:Epoch 1515 / 2000 (2.0s):  0.013 ---- 0.016 ---- 0.29 ---- 386\n",
      "INFO:pykeen.utilities.train_utils:Epoch 1516 / 2000 (2.0s):  0.013 ---- 0.016 ---- 0.29 ---- 387\n",
      "INFO:pykeen.utilities.train_utils:Epoch 1517 / 2000 (2.1s):  0.013 ---- 0.017 ---- 0.29 ---- 388\n",
      "INFO:pykeen.utilities.train_utils:Epoch 1518 / 2000 (2.0s):  0.013 ---- 0.018 ---- 0.29 ---- 389\n",
      "INFO:pykeen.utilities.train_utils:Epoch 1519 / 2000 (2.0s):  0.013 ---- 0.017 ---- 0.29 ---- 390\n"
     ]
    },
    {
     "data": {
      "application/vnd.jupyter.widget-view+json": {
       "model_id": "e8d06fe1d58e4d89890c2ad928388d4d",
       "version_major": 2,
       "version_minor": 0
      },
      "text/plain": [
       "HBox(children=(IntProgress(value=0, max=200), HTML(value='')))"
      ]
     },
     "metadata": {},
     "output_type": "display_data"
    },
    {
     "name": "stderr",
     "output_type": "stream",
     "text": [
      "DEBUG:pykeen.utilities.evaluation_utils.metrics_computations:Evaluation took 3.88s seconds\n",
      "DEBUG:pykeen.utilities.train_utils:\n",
      "current metric: 0.2915852852596837  ---- rank/hits@10: (0.21743055155596064, 0.4425)\n",
      "INFO:pykeen.utilities.train_utils:Epoch 1520 / 2000 (2.1s):  0.013 ---- 0.017 ---- 0.29 ---- 391\n",
      "INFO:pykeen.utilities.train_utils:Epoch 1521 / 2000 (2.1s):  0.013 ---- 0.017 ---- 0.29 ---- 392\n",
      "INFO:pykeen.utilities.train_utils:Epoch 1522 / 2000 (2.0s):  0.013 ---- 0.016 ---- 0.29 ---- 393\n",
      "INFO:pykeen.utilities.train_utils:Epoch 1523 / 2000 (2.1s):  0.013 ---- 0.018 ---- 0.29 ---- 394\n",
      "INFO:pykeen.utilities.train_utils:Epoch 1524 / 2000 (2.0s):  0.013 ---- 0.018 ---- 0.29 ---- 395\n"
     ]
    },
    {
     "name": "stdout",
     "output_type": "stream",
     "text": [
      "\n",
      "\n"
     ]
    },
    {
     "data": {
      "application/vnd.jupyter.widget-view+json": {
       "model_id": "f438831b39b14c2facd6c5ee84590f5a",
       "version_major": 2,
       "version_minor": 0
      },
      "text/plain": [
       "HBox(children=(IntProgress(value=0, max=200), HTML(value='')))"
      ]
     },
     "metadata": {},
     "output_type": "display_data"
    },
    {
     "name": "stderr",
     "output_type": "stream",
     "text": [
      "DEBUG:pykeen.utilities.evaluation_utils.metrics_computations:Evaluation took 3.91s seconds\n",
      "DEBUG:pykeen.utilities.train_utils:\n",
      "current metric: 0.29376208058500164  ---- rank/hits@10: (0.2180545492614732, 0.45)\n",
      "INFO:pykeen.utilities.train_utils:Epoch 1525 / 2000 (2.1s):  0.013 ---- 0.017 ---- 0.29 ---- 396\n",
      "INFO:pykeen.utilities.train_utils:Epoch 1526 / 2000 (2.1s):  0.013 ---- 0.017 ---- 0.29 ---- 397\n",
      "INFO:pykeen.utilities.train_utils:Epoch 1527 / 2000 (2.1s):  0.013 ---- 0.016 ---- 0.29 ---- 398\n",
      "INFO:pykeen.utilities.train_utils:Epoch 1528 / 2000 (2.0s):  0.013 ---- 0.017 ---- 0.29 ---- 399\n",
      "INFO:pykeen.utilities.train_utils:Epoch 1529 / 2000 (2.1s):  0.013 ---- 0.017 ---- 0.29 ---- 400\n"
     ]
    },
    {
     "data": {
      "application/vnd.jupyter.widget-view+json": {
       "model_id": "61569fa2cbb741efb4fdf89df4da7e91",
       "version_major": 2,
       "version_minor": 0
      },
      "text/plain": [
       "HBox(children=(IntProgress(value=0, max=200), HTML(value='')))"
      ]
     },
     "metadata": {},
     "output_type": "display_data"
    },
    {
     "name": "stderr",
     "output_type": "stream",
     "text": [
      "DEBUG:pykeen.utilities.evaluation_utils.metrics_computations:Evaluation took 3.88s seconds\n",
      "DEBUG:pykeen.utilities.train_utils:\n",
      "current metric: 0.29344118026084176  ---- rank/hits@10: (0.22012135010123487, 0.44)\n",
      "INFO:pykeen.utilities.train_utils:Epoch 1530 / 2000 (2.1s):  0.013 ---- 0.017 ---- 0.29 ---- 401\n",
      "INFO:pykeen.utilities.train_utils:Epoch 1531 / 2000 (2.1s):  0.013 ---- 0.017 ---- 0.29 ---- 402\n",
      "INFO:pykeen.utilities.train_utils:Epoch 1532 / 2000 (2.1s):  0.013 ---- 0.019 ---- 0.29 ---- 403\n",
      "INFO:pykeen.utilities.train_utils:Epoch 1533 / 2000 (2.1s):  0.013 ---- 0.019 ---- 0.29 ---- 404\n",
      "INFO:pykeen.utilities.train_utils:Epoch 1534 / 2000 (2.0s):  0.013 ---- 0.016 ---- 0.29 ---- 405\n"
     ]
    },
    {
     "data": {
      "application/vnd.jupyter.widget-view+json": {
       "model_id": "dd27360d0330421196b9686d6b135093",
       "version_major": 2,
       "version_minor": 0
      },
      "text/plain": [
       "HBox(children=(IntProgress(value=0, max=200), HTML(value='')))"
      ]
     },
     "metadata": {},
     "output_type": "display_data"
    },
    {
     "name": "stderr",
     "output_type": "stream",
     "text": [
      "DEBUG:pykeen.utilities.evaluation_utils.metrics_computations:Evaluation took 3.87s seconds\n",
      "DEBUG:pykeen.utilities.train_utils:\n",
      "current metric: 0.29274200913859993  ---- rank/hits@10: (0.21996199452524848, 0.4375)\n",
      "INFO:pykeen.utilities.train_utils:Epoch 1535 / 2000 (2.1s):  0.013 ---- 0.017 ---- 0.29 ---- 406\n",
      "INFO:pykeen.utilities.train_utils:Epoch 1536 / 2000 (2.1s):  0.013 ---- 0.017 ---- 0.29 ---- 407\n",
      "INFO:pykeen.utilities.train_utils:Epoch 1537 / 2000 (2.1s):  0.013 ---- 0.016 ---- 0.29 ---- 408\n",
      "INFO:pykeen.utilities.train_utils:Epoch 1538 / 2000 (2.0s):  0.013 ---- 0.017 ---- 0.29 ---- 409\n",
      "INFO:pykeen.utilities.train_utils:Epoch 1539 / 2000 (2.1s):  0.013 ---- 0.017 ---- 0.29 ---- 410\n"
     ]
    },
    {
     "name": "stdout",
     "output_type": "stream",
     "text": [
      "\n",
      "\n"
     ]
    },
    {
     "data": {
      "application/vnd.jupyter.widget-view+json": {
       "model_id": "059880e3aae74e31a2a2ec9998beb168",
       "version_major": 2,
       "version_minor": 0
      },
      "text/plain": [
       "HBox(children=(IntProgress(value=0, max=200), HTML(value='')))"
      ]
     },
     "metadata": {},
     "output_type": "display_data"
    },
    {
     "name": "stderr",
     "output_type": "stream",
     "text": [
      "DEBUG:pykeen.utilities.evaluation_utils.metrics_computations:Evaluation took 3.88s seconds\n",
      "DEBUG:pykeen.utilities.train_utils:\n",
      "current metric: 0.2910477116545152  ---- rank/hits@10: (0.2180544136741458, 0.4375)\n",
      "INFO:pykeen.utilities.train_utils:Epoch 1540 / 2000 (2.0s):  0.013 ---- 0.018 ---- 0.29 ---- 411\n",
      "INFO:pykeen.utilities.train_utils:Epoch 1541 / 2000 (2.1s):  0.013 ---- 0.018 ---- 0.29 ---- 412\n",
      "INFO:pykeen.utilities.train_utils:Epoch 1542 / 2000 (2.0s):  0.013 ---- 0.016 ---- 0.29 ---- 413\n",
      "INFO:pykeen.utilities.train_utils:Epoch 1543 / 2000 (2.1s):  0.013 ---- 0.018 ---- 0.29 ---- 414\n",
      "INFO:pykeen.utilities.train_utils:Epoch 1544 / 2000 (2.0s):  0.013 ---- 0.017 ---- 0.29 ---- 415\n"
     ]
    },
    {
     "data": {
      "application/vnd.jupyter.widget-view+json": {
       "model_id": "d768bc82cc764d41b2a390c9df78c837",
       "version_major": 2,
       "version_minor": 0
      },
      "text/plain": [
       "HBox(children=(IntProgress(value=0, max=200), HTML(value='')))"
      ]
     },
     "metadata": {},
     "output_type": "display_data"
    },
    {
     "name": "stderr",
     "output_type": "stream",
     "text": [
      "DEBUG:pykeen.utilities.evaluation_utils.metrics_computations:Evaluation took 3.85s seconds\n",
      "DEBUG:pykeen.utilities.train_utils:\n",
      "current metric: 0.29177190194897573  ---- rank/hits@10: (0.21824805255462884, 0.44)\n",
      "INFO:pykeen.utilities.train_utils:Epoch 1545 / 2000 (2.1s):  0.013 ---- 0.017 ---- 0.29 ---- 416\n",
      "INFO:pykeen.utilities.train_utils:Epoch 1546 / 2000 (2.1s):  0.013 ---- 0.017 ---- 0.29 ---- 417\n",
      "INFO:pykeen.utilities.train_utils:Epoch 1547 / 2000 (2.1s):  0.013 ---- 0.017 ---- 0.29 ---- 418\n",
      "INFO:pykeen.utilities.train_utils:Epoch 1548 / 2000 (2.1s):  0.013 ---- 0.017 ---- 0.29 ---- 419\n",
      "INFO:pykeen.utilities.train_utils:Epoch 1549 / 2000 (2.1s):  0.013 ---- 0.017 ---- 0.29 ---- 420\n"
     ]
    },
    {
     "data": {
      "application/vnd.jupyter.widget-view+json": {
       "model_id": "0aae7b2a0fbf4d6382031444aefa3ab3",
       "version_major": 2,
       "version_minor": 0
      },
      "text/plain": [
       "HBox(children=(IntProgress(value=0, max=200), HTML(value='')))"
      ]
     },
     "metadata": {},
     "output_type": "display_data"
    },
    {
     "name": "stderr",
     "output_type": "stream",
     "text": [
      "DEBUG:pykeen.utilities.evaluation_utils.metrics_computations:Evaluation took 3.88s seconds\n",
      "DEBUG:pykeen.utilities.train_utils:\n",
      "current metric: 0.2896535823978761  ---- rank/hits@10: (0.2158860839246447, 0.44)\n",
      "INFO:pykeen.utilities.train_utils:Epoch 1550 / 2000 (2.0s):  0.013 ---- 0.017 ---- 0.29 ---- 421\n",
      "INFO:pykeen.utilities.train_utils:Epoch 1551 / 2000 (2.1s):  0.013 ---- 0.017 ---- 0.29 ---- 422\n",
      "INFO:pykeen.utilities.train_utils:Epoch 1552 / 2000 (2.1s):  0.013 ---- 0.018 ---- 0.29 ---- 423\n",
      "INFO:pykeen.utilities.train_utils:Epoch 1553 / 2000 (2.1s):  0.013 ---- 0.017 ---- 0.29 ---- 424\n",
      "INFO:pykeen.utilities.train_utils:Epoch 1554 / 2000 (2.1s):  0.013 ---- 0.018 ---- 0.29 ---- 425\n"
     ]
    },
    {
     "name": "stdout",
     "output_type": "stream",
     "text": [
      "\n",
      "\n"
     ]
    },
    {
     "data": {
      "application/vnd.jupyter.widget-view+json": {
       "model_id": "43f17c0f0ded4cdd8b82206ae630d0ac",
       "version_major": 2,
       "version_minor": 0
      },
      "text/plain": [
       "HBox(children=(IntProgress(value=0, max=200), HTML(value='')))"
      ]
     },
     "metadata": {},
     "output_type": "display_data"
    },
    {
     "name": "stderr",
     "output_type": "stream",
     "text": [
      "DEBUG:pykeen.utilities.evaluation_utils.metrics_computations:Evaluation took 3.88s seconds\n",
      "DEBUG:pykeen.utilities.train_utils:\n",
      "current metric: 0.2949328919120672  ---- rank/hits@10: (0.22055518632610402, 0.445)\n",
      "INFO:pykeen.utilities.train_utils:Epoch 1555 / 2000 (2.1s):  0.013 ---- 0.017 ---- 0.29 ---- 426\n",
      "INFO:pykeen.utilities.train_utils:Epoch 1556 / 2000 (2.1s):  0.013 ---- 0.017 ---- 0.29 ---- 427\n",
      "INFO:pykeen.utilities.train_utils:Epoch 1557 / 2000 (2.0s):  0.012 ---- 0.017 ---- 0.29 ---- 428\n",
      "INFO:pykeen.utilities.train_utils:Epoch 1558 / 2000 (2.0s):  0.013 ---- 0.018 ---- 0.29 ---- 429\n",
      "INFO:pykeen.utilities.train_utils:Epoch 1559 / 2000 (2.1s):  0.013 ---- 0.016 ---- 0.29 ---- 430\n"
     ]
    },
    {
     "data": {
      "application/vnd.jupyter.widget-view+json": {
       "model_id": "f45e16d6c4584b2eada0417f5dfbf4a9",
       "version_major": 2,
       "version_minor": 0
      },
      "text/plain": [
       "HBox(children=(IntProgress(value=0, max=200), HTML(value='')))"
      ]
     },
     "metadata": {},
     "output_type": "display_data"
    },
    {
     "name": "stderr",
     "output_type": "stream",
     "text": [
      "DEBUG:pykeen.utilities.evaluation_utils.metrics_computations:Evaluation took 3.89s seconds\n",
      "DEBUG:pykeen.utilities.train_utils:\n",
      "current metric: 0.2894769344779313  ---- rank/hits@10: (0.21753910774737575, 0.4325)\n",
      "INFO:pykeen.utilities.train_utils:Epoch 1560 / 2000 (2.0s):  0.013 ---- 0.019 ---- 0.29 ---- 431\n",
      "INFO:pykeen.utilities.train_utils:Epoch 1561 / 2000 (2.0s):  0.013 ---- 0.016 ---- 0.29 ---- 432\n",
      "INFO:pykeen.utilities.train_utils:Epoch 1562 / 2000 (2.0s):  0.013 ---- 0.017 ---- 0.29 ---- 433\n",
      "INFO:pykeen.utilities.train_utils:Epoch 1563 / 2000 (2.0s):  0.013 ---- 0.017 ---- 0.29 ---- 434\n",
      "INFO:pykeen.utilities.train_utils:Epoch 1564 / 2000 (2.0s):  0.013 ---- 0.017 ---- 0.29 ---- 435\n"
     ]
    },
    {
     "data": {
      "application/vnd.jupyter.widget-view+json": {
       "model_id": "5516de2cb6ae4b58ac1c4cbd33391739",
       "version_major": 2,
       "version_minor": 0
      },
      "text/plain": [
       "HBox(children=(IntProgress(value=0, max=200), HTML(value='')))"
      ]
     },
     "metadata": {},
     "output_type": "display_data"
    },
    {
     "name": "stderr",
     "output_type": "stream",
     "text": [
      "DEBUG:pykeen.utilities.evaluation_utils.metrics_computations:Evaluation took 3.86s seconds\n",
      "DEBUG:pykeen.utilities.train_utils:\n",
      "current metric: 0.2935377997263143  ---- rank/hits@10: (0.2196090913650783, 0.4425)\n",
      "INFO:pykeen.utilities.train_utils:Epoch 1565 / 2000 (2.1s):  0.013 ---- 0.017 ---- 0.29 ---- 436\n",
      "INFO:pykeen.utilities.train_utils:Epoch 1566 / 2000 (2.1s):  0.013 ---- 0.016 ---- 0.29 ---- 437\n",
      "INFO:pykeen.utilities.train_utils:Epoch 1567 / 2000 (2.0s):  0.013 ---- 0.016 ---- 0.29 ---- 438\n",
      "INFO:pykeen.utilities.train_utils:Epoch 1568 / 2000 (2.0s):  0.013 ---- 0.018 ---- 0.29 ---- 439\n",
      "INFO:pykeen.utilities.train_utils:Epoch 1569 / 2000 (2.0s):  0.013 ---- 0.016 ---- 0.29 ---- 440\n"
     ]
    },
    {
     "name": "stdout",
     "output_type": "stream",
     "text": [
      "\n",
      "\n"
     ]
    },
    {
     "data": {
      "application/vnd.jupyter.widget-view+json": {
       "model_id": "af9505a422a0453484ddafcd85609f61",
       "version_major": 2,
       "version_minor": 0
      },
      "text/plain": [
       "HBox(children=(IntProgress(value=0, max=200), HTML(value='')))"
      ]
     },
     "metadata": {},
     "output_type": "display_data"
    },
    {
     "name": "stderr",
     "output_type": "stream",
     "text": [
      "DEBUG:pykeen.utilities.evaluation_utils.metrics_computations:Evaluation took 3.90s seconds\n",
      "DEBUG:pykeen.utilities.train_utils:\n",
      "current metric: 0.29213088292766004  ---- rank/hits@10: (0.21865001027491168, 0.44)\n",
      "INFO:pykeen.utilities.train_utils:Epoch 1570 / 2000 (2.0s):  0.013 ---- 0.018 ---- 0.29 ---- 441\n",
      "INFO:pykeen.utilities.train_utils:Epoch 1571 / 2000 (2.1s):  0.013 ---- 0.016 ---- 0.29 ---- 442\n",
      "INFO:pykeen.utilities.train_utils:Epoch 1572 / 2000 (2.1s):  0.013 ---- 0.017 ---- 0.29 ---- 443\n",
      "INFO:pykeen.utilities.train_utils:Epoch 1573 / 2000 (2.0s):  0.013 ---- 0.018 ---- 0.29 ---- 444\n",
      "INFO:pykeen.utilities.train_utils:Epoch 1574 / 2000 (2.0s):  0.013 ---- 0.016 ---- 0.29 ---- 445\n"
     ]
    },
    {
     "data": {
      "application/vnd.jupyter.widget-view+json": {
       "model_id": "18fdeea587b34f5bb811b496c9a74a55",
       "version_major": 2,
       "version_minor": 0
      },
      "text/plain": [
       "HBox(children=(IntProgress(value=0, max=200), HTML(value='')))"
      ]
     },
     "metadata": {},
     "output_type": "display_data"
    },
    {
     "name": "stderr",
     "output_type": "stream",
     "text": [
      "DEBUG:pykeen.utilities.evaluation_utils.metrics_computations:Evaluation took 3.91s seconds\n",
      "DEBUG:pykeen.utilities.train_utils:\n",
      "current metric: 0.29282644184237244  ---- rank/hits@10: (0.2206953184203985, 0.435)\n",
      "INFO:pykeen.utilities.train_utils:Epoch 1575 / 2000 (2.1s):  0.013 ---- 0.017 ---- 0.29 ---- 446\n",
      "INFO:pykeen.utilities.train_utils:Epoch 1576 / 2000 (2.1s):  0.013 ---- 0.017 ---- 0.29 ---- 447\n",
      "INFO:pykeen.utilities.train_utils:Epoch 1577 / 2000 (2.1s):  0.013 ---- 0.016 ---- 0.29 ---- 448\n",
      "INFO:pykeen.utilities.train_utils:Epoch 1578 / 2000 (2.1s):  0.013 ---- 0.017 ---- 0.29 ---- 449\n",
      "INFO:pykeen.utilities.train_utils:Epoch 1579 / 2000 (2.1s):  0.013 ---- 0.017 ---- 0.29 ---- 450\n"
     ]
    },
    {
     "data": {
      "application/vnd.jupyter.widget-view+json": {
       "model_id": "71fe2f678b6342fe922e274c7c751ba1",
       "version_major": 2,
       "version_minor": 0
      },
      "text/plain": [
       "HBox(children=(IntProgress(value=0, max=200), HTML(value='')))"
      ]
     },
     "metadata": {},
     "output_type": "display_data"
    },
    {
     "name": "stderr",
     "output_type": "stream",
     "text": [
      "DEBUG:pykeen.utilities.evaluation_utils.metrics_computations:Evaluation took 3.89s seconds\n",
      "DEBUG:pykeen.utilities.train_utils:\n",
      "current metric: 0.2946861695430752  ---- rank/hits@10: (0.22089712843400158, 0.4425)\n",
      "INFO:pykeen.utilities.train_utils:Epoch 1580 / 2000 (2.0s):  0.013 ---- 0.018 ---- 0.29 ---- 451\n",
      "INFO:pykeen.utilities.train_utils:Epoch 1581 / 2000 (2.1s):  0.013 ---- 0.017 ---- 0.29 ---- 452\n",
      "INFO:pykeen.utilities.train_utils:Epoch 1582 / 2000 (2.1s):  0.013 ---- 0.017 ---- 0.29 ---- 453\n",
      "INFO:pykeen.utilities.train_utils:Epoch 1583 / 2000 (2.1s):  0.013 ---- 0.018 ---- 0.29 ---- 454\n",
      "INFO:pykeen.utilities.train_utils:Epoch 1584 / 2000 (2.1s):  0.013 ---- 0.017 ---- 0.29 ---- 455\n"
     ]
    },
    {
     "data": {
      "application/vnd.jupyter.widget-view+json": {
       "model_id": "0703d5ec2f39440aaa46695b21ee8996",
       "version_major": 2,
       "version_minor": 0
      },
      "text/plain": [
       "HBox(children=(IntProgress(value=0, max=200), HTML(value='')))"
      ]
     },
     "metadata": {},
     "output_type": "display_data"
    },
    {
     "name": "stdout",
     "output_type": "stream",
     "text": [
      "\n",
      "\n",
      "\n",
      "\n",
      "\n",
      "\n",
      "\n",
      "\n",
      "\n",
      "\n",
      "\n",
      "\n",
      "\n"
     ]
    },
    {
     "name": "stderr",
     "output_type": "stream",
     "text": [
      "DEBUG:pykeen.utilities.evaluation_utils.metrics_computations:Evaluation took 3.91s seconds\n",
      "DEBUG:pykeen.utilities.train_utils:\n",
      "current metric: 0.2968871601458482  ---- rank/hits@10: (0.22467609021895657, 0.4375)\n",
      "INFO:pykeen.utilities.train_utils:Epoch 1585 / 2000 (2.0s):  0.013 ---- 0.017 ---- 0.30 ---- 456\n",
      "INFO:pykeen.utilities.train_utils:Epoch 1586 / 2000 (2.1s):  0.013 ---- 0.017 ---- 0.30 ---- 457\n",
      "INFO:pykeen.utilities.train_utils:Epoch 1587 / 2000 (2.1s):  0.013 ---- 0.017 ---- 0.30 ---- 458\n",
      "INFO:pykeen.utilities.train_utils:Epoch 1588 / 2000 (2.1s):  0.013 ---- 0.017 ---- 0.30 ---- 459\n",
      "INFO:pykeen.utilities.train_utils:Epoch 1589 / 2000 (2.1s):  0.013 ---- 0.016 ---- 0.30 ---- 460\n"
     ]
    },
    {
     "data": {
      "application/vnd.jupyter.widget-view+json": {
       "model_id": "b157779c5a874058a8685a741211e9c3",
       "version_major": 2,
       "version_minor": 0
      },
      "text/plain": [
       "HBox(children=(IntProgress(value=0, max=200), HTML(value='')))"
      ]
     },
     "metadata": {},
     "output_type": "display_data"
    },
    {
     "name": "stderr",
     "output_type": "stream",
     "text": [
      "DEBUG:pykeen.utilities.evaluation_utils.metrics_computations:Evaluation took 3.88s seconds\n",
      "DEBUG:pykeen.utilities.train_utils:\n",
      "current metric: 0.2889112937618744  ---- rank/hits@10: (0.21690085780011983, 0.4325)\n",
      "INFO:pykeen.utilities.train_utils:Epoch 1590 / 2000 (2.1s):  0.013 ---- 0.017 ---- 0.29 ---- 461\n",
      "INFO:pykeen.utilities.train_utils:Epoch 1591 / 2000 (2.1s):  0.013 ---- 0.016 ---- 0.29 ---- 462\n",
      "INFO:pykeen.utilities.train_utils:Epoch 1592 / 2000 (2.0s):  0.013 ---- 0.017 ---- 0.29 ---- 463\n",
      "INFO:pykeen.utilities.train_utils:Epoch 1593 / 2000 (2.1s):  0.013 ---- 0.016 ---- 0.29 ---- 464\n",
      "INFO:pykeen.utilities.train_utils:Epoch 1594 / 2000 (2.0s):  0.013 ---- 0.016 ---- 0.29 ---- 465\n"
     ]
    },
    {
     "data": {
      "application/vnd.jupyter.widget-view+json": {
       "model_id": "ae520171fe7c41ddae54726f30326ded",
       "version_major": 2,
       "version_minor": 0
      },
      "text/plain": [
       "HBox(children=(IntProgress(value=0, max=200), HTML(value='')))"
      ]
     },
     "metadata": {},
     "output_type": "display_data"
    },
    {
     "name": "stderr",
     "output_type": "stream",
     "text": [
      "DEBUG:pykeen.utilities.evaluation_utils.metrics_computations:Evaluation took 3.88s seconds\n",
      "DEBUG:pykeen.utilities.train_utils:\n",
      "current metric: 0.2879078353423943  ---- rank/hits@10: (0.21454838872829726, 0.4375)\n",
      "INFO:pykeen.utilities.train_utils:Epoch 1595 / 2000 (2.1s):  0.013 ---- 0.017 ---- 0.29 ---- 466\n",
      "INFO:pykeen.utilities.train_utils:Epoch 1596 / 2000 (2.0s):  0.013 ---- 0.016 ---- 0.29 ---- 467\n",
      "INFO:pykeen.utilities.train_utils:Epoch 1597 / 2000 (2.1s):  0.013 ---- 0.017 ---- 0.29 ---- 468\n",
      "INFO:pykeen.utilities.train_utils:Epoch 1598 / 2000 (2.0s):  0.013 ---- 0.016 ---- 0.29 ---- 469\n",
      "INFO:pykeen.utilities.train_utils:Epoch 1599 / 2000 (2.1s):  0.013 ---- 0.017 ---- 0.29 ---- 470\n"
     ]
    },
    {
     "name": "stdout",
     "output_type": "stream",
     "text": [
      "\n",
      "\n"
     ]
    },
    {
     "data": {
      "application/vnd.jupyter.widget-view+json": {
       "model_id": "a2d24c625fbb42358acf8556a980ab2f",
       "version_major": 2,
       "version_minor": 0
      },
      "text/plain": [
       "HBox(children=(IntProgress(value=0, max=200), HTML(value='')))"
      ]
     },
     "metadata": {},
     "output_type": "display_data"
    },
    {
     "name": "stderr",
     "output_type": "stream",
     "text": [
      "DEBUG:pykeen.utilities.evaluation_utils.metrics_computations:Evaluation took 3.87s seconds\n",
      "DEBUG:pykeen.utilities.train_utils:\n",
      "current metric: 0.2920892203531494  ---- rank/hits@10: (0.21860333473147978, 0.44)\n",
      "INFO:pykeen.utilities.train_utils:Epoch 1600 / 2000 (2.1s):  0.013 ---- 0.018 ---- 0.29 ---- 471\n",
      "INFO:pykeen.utilities.train_utils:Epoch 1601 / 2000 (2.1s):  0.013 ---- 0.017 ---- 0.29 ---- 472\n",
      "INFO:pykeen.utilities.train_utils:Epoch 1602 / 2000 (2.1s):  0.013 ---- 0.016 ---- 0.29 ---- 473\n",
      "INFO:pykeen.utilities.train_utils:Epoch 1603 / 2000 (2.1s):  0.013 ---- 0.016 ---- 0.29 ---- 474\n",
      "INFO:pykeen.utilities.train_utils:Epoch 1604 / 2000 (2.1s):  0.013 ---- 0.015 ---- 0.29 ---- 475\n"
     ]
    },
    {
     "data": {
      "application/vnd.jupyter.widget-view+json": {
       "model_id": "74fdb6018cdc4e56b72d4876da8371d7",
       "version_major": 2,
       "version_minor": 0
      },
      "text/plain": [
       "HBox(children=(IntProgress(value=0, max=200), HTML(value='')))"
      ]
     },
     "metadata": {},
     "output_type": "display_data"
    },
    {
     "name": "stderr",
     "output_type": "stream",
     "text": [
      "DEBUG:pykeen.utilities.evaluation_utils.metrics_computations:Evaluation took 3.88s seconds\n",
      "DEBUG:pykeen.utilities.train_utils:\n",
      "current metric: 0.29296075875654465  ---- rank/hits@10: (0.21958111961960217, 0.44)\n",
      "INFO:pykeen.utilities.train_utils:Epoch 1605 / 2000 (2.1s):  0.013 ---- 0.016 ---- 0.29 ---- 476\n",
      "INFO:pykeen.utilities.train_utils:Epoch 1606 / 2000 (2.0s):  0.013 ---- 0.016 ---- 0.29 ---- 477\n",
      "INFO:pykeen.utilities.train_utils:Epoch 1607 / 2000 (2.1s):  0.013 ---- 0.017 ---- 0.29 ---- 478\n",
      "INFO:pykeen.utilities.train_utils:Epoch 1608 / 2000 (2.0s):  0.013 ---- 0.016 ---- 0.29 ---- 479\n",
      "INFO:pykeen.utilities.train_utils:Epoch 1609 / 2000 (2.1s):  0.013 ---- 0.016 ---- 0.29 ---- 480\n"
     ]
    },
    {
     "data": {
      "application/vnd.jupyter.widget-view+json": {
       "model_id": "30c704ee3b3c47cabb7dc5435cb37dd1",
       "version_major": 2,
       "version_minor": 0
      },
      "text/plain": [
       "HBox(children=(IntProgress(value=0, max=200), HTML(value='')))"
      ]
     },
     "metadata": {},
     "output_type": "display_data"
    },
    {
     "name": "stderr",
     "output_type": "stream",
     "text": [
      "DEBUG:pykeen.utilities.evaluation_utils.metrics_computations:Evaluation took 3.86s seconds\n",
      "DEBUG:pykeen.utilities.train_utils:\n",
      "current metric: 0.2880732911391082  ---- rank/hits@10: (0.21658634449251685, 0.43)\n",
      "INFO:pykeen.utilities.train_utils:Epoch 1610 / 2000 (2.1s):  0.013 ---- 0.016 ---- 0.29 ---- 481\n",
      "INFO:pykeen.utilities.train_utils:Epoch 1611 / 2000 (2.1s):  0.013 ---- 0.016 ---- 0.29 ---- 482\n",
      "INFO:pykeen.utilities.train_utils:Epoch 1612 / 2000 (2.0s):  0.013 ---- 0.017 ---- 0.29 ---- 483\n",
      "INFO:pykeen.utilities.train_utils:Epoch 1613 / 2000 (2.1s):  0.013 ---- 0.017 ---- 0.29 ---- 484\n",
      "INFO:pykeen.utilities.train_utils:Epoch 1614 / 2000 (2.1s):  0.013 ---- 0.016 ---- 0.29 ---- 485\n"
     ]
    },
    {
     "name": "stdout",
     "output_type": "stream",
     "text": [
      "\n",
      "\n"
     ]
    },
    {
     "data": {
      "application/vnd.jupyter.widget-view+json": {
       "model_id": "7f2ef1b6e3a54c7da8398a72d2dac033",
       "version_major": 2,
       "version_minor": 0
      },
      "text/plain": [
       "HBox(children=(IntProgress(value=0, max=200), HTML(value='')))"
      ]
     },
     "metadata": {},
     "output_type": "display_data"
    },
    {
     "name": "stderr",
     "output_type": "stream",
     "text": [
      "DEBUG:pykeen.utilities.evaluation_utils.metrics_computations:Evaluation took 3.88s seconds\n",
      "DEBUG:pykeen.utilities.train_utils:\n",
      "current metric: 0.2934015759397212  ---- rank/hits@10: (0.22134934853799748, 0.435)\n",
      "INFO:pykeen.utilities.train_utils:Epoch 1615 / 2000 (2.1s):  0.013 ---- 0.017 ---- 0.29 ---- 486\n",
      "INFO:pykeen.utilities.train_utils:Epoch 1616 / 2000 (2.1s):  0.013 ---- 0.018 ---- 0.29 ---- 487\n",
      "INFO:pykeen.utilities.train_utils:Epoch 1617 / 2000 (2.1s):  0.013 ---- 0.017 ---- 0.29 ---- 488\n",
      "INFO:pykeen.utilities.train_utils:Epoch 1618 / 2000 (2.0s):  0.013 ---- 0.016 ---- 0.29 ---- 489\n",
      "INFO:pykeen.utilities.train_utils:Epoch 1619 / 2000 (2.1s):  0.013 ---- 0.017 ---- 0.29 ---- 490\n"
     ]
    },
    {
     "data": {
      "application/vnd.jupyter.widget-view+json": {
       "model_id": "0d3126a017b34d2bb84b561d33b823dc",
       "version_major": 2,
       "version_minor": 0
      },
      "text/plain": [
       "HBox(children=(IntProgress(value=0, max=200), HTML(value='')))"
      ]
     },
     "metadata": {},
     "output_type": "display_data"
    },
    {
     "name": "stderr",
     "output_type": "stream",
     "text": [
      "DEBUG:pykeen.utilities.evaluation_utils.metrics_computations:Evaluation took 3.87s seconds\n",
      "DEBUG:pykeen.utilities.train_utils:\n",
      "current metric: 0.2894721950443632  ---- rank/hits@10: (0.21948185586188948, 0.425)\n",
      "INFO:pykeen.utilities.train_utils:Epoch 1620 / 2000 (2.1s):  0.013 ---- 0.016 ---- 0.29 ---- 491\n",
      "INFO:pykeen.utilities.train_utils:Epoch 1621 / 2000 (2.1s):  0.013 ---- 0.016 ---- 0.29 ---- 492\n",
      "INFO:pykeen.utilities.train_utils:Epoch 1622 / 2000 (2.0s):  0.013 ---- 0.017 ---- 0.29 ---- 493\n"
     ]
    },
    {
     "data": {
      "application/vnd.jupyter.widget-view+json": {
       "model_id": "ff250492403146928c6b95adb1f6c049",
       "version_major": 2,
       "version_minor": 0
      },
      "text/plain": [
       "HBox(children=(IntProgress(value=0, max=200), HTML(value='')))"
      ]
     },
     "metadata": {},
     "output_type": "display_data"
    },
    {
     "name": "stderr",
     "output_type": "stream",
     "text": [
      "DEBUG:pykeen.utilities.evaluation_utils.metrics_computations:Evaluation took 3.87s seconds\n",
      "DEBUG:pykeen.utilities.train_utils:\n",
      "current metric: 0.28989292784524534  ---- rank/hits@10: (0.21676059300604408, 0.4375)\n",
      "INFO:pykeen.utilities.train_utils:Epoch 1623 / 2000 (2.1s):  0.013 ---- 0.015 ---- 0.29 ---- 494\n",
      "INFO:pykeen.utilities.train_utils:Epoch 1624 / 2000 (2.1s):  0.013 ---- 0.016 ---- 0.29 ---- 495\n"
     ]
    },
    {
     "data": {
      "application/vnd.jupyter.widget-view+json": {
       "model_id": "90971fa4b93f4f94a449e9d0be7e4b93",
       "version_major": 2,
       "version_minor": 0
      },
      "text/plain": [
       "HBox(children=(IntProgress(value=0, max=200), HTML(value='')))"
      ]
     },
     "metadata": {},
     "output_type": "display_data"
    },
    {
     "name": "stderr",
     "output_type": "stream",
     "text": [
      "DEBUG:pykeen.utilities.evaluation_utils.metrics_computations:Evaluation took 3.90s seconds\n",
      "DEBUG:pykeen.utilities.train_utils:\n",
      "current metric: 0.2907505914817373  ---- rank/hits@10: (0.21710715089839497, 0.44)\n",
      "INFO:pykeen.utilities.train_utils:Epoch 1625 / 2000 (2.1s):  0.013 ---- 0.016 ---- 0.29 ---- 496\n",
      "INFO:pykeen.utilities.train_utils:Epoch 1626 / 2000 (2.1s):  0.013 ---- 0.017 ---- 0.29 ---- 497\n",
      "INFO:pykeen.utilities.train_utils:Epoch 1627 / 2000 (2.1s):  0.013 ---- 0.016 ---- 0.29 ---- 498\n",
      "INFO:pykeen.utilities.train_utils:Epoch 1628 / 2000 (2.0s):  0.013 ---- 0.016 ---- 0.29 ---- 499\n"
     ]
    },
    {
     "name": "stdout",
     "output_type": "stream",
     "text": [
      "\n",
      "\n",
      "\n"
     ]
    },
    {
     "name": "stderr",
     "output_type": "stream",
     "text": [
      "INFO:pykeen.utilities.train_utils:Epoch 1629 / 2000 (2.1s):  0.013 ---- 0.017 ---- 0.29 ---- 500\n"
     ]
    },
    {
     "data": {
      "application/vnd.jupyter.widget-view+json": {
       "model_id": "33b18b9a55ec4bb297c7568af111b5c8",
       "version_major": 2,
       "version_minor": 0
      },
      "text/plain": [
       "HBox(children=(IntProgress(value=0, max=200), HTML(value='')))"
      ]
     },
     "metadata": {},
     "output_type": "display_data"
    },
    {
     "name": "stderr",
     "output_type": "stream",
     "text": [
      "DEBUG:pykeen.utilities.evaluation_utils.metrics_computations:Evaluation took 3.86s seconds\n",
      "DEBUG:pykeen.utilities.train_utils:\n",
      "current metric: 0.2937647536036098  ---- rank/hits@10: (0.22048570497958417, 0.44)\n",
      "INFO:pykeen.utilities.train_utils:Epoch 1630 / 2000 (2.1s):  0.013 ---- 0.016 ---- 0.29 ---- 501\n",
      "INFO:pykeen.utilities.train_utils:Epoch 1631 / 2000 (2.1s):  0.013 ---- 0.016 ---- 0.29 ---- 502\n",
      "INFO:pykeen.utilities.train_utils:Epoch 1632 / 2000 (2.0s):  0.013 ---- 0.016 ---- 0.29 ---- 503\n",
      "INFO:pykeen.utilities.train_utils:Epoch 1633 / 2000 (2.1s):  0.013 ---- 0.017 ---- 0.29 ---- 504\n",
      "INFO:pykeen.utilities.train_utils:Epoch 1634 / 2000 (2.1s):  0.013 ---- 0.017 ---- 0.29 ---- 505\n"
     ]
    },
    {
     "data": {
      "application/vnd.jupyter.widget-view+json": {
       "model_id": "b883a990abff47e78ec0caf0cf8f6d4d",
       "version_major": 2,
       "version_minor": 0
      },
      "text/plain": [
       "HBox(children=(IntProgress(value=0, max=200), HTML(value='')))"
      ]
     },
     "metadata": {},
     "output_type": "display_data"
    },
    {
     "name": "stderr",
     "output_type": "stream",
     "text": [
      "DEBUG:pykeen.utilities.evaluation_utils.metrics_computations:Evaluation took 3.88s seconds\n",
      "DEBUG:pykeen.utilities.train_utils:\n",
      "current metric: 0.2975488847951746  ---- rank/hits@10: (0.22412993713690924, 0.4425)\n",
      "INFO:pykeen.utilities.train_utils:Epoch 1635 / 2000 (2.1s):  0.013 ---- 0.017 ---- 0.30 ---- 506\n",
      "INFO:pykeen.utilities.train_utils:Epoch 1636 / 2000 (2.0s):  0.013 ---- 0.017 ---- 0.30 ---- 507\n",
      "INFO:pykeen.utilities.train_utils:Epoch 1637 / 2000 (2.1s):  0.013 ---- 0.017 ---- 0.30 ---- 508\n",
      "INFO:pykeen.utilities.train_utils:Epoch 1638 / 2000 (2.1s):  0.013 ---- 0.017 ---- 0.30 ---- 509\n",
      "INFO:pykeen.utilities.train_utils:Epoch 1639 / 2000 (2.1s):  0.013 ---- 0.016 ---- 0.30 ---- 510\n"
     ]
    },
    {
     "data": {
      "application/vnd.jupyter.widget-view+json": {
       "model_id": "82b116d64f8f482bb6cbfee386927a26",
       "version_major": 2,
       "version_minor": 0
      },
      "text/plain": [
       "HBox(children=(IntProgress(value=0, max=200), HTML(value='')))"
      ]
     },
     "metadata": {},
     "output_type": "display_data"
    },
    {
     "name": "stderr",
     "output_type": "stream",
     "text": [
      "DEBUG:pykeen.utilities.evaluation_utils.metrics_computations:Evaluation took 3.86s seconds\n",
      "DEBUG:pykeen.utilities.train_utils:\n",
      "current metric: 0.2886189799086149  ---- rank/hits@10: (0.2165715116550585, 0.4325)\n",
      "INFO:pykeen.utilities.train_utils:Epoch 1640 / 2000 (2.1s):  0.013 ---- 0.017 ---- 0.29 ---- 511\n",
      "INFO:pykeen.utilities.train_utils:Epoch 1641 / 2000 (2.1s):  0.013 ---- 0.016 ---- 0.29 ---- 512\n"
     ]
    },
    {
     "name": "stdout",
     "output_type": "stream",
     "text": [
      "\n",
      "\n",
      "\n"
     ]
    },
    {
     "name": "stderr",
     "output_type": "stream",
     "text": [
      "INFO:pykeen.utilities.train_utils:Epoch 1642 / 2000 (2.1s):  0.013 ---- 0.016 ---- 0.29 ---- 513\n",
      "INFO:pykeen.utilities.train_utils:Epoch 1643 / 2000 (2.1s):  0.013 ---- 0.017 ---- 0.29 ---- 514\n",
      "INFO:pykeen.utilities.train_utils:Epoch 1644 / 2000 (2.0s):  0.013 ---- 0.017 ---- 0.29 ---- 515\n"
     ]
    },
    {
     "data": {
      "application/vnd.jupyter.widget-view+json": {
       "model_id": "338d17af74684cb6acdb27f1b69595b4",
       "version_major": 2,
       "version_minor": 0
      },
      "text/plain": [
       "HBox(children=(IntProgress(value=0, max=200), HTML(value='')))"
      ]
     },
     "metadata": {},
     "output_type": "display_data"
    },
    {
     "name": "stderr",
     "output_type": "stream",
     "text": [
      "DEBUG:pykeen.utilities.evaluation_utils.metrics_computations:Evaluation took 3.90s seconds\n",
      "DEBUG:pykeen.utilities.train_utils:\n",
      "current metric: 0.29511855982619895  ---- rank/hits@10: (0.22265649661983342, 0.4375)\n",
      "INFO:pykeen.utilities.train_utils:Epoch 1645 / 2000 (2.1s):  0.013 ---- 0.016 ---- 0.30 ---- 516\n",
      "INFO:pykeen.utilities.train_utils:Epoch 1646 / 2000 (2.0s):  0.013 ---- 0.018 ---- 0.30 ---- 517\n",
      "INFO:pykeen.utilities.train_utils:Epoch 1647 / 2000 (2.1s):  0.013 ---- 0.017 ---- 0.30 ---- 518\n",
      "INFO:pykeen.utilities.train_utils:Epoch 1648 / 2000 (2.1s):  0.013 ---- 0.016 ---- 0.30 ---- 519\n",
      "INFO:pykeen.utilities.train_utils:Epoch 1649 / 2000 (2.1s):  0.013 ---- 0.017 ---- 0.30 ---- 520\n"
     ]
    },
    {
     "data": {
      "application/vnd.jupyter.widget-view+json": {
       "model_id": "16213373652543b092a2fbb29cc53740",
       "version_major": 2,
       "version_minor": 0
      },
      "text/plain": [
       "HBox(children=(IntProgress(value=0, max=200), HTML(value='')))"
      ]
     },
     "metadata": {},
     "output_type": "display_data"
    },
    {
     "name": "stderr",
     "output_type": "stream",
     "text": [
      "DEBUG:pykeen.utilities.evaluation_utils.metrics_computations:Evaluation took 3.89s seconds\n",
      "DEBUG:pykeen.utilities.train_utils:\n",
      "current metric: 0.29481313131051035  ---- rank/hits@10: (0.22166898253736292, 0.44)\n",
      "INFO:pykeen.utilities.train_utils:Epoch 1650 / 2000 (2.1s):  0.013 ---- 0.016 ---- 0.29 ---- 521\n",
      "INFO:pykeen.utilities.train_utils:Epoch 1651 / 2000 (2.1s):  0.013 ---- 0.017 ---- 0.29 ---- 522\n",
      "INFO:pykeen.utilities.train_utils:Epoch 1652 / 2000 (2.1s):  0.013 ---- 0.017 ---- 0.29 ---- 523\n",
      "INFO:pykeen.utilities.train_utils:Epoch 1653 / 2000 (2.1s):  0.013 ---- 0.016 ---- 0.29 ---- 524\n",
      "INFO:pykeen.utilities.train_utils:Epoch 1654 / 2000 (2.1s):  0.013 ---- 0.017 ---- 0.29 ---- 525\n"
     ]
    },
    {
     "data": {
      "application/vnd.jupyter.widget-view+json": {
       "model_id": "7ed038af39874242bf06eb0b4c0b9c96",
       "version_major": 2,
       "version_minor": 0
      },
      "text/plain": [
       "HBox(children=(IntProgress(value=0, max=200), HTML(value='')))"
      ]
     },
     "metadata": {},
     "output_type": "display_data"
    },
    {
     "name": "stdout",
     "output_type": "stream",
     "text": [
      "\n",
      "\n"
     ]
    },
    {
     "name": "stderr",
     "output_type": "stream",
     "text": [
      "DEBUG:pykeen.utilities.evaluation_utils.metrics_computations:Evaluation took 3.89s seconds\n",
      "DEBUG:pykeen.utilities.train_utils:\n",
      "current metric: 0.29159226145507366  ---- rank/hits@10: (0.21804708985899304, 0.44)\n",
      "INFO:pykeen.utilities.train_utils:Epoch 1655 / 2000 (2.1s):  0.013 ---- 0.018 ---- 0.29 ---- 526\n",
      "INFO:pykeen.utilities.train_utils:Epoch 1656 / 2000 (2.1s):  0.013 ---- 0.017 ---- 0.29 ---- 527\n",
      "INFO:pykeen.utilities.train_utils:Epoch 1657 / 2000 (2.1s):  0.013 ---- 0.017 ---- 0.29 ---- 528\n",
      "INFO:pykeen.utilities.train_utils:Epoch 1658 / 2000 (2.1s):  0.012 ---- 0.016 ---- 0.29 ---- 529\n",
      "INFO:pykeen.utilities.train_utils:Epoch 1659 / 2000 (2.1s):  0.013 ---- 0.017 ---- 0.29 ---- 530\n"
     ]
    },
    {
     "data": {
      "application/vnd.jupyter.widget-view+json": {
       "model_id": "2f57617f15984ebc8c21a76f46cfb2e5",
       "version_major": 2,
       "version_minor": 0
      },
      "text/plain": [
       "HBox(children=(IntProgress(value=0, max=200), HTML(value='')))"
      ]
     },
     "metadata": {},
     "output_type": "display_data"
    },
    {
     "name": "stderr",
     "output_type": "stream",
     "text": [
      "DEBUG:pykeen.utilities.evaluation_utils.metrics_computations:Evaluation took 3.87s seconds\n",
      "DEBUG:pykeen.utilities.train_utils:\n",
      "current metric: 0.2930175728186368  ---- rank/hits@10: (0.21964496051321256, 0.44)\n",
      "INFO:pykeen.utilities.train_utils:Epoch 1660 / 2000 (2.1s):  0.013 ---- 0.017 ---- 0.29 ---- 531\n",
      "INFO:pykeen.utilities.train_utils:Epoch 1661 / 2000 (2.1s):  0.013 ---- 0.016 ---- 0.29 ---- 532\n",
      "INFO:pykeen.utilities.train_utils:Epoch 1662 / 2000 (2.1s):  0.012 ---- 0.017 ---- 0.29 ---- 533\n",
      "INFO:pykeen.utilities.train_utils:Epoch 1663 / 2000 (2.1s):  0.013 ---- 0.016 ---- 0.29 ---- 534\n",
      "INFO:pykeen.utilities.train_utils:Epoch 1664 / 2000 (2.0s):  0.013 ---- 0.016 ---- 0.29 ---- 535\n"
     ]
    },
    {
     "data": {
      "application/vnd.jupyter.widget-view+json": {
       "model_id": "becc6c31aa854634b54dced459918416",
       "version_major": 2,
       "version_minor": 0
      },
      "text/plain": [
       "HBox(children=(IntProgress(value=0, max=200), HTML(value='')))"
      ]
     },
     "metadata": {},
     "output_type": "display_data"
    },
    {
     "name": "stderr",
     "output_type": "stream",
     "text": [
      "DEBUG:pykeen.utilities.evaluation_utils.metrics_computations:Evaluation took 3.89s seconds\n",
      "DEBUG:pykeen.utilities.train_utils:\n",
      "current metric: 0.2914936244342066  ---- rank/hits@10: (0.21673062839238294, 0.445)\n",
      "INFO:pykeen.utilities.train_utils:Epoch 1665 / 2000 (2.1s):  0.013 ---- 0.017 ---- 0.29 ---- 536\n",
      "INFO:pykeen.utilities.train_utils:Epoch 1666 / 2000 (2.1s):  0.013 ---- 0.016 ---- 0.29 ---- 537\n",
      "INFO:pykeen.utilities.train_utils:Epoch 1667 / 2000 (2.1s):  0.013 ---- 0.016 ---- 0.29 ---- 538\n",
      "INFO:pykeen.utilities.train_utils:Epoch 1668 / 2000 (2.0s):  0.013 ---- 0.016 ---- 0.29 ---- 539\n",
      "INFO:pykeen.utilities.train_utils:Epoch 1669 / 2000 (2.1s):  0.013 ---- 0.018 ---- 0.29 ---- 540\n"
     ]
    },
    {
     "name": "stdout",
     "output_type": "stream",
     "text": [
      "\n",
      "\n"
     ]
    },
    {
     "data": {
      "application/vnd.jupyter.widget-view+json": {
       "model_id": "85e507d01f5e436e9fd593ac8123fec0",
       "version_major": 2,
       "version_minor": 0
      },
      "text/plain": [
       "HBox(children=(IntProgress(value=0, max=200), HTML(value='')))"
      ]
     },
     "metadata": {},
     "output_type": "display_data"
    },
    {
     "name": "stderr",
     "output_type": "stream",
     "text": [
      "DEBUG:pykeen.utilities.evaluation_utils.metrics_computations:Evaluation took 3.88s seconds\n",
      "DEBUG:pykeen.utilities.train_utils:\n",
      "current metric: 0.2924578023900178  ---- rank/hits@10: (0.21840229789467863, 0.4425)\n",
      "INFO:pykeen.utilities.train_utils:Epoch 1670 / 2000 (2.0s):  0.013 ---- 0.017 ---- 0.29 ---- 541\n",
      "INFO:pykeen.utilities.train_utils:Epoch 1671 / 2000 (2.1s):  0.013 ---- 0.017 ---- 0.29 ---- 542\n",
      "INFO:pykeen.utilities.train_utils:Epoch 1672 / 2000 (2.1s):  0.013 ---- 0.017 ---- 0.29 ---- 543\n",
      "INFO:pykeen.utilities.train_utils:Epoch 1673 / 2000 (2.1s):  0.013 ---- 0.016 ---- 0.29 ---- 544\n",
      "INFO:pykeen.utilities.train_utils:Epoch 1674 / 2000 (2.0s):  0.013 ---- 0.016 ---- 0.29 ---- 545\n"
     ]
    },
    {
     "data": {
      "application/vnd.jupyter.widget-view+json": {
       "model_id": "1394f48bc469485d9622f081a6afc92a",
       "version_major": 2,
       "version_minor": 0
      },
      "text/plain": [
       "HBox(children=(IntProgress(value=0, max=200), HTML(value='')))"
      ]
     },
     "metadata": {},
     "output_type": "display_data"
    },
    {
     "name": "stderr",
     "output_type": "stream",
     "text": [
      "DEBUG:pykeen.utilities.evaluation_utils.metrics_computations:Evaluation took 3.86s seconds\n",
      "DEBUG:pykeen.utilities.train_utils:\n",
      "current metric: 0.2961540118616606  ---- rank/hits@10: (0.22318859402396873, 0.44)\n",
      "INFO:pykeen.utilities.train_utils:Epoch 1675 / 2000 (2.1s):  0.013 ---- 0.017 ---- 0.30 ---- 546\n",
      "INFO:pykeen.utilities.train_utils:Epoch 1676 / 2000 (2.1s):  0.013 ---- 0.016 ---- 0.30 ---- 547\n",
      "INFO:pykeen.utilities.train_utils:Epoch 1677 / 2000 (2.1s):  0.013 ---- 0.017 ---- 0.30 ---- 548\n",
      "INFO:pykeen.utilities.train_utils:Epoch 1678 / 2000 (2.1s):  0.013 ---- 0.017 ---- 0.30 ---- 549\n",
      "INFO:pykeen.utilities.train_utils:Epoch 1679 / 2000 (2.1s):  0.013 ---- 0.017 ---- 0.30 ---- 550\n"
     ]
    },
    {
     "data": {
      "application/vnd.jupyter.widget-view+json": {
       "model_id": "838bd2a0ef6942afaae13c9db6853a0e",
       "version_major": 2,
       "version_minor": 0
      },
      "text/plain": [
       "HBox(children=(IntProgress(value=0, max=200), HTML(value='')))"
      ]
     },
     "metadata": {},
     "output_type": "display_data"
    },
    {
     "name": "stderr",
     "output_type": "stream",
     "text": [
      "DEBUG:pykeen.utilities.evaluation_utils.metrics_computations:Evaluation took 3.88s seconds\n",
      "DEBUG:pykeen.utilities.train_utils:\n",
      "current metric: 0.2968723013831163  ---- rank/hits@10: (0.22400550157091978, 0.44)\n",
      "INFO:pykeen.utilities.train_utils:Epoch 1680 / 2000 (2.0s):  0.013 ---- 0.016 ---- 0.30 ---- 551\n",
      "INFO:pykeen.utilities.train_utils:Epoch 1681 / 2000 (2.1s):  0.013 ---- 0.017 ---- 0.30 ---- 552\n",
      "INFO:pykeen.utilities.train_utils:Epoch 1682 / 2000 (2.1s):  0.013 ---- 0.017 ---- 0.30 ---- 553\n",
      "INFO:pykeen.utilities.train_utils:Epoch 1683 / 2000 (2.1s):  0.013 ---- 0.016 ---- 0.30 ---- 554\n",
      "INFO:pykeen.utilities.train_utils:Epoch 1684 / 2000 (2.0s):  0.013 ---- 0.016 ---- 0.30 ---- 555\n"
     ]
    },
    {
     "name": "stdout",
     "output_type": "stream",
     "text": [
      "\n",
      "\n"
     ]
    },
    {
     "data": {
      "application/vnd.jupyter.widget-view+json": {
       "model_id": "600222ff445947da80232c355b1b903d",
       "version_major": 2,
       "version_minor": 0
      },
      "text/plain": [
       "HBox(children=(IntProgress(value=0, max=200), HTML(value='')))"
      ]
     },
     "metadata": {},
     "output_type": "display_data"
    },
    {
     "name": "stderr",
     "output_type": "stream",
     "text": [
      "DEBUG:pykeen.utilities.evaluation_utils.metrics_computations:Evaluation took 3.89s seconds\n",
      "DEBUG:pykeen.utilities.train_utils:\n",
      "current metric: 0.2891217557497434  ---- rank/hits@10: (0.21713818955699907, 0.4325)\n",
      "INFO:pykeen.utilities.train_utils:Epoch 1685 / 2000 (2.1s):  0.013 ---- 0.017 ---- 0.29 ---- 556\n",
      "INFO:pykeen.utilities.train_utils:Epoch 1686 / 2000 (2.1s):  0.013 ---- 0.017 ---- 0.29 ---- 557\n",
      "INFO:pykeen.utilities.train_utils:Epoch 1687 / 2000 (2.1s):  0.013 ---- 0.017 ---- 0.29 ---- 558\n",
      "INFO:pykeen.utilities.train_utils:Epoch 1688 / 2000 (2.1s):  0.013 ---- 0.018 ---- 0.29 ---- 559\n",
      "INFO:pykeen.utilities.train_utils:Epoch 1689 / 2000 (2.1s):  0.013 ---- 0.016 ---- 0.29 ---- 560\n"
     ]
    },
    {
     "data": {
      "application/vnd.jupyter.widget-view+json": {
       "model_id": "f55247084c304869a35f51a8bfe18055",
       "version_major": 2,
       "version_minor": 0
      },
      "text/plain": [
       "HBox(children=(IntProgress(value=0, max=200), HTML(value='')))"
      ]
     },
     "metadata": {},
     "output_type": "display_data"
    },
    {
     "name": "stderr",
     "output_type": "stream",
     "text": [
      "DEBUG:pykeen.utilities.evaluation_utils.metrics_computations:Evaluation took 3.90s seconds\n",
      "DEBUG:pykeen.utilities.train_utils:\n",
      "current metric: 0.2920308553399044  ---- rank/hits@10: (0.21979274022935413, 0.435)\n",
      "INFO:pykeen.utilities.train_utils:Epoch 1690 / 2000 (2.0s):  0.012 ---- 0.017 ---- 0.29 ---- 561\n",
      "INFO:pykeen.utilities.train_utils:Epoch 1691 / 2000 (2.1s):  0.013 ---- 0.016 ---- 0.29 ---- 562\n",
      "INFO:pykeen.utilities.train_utils:Epoch 1692 / 2000 (2.1s):  0.013 ---- 0.016 ---- 0.29 ---- 563\n",
      "INFO:pykeen.utilities.train_utils:Epoch 1693 / 2000 (2.1s):  0.013 ---- 0.017 ---- 0.29 ---- 564\n",
      "INFO:pykeen.utilities.train_utils:Epoch 1694 / 2000 (2.1s):  0.013 ---- 0.016 ---- 0.29 ---- 565\n"
     ]
    },
    {
     "data": {
      "application/vnd.jupyter.widget-view+json": {
       "model_id": "32e5050f43384de5859266343c60d80d",
       "version_major": 2,
       "version_minor": 0
      },
      "text/plain": [
       "HBox(children=(IntProgress(value=0, max=200), HTML(value='')))"
      ]
     },
     "metadata": {},
     "output_type": "display_data"
    },
    {
     "name": "stderr",
     "output_type": "stream",
     "text": [
      "DEBUG:pykeen.utilities.evaluation_utils.metrics_computations:Evaluation took 3.87s seconds\n",
      "DEBUG:pykeen.utilities.train_utils:\n",
      "current metric: 0.29247540086233653  ---- rank/hits@10: (0.219036235364972, 0.44)\n",
      "INFO:pykeen.utilities.train_utils:Epoch 1695 / 2000 (2.1s):  0.013 ---- 0.017 ---- 0.29 ---- 566\n",
      "INFO:pykeen.utilities.train_utils:Epoch 1696 / 2000 (2.1s):  0.013 ---- 0.016 ---- 0.29 ---- 567\n",
      "INFO:pykeen.utilities.train_utils:Epoch 1697 / 2000 (2.1s):  0.013 ---- 0.017 ---- 0.29 ---- 568\n",
      "INFO:pykeen.utilities.train_utils:Epoch 1698 / 2000 (2.1s):  0.013 ---- 0.017 ---- 0.29 ---- 569\n",
      "INFO:pykeen.utilities.train_utils:Epoch 1699 / 2000 (2.1s):  0.013 ---- 0.017 ---- 0.29 ---- 570\n"
     ]
    },
    {
     "name": "stdout",
     "output_type": "stream",
     "text": [
      "\n",
      "\n"
     ]
    },
    {
     "data": {
      "application/vnd.jupyter.widget-view+json": {
       "model_id": "5ce7d8045fb147bdbf9c333bde4c48ef",
       "version_major": 2,
       "version_minor": 0
      },
      "text/plain": [
       "HBox(children=(IntProgress(value=0, max=200), HTML(value='')))"
      ]
     },
     "metadata": {},
     "output_type": "display_data"
    },
    {
     "name": "stderr",
     "output_type": "stream",
     "text": [
      "DEBUG:pykeen.utilities.evaluation_utils.metrics_computations:Evaluation took 3.87s seconds\n",
      "DEBUG:pykeen.utilities.train_utils:\n",
      "current metric: 0.28967883166058456  ---- rank/hits@10: (0.21591413753499794, 0.44)\n",
      "INFO:pykeen.utilities.train_utils:Epoch 1700 / 2000 (2.1s):  0.013 ---- 0.017 ---- 0.29 ---- 571\n",
      "INFO:pykeen.utilities.train_utils:Epoch 1701 / 2000 (2.1s):  0.013 ---- 0.017 ---- 0.29 ---- 572\n",
      "INFO:pykeen.utilities.train_utils:Epoch 1702 / 2000 (2.1s):  0.013 ---- 0.017 ---- 0.29 ---- 573\n",
      "INFO:pykeen.utilities.train_utils:Epoch 1703 / 2000 (2.1s):  0.013 ---- 0.017 ---- 0.29 ---- 574\n",
      "INFO:pykeen.utilities.train_utils:Epoch 1704 / 2000 (2.1s):  0.013 ---- 0.016 ---- 0.29 ---- 575\n"
     ]
    },
    {
     "data": {
      "application/vnd.jupyter.widget-view+json": {
       "model_id": "0414c8c38e64475ea8c2ea9904b35695",
       "version_major": 2,
       "version_minor": 0
      },
      "text/plain": [
       "HBox(children=(IntProgress(value=0, max=200), HTML(value='')))"
      ]
     },
     "metadata": {},
     "output_type": "display_data"
    },
    {
     "name": "stderr",
     "output_type": "stream",
     "text": [
      "DEBUG:pykeen.utilities.evaluation_utils.metrics_computations:Evaluation took 3.87s seconds\n",
      "DEBUG:pykeen.utilities.train_utils:\n",
      "current metric: 0.29546176001374463  ---- rank/hits@10: (0.222403198820841, 0.44)\n",
      "INFO:pykeen.utilities.train_utils:Epoch 1705 / 2000 (2.0s):  0.013 ---- 0.017 ---- 0.30 ---- 576\n",
      "INFO:pykeen.utilities.train_utils:Epoch 1706 / 2000 (2.1s):  0.013 ---- 0.016 ---- 0.30 ---- 577\n",
      "INFO:pykeen.utilities.train_utils:Epoch 1707 / 2000 (2.1s):  0.013 ---- 0.017 ---- 0.30 ---- 578\n",
      "INFO:pykeen.utilities.train_utils:Epoch 1708 / 2000 (2.1s):  0.013 ---- 0.017 ---- 0.30 ---- 579\n",
      "INFO:pykeen.utilities.train_utils:Epoch 1709 / 2000 (2.1s):  0.013 ---- 0.017 ---- 0.30 ---- 580\n"
     ]
    },
    {
     "data": {
      "application/vnd.jupyter.widget-view+json": {
       "model_id": "1540f3f3896149bb9093c7c1da66f479",
       "version_major": 2,
       "version_minor": 0
      },
      "text/plain": [
       "HBox(children=(IntProgress(value=0, max=200), HTML(value='')))"
      ]
     },
     "metadata": {},
     "output_type": "display_data"
    },
    {
     "name": "stderr",
     "output_type": "stream",
     "text": [
      "DEBUG:pykeen.utilities.evaluation_utils.metrics_computations:Evaluation took 3.93s seconds\n",
      "DEBUG:pykeen.utilities.train_utils:\n",
      "current metric: 0.29644167090856155  ---- rank/hits@10: (0.2222469757205412, 0.445)\n",
      "INFO:pykeen.utilities.train_utils:Epoch 1710 / 2000 (2.1s):  0.013 ---- 0.016 ---- 0.30 ---- 581\n",
      "INFO:pykeen.utilities.train_utils:Epoch 1711 / 2000 (2.1s):  0.013 ---- 0.016 ---- 0.30 ---- 582\n",
      "INFO:pykeen.utilities.train_utils:Epoch 1712 / 2000 (2.0s):  0.013 ---- 0.016 ---- 0.30 ---- 583\n",
      "INFO:pykeen.utilities.train_utils:Epoch 1713 / 2000 (2.1s):  0.013 ---- 0.017 ---- 0.30 ---- 584\n",
      "INFO:pykeen.utilities.train_utils:Epoch 1714 / 2000 (2.1s):  0.013 ---- 0.017 ---- 0.30 ---- 585\n"
     ]
    },
    {
     "name": "stdout",
     "output_type": "stream",
     "text": [
      "\n",
      "\n"
     ]
    },
    {
     "data": {
      "application/vnd.jupyter.widget-view+json": {
       "model_id": "0606bb31d6ce4443a185b99c5f421227",
       "version_major": 2,
       "version_minor": 0
      },
      "text/plain": [
       "HBox(children=(IntProgress(value=0, max=200), HTML(value='')))"
      ]
     },
     "metadata": {},
     "output_type": "display_data"
    },
    {
     "name": "stderr",
     "output_type": "stream",
     "text": [
      "DEBUG:pykeen.utilities.evaluation_utils.metrics_computations:Evaluation took 3.88s seconds\n",
      "DEBUG:pykeen.utilities.train_utils:\n",
      "current metric: 0.28931626650067926  ---- rank/hits@10: (0.21673170551787585, 0.435)\n",
      "INFO:pykeen.utilities.train_utils:Epoch 1715 / 2000 (2.1s):  0.013 ---- 0.018 ---- 0.29 ---- 586\n",
      "INFO:pykeen.utilities.train_utils:Epoch 1716 / 2000 (2.0s):  0.013 ---- 0.017 ---- 0.29 ---- 587\n",
      "INFO:pykeen.utilities.train_utils:Epoch 1717 / 2000 (2.1s):  0.013 ---- 0.018 ---- 0.29 ---- 588\n",
      "INFO:pykeen.utilities.train_utils:Epoch 1718 / 2000 (2.0s):  0.013 ---- 0.016 ---- 0.29 ---- 589\n",
      "INFO:pykeen.utilities.train_utils:Epoch 1719 / 2000 (2.1s):  0.013 ---- 0.017 ---- 0.29 ---- 590\n"
     ]
    },
    {
     "data": {
      "application/vnd.jupyter.widget-view+json": {
       "model_id": "151e722f47cf41738071735e2020c042",
       "version_major": 2,
       "version_minor": 0
      },
      "text/plain": [
       "HBox(children=(IntProgress(value=0, max=200), HTML(value='')))"
      ]
     },
     "metadata": {},
     "output_type": "display_data"
    },
    {
     "name": "stderr",
     "output_type": "stream",
     "text": [
      "DEBUG:pykeen.utilities.evaluation_utils.metrics_computations:Evaluation took 3.89s seconds\n",
      "DEBUG:pykeen.utilities.train_utils:\n",
      "current metric: 0.2899691005736401  ---- rank/hits@10: (0.21684577964233856, 0.4375)\n",
      "INFO:pykeen.utilities.train_utils:Epoch 1720 / 2000 (2.1s):  0.012 ---- 0.017 ---- 0.29 ---- 591\n",
      "INFO:pykeen.utilities.train_utils:Epoch 1721 / 2000 (2.1s):  0.013 ---- 0.016 ---- 0.29 ---- 592\n",
      "INFO:pykeen.utilities.train_utils:Epoch 1722 / 2000 (2.0s):  0.013 ---- 0.017 ---- 0.29 ---- 593\n",
      "INFO:pykeen.utilities.train_utils:Epoch 1723 / 2000 (2.1s):  0.013 ---- 0.016 ---- 0.29 ---- 594\n",
      "INFO:pykeen.utilities.train_utils:Epoch 1724 / 2000 (2.1s):  0.013 ---- 0.016 ---- 0.29 ---- 595\n"
     ]
    },
    {
     "data": {
      "application/vnd.jupyter.widget-view+json": {
       "model_id": "fea0388974694ac7a4e9c30b625b5e71",
       "version_major": 2,
       "version_minor": 0
      },
      "text/plain": [
       "HBox(children=(IntProgress(value=0, max=200), HTML(value='')))"
      ]
     },
     "metadata": {},
     "output_type": "display_data"
    },
    {
     "name": "stderr",
     "output_type": "stream",
     "text": [
      "DEBUG:pykeen.utilities.evaluation_utils.metrics_computations:Evaluation took 3.89s seconds\n",
      "DEBUG:pykeen.utilities.train_utils:\n",
      "current metric: 0.28395920996319385  ---- rank/hits@10: (0.21136615606849524, 0.4325)\n",
      "INFO:pykeen.utilities.train_utils:Epoch 1725 / 2000 (2.1s):  0.013 ---- 0.016 ---- 0.28 ---- 596\n",
      "INFO:pykeen.utilities.train_utils:Epoch 1726 / 2000 (2.1s):  0.013 ---- 0.017 ---- 0.28 ---- 597\n",
      "INFO:pykeen.utilities.train_utils:Epoch 1727 / 2000 (2.1s):  0.013 ---- 0.017 ---- 0.28 ---- 598\n",
      "INFO:pykeen.utilities.train_utils:Epoch 1728 / 2000 (2.0s):  0.013 ---- 0.017 ---- 0.28 ---- 599\n",
      "INFO:pykeen.utilities.train_utils:Epoch 1729 / 2000 (2.1s):  0.013 ---- 0.017 ---- 0.28 ---- 600\n"
     ]
    },
    {
     "name": "stdout",
     "output_type": "stream",
     "text": [
      "\n",
      "\n"
     ]
    },
    {
     "data": {
      "application/vnd.jupyter.widget-view+json": {
       "model_id": "68d43a55802d46e58d6c1e0adb660d5c",
       "version_major": 2,
       "version_minor": 0
      },
      "text/plain": [
       "HBox(children=(IntProgress(value=0, max=200), HTML(value='')))"
      ]
     },
     "metadata": {},
     "output_type": "display_data"
    },
    {
     "name": "stderr",
     "output_type": "stream",
     "text": [
      "DEBUG:pykeen.utilities.evaluation_utils.metrics_computations:Evaluation took 3.89s seconds\n",
      "DEBUG:pykeen.utilities.train_utils:\n",
      "current metric: 0.2921587993848092  ---- rank/hits@10: (0.21930411679191544, 0.4375)\n",
      "INFO:pykeen.utilities.train_utils:Epoch 1730 / 2000 (2.1s):  0.013 ---- 0.017 ---- 0.29 ---- 601\n",
      "INFO:pykeen.utilities.train_utils:Epoch 1731 / 2000 (2.1s):  0.013 ---- 0.017 ---- 0.29 ---- 602\n",
      "INFO:pykeen.utilities.train_utils:Epoch 1732 / 2000 (2.0s):  0.013 ---- 0.017 ---- 0.29 ---- 603\n",
      "INFO:pykeen.utilities.train_utils:Epoch 1733 / 2000 (2.1s):  0.013 ---- 0.016 ---- 0.29 ---- 604\n",
      "INFO:pykeen.utilities.train_utils:Epoch 1734 / 2000 (2.0s):  0.013 ---- 0.017 ---- 0.29 ---- 605\n"
     ]
    },
    {
     "data": {
      "application/vnd.jupyter.widget-view+json": {
       "model_id": "0cd8c48b591042a7b2a15b6cdde32eba",
       "version_major": 2,
       "version_minor": 0
      },
      "text/plain": [
       "HBox(children=(IntProgress(value=0, max=200), HTML(value='')))"
      ]
     },
     "metadata": {},
     "output_type": "display_data"
    },
    {
     "name": "stderr",
     "output_type": "stream",
     "text": [
      "DEBUG:pykeen.utilities.evaluation_utils.metrics_computations:Evaluation took 3.88s seconds\n",
      "DEBUG:pykeen.utilities.train_utils:\n",
      "current metric: 0.2949415012875763  ---- rank/hits@10: (0.2231069592873819, 0.435)\n",
      "INFO:pykeen.utilities.train_utils:Epoch 1735 / 2000 (2.1s):  0.013 ---- 0.017 ---- 0.29 ---- 606\n",
      "INFO:pykeen.utilities.train_utils:Epoch 1736 / 2000 (2.0s):  0.013 ---- 0.016 ---- 0.29 ---- 607\n",
      "INFO:pykeen.utilities.train_utils:Epoch 1737 / 2000 (2.1s):  0.013 ---- 0.016 ---- 0.29 ---- 608\n",
      "INFO:pykeen.utilities.train_utils:Epoch 1738 / 2000 (2.0s):  0.013 ---- 0.016 ---- 0.29 ---- 609\n",
      "INFO:pykeen.utilities.train_utils:Epoch 1739 / 2000 (2.1s):  0.013 ---- 0.017 ---- 0.29 ---- 610\n"
     ]
    },
    {
     "data": {
      "application/vnd.jupyter.widget-view+json": {
       "model_id": "a7fa45b8a1e342eba49ed89367361eae",
       "version_major": 2,
       "version_minor": 0
      },
      "text/plain": [
       "HBox(children=(IntProgress(value=0, max=200), HTML(value='')))"
      ]
     },
     "metadata": {},
     "output_type": "display_data"
    },
    {
     "name": "stderr",
     "output_type": "stream",
     "text": [
      "DEBUG:pykeen.utilities.evaluation_utils.metrics_computations:Evaluation took 3.88s seconds\n",
      "DEBUG:pykeen.utilities.train_utils:\n",
      "current metric: 0.29236732245439867  ---- rank/hits@10: (0.2195391856712124, 0.4375)\n",
      "INFO:pykeen.utilities.train_utils:Epoch 1740 / 2000 (2.0s):  0.013 ---- 0.017 ---- 0.29 ---- 611\n",
      "INFO:pykeen.utilities.train_utils:Epoch 1741 / 2000 (2.0s):  0.013 ---- 0.017 ---- 0.29 ---- 612\n",
      "INFO:pykeen.utilities.train_utils:Epoch 1742 / 2000 (2.0s):  0.013 ---- 0.016 ---- 0.29 ---- 613\n",
      "INFO:pykeen.utilities.train_utils:Epoch 1743 / 2000 (2.1s):  0.013 ---- 0.016 ---- 0.29 ---- 614\n",
      "INFO:pykeen.utilities.train_utils:Epoch 1744 / 2000 (2.0s):  0.013 ---- 0.016 ---- 0.29 ---- 615\n"
     ]
    },
    {
     "name": "stdout",
     "output_type": "stream",
     "text": [
      "\n",
      "\n"
     ]
    },
    {
     "data": {
      "application/vnd.jupyter.widget-view+json": {
       "model_id": "dde795af4847453fb86d20a08fa11f36",
       "version_major": 2,
       "version_minor": 0
      },
      "text/plain": [
       "HBox(children=(IntProgress(value=0, max=200), HTML(value='')))"
      ]
     },
     "metadata": {},
     "output_type": "display_data"
    },
    {
     "name": "stderr",
     "output_type": "stream",
     "text": [
      "DEBUG:pykeen.utilities.evaluation_utils.metrics_computations:Evaluation took 3.88s seconds\n",
      "DEBUG:pykeen.utilities.train_utils:\n",
      "current metric: 0.2935923433494186  ---- rank/hits@10: (0.21905921450474378, 0.445)\n",
      "INFO:pykeen.utilities.train_utils:Epoch 1745 / 2000 (2.1s):  0.013 ---- 0.016 ---- 0.29 ---- 616\n",
      "INFO:pykeen.utilities.train_utils:Epoch 1746 / 2000 (2.1s):  0.013 ---- 0.017 ---- 0.29 ---- 617\n",
      "INFO:pykeen.utilities.train_utils:Epoch 1747 / 2000 (2.1s):  0.013 ---- 0.016 ---- 0.29 ---- 618\n",
      "INFO:pykeen.utilities.train_utils:Epoch 1748 / 2000 (2.0s):  0.013 ---- 0.017 ---- 0.29 ---- 619\n",
      "INFO:pykeen.utilities.train_utils:Epoch 1749 / 2000 (2.1s):  0.013 ---- 0.016 ---- 0.29 ---- 620\n"
     ]
    },
    {
     "data": {
      "application/vnd.jupyter.widget-view+json": {
       "model_id": "c83cb0de120c47bf90bdf8df4f8e540c",
       "version_major": 2,
       "version_minor": 0
      },
      "text/plain": [
       "HBox(children=(IntProgress(value=0, max=200), HTML(value='')))"
      ]
     },
     "metadata": {},
     "output_type": "display_data"
    },
    {
     "name": "stderr",
     "output_type": "stream",
     "text": [
      "DEBUG:pykeen.utilities.evaluation_utils.metrics_computations:Evaluation took 3.88s seconds\n",
      "DEBUG:pykeen.utilities.train_utils:\n",
      "current metric: 0.2903664473207304  ---- rank/hits@10: (0.2166790479282934, 0.44)\n",
      "INFO:pykeen.utilities.train_utils:Epoch 1750 / 2000 (2.0s):  0.013 ---- 0.017 ---- 0.29 ---- 621\n",
      "INFO:pykeen.utilities.train_utils:Epoch 1751 / 2000 (2.0s):  0.013 ---- 0.017 ---- 0.29 ---- 622\n",
      "INFO:pykeen.utilities.train_utils:Epoch 1752 / 2000 (2.0s):  0.013 ---- 0.016 ---- 0.29 ---- 623\n",
      "INFO:pykeen.utilities.train_utils:Epoch 1753 / 2000 (2.1s):  0.013 ---- 0.017 ---- 0.29 ---- 624\n",
      "INFO:pykeen.utilities.train_utils:Epoch 1754 / 2000 (2.0s):  0.013 ---- 0.017 ---- 0.29 ---- 625\n"
     ]
    },
    {
     "data": {
      "application/vnd.jupyter.widget-view+json": {
       "model_id": "e518127c5a0c4b178ea91138e1fa5363",
       "version_major": 2,
       "version_minor": 0
      },
      "text/plain": [
       "HBox(children=(IntProgress(value=0, max=200), HTML(value='')))"
      ]
     },
     "metadata": {},
     "output_type": "display_data"
    },
    {
     "name": "stderr",
     "output_type": "stream",
     "text": [
      "DEBUG:pykeen.utilities.evaluation_utils.metrics_computations:Evaluation took 3.89s seconds\n",
      "DEBUG:pykeen.utilities.train_utils:\n",
      "current metric: 0.29441740841091213  ---- rank/hits@10: (0.22250772440000738, 0.435)\n",
      "INFO:pykeen.utilities.train_utils:Epoch 1755 / 2000 (2.1s):  0.013 ---- 0.016 ---- 0.29 ---- 626\n",
      "INFO:pykeen.utilities.train_utils:Epoch 1756 / 2000 (2.1s):  0.013 ---- 0.016 ---- 0.29 ---- 627\n"
     ]
    },
    {
     "data": {
      "application/vnd.jupyter.widget-view+json": {
       "model_id": "4223060edb5e4aacb7688aadc8d9309a",
       "version_major": 2,
       "version_minor": 0
      },
      "text/plain": [
       "HBox(children=(IntProgress(value=0, max=200), HTML(value='')))"
      ]
     },
     "metadata": {},
     "output_type": "display_data"
    },
    {
     "name": "stdout",
     "output_type": "stream",
     "text": [
      "\n",
      "\n",
      "\n",
      "\n",
      "\n",
      "\n",
      "\n",
      "\n",
      "\n",
      "\n",
      "\n"
     ]
    },
    {
     "name": "stderr",
     "output_type": "stream",
     "text": [
      "DEBUG:pykeen.utilities.evaluation_utils.metrics_computations:Evaluation took 3.91s seconds\n",
      "DEBUG:pykeen.utilities.train_utils:\n",
      "current metric: 0.2928359409672648  ---- rank/hits@10: (0.21944090760230445, 0.44)\n",
      "INFO:pykeen.utilities.train_utils:Epoch 1757 / 2000 (2.1s):  0.013 ---- 0.015 ---- 0.29 ---- 628\n",
      "INFO:pykeen.utilities.train_utils:Epoch 1758 / 2000 (2.1s):  0.013 ---- 0.017 ---- 0.29 ---- 629\n",
      "INFO:pykeen.utilities.train_utils:Epoch 1759 / 2000 (2.1s):  0.013 ---- 0.017 ---- 0.29 ---- 630\n"
     ]
    },
    {
     "data": {
      "application/vnd.jupyter.widget-view+json": {
       "model_id": "4b927dfc42474d84bc37b545204fc63f",
       "version_major": 2,
       "version_minor": 0
      },
      "text/plain": [
       "HBox(children=(IntProgress(value=0, max=200), HTML(value='')))"
      ]
     },
     "metadata": {},
     "output_type": "display_data"
    },
    {
     "name": "stderr",
     "output_type": "stream",
     "text": [
      "DEBUG:pykeen.utilities.evaluation_utils.metrics_computations:Evaluation took 3.87s seconds\n",
      "DEBUG:pykeen.utilities.train_utils:\n",
      "current metric: 0.2901244041764617  ---- rank/hits@10: (0.21580991008776643, 0.4425)\n",
      "INFO:pykeen.utilities.train_utils:Epoch 1760 / 2000 (2.1s):  0.013 ---- 0.016 ---- 0.29 ---- 631\n",
      "INFO:pykeen.utilities.train_utils:Epoch 1761 / 2000 (2.1s):  0.013 ---- 0.016 ---- 0.29 ---- 632\n",
      "INFO:pykeen.utilities.train_utils:Epoch 1762 / 2000 (2.1s):  0.013 ---- 0.018 ---- 0.29 ---- 633\n",
      "INFO:pykeen.utilities.train_utils:Epoch 1763 / 2000 (2.1s):  0.013 ---- 0.018 ---- 0.29 ---- 634\n",
      "INFO:pykeen.utilities.train_utils:Epoch 1764 / 2000 (2.0s):  0.012 ---- 0.017 ---- 0.29 ---- 635\n"
     ]
    },
    {
     "data": {
      "application/vnd.jupyter.widget-view+json": {
       "model_id": "0d68b1b4a63b4ef3aa28f6e23a648273",
       "version_major": 2,
       "version_minor": 0
      },
      "text/plain": [
       "HBox(children=(IntProgress(value=0, max=200), HTML(value='')))"
      ]
     },
     "metadata": {},
     "output_type": "display_data"
    },
    {
     "name": "stderr",
     "output_type": "stream",
     "text": [
      "DEBUG:pykeen.utilities.evaluation_utils.metrics_computations:Evaluation took 3.89s seconds\n",
      "DEBUG:pykeen.utilities.train_utils:\n",
      "current metric: 0.2912340153449598  ---- rank/hits@10: (0.21826362799934645, 0.4375)\n",
      "INFO:pykeen.utilities.train_utils:Epoch 1765 / 2000 (2.1s):  0.013 ---- 0.018 ---- 0.29 ---- 636\n",
      "INFO:pykeen.utilities.train_utils:Epoch 1766 / 2000 (2.0s):  0.012 ---- 0.017 ---- 0.29 ---- 637\n",
      "INFO:pykeen.utilities.train_utils:Epoch 1767 / 2000 (2.1s):  0.013 ---- 0.017 ---- 0.29 ---- 638\n",
      "INFO:pykeen.utilities.train_utils:Epoch 1768 / 2000 (2.0s):  0.013 ---- 0.017 ---- 0.29 ---- 639\n",
      "INFO:pykeen.utilities.train_utils:Epoch 1769 / 2000 (2.1s):  0.013 ---- 0.016 ---- 0.29 ---- 640\n"
     ]
    },
    {
     "data": {
      "application/vnd.jupyter.widget-view+json": {
       "model_id": "411c733d0c8e466d82ed6e9e5cea8ba0",
       "version_major": 2,
       "version_minor": 0
      },
      "text/plain": [
       "HBox(children=(IntProgress(value=0, max=200), HTML(value='')))"
      ]
     },
     "metadata": {},
     "output_type": "display_data"
    },
    {
     "name": "stdout",
     "output_type": "stream",
     "text": [
      "\n",
      "\n"
     ]
    },
    {
     "name": "stderr",
     "output_type": "stream",
     "text": [
      "DEBUG:pykeen.utilities.evaluation_utils.metrics_computations:Evaluation took 3.88s seconds\n",
      "DEBUG:pykeen.utilities.train_utils:\n",
      "current metric: 0.28976809353025695  ---- rank/hits@10: (0.21541584043706927, 0.4425)\n",
      "INFO:pykeen.utilities.train_utils:Epoch 1770 / 2000 (2.1s):  0.013 ---- 0.016 ---- 0.29 ---- 641\n",
      "INFO:pykeen.utilities.train_utils:Epoch 1771 / 2000 (2.1s):  0.013 ---- 0.016 ---- 0.29 ---- 642\n",
      "INFO:pykeen.utilities.train_utils:Epoch 1772 / 2000 (2.1s):  0.013 ---- 0.017 ---- 0.29 ---- 643\n",
      "INFO:pykeen.utilities.train_utils:Epoch 1773 / 2000 (2.1s):  0.013 ---- 0.016 ---- 0.29 ---- 644\n",
      "INFO:pykeen.utilities.train_utils:Epoch 1774 / 2000 (2.1s):  0.013 ---- 0.017 ---- 0.29 ---- 645\n"
     ]
    },
    {
     "data": {
      "application/vnd.jupyter.widget-view+json": {
       "model_id": "195ac669ddba45bf9ae29e91f56ec6c4",
       "version_major": 2,
       "version_minor": 0
      },
      "text/plain": [
       "HBox(children=(IntProgress(value=0, max=200), HTML(value='')))"
      ]
     },
     "metadata": {},
     "output_type": "display_data"
    },
    {
     "name": "stderr",
     "output_type": "stream",
     "text": [
      "DEBUG:pykeen.utilities.evaluation_utils.metrics_computations:Evaluation took 3.93s seconds\n",
      "DEBUG:pykeen.utilities.train_utils:\n",
      "current metric: 0.29247705406589125  ---- rank/hits@10: (0.2184237712855581, 0.4425)\n",
      "INFO:pykeen.utilities.train_utils:Epoch 1775 / 2000 (2.1s):  0.013 ---- 0.016 ---- 0.29 ---- 646\n",
      "INFO:pykeen.utilities.train_utils:Epoch 1776 / 2000 (2.1s):  0.013 ---- 0.017 ---- 0.29 ---- 647\n",
      "INFO:pykeen.utilities.train_utils:Epoch 1777 / 2000 (2.1s):  0.013 ---- 0.016 ---- 0.29 ---- 648\n",
      "INFO:pykeen.utilities.train_utils:Epoch 1778 / 2000 (2.1s):  0.013 ---- 0.016 ---- 0.29 ---- 649\n",
      "INFO:pykeen.utilities.train_utils:Epoch 1779 / 2000 (2.1s):  0.013 ---- 0.017 ---- 0.29 ---- 650\n"
     ]
    },
    {
     "data": {
      "application/vnd.jupyter.widget-view+json": {
       "model_id": "df54771ec1054d67bc683d88bf837a75",
       "version_major": 2,
       "version_minor": 0
      },
      "text/plain": [
       "HBox(children=(IntProgress(value=0, max=200), HTML(value='')))"
      ]
     },
     "metadata": {},
     "output_type": "display_data"
    },
    {
     "name": "stderr",
     "output_type": "stream",
     "text": [
      "DEBUG:pykeen.utilities.evaluation_utils.metrics_computations:Evaluation took 3.88s seconds\n",
      "DEBUG:pykeen.utilities.train_utils:\n",
      "current metric: 0.2933865555590839  ---- rank/hits@10: (0.21883016288065174, 0.445)\n",
      "INFO:pykeen.utilities.train_utils:Epoch 1780 / 2000 (2.1s):  0.013 ---- 0.016 ---- 0.29 ---- 651\n",
      "INFO:pykeen.utilities.train_utils:Epoch 1781 / 2000 (2.1s):  0.013 ---- 0.017 ---- 0.29 ---- 652\n",
      "INFO:pykeen.utilities.train_utils:Epoch 1782 / 2000 (2.1s):  0.013 ---- 0.017 ---- 0.29 ---- 653\n",
      "INFO:pykeen.utilities.train_utils:Epoch 1783 / 2000 (2.1s):  0.013 ---- 0.017 ---- 0.29 ---- 654\n",
      "INFO:pykeen.utilities.train_utils:Epoch 1784 / 2000 (2.0s):  0.013 ---- 0.017 ---- 0.29 ---- 655\n"
     ]
    },
    {
     "name": "stdout",
     "output_type": "stream",
     "text": [
      "\n",
      "\n"
     ]
    },
    {
     "data": {
      "application/vnd.jupyter.widget-view+json": {
       "model_id": "dc326249e5b148c5988f32038ff63c79",
       "version_major": 2,
       "version_minor": 0
      },
      "text/plain": [
       "HBox(children=(IntProgress(value=0, max=200), HTML(value='')))"
      ]
     },
     "metadata": {},
     "output_type": "display_data"
    },
    {
     "name": "stderr",
     "output_type": "stream",
     "text": [
      "DEBUG:pykeen.utilities.evaluation_utils.metrics_computations:Evaluation took 3.91s seconds\n",
      "DEBUG:pykeen.utilities.train_utils:\n",
      "current metric: 0.29530815748960415  ---- rank/hits@10: (0.22287241155956905, 0.4375)\n",
      "INFO:pykeen.utilities.train_utils:Epoch 1785 / 2000 (2.1s):  0.013 ---- 0.017 ---- 0.30 ---- 656\n",
      "INFO:pykeen.utilities.train_utils:Epoch 1786 / 2000 (2.1s):  0.013 ---- 0.017 ---- 0.30 ---- 657\n",
      "INFO:pykeen.utilities.train_utils:Epoch 1787 / 2000 (2.1s):  0.012 ---- 0.017 ---- 0.30 ---- 658\n",
      "INFO:pykeen.utilities.train_utils:Epoch 1788 / 2000 (2.0s):  0.013 ---- 0.016 ---- 0.30 ---- 659\n",
      "INFO:pykeen.utilities.train_utils:Epoch 1789 / 2000 (2.1s):  0.013 ---- 0.017 ---- 0.30 ---- 660\n"
     ]
    },
    {
     "data": {
      "application/vnd.jupyter.widget-view+json": {
       "model_id": "7088d1b12b444e24a7d8336c18871b31",
       "version_major": 2,
       "version_minor": 0
      },
      "text/plain": [
       "HBox(children=(IntProgress(value=0, max=200), HTML(value='')))"
      ]
     },
     "metadata": {},
     "output_type": "display_data"
    },
    {
     "name": "stderr",
     "output_type": "stream",
     "text": [
      "DEBUG:pykeen.utilities.evaluation_utils.metrics_computations:Evaluation took 3.89s seconds\n",
      "DEBUG:pykeen.utilities.train_utils:\n",
      "current metric: 0.2911360946102969  ---- rank/hits@10: (0.21815364884902366, 0.4375)\n",
      "INFO:pykeen.utilities.train_utils:Epoch 1790 / 2000 (2.1s):  0.013 ---- 0.016 ---- 0.29 ---- 661\n",
      "INFO:pykeen.utilities.train_utils:Epoch 1791 / 2000 (2.1s):  0.013 ---- 0.016 ---- 0.29 ---- 662\n",
      "INFO:pykeen.utilities.train_utils:Epoch 1792 / 2000 (2.1s):  0.013 ---- 0.016 ---- 0.29 ---- 663\n",
      "INFO:pykeen.utilities.train_utils:Epoch 1793 / 2000 (2.1s):  0.013 ---- 0.018 ---- 0.29 ---- 664\n",
      "INFO:pykeen.utilities.train_utils:Epoch 1794 / 2000 (2.1s):  0.013 ---- 0.016 ---- 0.29 ---- 665\n"
     ]
    },
    {
     "data": {
      "application/vnd.jupyter.widget-view+json": {
       "model_id": "3cc0e17e66334f9a89fd93032a73e8f0",
       "version_major": 2,
       "version_minor": 0
      },
      "text/plain": [
       "HBox(children=(IntProgress(value=0, max=200), HTML(value='')))"
      ]
     },
     "metadata": {},
     "output_type": "display_data"
    },
    {
     "name": "stderr",
     "output_type": "stream",
     "text": [
      "DEBUG:pykeen.utilities.evaluation_utils.metrics_computations:Evaluation took 3.90s seconds\n",
      "DEBUG:pykeen.utilities.train_utils:\n",
      "current metric: 0.29394553243542915  ---- rank/hits@10: (0.22262577389598642, 0.4325)\n",
      "INFO:pykeen.utilities.train_utils:Epoch 1795 / 2000 (2.1s):  0.012 ---- 0.017 ---- 0.29 ---- 666\n",
      "INFO:pykeen.utilities.train_utils:Epoch 1796 / 2000 (2.1s):  0.013 ---- 0.016 ---- 0.29 ---- 667\n",
      "INFO:pykeen.utilities.train_utils:Epoch 1797 / 2000 (2.1s):  0.013 ---- 0.017 ---- 0.29 ---- 668\n",
      "INFO:pykeen.utilities.train_utils:Epoch 1798 / 2000 (2.1s):  0.013 ---- 0.017 ---- 0.29 ---- 669\n",
      "INFO:pykeen.utilities.train_utils:Epoch 1799 / 2000 (2.1s):  0.013 ---- 0.016 ---- 0.29 ---- 670\n"
     ]
    },
    {
     "name": "stdout",
     "output_type": "stream",
     "text": [
      "\n",
      "\n"
     ]
    },
    {
     "data": {
      "application/vnd.jupyter.widget-view+json": {
       "model_id": "f92ac48ced7641c7ae120927ade68095",
       "version_major": 2,
       "version_minor": 0
      },
      "text/plain": [
       "HBox(children=(IntProgress(value=0, max=200), HTML(value='')))"
      ]
     },
     "metadata": {},
     "output_type": "display_data"
    },
    {
     "name": "stderr",
     "output_type": "stream",
     "text": [
      "DEBUG:pykeen.utilities.evaluation_utils.metrics_computations:Evaluation took 3.91s seconds\n",
      "DEBUG:pykeen.utilities.train_utils:\n",
      "current metric: 0.2936543976374576  ---- rank/hits@10: (0.22099384332534788, 0.4375)\n",
      "INFO:pykeen.utilities.train_utils:Epoch 1800 / 2000 (2.0s):  0.013 ---- 0.016 ---- 0.29 ---- 671\n",
      "INFO:pykeen.utilities.train_utils:Epoch 1801 / 2000 (2.1s):  0.012 ---- 0.017 ---- 0.29 ---- 672\n",
      "INFO:pykeen.utilities.train_utils:Epoch 1802 / 2000 (2.1s):  0.013 ---- 0.017 ---- 0.29 ---- 673\n",
      "INFO:pykeen.utilities.train_utils:Epoch 1803 / 2000 (2.1s):  0.012 ---- 0.017 ---- 0.29 ---- 674\n",
      "INFO:pykeen.utilities.train_utils:Epoch 1804 / 2000 (2.1s):  0.013 ---- 0.016 ---- 0.29 ---- 675\n"
     ]
    },
    {
     "data": {
      "application/vnd.jupyter.widget-view+json": {
       "model_id": "a324aa7e0f28464b9f2524036a51d824",
       "version_major": 2,
       "version_minor": 0
      },
      "text/plain": [
       "HBox(children=(IntProgress(value=0, max=200), HTML(value='')))"
      ]
     },
     "metadata": {},
     "output_type": "display_data"
    },
    {
     "name": "stderr",
     "output_type": "stream",
     "text": [
      "DEBUG:pykeen.utilities.evaluation_utils.metrics_computations:Evaluation took 3.90s seconds\n",
      "DEBUG:pykeen.utilities.train_utils:\n",
      "current metric: 0.29177671797991533  ---- rank/hits@10: (0.21825344190776053, 0.44)\n",
      "INFO:pykeen.utilities.train_utils:Epoch 1805 / 2000 (2.1s):  0.013 ---- 0.016 ---- 0.29 ---- 676\n",
      "INFO:pykeen.utilities.train_utils:Epoch 1806 / 2000 (2.1s):  0.013 ---- 0.017 ---- 0.29 ---- 677\n",
      "INFO:pykeen.utilities.train_utils:Epoch 1807 / 2000 (2.1s):  0.013 ---- 0.016 ---- 0.29 ---- 678\n",
      "INFO:pykeen.utilities.train_utils:Epoch 1808 / 2000 (2.1s):  0.013 ---- 0.017 ---- 0.29 ---- 679\n",
      "INFO:pykeen.utilities.train_utils:Epoch 1809 / 2000 (2.1s):  0.013 ---- 0.016 ---- 0.29 ---- 680\n"
     ]
    },
    {
     "data": {
      "application/vnd.jupyter.widget-view+json": {
       "model_id": "a0fe18f62e4e4961b5b1cf1a6fe11f68",
       "version_major": 2,
       "version_minor": 0
      },
      "text/plain": [
       "HBox(children=(IntProgress(value=0, max=200), HTML(value='')))"
      ]
     },
     "metadata": {},
     "output_type": "display_data"
    },
    {
     "name": "stderr",
     "output_type": "stream",
     "text": [
      "DEBUG:pykeen.utilities.evaluation_utils.metrics_computations:Evaluation took 3.88s seconds\n",
      "DEBUG:pykeen.utilities.train_utils:\n",
      "current metric: 0.2903410140019553  ---- rank/hits@10: (0.2166507238834548, 0.44)\n",
      "INFO:pykeen.utilities.train_utils:Epoch 1810 / 2000 (2.0s):  0.013 ---- 0.017 ---- 0.29 ---- 681\n",
      "INFO:pykeen.utilities.train_utils:Epoch 1811 / 2000 (2.1s):  0.012 ---- 0.017 ---- 0.29 ---- 682\n",
      "INFO:pykeen.utilities.train_utils:Epoch 1812 / 2000 (2.1s):  0.013 ---- 0.016 ---- 0.29 ---- 683\n",
      "INFO:pykeen.utilities.train_utils:Epoch 1813 / 2000 (2.1s):  0.013 ---- 0.017 ---- 0.29 ---- 684\n",
      "INFO:pykeen.utilities.train_utils:Epoch 1814 / 2000 (2.1s):  0.013 ---- 0.017 ---- 0.29 ---- 685\n"
     ]
    },
    {
     "name": "stdout",
     "output_type": "stream",
     "text": [
      "\n",
      "\n"
     ]
    },
    {
     "data": {
      "application/vnd.jupyter.widget-view+json": {
       "model_id": "51aa8399b3044030825b398e591837ad",
       "version_major": 2,
       "version_minor": 0
      },
      "text/plain": [
       "HBox(children=(IntProgress(value=0, max=200), HTML(value='')))"
      ]
     },
     "metadata": {},
     "output_type": "display_data"
    },
    {
     "name": "stderr",
     "output_type": "stream",
     "text": [
      "DEBUG:pykeen.utilities.evaluation_utils.metrics_computations:Evaluation took 3.89s seconds\n",
      "DEBUG:pykeen.utilities.train_utils:\n",
      "current metric: 0.29482660716250053  ---- rank/hits@10: (0.2204363329513518, 0.445)\n",
      "INFO:pykeen.utilities.train_utils:Epoch 1815 / 2000 (2.1s):  0.013 ---- 0.016 ---- 0.29 ---- 686\n",
      "INFO:pykeen.utilities.train_utils:Epoch 1816 / 2000 (2.0s):  0.013 ---- 0.016 ---- 0.29 ---- 687\n",
      "INFO:pykeen.utilities.train_utils:Epoch 1817 / 2000 (2.1s):  0.013 ---- 0.017 ---- 0.29 ---- 688\n",
      "INFO:pykeen.utilities.train_utils:Epoch 1818 / 2000 (2.1s):  0.013 ---- 0.016 ---- 0.29 ---- 689\n",
      "INFO:pykeen.utilities.train_utils:Epoch 1819 / 2000 (2.1s):  0.013 ---- 0.016 ---- 0.29 ---- 690\n"
     ]
    },
    {
     "data": {
      "application/vnd.jupyter.widget-view+json": {
       "model_id": "d10105395c1141dc9d2618495ee46992",
       "version_major": 2,
       "version_minor": 0
      },
      "text/plain": [
       "HBox(children=(IntProgress(value=0, max=200), HTML(value='')))"
      ]
     },
     "metadata": {},
     "output_type": "display_data"
    },
    {
     "name": "stderr",
     "output_type": "stream",
     "text": [
      "DEBUG:pykeen.utilities.evaluation_utils.metrics_computations:Evaluation took 3.87s seconds\n",
      "DEBUG:pykeen.utilities.train_utils:\n",
      "current metric: 0.29149410921897473  ---- rank/hits@10: (0.21793733939712026, 0.44)\n",
      "INFO:pykeen.utilities.train_utils:Epoch 1820 / 2000 (2.1s):  0.012 ---- 0.017 ---- 0.29 ---- 691\n",
      "INFO:pykeen.utilities.train_utils:Epoch 1821 / 2000 (2.1s):  0.013 ---- 0.017 ---- 0.29 ---- 692\n",
      "INFO:pykeen.utilities.train_utils:Epoch 1822 / 2000 (2.1s):  0.013 ---- 0.016 ---- 0.29 ---- 693\n",
      "INFO:pykeen.utilities.train_utils:Epoch 1823 / 2000 (2.1s):  0.013 ---- 0.017 ---- 0.29 ---- 694\n",
      "INFO:pykeen.utilities.train_utils:Epoch 1824 / 2000 (2.1s):  0.013 ---- 0.017 ---- 0.29 ---- 695\n"
     ]
    },
    {
     "data": {
      "application/vnd.jupyter.widget-view+json": {
       "model_id": "28c13e202b9544a69fc54966745d7940",
       "version_major": 2,
       "version_minor": 0
      },
      "text/plain": [
       "HBox(children=(IntProgress(value=0, max=200), HTML(value='')))"
      ]
     },
     "metadata": {},
     "output_type": "display_data"
    },
    {
     "name": "stderr",
     "output_type": "stream",
     "text": [
      "DEBUG:pykeen.utilities.evaluation_utils.metrics_computations:Evaluation took 3.87s seconds\n",
      "DEBUG:pykeen.utilities.train_utils:\n",
      "current metric: 0.2896800250749397  ---- rank/hits@10: (0.21652261395403813, 0.4375)\n",
      "INFO:pykeen.utilities.train_utils:Epoch 1825 / 2000 (2.1s):  0.012 ---- 0.017 ---- 0.29 ---- 696\n",
      "INFO:pykeen.utilities.train_utils:Epoch 1826 / 2000 (2.1s):  0.013 ---- 0.016 ---- 0.29 ---- 697\n",
      "INFO:pykeen.utilities.train_utils:Epoch 1827 / 2000 (2.1s):  0.013 ---- 0.016 ---- 0.29 ---- 698\n",
      "INFO:pykeen.utilities.train_utils:Epoch 1828 / 2000 (2.1s):  0.012 ---- 0.016 ---- 0.29 ---- 699\n",
      "INFO:pykeen.utilities.train_utils:Epoch 1829 / 2000 (2.1s):  0.013 ---- 0.016 ---- 0.29 ---- 700\n"
     ]
    },
    {
     "name": "stdout",
     "output_type": "stream",
     "text": [
      "\n",
      "\n"
     ]
    },
    {
     "data": {
      "application/vnd.jupyter.widget-view+json": {
       "model_id": "352eeefea4644acf84f2203dfb7755b1",
       "version_major": 2,
       "version_minor": 0
      },
      "text/plain": [
       "HBox(children=(IntProgress(value=0, max=200), HTML(value='')))"
      ]
     },
     "metadata": {},
     "output_type": "display_data"
    },
    {
     "name": "stderr",
     "output_type": "stream",
     "text": [
      "DEBUG:pykeen.utilities.evaluation_utils.metrics_computations:Evaluation took 3.87s seconds\n",
      "DEBUG:pykeen.utilities.train_utils:\n",
      "current metric: 0.2930930327772872  ---- rank/hits@10: (0.2191115735847567, 0.4425)\n",
      "INFO:pykeen.utilities.train_utils:Epoch 1830 / 2000 (2.1s):  0.012 ---- 0.016 ---- 0.29 ---- 701\n",
      "INFO:pykeen.utilities.train_utils:Epoch 1831 / 2000 (2.1s):  0.013 ---- 0.016 ---- 0.29 ---- 702\n",
      "INFO:pykeen.utilities.train_utils:Epoch 1832 / 2000 (2.1s):  0.013 ---- 0.016 ---- 0.29 ---- 703\n",
      "INFO:pykeen.utilities.train_utils:Epoch 1833 / 2000 (2.1s):  0.013 ---- 0.017 ---- 0.29 ---- 704\n",
      "INFO:pykeen.utilities.train_utils:Epoch 1834 / 2000 (2.1s):  0.013 ---- 0.016 ---- 0.29 ---- 705\n"
     ]
    },
    {
     "data": {
      "application/vnd.jupyter.widget-view+json": {
       "model_id": "898efa73e6794d01b1de63b0a757b0c3",
       "version_major": 2,
       "version_minor": 0
      },
      "text/plain": [
       "HBox(children=(IntProgress(value=0, max=200), HTML(value='')))"
      ]
     },
     "metadata": {},
     "output_type": "display_data"
    },
    {
     "name": "stderr",
     "output_type": "stream",
     "text": [
      "DEBUG:pykeen.utilities.evaluation_utils.metrics_computations:Evaluation took 3.89s seconds\n",
      "DEBUG:pykeen.utilities.train_utils:\n",
      "current metric: 0.28776630295678224  ---- rank/hits@10: (0.21439123500150012, 0.4375)\n",
      "INFO:pykeen.utilities.train_utils:Epoch 1835 / 2000 (2.1s):  0.013 ---- 0.017 ---- 0.29 ---- 706\n",
      "INFO:pykeen.utilities.train_utils:Epoch 1836 / 2000 (2.0s):  0.013 ---- 0.016 ---- 0.29 ---- 707\n",
      "INFO:pykeen.utilities.train_utils:Epoch 1837 / 2000 (2.1s):  0.013 ---- 0.016 ---- 0.29 ---- 708\n",
      "INFO:pykeen.utilities.train_utils:Epoch 1838 / 2000 (2.0s):  0.013 ---- 0.016 ---- 0.29 ---- 709\n",
      "INFO:pykeen.utilities.train_utils:Epoch 1839 / 2000 (2.1s):  0.013 ---- 0.017 ---- 0.29 ---- 710\n"
     ]
    },
    {
     "data": {
      "application/vnd.jupyter.widget-view+json": {
       "model_id": "8789761dc7394818b4bd69e0dd1f4f10",
       "version_major": 2,
       "version_minor": 0
      },
      "text/plain": [
       "HBox(children=(IntProgress(value=0, max=200), HTML(value='')))"
      ]
     },
     "metadata": {},
     "output_type": "display_data"
    },
    {
     "name": "stderr",
     "output_type": "stream",
     "text": [
      "DEBUG:pykeen.utilities.evaluation_utils.metrics_computations:Evaluation took 3.87s seconds\n",
      "DEBUG:pykeen.utilities.train_utils:\n",
      "current metric: 0.29329276843692037  ---- rank/hits@10: (0.21812686800285278, 0.4475)\n",
      "INFO:pykeen.utilities.train_utils:Epoch 1840 / 2000 (2.1s):  0.013 ---- 0.017 ---- 0.29 ---- 711\n",
      "INFO:pykeen.utilities.train_utils:Epoch 1841 / 2000 (2.1s):  0.012 ---- 0.016 ---- 0.29 ---- 712\n",
      "INFO:pykeen.utilities.train_utils:Epoch 1842 / 2000 (2.0s):  0.013 ---- 0.017 ---- 0.29 ---- 713\n",
      "INFO:pykeen.utilities.train_utils:Epoch 1843 / 2000 (2.1s):  0.013 ---- 0.016 ---- 0.29 ---- 714\n",
      "INFO:pykeen.utilities.train_utils:Epoch 1844 / 2000 (2.0s):  0.013 ---- 0.017 ---- 0.29 ---- 715\n"
     ]
    },
    {
     "name": "stdout",
     "output_type": "stream",
     "text": [
      "\n",
      "\n"
     ]
    },
    {
     "data": {
      "application/vnd.jupyter.widget-view+json": {
       "model_id": "a1b0f025e3e8437bb05118a62622843c",
       "version_major": 2,
       "version_minor": 0
      },
      "text/plain": [
       "HBox(children=(IntProgress(value=0, max=200), HTML(value='')))"
      ]
     },
     "metadata": {},
     "output_type": "display_data"
    },
    {
     "name": "stderr",
     "output_type": "stream",
     "text": [
      "DEBUG:pykeen.utilities.evaluation_utils.metrics_computations:Evaluation took 3.91s seconds\n",
      "DEBUG:pykeen.utilities.train_utils:\n",
      "current metric: 0.29045956663371625  ---- rank/hits@10: (0.21678277194506035, 0.44)\n",
      "INFO:pykeen.utilities.train_utils:Epoch 1845 / 2000 (2.1s):  0.012 ---- 0.016 ---- 0.29 ---- 716\n",
      "INFO:pykeen.utilities.train_utils:Epoch 1846 / 2000 (2.1s):  0.012 ---- 0.017 ---- 0.29 ---- 717\n",
      "INFO:pykeen.utilities.train_utils:Epoch 1847 / 2000 (2.1s):  0.012 ---- 0.016 ---- 0.29 ---- 718\n",
      "INFO:pykeen.utilities.train_utils:Epoch 1848 / 2000 (2.0s):  0.012 ---- 0.018 ---- 0.29 ---- 719\n",
      "INFO:pykeen.utilities.train_utils:Epoch 1849 / 2000 (2.1s):  0.013 ---- 0.016 ---- 0.29 ---- 720\n"
     ]
    },
    {
     "data": {
      "application/vnd.jupyter.widget-view+json": {
       "model_id": "7bd49dd0aa6249389b5a94711b48398f",
       "version_major": 2,
       "version_minor": 0
      },
      "text/plain": [
       "HBox(children=(IntProgress(value=0, max=200), HTML(value='')))"
      ]
     },
     "metadata": {},
     "output_type": "display_data"
    },
    {
     "name": "stderr",
     "output_type": "stream",
     "text": [
      "DEBUG:pykeen.utilities.evaluation_utils.metrics_computations:Evaluation took 3.90s seconds\n",
      "DEBUG:pykeen.utilities.train_utils:\n",
      "current metric: 0.29211712453352234  ---- rank/hits@10: (0.21742071190113202, 0.445)\n",
      "INFO:pykeen.utilities.train_utils:Epoch 1850 / 2000 (2.1s):  0.013 ---- 0.017 ---- 0.29 ---- 721\n",
      "INFO:pykeen.utilities.train_utils:Epoch 1851 / 2000 (2.1s):  0.013 ---- 0.017 ---- 0.29 ---- 722\n",
      "INFO:pykeen.utilities.train_utils:Epoch 1852 / 2000 (2.1s):  0.013 ---- 0.016 ---- 0.29 ---- 723\n",
      "INFO:pykeen.utilities.train_utils:Epoch 1853 / 2000 (2.1s):  0.013 ---- 0.017 ---- 0.29 ---- 724\n",
      "INFO:pykeen.utilities.train_utils:Epoch 1854 / 2000 (2.0s):  0.012 ---- 0.017 ---- 0.29 ---- 725\n"
     ]
    },
    {
     "data": {
      "application/vnd.jupyter.widget-view+json": {
       "model_id": "89f5b5b43ffb4bbba55a8c46d14cef82",
       "version_major": 2,
       "version_minor": 0
      },
      "text/plain": [
       "HBox(children=(IntProgress(value=0, max=200), HTML(value='')))"
      ]
     },
     "metadata": {},
     "output_type": "display_data"
    },
    {
     "name": "stderr",
     "output_type": "stream",
     "text": [
      "DEBUG:pykeen.utilities.evaluation_utils.metrics_computations:Evaluation took 3.88s seconds\n",
      "DEBUG:pykeen.utilities.train_utils:\n",
      "current metric: 0.2958341051088316  ---- rank/hits@10: (0.22034568390020556, 0.45)\n",
      "INFO:pykeen.utilities.train_utils:Epoch 1855 / 2000 (2.1s):  0.013 ---- 0.016 ---- 0.30 ---- 726\n",
      "INFO:pykeen.utilities.train_utils:Epoch 1856 / 2000 (2.1s):  0.013 ---- 0.016 ---- 0.30 ---- 727\n",
      "INFO:pykeen.utilities.train_utils:Epoch 1857 / 2000 (2.1s):  0.013 ---- 0.016 ---- 0.30 ---- 728\n",
      "INFO:pykeen.utilities.train_utils:Epoch 1858 / 2000 (2.0s):  0.012 ---- 0.016 ---- 0.30 ---- 729\n",
      "INFO:pykeen.utilities.train_utils:Epoch 1859 / 2000 (2.1s):  0.013 ---- 0.017 ---- 0.30 ---- 730\n"
     ]
    },
    {
     "data": {
      "application/vnd.jupyter.widget-view+json": {
       "model_id": "b6309731b33e4419b97f4106d92a04c5",
       "version_major": 2,
       "version_minor": 0
      },
      "text/plain": [
       "HBox(children=(IntProgress(value=0, max=200), HTML(value='')))"
      ]
     },
     "metadata": {},
     "output_type": "display_data"
    },
    {
     "name": "stdout",
     "output_type": "stream",
     "text": [
      "\n",
      "\n"
     ]
    },
    {
     "name": "stderr",
     "output_type": "stream",
     "text": [
      "DEBUG:pykeen.utilities.evaluation_utils.metrics_computations:Evaluation took 3.88s seconds\n",
      "DEBUG:pykeen.utilities.train_utils:\n",
      "current metric: 0.2943633494224252  ---- rank/hits@10: (0.2199187883518579, 0.445)\n",
      "INFO:pykeen.utilities.train_utils:Epoch 1860 / 2000 (2.1s):  0.013 ---- 0.016 ---- 0.29 ---- 731\n",
      "INFO:pykeen.utilities.train_utils:Epoch 1861 / 2000 (2.1s):  0.013 ---- 0.016 ---- 0.29 ---- 732\n",
      "INFO:pykeen.utilities.train_utils:Epoch 1862 / 2000 (2.1s):  0.013 ---- 0.017 ---- 0.29 ---- 733\n",
      "INFO:pykeen.utilities.train_utils:Epoch 1863 / 2000 (2.1s):  0.013 ---- 0.018 ---- 0.29 ---- 734\n",
      "INFO:pykeen.utilities.train_utils:Epoch 1864 / 2000 (2.0s):  0.012 ---- 0.017 ---- 0.29 ---- 735\n"
     ]
    },
    {
     "data": {
      "application/vnd.jupyter.widget-view+json": {
       "model_id": "9500d955762642a49f8aa37e7cf3ab8d",
       "version_major": 2,
       "version_minor": 0
      },
      "text/plain": [
       "HBox(children=(IntProgress(value=0, max=200), HTML(value='')))"
      ]
     },
     "metadata": {},
     "output_type": "display_data"
    },
    {
     "name": "stderr",
     "output_type": "stream",
     "text": [
      "DEBUG:pykeen.utilities.evaluation_utils.metrics_computations:Evaluation took 3.87s seconds\n",
      "DEBUG:pykeen.utilities.train_utils:\n",
      "current metric: 0.2925853671422514  ---- rank/hits@10: (0.21915960948450938, 0.44)\n",
      "INFO:pykeen.utilities.train_utils:Epoch 1865 / 2000 (2.1s):  0.012 ---- 0.016 ---- 0.29 ---- 736\n",
      "INFO:pykeen.utilities.train_utils:Epoch 1866 / 2000 (2.1s):  0.013 ---- 0.017 ---- 0.29 ---- 737\n",
      "INFO:pykeen.utilities.train_utils:Epoch 1867 / 2000 (2.1s):  0.013 ---- 0.017 ---- 0.29 ---- 738\n",
      "INFO:pykeen.utilities.train_utils:Epoch 1868 / 2000 (2.1s):  0.013 ---- 0.016 ---- 0.29 ---- 739\n",
      "INFO:pykeen.utilities.train_utils:Epoch 1869 / 2000 (2.1s):  0.013 ---- 0.016 ---- 0.29 ---- 740\n"
     ]
    },
    {
     "data": {
      "application/vnd.jupyter.widget-view+json": {
       "model_id": "59e5c9b7f64d402684488cb00cf07c53",
       "version_major": 2,
       "version_minor": 0
      },
      "text/plain": [
       "HBox(children=(IntProgress(value=0, max=200), HTML(value='')))"
      ]
     },
     "metadata": {},
     "output_type": "display_data"
    },
    {
     "name": "stderr",
     "output_type": "stream",
     "text": [
      "DEBUG:pykeen.utilities.evaluation_utils.metrics_computations:Evaluation took 3.86s seconds\n",
      "DEBUG:pykeen.utilities.train_utils:\n",
      "current metric: 0.29378936598814653  ---- rank/hits@10: (0.2217910719818731, 0.435)\n",
      "INFO:pykeen.utilities.train_utils:Epoch 1870 / 2000 (2.0s):  0.013 ---- 0.017 ---- 0.29 ---- 741\n",
      "INFO:pykeen.utilities.train_utils:Epoch 1871 / 2000 (2.1s):  0.013 ---- 0.017 ---- 0.29 ---- 742\n",
      "INFO:pykeen.utilities.train_utils:Epoch 1872 / 2000 (2.1s):  0.013 ---- 0.018 ---- 0.29 ---- 743\n",
      "INFO:pykeen.utilities.train_utils:Epoch 1873 / 2000 (2.1s):  0.013 ---- 0.016 ---- 0.29 ---- 744\n",
      "INFO:pykeen.utilities.train_utils:Epoch 1874 / 2000 (2.0s):  0.013 ---- 0.017 ---- 0.29 ---- 745\n"
     ]
    },
    {
     "name": "stdout",
     "output_type": "stream",
     "text": [
      "\n",
      "\n"
     ]
    },
    {
     "data": {
      "application/vnd.jupyter.widget-view+json": {
       "model_id": "d9a5d5841172402a9caaf0f0ff767851",
       "version_major": 2,
       "version_minor": 0
      },
      "text/plain": [
       "HBox(children=(IntProgress(value=0, max=200), HTML(value='')))"
      ]
     },
     "metadata": {},
     "output_type": "display_data"
    },
    {
     "name": "stderr",
     "output_type": "stream",
     "text": [
      "DEBUG:pykeen.utilities.evaluation_utils.metrics_computations:Evaluation took 3.86s seconds\n",
      "DEBUG:pykeen.utilities.train_utils:\n",
      "current metric: 0.28883590601926445  ---- rank/hits@10: (0.21438709527121333, 0.4425)\n",
      "INFO:pykeen.utilities.train_utils:Epoch 1875 / 2000 (2.1s):  0.013 ---- 0.016 ---- 0.29 ---- 746\n",
      "INFO:pykeen.utilities.train_utils:Epoch 1876 / 2000 (2.1s):  0.013 ---- 0.016 ---- 0.29 ---- 747\n",
      "INFO:pykeen.utilities.train_utils:Epoch 1877 / 2000 (2.1s):  0.013 ---- 0.017 ---- 0.29 ---- 748\n",
      "INFO:pykeen.utilities.train_utils:Epoch 1878 / 2000 (2.1s):  0.013 ---- 0.016 ---- 0.29 ---- 749\n",
      "INFO:pykeen.utilities.train_utils:Epoch 1879 / 2000 (2.1s):  0.013 ---- 0.016 ---- 0.29 ---- 750\n"
     ]
    },
    {
     "data": {
      "application/vnd.jupyter.widget-view+json": {
       "model_id": "b38a1651acab42cebc55ea3de8efe6a2",
       "version_major": 2,
       "version_minor": 0
      },
      "text/plain": [
       "HBox(children=(IntProgress(value=0, max=200), HTML(value='')))"
      ]
     },
     "metadata": {},
     "output_type": "display_data"
    },
    {
     "name": "stderr",
     "output_type": "stream",
     "text": [
      "DEBUG:pykeen.utilities.evaluation_utils.metrics_computations:Evaluation took 3.89s seconds\n",
      "DEBUG:pykeen.utilities.train_utils:\n",
      "current metric: 0.29248582947235013  ---- rank/hits@10: (0.2166511163817654, 0.45)\n",
      "INFO:pykeen.utilities.train_utils:Epoch 1880 / 2000 (2.0s):  0.013 ---- 0.016 ---- 0.29 ---- 751\n",
      "INFO:pykeen.utilities.train_utils:Epoch 1881 / 2000 (2.1s):  0.013 ---- 0.017 ---- 0.29 ---- 752\n",
      "INFO:pykeen.utilities.train_utils:Epoch 1882 / 2000 (2.1s):  0.013 ---- 0.016 ---- 0.29 ---- 753\n",
      "INFO:pykeen.utilities.train_utils:Epoch 1883 / 2000 (2.1s):  0.013 ---- 0.016 ---- 0.29 ---- 754\n",
      "INFO:pykeen.utilities.train_utils:Epoch 1884 / 2000 (2.1s):  0.013 ---- 0.017 ---- 0.29 ---- 755\n"
     ]
    },
    {
     "data": {
      "application/vnd.jupyter.widget-view+json": {
       "model_id": "a7f27f7f0e684b289bbefc94ad70bdc6",
       "version_major": 2,
       "version_minor": 0
      },
      "text/plain": [
       "HBox(children=(IntProgress(value=0, max=200), HTML(value='')))"
      ]
     },
     "metadata": {},
     "output_type": "display_data"
    },
    {
     "name": "stderr",
     "output_type": "stream",
     "text": [
      "DEBUG:pykeen.utilities.evaluation_utils.metrics_computations:Evaluation took 3.86s seconds\n",
      "DEBUG:pykeen.utilities.train_utils:\n",
      "current metric: 0.2904000454305567  ---- rank/hits@10: (0.21671646851254195, 0.44)\n",
      "INFO:pykeen.utilities.train_utils:Epoch 1885 / 2000 (2.1s):  0.013 ---- 0.018 ---- 0.29 ---- 756\n",
      "INFO:pykeen.utilities.train_utils:Epoch 1886 / 2000 (2.1s):  0.012 ---- 0.017 ---- 0.29 ---- 757\n",
      "INFO:pykeen.utilities.train_utils:Epoch 1887 / 2000 (2.1s):  0.013 ---- 0.016 ---- 0.29 ---- 758\n",
      "INFO:pykeen.utilities.train_utils:Epoch 1888 / 2000 (2.1s):  0.013 ---- 0.017 ---- 0.29 ---- 759\n",
      "INFO:pykeen.utilities.train_utils:Epoch 1889 / 2000 (2.1s):  0.013 ---- 0.017 ---- 0.29 ---- 760\n"
     ]
    },
    {
     "name": "stdout",
     "output_type": "stream",
     "text": [
      "\n",
      "\n"
     ]
    },
    {
     "data": {
      "application/vnd.jupyter.widget-view+json": {
       "model_id": "85fdbee243324b23aaaaec82c05fea8d",
       "version_major": 2,
       "version_minor": 0
      },
      "text/plain": [
       "HBox(children=(IntProgress(value=0, max=200), HTML(value='')))"
      ]
     },
     "metadata": {},
     "output_type": "display_data"
    },
    {
     "name": "stderr",
     "output_type": "stream",
     "text": [
      "DEBUG:pykeen.utilities.evaluation_utils.metrics_computations:Evaluation took 3.90s seconds\n",
      "DEBUG:pykeen.utilities.train_utils:\n",
      "current metric: 0.29151237729259805  ---- rank/hits@10: (0.217349481297558, 0.4425)\n",
      "INFO:pykeen.utilities.train_utils:Epoch 1890 / 2000 (2.0s):  0.013 ---- 0.016 ---- 0.29 ---- 761\n",
      "INFO:pykeen.utilities.train_utils:Epoch 1891 / 2000 (2.1s):  0.013 ---- 0.016 ---- 0.29 ---- 762\n",
      "INFO:pykeen.utilities.train_utils:Epoch 1892 / 2000 (2.1s):  0.013 ---- 0.016 ---- 0.29 ---- 763\n",
      "INFO:pykeen.utilities.train_utils:Epoch 1893 / 2000 (2.1s):  0.012 ---- 0.017 ---- 0.29 ---- 764\n",
      "INFO:pykeen.utilities.train_utils:Epoch 1894 / 2000 (2.1s):  0.013 ---- 0.016 ---- 0.29 ---- 765\n"
     ]
    },
    {
     "data": {
      "application/vnd.jupyter.widget-view+json": {
       "model_id": "3e3da1a4b9834b1b97eb6c593ef1bd3f",
       "version_major": 2,
       "version_minor": 0
      },
      "text/plain": [
       "HBox(children=(IntProgress(value=0, max=200), HTML(value='')))"
      ]
     },
     "metadata": {},
     "output_type": "display_data"
    },
    {
     "name": "stderr",
     "output_type": "stream",
     "text": [
      "DEBUG:pykeen.utilities.evaluation_utils.metrics_computations:Evaluation took 3.90s seconds\n",
      "DEBUG:pykeen.utilities.train_utils:\n",
      "current metric: 0.29647741260846244  ---- rank/hits@10: (0.2222871570744991, 0.445)\n",
      "INFO:pykeen.utilities.train_utils:Epoch 1895 / 2000 (2.1s):  0.013 ---- 0.018 ---- 0.30 ---- 766\n",
      "INFO:pykeen.utilities.train_utils:Epoch 1896 / 2000 (2.1s):  0.013 ---- 0.016 ---- 0.30 ---- 767\n",
      "INFO:pykeen.utilities.train_utils:Epoch 1897 / 2000 (2.1s):  0.012 ---- 0.016 ---- 0.30 ---- 768\n",
      "INFO:pykeen.utilities.train_utils:Epoch 1898 / 2000 (2.1s):  0.012 ---- 0.017 ---- 0.30 ---- 769\n",
      "INFO:pykeen.utilities.train_utils:Epoch 1899 / 2000 (2.1s):  0.013 ---- 0.016 ---- 0.30 ---- 770\n"
     ]
    },
    {
     "data": {
      "application/vnd.jupyter.widget-view+json": {
       "model_id": "14fa3da3c4bd4e9aaa830ca8dbb777cf",
       "version_major": 2,
       "version_minor": 0
      },
      "text/plain": [
       "HBox(children=(IntProgress(value=0, max=200), HTML(value='')))"
      ]
     },
     "metadata": {},
     "output_type": "display_data"
    },
    {
     "name": "stderr",
     "output_type": "stream",
     "text": [
      "DEBUG:pykeen.utilities.evaluation_utils.metrics_computations:Evaluation took 3.87s seconds\n",
      "DEBUG:pykeen.utilities.train_utils:\n",
      "current metric: 0.29167618802921863  ---- rank/hits@10: (0.2175316591023406, 0.4425)\n",
      "INFO:pykeen.utilities.train_utils:Epoch 1900 / 2000 (2.1s):  0.013 ---- 0.017 ---- 0.29 ---- 771\n",
      "INFO:pykeen.utilities.train_utils:Epoch 1901 / 2000 (2.1s):  0.012 ---- 0.017 ---- 0.29 ---- 772\n",
      "INFO:pykeen.utilities.train_utils:Epoch 1902 / 2000 (2.1s):  0.013 ---- 0.017 ---- 0.29 ---- 773\n",
      "INFO:pykeen.utilities.train_utils:Epoch 1903 / 2000 (2.1s):  0.012 ---- 0.016 ---- 0.29 ---- 774\n",
      "INFO:pykeen.utilities.train_utils:Epoch 1904 / 2000 (2.1s):  0.013 ---- 0.017 ---- 0.29 ---- 775\n"
     ]
    },
    {
     "name": "stdout",
     "output_type": "stream",
     "text": [
      "\n",
      "\n"
     ]
    },
    {
     "data": {
      "application/vnd.jupyter.widget-view+json": {
       "model_id": "c354ed6ca20a4a68ab38840a83606c93",
       "version_major": 2,
       "version_minor": 0
      },
      "text/plain": [
       "HBox(children=(IntProgress(value=0, max=200), HTML(value='')))"
      ]
     },
     "metadata": {},
     "output_type": "display_data"
    },
    {
     "name": "stderr",
     "output_type": "stream",
     "text": [
      "DEBUG:pykeen.utilities.evaluation_utils.metrics_computations:Evaluation took 3.89s seconds\n",
      "DEBUG:pykeen.utilities.train_utils:\n",
      "current metric: 0.2919279244371728  ---- rank/hits@10: (0.21781181729195154, 0.4425)\n",
      "INFO:pykeen.utilities.train_utils:Epoch 1905 / 2000 (2.1s):  0.013 ---- 0.016 ---- 0.29 ---- 776\n",
      "INFO:pykeen.utilities.train_utils:Epoch 1906 / 2000 (2.0s):  0.013 ---- 0.017 ---- 0.29 ---- 777\n",
      "INFO:pykeen.utilities.train_utils:Epoch 1907 / 2000 (2.1s):  0.012 ---- 0.017 ---- 0.29 ---- 778\n",
      "INFO:pykeen.utilities.train_utils:Epoch 1908 / 2000 (2.1s):  0.013 ---- 0.016 ---- 0.29 ---- 779\n",
      "INFO:pykeen.utilities.train_utils:Epoch 1909 / 2000 (2.1s):  0.013 ---- 0.017 ---- 0.29 ---- 780\n"
     ]
    },
    {
     "data": {
      "application/vnd.jupyter.widget-view+json": {
       "model_id": "cc9f484bd9b04e43817a80d707cc274a",
       "version_major": 2,
       "version_minor": 0
      },
      "text/plain": [
       "HBox(children=(IntProgress(value=0, max=200), HTML(value='')))"
      ]
     },
     "metadata": {},
     "output_type": "display_data"
    },
    {
     "name": "stderr",
     "output_type": "stream",
     "text": [
      "DEBUG:pykeen.utilities.evaluation_utils.metrics_computations:Evaluation took 3.85s seconds\n",
      "DEBUG:pykeen.utilities.train_utils:\n",
      "current metric: 0.29407985968950323  ---- rank/hits@10: (0.2214761198422042, 0.4375)\n",
      "INFO:pykeen.utilities.train_utils:Epoch 1910 / 2000 (2.1s):  0.013 ---- 0.017 ---- 0.29 ---- 781\n",
      "INFO:pykeen.utilities.train_utils:Epoch 1911 / 2000 (2.1s):  0.012 ---- 0.016 ---- 0.29 ---- 782\n",
      "INFO:pykeen.utilities.train_utils:Epoch 1912 / 2000 (2.0s):  0.013 ---- 0.017 ---- 0.29 ---- 783\n",
      "INFO:pykeen.utilities.train_utils:Epoch 1913 / 2000 (2.1s):  0.013 ---- 0.016 ---- 0.29 ---- 784\n",
      "INFO:pykeen.utilities.train_utils:Epoch 1914 / 2000 (2.1s):  0.013 ---- 0.017 ---- 0.29 ---- 785\n"
     ]
    },
    {
     "data": {
      "application/vnd.jupyter.widget-view+json": {
       "model_id": "ee766e2929b8426ab19b767942c8e42a",
       "version_major": 2,
       "version_minor": 0
      },
      "text/plain": [
       "HBox(children=(IntProgress(value=0, max=200), HTML(value='')))"
      ]
     },
     "metadata": {},
     "output_type": "display_data"
    },
    {
     "name": "stderr",
     "output_type": "stream",
     "text": [
      "DEBUG:pykeen.utilities.evaluation_utils.metrics_computations:Evaluation took 3.89s seconds\n",
      "DEBUG:pykeen.utilities.train_utils:\n",
      "current metric: 0.2895782755684034  ---- rank/hits@10: (0.21580242727816346, 0.44)\n",
      "INFO:pykeen.utilities.train_utils:Epoch 1915 / 2000 (2.1s):  0.012 ---- 0.016 ---- 0.29 ---- 786\n",
      "INFO:pykeen.utilities.train_utils:Epoch 1916 / 2000 (2.1s):  0.012 ---- 0.016 ---- 0.29 ---- 787\n",
      "INFO:pykeen.utilities.train_utils:Epoch 1917 / 2000 (2.1s):  0.013 ---- 0.017 ---- 0.29 ---- 788\n",
      "INFO:pykeen.utilities.train_utils:Epoch 1918 / 2000 (2.0s):  0.012 ---- 0.016 ---- 0.29 ---- 789\n",
      "INFO:pykeen.utilities.train_utils:Epoch 1919 / 2000 (2.1s):  0.012 ---- 0.017 ---- 0.29 ---- 790\n"
     ]
    },
    {
     "name": "stdout",
     "output_type": "stream",
     "text": [
      "\n",
      "\n"
     ]
    },
    {
     "data": {
      "application/vnd.jupyter.widget-view+json": {
       "model_id": "e900280b08764a16a770ec424aeed5ee",
       "version_major": 2,
       "version_minor": 0
      },
      "text/plain": [
       "HBox(children=(IntProgress(value=0, max=200), HTML(value='')))"
      ]
     },
     "metadata": {},
     "output_type": "display_data"
    },
    {
     "name": "stderr",
     "output_type": "stream",
     "text": [
      "DEBUG:pykeen.utilities.evaluation_utils.metrics_computations:Evaluation took 3.88s seconds\n",
      "DEBUG:pykeen.utilities.train_utils:\n",
      "current metric: 0.2918448179473324  ---- rank/hits@10: (0.21895048141821424, 0.4375)\n",
      "INFO:pykeen.utilities.train_utils:Epoch 1920 / 2000 (2.1s):  0.013 ---- 0.016 ---- 0.29 ---- 791\n",
      "INFO:pykeen.utilities.train_utils:Epoch 1921 / 2000 (2.1s):  0.013 ---- 0.016 ---- 0.29 ---- 792\n",
      "INFO:pykeen.utilities.train_utils:Epoch 1922 / 2000 (2.1s):  0.013 ---- 0.017 ---- 0.29 ---- 793\n",
      "INFO:pykeen.utilities.train_utils:Epoch 1923 / 2000 (2.1s):  0.012 ---- 0.017 ---- 0.29 ---- 794\n",
      "INFO:pykeen.utilities.train_utils:Epoch 1924 / 2000 (2.1s):  0.013 ---- 0.017 ---- 0.29 ---- 795\n"
     ]
    },
    {
     "data": {
      "application/vnd.jupyter.widget-view+json": {
       "model_id": "bb4b6c4a21e643fbac835499fe678a3f",
       "version_major": 2,
       "version_minor": 0
      },
      "text/plain": [
       "HBox(children=(IntProgress(value=0, max=200), HTML(value='')))"
      ]
     },
     "metadata": {},
     "output_type": "display_data"
    },
    {
     "name": "stderr",
     "output_type": "stream",
     "text": [
      "DEBUG:pykeen.utilities.evaluation_utils.metrics_computations:Evaluation took 3.88s seconds\n",
      "DEBUG:pykeen.utilities.train_utils:\n",
      "current metric: 0.29297433394209976  ---- rank/hits@10: (0.22022443093930089, 0.4375)\n",
      "INFO:pykeen.utilities.train_utils:Epoch 1925 / 2000 (2.1s):  0.012 ---- 0.017 ---- 0.29 ---- 796\n",
      "INFO:pykeen.utilities.train_utils:Epoch 1926 / 2000 (2.1s):  0.013 ---- 0.017 ---- 0.29 ---- 797\n",
      "INFO:pykeen.utilities.train_utils:Epoch 1927 / 2000 (2.1s):  0.013 ---- 0.017 ---- 0.29 ---- 798\n",
      "INFO:pykeen.utilities.train_utils:Epoch 1928 / 2000 (2.0s):  0.013 ---- 0.017 ---- 0.29 ---- 799\n",
      "INFO:pykeen.utilities.train_utils:Epoch 1929 / 2000 (2.1s):  0.013 ---- 0.017 ---- 0.29 ---- 800\n"
     ]
    },
    {
     "data": {
      "application/vnd.jupyter.widget-view+json": {
       "model_id": "9bca3539696243b8a6ca831bb50958ab",
       "version_major": 2,
       "version_minor": 0
      },
      "text/plain": [
       "HBox(children=(IntProgress(value=0, max=200), HTML(value='')))"
      ]
     },
     "metadata": {},
     "output_type": "display_data"
    },
    {
     "name": "stderr",
     "output_type": "stream",
     "text": [
      "DEBUG:pykeen.utilities.evaluation_utils.metrics_computations:Evaluation took 3.88s seconds\n",
      "DEBUG:pykeen.utilities.train_utils:\n",
      "current metric: 0.28731146836407756  ---- rank/hits@10: (0.21448935744021902, 0.435)\n",
      "INFO:pykeen.utilities.train_utils:Epoch 1930 / 2000 (2.1s):  0.013 ---- 0.017 ---- 0.29 ---- 801\n",
      "INFO:pykeen.utilities.train_utils:Epoch 1931 / 2000 (2.0s):  0.012 ---- 0.017 ---- 0.29 ---- 802\n",
      "INFO:pykeen.utilities.train_utils:Epoch 1932 / 2000 (2.0s):  0.012 ---- 0.017 ---- 0.29 ---- 803\n",
      "INFO:pykeen.utilities.train_utils:Epoch 1933 / 2000 (2.1s):  0.012 ---- 0.016 ---- 0.29 ---- 804\n",
      "INFO:pykeen.utilities.train_utils:Epoch 1934 / 2000 (2.0s):  0.013 ---- 0.017 ---- 0.29 ---- 805\n"
     ]
    },
    {
     "name": "stdout",
     "output_type": "stream",
     "text": [
      "\n",
      "\n",
      "\n",
      "\n",
      "\n",
      "\n",
      "\n",
      "\n",
      "\n",
      "\n",
      "\n",
      "\n",
      "\n"
     ]
    },
    {
     "data": {
      "application/vnd.jupyter.widget-view+json": {
       "model_id": "e70050a4b3464095a2143c215c055b8d",
       "version_major": 2,
       "version_minor": 0
      },
      "text/plain": [
       "HBox(children=(IntProgress(value=0, max=200), HTML(value='')))"
      ]
     },
     "metadata": {},
     "output_type": "display_data"
    },
    {
     "name": "stderr",
     "output_type": "stream",
     "text": [
      "DEBUG:pykeen.utilities.evaluation_utils.metrics_computations:Evaluation took 3.92s seconds\n",
      "DEBUG:pykeen.utilities.train_utils:\n",
      "current metric: 0.2975548966319453  ---- rank/hits@10: (0.22350075686076715, 0.445)\n",
      "INFO:pykeen.utilities.train_utils:Epoch 1935 / 2000 (2.0s):  0.012 ---- 0.018 ---- 0.30 ---- 806\n",
      "INFO:pykeen.utilities.train_utils:Epoch 1936 / 2000 (2.0s):  0.012 ---- 0.018 ---- 0.30 ---- 807\n",
      "INFO:pykeen.utilities.train_utils:Epoch 1937 / 2000 (2.1s):  0.013 ---- 0.016 ---- 0.30 ---- 808\n",
      "INFO:pykeen.utilities.train_utils:Epoch 1938 / 2000 (2.1s):  0.013 ---- 0.017 ---- 0.30 ---- 809\n",
      "INFO:pykeen.utilities.train_utils:Epoch 1939 / 2000 (2.1s):  0.013 ---- 0.016 ---- 0.30 ---- 810\n"
     ]
    },
    {
     "data": {
      "application/vnd.jupyter.widget-view+json": {
       "model_id": "b232542691f0496192cb477289b6417b",
       "version_major": 2,
       "version_minor": 0
      },
      "text/plain": [
       "HBox(children=(IntProgress(value=0, max=200), HTML(value='')))"
      ]
     },
     "metadata": {},
     "output_type": "display_data"
    },
    {
     "name": "stderr",
     "output_type": "stream",
     "text": [
      "DEBUG:pykeen.utilities.evaluation_utils.metrics_computations:Evaluation took 3.88s seconds\n",
      "DEBUG:pykeen.utilities.train_utils:\n",
      "current metric: 0.29381924440468754  ---- rank/hits@10: (0.2199243030469599, 0.4425)\n",
      "INFO:pykeen.utilities.train_utils:Epoch 1940 / 2000 (2.0s):  0.012 ---- 0.016 ---- 0.29 ---- 811\n",
      "INFO:pykeen.utilities.train_utils:Epoch 1941 / 2000 (2.1s):  0.013 ---- 0.017 ---- 0.29 ---- 812\n",
      "INFO:pykeen.utilities.train_utils:Epoch 1942 / 2000 (2.1s):  0.013 ---- 0.017 ---- 0.29 ---- 813\n",
      "INFO:pykeen.utilities.train_utils:Epoch 1943 / 2000 (2.1s):  0.012 ---- 0.017 ---- 0.29 ---- 814\n",
      "INFO:pykeen.utilities.train_utils:Epoch 1944 / 2000 (2.0s):  0.013 ---- 0.017 ---- 0.29 ---- 815\n"
     ]
    },
    {
     "data": {
      "application/vnd.jupyter.widget-view+json": {
       "model_id": "553ab7c047324231b338461d8c513170",
       "version_major": 2,
       "version_minor": 0
      },
      "text/plain": [
       "HBox(children=(IntProgress(value=0, max=200), HTML(value='')))"
      ]
     },
     "metadata": {},
     "output_type": "display_data"
    },
    {
     "name": "stderr",
     "output_type": "stream",
     "text": [
      "DEBUG:pykeen.utilities.evaluation_utils.metrics_computations:Evaluation took 3.85s seconds\n",
      "DEBUG:pykeen.utilities.train_utils:\n",
      "current metric: 0.2958607223763365  ---- rank/hits@10: (0.22221972736158035, 0.4425)\n",
      "INFO:pykeen.utilities.train_utils:Epoch 1945 / 2000 (2.1s):  0.013 ---- 0.017 ---- 0.30 ---- 816\n",
      "INFO:pykeen.utilities.train_utils:Epoch 1946 / 2000 (2.1s):  0.013 ---- 0.016 ---- 0.30 ---- 817\n",
      "INFO:pykeen.utilities.train_utils:Epoch 1947 / 2000 (2.1s):  0.013 ---- 0.016 ---- 0.30 ---- 818\n",
      "INFO:pykeen.utilities.train_utils:Epoch 1948 / 2000 (2.0s):  0.013 ---- 0.017 ---- 0.30 ---- 819\n",
      "INFO:pykeen.utilities.train_utils:Epoch 1949 / 2000 (2.1s):  0.013 ---- 0.016 ---- 0.30 ---- 820\n"
     ]
    },
    {
     "data": {
      "application/vnd.jupyter.widget-view+json": {
       "model_id": "674669852669460085ceac0db9996475",
       "version_major": 2,
       "version_minor": 0
      },
      "text/plain": [
       "HBox(children=(IntProgress(value=0, max=200), HTML(value='')))"
      ]
     },
     "metadata": {},
     "output_type": "display_data"
    },
    {
     "name": "stdout",
     "output_type": "stream",
     "text": [
      "\n",
      "\n",
      "\n",
      "\n",
      "\n",
      "\n",
      "\n",
      "\n",
      "\n",
      "\n",
      "\n",
      "\n",
      "\n",
      "\n",
      "\n",
      "\n",
      "\n",
      "\n",
      "\n",
      "\n",
      "\n",
      "\n",
      "\n",
      "\n",
      "\n",
      "\n",
      "\n",
      "\n",
      "\n",
      "\n",
      "\n",
      "\n",
      "\n",
      "\n",
      "\n",
      "\n",
      "\n",
      "\n",
      "\n",
      "\n",
      "\n",
      "\n",
      "\n",
      "\n",
      "\n"
     ]
    },
    {
     "name": "stderr",
     "output_type": "stream",
     "text": [
      "DEBUG:pykeen.utilities.evaluation_utils.metrics_computations:Evaluation took 3.97s seconds\n",
      "DEBUG:pykeen.utilities.train_utils:\n",
      "current metric: 0.29177607283487184  ---- rank/hits@10: (0.2170430611607383, 0.445)\n",
      "INFO:pykeen.utilities.train_utils:Epoch 1950 / 2000 (2.1s):  0.012 ---- 0.016 ---- 0.29 ---- 821\n",
      "INFO:pykeen.utilities.train_utils:Epoch 1951 / 2000 (2.1s):  0.012 ---- 0.017 ---- 0.29 ---- 822\n",
      "INFO:pykeen.utilities.train_utils:Epoch 1952 / 2000 (2.1s):  0.013 ---- 0.016 ---- 0.29 ---- 823\n",
      "INFO:pykeen.utilities.train_utils:Epoch 1953 / 2000 (2.1s):  0.013 ---- 0.017 ---- 0.29 ---- 824\n",
      "INFO:pykeen.utilities.train_utils:Epoch 1954 / 2000 (2.0s):  0.012 ---- 0.017 ---- 0.29 ---- 825\n"
     ]
    },
    {
     "data": {
      "application/vnd.jupyter.widget-view+json": {
       "model_id": "7aed58a156274245b0f52ddff4e3e8c2",
       "version_major": 2,
       "version_minor": 0
      },
      "text/plain": [
       "HBox(children=(IntProgress(value=0, max=200), HTML(value='')))"
      ]
     },
     "metadata": {},
     "output_type": "display_data"
    },
    {
     "name": "stderr",
     "output_type": "stream",
     "text": [
      "DEBUG:pykeen.utilities.evaluation_utils.metrics_computations:Evaluation took 3.86s seconds\n",
      "DEBUG:pykeen.utilities.train_utils:\n",
      "current metric: 0.29600069888122804  ---- rank/hits@10: (0.22113600550442847, 0.4475)\n",
      "INFO:pykeen.utilities.train_utils:Epoch 1955 / 2000 (2.1s):  0.012 ---- 0.016 ---- 0.30 ---- 826\n",
      "INFO:pykeen.utilities.train_utils:Epoch 1956 / 2000 (2.0s):  0.013 ---- 0.017 ---- 0.30 ---- 827\n",
      "INFO:pykeen.utilities.train_utils:Epoch 1957 / 2000 (2.1s):  0.013 ---- 0.017 ---- 0.30 ---- 828\n",
      "INFO:pykeen.utilities.train_utils:Epoch 1958 / 2000 (2.0s):  0.013 ---- 0.015 ---- 0.30 ---- 829\n",
      "INFO:pykeen.utilities.train_utils:Epoch 1959 / 2000 (2.1s):  0.013 ---- 0.016 ---- 0.30 ---- 830\n"
     ]
    },
    {
     "data": {
      "application/vnd.jupyter.widget-view+json": {
       "model_id": "8be2aef0dccd40f0af11a78933aa1076",
       "version_major": 2,
       "version_minor": 0
      },
      "text/plain": [
       "HBox(children=(IntProgress(value=0, max=200), HTML(value='')))"
      ]
     },
     "metadata": {},
     "output_type": "display_data"
    },
    {
     "name": "stderr",
     "output_type": "stream",
     "text": [
      "DEBUG:pykeen.utilities.evaluation_utils.metrics_computations:Evaluation took 3.91s seconds\n",
      "DEBUG:pykeen.utilities.train_utils:\n",
      "current metric: 0.2931373905845153  ---- rank/hits@10: (0.21855304177599083, 0.445)\n",
      "INFO:pykeen.utilities.train_utils:Epoch 1960 / 2000 (2.0s):  0.013 ---- 0.016 ---- 0.29 ---- 831\n",
      "INFO:pykeen.utilities.train_utils:Epoch 1961 / 2000 (2.1s):  0.013 ---- 0.018 ---- 0.29 ---- 832\n",
      "INFO:pykeen.utilities.train_utils:Epoch 1962 / 2000 (2.1s):  0.012 ---- 0.016 ---- 0.29 ---- 833\n",
      "INFO:pykeen.utilities.train_utils:Epoch 1963 / 2000 (2.1s):  0.012 ---- 0.018 ---- 0.29 ---- 834\n",
      "INFO:pykeen.utilities.train_utils:Epoch 1964 / 2000 (2.0s):  0.013 ---- 0.016 ---- 0.29 ---- 835\n"
     ]
    },
    {
     "name": "stdout",
     "output_type": "stream",
     "text": [
      "\n",
      "\n"
     ]
    },
    {
     "data": {
      "application/vnd.jupyter.widget-view+json": {
       "model_id": "6a88b4fb2302423eb578fb527c92d299",
       "version_major": 2,
       "version_minor": 0
      },
      "text/plain": [
       "HBox(children=(IntProgress(value=0, max=200), HTML(value='')))"
      ]
     },
     "metadata": {},
     "output_type": "display_data"
    },
    {
     "name": "stderr",
     "output_type": "stream",
     "text": [
      "DEBUG:pykeen.utilities.evaluation_utils.metrics_computations:Evaluation took 3.88s seconds\n",
      "DEBUG:pykeen.utilities.train_utils:\n",
      "current metric: 0.29026906371765326  ---- rank/hits@10: (0.21597003427795985, 0.4425)\n",
      "INFO:pykeen.utilities.train_utils:Epoch 1965 / 2000 (2.1s):  0.013 ---- 0.017 ---- 0.29 ---- 836\n",
      "INFO:pykeen.utilities.train_utils:Epoch 1966 / 2000 (2.1s):  0.013 ---- 0.016 ---- 0.29 ---- 837\n",
      "INFO:pykeen.utilities.train_utils:Epoch 1967 / 2000 (2.1s):  0.013 ---- 0.016 ---- 0.29 ---- 838\n",
      "INFO:pykeen.utilities.train_utils:Epoch 1968 / 2000 (2.1s):  0.013 ---- 0.017 ---- 0.29 ---- 839\n",
      "INFO:pykeen.utilities.train_utils:Epoch 1969 / 2000 (2.1s):  0.012 ---- 0.017 ---- 0.29 ---- 840\n"
     ]
    },
    {
     "data": {
      "application/vnd.jupyter.widget-view+json": {
       "model_id": "63e9b7229d3541388fa663c3d792734d",
       "version_major": 2,
       "version_minor": 0
      },
      "text/plain": [
       "HBox(children=(IntProgress(value=0, max=200), HTML(value='')))"
      ]
     },
     "metadata": {},
     "output_type": "display_data"
    },
    {
     "name": "stderr",
     "output_type": "stream",
     "text": [
      "DEBUG:pykeen.utilities.evaluation_utils.metrics_computations:Evaluation took 3.89s seconds\n",
      "DEBUG:pykeen.utilities.train_utils:\n",
      "current metric: 0.29197348624366487  ---- rank/hits@10: (0.21667063074913986, 0.4475)\n",
      "INFO:pykeen.utilities.train_utils:Epoch 1970 / 2000 (2.0s):  0.012 ---- 0.017 ---- 0.29 ---- 841\n",
      "INFO:pykeen.utilities.train_utils:Epoch 1971 / 2000 (2.1s):  0.012 ---- 0.017 ---- 0.29 ---- 842\n",
      "INFO:pykeen.utilities.train_utils:Epoch 1972 / 2000 (2.1s):  0.012 ---- 0.017 ---- 0.29 ---- 843\n",
      "INFO:pykeen.utilities.train_utils:Epoch 1973 / 2000 (2.1s):  0.013 ---- 0.016 ---- 0.29 ---- 844\n",
      "INFO:pykeen.utilities.train_utils:Epoch 1974 / 2000 (2.1s):  0.012 ---- 0.017 ---- 0.29 ---- 845\n"
     ]
    },
    {
     "data": {
      "application/vnd.jupyter.widget-view+json": {
       "model_id": "936affadfd3444ca8e9214c00437f7ad",
       "version_major": 2,
       "version_minor": 0
      },
      "text/plain": [
       "HBox(children=(IntProgress(value=0, max=200), HTML(value='')))"
      ]
     },
     "metadata": {},
     "output_type": "display_data"
    },
    {
     "name": "stderr",
     "output_type": "stream",
     "text": [
      "DEBUG:pykeen.utilities.evaluation_utils.metrics_computations:Evaluation took 3.91s seconds\n",
      "DEBUG:pykeen.utilities.train_utils:\n",
      "current metric: 0.29071964019225605  ---- rank/hits@10: (0.21831060097670651, 0.435)\n",
      "INFO:pykeen.utilities.train_utils:Epoch 1975 / 2000 (2.1s):  0.013 ---- 0.016 ---- 0.29 ---- 846\n",
      "INFO:pykeen.utilities.train_utils:Epoch 1976 / 2000 (2.1s):  0.012 ---- 0.016 ---- 0.29 ---- 847\n",
      "INFO:pykeen.utilities.train_utils:Epoch 1977 / 2000 (2.1s):  0.013 ---- 0.016 ---- 0.29 ---- 848\n",
      "INFO:pykeen.utilities.train_utils:Epoch 1978 / 2000 (2.1s):  0.012 ---- 0.018 ---- 0.29 ---- 849\n",
      "INFO:pykeen.utilities.train_utils:Epoch 1979 / 2000 (2.1s):  0.013 ---- 0.016 ---- 0.29 ---- 850\n"
     ]
    },
    {
     "data": {
      "application/vnd.jupyter.widget-view+json": {
       "model_id": "4d04ba1e003b4033b6bb959cd681eb16",
       "version_major": 2,
       "version_minor": 0
      },
      "text/plain": [
       "HBox(children=(IntProgress(value=0, max=200), HTML(value='')))"
      ]
     },
     "metadata": {},
     "output_type": "display_data"
    },
    {
     "name": "stdout",
     "output_type": "stream",
     "text": [
      "\n",
      "\n"
     ]
    },
    {
     "name": "stderr",
     "output_type": "stream",
     "text": [
      "DEBUG:pykeen.utilities.evaluation_utils.metrics_computations:Evaluation took 3.91s seconds\n",
      "DEBUG:pykeen.utilities.train_utils:\n",
      "current metric: 0.28974305779213055  ---- rank/hits@10: (0.21422309984417823, 0.4475)\n",
      "INFO:pykeen.utilities.train_utils:Epoch 1980 / 2000 (2.1s):  0.012 ---- 0.017 ---- 0.29 ---- 851\n",
      "INFO:pykeen.utilities.train_utils:Epoch 1981 / 2000 (2.1s):  0.013 ---- 0.016 ---- 0.29 ---- 852\n",
      "INFO:pykeen.utilities.train_utils:Epoch 1982 / 2000 (2.1s):  0.012 ---- 0.018 ---- 0.29 ---- 853\n",
      "INFO:pykeen.utilities.train_utils:Epoch 1983 / 2000 (2.1s):  0.013 ---- 0.017 ---- 0.29 ---- 854\n",
      "INFO:pykeen.utilities.train_utils:Epoch 1984 / 2000 (2.1s):  0.012 ---- 0.016 ---- 0.29 ---- 855\n"
     ]
    },
    {
     "data": {
      "application/vnd.jupyter.widget-view+json": {
       "model_id": "35415ebe89614295b4554c2f11187b94",
       "version_major": 2,
       "version_minor": 0
      },
      "text/plain": [
       "HBox(children=(IntProgress(value=0, max=200), HTML(value='')))"
      ]
     },
     "metadata": {},
     "output_type": "display_data"
    },
    {
     "name": "stderr",
     "output_type": "stream",
     "text": [
      "DEBUG:pykeen.utilities.evaluation_utils.metrics_computations:Evaluation took 3.89s seconds\n",
      "DEBUG:pykeen.utilities.train_utils:\n",
      "current metric: 0.2948196813582947  ---- rank/hits@10: (0.219820282855022, 0.4475)\n",
      "INFO:pykeen.utilities.train_utils:Epoch 1985 / 2000 (2.1s):  0.013 ---- 0.017 ---- 0.29 ---- 856\n",
      "INFO:pykeen.utilities.train_utils:Epoch 1986 / 2000 (2.1s):  0.013 ---- 0.016 ---- 0.29 ---- 857\n",
      "INFO:pykeen.utilities.train_utils:Epoch 1987 / 2000 (2.0s):  0.013 ---- 0.016 ---- 0.29 ---- 858\n",
      "INFO:pykeen.utilities.train_utils:Epoch 1988 / 2000 (2.1s):  0.012 ---- 0.016 ---- 0.29 ---- 859\n",
      "INFO:pykeen.utilities.train_utils:Epoch 1989 / 2000 (2.1s):  0.013 ---- 0.017 ---- 0.29 ---- 860\n"
     ]
    },
    {
     "data": {
      "application/vnd.jupyter.widget-view+json": {
       "model_id": "eaa1e0967d674b83b82799172bfc444f",
       "version_major": 2,
       "version_minor": 0
      },
      "text/plain": [
       "HBox(children=(IntProgress(value=0, max=200), HTML(value='')))"
      ]
     },
     "metadata": {},
     "output_type": "display_data"
    },
    {
     "name": "stderr",
     "output_type": "stream",
     "text": [
      "DEBUG:pykeen.utilities.evaluation_utils.metrics_computations:Evaluation took 3.85s seconds\n",
      "DEBUG:pykeen.utilities.train_utils:\n",
      "current metric: 0.29497753720192227  ---- rank/hits@10: (0.22122473031424367, 0.4425)\n",
      "INFO:pykeen.utilities.train_utils:Epoch 1990 / 2000 (2.1s):  0.013 ---- 0.017 ---- 0.29 ---- 861\n",
      "INFO:pykeen.utilities.train_utils:Epoch 1991 / 2000 (2.1s):  0.013 ---- 0.016 ---- 0.29 ---- 862\n",
      "INFO:pykeen.utilities.train_utils:Epoch 1992 / 2000 (2.0s):  0.013 ---- 0.017 ---- 0.29 ---- 863\n",
      "INFO:pykeen.utilities.train_utils:Epoch 1993 / 2000 (2.1s):  0.013 ---- 0.017 ---- 0.29 ---- 864\n",
      "INFO:pykeen.utilities.train_utils:Epoch 1994 / 2000 (2.1s):  0.012 ---- 0.016 ---- 0.29 ---- 865\n"
     ]
    },
    {
     "name": "stdout",
     "output_type": "stream",
     "text": [
      "\n",
      "\n"
     ]
    },
    {
     "data": {
      "application/vnd.jupyter.widget-view+json": {
       "model_id": "f971cbbc4dac49acbb74a512f24bdc5b",
       "version_major": 2,
       "version_minor": 0
      },
      "text/plain": [
       "HBox(children=(IntProgress(value=0, max=200), HTML(value='')))"
      ]
     },
     "metadata": {},
     "output_type": "display_data"
    },
    {
     "name": "stderr",
     "output_type": "stream",
     "text": [
      "DEBUG:pykeen.utilities.evaluation_utils.metrics_computations:Evaluation took 3.91s seconds\n",
      "DEBUG:pykeen.utilities.train_utils:\n",
      "current metric: 0.2943392261844338  ---- rank/hits@10: (0.22050746106813754, 0.4425)\n",
      "INFO:pykeen.utilities.train_utils:Epoch 1995 / 2000 (2.1s):  0.012 ---- 0.016 ---- 0.29 ---- 866\n",
      "INFO:pykeen.utilities.train_utils:Epoch 1996 / 2000 (2.0s):  0.013 ---- 0.018 ---- 0.29 ---- 867\n",
      "INFO:pykeen.utilities.train_utils:Epoch 1997 / 2000 (2.1s):  0.012 ---- 0.016 ---- 0.29 ---- 868\n",
      "INFO:pykeen.utilities.train_utils:Epoch 1998 / 2000 (2.0s):  0.012 ---- 0.016 ---- 0.29 ---- 869\n",
      "INFO:pykeen.utilities.train_utils:Epoch 1999 / 2000 (2.1s):  0.013 ---- 0.018 ---- 0.29 ---- 870\n",
      "DEBUG:pykeen.utilities.train_utils:training took 5918.92s seconds\n",
      "INFO:pykeen.utilities.pipeline:-------------Start Evaluation-------------\n",
      "DEBUG:pykeen.utilities.evaluation_utils.metrics_computations:Evaluation took 0.00s seconds\n"
     ]
    },
    {
     "name": "stdout",
     "output_type": "stream",
     "text": [
      "\n",
      "\n",
      "\n"
     ]
    }
   ],
   "source": [
    "# my\n",
    "results = pykeen.run(\n",
    "    config=config,\n",
    "    output_directory=output_directory,\n",
    ")"
   ]
  },
  {
   "cell_type": "markdown",
   "metadata": {},
   "source": [
    "Check result entries:"
   ]
  },
  {
   "cell_type": "code",
   "execution_count": 15,
   "metadata": {
    "ExecuteTime": {
     "end_time": "2019-07-26T23:30:36.958245Z",
     "start_time": "2019-07-26T15:44:09.146Z"
    }
   },
   "outputs": [
    {
     "data": {
      "text/plain": [
       "odict_keys(['trained_model', 'losses', 'validation_losses', 'metric_per_epoch', 'entity_to_embedding', 'relation_to_embedding', 'relation_to_radius', 'eval_summary', 'entity_to_id', 'relation_to_id', 'final_configuration', 'search_summary'])"
      ]
     },
     "execution_count": 15,
     "metadata": {},
     "output_type": "execute_result"
    }
   ],
   "source": [
    "results.results.keys()"
   ]
  },
  {
   "cell_type": "markdown",
   "metadata": {},
   "source": [
    "Visualize loss values:"
   ]
  },
  {
   "cell_type": "code",
   "execution_count": 16,
   "metadata": {
    "ExecuteTime": {
     "end_time": "2019-07-26T23:30:36.959208Z",
     "start_time": "2019-07-26T15:44:10.392Z"
    }
   },
   "outputs": [
    {
     "data": {
      "image/png": "[encoded data removed]",
      "text/plain": [
       "<matplotlib.figure.Figure at 0x7fca31cd5f98>"
      ]
     },
     "metadata": {
      "needs_background": "light"
     },
     "output_type": "display_data"
    }
   ],
   "source": [
    "val_losses = results.results['validation_losses']\n",
    "epochs = np.arange(len(val_losses))\n",
    "#plt.title(r'Validation Loss Per Epoch')\n",
    "plt.xlabel('epoch')\n",
    "plt.ylabel('loss')\n",
    "plt.plot(epochs, val_losses)\n",
    "\n",
    "losses = results.results['losses']\n",
    "epochs = np.arange(len(losses))\n",
    "plt.title('Loss Per Epoch')\n",
    "plt.xlabel('epoch')\n",
    "plt.ylabel('loss')\n",
    "plt.plot(epochs, losses) #plt.subplot(122)\n",
    "\n",
    "plt.legend([\"val loss\", \"loss\"])\n",
    "plt.show()"
   ]
  },
  {
   "cell_type": "markdown",
   "metadata": {
    "ExecuteTime": {
     "end_time": "2019-06-25T23:14:06.537086Z",
     "start_time": "2019-06-25T22:53:24.669Z"
    }
   },
   "source": [
    "from sklearn.preprocessing import minmax_scale\n",
    "metric = minmax_scale(results.results['metric_per_epoch'], feature_range=(0,1))\n",
    "epochs = np.arange(len(metric)) * (len(losses) // len(metric))\n",
    "plt.xlabel('epoch')\n",
    "plt.ylabel('loss')\n",
    "plt.plot(epochs, metric)\n",
    "\n",
    "val_losses = - \n",
    "minmax_scale(results.results['validation_losses'], feature_range=(0,1))\n",
    "epochs = np.arange(len(val_losses))\n",
    "plt.title(r'Early stopping evaluation')\n",
    "plt.xlabel('epoch')\n",
    "plt.ylabel('loss')\n",
    "plt.plot(epochs, val_losses)\n",
    "\n",
    "plt.legend([\"metric\", \"val_loss\"])\n",
    "plt.show()"
   ]
  },
  {
   "cell_type": "code",
   "execution_count": 17,
   "metadata": {
    "ExecuteTime": {
     "end_time": "2019-07-26T15:40:51.480768Z",
     "start_time": "2019-07-26T15:40:51.465776Z"
    }
   },
   "outputs": [
    {
     "data": {
      "text/plain": [
       "{'mean_rank': None,\n",
       " 'hits@k': None,\n",
       " 'precision': None,\n",
       " 'recall': None,\n",
       " 'accuracy': None,\n",
       " 'f1_score': None}"
      ]
     },
     "execution_count": 17,
     "metadata": {},
     "output_type": "execute_result"
    }
   ],
   "source": [
    "results.results['eval_summary']"
   ]
  },
  {
   "cell_type": "markdown",
   "metadata": {},
   "source": [
    "## Load and evaluate"
   ]
  },
  {
   "cell_type": "code",
   "execution_count": 18,
   "metadata": {
    "ExecuteTime": {
     "end_time": "2019-07-26T23:30:36.999101Z",
     "start_time": "2019-07-26T15:44:14.289Z"
    }
   },
   "outputs": [],
   "source": [
    "import torch\n",
    "import json\n",
    "import os\n",
    "import pykeen.constants as pkc\n",
    "from pykeen.kge_models import get_kge_model\n",
    "from pykeen.utilities.pipeline import Pipeline"
   ]
  },
  {
   "cell_type": "code",
   "execution_count": 19,
   "metadata": {
    "ExecuteTime": {
     "end_time": "2019-07-26T23:30:37.002094Z",
     "start_time": "2019-07-26T15:44:14.499Z"
    },
    "scrolled": true
   },
   "outputs": [
    {
     "data": {
      "text/plain": [
       "['test',\n",
       " 'region_FB15k_20191023-1742_dim50_sphere_rad0_regL0_lr001_loss-BPR_margin0.5_negfactor1_epochs1000_esmetric-custom_bs8192',\n",
       " 'FB15k-237_region_20191028_1118_dim50_full_rad1_regL0_lr001_loss-MRL_margin0.5_negfactor1_epochs2000_esmetric-custom_vs8192',\n",
       " 'region_FB15k_20191023_dim50_sphere_rad0_regL0_lr001_loss-BPR_margin0.5_negfactor1_epochs1000_esmetric-custom_final',\n",
       " 'FB15k237_TransE_20191024-1716_dim50_loss-MRL_lr001_margin1_epochs1000_bs8192_esmetric-custom',\n",
       " 'region_FB15k_20191023_dim50_sphere_rad0_regL0_lr001_loss-BPR_margin0.5_negfactor1_epochs500_esmetric-custom_final',\n",
       " 'region_FB15k_dim50_sphere_rad0_regL0_lr01_loss-MRL_margin0.5_negfactor1_epochs500_esmetric-custom_final',\n",
       " 'region_FB15k_20191023_dim50_sphere_rad0_regL0_lr001_loss-MRL_margin0.5_negfactor1_epochs1000_esmetric-custom',\n",
       " 'FB15k237_region_20191024-1716_dim50_sphere_rad0_regL0_lr001_loss-MRL_margin0.5_negfactor1_epochs1000_esmetric-custom_bs8192',\n",
       " '.directory',\n",
       " 'TransE_FB15k_20191023_dim50_lr001_margin1_epochs1000_bs8192_esmetric-custom_final',\n",
       " 'region_FB15k_20191024-11 5_dim50_sphere_rad0_regL0_lr001_loss-BPR_margin0.5_negfactor1_epochs1000_esmetric-custom_bs8192',\n",
       " 'FB15k_region_20191028-1547_dim50_full_rad1_regL0_lr0001_loss-MRL_margin0.5_negfactor1_epochs2000_esmetric-custom_bs8192',\n",
       " 'region_FB15k_20191023_dim50_sphere_rad0_regL0_lr001_loss-BPR_margin0.5_negfactor1_epochs1000_esmetric-custom',\n",
       " 'region_FB15k_dim50_sphere_rad0_regL0_lr01_loss-MRL_margin0.5_negfactor1_epochs500_esmetric-custom_bs-2048',\n",
       " 'reference masterarbeit',\n",
       " 'region_FB15k_20191024-1031_dim50_sphere_rad0_regL0_lr001_loss-MRL_margin0.5_negfactor1_epochs1000_esmetric-custom_bs8192',\n",
       " 'region_FB15k_dim50_sphere_rad0_regL0_lr01_loss-MRL_margin0.5_negfactor1_epochs500_esmetric-custom_bs-4096',\n",
       " 'transE_FB15K_dim50_retrained',\n",
       " 'region_FB15k_20191024-1246_dim50_sphere_rad0_regL0_lr001_loss-BPR_margin0.5_negfactor1_epochs1000_esmetric-custom_bs8192']"
      ]
     },
     "execution_count": 19,
     "metadata": {},
     "output_type": "execute_result"
    }
   ],
   "source": [
    "model_dir = '../../../models/'\n",
    "models = os.listdir(model_dir)\n",
    "models"
   ]
  },
  {
   "cell_type": "code",
   "execution_count": 20,
   "metadata": {
    "ExecuteTime": {
     "end_time": "2019-07-26T23:30:37.007081Z",
     "start_time": "2019-07-26T15:44:15.425Z"
    }
   },
   "outputs": [],
   "source": [
    "model_path = ''\n",
    "if model_path:\n",
    "    input_directory = os.path.join(model_dir, model_path)\n",
    "    results = {\n",
    "    'losses': json.load(open(os.path.join(input_directory, 'losses.json'))),\n",
    "    'validation_losses': json.load(open(os.path.join(input_directory, 'val_losses.json'))),\n",
    "    'entity_to_embedding': json.load(open(os.path.join(input_directory, 'entities_to_embeddings.json'))),\n",
    "    'relation_to_embedding': json.load(open(os.path.join(input_directory, 'relations_to_embeddings.json'))),\n",
    "    'final_configuration': json.load(open(os.path.join(input_directory, 'configuration.json'))),\n",
    "    'eval_summary': json.load(open(os.path.join(input_directory, 'evaluation_summary.json'))),\n",
    "    'entity_to_id': json.load(open(os.path.join(input_directory, 'entity_to_id.json'))),\n",
    "    'relation_to_id': json.load(open(os.path.join(input_directory, 'relation_to_id.json')))\n",
    "    }\n",
    "    # Initialize KG embedding model\n",
    "    config = results['final_configuration']\n",
    "    config['training_set_path'] = '../../../data/fb15k/train.tsv'\n",
    "    config['test_set_path'] = '../../../data/fb15k/valid.tsv'\n",
    "    relation_to_id = results['relation_to_id']\n",
    "    entity_to_id = results['entity_to_id']\n",
    "else:\n",
    "    # Initialize KG embedding model\n",
    "    input_directory = output_directory\n",
    "    config[pkc.NUM_ENTITIES] = 14951\n",
    "    config[pkc.NUM_RELATIONS] = 1345\n",
    "    config[pkc.PREFERRED_DEVICE] = 'gpu'\n",
    "    relation_to_id = json.load(open(os.path.join(input_directory, 'relation_to_id.json'),'r'))\n",
    "    entity_to_id = json.load(open(os.path.join(input_directory, 'entity_to_id.json'),'r'))"
   ]
  },
  {
   "cell_type": "markdown",
   "metadata": {},
   "source": [
    "Get evaluation results:\n",
    " * Mean rank\n",
    " * Hits@k, k $\\in$ {1,3,5,10} "
   ]
  },
  {
   "cell_type": "code",
   "execution_count": 21,
   "metadata": {
    "ExecuteTime": {
     "end_time": "2019-07-26T23:30:37.024036Z",
     "start_time": "2019-07-26T15:44:16.304Z"
    }
   },
   "outputs": [
    {
     "data": {
      "text/plain": [
       "pykeen.kge_models.region.Region"
      ]
     },
     "execution_count": 21,
     "metadata": {},
     "output_type": "execute_result"
    }
   ],
   "source": [
    "pipeline = Pipeline(config)\n",
    "config[pkc.PREFERRED_DEVICE] = pipeline.device_name\n",
    "if config['random_seed'] is not None:\n",
    "    torch.manual_seed(config['random_seed'])\n",
    "pipeline.entity_label_to_id = entity_to_id\n",
    "pipeline.relation_label_to_id = relation_to_id\n",
    "    \n",
    "model: torch.nn.Module = get_kge_model(config=config)\n",
    "model.load_state_dict(torch.load(os.path.join(input_directory, 'best_model.pkl')))\n",
    "\n",
    "#results['trained_model'] = model \n",
    "type(model)"
   ]
  },
  {
   "cell_type": "code",
   "execution_count": 22,
   "metadata": {
    "ExecuteTime": {
     "end_time": "2019-07-26T23:30:37.051960Z",
     "start_time": "2019-07-26T15:44:16.482Z"
    }
   },
   "outputs": [],
   "source": [
    "metrics =  [pkc.MEAN_RANK, pkc.HITS_AT_K] #  [pkc.MEAN_RANK, pkc.HITS_AT_K, pkc.TRIPLE_PREDICTION]"
   ]
  },
  {
   "cell_type": "markdown",
   "metadata": {},
   "source": [
    "#### Evaluate RelationalTriple"
   ]
  },
  {
   "cell_type": "code",
   "execution_count": 23,
   "metadata": {
    "ExecuteTime": {
     "end_time": "2019-07-26T15:42:31.197977Z",
     "start_time": "2019-07-26T15:40:51.821040Z"
    }
   },
   "outputs": [
    {
     "name": "stdout",
     "output_type": "stream",
     "text": [
      "\n"
     ]
    },
    {
     "name": "stderr",
     "output_type": "stream",
     "text": [
      "DEBUG:pykeen.utilities.pipeline:map negative test\n",
      "INFO:pykeen.utilities.pipeline:-------------Start Evaluation-------------\n"
     ]
    },
    {
     "data": {
      "application/vnd.jupyter.widget-view+json": {
       "model_id": "370192a0974f4e80b32b5fb38a686424",
       "version_major": 2,
       "version_minor": 0
      },
      "text/plain": [
       "HBox(children=(IntProgress(value=0, max=50000), HTML(value='')))"
      ]
     },
     "metadata": {},
     "output_type": "display_data"
    },
    {
     "name": "stderr",
     "output_type": "stream",
     "text": [
      "DEBUG:pykeen.utilities.evaluation_utils.metrics_computations:Evaluation took 605.90s seconds\n",
      "INFO:pykeen.utilities.pipeline:MetricResults(mean_rank=0.19931160796012026, hits_at_k={1: 0.10502, 3: 0.22121, 5: 0.29043, 10: 0.39416}, precision=None, recall=None, accuracy=None, fscore=None)\n"
     ]
    }
   ],
   "source": [
    "val_results = pipeline.evaluate(\n",
    "    model, \n",
    "    '../../../data/fb15k/valid.tsv', \n",
    "    neg_test_path = '../../../data/fb15k/valid_neg.tsv', \n",
    "    metrics= metrics,\n",
    "    filter_neg_triples=True,\n",
    "    threshold_search=True,\n",
    "    single_threshold=True\n",
    ")"
   ]
  },
  {
   "cell_type": "code",
   "execution_count": 40,
   "metadata": {
    "ExecuteTime": {
     "end_time": "2019-07-26T23:30:37.053955Z",
     "start_time": "2019-07-26T15:44:18.254Z"
    }
   },
   "outputs": [
    {
     "name": "stderr",
     "output_type": "stream",
     "text": [
      "DEBUG:pykeen.utilities.pipeline:map negative test\n",
      "INFO:pykeen.utilities.pipeline:-------------Start Evaluation-------------\n",
      "DEBUG:pykeen.utilities.evaluation_utils.metrics_computations:Evaluation took 0.66s seconds\n",
      "INFO:pykeen.utilities.pipeline:MetricResults(mean_rank=None, hits_at_k=None, precision=None, recall=None, accuracy=None, fscore=None)\n"
     ]
    }
   ],
   "source": [
    "val_results_ = pipeline.evaluate(\n",
    "    model, \n",
    "    '../../../data/fb15k/valid.tsv', \n",
    "    neg_test_path = '../../../data/fb15k/valid_neg.tsv', \n",
    "    metrics= ['prediction'],\n",
    "    threshold_search=True,\n",
    "    single_threshold=True\n",
    ")"
   ]
  },
  {
   "cell_type": "code",
   "execution_count": 41,
   "metadata": {
    "ExecuteTime": {
     "end_time": "2019-07-26T23:30:37.111800Z",
     "start_time": "2019-07-26T15:44:18.532Z"
    }
   },
   "outputs": [
    {
     "name": "stderr",
     "output_type": "stream",
     "text": [
      "DEBUG:pykeen.utilities.pipeline:map negative test\n",
      "INFO:pykeen.utilities.pipeline:-------------Start Evaluation-------------\n",
      "INFO:pykeen.utilities.evaluation_utils.metrics_computations:Best accuracy 0.53 achieved on threshold: 0.01\n",
      "DEBUG:pykeen.utilities.evaluation_utils.metrics_computations:Evaluation took 0.54s seconds\n",
      "INFO:pykeen.utilities.pipeline:MetricResults(mean_rank=None, hits_at_k=None, precision=0.7204518430439952, recall=0.10257148177616766, accuracy=0.5313145508110122, fscore=0.1795764733776915)\n"
     ]
    }
   ],
   "source": [
    "test_results = pipeline.evaluate(\n",
    "    model, \n",
    "    '../../../data/fb15k/test.tsv', \n",
    "    neg_test_path = '../../../data/fb15k/test_neg.tsv',\n",
    "    metrics= ['prediction'],\n",
    "    threshold_search=False\n",
    ")"
   ]
  },
  {
   "cell_type": "code",
   "execution_count": 42,
   "metadata": {
    "ExecuteTime": {
     "end_time": "2019-07-26T23:30:37.142718Z",
     "start_time": "2019-07-26T15:44:18.928Z"
    }
   },
   "outputs": [
    {
     "data": {
      "text/plain": [
       "0.0069137481507605125"
      ]
     },
     "execution_count": 42,
     "metadata": {},
     "output_type": "execute_result"
    }
   ],
   "source": [
    "model.relation_thresholds.mean()"
   ]
  },
  {
   "cell_type": "code",
   "execution_count": 43,
   "metadata": {
    "ExecuteTime": {
     "end_time": "2019-07-26T23:30:37.143714Z",
     "start_time": "2019-07-26T15:44:19.365Z"
    }
   },
   "outputs": [],
   "source": [
    "json.dump(model.relation_thresholds[0], open(os.path.join(input_directory, 'threshold.json'),\"w\"))"
   ]
  },
  {
   "cell_type": "code",
   "execution_count": 28,
   "metadata": {
    "ExecuteTime": {
     "end_time": "2019-07-26T23:30:37.179618Z",
     "start_time": "2019-07-26T15:44:19.784Z"
    }
   },
   "outputs": [
    {
     "name": "stderr",
     "output_type": "stream",
     "text": [
      "DEBUG:pykeen.utilities.pipeline:map negative test\n",
      "INFO:pykeen.utilities.pipeline:-------------Start Evaluation-------------\n",
      "DEBUG:pykeen.utilities.evaluation_utils.metrics_computations:Evaluation took 6.98s seconds\n",
      "INFO:pykeen.utilities.pipeline:MetricResults(mean_rank=None, hits_at_k=None, precision=None, recall=None, accuracy=None, fscore=None)\n"
     ]
    }
   ],
   "source": [
    "val_results_ = pipeline.evaluate(\n",
    "    model, \n",
    "    '../../../data/fb15k/valid.tsv', \n",
    "    neg_test_path = '../../../data/fb15k/valid_neg.tsv', \n",
    "    metrics= ['prediction'],\n",
    "    threshold_search=True,\n",
    "    single_threshold=False\n",
    ")"
   ]
  },
  {
   "cell_type": "code",
   "execution_count": 29,
   "metadata": {
    "ExecuteTime": {
     "end_time": "2019-07-26T23:30:37.181614Z",
     "start_time": "2019-07-26T15:44:20.161Z"
    }
   },
   "outputs": [
    {
     "name": "stderr",
     "output_type": "stream",
     "text": [
      "DEBUG:pykeen.utilities.pipeline:map negative test\n",
      "INFO:pykeen.utilities.pipeline:-------------Start Evaluation-------------\n",
      "INFO:pykeen.utilities.evaluation_utils.metrics_computations:Best accuracy 0.96 achieved on threshold: 0.02\n",
      "DEBUG:pykeen.utilities.evaluation_utils.metrics_computations:Evaluation took 0.55s seconds\n",
      "INFO:pykeen.utilities.pipeline:MetricResults(mean_rank=None, hits_at_k=None, precision=0.9337657518111557, recall=0.9797023920367016, accuracy=0.9550980325759372, fscore=0.9561826713369903)\n"
     ]
    }
   ],
   "source": [
    "test_results = pipeline.evaluate(\n",
    "    model, \n",
    "    '../../../data/fb15k/test.tsv', \n",
    "    neg_test_path = '../../../data/fb15k/test_neg.tsv',\n",
    "    metrics= ['prediction'],\n",
    "    threshold_search=False\n",
    ")"
   ]
  },
  {
   "cell_type": "code",
   "execution_count": 30,
   "metadata": {
    "ExecuteTime": {
     "end_time": "2019-07-26T23:30:37.231480Z",
     "start_time": "2019-07-26T15:44:20.859Z"
    }
   },
   "outputs": [
    {
     "data": {
      "text/plain": [
       "0.02329402726154309"
      ]
     },
     "execution_count": 30,
     "metadata": {},
     "output_type": "execute_result"
    }
   ],
   "source": [
    "model.relation_thresholds.mean()"
   ]
  },
  {
   "cell_type": "code",
   "execution_count": 31,
   "metadata": {
    "ExecuteTime": {
     "end_time": "2019-07-26T23:30:37.233507Z",
     "start_time": "2019-07-26T15:44:21.310Z"
    }
   },
   "outputs": [],
   "source": [
    "json.dump(model.relation_thresholds.tolist(), open(os.path.join(input_directory, 'mult_thresholds.json'),\"w\"))"
   ]
  },
  {
   "cell_type": "code",
   "execution_count": 32,
   "metadata": {
    "ExecuteTime": {
     "end_time": "2019-07-26T23:30:37.234472Z",
     "start_time": "2019-07-26T15:44:21.877Z"
    }
   },
   "outputs": [
    {
     "data": {
      "text/plain": [
       "{'mean_rank': 0.19931160796012026,\n",
       " 'hits@k': {1: 0.10502, 3: 0.22121, 5: 0.29043, 10: 0.39416},\n",
       " 'precision': None,\n",
       " 'recall': None,\n",
       " 'accuracy': None,\n",
       " 'f1_score': None}"
      ]
     },
     "execution_count": 32,
     "metadata": {},
     "output_type": "execute_result"
    }
   ],
   "source": [
    "val_results['eval_summary']"
   ]
  },
  {
   "cell_type": "code",
   "execution_count": 33,
   "metadata": {
    "ExecuteTime": {
     "end_time": "2019-07-26T23:30:37.253421Z",
     "start_time": "2019-07-26T15:44:22.129Z"
    }
   },
   "outputs": [
    {
     "name": "stderr",
     "output_type": "stream",
     "text": [
      "DEBUG:pykeen.utilities.pipeline:map negative test\n",
      "INFO:pykeen.utilities.pipeline:-------------Start Evaluation-------------\n"
     ]
    },
    {
     "data": {
      "application/vnd.jupyter.widget-view+json": {
       "model_id": "3c05206555c6475c8b9725a5efc78acf",
       "version_major": 2,
       "version_minor": 0
      },
      "text/plain": [
       "HBox(children=(IntProgress(value=0, max=59071), HTML(value='')))"
      ]
     },
     "metadata": {},
     "output_type": "display_data"
    },
    {
     "name": "stderr",
     "output_type": "stream",
     "text": [
      "INFO:pykeen.utilities.evaluation_utils.metrics_computations:Best accuracy 0.96 achieved on threshold: 0.02\n",
      "DEBUG:pykeen.utilities.evaluation_utils.metrics_computations:Evaluation took 715.78s seconds\n",
      "INFO:pykeen.utilities.pipeline:MetricResults(mean_rank=0.1985944325589717, hits_at_k={1: 0.10454368471838973, 3: 0.22005721927849536, 5: 0.2890843222562679, 10: 0.3921890606219634}, precision=0.9337657518111557, recall=0.9797023920367016, accuracy=0.9550980325759372, fscore=0.9561826713369903)\n"
     ]
    }
   ],
   "source": [
    "test_results = pipeline.evaluate(\n",
    "    model, \n",
    "    '../../../data/fb15k/test.tsv', \n",
    "    neg_test_path = '../../../data/fb15k/test_neg.tsv',\n",
    "    metrics= metrics,\n",
    "    threshold_search=False\n",
    ")"
   ]
  },
  {
   "cell_type": "code",
   "execution_count": 34,
   "metadata": {
    "ExecuteTime": {
     "end_time": "2019-07-26T23:30:37.254418Z",
     "start_time": "2019-07-26T15:44:23.205Z"
    }
   },
   "outputs": [
    {
     "data": {
      "text/plain": [
       "{'mean_rank': 0.1985944325589717,\n",
       " 'hits@k': {1: 0.10454368471838973,\n",
       "  3: 0.22005721927849536,\n",
       "  5: 0.2890843222562679,\n",
       "  10: 0.3921890606219634},\n",
       " 'precision': 0.9337657518111557,\n",
       " 'recall': 0.9797023920367016,\n",
       " 'accuracy': 0.9550980325759372,\n",
       " 'f1_score': 0.9561826713369903}"
      ]
     },
     "execution_count": 34,
     "metadata": {},
     "output_type": "execute_result"
    }
   ],
   "source": [
    "test_results['eval_summary']"
   ]
  },
  {
   "cell_type": "code",
   "execution_count": 35,
   "metadata": {
    "ExecuteTime": {
     "end_time": "2019-07-26T15:42:31.350619Z",
     "start_time": "2019-07-26T15:37:29.814Z"
    }
   },
   "outputs": [],
   "source": [
    "json.dump(val_results['eval_summary'], open(os.path.join(input_directory, 'valid_evaluation_summary.json'),\"w\"))"
   ]
  },
  {
   "cell_type": "code",
   "execution_count": 36,
   "metadata": {
    "ExecuteTime": {
     "end_time": "2019-07-26T15:42:31.354558Z",
     "start_time": "2019-07-26T15:37:29.825Z"
    }
   },
   "outputs": [],
   "source": [
    "json.dump(test_results['eval_summary'], open(os.path.join(input_directory, 'evaluation_summary.json'),\"w\"))"
   ]
  },
  {
   "cell_type": "markdown",
   "metadata": {},
   "source": [
    "## Load results"
   ]
  },
  {
   "cell_type": "code",
   "execution_count": 37,
   "metadata": {
    "ExecuteTime": {
     "end_time": "2019-07-26T15:42:31.358663Z",
     "start_time": "2019-07-26T15:37:29.837Z"
    }
   },
   "outputs": [],
   "source": [
    "import numpy as np\n",
    "import matplotlib.pyplot as plt\n",
    "import json\n",
    "import os"
   ]
  },
  {
   "cell_type": "code",
   "execution_count": 38,
   "metadata": {
    "ExecuteTime": {
     "end_time": "2019-07-26T15:42:31.361975Z",
     "start_time": "2019-07-26T15:37:29.846Z"
    }
   },
   "outputs": [],
   "source": [
    "%matplotlib inline"
   ]
  },
  {
   "cell_type": "code",
   "execution_count": 39,
   "metadata": {
    "ExecuteTime": {
     "end_time": "2019-07-26T15:42:31.365585Z",
     "start_time": "2019-07-26T15:37:29.854Z"
    }
   },
   "outputs": [
    {
     "ename": "FileNotFoundError",
     "evalue": "[Errno 2] No such file or directory: 'D:/uni/master/models/'",
     "output_type": "error",
     "traceback": [
      "\u001b[0;31m---------------------------------------------------------------------------\u001b[0m",
      "\u001b[0;31mFileNotFoundError\u001b[0m                         Traceback (most recent call last)",
      "\u001b[0;32m<ipython-input-39-635ce1ad5121>\u001b[0m in \u001b[0;36m<module>\u001b[0;34m\u001b[0m\n\u001b[1;32m      1\u001b[0m \u001b[0mmodel_dir\u001b[0m \u001b[0;34m=\u001b[0m \u001b[0;34m'D:/uni/master/models/'\u001b[0m\u001b[0;34m\u001b[0m\u001b[0m\n\u001b[0;32m----> 2\u001b[0;31m \u001b[0mmodels\u001b[0m \u001b[0;34m=\u001b[0m \u001b[0mos\u001b[0m\u001b[0;34m.\u001b[0m\u001b[0mlistdir\u001b[0m\u001b[0;34m(\u001b[0m\u001b[0mmodel_dir\u001b[0m\u001b[0;34m)\u001b[0m\u001b[0;34m\u001b[0m\u001b[0m\n\u001b[0m\u001b[1;32m      3\u001b[0m \u001b[0mmodels\u001b[0m\u001b[0;34m\u001b[0m\u001b[0m\n",
      "\u001b[0;31mFileNotFoundError\u001b[0m: [Errno 2] No such file or directory: 'D:/uni/master/models/'"
     ]
    }
   ],
   "source": [
    "model_dir = 'D:/uni/master/models/'\n",
    "models = os.listdir(model_dir)\n",
    "models"
   ]
  },
  {
   "cell_type": "code",
   "execution_count": null,
   "metadata": {
    "ExecuteTime": {
     "end_time": "2019-07-26T15:42:31.374503Z",
     "start_time": "2019-07-26T15:37:29.864Z"
    }
   },
   "outputs": [],
   "source": [
    "#output_directory = 'D:/uni/master/models/region_hpo/'\n",
    "model_path = 'region_FB15k_dim50_sphere_rad0_regL0_lr01_loss-MRL_margin0.5_negfactor1_epochs500_esmetric-prediction'\n",
    "input_directory = os.path.join(model_dir, model_path)\n",
    "\n",
    "\n",
    "results = {\n",
    "    'losses': json.load(open(os.path.join(input_directory, 'losses.json'))),\n",
    "    'validation_losses': json.load(open(os.path.join(input_directory, 'val_losses.json'))),\n",
    "    'entity_to_embedding': json.load(open(os.path.join(input_directory, 'entities_to_embeddings.json'))),\n",
    "    'relation_to_embedding': json.load(open(os.path.join(input_directory, 'relations_to_embeddings.json'))),\n",
    "    'final_configuration': json.load(open(os.path.join(input_directory, 'configuration.json'))),\n",
    "    'eval_summary': json.load(open(os.path.join(input_directory, 'evaluation_summary.json'))),\n",
    "    'entity_to_id': json.load(open(os.path.join(input_directory, 'entity_to_id.json'))),\n",
    "    'relation_to_id': json.load(open(os.path.join(input_directory, 'relation_to_id.json')))\n",
    "}"
   ]
  },
  {
   "cell_type": "code",
   "execution_count": null,
   "metadata": {
    "ExecuteTime": {
     "end_time": "2019-07-26T15:42:31.378492Z",
     "start_time": "2019-07-26T15:37:29.872Z"
    }
   },
   "outputs": [],
   "source": [
    "results.keys()"
   ]
  },
  {
   "cell_type": "code",
   "execution_count": null,
   "metadata": {
    "ExecuteTime": {
     "end_time": "2019-07-26T15:42:31.382541Z",
     "start_time": "2019-07-26T15:37:29.881Z"
    }
   },
   "outputs": [],
   "source": [
    "results['final_configuration']"
   ]
  },
  {
   "cell_type": "code",
   "execution_count": null,
   "metadata": {
    "ExecuteTime": {
     "end_time": "2019-07-26T15:42:31.385694Z",
     "start_time": "2019-07-26T15:37:29.888Z"
    }
   },
   "outputs": [],
   "source": [
    "losses = results['losses']\n",
    "epochs = np.arange(len(losses))\n",
    "plt.title(r'Loss Per Epoch')\n",
    "plt.xlabel('epoch')\n",
    "plt.ylabel('loss')\n",
    "plt.plot(epochs, losses)\n",
    "plt.show()"
   ]
  },
  {
   "cell_type": "code",
   "execution_count": null,
   "metadata": {
    "ExecuteTime": {
     "end_time": "2019-07-26T15:42:31.389463Z",
     "start_time": "2019-07-26T15:37:29.899Z"
    }
   },
   "outputs": [],
   "source": [
    "losses = results['validation_losses']\n",
    "epochs = np.arange(len(losses))\n",
    "plt.title(r'Loss Per Epoch')\n",
    "plt.xlabel('epoch')\n",
    "plt.ylabel('loss')\n",
    "plt.plot(epochs, losses)\n",
    "plt.show()"
   ]
  },
  {
   "cell_type": "code",
   "execution_count": null,
   "metadata": {
    "ExecuteTime": {
     "end_time": "2019-07-26T15:42:31.392454Z",
     "start_time": "2019-07-26T15:37:29.908Z"
    }
   },
   "outputs": [],
   "source": [
    "results['eval_summary']"
   ]
  },
  {
   "cell_type": "markdown",
   "metadata": {},
   "source": [
    "### "
   ]
  }
 ],
 "metadata": {
  "kernelspec": {
   "display_name": "Python 3",
   "language": "python",
   "name": "python3"
  },
  "language_info": {
   "codemirror_mode": {
    "name": "ipython",
    "version": 3
   },
   "file_extension": ".py",
   "mimetype": "text/x-python",
   "name": "python",
   "nbconvert_exporter": "python",
   "pygments_lexer": "ipython3",
   "version": "3.6.5"
  },
  "notify_time": "30",
  "toc": {
   "base_numbering": 1,
   "nav_menu": {},
   "number_sections": true,
   "sideBar": true,
   "skip_h1_title": false,
   "title_cell": "Table of Contents",
   "title_sidebar": "Contents",
   "toc_cell": false,
   "toc_position": {
    "height": "193.717px",
    "left": "10px",
    "top": "150px",
    "width": "165px"
   },
   "toc_section_display": true,
   "toc_window_display": true
  }
 },
 "nbformat": 4,
 "nbformat_minor": 2
}
