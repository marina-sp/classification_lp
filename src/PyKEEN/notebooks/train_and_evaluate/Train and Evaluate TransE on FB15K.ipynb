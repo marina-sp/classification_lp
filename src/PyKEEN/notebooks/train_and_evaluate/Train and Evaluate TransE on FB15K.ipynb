{
 "cells": [
  {
   "cell_type": "code",
   "execution_count": 1,
   "metadata": {
    "ExecuteTime": {
     "end_time": "2019-07-08T13:13:20.501258Z",
     "start_time": "2019-07-08T13:13:20.485666Z"
    }
   },
   "outputs": [],
   "source": [
    "TEST = True"
   ]
  },
  {
   "cell_type": "markdown",
   "metadata": {},
   "source": [
    "Check which hyper-parameters are required by TransE:"
   ]
  },
  {
   "cell_type": "code",
   "execution_count": 2,
   "metadata": {
    "ExecuteTime": {
     "end_time": "2019-07-08T13:13:28.589342Z",
     "start_time": "2019-07-08T13:13:20.501258Z"
    }
   },
   "outputs": [
    {
     "data": {
      "text/plain": [
       "['embedding_dim',\n",
       " 'margin_loss',\n",
       " 'learning_rate',\n",
       " 'corrupt_relations',\n",
       " 'scoring_function',\n",
       " 'normalization_of_entities']"
      ]
     },
     "execution_count": 2,
     "metadata": {},
     "output_type": "execute_result"
    }
   ],
   "source": [
    "from datetime import datetime\n",
    "from pykeen.kge_models import TransE\n",
    "TransE.hyper_params"
   ]
  },
  {
   "cell_type": "markdown",
   "metadata": {},
   "source": [
    "Train and evaluate Region (provide test set):\n",
    "* Define the path to our test set: **test_set_path**\n",
    "* Define the path to our the negative test set: **neg_test_path** in case of triple classfication evaluation\n",
    "* Define whether you want to compute the metrics (mean rank and hits@k) in raw or in a filtered setting: **filter_negative_triples**"
   ]
  },
  {
   "cell_type": "code",
   "execution_count": 3,
   "metadata": {
    "ExecuteTime": {
     "end_time": "2019-07-08T13:13:28.611860Z",
     "start_time": "2019-07-08T13:13:28.589342Z"
    }
   },
   "outputs": [],
   "source": [
    "config = dict(\n",
    "    metrics                     = [],    \n",
    "    training_set_path           = '../../../data/fb15k/train.tsv',\n",
    "    test_set_path               = '../../../data/fb15k/valid_200.tsv',\n",
    "    #neg_test_set_path           = '../../../data/fb15k/valid_neg.tsv',\n",
    "    mapping_path                = '../../../data/fb15k/',\n",
    "    \n",
    "    execution_mode              = 'Training_mode',\n",
    "    random_seed                 = 2,\n",
    "    kg_embedding_model_name     = 'TransE',\n",
    "    loss_type                   = 'BPR',\n",
    "    embedding_dim               = 50,\n",
    "    scoring_function            = 1,  # corresponds to L1\n",
    "    normalization_of_entities   = 2,  # corresponds to L2\n",
    "    margin_loss                 = 1,\n",
    "    es_metric                   = 'custom',\n",
    "    \n",
    "    learning_rate               = 0.01,\n",
    "    num_epochs                  = 1000 if not TEST else 1000,  \n",
    "    batch_size                  = 2**13,\n",
    "    test_batch_size             = 2**16,\n",
    "    filter_negative_triples     = False,\n",
    "    corrupt_relations           = False,\n",
    "    neg_factor                  = 1,\n",
    "    preferred_device            = 'gpu1'\n",
    ")"
   ]
  },
  {
   "cell_type": "code",
   "execution_count": 4,
   "metadata": {},
   "outputs": [
    {
     "data": {
      "text/plain": [
       "'20191025'"
      ]
     },
     "execution_count": 4,
     "metadata": {},
     "output_type": "execute_result"
    }
   ],
   "source": [
    "date = datetime.today()\n",
    "stamp = \"{:04d}{:2d}{:2d}\".format(date.year, date.month, date.day)\n",
    "stamp"
   ]
  },
  {
   "cell_type": "code",
   "execution_count": 5,
   "metadata": {
    "ExecuteTime": {
     "end_time": "2019-07-08T13:13:28.623555Z",
     "start_time": "2019-07-08T13:13:28.611860Z"
    }
   },
   "outputs": [
    {
     "data": {
      "text/plain": [
       "'../../../models/TransE_FB15k_20191025_dim50_loss-BPR_lr001_margin1_epochs1000_bs8192_esmetric-custom/'"
      ]
     },
     "execution_count": 5,
     "metadata": {},
     "output_type": "execute_result"
    }
   ],
   "source": [
    "output_directory = '../../../models/TransE_FB15k_{}_dim{}_loss-{}_lr{}_margin{}_epochs{}_bs{}_esmetric-{}/'.format(\n",
    "    stamp, \n",
    "    config['embedding_dim'],\n",
    "    config['loss_type'],\n",
    "    str(config['learning_rate']).replace('.',''),\n",
    "    config['margin_loss'],\n",
    "    config['num_epochs'],\n",
    "    config['batch_size'],\n",
    "    config['es_metric']\n",
    ")\n",
    "output_directory"
   ]
  },
  {
   "cell_type": "code",
   "execution_count": 6,
   "metadata": {
    "ExecuteTime": {
     "end_time": "2019-07-08T13:13:28.629575Z",
     "start_time": "2019-07-08T13:13:28.626547Z"
    }
   },
   "outputs": [],
   "source": [
    "if TEST:\n",
    "    output_directory = '../../../models/test/'"
   ]
  },
  {
   "cell_type": "code",
   "execution_count": 7,
   "metadata": {
    "ExecuteTime": {
     "end_time": "2019-07-08T13:13:28.649973Z",
     "start_time": "2019-07-08T13:13:28.630536Z"
    }
   },
   "outputs": [],
   "source": [
    "import logging\n",
    "import os\n",
    "import sys\n",
    "import time\n",
    "import pykeen"
   ]
  },
  {
   "cell_type": "code",
   "execution_count": 8,
   "metadata": {
    "ExecuteTime": {
     "end_time": "2019-07-08T13:13:28.665269Z",
     "start_time": "2019-07-08T13:13:28.649973Z"
    }
   },
   "outputs": [],
   "source": [
    "logging.basicConfig(level=logging.DEBUG)\n",
    "logging.getLogger('pykeen').setLevel(logging.DEBUG)"
   ]
  },
  {
   "cell_type": "code",
   "execution_count": 9,
   "metadata": {
    "ExecuteTime": {
     "end_time": "2019-07-08T13:13:28.677362Z",
     "start_time": "2019-07-08T13:13:28.665269Z"
    }
   },
   "outputs": [
    {
     "name": "stdout",
     "output_type": "stream",
     "text": [
      "3.6.5 (default, Mar 31 2018, 19:45:04) [GCC]\n"
     ]
    }
   ],
   "source": [
    "print(sys.version)"
   ]
  },
  {
   "cell_type": "code",
   "execution_count": 10,
   "metadata": {
    "ExecuteTime": {
     "end_time": "2019-07-08T13:13:28.682349Z",
     "start_time": "2019-07-08T13:13:28.678358Z"
    },
    "scrolled": true
   },
   "outputs": [
    {
     "name": "stdout",
     "output_type": "stream",
     "text": [
      "Fri Oct 25 15:50:34 2019\n"
     ]
    }
   ],
   "source": [
    "print(time.asctime())"
   ]
  },
  {
   "cell_type": "code",
   "execution_count": 11,
   "metadata": {
    "ExecuteTime": {
     "end_time": "2019-07-08T13:13:28.691074Z",
     "start_time": "2019-07-08T13:13:28.682539Z"
    }
   },
   "outputs": [
    {
     "name": "stdout",
     "output_type": "stream",
     "text": [
      "0.0.26-dev\n"
     ]
    }
   ],
   "source": [
    "print(pykeen.get_version())"
   ]
  },
  {
   "cell_type": "markdown",
   "metadata": {},
   "source": [
    "## Train and evaluate TransE:"
   ]
  },
  {
   "cell_type": "code",
   "execution_count": 12,
   "metadata": {
    "ExecuteTime": {
     "end_time": "2019-07-08T13:13:29.808652Z",
     "start_time": "2019-07-08T13:13:28.692292Z"
    },
    "scrolled": true
   },
   "outputs": [],
   "source": [
    "import numpy as np\n",
    "import matplotlib.pyplot as plt"
   ]
  },
  {
   "cell_type": "code",
   "execution_count": 13,
   "metadata": {
    "ExecuteTime": {
     "end_time": "2019-07-08T13:13:29.839934Z",
     "start_time": "2019-07-08T13:13:29.808652Z"
    }
   },
   "outputs": [],
   "source": [
    "%matplotlib inline"
   ]
  },
  {
   "cell_type": "code",
   "execution_count": null,
   "metadata": {
    "ExecuteTime": {
     "end_time": "2019-07-08T14:47:12.865729Z",
     "start_time": "2019-07-08T13:13:29.839934Z"
    }
   },
   "outputs": [
    {
     "name": "stderr",
     "output_type": "stream",
     "text": [
      "DEBUG:pykeen.utilities.pipeline:Reading the label mappings...\n",
      "/mounts/Users/student/speranskaya/.local/lib/python3.6/site-packages/torch/nn/_reduction.py:43: UserWarning: size_average and reduce args will be deprecated, please use reduction='sum' instead.\n",
      "  warnings.warn(warning.format(ret))\n",
      "INFO:pykeen.utilities.pipeline:-------------Train KG Embeddings-------------\n"
     ]
    },
    {
     "name": "stdout",
     "output_type": "stream",
     "text": [
      "{'metrics': [], 'training_set_path': '../../../data/fb15k/train.tsv', 'test_set_path': '../../../data/fb15k/valid_200.tsv', 'mapping_path': '../../../data/fb15k/', 'execution_mode': 'Training_mode', 'random_seed': 2, 'kg_embedding_model_name': 'TransE', 'loss_type': 'BPR', 'embedding_dim': 50, 'scoring_function': 1, 'normalization_of_entities': 2, 'margin_loss': 1, 'es_metric': 'custom', 'learning_rate': 0.01, 'num_epochs': 1000, 'batch_size': 8192, 'test_batch_size': 65536, 'filter_negative_triples': False, 'corrupt_relations': False, 'neg_factor': 1, 'preferred_device': 'cuda:1', 'pykeen-version': '0.0.26-dev', 'num_entities': 14951, 'num_relations': 1345}\n"
     ]
    },
    {
     "name": "stderr",
     "output_type": "stream",
     "text": [
      "DEBUG:pykeen.utilities.train_utils:****running model on cuda:1****\n",
      "DEBUG:pykeen.utilities.evaluation_utils.metrics_computations:Evaluation took 4.10s seconds\n",
      "DEBUG:pykeen.utilities.train_utils:\n",
      "current metric: 0.11619370351944489  ---- rank/hits@10: (0.09205195523624933, 0.1575)\n",
      "DEBUG:pykeen.utilities.train_utils:Saving the following model to disk:\n",
      "INFO:pykeen.utilities.train_utils:Epoch   0 / 1000 (0.3s):  0.541 ---- 0.353 ---- 0.12 ----   1\n",
      "INFO:pykeen.utilities.train_utils:Epoch   1 / 1000 (0.3s):  0.257 ---- 0.198 ---- 0.12 ----   2\n",
      "INFO:pykeen.utilities.train_utils:Epoch   2 / 1000 (0.2s):  0.161 ---- 0.148 ---- 0.12 ----   3\n",
      "INFO:pykeen.utilities.train_utils:Epoch   3 / 1000 (0.2s):  0.121 ---- 0.119 ---- 0.12 ----   4\n",
      "INFO:pykeen.utilities.train_utils:Epoch   4 / 1000 (0.4s):  0.101 ---- 0.105 ---- 0.12 ----   5\n",
      "DEBUG:pykeen.utilities.evaluation_utils.metrics_computations:Evaluation took 3.47s seconds\n",
      "DEBUG:pykeen.utilities.train_utils:\n",
      "current metric: 0.20541386536633896  ---- rank/hits@10: (0.1582870135065414, 0.2925)\n",
      "DEBUG:pykeen.utilities.train_utils:Saving the following model to disk:\n",
      "INFO:pykeen.utilities.train_utils:Epoch   5 / 1000 (0.3s):  0.089 ---- 0.090 ---- 0.21 ----   1\n",
      "INFO:pykeen.utilities.train_utils:Epoch   6 / 1000 (0.3s):  0.081 ---- 0.090 ---- 0.21 ----   2\n",
      "INFO:pykeen.utilities.train_utils:Epoch   7 / 1000 (0.4s):  0.075 ---- 0.082 ---- 0.21 ----   3\n",
      "INFO:pykeen.utilities.train_utils:Epoch   8 / 1000 (0.3s):  0.070 ---- 0.073 ---- 0.21 ----   4\n",
      "INFO:pykeen.utilities.train_utils:Epoch   9 / 1000 (0.2s):  0.066 ---- 0.069 ---- 0.21 ----   5\n",
      "DEBUG:pykeen.utilities.evaluation_utils.metrics_computations:Evaluation took 3.25s seconds\n",
      "DEBUG:pykeen.utilities.train_utils:\n",
      "current metric: 0.23297177112612913  ---- rank/hits@10: (0.17522238990386563, 0.3475)\n",
      "DEBUG:pykeen.utilities.train_utils:Saving the following model to disk:\n",
      "INFO:pykeen.utilities.train_utils:Epoch  10 / 1000 (0.3s):  0.064 ---- 0.066 ---- 0.23 ----   1\n",
      "INFO:pykeen.utilities.train_utils:Epoch  11 / 1000 (0.3s):  0.061 ---- 0.064 ---- 0.23 ----   2\n",
      "INFO:pykeen.utilities.train_utils:Epoch  12 / 1000 (0.3s):  0.059 ---- 0.067 ---- 0.23 ----   3\n",
      "INFO:pykeen.utilities.train_utils:Epoch  13 / 1000 (0.3s):  0.057 ---- 0.058 ---- 0.23 ----   4\n",
      "INFO:pykeen.utilities.train_utils:Epoch  14 / 1000 (0.3s):  0.056 ---- 0.053 ---- 0.23 ----   5\n",
      "DEBUG:pykeen.utilities.evaluation_utils.metrics_computations:Evaluation took 3.61s seconds\n",
      "DEBUG:pykeen.utilities.train_utils:\n",
      "current metric: 0.23423244878000085  ---- rank/hits@10: (0.1779733556464367, 0.3425)\n",
      "DEBUG:pykeen.utilities.train_utils:Saving the following model to disk:\n",
      "INFO:pykeen.utilities.train_utils:Epoch  15 / 1000 (0.3s):  0.054 ---- 0.049 ---- 0.23 ----   1\n",
      "INFO:pykeen.utilities.train_utils:Epoch  16 / 1000 (0.3s):  0.053 ---- 0.048 ---- 0.23 ----   2\n",
      "INFO:pykeen.utilities.train_utils:Epoch  17 / 1000 (0.2s):  0.052 ---- 0.048 ---- 0.23 ----   3\n",
      "INFO:pykeen.utilities.train_utils:Epoch  18 / 1000 (0.2s):  0.051 ---- 0.046 ---- 0.23 ----   4\n",
      "INFO:pykeen.utilities.train_utils:Epoch  19 / 1000 (0.2s):  0.051 ---- 0.047 ---- 0.23 ----   5\n",
      "DEBUG:pykeen.utilities.evaluation_utils.metrics_computations:Evaluation took 3.05s seconds\n",
      "DEBUG:pykeen.utilities.train_utils:\n",
      "current metric: 0.24938658742384284  ---- rank/hits@10: (0.18500366236212007, 0.3825)\n",
      "DEBUG:pykeen.utilities.train_utils:Saving the following model to disk:\n",
      "INFO:pykeen.utilities.train_utils:Epoch  20 / 1000 (0.3s):  0.049 ---- 0.052 ---- 0.25 ----   1\n",
      "INFO:pykeen.utilities.train_utils:Epoch  21 / 1000 (0.3s):  0.049 ---- 0.049 ---- 0.25 ----   2\n",
      "INFO:pykeen.utilities.train_utils:Epoch  22 / 1000 (0.2s):  0.048 ---- 0.047 ---- 0.25 ----   3\n",
      "INFO:pykeen.utilities.train_utils:Epoch  23 / 1000 (0.3s):  0.047 ---- 0.044 ---- 0.25 ----   4\n",
      "INFO:pykeen.utilities.train_utils:Epoch  24 / 1000 (0.3s):  0.047 ---- 0.045 ---- 0.25 ----   5\n",
      "DEBUG:pykeen.utilities.evaluation_utils.metrics_computations:Evaluation took 3.36s seconds\n",
      "DEBUG:pykeen.utilities.train_utils:\n",
      "current metric: 0.2309431099368023  ---- rank/hits@10: (0.16999968974264984, 0.36)\n",
      "INFO:pykeen.utilities.train_utils:Epoch  25 / 1000 (0.2s):  0.046 ---- 0.045 ---- 0.23 ----   6\n",
      "INFO:pykeen.utilities.train_utils:Epoch  26 / 1000 (0.3s):  0.046 ---- 0.050 ---- 0.23 ----   7\n",
      "INFO:pykeen.utilities.train_utils:Epoch  27 / 1000 (0.2s):  0.045 ---- 0.047 ---- 0.23 ----   8\n",
      "INFO:pykeen.utilities.train_utils:Epoch  28 / 1000 (0.2s):  0.045 ---- 0.048 ---- 0.23 ----   9\n",
      "INFO:pykeen.utilities.train_utils:Epoch  29 / 1000 (0.2s):  0.044 ---- 0.047 ---- 0.23 ----  10\n",
      "DEBUG:pykeen.utilities.evaluation_utils.metrics_computations:Evaluation took 3.47s seconds\n",
      "DEBUG:pykeen.utilities.train_utils:\n",
      "current metric: 0.24728222429024269  ---- rank/hits@10: (0.18445903166626618, 0.375)\n",
      "INFO:pykeen.utilities.train_utils:Epoch  30 / 1000 (0.3s):  0.044 ---- 0.048 ---- 0.25 ----  11\n",
      "INFO:pykeen.utilities.train_utils:Epoch  31 / 1000 (0.3s):  0.044 ---- 0.048 ---- 0.25 ----  12\n",
      "INFO:pykeen.utilities.train_utils:Epoch  32 / 1000 (0.3s):  0.043 ---- 0.048 ---- 0.25 ----  13\n",
      "INFO:pykeen.utilities.train_utils:Epoch  33 / 1000 (0.3s):  0.043 ---- 0.048 ---- 0.25 ----  14\n",
      "INFO:pykeen.utilities.train_utils:Epoch  34 / 1000 (0.2s):  0.043 ---- 0.047 ---- 0.25 ----  15\n",
      "DEBUG:pykeen.utilities.evaluation_utils.metrics_computations:Evaluation took 3.30s seconds\n",
      "DEBUG:pykeen.utilities.train_utils:\n",
      "current metric: 0.23594569481096464  ---- rank/hits@10: (0.17731605168264267, 0.3525)\n",
      "INFO:pykeen.utilities.train_utils:Epoch  35 / 1000 (0.3s):  0.042 ---- 0.041 ---- 0.24 ----  16\n",
      "INFO:pykeen.utilities.train_utils:Epoch  36 / 1000 (0.3s):  0.042 ---- 0.047 ---- 0.24 ----  17\n",
      "INFO:pykeen.utilities.train_utils:Epoch  37 / 1000 (0.4s):  0.041 ---- 0.047 ---- 0.24 ----  18\n",
      "INFO:pykeen.utilities.train_utils:Epoch  38 / 1000 (0.4s):  0.041 ---- 0.050 ---- 0.24 ----  19\n",
      "INFO:pykeen.utilities.train_utils:Epoch  39 / 1000 (0.2s):  0.041 ---- 0.046 ---- 0.24 ----  20\n",
      "DEBUG:pykeen.utilities.evaluation_utils.metrics_computations:Evaluation took 3.44s seconds\n",
      "DEBUG:pykeen.utilities.train_utils:\n",
      "current metric: 0.25409641457026094  ---- rank/hits@10: (0.18902223636020068, 0.3875)\n",
      "DEBUG:pykeen.utilities.train_utils:Saving the following model to disk:\n",
      "INFO:pykeen.utilities.train_utils:Epoch  40 / 1000 (0.3s):  0.041 ---- 0.044 ---- 0.25 ----   1\n",
      "INFO:pykeen.utilities.train_utils:Epoch  41 / 1000 (0.3s):  0.041 ---- 0.043 ---- 0.25 ----   2\n",
      "INFO:pykeen.utilities.train_utils:Epoch  42 / 1000 (0.2s):  0.040 ---- 0.043 ---- 0.25 ----   3\n",
      "INFO:pykeen.utilities.train_utils:Epoch  43 / 1000 (0.3s):  0.040 ---- 0.046 ---- 0.25 ----   4\n",
      "INFO:pykeen.utilities.train_utils:Epoch  44 / 1000 (0.3s):  0.040 ---- 0.040 ---- 0.25 ----   5\n",
      "DEBUG:pykeen.utilities.evaluation_utils.metrics_computations:Evaluation took 3.23s seconds\n",
      "DEBUG:pykeen.utilities.train_utils:\n",
      "current metric: 0.25429920779218673  ---- rank/hits@10: (0.18984883575772904, 0.385)\n",
      "DEBUG:pykeen.utilities.train_utils:Saving the following model to disk:\n",
      "INFO:pykeen.utilities.train_utils:Epoch  45 / 1000 (0.2s):  0.040 ---- 0.043 ---- 0.25 ----   1\n",
      "INFO:pykeen.utilities.train_utils:Epoch  46 / 1000 (0.3s):  0.040 ---- 0.042 ---- 0.25 ----   2\n",
      "INFO:pykeen.utilities.train_utils:Epoch  47 / 1000 (0.3s):  0.039 ---- 0.042 ---- 0.25 ----   3\n",
      "INFO:pykeen.utilities.train_utils:Epoch  48 / 1000 (0.3s):  0.039 ---- 0.044 ---- 0.25 ----   4\n",
      "INFO:pykeen.utilities.train_utils:Epoch  49 / 1000 (0.2s):  0.039 ---- 0.043 ---- 0.25 ----   5\n",
      "DEBUG:pykeen.utilities.evaluation_utils.metrics_computations:Evaluation took 3.20s seconds\n",
      "DEBUG:pykeen.utilities.train_utils:\n",
      "current metric: 0.2616820742053491  ---- rank/hits@10: (0.1956481396228245, 0.395)\n",
      "DEBUG:pykeen.utilities.train_utils:Saving the following model to disk:\n",
      "INFO:pykeen.utilities.train_utils:Epoch  50 / 1000 (0.2s):  0.039 ---- 0.040 ---- 0.26 ----   1\n",
      "INFO:pykeen.utilities.train_utils:Epoch  51 / 1000 (0.3s):  0.038 ---- 0.040 ---- 0.26 ----   2\n",
      "INFO:pykeen.utilities.train_utils:Epoch  52 / 1000 (0.3s):  0.038 ---- 0.043 ---- 0.26 ----   3\n",
      "INFO:pykeen.utilities.train_utils:Epoch  53 / 1000 (0.3s):  0.039 ---- 0.047 ---- 0.26 ----   4\n",
      "INFO:pykeen.utilities.train_utils:Epoch  54 / 1000 (0.3s):  0.038 ---- 0.048 ---- 0.26 ----   5\n"
     ]
    },
    {
     "name": "stderr",
     "output_type": "stream",
     "text": [
      "DEBUG:pykeen.utilities.evaluation_utils.metrics_computations:Evaluation took 3.48s seconds\n",
      "DEBUG:pykeen.utilities.train_utils:\n",
      "current metric: 0.27091556119369403  ---- rank/hits@10: (0.21126608531934343, 0.3775)\n",
      "DEBUG:pykeen.utilities.train_utils:Saving the following model to disk:\n",
      "INFO:pykeen.utilities.train_utils:Epoch  55 / 1000 (0.4s):  0.038 ---- 0.046 ---- 0.27 ----   1\n",
      "INFO:pykeen.utilities.train_utils:Epoch  56 / 1000 (0.4s):  0.038 ---- 0.046 ---- 0.27 ----   2\n",
      "INFO:pykeen.utilities.train_utils:Epoch  57 / 1000 (0.3s):  0.038 ---- 0.042 ---- 0.27 ----   3\n",
      "INFO:pykeen.utilities.train_utils:Epoch  58 / 1000 (0.3s):  0.038 ---- 0.043 ---- 0.27 ----   4\n",
      "INFO:pykeen.utilities.train_utils:Epoch  59 / 1000 (0.3s):  0.037 ---- 0.040 ---- 0.27 ----   5\n",
      "DEBUG:pykeen.utilities.evaluation_utils.metrics_computations:Evaluation took 3.32s seconds\n",
      "DEBUG:pykeen.utilities.train_utils:\n",
      "current metric: 0.2799480676769086  ---- rank/hits@10: (0.2160546343349427, 0.3975)\n",
      "DEBUG:pykeen.utilities.train_utils:Saving the following model to disk:\n",
      "INFO:pykeen.utilities.train_utils:Epoch  60 / 1000 (0.3s):  0.037 ---- 0.044 ---- 0.28 ----   1\n",
      "INFO:pykeen.utilities.train_utils:Epoch  61 / 1000 (0.3s):  0.037 ---- 0.040 ---- 0.28 ----   2\n",
      "INFO:pykeen.utilities.train_utils:Epoch  62 / 1000 (0.3s):  0.037 ---- 0.041 ---- 0.28 ----   3\n",
      "DEBUG:pykeen.utilities.evaluation_utils.metrics_computations:Evaluation took 3.31s seconds\n",
      "DEBUG:pykeen.utilities.train_utils:\n",
      "current metric: 0.28141237433014604  ---- rank/hits@10: (0.2185619198147087, 0.395)\n",
      "DEBUG:pykeen.utilities.train_utils:Saving the following model to disk:\n",
      "INFO:pykeen.utilities.train_utils:Epoch  63 / 1000 (0.3s):  0.037 ---- 0.039 ---- 0.28 ----   1\n",
      "INFO:pykeen.utilities.train_utils:Epoch  64 / 1000 (0.3s):  0.037 ---- 0.039 ---- 0.28 ----   2\n",
      "DEBUG:pykeen.utilities.evaluation_utils.metrics_computations:Evaluation took 3.13s seconds\n",
      "DEBUG:pykeen.utilities.train_utils:\n",
      "current metric: 0.2729300443410073  ---- rank/hits@10: (0.20991722365932516, 0.39)\n",
      "INFO:pykeen.utilities.train_utils:Epoch  65 / 1000 (0.3s):  0.037 ---- 0.036 ---- 0.27 ----   3\n",
      "DEBUG:pykeen.utilities.evaluation_utils.metrics_computations:Evaluation took 3.14s seconds\n",
      "DEBUG:pykeen.utilities.train_utils:\n",
      "current metric: 0.2801750272685589  ---- rank/hits@10: (0.21147209036146247, 0.415)\n",
      "INFO:pykeen.utilities.train_utils:Epoch  66 / 1000 (0.3s):  0.037 ---- 0.034 ---- 0.28 ----   4\n",
      "DEBUG:pykeen.utilities.evaluation_utils.metrics_computations:Evaluation took 3.21s seconds\n",
      "DEBUG:pykeen.utilities.train_utils:\n",
      "current metric: 0.2748196583638029  ---- rank/hits@10: (0.20731781990443574, 0.4075)\n",
      "INFO:pykeen.utilities.train_utils:Epoch  67 / 1000 (0.3s):  0.037 ---- 0.033 ---- 0.27 ----   5\n",
      "DEBUG:pykeen.utilities.evaluation_utils.metrics_computations:Evaluation took 3.10s seconds\n",
      "DEBUG:pykeen.utilities.train_utils:\n",
      "current metric: 0.2730340808725063  ---- rank/hits@10: (0.20529222231291797, 0.4075)\n",
      "INFO:pykeen.utilities.train_utils:Epoch  68 / 1000 (0.3s):  0.037 ---- 0.033 ---- 0.27 ----   6\n",
      "INFO:pykeen.utilities.train_utils:Epoch  69 / 1000 (0.3s):  0.036 ---- 0.035 ---- 0.27 ----   7\n"
     ]
    }
   ],
   "source": [
    "# my\n",
    "results = pykeen.run(\n",
    "    config=config,\n",
    "    output_directory=output_directory,\n",
    ")"
   ]
  },
  {
   "cell_type": "markdown",
   "metadata": {},
   "source": [
    "Check result entries:"
   ]
  },
  {
   "cell_type": "code",
   "execution_count": 15,
   "metadata": {
    "ExecuteTime": {
     "end_time": "2019-07-08T14:47:12.881352Z",
     "start_time": "2019-07-08T14:47:12.865729Z"
    }
   },
   "outputs": [
    {
     "data": {
      "text/plain": [
       "odict_keys(['trained_model', 'losses', 'validation_losses', 'metric_per_epoch', 'entity_to_embedding', 'relation_to_embedding', 'eval_summary', 'entity_to_id', 'relation_to_id', 'final_configuration', 'search_summary'])"
      ]
     },
     "execution_count": 15,
     "metadata": {},
     "output_type": "execute_result"
    }
   ],
   "source": [
    "results.results.keys()"
   ]
  },
  {
   "cell_type": "markdown",
   "metadata": {},
   "source": [
    "Visualize loss values:"
   ]
  },
  {
   "cell_type": "code",
   "execution_count": 16,
   "metadata": {
    "ExecuteTime": {
     "end_time": "2019-07-08T14:47:13.963309Z",
     "start_time": "2019-07-08T14:47:12.881352Z"
    }
   },
   "outputs": [
    {
     "data": {
      "image/png": "[encoded data removed]",
      "text/plain": [
       "<matplotlib.figure.Figure at 0x7f09f90c7cf8>"
      ]
     },
     "metadata": {
      "needs_background": "light"
     },
     "output_type": "display_data"
    }
   ],
   "source": [
    "fig, (ax1, ax2) = plt.subplots(1,2, figsize = (10,5), sharey=True)\n",
    "losses = results.results['losses']\n",
    "epochs = np.arange(len(losses))\n",
    "ax1.set_title('Loss Per Epoch')\n",
    "plt.xlabel('epoch')\n",
    "plt.ylabel('loss')\n",
    "ax1.plot(epochs, losses) #plt.subplot(122)\n",
    "val_losses = results.results['validation_losses']\n",
    "epochs = np.arange(len(val_losses))\n",
    "plt.title(r'Validation Loss Per Epoch')\n",
    "plt.xlabel('epoch')\n",
    "plt.ylabel('loss')\n",
    "ax2.plot(epochs, val_losses)\n",
    "plt.show()\n"
   ]
  },
  {
   "cell_type": "markdown",
   "metadata": {
    "ExecuteTime": {
     "end_time": "2019-07-07T22:28:39.627660Z",
     "start_time": "2019-07-07T22:28:39.327816Z"
    }
   },
   "source": [
    "from sklearn.preprocessing import minmax_scale\n",
    "metric = minmax_scale(results.results['metric_per_epoch'], feature_range=(0,1))\n",
    "epochs = np.arange(len(losses)) * 15\n",
    "plt.xlabel('epoch')\n",
    "plt.ylabel('loss')\n",
    "plt.plot(epochs, metric)\n",
    "\n",
    "val_losses = minmax_scale(results.results['validation_losses'], feature_range=(0,1))\n",
    "epochs = np.arange(len(val_losses))\n",
    "plt.title(r'Early stopping evaluation')\n",
    "plt.xlabel('epoch')\n",
    "plt.ylabel('loss')\n",
    "plt.plot(epochs, val_losses)\n",
    "\n",
    "plt.legend([\"metric\", \"val_loss\"])\n",
    "plt.show()"
   ]
  },
  {
   "cell_type": "code",
   "execution_count": 17,
   "metadata": {
    "ExecuteTime": {
     "end_time": "2019-07-08T14:47:13.973282Z",
     "start_time": "2019-07-08T14:47:13.965304Z"
    }
   },
   "outputs": [
    {
     "data": {
      "text/plain": [
       "{'mean_rank': None,\n",
       " 'hits@k': None,\n",
       " 'precision': None,\n",
       " 'recall': None,\n",
       " 'accuracy': None,\n",
       " 'f1_score': None}"
      ]
     },
     "execution_count": 17,
     "metadata": {},
     "output_type": "execute_result"
    }
   ],
   "source": [
    "results.results['eval_summary']"
   ]
  },
  {
   "cell_type": "markdown",
   "metadata": {},
   "source": [
    "## Load and evaluate"
   ]
  },
  {
   "cell_type": "code",
   "execution_count": 35,
   "metadata": {
    "ExecuteTime": {
     "end_time": "2019-07-08T14:47:13.987247Z",
     "start_time": "2019-07-08T14:47:13.976273Z"
    }
   },
   "outputs": [],
   "source": [
    "import torch\n",
    "import json\n",
    "import os\n",
    "import pykeen.constants as pkc\n",
    "from pykeen.kge_models import get_kge_model\n",
    "from pykeen.utilities.pipeline import Pipeline"
   ]
  },
  {
   "cell_type": "code",
   "execution_count": 36,
   "metadata": {
    "ExecuteTime": {
     "end_time": "2019-07-08T14:47:14.016167Z",
     "start_time": "2019-07-08T14:47:14.001207Z"
    }
   },
   "outputs": [
    {
     "data": {
      "text/plain": [
       "['test',\n",
       " 'region_FB15k_dim50_sphere_rad0_regL0_lr01_loss-MRL_margin0.5_negfactor1_epochs5_esmetric-custom_final',\n",
       " 'region_FB15k_20191023_dim50_sphere_rad0_regL0_lr001_loss-BPR_margin0.5_negfactor1_epochs1000_esmetric-custom_final',\n",
       " 'region_FB15k_20191023_dim50_sphere_rad0_regL0_lr001_loss-BPR_margin0.5_negfactor1_epochs500_esmetric-custom_final',\n",
       " 'region_FB15k_dim50_sphere_rad0_regL0_lr01_loss-MRL_margin0.5_negfactor1_epochs500_esmetric-custom_final',\n",
       " 'region_FB15k_20191023_dim50_sphere_rad0_regL0_lr001_loss-MRL_margin0.5_negfactor1_epochs1000_esmetric-custom',\n",
       " '.directory',\n",
       " 'TransE_FB15k_20191023_dim50_lr001_margin1_epochs1000_bs8192_esmetric-custom_final',\n",
       " 'region_FB15k_20191023_dim50_sphere_rad0_regL0_lr001_loss-BPR_margin0.5_negfactor1_epochs1000_esmetric-custom',\n",
       " 'region_FB15k_dim50_sphere_rad0_regL0_lr01_loss-MRL_margin0.5_negfactor1_epochs500_esmetric-custom_bs-2048',\n",
       " 'reference masterarbeit',\n",
       " 'region_FB15k_dim50_sphere_rad0_regL0_lr01_loss-MRL_margin0.5_negfactor1_epochs500_esmetric-custom_bs-4096',\n",
       " 'transE_FB15K_dim50_retrained']"
      ]
     },
     "execution_count": 36,
     "metadata": {},
     "output_type": "execute_result"
    }
   ],
   "source": [
    "model_dir = '../../../models/'\n",
    "models = os.listdir(model_dir)\n",
    "models"
   ]
  },
  {
   "cell_type": "code",
   "execution_count": 20,
   "metadata": {
    "ExecuteTime": {
     "end_time": "2019-07-08T14:47:14.073014Z",
     "start_time": "2019-07-08T14:47:14.022151Z"
    }
   },
   "outputs": [],
   "source": [
    "model_path = ''\n",
    "if model_path:\n",
    "    input_directory = os.path.join(model_dir, model_path)\n",
    "    results = {\n",
    "    'losses': json.load(open(os.path.join(input_directory, 'losses.json'))),\n",
    "    'validation_losses': json.load(open(os.path.join(input_directory, 'val_losses.json'))),\n",
    "    'entity_to_embedding': json.load(open(os.path.join(input_directory, 'entities_to_embeddings.json'))),\n",
    "    'relation_to_embedding': json.load(open(os.path.join(input_directory, 'relations_to_embeddings.json'))),\n",
    "    'final_configuration': json.load(open(os.path.join(input_directory, 'configuration.json'))),\n",
    "    'eval_summary': json.load(open(os.path.join(input_directory, 'evaluation_summary.json'))),\n",
    "    'entity_to_id': json.load(open(os.path.join(input_directory, 'entity_to_id.json'))),\n",
    "    'relation_to_id': json.load(open(os.path.join(input_directory, 'relation_to_id.json')))\n",
    "    }\n",
    "    # Initialize KG embedding model\n",
    "    config = results['final_configuration']\n",
    "    config['training_set_path'] = '../../../data/fb15k/train.tsv'\n",
    "    config['test_set_path'] = '../../../data/fb15k/valid.tsv'\n",
    "    config['neg_test_set_path'] = '../../../data/fb15k/valid_neg.tsv'\n",
    "    relation_to_id = results['relation_to_id']\n",
    "    entity_to_id = results['entity_to_id']\n",
    "else:\n",
    "    # Initialize KG embedding model\n",
    "    input_directory = output_directory\n",
    "    config[pkc.NUM_ENTITIES] = 14951\n",
    "    config[pkc.NUM_RELATIONS] = 1345\n",
    "    config[pkc.PREFERRED_DEVICE] = 'gpu1'\n",
    "    relation_to_id = json.load(open(os.path.join(input_directory, 'relation_to_id.json'),'r'))\n",
    "    entity_to_id = json.load(open(os.path.join(input_directory, 'entity_to_id.json'),'r'))"
   ]
  },
  {
   "cell_type": "markdown",
   "metadata": {},
   "source": [
    "Get evaluation results:\n",
    " * Mean rank\n",
    " * Hits@k, k $\\in$ {1,3,5,10} "
   ]
  },
  {
   "cell_type": "code",
   "execution_count": 21,
   "metadata": {
    "ExecuteTime": {
     "end_time": "2019-07-08T14:47:14.295423Z",
     "start_time": "2019-07-08T14:47:14.077004Z"
    }
   },
   "outputs": [
    {
     "data": {
      "text/plain": [
       "pykeen.kge_models.trans_e.TransE"
      ]
     },
     "execution_count": 21,
     "metadata": {},
     "output_type": "execute_result"
    }
   ],
   "source": [
    "pipeline = Pipeline(config)\n",
    "config[pkc.PREFERRED_DEVICE] = pipeline.device_name\n",
    "if config['random_seed'] is not None:\n",
    "    torch.manual_seed(config['random_seed'])\n",
    "pipeline.entity_label_to_id = entity_to_id\n",
    "pipeline.relation_label_to_id = relation_to_id\n",
    "    \n",
    "model: torch.nn.Module = get_kge_model(config=config)\n",
    "model.load_state_dict(torch.load(os.path.join(input_directory, 'best_model.pkl')))\n",
    "\n",
    "#results['trained_model'] = model \n",
    "type(model)"
   ]
  },
  {
   "cell_type": "code",
   "execution_count": 22,
   "metadata": {
    "ExecuteTime": {
     "end_time": "2019-07-08T14:47:14.307389Z",
     "start_time": "2019-07-08T14:47:14.299410Z"
    }
   },
   "outputs": [],
   "source": [
    "metrics =[pkc.MEAN_RANK, pkc.HITS_AT_K, pkc.TRIPLE_PREDICTION] #  [pkc.MEAN_RANK, pkc.HITS_AT_K, pkc.TRIPLE_PREDICTION]"
   ]
  },
  {
   "cell_type": "markdown",
   "metadata": {},
   "source": [
    "#### Evaluate RelationalTriple"
   ]
  },
  {
   "cell_type": "code",
   "execution_count": 23,
   "metadata": {
    "ExecuteTime": {
     "end_time": "2019-07-08T15:45:24.400175Z",
     "start_time": "2019-07-08T14:57:29.730191Z"
    }
   },
   "outputs": [
    {
     "name": "stderr",
     "output_type": "stream",
     "text": [
      "INFO:pykeen.utilities.pipeline:-------------Start Evaluation-------------\n",
      "DEBUG:pykeen.utilities.evaluation_utils.metrics_computations:Evaluation took 185.79s seconds\n",
      "INFO:pykeen.utilities.pipeline:MetricResults(mean_rank=0.2155433599275956, hits_at_k={1: 0.11919, 3: 0.23889, 5: 0.3092, 10: 0.41485}, precision=None, recall=None, accuracy=None, fscore=None)\n"
     ]
    }
   ],
   "source": [
    "val_results = pipeline.evaluate(\n",
    "    model, \n",
    "    '../../../data/fb15k/valid.tsv', \n",
    "    neg_test_path = '../../../data/fb15k/valid_neg.tsv', \n",
    "    metrics=metrics,\n",
    "    threshold_search=True,\n",
    "    single_threshold=False\n",
    ")"
   ]
  },
  {
   "cell_type": "code",
   "execution_count": 24,
   "metadata": {
    "ExecuteTime": {
     "end_time": "2019-07-08T15:46:03.427723Z",
     "start_time": "2019-07-08T15:45:24.411150Z"
    }
   },
   "outputs": [
    {
     "name": "stderr",
     "output_type": "stream",
     "text": [
      "INFO:pykeen.utilities.pipeline:-------------Start Evaluation-------------\n",
      "DEBUG:pykeen.utilities.evaluation_utils.metrics_computations:Evaluation took 0.70s seconds\n",
      "INFO:pykeen.utilities.pipeline:MetricResults(mean_rank=None, hits_at_k=None, precision=None, recall=None, accuracy=None, fscore=None)\n"
     ]
    }
   ],
   "source": [
    "val_results_ = pipeline.evaluate(\n",
    "    model, \n",
    "    '../../../data/fb15k/valid.tsv', \n",
    "    neg_test_path = '../../../data/fb15k/valid_neg.tsv', \n",
    "    metrics=['prediction'],\n",
    "    threshold_search=True,\n",
    "    single_threshold=True\n",
    ")"
   ]
  },
  {
   "cell_type": "code",
   "execution_count": 25,
   "metadata": {
    "ExecuteTime": {
     "end_time": "2019-07-08T14:57:22.467823Z",
     "start_time": "2019-07-08T13:13:20.535Z"
    }
   },
   "outputs": [
    {
     "data": {
      "text/plain": [
       "{'mean_rank': 0.2155433599275956,\n",
       " 'hits@k': {1: 0.11919, 3: 0.23889, 5: 0.3092, 10: 0.41485},\n",
       " 'precision': None,\n",
       " 'recall': None,\n",
       " 'accuracy': None,\n",
       " 'f1_score': None}"
      ]
     },
     "execution_count": 25,
     "metadata": {},
     "output_type": "execute_result"
    }
   ],
   "source": [
    "val_results['eval_summary']"
   ]
  },
  {
   "cell_type": "code",
   "execution_count": 26,
   "metadata": {
    "ExecuteTime": {
     "end_time": "2019-07-08T14:57:22.469818Z",
     "start_time": "2019-07-08T13:13:20.537Z"
    }
   },
   "outputs": [
    {
     "data": {
      "text/plain": [
       "[8.68833890914917,\n",
       " 8.68833890914917,\n",
       " 8.68833890914917,\n",
       " 8.68833890914917,\n",
       " 8.68833890914917,\n",
       " 8.68833890914917,\n",
       " 8.68833890914917,\n",
       " 8.68833890914917,\n",
       " 8.68833890914917,\n",
       " 8.68833890914917,\n",
       " 8.68833890914917,\n",
       " 8.68833890914917,\n",
       " 8.68833890914917,\n",
       " 8.68833890914917,\n",
       " 8.68833890914917,\n",
       " 8.68833890914917,\n",
       " 8.68833890914917,\n",
       " 8.68833890914917,\n",
       " 8.68833890914917,\n",
       " 8.68833890914917,\n",
       " 8.68833890914917,\n",
       " 8.68833890914917,\n",
       " 8.68833890914917,\n",
       " 8.68833890914917,\n",
       " 8.68833890914917,\n",
       " 8.68833890914917,\n",
       " 8.68833890914917,\n",
       " 8.68833890914917,\n",
       " 8.68833890914917,\n",
       " 8.68833890914917,\n",
       " 8.68833890914917,\n",
       " 8.68833890914917,\n",
       " 8.68833890914917,\n",
       " 8.68833890914917,\n",
       " 8.68833890914917,\n",
       " 8.68833890914917,\n",
       " 8.68833890914917,\n",
       " 8.68833890914917,\n",
       " 8.68833890914917,\n",
       " 8.68833890914917,\n",
       " 8.68833890914917,\n",
       " 8.68833890914917,\n",
       " 8.68833890914917,\n",
       " 8.68833890914917,\n",
       " 8.68833890914917,\n",
       " 8.68833890914917,\n",
       " 8.68833890914917,\n",
       " 8.68833890914917,\n",
       " 8.68833890914917,\n",
       " 8.68833890914917,\n",
       " 8.68833890914917,\n",
       " 8.68833890914917,\n",
       " 8.68833890914917,\n",
       " 8.68833890914917,\n",
       " 8.68833890914917,\n",
       " 8.68833890914917,\n",
       " 8.68833890914917,\n",
       " 8.68833890914917,\n",
       " 8.68833890914917,\n",
       " 8.68833890914917,\n",
       " 8.68833890914917,\n",
       " 8.68833890914917,\n",
       " 8.68833890914917,\n",
       " 8.68833890914917,\n",
       " 8.68833890914917,\n",
       " 8.68833890914917,\n",
       " 8.68833890914917,\n",
       " 8.68833890914917,\n",
       " 8.68833890914917,\n",
       " 8.68833890914917,\n",
       " 8.68833890914917,\n",
       " 8.68833890914917,\n",
       " 8.68833890914917,\n",
       " 8.68833890914917,\n",
       " 8.68833890914917,\n",
       " 8.68833890914917,\n",
       " 8.68833890914917,\n",
       " 8.68833890914917,\n",
       " 8.68833890914917,\n",
       " 8.68833890914917,\n",
       " 8.68833890914917,\n",
       " 8.68833890914917,\n",
       " 8.68833890914917,\n",
       " 8.68833890914917,\n",
       " 8.68833890914917,\n",
       " 8.68833890914917,\n",
       " 8.68833890914917,\n",
       " 8.68833890914917,\n",
       " 8.68833890914917,\n",
       " 8.68833890914917,\n",
       " 8.68833890914917,\n",
       " 8.68833890914917,\n",
       " 8.68833890914917,\n",
       " 8.68833890914917,\n",
       " 8.68833890914917,\n",
       " 8.68833890914917,\n",
       " 8.68833890914917,\n",
       " 8.68833890914917,\n",
       " 8.68833890914917,\n",
       " 8.68833890914917,\n",
       " 8.68833890914917,\n",
       " 8.68833890914917,\n",
       " 8.68833890914917,\n",
       " 8.68833890914917,\n",
       " 8.68833890914917,\n",
       " 8.68833890914917,\n",
       " 8.68833890914917,\n",
       " 8.68833890914917,\n",
       " 8.68833890914917,\n",
       " 8.68833890914917,\n",
       " 8.68833890914917,\n",
       " 8.68833890914917,\n",
       " 8.68833890914917,\n",
       " 8.68833890914917,\n",
       " 8.68833890914917,\n",
       " 8.68833890914917,\n",
       " 8.68833890914917,\n",
       " 8.68833890914917,\n",
       " 8.68833890914917,\n",
       " 8.68833890914917,\n",
       " 8.68833890914917,\n",
       " 8.68833890914917,\n",
       " 8.68833890914917,\n",
       " 8.68833890914917,\n",
       " 8.68833890914917,\n",
       " 8.68833890914917,\n",
       " 8.68833890914917,\n",
       " 8.68833890914917,\n",
       " 8.68833890914917,\n",
       " 8.68833890914917,\n",
       " 8.68833890914917,\n",
       " 8.68833890914917,\n",
       " 8.68833890914917,\n",
       " 8.68833890914917,\n",
       " 8.68833890914917,\n",
       " 8.68833890914917,\n",
       " 8.68833890914917,\n",
       " 8.68833890914917,\n",
       " 8.68833890914917,\n",
       " 8.68833890914917,\n",
       " 8.68833890914917,\n",
       " 8.68833890914917,\n",
       " 8.68833890914917,\n",
       " 8.68833890914917,\n",
       " 8.68833890914917,\n",
       " 8.68833890914917,\n",
       " 8.68833890914917,\n",
       " 8.68833890914917,\n",
       " 8.68833890914917,\n",
       " 8.68833890914917,\n",
       " 8.68833890914917,\n",
       " 8.68833890914917,\n",
       " 8.68833890914917,\n",
       " 8.68833890914917,\n",
       " 8.68833890914917,\n",
       " 8.68833890914917,\n",
       " 8.68833890914917,\n",
       " 8.68833890914917,\n",
       " 8.68833890914917,\n",
       " 8.68833890914917,\n",
       " 8.68833890914917,\n",
       " 8.68833890914917,\n",
       " 8.68833890914917,\n",
       " 8.68833890914917,\n",
       " 8.68833890914917,\n",
       " 8.68833890914917,\n",
       " 8.68833890914917,\n",
       " 8.68833890914917,\n",
       " 8.68833890914917,\n",
       " 8.68833890914917,\n",
       " 8.68833890914917,\n",
       " 8.68833890914917,\n",
       " 8.68833890914917,\n",
       " 8.68833890914917,\n",
       " 8.68833890914917,\n",
       " 8.68833890914917,\n",
       " 8.68833890914917,\n",
       " 8.68833890914917,\n",
       " 8.68833890914917,\n",
       " 8.68833890914917,\n",
       " 8.68833890914917,\n",
       " 8.68833890914917,\n",
       " 8.68833890914917,\n",
       " 8.68833890914917,\n",
       " 8.68833890914917,\n",
       " 8.68833890914917,\n",
       " 8.68833890914917,\n",
       " 8.68833890914917,\n",
       " 8.68833890914917,\n",
       " 8.68833890914917,\n",
       " 8.68833890914917,\n",
       " 8.68833890914917,\n",
       " 8.68833890914917,\n",
       " 8.68833890914917,\n",
       " 8.68833890914917,\n",
       " 8.68833890914917,\n",
       " 8.68833890914917,\n",
       " 8.68833890914917,\n",
       " 8.68833890914917,\n",
       " 8.68833890914917,\n",
       " 8.68833890914917,\n",
       " 8.68833890914917,\n",
       " 8.68833890914917,\n",
       " 8.68833890914917,\n",
       " 8.68833890914917,\n",
       " 8.68833890914917,\n",
       " 8.68833890914917,\n",
       " 8.68833890914917,\n",
       " 8.68833890914917,\n",
       " 8.68833890914917,\n",
       " 8.68833890914917,\n",
       " 8.68833890914917,\n",
       " 8.68833890914917,\n",
       " 8.68833890914917,\n",
       " 8.68833890914917,\n",
       " 8.68833890914917,\n",
       " 8.68833890914917,\n",
       " 8.68833890914917,\n",
       " 8.68833890914917,\n",
       " 8.68833890914917,\n",
       " 8.68833890914917,\n",
       " 8.68833890914917,\n",
       " 8.68833890914917,\n",
       " 8.68833890914917,\n",
       " 8.68833890914917,\n",
       " 8.68833890914917,\n",
       " 8.68833890914917,\n",
       " 8.68833890914917,\n",
       " 8.68833890914917,\n",
       " 8.68833890914917,\n",
       " 8.68833890914917,\n",
       " 8.68833890914917,\n",
       " 8.68833890914917,\n",
       " 8.68833890914917,\n",
       " 8.68833890914917,\n",
       " 8.68833890914917,\n",
       " 8.68833890914917,\n",
       " 8.68833890914917,\n",
       " 8.68833890914917,\n",
       " 8.68833890914917,\n",
       " 8.68833890914917,\n",
       " 8.68833890914917,\n",
       " 8.68833890914917,\n",
       " 8.68833890914917,\n",
       " 8.68833890914917,\n",
       " 8.68833890914917,\n",
       " 8.68833890914917,\n",
       " 8.68833890914917,\n",
       " 8.68833890914917,\n",
       " 8.68833890914917,\n",
       " 8.68833890914917,\n",
       " 8.68833890914917,\n",
       " 8.68833890914917,\n",
       " 8.68833890914917,\n",
       " 8.68833890914917,\n",
       " 8.68833890914917,\n",
       " 8.68833890914917,\n",
       " 8.68833890914917,\n",
       " 8.68833890914917,\n",
       " 8.68833890914917,\n",
       " 8.68833890914917,\n",
       " 8.68833890914917,\n",
       " 8.68833890914917,\n",
       " 8.68833890914917,\n",
       " 8.68833890914917,\n",
       " 8.68833890914917,\n",
       " 8.68833890914917,\n",
       " 8.68833890914917,\n",
       " 8.68833890914917,\n",
       " 8.68833890914917,\n",
       " 8.68833890914917,\n",
       " 8.68833890914917,\n",
       " 8.68833890914917,\n",
       " 8.68833890914917,\n",
       " 8.68833890914917,\n",
       " 8.68833890914917,\n",
       " 8.68833890914917,\n",
       " 8.68833890914917,\n",
       " 8.68833890914917,\n",
       " 8.68833890914917,\n",
       " 8.68833890914917,\n",
       " 8.68833890914917,\n",
       " 8.68833890914917,\n",
       " 8.68833890914917,\n",
       " 8.68833890914917,\n",
       " 8.68833890914917,\n",
       " 8.68833890914917,\n",
       " 8.68833890914917,\n",
       " 8.68833890914917,\n",
       " 8.68833890914917,\n",
       " 8.68833890914917,\n",
       " 8.68833890914917,\n",
       " 8.68833890914917,\n",
       " 8.68833890914917,\n",
       " 8.68833890914917,\n",
       " 8.68833890914917,\n",
       " 8.68833890914917,\n",
       " 8.68833890914917,\n",
       " 8.68833890914917,\n",
       " 8.68833890914917,\n",
       " 8.68833890914917,\n",
       " 8.68833890914917,\n",
       " 8.68833890914917,\n",
       " 8.68833890914917,\n",
       " 8.68833890914917,\n",
       " 8.68833890914917,\n",
       " 8.68833890914917,\n",
       " 8.68833890914917,\n",
       " 8.68833890914917,\n",
       " 8.68833890914917,\n",
       " 8.68833890914917,\n",
       " 8.68833890914917,\n",
       " 8.68833890914917,\n",
       " 8.68833890914917,\n",
       " 8.68833890914917,\n",
       " 8.68833890914917,\n",
       " 8.68833890914917,\n",
       " 8.68833890914917,\n",
       " 8.68833890914917,\n",
       " 8.68833890914917,\n",
       " 8.68833890914917,\n",
       " 8.68833890914917,\n",
       " 8.68833890914917,\n",
       " 8.68833890914917,\n",
       " 8.68833890914917,\n",
       " 8.68833890914917,\n",
       " 8.68833890914917,\n",
       " 8.68833890914917,\n",
       " 8.68833890914917,\n",
       " 8.68833890914917,\n",
       " 8.68833890914917,\n",
       " 8.68833890914917,\n",
       " 8.68833890914917,\n",
       " 8.68833890914917,\n",
       " 8.68833890914917,\n",
       " 8.68833890914917,\n",
       " 8.68833890914917,\n",
       " 8.68833890914917,\n",
       " 8.68833890914917,\n",
       " 8.68833890914917,\n",
       " 8.68833890914917,\n",
       " 8.68833890914917,\n",
       " 8.68833890914917,\n",
       " 8.68833890914917,\n",
       " 8.68833890914917,\n",
       " 8.68833890914917,\n",
       " 8.68833890914917,\n",
       " 8.68833890914917,\n",
       " 8.68833890914917,\n",
       " 8.68833890914917,\n",
       " 8.68833890914917,\n",
       " 8.68833890914917,\n",
       " 8.68833890914917,\n",
       " 8.68833890914917,\n",
       " 8.68833890914917,\n",
       " 8.68833890914917,\n",
       " 8.68833890914917,\n",
       " 8.68833890914917,\n",
       " 8.68833890914917,\n",
       " 8.68833890914917,\n",
       " 8.68833890914917,\n",
       " 8.68833890914917,\n",
       " 8.68833890914917,\n",
       " 8.68833890914917,\n",
       " 8.68833890914917,\n",
       " 8.68833890914917,\n",
       " 8.68833890914917,\n",
       " 8.68833890914917,\n",
       " 8.68833890914917,\n",
       " 8.68833890914917,\n",
       " 8.68833890914917,\n",
       " 8.68833890914917,\n",
       " 8.68833890914917,\n",
       " 8.68833890914917,\n",
       " 8.68833890914917,\n",
       " 8.68833890914917,\n",
       " 8.68833890914917,\n",
       " 8.68833890914917,\n",
       " 8.68833890914917,\n",
       " 8.68833890914917,\n",
       " 8.68833890914917,\n",
       " 8.68833890914917,\n",
       " 8.68833890914917,\n",
       " 8.68833890914917,\n",
       " 8.68833890914917,\n",
       " 8.68833890914917,\n",
       " 8.68833890914917,\n",
       " 8.68833890914917,\n",
       " 8.68833890914917,\n",
       " 8.68833890914917,\n",
       " 8.68833890914917,\n",
       " 8.68833890914917,\n",
       " 8.68833890914917,\n",
       " 8.68833890914917,\n",
       " 8.68833890914917,\n",
       " 8.68833890914917,\n",
       " 8.68833890914917,\n",
       " 8.68833890914917,\n",
       " 8.68833890914917,\n",
       " 8.68833890914917,\n",
       " 8.68833890914917,\n",
       " 8.68833890914917,\n",
       " 8.68833890914917,\n",
       " 8.68833890914917,\n",
       " 8.68833890914917,\n",
       " 8.68833890914917,\n",
       " 8.68833890914917,\n",
       " 8.68833890914917,\n",
       " 8.68833890914917,\n",
       " 8.68833890914917,\n",
       " 8.68833890914917,\n",
       " 8.68833890914917,\n",
       " 8.68833890914917,\n",
       " 8.68833890914917,\n",
       " 8.68833890914917,\n",
       " 8.68833890914917,\n",
       " 8.68833890914917,\n",
       " 8.68833890914917,\n",
       " 8.68833890914917,\n",
       " 8.68833890914917,\n",
       " 8.68833890914917,\n",
       " 8.68833890914917,\n",
       " 8.68833890914917,\n",
       " 8.68833890914917,\n",
       " 8.68833890914917,\n",
       " 8.68833890914917,\n",
       " 8.68833890914917,\n",
       " 8.68833890914917,\n",
       " 8.68833890914917,\n",
       " 8.68833890914917,\n",
       " 8.68833890914917,\n",
       " 8.68833890914917,\n",
       " 8.68833890914917,\n",
       " 8.68833890914917,\n",
       " 8.68833890914917,\n",
       " 8.68833890914917,\n",
       " 8.68833890914917,\n",
       " 8.68833890914917,\n",
       " 8.68833890914917,\n",
       " 8.68833890914917,\n",
       " 8.68833890914917,\n",
       " 8.68833890914917,\n",
       " 8.68833890914917,\n",
       " 8.68833890914917,\n",
       " 8.68833890914917,\n",
       " 8.68833890914917,\n",
       " 8.68833890914917,\n",
       " 8.68833890914917,\n",
       " 8.68833890914917,\n",
       " 8.68833890914917,\n",
       " 8.68833890914917,\n",
       " 8.68833890914917,\n",
       " 8.68833890914917,\n",
       " 8.68833890914917,\n",
       " 8.68833890914917,\n",
       " 8.68833890914917,\n",
       " 8.68833890914917,\n",
       " 8.68833890914917,\n",
       " 8.68833890914917,\n",
       " 8.68833890914917,\n",
       " 8.68833890914917,\n",
       " 8.68833890914917,\n",
       " 8.68833890914917,\n",
       " 8.68833890914917,\n",
       " 8.68833890914917,\n",
       " 8.68833890914917,\n",
       " 8.68833890914917,\n",
       " 8.68833890914917,\n",
       " 8.68833890914917,\n",
       " 8.68833890914917,\n",
       " 8.68833890914917,\n",
       " 8.68833890914917,\n",
       " 8.68833890914917,\n",
       " 8.68833890914917,\n",
       " 8.68833890914917,\n",
       " 8.68833890914917,\n",
       " 8.68833890914917,\n",
       " 8.68833890914917,\n",
       " 8.68833890914917,\n",
       " 8.68833890914917,\n",
       " 8.68833890914917,\n",
       " 8.68833890914917,\n",
       " 8.68833890914917,\n",
       " 8.68833890914917,\n",
       " 8.68833890914917,\n",
       " 8.68833890914917,\n",
       " 8.68833890914917,\n",
       " 8.68833890914917,\n",
       " 8.68833890914917,\n",
       " 8.68833890914917,\n",
       " 8.68833890914917,\n",
       " 8.68833890914917,\n",
       " 8.68833890914917,\n",
       " 8.68833890914917,\n",
       " 8.68833890914917,\n",
       " 8.68833890914917,\n",
       " 8.68833890914917,\n",
       " 8.68833890914917,\n",
       " 8.68833890914917,\n",
       " 8.68833890914917,\n",
       " 8.68833890914917,\n",
       " 8.68833890914917,\n",
       " 8.68833890914917,\n",
       " 8.68833890914917,\n",
       " 8.68833890914917,\n",
       " 8.68833890914917,\n",
       " 8.68833890914917,\n",
       " 8.68833890914917,\n",
       " 8.68833890914917,\n",
       " 8.68833890914917,\n",
       " 8.68833890914917,\n",
       " 8.68833890914917,\n",
       " 8.68833890914917,\n",
       " 8.68833890914917,\n",
       " 8.68833890914917,\n",
       " 8.68833890914917,\n",
       " 8.68833890914917,\n",
       " 8.68833890914917,\n",
       " 8.68833890914917,\n",
       " 8.68833890914917,\n",
       " 8.68833890914917,\n",
       " 8.68833890914917,\n",
       " 8.68833890914917,\n",
       " 8.68833890914917,\n",
       " 8.68833890914917,\n",
       " 8.68833890914917,\n",
       " 8.68833890914917,\n",
       " 8.68833890914917,\n",
       " 8.68833890914917,\n",
       " 8.68833890914917,\n",
       " 8.68833890914917,\n",
       " 8.68833890914917,\n",
       " 8.68833890914917,\n",
       " 8.68833890914917,\n",
       " 8.68833890914917,\n",
       " 8.68833890914917,\n",
       " 8.68833890914917,\n",
       " 8.68833890914917,\n",
       " 8.68833890914917,\n",
       " 8.68833890914917,\n",
       " 8.68833890914917,\n",
       " 8.68833890914917,\n",
       " 8.68833890914917,\n",
       " 8.68833890914917,\n",
       " 8.68833890914917,\n",
       " 8.68833890914917,\n",
       " 8.68833890914917,\n",
       " 8.68833890914917,\n",
       " 8.68833890914917,\n",
       " 8.68833890914917,\n",
       " 8.68833890914917,\n",
       " 8.68833890914917,\n",
       " 8.68833890914917,\n",
       " 8.68833890914917,\n",
       " 8.68833890914917,\n",
       " 8.68833890914917,\n",
       " 8.68833890914917,\n",
       " 8.68833890914917,\n",
       " 8.68833890914917,\n",
       " 8.68833890914917,\n",
       " 8.68833890914917,\n",
       " 8.68833890914917,\n",
       " 8.68833890914917,\n",
       " 8.68833890914917,\n",
       " 8.68833890914917,\n",
       " 8.68833890914917,\n",
       " 8.68833890914917,\n",
       " 8.68833890914917,\n",
       " 8.68833890914917,\n",
       " 8.68833890914917,\n",
       " 8.68833890914917,\n",
       " 8.68833890914917,\n",
       " 8.68833890914917,\n",
       " 8.68833890914917,\n",
       " 8.68833890914917,\n",
       " 8.68833890914917,\n",
       " 8.68833890914917,\n",
       " 8.68833890914917,\n",
       " 8.68833890914917,\n",
       " 8.68833890914917,\n",
       " 8.68833890914917,\n",
       " 8.68833890914917,\n",
       " 8.68833890914917,\n",
       " 8.68833890914917,\n",
       " 8.68833890914917,\n",
       " 8.68833890914917,\n",
       " 8.68833890914917,\n",
       " 8.68833890914917,\n",
       " 8.68833890914917,\n",
       " 8.68833890914917,\n",
       " 8.68833890914917,\n",
       " 8.68833890914917,\n",
       " 8.68833890914917,\n",
       " 8.68833890914917,\n",
       " 8.68833890914917,\n",
       " 8.68833890914917,\n",
       " 8.68833890914917,\n",
       " 8.68833890914917,\n",
       " 8.68833890914917,\n",
       " 8.68833890914917,\n",
       " 8.68833890914917,\n",
       " 8.68833890914917,\n",
       " 8.68833890914917,\n",
       " 8.68833890914917,\n",
       " 8.68833890914917,\n",
       " 8.68833890914917,\n",
       " 8.68833890914917,\n",
       " 8.68833890914917,\n",
       " 8.68833890914917,\n",
       " 8.68833890914917,\n",
       " 8.68833890914917,\n",
       " 8.68833890914917,\n",
       " 8.68833890914917,\n",
       " 8.68833890914917,\n",
       " 8.68833890914917,\n",
       " 8.68833890914917,\n",
       " 8.68833890914917,\n",
       " 8.68833890914917,\n",
       " 8.68833890914917,\n",
       " 8.68833890914917,\n",
       " 8.68833890914917,\n",
       " 8.68833890914917,\n",
       " 8.68833890914917,\n",
       " 8.68833890914917,\n",
       " 8.68833890914917,\n",
       " 8.68833890914917,\n",
       " 8.68833890914917,\n",
       " 8.68833890914917,\n",
       " 8.68833890914917,\n",
       " 8.68833890914917,\n",
       " 8.68833890914917,\n",
       " 8.68833890914917,\n",
       " 8.68833890914917,\n",
       " 8.68833890914917,\n",
       " 8.68833890914917,\n",
       " 8.68833890914917,\n",
       " 8.68833890914917,\n",
       " 8.68833890914917,\n",
       " 8.68833890914917,\n",
       " 8.68833890914917,\n",
       " 8.68833890914917,\n",
       " 8.68833890914917,\n",
       " 8.68833890914917,\n",
       " 8.68833890914917,\n",
       " 8.68833890914917,\n",
       " 8.68833890914917,\n",
       " 8.68833890914917,\n",
       " 8.68833890914917,\n",
       " 8.68833890914917,\n",
       " 8.68833890914917,\n",
       " 8.68833890914917,\n",
       " 8.68833890914917,\n",
       " 8.68833890914917,\n",
       " 8.68833890914917,\n",
       " 8.68833890914917,\n",
       " 8.68833890914917,\n",
       " 8.68833890914917,\n",
       " 8.68833890914917,\n",
       " 8.68833890914917,\n",
       " 8.68833890914917,\n",
       " 8.68833890914917,\n",
       " 8.68833890914917,\n",
       " 8.68833890914917,\n",
       " 8.68833890914917,\n",
       " 8.68833890914917,\n",
       " 8.68833890914917,\n",
       " 8.68833890914917,\n",
       " 8.68833890914917,\n",
       " 8.68833890914917,\n",
       " 8.68833890914917,\n",
       " 8.68833890914917,\n",
       " 8.68833890914917,\n",
       " 8.68833890914917,\n",
       " 8.68833890914917,\n",
       " 8.68833890914917,\n",
       " 8.68833890914917,\n",
       " 8.68833890914917,\n",
       " 8.68833890914917,\n",
       " 8.68833890914917,\n",
       " 8.68833890914917,\n",
       " 8.68833890914917,\n",
       " 8.68833890914917,\n",
       " 8.68833890914917,\n",
       " 8.68833890914917,\n",
       " 8.68833890914917,\n",
       " 8.68833890914917,\n",
       " 8.68833890914917,\n",
       " 8.68833890914917,\n",
       " 8.68833890914917,\n",
       " 8.68833890914917,\n",
       " 8.68833890914917,\n",
       " 8.68833890914917,\n",
       " 8.68833890914917,\n",
       " 8.68833890914917,\n",
       " 8.68833890914917,\n",
       " 8.68833890914917,\n",
       " 8.68833890914917,\n",
       " 8.68833890914917,\n",
       " 8.68833890914917,\n",
       " 8.68833890914917,\n",
       " 8.68833890914917,\n",
       " 8.68833890914917,\n",
       " 8.68833890914917,\n",
       " 8.68833890914917,\n",
       " 8.68833890914917,\n",
       " 8.68833890914917,\n",
       " 8.68833890914917,\n",
       " 8.68833890914917,\n",
       " 8.68833890914917,\n",
       " 8.68833890914917,\n",
       " 8.68833890914917,\n",
       " 8.68833890914917,\n",
       " 8.68833890914917,\n",
       " 8.68833890914917,\n",
       " 8.68833890914917,\n",
       " 8.68833890914917,\n",
       " 8.68833890914917,\n",
       " 8.68833890914917,\n",
       " 8.68833890914917,\n",
       " 8.68833890914917,\n",
       " 8.68833890914917,\n",
       " 8.68833890914917,\n",
       " 8.68833890914917,\n",
       " 8.68833890914917,\n",
       " 8.68833890914917,\n",
       " 8.68833890914917,\n",
       " 8.68833890914917,\n",
       " 8.68833890914917,\n",
       " 8.68833890914917,\n",
       " 8.68833890914917,\n",
       " 8.68833890914917,\n",
       " 8.68833890914917,\n",
       " 8.68833890914917,\n",
       " 8.68833890914917,\n",
       " 8.68833890914917,\n",
       " 8.68833890914917,\n",
       " 8.68833890914917,\n",
       " 8.68833890914917,\n",
       " 8.68833890914917,\n",
       " 8.68833890914917,\n",
       " 8.68833890914917,\n",
       " 8.68833890914917,\n",
       " 8.68833890914917,\n",
       " 8.68833890914917,\n",
       " 8.68833890914917,\n",
       " 8.68833890914917,\n",
       " 8.68833890914917,\n",
       " 8.68833890914917,\n",
       " 8.68833890914917,\n",
       " 8.68833890914917,\n",
       " 8.68833890914917,\n",
       " 8.68833890914917,\n",
       " 8.68833890914917,\n",
       " 8.68833890914917,\n",
       " 8.68833890914917,\n",
       " 8.68833890914917,\n",
       " 8.68833890914917,\n",
       " 8.68833890914917,\n",
       " 8.68833890914917,\n",
       " 8.68833890914917,\n",
       " 8.68833890914917,\n",
       " 8.68833890914917,\n",
       " 8.68833890914917,\n",
       " 8.68833890914917,\n",
       " 8.68833890914917,\n",
       " 8.68833890914917,\n",
       " 8.68833890914917,\n",
       " 8.68833890914917,\n",
       " 8.68833890914917,\n",
       " 8.68833890914917,\n",
       " 8.68833890914917,\n",
       " 8.68833890914917,\n",
       " 8.68833890914917,\n",
       " 8.68833890914917,\n",
       " 8.68833890914917,\n",
       " 8.68833890914917,\n",
       " 8.68833890914917,\n",
       " 8.68833890914917,\n",
       " 8.68833890914917,\n",
       " 8.68833890914917,\n",
       " 8.68833890914917,\n",
       " 8.68833890914917,\n",
       " 8.68833890914917,\n",
       " 8.68833890914917,\n",
       " 8.68833890914917,\n",
       " 8.68833890914917,\n",
       " 8.68833890914917,\n",
       " 8.68833890914917,\n",
       " 8.68833890914917,\n",
       " 8.68833890914917,\n",
       " 8.68833890914917,\n",
       " 8.68833890914917,\n",
       " 8.68833890914917,\n",
       " 8.68833890914917,\n",
       " 8.68833890914917,\n",
       " 8.68833890914917,\n",
       " 8.68833890914917,\n",
       " 8.68833890914917,\n",
       " 8.68833890914917,\n",
       " 8.68833890914917,\n",
       " 8.68833890914917,\n",
       " 8.68833890914917,\n",
       " 8.68833890914917,\n",
       " 8.68833890914917,\n",
       " 8.68833890914917,\n",
       " 8.68833890914917,\n",
       " 8.68833890914917,\n",
       " 8.68833890914917,\n",
       " 8.68833890914917,\n",
       " 8.68833890914917,\n",
       " 8.68833890914917,\n",
       " 8.68833890914917,\n",
       " 8.68833890914917,\n",
       " 8.68833890914917,\n",
       " 8.68833890914917,\n",
       " 8.68833890914917,\n",
       " 8.68833890914917,\n",
       " 8.68833890914917,\n",
       " 8.68833890914917,\n",
       " 8.68833890914917,\n",
       " 8.68833890914917,\n",
       " 8.68833890914917,\n",
       " 8.68833890914917,\n",
       " 8.68833890914917,\n",
       " 8.68833890914917,\n",
       " 8.68833890914917,\n",
       " 8.68833890914917,\n",
       " 8.68833890914917,\n",
       " 8.68833890914917,\n",
       " 8.68833890914917,\n",
       " 8.68833890914917,\n",
       " 8.68833890914917,\n",
       " 8.68833890914917,\n",
       " 8.68833890914917,\n",
       " 8.68833890914917,\n",
       " 8.68833890914917,\n",
       " 8.68833890914917,\n",
       " 8.68833890914917,\n",
       " 8.68833890914917,\n",
       " 8.68833890914917,\n",
       " 8.68833890914917,\n",
       " 8.68833890914917,\n",
       " 8.68833890914917,\n",
       " 8.68833890914917,\n",
       " 8.68833890914917,\n",
       " 8.68833890914917,\n",
       " 8.68833890914917,\n",
       " 8.68833890914917,\n",
       " 8.68833890914917,\n",
       " 8.68833890914917,\n",
       " 8.68833890914917,\n",
       " 8.68833890914917,\n",
       " 8.68833890914917,\n",
       " 8.68833890914917,\n",
       " 8.68833890914917,\n",
       " 8.68833890914917,\n",
       " 8.68833890914917,\n",
       " 8.68833890914917,\n",
       " 8.68833890914917,\n",
       " 8.68833890914917,\n",
       " 8.68833890914917,\n",
       " 8.68833890914917,\n",
       " 8.68833890914917,\n",
       " 8.68833890914917,\n",
       " 8.68833890914917,\n",
       " 8.68833890914917,\n",
       " 8.68833890914917,\n",
       " 8.68833890914917,\n",
       " 8.68833890914917,\n",
       " 8.68833890914917,\n",
       " 8.68833890914917,\n",
       " 8.68833890914917,\n",
       " 8.68833890914917,\n",
       " 8.68833890914917,\n",
       " 8.68833890914917,\n",
       " 8.68833890914917,\n",
       " 8.68833890914917,\n",
       " 8.68833890914917,\n",
       " 8.68833890914917,\n",
       " 8.68833890914917,\n",
       " 8.68833890914917,\n",
       " 8.68833890914917,\n",
       " 8.68833890914917,\n",
       " 8.68833890914917,\n",
       " 8.68833890914917,\n",
       " 8.68833890914917,\n",
       " 8.68833890914917,\n",
       " 8.68833890914917,\n",
       " 8.68833890914917,\n",
       " 8.68833890914917,\n",
       " 8.68833890914917,\n",
       " 8.68833890914917,\n",
       " 8.68833890914917,\n",
       " 8.68833890914917,\n",
       " 8.68833890914917,\n",
       " 8.68833890914917,\n",
       " 8.68833890914917,\n",
       " 8.68833890914917,\n",
       " 8.68833890914917,\n",
       " 8.68833890914917,\n",
       " 8.68833890914917,\n",
       " 8.68833890914917,\n",
       " 8.68833890914917,\n",
       " 8.68833890914917,\n",
       " 8.68833890914917,\n",
       " 8.68833890914917,\n",
       " 8.68833890914917,\n",
       " 8.68833890914917,\n",
       " 8.68833890914917,\n",
       " 8.68833890914917,\n",
       " 8.68833890914917,\n",
       " 8.68833890914917,\n",
       " 8.68833890914917,\n",
       " 8.68833890914917,\n",
       " 8.68833890914917,\n",
       " 8.68833890914917,\n",
       " 8.68833890914917,\n",
       " 8.68833890914917,\n",
       " 8.68833890914917,\n",
       " 8.68833890914917,\n",
       " 8.68833890914917,\n",
       " 8.68833890914917,\n",
       " 8.68833890914917,\n",
       " 8.68833890914917,\n",
       " 8.68833890914917,\n",
       " 8.68833890914917,\n",
       " 8.68833890914917,\n",
       " 8.68833890914917,\n",
       " 8.68833890914917,\n",
       " 8.68833890914917,\n",
       " 8.68833890914917,\n",
       " 8.68833890914917,\n",
       " 8.68833890914917,\n",
       " 8.68833890914917,\n",
       " 8.68833890914917,\n",
       " 8.68833890914917,\n",
       " 8.68833890914917,\n",
       " 8.68833890914917,\n",
       " 8.68833890914917,\n",
       " 8.68833890914917,\n",
       " 8.68833890914917,\n",
       " 8.68833890914917,\n",
       " 8.68833890914917,\n",
       " 8.68833890914917,\n",
       " 8.68833890914917,\n",
       " 8.68833890914917,\n",
       " 8.68833890914917,\n",
       " 8.68833890914917,\n",
       " 8.68833890914917,\n",
       " 8.68833890914917,\n",
       " 8.68833890914917,\n",
       " 8.68833890914917,\n",
       " 8.68833890914917,\n",
       " 8.68833890914917,\n",
       " 8.68833890914917,\n",
       " 8.68833890914917,\n",
       " 8.68833890914917,\n",
       " 8.68833890914917,\n",
       " 8.68833890914917,\n",
       " 8.68833890914917,\n",
       " 8.68833890914917,\n",
       " 8.68833890914917,\n",
       " 8.68833890914917,\n",
       " 8.68833890914917,\n",
       " 8.68833890914917,\n",
       " 8.68833890914917,\n",
       " 8.68833890914917,\n",
       " 8.68833890914917,\n",
       " 8.68833890914917,\n",
       " 8.68833890914917,\n",
       " 8.68833890914917,\n",
       " 8.68833890914917,\n",
       " 8.68833890914917,\n",
       " 8.68833890914917,\n",
       " 8.68833890914917,\n",
       " 8.68833890914917,\n",
       " 8.68833890914917,\n",
       " 8.68833890914917,\n",
       " 8.68833890914917,\n",
       " 8.68833890914917,\n",
       " 8.68833890914917,\n",
       " 8.68833890914917,\n",
       " 8.68833890914917,\n",
       " 8.68833890914917,\n",
       " 8.68833890914917,\n",
       " 8.68833890914917,\n",
       " 8.68833890914917,\n",
       " 8.68833890914917,\n",
       " 8.68833890914917,\n",
       " 8.68833890914917,\n",
       " 8.68833890914917,\n",
       " 8.68833890914917,\n",
       " 8.68833890914917,\n",
       " 8.68833890914917,\n",
       " 8.68833890914917,\n",
       " 8.68833890914917,\n",
       " 8.68833890914917,\n",
       " 8.68833890914917,\n",
       " 8.68833890914917,\n",
       " 8.68833890914917,\n",
       " ...]"
      ]
     },
     "execution_count": 26,
     "metadata": {},
     "output_type": "execute_result"
    }
   ],
   "source": [
    "model.relation_thresholds.tolist()"
   ]
  },
  {
   "cell_type": "code",
   "execution_count": 27,
   "metadata": {
    "ExecuteTime": {
     "end_time": "2019-07-08T14:57:22.470814Z",
     "start_time": "2019-07-08T13:13:20.538Z"
    }
   },
   "outputs": [
    {
     "name": "stderr",
     "output_type": "stream",
     "text": [
      "INFO:pykeen.utilities.pipeline:-------------Start Evaluation-------------\n",
      "INFO:pykeen.utilities.evaluation_utils.metrics_computations:Best accuracy 0.71 achieved on threshold: 8.69\n",
      "DEBUG:pykeen.utilities.evaluation_utils.metrics_computations:Evaluation took 212.41s seconds\n",
      "INFO:pykeen.utilities.pipeline:MetricResults(mean_rank=0.21714436505782908, hits_at_k={1: 0.12060909752670515, 3: 0.24133669651774983, 5: 0.3120397487768956, 10: 0.417150547646053}, precision=0.8224918189799665, recall=0.5233532528651961, accuracy=0.7051572923368663, fscore=0.639678040100147)\n"
     ]
    }
   ],
   "source": [
    "test_results = pipeline.evaluate(\n",
    "    model, \n",
    "    '../../../data/fb15k/test.tsv', \n",
    "    neg_test_path = '../../../data/fb15k/test_neg.tsv',\n",
    "    metrics= metrics,\n",
    "    threshold_search=False\n",
    ")"
   ]
  },
  {
   "cell_type": "code",
   "execution_count": 28,
   "metadata": {
    "ExecuteTime": {
     "end_time": "2019-07-08T14:57:22.471812Z",
     "start_time": "2019-07-08T13:13:20.540Z"
    }
   },
   "outputs": [
    {
     "data": {
      "text/plain": [
       "{'mean_rank': 0.21714436505782908,\n",
       " 'hits@k': {1: 0.12060909752670515,\n",
       "  3: 0.24133669651774983,\n",
       "  5: 0.3120397487768956,\n",
       "  10: 0.417150547646053},\n",
       " 'precision': 0.8224918189799665,\n",
       " 'recall': 0.5233532528651961,\n",
       " 'accuracy': 0.7051572923368663,\n",
       " 'f1_score': 0.639678040100147}"
      ]
     },
     "execution_count": 28,
     "metadata": {},
     "output_type": "execute_result"
    }
   ],
   "source": [
    "test_results['eval_summary']"
   ]
  },
  {
   "cell_type": "code",
   "execution_count": 29,
   "metadata": {
    "ExecuteTime": {
     "end_time": "2019-07-08T14:57:22.473807Z",
     "start_time": "2019-07-08T13:13:20.541Z"
    }
   },
   "outputs": [],
   "source": [
    "json.dump(val_results['eval_summary'], open(os.path.join(input_directory, 'valid_evaluation_summary.json'),\"w\"))"
   ]
  },
  {
   "cell_type": "code",
   "execution_count": 30,
   "metadata": {
    "ExecuteTime": {
     "end_time": "2019-07-08T14:57:22.474804Z",
     "start_time": "2019-07-08T13:13:20.543Z"
    }
   },
   "outputs": [],
   "source": [
    "json.dump(test_results['eval_summary'], open(os.path.join(input_directory, 'evaluation_summary.json'),\"w\"))"
   ]
  },
  {
   "cell_type": "markdown",
   "metadata": {},
   "source": [
    "## Load results"
   ]
  },
  {
   "cell_type": "code",
   "execution_count": 31,
   "metadata": {
    "ExecuteTime": {
     "end_time": "2019-07-08T14:57:22.476799Z",
     "start_time": "2019-07-08T13:13:20.545Z"
    }
   },
   "outputs": [],
   "source": [
    "import numpy as np\n",
    "import matplotlib.pyplot as plt\n",
    "import json\n",
    "import os"
   ]
  },
  {
   "cell_type": "code",
   "execution_count": 32,
   "metadata": {
    "ExecuteTime": {
     "end_time": "2019-07-08T14:57:22.477796Z",
     "start_time": "2019-07-08T13:13:20.546Z"
    }
   },
   "outputs": [],
   "source": [
    "%matplotlib inline"
   ]
  },
  {
   "cell_type": "code",
   "execution_count": 33,
   "metadata": {
    "ExecuteTime": {
     "end_time": "2019-07-08T14:57:22.479793Z",
     "start_time": "2019-07-08T13:13:20.548Z"
    }
   },
   "outputs": [
    {
     "data": {
      "text/plain": [
       "['test',\n",
       " 'region_FB15k_dim50_sphere_rad0_regL0_lr01_loss-MRL_margin0.5_negfactor1_epochs5_esmetric-custom_final',\n",
       " 'region_FB15k_20191023_dim50_sphere_rad0_regL0_lr001_loss-BPR_margin0.5_negfactor1_epochs1000_esmetric-custom_final',\n",
       " 'region_FB15k_20191023_dim50_sphere_rad0_regL0_lr001_loss-BPR_margin0.5_negfactor1_epochs500_esmetric-custom_final',\n",
       " 'region_FB15k_dim50_sphere_rad0_regL0_lr01_loss-MRL_margin0.5_negfactor1_epochs500_esmetric-custom_final',\n",
       " 'region_FB15k_20191023_dim50_sphere_rad0_regL0_lr001_loss-MRL_margin0.5_negfactor1_epochs1000_esmetric-custom',\n",
       " '.directory',\n",
       " 'TransE_FB15k_20191023_dim50_lr001_margin1_epochs1000_bs8192_esmetric-custom_final',\n",
       " 'region_FB15k_20191023_dim50_sphere_rad0_regL0_lr001_loss-BPR_margin0.5_negfactor1_epochs1000_esmetric-custom',\n",
       " 'region_FB15k_dim50_sphere_rad0_regL0_lr01_loss-MRL_margin0.5_negfactor1_epochs500_esmetric-custom_bs-2048',\n",
       " 'reference masterarbeit',\n",
       " 'region_FB15k_dim50_sphere_rad0_regL0_lr01_loss-MRL_margin0.5_negfactor1_epochs500_esmetric-custom_bs-4096',\n",
       " 'transE_FB15K_dim50_retrained']"
      ]
     },
     "execution_count": 33,
     "metadata": {},
     "output_type": "execute_result"
    }
   ],
   "source": [
    "model_dir = '../../../models/'\n",
    "models = os.listdir(model_dir)\n",
    "models"
   ]
  },
  {
   "cell_type": "code",
   "execution_count": 37,
   "metadata": {
    "ExecuteTime": {
     "end_time": "2019-07-08T14:57:22.480788Z",
     "start_time": "2019-07-08T13:13:20.549Z"
    }
   },
   "outputs": [],
   "source": [
    "#output_directory = '../../../models/region_hpo/'\n",
    "model_path = 'region_FB15k_20191023_dim50_sphere_rad0_regL0_lr001_loss-BPR_margin0.5_negfactor1_epochs1000_esmetric-custom'\n",
    "input_directory = os.path.join(model_dir, model_path)\n",
    "\n",
    "\n",
    "results = {\n",
    "    'losses': json.load(open(os.path.join(input_directory, 'losses.json'))),\n",
    "    'validation_losses': json.load(open(os.path.join(input_directory, 'val_losses.json'))),\n",
    "    'entity_to_embedding': json.load(open(os.path.join(input_directory, 'entities_to_embeddings.json'))),\n",
    "    'relation_to_embedding': json.load(open(os.path.join(input_directory, 'relations_to_embeddings.json'))),\n",
    "    'final_configuration': json.load(open(os.path.join(input_directory, 'configuration.json'))),\n",
    "    'eval_summary': json.load(open(os.path.join(input_directory, 'evaluation_summary.json'))),\n",
    "    'entity_to_id': json.load(open(os.path.join(input_directory, 'entity_to_id.json'))),\n",
    "    'relation_to_id': json.load(open(os.path.join(input_directory, 'relation_to_id.json')))\n",
    "}"
   ]
  },
  {
   "cell_type": "code",
   "execution_count": 38,
   "metadata": {
    "ExecuteTime": {
     "end_time": "2019-07-08T14:57:22.482783Z",
     "start_time": "2019-07-08T13:13:20.550Z"
    }
   },
   "outputs": [
    {
     "data": {
      "text/plain": [
       "dict_keys(['losses', 'validation_losses', 'entity_to_embedding', 'relation_to_embedding', 'final_configuration', 'eval_summary', 'entity_to_id', 'relation_to_id'])"
      ]
     },
     "execution_count": 38,
     "metadata": {},
     "output_type": "execute_result"
    }
   ],
   "source": [
    "results.keys()"
   ]
  },
  {
   "cell_type": "code",
   "execution_count": 39,
   "metadata": {
    "ExecuteTime": {
     "end_time": "2019-07-08T14:57:22.484778Z",
     "start_time": "2019-07-08T13:13:20.552Z"
    }
   },
   "outputs": [
    {
     "data": {
      "text/plain": [
       "{'metrics': [],\n",
       " 'training_set_path': '../../../data/fb15k/train.tsv',\n",
       " 'test_set_path': '../../../data/fb15k/valid_200.tsv',\n",
       " 'mapping_path': '../../../data/fb15k/',\n",
       " 'execution_mode': 'Training_mode',\n",
       " 'random_seed': 2,\n",
       " 'kg_embedding_model_name': 'Region',\n",
       " 'region_type': 'sphere',\n",
       " 'embedding_dim': 50,\n",
       " 'init_radius': 0,\n",
       " 'reg_lambda': 0,\n",
       " 'loss_type': 'BPR',\n",
       " 'neg_factor': 1,\n",
       " 'corrupt_relations': False,\n",
       " 'normalization_of_entities': 2,\n",
       " 'margin_loss': 0.5,\n",
       " 'learning_rate': 0.01,\n",
       " 'es_metric': 'custom',\n",
       " 'num_epochs': 1000,\n",
       " 'batch_size': 8192,\n",
       " 'test_batch_size': 65536,\n",
       " 'filter_negative_triples': False,\n",
       " 'preferred_device': 'cuda:0',\n",
       " 'pykeen-version': '0.0.26-dev',\n",
       " 'num_entities': 14951,\n",
       " 'num_relations': 1345}"
      ]
     },
     "execution_count": 39,
     "metadata": {},
     "output_type": "execute_result"
    }
   ],
   "source": [
    "results['final_configuration']"
   ]
  },
  {
   "cell_type": "code",
   "execution_count": 43,
   "metadata": {
    "ExecuteTime": {
     "end_time": "2019-07-08T14:57:22.486773Z",
     "start_time": "2019-07-08T13:13:20.554Z"
    }
   },
   "outputs": [
    {
     "data": {
      "image/png": "[encoded data removed]",
      "text/plain": [
       "<matplotlib.figure.Figure at 0x7f09f8ea3438>"
      ]
     },
     "metadata": {
      "needs_background": "light"
     },
     "output_type": "display_data"
    }
   ],
   "source": [
    "losses = results['losses']\n",
    "epochs = np.arange(len(losses))\n",
    "plt.title(r'Loss Per Epoch')\n",
    "plt.xlabel('epoch')\n",
    "plt.ylabel('loss')\n",
    "plt.plot(epochs, losses)\n",
    "plt.show()"
   ]
  },
  {
   "cell_type": "code",
   "execution_count": 44,
   "metadata": {},
   "outputs": [
    {
     "data": {
      "text/plain": [
       "0.013457278456898088"
      ]
     },
     "execution_count": 44,
     "metadata": {},
     "output_type": "execute_result"
    }
   ],
   "source": [
    "losses[-1]"
   ]
  },
  {
   "cell_type": "code",
   "execution_count": 45,
   "metadata": {
    "ExecuteTime": {
     "end_time": "2019-07-08T14:57:22.489765Z",
     "start_time": "2019-07-08T13:13:20.555Z"
    }
   },
   "outputs": [
    {
     "data": {
      "image/png": "[encoded data removed]",
      "text/plain": [
       "<matplotlib.figure.Figure at 0x7f09f3fed828>"
      ]
     },
     "metadata": {
      "needs_background": "light"
     },
     "output_type": "display_data"
    }
   ],
   "source": [
    "losses = results['validation_losses']\n",
    "epochs = np.arange(len(losses))\n",
    "plt.title(r'Loss Per Epoch')\n",
    "plt.xlabel('epoch')\n",
    "plt.ylabel('loss')\n",
    "plt.plot(epochs, losses)\n",
    "plt.show()"
   ]
  },
  {
   "cell_type": "code",
   "execution_count": 46,
   "metadata": {},
   "outputs": [
    {
     "data": {
      "text/plain": [
       "0.044965057373046874"
      ]
     },
     "execution_count": 46,
     "metadata": {},
     "output_type": "execute_result"
    }
   ],
   "source": [
    "losses[-1]"
   ]
  },
  {
   "cell_type": "code",
   "execution_count": 42,
   "metadata": {
    "ExecuteTime": {
     "end_time": "2019-07-08T14:57:22.491760Z",
     "start_time": "2019-07-08T13:13:20.557Z"
    }
   },
   "outputs": [
    {
     "data": {
      "text/plain": [
       "{'mean_rank': None,\n",
       " 'hits@k': None,\n",
       " 'precision': None,\n",
       " 'recall': None,\n",
       " 'accuracy': None,\n",
       " 'f1_score': None}"
      ]
     },
     "execution_count": 42,
     "metadata": {},
     "output_type": "execute_result"
    }
   ],
   "source": [
    "results['eval_summary']"
   ]
  },
  {
   "cell_type": "code",
   "execution_count": null,
   "metadata": {},
   "outputs": [],
   "source": []
  }
 ],
 "metadata": {
  "kernelspec": {
   "display_name": "Python 3",
   "language": "python",
   "name": "python3"
  },
  "language_info": {
   "codemirror_mode": {
    "name": "ipython",
    "version": 3
   },
   "file_extension": ".py",
   "mimetype": "text/x-python",
   "name": "python",
   "nbconvert_exporter": "python",
   "pygments_lexer": "ipython3",
   "version": "3.6.5"
  },
  "notify_time": "30",
  "toc": {
   "base_numbering": 1,
   "nav_menu": {},
   "number_sections": true,
   "sideBar": true,
   "skip_h1_title": false,
   "title_cell": "Table of Contents",
   "title_sidebar": "Contents",
   "toc_cell": false,
   "toc_position": {
    "height": "193.717px",
    "left": "10px",
    "top": "150px",
    "width": "165px"
   },
   "toc_section_display": true,
   "toc_window_display": true
  }
 },
 "nbformat": 4,
 "nbformat_minor": 2
}
