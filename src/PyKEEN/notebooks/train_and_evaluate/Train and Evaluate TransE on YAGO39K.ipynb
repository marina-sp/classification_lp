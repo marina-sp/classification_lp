{
 "cells": [
  {
   "cell_type": "code",
   "execution_count": 1,
   "metadata": {
    "ExecuteTime": {
     "end_time": "2019-05-27T19:21:31.275603Z",
     "start_time": "2019-05-27T19:21:31.271656Z"
    }
   },
   "outputs": [],
   "source": [
    "TEST = False \n",
    "N = 1000\n",
    "relation_to_test = 0 # 0 - triple, 1 - instanceOf, 2 - subClassOf"
   ]
  },
  {
   "cell_type": "code",
   "execution_count": 2,
   "metadata": {
    "ExecuteTime": {
     "end_time": "2019-05-27T19:21:31.288570Z",
     "start_time": "2019-05-27T19:21:31.277599Z"
    }
   },
   "outputs": [],
   "source": [
    "train_path = [\n",
    "    'D:/uni/master/data/YAGO39K/Train/triple2id.tsv',\n",
    "    'D:/uni/master/data/YAGO39K/Train/long.tsv',\n",
    "    'D:/uni/master/data/YAGO39K/Train/instanceOf2id.tsv',\n",
    "    'D:/uni/master/data/YAGO39K/Train/subClassOf2id.tsv'\n",
    "]\n",
    "\n",
    "val_path =  [\n",
    "    'D:/uni/master/data/YAGO39K/Valid/triple2id_positive.tsv',\n",
    "    'D:/uni/master/data/YAGO39K/Valid/instanceOf2id_positive.tsv',\n",
    "    'D:/uni/master/data/YAGO39K/Valid/subClassOf2id_positive.tsv'\n",
    "]\n",
    "\n",
    "neg_val_path = [\n",
    "    'D:/uni/master/data/YAGO39K/Valid/triple2id_negative.tsv',\n",
    "    'D:/uni/master/data/YAGO39K/Valid/instanceOf2id_negative.tsv',\n",
    "    'D:/uni/master/data/YAGO39K/Valid/subClassOf2id_negative.tsv'\n",
    "]\n",
    "\n",
    "test_path =  [\n",
    "    'D:/uni/master/data/YAGO39K/Test/triple2id_positive.tsv',\n",
    "    'D:/uni/master/data/YAGO39K/Test/instanceOf2id_positive.tsv',\n",
    "    'D:/uni/master/data/YAGO39K/Test/subClassOf2id_positive.tsv'\n",
    "]\n",
    "\n",
    "neg_test_path = [\n",
    "    'D:/uni/master/data/YAGO39K/Test/triple2id_negative.tsv',\n",
    "    'D:/uni/master/data/YAGO39K/Test/instanceOf2id_negative.tsv',\n",
    "    'D:/uni/master/data/YAGO39K/Test/subClassOf2id_negative.tsv'\n",
    "]\n",
    "\n",
    "\n",
    "\n",
    "if TEST:   \n",
    "    train_path = [\n",
    "        'D:/uni/master/data/debug/triple2id.tsv'\n",
    "    ]\n",
    "    #test_path =  [\n",
    "    #    'D:/uni/master/data/debug/triple2id_positive_test.tsv']\n",
    "    #val_path =  [\n",
    "    #    'D:/uni/master/data/debug/triple2id_positive_test.tsv']\n"
   ]
  },
  {
   "cell_type": "markdown",
   "metadata": {},
   "source": [
    "Check which hyper-parameters are required by TransE:"
   ]
  },
  {
   "cell_type": "code",
   "execution_count": 3,
   "metadata": {
    "ExecuteTime": {
     "end_time": "2019-05-27T19:21:32.285944Z",
     "start_time": "2019-05-27T19:21:31.291560Z"
    }
   },
   "outputs": [
    {
     "data": {
      "text/plain": [
       "['embedding_dim',\n",
       " 'margin_loss',\n",
       " 'learning_rate',\n",
       " 'scoring_function',\n",
       " 'normalization_of_entities']"
      ]
     },
     "execution_count": 3,
     "metadata": {},
     "output_type": "execute_result"
    }
   ],
   "source": [
    "from pykeen.kge_models import TransE\n",
    "TransE.hyper_params"
   ]
  },
  {
   "cell_type": "markdown",
   "metadata": {},
   "source": [
    "Train and evaluate Region (provide test set):\n",
    "* Define the path to our test set: **test_set_path**\n",
    "* Define the path to our the negative test set: **neg_test_path** in case of triple classfication evaluation\n",
    "* Define whether you want to compute the metrics (mean rank and hits@k) in raw or in a filtered setting: **filter_negative_triples**"
   ]
  },
  {
   "cell_type": "code",
   "execution_count": 4,
   "metadata": {
    "ExecuteTime": {
     "end_time": "2019-05-27T19:21:32.293923Z",
     "start_time": "2019-05-27T19:21:32.288937Z"
    }
   },
   "outputs": [],
   "source": [
    "config = dict(\n",
    "    metrics                     = ['prediction'],\n",
    "    training_set_path           = train_path,\n",
    "    test_set_path               = 'D:/uni/master/data/YAGO39K/Valid/mixed_150_positive.tsv',\n",
    "    neg_test_set_path           = neg_val_path,\n",
    "    mapping_path                = 'D:/uni/master/data/YAGO39K/',\n",
    "    execution_mode              = 'Training_mode',\n",
    "    random_seed                 = 2,\n",
    "    kg_embedding_model_name     = 'TransE',\n",
    "    embedding_dim               = 100,\n",
    "    scoring_function            = 1,  # corresponds to L1\n",
    "    normalization_of_entities   = 2,  # corresponds to L2\n",
    "    margin_loss                 = 1,\n",
    "    learning_rate               = 0.005,\n",
    "    es_metric                   = 'mean_rank',\n",
    "    num_epochs                  = N,  \n",
    "    batch_size                  = 1024,\n",
    "    test_batch_size             = 4096,\n",
    "    filter_negative_triples     = False,\n",
    "    preferred_device            = 'gpu'\n",
    ")"
   ]
  },
  {
   "cell_type": "code",
   "execution_count": 5,
   "metadata": {
    "ExecuteTime": {
     "end_time": "2019-05-27T19:21:32.308477Z",
     "start_time": "2019-05-27T19:21:32.295513Z"
    }
   },
   "outputs": [
    {
     "data": {
      "text/plain": [
       "'D:/uni/master/models/TransE_MRR_dim50_lr0005_scoreL1_margin1_epochs1000_batch_1024/'"
      ]
     },
     "execution_count": 5,
     "metadata": {},
     "output_type": "execute_result"
    }
   ],
   "source": [
    "output_directory = 'D:/uni/master/models/TransE_MRR_dim{}_lr{}_scoreL{}_margin{}_epochs{}_batch_{}/'.format(\n",
    "    config['embedding_dim'],\n",
    "    str(config['learning_rate']).replace('.',''),\n",
    "    config['scoring_function'],\n",
    "    config['margin_loss'],\n",
    "    config['num_epochs'],\n",
    "    config['batch_size']\n",
    ")\n",
    "output_directory"
   ]
  },
  {
   "cell_type": "code",
   "execution_count": 6,
   "metadata": {
    "ExecuteTime": {
     "end_time": "2019-05-27T19:21:32.315458Z",
     "start_time": "2019-05-27T19:21:32.311471Z"
    }
   },
   "outputs": [],
   "source": [
    "if TEST:\n",
    "    output_directory = 'D:/uni/master/models/test/'"
   ]
  },
  {
   "cell_type": "code",
   "execution_count": 7,
   "metadata": {
    "ExecuteTime": {
     "end_time": "2019-05-27T19:21:32.322440Z",
     "start_time": "2019-05-27T19:21:32.317453Z"
    }
   },
   "outputs": [],
   "source": [
    "import logging\n",
    "import os\n",
    "import sys\n",
    "import time\n",
    "import pykeen"
   ]
  },
  {
   "cell_type": "code",
   "execution_count": 8,
   "metadata": {
    "ExecuteTime": {
     "end_time": "2019-05-27T19:21:32.328423Z",
     "start_time": "2019-05-27T19:21:32.324434Z"
    }
   },
   "outputs": [],
   "source": [
    "logging.basicConfig(level=logging.DEBUG)\n",
    "logging.getLogger('pykeen').setLevel(logging.DEBUG)"
   ]
  },
  {
   "cell_type": "code",
   "execution_count": 9,
   "metadata": {
    "ExecuteTime": {
     "end_time": "2019-05-27T19:21:32.355353Z",
     "start_time": "2019-05-27T19:21:32.335406Z"
    }
   },
   "outputs": [
    {
     "name": "stdout",
     "output_type": "stream",
     "text": [
      "3.6.8 |Anaconda, Inc.| (default, Feb 21 2019, 18:30:04) [MSC v.1916 64 bit (AMD64)]\n"
     ]
    }
   ],
   "source": [
    "print(sys.version)"
   ]
  },
  {
   "cell_type": "code",
   "execution_count": 10,
   "metadata": {
    "ExecuteTime": {
     "end_time": "2019-05-27T19:21:32.367318Z",
     "start_time": "2019-05-27T19:21:32.360340Z"
    },
    "scrolled": true
   },
   "outputs": [
    {
     "name": "stdout",
     "output_type": "stream",
     "text": [
      "Mon May 27 21:21:32 2019\n"
     ]
    }
   ],
   "source": [
    "print(time.asctime())"
   ]
  },
  {
   "cell_type": "code",
   "execution_count": 11,
   "metadata": {
    "ExecuteTime": {
     "end_time": "2019-05-27T19:21:32.375298Z",
     "start_time": "2019-05-27T19:21:32.369313Z"
    }
   },
   "outputs": [
    {
     "name": "stdout",
     "output_type": "stream",
     "text": [
      "0.0.26-dev\n"
     ]
    }
   ],
   "source": [
    "print(pykeen.get_version())"
   ]
  },
  {
   "cell_type": "markdown",
   "metadata": {},
   "source": [
    "## Train and evaluate TransE:"
   ]
  },
  {
   "cell_type": "code",
   "execution_count": 12,
   "metadata": {
    "ExecuteTime": {
     "end_time": "2019-05-27T19:21:32.677456Z",
     "start_time": "2019-05-27T19:21:32.378292Z"
    },
    "scrolled": true
   },
   "outputs": [
    {
     "name": "stderr",
     "output_type": "stream",
     "text": [
      "DEBUG:matplotlib:$HOME=C:\\Users\\aquam\n",
      "DEBUG:matplotlib:CONFIGDIR=C:\\Users\\aquam\\.matplotlib\n",
      "DEBUG:matplotlib:matplotlib data path: D:\\uni\\master\\conda_env\\lib\\site-packages\\matplotlib\\mpl-data\n",
      "DEBUG:matplotlib:loaded rc file D:\\uni\\master\\conda_env\\lib\\site-packages\\matplotlib\\mpl-data\\matplotlibrc\n",
      "DEBUG:matplotlib:matplotlib version 3.0.3\n",
      "DEBUG:matplotlib:interactive is False\n",
      "DEBUG:matplotlib:platform is win32\n"
     ]
    },
    {
     "name": "stderr",
     "output_type": "stream",
     "text": [
      "DEBUG:matplotlib:loaded modules: ['builtins', 'sys', '_frozen_importlib', '_imp', '_warnings', '_thread', '_weakref', '_frozen_importlib_external', '_io', 'marshal', 'nt', 'winreg', 'zipimport', 'encodings', 'codecs', '_codecs', 'encodings.aliases', 'encodings.utf_8', '_signal', '__main__', 'encodings.latin_1', 'io', 'abc', '_weakrefset', 'encodings.cp1251', 'site', 'os', 'errno', 'stat', '_stat', 'ntpath', 'genericpath', 'os.path', '_collections_abc', '_sitebuiltins', 'sysconfig', '_bootlocale', '_locale', 'types', 'functools', '_functools', 'collections', 'operator', '_operator', 'keyword', 'heapq', '_heapq', 'itertools', 'reprlib', '_collections', 'weakref', 'collections.abc', 'importlib', 'importlib._bootstrap', 'importlib._bootstrap_external', 'warnings', 'importlib.util', 'importlib.abc', 'importlib.machinery', 'contextlib', 'mpl_toolkits', 'runpy', 'pkgutil', 'ipykernel', 'ipykernel._version', 'ipykernel.connect', '__future__', 'json', 'json.decoder', 're', 'enum', 'sre_compile', '_sre', 'sre_parse', 'sre_constants', 'copyreg', 'json.scanner', '_json', 'json.encoder', 'subprocess', 'time', 'signal', 'threading', 'traceback', 'linecache', 'tokenize', 'token', 'msvcrt', '_winapi', 'IPython', 'IPython.core', 'IPython.core.getipython', 'IPython.core.release', 'IPython.core.application', 'atexit', 'copy', 'glob', 'fnmatch', 'posixpath', 'logging', 'string', '_string', 'shutil', 'zlib', 'bz2', '_compression', '_bz2', 'lzma', '_lzma', 'traitlets', 'traitlets.traitlets', 'inspect', 'ast', '_ast', 'dis', 'opcode', '_opcode', 'six', 'struct', '_struct', 'traitlets.utils', 'traitlets.utils.getargspec', 'traitlets.utils.importstring', 'ipython_genutils', 'ipython_genutils._version', 'ipython_genutils.py3compat', 'ipython_genutils.encoding', 'locale', 'platform', 'traitlets.utils.sentinel', 'traitlets.utils.bunch', 'traitlets._version', 'traitlets.config', 'traitlets.config.application', 'decorator', 'traitlets.config.configurable', 'traitlets.config.loader', 'argparse', 'textwrap', 'gettext', 'ipython_genutils.path', 'random', 'math', 'hashlib', '_hashlib', '_blake2', '_sha3', 'bisect', '_bisect', '_random', 'ipython_genutils.text', 'ipython_genutils.importstring', 'IPython.core.crashhandler', 'pprint', 'IPython.core.ultratb', 'pydoc', 'urllib', 'urllib.parse', 'IPython.core.debugger', 'bdb', 'IPython.utils', 'IPython.utils.PyColorize', 'IPython.utils.coloransi', 'IPython.utils.ipstruct', 'IPython.utils.colorable', 'pygments', 'pygments.util', 'IPython.utils.py3compat', 'IPython.utils.encoding', 'IPython.core.excolors', 'IPython.testing', 'IPython.testing.skipdoctest', 'pdb', 'cmd', 'code', 'codeop', 'IPython.core.display_trap', 'IPython.utils.path', 'IPython.utils.process', 'IPython.utils._process_win32', 'ctypes', '_ctypes', 'ctypes._endian', 'ctypes.wintypes', 'IPython.utils._process_common', 'shlex', 'IPython.utils.decorators', 'IPython.utils.data', 'IPython.utils.terminal', 'IPython.utils.sysinfo', 'IPython.utils._sysinfo', 'IPython.core.profiledir', 'IPython.paths', 'tempfile', 'IPython.utils.importstring', 'IPython.terminal', 'IPython.terminal.embed', 'IPython.core.compilerop', 'IPython.core.magic_arguments', 'IPython.core.error', 'IPython.utils.text', 'pathlib', 'IPython.core.magic', 'getopt', 'IPython.core.oinspect', 'IPython.core.page', 'IPython.core.display', 'binascii', 'mimetypes', 'IPython.lib', 'IPython.lib.security', 'getpass', 'IPython.lib.pretty', 'datetime', '_datetime', 'IPython.utils.openpy', 'IPython.utils.dir2', 'IPython.utils.wildcard', 'pygments.lexers', 'pygments.lexers._mapping', 'pygments.modeline', 'pygments.plugin', 'pygments.lexers.python', 'pygments.lexer', 'pygments.filter', 'pygments.filters', 'pygments.token', 'pygments.regexopt', 'pygments.unistring', 'pygments.formatters', 'pygments.formatters._mapping', 'pygments.formatters.html', 'pygments.formatter', 'pygments.styles', 'IPython.core.inputtransformer2', 'typing', 'typing.io', 'typing.re', 'IPython.core.interactiveshell', 'asyncio', 'selectors', 'select', '_socket', '_overlapped', 'asyncio.base_events', 'concurrent', 'concurrent.futures', 'concurrent.futures._base', 'concurrent.futures.process', 'queue', 'multiprocessing', 'multiprocessing.context', 'multiprocessing.process', 'multiprocessing.reduction', 'pickle', '_compat_pickle', '_pickle', 'socket', '__mp_main__', 'multiprocessing.connection', '_multiprocessing', 'multiprocessing.util', 'concurrent.futures.thread', 'asyncio.compat', 'asyncio.coroutines', 'asyncio.constants', 'asyncio.events', 'asyncio.base_futures', 'asyncio.log', 'asyncio.futures', 'asyncio.base_tasks', '_asyncio', 'asyncio.tasks', 'asyncio.locks', 'asyncio.protocols', 'asyncio.queues', 'asyncio.streams', 'asyncio.subprocess', 'asyncio.transports', 'asyncio.windows_events', 'asyncio.base_subprocess', 'asyncio.proactor_events', 'asyncio.sslproto', 'ssl', 'ipaddress', '_ssl', 'base64', 'asyncio.selector_events', 'asyncio.windows_utils', 'pickleshare', 'IPython.core.prefilter', 'IPython.core.autocall', 'IPython.core.macro', 'IPython.core.splitinput', 'IPython.core.alias', 'IPython.core.builtin_trap', 'IPython.core.events', 'backcall', 'backcall.backcall', 'IPython.core.displayhook', 'IPython.core.displaypub', 'IPython.core.extensions', 'IPython.core.formatters', 'IPython.utils.sentinel', 'IPython.core.history', 'sqlite3', 'sqlite3.dbapi2', '_sqlite3', 'IPython.core.logger', 'IPython.core.payload', 'IPython.core.usage', 'IPython.display', 'IPython.lib.display', 'html', 'html.entities', 'IPython.utils.io', 'IPython.utils.capture', 'IPython.utils.strdispatch', 'IPython.core.hooks', 'IPython.utils.syspathcontext', 'IPython.utils.tempdir', 'IPython.utils.contexts', 'IPython.core.async_helpers', 'IPython.terminal.interactiveshell', 'prompt_toolkit', 'prompt_toolkit.application', 'prompt_toolkit.application.application', 'prompt_toolkit.buffer', 'prompt_toolkit.application.current', 'prompt_toolkit.eventloop', 'prompt_toolkit.eventloop.base', 'prompt_toolkit.log', 'prompt_toolkit.eventloop.coroutine', 'prompt_toolkit.eventloop.defaults', 'prompt_toolkit.utils', 'six.moves', 'wcwidth', 'wcwidth.wcwidth', 'wcwidth.table_wide', 'wcwidth.table_zero', 'prompt_toolkit.cache', 'prompt_toolkit.eventloop.future', 'prompt_toolkit.eventloop.context', 'prompt_toolkit.eventloop.async_generator', 'six.moves.queue', 'prompt_toolkit.eventloop.event', 'prompt_toolkit.application.run_in_terminal', 'prompt_toolkit.auto_suggest', 'prompt_toolkit.filters', 'prompt_toolkit.filters.base', 'prompt_toolkit.filters.app', 'prompt_toolkit.enums', 'prompt_toolkit.filters.utils', 'prompt_toolkit.filters.cli', 'prompt_toolkit.clipboard', 'prompt_toolkit.clipboard.base', 'prompt_toolkit.selection', 'prompt_toolkit.clipboard.in_memory', 'prompt_toolkit.completion', 'prompt_toolkit.completion.base', 'prompt_toolkit.completion.filesystem', 'prompt_toolkit.completion.word_completer', 'prompt_toolkit.completion.fuzzy_completer', 'prompt_toolkit.document', 'prompt_toolkit.history', 'prompt_toolkit.search', 'prompt_toolkit.key_binding', 'prompt_toolkit.key_binding.key_bindings', 'prompt_toolkit.keys', 'prompt_toolkit.key_binding.vi_state', 'prompt_toolkit.validation', 'prompt_toolkit.input', 'prompt_toolkit.input.base', 'prompt_toolkit.input.defaults', 'prompt_toolkit.input.typeahead', 'prompt_toolkit.key_binding.bindings', 'prompt_toolkit.key_binding.bindings.page_navigation', 'prompt_toolkit.key_binding.bindings.scroll', 'prompt_toolkit.key_binding.defaults', 'prompt_toolkit.key_binding.bindings.basic', 'prompt_toolkit.key_binding.key_processor', 'prompt_toolkit.key_binding.bindings.named_commands', 'prompt_toolkit.key_binding.bindings.completion', 'prompt_toolkit.key_binding.bindings.emacs', 'prompt_toolkit.key_binding.bindings.vi', 'prompt_toolkit.input.vt100_parser', 'prompt_toolkit.input.ansi_escape_sequences', 'prompt_toolkit.key_binding.digraphs', 'prompt_toolkit.key_binding.bindings.mouse', 'prompt_toolkit.layout', 'prompt_toolkit.layout.containers', 'prompt_toolkit.layout.controls', 'prompt_toolkit.formatted_text', 'prompt_toolkit.formatted_text.base', 'prompt_toolkit.formatted_text.html', 'xml', 'xml.dom', 'xml.dom.domreg', 'xml.dom.minidom', 'xml.dom.minicompat', 'xml.dom.xmlbuilder', 'xml.dom.NodeFilter', 'prompt_toolkit.formatted_text.ansi', 'prompt_toolkit.output', 'prompt_toolkit.output.base', 'prompt_toolkit.layout.screen', 'prompt_toolkit.output.defaults', 'prompt_toolkit.output.color_depth', 'prompt_toolkit.output.vt100', 'prompt_toolkit.styles', 'prompt_toolkit.styles.base', 'prompt_toolkit.styles.defaults', 'prompt_toolkit.styles.style', 'prompt_toolkit.styles.named_colors', 'prompt_toolkit.styles.pygments', 'prompt_toolkit.styles.style_transformation', 'colorsys', 'array', 'prompt_toolkit.formatted_text.pygments', 'prompt_toolkit.formatted_text.utils', 'prompt_toolkit.lexers', 'prompt_toolkit.lexers.base', 'prompt_toolkit.lexers.pygments', 'prompt_toolkit.mouse_events', 'prompt_toolkit.layout.processors', 'prompt_toolkit.layout.utils', 'prompt_toolkit.layout.dimension', 'prompt_toolkit.layout.margins', 'prompt_toolkit.layout.layout', 'prompt_toolkit.layout.menus', 'prompt_toolkit.renderer', 'prompt_toolkit.layout.mouse_handlers', 'prompt_toolkit.key_binding.bindings.cpr', 'prompt_toolkit.key_binding.emacs_state', 'prompt_toolkit.layout.dummy', 'prompt_toolkit.application.dummy', 'prompt_toolkit.shortcuts', 'prompt_toolkit.shortcuts.dialogs', 'prompt_toolkit.key_binding.bindings.focus', 'prompt_toolkit.widgets', 'prompt_toolkit.widgets.base', 'prompt_toolkit.widgets.toolbars', 'prompt_toolkit.widgets.dialogs', 'prompt_toolkit.widgets.menus', 'prompt_toolkit.shortcuts.prompt', 'prompt_toolkit.key_binding.bindings.auto_suggest', 'prompt_toolkit.key_binding.bindings.open_in_editor', 'prompt_toolkit.shortcuts.utils', 'prompt_toolkit.shortcuts.progress_bar', 'prompt_toolkit.shortcuts.progress_bar.base', 'prompt_toolkit.shortcuts.progress_bar.formatters', 'prompt_toolkit.patch_stdout', 'pygments.style', 'IPython.terminal.debugger', 'IPython.core.completer', 'unicodedata', 'IPython.core.latex_symbols', 'IPython.utils.generics', 'jedi', 'jedi.api', 'parso', 'parso.parser', 'parso.tree', 'parso._compatibility', 'parso.utils', 'parso.pgen2', 'parso.pgen2.generator', 'parso.pgen2.grammar_parser', 'parso.python', 'parso.python.tokenize', 'parso.python.token', 'parso.grammar', 'parso.python.diff', 'difflib', 'parso.python.parser', 'parso.python.tree', 'parso.python.prefix', 'parso.cache', 'gc', 'parso.python.errors', 'parso.normalizer', 'parso.python.pep8', 'jedi._compatibility', 'jedi.parser_utils', 'jedi.debug', 'jedi.settings', 'jedi.cache', 'jedi.api.classes', 'jedi.evaluate', 'jedi.evaluate.utils', 'jedi.evaluate.imports', 'jedi.evaluate.sys_path', 'jedi.evaluate.cache', 'jedi.evaluate.base_context', 'jedi.common', 'jedi.common.context', 'jedi.evaluate.helpers', 'jedi.common.utils', 'jedi.evaluate.compiled', 'jedi.evaluate.compiled.context', 'jedi.evaluate.filters', 'jedi.evaluate.flow_analysis', 'jedi.evaluate.recursion', 'jedi.evaluate.lazy_context', 'jedi.evaluate.compiled.access', 'jedi.evaluate.compiled.getattr_static', 'jedi.evaluate.compiled.fake', 'jedi.evaluate.analysis', 'jedi.evaluate.context', 'jedi.evaluate.context.module', 'jedi.evaluate.context.klass', 'jedi.evaluate.context.function', 'jedi.evaluate.docstrings', 'jedi.evaluate.pep0484', 'jedi.evaluate.arguments', 'jedi.evaluate.context.iterable', 'jedi.evaluate.param', 'jedi.evaluate.context.asynchronous', 'jedi.evaluate.parser_cache', 'jedi.evaluate.context.instance', 'jedi.evaluate.syntax_tree', 'jedi.evaluate.finder', 'jedi.api.keywords', 'pydoc_data', 'pydoc_data.topics', 'jedi.api.interpreter', 'jedi.evaluate.compiled.mixed', 'jedi.api.helpers', 'jedi.api.completion', 'jedi.api.environment', 'filecmp', 'jedi.evaluate.compiled.subprocess', 'jedi.evaluate.compiled.subprocess.functions', 'jedi.api.exceptions', 'jedi.api.project', 'jedi.evaluate.usages', 'IPython.terminal.ptutils', 'IPython.terminal.shortcuts', 'IPython.lib.clipboard', 'IPython.terminal.magics', 'IPython.terminal.pt_inputhooks', 'IPython.terminal.prompts', 'IPython.terminal.ipapp', 'IPython.core.magics', 'IPython.core.magics.auto', 'IPython.core.magics.basic', 'IPython.core.magics.code', 'urllib.request', 'email', 'http', 'http.client', 'email.parser', 'email.feedparser', 'email.errors', 'email._policybase', 'email.header', 'email.quoprimime', 'email.base64mime', 'email.charset', 'email.encoders', 'quopri', 'email.utils', 'email._parseaddr', 'calendar', 'email.message', 'uu', 'email._encoded_words', 'email.iterators', 'urllib.error', 'urllib.response', 'nturl2path', 'IPython.core.magics.config', 'IPython.core.magics.display', 'IPython.core.magics.execution', 'timeit', 'cProfile', '_lsprof', 'profile', 'optparse', 'pstats', 'IPython.utils.module_paths', 'IPython.utils.timing', 'IPython.core.magics.extension', 'IPython.core.magics.history', 'IPython.core.magics.logging', 'IPython.core.magics.namespace', 'IPython.core.magics.osm', 'IPython.core.magics.packaging', 'IPython.core.magics.pylab', 'IPython.core.pylabtools', 'IPython.core.magics.script', 'IPython.lib.backgroundjobs', 'IPython.core.shellapp', 'IPython.extensions', 'IPython.extensions.storemagic', 'IPython.utils.frame', 'jupyter_client', 'jupyter_client._version', 'jupyter_client.connect', 'zmq', 'zmq.backend', 'zmq.backend.select', 'zmq.backend.cython', 'zmq.backend.cython.constants', 'cython_runtime', 'zmq.backend.cython.error', '_cython_0_29_5', 'zmq.backend.cython.message', 'zmq.error', 'zmq.backend.cython.context', 'zmq.backend.cython.socket', 'zmq.backend.cython.utils', 'zmq.backend.cython._poll', 'zmq.backend.cython._version', 'zmq.backend.cython._device', 'zmq.backend.cython._proxy_steerable', 'zmq.sugar', 'zmq.sugar.constants', 'zmq.utils', 'zmq.utils.constant_names', 'zmq.sugar.context', 'zmq.sugar.attrsettr', 'zmq.sugar.socket', 'zmq.sugar.poll', 'zmq.utils.jsonapi', 'zmq.utils.strtypes', 'zmq.sugar.frame', 'zmq.sugar.tracker', 'zmq.sugar.version', 'zmq.sugar.stopwatch', 'jupyter_client.localinterfaces', 'jupyter_core', 'jupyter_core.version', 'jupyter_core.paths', 'jupyter_client.launcher', 'traitlets.log', 'jupyter_client.client', 'jupyter_client.channels', 'jupyter_client.channelsabc', 'jupyter_client.clientabc', 'jupyter_client.manager', 'jupyter_client.kernelspec', 'jupyter_client.managerabc', 'jupyter_client.blocking', 'jupyter_client.blocking.client', 'jupyter_client.blocking.channels', 'jupyter_client.multikernelmanager', 'uuid', 'ctypes.util', 'ipykernel.kernelapp', 'tornado', 'tornado.ioloop', 'numbers', 'tornado.concurrent', 'tornado.log', 'logging.handlers', 'tornado.escape', 'tornado.util', 'tornado.speedups', 'colorama', 'colorama.initialise', 'colorama.ansitowin32', 'colorama.ansi', 'colorama.winterm', 'colorama.win32', 'tornado.stack_context', 'tornado.platform', 'tornado.platform.auto', 'tornado.platform.common', 'tornado.platform.interface', 'tornado.platform.windows', 'zmq.eventloop', 'zmq.eventloop.ioloop', 'tornado.platform.asyncio', 'tornado.gen', 'zmq.eventloop.zmqstream', 'ipykernel.iostream', 'imp', 'jupyter_client.session', 'hmac', 'jupyter_client.jsonutil', 'dateutil', 'dateutil._version', 'dateutil.parser', 'dateutil.parser._parser', 'decimal', '_decimal', 'dateutil.relativedelta', 'dateutil._common', 'dateutil.tz', 'dateutil.tz.tz', 'dateutil.tz._common', 'dateutil.tz._factories', 'dateutil.tz.win', 'dateutil.parser.isoparser', '_strptime', 'jupyter_client.adapter', 'ipykernel.heartbeat', 'ipykernel.ipkernel', 'IPython.utils.tokenutil', 'ipykernel.comm', 'ipykernel.comm.manager', 'ipykernel.comm.comm', 'ipykernel.kernelbase', 'tornado.queues', 'tornado.locks', 'ipykernel.jsonutil', 'ipykernel.zmqshell', 'IPython.core.payloadpage', 'ipykernel.displayhook', 'ipykernel.parentpoller', 'faulthandler', 'ipykernel.datapub', 'ipykernel.serialize', 'ipykernel.pickleutil', 'ipykernel.codeutil', 'IPython.core.completerlib', 'storemagic', 'ipywidgets', 'ipywidgets._version', 'ipywidgets.widgets', 'ipywidgets.widgets.widget', 'ipywidgets.widgets.domwidget', 'ipywidgets.widgets.trait_types', 'ipywidgets.widgets.widget_layout', 'ipywidgets.widgets.widget_style', 'ipywidgets.widgets.valuewidget', 'ipywidgets.widgets.widget_core', 'ipywidgets.widgets.widget_bool', 'ipywidgets.widgets.widget_description', 'ipywidgets.widgets.widget_button', 'ipywidgets.widgets.widget_box', 'ipywidgets.widgets.docutils', 'ipywidgets.widgets.widget_float', 'ipywidgets.widgets.widget_int', 'ipywidgets.widgets.widget_color', 'ipywidgets.widgets.widget_date', 'ipywidgets.widgets.widget_output', 'ipywidgets.widgets.widget_selection', 'ipywidgets.widgets.widget_selectioncontainer', 'ipywidgets.widgets.widget_string', 'ipywidgets.widgets.widget_controller', 'ipywidgets.widgets.interaction', 'ipywidgets.widgets.widget_link', 'ipywidgets.widgets.widget_media', 'pykeen', 'pykeen.constants', 'numpy', 'numpy._globals', 'numpy.__config__', 'numpy.version', 'numpy._distributor_init', 'numpy._mklinit', 'numpy.core', 'numpy.core.info', 'numpy.core.multiarray', 'numpy.core.overrides', 'numpy.core._multiarray_umath', 'numpy.compat', 'numpy.compat._inspect', 'numpy.compat.py3k', 'numpy.core.umath', 'numpy.core.numerictypes', 'numpy.core._string_helpers', 'numpy.core._type_aliases', 'numpy.core._dtype', 'numpy.core.numeric', 'numpy.core._internal', 'numpy.core.fromnumeric', 'numpy.core._methods', 'numpy.core.arrayprint', 'numpy.core.defchararray', 'numpy.core.records', 'numpy.core.memmap', 'numpy.core.function_base', 'numpy.core.machar', 'numpy.core.getlimits', 'numpy.core.shape_base', 'numpy.core.einsumfunc', 'numpy.core._add_newdocs', 'numpy.core._multiarray_tests', 'numpy.core._dtype_ctypes', 'numpy._pytesttester', 'numpy.lib', 'numpy.lib.info', 'numpy.lib.type_check', 'numpy.lib.ufunclike', 'numpy.lib.index_tricks', 'numpy.matrixlib', 'numpy.matrixlib.defmatrix', 'numpy.linalg', 'numpy.linalg.info', 'numpy.linalg.linalg', 'numpy.lib.twodim_base', 'numpy.linalg.lapack_lite', 'numpy.linalg._umath_linalg', 'numpy.lib.function_base', 'numpy.lib.utils', 'numpy.lib.histograms', 'numpy.lib.stride_tricks', 'numpy.lib.mixins', 'numpy.lib.nanfunctions', 'numpy.lib.shape_base', 'numpy.lib.scimath', 'numpy.lib.polynomial', 'numpy.lib.arraysetops', 'numpy.lib.npyio', 'numpy.lib.format', 'numpy.lib._datasource', 'numpy.lib._iotools', 'numpy.lib.financial', 'numpy.lib.arrayterator', 'numpy.lib.arraypad', 'numpy.lib._version', 'numpy.fft', 'numpy.fft.info', 'numpy.fft.fftpack', 'numpy.fft.fftpack_lite', 'numpy.fft.helper', 'mkl_fft', 'mkl_fft._pydfti', '_cython_0_29_2', 'mkl_fft._version', 'mkl_fft._numpy_fft', 'numpy.polynomial', 'numpy.polynomial.polynomial', 'numpy.polynomial.polyutils', 'numpy.polynomial._polybase', 'numpy.polynomial.chebyshev', 'numpy.polynomial.legendre', 'numpy.polynomial.hermite', 'numpy.polynomial.hermite_e', 'numpy.polynomial.laguerre', 'numpy.random', 'numpy.random.mtrand', 'mtrand', 'numpy.ctypeslib', 'numpy.ma', 'numpy.ma.core', 'numpy.ma.extras', 'numpy.testing', 'unittest', 'unittest.result', 'unittest.util', 'unittest.case', 'unittest.suite', 'unittest.loader', 'unittest.main', 'unittest.runner', 'unittest.signals', 'numpy.testing._private', 'numpy.testing._private.utils', 'numpy.testing._private.decorators', 'numpy.testing._private.nosetester', 'pkg_resources', 'zipfile', 'plistlib', 'xml.parsers', 'xml.parsers.expat', 'pyexpat.errors', 'pyexpat.model', 'pyexpat', 'xml.parsers.expat.model', 'xml.parsers.expat.errors', 'pkg_resources.extern', 'pkg_resources._vendor', 'pkg_resources.extern.six', 'pkg_resources._vendor.six', 'pkg_resources.extern.six.moves', 'pkg_resources._vendor.six.moves', 'pkg_resources.py31compat', 'pkg_resources.extern.appdirs', 'pkg_resources._vendor.packaging.__about__', 'pkg_resources.extern.packaging', 'pkg_resources.extern.packaging.version', 'pkg_resources.extern.packaging._structures', 'pkg_resources.extern.packaging.specifiers', 'pkg_resources.extern.packaging._compat', 'pkg_resources.extern.packaging.requirements', 'pkg_resources.extern.pyparsing', 'pkg_resources.extern.six.moves.urllib', 'pkg_resources.extern.packaging.markers', 'pykeen.utilities', 'pykeen.utilities.handlers', 'pykeen.run', 'dataclasses', 'torch', 'torch._utils', 'torch.version', 'torch._six', 'torch._nvrtc', 'torch._C._jit_tree_views', 'torch._C._onnx', 'torch._C', 'torch.random', 'torch.serialization', 'tarfile', 'torch._tensor_str', 'torch.tensor', 'torch.utils', 'torch.utils.hooks', 'torch.storage', 'torch.cuda', 'torch.cuda.random', 'torch.cuda.sparse', 'torch.cuda.profiler', 'torch.cuda.nvtx', 'torch.cuda.streams', 'torch.sparse', 'torch.functional', 'torch.autograd', 'torch.autograd.variable', 'torch.autograd.function', 'torch.autograd.gradcheck', 'torch.testing', 'torch.autograd.grad_mode', 'torch.autograd.profiler', 'torch.nn', 'torch.nn.modules', 'torch.nn.modules.module', 'torch.nn.backends', 'torch.nn.backends.thnn', 'torch.nn.backends.backend', 'torch.nn._functions', 'torch.nn._functions.thnn', 'torch.nn._functions.thnn.auto', 'torch._thnn', 'torch._thnn.utils', 'torch.nn._functions.thnn.auto_double_backwards', 'torch.nn._functions.thnn.auto_symbolic', 'torch.autograd._functions', 'torch.autograd._functions.tensor', 'torch.autograd._functions.utils', 'torch.nn._functions.thnn.normalization', 'torch.nn._functions.thnn.fold', 'torch.nn._functions.thnn.sparse', 'torch.nn._functions.thnn.rnnFusedPointwise', 'torch.nn._functions.rnn', 'torch.backends', 'torch.backends.cudnn', 'torch.nn.functional', 'torch.nn.modules.utils', 'torch.nn._functions.padding', 'torch.nn._functions.vision', 'torch.nn.grad', 'torch.backends.cudnn.rnn', 'torch.nn._functions.dropout', 'torch.nn.parameter', 'torch.nn.modules.linear', 'torch.nn.modules.conv', 'torch.nn.modules.activation', 'torch.nn.modules.loss', 'torch.nn.modules.container', 'torch.nn.modules.pooling', 'torch.nn.modules.batchnorm', 'torch.nn.modules.instancenorm', 'torch.nn.modules.normalization', 'torch.nn.modules.dropout', 'torch.nn.modules.padding', 'torch.nn.modules.sparse', 'torch.nn.modules.rnn', 'torch.nn.utils', 'torch.nn.utils.rnn', 'torch.onnx', 'torch.nn._functions.packing', 'torch.nn.utils.clip_grad', 'torch.nn.utils.weight_norm', 'torch.nn.utils.convert_parameters', 'torch.nn.modules.pixelshuffle', 'torch.nn.modules.upsampling', 'torch.nn.modules.distance', 'torch.nn.modules.fold', 'torch.nn.parallel', 'torch.nn.parallel.parallel_apply', 'torch.nn.parallel.replicate', 'torch.cuda.comm', 'torch.cuda.nccl', 'torch.nn.parallel.data_parallel', 'torch.nn.parallel.scatter_gather', 'torch.nn.parallel._functions', 'torch.nn.parallel.distributed', 'torch.distributed', 'torch.nn.parallel.distributed_cpu', 'torch.nn.init', 'torch.optim', 'torch.optim.adadelta', 'torch.optim.optimizer', 'torch.optim.adagrad', 'torch.optim.adam', 'torch.optim.sparse_adam', 'torch.optim.adamax', 'torch.optim.asgd', 'torch.optim.sgd', 'torch.optim.rprop', 'torch.optim.rmsprop', 'torch.optim.lbfgs', 'torch.optim.lr_scheduler', 'torch.multiprocessing', 'torch.multiprocessing.reductions', 'multiprocessing.resource_sharer', 'torch.utils.backcompat', 'torch.jit', 'torch.jit.frontend', 'torch.distributions', 'torch.distributions.bernoulli', 'torch.distributions.constraints', 'torch.distributions.utils', 'torch.distributions.exp_family', 'torch.distributions.distribution', 'torch.distributions.beta', 'torch.distributions.dirichlet', 'torch.distributions.binomial', 'torch.distributions.categorical', 'torch.distributions.cauchy', 'torch.distributions.chi2', 'torch.distributions.gamma', 'torch.distributions.constraint_registry', 'torch.distributions.transforms', 'torch.distributions.exponential', 'torch.distributions.fishersnedecor', 'torch.distributions.geometric', 'torch.distributions.gumbel', 'torch.distributions.uniform', 'torch.distributions.transformed_distribution', 'torch.distributions.independent', 'torch.distributions.kl', 'torch.distributions.laplace', 'torch.distributions.log_normal', 'torch.distributions.normal', 'torch.distributions.logistic_normal', 'torch.distributions.multivariate_normal', 'torch.distributions.one_hot_categorical', 'torch.distributions.pareto', 'torch.distributions.poisson', 'torch.distributions.multinomial', 'torch.distributions.relaxed_bernoulli', 'torch.distributions.relaxed_categorical', 'torch.distributions.studentT', 'torch.backends.mkl', 'torch._torch_docs', 'torch._tensor_docs', 'torch._storage_docs', 'pykeen.utilities.pipeline', 'rdflib', 'rdflib.term', 'isodate', 'isodate.isodates', 'isodate.isostrf', 'isodate.duration', 'isodate.isotzinfo', 'isodate.isoerror', 'isodate.tzinfo', 'isodate.isotime', 'isodate.isodatetime', 'isodate.isoduration', 'rdflib.py3compat', 'rdflib.compat', 'xml.etree', 'xml.etree.cElementTree', 'xml.etree.ElementTree', 'xml.etree.ElementPath', '_elementtree', 'rdflib.namespace', 'rdflib.graph', 'rdflib.plugin', 'rdflib.store', 'rdflib.events', 'rdflib.parser', 'xml.sax', 'xml.sax.xmlreader', 'xml.sax.handler', 'xml.sax._exceptions', 'rdflib.serializer', 'rdflib.query', 'rdflib.exceptions', 'rdflib.paths', 'rdflib.resource', 'rdflib.collection', 'rdflib.util', 'sklearn', 'sklearn.__check_build', 'sklearn.__check_build._check_build', 'sklearn.base', 'scipy', 'scipy._distributor_init', 'scipy.__config__', 'scipy.version', 'scipy._lib', 'scipy._lib._testutils', 'scipy._lib._version', 'scipy._lib.six', 'scipy._lib._ccallback', 'scipy._lib._ccallback_c', 'scipy.sparse', 'scipy.sparse.base', 'scipy._lib._numpy_compat', 'scipy.sparse.sputils', 'scipy.sparse.csr', 'scipy.sparse._sparsetools', 'scipy.sparse.compressed', 'scipy._lib._util', 'scipy.sparse.data', 'scipy.sparse.dia', 'scipy.sparse.csc', 'scipy.sparse.lil', 'scipy.sparse._csparsetools', 'scipy.sparse.dok', 'scipy.sparse.coo', 'scipy.sparse.bsr', 'scipy.sparse.construct', 'scipy.sparse.extract', 'scipy.sparse._matrix_io', 'scipy.sparse.csgraph', 'scipy.sparse.csgraph._laplacian', 'scipy.sparse.csgraph._shortest_path', '_cython_0_29', 'scipy.sparse.csgraph._validation', 'scipy.sparse.csgraph._tools', 'scipy.sparse.csgraph._traversal', 'scipy.sparse.csgraph._min_spanning_tree', 'scipy.sparse.csgraph._reordering', 'sklearn.externals', 'sklearn.externals.six', 'sklearn.externals.six.moves', 'sklearn.externals.six.moves.urllib_parse', 'sklearn.externals.six.moves.urllib.parse', 'sklearn.externals.six.moves.urllib_error', 'sklearn.externals.six.moves.urllib.error', 'sklearn.externals.six.moves.urllib_request', 'sklearn.externals.six.moves.urllib.request', 'sklearn.externals.six.moves.urllib_response', 'sklearn.externals.six.moves.urllib.response', 'sklearn.externals.six.moves.urllib_robotparser', 'sklearn.externals.six.moves.urllib.robotparser', 'sklearn.externals.six.moves.urllib', 'sklearn.utils', 'sklearn.utils.murmurhash', 'sklearn.utils.validation', 'sklearn.utils.fixes', 'scipy.sparse.linalg', 'scipy.sparse.linalg.isolve', 'scipy.sparse.linalg.isolve.iterative', 'scipy.sparse.linalg.isolve._iterative', 'scipy.sparse.linalg.interface', 'scipy.sparse.linalg.isolve.utils', 'scipy._lib._threadsafety', 'scipy._lib.decorator', 'scipy.sparse.linalg.isolve.minres', 'scipy.sparse.linalg.isolve.lgmres', 'scipy.linalg', 'scipy.linalg.linalg_version', 'scipy.linalg.misc', 'scipy.linalg.blas', 'scipy.linalg._fblas', 'scipy.linalg.lapack', 'scipy.linalg._flapack', 'scipy.linalg.basic', 'scipy.linalg.flinalg', 'scipy.linalg._flinalg', 'scipy.linalg.decomp', 'scipy.linalg.decomp_svd', 'scipy.linalg._solve_toeplitz', 'scipy.linalg.decomp_lu', 'scipy.linalg._decomp_ldl', 'scipy.linalg.decomp_cholesky', 'scipy.linalg.decomp_qr', 'scipy.linalg._decomp_qz', 'scipy.linalg.decomp_schur', 'scipy.linalg._decomp_polar', 'scipy.linalg.matfuncs', 'scipy.linalg.special_matrices', 'scipy.linalg._expm_frechet', 'scipy.linalg._matfuncs_sqrtm', 'scipy.linalg._solvers', 'scipy.linalg._procrustes', 'scipy.linalg._decomp_update', 'scipy.linalg.cython_blas', 'scipy.linalg.cython_lapack', 'scipy.linalg._sketches', 'numpy.dual', 'scipy.sparse.linalg.isolve._gcrotmk', 'scipy.sparse.linalg.isolve.lsqr', 'scipy.sparse.linalg.isolve.lsmr', 'scipy.sparse.linalg.dsolve', 'scipy.sparse.linalg.dsolve.linsolve', 'scipy.sparse.linalg.dsolve._superlu', 'scipy.sparse.linalg.dsolve._add_newdocs', 'scipy.sparse.linalg.eigen', 'scipy.sparse.linalg.eigen.arpack', 'scipy.sparse.linalg.eigen.arpack.arpack', 'scipy.sparse.linalg.eigen.arpack._arpack', 'scipy.sparse.linalg.eigen.lobpcg', 'scipy.sparse.linalg.eigen.lobpcg.lobpcg', 'scipy.sparse.linalg.matfuncs', 'scipy.special', 'scipy.special.sf_error', 'scipy.special._ufuncs', 'scipy.special._ufuncs_cxx', 'scipy.special.basic', 'scipy.special.specfun', 'scipy.special.orthogonal', 'scipy.special._comb', 'scipy.special._logsumexp', 'scipy.special.spfun_stats', 'scipy.special._ellip_harm', 'scipy.special._ellip_harm_2', 'scipy.special.lambertw', 'scipy.special._spherical_bessel', 'scipy.sparse.linalg._onenormest', 'scipy.sparse.linalg._norm', 'scipy.sparse.linalg._expm_multiply', 'sklearn.exceptions', 'sklearn.externals.joblib', 'sklearn.externals.joblib.memory', 'sklearn.externals.joblib.hashing', 'sklearn.externals.joblib._compat', 'sklearn.externals.joblib.func_inspect', 'sklearn.externals.joblib.logger', 'sklearn.externals.joblib.disk', 'sklearn.externals.joblib._memory_helpers', 'sklearn.externals.joblib.numpy_pickle', 'sklearn.externals.joblib.numpy_pickle_utils', 'gzip', 'sklearn.externals.joblib.numpy_pickle_compat', 'sklearn.externals.joblib.backports', 'distutils', 'distutils.version', 'sklearn.externals.joblib.parallel', 'sklearn.externals.joblib._multiprocessing_helpers', 'multiprocessing.synchronize', 'sklearn.externals.joblib.format_stack', 'sklearn.externals.joblib.my_exceptions', 'sklearn.externals.joblib._parallel_backends', 'sklearn.externals.joblib.pool', 'mmap', 'multiprocessing.pool', 'sklearn.utils.class_weight', 'sklearn.utils.deprecation', 'sklearn.model_selection', 'sklearn.model_selection._split', 'sklearn.utils.multiclass', 'sklearn.model_selection._validation', 'sklearn.utils.metaestimators', 'sklearn.metrics', 'sklearn.metrics.ranking', 'scipy.stats', 'scipy.stats.stats', 'scipy.stats.distributions', 'scipy.stats._distn_infrastructure', 'scipy.misc', 'scipy.misc.doccer', 'scipy.misc.common', 'scipy.interpolate', 'scipy.interpolate.interpolate', 'scipy.interpolate.fitpack', 'scipy.interpolate._fitpack_impl', 'scipy.interpolate._fitpack', 'scipy.interpolate.dfitpack', 'scipy.interpolate._bsplines', 'scipy.interpolate._bspl', 'scipy.interpolate.polyint', 'scipy.interpolate._ppoly', 'scipy.interpolate.fitpack2', 'scipy.interpolate.interpnd', 'scipy.spatial', 'scipy.spatial.kdtree', 'scipy.spatial.ckdtree', 'scipy.spatial.qhull', 'scipy._lib.messagestream', 'scipy.spatial._spherical_voronoi', 'scipy.spatial._voronoi', 'scipy.spatial.distance', 'scipy.spatial._distance_wrap', 'scipy.spatial._hausdorff', 'scipy.spatial._plotutils', 'scipy.spatial._procrustes', 'scipy.spatial.transform', 'scipy.spatial.transform.rotation', 'scipy.interpolate.rbf', 'scipy.interpolate._cubic', 'scipy.interpolate.ndgriddata', 'scipy.interpolate._pade', 'scipy.misc.pilutil', 'PIL', 'PIL._version', 'PIL.Image', 'PIL._util', 'PIL.ImageMode', 'PIL._binary', 'PIL._imaging', 'cffi', 'cffi.api', 'cffi.lock', 'cffi.error', 'cffi.model', 'PIL.ImageFilter', 'scipy.stats._distr_params', 'scipy.optimize', 'scipy.optimize.optimize', 'scipy.optimize.linesearch', 'scipy.optimize.minpack2', 'scipy.optimize._minimize', 'scipy.optimize._trustregion_dogleg', 'scipy.optimize._trustregion', 'scipy.optimize._trustregion_ncg', 'scipy.optimize._trustregion_krylov', 'scipy.optimize._trlib', 'scipy.optimize._trlib._trlib', 'scipy.optimize._trustregion_exact', 'scipy.optimize._trustregion_constr', 'scipy.optimize._trustregion_constr.minimize_trustregion_constr', 'scipy.optimize._differentiable_functions', 'scipy.optimize._numdiff', 'scipy.optimize._group_columns', 'scipy.optimize._hessian_update_strategy', 'scipy.optimize._constraints', 'scipy.optimize._trustregion_constr.equality_constrained_sqp', 'scipy.optimize._trustregion_constr.projections', 'scipy.optimize._trustregion_constr.qp_subproblem', 'scipy.optimize._trustregion_constr.canonical_constraint', 'scipy.optimize._trustregion_constr.tr_interior_point', 'scipy.optimize._trustregion_constr.report', 'scipy.optimize.lbfgsb', 'scipy.optimize._lbfgsb', 'scipy.optimize.tnc', 'scipy.optimize.moduleTNC', 'scipy.optimize.cobyla', 'scipy.optimize._cobyla', 'scipy.optimize.slsqp', 'scipy.optimize._slsqp', 'scipy.optimize._root', 'scipy.optimize.minpack', 'scipy.optimize._minpack', 'scipy.optimize._lsq', 'scipy.optimize._lsq.least_squares', 'scipy.optimize._lsq.trf', 'scipy.optimize._lsq.common', 'scipy.optimize._lsq.dogbox', 'scipy.optimize._lsq.lsq_linear', 'scipy.optimize._lsq.trf_linear', 'scipy.optimize._lsq.givens_elimination', 'scipy.optimize._lsq.bvls', 'scipy.optimize._spectral', 'scipy.optimize.nonlin', 'scipy.optimize._root_scalar', 'scipy.optimize.zeros', 'scipy.optimize._zeros', 'scipy.optimize.nnls', 'scipy.optimize._nnls', 'scipy.optimize._basinhopping', 'scipy.optimize._linprog', 'scipy.optimize._linprog_ip', 'scipy.optimize._linprog_simplex', 'scipy.optimize._linprog_util', 'scipy.optimize._remove_redundancy', 'scipy.optimize._hungarian', 'scipy.optimize._differentialevolution', 'scipy.optimize._shgo', 'scipy.optimize._shgo_lib', 'scipy.optimize._shgo_lib.sobol_seq', 'scipy.optimize._shgo_lib.triangulation', 'scipy.optimize._dual_annealing', 'scipy.integrate', 'scipy.integrate.quadrature', 'scipy.integrate.odepack', 'scipy.integrate._odepack', 'scipy.integrate.quadpack', 'scipy.integrate._quadpack', 'scipy.integrate._ode', 'scipy.integrate.vode', 'scipy.integrate._dop', 'scipy.integrate.lsoda', 'scipy.integrate._bvp', 'scipy.integrate._ivp', 'scipy.integrate._ivp.ivp', 'scipy.integrate._ivp.bdf', 'scipy.integrate._ivp.common', 'scipy.integrate._ivp.base', 'scipy.integrate._ivp.radau', 'scipy.integrate._ivp.rk', 'scipy.integrate._ivp.lsoda', 'scipy.stats._constants', 'scipy.stats._continuous_distns', 'scipy.stats._stats', 'scipy.stats._tukeylambda_stats', 'scipy.stats._discrete_distns', 'scipy.stats.mstats_basic', 'scipy.stats._stats_mstats_common', 'scipy.stats._rvs_sampling', 'scipy.stats.morestats', 'scipy.stats.statlib', 'scipy.stats.contingency', 'scipy.stats._binned_statistic', 'scipy.stats.kde', 'scipy.stats.mvn', 'scipy.stats.mstats', 'scipy.stats.mstats_extras', 'scipy.stats._multivariate', 'sklearn.utils.extmath', 'sklearn.utils._logistic_sigmoid', '_cython_0_27_1', 'sklearn.utils.sparsefuncs_fast', 'sklearn.utils.sparsefuncs', 'sklearn.preprocessing', 'sklearn.preprocessing._function_transformer', 'sklearn.preprocessing.data', 'sklearn.preprocessing.label', 'sklearn.preprocessing.imputation', 'sklearn.metrics.base', 'sklearn.metrics.classification', 'sklearn.metrics.cluster', 'sklearn.metrics.cluster.supervised', 'sklearn.metrics.cluster.expected_mutual_info_fast', 'sklearn.utils.lgamma', 'sklearn.metrics.cluster.unsupervised', 'sklearn.metrics.pairwise', 'sklearn.metrics.pairwise_fast', 'sklearn.metrics.cluster.bicluster', 'sklearn.utils.linear_assignment_', 'sklearn.metrics.regression', 'sklearn.metrics.scorer', 'sklearn.model_selection._search', 'sklearn.utils.random', 'sklearn.utils._random', 'pykeen.hpo', 'pykeen.hpo.random_search', 'tqdm', 'tqdm._tqdm', 'tqdm._utils', 'tqdm._monitor', 'tqdm._tqdm_gui', 'tqdm._tqdm_pandas', 'tqdm._main', 'tqdm._version', 'pykeen.hpo.utils', 'pykeen.kge_models', 'pykeen.kge_models.conv_e', 'pykeen.kge_models.distmult', 'pykeen.kge_models.base', 'pykeen.kge_models.ermlp', 'pykeen.kge_models.rescal', 'pykeen.kge_models.structured_embedding', 'pykeen.kge_models.trans_e', 'pykeen.kge_models.trans_d', 'pykeen.kge_models.trans_h', 'pykeen.kge_models.trans_r', 'pykeen.kge_models.region', 'pykeen.kge_models.kg2e_kl', 'pykeen.kge_models.unstructured_model', 'pykeen.kge_models.utils', 'pykeen.utilities.evaluation_utils', 'pykeen.utilities.evaluation_utils.metrics_computations', 'pykeen.utilities.train_utils', 'pykeen.utilities.triples_creation_utils', 'pykeen.utilities.triples_creation_utils.data_transformation_utils', 'pykeen.utilities.triples_creation_utils.instance_creation_utils', 'matplotlib', 'matplotlib.cbook', 'matplotlib.cbook.deprecation', 'matplotlib.rcsetup', 'matplotlib.fontconfig_pattern', 'pyparsing', 'matplotlib.colors', 'matplotlib._color_data', 'cycler', 'matplotlib._version']\n"
     ]
    },
    {
     "name": "stderr",
     "output_type": "stream",
     "text": [
      "DEBUG:matplotlib:CACHEDIR=C:\\Users\\aquam\\.matplotlib\n",
      "DEBUG:matplotlib.font_manager:Using fontManager instance from C:\\Users\\aquam\\.matplotlib\\fontlist-v300.json\n",
      "DEBUG:matplotlib.pyplot:Loaded backend module://ipykernel.pylab.backend_inline version unknown.\n",
      "DEBUG:matplotlib.pyplot:Loaded backend module://ipykernel.pylab.backend_inline version unknown.\n"
     ]
    }
   ],
   "source": [
    "import numpy as np\n",
    "import matplotlib.pyplot as plt"
   ]
  },
  {
   "cell_type": "code",
   "execution_count": 13,
   "metadata": {
    "ExecuteTime": {
     "end_time": "2019-05-27T19:21:32.687430Z",
     "start_time": "2019-05-27T19:21:32.678453Z"
    }
   },
   "outputs": [
    {
     "name": "stderr",
     "output_type": "stream",
     "text": [
      "DEBUG:matplotlib.pyplot:Loaded backend module://ipykernel.pylab.backend_inline version unknown.\n"
     ]
    }
   ],
   "source": [
    "%matplotlib inline"
   ]
  },
  {
   "cell_type": "code",
   "execution_count": 14,
   "metadata": {
    "ExecuteTime": {
     "end_time": "2019-05-27T20:18:02.286938Z",
     "start_time": "2019-05-27T19:21:32.689425Z"
    }
   },
   "outputs": [
    {
     "name": "stderr",
     "output_type": "stream",
     "text": [
      "DEBUG:pykeen.utilities.pipeline:Reading the label mappings...\n"
     ]
    },
    {
     "name": "stdout",
     "output_type": "stream",
     "text": [
      "{'metrics': ['prediction'], 'training_set_path': ['D:/uni/master/data/YAGO39K/Train/triple2id.tsv', 'D:/uni/master/data/YAGO39K/Train/long.tsv', 'D:/uni/master/data/YAGO39K/Train/instanceOf2id.tsv', 'D:/uni/master/data/YAGO39K/Train/subClassOf2id.tsv'], 'test_set_path': 'D:/uni/master/data/YAGO39K/Valid/mixed_150_positive.tsv', 'neg_test_set_path': ['D:/uni/master/data/YAGO39K/Valid/triple2id_negative.tsv', 'D:/uni/master/data/YAGO39K/Valid/instanceOf2id_negative.tsv', 'D:/uni/master/data/YAGO39K/Valid/subClassOf2id_negative.tsv'], 'mapping_path': 'D:/uni/master/data/YAGO39K/', 'execution_mode': 'Training_mode', 'random_seed': 2, 'kg_embedding_model_name': 'TransE', 'embedding_dim': 50, 'scoring_function': 1, 'normalization_of_entities': 2, 'margin_loss': 1, 'learning_rate': 0.005, 'es_metric': 'mean_rank', 'num_epochs': 1000, 'batch_size': 1024, 'test_batch_size': 4096, 'filter_negative_triples': False, 'preferred_device': 'gpu', 'pykeen-version': '0.0.26-dev', 'num_entities': 85482, 'num_relations': 39}\n"
     ]
    },
    {
     "name": "stderr",
     "output_type": "stream",
     "text": [
      "INFO:pykeen.utilities.pipeline:-------------Train KG Embeddings-------------\n",
      "DEBUG:pykeen.utilities.train_utils:****running model on cuda:0****\n",
      "100%|████████████████████████████████████████████████████████████████████████████████| 150/150 [00:11<00:00, 12.73it/s]\n",
      "INFO:pykeen.utilities.evaluation_utils.metrics_computations:Evaluation took 15.24s seconds\n"
     ]
    },
    {
     "name": "stdout",
     "output_type": "stream",
     "text": [
      "0.022286865782570758 (0.022286865782570758, 0.04)\n"
     ]
    },
    {
     "name": "stderr",
     "output_type": "stream",
     "text": [
      "INFO:pykeen.utilities.train_utils:Epoch  0 / 1000 (29.0 s):   loss: 0.475   val loss: 0.356   value: 0.022\n",
      "DEBUG:pykeen.utilities.train_utils:Saving the following model to disk:\n",
      "INFO:pykeen.utilities.train_utils:Epoch  1 / 1000 (28.8 s):   loss: 0.236   val loss: 0.244   value: 0.022\n",
      "INFO:pykeen.utilities.train_utils:Epoch  2 / 1000 (28.8 s):   loss: 0.208   val loss: 0.251   value: 0.022\n",
      "INFO:pykeen.utilities.train_utils:Epoch  3 / 1000 (28.8 s):   loss: 0.196   val loss: 0.150   value: 0.022\n",
      "INFO:pykeen.utilities.train_utils:Epoch  4 / 1000 (29.0 s):   loss: 0.188   val loss: 0.211   value: 0.022\n",
      "INFO:pykeen.utilities.train_utils:Epoch  5 / 1000 (29.0 s):   loss: 0.183   val loss: 0.217   value: 0.022\n",
      "INFO:pykeen.utilities.train_utils:Epoch  6 / 1000 (29.0 s):   loss: 0.179   val loss: 0.211   value: 0.022\n",
      "INFO:pykeen.utilities.train_utils:Epoch  7 / 1000 (29.4 s):   loss: 0.176   val loss: 0.219   value: 0.022\n",
      "INFO:pykeen.utilities.train_utils:Epoch  8 / 1000 (28.9 s):   loss: 0.171   val loss: 0.176   value: 0.022\n",
      "INFO:pykeen.utilities.train_utils:Epoch  9 / 1000 (28.9 s):   loss: 0.167   val loss: 0.216   value: 0.022\n",
      "100%|████████████████████████████████████████████████████████████████████████████████| 150/150 [00:12<00:00, 12.37it/s]\n",
      "INFO:pykeen.utilities.evaluation_utils.metrics_computations:Evaluation took 16.32s seconds\n"
     ]
    },
    {
     "name": "stdout",
     "output_type": "stream",
     "text": [
      "0.02041526271711187 (0.02041526271711187, 0.043333333333333335)\n"
     ]
    },
    {
     "name": "stderr",
     "output_type": "stream",
     "text": [
      "INFO:pykeen.utilities.train_utils:Epoch 10 / 1000 (29.0 s):   loss: 0.163   val loss: 0.168   value: 0.020\n",
      "INFO:pykeen.utilities.train_utils:Epoch 11 / 1000 (28.9 s):   loss: 0.158   val loss: 0.176   value: 0.020\n",
      "INFO:pykeen.utilities.train_utils:Epoch 12 / 1000 (28.9 s):   loss: 0.152   val loss: 0.228   value: 0.020\n",
      "INFO:pykeen.utilities.train_utils:Epoch 13 / 1000 (28.8 s):   loss: 0.147   val loss: 0.179   value: 0.020\n",
      "INFO:pykeen.utilities.train_utils:Epoch 14 / 1000 (28.8 s):   loss: 0.141   val loss: 0.212   value: 0.020\n",
      "INFO:pykeen.utilities.train_utils:Epoch 15 / 1000 (28.8 s):   loss: 0.136   val loss: 0.198   value: 0.020\n",
      "INFO:pykeen.utilities.train_utils:Epoch 16 / 1000 (28.9 s):   loss: 0.130   val loss: 0.160   value: 0.020\n",
      "INFO:pykeen.utilities.train_utils:Epoch 17 / 1000 (28.8 s):   loss: 0.124   val loss: 0.212   value: 0.020\n",
      "INFO:pykeen.utilities.train_utils:Epoch 18 / 1000 (28.8 s):   loss: 0.119   val loss: 0.157   value: 0.020\n",
      "INFO:pykeen.utilities.train_utils:Epoch 19 / 1000 (28.8 s):   loss: 0.114   val loss: 0.175   value: 0.020\n",
      "100%|████████████████████████████████████████████████████████████████████████████████| 150/150 [00:11<00:00, 13.50it/s]\n",
      "INFO:pykeen.utilities.evaluation_utils.metrics_computations:Evaluation took 14.40s seconds\n"
     ]
    },
    {
     "name": "stdout",
     "output_type": "stream",
     "text": [
      "0.0242431802541168 (0.0242431802541168, 0.05)\n"
     ]
    },
    {
     "name": "stderr",
     "output_type": "stream",
     "text": [
      "DEBUG:pykeen.utilities.train_utils:Saving the following model to disk:\n",
      "INFO:pykeen.utilities.train_utils:Epoch 20 / 1000 (28.8 s):   loss: 0.109   val loss: 0.214   value: 0.024\n",
      "INFO:pykeen.utilities.train_utils:Epoch 21 / 1000 (28.8 s):   loss: 0.103   val loss: 0.134   value: 0.024\n",
      "INFO:pykeen.utilities.train_utils:Epoch 22 / 1000 (28.8 s):   loss: 0.098   val loss: 0.237   value: 0.024\n",
      "INFO:pykeen.utilities.train_utils:Epoch 23 / 1000 (28.8 s):   loss: 0.093   val loss: 0.151   value: 0.024\n",
      "INFO:pykeen.utilities.train_utils:Epoch 24 / 1000 (28.8 s):   loss: 0.088   val loss: 0.173   value: 0.024\n",
      "INFO:pykeen.utilities.train_utils:Epoch 25 / 1000 (28.8 s):   loss: 0.082   val loss: 0.193   value: 0.024\n",
      "INFO:pykeen.utilities.train_utils:Epoch 26 / 1000 (28.8 s):   loss: 0.082   val loss: 0.118   value: 0.024\n",
      "INFO:pykeen.utilities.train_utils:Epoch 27 / 1000 (28.8 s):   loss: 0.078   val loss: 0.138   value: 0.024\n",
      "INFO:pykeen.utilities.train_utils:Epoch 28 / 1000 (28.8 s):   loss: 0.073   val loss: 0.256   value: 0.024\n",
      "INFO:pykeen.utilities.train_utils:Epoch 29 / 1000 (28.8 s):   loss: 0.066   val loss: 0.157   value: 0.024\n",
      "100%|████████████████████████████████████████████████████████████████████████████████| 150/150 [00:11<00:00, 13.22it/s]\n",
      "INFO:pykeen.utilities.evaluation_utils.metrics_computations:Evaluation took 14.52s seconds\n"
     ]
    },
    {
     "name": "stdout",
     "output_type": "stream",
     "text": [
      "0.037321555205460995 (0.037321555205460995, 0.06333333333333334)\n"
     ]
    },
    {
     "name": "stderr",
     "output_type": "stream",
     "text": [
      "DEBUG:pykeen.utilities.train_utils:Saving the following model to disk:\n",
      "INFO:pykeen.utilities.train_utils:Epoch 30 / 1000 (28.8 s):   loss: 0.065   val loss: 0.198   value: 0.037\n",
      "INFO:pykeen.utilities.train_utils:Epoch 31 / 1000 (28.8 s):   loss: 0.058   val loss: 0.160   value: 0.037\n",
      "INFO:pykeen.utilities.train_utils:Epoch 32 / 1000 (28.8 s):   loss: 0.060   val loss: 0.156   value: 0.037\n",
      "INFO:pykeen.utilities.train_utils:Epoch 33 / 1000 (28.8 s):   loss: 0.055   val loss: 0.164   value: 0.037\n",
      "INFO:pykeen.utilities.train_utils:Epoch 34 / 1000 (28.8 s):   loss: 0.052   val loss: 0.123   value: 0.037\n",
      "INFO:pykeen.utilities.train_utils:Epoch 35 / 1000 (28.8 s):   loss: 0.050   val loss: 0.138   value: 0.037\n",
      "INFO:pykeen.utilities.train_utils:Epoch 36 / 1000 (28.8 s):   loss: 0.045   val loss: 0.125   value: 0.037\n",
      "INFO:pykeen.utilities.train_utils:Epoch 37 / 1000 (28.8 s):   loss: 0.043   val loss: 0.098   value: 0.037\n",
      "INFO:pykeen.utilities.train_utils:Epoch 38 / 1000 (28.8 s):   loss: 0.040   val loss: 0.121   value: 0.037\n",
      "INFO:pykeen.utilities.train_utils:Epoch 39 / 1000 (28.8 s):   loss: 0.039   val loss: 0.183   value: 0.037\n",
      "100%|████████████████████████████████████████████████████████████████████████████████| 150/150 [00:11<00:00, 13.42it/s]\n",
      "INFO:pykeen.utilities.evaluation_utils.metrics_computations:Evaluation took 14.54s seconds\n"
     ]
    },
    {
     "name": "stdout",
     "output_type": "stream",
     "text": [
      "0.04329235685818309 (0.04329235685818309, 0.08)\n"
     ]
    },
    {
     "name": "stderr",
     "output_type": "stream",
     "text": [
      "DEBUG:pykeen.utilities.train_utils:Saving the following model to disk:\n",
      "INFO:pykeen.utilities.train_utils:Epoch 40 / 1000 (28.9 s):   loss: 0.037   val loss: 0.163   value: 0.043\n",
      "INFO:pykeen.utilities.train_utils:Epoch 41 / 1000 (28.8 s):   loss: 0.036   val loss: 0.181   value: 0.043\n",
      "INFO:pykeen.utilities.train_utils:Epoch 42 / 1000 (28.8 s):   loss: 0.034   val loss: 0.173   value: 0.043\n",
      "INFO:pykeen.utilities.train_utils:Epoch 43 / 1000 (28.8 s):   loss: 0.033   val loss: 0.141   value: 0.043\n",
      "INFO:pykeen.utilities.train_utils:Epoch 44 / 1000 (28.8 s):   loss: 0.032   val loss: 0.179   value: 0.043\n",
      "INFO:pykeen.utilities.train_utils:Epoch 45 / 1000 (28.8 s):   loss: 0.031   val loss: 0.199   value: 0.043\n",
      "INFO:pykeen.utilities.train_utils:Epoch 46 / 1000 (28.8 s):   loss: 0.030   val loss: 0.166   value: 0.043\n",
      "INFO:pykeen.utilities.train_utils:Epoch 47 / 1000 (28.8 s):   loss: 0.029   val loss: 0.146   value: 0.043\n",
      "INFO:pykeen.utilities.train_utils:Epoch 48 / 1000 (28.8 s):   loss: 0.028   val loss: 0.105   value: 0.043\n",
      "INFO:pykeen.utilities.train_utils:Epoch 49 / 1000 (28.8 s):   loss: 0.027   val loss: 0.107   value: 0.043\n",
      "100%|████████████████████████████████████████████████████████████████████████████████| 150/150 [00:11<00:00, 13.43it/s]\n",
      "INFO:pykeen.utilities.evaluation_utils.metrics_computations:Evaluation took 14.38s seconds\n"
     ]
    },
    {
     "name": "stdout",
     "output_type": "stream",
     "text": [
      "0.05008524674871493 (0.05008524674871493, 0.09666666666666666)\n"
     ]
    },
    {
     "name": "stderr",
     "output_type": "stream",
     "text": [
      "DEBUG:pykeen.utilities.train_utils:Saving the following model to disk:\n",
      "INFO:pykeen.utilities.train_utils:Epoch 50 / 1000 (28.8 s):   loss: 0.027   val loss: 0.151   value: 0.050\n",
      "INFO:pykeen.utilities.train_utils:Epoch 51 / 1000 (28.8 s):   loss: 0.026   val loss: 0.170   value: 0.050\n",
      "INFO:pykeen.utilities.train_utils:Epoch 52 / 1000 (28.8 s):   loss: 0.026   val loss: 0.179   value: 0.050\n",
      "INFO:pykeen.utilities.train_utils:Epoch 53 / 1000 (28.8 s):   loss: 0.025   val loss: 0.090   value: 0.050\n",
      "INFO:pykeen.utilities.train_utils:Epoch 54 / 1000 (28.8 s):   loss: 0.024   val loss: 0.135   value: 0.050\n",
      "INFO:pykeen.utilities.train_utils:Epoch 55 / 1000 (28.8 s):   loss: 0.024   val loss: 0.117   value: 0.050\n",
      "INFO:pykeen.utilities.train_utils:Epoch 56 / 1000 (28.8 s):   loss: 0.023   val loss: 0.123   value: 0.050\n",
      "INFO:pykeen.utilities.train_utils:Epoch 57 / 1000 (28.8 s):   loss: 0.023   val loss: 0.081   value: 0.050\n",
      "INFO:pykeen.utilities.train_utils:Epoch 58 / 1000 (28.8 s):   loss: 0.023   val loss: 0.139   value: 0.050\n",
      "INFO:pykeen.utilities.train_utils:Epoch 59 / 1000 (28.8 s):   loss: 0.022   val loss: 0.116   value: 0.050\n",
      "100%|████████████████████████████████████████████████████████████████████████████████| 150/150 [00:11<00:00, 13.18it/s]\n",
      "INFO:pykeen.utilities.evaluation_utils.metrics_computations:Evaluation took 14.44s seconds\n"
     ]
    },
    {
     "name": "stdout",
     "output_type": "stream",
     "text": [
      "0.04287158281462055 (0.04287158281462055, 0.1)\n"
     ]
    },
    {
     "name": "stderr",
     "output_type": "stream",
     "text": [
      "INFO:pykeen.utilities.train_utils:Epoch 60 / 1000 (28.8 s):   loss: 0.022   val loss: 0.145   value: 0.043\n",
      "INFO:pykeen.utilities.train_utils:Epoch 61 / 1000 (28.8 s):   loss: 0.022   val loss: 0.111   value: 0.043\n",
      "INFO:pykeen.utilities.train_utils:Epoch 62 / 1000 (28.8 s):   loss: 0.021   val loss: 0.144   value: 0.043\n",
      "INFO:pykeen.utilities.train_utils:Epoch 63 / 1000 (28.8 s):   loss: 0.021   val loss: 0.098   value: 0.043\n",
      "INFO:pykeen.utilities.train_utils:Epoch 64 / 1000 (28.8 s):   loss: 0.021   val loss: 0.081   value: 0.043\n",
      "INFO:pykeen.utilities.train_utils:Epoch 65 / 1000 (28.8 s):   loss: 0.020   val loss: 0.116   value: 0.043\n",
      "INFO:pykeen.utilities.train_utils:Epoch 66 / 1000 (28.9 s):   loss: 0.020   val loss: 0.132   value: 0.043\n",
      "INFO:pykeen.utilities.train_utils:Epoch 67 / 1000 (28.8 s):   loss: 0.020   val loss: 0.112   value: 0.043\n",
      "INFO:pykeen.utilities.train_utils:Epoch 68 / 1000 (28.8 s):   loss: 0.020   val loss: 0.143   value: 0.043\n",
      "INFO:pykeen.utilities.train_utils:Epoch 69 / 1000 (28.9 s):   loss: 0.019   val loss: 0.164   value: 0.043\n",
      "100%|████████████████████████████████████████████████████████████████████████████████| 150/150 [00:11<00:00, 13.27it/s]\n",
      "INFO:pykeen.utilities.evaluation_utils.metrics_computations:Evaluation took 14.37s seconds\n"
     ]
    },
    {
     "name": "stdout",
     "output_type": "stream",
     "text": [
      "0.06826790098353258 (0.06826790098353258, 0.11333333333333333)\n"
     ]
    },
    {
     "name": "stderr",
     "output_type": "stream",
     "text": [
      "DEBUG:pykeen.utilities.train_utils:Saving the following model to disk:\n",
      "INFO:pykeen.utilities.train_utils:Epoch 70 / 1000 (28.8 s):   loss: 0.019   val loss: 0.114   value: 0.068\n",
      "INFO:pykeen.utilities.train_utils:Epoch 71 / 1000 (28.9 s):   loss: 0.019   val loss: 0.100   value: 0.068\n",
      "INFO:pykeen.utilities.train_utils:Epoch 72 / 1000 (28.8 s):   loss: 0.019   val loss: 0.155   value: 0.068\n",
      "INFO:pykeen.utilities.train_utils:Epoch 73 / 1000 (28.9 s):   loss: 0.018   val loss: 0.136   value: 0.068\n",
      "INFO:pykeen.utilities.train_utils:Epoch 74 / 1000 (28.8 s):   loss: 0.018   val loss: 0.119   value: 0.068\n",
      "INFO:pykeen.utilities.train_utils:Epoch 75 / 1000 (29.0 s):   loss: 0.018   val loss: 0.171   value: 0.068\n",
      "INFO:pykeen.utilities.train_utils:Epoch 76 / 1000 (29.1 s):   loss: 0.018   val loss: 0.138   value: 0.068\n",
      "INFO:pykeen.utilities.train_utils:Epoch 77 / 1000 (29.3 s):   loss: 0.018   val loss: 0.103   value: 0.068\n",
      "INFO:pykeen.utilities.train_utils:Epoch 78 / 1000 (29.3 s):   loss: 0.018   val loss: 0.096   value: 0.068\n",
      "INFO:pykeen.utilities.train_utils:Epoch 79 / 1000 (29.0 s):   loss: 0.017   val loss: 0.108   value: 0.068\n",
      "100%|████████████████████████████████████████████████████████████████████████████████| 150/150 [00:11<00:00, 12.19it/s]\n",
      "INFO:pykeen.utilities.evaluation_utils.metrics_computations:Evaluation took 14.97s seconds\n"
     ]
    },
    {
     "name": "stdout",
     "output_type": "stream",
     "text": [
      "0.058244532862039795 (0.058244532862039795, 0.13333333333333333)\n"
     ]
    },
    {
     "name": "stderr",
     "output_type": "stream",
     "text": [
      "INFO:pykeen.utilities.train_utils:Epoch 80 / 1000 (29.0 s):   loss: 0.017   val loss: 0.142   value: 0.058\n",
      "INFO:pykeen.utilities.train_utils:Epoch 81 / 1000 (29.0 s):   loss: 0.017   val loss: 0.133   value: 0.058\n",
      "INFO:pykeen.utilities.train_utils:Epoch 82 / 1000 (29.0 s):   loss: 0.017   val loss: 0.124   value: 0.058\n",
      "INFO:pykeen.utilities.train_utils:Epoch 83 / 1000 (29.1 s):   loss: 0.017   val loss: 0.145   value: 0.058\n",
      "INFO:pykeen.utilities.train_utils:Epoch 84 / 1000 (29.0 s):   loss: 0.017   val loss: 0.146   value: 0.058\n",
      "INFO:pykeen.utilities.train_utils:Epoch 85 / 1000 (28.9 s):   loss: 0.017   val loss: 0.092   value: 0.058\n",
      "INFO:pykeen.utilities.train_utils:Epoch 86 / 1000 (29.5 s):   loss: 0.016   val loss: 0.098   value: 0.058\n",
      "INFO:pykeen.utilities.train_utils:Epoch 87 / 1000 (30.4 s):   loss: 0.016   val loss: 0.123   value: 0.058\n",
      "INFO:pykeen.utilities.train_utils:Epoch 88 / 1000 (30.9 s):   loss: 0.016   val loss: 0.128   value: 0.058\n",
      "INFO:pykeen.utilities.train_utils:Epoch 89 / 1000 (29.7 s):   loss: 0.016   val loss: 0.164   value: 0.058\n",
      "100%|████████████████████████████████████████████████████████████████████████████████| 150/150 [00:13<00:00, 11.34it/s]\n",
      "INFO:pykeen.utilities.evaluation_utils.metrics_computations:Evaluation took 18.35s seconds\n"
     ]
    },
    {
     "name": "stdout",
     "output_type": "stream",
     "text": [
      "0.06765462187457724 (0.06765462187457724, 0.13666666666666666)\n"
     ]
    },
    {
     "name": "stderr",
     "output_type": "stream",
     "text": [
      "INFO:pykeen.utilities.train_utils:Epoch 90 / 1000 (30.1 s):   loss: 0.016   val loss: 0.136   value: 0.068\n",
      "INFO:pykeen.utilities.train_utils:Epoch 91 / 1000 (29.3 s):   loss: 0.016   val loss: 0.137   value: 0.068\n",
      "INFO:pykeen.utilities.train_utils:Epoch 92 / 1000 (29.1 s):   loss: 0.016   val loss: 0.135   value: 0.068\n",
      "INFO:pykeen.utilities.train_utils:Epoch 93 / 1000 (29.3 s):   loss: 0.016   val loss: 0.148   value: 0.068\n",
      "INFO:pykeen.utilities.train_utils:Epoch 94 / 1000 (29.2 s):   loss: 0.016   val loss: 0.113   value: 0.068\n",
      "INFO:pykeen.utilities.train_utils:Epoch 95 / 1000 (29.1 s):   loss: 0.015   val loss: 0.133   value: 0.068\n",
      "INFO:pykeen.utilities.train_utils:Epoch 96 / 1000 (29.2 s):   loss: 0.015   val loss: 0.119   value: 0.068\n",
      "INFO:pykeen.utilities.train_utils:Epoch 97 / 1000 (29.4 s):   loss: 0.015   val loss: 0.116   value: 0.068\n",
      "INFO:pykeen.utilities.train_utils:Epoch 98 / 1000 (29.6 s):   loss: 0.015   val loss: 0.153   value: 0.068\n",
      "INFO:pykeen.utilities.train_utils:Epoch 99 / 1000 (29.1 s):   loss: 0.015   val loss: 0.126   value: 0.068\n",
      "100%|████████████████████████████████████████████████████████████████████████████████| 150/150 [00:14<00:00, 10.22it/s]\n",
      "INFO:pykeen.utilities.evaluation_utils.metrics_computations:Evaluation took 19.64s seconds\n"
     ]
    },
    {
     "name": "stdout",
     "output_type": "stream",
     "text": [
      "0.06625414005998619 (0.06625414005998619, 0.14666666666666667)\n"
     ]
    },
    {
     "name": "stderr",
     "output_type": "stream",
     "text": [
      "INFO:pykeen.utilities.train_utils:Epoch 100 / 1000 (29.3 s):   loss: 0.015   val loss: 0.125   value: 0.066\n",
      "INFO:pykeen.utilities.train_utils:Epoch 101 / 1000 (29.2 s):   loss: 0.015   val loss: 0.140   value: 0.066\n",
      "INFO:pykeen.utilities.train_utils:Epoch 102 / 1000 (29.0 s):   loss: 0.015   val loss: 0.156   value: 0.066\n",
      "INFO:pykeen.utilities.train_utils:Epoch 103 / 1000 (29.2 s):   loss: 0.015   val loss: 0.105   value: 0.066\n",
      "INFO:pykeen.utilities.train_utils:Epoch 104 / 1000 (29.4 s):   loss: 0.015   val loss: 0.115   value: 0.066\n",
      "INFO:pykeen.utilities.train_utils:Epoch 105 / 1000 (29.5 s):   loss: 0.015   val loss: 0.100   value: 0.066\n",
      "INFO:pykeen.utilities.train_utils:Epoch 106 / 1000 (29.3 s):   loss: 0.014   val loss: 0.083   value: 0.066\n",
      "INFO:pykeen.utilities.train_utils:Epoch 107 / 1000 (29.3 s):   loss: 0.015   val loss: 0.117   value: 0.066\n",
      "INFO:pykeen.utilities.train_utils:Epoch 108 / 1000 (30.1 s):   loss: 0.014   val loss: 0.106   value: 0.066\n",
      "INFO:pykeen.utilities.train_utils:Epoch 109 / 1000 (29.9 s):   loss: 0.014   val loss: 0.114   value: 0.066\n"
     ]
    },
    {
     "ename": "KeyboardInterrupt",
     "evalue": "",
     "output_type": "error",
     "traceback": [
      "\u001b[1;31m---------------------------------------------------------------------------\u001b[0m",
      "\u001b[1;31mKeyboardInterrupt\u001b[0m                         Traceback (most recent call last)",
      "\u001b[1;32m<ipython-input-14-c7a83f0f10a4>\u001b[0m in \u001b[0;36m<module>\u001b[1;34m\u001b[0m\n\u001b[0;32m      1\u001b[0m results = pykeen.run(\n\u001b[0;32m      2\u001b[0m     \u001b[0mconfig\u001b[0m\u001b[1;33m=\u001b[0m\u001b[0mconfig\u001b[0m\u001b[1;33m,\u001b[0m\u001b[1;33m\u001b[0m\u001b[1;33m\u001b[0m\u001b[0m\n\u001b[1;32m----> 3\u001b[1;33m     \u001b[0moutput_directory\u001b[0m\u001b[1;33m=\u001b[0m\u001b[0moutput_directory\u001b[0m\u001b[1;33m,\u001b[0m\u001b[1;33m\u001b[0m\u001b[1;33m\u001b[0m\u001b[0m\n\u001b[0m\u001b[0;32m      4\u001b[0m )\n",
      "\u001b[1;32md:\\uni\\master\\pykeen\\src\\pykeen\\run.py\u001b[0m in \u001b[0;36mrun\u001b[1;34m(config, output_directory)\u001b[0m\n\u001b[0;32m    147\u001b[0m \u001b[1;33m\u001b[0m\u001b[0m\n\u001b[0;32m    148\u001b[0m     \u001b[0mpipeline\u001b[0m \u001b[1;33m=\u001b[0m \u001b[0mPipeline\u001b[0m\u001b[1;33m(\u001b[0m\u001b[0mconfig\u001b[0m\u001b[1;33m=\u001b[0m\u001b[0mconfig\u001b[0m\u001b[1;33m)\u001b[0m\u001b[1;33m\u001b[0m\u001b[1;33m\u001b[0m\u001b[0m\n\u001b[1;32m--> 149\u001b[1;33m     \u001b[0mresults\u001b[0m \u001b[1;33m=\u001b[0m \u001b[0mpipeline\u001b[0m\u001b[1;33m.\u001b[0m\u001b[0mrun\u001b[0m\u001b[1;33m(\u001b[0m\u001b[0moutput_directory\u001b[0m\u001b[1;33m)\u001b[0m\u001b[1;33m\u001b[0m\u001b[1;33m\u001b[0m\u001b[0m\n\u001b[0m\u001b[0;32m    150\u001b[0m \u001b[1;33m\u001b[0m\u001b[0m\n\u001b[0;32m    151\u001b[0m     \u001b[1;31m# Export experimental artifacts\u001b[0m\u001b[1;33m\u001b[0m\u001b[1;33m\u001b[0m\u001b[1;33m\u001b[0m\u001b[0m\n",
      "\u001b[1;32md:\\uni\\master\\pykeen\\src\\pykeen\\utilities\\pipeline.py\u001b[0m in \u001b[0;36mrun\u001b[1;34m(self, output_directory)\u001b[0m\n\u001b[0;32m    131\u001b[0m                 \u001b[0msingle_pass\u001b[0m\u001b[1;33m=\u001b[0m\u001b[0msingle_pass\u001b[0m\u001b[1;33m,\u001b[0m\u001b[1;33m\u001b[0m\u001b[1;33m\u001b[0m\u001b[0m\n\u001b[0;32m    132\u001b[0m                 \u001b[0mseed\u001b[0m\u001b[1;33m=\u001b[0m\u001b[0mself\u001b[0m\u001b[1;33m.\u001b[0m\u001b[0mseed\u001b[0m\u001b[1;33m,\u001b[0m\u001b[1;33m\u001b[0m\u001b[1;33m\u001b[0m\u001b[0m\n\u001b[1;32m--> 133\u001b[1;33m                 \u001b[0mmodel_dir\u001b[0m\u001b[1;33m=\u001b[0m\u001b[0moutput_directory\u001b[0m\u001b[1;33m\u001b[0m\u001b[1;33m\u001b[0m\u001b[0m\n\u001b[0m\u001b[0;32m    134\u001b[0m             )\n\u001b[0;32m    135\u001b[0m \u001b[1;33m\u001b[0m\u001b[0m\n",
      "\u001b[1;32md:\\uni\\master\\pykeen\\src\\pykeen\\utilities\\train_utils.py\u001b[0m in \u001b[0;36mtrain_kge_model\u001b[1;34m(kge_model, all_entities, learning_rate, num_epochs, batch_size, test_batch_size, train_triples, train_types, val_triples, val_types, neg_val_triples, device, model_dir, es_metric, neg_factor, single_pass, seed, tqdm_kwargs)\u001b[0m\n\u001b[0;32m     82\u001b[0m         \u001b[0msingle_pass\u001b[0m\u001b[1;33m=\u001b[0m\u001b[0msingle_pass\u001b[0m\u001b[1;33m,\u001b[0m\u001b[1;33m\u001b[0m\u001b[1;33m\u001b[0m\u001b[0m\n\u001b[0;32m     83\u001b[0m         \u001b[0mtqdm_kwargs\u001b[0m\u001b[1;33m=\u001b[0m\u001b[0mtqdm_kwargs\u001b[0m\u001b[1;33m,\u001b[0m\u001b[1;33m\u001b[0m\u001b[1;33m\u001b[0m\u001b[0m\n\u001b[1;32m---> 84\u001b[1;33m         \u001b[0mmodel_dir\u001b[0m\u001b[1;33m=\u001b[0m\u001b[0mmodel_dir\u001b[0m\u001b[1;33m\u001b[0m\u001b[1;33m\u001b[0m\u001b[0m\n\u001b[0m\u001b[0;32m     85\u001b[0m     )\n\u001b[0;32m     86\u001b[0m \u001b[1;33m\u001b[0m\u001b[0m\n",
      "\u001b[1;32md:\\uni\\master\\pykeen\\src\\pykeen\\utilities\\train_utils.py\u001b[0m in \u001b[0;36m_train_basic_model\u001b[1;34m(kge_model, all_entities, learning_rate, num_epochs, batch_size, test_batch_size, train_triples, train_types, val_triples, val_types, neg_val_triples, neg_factor, es_metric, device, single_pass, model_dir, seed, tqdm_kwargs)\u001b[0m\n\u001b[0;32m    190\u001b[0m \u001b[1;33m\u001b[0m\u001b[0m\n\u001b[0;32m    191\u001b[0m             \u001b[0mneg_batch\u001b[0m \u001b[1;33m=\u001b[0m \u001b[0mnp\u001b[0m\u001b[1;33m.\u001b[0m\u001b[0mconcatenate\u001b[0m\u001b[1;33m(\u001b[0m\u001b[1;33m[\u001b[0m\u001b[0msubject_based_corrupted_triples\u001b[0m\u001b[1;33m,\u001b[0m \u001b[0mobject_based_corrupted_triples\u001b[0m\u001b[1;33m]\u001b[0m\u001b[1;33m,\u001b[0m \u001b[0maxis\u001b[0m\u001b[1;33m=\u001b[0m\u001b[1;36m0\u001b[0m\u001b[1;33m)\u001b[0m\u001b[1;33m\u001b[0m\u001b[1;33m\u001b[0m\u001b[0m\n\u001b[1;32m--> 192\u001b[1;33m             \u001b[0mneg_batch\u001b[0m \u001b[1;33m=\u001b[0m \u001b[0mtorch\u001b[0m\u001b[1;33m.\u001b[0m\u001b[0mtensor\u001b[0m\u001b[1;33m(\u001b[0m\u001b[0mneg_batch\u001b[0m\u001b[1;33m,\u001b[0m \u001b[0mdtype\u001b[0m\u001b[1;33m=\u001b[0m\u001b[0mtorch\u001b[0m\u001b[1;33m.\u001b[0m\u001b[0mlong\u001b[0m\u001b[1;33m,\u001b[0m \u001b[0mdevice\u001b[0m\u001b[1;33m=\u001b[0m\u001b[0mdevice\u001b[0m\u001b[1;33m)\u001b[0m\u001b[1;33m\u001b[0m\u001b[1;33m\u001b[0m\u001b[0m\n\u001b[0m\u001b[0;32m    193\u001b[0m \u001b[1;33m\u001b[0m\u001b[0m\n\u001b[0;32m    194\u001b[0m             \u001b[0mpos_batch\u001b[0m \u001b[1;33m=\u001b[0m \u001b[0mnp\u001b[0m\u001b[1;33m.\u001b[0m\u001b[0mconcatenate\u001b[0m\u001b[1;33m(\u001b[0m\u001b[1;33m[\u001b[0m\u001b[0mpos_batch\u001b[0m\u001b[1;33m,\u001b[0m \u001b[0mpos_batch\u001b[0m\u001b[1;33m]\u001b[0m\u001b[1;33m,\u001b[0m \u001b[0maxis\u001b[0m\u001b[1;33m=\u001b[0m\u001b[1;36m0\u001b[0m\u001b[1;33m)\u001b[0m\u001b[1;33m\u001b[0m\u001b[1;33m\u001b[0m\u001b[0m\n",
      "\u001b[1;31mKeyboardInterrupt\u001b[0m: "
     ]
    }
   ],
   "source": [
    "results = pykeen.run(\n",
    "    config=config,\n",
    "    output_directory=output_directory,\n",
    ")"
   ]
  },
  {
   "cell_type": "markdown",
   "metadata": {},
   "source": [
    "Check result entries:"
   ]
  },
  {
   "cell_type": "code",
   "execution_count": null,
   "metadata": {
    "ExecuteTime": {
     "end_time": "2019-05-27T20:18:02.298871Z",
     "start_time": "2019-05-27T19:21:31.307Z"
    }
   },
   "outputs": [],
   "source": [
    "results.results.keys()"
   ]
  },
  {
   "cell_type": "markdown",
   "metadata": {},
   "source": [
    "Visualize loss values:"
   ]
  },
  {
   "cell_type": "code",
   "execution_count": null,
   "metadata": {
    "ExecuteTime": {
     "end_time": "2019-05-27T20:18:02.301864Z",
     "start_time": "2019-05-27T19:21:31.309Z"
    }
   },
   "outputs": [],
   "source": [
    "losses = results.results['losses']\n",
    "epochs = np.arange(len(losses))\n",
    "plt.title(r'Loss Per Epoch')\n",
    "plt.xlabel('epoch')\n",
    "plt.ylabel('loss')\n",
    "plt.plot(epochs, losses)\n",
    "plt.show()"
   ]
  },
  {
   "cell_type": "code",
   "execution_count": null,
   "metadata": {
    "ExecuteTime": {
     "end_time": "2019-05-27T20:18:02.304855Z",
     "start_time": "2019-05-27T19:21:31.312Z"
    }
   },
   "outputs": [],
   "source": [
    "losses = results.results['validation_losses']\n",
    "epochs = np.arange(len(losses))\n",
    "plt.title(r'Loss Per Epoch')\n",
    "plt.xlabel('epoch')\n",
    "plt.ylabel('loss')\n",
    "plt.plot(epochs, losses)\n",
    "plt.show()"
   ]
  },
  {
   "cell_type": "code",
   "execution_count": null,
   "metadata": {
    "ExecuteTime": {
     "end_time": "2019-05-27T20:18:02.307848Z",
     "start_time": "2019-05-27T19:21:31.315Z"
    }
   },
   "outputs": [],
   "source": [
    "results.results['eval_summary']"
   ]
  },
  {
   "cell_type": "markdown",
   "metadata": {},
   "source": [
    "## Load and evaluate"
   ]
  },
  {
   "cell_type": "code",
   "execution_count": null,
   "metadata": {
    "ExecuteTime": {
     "end_time": "2019-05-27T20:18:02.310839Z",
     "start_time": "2019-05-27T19:21:31.319Z"
    }
   },
   "outputs": [],
   "source": [
    "import torch\n",
    "import json\n",
    "import os\n",
    "import pykeen.constants as pkc\n",
    "from pykeen.kge_models import get_kge_model\n",
    "from pykeen.utilities.pipeline import Pipeline"
   ]
  },
  {
   "cell_type": "code",
   "execution_count": null,
   "metadata": {
    "ExecuteTime": {
     "end_time": "2019-05-27T20:18:02.313831Z",
     "start_time": "2019-05-27T19:21:31.322Z"
    }
   },
   "outputs": [],
   "source": [
    "#input_directory = 'D:/uni/master/models/region_dim50_rad10_regL01_lr2/'\n",
    "input_directory = output_directory\n",
    "input_directory"
   ]
  },
  {
   "cell_type": "code",
   "execution_count": null,
   "metadata": {
    "ExecuteTime": {
     "end_time": "2019-05-27T20:18:02.317820Z",
     "start_time": "2019-05-27T19:21:31.325Z"
    }
   },
   "outputs": [],
   "source": [
    "model_dir = 'D:/uni/master/models/'\n",
    "models = os.listdir(model_dir)\n",
    "models"
   ]
  },
  {
   "cell_type": "code",
   "execution_count": null,
   "metadata": {
    "ExecuteTime": {
     "end_time": "2019-05-27T20:18:02.323805Z",
     "start_time": "2019-05-27T19:21:31.330Z"
    }
   },
   "outputs": [],
   "source": [
    "model_path = ''\n",
    "if model_path:\n",
    "    input_directory = os.path.join(model_dir, model_path)\n",
    "    results = {\n",
    "    'losses': json.load(open(os.path.join(input_directory, 'losses.json'))),\n",
    "    'validation_losses': json.load(open(os.path.join(input_directory, 'val_losses.json'))),\n",
    "    'entity_to_embedding': json.load(open(os.path.join(input_directory, 'entities_to_embeddings.json'))),\n",
    "    'relation_to_embedding': json.load(open(os.path.join(input_directory, 'relations_to_embeddings.json'))),\n",
    "    'final_configuration': json.load(open(os.path.join(input_directory, 'configuration.json'))),\n",
    "    'eval_summary': json.load(open(os.path.join(input_directory, 'evaluation_summary.json'))),\n",
    "    'entity_to_id': json.load(open(os.path.join(input_directory, 'entity_to_id.json'))),\n",
    "    'relation_to_id': json.load(open(os.path.join(input_directory, 'relation_to_id.json')))\n",
    "    }\n",
    "    # Initialize KG embedding model\n",
    "    config = results['final_configuration']\n",
    "    config['training_set_path'] = train_path\n",
    "    config['test_set_path'] = val_path\n",
    "    config['neg_test_set_path'] = neg_val_path\n",
    "    relation_to_id = results['relation_to_id']\n",
    "    entity_to_id = results['entity_to_id']\n",
    "else:\n",
    "    # Initialize KG embedding model\n",
    "    config[pkc.NUM_ENTITIES] = 85482\n",
    "    config[pkc.NUM_RELATIONS] = 39\n",
    "    config[pkc.PREFERRED_DEVICE] = 'gpu'\n",
    "    relation_to_id = json.load(open(os.path.join(input_directory, 'relation_to_id.json'),'r'))\n",
    "    entity_to_id = json.load(open(os.path.join(input_directory, 'entity_to_id.json'),'r'))"
   ]
  },
  {
   "cell_type": "markdown",
   "metadata": {},
   "source": [
    "Get evaluation results:\n",
    " * Mean rank\n",
    " * Hits@k, k $\\in$ {1,3,5,10} "
   ]
  },
  {
   "cell_type": "code",
   "execution_count": null,
   "metadata": {
    "ExecuteTime": {
     "end_time": "2019-05-27T20:18:02.327794Z",
     "start_time": "2019-05-27T19:21:31.333Z"
    }
   },
   "outputs": [],
   "source": [
    "pipeline = Pipeline(config)\n",
    "if config['random_seed'] is not None:\n",
    "    torch.manual_seed(config['random_seed'])\n",
    "pipeline.entity_label_to_id = entity_to_id\n",
    "pipeline.relation_label_to_id = relation_to_id\n",
    "    \n",
    "model: torch.nn.Module = get_kge_model(config=config)\n",
    "model.load_state_dict(torch.load(os.path.join(input_directory, 'best_model.pkl')))\n",
    "\n",
    "#results['trained_model'] = model \n",
    "type(model)"
   ]
  },
  {
   "cell_type": "code",
   "execution_count": null,
   "metadata": {
    "ExecuteTime": {
     "end_time": "2019-05-27T20:18:02.332201Z",
     "start_time": "2019-05-27T19:21:31.335Z"
    }
   },
   "outputs": [],
   "source": [
    "metrics = [pkc.TRIPLE_PREDICTION]  # [pkc.MEAN_RANK, pkc.HITS_AT_K, pkc.TRIPLE_PREDICTION]\n",
    "threshold_search = True"
   ]
  },
  {
   "cell_type": "markdown",
   "metadata": {},
   "source": [
    "#### Evaluate RelationalTriple"
   ]
  },
  {
   "cell_type": "code",
   "execution_count": null,
   "metadata": {
    "ExecuteTime": {
     "end_time": "2019-05-27T20:18:02.336191Z",
     "start_time": "2019-05-27T19:21:31.337Z"
    }
   },
   "outputs": [],
   "source": [
    "test_results = pipeline.evaluate(\n",
    "    model, \n",
    "    val_path[0], \n",
    "    neg_val_path[0],\n",
    "    metrics= metrics,\n",
    "    threshold_search=threshold_search\n",
    ")"
   ]
  },
  {
   "cell_type": "code",
   "execution_count": null,
   "metadata": {
    "ExecuteTime": {
     "end_time": "2019-05-27T20:18:02.339184Z",
     "start_time": "2019-05-27T19:21:31.340Z"
    }
   },
   "outputs": [],
   "source": [
    "test_results['eval_summary']"
   ]
  },
  {
   "cell_type": "markdown",
   "metadata": {},
   "source": [
    "#### Evaluate InstanceOf"
   ]
  },
  {
   "cell_type": "code",
   "execution_count": null,
   "metadata": {
    "ExecuteTime": {
     "end_time": "2019-05-27T20:18:02.342215Z",
     "start_time": "2019-05-27T19:21:31.342Z"
    }
   },
   "outputs": [],
   "source": [
    "test_results = pipeline.evaluate(\n",
    "    model, \n",
    "    val_path[1], \n",
    "    neg_val_path[1],\n",
    "    metrics= metrics,\n",
    "    threshold_search=threshold_search\n",
    ")"
   ]
  },
  {
   "cell_type": "code",
   "execution_count": null,
   "metadata": {
    "ExecuteTime": {
     "end_time": "2019-05-27T20:18:02.346240Z",
     "start_time": "2019-05-27T19:21:31.344Z"
    }
   },
   "outputs": [],
   "source": [
    "test_results['eval_summary']"
   ]
  },
  {
   "cell_type": "markdown",
   "metadata": {},
   "source": [
    "#### Evaluate SubclassOf"
   ]
  },
  {
   "cell_type": "code",
   "execution_count": null,
   "metadata": {
    "ExecuteTime": {
     "end_time": "2019-05-27T20:18:02.349196Z",
     "start_time": "2019-05-27T19:21:31.347Z"
    }
   },
   "outputs": [],
   "source": [
    "test_results = pipeline.evaluate(\n",
    "    model, \n",
    "    val_path[2], \n",
    "    neg_val_path[2],\n",
    "    metrics=metrics,\n",
    "    threshold_search=threshold_search\n",
    ")"
   ]
  },
  {
   "cell_type": "code",
   "execution_count": null,
   "metadata": {
    "ExecuteTime": {
     "end_time": "2019-05-27T20:18:02.352189Z",
     "start_time": "2019-05-27T19:21:31.349Z"
    }
   },
   "outputs": [],
   "source": [
    "test_results['eval_summary']"
   ]
  },
  {
   "cell_type": "markdown",
   "metadata": {
    "ExecuteTime": {
     "end_time": "2019-04-27T10:38:21.101558Z",
     "start_time": "2019-04-27T10:38:21.079645Z"
    }
   },
   "source": [
    "##### json.dump(test_results['eval_summary'], open(os.path.join(output_directory, 'evaluation_summary.json'),\"w\"))"
   ]
  },
  {
   "cell_type": "markdown",
   "metadata": {},
   "source": [
    "## Load results"
   ]
  },
  {
   "cell_type": "code",
   "execution_count": null,
   "metadata": {
    "ExecuteTime": {
     "end_time": "2019-05-27T20:18:02.355182Z",
     "start_time": "2019-05-27T19:21:31.352Z"
    }
   },
   "outputs": [],
   "source": [
    "import numpy as np\n",
    "import matplotlib.pyplot as plt\n",
    "import json\n",
    "import os"
   ]
  },
  {
   "cell_type": "code",
   "execution_count": null,
   "metadata": {
    "ExecuteTime": {
     "end_time": "2019-05-27T20:18:02.360167Z",
     "start_time": "2019-05-27T19:21:31.354Z"
    }
   },
   "outputs": [],
   "source": [
    "%matplotlib inline"
   ]
  },
  {
   "cell_type": "code",
   "execution_count": null,
   "metadata": {
    "ExecuteTime": {
     "end_time": "2019-05-27T20:18:02.363158Z",
     "start_time": "2019-05-27T19:21:31.356Z"
    }
   },
   "outputs": [],
   "source": [
    "model_dir = 'D:/uni/master/models/'\n",
    "models = os.listdir(model_dir)\n",
    "models"
   ]
  },
  {
   "cell_type": "code",
   "execution_count": null,
   "metadata": {
    "ExecuteTime": {
     "end_time": "2019-05-27T20:18:02.365156Z",
     "start_time": "2019-05-27T19:21:31.358Z"
    }
   },
   "outputs": [],
   "source": [
    "#output_directory = 'D:/uni/master/models/region_hpo/'\n",
    "model_path = 'region_dim100_ellipse_rad10_regL1e-05_lr0001_loss-NLL_margin0.0_singlepass-True_negfactor2_epochs50'\n",
    "input_directory = os.path.join(model_dir, model_path)\n",
    "model_path = ''\n",
    "\n",
    "results = {\n",
    "    'losses': json.load(open(os.path.join(input_directory, 'losses.json'))),\n",
    "    'validation_losses': json.load(open(os.path.join(input_directory, 'val_losses.json'))),\n",
    "    'entity_to_embedding': json.load(open(os.path.join(input_directory, 'entities_to_embeddings.json'))),\n",
    "    'relation_to_embedding': json.load(open(os.path.join(input_directory, 'relations_to_embeddings.json'))),\n",
    "    'final_configuration': json.load(open(os.path.join(input_directory, 'configuration.json'))),\n",
    "    'eval_summary': json.load(open(os.path.join(input_directory, 'evaluation_summary.json'))),\n",
    "    'entity_to_id': json.load(open(os.path.join(input_directory, 'entity_to_id.json'))),\n",
    "    'relation_to_id': json.load(open(os.path.join(input_directory, 'relation_to_id.json')))\n",
    "}"
   ]
  },
  {
   "cell_type": "code",
   "execution_count": null,
   "metadata": {
    "ExecuteTime": {
     "end_time": "2019-05-27T20:18:02.367147Z",
     "start_time": "2019-05-27T19:21:31.361Z"
    }
   },
   "outputs": [],
   "source": [
    "results.keys()"
   ]
  },
  {
   "cell_type": "code",
   "execution_count": null,
   "metadata": {
    "ExecuteTime": {
     "end_time": "2019-05-27T20:18:02.372134Z",
     "start_time": "2019-05-27T19:21:31.363Z"
    }
   },
   "outputs": [],
   "source": [
    "results['final_configuration']"
   ]
  },
  {
   "cell_type": "code",
   "execution_count": null,
   "metadata": {
    "ExecuteTime": {
     "end_time": "2019-05-27T20:18:02.375131Z",
     "start_time": "2019-05-27T19:21:31.365Z"
    }
   },
   "outputs": [],
   "source": [
    "losses = results['losses']\n",
    "epochs = np.arange(len(losses))\n",
    "plt.title(r'Loss Per Epoch')\n",
    "plt.xlabel('epoch')\n",
    "plt.ylabel('loss')\n",
    "plt.plot(epochs, losses)\n",
    "plt.show()"
   ]
  },
  {
   "cell_type": "code",
   "execution_count": null,
   "metadata": {
    "ExecuteTime": {
     "end_time": "2019-05-27T20:18:02.378119Z",
     "start_time": "2019-05-27T19:21:31.367Z"
    }
   },
   "outputs": [],
   "source": [
    "losses = results['validation_losses']\n",
    "epochs = np.arange(len(losses))\n",
    "plt.title(r'Loss Per Epoch')\n",
    "plt.xlabel('epoch')\n",
    "plt.ylabel('loss')\n",
    "plt.plot(epochs, losses)\n",
    "plt.show()"
   ]
  },
  {
   "cell_type": "code",
   "execution_count": null,
   "metadata": {
    "ExecuteTime": {
     "end_time": "2019-05-27T20:18:02.380118Z",
     "start_time": "2019-05-27T19:21:31.369Z"
    }
   },
   "outputs": [],
   "source": [
    "results['eval_summary']"
   ]
  },
  {
   "cell_type": "code",
   "execution_count": null,
   "metadata": {},
   "outputs": [],
   "source": []
  },
  {
   "cell_type": "code",
   "execution_count": null,
   "metadata": {},
   "outputs": [],
   "source": []
  },
  {
   "cell_type": "code",
   "execution_count": null,
   "metadata": {},
   "outputs": [],
   "source": []
  },
  {
   "cell_type": "markdown",
   "metadata": {},
   "source": [
    "    config = dict(\n",
    "        training_set_path           = train_path,\n",
    "        test_set_path               = test_path,\n",
    "        execution_mode              = 'Training_mode',\n",
    "        random_seed                 = 2,\n",
    "        kg_embedding_model_name     = 'Region',\n",
    "        embedding_dim               = 100,\n",
    "        scoring_function            = 1,  # corresponds to L1 \n",
    "        normalization_of_entities   = 2,  # corresponds to L2\n",
    "        init_radius                 = 1,\n",
    "        reg_lambda                  = 2,\n",
    "        margin_loss                 = 0,\n",
    "        learning_rate               = 0.1,\n",
    "        num_epochs                  = 100,  \n",
    "        batch_size                  = 1024,\n",
    "        filter_negative_triples     = True,\n",
    "        preferred_device            = 'gpu'\n",
    "    )"
   ]
  },
  {
   "cell_type": "code",
   "execution_count": null,
   "metadata": {
    "ExecuteTime": {
     "end_time": "2019-05-27T20:18:02.382111Z",
     "start_time": "2019-05-27T19:21:31.375Z"
    }
   },
   "outputs": [],
   "source": [
    "losses = losses[:30]\n",
    "epochs = np.arange(len(losses))\n",
    "plt.title(r'Loss Per Epoch')\n",
    "plt.xlabel('epoch')\n",
    "plt.ylabel('loss')\n",
    "plt.plot(epochs, losses)\n",
    "plt.show()"
   ]
  },
  {
   "cell_type": "code",
   "execution_count": null,
   "metadata": {
    "ExecuteTime": {
     "end_time": "2019-05-27T20:18:02.384106Z",
     "start_time": "2019-05-27T19:21:31.378Z"
    }
   },
   "outputs": [],
   "source": [
    "results.results['eval_summary']"
   ]
  },
  {
   "cell_type": "code",
   "execution_count": null,
   "metadata": {},
   "outputs": [],
   "source": []
  }
 ],
 "metadata": {
  "kernelspec": {
   "display_name": "Python 3",
   "language": "python",
   "name": "python3"
  },
  "language_info": {
   "codemirror_mode": {
    "name": "ipython",
    "version": 3
   },
   "file_extension": ".py",
   "mimetype": "text/x-python",
   "name": "python",
   "nbconvert_exporter": "python",
   "pygments_lexer": "ipython3",
   "version": "3.6.8"
  },
  "notify_time": "30",
  "toc": {
   "base_numbering": 1,
   "nav_menu": {},
   "number_sections": true,
   "sideBar": false,
   "skip_h1_title": false,
   "title_cell": "Table of Contents",
   "title_sidebar": "Contents",
   "toc_cell": false,
   "toc_position": {
    "height": "195.688px",
    "left": "10px",
    "top": "150px",
    "width": "165px"
   },
   "toc_section_display": true,
   "toc_window_display": true
  }
 },
 "nbformat": 4,
 "nbformat_minor": 2
}
