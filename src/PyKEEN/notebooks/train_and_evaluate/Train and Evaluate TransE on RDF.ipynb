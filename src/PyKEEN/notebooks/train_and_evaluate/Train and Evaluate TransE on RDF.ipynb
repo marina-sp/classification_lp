{
 "cells": [
  {
   "cell_type": "code",
   "execution_count": 1,
   "metadata": {
    "ExecuteTime": {
     "end_time": "2019-04-30T09:23:32.979988Z",
     "start_time": "2019-04-30T09:23:31.172953Z"
    }
   },
   "outputs": [],
   "source": [
    "import logging\n",
    "import os\n",
    "import sys\n",
    "import time\n",
    "\n",
    "import numpy as np\n",
    "import matplotlib.pyplot as plt\n",
    "import pykeen\n",
    "from pykeen.kge_models import TransE"
   ]
  },
  {
   "cell_type": "code",
   "execution_count": 2,
   "metadata": {
    "ExecuteTime": {
     "end_time": "2019-04-30T09:23:32.988408Z",
     "start_time": "2019-04-30T09:23:32.982990Z"
    }
   },
   "outputs": [],
   "source": [
    "%matplotlib inline"
   ]
  },
  {
   "cell_type": "code",
   "execution_count": 3,
   "metadata": {
    "ExecuteTime": {
     "end_time": "2019-04-30T09:23:33.005657Z",
     "start_time": "2019-04-30T09:23:32.990406Z"
    }
   },
   "outputs": [],
   "source": [
    "logging.basicConfig(level=logging.INFO)\n",
    "logging.getLogger('pykeen').setLevel(logging.INFO)"
   ]
  },
  {
   "cell_type": "code",
   "execution_count": 4,
   "metadata": {
    "ExecuteTime": {
     "end_time": "2019-04-30T09:23:33.024610Z",
     "start_time": "2019-04-30T09:23:33.009618Z"
    }
   },
   "outputs": [
    {
     "name": "stdout",
     "output_type": "stream",
     "text": [
      "3.6.8 |Anaconda, Inc.| (default, Feb 21 2019, 18:30:04) [MSC v.1916 64 bit (AMD64)]\n"
     ]
    }
   ],
   "source": [
    "print(sys.version)"
   ]
  },
  {
   "cell_type": "code",
   "execution_count": 5,
   "metadata": {
    "ExecuteTime": {
     "end_time": "2019-04-30T09:23:33.039682Z",
     "start_time": "2019-04-30T09:23:33.029644Z"
    }
   },
   "outputs": [
    {
     "name": "stdout",
     "output_type": "stream",
     "text": [
      "Tue Apr 30 16:23:33 2019\n"
     ]
    }
   ],
   "source": [
    "print(time.asctime())"
   ]
  },
  {
   "cell_type": "code",
   "execution_count": 6,
   "metadata": {
    "ExecuteTime": {
     "end_time": "2019-04-30T09:23:33.056615Z",
     "start_time": "2019-04-30T09:23:33.042609Z"
    }
   },
   "outputs": [
    {
     "name": "stdout",
     "output_type": "stream",
     "text": [
      "0.0.26-dev\n"
     ]
    }
   ],
   "source": [
    "print(pykeen.get_version())"
   ]
  },
  {
   "cell_type": "markdown",
   "metadata": {},
   "source": [
    "Check which hyper-parameters are required by TransE:"
   ]
  },
  {
   "cell_type": "code",
   "execution_count": 7,
   "metadata": {
    "ExecuteTime": {
     "end_time": "2019-04-30T09:23:33.073686Z",
     "start_time": "2019-04-30T09:23:33.060606Z"
    }
   },
   "outputs": [
    {
     "data": {
      "text/plain": [
       "['embedding_dim',\n",
       " 'margin_loss',\n",
       " 'learning_rate',\n",
       " 'scoring_function',\n",
       " 'normalization_of_entities']"
      ]
     },
     "execution_count": 7,
     "metadata": {},
     "output_type": "execute_result"
    }
   ],
   "source": [
    "TransE.hyper_params"
   ]
  },
  {
   "cell_type": "markdown",
   "metadata": {},
   "source": [
    "Define output directory:"
   ]
  },
  {
   "cell_type": "code",
   "execution_count": 8,
   "metadata": {
    "ExecuteTime": {
     "end_time": "2019-04-30T09:23:33.095631Z",
     "start_time": "2019-04-30T09:23:33.079709Z"
    }
   },
   "outputs": [],
   "source": [
    "output_directory = 'D:/uni/master/models/test/'"
   ]
  },
  {
   "cell_type": "markdown",
   "metadata": {},
   "source": [
    "Define hyper-parameters inclduing the evaluation information:\n",
    " * If no test set is available define the ration of the training set that should be used as test set: **test_set_ratio**\n",
    " * Define whether you want to compute the metrics (mean rank and hits@k) in raw or in a filtered setting: **filter_negative_triples**"
   ]
  },
  {
   "cell_type": "code",
   "execution_count": 9,
   "metadata": {
    "ExecuteTime": {
     "end_time": "2019-04-30T09:23:33.114183Z",
     "start_time": "2019-04-30T09:23:33.097625Z"
    }
   },
   "outputs": [],
   "source": [
    "config = dict(\n",
    "    metrics                     = ['prediction'],\n",
    "    training_set_path           = 'D:/uni/master/PyKEEN/tests/resources/data/rdf.nt',\n",
    "    test_set_path               = 'D:/uni/master/PyKEEN/tests/resources/data/rdf.nt',\n",
    "    #neg_test_path               = neg_test_path[relation_to_test],\n",
    "    execution_mode              = 'Training_mode',\n",
    "    random_seed                 = 0,\n",
    "    kg_embedding_model_name     = 'TransE',\n",
    "    embedding_dim               = 50,\n",
    "    scoring_function            = 1,  # corresponds to L1\n",
    "    normalization_of_entities   = 2,  # corresponds to L2\n",
    "    margin_loss                 = 1,\n",
    "    learning_rate               = 0.01,\n",
    "    num_epochs                  = 30,  \n",
    "    batch_size                  = 128,\n",
    "    filter_negative_triples     = True,\n",
    "    preferred_device            = 'cpu'\n",
    ")"
   ]
  },
  {
   "cell_type": "markdown",
   "metadata": {},
   "source": [
    "Train and evaluate TransE:"
   ]
  },
  {
   "cell_type": "code",
   "execution_count": 10,
   "metadata": {
    "ExecuteTime": {
     "end_time": "2019-04-30T09:23:34.211853Z",
     "start_time": "2019-04-30T09:23:33.118238Z"
    }
   },
   "outputs": [
    {
     "name": "stdout",
     "output_type": "stream",
     "text": [
      "True\n",
      "[[44  3 16]\n",
      " [44  5 17]\n",
      " [44  8 87]\n",
      " [45  8 37]\n",
      " [45 10 86]\n",
      " [45 11 86]\n",
      " [45 18  2]\n",
      " [46  3 33]\n",
      " [46  6 30]\n",
      " [46  7 31]\n",
      " [46  8 29]\n",
      " [46 16 38]\n",
      " [47  3 19]\n",
      " [47  5 42]\n",
      " [47  6 39]\n",
      " [47  7 14]\n",
      " [47 12 88]\n",
      " [48  1 34]\n",
      " [48  2  6]\n",
      " [48 13  3]\n",
      " [49  1 35]\n",
      " [49  2  5]\n",
      " [50  1 78]\n",
      " [50  2  6]\n",
      " [51  1 78]\n",
      " [51  2  8]\n",
      " [51  4  0]\n",
      " [52  1 78]\n",
      " [52  2  8]\n",
      " [52 14  9]\n",
      " [52 15 35]\n",
      " [53  1 78]\n",
      " [53  2  8]\n",
      " [53 14 11]\n",
      " [53 15 35]\n",
      " [54  1 78]\n",
      " [54  4 23]\n",
      " [54 15 35]\n",
      " [55  1 78]\n",
      " [55  4 23]\n",
      " [55 15 35]\n",
      " [56  1 78]\n",
      " [56  4 22]\n",
      " [56 15 35]\n",
      " [57  1 78]\n",
      " [57  4 21]\n",
      " [57 15 35]\n",
      " [58  1 78]\n",
      " [58  4 21]\n",
      " [58 15 35]\n",
      " [59  1 78]\n",
      " [59  4 24]\n",
      " [59 15 35]\n",
      " [60  1 78]\n",
      " [60  4 15]\n",
      " [60 15 35]\n",
      " [61  1 78]\n",
      " [61  4 43]\n",
      " [61 15 35]\n",
      " [62  1 78]\n",
      " [62  4 41]\n",
      " [62 15 35]\n",
      " [63  1 78]\n",
      " [63  4 25]\n",
      " [63 15 35]\n",
      " [64  1 78]\n",
      " [64  4 25]\n",
      " [64 15 35]\n",
      " [65  1 78]\n",
      " [65  4 25]\n",
      " [65 15 35]\n",
      " [66  4 26]\n",
      " [67  1 13]\n",
      " [67  4 28]\n",
      " [68  1 78]\n",
      " [68  2  6]\n",
      " [69  1 78]\n",
      " [69 15 12]\n",
      " [70  1 35]\n",
      " [70  2  7]\n",
      " [70  4 36]\n",
      " [70 15 35]\n",
      " [71  1 78]\n",
      " [71  2  7]\n",
      " [71  4 36]\n",
      " [71 15 35]\n",
      " [72 13 18]\n",
      " [73  1 78]\n",
      " [73  2  6]\n",
      " [73 14  9]\n",
      " [74  1 78]\n",
      " [74  2  6]\n",
      " [74 14  9]\n",
      " [75  0 27]\n",
      " [75  9 32]\n",
      " [75 15 85]\n",
      " [75 19 40]\n",
      " [75 20  4]\n",
      " [76 17  1]\n",
      " [77 17  1]\n",
      " [79 21 80]\n",
      " [79 23 10]\n",
      " [81 21 83]\n",
      " [81 22 82]\n",
      " [81 22 84]\n",
      " [81 23 20]] [[44  3 16]\n",
      " [44  5 17]\n",
      " [44  8 87]\n",
      " [45  8 37]\n",
      " [45 10 86]\n",
      " [45 11 86]\n",
      " [45 18  2]\n",
      " [46  3 33]\n",
      " [46  6 30]\n",
      " [46  7 31]\n",
      " [46  8 29]\n",
      " [46 16 38]\n",
      " [47  3 19]\n",
      " [47  5 42]\n",
      " [47  6 39]\n",
      " [47  7 14]\n",
      " [47 12 88]\n",
      " [48  1 34]\n",
      " [48  2  6]\n",
      " [48 13  3]\n",
      " [49  1 35]\n",
      " [49  2  5]\n",
      " [50  1 78]\n",
      " [50  2  6]\n",
      " [51  1 78]\n",
      " [51  2  8]\n",
      " [51  4  0]\n",
      " [52  1 78]\n",
      " [52  2  8]\n",
      " [52 14  9]\n",
      " [52 15 35]\n",
      " [53  1 78]\n",
      " [53  2  8]\n",
      " [53 14 11]\n",
      " [53 15 35]\n",
      " [54  1 78]\n",
      " [54  4 23]\n",
      " [54 15 35]\n",
      " [55  1 78]\n",
      " [55  4 23]\n",
      " [55 15 35]\n",
      " [56  1 78]\n",
      " [56  4 22]\n",
      " [56 15 35]\n",
      " [57  1 78]\n",
      " [57  4 21]\n",
      " [57 15 35]\n",
      " [58  1 78]\n",
      " [58  4 21]\n",
      " [58 15 35]\n",
      " [59  1 78]\n",
      " [59  4 24]\n",
      " [59 15 35]\n",
      " [60  1 78]\n",
      " [60  4 15]\n",
      " [60 15 35]\n",
      " [61  1 78]\n",
      " [61  4 43]\n",
      " [61 15 35]\n",
      " [62  1 78]\n",
      " [62  4 41]\n",
      " [62 15 35]\n",
      " [63  1 78]\n",
      " [63  4 25]\n",
      " [63 15 35]\n",
      " [64  1 78]\n",
      " [64  4 25]\n",
      " [64 15 35]\n",
      " [65  1 78]\n",
      " [65  4 25]\n",
      " [65 15 35]\n",
      " [66  4 26]\n",
      " [67  1 13]\n",
      " [67  4 28]\n",
      " [68  1 78]\n",
      " [68  2  6]\n",
      " [69  1 78]\n",
      " [69 15 12]\n",
      " [70  1 35]\n",
      " [70  2  7]\n",
      " [70  4 36]\n",
      " [70 15 35]\n",
      " [71  1 78]\n",
      " [71  2  7]\n",
      " [71  4 36]\n",
      " [71 15 35]\n",
      " [72 13 18]\n",
      " [73  1 78]\n",
      " [73  2  6]\n",
      " [73 14  9]\n",
      " [74  1 78]\n",
      " [74  2  6]\n",
      " [74 14  9]\n",
      " [75  0 27]\n",
      " [75  9 32]\n",
      " [75 15 85]\n",
      " [75 19 40]\n",
      " [75 20  4]\n",
      " [76 17  1]\n",
      " [77 17  1]\n",
      " [79 21 80]\n",
      " [79 23 10]\n",
      " [81 21 83]\n",
      " [81 22 82]\n",
      " [81 22 84]\n",
      " [81 23 20]]\n",
      "{'metrics': ['prediction'], 'training_set_path': 'D:/uni/master/PyKEEN/tests/resources/data/rdf.nt', 'test_set_path': 'D:/uni/master/PyKEEN/tests/resources/data/rdf.nt', 'execution_mode': 'Training_mode', 'random_seed': 0, 'kg_embedding_model_name': 'TransE', 'embedding_dim': 50, 'scoring_function': 1, 'normalization_of_entities': 2, 'margin_loss': 1, 'learning_rate': 0.01, 'num_epochs': 30, 'batch_size': 128, 'filter_negative_triples': True, 'preferred_device': 'cpu', 'pykeen-version': '0.0.26-dev', 'num_entities': 89, 'num_relations': 24}\n"
     ]
    },
    {
     "name": "stderr",
     "output_type": "stream",
     "text": [
      "INFO:pykeen.utilities.pipeline:-------------Train KG Embeddings-------------\n",
      "INFO:pykeen.utilities.train_utils:Epoch  0 /  30 (0.0 s):   loss: 1.26   val loss: 1.19\n",
      "INFO:pykeen.utilities.train_utils:Epoch  1 /  30 (0.0 s):   loss: 1.11   val loss: 1.19\n",
      "INFO:pykeen.utilities.train_utils:Epoch  2 /  30 (0.0 s):   loss: 1.08   val loss: 1.08\n",
      "INFO:pykeen.utilities.train_utils:Epoch  3 /  30 (0.0 s):   loss: 1.15   val loss: 1.19\n",
      "INFO:pykeen.utilities.train_utils:Epoch  4 /  30 (0.0 s):   loss: 1.28   val loss: 1.21\n",
      "INFO:pykeen.utilities.train_utils:Epoch  5 /  30 (0.0 s):   loss: 1.04   val loss: 1.03\n",
      "INFO:pykeen.utilities.train_utils:Epoch  6 /  30 (0.0 s):   loss: 1.17   val loss: 1.20\n",
      "INFO:pykeen.utilities.train_utils:Epoch  7 /  30 (0.0 s):   loss: 1.13   val loss: 1.17\n",
      "INFO:pykeen.utilities.train_utils:Epoch  8 /  30 (0.0 s):   loss: 1.18   val loss: 1.15\n",
      "INFO:pykeen.utilities.train_utils:Epoch  9 /  30 (0.0 s):   loss: 1.32   val loss: 1.17\n",
      "INFO:pykeen.utilities.pipeline:-------------Start Evaluation-------------\n",
      "INFO:pykeen.utilities.evaluation_utils.metrics_computations:No negative test triples specified for the triple prediciton task.\n",
      "INFO:pykeen.utilities.evaluation_utils.metrics_computations:Best accuracy achieved on threshold: 0.50\n",
      "INFO:pykeen.utilities.evaluation_utils.metrics_computations:Evaluation took 0.14s seconds\n"
     ]
    }
   ],
   "source": [
    "results = pykeen.run(\n",
    "    config=config,\n",
    "    output_directory=output_directory,\n",
    ")"
   ]
  },
  {
   "cell_type": "markdown",
   "metadata": {},
   "source": [
    "Check result entries:"
   ]
  },
  {
   "cell_type": "code",
   "execution_count": 11,
   "metadata": {
    "ExecuteTime": {
     "end_time": "2019-04-30T09:23:34.221791Z",
     "start_time": "2019-04-30T09:23:34.214839Z"
    }
   },
   "outputs": [
    {
     "data": {
      "text/plain": [
       "odict_keys(['trained_model', 'losses', 'validation_losses', 'entity_to_embedding', 'relation_to_embedding', 'eval_summary', 'entity_to_id', 'relation_to_id', 'final_configuration', 'search_summary'])"
      ]
     },
     "execution_count": 11,
     "metadata": {},
     "output_type": "execute_result"
    }
   ],
   "source": [
    "results.results.keys()"
   ]
  },
  {
   "cell_type": "markdown",
   "metadata": {},
   "source": [
    "Access trained model:"
   ]
  },
  {
   "cell_type": "code",
   "execution_count": 12,
   "metadata": {
    "ExecuteTime": {
     "end_time": "2019-04-30T09:23:34.241738Z",
     "start_time": "2019-04-30T09:23:34.225779Z"
    }
   },
   "outputs": [
    {
     "data": {
      "text/plain": [
       "TransE(\n",
       "  (criterion): MarginRankingLoss()\n",
       "  (entity_embeddings): Embedding(89, 50)\n",
       "  (relation_embeddings): Embedding(24, 50)\n",
       ")"
      ]
     },
     "execution_count": 12,
     "metadata": {},
     "output_type": "execute_result"
    }
   ],
   "source": [
    "results.results['trained_model']"
   ]
  },
  {
   "cell_type": "markdown",
   "metadata": {},
   "source": [
    "Visualize loss values:"
   ]
  },
  {
   "cell_type": "code",
   "execution_count": 13,
   "metadata": {
    "ExecuteTime": {
     "end_time": "2019-04-30T09:23:34.968633Z",
     "start_time": "2019-04-30T09:23:34.245856Z"
    }
   },
   "outputs": [
    {
     "data": {
      "image/png": "[encoded data removed]",
      "text/plain": [
       "<Figure size 432x288 with 1 Axes>"
      ]
     },
     "metadata": {
      "needs_background": "light"
     },
     "output_type": "display_data"
    }
   ],
   "source": [
    "losses = results.results['losses']\n",
    "epochs = np.arange(len(losses))\n",
    "plt.title(r'Loss Per Epoch')\n",
    "plt.xlabel('epoch')\n",
    "plt.ylabel('loss')\n",
    "plt.plot(epochs, losses)\n",
    "plt.show()"
   ]
  },
  {
   "cell_type": "code",
   "execution_count": 17,
   "metadata": {
    "ExecuteTime": {
     "end_time": "2019-04-30T09:24:45.824709Z",
     "start_time": "2019-04-30T09:24:45.635597Z"
    }
   },
   "outputs": [
    {
     "data": {
      "image/png": "[encoded data removed]",
      "text/plain": [
       "<Figure size 432x288 with 1 Axes>"
      ]
     },
     "metadata": {
      "needs_background": "light"
     },
     "output_type": "display_data"
    }
   ],
   "source": [
    "losses = results.results['validation_losses']\n",
    "epochs = np.arange(len(losses))\n",
    "plt.title(r'Loss Per Epoch')\n",
    "plt.xlabel('epoch')\n",
    "plt.ylabel('loss')\n",
    "plt.plot(epochs, losses)\n",
    "plt.show()"
   ]
  },
  {
   "cell_type": "markdown",
   "metadata": {},
   "source": [
    "Get evaluation results:\n",
    " * Mean rank\n",
    " * Hits@k, k $\\in$ {1,3,5,10} "
   ]
  },
  {
   "cell_type": "code",
   "execution_count": 14,
   "metadata": {
    "ExecuteTime": {
     "end_time": "2019-04-30T09:23:34.977571Z",
     "start_time": "2019-04-30T09:23:34.970564Z"
    }
   },
   "outputs": [
    {
     "data": {
      "text/plain": [
       "{'mean_rank': None,\n",
       " 'hits@k': None,\n",
       " 'precision': 1.0,\n",
       " 'recall': 1.0,\n",
       " 'accuracy': 1.0,\n",
       " 'f1_score': 1.0}"
      ]
     },
     "execution_count": 14,
     "metadata": {},
     "output_type": "execute_result"
    }
   ],
   "source": [
    "results.results['eval_summary']"
   ]
  }
 ],
 "metadata": {
  "kernelspec": {
   "display_name": "Python 3",
   "language": "python",
   "name": "python3"
  },
  "language_info": {
   "codemirror_mode": {
    "name": "ipython",
    "version": 3
   },
   "file_extension": ".py",
   "mimetype": "text/x-python",
   "name": "python",
   "nbconvert_exporter": "python",
   "pygments_lexer": "ipython3",
   "version": "3.6.8"
  },
  "toc": {
   "base_numbering": 1,
   "nav_menu": {},
   "number_sections": true,
   "sideBar": false,
   "skip_h1_title": false,
   "title_cell": "Table of Contents",
   "title_sidebar": "Contents",
   "toc_cell": false,
   "toc_position": {},
   "toc_section_display": true,
   "toc_window_display": false
  }
 },
 "nbformat": 4,
 "nbformat_minor": 2
}
