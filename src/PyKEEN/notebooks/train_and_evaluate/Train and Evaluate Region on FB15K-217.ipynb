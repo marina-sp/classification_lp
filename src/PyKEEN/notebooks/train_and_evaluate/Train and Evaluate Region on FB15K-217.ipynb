{
 "cells": [
  {
   "cell_type": "code",
   "execution_count": 1,
   "metadata": {
    "ExecuteTime": {
     "end_time": "2019-07-26T15:44:10.559819Z",
     "start_time": "2019-07-26T15:44:10.551521Z"
    }
   },
   "outputs": [],
   "source": [
    "TEST = False"
   ]
  },
  {
   "cell_type": "markdown",
   "metadata": {},
   "source": [
    "Check which hyper-parameters are required by Region:"
   ]
  },
  {
   "cell_type": "code",
   "execution_count": 2,
   "metadata": {
    "ExecuteTime": {
     "end_time": "2019-07-26T15:44:23.061013Z",
     "start_time": "2019-07-26T15:44:10.566480Z"
    }
   },
   "outputs": [
    {
     "data": {
      "text/plain": [
       "['embedding_dim',\n",
       " 'margin_loss',\n",
       " 'learning_rate',\n",
       " 'corrupt_relations',\n",
       " 'normalization_of_entities',\n",
       " 'strict_norm',\n",
       " 'init_radius',\n",
       " 'reg_lambda',\n",
       " 'loss_type',\n",
       " 'neg_factor',\n",
       " 'region_type',\n",
       " 'gradient_matrix']"
      ]
     },
     "execution_count": 2,
     "metadata": {},
     "output_type": "execute_result"
    }
   ],
   "source": [
    "from pykeen.kge_models import Region\n",
    "from datetime import datetime\n",
    "Region.hyper_params"
   ]
  },
  {
   "cell_type": "markdown",
   "metadata": {},
   "source": [
    "Train and evaluate Region (provide test set):\n",
    "* Define the path to our test set: **test_set_path**\n",
    "* Define the path to our the negative test set: **neg_test_path** in case of triple classfication evaluation\n",
    "* Define whether you want to compute the metrics (mean rank and hits@k) in raw or in a filtered setting: **filter_negative_triples**"
   ]
  },
  {
   "cell_type": "code",
   "execution_count": 3,
   "metadata": {
    "ExecuteTime": {
     "end_time": "2019-07-26T15:44:23.071896Z",
     "start_time": "2019-07-26T15:44:23.063954Z"
    }
   },
   "outputs": [],
   "source": [
    "config = dict(\n",
    "    metrics                     = [],\n",
    "    training_set_path           = '../../../data/fb15k-237/train.tsv',\n",
    "    test_set_path               = '../../../data/fb15k-237/valid_200.tsv',\n",
    "    #neg_test_set_path           = '../../../data/fb15k-237/valid_neg.tsv',\n",
    "    mapping_path                = '../../../data/fb15k-237/',\n",
    "    execution_mode              = 'Training_mode',\n",
    "    random_seed                 = 2,\n",
    "    \n",
    "    kg_embedding_model_name     = 'Region',\n",
    "    region_type                 = 'triangle',\n",
    "    embedding_dim               = 50,\n",
    "    init_radius                 = 1,\n",
    "    reg_lambda                  = 0,\n",
    "    loss_type                   = 'MRL',\n",
    "    neg_factor                  = 1,\n",
    "    corrupt_relations           = False,\n",
    " \n",
    "    normalization_of_entities   = 2,  # corresponds to L2\n",
    "    strict_norm                 = True,\n",
    "    \n",
    "    margin_loss                 = 0.5,\n",
    "    learning_rate               = 0.001,\n",
    "    es_metric                   = 'custom',\n",
    "    num_epochs                  = 1000 if not TEST else 2000,  \n",
    "    batch_size                  = 14,\n",
    "    test_batch_size             = 16,\n",
    "    filter_negative_triples     = False,\n",
    "    preferred_device            = 'gpu1'\n",
    ")"
   ]
  },
  {
   "cell_type": "code",
   "execution_count": 4,
   "metadata": {},
   "outputs": [
    {
     "data": {
      "text/plain": [
       "'20191030-1431'"
      ]
     },
     "execution_count": 4,
     "metadata": {},
     "output_type": "execute_result"
    }
   ],
   "source": [
    "time = datetime.now()\n",
    "stamp = \"{:04d}{:02d}{:02d}-{:02d}{:02d}\".format(time.year, time.month, time.day, time.hour, time.minute)\n",
    "stamp"
   ]
  },
  {
   "cell_type": "code",
   "execution_count": 5,
   "metadata": {
    "ExecuteTime": {
     "end_time": "2019-07-26T15:44:23.204542Z",
     "start_time": "2019-07-26T15:44:23.074889Z"
    }
   },
   "outputs": [
    {
     "data": {
      "text/plain": [
       "'../../../models/fb15k-237_region20191030-1431_dim50_triangle_rad1_regL0_lr0001_loss-MRL_margin0.5_negfactor1_epochs1000_esmetric-custom_bs14'"
      ]
     },
     "execution_count": 5,
     "metadata": {},
     "output_type": "execute_result"
    }
   ],
   "source": [
    "output_directory = '../../../models/fb15k-237_region{}_dim{}_{}_rad{}_regL{}_lr{}_loss-{}_margin{}_negfactor{}_epochs{}_esmetric-{}_bs{}'.format(\n",
    "    stamp,\n",
    "    config['embedding_dim'], config['region_type'], config['init_radius'], \n",
    "    str(config['reg_lambda']).replace('.',''), \n",
    "    str(config['learning_rate']).replace('.',''),\n",
    "    config['loss_type'],\n",
    "    config['margin_loss'],\n",
    "    config['neg_factor'],\n",
    "    config['num_epochs'],\n",
    "    config['es_metric'],\n",
    "    config['batch_size']\n",
    ")\n",
    "output_directory"
   ]
  },
  {
   "cell_type": "code",
   "execution_count": 6,
   "metadata": {
    "ExecuteTime": {
     "end_time": "2019-07-26T15:44:23.217510Z",
     "start_time": "2019-07-26T15:44:23.212594Z"
    }
   },
   "outputs": [],
   "source": [
    "if TEST:\n",
    "    output_directory = '../../../models/test'"
   ]
  },
  {
   "cell_type": "code",
   "execution_count": 7,
   "metadata": {
    "ExecuteTime": {
     "end_time": "2019-07-26T15:44:23.229579Z",
     "start_time": "2019-07-26T15:44:23.224495Z"
    }
   },
   "outputs": [],
   "source": [
    "import logging\n",
    "import os\n",
    "import sys\n",
    "import time\n",
    "import pykeen"
   ]
  },
  {
   "cell_type": "code",
   "execution_count": 8,
   "metadata": {
    "ExecuteTime": {
     "end_time": "2019-07-26T15:44:23.241443Z",
     "start_time": "2019-07-26T15:44:23.233778Z"
    }
   },
   "outputs": [],
   "source": [
    "logging.basicConfig(level=logging.DEBUG)\n",
    "logging.getLogger('pykeen').setLevel(logging.DEBUG)"
   ]
  },
  {
   "cell_type": "code",
   "execution_count": 9,
   "metadata": {
    "ExecuteTime": {
     "end_time": "2019-07-26T15:44:23.269369Z",
     "start_time": "2019-07-26T15:44:23.245434Z"
    }
   },
   "outputs": [
    {
     "name": "stdout",
     "output_type": "stream",
     "text": [
      "3.6.5 (default, Mar 31 2018, 19:45:04) [GCC]\n"
     ]
    }
   ],
   "source": [
    "print(sys.version)"
   ]
  },
  {
   "cell_type": "code",
   "execution_count": 10,
   "metadata": {
    "ExecuteTime": {
     "end_time": "2019-07-26T15:44:23.289315Z",
     "start_time": "2019-07-26T15:44:23.272360Z"
    },
    "scrolled": true
   },
   "outputs": [
    {
     "name": "stdout",
     "output_type": "stream",
     "text": [
      "Wed Oct 30 14:31:46 2019\n"
     ]
    }
   ],
   "source": [
    "print(time.asctime())"
   ]
  },
  {
   "cell_type": "code",
   "execution_count": 11,
   "metadata": {
    "ExecuteTime": {
     "end_time": "2019-07-26T15:44:23.302280Z",
     "start_time": "2019-07-26T15:44:23.293305Z"
    }
   },
   "outputs": [
    {
     "name": "stdout",
     "output_type": "stream",
     "text": [
      "0.0.26-dev\n"
     ]
    }
   ],
   "source": [
    "print(pykeen.get_version())"
   ]
  },
  {
   "cell_type": "markdown",
   "metadata": {},
   "source": [
    "## Train and evaluate Region:"
   ]
  },
  {
   "cell_type": "code",
   "execution_count": 12,
   "metadata": {
    "ExecuteTime": {
     "end_time": "2019-07-26T15:44:24.623005Z",
     "start_time": "2019-07-26T15:44:23.305276Z"
    },
    "scrolled": true
   },
   "outputs": [],
   "source": [
    "import numpy as np\n",
    "import matplotlib.pyplot as plt"
   ]
  },
  {
   "cell_type": "code",
   "execution_count": 13,
   "metadata": {
    "ExecuteTime": {
     "end_time": "2019-07-26T15:44:24.652917Z",
     "start_time": "2019-07-26T15:44:24.629977Z"
    }
   },
   "outputs": [],
   "source": [
    "%matplotlib inline"
   ]
  },
  {
   "cell_type": "code",
   "execution_count": 14,
   "metadata": {
    "ExecuteTime": {
     "end_time": "2019-07-26T23:30:36.683781Z",
     "start_time": "2019-07-26T15:44:24.661892Z"
    },
    "scrolled": true
   },
   "outputs": [
    {
     "name": "stderr",
     "output_type": "stream",
     "text": [
      "DEBUG:pykeen.utilities.pipeline:Reading the label mappings...\n",
      "INFO:pykeen.utilities.pipeline:{'metrics': [], 'training_set_path': '../../../data/fb15k-237/train.tsv', 'test_set_path': '../../../data/fb15k-237/valid_200.tsv', 'mapping_path': '../../../data/fb15k-237/', 'execution_mode': 'Training_mode', 'random_seed': 2, 'kg_embedding_model_name': 'Region', 'region_type': 'triangle', 'embedding_dim': 50, 'init_radius': 1, 'reg_lambda': 0, 'loss_type': 'MRL', 'neg_factor': 1, 'corrupt_relations': False, 'normalization_of_entities': 2, 'strict_norm': True, 'margin_loss': 0.5, 'learning_rate': 0.001, 'es_metric': 'custom', 'num_epochs': 1000, 'batch_size': 14, 'test_batch_size': 16, 'filter_negative_triples': False, 'preferred_device': 'cuda:1', 'pykeen-version': '0.0.26-dev', 'num_entities': 14541, 'num_relations': 237}\n",
      "/mounts/Users/student/speranskaya/.local/lib/python3.6/site-packages/torch/nn/_reduction.py:43: UserWarning: size_average and reduce args will be deprecated, please use reduction='sum' instead.\n",
      "  warnings.warn(warning.format(ret))\n",
      "INFO:pykeen.utilities.pipeline:-------------Train KG Embeddings-------------\n",
      "DEBUG:pykeen.utilities.train_utils:****running model on cuda:1****\n",
      "DEBUG:pykeen.utilities.evaluation_utils.metrics_computations:Evaluation took 47.88s seconds\n",
      "DEBUG:pykeen.utilities.train_utils:\n",
      "current metric: 0.005653670520748814  ---- rank/hits@10: (0.004536810841063282, 0.0075)\n",
      "DEBUG:pykeen.utilities.train_utils:Saving the following model to disk:\n",
      "INFO:pykeen.utilities.train_utils:Epoch   0 / 1000 (8.7s):  0.567 ---- 0.425 ---- 0.01 ----   1\n",
      "INFO:pykeen.utilities.train_utils:Epoch   1 / 1000 (8.7s):  0.441 ---- 0.382 ---- 0.01 ----   2\n",
      "INFO:pykeen.utilities.train_utils:Epoch   2 / 1000 (8.7s):  0.391 ---- 0.342 ---- 0.01 ----   3\n",
      "INFO:pykeen.utilities.train_utils:Epoch   3 / 1000 (8.7s):  0.353 ---- 0.322 ---- 0.01 ----   4\n",
      "INFO:pykeen.utilities.train_utils:Epoch   4 / 1000 (8.7s):  0.325 ---- 0.291 ---- 0.01 ----   5\n",
      "DEBUG:pykeen.utilities.evaluation_utils.metrics_computations:Evaluation took 47.84s seconds\n",
      "DEBUG:pykeen.utilities.train_utils:\n",
      "current metric: 0.05354681306434469  ---- rank/hits@10: (0.04335614506951451, 0.07)\n",
      "DEBUG:pykeen.utilities.train_utils:Saving the following model to disk:\n",
      "INFO:pykeen.utilities.train_utils:Epoch   5 / 1000 (8.7s):  0.301 ---- 0.265 ---- 0.05 ----   1\n",
      "INFO:pykeen.utilities.train_utils:Epoch   6 / 1000 (8.7s):  0.286 ---- 0.247 ---- 0.05 ----   2\n",
      "INFO:pykeen.utilities.train_utils:Epoch   7 / 1000 (8.7s):  0.274 ---- 0.233 ---- 0.05 ----   3\n",
      "INFO:pykeen.utilities.train_utils:Epoch   8 / 1000 (8.7s):  0.260 ---- 0.231 ---- 0.05 ----   4\n",
      "INFO:pykeen.utilities.train_utils:Epoch   9 / 1000 (8.7s):  0.253 ---- 0.217 ---- 0.05 ----   5\n",
      "DEBUG:pykeen.utilities.evaluation_utils.metrics_computations:Evaluation took 47.87s seconds\n",
      "DEBUG:pykeen.utilities.train_utils:\n",
      "current metric: 0.08287372824134559  ---- rank/hits@10: (0.06955552660712383, 0.1025)\n",
      "DEBUG:pykeen.utilities.train_utils:Saving the following model to disk:\n",
      "INFO:pykeen.utilities.train_utils:Epoch  10 / 1000 (8.7s):  0.244 ---- 0.203 ---- 0.08 ----   1\n",
      "INFO:pykeen.utilities.train_utils:Epoch  11 / 1000 (8.7s):  0.234 ---- 0.193 ---- 0.08 ----   2\n",
      "INFO:pykeen.utilities.train_utils:Epoch  12 / 1000 (8.7s):  0.229 ---- 0.201 ---- 0.08 ----   3\n",
      "INFO:pykeen.utilities.train_utils:Epoch  13 / 1000 (8.7s):  0.221 ---- 0.198 ---- 0.08 ----   4\n",
      "INFO:pykeen.utilities.train_utils:Epoch  14 / 1000 (8.8s):  0.213 ---- 0.196 ---- 0.08 ----   5\n",
      "DEBUG:pykeen.utilities.evaluation_utils.metrics_computations:Evaluation took 47.79s seconds\n",
      "DEBUG:pykeen.utilities.train_utils:\n",
      "current metric: 0.08819017377418564  ---- rank/hits@10: (0.0725196049384634, 0.1125)\n",
      "DEBUG:pykeen.utilities.train_utils:Saving the following model to disk:\n",
      "INFO:pykeen.utilities.train_utils:Epoch  15 / 1000 (8.7s):  0.206 ---- 0.181 ---- 0.09 ----   1\n",
      "INFO:pykeen.utilities.train_utils:Epoch  16 / 1000 (8.7s):  0.207 ---- 0.178 ---- 0.09 ----   2\n",
      "INFO:pykeen.utilities.train_utils:Epoch  17 / 1000 (8.7s):  0.206 ---- 0.181 ---- 0.09 ----   3\n",
      "INFO:pykeen.utilities.train_utils:Epoch  18 / 1000 (8.7s):  0.210 ---- 0.179 ---- 0.09 ----   4\n",
      "INFO:pykeen.utilities.train_utils:Epoch  19 / 1000 (8.7s):  0.200 ---- 0.177 ---- 0.09 ----   5\n",
      "DEBUG:pykeen.utilities.evaluation_utils.metrics_computations:Evaluation took 47.83s seconds\n",
      "DEBUG:pykeen.utilities.train_utils:\n",
      "current metric: 0.09448639288764234  ---- rank/hits@10: (0.07791963495044289, 0.12)\n",
      "DEBUG:pykeen.utilities.train_utils:Saving the following model to disk:\n",
      "INFO:pykeen.utilities.train_utils:Epoch  20 / 1000 (8.7s):  0.188 ---- 0.171 ---- 0.09 ----   1\n",
      "INFO:pykeen.utilities.train_utils:Epoch  21 / 1000 (8.7s):  0.191 ---- 0.170 ---- 0.09 ----   2\n",
      "INFO:pykeen.utilities.train_utils:Epoch  22 / 1000 (8.7s):  0.183 ---- 0.165 ---- 0.09 ----   3\n",
      "INFO:pykeen.utilities.train_utils:Epoch  23 / 1000 (8.7s):  0.185 ---- 0.163 ---- 0.09 ----   4\n",
      "INFO:pykeen.utilities.train_utils:Epoch  24 / 1000 (8.7s):  0.186 ---- 0.175 ---- 0.09 ----   5\n",
      "DEBUG:pykeen.utilities.evaluation_utils.metrics_computations:Evaluation took 47.87s seconds\n",
      "DEBUG:pykeen.utilities.train_utils:\n",
      "current metric: 0.08267251054963357  ---- rank/hits@10: (0.068175487046694, 0.105)\n",
      "INFO:pykeen.utilities.train_utils:Epoch  25 / 1000 (8.7s):  0.175 ---- 0.173 ---- 0.08 ----   6\n",
      "INFO:pykeen.utilities.train_utils:Epoch  26 / 1000 (8.7s):  0.190 ---- 0.157 ---- 0.08 ----   7\n",
      "INFO:pykeen.utilities.train_utils:Epoch  27 / 1000 (8.7s):  0.187 ---- 0.167 ---- 0.08 ----   8\n",
      "INFO:pykeen.utilities.train_utils:Epoch  28 / 1000 (8.7s):  0.186 ---- 0.166 ---- 0.08 ----   9\n",
      "INFO:pykeen.utilities.train_utils:Epoch  29 / 1000 (8.7s):  0.185 ---- 0.150 ---- 0.08 ----  10\n",
      "DEBUG:pykeen.utilities.evaluation_utils.metrics_computations:Evaluation took 47.95s seconds\n",
      "DEBUG:pykeen.utilities.train_utils:\n",
      "current metric: 0.08921646894078535  ---- rank/hits@10: (0.07190754006558052, 0.1175)\n",
      "INFO:pykeen.utilities.train_utils:Epoch  30 / 1000 (8.7s):  0.191 ---- 0.156 ---- 0.09 ----  11\n",
      "INFO:pykeen.utilities.train_utils:Epoch  31 / 1000 (8.7s):  0.183 ---- 0.151 ---- 0.09 ----  12\n",
      "INFO:pykeen.utilities.train_utils:Epoch  32 / 1000 (8.7s):  0.179 ---- 0.138 ---- 0.09 ----  13\n",
      "INFO:pykeen.utilities.train_utils:Epoch  33 / 1000 (8.7s):  0.178 ---- 0.143 ---- 0.09 ----  14\n",
      "INFO:pykeen.utilities.train_utils:Epoch  34 / 1000 (8.7s):  0.173 ---- 0.148 ---- 0.09 ----  15\n",
      "DEBUG:pykeen.utilities.evaluation_utils.metrics_computations:Evaluation took 48.03s seconds\n",
      "DEBUG:pykeen.utilities.train_utils:\n",
      "current metric: 0.10720096833798962  ---- rank/hits@10: (0.0819340701788027, 0.155)\n",
      "DEBUG:pykeen.utilities.train_utils:Saving the following model to disk:\n",
      "INFO:pykeen.utilities.train_utils:Epoch  35 / 1000 (8.7s):  0.178 ---- 0.144 ---- 0.11 ----   1\n",
      "INFO:pykeen.utilities.train_utils:Epoch  36 / 1000 (8.7s):  0.182 ---- 0.136 ---- 0.11 ----   2\n",
      "INFO:pykeen.utilities.train_utils:Epoch  37 / 1000 (8.7s):  0.183 ---- 0.132 ---- 0.11 ----   3\n",
      "INFO:pykeen.utilities.train_utils:Epoch  38 / 1000 (8.7s):  0.182 ---- 0.156 ---- 0.11 ----   4\n",
      "INFO:pykeen.utilities.train_utils:Epoch  39 / 1000 (8.8s):  0.179 ---- 0.138 ---- 0.11 ----   5\n",
      "DEBUG:pykeen.utilities.evaluation_utils.metrics_computations:Evaluation took 47.86s seconds\n",
      "DEBUG:pykeen.utilities.train_utils:\n",
      "current metric: 0.10629798376784146  ---- rank/hits@10: (0.08308842119878002, 0.1475)\n",
      "INFO:pykeen.utilities.train_utils:Epoch  40 / 1000 (8.8s):  0.183 ---- 0.141 ---- 0.11 ----   6\n",
      "INFO:pykeen.utilities.train_utils:Epoch  41 / 1000 (9.0s):  0.178 ---- 0.140 ---- 0.11 ----   7\n",
      "INFO:pykeen.utilities.train_utils:Epoch  42 / 1000 (8.7s):  0.171 ---- 0.123 ---- 0.11 ----   8\n",
      "INFO:pykeen.utilities.train_utils:Epoch  43 / 1000 (8.7s):  0.168 ---- 0.134 ---- 0.11 ----   9\n",
      "INFO:pykeen.utilities.train_utils:Epoch  44 / 1000 (8.7s):  0.167 ---- 0.128 ---- 0.11 ----  10\n",
      "DEBUG:pykeen.utilities.evaluation_utils.metrics_computations:Evaluation took 48.98s seconds\n",
      "DEBUG:pykeen.utilities.train_utils:\n",
      "current metric: 0.08690492342791799  ---- rank/hits@10: (0.06733829636412539, 0.1225)\n",
      "INFO:pykeen.utilities.train_utils:Epoch  45 / 1000 (8.7s):  0.164 ---- 0.137 ---- 0.09 ----  11\n",
      "INFO:pykeen.utilities.train_utils:Epoch  46 / 1000 (8.9s):  0.165 ---- 0.134 ---- 0.09 ----  12\n"
     ]
    },
    {
     "name": "stderr",
     "output_type": "stream",
     "text": [
      "INFO:pykeen.utilities.train_utils:Epoch  47 / 1000 (8.9s):  0.171 ---- 0.151 ---- 0.09 ----  13\n",
      "INFO:pykeen.utilities.train_utils:Epoch  48 / 1000 (8.9s):  0.181 ---- 0.136 ---- 0.09 ----  14\n",
      "INFO:pykeen.utilities.train_utils:Epoch  49 / 1000 (8.9s):  0.177 ---- 0.142 ---- 0.09 ----  15\n",
      "DEBUG:pykeen.utilities.evaluation_utils.metrics_computations:Evaluation took 48.08s seconds\n",
      "DEBUG:pykeen.utilities.train_utils:\n",
      "current metric: 0.09716305041440623  ---- rank/hits@10: (0.07371145408078322, 0.1425)\n",
      "INFO:pykeen.utilities.train_utils:Epoch  50 / 1000 (8.9s):  0.171 ---- 0.121 ---- 0.10 ----  16\n",
      "DEBUG:pykeen.utilities.evaluation_utils.metrics_computations:Evaluation took 47.80s seconds\n",
      "DEBUG:pykeen.utilities.train_utils:\n",
      "current metric: 0.09478979066139599  ---- rank/hits@10: (0.07303582244204865, 0.135)\n",
      "INFO:pykeen.utilities.train_utils:Epoch  51 / 1000 (8.7s):  0.172 ---- 0.116 ---- 0.09 ----  17\n",
      "INFO:pykeen.utilities.train_utils:Epoch  52 / 1000 (8.7s):  0.171 ---- 0.132 ---- 0.09 ----  18\n",
      "INFO:pykeen.utilities.train_utils:Epoch  53 / 1000 (8.7s):  0.165 ---- 0.119 ---- 0.09 ----  19\n",
      "INFO:pykeen.utilities.train_utils:Epoch  54 / 1000 (8.7s):  0.163 ---- 0.124 ---- 0.09 ----  20\n",
      "DEBUG:pykeen.utilities.evaluation_utils.metrics_computations:Evaluation took 48.07s seconds\n",
      "DEBUG:pykeen.utilities.train_utils:\n",
      "current metric: 0.09122976633547161  ---- rank/hits@10: (0.0682596556634222, 0.1375)\n",
      "INFO:pykeen.utilities.train_utils:Epoch  55 / 1000 (8.7s):  0.161 ---- 0.124 ---- 0.09 ----  21\n",
      "INFO:pykeen.utilities.train_utils:Epoch  56 / 1000 (8.8s):  0.158 ---- 0.122 ---- 0.09 ----  22\n",
      "DEBUG:pykeen.utilities.evaluation_utils.metrics_computations:Evaluation took 47.84s seconds\n",
      "DEBUG:pykeen.utilities.train_utils:\n",
      "current metric: 0.10950645881681577  ---- rank/hits@10: (0.08323786712031538, 0.16)\n",
      "DEBUG:pykeen.utilities.train_utils:Saving the following model to disk:\n",
      "INFO:pykeen.utilities.train_utils:Epoch  57 / 1000 (8.7s):  0.159 ---- 0.109 ---- 0.11 ----   1\n",
      "INFO:pykeen.utilities.train_utils:Epoch  58 / 1000 (8.7s):  0.157 ---- 0.135 ---- 0.11 ----   2\n",
      "INFO:pykeen.utilities.train_utils:Epoch  59 / 1000 (8.7s):  0.157 ---- 0.126 ---- 0.11 ----   3\n",
      "DEBUG:pykeen.utilities.evaluation_utils.metrics_computations:Evaluation took 48.29s seconds\n",
      "DEBUG:pykeen.utilities.train_utils:\n",
      "current metric: 0.10433091926712361  ---- rank/hits@10: (0.07998012681131324, 0.15)\n",
      "INFO:pykeen.utilities.train_utils:Epoch  60 / 1000 (8.7s):  0.159 ---- 0.123 ---- 0.10 ----   4\n",
      "INFO:pykeen.utilities.train_utils:Epoch  61 / 1000 (9.0s):  0.155 ---- 0.119 ---- 0.10 ----   5\n",
      "INFO:pykeen.utilities.train_utils:Epoch  62 / 1000 (9.1s):  0.153 ---- 0.121 ---- 0.10 ----   6\n",
      "INFO:pykeen.utilities.train_utils:Epoch  63 / 1000 (9.1s):  0.167 ---- 0.119 ---- 0.10 ----   7\n",
      "INFO:pykeen.utilities.train_utils:Epoch  64 / 1000 (8.9s):  0.165 ---- 0.118 ---- 0.10 ----   8\n",
      "DEBUG:pykeen.utilities.evaluation_utils.metrics_computations:Evaluation took 49.30s seconds\n",
      "DEBUG:pykeen.utilities.train_utils:\n",
      "current metric: 0.10191774518946227  ---- rank/hits@10: (0.07717835094840639, 0.15)\n",
      "INFO:pykeen.utilities.train_utils:Epoch  65 / 1000 (8.7s):  0.164 ---- 0.124 ---- 0.10 ----   9\n",
      "INFO:pykeen.utilities.train_utils:Epoch  66 / 1000 (10.0s):  0.169 ---- 0.116 ---- 0.10 ----  10\n",
      "INFO:pykeen.utilities.train_utils:Epoch  67 / 1000 (9.8s):  0.161 ---- 0.113 ---- 0.10 ----  11\n",
      "INFO:pykeen.utilities.train_utils:Epoch  68 / 1000 (9.9s):  0.155 ---- 0.116 ---- 0.10 ----  12\n",
      "INFO:pykeen.utilities.train_utils:Epoch  69 / 1000 (9.9s):  0.154 ---- 0.111 ---- 0.10 ----  13\n",
      "DEBUG:pykeen.utilities.evaluation_utils.metrics_computations:Evaluation took 50.13s seconds\n",
      "DEBUG:pykeen.utilities.train_utils:\n",
      "current metric: 0.1235152070048603  ---- rank/hits@10: (0.09543758298295288, 0.175)\n",
      "DEBUG:pykeen.utilities.train_utils:Saving the following model to disk:\n",
      "INFO:pykeen.utilities.train_utils:Epoch  70 / 1000 (10.0s):  0.152 ---- 0.111 ---- 0.12 ----   1\n",
      "INFO:pykeen.utilities.train_utils:Epoch  71 / 1000 (9.8s):  0.154 ---- 0.109 ---- 0.12 ----   2\n",
      "INFO:pykeen.utilities.train_utils:Epoch  72 / 1000 (9.5s):  0.152 ---- 0.110 ---- 0.12 ----   3\n",
      "INFO:pykeen.utilities.train_utils:Epoch  73 / 1000 (9.8s):  0.149 ---- 0.109 ---- 0.12 ----   4\n",
      "INFO:pykeen.utilities.train_utils:Epoch  74 / 1000 (9.7s):  0.151 ---- 0.110 ---- 0.12 ----   5\n",
      "DEBUG:pykeen.utilities.evaluation_utils.metrics_computations:Evaluation took 50.39s seconds\n",
      "DEBUG:pykeen.utilities.train_utils:\n",
      "current metric: 0.11352178615943644  ---- rank/hits@10: (0.0872302158973978, 0.1625)\n",
      "INFO:pykeen.utilities.train_utils:Epoch  75 / 1000 (9.5s):  0.150 ---- 0.111 ---- 0.11 ----   6\n",
      "INFO:pykeen.utilities.train_utils:Epoch  76 / 1000 (9.7s):  0.152 ---- 0.125 ---- 0.11 ----   7\n",
      "INFO:pykeen.utilities.train_utils:Epoch  77 / 1000 (9.9s):  0.152 ---- 0.119 ---- 0.11 ----   8\n",
      "DEBUG:pykeen.utilities.evaluation_utils.metrics_computations:Evaluation took 50.58s seconds\n",
      "DEBUG:pykeen.utilities.train_utils:\n",
      "current metric: 0.11112249790851386  ---- rank/hits@10: (0.08660601121134556, 0.155)\n",
      "INFO:pykeen.utilities.train_utils:Epoch  78 / 1000 (10.1s):  0.149 ---- 0.102 ---- 0.11 ----   9\n",
      "DEBUG:pykeen.utilities.evaluation_utils.metrics_computations:Evaluation took 49.73s seconds\n",
      "DEBUG:pykeen.utilities.train_utils:\n",
      "current metric: 0.11664196289085495  ---- rank/hits@10: (0.09020482254973905, 0.165)\n",
      "INFO:pykeen.utilities.train_utils:Epoch  79 / 1000 (9.9s):  0.151 ---- 0.100 ---- 0.12 ----  10\n",
      "DEBUG:pykeen.utilities.evaluation_utils.metrics_computations:Evaluation took 49.57s seconds\n",
      "DEBUG:pykeen.utilities.train_utils:\n",
      "current metric: 0.1158689840435231  ---- rank/hits@10: (0.09164501521372022, 0.1575)\n",
      "INFO:pykeen.utilities.train_utils:Epoch  80 / 1000 (10.0s):  0.146 ---- 0.097 ---- 0.12 ----  11\n",
      "INFO:pykeen.utilities.train_utils:Epoch  81 / 1000 (10.0s):  0.150 ---- 0.107 ---- 0.12 ----  12\n",
      "INFO:pykeen.utilities.train_utils:Epoch  82 / 1000 (9.4s):  0.148 ---- 0.098 ---- 0.12 ----  13\n",
      "INFO:pykeen.utilities.train_utils:Epoch  83 / 1000 (10.0s):  0.146 ---- 0.102 ---- 0.12 ----  14\n",
      "INFO:pykeen.utilities.train_utils:Epoch  84 / 1000 (10.0s):  0.145 ---- 0.103 ---- 0.12 ----  15\n",
      "DEBUG:pykeen.utilities.evaluation_utils.metrics_computations:Evaluation took 51.04s seconds\n",
      "DEBUG:pykeen.utilities.train_utils:\n",
      "current metric: 0.09668646042180619  ---- rank/hits@10: (0.07384126939122757, 0.14)\n",
      "INFO:pykeen.utilities.train_utils:Epoch  85 / 1000 (9.6s):  0.148 ---- 0.100 ---- 0.10 ----  16\n",
      "INFO:pykeen.utilities.train_utils:Epoch  86 / 1000 (10.0s):  0.147 ---- 0.100 ---- 0.10 ----  17\n",
      "INFO:pykeen.utilities.train_utils:Epoch  87 / 1000 (9.9s):  0.145 ---- 0.098 ---- 0.10 ----  18\n",
      "INFO:pykeen.utilities.train_utils:Epoch  88 / 1000 (9.5s):  0.147 ---- 0.100 ---- 0.10 ----  19\n",
      "DEBUG:pykeen.utilities.evaluation_utils.metrics_computations:Evaluation took 50.35s seconds\n",
      "DEBUG:pykeen.utilities.train_utils:\n",
      "current metric: 0.11018858749155551  ---- rank/hits@10: (0.08707742018935771, 0.15)\n",
      "INFO:pykeen.utilities.train_utils:Epoch  89 / 1000 (9.9s):  0.144 ---- 0.096 ---- 0.11 ----  20\n",
      "DEBUG:pykeen.utilities.evaluation_utils.metrics_computations:Evaluation took 49.63s seconds\n",
      "DEBUG:pykeen.utilities.train_utils:\n",
      "current metric: 0.11399248840584925  ---- rank/hits@10: (0.08707456721368224, 0.165)\n",
      "INFO:pykeen.utilities.train_utils:Epoch  90 / 1000 (9.7s):  0.144 ---- 0.100 ---- 0.11 ----  21\n",
      "DEBUG:pykeen.utilities.evaluation_utils.metrics_computations:Evaluation took 50.39s seconds\n",
      "DEBUG:pykeen.utilities.train_utils:\n",
      "current metric: 0.10376120032467435  ---- rank/hits@10: (0.07736452335581573, 0.1575)\n",
      "INFO:pykeen.utilities.train_utils:Epoch  91 / 1000 (9.8s):  0.148 ---- 0.093 ---- 0.10 ----  22\n",
      "INFO:pykeen.utilities.train_utils:Epoch  92 / 1000 (9.9s):  0.144 ---- 0.097 ---- 0.10 ----  23\n",
      "INFO:pykeen.utilities.train_utils:Epoch  93 / 1000 (9.8s):  0.151 ---- 0.111 ---- 0.10 ----  24\n",
      "INFO:pykeen.utilities.train_utils:Epoch  94 / 1000 (9.6s):  0.154 ---- 0.119 ---- 0.10 ----  25\n",
      "DEBUG:pykeen.utilities.evaluation_utils.metrics_computations:Evaluation took 50.08s seconds\n",
      "DEBUG:pykeen.utilities.train_utils:\n",
      "current metric: 0.11904545741799649  ---- rank/hits@10: (0.09020370335756599, 0.175)\n",
      "INFO:pykeen.utilities.train_utils:Epoch  95 / 1000 (10.1s):  0.143 ---- 0.097 ---- 0.12 ----  26\n"
     ]
    },
    {
     "name": "stderr",
     "output_type": "stream",
     "text": [
      "INFO:pykeen.utilities.train_utils:Epoch  96 / 1000 (9.7s):  0.142 ---- 0.097 ---- 0.12 ----  27\n",
      "INFO:pykeen.utilities.train_utils:Epoch  97 / 1000 (9.8s):  0.147 ---- 0.096 ---- 0.12 ----  28\n",
      "INFO:pykeen.utilities.train_utils:Epoch  98 / 1000 (9.9s):  0.146 ---- 0.104 ---- 0.12 ----  29\n",
      "INFO:pykeen.utilities.train_utils:Epoch  99 / 1000 (10.1s):  0.147 ---- 0.096 ---- 0.12 ----  30\n",
      "DEBUG:pykeen.utilities.evaluation_utils.metrics_computations:Evaluation took 50.24s seconds\n",
      "DEBUG:pykeen.utilities.train_utils:\n",
      "current metric: 0.11033090511045428  ---- rank/hits@10: (0.08564815852739063, 0.155)\n",
      "INFO:pykeen.utilities.train_utils:Epoch 100 / 1000 (10.0s):  0.143 ---- 0.102 ---- 0.11 ----  31\n",
      "INFO:pykeen.utilities.train_utils:Epoch 101 / 1000 (9.8s):  0.144 ---- 0.102 ---- 0.11 ----  32\n",
      "INFO:pykeen.utilities.train_utils:Epoch 102 / 1000 (9.7s):  0.143 ---- 0.095 ---- 0.11 ----  33\n",
      "INFO:pykeen.utilities.train_utils:Epoch 103 / 1000 (9.8s):  0.140 ---- 0.103 ---- 0.11 ----  34\n",
      "INFO:pykeen.utilities.train_utils:Epoch 104 / 1000 (9.8s):  0.144 ---- 0.098 ---- 0.11 ----  35\n",
      "DEBUG:pykeen.utilities.evaluation_utils.metrics_computations:Evaluation took 49.87s seconds\n",
      "DEBUG:pykeen.utilities.train_utils:\n",
      "current metric: 0.10491014970283473  ---- rank/hits@10: (0.08218695775315571, 0.145)\n",
      "INFO:pykeen.utilities.train_utils:Epoch 105 / 1000 (9.7s):  0.142 ---- 0.098 ---- 0.10 ----  36\n",
      "INFO:pykeen.utilities.train_utils:Epoch 106 / 1000 (10.0s):  0.149 ---- 0.102 ---- 0.10 ----  37\n",
      "INFO:pykeen.utilities.train_utils:Epoch 107 / 1000 (9.6s):  0.154 ---- 0.098 ---- 0.10 ----  38\n",
      "INFO:pykeen.utilities.train_utils:Epoch 108 / 1000 (9.9s):  0.156 ---- 0.106 ---- 0.10 ----  39\n",
      "INFO:pykeen.utilities.train_utils:Epoch 109 / 1000 (9.6s):  0.150 ---- 0.097 ---- 0.10 ----  40\n",
      "DEBUG:pykeen.utilities.evaluation_utils.metrics_computations:Evaluation took 49.69s seconds\n",
      "DEBUG:pykeen.utilities.train_utils:\n",
      "current metric: 0.09177293945666329  ---- rank/hits@10: (0.07250098303470004, 0.125)\n",
      "INFO:pykeen.utilities.train_utils:Epoch 110 / 1000 (9.9s):  0.144 ---- 0.109 ---- 0.09 ----  41\n",
      "DEBUG:pykeen.utilities.evaluation_utils.metrics_computations:Evaluation took 50.15s seconds\n",
      "DEBUG:pykeen.utilities.train_utils:\n",
      "current metric: 0.1100449151190746  ---- rank/hits@10: (0.08775982012342873, 0.1475)\n",
      "INFO:pykeen.utilities.train_utils:Epoch 111 / 1000 (9.7s):  0.142 ---- 0.090 ---- 0.11 ----  42\n",
      "DEBUG:pykeen.utilities.evaluation_utils.metrics_computations:Evaluation took 50.29s seconds\n",
      "DEBUG:pykeen.utilities.train_utils:\n",
      "current metric: 0.09514711604924234  ---- rank/hits@10: (0.07589013720900654, 0.1275)\n",
      "INFO:pykeen.utilities.train_utils:Epoch 112 / 1000 (10.0s):  0.144 ---- 0.088 ---- 0.10 ----  43\n",
      "INFO:pykeen.utilities.train_utils:Epoch 113 / 1000 (9.8s):  0.139 ---- 0.092 ---- 0.10 ----  44\n",
      "INFO:pykeen.utilities.train_utils:Epoch 114 / 1000 (9.7s):  0.140 ---- 0.096 ---- 0.10 ----  45\n",
      "DEBUG:pykeen.utilities.evaluation_utils.metrics_computations:Evaluation took 50.00s seconds\n",
      "DEBUG:pykeen.utilities.train_utils:\n",
      "current metric: 0.10112512191489402  ---- rank/hits@10: (0.07763416091287959, 0.145)\n",
      "INFO:pykeen.utilities.train_utils:Epoch 115 / 1000 (9.8s):  0.140 ---- 0.092 ---- 0.10 ----  46\n",
      "INFO:pykeen.utilities.train_utils:Epoch 116 / 1000 (9.8s):  0.139 ---- 0.100 ---- 0.10 ----  47\n",
      "INFO:pykeen.utilities.train_utils:Epoch 117 / 1000 (10.2s):  0.143 ---- 0.094 ---- 0.10 ----  48\n",
      "INFO:pykeen.utilities.train_utils:Epoch 118 / 1000 (9.9s):  0.137 ---- 0.089 ---- 0.10 ----  49\n",
      "INFO:pykeen.utilities.train_utils:Epoch 119 / 1000 (10.0s):  0.139 ---- 0.097 ---- 0.10 ----  50\n",
      "DEBUG:pykeen.utilities.evaluation_utils.metrics_computations:Evaluation took 50.18s seconds\n",
      "DEBUG:pykeen.utilities.train_utils:\n",
      "current metric: 0.10384583135158258  ---- rank/hits@10: (0.07941138753292085, 0.15)\n",
      "INFO:pykeen.utilities.train_utils:Epoch 120 / 1000 (9.7s):  0.139 ---- 0.097 ---- 0.10 ----  51\n",
      "DEBUG:pykeen.utilities.evaluation_utils.metrics_computations:Evaluation took 49.85s seconds\n",
      "DEBUG:pykeen.utilities.train_utils:\n",
      "current metric: 0.09644338042025383  ---- rank/hits@10: (0.07224909275280672, 0.145)\n",
      "INFO:pykeen.utilities.train_utils:Epoch 121 / 1000 (9.8s):  0.139 ---- 0.087 ---- 0.10 ----  52\n",
      "INFO:pykeen.utilities.train_utils:Epoch 122 / 1000 (9.9s):  0.141 ---- 0.092 ---- 0.10 ----  53\n",
      "INFO:pykeen.utilities.train_utils:Epoch 123 / 1000 (9.8s):  0.138 ---- 0.100 ---- 0.10 ----  54\n",
      "INFO:pykeen.utilities.train_utils:Epoch 124 / 1000 (9.8s):  0.137 ---- 0.096 ---- 0.10 ----  55\n",
      "DEBUG:pykeen.utilities.evaluation_utils.metrics_computations:Evaluation took 49.48s seconds\n",
      "DEBUG:pykeen.utilities.train_utils:\n",
      "current metric: 0.1062839193364869  ---- rank/hits@10: (0.08229873248450385, 0.15)\n",
      "INFO:pykeen.utilities.train_utils:Epoch 125 / 1000 (9.5s):  0.138 ---- 0.091 ---- 0.11 ----  56\n",
      "INFO:pykeen.utilities.train_utils:Epoch 126 / 1000 (10.2s):  0.138 ---- 0.091 ---- 0.11 ----  57\n",
      "INFO:pykeen.utilities.train_utils:Epoch 127 / 1000 (9.5s):  0.140 ---- 0.093 ---- 0.11 ----  58\n",
      "INFO:pykeen.utilities.train_utils:Epoch 128 / 1000 (9.8s):  0.137 ---- 0.092 ---- 0.11 ----  59\n",
      "INFO:pykeen.utilities.train_utils:Epoch 129 / 1000 (9.9s):  0.136 ---- 0.088 ---- 0.11 ----  60\n",
      "DEBUG:pykeen.utilities.evaluation_utils.metrics_computations:Evaluation took 50.19s seconds\n",
      "DEBUG:pykeen.utilities.train_utils:\n",
      "current metric: 0.10268154202168708  ---- rank/hits@10: (0.08025583311938128, 0.1425)\n",
      "INFO:pykeen.utilities.train_utils:Epoch 130 / 1000 (10.0s):  0.140 ---- 0.100 ---- 0.10 ----  61\n",
      "DEBUG:pykeen.utilities.evaluation_utils.metrics_computations:Evaluation took 50.01s seconds\n",
      "DEBUG:pykeen.utilities.train_utils:\n",
      "current metric: 0.10874645099092797  ---- rank/hits@10: (0.07940097778262263, 0.1725)\n",
      "INFO:pykeen.utilities.train_utils:Epoch 131 / 1000 (9.5s):  0.142 ---- 0.085 ---- 0.11 ----  62\n",
      "INFO:pykeen.utilities.train_utils:Epoch 132 / 1000 (10.0s):  0.135 ---- 0.094 ---- 0.11 ----  63\n",
      "INFO:pykeen.utilities.train_utils:Epoch 133 / 1000 (9.9s):  0.141 ---- 0.092 ---- 0.11 ----  64\n",
      "INFO:pykeen.utilities.train_utils:Epoch 134 / 1000 (9.9s):  0.136 ---- 0.090 ---- 0.11 ----  65\n",
      "DEBUG:pykeen.utilities.evaluation_utils.metrics_computations:Evaluation took 50.41s seconds\n",
      "DEBUG:pykeen.utilities.train_utils:\n",
      "current metric: 0.1137690568581765  ---- rank/hits@10: (0.08487256091845165, 0.1725)\n",
      "INFO:pykeen.utilities.train_utils:Epoch 135 / 1000 (9.7s):  0.136 ---- 0.091 ---- 0.11 ----  66\n",
      "INFO:pykeen.utilities.train_utils:Epoch 136 / 1000 (9.5s):  0.143 ---- 0.101 ---- 0.11 ----  67\n",
      "INFO:pykeen.utilities.train_utils:Epoch 137 / 1000 (9.4s):  0.138 ---- 0.091 ---- 0.11 ----  68\n",
      "INFO:pykeen.utilities.train_utils:Epoch 138 / 1000 (9.8s):  0.137 ---- 0.090 ---- 0.11 ----  69\n",
      "INFO:pykeen.utilities.train_utils:Epoch 139 / 1000 (9.5s):  0.134 ---- 0.088 ---- 0.11 ----  70\n",
      "DEBUG:pykeen.utilities.evaluation_utils.metrics_computations:Evaluation took 49.07s seconds\n",
      "DEBUG:pykeen.utilities.train_utils:\n",
      "current metric: 0.10172237721762434  ---- rank/hits@10: (0.07511934071078628, 0.1575)\n",
      "INFO:pykeen.utilities.train_utils:Epoch 140 / 1000 (9.7s):  0.133 ---- 0.085 ---- 0.10 ----  71\n",
      "DEBUG:pykeen.utilities.evaluation_utils.metrics_computations:Evaluation took 48.92s seconds\n",
      "DEBUG:pykeen.utilities.train_utils:\n",
      "current metric: 0.09971960591042746  ---- rank/hits@10: (0.07532062775867499, 0.1475)\n",
      "INFO:pykeen.utilities.train_utils:Epoch 141 / 1000 (9.2s):  0.135 ---- 0.081 ---- 0.10 ----  72\n",
      "INFO:pykeen.utilities.train_utils:Epoch 142 / 1000 (9.1s):  0.138 ---- 0.090 ---- 0.10 ----  73\n",
      "INFO:pykeen.utilities.train_utils:Epoch 143 / 1000 (9.2s):  0.134 ---- 0.083 ---- 0.10 ----  74\n",
      "INFO:pykeen.utilities.train_utils:Epoch 144 / 1000 (9.2s):  0.135 ---- 0.088 ---- 0.10 ----  75\n",
      "DEBUG:pykeen.utilities.evaluation_utils.metrics_computations:Evaluation took 48.93s seconds\n",
      "DEBUG:pykeen.utilities.train_utils:\n",
      "current metric: 0.11133045080308139  ---- rank/hits@10: (0.0853640226714788, 0.16)\n",
      "INFO:pykeen.utilities.train_utils:Epoch 145 / 1000 (9.2s):  0.134 ---- 0.090 ---- 0.11 ----  76\n",
      "INFO:pykeen.utilities.train_utils:Epoch 146 / 1000 (9.2s):  0.136 ---- 0.083 ---- 0.11 ----  77\n",
      "INFO:pykeen.utilities.train_utils:Epoch 147 / 1000 (9.2s):  0.135 ---- 0.106 ---- 0.11 ----  78\n"
     ]
    },
    {
     "name": "stderr",
     "output_type": "stream",
     "text": [
      "INFO:pykeen.utilities.train_utils:Epoch 148 / 1000 (9.2s):  0.131 ---- 0.085 ---- 0.11 ----  79\n",
      "INFO:pykeen.utilities.train_utils:Epoch 149 / 1000 (9.2s):  0.139 ---- 0.083 ---- 0.11 ----  80\n",
      "DEBUG:pykeen.utilities.evaluation_utils.metrics_computations:Evaluation took 48.91s seconds\n",
      "DEBUG:pykeen.utilities.train_utils:\n",
      "current metric: 0.11604173879581091  ---- rank/hits@10: (0.08679883405161544, 0.175)\n",
      "INFO:pykeen.utilities.train_utils:Epoch 150 / 1000 (9.1s):  0.133 ---- 0.079 ---- 0.12 ----  81\n",
      "INFO:pykeen.utilities.train_utils:Epoch 151 / 1000 (9.2s):  0.137 ---- 0.083 ---- 0.12 ----  82\n",
      "INFO:pykeen.utilities.train_utils:Epoch 152 / 1000 (9.2s):  0.134 ---- 0.088 ---- 0.12 ----  83\n",
      "INFO:pykeen.utilities.train_utils:Epoch 153 / 1000 (9.2s):  0.133 ---- 0.086 ---- 0.12 ----  84\n",
      "INFO:pykeen.utilities.train_utils:Epoch 154 / 1000 (9.2s):  0.136 ---- 0.089 ---- 0.12 ----  85\n",
      "DEBUG:pykeen.utilities.evaluation_utils.metrics_computations:Evaluation took 48.93s seconds\n",
      "DEBUG:pykeen.utilities.train_utils:\n",
      "current metric: 0.10964798643052871  ---- rank/hits@10: (0.08273801344891071, 0.1625)\n",
      "INFO:pykeen.utilities.train_utils:Epoch 155 / 1000 (9.1s):  0.133 ---- 0.093 ---- 0.11 ----  86\n",
      "INFO:pykeen.utilities.train_utils:Epoch 156 / 1000 (9.2s):  0.131 ---- 0.088 ---- 0.11 ----  87\n",
      "INFO:pykeen.utilities.train_utils:Epoch 157 / 1000 (9.1s):  0.133 ---- 0.088 ---- 0.11 ----  88\n",
      "INFO:pykeen.utilities.train_utils:Epoch 158 / 1000 (9.1s):  0.132 ---- 0.087 ---- 0.11 ----  89\n",
      "INFO:pykeen.utilities.train_utils:Epoch 159 / 1000 (9.2s):  0.132 ---- 0.082 ---- 0.11 ----  90\n",
      "DEBUG:pykeen.utilities.evaluation_utils.metrics_computations:Evaluation took 48.95s seconds\n",
      "DEBUG:pykeen.utilities.train_utils:\n",
      "current metric: 0.10065093363018793  ---- rank/hits@10: (0.07290325286197105, 0.1625)\n",
      "INFO:pykeen.utilities.train_utils:Epoch 160 / 1000 (9.2s):  0.134 ---- 0.080 ---- 0.10 ----  91\n",
      "INFO:pykeen.utilities.train_utils:Epoch 161 / 1000 (9.2s):  0.131 ---- 0.090 ---- 0.10 ----  92\n",
      "INFO:pykeen.utilities.train_utils:Epoch 162 / 1000 (9.1s):  0.134 ---- 0.088 ---- 0.10 ----  93\n",
      "INFO:pykeen.utilities.train_utils:Epoch 163 / 1000 (9.1s):  0.132 ---- 0.086 ---- 0.10 ----  94\n",
      "INFO:pykeen.utilities.train_utils:Epoch 164 / 1000 (9.1s):  0.136 ---- 0.087 ---- 0.10 ----  95\n",
      "DEBUG:pykeen.utilities.evaluation_utils.metrics_computations:Evaluation took 48.91s seconds\n",
      "DEBUG:pykeen.utilities.train_utils:\n",
      "current metric: 0.1094580215380426  ---- rank/hits@10: (0.08536452589794669, 0.1525)\n",
      "INFO:pykeen.utilities.train_utils:Epoch 165 / 1000 (9.1s):  0.132 ---- 0.083 ---- 0.11 ----  96\n",
      "DEBUG:pykeen.utilities.evaluation_utils.metrics_computations:Evaluation took 48.95s seconds\n",
      "DEBUG:pykeen.utilities.train_utils:\n",
      "current metric: 0.1027825253748506  ---- rank/hits@10: (0.07887119796134757, 0.1475)\n",
      "INFO:pykeen.utilities.train_utils:Epoch 166 / 1000 (9.2s):  0.132 ---- 0.078 ---- 0.10 ----  97\n",
      "DEBUG:pykeen.utilities.evaluation_utils.metrics_computations:Evaluation took 48.94s seconds\n",
      "DEBUG:pykeen.utilities.train_utils:\n",
      "current metric: 0.09758837003600009  ---- rank/hits@10: (0.06928259596318047, 0.165)\n",
      "INFO:pykeen.utilities.train_utils:Epoch 167 / 1000 (9.2s):  0.130 ---- 0.075 ---- 0.10 ----  98\n",
      "INFO:pykeen.utilities.train_utils:Epoch 168 / 1000 (9.2s):  0.128 ---- 0.081 ---- 0.10 ----  99\n",
      "INFO:pykeen.utilities.train_utils:Epoch 169 / 1000 (9.2s):  0.127 ---- 0.079 ---- 0.10 ---- 100\n",
      "DEBUG:pykeen.utilities.evaluation_utils.metrics_computations:Evaluation took 48.93s seconds\n",
      "DEBUG:pykeen.utilities.train_utils:\n",
      "current metric: 0.09201292589004721  ---- rank/hits@10: (0.07047759344540418, 0.1325)\n",
      "INFO:pykeen.utilities.train_utils:Epoch 170 / 1000 (9.2s):  0.128 ---- 0.084 ---- 0.09 ---- 101\n",
      "INFO:pykeen.utilities.train_utils:Epoch 171 / 1000 (9.2s):  0.126 ---- 0.083 ---- 0.09 ---- 102\n"
     ]
    },
    {
     "name": "stdout",
     "output_type": "stream",
     "text": [
      "Epoch   171: reducing learning rate of group 0 to 1.0000e-04.\n"
     ]
    },
    {
     "name": "stderr",
     "output_type": "stream",
     "text": [
      "INFO:pykeen.utilities.train_utils:Epoch 172 / 1000 (9.2s):  0.120 ---- 0.076 ---- 0.09 ---- 103\n",
      "INFO:pykeen.utilities.train_utils:Epoch 173 / 1000 (9.1s):  0.118 ---- 0.077 ---- 0.09 ---- 104\n",
      "INFO:pykeen.utilities.train_utils:Epoch 174 / 1000 (9.2s):  0.118 ---- 0.076 ---- 0.09 ---- 105\n",
      "DEBUG:pykeen.utilities.evaluation_utils.metrics_computations:Evaluation took 48.93s seconds\n",
      "DEBUG:pykeen.utilities.train_utils:\n",
      "current metric: 0.10219199760793161  ---- rank/hits@10: (0.07401706449402495, 0.165)\n",
      "INFO:pykeen.utilities.train_utils:Epoch 175 / 1000 (9.2s):  0.118 ---- 0.074 ---- 0.10 ---- 106\n",
      "DEBUG:pykeen.utilities.evaluation_utils.metrics_computations:Evaluation took 48.93s seconds\n",
      "DEBUG:pykeen.utilities.train_utils:\n",
      "current metric: 0.10607662495961488  ---- rank/hits@10: (0.07708945820408611, 0.17)\n",
      "INFO:pykeen.utilities.train_utils:Epoch 176 / 1000 (9.3s):  0.118 ---- 0.073 ---- 0.11 ---- 107\n",
      "INFO:pykeen.utilities.train_utils:Epoch 177 / 1000 (9.2s):  0.118 ---- 0.074 ---- 0.11 ---- 108\n",
      "INFO:pykeen.utilities.train_utils:Epoch 178 / 1000 (9.1s):  0.118 ---- 0.073 ---- 0.11 ---- 109\n",
      "INFO:pykeen.utilities.train_utils:Epoch 179 / 1000 (9.2s):  0.117 ---- 0.074 ---- 0.11 ---- 110\n",
      "DEBUG:pykeen.utilities.evaluation_utils.metrics_computations:Evaluation took 48.90s seconds\n",
      "DEBUG:pykeen.utilities.train_utils:\n",
      "current metric: 0.10659196862512542  ---- rank/hits@10: (0.07816780625986564, 0.1675)\n",
      "INFO:pykeen.utilities.train_utils:Epoch 180 / 1000 (9.2s):  0.117 ---- 0.074 ---- 0.11 ---- 111\n",
      "INFO:pykeen.utilities.train_utils:Epoch 181 / 1000 (9.1s):  0.116 ---- 0.073 ---- 0.11 ---- 112\n",
      "INFO:pykeen.utilities.train_utils:Epoch 182 / 1000 (9.1s):  0.117 ---- 0.073 ---- 0.11 ---- 113\n",
      "INFO:pykeen.utilities.train_utils:Epoch 183 / 1000 (9.2s):  0.117 ---- 0.073 ---- 0.11 ---- 114\n",
      "INFO:pykeen.utilities.train_utils:Epoch 184 / 1000 (9.2s):  0.117 ---- 0.073 ---- 0.11 ---- 115\n",
      "DEBUG:pykeen.utilities.evaluation_utils.metrics_computations:Evaluation took 48.90s seconds\n",
      "DEBUG:pykeen.utilities.train_utils:\n",
      "current metric: 0.10417670788568408  ---- rank/hits@10: (0.07462103001959683, 0.1725)\n",
      "INFO:pykeen.utilities.train_utils:Epoch 185 / 1000 (9.2s):  0.117 ---- 0.072 ---- 0.10 ---- 116\n",
      "DEBUG:pykeen.utilities.evaluation_utils.metrics_computations:Evaluation took 48.89s seconds\n",
      "DEBUG:pykeen.utilities.train_utils:\n",
      "current metric: 0.10305957956421695  ---- rank/hits@10: (0.07545800646093186, 0.1625)\n",
      "INFO:pykeen.utilities.train_utils:Epoch 186 / 1000 (9.1s):  0.116 ---- 0.072 ---- 0.10 ---- 117\n",
      "INFO:pykeen.utilities.train_utils:Epoch 187 / 1000 (9.1s):  0.116 ---- 0.072 ---- 0.10 ---- 118\n",
      "INFO:pykeen.utilities.train_utils:Epoch 188 / 1000 (9.2s):  0.116 ---- 0.073 ---- 0.10 ---- 119\n",
      "INFO:pykeen.utilities.train_utils:Epoch 189 / 1000 (9.2s):  0.116 ---- 0.073 ---- 0.10 ---- 120\n",
      "DEBUG:pykeen.utilities.evaluation_utils.metrics_computations:Evaluation took 48.94s seconds\n",
      "DEBUG:pykeen.utilities.train_utils:\n",
      "current metric: 0.10239123470069666  ---- rank/hits@10: (0.07474357811783469, 0.1625)\n",
      "INFO:pykeen.utilities.train_utils:Epoch 190 / 1000 (9.2s):  0.116 ---- 0.073 ---- 0.10 ---- 121\n",
      "INFO:pykeen.utilities.train_utils:Epoch 191 / 1000 (9.2s):  0.116 ---- 0.072 ---- 0.10 ---- 122\n",
      "INFO:pykeen.utilities.train_utils:Epoch 192 / 1000 (9.2s):  0.116 ---- 0.072 ---- 0.10 ---- 123\n",
      "DEBUG:pykeen.utilities.evaluation_utils.metrics_computations:Evaluation took 48.91s seconds\n",
      "DEBUG:pykeen.utilities.train_utils:\n",
      "current metric: 0.10189575794681717  ---- rank/hits@10: (0.0753085988434645, 0.1575)\n",
      "INFO:pykeen.utilities.train_utils:Epoch 193 / 1000 (9.1s):  0.116 ---- 0.071 ---- 0.10 ---- 124\n",
      "INFO:pykeen.utilities.train_utils:Epoch 194 / 1000 (9.1s):  0.115 ---- 0.072 ---- 0.10 ---- 125\n",
      "DEBUG:pykeen.utilities.evaluation_utils.metrics_computations:Evaluation took 48.93s seconds\n",
      "DEBUG:pykeen.utilities.train_utils:\n",
      "current metric: 0.10442654563025104  ---- rank/hits@10: (0.0781066207323773, 0.1575)\n",
      "INFO:pykeen.utilities.train_utils:Epoch 195 / 1000 (9.2s):  0.116 ---- 0.072 ---- 0.10 ---- 126\n",
      "INFO:pykeen.utilities.train_utils:Epoch 196 / 1000 (9.2s):  0.116 ---- 0.072 ---- 0.10 ---- 127\n",
      "INFO:pykeen.utilities.train_utils:Epoch 197 / 1000 (9.2s):  0.116 ---- 0.073 ---- 0.10 ---- 128\n",
      "INFO:pykeen.utilities.train_utils:Epoch 198 / 1000 (9.2s):  0.116 ---- 0.072 ---- 0.10 ---- 129\n",
      "INFO:pykeen.utilities.train_utils:Epoch 199 / 1000 (9.2s):  0.115 ---- 0.072 ---- 0.10 ---- 130\n",
      "DEBUG:pykeen.utilities.evaluation_utils.metrics_computations:Evaluation took 48.96s seconds\n",
      "DEBUG:pykeen.utilities.train_utils:\n",
      "current metric: 0.09879078202180323  ---- rank/hits@10: (0.07145509245933172, 0.16)\n",
      "INFO:pykeen.utilities.train_utils:Epoch 200 / 1000 (9.2s):  0.115 ---- 0.072 ---- 0.10 ---- 131\n",
      "INFO:pykeen.utilities.train_utils:Epoch 201 / 1000 (9.2s):  0.115 ---- 0.072 ---- 0.10 ---- 132\n",
      "INFO:pykeen.utilities.train_utils:Epoch 202 / 1000 (9.2s):  0.115 ---- 0.073 ---- 0.10 ---- 133\n",
      "INFO:pykeen.utilities.train_utils:Epoch 203 / 1000 (9.2s):  0.115 ---- 0.073 ---- 0.10 ---- 134\n",
      "INFO:pykeen.utilities.train_utils:Epoch 204 / 1000 (9.2s):  0.115 ---- 0.072 ---- 0.10 ---- 135\n",
      "DEBUG:pykeen.utilities.evaluation_utils.metrics_computations:Evaluation took 48.95s seconds\n",
      "DEBUG:pykeen.utilities.train_utils:\n",
      "current metric: 0.10457810265615336  ---- rank/hits@10: (0.07709733872363532, 0.1625)\n",
      "INFO:pykeen.utilities.train_utils:Epoch 205 / 1000 (9.2s):  0.115 ---- 0.072 ---- 0.10 ---- 136\n",
      "INFO:pykeen.utilities.train_utils:Epoch 206 / 1000 (9.2s):  0.115 ---- 0.072 ---- 0.10 ---- 137\n",
      "INFO:pykeen.utilities.train_utils:Epoch 207 / 1000 (9.1s):  0.115 ---- 0.072 ---- 0.10 ---- 138\n",
      "INFO:pykeen.utilities.train_utils:Epoch 208 / 1000 (9.2s):  0.115 ---- 0.072 ---- 0.10 ---- 139\n",
      "INFO:pykeen.utilities.train_utils:Epoch 209 / 1000 (9.2s):  0.115 ---- 0.071 ---- 0.10 ---- 140\n",
      "DEBUG:pykeen.utilities.evaluation_utils.metrics_computations:Evaluation took 48.93s seconds\n",
      "DEBUG:pykeen.utilities.train_utils:\n",
      "current metric: 0.10559507546137051  ---- rank/hits@10: (0.07710024174655943, 0.1675)\n",
      "INFO:pykeen.utilities.train_utils:Epoch 210 / 1000 (9.1s):  0.114 ---- 0.072 ---- 0.11 ---- 141\n",
      "DEBUG:pykeen.utilities.evaluation_utils.metrics_computations:Evaluation took 48.94s seconds\n",
      "DEBUG:pykeen.utilities.train_utils:\n",
      "current metric: 0.10432299133650269  ---- rank/hits@10: (0.07525090643240297, 0.17)\n",
      "INFO:pykeen.utilities.train_utils:Epoch 211 / 1000 (9.2s):  0.115 ---- 0.071 ---- 0.10 ---- 142\n",
      "INFO:pykeen.utilities.train_utils:Epoch 212 / 1000 (9.2s):  0.115 ---- 0.071 ---- 0.10 ---- 143\n",
      "INFO:pykeen.utilities.train_utils:Epoch 213 / 1000 (9.2s):  0.115 ---- 0.072 ---- 0.10 ---- 144\n",
      "INFO:pykeen.utilities.train_utils:Epoch 214 / 1000 (9.2s):  0.115 ---- 0.073 ---- 0.10 ---- 145\n",
      "DEBUG:pykeen.utilities.evaluation_utils.metrics_computations:Evaluation took 48.94s seconds\n",
      "DEBUG:pykeen.utilities.train_utils:\n",
      "current metric: 0.10205200169773265  ---- rank/hits@10: (0.07387027043684463, 0.165)\n",
      "INFO:pykeen.utilities.train_utils:Epoch 215 / 1000 (9.2s):  0.114 ---- 0.072 ---- 0.10 ---- 146\n",
      "INFO:pykeen.utilities.train_utils:Epoch 216 / 1000 (9.3s):  0.114 ---- 0.072 ---- 0.10 ---- 147\n",
      "INFO:pykeen.utilities.train_utils:Epoch 217 / 1000 (9.2s):  0.114 ---- 0.073 ---- 0.10 ---- 148\n",
      "INFO:pykeen.utilities.train_utils:Epoch 218 / 1000 (9.2s):  0.115 ---- 0.071 ---- 0.10 ---- 149\n",
      "INFO:pykeen.utilities.train_utils:Epoch 219 / 1000 (9.1s):  0.115 ---- 0.071 ---- 0.10 ---- 150\n",
      "DEBUG:pykeen.utilities.evaluation_utils.metrics_computations:Evaluation took 48.93s seconds\n",
      "DEBUG:pykeen.utilities.train_utils:\n",
      "current metric: 0.10384914772156169  ---- rank/hits@10: (0.0752527281292839, 0.1675)\n",
      "INFO:pykeen.utilities.train_utils:Epoch 220 / 1000 (9.2s):  0.115 ---- 0.072 ---- 0.10 ---- 151\n",
      "INFO:pykeen.utilities.train_utils:Epoch 221 / 1000 (9.2s):  0.115 ---- 0.071 ---- 0.10 ---- 152\n",
      "INFO:pykeen.utilities.train_utils:Epoch 222 / 1000 (9.1s):  0.114 ---- 0.072 ---- 0.10 ---- 153\n",
      "INFO:pykeen.utilities.train_utils:Epoch 223 / 1000 (9.2s):  0.114 ---- 0.072 ---- 0.10 ---- 154\n",
      "INFO:pykeen.utilities.train_utils:Epoch 224 / 1000 (9.2s):  0.115 ---- 0.072 ---- 0.10 ---- 155\n",
      "DEBUG:pykeen.utilities.evaluation_utils.metrics_computations:Evaluation took 48.88s seconds\n",
      "DEBUG:pykeen.utilities.train_utils:\n",
      "current metric: 0.10899557934173335  ---- rank/hits@10: (0.07966688667952468, 0.1725)\n"
     ]
    },
    {
     "name": "stderr",
     "output_type": "stream",
     "text": [
      "INFO:pykeen.utilities.train_utils:Epoch 225 / 1000 (9.2s):  0.114 ---- 0.071 ---- 0.11 ---- 156\n",
      "INFO:pykeen.utilities.train_utils:Epoch 226 / 1000 (9.2s):  0.114 ---- 0.072 ---- 0.11 ---- 157\n",
      "INFO:pykeen.utilities.train_utils:Epoch 227 / 1000 (9.2s):  0.114 ---- 0.071 ---- 0.11 ---- 158\n",
      "INFO:pykeen.utilities.train_utils:Epoch 228 / 1000 (9.2s):  0.115 ---- 0.072 ---- 0.11 ---- 159\n",
      "INFO:pykeen.utilities.train_utils:Epoch 229 / 1000 (9.2s):  0.114 ---- 0.072 ---- 0.11 ---- 160\n",
      "DEBUG:pykeen.utilities.evaluation_utils.metrics_computations:Evaluation took 48.94s seconds\n",
      "DEBUG:pykeen.utilities.train_utils:\n",
      "current metric: 0.1095732899848622  ---- rank/hits@10: (0.07975538885069618, 0.175)\n",
      "INFO:pykeen.utilities.train_utils:Epoch 230 / 1000 (9.1s):  0.114 ---- 0.073 ---- 0.11 ---- 161\n",
      "INFO:pykeen.utilities.train_utils:Epoch 231 / 1000 (9.1s):  0.114 ---- 0.071 ---- 0.11 ---- 162\n",
      "INFO:pykeen.utilities.train_utils:Epoch 232 / 1000 (9.2s):  0.114 ---- 0.071 ---- 0.11 ---- 163\n",
      "INFO:pykeen.utilities.train_utils:Epoch 233 / 1000 (9.2s):  0.114 ---- 0.073 ---- 0.11 ---- 164\n",
      "INFO:pykeen.utilities.train_utils:Epoch 234 / 1000 (9.2s):  0.114 ---- 0.072 ---- 0.11 ---- 165\n",
      "DEBUG:pykeen.utilities.evaluation_utils.metrics_computations:Evaluation took 48.93s seconds\n",
      "DEBUG:pykeen.utilities.train_utils:\n",
      "current metric: 0.10123143993804358  ---- rank/hits@10: (0.07207542226246987, 0.17)\n",
      "INFO:pykeen.utilities.train_utils:Epoch 235 / 1000 (9.2s):  0.114 ---- 0.072 ---- 0.10 ---- 166\n",
      "INFO:pykeen.utilities.train_utils:Epoch 236 / 1000 (9.2s):  0.114 ---- 0.073 ---- 0.10 ---- 167\n",
      "INFO:pykeen.utilities.train_utils:Epoch 237 / 1000 (9.3s):  0.114 ---- 0.072 ---- 0.10 ---- 168\n",
      "INFO:pykeen.utilities.train_utils:Epoch 238 / 1000 (9.2s):  0.114 ---- 0.071 ---- 0.10 ---- 169\n",
      "INFO:pykeen.utilities.train_utils:Epoch 239 / 1000 (9.1s):  0.114 ---- 0.072 ---- 0.10 ---- 170\n",
      "DEBUG:pykeen.utilities.evaluation_utils.metrics_computations:Evaluation took 48.91s seconds\n",
      "DEBUG:pykeen.utilities.train_utils:\n",
      "current metric: 0.09838187577147359  ---- rank/hits@10: (0.06964371070665068, 0.1675)\n",
      "INFO:pykeen.utilities.train_utils:Epoch 240 / 1000 (9.2s):  0.114 ---- 0.071 ---- 0.10 ---- 171\n",
      "INFO:pykeen.utilities.train_utils:Epoch 241 / 1000 (9.2s):  0.114 ---- 0.073 ---- 0.10 ---- 172\n",
      "INFO:pykeen.utilities.train_utils:Epoch 242 / 1000 (9.2s):  0.114 ---- 0.072 ---- 0.10 ---- 173\n",
      "INFO:pykeen.utilities.train_utils:Epoch 243 / 1000 (9.2s):  0.114 ---- 0.072 ---- 0.10 ---- 174\n",
      "INFO:pykeen.utilities.train_utils:Epoch 244 / 1000 (9.1s):  0.114 ---- 0.072 ---- 0.10 ---- 175\n",
      "DEBUG:pykeen.utilities.evaluation_utils.metrics_computations:Evaluation took 48.95s seconds\n",
      "DEBUG:pykeen.utilities.train_utils:\n",
      "current metric: 0.10836598826626141  ---- rank/hits@10: (0.07899596866473985, 0.1725)\n",
      "INFO:pykeen.utilities.train_utils:Epoch 245 / 1000 (9.2s):  0.114 ---- 0.072 ---- 0.11 ---- 176\n",
      "INFO:pykeen.utilities.train_utils:Epoch 246 / 1000 (9.2s):  0.113 ---- 0.072 ---- 0.11 ---- 177\n",
      "INFO:pykeen.utilities.train_utils:Epoch 247 / 1000 (9.2s):  0.113 ---- 0.072 ---- 0.11 ---- 178\n",
      "INFO:pykeen.utilities.train_utils:Epoch 248 / 1000 (9.2s):  0.114 ---- 0.072 ---- 0.11 ---- 179\n",
      "INFO:pykeen.utilities.train_utils:Epoch 249 / 1000 (9.2s):  0.113 ---- 0.073 ---- 0.11 ---- 180\n",
      "DEBUG:pykeen.utilities.evaluation_utils.metrics_computations:Evaluation took 48.93s seconds\n",
      "DEBUG:pykeen.utilities.train_utils:\n",
      "current metric: 0.11329763611857992  ---- rank/hits@10: (0.08320287020822903, 0.1775)\n",
      "INFO:pykeen.utilities.train_utils:Epoch 250 / 1000 (9.1s):  0.113 ---- 0.073 ---- 0.11 ---- 181\n",
      "INFO:pykeen.utilities.train_utils:Epoch 251 / 1000 (9.2s):  0.114 ---- 0.071 ---- 0.11 ---- 182\n",
      "INFO:pykeen.utilities.train_utils:Epoch 252 / 1000 (9.1s):  0.114 ---- 0.072 ---- 0.11 ---- 183\n",
      "INFO:pykeen.utilities.train_utils:Epoch 253 / 1000 (9.2s):  0.114 ---- 0.073 ---- 0.11 ---- 184\n",
      "INFO:pykeen.utilities.train_utils:Epoch 254 / 1000 (9.2s):  0.114 ---- 0.071 ---- 0.11 ---- 185\n",
      "DEBUG:pykeen.utilities.evaluation_utils.metrics_computations:Evaluation took 48.92s seconds\n",
      "DEBUG:pykeen.utilities.train_utils:\n",
      "current metric: 0.11194112355716149  ---- rank/hits@10: (0.08174788644704772, 0.1775)\n",
      "INFO:pykeen.utilities.train_utils:Epoch 255 / 1000 (9.1s):  0.114 ---- 0.072 ---- 0.11 ---- 186\n",
      "INFO:pykeen.utilities.train_utils:Epoch 256 / 1000 (9.2s):  0.114 ---- 0.071 ---- 0.11 ---- 187\n",
      "INFO:pykeen.utilities.train_utils:Epoch 257 / 1000 (9.2s):  0.113 ---- 0.071 ---- 0.11 ---- 188\n",
      "INFO:pykeen.utilities.train_utils:Epoch 258 / 1000 (9.2s):  0.114 ---- 0.071 ---- 0.11 ---- 189\n",
      "INFO:pykeen.utilities.train_utils:Epoch 259 / 1000 (9.2s):  0.114 ---- 0.071 ---- 0.11 ---- 190\n",
      "DEBUG:pykeen.utilities.evaluation_utils.metrics_computations:Evaluation took 48.94s seconds\n",
      "DEBUG:pykeen.utilities.train_utils:\n",
      "current metric: 0.10911291453117315  ---- rank/hits@10: (0.07828352176402284, 0.18)\n",
      "INFO:pykeen.utilities.train_utils:Epoch 260 / 1000 (9.2s):  0.114 ---- 0.071 ---- 0.11 ---- 191\n",
      "DEBUG:pykeen.utilities.evaluation_utils.metrics_computations:Evaluation took 48.90s seconds\n",
      "DEBUG:pykeen.utilities.train_utils:\n",
      "current metric: 0.10947448582241712  ---- rank/hits@10: (0.08017963094277941, 0.1725)\n",
      "INFO:pykeen.utilities.train_utils:Epoch 261 / 1000 (9.3s):  0.114 ---- 0.070 ---- 0.11 ---- 192\n",
      "DEBUG:pykeen.utilities.evaluation_utils.metrics_computations:Evaluation took 48.93s seconds\n",
      "DEBUG:pykeen.utilities.train_utils:\n",
      "current metric: 0.11136729293621182  ---- rank/hits@10: (0.08222674929778323, 0.1725)\n",
      "INFO:pykeen.utilities.train_utils:Epoch 262 / 1000 (9.2s):  0.113 ---- 0.070 ---- 0.11 ---- 193\n",
      "INFO:pykeen.utilities.train_utils:Epoch 263 / 1000 (9.2s):  0.114 ---- 0.072 ---- 0.11 ---- 194\n",
      "INFO:pykeen.utilities.train_utils:Epoch 264 / 1000 (9.1s):  0.113 ---- 0.071 ---- 0.11 ---- 195\n",
      "DEBUG:pykeen.utilities.evaluation_utils.metrics_computations:Evaluation took 48.93s seconds\n",
      "DEBUG:pykeen.utilities.train_utils:\n",
      "current metric: 0.10840228991848878  ---- rank/hits@10: (0.07802751474931231, 0.1775)\n",
      "INFO:pykeen.utilities.train_utils:Epoch 265 / 1000 (9.2s):  0.113 ---- 0.071 ---- 0.11 ---- 196\n",
      "INFO:pykeen.utilities.train_utils:Epoch 266 / 1000 (9.2s):  0.113 ---- 0.071 ---- 0.11 ---- 197\n",
      "INFO:pykeen.utilities.train_utils:Epoch 267 / 1000 (9.3s):  0.113 ---- 0.071 ---- 0.11 ---- 198\n",
      "INFO:pykeen.utilities.train_utils:Epoch 268 / 1000 (9.2s):  0.113 ---- 0.072 ---- 0.11 ---- 199\n",
      "INFO:pykeen.utilities.train_utils:Epoch 269 / 1000 (9.2s):  0.113 ---- 0.072 ---- 0.11 ---- 200\n",
      "DEBUG:pykeen.utilities.evaluation_utils.metrics_computations:Evaluation took 48.90s seconds\n",
      "DEBUG:pykeen.utilities.train_utils:\n",
      "current metric: 0.11187003186015101  ---- rank/hits@10: (0.08167208183795363, 0.1775)\n",
      "INFO:pykeen.utilities.train_utils:Epoch 270 / 1000 (9.2s):  0.113 ---- 0.071 ---- 0.11 ---- 201\n",
      "INFO:pykeen.utilities.train_utils:Epoch 271 / 1000 (9.1s):  0.114 ---- 0.072 ---- 0.11 ---- 202\n",
      "INFO:pykeen.utilities.train_utils:Epoch 272 / 1000 (9.1s):  0.113 ---- 0.071 ---- 0.11 ---- 203\n"
     ]
    },
    {
     "name": "stdout",
     "output_type": "stream",
     "text": [
      "Epoch   272: reducing learning rate of group 0 to 1.0000e-05.\n"
     ]
    },
    {
     "name": "stderr",
     "output_type": "stream",
     "text": [
      "INFO:pykeen.utilities.train_utils:Epoch 273 / 1000 (9.3s):  0.113 ---- 0.071 ---- 0.11 ---- 204\n",
      "INFO:pykeen.utilities.train_utils:Epoch 274 / 1000 (9.2s):  0.113 ---- 0.071 ---- 0.11 ---- 205\n",
      "DEBUG:pykeen.utilities.evaluation_utils.metrics_computations:Evaluation took 48.93s seconds\n",
      "DEBUG:pykeen.utilities.train_utils:\n",
      "current metric: 0.11270506963602182  ---- rank/hits@10: (0.08203529487897253, 0.18)\n",
      "INFO:pykeen.utilities.train_utils:Epoch 275 / 1000 (9.3s):  0.113 ---- 0.071 ---- 0.11 ---- 206\n",
      "INFO:pykeen.utilities.train_utils:Epoch 276 / 1000 (9.2s):  0.113 ---- 0.071 ---- 0.11 ---- 207\n",
      "INFO:pykeen.utilities.train_utils:Epoch 277 / 1000 (9.2s):  0.113 ---- 0.071 ---- 0.11 ---- 208\n",
      "INFO:pykeen.utilities.train_utils:Epoch 278 / 1000 (9.3s):  0.113 ---- 0.071 ---- 0.11 ---- 209\n",
      "INFO:pykeen.utilities.train_utils:Epoch 279 / 1000 (9.2s):  0.113 ---- 0.071 ---- 0.11 ---- 210\n",
      "DEBUG:pykeen.utilities.evaluation_utils.metrics_computations:Evaluation took 48.91s seconds\n",
      "DEBUG:pykeen.utilities.train_utils:\n",
      "current metric: 0.11207266159247986  ---- rank/hits@10: (0.0818882615808932, 0.1775)\n",
      "INFO:pykeen.utilities.train_utils:Epoch 280 / 1000 (9.2s):  0.113 ---- 0.072 ---- 0.11 ---- 211\n",
      "INFO:pykeen.utilities.train_utils:Epoch 281 / 1000 (9.1s):  0.114 ---- 0.071 ---- 0.11 ---- 212\n",
      "INFO:pykeen.utilities.train_utils:Epoch 282 / 1000 (9.2s):  0.113 ---- 0.071 ---- 0.11 ---- 213\n",
      "INFO:pykeen.utilities.train_utils:Epoch 283 / 1000 (9.1s):  0.113 ---- 0.072 ---- 0.11 ---- 214\n",
      "INFO:pykeen.utilities.train_utils:Epoch 284 / 1000 (9.1s):  0.113 ---- 0.072 ---- 0.11 ---- 215\n",
      "DEBUG:pykeen.utilities.evaluation_utils.metrics_computations:Evaluation took 48.91s seconds\n",
      "DEBUG:pykeen.utilities.train_utils:\n",
      "current metric: 0.11352400491488396  ---- rank/hits@10: (0.08290592711725328, 0.18)\n",
      "INFO:pykeen.utilities.train_utils:Epoch 285 / 1000 (9.2s):  0.113 ---- 0.071 ---- 0.11 ---- 216\n",
      "INFO:pykeen.utilities.train_utils:Epoch 286 / 1000 (9.2s):  0.113 ---- 0.071 ---- 0.11 ---- 217\n",
      "INFO:pykeen.utilities.train_utils:Epoch 287 / 1000 (9.1s):  0.113 ---- 0.072 ---- 0.11 ---- 218\n",
      "INFO:pykeen.utilities.train_utils:Epoch 288 / 1000 (9.2s):  0.113 ---- 0.072 ---- 0.11 ---- 219\n",
      "INFO:pykeen.utilities.train_utils:Epoch 289 / 1000 (9.2s):  0.113 ---- 0.072 ---- 0.11 ---- 220\n",
      "DEBUG:pykeen.utilities.evaluation_utils.metrics_computations:Evaluation took 48.95s seconds\n",
      "DEBUG:pykeen.utilities.train_utils:\n",
      "current metric: 0.11188242372634583  ---- rank/hits@10: (0.08168529201308285, 0.1775)\n",
      "INFO:pykeen.utilities.train_utils:Epoch 290 / 1000 (9.2s):  0.113 ---- 0.072 ---- 0.11 ---- 221\n",
      "INFO:pykeen.utilities.train_utils:Epoch 291 / 1000 (9.2s):  0.114 ---- 0.072 ---- 0.11 ---- 222\n",
      "INFO:pykeen.utilities.train_utils:Epoch 292 / 1000 (9.2s):  0.113 ---- 0.072 ---- 0.11 ---- 223\n",
      "INFO:pykeen.utilities.train_utils:Epoch 293 / 1000 (9.2s):  0.113 ---- 0.071 ---- 0.11 ---- 224\n",
      "INFO:pykeen.utilities.train_utils:Epoch 294 / 1000 (9.1s):  0.113 ---- 0.072 ---- 0.11 ---- 225\n",
      "DEBUG:pykeen.utilities.evaluation_utils.metrics_computations:Evaluation took 48.96s seconds\n",
      "DEBUG:pykeen.utilities.train_utils:\n",
      "current metric: 0.11216795974901753  ---- rank/hits@10: (0.08199005713938139, 0.1775)\n",
      "INFO:pykeen.utilities.train_utils:Epoch 295 / 1000 (9.1s):  0.113 ---- 0.071 ---- 0.11 ---- 226\n",
      "INFO:pykeen.utilities.train_utils:Epoch 296 / 1000 (9.1s):  0.113 ---- 0.071 ---- 0.11 ---- 227\n",
      "INFO:pykeen.utilities.train_utils:Epoch 297 / 1000 (9.2s):  0.113 ---- 0.071 ---- 0.11 ---- 228\n",
      "INFO:pykeen.utilities.train_utils:Epoch 298 / 1000 (9.3s):  0.113 ---- 0.071 ---- 0.11 ---- 229\n",
      "INFO:pykeen.utilities.train_utils:Epoch 299 / 1000 (9.2s):  0.113 ---- 0.071 ---- 0.11 ---- 230\n",
      "DEBUG:pykeen.utilities.evaluation_utils.metrics_computations:Evaluation took 48.97s seconds\n",
      "DEBUG:pykeen.utilities.train_utils:\n",
      "current metric: 0.11308876613212962  ---- rank/hits@10: (0.08192846147519896, 0.1825)\n",
      "INFO:pykeen.utilities.train_utils:Epoch 300 / 1000 (9.1s):  0.113 ---- 0.071 ---- 0.11 ---- 231\n",
      "INFO:pykeen.utilities.train_utils:Epoch 301 / 1000 (9.2s):  0.113 ---- 0.071 ---- 0.11 ---- 232\n",
      "INFO:pykeen.utilities.train_utils:Epoch 302 / 1000 (9.1s):  0.113 ---- 0.071 ---- 0.11 ---- 233\n",
      "INFO:pykeen.utilities.train_utils:Epoch 303 / 1000 (9.2s):  0.113 ---- 0.071 ---- 0.11 ---- 234\n",
      "INFO:pykeen.utilities.train_utils:Epoch 304 / 1000 (9.2s):  0.113 ---- 0.071 ---- 0.11 ---- 235\n",
      "DEBUG:pykeen.utilities.evaluation_utils.metrics_computations:Evaluation took 48.93s seconds\n",
      "DEBUG:pykeen.utilities.train_utils:\n",
      "current metric: 0.11312286424035439  ---- rank/hits@10: (0.08301449551898035, 0.1775)\n",
      "INFO:pykeen.utilities.train_utils:Epoch 305 / 1000 (9.1s):  0.113 ---- 0.071 ---- 0.11 ---- 236\n",
      "INFO:pykeen.utilities.train_utils:Epoch 306 / 1000 (9.2s):  0.113 ---- 0.071 ---- 0.11 ---- 237\n",
      "INFO:pykeen.utilities.train_utils:Epoch 307 / 1000 (9.2s):  0.113 ---- 0.071 ---- 0.11 ---- 238\n",
      "INFO:pykeen.utilities.train_utils:Epoch 308 / 1000 (9.2s):  0.113 ---- 0.071 ---- 0.11 ---- 239\n",
      "INFO:pykeen.utilities.train_utils:Epoch 309 / 1000 (9.2s):  0.114 ---- 0.072 ---- 0.11 ---- 240\n",
      "DEBUG:pykeen.utilities.evaluation_utils.metrics_computations:Evaluation took 48.96s seconds\n",
      "DEBUG:pykeen.utilities.train_utils:\n",
      "current metric: 0.11334122659113338  ---- rank/hits@10: (0.08324989585992838, 0.1775)\n",
      "INFO:pykeen.utilities.train_utils:Epoch 310 / 1000 (9.2s):  0.113 ---- 0.071 ---- 0.11 ---- 241\n",
      "INFO:pykeen.utilities.train_utils:Epoch 311 / 1000 (9.2s):  0.113 ---- 0.071 ---- 0.11 ---- 242\n",
      "INFO:pykeen.utilities.train_utils:Epoch 312 / 1000 (9.2s):  0.113 ---- 0.071 ---- 0.11 ---- 243\n",
      "INFO:pykeen.utilities.train_utils:Epoch 313 / 1000 (9.2s):  0.113 ---- 0.072 ---- 0.11 ---- 244\n",
      "INFO:pykeen.utilities.train_utils:Epoch 314 / 1000 (9.2s):  0.113 ---- 0.071 ---- 0.11 ---- 245\n",
      "DEBUG:pykeen.utilities.evaluation_utils.metrics_computations:Evaluation took 48.88s seconds\n",
      "DEBUG:pykeen.utilities.train_utils:\n",
      "current metric: 0.11289409254870436  ---- rank/hits@10: (0.08332338240067459, 0.175)\n",
      "INFO:pykeen.utilities.train_utils:Epoch 315 / 1000 (9.1s):  0.113 ---- 0.072 ---- 0.11 ---- 246\n",
      "INFO:pykeen.utilities.train_utils:Epoch 316 / 1000 (9.1s):  0.113 ---- 0.072 ---- 0.11 ---- 247\n",
      "INFO:pykeen.utilities.train_utils:Epoch 317 / 1000 (9.2s):  0.113 ---- 0.072 ---- 0.11 ---- 248\n",
      "INFO:pykeen.utilities.train_utils:Epoch 318 / 1000 (9.1s):  0.113 ---- 0.072 ---- 0.11 ---- 249\n",
      "INFO:pykeen.utilities.train_utils:Epoch 319 / 1000 (9.1s):  0.113 ---- 0.071 ---- 0.11 ---- 250\n",
      "DEBUG:pykeen.utilities.evaluation_utils.metrics_computations:Evaluation took 48.96s seconds\n",
      "DEBUG:pykeen.utilities.train_utils:\n",
      "current metric: 0.11278994322696378  ---- rank/hits@10: (0.08320996307337979, 0.175)\n",
      "INFO:pykeen.utilities.train_utils:Epoch 320 / 1000 (9.2s):  0.113 ---- 0.072 ---- 0.11 ---- 251\n",
      "INFO:pykeen.utilities.train_utils:Epoch 321 / 1000 (9.2s):  0.113 ---- 0.071 ---- 0.11 ---- 252\n",
      "INFO:pykeen.utilities.train_utils:Epoch 322 / 1000 (9.2s):  0.113 ---- 0.071 ---- 0.11 ---- 253\n",
      "INFO:pykeen.utilities.train_utils:Epoch 323 / 1000 (9.2s):  0.113 ---- 0.071 ---- 0.11 ---- 254\n",
      "INFO:pykeen.utilities.train_utils:Epoch 324 / 1000 (9.3s):  0.113 ---- 0.071 ---- 0.11 ---- 255\n",
      "DEBUG:pykeen.utilities.evaluation_utils.metrics_computations:Evaluation took 48.94s seconds\n",
      "DEBUG:pykeen.utilities.train_utils:\n",
      "current metric: 0.11349499178103671  ---- rank/hits@10: (0.08287498362889256, 0.18)\n",
      "INFO:pykeen.utilities.train_utils:Epoch 325 / 1000 (9.2s):  0.113 ---- 0.071 ---- 0.11 ---- 256\n",
      "INFO:pykeen.utilities.train_utils:Epoch 326 / 1000 (9.2s):  0.113 ---- 0.072 ---- 0.11 ---- 257\n",
      "INFO:pykeen.utilities.train_utils:Epoch 327 / 1000 (9.2s):  0.113 ---- 0.072 ---- 0.11 ---- 258\n",
      "INFO:pykeen.utilities.train_utils:Epoch 328 / 1000 (9.3s):  0.113 ---- 0.072 ---- 0.11 ---- 259\n",
      "INFO:pykeen.utilities.train_utils:Epoch 329 / 1000 (9.2s):  0.113 ---- 0.072 ---- 0.11 ---- 260\n",
      "DEBUG:pykeen.utilities.evaluation_utils.metrics_computations:Evaluation took 48.91s seconds\n",
      "DEBUG:pykeen.utilities.train_utils:\n",
      "current metric: 0.11201521874426922  ---- rank/hits@10: (0.08182694086582369, 0.1775)\n",
      "INFO:pykeen.utilities.train_utils:Epoch 330 / 1000 (9.2s):  0.113 ---- 0.072 ---- 0.11 ---- 261\n",
      "INFO:pykeen.utilities.train_utils:Epoch 331 / 1000 (9.2s):  0.113 ---- 0.071 ---- 0.11 ---- 262\n"
     ]
    },
    {
     "name": "stderr",
     "output_type": "stream",
     "text": [
      "INFO:pykeen.utilities.train_utils:Epoch 332 / 1000 (9.2s):  0.113 ---- 0.071 ---- 0.11 ---- 263\n",
      "INFO:pykeen.utilities.train_utils:Epoch 333 / 1000 (9.1s):  0.113 ---- 0.071 ---- 0.11 ---- 264\n",
      "INFO:pykeen.utilities.train_utils:Epoch 334 / 1000 (9.2s):  0.113 ---- 0.071 ---- 0.11 ---- 265\n",
      "DEBUG:pykeen.utilities.evaluation_utils.metrics_computations:Evaluation took 48.95s seconds\n",
      "DEBUG:pykeen.utilities.train_utils:\n",
      "current metric: 0.11194981407202252  ---- rank/hits@10: (0.08175715612771577, 0.1775)\n",
      "INFO:pykeen.utilities.train_utils:Epoch 335 / 1000 (9.1s):  0.113 ---- 0.071 ---- 0.11 ---- 266\n",
      "INFO:pykeen.utilities.train_utils:Epoch 336 / 1000 (9.2s):  0.113 ---- 0.071 ---- 0.11 ---- 267\n",
      "INFO:pykeen.utilities.train_utils:Epoch 337 / 1000 (9.2s):  0.113 ---- 0.071 ---- 0.11 ---- 268\n",
      "INFO:pykeen.utilities.train_utils:Epoch 338 / 1000 (9.1s):  0.113 ---- 0.071 ---- 0.11 ---- 269\n",
      "INFO:pykeen.utilities.train_utils:Epoch 339 / 1000 (9.1s):  0.113 ---- 0.071 ---- 0.11 ---- 270\n",
      "DEBUG:pykeen.utilities.evaluation_utils.metrics_computations:Evaluation took 48.98s seconds\n",
      "DEBUG:pykeen.utilities.train_utils:\n",
      "current metric: 0.11150754847197653  ---- rank/hits@10: (0.08182154553559515, 0.175)\n",
      "INFO:pykeen.utilities.train_utils:Epoch 340 / 1000 (9.2s):  0.113 ---- 0.071 ---- 0.11 ---- 271\n",
      "INFO:pykeen.utilities.train_utils:Epoch 341 / 1000 (9.2s):  0.113 ---- 0.071 ---- 0.11 ---- 272\n",
      "INFO:pykeen.utilities.train_utils:Epoch 342 / 1000 (9.1s):  0.113 ---- 0.071 ---- 0.11 ---- 273\n",
      "INFO:pykeen.utilities.train_utils:Epoch 343 / 1000 (9.2s):  0.113 ---- 0.071 ---- 0.11 ---- 274\n",
      "INFO:pykeen.utilities.train_utils:Epoch 344 / 1000 (9.2s):  0.113 ---- 0.071 ---- 0.11 ---- 275\n",
      "DEBUG:pykeen.utilities.evaluation_utils.metrics_computations:Evaluation took 48.91s seconds\n",
      "DEBUG:pykeen.utilities.train_utils:\n",
      "current metric: 0.11103388190819999  ---- rank/hits@10: (0.08131248684581516, 0.175)\n",
      "INFO:pykeen.utilities.train_utils:Epoch 345 / 1000 (9.2s):  0.113 ---- 0.071 ---- 0.11 ---- 276\n",
      "INFO:pykeen.utilities.train_utils:Epoch 346 / 1000 (9.2s):  0.113 ---- 0.071 ---- 0.11 ---- 277\n",
      "INFO:pykeen.utilities.train_utils:Epoch 347 / 1000 (9.2s):  0.113 ---- 0.071 ---- 0.11 ---- 278\n",
      "INFO:pykeen.utilities.train_utils:Epoch 348 / 1000 (9.3s):  0.114 ---- 0.071 ---- 0.11 ---- 279\n",
      "INFO:pykeen.utilities.train_utils:Epoch 349 / 1000 (9.1s):  0.113 ---- 0.071 ---- 0.11 ---- 280\n",
      "DEBUG:pykeen.utilities.evaluation_utils.metrics_computations:Evaluation took 48.97s seconds\n",
      "DEBUG:pykeen.utilities.train_utils:\n",
      "current metric: 0.11189001622995161  ---- rank/hits@10: (0.08169338656038881, 0.1775)\n",
      "INFO:pykeen.utilities.train_utils:Epoch 350 / 1000 (9.1s):  0.113 ---- 0.071 ---- 0.11 ---- 281\n",
      "INFO:pykeen.utilities.train_utils:Epoch 351 / 1000 (9.2s):  0.113 ---- 0.071 ---- 0.11 ---- 282\n",
      "INFO:pykeen.utilities.train_utils:Epoch 352 / 1000 (9.2s):  0.113 ---- 0.071 ---- 0.11 ---- 283\n",
      "INFO:pykeen.utilities.train_utils:Epoch 353 / 1000 (9.2s):  0.113 ---- 0.071 ---- 0.11 ---- 284\n",
      "INFO:pykeen.utilities.train_utils:Epoch 354 / 1000 (9.3s):  0.113 ---- 0.071 ---- 0.11 ---- 285\n",
      "DEBUG:pykeen.utilities.evaluation_utils.metrics_computations:Evaluation took 48.95s seconds\n",
      "DEBUG:pykeen.utilities.train_utils:\n",
      "current metric: 0.11264912018483166  ---- rank/hits@10: (0.08197602389132985, 0.18)\n",
      "INFO:pykeen.utilities.train_utils:Epoch 355 / 1000 (9.2s):  0.113 ---- 0.071 ---- 0.11 ---- 286\n",
      "INFO:pykeen.utilities.train_utils:Epoch 356 / 1000 (9.2s):  0.113 ---- 0.071 ---- 0.11 ---- 287\n",
      "INFO:pykeen.utilities.train_utils:Epoch 357 / 1000 (9.2s):  0.113 ---- 0.071 ---- 0.11 ---- 288\n",
      "INFO:pykeen.utilities.train_utils:Epoch 358 / 1000 (9.1s):  0.113 ---- 0.071 ---- 0.11 ---- 289\n",
      "INFO:pykeen.utilities.train_utils:Epoch 359 / 1000 (9.2s):  0.113 ---- 0.072 ---- 0.11 ---- 290\n",
      "DEBUG:pykeen.utilities.evaluation_utils.metrics_computations:Evaluation took 48.92s seconds\n",
      "DEBUG:pykeen.utilities.train_utils:\n",
      "current metric: 0.11212702187074225  ---- rank/hits@10: (0.08194631834038184, 0.1775)\n",
      "INFO:pykeen.utilities.train_utils:Epoch 360 / 1000 (9.1s):  0.113 ---- 0.071 ---- 0.11 ---- 291\n",
      "INFO:pykeen.utilities.train_utils:Epoch 361 / 1000 (9.2s):  0.113 ---- 0.071 ---- 0.11 ---- 292\n",
      "INFO:pykeen.utilities.train_utils:Epoch 362 / 1000 (9.2s):  0.113 ---- 0.071 ---- 0.11 ---- 293\n",
      "INFO:pykeen.utilities.train_utils:Epoch 363 / 1000 (9.1s):  0.113 ---- 0.071 ---- 0.11 ---- 294\n",
      "INFO:pykeen.utilities.train_utils:Epoch 364 / 1000 (9.1s):  0.113 ---- 0.071 ---- 0.11 ---- 295\n",
      "DEBUG:pykeen.utilities.evaluation_utils.metrics_computations:Evaluation took 48.93s seconds\n",
      "DEBUG:pykeen.utilities.train_utils:\n",
      "current metric: 0.11095382642463317  ---- rank/hits@10: (0.08177674843329992, 0.1725)\n",
      "INFO:pykeen.utilities.train_utils:Epoch 365 / 1000 (9.3s):  0.113 ---- 0.071 ---- 0.11 ---- 296\n",
      "INFO:pykeen.utilities.train_utils:Epoch 366 / 1000 (9.2s):  0.113 ---- 0.071 ---- 0.11 ---- 297\n",
      "INFO:pykeen.utilities.train_utils:Epoch 367 / 1000 (9.2s):  0.113 ---- 0.071 ---- 0.11 ---- 298\n",
      "INFO:pykeen.utilities.train_utils:Epoch 368 / 1000 (9.2s):  0.113 ---- 0.071 ---- 0.11 ---- 299\n",
      "INFO:pykeen.utilities.train_utils:Epoch 369 / 1000 (9.1s):  0.114 ---- 0.071 ---- 0.11 ---- 300\n",
      "DEBUG:pykeen.utilities.evaluation_utils.metrics_computations:Evaluation took 48.94s seconds\n",
      "DEBUG:pykeen.utilities.train_utils:\n",
      "current metric: 0.11196132821272137  ---- rank/hits@10: (0.08176943863136378, 0.1775)\n",
      "INFO:pykeen.utilities.train_utils:Epoch 370 / 1000 (9.2s):  0.113 ---- 0.071 ---- 0.11 ---- 301\n",
      "INFO:pykeen.utilities.train_utils:Epoch 371 / 1000 (9.3s):  0.113 ---- 0.071 ---- 0.11 ---- 302\n",
      "INFO:pykeen.utilities.train_utils:Epoch 372 / 1000 (9.2s):  0.113 ---- 0.071 ---- 0.11 ---- 303\n",
      "INFO:pykeen.utilities.train_utils:Epoch 373 / 1000 (9.2s):  0.113 ---- 0.071 ---- 0.11 ---- 304\n",
      "INFO:pykeen.utilities.train_utils:Epoch 374 / 1000 (9.2s):  0.113 ---- 0.071 ---- 0.11 ---- 305\n",
      "DEBUG:pykeen.utilities.evaluation_utils.metrics_computations:Evaluation took 48.89s seconds\n",
      "DEBUG:pykeen.utilities.train_utils:\n",
      "current metric: 0.1114134765554024  ---- rank/hits@10: (0.08172028375996235, 0.175)\n",
      "INFO:pykeen.utilities.train_utils:Epoch 375 / 1000 (9.1s):  0.113 ---- 0.071 ---- 0.11 ---- 306\n",
      "INFO:pykeen.utilities.train_utils:Epoch 376 / 1000 (9.1s):  0.113 ---- 0.071 ---- 0.11 ---- 307\n",
      "INFO:pykeen.utilities.train_utils:Epoch 377 / 1000 (9.2s):  0.113 ---- 0.071 ---- 0.11 ---- 308\n",
      "INFO:pykeen.utilities.train_utils:Epoch 378 / 1000 (9.1s):  0.113 ---- 0.070 ---- 0.11 ---- 309\n",
      "INFO:pykeen.utilities.train_utils:Epoch 379 / 1000 (9.2s):  0.113 ---- 0.071 ---- 0.11 ---- 310\n",
      "DEBUG:pykeen.utilities.evaluation_utils.metrics_computations:Evaluation took 48.97s seconds\n",
      "DEBUG:pykeen.utilities.train_utils:\n",
      "current metric: 0.11116218414876596  ---- rank/hits@10: (0.08145017637471216, 0.175)\n",
      "INFO:pykeen.utilities.train_utils:Epoch 380 / 1000 (9.3s):  0.113 ---- 0.071 ---- 0.11 ---- 311\n",
      "INFO:pykeen.utilities.train_utils:Epoch 381 / 1000 (9.2s):  0.113 ---- 0.071 ---- 0.11 ---- 312\n",
      "INFO:pykeen.utilities.train_utils:Epoch 382 / 1000 (9.1s):  0.113 ---- 0.071 ---- 0.11 ---- 313\n",
      "INFO:pykeen.utilities.train_utils:Epoch 383 / 1000 (9.2s):  0.113 ---- 0.071 ---- 0.11 ---- 314\n",
      "INFO:pykeen.utilities.train_utils:Epoch 384 / 1000 (9.2s):  0.113 ---- 0.071 ---- 0.11 ---- 315\n",
      "DEBUG:pykeen.utilities.evaluation_utils.metrics_computations:Evaluation took 48.93s seconds\n",
      "DEBUG:pykeen.utilities.train_utils:\n",
      "current metric: 0.11322511808609695  ---- rank/hits@10: (0.08312467490911231, 0.1775)\n",
      "INFO:pykeen.utilities.train_utils:Epoch 385 / 1000 (9.1s):  0.113 ---- 0.071 ---- 0.11 ---- 316\n",
      "INFO:pykeen.utilities.train_utils:Epoch 386 / 1000 (9.1s):  0.113 ---- 0.071 ---- 0.11 ---- 317\n",
      "INFO:pykeen.utilities.train_utils:Epoch 387 / 1000 (9.2s):  0.113 ---- 0.071 ---- 0.11 ---- 318\n",
      "INFO:pykeen.utilities.train_utils:Epoch 388 / 1000 (9.2s):  0.113 ---- 0.071 ---- 0.11 ---- 319\n",
      "INFO:pykeen.utilities.train_utils:Epoch 389 / 1000 (9.2s):  0.113 ---- 0.071 ---- 0.11 ---- 320\n",
      "DEBUG:pykeen.utilities.evaluation_utils.metrics_computations:Evaluation took 48.92s seconds\n",
      "DEBUG:pykeen.utilities.train_utils:\n",
      "current metric: 0.11343282427021777  ---- rank/hits@10: (0.08280870439549336, 0.18)\n",
      "INFO:pykeen.utilities.train_utils:Epoch 390 / 1000 (9.1s):  0.113 ---- 0.071 ---- 0.11 ---- 321\n"
     ]
    },
    {
     "name": "stderr",
     "output_type": "stream",
     "text": [
      "INFO:pykeen.utilities.train_utils:Epoch 391 / 1000 (9.2s):  0.113 ---- 0.071 ---- 0.11 ---- 322\n",
      "INFO:pykeen.utilities.train_utils:Epoch 392 / 1000 (9.1s):  0.113 ---- 0.071 ---- 0.11 ---- 323\n",
      "INFO:pykeen.utilities.train_utils:Epoch 393 / 1000 (9.1s):  0.113 ---- 0.071 ---- 0.11 ---- 324\n",
      "INFO:pykeen.utilities.train_utils:Epoch 394 / 1000 (9.2s):  0.113 ---- 0.071 ---- 0.11 ---- 325\n",
      "DEBUG:pykeen.utilities.evaluation_utils.metrics_computations:Evaluation took 48.92s seconds\n",
      "DEBUG:pykeen.utilities.train_utils:\n",
      "current metric: 0.11410148905696221  ---- rank/hits@10: (0.08299579648610682, 0.1825)\n",
      "INFO:pykeen.utilities.train_utils:Epoch 395 / 1000 (9.1s):  0.113 ---- 0.071 ---- 0.11 ---- 326\n",
      "INFO:pykeen.utilities.train_utils:Epoch 396 / 1000 (9.2s):  0.113 ---- 0.071 ---- 0.11 ---- 327\n",
      "INFO:pykeen.utilities.train_utils:Epoch 397 / 1000 (9.2s):  0.113 ---- 0.071 ---- 0.11 ---- 328\n",
      "INFO:pykeen.utilities.train_utils:Epoch 398 / 1000 (9.1s):  0.113 ---- 0.071 ---- 0.11 ---- 329\n",
      "INFO:pykeen.utilities.train_utils:Epoch 399 / 1000 (9.2s):  0.113 ---- 0.071 ---- 0.11 ---- 330\n",
      "DEBUG:pykeen.utilities.evaluation_utils.metrics_computations:Evaluation took 48.95s seconds\n",
      "DEBUG:pykeen.utilities.train_utils:\n",
      "current metric: 0.11417668081522718  ---- rank/hits@10: (0.08307538675632024, 0.1825)\n",
      "INFO:pykeen.utilities.train_utils:Epoch 400 / 1000 (9.1s):  0.113 ---- 0.071 ---- 0.11 ---- 331\n",
      "INFO:pykeen.utilities.train_utils:Epoch 401 / 1000 (9.2s):  0.113 ---- 0.071 ---- 0.11 ---- 332\n",
      "INFO:pykeen.utilities.train_utils:Epoch 402 / 1000 (9.3s):  0.113 ---- 0.071 ---- 0.11 ---- 333\n",
      "INFO:pykeen.utilities.train_utils:Epoch 403 / 1000 (9.2s):  0.113 ---- 0.070 ---- 0.11 ---- 334\n",
      "INFO:pykeen.utilities.train_utils:Epoch 404 / 1000 (9.2s):  0.113 ---- 0.070 ---- 0.11 ---- 335\n",
      "DEBUG:pykeen.utilities.evaluation_utils.metrics_computations:Evaluation took 48.95s seconds\n",
      "DEBUG:pykeen.utilities.train_utils:\n",
      "current metric: 0.1133488657045781  ---- rank/hits@10: (0.08271924588997422, 0.18)\n",
      "INFO:pykeen.utilities.train_utils:Epoch 405 / 1000 (9.1s):  0.113 ---- 0.071 ---- 0.11 ---- 336\n",
      "INFO:pykeen.utilities.train_utils:Epoch 406 / 1000 (9.1s):  0.113 ---- 0.071 ---- 0.11 ---- 337\n",
      "INFO:pykeen.utilities.train_utils:Epoch 407 / 1000 (9.1s):  0.113 ---- 0.071 ---- 0.11 ---- 338\n",
      "INFO:pykeen.utilities.train_utils:Epoch 408 / 1000 (9.2s):  0.113 ---- 0.071 ---- 0.11 ---- 339\n",
      "INFO:pykeen.utilities.train_utils:Epoch 409 / 1000 (9.2s):  0.113 ---- 0.071 ---- 0.11 ---- 340\n",
      "DEBUG:pykeen.utilities.evaluation_utils.metrics_computations:Evaluation took 48.94s seconds\n",
      "DEBUG:pykeen.utilities.train_utils:\n",
      "current metric: 0.11259371918216064  ---- rank/hits@10: (0.08191736032647867, 0.18)\n",
      "INFO:pykeen.utilities.train_utils:Epoch 410 / 1000 (9.1s):  0.113 ---- 0.071 ---- 0.11 ---- 341\n",
      "INFO:pykeen.utilities.train_utils:Epoch 411 / 1000 (9.2s):  0.113 ---- 0.071 ---- 0.11 ---- 342\n",
      "INFO:pykeen.utilities.train_utils:Epoch 412 / 1000 (9.1s):  0.113 ---- 0.071 ---- 0.11 ---- 343\n",
      "INFO:pykeen.utilities.train_utils:Epoch 413 / 1000 (9.2s):  0.113 ---- 0.071 ---- 0.11 ---- 344\n",
      "INFO:pykeen.utilities.train_utils:Epoch 414 / 1000 (9.2s):  0.113 ---- 0.071 ---- 0.11 ---- 345\n",
      "DEBUG:pykeen.utilities.evaluation_utils.metrics_computations:Evaluation took 48.94s seconds\n",
      "DEBUG:pykeen.utilities.train_utils:\n",
      "current metric: 0.1143067700420162  ---- rank/hits@10: (0.08321319860198961, 0.1825)\n",
      "INFO:pykeen.utilities.train_utils:Epoch 415 / 1000 (9.2s):  0.113 ---- 0.070 ---- 0.11 ---- 346\n",
      "INFO:pykeen.utilities.train_utils:Epoch 416 / 1000 (9.2s):  0.113 ---- 0.070 ---- 0.11 ---- 347\n",
      "INFO:pykeen.utilities.train_utils:Epoch 417 / 1000 (9.1s):  0.113 ---- 0.070 ---- 0.11 ---- 348\n",
      "INFO:pykeen.utilities.train_utils:Epoch 418 / 1000 (9.2s):  0.113 ---- 0.071 ---- 0.11 ---- 349\n",
      "INFO:pykeen.utilities.train_utils:Epoch 419 / 1000 (9.2s):  0.113 ---- 0.071 ---- 0.11 ---- 350\n",
      "DEBUG:pykeen.utilities.evaluation_utils.metrics_computations:Evaluation took 48.94s seconds\n",
      "DEBUG:pykeen.utilities.train_utils:\n",
      "current metric: 0.11203976963677369  ---- rank/hits@10: (0.08083190756646182, 0.1825)\n",
      "INFO:pykeen.utilities.train_utils:Epoch 420 / 1000 (9.2s):  0.113 ---- 0.071 ---- 0.11 ---- 351\n",
      "INFO:pykeen.utilities.train_utils:Epoch 421 / 1000 (9.2s):  0.112 ---- 0.071 ---- 0.11 ---- 352\n",
      "INFO:pykeen.utilities.train_utils:Epoch 422 / 1000 (9.1s):  0.113 ---- 0.071 ---- 0.11 ---- 353\n",
      "INFO:pykeen.utilities.train_utils:Epoch 423 / 1000 (9.2s):  0.113 ---- 0.071 ---- 0.11 ---- 354\n",
      "INFO:pykeen.utilities.train_utils:Epoch 424 / 1000 (9.2s):  0.113 ---- 0.071 ---- 0.11 ---- 355\n",
      "DEBUG:pykeen.utilities.evaluation_utils.metrics_computations:Evaluation took 48.92s seconds\n",
      "DEBUG:pykeen.utilities.train_utils:\n",
      "current metric: 0.11259324017060227  ---- rank/hits@10: (0.081409334460866, 0.1825)\n",
      "INFO:pykeen.utilities.train_utils:Epoch 425 / 1000 (9.2s):  0.113 ---- 0.071 ---- 0.11 ---- 356\n",
      "INFO:pykeen.utilities.train_utils:Epoch 426 / 1000 (9.2s):  0.112 ---- 0.071 ---- 0.11 ---- 357\n",
      "INFO:pykeen.utilities.train_utils:Epoch 427 / 1000 (9.2s):  0.113 ---- 0.071 ---- 0.11 ---- 358\n",
      "INFO:pykeen.utilities.train_utils:Epoch 428 / 1000 (9.2s):  0.113 ---- 0.071 ---- 0.11 ---- 359\n",
      "INFO:pykeen.utilities.train_utils:Epoch 429 / 1000 (9.2s):  0.113 ---- 0.071 ---- 0.11 ---- 360\n",
      "DEBUG:pykeen.utilities.evaluation_utils.metrics_computations:Evaluation took 48.93s seconds\n",
      "DEBUG:pykeen.utilities.train_utils:\n",
      "current metric: 0.11185365476465241  ---- rank/hits@10: (0.0811362256354903, 0.18)\n",
      "INFO:pykeen.utilities.train_utils:Epoch 430 / 1000 (9.2s):  0.113 ---- 0.071 ---- 0.11 ---- 361\n",
      "INFO:pykeen.utilities.train_utils:Epoch 431 / 1000 (9.1s):  0.112 ---- 0.070 ---- 0.11 ---- 362\n",
      "INFO:pykeen.utilities.train_utils:Epoch 432 / 1000 (9.1s):  0.113 ---- 0.071 ---- 0.11 ---- 363\n",
      "INFO:pykeen.utilities.train_utils:Epoch 433 / 1000 (9.1s):  0.113 ---- 0.071 ---- 0.11 ---- 364\n",
      "INFO:pykeen.utilities.train_utils:Epoch 434 / 1000 (9.1s):  0.112 ---- 0.070 ---- 0.11 ---- 365\n",
      "DEBUG:pykeen.utilities.evaluation_utils.metrics_computations:Evaluation took 48.89s seconds\n",
      "DEBUG:pykeen.utilities.train_utils:\n",
      "current metric: 0.11211166610347734  ---- rank/hits@10: (0.08140802586962323, 0.18)\n",
      "INFO:pykeen.utilities.train_utils:Epoch 435 / 1000 (9.2s):  0.113 ---- 0.070 ---- 0.11 ---- 366\n",
      "INFO:pykeen.utilities.train_utils:Epoch 436 / 1000 (9.2s):  0.113 ---- 0.070 ---- 0.11 ---- 367\n",
      "INFO:pykeen.utilities.train_utils:Epoch 437 / 1000 (9.2s):  0.113 ---- 0.071 ---- 0.11 ---- 368\n",
      "INFO:pykeen.utilities.train_utils:Epoch 438 / 1000 (9.1s):  0.113 ---- 0.070 ---- 0.11 ---- 369\n",
      "INFO:pykeen.utilities.train_utils:Epoch 439 / 1000 (9.2s):  0.113 ---- 0.070 ---- 0.11 ---- 370\n",
      "DEBUG:pykeen.utilities.evaluation_utils.metrics_computations:Evaluation took 48.93s seconds\n",
      "DEBUG:pykeen.utilities.train_utils:\n",
      "current metric: 0.11150380737076358  ---- rank/hits@10: (0.08076858286792142, 0.18)\n",
      "INFO:pykeen.utilities.train_utils:Epoch 440 / 1000 (9.1s):  0.113 ---- 0.070 ---- 0.11 ---- 371\n",
      "INFO:pykeen.utilities.train_utils:Epoch 441 / 1000 (9.2s):  0.113 ---- 0.070 ---- 0.11 ---- 372\n",
      "INFO:pykeen.utilities.train_utils:Epoch 442 / 1000 (9.2s):  0.113 ---- 0.070 ---- 0.11 ---- 373\n",
      "INFO:pykeen.utilities.train_utils:Epoch 443 / 1000 (9.1s):  0.112 ---- 0.070 ---- 0.11 ---- 374\n",
      "INFO:pykeen.utilities.train_utils:Epoch 444 / 1000 (9.2s):  0.113 ---- 0.070 ---- 0.11 ---- 375\n",
      "DEBUG:pykeen.utilities.evaluation_utils.metrics_computations:Evaluation took 48.97s seconds\n",
      "DEBUG:pykeen.utilities.train_utils:\n",
      "current metric: 0.11419984522520066  ---- rank/hits@10: (0.08309991583662807, 0.1825)\n",
      "INFO:pykeen.utilities.train_utils:Epoch 445 / 1000 (9.2s):  0.113 ---- 0.071 ---- 0.11 ---- 376\n",
      "DEBUG:pykeen.utilities.evaluation_utils.metrics_computations:Evaluation took 48.96s seconds\n",
      "DEBUG:pykeen.utilities.train_utils:\n",
      "current metric: 0.11372556784710777  ---- rank/hits@10: (0.08259859928553528, 0.1825)\n",
      "INFO:pykeen.utilities.train_utils:Epoch 446 / 1000 (9.2s):  0.113 ---- 0.070 ---- 0.11 ---- 377\n",
      "DEBUG:pykeen.utilities.evaluation_utils.metrics_computations:Evaluation took 48.91s seconds\n",
      "DEBUG:pykeen.utilities.train_utils:\n",
      "current metric: 0.11407802620505932  ---- rank/hits@10: (0.08297097088610221, 0.1825)\n",
      "INFO:pykeen.utilities.train_utils:Epoch 447 / 1000 (9.2s):  0.113 ---- 0.070 ---- 0.11 ---- 378\n"
     ]
    },
    {
     "name": "stderr",
     "output_type": "stream",
     "text": [
      "INFO:pykeen.utilities.train_utils:Epoch 448 / 1000 (9.2s):  0.113 ---- 0.070 ---- 0.11 ---- 379\n",
      "DEBUG:pykeen.utilities.evaluation_utils.metrics_computations:Evaluation took 48.94s seconds\n",
      "DEBUG:pykeen.utilities.train_utils:\n",
      "current metric: 0.11462636887308482  ---- rank/hits@10: (0.08303863694909765, 0.185)\n",
      "INFO:pykeen.utilities.train_utils:Epoch 449 / 1000 (9.1s):  0.113 ---- 0.070 ---- 0.11 ---- 380\n",
      "DEBUG:pykeen.utilities.evaluation_utils.metrics_computations:Evaluation took 48.91s seconds\n",
      "DEBUG:pykeen.utilities.train_utils:\n",
      "current metric: 0.11457716937861284  ---- rank/hits@10: (0.08298700740053783, 0.185)\n",
      "INFO:pykeen.utilities.train_utils:Epoch 450 / 1000 (9.2s):  0.113 ---- 0.070 ---- 0.11 ---- 381\n",
      "INFO:pykeen.utilities.train_utils:Epoch 451 / 1000 (9.1s):  0.113 ---- 0.070 ---- 0.11 ---- 382\n",
      "INFO:pykeen.utilities.train_utils:Epoch 452 / 1000 (9.1s):  0.113 ---- 0.071 ---- 0.11 ---- 383\n",
      "INFO:pykeen.utilities.train_utils:Epoch 453 / 1000 (9.2s):  0.113 ---- 0.071 ---- 0.11 ---- 384\n",
      "INFO:pykeen.utilities.train_utils:Epoch 454 / 1000 (9.1s):  0.113 ---- 0.070 ---- 0.11 ---- 385\n",
      "DEBUG:pykeen.utilities.evaluation_utils.metrics_computations:Evaluation took 48.94s seconds\n",
      "DEBUG:pykeen.utilities.train_utils:\n",
      "current metric: 0.11407026409796693  ---- rank/hits@10: (0.08296275896933385, 0.1825)\n",
      "INFO:pykeen.utilities.train_utils:Epoch 455 / 1000 (9.2s):  0.112 ---- 0.070 ---- 0.11 ---- 386\n",
      "INFO:pykeen.utilities.train_utils:Epoch 456 / 1000 (9.2s):  0.113 ---- 0.070 ---- 0.11 ---- 387\n",
      "INFO:pykeen.utilities.train_utils:Epoch 457 / 1000 (9.1s):  0.112 ---- 0.070 ---- 0.11 ---- 388\n",
      "INFO:pykeen.utilities.train_utils:Epoch 458 / 1000 (9.2s):  0.113 ---- 0.070 ---- 0.11 ---- 389\n",
      "INFO:pykeen.utilities.train_utils:Epoch 459 / 1000 (9.1s):  0.112 ---- 0.070 ---- 0.11 ---- 390\n",
      "DEBUG:pykeen.utilities.evaluation_utils.metrics_computations:Evaluation took 48.94s seconds\n",
      "DEBUG:pykeen.utilities.train_utils:\n",
      "current metric: 0.11379570324706582  ---- rank/hits@10: (0.08267261392831625, 0.1825)\n",
      "INFO:pykeen.utilities.train_utils:Epoch 460 / 1000 (9.1s):  0.113 ---- 0.070 ---- 0.11 ---- 391\n",
      "INFO:pykeen.utilities.train_utils:Epoch 461 / 1000 (9.1s):  0.113 ---- 0.070 ---- 0.11 ---- 392\n",
      "INFO:pykeen.utilities.train_utils:Epoch 462 / 1000 (9.2s):  0.113 ---- 0.070 ---- 0.11 ---- 393\n",
      "INFO:pykeen.utilities.train_utils:Epoch 463 / 1000 (9.2s):  0.112 ---- 0.070 ---- 0.11 ---- 394\n",
      "DEBUG:pykeen.utilities.evaluation_utils.metrics_computations:Evaluation took 48.96s seconds\n",
      "DEBUG:pykeen.utilities.train_utils:\n",
      "current metric: 0.11300226796432489  ---- rank/hits@10: (0.08235058705170868, 0.18)\n",
      "INFO:pykeen.utilities.train_utils:Epoch 464 / 1000 (9.2s):  0.113 ---- 0.070 ---- 0.11 ---- 395\n",
      "DEBUG:pykeen.utilities.evaluation_utils.metrics_computations:Evaluation took 48.91s seconds\n",
      "DEBUG:pykeen.utilities.train_utils:\n",
      "current metric: 0.11287679495848672  ---- rank/hits@10: (0.08274973520896595, 0.1775)\n",
      "INFO:pykeen.utilities.train_utils:Epoch 465 / 1000 (9.2s):  0.113 ---- 0.070 ---- 0.11 ---- 396\n",
      "INFO:pykeen.utilities.train_utils:Epoch 466 / 1000 (9.2s):  0.113 ---- 0.070 ---- 0.11 ---- 397\n",
      "INFO:pykeen.utilities.train_utils:Epoch 467 / 1000 (9.2s):  0.113 ---- 0.071 ---- 0.11 ---- 398\n",
      "INFO:pykeen.utilities.train_utils:Epoch 468 / 1000 (9.2s):  0.113 ---- 0.070 ---- 0.11 ---- 399\n",
      "INFO:pykeen.utilities.train_utils:Epoch 469 / 1000 (9.1s):  0.113 ---- 0.070 ---- 0.11 ---- 400\n",
      "DEBUG:pykeen.utilities.evaluation_utils.metrics_computations:Evaluation took 48.91s seconds\n",
      "DEBUG:pykeen.utilities.train_utils:\n",
      "current metric: 0.11288539842806224  ---- rank/hits@10: (0.08275898310506297, 0.1775)\n",
      "INFO:pykeen.utilities.train_utils:Epoch 470 / 1000 (9.3s):  0.113 ---- 0.070 ---- 0.11 ---- 401\n",
      "INFO:pykeen.utilities.train_utils:Epoch 471 / 1000 (9.2s):  0.113 ---- 0.070 ---- 0.11 ---- 402\n",
      "INFO:pykeen.utilities.train_utils:Epoch 472 / 1000 (9.2s):  0.112 ---- 0.070 ---- 0.11 ---- 403\n",
      "INFO:pykeen.utilities.train_utils:Epoch 473 / 1000 (9.2s):  0.112 ---- 0.070 ---- 0.11 ---- 404\n",
      "INFO:pykeen.utilities.train_utils:Epoch 474 / 1000 (9.2s):  0.113 ---- 0.070 ---- 0.11 ---- 405\n",
      "DEBUG:pykeen.utilities.evaluation_utils.metrics_computations:Evaluation took 48.93s seconds\n",
      "DEBUG:pykeen.utilities.train_utils:\n",
      "current metric: 0.11222115273716331  ---- rank/hits@10: (0.08204691156343433, 0.1775)\n",
      "INFO:pykeen.utilities.train_utils:Epoch 475 / 1000 (9.2s):  0.113 ---- 0.071 ---- 0.11 ---- 406\n",
      "INFO:pykeen.utilities.train_utils:Epoch 476 / 1000 (9.2s):  0.113 ---- 0.070 ---- 0.11 ---- 407\n",
      "INFO:pykeen.utilities.train_utils:Epoch 477 / 1000 (9.2s):  0.113 ---- 0.070 ---- 0.11 ---- 408\n",
      "INFO:pykeen.utilities.train_utils:Epoch 478 / 1000 (9.2s):  0.113 ---- 0.070 ---- 0.11 ---- 409\n",
      "INFO:pykeen.utilities.train_utils:Epoch 479 / 1000 (9.2s):  0.113 ---- 0.070 ---- 0.11 ---- 410\n",
      "DEBUG:pykeen.utilities.evaluation_utils.metrics_computations:Evaluation took 48.94s seconds\n",
      "DEBUG:pykeen.utilities.train_utils:\n",
      "current metric: 0.11300089811907416  ---- rank/hits@10: (0.08234913206785262, 0.18)\n",
      "INFO:pykeen.utilities.train_utils:Epoch 480 / 1000 (9.2s):  0.113 ---- 0.071 ---- 0.11 ---- 411\n",
      "INFO:pykeen.utilities.train_utils:Epoch 481 / 1000 (9.2s):  0.113 ---- 0.071 ---- 0.11 ---- 412\n",
      "INFO:pykeen.utilities.train_utils:Epoch 482 / 1000 (9.2s):  0.113 ---- 0.070 ---- 0.11 ---- 413\n",
      "INFO:pykeen.utilities.train_utils:Epoch 483 / 1000 (9.2s):  0.113 ---- 0.071 ---- 0.11 ---- 414\n",
      "INFO:pykeen.utilities.train_utils:Epoch 484 / 1000 (9.2s):  0.113 ---- 0.071 ---- 0.11 ---- 415\n",
      "DEBUG:pykeen.utilities.evaluation_utils.metrics_computations:Evaluation took 48.91s seconds\n",
      "DEBUG:pykeen.utilities.train_utils:\n",
      "current metric: 0.11180144872006552  ---- rank/hits@10: (0.08159899408680793, 0.1775)\n",
      "INFO:pykeen.utilities.train_utils:Epoch 485 / 1000 (9.2s):  0.113 ---- 0.071 ---- 0.11 ---- 416\n",
      "INFO:pykeen.utilities.train_utils:Epoch 486 / 1000 (9.2s):  0.113 ---- 0.070 ---- 0.11 ---- 417\n",
      "INFO:pykeen.utilities.train_utils:Epoch 487 / 1000 (9.2s):  0.113 ---- 0.070 ---- 0.11 ---- 418\n",
      "INFO:pykeen.utilities.train_utils:Epoch 488 / 1000 (9.1s):  0.113 ---- 0.070 ---- 0.11 ---- 419\n",
      "INFO:pykeen.utilities.train_utils:Epoch 489 / 1000 (9.2s):  0.113 ---- 0.070 ---- 0.11 ---- 420\n",
      "DEBUG:pykeen.utilities.evaluation_utils.metrics_computations:Evaluation took 48.96s seconds\n",
      "DEBUG:pykeen.utilities.train_utils:\n",
      "current metric: 0.11290659034365597  ---- rank/hits@10: (0.08278176516431149, 0.1775)\n",
      "INFO:pykeen.utilities.train_utils:Epoch 490 / 1000 (9.1s):  0.113 ---- 0.070 ---- 0.11 ---- 421\n",
      "INFO:pykeen.utilities.train_utils:Epoch 491 / 1000 (9.2s):  0.113 ---- 0.071 ---- 0.11 ---- 422\n",
      "INFO:pykeen.utilities.train_utils:Epoch 492 / 1000 (9.2s):  0.113 ---- 0.070 ---- 0.11 ---- 423\n",
      "INFO:pykeen.utilities.train_utils:Epoch 493 / 1000 (9.2s):  0.112 ---- 0.070 ---- 0.11 ---- 424\n",
      "INFO:pykeen.utilities.train_utils:Epoch 494 / 1000 (9.2s):  0.112 ---- 0.070 ---- 0.11 ---- 425\n",
      "DEBUG:pykeen.utilities.evaluation_utils.metrics_computations:Evaluation took 48.89s seconds\n",
      "DEBUG:pykeen.utilities.train_utils:\n",
      "current metric: 0.11355109419703516  ---- rank/hits@10: (0.08404116490621537, 0.175)\n",
      "INFO:pykeen.utilities.train_utils:Epoch 495 / 1000 (9.2s):  0.113 ---- 0.070 ---- 0.11 ---- 426\n",
      "INFO:pykeen.utilities.train_utils:Epoch 496 / 1000 (9.1s):  0.112 ---- 0.070 ---- 0.11 ---- 427\n",
      "DEBUG:pykeen.utilities.evaluation_utils.metrics_computations:Evaluation took 48.92s seconds\n",
      "DEBUG:pykeen.utilities.train_utils:\n",
      "current metric: 0.11360129554765853  ---- rank/hits@10: (0.08409617458308932, 0.175)\n",
      "INFO:pykeen.utilities.train_utils:Epoch 497 / 1000 (9.1s):  0.112 ---- 0.070 ---- 0.11 ---- 428\n",
      "INFO:pykeen.utilities.train_utils:Epoch 498 / 1000 (9.2s):  0.112 ---- 0.070 ---- 0.11 ---- 429\n",
      "INFO:pykeen.utilities.train_utils:Epoch 499 / 1000 (9.1s):  0.113 ---- 0.070 ---- 0.11 ---- 430\n",
      "DEBUG:pykeen.utilities.evaluation_utils.metrics_computations:Evaluation took 48.95s seconds\n",
      "DEBUG:pykeen.utilities.train_utils:\n",
      "current metric: 0.11342090699030183  ---- rank/hits@10: (0.08448563383486311, 0.1725)\n",
      "INFO:pykeen.utilities.train_utils:Epoch 500 / 1000 (9.2s):  0.113 ---- 0.070 ---- 0.11 ---- 431\n",
      "INFO:pykeen.utilities.train_utils:Epoch 501 / 1000 (9.2s):  0.113 ---- 0.070 ---- 0.11 ---- 432\n",
      "INFO:pykeen.utilities.train_utils:Epoch 502 / 1000 (9.2s):  0.113 ---- 0.070 ---- 0.11 ---- 433\n"
     ]
    },
    {
     "name": "stderr",
     "output_type": "stream",
     "text": [
      "INFO:pykeen.utilities.train_utils:Epoch 503 / 1000 (9.2s):  0.112 ---- 0.070 ---- 0.11 ---- 434\n",
      "INFO:pykeen.utilities.train_utils:Epoch 504 / 1000 (9.2s):  0.113 ---- 0.070 ---- 0.11 ---- 435\n",
      "DEBUG:pykeen.utilities.evaluation_utils.metrics_computations:Evaluation took 48.93s seconds\n",
      "DEBUG:pykeen.utilities.train_utils:\n",
      "current metric: 0.11296105085201905  ---- rank/hits@10: (0.08284033043778663, 0.1775)\n",
      "INFO:pykeen.utilities.train_utils:Epoch 505 / 1000 (9.2s):  0.113 ---- 0.070 ---- 0.11 ---- 436\n",
      "INFO:pykeen.utilities.train_utils:Epoch 506 / 1000 (9.1s):  0.113 ---- 0.070 ---- 0.11 ---- 437\n",
      "INFO:pykeen.utilities.train_utils:Epoch 507 / 1000 (9.2s):  0.113 ---- 0.070 ---- 0.11 ---- 438\n",
      "INFO:pykeen.utilities.train_utils:Epoch 508 / 1000 (9.2s):  0.113 ---- 0.070 ---- 0.11 ---- 439\n",
      "INFO:pykeen.utilities.train_utils:Epoch 509 / 1000 (9.2s):  0.113 ---- 0.070 ---- 0.11 ---- 440\n",
      "DEBUG:pykeen.utilities.evaluation_utils.metrics_computations:Evaluation took 48.90s seconds\n",
      "DEBUG:pykeen.utilities.train_utils:\n",
      "current metric: 0.11337656756024102  ---- rank/hits@10: (0.08328803435469834, 0.1775)\n",
      "INFO:pykeen.utilities.train_utils:Epoch 510 / 1000 (9.1s):  0.113 ---- 0.070 ---- 0.11 ---- 441\n",
      "INFO:pykeen.utilities.train_utils:Epoch 511 / 1000 (9.1s):  0.113 ---- 0.070 ---- 0.11 ---- 442\n",
      "INFO:pykeen.utilities.train_utils:Epoch 512 / 1000 (9.2s):  0.112 ---- 0.070 ---- 0.11 ---- 443\n",
      "INFO:pykeen.utilities.train_utils:Epoch 513 / 1000 (9.2s):  0.113 ---- 0.070 ---- 0.11 ---- 444\n",
      "INFO:pykeen.utilities.train_utils:Epoch 514 / 1000 (9.1s):  0.112 ---- 0.070 ---- 0.11 ---- 445\n",
      "DEBUG:pykeen.utilities.evaluation_utils.metrics_computations:Evaluation took 48.95s seconds\n",
      "DEBUG:pykeen.utilities.train_utils:\n",
      "current metric: 0.11389245884356472  ---- rank/hits@10: (0.08329953034153742, 0.18)\n",
      "INFO:pykeen.utilities.train_utils:Epoch 515 / 1000 (9.2s):  0.113 ---- 0.070 ---- 0.11 ---- 446\n",
      "INFO:pykeen.utilities.train_utils:Epoch 516 / 1000 (9.1s):  0.113 ---- 0.071 ---- 0.11 ---- 447\n",
      "INFO:pykeen.utilities.train_utils:Epoch 517 / 1000 (9.1s):  0.112 ---- 0.070 ---- 0.11 ---- 448\n",
      "INFO:pykeen.utilities.train_utils:Epoch 518 / 1000 (9.2s):  0.112 ---- 0.071 ---- 0.11 ---- 449\n",
      "INFO:pykeen.utilities.train_utils:Epoch 519 / 1000 (9.1s):  0.113 ---- 0.070 ---- 0.11 ---- 450\n",
      "DEBUG:pykeen.utilities.evaluation_utils.metrics_computations:Evaluation took 48.95s seconds\n",
      "DEBUG:pykeen.utilities.train_utils:\n",
      "current metric: 0.11426760897344984  ---- rank/hits@10: (0.08317169773029595, 0.1825)\n",
      "INFO:pykeen.utilities.train_utils:Epoch 520 / 1000 (9.1s):  0.113 ---- 0.070 ---- 0.11 ---- 451\n",
      "INFO:pykeen.utilities.train_utils:Epoch 521 / 1000 (9.2s):  0.112 ---- 0.070 ---- 0.11 ---- 452\n",
      "INFO:pykeen.utilities.train_utils:Epoch 522 / 1000 (9.2s):  0.113 ---- 0.070 ---- 0.11 ---- 453\n",
      "INFO:pykeen.utilities.train_utils:Epoch 523 / 1000 (9.2s):  0.113 ---- 0.070 ---- 0.11 ---- 454\n",
      "INFO:pykeen.utilities.train_utils:Epoch 524 / 1000 (9.1s):  0.113 ---- 0.070 ---- 0.11 ---- 455\n",
      "DEBUG:pykeen.utilities.evaluation_utils.metrics_computations:Evaluation took 48.91s seconds\n",
      "DEBUG:pykeen.utilities.train_utils:\n",
      "current metric: 0.11337520255490918  ---- rank/hits@10: (0.08274730145263369, 0.18)\n",
      "INFO:pykeen.utilities.train_utils:Epoch 525 / 1000 (9.2s):  0.113 ---- 0.070 ---- 0.11 ---- 456\n",
      "INFO:pykeen.utilities.train_utils:Epoch 526 / 1000 (9.2s):  0.113 ---- 0.070 ---- 0.11 ---- 457\n",
      "INFO:pykeen.utilities.train_utils:Epoch 527 / 1000 (9.2s):  0.112 ---- 0.070 ---- 0.11 ---- 458\n",
      "INFO:pykeen.utilities.train_utils:Epoch 528 / 1000 (9.2s):  0.113 ---- 0.070 ---- 0.11 ---- 459\n",
      "INFO:pykeen.utilities.train_utils:Epoch 529 / 1000 (9.2s):  0.112 ---- 0.070 ---- 0.11 ---- 460\n",
      "DEBUG:pykeen.utilities.evaluation_utils.metrics_computations:Evaluation took 48.93s seconds\n",
      "DEBUG:pykeen.utilities.train_utils:\n",
      "current metric: 0.11348061136946154  ---- rank/hits@10: (0.08340037887762565, 0.1775)\n",
      "INFO:pykeen.utilities.train_utils:Epoch 530 / 1000 (9.2s):  0.113 ---- 0.070 ---- 0.11 ---- 461\n",
      "INFO:pykeen.utilities.train_utils:Epoch 531 / 1000 (9.2s):  0.113 ---- 0.070 ---- 0.11 ---- 462\n",
      "INFO:pykeen.utilities.train_utils:Epoch 532 / 1000 (9.2s):  0.112 ---- 0.070 ---- 0.11 ---- 463\n",
      "DEBUG:pykeen.utilities.evaluation_utils.metrics_computations:Evaluation took 48.95s seconds\n",
      "DEBUG:pykeen.utilities.train_utils:\n",
      "current metric: 0.1124623569276802  ---- rank/hits@10: (0.08285386773982623, 0.175)\n",
      "INFO:pykeen.utilities.train_utils:Epoch 533 / 1000 (9.1s):  0.113 ---- 0.070 ---- 0.11 ---- 464\n",
      "INFO:pykeen.utilities.train_utils:Epoch 534 / 1000 (9.2s):  0.113 ---- 0.070 ---- 0.11 ---- 465\n",
      "DEBUG:pykeen.utilities.evaluation_utils.metrics_computations:Evaluation took 48.94s seconds\n",
      "DEBUG:pykeen.utilities.train_utils:\n",
      "current metric: 0.11224740507832649  ---- rank/hits@10: (0.08262074235269033, 0.175)\n",
      "INFO:pykeen.utilities.train_utils:Epoch 535 / 1000 (9.2s):  0.112 ---- 0.070 ---- 0.11 ---- 466\n",
      "INFO:pykeen.utilities.train_utils:Epoch 536 / 1000 (9.3s):  0.112 ---- 0.070 ---- 0.11 ---- 467\n",
      "INFO:pykeen.utilities.train_utils:Epoch 537 / 1000 (9.3s):  0.113 ---- 0.070 ---- 0.11 ---- 468\n",
      "INFO:pykeen.utilities.train_utils:Epoch 538 / 1000 (9.2s):  0.113 ---- 0.070 ---- 0.11 ---- 469\n",
      "DEBUG:pykeen.utilities.evaluation_utils.metrics_computations:Evaluation took 48.96s seconds\n",
      "DEBUG:pykeen.utilities.train_utils:\n",
      "current metric: 0.11299551044672312  ---- rank/hits@10: (0.08343392298368865, 0.175)\n",
      "INFO:pykeen.utilities.train_utils:Epoch 539 / 1000 (9.2s):  0.113 ---- 0.070 ---- 0.11 ---- 470\n",
      "DEBUG:pykeen.utilities.evaluation_utils.metrics_computations:Evaluation took 48.94s seconds\n",
      "DEBUG:pykeen.utilities.train_utils:\n",
      "current metric: 0.1128953167218997  ---- rank/hits@10: (0.08332471612616703, 0.175)\n",
      "INFO:pykeen.utilities.train_utils:Epoch 540 / 1000 (9.1s):  0.113 ---- 0.070 ---- 0.11 ---- 471\n",
      "DEBUG:pykeen.utilities.evaluation_utils.metrics_computations:Evaluation took 48.95s seconds\n",
      "DEBUG:pykeen.utilities.train_utils:\n",
      "current metric: 0.11297376462102711  ---- rank/hits@10: (0.08341021312290403, 0.175)\n",
      "INFO:pykeen.utilities.train_utils:Epoch 541 / 1000 (9.2s):  0.113 ---- 0.070 ---- 0.11 ---- 472\n",
      "INFO:pykeen.utilities.train_utils:Epoch 542 / 1000 (9.2s):  0.112 ---- 0.070 ---- 0.11 ---- 473\n",
      "INFO:pykeen.utilities.train_utils:Epoch 543 / 1000 (9.2s):  0.113 ---- 0.070 ---- 0.11 ---- 474\n",
      "INFO:pykeen.utilities.train_utils:Epoch 544 / 1000 (9.2s):  0.113 ---- 0.070 ---- 0.11 ---- 475\n",
      "DEBUG:pykeen.utilities.evaluation_utils.metrics_computations:Evaluation took 48.92s seconds\n",
      "DEBUG:pykeen.utilities.train_utils:\n",
      "current metric: 0.11301121978106557  ---- rank/hits@10: (0.08289430399620479, 0.1775)\n",
      "INFO:pykeen.utilities.train_utils:Epoch 545 / 1000 (9.1s):  0.112 ---- 0.070 ---- 0.11 ---- 476\n",
      "INFO:pykeen.utilities.train_utils:Epoch 546 / 1000 (9.3s):  0.113 ---- 0.070 ---- 0.11 ---- 477\n",
      "INFO:pykeen.utilities.train_utils:Epoch 547 / 1000 (9.1s):  0.113 ---- 0.070 ---- 0.11 ---- 478\n",
      "INFO:pykeen.utilities.train_utils:Epoch 548 / 1000 (9.2s):  0.113 ---- 0.070 ---- 0.11 ---- 479\n",
      "INFO:pykeen.utilities.train_utils:Epoch 549 / 1000 (9.1s):  0.112 ---- 0.070 ---- 0.11 ---- 480\n",
      "DEBUG:pykeen.utilities.evaluation_utils.metrics_computations:Evaluation took 48.93s seconds\n",
      "DEBUG:pykeen.utilities.train_utils:\n",
      "current metric: 0.11336689551676574  ---- rank/hits@10: (0.0832775955813709, 0.1775)\n",
      "INFO:pykeen.utilities.train_utils:Epoch 550 / 1000 (9.2s):  0.113 ---- 0.070 ---- 0.11 ---- 481\n",
      "INFO:pykeen.utilities.train_utils:Epoch 551 / 1000 (9.2s):  0.113 ---- 0.070 ---- 0.11 ---- 482\n",
      "INFO:pykeen.utilities.train_utils:Epoch 552 / 1000 (9.2s):  0.113 ---- 0.070 ---- 0.11 ---- 483\n",
      "INFO:pykeen.utilities.train_utils:Epoch 553 / 1000 (9.2s):  0.113 ---- 0.070 ---- 0.11 ---- 484\n",
      "INFO:pykeen.utilities.train_utils:Epoch 554 / 1000 (9.2s):  0.112 ---- 0.070 ---- 0.11 ---- 485\n",
      "DEBUG:pykeen.utilities.evaluation_utils.metrics_computations:Evaluation took 48.91s seconds\n",
      "DEBUG:pykeen.utilities.train_utils:\n",
      "current metric: 0.1140587297753719  ---- rank/hits@10: (0.08402638749373997, 0.1775)\n",
      "INFO:pykeen.utilities.train_utils:Epoch 555 / 1000 (9.2s):  0.112 ---- 0.070 ---- 0.11 ---- 486\n",
      "INFO:pykeen.utilities.train_utils:Epoch 556 / 1000 (9.2s):  0.113 ---- 0.070 ---- 0.11 ---- 487\n",
      "INFO:pykeen.utilities.train_utils:Epoch 557 / 1000 (9.2s):  0.113 ---- 0.070 ---- 0.11 ---- 488\n"
     ]
    },
    {
     "name": "stderr",
     "output_type": "stream",
     "text": [
      "INFO:pykeen.utilities.train_utils:Epoch 558 / 1000 (9.2s):  0.113 ---- 0.070 ---- 0.11 ---- 489\n",
      "INFO:pykeen.utilities.train_utils:Epoch 559 / 1000 (9.2s):  0.113 ---- 0.070 ---- 0.11 ---- 490\n",
      "DEBUG:pykeen.utilities.evaluation_utils.metrics_computations:Evaluation took 48.96s seconds\n",
      "DEBUG:pykeen.utilities.train_utils:\n",
      "current metric: 0.1138962948872874  ---- rank/hits@10: (0.0838501935631497, 0.1775)\n",
      "INFO:pykeen.utilities.train_utils:Epoch 560 / 1000 (9.1s):  0.113 ---- 0.070 ---- 0.11 ---- 491\n",
      "INFO:pykeen.utilities.train_utils:Epoch 561 / 1000 (9.2s):  0.113 ---- 0.070 ---- 0.11 ---- 492\n",
      "INFO:pykeen.utilities.train_utils:Epoch 562 / 1000 (9.2s):  0.113 ---- 0.070 ---- 0.11 ---- 493\n",
      "INFO:pykeen.utilities.train_utils:Epoch 563 / 1000 (9.1s):  0.113 ---- 0.070 ---- 0.11 ---- 494\n",
      "DEBUG:pykeen.utilities.evaluation_utils.metrics_computations:Evaluation took 48.92s seconds\n",
      "DEBUG:pykeen.utilities.train_utils:\n",
      "current metric: 0.11504292039255783  ---- rank/hits@10: (0.08399575240923358, 0.1825)\n",
      "INFO:pykeen.utilities.train_utils:Epoch 564 / 1000 (9.1s):  0.112 ---- 0.070 ---- 0.12 ---- 495\n",
      "DEBUG:pykeen.utilities.evaluation_utils.metrics_computations:Evaluation took 48.94s seconds\n",
      "DEBUG:pykeen.utilities.train_utils:\n",
      "current metric: 0.11522626192013435  ---- rank/hits@10: (0.08419136840439374, 0.1825)\n",
      "INFO:pykeen.utilities.train_utils:Epoch 565 / 1000 (9.2s):  0.112 ---- 0.070 ---- 0.12 ---- 496\n",
      "INFO:pykeen.utilities.train_utils:Epoch 566 / 1000 (9.2s):  0.113 ---- 0.070 ---- 0.12 ---- 497\n",
      "INFO:pykeen.utilities.train_utils:Epoch 567 / 1000 (9.2s):  0.112 ---- 0.070 ---- 0.12 ---- 498\n",
      "DEBUG:pykeen.utilities.evaluation_utils.metrics_computations:Evaluation took 48.95s seconds\n",
      "DEBUG:pykeen.utilities.train_utils:\n",
      "current metric: 0.11546899294433317  ---- rank/hits@10: (0.08445079215201379, 0.1825)\n",
      "INFO:pykeen.utilities.train_utils:Epoch 568 / 1000 (9.2s):  0.113 ---- 0.069 ---- 0.12 ---- 499\n",
      "INFO:pykeen.utilities.train_utils:Epoch 569 / 1000 (9.2s):  0.113 ---- 0.070 ---- 0.12 ---- 500\n",
      "DEBUG:pykeen.utilities.evaluation_utils.metrics_computations:Evaluation took 48.92s seconds\n",
      "DEBUG:pykeen.utilities.train_utils:\n",
      "current metric: 0.11416749757072883  ---- rank/hits@10: (0.08306566375915794, 0.1825)\n",
      "INFO:pykeen.utilities.train_utils:Epoch 570 / 1000 (9.2s):  0.112 ---- 0.070 ---- 0.11 ---- 501\n",
      "INFO:pykeen.utilities.train_utils:Epoch 571 / 1000 (9.2s):  0.112 ---- 0.070 ---- 0.11 ---- 502\n",
      "INFO:pykeen.utilities.train_utils:Epoch 572 / 1000 (9.1s):  0.112 ---- 0.070 ---- 0.11 ---- 503\n",
      "INFO:pykeen.utilities.train_utils:Epoch 573 / 1000 (9.2s):  0.113 ---- 0.070 ---- 0.11 ---- 504\n",
      "INFO:pykeen.utilities.train_utils:Epoch 574 / 1000 (9.1s):  0.113 ---- 0.070 ---- 0.11 ---- 505\n",
      "DEBUG:pykeen.utilities.evaluation_utils.metrics_computations:Evaluation took 48.94s seconds\n",
      "DEBUG:pykeen.utilities.train_utils:\n",
      "current metric: 0.11312767335949904  ---- rank/hits@10: (0.0824838550428647, 0.18)\n",
      "INFO:pykeen.utilities.train_utils:Epoch 575 / 1000 (9.2s):  0.112 ---- 0.070 ---- 0.11 ---- 506\n",
      "INFO:pykeen.utilities.train_utils:Epoch 576 / 1000 (9.1s):  0.112 ---- 0.070 ---- 0.11 ---- 507\n",
      "INFO:pykeen.utilities.train_utils:Epoch 577 / 1000 (9.1s):  0.112 ---- 0.070 ---- 0.11 ---- 508\n",
      "INFO:pykeen.utilities.train_utils:Epoch 578 / 1000 (9.1s):  0.113 ---- 0.070 ---- 0.11 ---- 509\n",
      "INFO:pykeen.utilities.train_utils:Epoch 579 / 1000 (9.2s):  0.113 ---- 0.070 ---- 0.11 ---- 510\n",
      "DEBUG:pykeen.utilities.evaluation_utils.metrics_computations:Evaluation took 48.94s seconds\n",
      "DEBUG:pykeen.utilities.train_utils:\n",
      "current metric: 0.11390536943208422  ---- rank/hits@10: (0.08386003050573758, 0.1775)\n",
      "INFO:pykeen.utilities.train_utils:Epoch 580 / 1000 (9.2s):  0.113 ---- 0.070 ---- 0.11 ---- 511\n",
      "INFO:pykeen.utilities.train_utils:Epoch 581 / 1000 (9.1s):  0.112 ---- 0.070 ---- 0.11 ---- 512\n",
      "INFO:pykeen.utilities.train_utils:Epoch 582 / 1000 (9.1s):  0.112 ---- 0.070 ---- 0.11 ---- 513\n",
      "INFO:pykeen.utilities.train_utils:Epoch 583 / 1000 (9.3s):  0.112 ---- 0.070 ---- 0.11 ---- 514\n",
      "INFO:pykeen.utilities.train_utils:Epoch 584 / 1000 (9.1s):  0.112 ---- 0.070 ---- 0.11 ---- 515\n",
      "DEBUG:pykeen.utilities.evaluation_utils.metrics_computations:Evaluation took 48.91s seconds\n",
      "DEBUG:pykeen.utilities.train_utils:\n",
      "current metric: 0.11529079689174769  ---- rank/hits@10: (0.08480409881165908, 0.18)\n",
      "INFO:pykeen.utilities.train_utils:Epoch 585 / 1000 (9.2s):  0.112 ---- 0.070 ---- 0.12 ---- 516\n",
      "INFO:pykeen.utilities.train_utils:Epoch 586 / 1000 (9.1s):  0.112 ---- 0.070 ---- 0.12 ---- 517\n",
      "INFO:pykeen.utilities.train_utils:Epoch 587 / 1000 (9.2s):  0.112 ---- 0.070 ---- 0.12 ---- 518\n",
      "INFO:pykeen.utilities.train_utils:Epoch 588 / 1000 (9.2s):  0.113 ---- 0.070 ---- 0.12 ---- 519\n",
      "INFO:pykeen.utilities.train_utils:Epoch 589 / 1000 (9.2s):  0.112 ---- 0.070 ---- 0.12 ---- 520\n",
      "DEBUG:pykeen.utilities.evaluation_utils.metrics_computations:Evaluation took 48.93s seconds\n",
      "DEBUG:pykeen.utilities.train_utils:\n",
      "current metric: 0.11478771929209085  ---- rank/hits@10: (0.08482006046610618, 0.1775)\n",
      "INFO:pykeen.utilities.train_utils:Epoch 590 / 1000 (9.2s):  0.113 ---- 0.070 ---- 0.11 ---- 521\n",
      "INFO:pykeen.utilities.train_utils:Epoch 591 / 1000 (9.2s):  0.113 ---- 0.070 ---- 0.11 ---- 522\n",
      "INFO:pykeen.utilities.train_utils:Epoch 592 / 1000 (9.2s):  0.113 ---- 0.070 ---- 0.11 ---- 523\n",
      "INFO:pykeen.utilities.train_utils:Epoch 593 / 1000 (9.2s):  0.113 ---- 0.070 ---- 0.11 ---- 524\n",
      "INFO:pykeen.utilities.train_utils:Epoch 594 / 1000 (9.2s):  0.113 ---- 0.070 ---- 0.11 ---- 525\n",
      "DEBUG:pykeen.utilities.evaluation_utils.metrics_computations:Evaluation took 48.97s seconds\n",
      "DEBUG:pykeen.utilities.train_utils:\n",
      "current metric: 0.11548778885548931  ---- rank/hits@10: (0.08501743899286136, 0.18)\n",
      "INFO:pykeen.utilities.train_utils:Epoch 595 / 1000 (9.1s):  0.113 ---- 0.070 ---- 0.12 ---- 526\n",
      "INFO:pykeen.utilities.train_utils:Epoch 596 / 1000 (9.1s):  0.113 ---- 0.070 ---- 0.12 ---- 527\n",
      "INFO:pykeen.utilities.train_utils:Epoch 597 / 1000 (9.2s):  0.113 ---- 0.070 ---- 0.12 ---- 528\n",
      "INFO:pykeen.utilities.train_utils:Epoch 598 / 1000 (9.1s):  0.112 ---- 0.070 ---- 0.12 ---- 529\n",
      "INFO:pykeen.utilities.train_utils:Epoch 599 / 1000 (9.2s):  0.112 ---- 0.070 ---- 0.12 ---- 530\n",
      "DEBUG:pykeen.utilities.evaluation_utils.metrics_computations:Evaluation took 48.92s seconds\n",
      "DEBUG:pykeen.utilities.train_utils:\n",
      "current metric: 0.1155197691304134  ---- rank/hits@10: (0.08505210572451702, 0.18)\n",
      "INFO:pykeen.utilities.train_utils:Epoch 600 / 1000 (9.2s):  0.113 ---- 0.070 ---- 0.12 ---- 531\n",
      "INFO:pykeen.utilities.train_utils:Epoch 601 / 1000 (9.1s):  0.112 ---- 0.070 ---- 0.12 ---- 532\n",
      "INFO:pykeen.utilities.train_utils:Epoch 602 / 1000 (9.2s):  0.113 ---- 0.070 ---- 0.12 ---- 533\n",
      "INFO:pykeen.utilities.train_utils:Epoch 603 / 1000 (9.2s):  0.113 ---- 0.070 ---- 0.12 ---- 534\n",
      "INFO:pykeen.utilities.train_utils:Epoch 604 / 1000 (9.1s):  0.113 ---- 0.070 ---- 0.12 ---- 535\n",
      "DEBUG:pykeen.utilities.evaluation_utils.metrics_computations:Evaluation took 48.95s seconds\n",
      "DEBUG:pykeen.utilities.train_utils:\n",
      "current metric: 0.11551231041890594  ---- rank/hits@10: (0.08504401964380504, 0.18)\n",
      "INFO:pykeen.utilities.train_utils:Epoch 605 / 1000 (9.2s):  0.113 ---- 0.070 ---- 0.12 ---- 536\n",
      "INFO:pykeen.utilities.train_utils:Epoch 606 / 1000 (9.1s):  0.112 ---- 0.070 ---- 0.12 ---- 537\n",
      "INFO:pykeen.utilities.train_utils:Epoch 607 / 1000 (9.2s):  0.113 ---- 0.070 ---- 0.12 ---- 538\n",
      "INFO:pykeen.utilities.train_utils:Epoch 608 / 1000 (9.2s):  0.112 ---- 0.070 ---- 0.12 ---- 539\n",
      "INFO:pykeen.utilities.train_utils:Epoch 609 / 1000 (9.2s):  0.112 ---- 0.070 ---- 0.12 ---- 540\n",
      "DEBUG:pykeen.utilities.evaluation_utils.metrics_computations:Evaluation took 48.97s seconds\n",
      "DEBUG:pykeen.utilities.train_utils:\n",
      "current metric: 0.11462009786072877  ---- rank/hits@10: (0.08521762879210976, 0.175)\n",
      "INFO:pykeen.utilities.train_utils:Epoch 610 / 1000 (9.2s):  0.113 ---- 0.070 ---- 0.11 ---- 541\n",
      "INFO:pykeen.utilities.train_utils:Epoch 611 / 1000 (9.2s):  0.113 ---- 0.070 ---- 0.11 ---- 542\n",
      "INFO:pykeen.utilities.train_utils:Epoch 612 / 1000 (9.2s):  0.112 ---- 0.070 ---- 0.11 ---- 543\n",
      "INFO:pykeen.utilities.train_utils:Epoch 613 / 1000 (9.2s):  0.112 ---- 0.070 ---- 0.11 ---- 544\n",
      "INFO:pykeen.utilities.train_utils:Epoch 614 / 1000 (9.2s):  0.113 ---- 0.070 ---- 0.11 ---- 545\n"
     ]
    },
    {
     "name": "stderr",
     "output_type": "stream",
     "text": [
      "DEBUG:pykeen.utilities.evaluation_utils.metrics_computations:Evaluation took 48.90s seconds\n",
      "DEBUG:pykeen.utilities.train_utils:\n",
      "current metric: 0.11426066881458555  ---- rank/hits@10: (0.08424576331055995, 0.1775)\n",
      "INFO:pykeen.utilities.train_utils:Epoch 615 / 1000 (9.2s):  0.112 ---- 0.070 ---- 0.11 ---- 546\n",
      "INFO:pykeen.utilities.train_utils:Epoch 616 / 1000 (9.2s):  0.113 ---- 0.070 ---- 0.11 ---- 547\n",
      "INFO:pykeen.utilities.train_utils:Epoch 617 / 1000 (9.2s):  0.112 ---- 0.070 ---- 0.11 ---- 548\n",
      "INFO:pykeen.utilities.train_utils:Epoch 618 / 1000 (9.2s):  0.113 ---- 0.070 ---- 0.11 ---- 549\n",
      "INFO:pykeen.utilities.train_utils:Epoch 619 / 1000 (9.2s):  0.112 ---- 0.070 ---- 0.11 ---- 550\n",
      "DEBUG:pykeen.utilities.evaluation_utils.metrics_computations:Evaluation took 48.96s seconds\n",
      "DEBUG:pykeen.utilities.train_utils:\n",
      "current metric: 0.11384075647134258  ---- rank/hits@10: (0.0837900052181168, 0.1775)\n",
      "INFO:pykeen.utilities.train_utils:Epoch 620 / 1000 (9.2s):  0.113 ---- 0.070 ---- 0.11 ---- 551\n",
      "INFO:pykeen.utilities.train_utils:Epoch 621 / 1000 (9.1s):  0.112 ---- 0.070 ---- 0.11 ---- 552\n",
      "INFO:pykeen.utilities.train_utils:Epoch 622 / 1000 (9.2s):  0.113 ---- 0.070 ---- 0.11 ---- 553\n",
      "INFO:pykeen.utilities.train_utils:Epoch 623 / 1000 (9.2s):  0.112 ---- 0.070 ---- 0.11 ---- 554\n",
      "INFO:pykeen.utilities.train_utils:Epoch 624 / 1000 (9.2s):  0.113 ---- 0.070 ---- 0.11 ---- 555\n",
      "DEBUG:pykeen.utilities.evaluation_utils.metrics_computations:Evaluation took 48.96s seconds\n",
      "DEBUG:pykeen.utilities.train_utils:\n",
      "current metric: 0.11420536963467535  ---- rank/hits@10: (0.08418565264266809, 0.1775)\n",
      "INFO:pykeen.utilities.train_utils:Epoch 625 / 1000 (9.2s):  0.112 ---- 0.070 ---- 0.11 ---- 556\n",
      "INFO:pykeen.utilities.train_utils:Epoch 626 / 1000 (9.2s):  0.113 ---- 0.070 ---- 0.11 ---- 557\n",
      "INFO:pykeen.utilities.train_utils:Epoch 627 / 1000 (9.2s):  0.112 ---- 0.070 ---- 0.11 ---- 558\n",
      "INFO:pykeen.utilities.train_utils:Epoch 628 / 1000 (9.2s):  0.113 ---- 0.070 ---- 0.11 ---- 559\n",
      "INFO:pykeen.utilities.train_utils:Epoch 629 / 1000 (9.1s):  0.113 ---- 0.070 ---- 0.11 ---- 560\n",
      "DEBUG:pykeen.utilities.evaluation_utils.metrics_computations:Evaluation took 48.91s seconds\n",
      "DEBUG:pykeen.utilities.train_utils:\n",
      "current metric: 0.11420420677986233  ---- rank/hits@10: (0.08475866305136892, 0.175)\n",
      "INFO:pykeen.utilities.train_utils:Epoch 630 / 1000 (9.2s):  0.112 ---- 0.070 ---- 0.11 ---- 561\n",
      "INFO:pykeen.utilities.train_utils:Epoch 631 / 1000 (9.1s):  0.113 ---- 0.070 ---- 0.11 ---- 562\n",
      "INFO:pykeen.utilities.train_utils:Epoch 632 / 1000 (9.1s):  0.113 ---- 0.070 ---- 0.11 ---- 563\n",
      "INFO:pykeen.utilities.train_utils:Epoch 633 / 1000 (9.2s):  0.113 ---- 0.070 ---- 0.11 ---- 564\n",
      "INFO:pykeen.utilities.train_utils:Epoch 634 / 1000 (9.2s):  0.112 ---- 0.070 ---- 0.11 ---- 565\n",
      "DEBUG:pykeen.utilities.evaluation_utils.metrics_computations:Evaluation took 48.93s seconds\n",
      "DEBUG:pykeen.utilities.train_utils:\n",
      "current metric: 0.11495211428166667  ---- rank/hits@10: (0.08499970838708998, 0.1775)\n",
      "INFO:pykeen.utilities.train_utils:Epoch 635 / 1000 (9.2s):  0.113 ---- 0.070 ---- 0.11 ---- 566\n",
      "DEBUG:pykeen.utilities.evaluation_utils.metrics_computations:Evaluation took 48.94s seconds\n",
      "DEBUG:pykeen.utilities.train_utils:\n",
      "current metric: 0.11437916197068662  ---- rank/hits@10: (0.08495154126554776, 0.175)\n",
      "INFO:pykeen.utilities.train_utils:Epoch 636 / 1000 (9.2s):  0.112 ---- 0.069 ---- 0.11 ---- 567\n",
      "DEBUG:pykeen.utilities.evaluation_utils.metrics_computations:Evaluation took 48.94s seconds\n",
      "DEBUG:pykeen.utilities.train_utils:\n",
      "current metric: 0.11390535056815668  ---- rank/hits@10: (0.08442985216902121, 0.175)\n",
      "INFO:pykeen.utilities.train_utils:Epoch 637 / 1000 (9.1s):  0.113 ---- 0.069 ---- 0.11 ---- 568\n",
      "INFO:pykeen.utilities.train_utils:Epoch 638 / 1000 (9.2s):  0.112 ---- 0.070 ---- 0.11 ---- 569\n",
      "INFO:pykeen.utilities.train_utils:Epoch 639 / 1000 (9.1s):  0.112 ---- 0.070 ---- 0.11 ---- 570\n",
      "DEBUG:pykeen.utilities.evaluation_utils.metrics_computations:Evaluation took 48.97s seconds\n",
      "DEBUG:pykeen.utilities.train_utils:\n",
      "current metric: 0.11471330522092263  ---- rank/hits@10: (0.08473882291083362, 0.1775)\n",
      "INFO:pykeen.utilities.train_utils:Epoch 640 / 1000 (9.1s):  0.112 ---- 0.070 ---- 0.11 ---- 571\n",
      "INFO:pykeen.utilities.train_utils:Epoch 641 / 1000 (9.2s):  0.112 ---- 0.070 ---- 0.11 ---- 572\n",
      "INFO:pykeen.utilities.train_utils:Epoch 642 / 1000 (9.1s):  0.112 ---- 0.070 ---- 0.11 ---- 573\n",
      "INFO:pykeen.utilities.train_utils:Epoch 643 / 1000 (9.1s):  0.113 ---- 0.070 ---- 0.11 ---- 574\n",
      "INFO:pykeen.utilities.train_utils:Epoch 644 / 1000 (9.1s):  0.112 ---- 0.070 ---- 0.11 ---- 575\n",
      "DEBUG:pykeen.utilities.evaluation_utils.metrics_computations:Evaluation took 48.91s seconds\n",
      "DEBUG:pykeen.utilities.train_utils:\n",
      "current metric: 0.11493123706346638  ---- rank/hits@10: (0.08497688049552057, 0.1775)\n",
      "INFO:pykeen.utilities.train_utils:Epoch 645 / 1000 (9.2s):  0.113 ---- 0.070 ---- 0.11 ---- 576\n",
      "INFO:pykeen.utilities.train_utils:Epoch 646 / 1000 (9.3s):  0.113 ---- 0.070 ---- 0.11 ---- 577\n",
      "INFO:pykeen.utilities.train_utils:Epoch 647 / 1000 (9.2s):  0.112 ---- 0.070 ---- 0.11 ---- 578\n",
      "INFO:pykeen.utilities.train_utils:Epoch 648 / 1000 (9.2s):  0.112 ---- 0.070 ---- 0.11 ---- 579\n",
      "INFO:pykeen.utilities.train_utils:Epoch 649 / 1000 (9.1s):  0.113 ---- 0.070 ---- 0.11 ---- 580\n",
      "DEBUG:pykeen.utilities.evaluation_utils.metrics_computations:Evaluation took 48.94s seconds\n",
      "DEBUG:pykeen.utilities.train_utils:\n",
      "current metric: 0.11459959712300044  ---- rank/hits@10: (0.08461478535766113, 0.1775)\n",
      "INFO:pykeen.utilities.train_utils:Epoch 650 / 1000 (9.2s):  0.112 ---- 0.070 ---- 0.11 ---- 581\n",
      "INFO:pykeen.utilities.train_utils:Epoch 651 / 1000 (9.2s):  0.112 ---- 0.070 ---- 0.11 ---- 582\n",
      "INFO:pykeen.utilities.train_utils:Epoch 652 / 1000 (9.2s):  0.113 ---- 0.070 ---- 0.11 ---- 583\n",
      "INFO:pykeen.utilities.train_utils:Epoch 653 / 1000 (9.2s):  0.112 ---- 0.070 ---- 0.11 ---- 584\n",
      "INFO:pykeen.utilities.train_utils:Epoch 654 / 1000 (9.1s):  0.112 ---- 0.069 ---- 0.11 ---- 585\n",
      "DEBUG:pykeen.utilities.evaluation_utils.metrics_computations:Evaluation took 48.94s seconds\n",
      "DEBUG:pykeen.utilities.train_utils:\n",
      "current metric: 0.11482057064219835  ---- rank/hits@10: (0.08485594017557853, 0.1775)\n",
      "INFO:pykeen.utilities.train_utils:Epoch 655 / 1000 (9.2s):  0.112 ---- 0.069 ---- 0.11 ---- 586\n",
      "INFO:pykeen.utilities.train_utils:Epoch 656 / 1000 (9.2s):  0.112 ---- 0.070 ---- 0.11 ---- 587\n",
      "INFO:pykeen.utilities.train_utils:Epoch 657 / 1000 (9.2s):  0.112 ---- 0.069 ---- 0.11 ---- 588\n",
      "INFO:pykeen.utilities.train_utils:Epoch 658 / 1000 (9.1s):  0.112 ---- 0.070 ---- 0.11 ---- 589\n",
      "INFO:pykeen.utilities.train_utils:Epoch 659 / 1000 (9.1s):  0.112 ---- 0.070 ---- 0.11 ---- 590\n",
      "DEBUG:pykeen.utilities.evaluation_utils.metrics_computations:Evaluation took 48.92s seconds\n",
      "DEBUG:pykeen.utilities.train_utils:\n",
      "current metric: 0.11475284741911014  ---- rank/hits@10: (0.08478198471065769, 0.1775)\n",
      "INFO:pykeen.utilities.train_utils:Epoch 660 / 1000 (9.1s):  0.112 ---- 0.070 ---- 0.11 ---- 591\n",
      "INFO:pykeen.utilities.train_utils:Epoch 661 / 1000 (9.1s):  0.112 ---- 0.070 ---- 0.11 ---- 592\n",
      "INFO:pykeen.utilities.train_utils:Epoch 662 / 1000 (9.1s):  0.112 ---- 0.070 ---- 0.11 ---- 593\n",
      "INFO:pykeen.utilities.train_utils:Epoch 663 / 1000 (9.2s):  0.113 ---- 0.070 ---- 0.11 ---- 594\n",
      "INFO:pykeen.utilities.train_utils:Epoch 664 / 1000 (9.1s):  0.112 ---- 0.070 ---- 0.11 ---- 595\n",
      "DEBUG:pykeen.utilities.evaluation_utils.metrics_computations:Evaluation took 48.93s seconds\n",
      "DEBUG:pykeen.utilities.train_utils:\n",
      "current metric: 0.11605210355815758  ---- rank/hits@10: (0.08563049300754445, 0.18)\n",
      "INFO:pykeen.utilities.train_utils:Epoch 665 / 1000 (9.2s):  0.112 ---- 0.070 ---- 0.12 ---- 596\n",
      "INFO:pykeen.utilities.train_utils:Epoch 666 / 1000 (9.2s):  0.113 ---- 0.070 ---- 0.12 ---- 597\n",
      "INFO:pykeen.utilities.train_utils:Epoch 667 / 1000 (9.2s):  0.113 ---- 0.070 ---- 0.12 ---- 598\n",
      "INFO:pykeen.utilities.train_utils:Epoch 668 / 1000 (9.1s):  0.112 ---- 0.070 ---- 0.12 ---- 599\n",
      "INFO:pykeen.utilities.train_utils:Epoch 669 / 1000 (9.2s):  0.112 ---- 0.070 ---- 0.12 ---- 600\n",
      "DEBUG:pykeen.utilities.evaluation_utils.metrics_computations:Evaluation took 48.92s seconds\n",
      "DEBUG:pykeen.utilities.train_utils:\n",
      "current metric: 0.11432125628767718  ---- rank/hits@10: (0.08488767181635927, 0.175)\n"
     ]
    },
    {
     "name": "stderr",
     "output_type": "stream",
     "text": [
      "INFO:pykeen.utilities.train_utils:Epoch 670 / 1000 (9.2s):  0.112 ---- 0.070 ---- 0.11 ---- 601\n",
      "INFO:pykeen.utilities.train_utils:Epoch 671 / 1000 (9.2s):  0.113 ---- 0.070 ---- 0.11 ---- 602\n",
      "INFO:pykeen.utilities.train_utils:Epoch 672 / 1000 (9.2s):  0.112 ---- 0.070 ---- 0.11 ---- 603\n",
      "INFO:pykeen.utilities.train_utils:Epoch 673 / 1000 (9.2s):  0.112 ---- 0.070 ---- 0.11 ---- 604\n",
      "INFO:pykeen.utilities.train_utils:Epoch 674 / 1000 (9.1s):  0.112 ---- 0.070 ---- 0.11 ---- 605\n",
      "DEBUG:pykeen.utilities.evaluation_utils.metrics_computations:Evaluation took 48.91s seconds\n",
      "DEBUG:pykeen.utilities.train_utils:\n",
      "current metric: 0.11542925741260232  ---- rank/hits@10: (0.08495401418198513, 0.18)\n",
      "INFO:pykeen.utilities.train_utils:Epoch 675 / 1000 (9.2s):  0.112 ---- 0.070 ---- 0.12 ---- 606\n",
      "INFO:pykeen.utilities.train_utils:Epoch 676 / 1000 (9.1s):  0.112 ---- 0.070 ---- 0.12 ---- 607\n",
      "INFO:pykeen.utilities.train_utils:Epoch 677 / 1000 (9.2s):  0.113 ---- 0.070 ---- 0.12 ---- 608\n",
      "INFO:pykeen.utilities.train_utils:Epoch 678 / 1000 (9.2s):  0.113 ---- 0.070 ---- 0.12 ---- 609\n",
      "INFO:pykeen.utilities.train_utils:Epoch 679 / 1000 (9.1s):  0.112 ---- 0.070 ---- 0.12 ---- 610\n",
      "DEBUG:pykeen.utilities.evaluation_utils.metrics_computations:Evaluation took 48.97s seconds\n",
      "DEBUG:pykeen.utilities.train_utils:\n",
      "current metric: 0.11586668265525955  ---- rank/hits@10: (0.08487692376898895, 0.1825)\n",
      "INFO:pykeen.utilities.train_utils:Epoch 680 / 1000 (9.2s):  0.113 ---- 0.070 ---- 0.12 ---- 611\n",
      "INFO:pykeen.utilities.train_utils:Epoch 681 / 1000 (9.1s):  0.112 ---- 0.070 ---- 0.12 ---- 612\n",
      "INFO:pykeen.utilities.train_utils:Epoch 682 / 1000 (9.2s):  0.112 ---- 0.069 ---- 0.12 ---- 613\n",
      "INFO:pykeen.utilities.train_utils:Epoch 683 / 1000 (9.1s):  0.113 ---- 0.069 ---- 0.12 ---- 614\n",
      "INFO:pykeen.utilities.train_utils:Epoch 684 / 1000 (9.2s):  0.113 ---- 0.069 ---- 0.12 ---- 615\n",
      "DEBUG:pykeen.utilities.evaluation_utils.metrics_computations:Evaluation took 48.95s seconds\n",
      "DEBUG:pykeen.utilities.train_utils:\n",
      "current metric: 0.11540761078241234  ---- rank/hits@10: (0.08493056553102467, 0.18)\n",
      "INFO:pykeen.utilities.train_utils:Epoch 685 / 1000 (9.2s):  0.112 ---- 0.069 ---- 0.12 ---- 616\n",
      "INFO:pykeen.utilities.train_utils:Epoch 686 / 1000 (9.2s):  0.112 ---- 0.070 ---- 0.12 ---- 617\n",
      "INFO:pykeen.utilities.train_utils:Epoch 687 / 1000 (9.1s):  0.112 ---- 0.069 ---- 0.12 ---- 618\n",
      "INFO:pykeen.utilities.train_utils:Epoch 688 / 1000 (9.2s):  0.112 ---- 0.069 ---- 0.12 ---- 619\n",
      "INFO:pykeen.utilities.train_utils:Epoch 689 / 1000 (9.2s):  0.112 ---- 0.069 ---- 0.12 ---- 620\n",
      "DEBUG:pykeen.utilities.evaluation_utils.metrics_computations:Evaluation took 48.93s seconds\n",
      "DEBUG:pykeen.utilities.train_utils:\n",
      "current metric: 0.11635941750460081  ---- rank/hits@10: (0.08596554373786912, 0.18)\n",
      "INFO:pykeen.utilities.train_utils:Epoch 690 / 1000 (9.1s):  0.112 ---- 0.070 ---- 0.12 ---- 621\n",
      "INFO:pykeen.utilities.train_utils:Epoch 691 / 1000 (9.3s):  0.112 ---- 0.070 ---- 0.12 ---- 622\n",
      "INFO:pykeen.utilities.train_utils:Epoch 692 / 1000 (9.2s):  0.112 ---- 0.070 ---- 0.12 ---- 623\n",
      "INFO:pykeen.utilities.train_utils:Epoch 693 / 1000 (9.2s):  0.112 ---- 0.070 ---- 0.12 ---- 624\n",
      "INFO:pykeen.utilities.train_utils:Epoch 694 / 1000 (9.2s):  0.112 ---- 0.070 ---- 0.12 ---- 625\n",
      "DEBUG:pykeen.utilities.evaluation_utils.metrics_computations:Evaluation took 48.94s seconds\n",
      "DEBUG:pykeen.utilities.train_utils:\n",
      "current metric: 0.11512174230951401  ---- rank/hits@10: (0.08462128819090178, 0.18)\n",
      "INFO:pykeen.utilities.train_utils:Epoch 695 / 1000 (9.2s):  0.113 ---- 0.070 ---- 0.12 ---- 626\n",
      "INFO:pykeen.utilities.train_utils:Epoch 696 / 1000 (9.2s):  0.112 ---- 0.070 ---- 0.12 ---- 627\n",
      "INFO:pykeen.utilities.train_utils:Epoch 697 / 1000 (9.2s):  0.112 ---- 0.070 ---- 0.12 ---- 628\n",
      "INFO:pykeen.utilities.train_utils:Epoch 698 / 1000 (9.1s):  0.113 ---- 0.070 ---- 0.12 ---- 629\n",
      "INFO:pykeen.utilities.train_utils:Epoch 699 / 1000 (9.2s):  0.113 ---- 0.070 ---- 0.12 ---- 630\n",
      "DEBUG:pykeen.utilities.evaluation_utils.metrics_computations:Evaluation took 48.92s seconds\n",
      "DEBUG:pykeen.utilities.train_utils:\n",
      "current metric: 0.11392234780138885  ---- rank/hits@10: (0.08333151109430866, 0.18)\n",
      "INFO:pykeen.utilities.train_utils:Epoch 700 / 1000 (9.2s):  0.113 ---- 0.070 ---- 0.11 ---- 631\n",
      "INFO:pykeen.utilities.train_utils:Epoch 701 / 1000 (9.2s):  0.112 ---- 0.070 ---- 0.11 ---- 632\n",
      "INFO:pykeen.utilities.train_utils:Epoch 702 / 1000 (9.1s):  0.112 ---- 0.070 ---- 0.11 ---- 633\n",
      "INFO:pykeen.utilities.train_utils:Epoch 703 / 1000 (9.1s):  0.112 ---- 0.070 ---- 0.11 ---- 634\n",
      "INFO:pykeen.utilities.train_utils:Epoch 704 / 1000 (9.2s):  0.112 ---- 0.070 ---- 0.11 ---- 635\n",
      "DEBUG:pykeen.utilities.evaluation_utils.metrics_computations:Evaluation took 48.94s seconds\n",
      "DEBUG:pykeen.utilities.train_utils:\n",
      "current metric: 0.11619106679577348  ---- rank/hits@10: (0.08578189383126618, 0.18)\n",
      "INFO:pykeen.utilities.train_utils:Epoch 705 / 1000 (9.2s):  0.113 ---- 0.070 ---- 0.12 ---- 636\n",
      "INFO:pykeen.utilities.train_utils:Epoch 706 / 1000 (9.2s):  0.112 ---- 0.070 ---- 0.12 ---- 637\n",
      "INFO:pykeen.utilities.train_utils:Epoch 707 / 1000 (9.2s):  0.112 ---- 0.070 ---- 0.12 ---- 638\n",
      "INFO:pykeen.utilities.train_utils:Epoch 708 / 1000 (9.2s):  0.112 ---- 0.070 ---- 0.12 ---- 639\n",
      "INFO:pykeen.utilities.train_utils:Epoch 709 / 1000 (9.2s):  0.113 ---- 0.070 ---- 0.12 ---- 640\n",
      "DEBUG:pykeen.utilities.evaluation_utils.metrics_computations:Evaluation took 48.95s seconds\n",
      "DEBUG:pykeen.utilities.train_utils:\n",
      "current metric: 0.11472420535736158  ---- rank/hits@10: (0.08419239654044222, 0.18)\n",
      "INFO:pykeen.utilities.train_utils:Epoch 710 / 1000 (9.3s):  0.113 ---- 0.070 ---- 0.11 ---- 641\n",
      "INFO:pykeen.utilities.train_utils:Epoch 711 / 1000 (9.2s):  0.112 ---- 0.070 ---- 0.11 ---- 642\n",
      "INFO:pykeen.utilities.train_utils:Epoch 712 / 1000 (9.2s):  0.113 ---- 0.070 ---- 0.11 ---- 643\n",
      "INFO:pykeen.utilities.train_utils:Epoch 713 / 1000 (9.3s):  0.112 ---- 0.070 ---- 0.11 ---- 644\n",
      "INFO:pykeen.utilities.train_utils:Epoch 714 / 1000 (9.2s):  0.113 ---- 0.070 ---- 0.11 ---- 645\n",
      "DEBUG:pykeen.utilities.evaluation_utils.metrics_computations:Evaluation took 48.93s seconds\n",
      "DEBUG:pykeen.utilities.train_utils:\n",
      "current metric: 0.11641792588365954  ---- rank/hits@10: (0.08602942862310144, 0.18)\n",
      "INFO:pykeen.utilities.train_utils:Epoch 715 / 1000 (9.1s):  0.113 ---- 0.070 ---- 0.12 ---- 646\n",
      "INFO:pykeen.utilities.train_utils:Epoch 716 / 1000 (9.2s):  0.112 ---- 0.070 ---- 0.12 ---- 647\n",
      "INFO:pykeen.utilities.train_utils:Epoch 717 / 1000 (9.2s):  0.112 ---- 0.070 ---- 0.12 ---- 648\n",
      "INFO:pykeen.utilities.train_utils:Epoch 718 / 1000 (9.2s):  0.113 ---- 0.070 ---- 0.12 ---- 649\n",
      "INFO:pykeen.utilities.train_utils:Epoch 719 / 1000 (9.2s):  0.113 ---- 0.070 ---- 0.12 ---- 650\n",
      "DEBUG:pykeen.utilities.evaluation_utils.metrics_computations:Evaluation took 48.93s seconds\n",
      "DEBUG:pykeen.utilities.train_utils:\n",
      "current metric: 0.11578699844572057  ---- rank/hits@10: (0.0859158661551761, 0.1775)\n",
      "INFO:pykeen.utilities.train_utils:Epoch 720 / 1000 (9.2s):  0.113 ---- 0.069 ---- 0.12 ---- 651\n",
      "DEBUG:pykeen.utilities.evaluation_utils.metrics_computations:Evaluation took 48.96s seconds\n",
      "DEBUG:pykeen.utilities.train_utils:\n",
      "current metric: 0.116051360829535  ---- rank/hits@10: (0.0862072980149811, 0.1775)\n",
      "INFO:pykeen.utilities.train_utils:Epoch 721 / 1000 (9.2s):  0.112 ---- 0.069 ---- 0.12 ---- 652\n",
      "INFO:pykeen.utilities.train_utils:Epoch 722 / 1000 (9.1s):  0.112 ---- 0.069 ---- 0.12 ---- 653\n",
      "INFO:pykeen.utilities.train_utils:Epoch 723 / 1000 (9.2s):  0.113 ---- 0.069 ---- 0.12 ---- 654\n",
      "INFO:pykeen.utilities.train_utils:Epoch 724 / 1000 (9.1s):  0.112 ---- 0.070 ---- 0.12 ---- 655\n",
      "DEBUG:pykeen.utilities.evaluation_utils.metrics_computations:Evaluation took 48.90s seconds\n",
      "DEBUG:pykeen.utilities.train_utils:\n",
      "current metric: 0.11519750532200454  ---- rank/hits@10: (0.08526832559483001, 0.1775)\n",
      "INFO:pykeen.utilities.train_utils:Epoch 725 / 1000 (9.2s):  0.112 ---- 0.070 ---- 0.12 ---- 656\n",
      "INFO:pykeen.utilities.train_utils:Epoch 726 / 1000 (9.3s):  0.112 ---- 0.070 ---- 0.12 ---- 657\n",
      "INFO:pykeen.utilities.train_utils:Epoch 727 / 1000 (9.1s):  0.112 ---- 0.070 ---- 0.12 ---- 658\n",
      "INFO:pykeen.utilities.train_utils:Epoch 728 / 1000 (9.2s):  0.112 ---- 0.070 ---- 0.12 ---- 659\n"
     ]
    },
    {
     "name": "stderr",
     "output_type": "stream",
     "text": [
      "INFO:pykeen.utilities.train_utils:Epoch 729 / 1000 (9.2s):  0.112 ---- 0.070 ---- 0.12 ---- 660\n",
      "DEBUG:pykeen.utilities.evaluation_utils.metrics_computations:Evaluation took 48.98s seconds\n",
      "DEBUG:pykeen.utilities.train_utils:\n",
      "current metric: 0.11465000928663152  ---- rank/hits@10: (0.08466976257405444, 0.1775)\n",
      "INFO:pykeen.utilities.train_utils:Epoch 730 / 1000 (9.2s):  0.112 ---- 0.070 ---- 0.11 ---- 661\n",
      "INFO:pykeen.utilities.train_utils:Epoch 731 / 1000 (9.2s):  0.112 ---- 0.070 ---- 0.11 ---- 662\n",
      "INFO:pykeen.utilities.train_utils:Epoch 732 / 1000 (9.2s):  0.112 ---- 0.070 ---- 0.11 ---- 663\n",
      "INFO:pykeen.utilities.train_utils:Epoch 733 / 1000 (9.1s):  0.112 ---- 0.069 ---- 0.11 ---- 664\n",
      "INFO:pykeen.utilities.train_utils:Epoch 734 / 1000 (9.2s):  0.112 ---- 0.069 ---- 0.11 ---- 665\n",
      "DEBUG:pykeen.utilities.evaluation_utils.metrics_computations:Evaluation took 48.90s seconds\n",
      "DEBUG:pykeen.utilities.train_utils:\n",
      "current metric: 0.11336431138479204  ---- rank/hits@10: (0.08327480673951303, 0.1775)\n",
      "INFO:pykeen.utilities.train_utils:Epoch 735 / 1000 (9.2s):  0.112 ---- 0.069 ---- 0.11 ---- 666\n",
      "DEBUG:pykeen.utilities.evaluation_utils.metrics_computations:Evaluation took 48.92s seconds\n",
      "DEBUG:pykeen.utilities.train_utils:\n",
      "current metric: 0.11459065966338919  ---- rank/hits@10: (0.08518508829096963, 0.175)\n",
      "INFO:pykeen.utilities.train_utils:Epoch 736 / 1000 (9.2s):  0.112 ---- 0.069 ---- 0.11 ---- 667\n",
      "INFO:pykeen.utilities.train_utils:Epoch 737 / 1000 (9.1s):  0.113 ---- 0.069 ---- 0.11 ---- 668\n",
      "INFO:pykeen.utilities.train_utils:Epoch 738 / 1000 (9.2s):  0.112 ---- 0.070 ---- 0.11 ---- 669\n",
      "INFO:pykeen.utilities.train_utils:Epoch 739 / 1000 (9.2s):  0.113 ---- 0.069 ---- 0.11 ---- 670\n",
      "DEBUG:pykeen.utilities.evaluation_utils.metrics_computations:Evaluation took 48.95s seconds\n",
      "DEBUG:pykeen.utilities.train_utils:\n",
      "current metric: 0.11561790301912542  ---- rank/hits@10: (0.0857297936843388, 0.1775)\n",
      "INFO:pykeen.utilities.train_utils:Epoch 740 / 1000 (9.3s):  0.113 ---- 0.069 ---- 0.12 ---- 671\n",
      "INFO:pykeen.utilities.train_utils:Epoch 741 / 1000 (9.1s):  0.112 ---- 0.069 ---- 0.12 ---- 672\n",
      "DEBUG:pykeen.utilities.evaluation_utils.metrics_computations:Evaluation took 48.92s seconds\n",
      "DEBUG:pykeen.utilities.train_utils:\n",
      "current metric: 0.11635680115680833  ---- rank/hits@10: (0.08654481797700182, 0.1775)\n",
      "INFO:pykeen.utilities.train_utils:Epoch 742 / 1000 (9.1s):  0.112 ---- 0.069 ---- 0.12 ---- 673\n",
      "INFO:pykeen.utilities.train_utils:Epoch 743 / 1000 (9.2s):  0.112 ---- 0.069 ---- 0.12 ---- 674\n",
      "DEBUG:pykeen.utilities.evaluation_utils.metrics_computations:Evaluation took 48.92s seconds\n",
      "DEBUG:pykeen.utilities.train_utils:\n",
      "current metric: 0.115265910123716  ---- rank/hits@10: (0.0859335526522017, 0.175)\n",
      "INFO:pykeen.utilities.train_utils:Epoch 744 / 1000 (9.2s):  0.113 ---- 0.069 ---- 0.12 ---- 675\n",
      "DEBUG:pykeen.utilities.evaluation_utils.metrics_computations:Evaluation took 48.94s seconds\n",
      "DEBUG:pykeen.utilities.train_utils:\n",
      "current metric: 0.1155152536433582  ---- rank/hits@10: (0.08561696656521704, 0.1775)\n",
      "INFO:pykeen.utilities.train_utils:Epoch 745 / 1000 (9.2s):  0.112 ---- 0.069 ---- 0.12 ---- 676\n",
      "INFO:pykeen.utilities.train_utils:Epoch 746 / 1000 (9.2s):  0.112 ---- 0.069 ---- 0.12 ---- 677\n",
      "INFO:pykeen.utilities.train_utils:Epoch 747 / 1000 (9.2s):  0.112 ---- 0.070 ---- 0.12 ---- 678\n",
      "INFO:pykeen.utilities.train_utils:Epoch 748 / 1000 (9.2s):  0.112 ---- 0.069 ---- 0.12 ---- 679\n",
      "INFO:pykeen.utilities.train_utils:Epoch 749 / 1000 (9.2s):  0.112 ---- 0.070 ---- 0.12 ---- 680\n",
      "DEBUG:pykeen.utilities.evaluation_utils.metrics_computations:Evaluation took 48.92s seconds\n",
      "DEBUG:pykeen.utilities.train_utils:\n",
      "current metric: 0.1149135477828133  ---- rank/hits@10: (0.08554244905365133, 0.175)\n",
      "INFO:pykeen.utilities.train_utils:Epoch 750 / 1000 (9.1s):  0.112 ---- 0.069 ---- 0.11 ---- 681\n",
      "INFO:pykeen.utilities.train_utils:Epoch 751 / 1000 (9.2s):  0.113 ---- 0.069 ---- 0.11 ---- 682\n",
      "INFO:pykeen.utilities.train_utils:Epoch 752 / 1000 (9.1s):  0.112 ---- 0.069 ---- 0.11 ---- 683\n",
      "INFO:pykeen.utilities.train_utils:Epoch 753 / 1000 (9.3s):  0.112 ---- 0.069 ---- 0.11 ---- 684\n",
      "DEBUG:pykeen.utilities.evaluation_utils.metrics_computations:Evaluation took 48.93s seconds\n",
      "DEBUG:pykeen.utilities.train_utils:\n",
      "current metric: 0.1157313594183453  ---- rank/hits@10: (0.08585461198265913, 0.1775)\n",
      "INFO:pykeen.utilities.train_utils:Epoch 754 / 1000 (9.2s):  0.113 ---- 0.069 ---- 0.12 ---- 685\n",
      "DEBUG:pykeen.utilities.evaluation_utils.metrics_computations:Evaluation took 48.95s seconds\n",
      "DEBUG:pykeen.utilities.train_utils:\n",
      "current metric: 0.11579002539955341  ---- rank/hits@10: (0.08591919940943114, 0.1775)\n",
      "INFO:pykeen.utilities.train_utils:Epoch 755 / 1000 (9.1s):  0.113 ---- 0.069 ---- 0.12 ---- 686\n",
      "INFO:pykeen.utilities.train_utils:Epoch 756 / 1000 (9.1s):  0.113 ---- 0.069 ---- 0.12 ---- 687\n",
      "INFO:pykeen.utilities.train_utils:Epoch 757 / 1000 (9.2s):  0.113 ---- 0.069 ---- 0.12 ---- 688\n",
      "INFO:pykeen.utilities.train_utils:Epoch 758 / 1000 (9.2s):  0.112 ---- 0.069 ---- 0.12 ---- 689\n",
      "INFO:pykeen.utilities.train_utils:Epoch 759 / 1000 (9.2s):  0.112 ---- 0.069 ---- 0.12 ---- 690\n",
      "DEBUG:pykeen.utilities.evaluation_utils.metrics_computations:Evaluation took 48.95s seconds\n",
      "DEBUG:pykeen.utilities.train_utils:\n",
      "current metric: 0.11583348720516598  ---- rank/hits@10: (0.0853926587158557, 0.18)\n",
      "INFO:pykeen.utilities.train_utils:Epoch 760 / 1000 (9.2s):  0.112 ---- 0.069 ---- 0.12 ---- 691\n",
      "INFO:pykeen.utilities.train_utils:Epoch 761 / 1000 (9.2s):  0.112 ---- 0.070 ---- 0.12 ---- 692\n",
      "INFO:pykeen.utilities.train_utils:Epoch 762 / 1000 (9.1s):  0.112 ---- 0.069 ---- 0.12 ---- 693\n",
      "INFO:pykeen.utilities.train_utils:Epoch 763 / 1000 (9.1s):  0.112 ---- 0.069 ---- 0.12 ---- 694\n",
      "INFO:pykeen.utilities.train_utils:Epoch 764 / 1000 (9.2s):  0.112 ---- 0.069 ---- 0.12 ---- 695\n",
      "DEBUG:pykeen.utilities.evaluation_utils.metrics_computations:Evaluation took 48.91s seconds\n",
      "DEBUG:pykeen.utilities.train_utils:\n",
      "current metric: 0.11588936905546583  ---- rank/hits@10: (0.08602864258309299, 0.1775)\n",
      "INFO:pykeen.utilities.train_utils:Epoch 765 / 1000 (9.2s):  0.112 ---- 0.069 ---- 0.12 ---- 696\n",
      "INFO:pykeen.utilities.train_utils:Epoch 766 / 1000 (9.2s):  0.112 ---- 0.069 ---- 0.12 ---- 697\n",
      "INFO:pykeen.utilities.train_utils:Epoch 767 / 1000 (9.2s):  0.113 ---- 0.069 ---- 0.12 ---- 698\n",
      "INFO:pykeen.utilities.train_utils:Epoch 768 / 1000 (9.2s):  0.112 ---- 0.069 ---- 0.12 ---- 699\n",
      "INFO:pykeen.utilities.train_utils:Epoch 769 / 1000 (9.3s):  0.112 ---- 0.069 ---- 0.12 ---- 700\n",
      "DEBUG:pykeen.utilities.evaluation_utils.metrics_computations:Evaluation took 48.92s seconds\n",
      "DEBUG:pykeen.utilities.train_utils:\n",
      "current metric: 0.11665315896137639  ---- rank/hits@10: (0.08748480471120622, 0.175)\n",
      "INFO:pykeen.utilities.train_utils:Epoch 770 / 1000 (9.3s):  0.112 ---- 0.069 ---- 0.12 ---- 701\n",
      "INFO:pykeen.utilities.train_utils:Epoch 771 / 1000 (9.2s):  0.112 ---- 0.069 ---- 0.12 ---- 702\n",
      "INFO:pykeen.utilities.train_utils:Epoch 772 / 1000 (9.2s):  0.112 ---- 0.069 ---- 0.12 ---- 703\n",
      "INFO:pykeen.utilities.train_utils:Epoch 773 / 1000 (9.2s):  0.112 ---- 0.069 ---- 0.12 ---- 704\n",
      "INFO:pykeen.utilities.train_utils:Epoch 774 / 1000 (9.2s):  0.112 ---- 0.069 ---- 0.12 ---- 705\n",
      "DEBUG:pykeen.utilities.evaluation_utils.metrics_computations:Evaluation took 48.92s seconds\n",
      "DEBUG:pykeen.utilities.train_utils:\n",
      "current metric: 0.11704883145857184  ---- rank/hits@10: (0.08731273610147998, 0.1775)\n",
      "INFO:pykeen.utilities.train_utils:Epoch 775 / 1000 (9.2s):  0.112 ---- 0.069 ---- 0.12 ---- 706\n",
      "INFO:pykeen.utilities.train_utils:Epoch 776 / 1000 (9.2s):  0.112 ---- 0.069 ---- 0.12 ---- 707\n",
      "INFO:pykeen.utilities.train_utils:Epoch 777 / 1000 (9.2s):  0.112 ---- 0.069 ---- 0.12 ---- 708\n",
      "INFO:pykeen.utilities.train_utils:Epoch 778 / 1000 (9.3s):  0.112 ---- 0.069 ---- 0.12 ---- 709\n",
      "INFO:pykeen.utilities.train_utils:Epoch 779 / 1000 (9.1s):  0.112 ---- 0.069 ---- 0.12 ---- 710\n",
      "DEBUG:pykeen.utilities.evaluation_utils.metrics_computations:Evaluation took 48.91s seconds\n",
      "DEBUG:pykeen.utilities.train_utils:\n",
      "current metric: 0.11741977354272697  ---- rank/hits@10: (0.08712812064842218, 0.18)\n",
      "INFO:pykeen.utilities.train_utils:Epoch 780 / 1000 (9.2s):  0.112 ---- 0.069 ---- 0.12 ---- 711\n",
      "INFO:pykeen.utilities.train_utils:Epoch 781 / 1000 (9.2s):  0.112 ---- 0.069 ---- 0.12 ---- 712\n"
     ]
    },
    {
     "name": "stderr",
     "output_type": "stream",
     "text": [
      "INFO:pykeen.utilities.train_utils:Epoch 782 / 1000 (9.2s):  0.112 ---- 0.069 ---- 0.12 ---- 713\n",
      "INFO:pykeen.utilities.train_utils:Epoch 783 / 1000 (9.2s):  0.112 ---- 0.069 ---- 0.12 ---- 714\n",
      "INFO:pykeen.utilities.train_utils:Epoch 784 / 1000 (9.2s):  0.112 ---- 0.069 ---- 0.12 ---- 715\n",
      "DEBUG:pykeen.utilities.evaluation_utils.metrics_computations:Evaluation took 48.96s seconds\n",
      "DEBUG:pykeen.utilities.train_utils:\n",
      "current metric: 0.11638833032125848  ---- rank/hits@10: (0.08657970777304333, 0.1775)\n",
      "INFO:pykeen.utilities.train_utils:Epoch 785 / 1000 (9.2s):  0.112 ---- 0.069 ---- 0.12 ---- 716\n",
      "INFO:pykeen.utilities.train_utils:Epoch 786 / 1000 (9.2s):  0.112 ---- 0.070 ---- 0.12 ---- 717\n",
      "INFO:pykeen.utilities.train_utils:Epoch 787 / 1000 (9.2s):  0.112 ---- 0.069 ---- 0.12 ---- 718\n",
      "INFO:pykeen.utilities.train_utils:Epoch 788 / 1000 (9.2s):  0.112 ---- 0.070 ---- 0.12 ---- 719\n",
      "INFO:pykeen.utilities.train_utils:Epoch 789 / 1000 (9.2s):  0.112 ---- 0.069 ---- 0.12 ---- 720\n",
      "DEBUG:pykeen.utilities.evaluation_utils.metrics_computations:Evaluation took 48.94s seconds\n",
      "DEBUG:pykeen.utilities.train_utils:\n",
      "current metric: 0.11711949384760967  ---- rank/hits@10: (0.08679786297605369, 0.18)\n",
      "INFO:pykeen.utilities.train_utils:Epoch 790 / 1000 (9.2s):  0.112 ---- 0.069 ---- 0.12 ---- 721\n",
      "INFO:pykeen.utilities.train_utils:Epoch 791 / 1000 (9.2s):  0.112 ---- 0.069 ---- 0.12 ---- 722\n",
      "INFO:pykeen.utilities.train_utils:Epoch 792 / 1000 (9.0s):  0.112 ---- 0.069 ---- 0.12 ---- 723\n",
      "INFO:pykeen.utilities.train_utils:Epoch 793 / 1000 (9.1s):  0.112 ---- 0.069 ---- 0.12 ---- 724\n",
      "INFO:pykeen.utilities.train_utils:Epoch 794 / 1000 (9.2s):  0.113 ---- 0.069 ---- 0.12 ---- 725\n",
      "DEBUG:pykeen.utilities.evaluation_utils.metrics_computations:Evaluation took 48.91s seconds\n",
      "DEBUG:pykeen.utilities.train_utils:\n",
      "current metric: 0.11817203910292176  ---- rank/hits@10: (0.08795908860009297, 0.18)\n",
      "INFO:pykeen.utilities.train_utils:Epoch 795 / 1000 (9.2s):  0.112 ---- 0.069 ---- 0.12 ---- 726\n",
      "INFO:pykeen.utilities.train_utils:Epoch 796 / 1000 (9.2s):  0.112 ---- 0.069 ---- 0.12 ---- 727\n",
      "INFO:pykeen.utilities.train_utils:Epoch 797 / 1000 (9.1s):  0.112 ---- 0.069 ---- 0.12 ---- 728\n",
      "INFO:pykeen.utilities.train_utils:Epoch 798 / 1000 (9.3s):  0.112 ---- 0.069 ---- 0.12 ---- 729\n",
      "INFO:pykeen.utilities.train_utils:Epoch 799 / 1000 (9.2s):  0.112 ---- 0.069 ---- 0.12 ---- 730\n",
      "DEBUG:pykeen.utilities.evaluation_utils.metrics_computations:Evaluation took 48.94s seconds\n",
      "DEBUG:pykeen.utilities.train_utils:\n",
      "current metric: 0.11765948513603691  ---- rank/hits@10: (0.08739235095037752, 0.18)\n",
      "INFO:pykeen.utilities.train_utils:Epoch 800 / 1000 (9.1s):  0.112 ---- 0.069 ---- 0.12 ---- 731\n",
      "INFO:pykeen.utilities.train_utils:Epoch 801 / 1000 (9.2s):  0.112 ---- 0.069 ---- 0.12 ---- 732\n",
      "INFO:pykeen.utilities.train_utils:Epoch 802 / 1000 (9.2s):  0.112 ---- 0.069 ---- 0.12 ---- 733\n",
      "INFO:pykeen.utilities.train_utils:Epoch 803 / 1000 (9.2s):  0.112 ---- 0.069 ---- 0.12 ---- 734\n",
      "INFO:pykeen.utilities.train_utils:Epoch 804 / 1000 (9.3s):  0.112 ---- 0.069 ---- 0.12 ---- 735\n",
      "DEBUG:pykeen.utilities.evaluation_utils.metrics_computations:Evaluation took 48.93s seconds\n",
      "DEBUG:pykeen.utilities.train_utils:\n",
      "current metric: 0.11817337156136308  ---- rank/hits@10: (0.08681398736265632, 0.185)\n",
      "INFO:pykeen.utilities.train_utils:Epoch 805 / 1000 (9.2s):  0.112 ---- 0.069 ---- 0.12 ---- 736\n",
      "INFO:pykeen.utilities.train_utils:Epoch 806 / 1000 (9.2s):  0.112 ---- 0.069 ---- 0.12 ---- 737\n",
      "INFO:pykeen.utilities.train_utils:Epoch 807 / 1000 (9.2s):  0.112 ---- 0.069 ---- 0.12 ---- 738\n",
      "INFO:pykeen.utilities.train_utils:Epoch 808 / 1000 (9.3s):  0.112 ---- 0.069 ---- 0.12 ---- 739\n",
      "INFO:pykeen.utilities.train_utils:Epoch 809 / 1000 (9.1s):  0.112 ---- 0.069 ---- 0.12 ---- 740\n",
      "DEBUG:pykeen.utilities.evaluation_utils.metrics_computations:Evaluation took 48.94s seconds\n",
      "DEBUG:pykeen.utilities.train_utils:\n",
      "current metric: 0.11781005524841848  ---- rank/hits@10: (0.08697900355309177, 0.1825)\n",
      "INFO:pykeen.utilities.train_utils:Epoch 810 / 1000 (9.2s):  0.112 ---- 0.069 ---- 0.12 ---- 741\n",
      "INFO:pykeen.utilities.train_utils:Epoch 811 / 1000 (9.2s):  0.113 ---- 0.069 ---- 0.12 ---- 742\n",
      "INFO:pykeen.utilities.train_utils:Epoch 812 / 1000 (9.1s):  0.112 ---- 0.069 ---- 0.12 ---- 743\n",
      "INFO:pykeen.utilities.train_utils:Epoch 813 / 1000 (9.2s):  0.112 ---- 0.069 ---- 0.12 ---- 744\n",
      "INFO:pykeen.utilities.train_utils:Epoch 814 / 1000 (9.3s):  0.112 ---- 0.069 ---- 0.12 ---- 745\n",
      "DEBUG:pykeen.utilities.evaluation_utils.metrics_computations:Evaluation took 48.95s seconds\n",
      "DEBUG:pykeen.utilities.train_utils:\n",
      "current metric: 0.11760718796152671  ---- rank/hits@10: (0.08675802512661829, 0.1825)\n",
      "INFO:pykeen.utilities.train_utils:Epoch 815 / 1000 (9.1s):  0.112 ---- 0.069 ---- 0.12 ---- 746\n",
      "INFO:pykeen.utilities.train_utils:Epoch 816 / 1000 (9.2s):  0.112 ---- 0.069 ---- 0.12 ---- 747\n",
      "INFO:pykeen.utilities.train_utils:Epoch 817 / 1000 (9.1s):  0.112 ---- 0.069 ---- 0.12 ---- 748\n",
      "INFO:pykeen.utilities.train_utils:Epoch 818 / 1000 (9.1s):  0.113 ---- 0.069 ---- 0.12 ---- 749\n",
      "INFO:pykeen.utilities.train_utils:Epoch 819 / 1000 (9.2s):  0.112 ---- 0.069 ---- 0.12 ---- 750\n",
      "DEBUG:pykeen.utilities.evaluation_utils.metrics_computations:Evaluation took 48.94s seconds\n",
      "DEBUG:pykeen.utilities.train_utils:\n",
      "current metric: 0.11683715643664498  ---- rank/hits@10: (0.08769194123701424, 0.175)\n",
      "INFO:pykeen.utilities.train_utils:Epoch 820 / 1000 (9.2s):  0.112 ---- 0.069 ---- 0.12 ---- 751\n",
      "INFO:pykeen.utilities.train_utils:Epoch 821 / 1000 (9.2s):  0.112 ---- 0.069 ---- 0.12 ---- 752\n",
      "INFO:pykeen.utilities.train_utils:Epoch 822 / 1000 (9.2s):  0.111 ---- 0.069 ---- 0.12 ---- 753\n",
      "INFO:pykeen.utilities.train_utils:Epoch 823 / 1000 (9.2s):  0.112 ---- 0.069 ---- 0.12 ---- 754\n",
      "INFO:pykeen.utilities.train_utils:Epoch 824 / 1000 (9.1s):  0.112 ---- 0.069 ---- 0.12 ---- 755\n",
      "DEBUG:pykeen.utilities.evaluation_utils.metrics_computations:Evaluation took 48.89s seconds\n",
      "DEBUG:pykeen.utilities.train_utils:\n",
      "current metric: 0.11744421520750356  ---- rank/hits@10: (0.08775348584982279, 0.1775)\n",
      "INFO:pykeen.utilities.train_utils:Epoch 825 / 1000 (9.1s):  0.112 ---- 0.069 ---- 0.12 ---- 756\n",
      "INFO:pykeen.utilities.train_utils:Epoch 826 / 1000 (9.2s):  0.112 ---- 0.069 ---- 0.12 ---- 757\n",
      "INFO:pykeen.utilities.train_utils:Epoch 827 / 1000 (9.2s):  0.111 ---- 0.069 ---- 0.12 ---- 758\n",
      "INFO:pykeen.utilities.train_utils:Epoch 828 / 1000 (9.1s):  0.112 ---- 0.069 ---- 0.12 ---- 759\n",
      "INFO:pykeen.utilities.train_utils:Epoch 829 / 1000 (9.2s):  0.112 ---- 0.069 ---- 0.12 ---- 760\n",
      "DEBUG:pykeen.utilities.evaluation_utils.metrics_computations:Evaluation took 48.99s seconds\n",
      "DEBUG:pykeen.utilities.train_utils:\n",
      "current metric: 0.11815717504304026  ---- rank/hits@10: (0.08794261939146765, 0.18)\n",
      "INFO:pykeen.utilities.train_utils:Epoch 830 / 1000 (9.2s):  0.112 ---- 0.069 ---- 0.12 ---- 761\n",
      "INFO:pykeen.utilities.train_utils:Epoch 831 / 1000 (9.2s):  0.112 ---- 0.069 ---- 0.12 ---- 762\n",
      "DEBUG:pykeen.utilities.evaluation_utils.metrics_computations:Evaluation took 48.97s seconds\n",
      "DEBUG:pykeen.utilities.train_utils:\n",
      "current metric: 0.11725369192892103  ---- rank/hits@10: (0.08754091908405646, 0.1775)\n",
      "INFO:pykeen.utilities.train_utils:Epoch 832 / 1000 (9.2s):  0.112 ---- 0.069 ---- 0.12 ---- 763\n",
      "INFO:pykeen.utilities.train_utils:Epoch 833 / 1000 (9.2s):  0.112 ---- 0.069 ---- 0.12 ---- 764\n",
      "DEBUG:pykeen.utilities.evaluation_utils.metrics_computations:Evaluation took 48.92s seconds\n",
      "DEBUG:pykeen.utilities.train_utils:\n",
      "current metric: 0.11789374449076045  ---- rank/hits@10: (0.08765107685343153, 0.18)\n",
      "INFO:pykeen.utilities.train_utils:Epoch 834 / 1000 (9.1s):  0.112 ---- 0.069 ---- 0.12 ---- 765\n",
      "DEBUG:pykeen.utilities.evaluation_utils.metrics_computations:Evaluation took 48.95s seconds\n",
      "DEBUG:pykeen.utilities.train_utils:\n",
      "current metric: 0.11783228934880152  ---- rank/hits@10: (0.08758315477216289, 0.18)\n",
      "INFO:pykeen.utilities.train_utils:Epoch 835 / 1000 (9.2s):  0.112 ---- 0.069 ---- 0.12 ---- 766\n",
      "INFO:pykeen.utilities.train_utils:Epoch 836 / 1000 (9.2s):  0.113 ---- 0.069 ---- 0.12 ---- 767\n",
      "INFO:pykeen.utilities.train_utils:Epoch 837 / 1000 (9.2s):  0.112 ---- 0.069 ---- 0.12 ---- 768\n",
      "DEBUG:pykeen.utilities.evaluation_utils.metrics_computations:Evaluation took 48.92s seconds\n"
     ]
    },
    {
     "name": "stderr",
     "output_type": "stream",
     "text": [
      "DEBUG:pykeen.utilities.train_utils:\n",
      "current metric: 0.11824176200449815  ---- rank/hits@10: (0.08745046058488339, 0.1825)\n",
      "INFO:pykeen.utilities.train_utils:Epoch 838 / 1000 (9.2s):  0.113 ---- 0.069 ---- 0.12 ---- 769\n",
      "INFO:pykeen.utilities.train_utils:Epoch 839 / 1000 (9.1s):  0.112 ---- 0.069 ---- 0.12 ---- 770\n",
      "DEBUG:pykeen.utilities.evaluation_utils.metrics_computations:Evaluation took 48.93s seconds\n",
      "DEBUG:pykeen.utilities.train_utils:\n",
      "current metric: 0.11953658762906869  ---- rank/hits@10: (0.08829340981199647, 0.185)\n",
      "INFO:pykeen.utilities.train_utils:Epoch 840 / 1000 (9.2s):  0.112 ---- 0.069 ---- 0.12 ---- 771\n",
      "INFO:pykeen.utilities.train_utils:Epoch 841 / 1000 (9.2s):  0.112 ---- 0.069 ---- 0.12 ---- 772\n",
      "INFO:pykeen.utilities.train_utils:Epoch 842 / 1000 (9.1s):  0.112 ---- 0.069 ---- 0.12 ---- 773\n",
      "INFO:pykeen.utilities.train_utils:Epoch 843 / 1000 (9.2s):  0.113 ---- 0.069 ---- 0.12 ---- 774\n",
      "INFO:pykeen.utilities.train_utils:Epoch 844 / 1000 (9.2s):  0.113 ---- 0.069 ---- 0.12 ---- 775\n",
      "DEBUG:pykeen.utilities.evaluation_utils.metrics_computations:Evaluation took 48.96s seconds\n",
      "DEBUG:pykeen.utilities.train_utils:\n",
      "current metric: 0.11840877980637525  ---- rank/hits@10: (0.08763329974885363, 0.1825)\n",
      "INFO:pykeen.utilities.train_utils:Epoch 845 / 1000 (9.2s):  0.112 ---- 0.069 ---- 0.12 ---- 776\n",
      "INFO:pykeen.utilities.train_utils:Epoch 846 / 1000 (9.2s):  0.112 ---- 0.069 ---- 0.12 ---- 777\n",
      "INFO:pykeen.utilities.train_utils:Epoch 847 / 1000 (9.2s):  0.112 ---- 0.069 ---- 0.12 ---- 778\n",
      "INFO:pykeen.utilities.train_utils:Epoch 848 / 1000 (9.1s):  0.112 ---- 0.069 ---- 0.12 ---- 779\n",
      "INFO:pykeen.utilities.train_utils:Epoch 849 / 1000 (9.2s):  0.112 ---- 0.069 ---- 0.12 ---- 780\n",
      "DEBUG:pykeen.utilities.evaluation_utils.metrics_computations:Evaluation took 48.94s seconds\n",
      "DEBUG:pykeen.utilities.train_utils:\n",
      "current metric: 0.12010573277824627  ---- rank/hits@10: (0.0889158475342619, 0.185)\n",
      "INFO:pykeen.utilities.train_utils:Epoch 850 / 1000 (9.2s):  0.112 ---- 0.069 ---- 0.12 ---- 781\n",
      "INFO:pykeen.utilities.train_utils:Epoch 851 / 1000 (9.2s):  0.112 ---- 0.069 ---- 0.12 ---- 782\n",
      "INFO:pykeen.utilities.train_utils:Epoch 852 / 1000 (9.2s):  0.113 ---- 0.069 ---- 0.12 ---- 783\n",
      "INFO:pykeen.utilities.train_utils:Epoch 853 / 1000 (9.2s):  0.113 ---- 0.069 ---- 0.12 ---- 784\n",
      "INFO:pykeen.utilities.train_utils:Epoch 854 / 1000 (9.1s):  0.112 ---- 0.069 ---- 0.12 ---- 785\n",
      "DEBUG:pykeen.utilities.evaluation_utils.metrics_computations:Evaluation took 48.92s seconds\n",
      "DEBUG:pykeen.utilities.train_utils:\n",
      "current metric: 0.11907517022314301  ---- rank/hits@10: (0.0877908595608947, 0.185)\n",
      "INFO:pykeen.utilities.train_utils:Epoch 855 / 1000 (9.2s):  0.112 ---- 0.069 ---- 0.12 ---- 786\n",
      "INFO:pykeen.utilities.train_utils:Epoch 856 / 1000 (9.3s):  0.112 ---- 0.069 ---- 0.12 ---- 787\n",
      "INFO:pykeen.utilities.train_utils:Epoch 857 / 1000 (9.1s):  0.112 ---- 0.069 ---- 0.12 ---- 788\n",
      "INFO:pykeen.utilities.train_utils:Epoch 858 / 1000 (9.1s):  0.112 ---- 0.069 ---- 0.12 ---- 789\n",
      "INFO:pykeen.utilities.train_utils:Epoch 859 / 1000 (9.2s):  0.112 ---- 0.069 ---- 0.12 ---- 790\n",
      "DEBUG:pykeen.utilities.evaluation_utils.metrics_computations:Evaluation took 48.92s seconds\n",
      "DEBUG:pykeen.utilities.train_utils:\n",
      "current metric: 0.11692744431948314  ---- rank/hits@10: (0.08658706828742144, 0.18)\n",
      "INFO:pykeen.utilities.train_utils:Epoch 860 / 1000 (9.2s):  0.112 ---- 0.069 ---- 0.12 ---- 791\n",
      "INFO:pykeen.utilities.train_utils:Epoch 861 / 1000 (9.2s):  0.112 ---- 0.069 ---- 0.12 ---- 792\n",
      "INFO:pykeen.utilities.train_utils:Epoch 862 / 1000 (9.1s):  0.112 ---- 0.069 ---- 0.12 ---- 793\n",
      "INFO:pykeen.utilities.train_utils:Epoch 863 / 1000 (9.1s):  0.112 ---- 0.069 ---- 0.12 ---- 794\n",
      "INFO:pykeen.utilities.train_utils:Epoch 864 / 1000 (9.2s):  0.112 ---- 0.069 ---- 0.12 ---- 795\n",
      "DEBUG:pykeen.utilities.evaluation_utils.metrics_computations:Evaluation took 48.92s seconds\n",
      "DEBUG:pykeen.utilities.train_utils:\n",
      "current metric: 0.11743887806303589  ---- rank/hits@10: (0.08714916010670493, 0.18)\n",
      "INFO:pykeen.utilities.train_utils:Epoch 865 / 1000 (9.2s):  0.112 ---- 0.069 ---- 0.12 ---- 796\n",
      "INFO:pykeen.utilities.train_utils:Epoch 866 / 1000 (9.1s):  0.112 ---- 0.070 ---- 0.12 ---- 797\n",
      "INFO:pykeen.utilities.train_utils:Epoch 867 / 1000 (9.1s):  0.112 ---- 0.069 ---- 0.12 ---- 798\n",
      "INFO:pykeen.utilities.train_utils:Epoch 868 / 1000 (9.1s):  0.112 ---- 0.069 ---- 0.12 ---- 799\n",
      "INFO:pykeen.utilities.train_utils:Epoch 869 / 1000 (9.2s):  0.112 ---- 0.070 ---- 0.12 ---- 800\n",
      "DEBUG:pykeen.utilities.evaluation_utils.metrics_computations:Evaluation took 48.93s seconds\n",
      "DEBUG:pykeen.utilities.train_utils:\n",
      "current metric: 0.118591433947399  ---- rank/hits@10: (0.08783354021377726, 0.1825)\n",
      "INFO:pykeen.utilities.train_utils:Epoch 870 / 1000 (9.2s):  0.112 ---- 0.069 ---- 0.12 ---- 801\n",
      "INFO:pykeen.utilities.train_utils:Epoch 871 / 1000 (9.3s):  0.112 ---- 0.069 ---- 0.12 ---- 802\n",
      "INFO:pykeen.utilities.train_utils:Epoch 872 / 1000 (9.1s):  0.112 ---- 0.069 ---- 0.12 ---- 803\n",
      "INFO:pykeen.utilities.train_utils:Epoch 873 / 1000 (9.1s):  0.112 ---- 0.069 ---- 0.12 ---- 804\n",
      "INFO:pykeen.utilities.train_utils:Epoch 874 / 1000 (9.2s):  0.112 ---- 0.069 ---- 0.12 ---- 805\n",
      "DEBUG:pykeen.utilities.evaluation_utils.metrics_computations:Evaluation took 48.91s seconds\n",
      "DEBUG:pykeen.utilities.train_utils:\n",
      "current metric: 0.11861819559485208  ---- rank/hits@10: (0.08729496646336526, 0.185)\n",
      "INFO:pykeen.utilities.train_utils:Epoch 875 / 1000 (9.2s):  0.112 ---- 0.069 ---- 0.12 ---- 806\n",
      "INFO:pykeen.utilities.train_utils:Epoch 876 / 1000 (9.2s):  0.112 ---- 0.069 ---- 0.12 ---- 807\n",
      "INFO:pykeen.utilities.train_utils:Epoch 877 / 1000 (9.2s):  0.112 ---- 0.069 ---- 0.12 ---- 808\n",
      "INFO:pykeen.utilities.train_utils:Epoch 878 / 1000 (9.2s):  0.112 ---- 0.069 ---- 0.12 ---- 809\n",
      "INFO:pykeen.utilities.train_utils:Epoch 879 / 1000 (9.1s):  0.112 ---- 0.069 ---- 0.12 ---- 810\n",
      "DEBUG:pykeen.utilities.evaluation_utils.metrics_computations:Evaluation took 48.97s seconds\n",
      "DEBUG:pykeen.utilities.train_utils:\n",
      "current metric: 0.11939021297033302  ---- rank/hits@10: (0.0875774953379985, 0.1875)\n",
      "INFO:pykeen.utilities.train_utils:Epoch 880 / 1000 (9.2s):  0.112 ---- 0.069 ---- 0.12 ---- 811\n",
      "INFO:pykeen.utilities.train_utils:Epoch 881 / 1000 (9.2s):  0.113 ---- 0.069 ---- 0.12 ---- 812\n",
      "INFO:pykeen.utilities.train_utils:Epoch 882 / 1000 (9.2s):  0.112 ---- 0.069 ---- 0.12 ---- 813\n",
      "INFO:pykeen.utilities.train_utils:Epoch 883 / 1000 (9.1s):  0.112 ---- 0.069 ---- 0.12 ---- 814\n",
      "INFO:pykeen.utilities.train_utils:Epoch 884 / 1000 (9.2s):  0.112 ---- 0.069 ---- 0.12 ---- 815\n",
      "DEBUG:pykeen.utilities.evaluation_utils.metrics_computations:Evaluation took 48.91s seconds\n",
      "DEBUG:pykeen.utilities.train_utils:\n",
      "current metric: 0.11955014280224326  ---- rank/hits@10: (0.08830820135366042, 0.185)\n",
      "INFO:pykeen.utilities.train_utils:Epoch 885 / 1000 (9.2s):  0.112 ---- 0.069 ---- 0.12 ---- 816\n",
      "INFO:pykeen.utilities.train_utils:Epoch 886 / 1000 (9.2s):  0.113 ---- 0.069 ---- 0.12 ---- 817\n",
      "INFO:pykeen.utilities.train_utils:Epoch 887 / 1000 (9.1s):  0.112 ---- 0.069 ---- 0.12 ---- 818\n",
      "INFO:pykeen.utilities.train_utils:Epoch 888 / 1000 (9.1s):  0.112 ---- 0.069 ---- 0.12 ---- 819\n",
      "INFO:pykeen.utilities.train_utils:Epoch 889 / 1000 (9.2s):  0.112 ---- 0.069 ---- 0.12 ---- 820\n",
      "DEBUG:pykeen.utilities.evaluation_utils.metrics_computations:Evaluation took 48.92s seconds\n",
      "DEBUG:pykeen.utilities.train_utils:\n",
      "current metric: 0.11838884006551108  ---- rank/hits@10: (0.08819953191553749, 0.18)\n",
      "INFO:pykeen.utilities.train_utils:Epoch 890 / 1000 (9.2s):  0.112 ---- 0.069 ---- 0.12 ---- 821\n",
      "INFO:pykeen.utilities.train_utils:Epoch 891 / 1000 (9.2s):  0.112 ---- 0.069 ---- 0.12 ---- 822\n",
      "INFO:pykeen.utilities.train_utils:Epoch 892 / 1000 (9.2s):  0.112 ---- 0.069 ---- 0.12 ---- 823\n",
      "INFO:pykeen.utilities.train_utils:Epoch 893 / 1000 (9.2s):  0.112 ---- 0.069 ---- 0.12 ---- 824\n",
      "INFO:pykeen.utilities.train_utils:Epoch 894 / 1000 (9.2s):  0.112 ---- 0.069 ---- 0.12 ---- 825\n",
      "DEBUG:pykeen.utilities.evaluation_utils.metrics_computations:Evaluation took 48.94s seconds\n",
      "DEBUG:pykeen.utilities.train_utils:\n",
      "current metric: 0.11786552413289436  ---- rank/hits@10: (0.08703948762624393, 0.1825)\n",
      "INFO:pykeen.utilities.train_utils:Epoch 895 / 1000 (9.1s):  0.112 ---- 0.069 ---- 0.12 ---- 826\n"
     ]
    },
    {
     "name": "stderr",
     "output_type": "stream",
     "text": [
      "INFO:pykeen.utilities.train_utils:Epoch 896 / 1000 (9.2s):  0.112 ---- 0.069 ---- 0.12 ---- 827\n",
      "INFO:pykeen.utilities.train_utils:Epoch 897 / 1000 (9.2s):  0.112 ---- 0.069 ---- 0.12 ---- 828\n",
      "INFO:pykeen.utilities.train_utils:Epoch 898 / 1000 (9.2s):  0.111 ---- 0.069 ---- 0.12 ---- 829\n",
      "INFO:pykeen.utilities.train_utils:Epoch 899 / 1000 (9.1s):  0.112 ---- 0.069 ---- 0.12 ---- 830\n",
      "DEBUG:pykeen.utilities.evaluation_utils.metrics_computations:Evaluation took 48.91s seconds\n",
      "DEBUG:pykeen.utilities.train_utils:\n",
      "current metric: 0.1185090761042457  ---- rank/hits@10: (0.08774321604706099, 0.1825)\n",
      "INFO:pykeen.utilities.train_utils:Epoch 900 / 1000 (9.2s):  0.112 ---- 0.069 ---- 0.12 ---- 831\n",
      "INFO:pykeen.utilities.train_utils:Epoch 901 / 1000 (9.2s):  0.112 ---- 0.069 ---- 0.12 ---- 832\n",
      "INFO:pykeen.utilities.train_utils:Epoch 902 / 1000 (9.2s):  0.112 ---- 0.069 ---- 0.12 ---- 833\n",
      "INFO:pykeen.utilities.train_utils:Epoch 903 / 1000 (9.1s):  0.112 ---- 0.069 ---- 0.12 ---- 834\n",
      "INFO:pykeen.utilities.train_utils:Epoch 904 / 1000 (9.2s):  0.111 ---- 0.069 ---- 0.12 ---- 835\n",
      "DEBUG:pykeen.utilities.evaluation_utils.metrics_computations:Evaluation took 48.92s seconds\n",
      "DEBUG:pykeen.utilities.train_utils:\n",
      "current metric: 0.1177117363995728  ---- rank/hits@10: (0.0874500160968001, 0.18)\n",
      "INFO:pykeen.utilities.train_utils:Epoch 905 / 1000 (9.1s):  0.112 ---- 0.069 ---- 0.12 ---- 836\n",
      "INFO:pykeen.utilities.train_utils:Epoch 906 / 1000 (9.2s):  0.112 ---- 0.069 ---- 0.12 ---- 837\n",
      "DEBUG:pykeen.utilities.evaluation_utils.metrics_computations:Evaluation took 48.91s seconds\n",
      "DEBUG:pykeen.utilities.train_utils:\n",
      "current metric: 0.11672387763215834  ---- rank/hits@10: (0.08695159243746499, 0.1775)\n",
      "INFO:pykeen.utilities.train_utils:Epoch 907 / 1000 (9.1s):  0.112 ---- 0.068 ---- 0.12 ---- 838\n",
      "INFO:pykeen.utilities.train_utils:Epoch 908 / 1000 (9.2s):  0.112 ---- 0.069 ---- 0.12 ---- 839\n",
      "INFO:pykeen.utilities.train_utils:Epoch 909 / 1000 (9.2s):  0.112 ---- 0.069 ---- 0.12 ---- 840\n",
      "DEBUG:pykeen.utilities.evaluation_utils.metrics_computations:Evaluation took 48.95s seconds\n",
      "DEBUG:pykeen.utilities.train_utils:\n",
      "current metric: 0.11994702508201976  ---- rank/hits@10: (0.0905778663702839, 0.1775)\n",
      "INFO:pykeen.utilities.train_utils:Epoch 910 / 1000 (9.2s):  0.112 ---- 0.069 ---- 0.12 ---- 841\n",
      "INFO:pykeen.utilities.train_utils:Epoch 911 / 1000 (9.2s):  0.112 ---- 0.069 ---- 0.12 ---- 842\n",
      "INFO:pykeen.utilities.train_utils:Epoch 912 / 1000 (9.2s):  0.112 ---- 0.069 ---- 0.12 ---- 843\n",
      "INFO:pykeen.utilities.train_utils:Epoch 913 / 1000 (9.2s):  0.112 ---- 0.069 ---- 0.12 ---- 844\n",
      "INFO:pykeen.utilities.train_utils:Epoch 914 / 1000 (9.3s):  0.112 ---- 0.069 ---- 0.12 ---- 845\n",
      "DEBUG:pykeen.utilities.evaluation_utils.metrics_computations:Evaluation took 48.89s seconds\n",
      "DEBUG:pykeen.utilities.train_utils:\n",
      "current metric: 0.11787861835638393  ---- rank/hits@10: (0.08763435579341185, 0.18)\n",
      "INFO:pykeen.utilities.train_utils:Epoch 915 / 1000 (9.2s):  0.112 ---- 0.069 ---- 0.12 ---- 846\n",
      "INFO:pykeen.utilities.train_utils:Epoch 916 / 1000 (9.2s):  0.112 ---- 0.069 ---- 0.12 ---- 847\n",
      "INFO:pykeen.utilities.train_utils:Epoch 917 / 1000 (9.2s):  0.112 ---- 0.069 ---- 0.12 ---- 848\n",
      "INFO:pykeen.utilities.train_utils:Epoch 918 / 1000 (9.2s):  0.112 ---- 0.069 ---- 0.12 ---- 849\n",
      "INFO:pykeen.utilities.train_utils:Epoch 919 / 1000 (9.2s):  0.112 ---- 0.069 ---- 0.12 ---- 850\n",
      "DEBUG:pykeen.utilities.evaluation_utils.metrics_computations:Evaluation took 48.95s seconds\n",
      "DEBUG:pykeen.utilities.train_utils:\n",
      "current metric: 0.11789126070429738  ---- rank/hits@10: (0.08825359553245303, 0.1775)\n",
      "INFO:pykeen.utilities.train_utils:Epoch 920 / 1000 (9.2s):  0.112 ---- 0.069 ---- 0.12 ---- 851\n",
      "INFO:pykeen.utilities.train_utils:Epoch 921 / 1000 (9.2s):  0.112 ---- 0.069 ---- 0.12 ---- 852\n",
      "INFO:pykeen.utilities.train_utils:Epoch 922 / 1000 (9.2s):  0.112 ---- 0.069 ---- 0.12 ---- 853\n",
      "INFO:pykeen.utilities.train_utils:Epoch 923 / 1000 (9.2s):  0.112 ---- 0.069 ---- 0.12 ---- 854\n",
      "INFO:pykeen.utilities.train_utils:Epoch 924 / 1000 (9.2s):  0.112 ---- 0.069 ---- 0.12 ---- 855\n",
      "DEBUG:pykeen.utilities.evaluation_utils.metrics_computations:Evaluation took 48.94s seconds\n",
      "DEBUG:pykeen.utilities.train_utils:\n",
      "current metric: 0.11909764902940456  ---- rank/hits@10: (0.08898865759890193, 0.18)\n",
      "INFO:pykeen.utilities.train_utils:Epoch 925 / 1000 (9.3s):  0.112 ---- 0.069 ---- 0.12 ---- 856\n",
      "INFO:pykeen.utilities.train_utils:Epoch 926 / 1000 (9.2s):  0.112 ---- 0.069 ---- 0.12 ---- 857\n",
      "INFO:pykeen.utilities.train_utils:Epoch 927 / 1000 (9.2s):  0.112 ---- 0.069 ---- 0.12 ---- 858\n",
      "INFO:pykeen.utilities.train_utils:Epoch 928 / 1000 (9.1s):  0.112 ---- 0.069 ---- 0.12 ---- 859\n",
      "INFO:pykeen.utilities.train_utils:Epoch 929 / 1000 (9.2s):  0.112 ---- 0.069 ---- 0.12 ---- 860\n",
      "DEBUG:pykeen.utilities.evaluation_utils.metrics_computations:Evaluation took 48.91s seconds\n",
      "DEBUG:pykeen.utilities.train_utils:\n",
      "current metric: 0.11740451363605035  ---- rank/hits@10: (0.08711131757325827, 0.18)\n",
      "INFO:pykeen.utilities.train_utils:Epoch 930 / 1000 (9.2s):  0.112 ---- 0.069 ---- 0.12 ---- 861\n",
      "INFO:pykeen.utilities.train_utils:Epoch 931 / 1000 (9.2s):  0.112 ---- 0.069 ---- 0.12 ---- 862\n",
      "INFO:pykeen.utilities.train_utils:Epoch 932 / 1000 (9.1s):  0.112 ---- 0.069 ---- 0.12 ---- 863\n",
      "INFO:pykeen.utilities.train_utils:Epoch 933 / 1000 (9.2s):  0.112 ---- 0.069 ---- 0.12 ---- 864\n",
      "INFO:pykeen.utilities.train_utils:Epoch 934 / 1000 (9.2s):  0.112 ---- 0.069 ---- 0.12 ---- 865\n",
      "DEBUG:pykeen.utilities.evaluation_utils.metrics_computations:Evaluation took 48.96s seconds\n",
      "DEBUG:pykeen.utilities.train_utils:\n",
      "current metric: 0.11775543924295577  ---- rank/hits@10: (0.08749826620458258, 0.18)\n",
      "INFO:pykeen.utilities.train_utils:Epoch 935 / 1000 (9.2s):  0.112 ---- 0.069 ---- 0.12 ---- 866\n",
      "INFO:pykeen.utilities.train_utils:Epoch 936 / 1000 (9.2s):  0.112 ---- 0.069 ---- 0.12 ---- 867\n",
      "INFO:pykeen.utilities.train_utils:Epoch 937 / 1000 (9.1s):  0.112 ---- 0.069 ---- 0.12 ---- 868\n",
      "INFO:pykeen.utilities.train_utils:Epoch 938 / 1000 (9.1s):  0.112 ---- 0.069 ---- 0.12 ---- 869\n",
      "INFO:pykeen.utilities.train_utils:Epoch 939 / 1000 (9.2s):  0.112 ---- 0.069 ---- 0.12 ---- 870\n",
      "DEBUG:pykeen.utilities.evaluation_utils.metrics_computations:Evaluation took 48.94s seconds\n",
      "DEBUG:pykeen.utilities.train_utils:\n",
      "current metric: 0.11816116437528768  ---- rank/hits@10: (0.08736231656543705, 0.1825)\n",
      "INFO:pykeen.utilities.train_utils:Epoch 940 / 1000 (9.2s):  0.112 ---- 0.069 ---- 0.12 ---- 871\n",
      "INFO:pykeen.utilities.train_utils:Epoch 941 / 1000 (9.2s):  0.112 ---- 0.069 ---- 0.12 ---- 872\n",
      "INFO:pykeen.utilities.train_utils:Epoch 942 / 1000 (9.1s):  0.112 ---- 0.069 ---- 0.12 ---- 873\n",
      "INFO:pykeen.utilities.train_utils:Epoch 943 / 1000 (9.2s):  0.112 ---- 0.069 ---- 0.12 ---- 874\n",
      "INFO:pykeen.utilities.train_utils:Epoch 944 / 1000 (9.2s):  0.112 ---- 0.069 ---- 0.12 ---- 875\n",
      "DEBUG:pykeen.utilities.evaluation_utils.metrics_computations:Evaluation took 48.88s seconds\n",
      "DEBUG:pykeen.utilities.train_utils:\n",
      "current metric: 0.11773252789750153  ---- rank/hits@10: (0.08689451207875605, 0.1825)\n",
      "INFO:pykeen.utilities.train_utils:Epoch 945 / 1000 (9.2s):  0.112 ---- 0.069 ---- 0.12 ---- 876\n",
      "INFO:pykeen.utilities.train_utils:Epoch 946 / 1000 (9.2s):  0.112 ---- 0.069 ---- 0.12 ---- 877\n",
      "INFO:pykeen.utilities.train_utils:Epoch 947 / 1000 (9.2s):  0.112 ---- 0.069 ---- 0.12 ---- 878\n",
      "INFO:pykeen.utilities.train_utils:Epoch 948 / 1000 (9.1s):  0.112 ---- 0.069 ---- 0.12 ---- 879\n",
      "INFO:pykeen.utilities.train_utils:Epoch 949 / 1000 (9.2s):  0.113 ---- 0.069 ---- 0.12 ---- 880\n",
      "DEBUG:pykeen.utilities.evaluation_utils.metrics_computations:Evaluation took 48.97s seconds\n",
      "DEBUG:pykeen.utilities.train_utils:\n",
      "current metric: 0.11848549984925479  ---- rank/hits@10: (0.0883068716766655, 0.18)\n",
      "INFO:pykeen.utilities.train_utils:Epoch 950 / 1000 (9.3s):  0.112 ---- 0.069 ---- 0.12 ---- 881\n",
      "INFO:pykeen.utilities.train_utils:Epoch 951 / 1000 (9.2s):  0.112 ---- 0.069 ---- 0.12 ---- 882\n",
      "INFO:pykeen.utilities.train_utils:Epoch 952 / 1000 (9.2s):  0.112 ---- 0.069 ---- 0.12 ---- 883\n",
      "INFO:pykeen.utilities.train_utils:Epoch 953 / 1000 (9.2s):  0.112 ---- 0.069 ---- 0.12 ---- 884\n",
      "INFO:pykeen.utilities.train_utils:Epoch 954 / 1000 (9.2s):  0.111 ---- 0.069 ---- 0.12 ---- 885\n"
     ]
    },
    {
     "name": "stderr",
     "output_type": "stream",
     "text": [
      "DEBUG:pykeen.utilities.evaluation_utils.metrics_computations:Evaluation took 48.92s seconds\n",
      "DEBUG:pykeen.utilities.train_utils:\n",
      "current metric: 0.119222007088078  ---- rank/hits@10: (0.08912758602362889, 0.18)\n",
      "INFO:pykeen.utilities.train_utils:Epoch 955 / 1000 (9.2s):  0.112 ---- 0.068 ---- 0.12 ---- 886\n",
      "INFO:pykeen.utilities.train_utils:Epoch 956 / 1000 (9.3s):  0.112 ---- 0.069 ---- 0.12 ---- 887\n",
      "INFO:pykeen.utilities.train_utils:Epoch 957 / 1000 (9.2s):  0.112 ---- 0.069 ---- 0.12 ---- 888\n",
      "INFO:pykeen.utilities.train_utils:Epoch 958 / 1000 (9.1s):  0.112 ---- 0.069 ---- 0.12 ---- 889\n",
      "INFO:pykeen.utilities.train_utils:Epoch 959 / 1000 (9.2s):  0.112 ---- 0.069 ---- 0.12 ---- 890\n",
      "DEBUG:pykeen.utilities.evaluation_utils.metrics_computations:Evaluation took 48.92s seconds\n",
      "DEBUG:pykeen.utilities.train_utils:\n",
      "current metric: 0.11726231393331502  ---- rank/hits@10: (0.08695483939893091, 0.18)\n",
      "INFO:pykeen.utilities.train_utils:Epoch 960 / 1000 (9.2s):  0.112 ---- 0.069 ---- 0.12 ---- 891\n",
      "INFO:pykeen.utilities.train_utils:Epoch 961 / 1000 (9.1s):  0.112 ---- 0.069 ---- 0.12 ---- 892\n",
      "INFO:pykeen.utilities.train_utils:Epoch 962 / 1000 (9.2s):  0.112 ---- 0.069 ---- 0.12 ---- 893\n",
      "INFO:pykeen.utilities.train_utils:Epoch 963 / 1000 (9.2s):  0.112 ---- 0.069 ---- 0.12 ---- 894\n",
      "INFO:pykeen.utilities.train_utils:Epoch 964 / 1000 (9.2s):  0.112 ---- 0.069 ---- 0.12 ---- 895\n",
      "DEBUG:pykeen.utilities.evaluation_utils.metrics_computations:Evaluation took 48.94s seconds\n",
      "DEBUG:pykeen.utilities.train_utils:\n",
      "current metric: 0.11683555986249834  ---- rank/hits@10: (0.08648633313060777, 0.18)\n",
      "INFO:pykeen.utilities.train_utils:Epoch 965 / 1000 (9.2s):  0.111 ---- 0.069 ---- 0.12 ---- 896\n",
      "INFO:pykeen.utilities.train_utils:Epoch 966 / 1000 (9.2s):  0.112 ---- 0.069 ---- 0.12 ---- 897\n",
      "INFO:pykeen.utilities.train_utils:Epoch 967 / 1000 (9.2s):  0.112 ---- 0.069 ---- 0.12 ---- 898\n",
      "INFO:pykeen.utilities.train_utils:Epoch 968 / 1000 (9.2s):  0.112 ---- 0.069 ---- 0.12 ---- 899\n",
      "INFO:pykeen.utilities.train_utils:Epoch 969 / 1000 (9.2s):  0.112 ---- 0.069 ---- 0.12 ---- 900\n",
      "DEBUG:pykeen.utilities.evaluation_utils.metrics_computations:Evaluation took 48.97s seconds\n",
      "DEBUG:pykeen.utilities.train_utils:\n",
      "current metric: 0.11695681596039474  ---- rank/hits@10: (0.08661928519435656, 0.18)\n",
      "INFO:pykeen.utilities.train_utils:Epoch 970 / 1000 (9.1s):  0.112 ---- 0.069 ---- 0.12 ---- 901\n",
      "INFO:pykeen.utilities.train_utils:Epoch 971 / 1000 (9.2s):  0.111 ---- 0.069 ---- 0.12 ---- 902\n",
      "INFO:pykeen.utilities.train_utils:Epoch 972 / 1000 (9.1s):  0.112 ---- 0.069 ---- 0.12 ---- 903\n",
      "INFO:pykeen.utilities.train_utils:Epoch 973 / 1000 (9.1s):  0.112 ---- 0.069 ---- 0.12 ---- 904\n",
      "INFO:pykeen.utilities.train_utils:Epoch 974 / 1000 (9.2s):  0.111 ---- 0.069 ---- 0.12 ---- 905\n",
      "DEBUG:pykeen.utilities.evaluation_utils.metrics_computations:Evaluation took 48.93s seconds\n",
      "DEBUG:pykeen.utilities.train_utils:\n",
      "current metric: 0.11663989376072255  ---- rank/hits@10: (0.08627207310752524, 0.18)\n",
      "INFO:pykeen.utilities.train_utils:Epoch 975 / 1000 (9.1s):  0.112 ---- 0.069 ---- 0.12 ---- 906\n",
      "INFO:pykeen.utilities.train_utils:Epoch 976 / 1000 (9.2s):  0.112 ---- 0.069 ---- 0.12 ---- 907\n",
      "INFO:pykeen.utilities.train_utils:Epoch 977 / 1000 (9.2s):  0.112 ---- 0.069 ---- 0.12 ---- 908\n",
      "INFO:pykeen.utilities.train_utils:Epoch 978 / 1000 (9.2s):  0.111 ---- 0.069 ---- 0.12 ---- 909\n",
      "INFO:pykeen.utilities.train_utils:Epoch 979 / 1000 (9.2s):  0.113 ---- 0.069 ---- 0.12 ---- 910\n",
      "DEBUG:pykeen.utilities.evaluation_utils.metrics_computations:Evaluation took 48.94s seconds\n",
      "DEBUG:pykeen.utilities.train_utils:\n",
      "current metric: 0.11738882320702211  ---- rank/hits@10: (0.08652057032624666, 0.1825)\n",
      "INFO:pykeen.utilities.train_utils:Epoch 980 / 1000 (9.1s):  0.112 ---- 0.069 ---- 0.12 ---- 911\n",
      "INFO:pykeen.utilities.train_utils:Epoch 981 / 1000 (9.2s):  0.112 ---- 0.069 ---- 0.12 ---- 912\n",
      "INFO:pykeen.utilities.train_utils:Epoch 982 / 1000 (9.2s):  0.112 ---- 0.069 ---- 0.12 ---- 913\n",
      "INFO:pykeen.utilities.train_utils:Epoch 983 / 1000 (9.2s):  0.112 ---- 0.069 ---- 0.12 ---- 914\n",
      "INFO:pykeen.utilities.train_utils:Epoch 984 / 1000 (9.2s):  0.112 ---- 0.069 ---- 0.12 ---- 915\n",
      "DEBUG:pykeen.utilities.evaluation_utils.metrics_computations:Evaluation took 48.95s seconds\n",
      "DEBUG:pykeen.utilities.train_utils:\n",
      "current metric: 0.11705242327672154  ---- rank/hits@10: (0.0879346948423494, 0.175)\n",
      "INFO:pykeen.utilities.train_utils:Epoch 985 / 1000 (9.2s):  0.112 ---- 0.069 ---- 0.12 ---- 916\n",
      "INFO:pykeen.utilities.train_utils:Epoch 986 / 1000 (9.2s):  0.111 ---- 0.069 ---- 0.12 ---- 917\n",
      "INFO:pykeen.utilities.train_utils:Epoch 987 / 1000 (9.2s):  0.112 ---- 0.069 ---- 0.12 ---- 918\n",
      "INFO:pykeen.utilities.train_utils:Epoch 988 / 1000 (9.2s):  0.112 ---- 0.069 ---- 0.12 ---- 919\n",
      "INFO:pykeen.utilities.train_utils:Epoch 989 / 1000 (9.2s):  0.112 ---- 0.069 ---- 0.12 ---- 920\n",
      "DEBUG:pykeen.utilities.evaluation_utils.metrics_computations:Evaluation took 48.93s seconds\n",
      "DEBUG:pykeen.utilities.train_utils:\n",
      "current metric: 0.11773436684089264  ---- rank/hits@10: (0.08689651559720403, 0.1825)\n",
      "INFO:pykeen.utilities.train_utils:Epoch 990 / 1000 (9.2s):  0.112 ---- 0.069 ---- 0.12 ---- 921\n",
      "INFO:pykeen.utilities.train_utils:Epoch 991 / 1000 (9.2s):  0.111 ---- 0.069 ---- 0.12 ---- 922\n",
      "INFO:pykeen.utilities.train_utils:Epoch 992 / 1000 (9.2s):  0.112 ---- 0.069 ---- 0.12 ---- 923\n",
      "INFO:pykeen.utilities.train_utils:Epoch 993 / 1000 (9.2s):  0.112 ---- 0.069 ---- 0.12 ---- 924\n",
      "INFO:pykeen.utilities.train_utils:Epoch 994 / 1000 (9.2s):  0.112 ---- 0.069 ---- 0.12 ---- 925\n",
      "DEBUG:pykeen.utilities.evaluation_utils.metrics_computations:Evaluation took 48.93s seconds\n",
      "DEBUG:pykeen.utilities.train_utils:\n",
      "current metric: 0.1175498367212622  ---- rank/hits@10: (0.08787147471248921, 0.1775)\n",
      "INFO:pykeen.utilities.train_utils:Epoch 995 / 1000 (9.2s):  0.112 ---- 0.069 ---- 0.12 ---- 926\n",
      "INFO:pykeen.utilities.train_utils:Epoch 996 / 1000 (9.2s):  0.112 ---- 0.069 ---- 0.12 ---- 927\n",
      "INFO:pykeen.utilities.train_utils:Epoch 997 / 1000 (9.1s):  0.112 ---- 0.069 ---- 0.12 ---- 928\n",
      "INFO:pykeen.utilities.train_utils:Epoch 998 / 1000 (9.2s):  0.112 ---- 0.069 ---- 0.12 ---- 929\n",
      "INFO:pykeen.utilities.train_utils:Epoch 999 / 1000 (9.2s):  0.112 ---- 0.069 ---- 0.12 ---- 930\n",
      "DEBUG:pykeen.utilities.train_utils:training took 20955.88s seconds\n",
      "INFO:pykeen.utilities.pipeline:-------------Start Evaluation-------------\n",
      "DEBUG:pykeen.utilities.evaluation_utils.metrics_computations:Evaluation took 0.00s seconds\n"
     ]
    }
   ],
   "source": [
    "# my\n",
    "results = pykeen.run(\n",
    "    config=config,\n",
    "    output_directory=output_directory,\n",
    ")"
   ]
  },
  {
   "cell_type": "markdown",
   "metadata": {},
   "source": [
    "Check result entries:"
   ]
  },
  {
   "cell_type": "code",
   "execution_count": 15,
   "metadata": {
    "ExecuteTime": {
     "end_time": "2019-07-26T23:30:36.958245Z",
     "start_time": "2019-07-26T15:44:09.146Z"
    }
   },
   "outputs": [
    {
     "data": {
      "text/plain": [
       "odict_keys(['trained_model', 'losses', 'validation_losses', 'metric_per_epoch', 'entity_to_embedding', 'relation_to_embedding', 'relation_to_radius', 'eval_summary', 'entity_to_id', 'relation_to_id', 'final_configuration', 'search_summary'])"
      ]
     },
     "execution_count": 15,
     "metadata": {},
     "output_type": "execute_result"
    }
   ],
   "source": [
    "results.results.keys()"
   ]
  },
  {
   "cell_type": "markdown",
   "metadata": {},
   "source": [
    "Visualize loss values:"
   ]
  },
  {
   "cell_type": "code",
   "execution_count": 16,
   "metadata": {
    "ExecuteTime": {
     "end_time": "2019-07-26T23:30:36.959208Z",
     "start_time": "2019-07-26T15:44:10.392Z"
    }
   },
   "outputs": [
    {
     "data": {
      "image/png": "[encoded data removed]",
      "text/plain": [
       "<matplotlib.figure.Figure at 0x7f440daa91d0>"
      ]
     },
     "metadata": {
      "needs_background": "light"
     },
     "output_type": "display_data"
    }
   ],
   "source": [
    "val_losses = results.results['validation_losses']\n",
    "epochs = np.arange(len(val_losses))\n",
    "#plt.title(r'Validation Loss Per Epoch')\n",
    "plt.xlabel('epoch')\n",
    "plt.ylabel('loss')\n",
    "plt.plot(epochs, val_losses)\n",
    "\n",
    "losses = results.results['losses']\n",
    "epochs = np.arange(len(losses))\n",
    "plt.title('Loss Per Epoch')\n",
    "plt.xlabel('epoch')\n",
    "plt.ylabel('loss')\n",
    "plt.plot(epochs, losses) #plt.subplot(122)\n",
    "\n",
    "plt.legend([\"val loss\", \"loss\"])\n",
    "plt.show()"
   ]
  },
  {
   "cell_type": "markdown",
   "metadata": {
    "ExecuteTime": {
     "end_time": "2019-06-25T23:14:06.537086Z",
     "start_time": "2019-06-25T22:53:24.669Z"
    }
   },
   "source": [
    "from sklearn.preprocessing import minmax_scale\n",
    "metric = minmax_scale(results.results['metric_per_epoch'], feature_range=(0,1))\n",
    "epochs = np.arange(len(metric)) * (len(losses) // len(metric))\n",
    "plt.xlabel('epoch')\n",
    "plt.ylabel('loss')\n",
    "plt.plot(epochs, metric)\n",
    "\n",
    "val_losses = - \n",
    "minmax_scale(results.results['validation_losses'], feature_range=(0,1))\n",
    "epochs = np.arange(len(val_losses))\n",
    "plt.title(r'Early stopping evaluation')\n",
    "plt.xlabel('epoch')\n",
    "plt.ylabel('loss')\n",
    "plt.plot(epochs, val_losses)\n",
    "\n",
    "plt.legend([\"metric\", \"val_loss\"])\n",
    "plt.show()"
   ]
  },
  {
   "cell_type": "code",
   "execution_count": 17,
   "metadata": {
    "ExecuteTime": {
     "end_time": "2019-07-26T15:40:51.480768Z",
     "start_time": "2019-07-26T15:40:51.465776Z"
    }
   },
   "outputs": [
    {
     "data": {
      "text/plain": [
       "{'mean_rank': None,\n",
       " 'hits@k': None,\n",
       " 'precision': None,\n",
       " 'recall': None,\n",
       " 'accuracy': None,\n",
       " 'f1_score': None}"
      ]
     },
     "execution_count": 17,
     "metadata": {},
     "output_type": "execute_result"
    }
   ],
   "source": [
    "results.results['eval_summary']"
   ]
  },
  {
   "cell_type": "markdown",
   "metadata": {},
   "source": [
    "## Load and evaluate"
   ]
  },
  {
   "cell_type": "code",
   "execution_count": 18,
   "metadata": {
    "ExecuteTime": {
     "end_time": "2019-07-26T23:30:36.999101Z",
     "start_time": "2019-07-26T15:44:14.289Z"
    }
   },
   "outputs": [],
   "source": [
    "import torch\n",
    "import json\n",
    "import os\n",
    "import pykeen.constants as pkc\n",
    "from pykeen.kge_models import get_kge_model\n",
    "from pykeen.utilities.pipeline import Pipeline"
   ]
  },
  {
   "cell_type": "code",
   "execution_count": 19,
   "metadata": {
    "ExecuteTime": {
     "end_time": "2019-07-26T23:30:37.002094Z",
     "start_time": "2019-07-26T15:44:14.499Z"
    },
    "scrolled": true
   },
   "outputs": [
    {
     "data": {
      "text/plain": [
       "['fb15k-237_regionellipse_20191030-1434_dim50_ellipse_rad0_regL0_lr001_loss-BPR_margin0.0_negfactor1_epochs1000_esmetric-custom_bs16384',\n",
       " 'fb15k-237_regionellipse_20191030-1444_dim50_ellipse_rad0_regL0_lr001_loss-BPR_margin0.0_negfactor1_epochs1000_esmetric-custom_bs256',\n",
       " 'fb15k-237_regionellipse_20191030-1453_dim50_ellipse_rad0_regL0_lr001_loss-BPR_margin0.0_negfactor1_epochs1000_esmetric-custom_bs14',\n",
       " 'test',\n",
       " 'fb15k-237_regionellipse_20191030-15 6_dim50_ellipse_rad0_regL0_lr001_loss-MRL_margin0.5_negfactor1_epochs1000_esmetric-custom_bs10',\n",
       " 'FB15k237_region_20191029-1121_dim50_triangle_rad1_regL0_lr0001_loss-MRL_margin0.5_negfactor1_epochs1000_esmetric-custom_bs16384',\n",
       " 'fb15k-237_regionsphere_20191030-1453_dim50_sphere_rad0_regL0_lr001_loss-BPR_margin0.0_negfactor1_epochs1000_esmetric-custom_bs14',\n",
       " 'fb15k-237_regionfull_20191030-14 7_dim50_full_rad0_regL0_lr001_loss-MRL_margin0.5_negfactor1_epochs1000_esmetric-custom_bs16384',\n",
       " 'fb15k-237_regionfull_20191030-1412_dim50_full_rad0_regL0_lr001_loss-MRL_margin0.3_negfactor1_epochs1000_esmetric-custom_bs16384',\n",
       " 'fb15k-237_regionellipse_20191030-1447_dim50_ellipse_rad0_regL0_lr001_loss-BPR_margin0.0_negfactor1_epochs1000_esmetric-custom_bs256',\n",
       " 'fb15k-237_region20191030-1431_dim50_triangle_rad1_regL0_lr0001_loss-MRL_margin0.5_negfactor1_epochs1000_esmetric-custom_bs14',\n",
       " 'fb15k-237_regionfull_20191030-1355_dim50_full_rad0_regL0_lr001_loss-MRL_margin0.3_negfactor1_epochs1000_esmetric-custom_bs16384',\n",
       " 'fb15k-237_regionsphere_20191030-1441_dim50_sphere_rad0_regL0_lr001_loss-BPR_margin0.0_negfactor1_epochs1000_esmetric-custom_bs1024',\n",
       " 'fb15k-237_regionfull_20191030-14 5_dim50_full_rad0_regL0_lr001_loss-MRL_margin0.3_negfactor1_epochs1000_esmetric-custom_bs16384',\n",
       " 'region_FB15k_20191023-1742_dim50_sphere_rad0_regL0_lr001_loss-BPR_margin0.5_negfactor1_epochs1000_esmetric-custom_bs8192',\n",
       " 'fb15k-237_regionsphere_20191030-15 6_dim50_sphere_rad0_regL0_lr001_loss-MRL_margin0.5_negfactor1_epochs1000_esmetric-custom_bs10',\n",
       " 'FB15k-237_region_20191028_1118_dim50_full_rad1_regL0_lr001_loss-MRL_margin0.5_negfactor1_epochs2000_esmetric-custom_vs8192',\n",
       " 'fb15k-237_regionsphere_20191030-1433_dim50_sphere_rad0_regL0_lr001_loss-BPR_margin0.0_negfactor1_epochs1000_esmetric-custom_bs16384',\n",
       " 'fb15k-237_regionsphere_20191030-1435_dim50_sphere_rad0_regL0_lr001_loss-BPR_margin0.0_negfactor1_epochs1000_esmetric-custom_bs1024',\n",
       " 'FB15k237_region_20191029-1115_dim50_triangle_rad1_regL0_lr001_loss-MRL_margin0.5_negfactor1_epochs1000_esmetric-custom_bs8192',\n",
       " 'fb15k-237_regionellipse_20191030-1447_dim50_ellipse_rad0_regL0_lr001_loss-BPR_margin0.0_negfactor1_epochs1000_esmetric-custom_bs1024',\n",
       " 'FB15k-237_UM_dim50_lr00001_margin1_epochs500_bs2048_esmetric-custom',\n",
       " 'fb15k-237_regionfull_20191030-1413_dim50_full_rad0_regL0_lr001_loss-MRL_margin0.7_negfactor1_epochs1000_esmetric-custom_bs16384',\n",
       " 'region_FB15k_20191023_dim50_sphere_rad0_regL0_lr001_loss-BPR_margin0.5_negfactor1_epochs1000_esmetric-custom_final',\n",
       " 'fb15k-237_regionellipse_20191030-1443_dim50_ellipse_rad0_regL0_lr001_loss-BPR_margin0.0_negfactor1_epochs1000_esmetric-custom_bs256',\n",
       " 'FB15k237_TransE_20191024-1716_dim50_loss-MRL_lr001_margin1_epochs1000_bs8192_esmetric-custom',\n",
       " 'fb15k-237_regiontriangle_20191030-1456_dim50_triangle_rad0_regL0_lr001_loss-BPR_margin0.0_negfactor1_epochs1000_esmetric-custom_bs14',\n",
       " 'region_FB15k_20191023_dim50_sphere_rad0_regL0_lr001_loss-BPR_margin0.5_negfactor1_epochs500_esmetric-custom_final',\n",
       " 'fb15k-237_regionellipse_20191030-1449_dim50_ellipse_rad0_regL0_lr001_loss-MRL_margin0.0_negfactor1_epochs1000_esmetric-custom_bs256',\n",
       " 'fb15k-237_regionsphere_20191030-1450_dim50_sphere_rad0_regL0_lr001_loss-MRL_margin0.0_negfactor1_epochs1000_esmetric-custom_bs256',\n",
       " 'region_FB15k_dim50_sphere_rad0_regL0_lr01_loss-MRL_margin0.5_negfactor1_epochs500_esmetric-custom_final',\n",
       " 'fb15k-237_regionfull_20191030-14 9_dim50_full_rad0_regL0_lr001_loss-MRL_margin0.5_negfactor1_epochs1000_esmetric-custom_bs16384',\n",
       " 'fb15k-237_regiontriangle_20191030-15 0_dim50_triangle_rad0_regL0_lr001_loss-MRL_margin0.5_negfactor1_epochs1000_esmetric-custom_bs10',\n",
       " 'fb15k-237_regionfull_20191030-1637_dim50_full_rad0.0_regL0_lr00001_loss-BPR_margin0.0_negfactor1_epochs1000_esmetric-custom_bs10',\n",
       " 'region_FB15k_20191023_dim50_sphere_rad0_regL0_lr001_loss-MRL_margin0.5_negfactor1_epochs1000_esmetric-custom',\n",
       " 'FB15k237_region_20191024-1716_dim50_sphere_rad0_regL0_lr001_loss-MRL_margin0.5_negfactor1_epochs1000_esmetric-custom_bs8192',\n",
       " 'fb15k-237_regionfull_20191030-14 5_dim50_full_rad0_regL0_lr001_loss-MRL_margin0.5_negfactor1_epochs1000_esmetric-custom_bs16384',\n",
       " '.directory',\n",
       " 'TransE_FB15k_20191023_dim50_lr001_margin1_epochs1000_bs8192_esmetric-custom_final',\n",
       " 'fb15k-237_regionellipse_20191030-1445_dim50_ellipse_rad0_regL0_lr001_loss-BPR_margin0.0_negfactor1_epochs1000_esmetric-custom_bs64',\n",
       " 'region_FB15k_20191024-11 5_dim50_sphere_rad0_regL0_lr001_loss-BPR_margin0.5_negfactor1_epochs1000_esmetric-custom_bs8192',\n",
       " 'FB15k_region_20191028-1547_dim50_full_rad1_regL0_lr0001_loss-MRL_margin0.5_negfactor1_epochs2000_esmetric-custom_bs8192',\n",
       " 'region_FB15k_20191023_dim50_sphere_rad0_regL0_lr001_loss-BPR_margin0.5_negfactor1_epochs1000_esmetric-custom',\n",
       " 'region_FB15k_dim50_sphere_rad0_regL0_lr01_loss-MRL_margin0.5_negfactor1_epochs500_esmetric-custom_bs-2048',\n",
       " 'reference masterarbeit',\n",
       " 'fb15k-237_regiontriangle_20191030-1457_dim50_triangle_rad0_regL0_lr001_loss-BPR_margin0.0_negfactor1_epochs1000_esmetric-custom_bs10',\n",
       " 'fb15k-237_regionfull_20191030-1636_dim50_full_rad0.0_regL0_lr0001_loss-BPR_margin0.0_negfactor1_epochs1000_esmetric-custom_bs10',\n",
       " 'fb15k-237_regionellipse_20191030-1445_dim50_ellipse_rad0_regL0_lr001_loss-BPR_margin0.0_negfactor1_epochs1000_esmetric-custom_bs2',\n",
       " 'fb15k-237_regionsphere_20191030-1452_dim50_sphere_rad0_regL0_lr001_loss-MRL_margin0.0_negfactor1_epochs1000_esmetric-custom_bs14',\n",
       " 'FB15k237_region_20191029-1118_dim50_triangle_rad1_regL0_lr001_loss-MRL_margin0.5_negfactor1_epochs1000_esmetric-custom_bs16384',\n",
       " 'region_FB15k_20191024-1031_dim50_sphere_rad0_regL0_lr001_loss-MRL_margin0.5_negfactor1_epochs1000_esmetric-custom_bs8192',\n",
       " 'region_FB15k_dim50_sphere_rad0_regL0_lr01_loss-MRL_margin0.5_negfactor1_epochs500_esmetric-custom_bs-4096',\n",
       " 'transE_FB15K_dim50_retrained',\n",
       " 'region_FB15k_20191024-1246_dim50_sphere_rad0_regL0_lr001_loss-BPR_margin0.5_negfactor1_epochs1000_esmetric-custom_bs8192',\n",
       " 'fb15k-237_regionfull_20191030-1427_dim50_full_rad0_regL0_lr001_loss-MRL_margin2.0_negfactor1_epochs1000_esmetric-custom_bs16384',\n",
       " 'fb15k-237_regionellipse_20191030-1442_dim50_ellipse_rad0_regL0_lr001_loss-BPR_margin0.0_negfactor1_epochs1000_esmetric-custom_bs256',\n",
       " 'fb15k-237_regionfull_20191030-1241_dim50_full_rad0_regL0_lr001_loss-MRL_margin0.3_negfactor1_epochs1000_esmetric-custom_bs16384']"
      ]
     },
     "execution_count": 19,
     "metadata": {},
     "output_type": "execute_result"
    }
   ],
   "source": [
    "model_dir = '../../../models/'\n",
    "models = os.listdir(model_dir)\n",
    "models"
   ]
  },
  {
   "cell_type": "code",
   "execution_count": 21,
   "metadata": {
    "ExecuteTime": {
     "end_time": "2019-07-26T23:30:37.007081Z",
     "start_time": "2019-07-26T15:44:15.425Z"
    }
   },
   "outputs": [],
   "source": [
    "model_path = ''\n",
    "if model_path:\n",
    "    input_directory = os.path.join(model_dir, model_path)\n",
    "    results = {\n",
    "    'losses': json.load(open(os.path.join(input_directory, 'losses.json'))),\n",
    "    'validation_losses': json.load(open(os.path.join(input_directory, 'val_losses.json'))),\n",
    "    'entity_to_embedding': json.load(open(os.path.join(input_directory, 'entities_to_embeddings.json'))),\n",
    "    'relation_to_embedding': json.load(open(os.path.join(input_directory, 'relations_to_embeddings.json'))),\n",
    "    'final_configuration': json.load(open(os.path.join(input_directory, 'configuration.json'))),\n",
    "    'eval_summary': json.load(open(os.path.join(input_directory, 'evaluation_summary.json'))),\n",
    "    'entity_to_id': json.load(open(os.path.join(input_directory, 'entity_to_id.json'))),\n",
    "    'relation_to_id': json.load(open(os.path.join(input_directory, 'relation_to_id.json')))\n",
    "    }\n",
    "    # Initialize KG embedding model\n",
    "    config = results['final_configuration']\n",
    "    config['training_set_path'] = '../../../data/fb15k-237/train.tsv'\n",
    "    config['test_set_path'] = '../../../data/fb15k-237/valid.tsv'\n",
    "    relation_to_id = results['relation_to_id']\n",
    "    entity_to_id = results['entity_to_id']\n",
    "else:\n",
    "    # Initialize KG embedding model\n",
    "    input_directory = output_directory\n",
    "    config[pkc.NUM_ENTITIES] = 14541\n",
    "    config[pkc.NUM_RELATIONS] = 237\n",
    "    config[pkc.PREFERRED_DEVICE] = 'gpu1'\n",
    "    relation_to_id = json.load(open(os.path.join(input_directory, 'relation_to_id.json'),'r'))\n",
    "    entity_to_id = json.load(open(os.path.join(input_directory, 'entity_to_id.json'),'r'))"
   ]
  },
  {
   "cell_type": "markdown",
   "metadata": {},
   "source": [
    "Get evaluation results:\n",
    " * Mean rank\n",
    " * Hits@k, k $\\in$ {1,3,5,10} "
   ]
  },
  {
   "cell_type": "code",
   "execution_count": 22,
   "metadata": {
    "ExecuteTime": {
     "end_time": "2019-07-26T23:30:37.024036Z",
     "start_time": "2019-07-26T15:44:16.304Z"
    }
   },
   "outputs": [
    {
     "data": {
      "text/plain": [
       "pykeen.kge_models.region.Region"
      ]
     },
     "execution_count": 22,
     "metadata": {},
     "output_type": "execute_result"
    }
   ],
   "source": [
    "config[pkc.PREFERRED_DEVICE] = 'gpu1'\n",
    "pipeline = Pipeline(config)\n",
    "config[pkc.PREFERRED_DEVICE] = pipeline.device_name\n",
    "config['test_batch_size'] = 2**10\n",
    "if config['random_seed'] is not None:\n",
    "    torch.manual_seed(config['random_seed'])\n",
    "pipeline.entity_label_to_id = entity_to_id\n",
    "pipeline.relation_label_to_id = relation_to_id\n",
    "\n",
    "model: torch.nn.Module = get_kge_model(config=config)\n",
    "model.load_state_dict(torch.load(os.path.join(input_directory, 'best_model.pkl')))\n",
    "\n",
    "#results['trained_model'] = model \n",
    "type(model)"
   ]
  },
  {
   "cell_type": "code",
   "execution_count": 23,
   "metadata": {},
   "outputs": [
    {
     "data": {
      "text/plain": [
       "{'metrics': [],\n",
       " 'training_set_path': '../../../data/fb15k-237/train.tsv',\n",
       " 'test_set_path': '../../../data/fb15k-237/valid_200.tsv',\n",
       " 'mapping_path': '../../../data/fb15k-237/',\n",
       " 'execution_mode': 'Training_mode',\n",
       " 'random_seed': 2,\n",
       " 'kg_embedding_model_name': 'Region',\n",
       " 'region_type': 'triangle',\n",
       " 'embedding_dim': 50,\n",
       " 'init_radius': 1,\n",
       " 'reg_lambda': 0,\n",
       " 'loss_type': 'MRL',\n",
       " 'neg_factor': 1,\n",
       " 'corrupt_relations': False,\n",
       " 'normalization_of_entities': 2,\n",
       " 'strict_norm': True,\n",
       " 'margin_loss': 0.5,\n",
       " 'learning_rate': 0.001,\n",
       " 'es_metric': 'custom',\n",
       " 'num_epochs': 1000,\n",
       " 'batch_size': 14,\n",
       " 'test_batch_size': 1024,\n",
       " 'filter_negative_triples': False,\n",
       " 'preferred_device': 'cuda:1',\n",
       " 'pykeen-version': '0.0.26-dev',\n",
       " 'num_entities': 14541,\n",
       " 'num_relations': 237}"
      ]
     },
     "execution_count": 23,
     "metadata": {},
     "output_type": "execute_result"
    }
   ],
   "source": [
    "config"
   ]
  },
  {
   "cell_type": "code",
   "execution_count": 24,
   "metadata": {
    "ExecuteTime": {
     "end_time": "2019-07-26T23:30:37.051960Z",
     "start_time": "2019-07-26T15:44:16.482Z"
    }
   },
   "outputs": [],
   "source": [
    "metrics =  [pkc.MEAN_RANK, pkc.HITS_AT_K] #  [pkc.MEAN_RANK, pkc.HITS_AT_K, pkc.TRIPLE_PREDICTION]"
   ]
  },
  {
   "cell_type": "markdown",
   "metadata": {},
   "source": [
    "#### Evaluate RelationalTriple"
   ]
  },
  {
   "cell_type": "code",
   "execution_count": 25,
   "metadata": {
    "ExecuteTime": {
     "end_time": "2019-07-26T15:42:31.197977Z",
     "start_time": "2019-07-26T15:40:51.821040Z"
    }
   },
   "outputs": [
    {
     "name": "stderr",
     "output_type": "stream",
     "text": [
      "INFO:pykeen.utilities.pipeline:-------------Start Evaluation-------------\n"
     ]
    },
    {
     "data": {
      "application/vnd.jupyter.widget-view+json": {
       "model_id": "a03d19187d7e4677ba8dd09daa21a167",
       "version_major": 2,
       "version_minor": 0
      },
      "text/plain": [
       "HBox(children=(IntProgress(value=0, max=17535), HTML(value='')))"
      ]
     },
     "metadata": {},
     "output_type": "display_data"
    },
    {
     "name": "stderr",
     "output_type": "stream",
     "text": [
      "DEBUG:pykeen.utilities.evaluation_utils.metrics_computations:Evaluation took 4496.29s seconds\n",
      "INFO:pykeen.utilities.pipeline:MetricResults(mean_rank=0.06611058045314386, hits_at_k={1: 0.02155688622754491, 3: 0.07251211861990305, 5: 0.09572284003421729, 10: 0.15132591958939265}, precision=None, recall=None, accuracy=None, fscore=None)\n"
     ]
    }
   ],
   "source": [
    "val_results = pipeline.evaluate(\n",
    "    model, \n",
    "    '../../../data/fb15k-237/valid.tsv', \n",
    "    #neg_test_path = '../../../data/fb15k-237/valid_neg.tsv', \n",
    "    metrics=metrics,\n",
    "    filter_neg_triples=False,\n",
    "    threshold_search=True,\n",
    "    single_threshold=False\n",
    ")"
   ]
  },
  {
   "cell_type": "code",
   "execution_count": null,
   "metadata": {},
   "outputs": [],
   "source": [
    "val_results['eval_summary']"
   ]
  },
  {
   "cell_type": "code",
   "execution_count": null,
   "metadata": {},
   "outputs": [],
   "source": [
    "json.dumps(val_results['eval_summary'])"
   ]
  },
  {
   "cell_type": "code",
   "execution_count": null,
   "metadata": {},
   "outputs": [],
   "source": [
    "from datetime import datetime\n",
    "time = datetime.now()\n",
    "print(\"{:04d}{:02d}{:02d}-{:02d}{:02d}\".format(time.year, time.month, time.day, time.hour, time.minute))"
   ]
  },
  {
   "cell_type": "code",
   "execution_count": null,
   "metadata": {
    "ExecuteTime": {
     "end_time": "2019-07-26T23:30:37.053955Z",
     "start_time": "2019-07-26T15:44:18.254Z"
    }
   },
   "outputs": [],
   "source": [
    "val_results_ = pipeline.evaluate(\n",
    "    model, \n",
    "    '../../../data/fb15k/valid.tsv', \n",
    "    neg_test_path = '../../../data/fb15k/valid.tsv', \n",
    "    metrics= ['prediction'],\n",
    "    threshold_search=True,\n",
    "    single_threshold=True\n",
    ")"
   ]
  },
  {
   "cell_type": "code",
   "execution_count": null,
   "metadata": {
    "ExecuteTime": {
     "end_time": "2019-07-26T23:30:37.111800Z",
     "start_time": "2019-07-26T15:44:18.532Z"
    }
   },
   "outputs": [],
   "source": [
    "test_results = pipeline.evaluate(\n",
    "    model, \n",
    "    '../../../data/fb15k/test.tsv', \n",
    "    neg_test_path = '../../../data/fb15k/test_neg.tsv',\n",
    "    metrics= ['prediction'],\n",
    "    threshold_search=False\n",
    ")"
   ]
  },
  {
   "cell_type": "code",
   "execution_count": null,
   "metadata": {
    "ExecuteTime": {
     "end_time": "2019-07-26T23:30:37.142718Z",
     "start_time": "2019-07-26T15:44:18.928Z"
    }
   },
   "outputs": [],
   "source": [
    "model.relation_thresholds.mean()"
   ]
  },
  {
   "cell_type": "code",
   "execution_count": null,
   "metadata": {
    "ExecuteTime": {
     "end_time": "2019-07-26T23:30:37.143714Z",
     "start_time": "2019-07-26T15:44:19.365Z"
    }
   },
   "outputs": [],
   "source": [
    "json.dump(model.relation_thresholds[0], open(os.path.join(input_directory, 'threshold.json'),\"w\"))"
   ]
  },
  {
   "cell_type": "code",
   "execution_count": null,
   "metadata": {
    "ExecuteTime": {
     "end_time": "2019-07-26T23:30:37.179618Z",
     "start_time": "2019-07-26T15:44:19.784Z"
    }
   },
   "outputs": [],
   "source": [
    "val_results_ = pipeline.evaluate(\n",
    "    model, \n",
    "    '../../../data/fb15k/valid.tsv', \n",
    "    neg_test_path = '../../../data/fb15k/valid_neg.tsv', \n",
    "    metrics= ['prediction'],\n",
    "    threshold_search=True,\n",
    "    single_threshold=False\n",
    ")"
   ]
  },
  {
   "cell_type": "code",
   "execution_count": null,
   "metadata": {
    "ExecuteTime": {
     "end_time": "2019-07-26T23:30:37.181614Z",
     "start_time": "2019-07-26T15:44:20.161Z"
    }
   },
   "outputs": [],
   "source": [
    "test_results = pipeline.evaluate(\n",
    "    model, \n",
    "    '../../../data/fb15k/test.tsv', \n",
    "    neg_test_path = '../../../data/fb15k/test_neg.tsv',\n",
    "    metrics= ['prediction'],\n",
    "    threshold_search=False\n",
    ")"
   ]
  },
  {
   "cell_type": "code",
   "execution_count": null,
   "metadata": {
    "ExecuteTime": {
     "end_time": "2019-07-26T23:30:37.231480Z",
     "start_time": "2019-07-26T15:44:20.859Z"
    }
   },
   "outputs": [],
   "source": [
    "model.relation_thresholds.mean()"
   ]
  },
  {
   "cell_type": "code",
   "execution_count": null,
   "metadata": {
    "ExecuteTime": {
     "end_time": "2019-07-26T23:30:37.233507Z",
     "start_time": "2019-07-26T15:44:21.310Z"
    }
   },
   "outputs": [],
   "source": [
    "json.dump(model.relation_thresholds.tolist(), open(os.path.join(input_directory, 'mult_thresholds.json'),\"w\"))"
   ]
  },
  {
   "cell_type": "code",
   "execution_count": null,
   "metadata": {
    "ExecuteTime": {
     "end_time": "2019-07-26T23:30:37.234472Z",
     "start_time": "2019-07-26T15:44:21.877Z"
    }
   },
   "outputs": [],
   "source": [
    "val_results['eval_summary']"
   ]
  },
  {
   "cell_type": "code",
   "execution_count": null,
   "metadata": {
    "ExecuteTime": {
     "end_time": "2019-07-26T23:30:37.253421Z",
     "start_time": "2019-07-26T15:44:22.129Z"
    }
   },
   "outputs": [],
   "source": [
    "test_results = pipeline.evaluate(\n",
    "    model, \n",
    "    '../../../data/fb15k/test.tsv', \n",
    "    neg_test_path = '../../../data/fb15k/test_neg.tsv',\n",
    "    metrics= metrics,\n",
    "    threshold_search=False\n",
    ")"
   ]
  },
  {
   "cell_type": "code",
   "execution_count": null,
   "metadata": {
    "ExecuteTime": {
     "end_time": "2019-07-26T23:30:37.254418Z",
     "start_time": "2019-07-26T15:44:23.205Z"
    }
   },
   "outputs": [],
   "source": [
    "test_results['eval_summary']"
   ]
  },
  {
   "cell_type": "code",
   "execution_count": null,
   "metadata": {
    "ExecuteTime": {
     "end_time": "2019-07-26T15:42:31.350619Z",
     "start_time": "2019-07-26T15:37:29.814Z"
    }
   },
   "outputs": [],
   "source": [
    "json.dump(val_results['eval_summary'], open(os.path.join(input_directory, 'valid_evaluation_summary.json'),\"w\"))"
   ]
  },
  {
   "cell_type": "code",
   "execution_count": null,
   "metadata": {
    "ExecuteTime": {
     "end_time": "2019-07-26T15:42:31.354558Z",
     "start_time": "2019-07-26T15:37:29.825Z"
    }
   },
   "outputs": [],
   "source": [
    "json.dump(test_results['eval_summary'], open(os.path.join(input_directory, 'evaluation_summary.json'),\"w\"))"
   ]
  },
  {
   "cell_type": "markdown",
   "metadata": {},
   "source": [
    "## Load results"
   ]
  },
  {
   "cell_type": "code",
   "execution_count": null,
   "metadata": {
    "ExecuteTime": {
     "end_time": "2019-07-26T15:42:31.358663Z",
     "start_time": "2019-07-26T15:37:29.837Z"
    }
   },
   "outputs": [],
   "source": [
    "import numpy as np\n",
    "import matplotlib.pyplot as plt\n",
    "import json\n",
    "import os"
   ]
  },
  {
   "cell_type": "code",
   "execution_count": null,
   "metadata": {
    "ExecuteTime": {
     "end_time": "2019-07-26T15:42:31.361975Z",
     "start_time": "2019-07-26T15:37:29.846Z"
    }
   },
   "outputs": [],
   "source": [
    "%matplotlib inline"
   ]
  },
  {
   "cell_type": "code",
   "execution_count": null,
   "metadata": {
    "ExecuteTime": {
     "end_time": "2019-07-26T15:42:31.365585Z",
     "start_time": "2019-07-26T15:37:29.854Z"
    }
   },
   "outputs": [],
   "source": [
    "model_dir = 'D:/uni/master/models/'\n",
    "models = os.listdir(model_dir)\n",
    "models"
   ]
  },
  {
   "cell_type": "code",
   "execution_count": null,
   "metadata": {
    "ExecuteTime": {
     "end_time": "2019-07-26T15:42:31.374503Z",
     "start_time": "2019-07-26T15:37:29.864Z"
    }
   },
   "outputs": [],
   "source": [
    "#output_directory = 'D:/uni/master/models/region_hpo/'\n",
    "model_path = 'region_FB15k_dim50_sphere_rad0_regL0_lr01_loss-MRL_margin0.5_negfactor1_epochs500_esmetric-prediction'\n",
    "input_directory = os.path.join(model_dir, model_path)\n",
    "\n",
    "\n",
    "results = {\n",
    "    'losses': json.load(open(os.path.join(input_directory, 'losses.json'))),\n",
    "    'validation_losses': json.load(open(os.path.join(input_directory, 'val_losses.json'))),\n",
    "    'entity_to_embedding': json.load(open(os.path.join(input_directory, 'entities_to_embeddings.json'))),\n",
    "    'relation_to_embedding': json.load(open(os.path.join(input_directory, 'relations_to_embeddings.json'))),\n",
    "    'final_configuration': json.load(open(os.path.join(input_directory, 'configuration.json'))),\n",
    "    'eval_summary': json.load(open(os.path.join(input_directory, 'evaluation_summary.json'))),\n",
    "    'entity_to_id': json.load(open(os.path.join(input_directory, 'entity_to_id.json'))),\n",
    "    'relation_to_id': json.load(open(os.path.join(input_directory, 'relation_to_id.json')))\n",
    "}"
   ]
  },
  {
   "cell_type": "code",
   "execution_count": null,
   "metadata": {
    "ExecuteTime": {
     "end_time": "2019-07-26T15:42:31.378492Z",
     "start_time": "2019-07-26T15:37:29.872Z"
    }
   },
   "outputs": [],
   "source": [
    "results.keys()"
   ]
  },
  {
   "cell_type": "code",
   "execution_count": null,
   "metadata": {
    "ExecuteTime": {
     "end_time": "2019-07-26T15:42:31.382541Z",
     "start_time": "2019-07-26T15:37:29.881Z"
    }
   },
   "outputs": [],
   "source": [
    "results['final_configuration']"
   ]
  },
  {
   "cell_type": "code",
   "execution_count": null,
   "metadata": {
    "ExecuteTime": {
     "end_time": "2019-07-26T15:42:31.385694Z",
     "start_time": "2019-07-26T15:37:29.888Z"
    }
   },
   "outputs": [],
   "source": [
    "losses = results['losses']\n",
    "epochs = np.arange(len(losses))\n",
    "plt.title(r'Loss Per Epoch')\n",
    "plt.xlabel('epoch')\n",
    "plt.ylabel('loss')\n",
    "plt.plot(epochs, losses)\n",
    "plt.show()"
   ]
  },
  {
   "cell_type": "code",
   "execution_count": null,
   "metadata": {
    "ExecuteTime": {
     "end_time": "2019-07-26T15:42:31.389463Z",
     "start_time": "2019-07-26T15:37:29.899Z"
    }
   },
   "outputs": [],
   "source": [
    "losses = results['validation_losses']\n",
    "epochs = np.arange(len(losses))\n",
    "plt.title(r'Loss Per Epoch')\n",
    "plt.xlabel('epoch')\n",
    "plt.ylabel('loss')\n",
    "plt.plot(epochs, losses)\n",
    "plt.show()"
   ]
  },
  {
   "cell_type": "code",
   "execution_count": null,
   "metadata": {
    "ExecuteTime": {
     "end_time": "2019-07-26T15:42:31.392454Z",
     "start_time": "2019-07-26T15:37:29.908Z"
    }
   },
   "outputs": [],
   "source": [
    "results['eval_summary']"
   ]
  },
  {
   "cell_type": "markdown",
   "metadata": {},
   "source": [
    "### "
   ]
  }
 ],
 "metadata": {
  "kernelspec": {
   "display_name": "Python 3",
   "language": "python",
   "name": "python3"
  },
  "language_info": {
   "codemirror_mode": {
    "name": "ipython",
    "version": 3
   },
   "file_extension": ".py",
   "mimetype": "text/x-python",
   "name": "python",
   "nbconvert_exporter": "python",
   "pygments_lexer": "ipython3",
   "version": "3.6.5"
  },
  "notify_time": "30",
  "toc": {
   "base_numbering": 1,
   "nav_menu": {},
   "number_sections": true,
   "sideBar": true,
   "skip_h1_title": false,
   "title_cell": "Table of Contents",
   "title_sidebar": "Contents",
   "toc_cell": false,
   "toc_position": {
    "height": "193.717px",
    "left": "10px",
    "top": "150px",
    "width": "165px"
   },
   "toc_section_display": true,
   "toc_window_display": true
  }
 },
 "nbformat": 4,
 "nbformat_minor": 2
}
