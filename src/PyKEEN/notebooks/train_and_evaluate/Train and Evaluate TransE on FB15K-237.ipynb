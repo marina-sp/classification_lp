{
 "cells": [
  {
   "cell_type": "code",
   "execution_count": 1,
   "metadata": {
    "ExecuteTime": {
     "end_time": "2019-07-08T13:13:20.501258Z",
     "start_time": "2019-07-08T13:13:20.485666Z"
    }
   },
   "outputs": [],
   "source": [
    "TEST = True"
   ]
  },
  {
   "cell_type": "markdown",
   "metadata": {},
   "source": [
    "Check which hyper-parameters are required by TransE:"
   ]
  },
  {
   "cell_type": "code",
   "execution_count": 2,
   "metadata": {
    "ExecuteTime": {
     "end_time": "2019-07-08T13:13:28.589342Z",
     "start_time": "2019-07-08T13:13:20.501258Z"
    }
   },
   "outputs": [
    {
     "data": {
      "text/plain": [
       "['embedding_dim',\n",
       " 'margin_loss',\n",
       " 'learning_rate',\n",
       " 'corrupt_relations',\n",
       " 'scoring_function',\n",
       " 'normalization_of_entities']"
      ]
     },
     "execution_count": 2,
     "metadata": {},
     "output_type": "execute_result"
    }
   ],
   "source": [
    "from datetime import datetime\n",
    "from pykeen.kge_models import TransE\n",
    "TransE.hyper_params"
   ]
  },
  {
   "cell_type": "markdown",
   "metadata": {},
   "source": [
    "Train and evaluate Region (provide test set):\n",
    "* Define the path to our test set: **test_set_path**\n",
    "* Define the path to our the negative test set: **neg_test_path** in case of triple classfication evaluation\n",
    "* Define whether you want to compute the metrics (mean rank and hits@k) in raw or in a filtered setting: **filter_negative_triples**"
   ]
  },
  {
   "cell_type": "code",
   "execution_count": 3,
   "metadata": {
    "ExecuteTime": {
     "end_time": "2019-07-08T13:13:28.611860Z",
     "start_time": "2019-07-08T13:13:28.589342Z"
    }
   },
   "outputs": [],
   "source": [
    "config = dict(\n",
    "    metrics                     = [],    \n",
    "    training_set_path           = '../../../data/fb15k-237/valid_200.tsv',\n",
    "    test_set_path               = '../../../data/fb15k-237/valid_200.tsv',\n",
    "    #neg_test_set_path           = '../../../data/fb15k-237/valid_neg.tsv',\n",
    "    mapping_path                = '../../../data/fb15k-237/',\n",
    "    \n",
    "    execution_mode              = 'Training_mode',\n",
    "    random_seed                 = 2,\n",
    "    kg_embedding_model_name     = 'TransE',\n",
    "    loss_type                   = 'MRL',\n",
    "    embedding_dim               = 50,\n",
    "    scoring_function            = 1,  # corresponds to L1\n",
    "    normalization_of_entities   = 2,  # corresponds to L2\n",
    "    margin_loss                 = 1,\n",
    "    es_metric                   = 'custom',\n",
    "    \n",
    "    learning_rate               = 0.01,\n",
    "    num_epochs                  = 1000 if not TEST else 1000,  \n",
    "    batch_size                  = 2**11,\n",
    "    test_batch_size             = 2**16,\n",
    "    filter_negative_triples     = False,\n",
    "    corrupt_relations           = False,\n",
    "    neg_factor                  = 1,\n",
    "    preferred_device            = 'cpu'\n",
    ")"
   ]
  },
  {
   "cell_type": "code",
   "execution_count": 4,
   "metadata": {},
   "outputs": [
    {
     "data": {
      "text/plain": [
       "'20191028-1612'"
      ]
     },
     "execution_count": 4,
     "metadata": {},
     "output_type": "execute_result"
    }
   ],
   "source": [
    "time = datetime.now()\n",
    "stamp = \"{:04d}{:2d}{:2d}-{:2d}{:2d}\".format(time.year, time.month, time.day, time.hour, time.minute)\n",
    "stamp"
   ]
  },
  {
   "cell_type": "code",
   "execution_count": 5,
   "metadata": {
    "ExecuteTime": {
     "end_time": "2019-07-08T13:13:28.623555Z",
     "start_time": "2019-07-08T13:13:28.611860Z"
    }
   },
   "outputs": [
    {
     "data": {
      "text/plain": [
       "'../../../models/FB15k237_TransE_20191028-1612_dim50_loss-MRL_lr001_margin1_epochs1000_bs2048_esmetric-custom/'"
      ]
     },
     "execution_count": 5,
     "metadata": {},
     "output_type": "execute_result"
    }
   ],
   "source": [
    "output_directory = '../../../models/FB15k237_TransE_{}_dim{}_loss-{}_lr{}_margin{}_epochs{}_bs{}_esmetric-{}/'.format(\n",
    "    stamp, \n",
    "    config['embedding_dim'],\n",
    "    config['loss_type'],\n",
    "    str(config['learning_rate']).replace('.',''),\n",
    "    config['margin_loss'],\n",
    "    config['num_epochs'],\n",
    "    config['batch_size'],\n",
    "    config['es_metric']\n",
    ")\n",
    "output_directory"
   ]
  },
  {
   "cell_type": "code",
   "execution_count": 6,
   "metadata": {
    "ExecuteTime": {
     "end_time": "2019-07-08T13:13:28.629575Z",
     "start_time": "2019-07-08T13:13:28.626547Z"
    }
   },
   "outputs": [],
   "source": [
    "if TEST:\n",
    "    output_directory = '../../../models/test/'"
   ]
  },
  {
   "cell_type": "code",
   "execution_count": 7,
   "metadata": {
    "ExecuteTime": {
     "end_time": "2019-07-08T13:13:28.649973Z",
     "start_time": "2019-07-08T13:13:28.630536Z"
    }
   },
   "outputs": [],
   "source": [
    "import logging\n",
    "import os\n",
    "import sys\n",
    "import time\n",
    "import pykeen"
   ]
  },
  {
   "cell_type": "code",
   "execution_count": 8,
   "metadata": {
    "ExecuteTime": {
     "end_time": "2019-07-08T13:13:28.665269Z",
     "start_time": "2019-07-08T13:13:28.649973Z"
    }
   },
   "outputs": [],
   "source": [
    "logging.basicConfig(level=logging.DEBUG)\n",
    "logging.getLogger('pykeen').setLevel(logging.DEBUG)"
   ]
  },
  {
   "cell_type": "code",
   "execution_count": 9,
   "metadata": {
    "ExecuteTime": {
     "end_time": "2019-07-08T13:13:28.677362Z",
     "start_time": "2019-07-08T13:13:28.665269Z"
    }
   },
   "outputs": [
    {
     "name": "stdout",
     "output_type": "stream",
     "text": [
      "3.6.5 (default, Mar 31 2018, 19:45:04) [GCC]\n"
     ]
    }
   ],
   "source": [
    "print(sys.version)"
   ]
  },
  {
   "cell_type": "code",
   "execution_count": 10,
   "metadata": {
    "ExecuteTime": {
     "end_time": "2019-07-08T13:13:28.682349Z",
     "start_time": "2019-07-08T13:13:28.678358Z"
    },
    "scrolled": true
   },
   "outputs": [
    {
     "name": "stdout",
     "output_type": "stream",
     "text": [
      "Mon Oct 28 16:12:43 2019\n"
     ]
    }
   ],
   "source": [
    "print(time.asctime())"
   ]
  },
  {
   "cell_type": "code",
   "execution_count": 11,
   "metadata": {
    "ExecuteTime": {
     "end_time": "2019-07-08T13:13:28.691074Z",
     "start_time": "2019-07-08T13:13:28.682539Z"
    }
   },
   "outputs": [
    {
     "name": "stdout",
     "output_type": "stream",
     "text": [
      "0.0.26-dev\n"
     ]
    }
   ],
   "source": [
    "print(pykeen.get_version())"
   ]
  },
  {
   "cell_type": "markdown",
   "metadata": {},
   "source": [
    "## Train and evaluate TransE:"
   ]
  },
  {
   "cell_type": "code",
   "execution_count": 12,
   "metadata": {
    "ExecuteTime": {
     "end_time": "2019-07-08T13:13:29.808652Z",
     "start_time": "2019-07-08T13:13:28.692292Z"
    },
    "scrolled": true
   },
   "outputs": [],
   "source": [
    "import numpy as np\n",
    "import matplotlib.pyplot as plt"
   ]
  },
  {
   "cell_type": "code",
   "execution_count": 13,
   "metadata": {
    "ExecuteTime": {
     "end_time": "2019-07-08T13:13:29.839934Z",
     "start_time": "2019-07-08T13:13:29.808652Z"
    }
   },
   "outputs": [],
   "source": [
    "%matplotlib inline"
   ]
  },
  {
   "cell_type": "code",
   "execution_count": 14,
   "metadata": {
    "ExecuteTime": {
     "end_time": "2019-07-08T14:47:12.865729Z",
     "start_time": "2019-07-08T13:13:29.839934Z"
    }
   },
   "outputs": [
    {
     "name": "stderr",
     "output_type": "stream",
     "text": [
      "DEBUG:pykeen.utilities.pipeline:Reading the label mappings...\n",
      "/mounts/Users/student/speranskaya/.local/lib/python3.6/site-packages/torch/nn/_reduction.py:43: UserWarning: size_average and reduce args will be deprecated, please use reduction='sum' instead.\n",
      "  warnings.warn(warning.format(ret))\n",
      "INFO:pykeen.utilities.pipeline:-------------Train KG Embeddings-------------\n",
      "DEBUG:pykeen.utilities.train_utils:****running model on cpu****\n"
     ]
    },
    {
     "name": "stdout",
     "output_type": "stream",
     "text": [
      "{'metrics': [], 'training_set_path': '../../../data/fb15k-237/valid_200.tsv', 'test_set_path': '../../../data/fb15k-237/valid_200.tsv', 'mapping_path': '../../../data/fb15k-237/', 'execution_mode': 'Training_mode', 'random_seed': 2, 'kg_embedding_model_name': 'TransE', 'loss_type': 'MRL', 'embedding_dim': 50, 'scoring_function': 1, 'normalization_of_entities': 2, 'margin_loss': 1, 'es_metric': 'custom', 'learning_rate': 0.01, 'num_epochs': 1000, 'batch_size': 2048, 'test_batch_size': 65536, 'filter_negative_triples': False, 'corrupt_relations': False, 'neg_factor': 1, 'preferred_device': 'cpu', 'pykeen-version': '0.0.26-dev', 'num_entities': 14541, 'num_relations': 237}\n"
     ]
    },
    {
     "ename": "AttributeError",
     "evalue": "'TransE' object has no attribute 'update'",
     "output_type": "error",
     "traceback": [
      "\u001b[0;31m---------------------------------------------------------------------------\u001b[0m",
      "\u001b[0;31mAttributeError\u001b[0m                            Traceback (most recent call last)",
      "\u001b[0;32m<ipython-input-14-432d0f2eac73>\u001b[0m in \u001b[0;36m<module>\u001b[0;34m\u001b[0m\n\u001b[1;32m      2\u001b[0m results = pykeen.run(\n\u001b[1;32m      3\u001b[0m     \u001b[0mconfig\u001b[0m\u001b[0;34m=\u001b[0m\u001b[0mconfig\u001b[0m\u001b[0;34m,\u001b[0m\u001b[0;34m\u001b[0m\u001b[0m\n\u001b[0;32m----> 4\u001b[0;31m     \u001b[0moutput_directory\u001b[0m\u001b[0;34m=\u001b[0m\u001b[0moutput_directory\u001b[0m\u001b[0;34m,\u001b[0m\u001b[0;34m\u001b[0m\u001b[0m\n\u001b[0m\u001b[1;32m      5\u001b[0m )\n",
      "\u001b[0;32m~/work/kge/region-kge/PyKEEN/src/pykeen/run.py\u001b[0m in \u001b[0;36mrun\u001b[0;34m(config, output_directory)\u001b[0m\n\u001b[1;32m    162\u001b[0m \u001b[0;34m\u001b[0m\u001b[0m\n\u001b[1;32m    163\u001b[0m     \u001b[0mpipeline\u001b[0m \u001b[0;34m=\u001b[0m \u001b[0mPipeline\u001b[0m\u001b[0;34m(\u001b[0m\u001b[0mconfig\u001b[0m\u001b[0;34m=\u001b[0m\u001b[0mconfig\u001b[0m\u001b[0;34m)\u001b[0m\u001b[0;34m\u001b[0m\u001b[0m\n\u001b[0;32m--> 164\u001b[0;31m     \u001b[0mresults\u001b[0m \u001b[0;34m=\u001b[0m \u001b[0mpipeline\u001b[0m\u001b[0;34m.\u001b[0m\u001b[0mrun\u001b[0m\u001b[0;34m(\u001b[0m\u001b[0moutput_directory\u001b[0m\u001b[0;34m)\u001b[0m\u001b[0;34m\u001b[0m\u001b[0m\n\u001b[0m\u001b[1;32m    165\u001b[0m \u001b[0;34m\u001b[0m\u001b[0m\n\u001b[1;32m    166\u001b[0m     \u001b[0;31m# Export experimental artifacts\u001b[0m\u001b[0;34m\u001b[0m\u001b[0;34m\u001b[0m\u001b[0m\n",
      "\u001b[0;32m~/work/kge/region-kge/PyKEEN/src/pykeen/utilities/pipeline.py\u001b[0m in \u001b[0;36mrun\u001b[0;34m(self, output_directory)\u001b[0m\n\u001b[1;32m    133\u001b[0m                 \u001b[0msingle_pass\u001b[0m\u001b[0;34m=\u001b[0m\u001b[0msingle_pass\u001b[0m\u001b[0;34m,\u001b[0m\u001b[0;34m\u001b[0m\u001b[0m\n\u001b[1;32m    134\u001b[0m                 \u001b[0mseed\u001b[0m\u001b[0;34m=\u001b[0m\u001b[0mself\u001b[0m\u001b[0;34m.\u001b[0m\u001b[0mseed\u001b[0m\u001b[0;34m,\u001b[0m\u001b[0;34m\u001b[0m\u001b[0m\n\u001b[0;32m--> 135\u001b[0;31m                 \u001b[0mmodel_dir\u001b[0m\u001b[0;34m=\u001b[0m\u001b[0moutput_directory\u001b[0m\u001b[0;34m\u001b[0m\u001b[0m\n\u001b[0m\u001b[1;32m    136\u001b[0m             )\n\u001b[1;32m    137\u001b[0m \u001b[0;34m\u001b[0m\u001b[0m\n",
      "\u001b[0;32m~/work/kge/region-kge/PyKEEN/src/pykeen/utilities/train_utils.py\u001b[0m in \u001b[0;36mtrain_kge_model\u001b[0;34m(kge_model, all_entities, all_relations, learning_rate, num_epochs, batch_size, test_batch_size, train_triples, train_types, val_triples, val_types, neg_val_triples, device, model_dir, es_metric, neg_factor, single_pass, seed, tqdm_kwargs)\u001b[0m\n\u001b[1;32m     82\u001b[0m         \u001b[0mneg_factor\u001b[0m\u001b[0;34m=\u001b[0m\u001b[0mneg_factor\u001b[0m\u001b[0;34m,\u001b[0m\u001b[0;34m\u001b[0m\u001b[0m\n\u001b[1;32m     83\u001b[0m         \u001b[0mtqdm_kwargs\u001b[0m\u001b[0;34m=\u001b[0m\u001b[0mtqdm_kwargs\u001b[0m\u001b[0;34m,\u001b[0m\u001b[0;34m\u001b[0m\u001b[0m\n\u001b[0;32m---> 84\u001b[0;31m         \u001b[0mmodel_dir\u001b[0m\u001b[0;34m=\u001b[0m\u001b[0mmodel_dir\u001b[0m\u001b[0;34m\u001b[0m\u001b[0m\n\u001b[0m\u001b[1;32m     85\u001b[0m     )\n\u001b[1;32m     86\u001b[0m \u001b[0;34m\u001b[0m\u001b[0m\n",
      "\u001b[0;32m~/work/kge/region-kge/PyKEEN/src/pykeen/utilities/train_utils.py\u001b[0m in \u001b[0;36m_train_basic_model\u001b[0;34m(kge_model, all_entities, all_relations, learning_rate, num_epochs, batch_size, test_batch_size, train_triples, train_types, val_triples, val_types, neg_val_triples, neg_factor, es_metric, device, model_dir, seed, tqdm_kwargs)\u001b[0m\n\u001b[1;32m    251\u001b[0m         \u001b[0;32mwith\u001b[0m \u001b[0mtorch\u001b[0m\u001b[0;34m.\u001b[0m\u001b[0mno_grad\u001b[0m\u001b[0;34m(\u001b[0m\u001b[0;34m)\u001b[0m\u001b[0;34m:\u001b[0m\u001b[0;34m\u001b[0m\u001b[0m\n\u001b[1;32m    252\u001b[0m             \u001b[0;31m# update non-gradient parameters\u001b[0m\u001b[0;34m\u001b[0m\u001b[0;34m\u001b[0m\u001b[0m\n\u001b[0;32m--> 253\u001b[0;31m             \u001b[0mkge_model\u001b[0m\u001b[0;34m.\u001b[0m\u001b[0mupdate\u001b[0m\u001b[0;34m(\u001b[0m\u001b[0mpos_data\u001b[0m\u001b[0;34m,\u001b[0m \u001b[0mneg_data\u001b[0m\u001b[0;34m)\u001b[0m\u001b[0;34m\u001b[0m\u001b[0m\n\u001b[0m\u001b[1;32m    254\u001b[0m \u001b[0;34m\u001b[0m\u001b[0m\n\u001b[1;32m    255\u001b[0m             \u001b[0;31m# validation loss\u001b[0m\u001b[0;34m\u001b[0m\u001b[0;34m\u001b[0m\u001b[0m\n",
      "\u001b[0;32m~/.local/lib/python3.6/site-packages/torch/nn/modules/module.py\u001b[0m in \u001b[0;36m__getattr__\u001b[0;34m(self, name)\u001b[0m\n\u001b[1;32m    583\u001b[0m                 \u001b[0;32mreturn\u001b[0m \u001b[0mmodules\u001b[0m\u001b[0;34m[\u001b[0m\u001b[0mname\u001b[0m\u001b[0;34m]\u001b[0m\u001b[0;34m\u001b[0m\u001b[0m\n\u001b[1;32m    584\u001b[0m         raise AttributeError(\"'{}' object has no attribute '{}'\".format(\n\u001b[0;32m--> 585\u001b[0;31m             type(self).__name__, name))\n\u001b[0m\u001b[1;32m    586\u001b[0m \u001b[0;34m\u001b[0m\u001b[0m\n\u001b[1;32m    587\u001b[0m     \u001b[0;32mdef\u001b[0m \u001b[0m__setattr__\u001b[0m\u001b[0;34m(\u001b[0m\u001b[0mself\u001b[0m\u001b[0;34m,\u001b[0m \u001b[0mname\u001b[0m\u001b[0;34m,\u001b[0m \u001b[0mvalue\u001b[0m\u001b[0;34m)\u001b[0m\u001b[0;34m:\u001b[0m\u001b[0;34m\u001b[0m\u001b[0m\n",
      "\u001b[0;31mAttributeError\u001b[0m: 'TransE' object has no attribute 'update'"
     ]
    }
   ],
   "source": [
    "# my\n",
    "results = pykeen.run(\n",
    "    config=config,\n",
    "    output_directory=output_directory,\n",
    ")"
   ]
  },
  {
   "cell_type": "markdown",
   "metadata": {},
   "source": [
    "Check result entries:"
   ]
  },
  {
   "cell_type": "code",
   "execution_count": 15,
   "metadata": {
    "ExecuteTime": {
     "end_time": "2019-07-08T14:47:12.881352Z",
     "start_time": "2019-07-08T14:47:12.865729Z"
    }
   },
   "outputs": [
    {
     "data": {
      "text/plain": [
       "odict_keys(['trained_model', 'losses', 'validation_losses', 'metric_per_epoch', 'entity_to_embedding', 'relation_to_embedding', 'eval_summary', 'entity_to_id', 'relation_to_id', 'final_configuration', 'search_summary'])"
      ]
     },
     "execution_count": 15,
     "metadata": {},
     "output_type": "execute_result"
    }
   ],
   "source": [
    "results.results.keys()"
   ]
  },
  {
   "cell_type": "markdown",
   "metadata": {},
   "source": [
    "Visualize loss values:"
   ]
  },
  {
   "cell_type": "code",
   "execution_count": 16,
   "metadata": {
    "ExecuteTime": {
     "end_time": "2019-07-08T14:47:13.963309Z",
     "start_time": "2019-07-08T14:47:12.881352Z"
    }
   },
   "outputs": [
    {
     "data": {
      "image/png": "[encoded data removed]",
      "text/plain": [
       "<matplotlib.figure.Figure at 0x7ff50436b748>"
      ]
     },
     "metadata": {
      "needs_background": "light"
     },
     "output_type": "display_data"
    }
   ],
   "source": [
    "fig, (ax1, ax2) = plt.subplots(1,2, figsize = (10,5), sharey=True)\n",
    "losses = results.results['losses']\n",
    "epochs = np.arange(len(losses))\n",
    "ax1.set_title('Loss Per Epoch')\n",
    "plt.xlabel('epoch')\n",
    "plt.ylabel('loss')\n",
    "ax1.plot(epochs, losses) #plt.subplot(122)\n",
    "val_losses = results.results['validation_losses']\n",
    "epochs = np.arange(len(val_losses))\n",
    "plt.title(r'Validation Loss Per Epoch')\n",
    "plt.xlabel('epoch')\n",
    "plt.ylabel('loss')\n",
    "ax2.plot(epochs, val_losses)\n",
    "plt.show()\n"
   ]
  },
  {
   "cell_type": "markdown",
   "metadata": {
    "ExecuteTime": {
     "end_time": "2019-07-07T22:28:39.627660Z",
     "start_time": "2019-07-07T22:28:39.327816Z"
    }
   },
   "source": [
    "from sklearn.preprocessing import minmax_scale\n",
    "metric = minmax_scale(results.results['metric_per_epoch'], feature_range=(0,1))\n",
    "epochs = np.arange(len(losses)) * 15\n",
    "plt.xlabel('epoch')\n",
    "plt.ylabel('loss')\n",
    "plt.plot(epochs, metric)\n",
    "\n",
    "val_losses = minmax_scale(results.results['validation_losses'], feature_range=(0,1))\n",
    "epochs = np.arange(len(val_losses))\n",
    "plt.title(r'Early stopping evaluation')\n",
    "plt.xlabel('epoch')\n",
    "plt.ylabel('loss')\n",
    "plt.plot(epochs, val_losses)\n",
    "\n",
    "plt.legend([\"metric\", \"val_loss\"])\n",
    "plt.show()"
   ]
  },
  {
   "cell_type": "code",
   "execution_count": 17,
   "metadata": {
    "ExecuteTime": {
     "end_time": "2019-07-08T14:47:13.973282Z",
     "start_time": "2019-07-08T14:47:13.965304Z"
    }
   },
   "outputs": [
    {
     "data": {
      "text/plain": [
       "{'mean_rank': None,\n",
       " 'hits@k': None,\n",
       " 'precision': None,\n",
       " 'recall': None,\n",
       " 'accuracy': None,\n",
       " 'f1_score': None}"
      ]
     },
     "execution_count": 17,
     "metadata": {},
     "output_type": "execute_result"
    }
   ],
   "source": [
    "results.results['eval_summary']"
   ]
  },
  {
   "cell_type": "markdown",
   "metadata": {},
   "source": [
    "## Load and evaluate"
   ]
  },
  {
   "cell_type": "code",
   "execution_count": 1,
   "metadata": {
    "ExecuteTime": {
     "end_time": "2019-07-08T14:47:13.987247Z",
     "start_time": "2019-07-08T14:47:13.976273Z"
    }
   },
   "outputs": [],
   "source": [
    "import torch\n",
    "import json\n",
    "import os\n",
    "import pykeen.constants as pkc\n",
    "from pykeen.kge_models import get_kge_model\n",
    "from pykeen.utilities.pipeline import Pipeline"
   ]
  },
  {
   "cell_type": "code",
   "execution_count": 2,
   "metadata": {
    "ExecuteTime": {
     "end_time": "2019-07-08T14:47:14.016167Z",
     "start_time": "2019-07-08T14:47:14.001207Z"
    }
   },
   "outputs": [
    {
     "data": {
      "text/plain": [
       "['FB15k237_region_20191024-1703_dim50_sphere_rad0_regL0_lr001_loss-MRL_margin0.5_negfactor1_epochs1000_esmetric-custom_bs8192',\n",
       " 'region_FB15k_20191024-1326_dim50_sphere_rad0_regL0_lr001_loss-MRL_margin0.5_negfactor1_epochs1000_esmetric-custom_bs8192',\n",
       " 'region_FB15k_20191024-1328_dim50_sphere_rad0_regL0_lr001_loss-MRL_margin0.5_negfactor1_epochs1000_esmetric-custom_bs8192',\n",
       " 'test',\n",
       " 'region_FB15k_dim50_sphere_rad0_regL0_lr01_loss-MRL_margin0.5_negfactor1_epochs5_esmetric-custom_final',\n",
       " 'region_FB15k_20191023-1742_dim50_sphere_rad0_regL0_lr001_loss-BPR_margin0.5_negfactor1_epochs1000_esmetric-custom_bs8192',\n",
       " 'FB15k237_TransE_20191024-17 3_dim50_loss-MRL_lr001_margin1_epochs1000_bs8192_esmetric-custom',\n",
       " 'region_FB15k_20191023_dim50_sphere_rad0_regL0_lr001_loss-BPR_margin0.5_negfactor1_epochs1000_esmetric-custom_final',\n",
       " 'FB15k237_TransE_20191024-1716_dim50_loss-MRL_lr001_margin1_epochs1000_bs8192_esmetric-custom',\n",
       " 'region_FB15k_20191023_dim50_sphere_rad0_regL0_lr001_loss-BPR_margin0.5_negfactor1_epochs500_esmetric-custom_final',\n",
       " 'region_FB15k_dim50_sphere_rad0_regL0_lr01_loss-MRL_margin0.5_negfactor1_epochs500_esmetric-custom_final',\n",
       " 'TransE_FB15k_20191024_dim50_loss-MRL_lr001_margin1_epochs1000_bs8192_esmetric-custom',\n",
       " 'FB15k237_TransE_20191024-1712_dim50_loss-MRL_lr001_margin1_epochs1000_bs8192_esmetric-custom',\n",
       " 'region_FB15k_20191023_dim50_sphere_rad0_regL0_lr001_loss-MRL_margin0.5_negfactor1_epochs1000_esmetric-custom',\n",
       " 'FB15k237_region_20191024-1716_dim50_sphere_rad0_regL0_lr001_loss-MRL_margin0.5_negfactor1_epochs1000_esmetric-custom_bs8192',\n",
       " '.directory',\n",
       " 'TransE_FB15k_20191023_dim50_lr001_margin1_epochs1000_bs8192_esmetric-custom_final',\n",
       " 'region_FB15k_20191024-11 5_dim50_sphere_rad0_regL0_lr001_loss-BPR_margin0.5_negfactor1_epochs1000_esmetric-custom_bs8192',\n",
       " 'FB15k237_TransE_20191024-17 4_dim50_loss-MRL_lr001_margin1_epochs1000_bs8192_esmetric-custom',\n",
       " 'FB15k237_region_20191024-1712_dim50_sphere_rad0_regL0_lr001_loss-MRL_margin0.5_negfactor1_epochs1000_esmetric-custom_bs8192',\n",
       " 'region_FB15k_20191023_dim50_sphere_rad0_regL0_lr001_loss-BPR_margin0.5_negfactor1_epochs1000_esmetric-custom',\n",
       " 'region_FB15k_dim50_sphere_rad0_regL0_lr01_loss-MRL_margin0.5_negfactor1_epochs500_esmetric-custom_bs-2048',\n",
       " 'reference masterarbeit',\n",
       " 'region_FB15k_20191024-1031_dim50_sphere_rad0_regL0_lr001_loss-MRL_margin0.5_negfactor1_epochs1000_esmetric-custom_bs8192',\n",
       " 'region_FB15k_dim50_sphere_rad0_regL0_lr01_loss-MRL_margin0.5_negfactor1_epochs500_esmetric-custom_bs-4096',\n",
       " 'transE_FB15K_dim50_retrained',\n",
       " 'region_FB15k_20191024-1246_dim50_sphere_rad0_regL0_lr001_loss-BPR_margin0.5_negfactor1_epochs1000_esmetric-custom_bs8192',\n",
       " 'FB15k237_region_20191024-1704_dim50_sphere_rad0_regL0_lr001_loss-MRL_margin0.5_negfactor1_epochs1000_esmetric-custom_bs8192']"
      ]
     },
     "execution_count": 2,
     "metadata": {},
     "output_type": "execute_result"
    }
   ],
   "source": [
    "model_dir = '../../../models/'\n",
    "models = os.listdir(model_dir)\n",
    "models"
   ]
  },
  {
   "cell_type": "code",
   "execution_count": 3,
   "metadata": {
    "ExecuteTime": {
     "end_time": "2019-07-08T14:47:14.073014Z",
     "start_time": "2019-07-08T14:47:14.022151Z"
    }
   },
   "outputs": [],
   "source": [
    "model_path = 'FB15k237_TransE_20191024-1716_dim50_loss-MRL_lr001_margin1_epochs1000_bs8192_esmetric-custom'\n",
    "if model_path:\n",
    "    input_directory = os.path.join(model_dir, model_path)\n",
    "    results = {\n",
    "    'losses': json.load(open(os.path.join(input_directory, 'losses.json'))),\n",
    "    'validation_losses': json.load(open(os.path.join(input_directory, 'val_losses.json'))),\n",
    "    'entity_to_embedding': json.load(open(os.path.join(input_directory, 'entities_to_embeddings.json'))),\n",
    "    'relation_to_embedding': json.load(open(os.path.join(input_directory, 'relations_to_embeddings.json'))),\n",
    "    'final_configuration': json.load(open(os.path.join(input_directory, 'configuration.json'))),\n",
    "    'eval_summary': json.load(open(os.path.join(input_directory, 'evaluation_summary.json'))),\n",
    "    'entity_to_id': json.load(open(os.path.join(input_directory, 'entity_to_id.json'))),\n",
    "    'relation_to_id': json.load(open(os.path.join(input_directory, 'relation_to_id.json')))\n",
    "    }\n",
    "    # Initialize KG embedding model\n",
    "    config = results['final_configuration']\n",
    "    config['training_set_path'] = '../../../data/fb15k-237/train.tsv'\n",
    "    config['test_set_path'] = '../../../data/fb15k-237/valid.tsv'\n",
    "    relation_to_id = results['relation_to_id']\n",
    "    entity_to_id = results['entity_to_id']\n",
    "else:\n",
    "    # Initialize KG embedding model\n",
    "    input_directory = output_directory\n",
    "    config[pkc.NUM_ENTITIES] = 14541\n",
    "    config[pkc.NUM_RELATIONS] = 237\n",
    "    config[pkc.PREFERRED_DEVICE] = 'gpu1'\n",
    "    relation_to_id = json.load(open(os.path.join(input_directory, 'relation_to_id.json'),'r'))\n",
    "    entity_to_id = json.load(open(os.path.join(input_directory, 'entity_to_id.json'),'r'))"
   ]
  },
  {
   "cell_type": "markdown",
   "metadata": {},
   "source": [
    "Get evaluation results:\n",
    " * Mean rank\n",
    " * Hits@k, k $\\in$ {1,3,5,10} "
   ]
  },
  {
   "cell_type": "code",
   "execution_count": 4,
   "metadata": {
    "ExecuteTime": {
     "end_time": "2019-07-08T14:47:14.295423Z",
     "start_time": "2019-07-08T14:47:14.077004Z"
    }
   },
   "outputs": [
    {
     "name": "stderr",
     "output_type": "stream",
     "text": [
      "/mounts/Users/student/speranskaya/.local/lib/python3.6/site-packages/torch/nn/_reduction.py:43: UserWarning: size_average and reduce args will be deprecated, please use reduction='sum' instead.\n",
      "  warnings.warn(warning.format(ret))\n"
     ]
    },
    {
     "data": {
      "text/plain": [
       "pykeen.kge_models.trans_e.TransE"
      ]
     },
     "execution_count": 4,
     "metadata": {},
     "output_type": "execute_result"
    }
   ],
   "source": [
    "pipeline = Pipeline(config)\n",
    "config[pkc.PREFERRED_DEVICE] = pipeline.device_name\n",
    "if config['random_seed'] is not None:\n",
    "    torch.manual_seed(config['random_seed'])\n",
    "pipeline.entity_label_to_id = entity_to_id\n",
    "pipeline.relation_label_to_id = relation_to_id\n",
    "    \n",
    "model: torch.nn.Module = get_kge_model(config=config)\n",
    "model.load_state_dict(torch.load(os.path.join(input_directory, 'best_model.pkl')))\n",
    "\n",
    "#results['trained_model'] = model \n",
    "type(model)"
   ]
  },
  {
   "cell_type": "code",
   "execution_count": 5,
   "metadata": {
    "ExecuteTime": {
     "end_time": "2019-07-08T14:47:14.307389Z",
     "start_time": "2019-07-08T14:47:14.299410Z"
    }
   },
   "outputs": [],
   "source": [
    "metrics =[pkc.MEAN_RANK, pkc.HITS_AT_K] #  [pkc.MEAN_RANK, pkc.HITS_AT_K, pkc.TRIPLE_PREDICTION]"
   ]
  },
  {
   "cell_type": "markdown",
   "metadata": {},
   "source": [
    "#### Evaluate RelationalTriple"
   ]
  },
  {
   "cell_type": "code",
   "execution_count": 12,
   "metadata": {
    "ExecuteTime": {
     "end_time": "2019-07-08T15:45:24.400175Z",
     "start_time": "2019-07-08T14:57:29.730191Z"
    }
   },
   "outputs": [],
   "source": [
    "val_results = pipeline.evaluate(\n",
    "    model, \n",
    "    '../../../data/fb15k-237/valid.tsv', \n",
    "    #neg_test_path = '../../../data/fb15k-237/valid_neg.tsv', \n",
    "    metrics=metrics,\n",
    "    filter_neg_triples=True,\n",
    "    threshold_search=True,\n",
    "    single_threshold=False\n",
    ")"
   ]
  },
  {
   "cell_type": "code",
   "execution_count": 13,
   "metadata": {},
   "outputs": [
    {
     "data": {
      "text/plain": [
       "{'mean_rank': 0.23449383249349431,\n",
       " 'hits@k': {1: 0.15680068434559452,\n",
       "  3: 0.25449101796407186,\n",
       "  5: 0.3079840319361277,\n",
       "  10: 0.39250071285999427},\n",
       " 'precision': None,\n",
       " 'recall': None,\n",
       " 'accuracy': None,\n",
       " 'f1_score': None}"
      ]
     },
     "execution_count": 13,
     "metadata": {},
     "output_type": "execute_result"
    }
   ],
   "source": [
    "val_results['eval_summary']"
   ]
  },
  {
   "cell_type": "code",
   "execution_count": null,
   "metadata": {
    "ExecuteTime": {
     "end_time": "2019-07-08T15:46:03.427723Z",
     "start_time": "2019-07-08T15:45:24.411150Z"
    }
   },
   "outputs": [],
   "source": [
    "val_results_ = pipeline.evaluate(\n",
    "    model, \n",
    "    '../../../data/fb15k/valid.tsv', \n",
    "    neg_test_path = '../../../data/fb15k/valid_neg.tsv', \n",
    "    metrics=['prediction'],\n",
    "    threshold_search=True,\n",
    "    single_threshold=True\n",
    ")"
   ]
  },
  {
   "cell_type": "code",
   "execution_count": null,
   "metadata": {
    "ExecuteTime": {
     "end_time": "2019-07-08T14:57:22.467823Z",
     "start_time": "2019-07-08T13:13:20.535Z"
    }
   },
   "outputs": [],
   "source": [
    "val_results['eval_summary']"
   ]
  },
  {
   "cell_type": "code",
   "execution_count": null,
   "metadata": {
    "ExecuteTime": {
     "end_time": "2019-07-08T14:57:22.469818Z",
     "start_time": "2019-07-08T13:13:20.537Z"
    }
   },
   "outputs": [],
   "source": [
    "model.relation_thresholds.tolist()"
   ]
  },
  {
   "cell_type": "code",
   "execution_count": null,
   "metadata": {
    "ExecuteTime": {
     "end_time": "2019-07-08T14:57:22.470814Z",
     "start_time": "2019-07-08T13:13:20.538Z"
    }
   },
   "outputs": [],
   "source": [
    "test_results = pipeline.evaluate(\n",
    "    model, \n",
    "    '../../../data/fb15k/test.tsv', \n",
    "    neg_test_path = '../../../data/fb15k/test_neg.tsv',\n",
    "    metrics= metrics,\n",
    "    threshold_search=False\n",
    ")"
   ]
  },
  {
   "cell_type": "code",
   "execution_count": null,
   "metadata": {
    "ExecuteTime": {
     "end_time": "2019-07-08T14:57:22.471812Z",
     "start_time": "2019-07-08T13:13:20.540Z"
    }
   },
   "outputs": [],
   "source": [
    "test_results['eval_summary']"
   ]
  },
  {
   "cell_type": "code",
   "execution_count": 14,
   "metadata": {
    "ExecuteTime": {
     "end_time": "2019-07-08T14:57:22.473807Z",
     "start_time": "2019-07-08T13:13:20.541Z"
    }
   },
   "outputs": [],
   "source": [
    "json.dump(val_results['eval_summary'], open(os.path.join(input_directory, 'valid_evaluation_summary.json'),\"w\"))"
   ]
  },
  {
   "cell_type": "code",
   "execution_count": null,
   "metadata": {
    "ExecuteTime": {
     "end_time": "2019-07-08T14:57:22.474804Z",
     "start_time": "2019-07-08T13:13:20.543Z"
    }
   },
   "outputs": [],
   "source": [
    "json.dump(test_results['eval_summary'], open(os.path.join(input_directory, 'evaluation_summary.json'),\"w\"))"
   ]
  },
  {
   "cell_type": "markdown",
   "metadata": {},
   "source": [
    "## Load results"
   ]
  },
  {
   "cell_type": "code",
   "execution_count": null,
   "metadata": {
    "ExecuteTime": {
     "end_time": "2019-07-08T14:57:22.476799Z",
     "start_time": "2019-07-08T13:13:20.545Z"
    }
   },
   "outputs": [],
   "source": [
    "import numpy as np\n",
    "import matplotlib.pyplot as plt\n",
    "import json\n",
    "import os"
   ]
  },
  {
   "cell_type": "code",
   "execution_count": null,
   "metadata": {
    "ExecuteTime": {
     "end_time": "2019-07-08T14:57:22.477796Z",
     "start_time": "2019-07-08T13:13:20.546Z"
    }
   },
   "outputs": [],
   "source": [
    "%matplotlib inline"
   ]
  },
  {
   "cell_type": "code",
   "execution_count": null,
   "metadata": {
    "ExecuteTime": {
     "end_time": "2019-07-08T14:57:22.479793Z",
     "start_time": "2019-07-08T13:13:20.548Z"
    }
   },
   "outputs": [],
   "source": [
    "model_dir = '../../../models/'\n",
    "models = os.listdir(model_dir)\n",
    "models"
   ]
  },
  {
   "cell_type": "code",
   "execution_count": null,
   "metadata": {
    "ExecuteTime": {
     "end_time": "2019-07-08T14:57:22.480788Z",
     "start_time": "2019-07-08T13:13:20.549Z"
    }
   },
   "outputs": [],
   "source": [
    "#output_directory = '../../../models/region_hpo/'\n",
    "model_path = 'region_FB15k_20191023_dim50_sphere_rad0_regL0_lr001_loss-BPR_margin0.5_negfactor1_epochs1000_esmetric-custom'\n",
    "input_directory = os.path.join(model_dir, model_path)\n",
    "\n",
    "\n",
    "results = {\n",
    "    'losses': json.load(open(os.path.join(input_directory, 'losses.json'))),\n",
    "    'validation_losses': json.load(open(os.path.join(input_directory, 'val_losses.json'))),\n",
    "    'entity_to_embedding': json.load(open(os.path.join(input_directory, 'entities_to_embeddings.json'))),\n",
    "    'relation_to_embedding': json.load(open(os.path.join(input_directory, 'relations_to_embeddings.json'))),\n",
    "    'final_configuration': json.load(open(os.path.join(input_directory, 'configuration.json'))),\n",
    "    'eval_summary': json.load(open(os.path.join(input_directory, 'evaluation_summary.json'))),\n",
    "    'entity_to_id': json.load(open(os.path.join(input_directory, 'entity_to_id.json'))),\n",
    "    'relation_to_id': json.load(open(os.path.join(input_directory, 'relation_to_id.json')))\n",
    "}"
   ]
  },
  {
   "cell_type": "code",
   "execution_count": null,
   "metadata": {
    "ExecuteTime": {
     "end_time": "2019-07-08T14:57:22.482783Z",
     "start_time": "2019-07-08T13:13:20.550Z"
    }
   },
   "outputs": [],
   "source": [
    "results.keys()"
   ]
  },
  {
   "cell_type": "code",
   "execution_count": null,
   "metadata": {
    "ExecuteTime": {
     "end_time": "2019-07-08T14:57:22.484778Z",
     "start_time": "2019-07-08T13:13:20.552Z"
    }
   },
   "outputs": [],
   "source": [
    "results['final_configuration']"
   ]
  },
  {
   "cell_type": "code",
   "execution_count": null,
   "metadata": {
    "ExecuteTime": {
     "end_time": "2019-07-08T14:57:22.486773Z",
     "start_time": "2019-07-08T13:13:20.554Z"
    }
   },
   "outputs": [],
   "source": [
    "losses = results['losses']\n",
    "epochs = np.arange(len(losses))\n",
    "plt.title(r'Loss Per Epoch')\n",
    "plt.xlabel('epoch')\n",
    "plt.ylabel('loss')\n",
    "plt.plot(epochs, losses)\n",
    "plt.show()"
   ]
  },
  {
   "cell_type": "code",
   "execution_count": null,
   "metadata": {},
   "outputs": [],
   "source": [
    "losses[-1]"
   ]
  },
  {
   "cell_type": "code",
   "execution_count": null,
   "metadata": {
    "ExecuteTime": {
     "end_time": "2019-07-08T14:57:22.489765Z",
     "start_time": "2019-07-08T13:13:20.555Z"
    }
   },
   "outputs": [],
   "source": [
    "losses = results['validation_losses']\n",
    "epochs = np.arange(len(losses))\n",
    "plt.title(r'Loss Per Epoch')\n",
    "plt.xlabel('epoch')\n",
    "plt.ylabel('loss')\n",
    "plt.plot(epochs, losses)\n",
    "plt.show()"
   ]
  },
  {
   "cell_type": "code",
   "execution_count": null,
   "metadata": {},
   "outputs": [],
   "source": [
    "losses[-1]"
   ]
  },
  {
   "cell_type": "code",
   "execution_count": null,
   "metadata": {
    "ExecuteTime": {
     "end_time": "2019-07-08T14:57:22.491760Z",
     "start_time": "2019-07-08T13:13:20.557Z"
    }
   },
   "outputs": [],
   "source": [
    "results['eval_summary']"
   ]
  },
  {
   "cell_type": "code",
   "execution_count": null,
   "metadata": {},
   "outputs": [],
   "source": []
  }
 ],
 "metadata": {
  "kernelspec": {
   "display_name": "Python 3",
   "language": "python",
   "name": "python3"
  },
  "language_info": {
   "codemirror_mode": {
    "name": "ipython",
    "version": 3
   },
   "file_extension": ".py",
   "mimetype": "text/x-python",
   "name": "python",
   "nbconvert_exporter": "python",
   "pygments_lexer": "ipython3",
   "version": "3.6.5"
  },
  "notify_time": "30",
  "toc": {
   "base_numbering": 1,
   "nav_menu": {},
   "number_sections": true,
   "sideBar": true,
   "skip_h1_title": false,
   "title_cell": "Table of Contents",
   "title_sidebar": "Contents",
   "toc_cell": false,
   "toc_position": {
    "height": "193.717px",
    "left": "10px",
    "top": "150px",
    "width": "165px"
   },
   "toc_section_display": true,
   "toc_window_display": true
  }
 },
 "nbformat": 4,
 "nbformat_minor": 2
}
