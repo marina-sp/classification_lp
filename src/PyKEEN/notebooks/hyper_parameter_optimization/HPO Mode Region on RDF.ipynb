{
 "cells": [
  {
   "cell_type": "code",
   "execution_count": 10,
   "metadata": {
    "ExecuteTime": {
     "end_time": "2019-07-10T14:55:33.306769Z",
     "start_time": "2019-07-10T14:55:33.303796Z"
    }
   },
   "outputs": [],
   "source": [
    "TEST = False\n",
    "name = 'MRL_arbitrary_dim50_margin'"
   ]
  },
  {
   "cell_type": "code",
   "execution_count": 11,
   "metadata": {
    "ExecuteTime": {
     "end_time": "2019-07-10T14:55:33.489949Z",
     "start_time": "2019-07-10T14:55:33.485917Z"
    }
   },
   "outputs": [],
   "source": [
    "import logging\n",
    "import os\n",
    "import sys\n",
    "import time\n",
    "\n",
    "import numpy as np\n",
    "import matplotlib.pyplot as plt\n",
    "import pykeen\n",
    "from pykeen.kge_models import Region\n",
    "\n",
    "import json"
   ]
  },
  {
   "cell_type": "code",
   "execution_count": 12,
   "metadata": {
    "ExecuteTime": {
     "end_time": "2019-07-10T14:55:33.642533Z",
     "start_time": "2019-07-10T14:55:33.637513Z"
    }
   },
   "outputs": [],
   "source": [
    "%matplotlib inline"
   ]
  },
  {
   "cell_type": "code",
   "execution_count": 13,
   "metadata": {
    "ExecuteTime": {
     "end_time": "2019-07-10T14:55:33.802484Z",
     "start_time": "2019-07-10T14:55:33.799514Z"
    }
   },
   "outputs": [],
   "source": [
    "logging.basicConfig(level=logging.INFO)\n",
    "logging.getLogger('pykeen').setLevel(logging.INFO)"
   ]
  },
  {
   "cell_type": "code",
   "execution_count": 14,
   "metadata": {
    "ExecuteTime": {
     "end_time": "2019-07-10T14:55:33.955445Z",
     "start_time": "2019-07-10T14:55:33.950460Z"
    }
   },
   "outputs": [
    {
     "name": "stdout",
     "output_type": "stream",
     "text": [
      "3.6.8 |Anaconda, Inc.| (default, Feb 21 2019, 18:30:04) [MSC v.1916 64 bit (AMD64)]\n"
     ]
    }
   ],
   "source": [
    "print(sys.version)"
   ]
  },
  {
   "cell_type": "code",
   "execution_count": 15,
   "metadata": {
    "ExecuteTime": {
     "end_time": "2019-07-10T14:55:34.110007Z",
     "start_time": "2019-07-10T14:55:34.105038Z"
    }
   },
   "outputs": [
    {
     "name": "stdout",
     "output_type": "stream",
     "text": [
      "Wed Jul 10 16:55:34 2019\n"
     ]
    }
   ],
   "source": [
    "print(time.asctime())"
   ]
  },
  {
   "cell_type": "code",
   "execution_count": 16,
   "metadata": {
    "ExecuteTime": {
     "end_time": "2019-07-10T14:55:34.264350Z",
     "start_time": "2019-07-10T14:55:34.258350Z"
    }
   },
   "outputs": [
    {
     "name": "stdout",
     "output_type": "stream",
     "text": [
      "0.0.26-dev\n"
     ]
    }
   ],
   "source": [
    "print(pykeen.get_version())"
   ]
  },
  {
   "cell_type": "markdown",
   "metadata": {},
   "source": [
    "Check which hyper-parameters are required by Region:"
   ]
  },
  {
   "cell_type": "code",
   "execution_count": 17,
   "metadata": {
    "ExecuteTime": {
     "end_time": "2019-07-10T14:55:34.597652Z",
     "start_time": "2019-07-10T14:55:34.592651Z"
    }
   },
   "outputs": [
    {
     "data": {
      "text/plain": [
       "['embedding_dim',\n",
       " 'margin_loss',\n",
       " 'learning_rate',\n",
       " 'corrupt_relations',\n",
       " 'normalization_of_entities',\n",
       " 'init_radius',\n",
       " 'reg_lambda',\n",
       " 'loss_type',\n",
       " 'neg_factor',\n",
       " 'region_type']"
      ]
     },
     "execution_count": 17,
     "metadata": {},
     "output_type": "execute_result"
    }
   ],
   "source": [
    "Region.hyper_params"
   ]
  },
  {
   "cell_type": "markdown",
   "metadata": {},
   "source": [
    "Define output directory:"
   ]
  },
  {
   "cell_type": "code",
   "execution_count": 18,
   "metadata": {
    "ExecuteTime": {
     "end_time": "2019-07-10T14:55:34.916288Z",
     "start_time": "2019-07-10T14:55:34.911290Z"
    }
   },
   "outputs": [
    {
     "data": {
      "text/plain": [
       "'D:/uni/master/models/region_hpo/opt_2019_7_10_MRL_arbitrary_dim50_margin'"
      ]
     },
     "execution_count": 18,
     "metadata": {},
     "output_type": "execute_result"
    }
   ],
   "source": [
    "today = time.localtime()\n",
    "output_directory = 'D:/uni/master/models/region_hpo/opt_{}_{}_{}_{}'.format(today.tm_year, today.tm_mon, today.tm_mday, name)\n",
    "output_directory"
   ]
  },
  {
   "cell_type": "markdown",
   "metadata": {},
   "source": [
    "Define hyper-parameters inclduing the evaluation information:\n",
    " * Define the hyper-parameter optimization mode: **HPO_mode**\n",
    " * Define for each hyper-parameter a list of values (single valued lists are possible)\n",
    " * Define the number of hyper-parameter optimization iterations: **maximum_number_of_hpo_iters**\n",
    " * Define the path to the test set (**test_set_path**) or define the ratio of the training set that should be used as test set (**test_set_ratio**)\n",
    " * Define whether you want to compute the metrics (mean rank and hits@k) in raw or in a filtered setting: **filter_negative_triples**"
   ]
  },
  {
   "cell_type": "code",
   "execution_count": 19,
   "metadata": {
    "ExecuteTime": {
     "end_time": "2019-07-10T14:55:35.249521Z",
     "start_time": "2019-07-10T14:55:35.243511Z"
    }
   },
   "outputs": [],
   "source": [
    "config = dict(\n",
    "    metrics                     = ['mean_rank'],\n",
    "    training_set_path           = 'D:/uni/master/data/FB15K/train.tsv', \n",
    "    test_set_path               = 'D:/uni/master/data/FB15K/valid_150.tsv',\n",
    "    mapping_path                = 'D:/uni/master/data/fb15k/',\n",
    "    execution_mode              = 'HPO_mode', # Define hyper-parameter optimization mode\n",
    "    random_seed                 = 5,\n",
    "    \n",
    "    kg_embedding_model_name     = 'Region',\n",
    "    region_type                 = ['arbitrary'],\n",
    "    embedding_dim               = [50],\n",
    "    normalization_of_entities   = [2],\n",
    "    init_radius                 = 0,\n",
    "    reg_lambda                  = [0], # [5, 1, 0.1, 0.01, 0],\n",
    "    loss_type                   = ['MRL'],\n",
    "    margin_loss                 = [0.1],  # [0.0, 0.02, 0.05, 0.1, 0.2, 0.3],\n",
    "    \n",
    "    neg_factor                  = [1],\n",
    "    corrupt_relations           = [False], # [True, False],\n",
    "    filter_negative_triples     = False,\n",
    "    \n",
    "    es_metric                   = 'custom',\n",
    "    learning_rate               = [1e-1],\n",
    "    num_epochs                  = [500] if not TEST else [10],  \n",
    "    batch_size                  = [2048],\n",
    "    test_batch_size             = [4096],\n",
    "    maximum_number_of_hpo_iters = 1, # Define the number HPO iterations\n",
    "    preferred_device            = 'gpu'\n",
    ")"
   ]
  },
  {
   "cell_type": "markdown",
   "metadata": {
    "ExecuteTime": {
     "end_time": "2019-06-28T19:53:20.430564Z",
     "start_time": "2019-06-28T19:53:20.419587Z"
    }
   },
   "source": [
    "config = dict(\n",
    "    metrics                     = ['mean_rank'],\n",
    "    training_set_path           = 'D:/uni/master/data/FB15K/train.tsv', \n",
    "    test_set_path               = 'D:/uni/master/data/FB15K/valid_150.tsv',\n",
    "    mapping_path                = 'D:/uni/master/data/fb15k/',\n",
    "    execution_mode              = 'HPO_mode', # Define hyper-parameter optimization mode\n",
    "    random_seed                 = 5,\n",
    "    \n",
    "    kg_embedding_model_name     = 'Region',\n",
    "    region_type                 = ['sphere'],\n",
    "    embedding_dim               = [50],\n",
    "    normalization_of_entities   = [1,2],\n",
    "    init_radius                 = 0,\n",
    "    reg_lambda                  = [100, 10, 1, 0, 0.1, 0.01],\n",
    "    loss_type                   = ['NLL'],\n",
    "    margin_loss                 = [0],  # [0.0, 0.02, 0.05, 0.1, 0.2, 0.3],\n",
    "    \n",
    "    neg_factor                  = [1, 2, 5],\n",
    "    corrupt_relations           = [True, False],\n",
    "    filter_negative_triples     = False,\n",
    "    \n",
    "    es_metric                   = 'custom',\n",
    "    learning_rate               = [1e-1],\n",
    "    num_epochs                  = [1000] if not TEST else [10],  \n",
    "    batch_size                  = [2048],\n",
    "    test_batch_size             = [4096],\n",
    "    maximum_number_of_hpo_iters = 10, # Define the number HPO iterations\n",
    "    preferred_device            = 'gpu'\n",
    ")"
   ]
  },
  {
   "cell_type": "markdown",
   "metadata": {},
   "source": [
    "Train and evaluate Region:"
   ]
  },
  {
   "cell_type": "code",
   "execution_count": 20,
   "metadata": {
    "ExecuteTime": {
     "end_time": "2019-07-11T05:27:01.081712Z",
     "start_time": "2019-07-10T14:55:36.756225Z"
    }
   },
   "outputs": [
    {
     "name": "stderr",
     "output_type": "stream",
     "text": [
      "\r",
      "HPO Iteration:   0%|                                                                             | 0/1 [00:00<?, ?it/s]"
     ]
    },
    {
     "name": "stdout",
     "output_type": "stream",
     "text": [
      "{'metrics': 'mean_rank', 'training_set_path': 'D:/uni/master/data/FB15K/train.tsv', 'test_set_path': 'D:/uni/master/data/FB15K/valid_150.tsv', 'mapping_path': 'D:/uni/master/data/fb15k/', 'execution_mode': 'HPO_mode', 'random_seed': 5, 'kg_embedding_model_name': 'Region', 'region_type': 'arbitrary', 'embedding_dim': 50, 'normalization_of_entities': 2, 'init_radius': 0, 'reg_lambda': 0, 'loss_type': 'MRL', 'margin_loss': 0.1, 'neg_factor': 1, 'corrupt_relations': False, 'filter_negative_triples': False, 'es_metric': 'custom', 'learning_rate': 0.1, 'num_epochs': 500, 'batch_size': 2048, 'test_batch_size': 4096, 'maximum_number_of_hpo_iters': 1, 'preferred_device': 'gpu', 'pykeen-version': '0.0.26-dev', 'num_entities': 14951, 'num_relations': 1345}\n"
     ]
    },
    {
     "name": "stderr",
     "output_type": "stream",
     "text": [
      "INFO:pykeen.utilities.evaluation_utils.metrics_computations:Evaluation took 478.95s seconds\n"
     ]
    },
    {
     "name": "stdout",
     "output_type": "stream",
     "text": [
      "0.09370854979236712 (0.07436031784701051, 0.12666666666666668)\n"
     ]
    },
    {
     "name": "stderr",
     "output_type": "stream",
     "text": [
      "INFO:pykeen.utilities.train_utils:Epoch   0 /  500 (126.1s):  loss: 0.048  val loss: 0.020  value: 0.094  patience:   1\n",
      "INFO:pykeen.utilities.train_utils:Epoch   1 /  500 (124.6s):  loss: 0.017  val loss: 0.011  value: 0.094  patience:   2\n",
      "INFO:pykeen.utilities.train_utils:Epoch   2 /  500 (125.1s):  loss: 0.012  val loss: 0.006  value: 0.094  patience:   3\n",
      "INFO:pykeen.utilities.train_utils:Epoch   3 /  500 (124.7s):  loss: 0.010  val loss: 0.005  value: 0.094  patience:   4\n",
      "INFO:pykeen.utilities.train_utils:Epoch   4 /  500 (124.8s):  loss: 0.008  val loss: 0.004  value: 0.094  patience:   5\n",
      "INFO:pykeen.utilities.train_utils:Epoch   5 /  500 (125.3s):  loss: 0.008  val loss: 0.007  value: 0.094  patience:   6\n",
      "INFO:pykeen.utilities.train_utils:Epoch   6 /  500 (125.2s):  loss: 0.007  val loss: 0.007  value: 0.094  patience:   7\n",
      "INFO:pykeen.utilities.train_utils:Epoch   7 /  500 (125.2s):  loss: 0.007  val loss: 0.006  value: 0.094  patience:   8\n",
      "INFO:pykeen.utilities.train_utils:Epoch   8 /  500 (125.0s):  loss: 0.007  val loss: 0.008  value: 0.094  patience:   9\n",
      "INFO:pykeen.utilities.train_utils:Epoch   9 /  500 (129.7s):  loss: 0.006  val loss: 0.009  value: 0.094  patience:  10\n",
      "INFO:pykeen.utilities.evaluation_utils.metrics_computations:Evaluation took 480.72s seconds\n"
     ]
    },
    {
     "name": "stdout",
     "output_type": "stream",
     "text": [
      "0.1329031057536599 (0.10423168304335696, 0.18333333333333332)\n"
     ]
    },
    {
     "name": "stderr",
     "output_type": "stream",
     "text": [
      "INFO:pykeen.utilities.train_utils:Epoch  10 /  500 (125.7s):  loss: 0.006  val loss: 0.009  value: 0.133  patience:   1\n",
      "INFO:pykeen.utilities.train_utils:Epoch  11 /  500 (124.7s):  loss: 0.006  val loss: 0.011  value: 0.133  patience:   2\n",
      "INFO:pykeen.utilities.train_utils:Epoch  12 /  500 (124.7s):  loss: 0.006  val loss: 0.006  value: 0.133  patience:   3\n",
      "INFO:pykeen.utilities.train_utils:Epoch  13 /  500 (124.7s):  loss: 0.006  val loss: 0.006  value: 0.133  patience:   4\n",
      "INFO:pykeen.utilities.train_utils:Epoch  14 /  500 (124.6s):  loss: 0.006  val loss: 0.008  value: 0.133  patience:   5\n",
      "INFO:pykeen.utilities.train_utils:Epoch  15 /  500 (124.7s):  loss: 0.005  val loss: 0.007  value: 0.133  patience:   6\n",
      "INFO:pykeen.utilities.train_utils:Epoch  16 /  500 (124.6s):  loss: 0.005  val loss: 0.005  value: 0.133  patience:   7\n",
      "INFO:pykeen.utilities.train_utils:Epoch  17 /  500 (124.7s):  loss: 0.005  val loss: 0.003  value: 0.133  patience:   8\n",
      "INFO:pykeen.utilities.train_utils:Epoch  18 /  500 (124.6s):  loss: 0.005  val loss: 0.004  value: 0.133  patience:   9\n",
      "INFO:pykeen.utilities.train_utils:Epoch  19 /  500 (124.6s):  loss: 0.005  val loss: 0.005  value: 0.133  patience:  10\n",
      "INFO:pykeen.utilities.evaluation_utils.metrics_computations:Evaluation took 478.91s seconds\n"
     ]
    },
    {
     "name": "stdout",
     "output_type": "stream",
     "text": [
      "0.15950065419695744 (0.12028220981901953, 0.23666666666666666)\n"
     ]
    },
    {
     "name": "stderr",
     "output_type": "stream",
     "text": [
      "INFO:pykeen.utilities.train_utils:Epoch  20 /  500 (124.6s):  loss: 0.005  val loss: 0.003  value: 0.160  patience:   1\n",
      "INFO:pykeen.utilities.train_utils:Epoch  21 /  500 (124.7s):  loss: 0.005  val loss: 0.007  value: 0.160  patience:   2\n",
      "INFO:pykeen.utilities.train_utils:Epoch  22 /  500 (124.6s):  loss: 0.005  val loss: 0.006  value: 0.160  patience:   3\n",
      "INFO:pykeen.utilities.train_utils:Epoch  23 /  500 (124.7s):  loss: 0.005  val loss: 0.005  value: 0.160  patience:   4\n",
      "INFO:pykeen.utilities.train_utils:Epoch  24 /  500 (124.7s):  loss: 0.005  val loss: 0.003  value: 0.160  patience:   5\n",
      "INFO:pykeen.utilities.train_utils:Epoch  25 /  500 (124.7s):  loss: 0.005  val loss: 0.002  value: 0.160  patience:   6\n",
      "INFO:pykeen.utilities.train_utils:Epoch  26 /  500 (124.6s):  loss: 0.005  val loss: 0.003  value: 0.160  patience:   7\n",
      "INFO:pykeen.utilities.train_utils:Epoch  27 /  500 (124.7s):  loss: 0.005  val loss: 0.003  value: 0.160  patience:   8\n",
      "INFO:pykeen.utilities.train_utils:Epoch  28 /  500 (124.7s):  loss: 0.005  val loss: 0.004  value: 0.160  patience:   9\n",
      "INFO:pykeen.utilities.train_utils:Epoch  29 /  500 (124.6s):  loss: 0.004  val loss: 0.004  value: 0.160  patience:  10\n",
      "INFO:pykeen.utilities.evaluation_utils.metrics_computations:Evaluation took 478.75s seconds\n"
     ]
    },
    {
     "name": "stdout",
     "output_type": "stream",
     "text": [
      "0.1714586788653561 (0.1295798436391568, 0.25333333333333335)\n"
     ]
    },
    {
     "name": "stderr",
     "output_type": "stream",
     "text": [
      "INFO:pykeen.utilities.train_utils:Epoch  30 /  500 (124.6s):  loss: 0.004  val loss: 0.008  value: 0.171  patience:   1\n",
      "INFO:pykeen.utilities.train_utils:Epoch  31 /  500 (124.7s):  loss: 0.004  val loss: 0.007  value: 0.171  patience:   2\n",
      "INFO:pykeen.utilities.train_utils:Epoch  32 /  500 (124.7s):  loss: 0.004  val loss: 0.003  value: 0.171  patience:   3\n",
      "INFO:pykeen.utilities.train_utils:Epoch  33 /  500 (124.7s):  loss: 0.004  val loss: 0.004  value: 0.171  patience:   4\n",
      "INFO:pykeen.utilities.train_utils:Epoch  34 /  500 (124.7s):  loss: 0.004  val loss: 0.003  value: 0.171  patience:   5\n",
      "INFO:pykeen.utilities.train_utils:Epoch  35 /  500 (124.7s):  loss: 0.004  val loss: 0.002  value: 0.171  patience:   6\n",
      "INFO:pykeen.utilities.train_utils:Epoch  36 /  500 (124.7s):  loss: 0.004  val loss: 0.002  value: 0.171  patience:   7\n",
      "INFO:pykeen.utilities.train_utils:Epoch  37 /  500 (124.7s):  loss: 0.004  val loss: 0.004  value: 0.171  patience:   8\n",
      "INFO:pykeen.utilities.train_utils:Epoch  38 /  500 (124.7s):  loss: 0.004  val loss: 0.005  value: 0.171  patience:   9\n",
      "INFO:pykeen.utilities.train_utils:Epoch  39 /  500 (124.7s):  loss: 0.004  val loss: 0.006  value: 0.171  patience:  10\n",
      "INFO:pykeen.utilities.evaluation_utils.metrics_computations:Evaluation took 478.75s seconds\n"
     ]
    },
    {
     "name": "stdout",
     "output_type": "stream",
     "text": [
      "0.17033314093741106 (0.13007889495741723, 0.24666666666666667)\n"
     ]
    },
    {
     "name": "stderr",
     "output_type": "stream",
     "text": [
      "INFO:pykeen.utilities.train_utils:Epoch  40 /  500 (124.7s):  loss: 0.004  val loss: 0.008  value: 0.170  patience:  11\n",
      "INFO:pykeen.utilities.train_utils:Epoch  41 /  500 (124.7s):  loss: 0.004  val loss: 0.006  value: 0.170  patience:  12\n",
      "INFO:pykeen.utilities.train_utils:Epoch  42 /  500 (124.7s):  loss: 0.004  val loss: 0.006  value: 0.170  patience:  13\n",
      "INFO:pykeen.utilities.train_utils:Epoch  43 /  500 (124.7s):  loss: 0.004  val loss: 0.005  value: 0.170  patience:  14\n",
      "INFO:pykeen.utilities.train_utils:Epoch  44 /  500 (124.7s):  loss: 0.004  val loss: 0.006  value: 0.170  patience:  15\n",
      "INFO:pykeen.utilities.train_utils:Epoch  45 /  500 (124.7s):  loss: 0.004  val loss: 0.002  value: 0.170  patience:  16\n",
      "INFO:pykeen.utilities.train_utils:Epoch  46 /  500 (124.7s):  loss: 0.004  val loss: 0.005  value: 0.170  patience:  17\n",
      "INFO:pykeen.utilities.train_utils:Epoch  47 /  500 (124.7s):  loss: 0.004  val loss: 0.008  value: 0.170  patience:  18\n",
      "INFO:pykeen.utilities.train_utils:Epoch  48 /  500 (124.6s):  loss: 0.004  val loss: 0.009  value: 0.170  patience:  19\n",
      "INFO:pykeen.utilities.train_utils:Epoch  49 /  500 (124.7s):  loss: 0.004  val loss: 0.008  value: 0.170  patience:  20\n",
      "INFO:pykeen.utilities.evaluation_utils.metrics_computations:Evaluation took 478.72s seconds\n"
     ]
    },
    {
     "name": "stdout",
     "output_type": "stream",
     "text": [
      "0.16832648918077786 (0.128665649507818, 0.24333333333333335)\n"
     ]
    },
    {
     "name": "stderr",
     "output_type": "stream",
     "text": [
      "INFO:pykeen.utilities.train_utils:Epoch  50 /  500 (124.7s):  loss: 0.004  val loss: 0.009  value: 0.168  patience:  21\n",
      "INFO:pykeen.utilities.train_utils:Epoch  51 /  500 (124.7s):  loss: 0.004  val loss: 0.007  value: 0.168  patience:  22\n",
      "INFO:pykeen.utilities.train_utils:Epoch  52 /  500 (124.7s):  loss: 0.004  val loss: 0.006  value: 0.168  patience:  23\n",
      "INFO:pykeen.utilities.train_utils:Epoch  53 /  500 (124.7s):  loss: 0.004  val loss: 0.005  value: 0.168  patience:  24\n",
      "INFO:pykeen.utilities.train_utils:Epoch  54 /  500 (124.7s):  loss: 0.004  val loss: 0.005  value: 0.168  patience:  25\n",
      "INFO:pykeen.utilities.train_utils:Epoch  55 /  500 (124.7s):  loss: 0.004  val loss: 0.006  value: 0.168  patience:  26\n"
     ]
    },
    {
     "name": "stdout",
     "output_type": "stream",
     "text": [
      "Epoch    56: reducing learning rate of group 0 to 1.0000e-02.\n"
     ]
    },
    {
     "name": "stderr",
     "output_type": "stream",
     "text": [
      "INFO:pykeen.utilities.train_utils:Epoch  56 /  500 (124.7s):  loss: 0.004  val loss: 0.004  value: 0.168  patience:  27\n",
      "INFO:pykeen.utilities.train_utils:Epoch  57 /  500 (124.7s):  loss: 0.003  val loss: 0.004  value: 0.168  patience:  28\n",
      "INFO:pykeen.utilities.train_utils:Epoch  58 /  500 (124.7s):  loss: 0.003  val loss: 0.004  value: 0.168  patience:  29\n",
      "INFO:pykeen.utilities.train_utils:Epoch  59 /  500 (124.7s):  loss: 0.003  val loss: 0.004  value: 0.168  patience:  30\n",
      "INFO:pykeen.utilities.evaluation_utils.metrics_computations:Evaluation took 478.72s seconds\n"
     ]
    },
    {
     "name": "stdout",
     "output_type": "stream",
     "text": [
      "0.19107536775237652 (0.15218453214863853, 0.25666666666666665)\n"
     ]
    },
    {
     "name": "stderr",
     "output_type": "stream",
     "text": [
      "INFO:pykeen.utilities.train_utils:Epoch  60 /  500 (125.4s):  loss: 0.003  val loss: 0.004  value: 0.191  patience:   1\n",
      "INFO:pykeen.utilities.train_utils:Epoch  61 /  500 (124.6s):  loss: 0.003  val loss: 0.004  value: 0.191  patience:   2\n",
      "INFO:pykeen.utilities.train_utils:Epoch  62 /  500 (124.6s):  loss: 0.003  val loss: 0.004  value: 0.191  patience:   3\n",
      "INFO:pykeen.utilities.train_utils:Epoch  63 /  500 (124.7s):  loss: 0.003  val loss: 0.004  value: 0.191  patience:   4\n",
      "INFO:pykeen.utilities.train_utils:Epoch  64 /  500 (124.8s):  loss: 0.003  val loss: 0.004  value: 0.191  patience:   5\n",
      "INFO:pykeen.utilities.train_utils:Epoch  65 /  500 (124.8s):  loss: 0.003  val loss: 0.005  value: 0.191  patience:   6\n",
      "INFO:pykeen.utilities.train_utils:Epoch  66 /  500 (124.8s):  loss: 0.003  val loss: 0.005  value: 0.191  patience:   7\n",
      "INFO:pykeen.utilities.train_utils:Epoch  67 /  500 (124.8s):  loss: 0.003  val loss: 0.005  value: 0.191  patience:   8\n",
      "INFO:pykeen.utilities.train_utils:Epoch  68 /  500 (124.8s):  loss: 0.003  val loss: 0.005  value: 0.191  patience:   9\n",
      "INFO:pykeen.utilities.train_utils:Epoch  69 /  500 (124.8s):  loss: 0.003  val loss: 0.005  value: 0.191  patience:  10\n",
      "INFO:pykeen.utilities.evaluation_utils.metrics_computations:Evaluation took 479.19s seconds\n"
     ]
    },
    {
     "name": "stdout",
     "output_type": "stream",
     "text": [
      "0.20071978963301282 (0.16092332452852703, 0.26666666666666666)\n"
     ]
    },
    {
     "name": "stderr",
     "output_type": "stream",
     "text": [
      "INFO:pykeen.utilities.train_utils:Epoch  70 /  500 (124.8s):  loss: 0.003  val loss: 0.005  value: 0.201  patience:   1\n",
      "INFO:pykeen.utilities.train_utils:Epoch  71 /  500 (124.8s):  loss: 0.003  val loss: 0.005  value: 0.201  patience:   2\n",
      "INFO:pykeen.utilities.train_utils:Epoch  72 /  500 (124.8s):  loss: 0.003  val loss: 0.004  value: 0.201  patience:   3\n",
      "INFO:pykeen.utilities.train_utils:Epoch  73 /  500 (124.8s):  loss: 0.003  val loss: 0.005  value: 0.201  patience:   4\n",
      "INFO:pykeen.utilities.train_utils:Epoch  74 /  500 (124.7s):  loss: 0.003  val loss: 0.004  value: 0.201  patience:   5\n",
      "INFO:pykeen.utilities.train_utils:Epoch  75 /  500 (124.8s):  loss: 0.003  val loss: 0.005  value: 0.201  patience:   6\n",
      "INFO:pykeen.utilities.train_utils:Epoch  76 /  500 (124.8s):  loss: 0.003  val loss: 0.005  value: 0.201  patience:   7\n"
     ]
    },
    {
     "name": "stdout",
     "output_type": "stream",
     "text": [
      "Epoch    77: reducing learning rate of group 0 to 1.0000e-03.\n"
     ]
    },
    {
     "name": "stderr",
     "output_type": "stream",
     "text": [
      "INFO:pykeen.utilities.train_utils:Epoch  77 /  500 (124.8s):  loss: 0.003  val loss: 0.005  value: 0.201  patience:   8\n",
      "INFO:pykeen.utilities.train_utils:Epoch  78 /  500 (124.7s):  loss: 0.002  val loss: 0.005  value: 0.201  patience:   9\n",
      "INFO:pykeen.utilities.train_utils:Epoch  79 /  500 (124.8s):  loss: 0.002  val loss: 0.005  value: 0.201  patience:  10\n",
      "INFO:pykeen.utilities.evaluation_utils.metrics_computations:Evaluation took 479.22s seconds\n"
     ]
    },
    {
     "name": "stdout",
     "output_type": "stream",
     "text": [
      "0.20293034746345764 (0.1637841110337332, 0.26666666666666666)\n"
     ]
    },
    {
     "name": "stderr",
     "output_type": "stream",
     "text": [
      "INFO:pykeen.utilities.train_utils:Epoch  80 /  500 (124.8s):  loss: 0.002  val loss: 0.005  value: 0.203  patience:   1\n",
      "INFO:pykeen.utilities.train_utils:Epoch  81 /  500 (124.8s):  loss: 0.002  val loss: 0.005  value: 0.203  patience:   2\n",
      "INFO:pykeen.utilities.train_utils:Epoch  82 /  500 (124.8s):  loss: 0.002  val loss: 0.005  value: 0.203  patience:   3\n",
      "INFO:pykeen.utilities.train_utils:Epoch  83 /  500 (124.7s):  loss: 0.003  val loss: 0.005  value: 0.203  patience:   4\n",
      "INFO:pykeen.utilities.train_utils:Epoch  84 /  500 (124.8s):  loss: 0.002  val loss: 0.005  value: 0.203  patience:   5\n",
      "INFO:pykeen.utilities.train_utils:Epoch  85 /  500 (124.8s):  loss: 0.002  val loss: 0.005  value: 0.203  patience:   6\n",
      "INFO:pykeen.utilities.train_utils:Epoch  86 /  500 (124.8s):  loss: 0.002  val loss: 0.005  value: 0.203  patience:   7\n",
      "INFO:pykeen.utilities.train_utils:Epoch  87 /  500 (124.8s):  loss: 0.002  val loss: 0.005  value: 0.203  patience:   8\n",
      "INFO:pykeen.utilities.train_utils:Epoch  88 /  500 (124.8s):  loss: 0.002  val loss: 0.005  value: 0.203  patience:   9\n",
      "INFO:pykeen.utilities.train_utils:Epoch  89 /  500 (124.7s):  loss: 0.002  val loss: 0.005  value: 0.203  patience:  10\n",
      "INFO:pykeen.utilities.evaluation_utils.metrics_computations:Evaluation took 478.72s seconds\n"
     ]
    },
    {
     "name": "stdout",
     "output_type": "stream",
     "text": [
      "0.20480648863059564 (0.16375244565568978, 0.2733333333333333)\n"
     ]
    },
    {
     "name": "stderr",
     "output_type": "stream",
     "text": [
      "INFO:pykeen.utilities.train_utils:Epoch  90 /  500 (124.6s):  loss: 0.002  val loss: 0.005  value: 0.205  patience:   1\n",
      "INFO:pykeen.utilities.train_utils:Epoch  91 /  500 (124.6s):  loss: 0.002  val loss: 0.005  value: 0.205  patience:   2\n",
      "INFO:pykeen.utilities.train_utils:Epoch  92 /  500 (124.7s):  loss: 0.002  val loss: 0.005  value: 0.205  patience:   3\n",
      "INFO:pykeen.utilities.train_utils:Epoch  93 /  500 (124.7s):  loss: 0.002  val loss: 0.005  value: 0.205  patience:   4\n",
      "INFO:pykeen.utilities.train_utils:Epoch  94 /  500 (124.7s):  loss: 0.002  val loss: 0.005  value: 0.205  patience:   5\n",
      "INFO:pykeen.utilities.train_utils:Epoch  95 /  500 (124.7s):  loss: 0.002  val loss: 0.005  value: 0.205  patience:   6\n",
      "INFO:pykeen.utilities.train_utils:Epoch  96 /  500 (124.7s):  loss: 0.002  val loss: 0.005  value: 0.205  patience:   7\n",
      "INFO:pykeen.utilities.train_utils:Epoch  97 /  500 (124.6s):  loss: 0.002  val loss: 0.005  value: 0.205  patience:   8\n",
      "INFO:pykeen.utilities.train_utils:Epoch  98 /  500 (124.6s):  loss: 0.002  val loss: 0.005  value: 0.205  patience:   9\n",
      "INFO:pykeen.utilities.train_utils:Epoch  99 /  500 (124.6s):  loss: 0.002  val loss: 0.005  value: 0.205  patience:  10\n",
      "INFO:pykeen.utilities.evaluation_utils.metrics_computations:Evaluation took 478.32s seconds\n"
     ]
    },
    {
     "name": "stdout",
     "output_type": "stream",
     "text": [
      "0.20219333282596025 (0.1593101194234569, 0.27666666666666667)\n"
     ]
    },
    {
     "name": "stderr",
     "output_type": "stream",
     "text": [
      "INFO:pykeen.utilities.train_utils:Epoch 100 /  500 (124.6s):  loss: 0.002  val loss: 0.005  value: 0.202  patience:  11\n",
      "INFO:pykeen.utilities.train_utils:Epoch 101 /  500 (124.6s):  loss: 0.002  val loss: 0.005  value: 0.202  patience:  12\n",
      "INFO:pykeen.utilities.train_utils:Epoch 102 /  500 (124.6s):  loss: 0.002  val loss: 0.005  value: 0.202  patience:  13\n",
      "INFO:pykeen.utilities.train_utils:Epoch 103 /  500 (124.6s):  loss: 0.002  val loss: 0.005  value: 0.202  patience:  14\n",
      "INFO:pykeen.utilities.train_utils:Epoch 104 /  500 (124.6s):  loss: 0.002  val loss: 0.005  value: 0.202  patience:  15\n",
      "INFO:pykeen.utilities.train_utils:Epoch 105 /  500 (124.6s):  loss: 0.002  val loss: 0.005  value: 0.202  patience:  16\n",
      "INFO:pykeen.utilities.train_utils:Epoch 106 /  500 (124.6s):  loss: 0.002  val loss: 0.005  value: 0.202  patience:  17\n",
      "INFO:pykeen.utilities.train_utils:Epoch 107 /  500 (124.6s):  loss: 0.002  val loss: 0.005  value: 0.202  patience:  18\n",
      "INFO:pykeen.utilities.train_utils:Epoch 108 /  500 (124.6s):  loss: 0.002  val loss: 0.005  value: 0.202  patience:  19\n",
      "INFO:pykeen.utilities.train_utils:Epoch 109 /  500 (124.6s):  loss: 0.002  val loss: 0.005  value: 0.202  patience:  20\n",
      "INFO:pykeen.utilities.evaluation_utils.metrics_computations:Evaluation took 478.57s seconds\n"
     ]
    },
    {
     "name": "stdout",
     "output_type": "stream",
     "text": [
      "0.20371644739201122 (0.15902913686001924, 0.2833333333333333)\n"
     ]
    },
    {
     "name": "stderr",
     "output_type": "stream",
     "text": [
      "INFO:pykeen.utilities.train_utils:Epoch 110 /  500 (124.6s):  loss: 0.002  val loss: 0.005  value: 0.204  patience:  21\n",
      "INFO:pykeen.utilities.train_utils:Epoch 111 /  500 (124.7s):  loss: 0.002  val loss: 0.005  value: 0.204  patience:  22\n",
      "INFO:pykeen.utilities.train_utils:Epoch 112 /  500 (124.7s):  loss: 0.002  val loss: 0.005  value: 0.204  patience:  23\n",
      "INFO:pykeen.utilities.train_utils:Epoch 113 /  500 (124.7s):  loss: 0.002  val loss: 0.005  value: 0.204  patience:  24\n",
      "INFO:pykeen.utilities.train_utils:Epoch 114 /  500 (124.7s):  loss: 0.002  val loss: 0.005  value: 0.204  patience:  25\n",
      "INFO:pykeen.utilities.train_utils:Epoch 115 /  500 (124.7s):  loss: 0.002  val loss: 0.005  value: 0.204  patience:  26\n",
      "INFO:pykeen.utilities.train_utils:Epoch 116 /  500 (124.6s):  loss: 0.002  val loss: 0.005  value: 0.204  patience:  27\n",
      "INFO:pykeen.utilities.train_utils:Epoch 117 /  500 (124.9s):  loss: 0.002  val loss: 0.005  value: 0.204  patience:  28\n",
      "INFO:pykeen.utilities.train_utils:Epoch 118 /  500 (124.7s):  loss: 0.002  val loss: 0.005  value: 0.204  patience:  29\n",
      "INFO:pykeen.utilities.train_utils:Epoch 119 /  500 (125.0s):  loss: 0.002  val loss: 0.005  value: 0.204  patience:  30\n",
      "INFO:pykeen.utilities.evaluation_utils.metrics_computations:Evaluation took 478.78s seconds\n"
     ]
    },
    {
     "name": "stdout",
     "output_type": "stream",
     "text": [
      "0.20154902816409215 (0.15962692587146404, 0.2733333333333333)\n"
     ]
    },
    {
     "name": "stderr",
     "output_type": "stream",
     "text": [
      "INFO:pykeen.utilities.train_utils:Epoch 120 /  500 (124.7s):  loss: 0.002  val loss: 0.005  value: 0.202  patience:  31\n",
      "INFO:pykeen.utilities.train_utils:Epoch 121 /  500 (124.7s):  loss: 0.002  val loss: 0.005  value: 0.202  patience:  32\n",
      "INFO:pykeen.utilities.train_utils:Epoch 122 /  500 (124.7s):  loss: 0.002  val loss: 0.005  value: 0.202  patience:  33\n",
      "INFO:pykeen.utilities.train_utils:Epoch 123 /  500 (124.7s):  loss: 0.002  val loss: 0.005  value: 0.202  patience:  34\n",
      "INFO:pykeen.utilities.train_utils:Epoch 124 /  500 (124.7s):  loss: 0.002  val loss: 0.005  value: 0.202  patience:  35\n",
      "INFO:pykeen.utilities.train_utils:Epoch 125 /  500 (124.7s):  loss: 0.002  val loss: 0.005  value: 0.202  patience:  36\n",
      "INFO:pykeen.utilities.train_utils:Epoch 126 /  500 (124.7s):  loss: 0.002  val loss: 0.005  value: 0.202  patience:  37\n",
      "INFO:pykeen.utilities.train_utils:Epoch 127 /  500 (124.7s):  loss: 0.002  val loss: 0.005  value: 0.202  patience:  38\n",
      "INFO:pykeen.utilities.train_utils:Epoch 128 /  500 (124.7s):  loss: 0.002  val loss: 0.005  value: 0.202  patience:  39\n",
      "INFO:pykeen.utilities.train_utils:Epoch 129 /  500 (124.7s):  loss: 0.002  val loss: 0.005  value: 0.202  patience:  40\n",
      "INFO:pykeen.utilities.evaluation_utils.metrics_computations:Evaluation took 478.81s seconds\n"
     ]
    },
    {
     "name": "stdout",
     "output_type": "stream",
     "text": [
      "0.20515221400277567 (0.16078599404755026, 0.2833333333333333)\n"
     ]
    },
    {
     "name": "stderr",
     "output_type": "stream",
     "text": [
      "INFO:pykeen.utilities.train_utils:Epoch 130 /  500 (124.7s):  loss: 0.002  val loss: 0.005  value: 0.205  patience:   1\n",
      "INFO:pykeen.utilities.train_utils:Epoch 131 /  500 (124.7s):  loss: 0.002  val loss: 0.005  value: 0.205  patience:   2\n",
      "INFO:pykeen.utilities.train_utils:Epoch 132 /  500 (124.6s):  loss: 0.002  val loss: 0.005  value: 0.205  patience:   3\n",
      "INFO:pykeen.utilities.train_utils:Epoch 133 /  500 (124.6s):  loss: 0.002  val loss: 0.005  value: 0.205  patience:   4\n",
      "INFO:pykeen.utilities.train_utils:Epoch 134 /  500 (124.6s):  loss: 0.002  val loss: 0.005  value: 0.205  patience:   5\n",
      "INFO:pykeen.utilities.train_utils:Epoch 135 /  500 (124.6s):  loss: 0.002  val loss: 0.005  value: 0.205  patience:   6\n",
      "INFO:pykeen.utilities.train_utils:Epoch 136 /  500 (124.6s):  loss: 0.002  val loss: 0.005  value: 0.205  patience:   7\n",
      "INFO:pykeen.utilities.train_utils:Epoch 137 /  500 (124.6s):  loss: 0.002  val loss: 0.005  value: 0.205  patience:   8\n",
      "INFO:pykeen.utilities.train_utils:Epoch 138 /  500 (124.7s):  loss: 0.002  val loss: 0.005  value: 0.205  patience:   9\n",
      "INFO:pykeen.utilities.train_utils:Epoch 139 /  500 (124.6s):  loss: 0.002  val loss: 0.005  value: 0.205  patience:  10\n",
      "INFO:pykeen.utilities.evaluation_utils.metrics_computations:Evaluation took 478.96s seconds\n"
     ]
    },
    {
     "name": "stdout",
     "output_type": "stream",
     "text": [
      "0.20792759498292848 (0.16206254947147347, 0.29)\n"
     ]
    },
    {
     "name": "stderr",
     "output_type": "stream",
     "text": [
      "INFO:pykeen.utilities.train_utils:Epoch 140 /  500 (124.6s):  loss: 0.002  val loss: 0.005  value: 0.208  patience:   1\n",
      "INFO:pykeen.utilities.train_utils:Epoch 141 /  500 (124.6s):  loss: 0.002  val loss: 0.005  value: 0.208  patience:   2\n",
      "INFO:pykeen.utilities.train_utils:Epoch 142 /  500 (124.6s):  loss: 0.002  val loss: 0.005  value: 0.208  patience:   3\n",
      "INFO:pykeen.utilities.train_utils:Epoch 143 /  500 (124.6s):  loss: 0.002  val loss: 0.005  value: 0.208  patience:   4\n",
      "INFO:pykeen.utilities.train_utils:Epoch 144 /  500 (124.6s):  loss: 0.002  val loss: 0.005  value: 0.208  patience:   5\n",
      "INFO:pykeen.utilities.train_utils:Epoch 145 /  500 (124.6s):  loss: 0.002  val loss: 0.005  value: 0.208  patience:   6\n",
      "INFO:pykeen.utilities.train_utils:Epoch 146 /  500 (124.6s):  loss: 0.002  val loss: 0.005  value: 0.208  patience:   7\n",
      "INFO:pykeen.utilities.train_utils:Epoch 147 /  500 (124.6s):  loss: 0.002  val loss: 0.005  value: 0.208  patience:   8\n",
      "INFO:pykeen.utilities.train_utils:Epoch 148 /  500 (124.7s):  loss: 0.002  val loss: 0.005  value: 0.208  patience:   9\n",
      "INFO:pykeen.utilities.train_utils:Epoch 149 /  500 (124.6s):  loss: 0.002  val loss: 0.005  value: 0.208  patience:  10\n",
      "INFO:pykeen.utilities.evaluation_utils.metrics_computations:Evaluation took 479.01s seconds\n"
     ]
    },
    {
     "name": "stdout",
     "output_type": "stream",
     "text": [
      "0.20909903297909746 (0.1645691323662955, 0.2866666666666667)\n"
     ]
    },
    {
     "name": "stderr",
     "output_type": "stream",
     "text": [
      "INFO:pykeen.utilities.train_utils:Epoch 150 /  500 (124.6s):  loss: 0.002  val loss: 0.005  value: 0.209  patience:   1\n",
      "INFO:pykeen.utilities.train_utils:Epoch 151 /  500 (124.7s):  loss: 0.002  val loss: 0.005  value: 0.209  patience:   2\n",
      "INFO:pykeen.utilities.train_utils:Epoch 152 /  500 (124.6s):  loss: 0.002  val loss: 0.005  value: 0.209  patience:   3\n",
      "INFO:pykeen.utilities.train_utils:Epoch 153 /  500 (124.6s):  loss: 0.002  val loss: 0.005  value: 0.209  patience:   4\n",
      "INFO:pykeen.utilities.train_utils:Epoch 154 /  500 (124.6s):  loss: 0.002  val loss: 0.005  value: 0.209  patience:   5\n",
      "INFO:pykeen.utilities.train_utils:Epoch 155 /  500 (124.7s):  loss: 0.002  val loss: 0.005  value: 0.209  patience:   6\n",
      "INFO:pykeen.utilities.train_utils:Epoch 156 /  500 (124.6s):  loss: 0.002  val loss: 0.005  value: 0.209  patience:   7\n",
      "INFO:pykeen.utilities.train_utils:Epoch 157 /  500 (124.7s):  loss: 0.002  val loss: 0.005  value: 0.209  patience:   8\n",
      "INFO:pykeen.utilities.train_utils:Epoch 158 /  500 (124.6s):  loss: 0.002  val loss: 0.005  value: 0.209  patience:   9\n",
      "INFO:pykeen.utilities.train_utils:Epoch 159 /  500 (124.6s):  loss: 0.002  val loss: 0.005  value: 0.209  patience:  10\n",
      "INFO:pykeen.utilities.evaluation_utils.metrics_computations:Evaluation took 478.95s seconds\n"
     ]
    },
    {
     "name": "stdout",
     "output_type": "stream",
     "text": [
      "0.20676577387742218 (0.1606553478425091, 0.29)\n"
     ]
    },
    {
     "name": "stderr",
     "output_type": "stream",
     "text": [
      "INFO:pykeen.utilities.train_utils:Epoch 160 /  500 (124.6s):  loss: 0.002  val loss: 0.005  value: 0.207  patience:  11\n",
      "INFO:pykeen.utilities.train_utils:Epoch 161 /  500 (124.6s):  loss: 0.002  val loss: 0.005  value: 0.207  patience:  12\n",
      "INFO:pykeen.utilities.train_utils:Epoch 162 /  500 (124.6s):  loss: 0.002  val loss: 0.005  value: 0.207  patience:  13\n",
      "INFO:pykeen.utilities.train_utils:Epoch 163 /  500 (124.6s):  loss: 0.002  val loss: 0.005  value: 0.207  patience:  14\n",
      "INFO:pykeen.utilities.train_utils:Epoch 164 /  500 (124.6s):  loss: 0.002  val loss: 0.005  value: 0.207  patience:  15\n",
      "INFO:pykeen.utilities.train_utils:Epoch 165 /  500 (124.6s):  loss: 0.002  val loss: 0.005  value: 0.207  patience:  16\n",
      "INFO:pykeen.utilities.train_utils:Epoch 166 /  500 (124.6s):  loss: 0.002  val loss: 0.005  value: 0.207  patience:  17\n",
      "INFO:pykeen.utilities.train_utils:Epoch 167 /  500 (124.6s):  loss: 0.002  val loss: 0.005  value: 0.207  patience:  18\n",
      "INFO:pykeen.utilities.train_utils:Epoch 168 /  500 (124.6s):  loss: 0.002  val loss: 0.005  value: 0.207  patience:  19\n",
      "INFO:pykeen.utilities.train_utils:Epoch 169 /  500 (124.6s):  loss: 0.002  val loss: 0.004  value: 0.207  patience:  20\n",
      "INFO:pykeen.utilities.evaluation_utils.metrics_computations:Evaluation took 479.20s seconds\n"
     ]
    },
    {
     "name": "stdout",
     "output_type": "stream",
     "text": [
      "0.20461096201577839 (0.15907671193079723, 0.2866666666666667)\n"
     ]
    },
    {
     "name": "stderr",
     "output_type": "stream",
     "text": [
      "INFO:pykeen.utilities.train_utils:Epoch 170 /  500 (124.6s):  loss: 0.002  val loss: 0.005  value: 0.205  patience:  21\n",
      "INFO:pykeen.utilities.train_utils:Epoch 171 /  500 (124.6s):  loss: 0.002  val loss: 0.004  value: 0.205  patience:  22\n",
      "INFO:pykeen.utilities.train_utils:Epoch 172 /  500 (124.6s):  loss: 0.002  val loss: 0.005  value: 0.205  patience:  23\n",
      "INFO:pykeen.utilities.train_utils:Epoch 173 /  500 (124.6s):  loss: 0.002  val loss: 0.005  value: 0.205  patience:  24\n",
      "INFO:pykeen.utilities.train_utils:Epoch 174 /  500 (124.6s):  loss: 0.002  val loss: 0.005  value: 0.205  patience:  25\n",
      "INFO:pykeen.utilities.train_utils:Epoch 175 /  500 (124.6s):  loss: 0.002  val loss: 0.005  value: 0.205  patience:  26\n",
      "INFO:pykeen.utilities.train_utils:Epoch 176 /  500 (124.6s):  loss: 0.002  val loss: 0.005  value: 0.205  patience:  27\n",
      "INFO:pykeen.utilities.train_utils:Epoch 177 /  500 (124.6s):  loss: 0.002  val loss: 0.005  value: 0.205  patience:  28\n",
      "INFO:pykeen.utilities.train_utils:Epoch 178 /  500 (124.6s):  loss: 0.002  val loss: 0.005  value: 0.205  patience:  29\n",
      "INFO:pykeen.utilities.train_utils:Epoch 179 /  500 (124.6s):  loss: 0.002  val loss: 0.005  value: 0.205  patience:  30\n",
      "INFO:pykeen.utilities.evaluation_utils.metrics_computations:Evaluation took 478.99s seconds\n"
     ]
    },
    {
     "name": "stdout",
     "output_type": "stream",
     "text": [
      "0.20499369977660462 (0.1595398790925282, 0.2866666666666667)\n"
     ]
    },
    {
     "name": "stderr",
     "output_type": "stream",
     "text": [
      "INFO:pykeen.utilities.train_utils:Epoch 180 /  500 (124.7s):  loss: 0.002  val loss: 0.005  value: 0.205  patience:  31\n",
      "INFO:pykeen.utilities.train_utils:Epoch 181 /  500 (124.6s):  loss: 0.002  val loss: 0.005  value: 0.205  patience:  32\n",
      "INFO:pykeen.utilities.train_utils:Epoch 182 /  500 (124.6s):  loss: 0.002  val loss: 0.005  value: 0.205  patience:  33\n",
      "INFO:pykeen.utilities.train_utils:Epoch 183 /  500 (124.6s):  loss: 0.002  val loss: 0.005  value: 0.205  patience:  34\n",
      "INFO:pykeen.utilities.train_utils:Epoch 184 /  500 (124.6s):  loss: 0.002  val loss: 0.004  value: 0.205  patience:  35\n",
      "INFO:pykeen.utilities.train_utils:Epoch 185 /  500 (124.6s):  loss: 0.002  val loss: 0.005  value: 0.205  patience:  36\n",
      "INFO:pykeen.utilities.train_utils:Epoch 186 /  500 (124.6s):  loss: 0.002  val loss: 0.005  value: 0.205  patience:  37\n",
      "INFO:pykeen.utilities.train_utils:Epoch 187 /  500 (124.6s):  loss: 0.002  val loss: 0.005  value: 0.205  patience:  38\n",
      "INFO:pykeen.utilities.train_utils:Epoch 188 /  500 (124.7s):  loss: 0.002  val loss: 0.005  value: 0.205  patience:  39\n",
      "INFO:pykeen.utilities.train_utils:Epoch 189 /  500 (124.6s):  loss: 0.002  val loss: 0.004  value: 0.205  patience:  40\n",
      "INFO:pykeen.utilities.evaluation_utils.metrics_computations:Evaluation took 479.15s seconds\n"
     ]
    },
    {
     "name": "stdout",
     "output_type": "stream",
     "text": [
      "0.2052864031007138 (0.15887615872985794, 0.29)\n"
     ]
    },
    {
     "name": "stderr",
     "output_type": "stream",
     "text": [
      "INFO:pykeen.utilities.train_utils:Epoch 190 /  500 (124.6s):  loss: 0.002  val loss: 0.004  value: 0.205  patience:  41\n",
      "INFO:pykeen.utilities.train_utils:Epoch 191 /  500 (124.6s):  loss: 0.002  val loss: 0.004  value: 0.205  patience:  42\n",
      "INFO:pykeen.utilities.train_utils:Epoch 192 /  500 (124.6s):  loss: 0.002  val loss: 0.004  value: 0.205  patience:  43\n",
      "INFO:pykeen.utilities.train_utils:Epoch 193 /  500 (124.6s):  loss: 0.002  val loss: 0.004  value: 0.205  patience:  44\n",
      "INFO:pykeen.utilities.train_utils:Epoch 194 /  500 (124.6s):  loss: 0.002  val loss: 0.004  value: 0.205  patience:  45\n",
      "INFO:pykeen.utilities.train_utils:Epoch 195 /  500 (124.6s):  loss: 0.002  val loss: 0.004  value: 0.205  patience:  46\n",
      "INFO:pykeen.utilities.train_utils:Epoch 196 /  500 (124.6s):  loss: 0.002  val loss: 0.004  value: 0.205  patience:  47\n",
      "INFO:pykeen.utilities.train_utils:Epoch 197 /  500 (124.6s):  loss: 0.002  val loss: 0.004  value: 0.205  patience:  48\n",
      "INFO:pykeen.utilities.train_utils:Epoch 198 /  500 (124.6s):  loss: 0.002  val loss: 0.004  value: 0.205  patience:  49\n",
      "INFO:pykeen.utilities.train_utils:Epoch 199 /  500 (124.6s):  loss: 0.002  val loss: 0.004  value: 0.205  patience:  50\n",
      "INFO:pykeen.utilities.evaluation_utils.metrics_computations:Evaluation took 479.04s seconds\n"
     ]
    },
    {
     "name": "stdout",
     "output_type": "stream",
     "text": [
      "0.2100326780386571 (0.16463474749149565, 0.29)\n"
     ]
    },
    {
     "name": "stderr",
     "output_type": "stream",
     "text": [
      "INFO:pykeen.utilities.train_utils:Epoch 200 /  500 (124.6s):  loss: 0.002  val loss: 0.004  value: 0.210  patience:   1\n",
      "INFO:pykeen.utilities.train_utils:Epoch 201 /  500 (124.6s):  loss: 0.002  val loss: 0.004  value: 0.210  patience:   2\n",
      "INFO:pykeen.utilities.train_utils:Epoch 202 /  500 (124.6s):  loss: 0.002  val loss: 0.004  value: 0.210  patience:   3\n",
      "INFO:pykeen.utilities.train_utils:Epoch 203 /  500 (124.6s):  loss: 0.002  val loss: 0.004  value: 0.210  patience:   4\n",
      "INFO:pykeen.utilities.train_utils:Epoch 204 /  500 (124.7s):  loss: 0.002  val loss: 0.004  value: 0.210  patience:   5\n",
      "INFO:pykeen.utilities.train_utils:Epoch 205 /  500 (124.6s):  loss: 0.002  val loss: 0.004  value: 0.210  patience:   6\n",
      "INFO:pykeen.utilities.train_utils:Epoch 206 /  500 (124.6s):  loss: 0.002  val loss: 0.004  value: 0.210  patience:   7\n",
      "INFO:pykeen.utilities.train_utils:Epoch 207 /  500 (124.6s):  loss: 0.002  val loss: 0.004  value: 0.210  patience:   8\n",
      "INFO:pykeen.utilities.train_utils:Epoch 208 /  500 (124.6s):  loss: 0.002  val loss: 0.004  value: 0.210  patience:   9\n",
      "INFO:pykeen.utilities.train_utils:Epoch 209 /  500 (124.6s):  loss: 0.002  val loss: 0.004  value: 0.210  patience:  10\n",
      "INFO:pykeen.utilities.evaluation_utils.metrics_computations:Evaluation took 479.03s seconds\n"
     ]
    },
    {
     "name": "stdout",
     "output_type": "stream",
     "text": [
      "0.20479184163964392 (0.15828449555848398, 0.29)\n"
     ]
    },
    {
     "name": "stderr",
     "output_type": "stream",
     "text": [
      "INFO:pykeen.utilities.train_utils:Epoch 210 /  500 (124.6s):  loss: 0.002  val loss: 0.004  value: 0.205  patience:  11\n",
      "INFO:pykeen.utilities.train_utils:Epoch 211 /  500 (124.6s):  loss: 0.002  val loss: 0.004  value: 0.205  patience:  12\n",
      "INFO:pykeen.utilities.train_utils:Epoch 212 /  500 (124.6s):  loss: 0.002  val loss: 0.004  value: 0.205  patience:  13\n",
      "INFO:pykeen.utilities.train_utils:Epoch 213 /  500 (124.6s):  loss: 0.002  val loss: 0.004  value: 0.205  patience:  14\n",
      "INFO:pykeen.utilities.train_utils:Epoch 214 /  500 (124.6s):  loss: 0.002  val loss: 0.004  value: 0.205  patience:  15\n",
      "INFO:pykeen.utilities.train_utils:Epoch 215 /  500 (124.6s):  loss: 0.002  val loss: 0.004  value: 0.205  patience:  16\n",
      "INFO:pykeen.utilities.train_utils:Epoch 216 /  500 (124.6s):  loss: 0.002  val loss: 0.004  value: 0.205  patience:  17\n",
      "INFO:pykeen.utilities.train_utils:Epoch 217 /  500 (124.6s):  loss: 0.002  val loss: 0.004  value: 0.205  patience:  18\n",
      "INFO:pykeen.utilities.train_utils:Epoch 218 /  500 (124.7s):  loss: 0.002  val loss: 0.004  value: 0.205  patience:  19\n",
      "INFO:pykeen.utilities.train_utils:Epoch 219 /  500 (124.6s):  loss: 0.002  val loss: 0.004  value: 0.205  patience:  20\n",
      "INFO:pykeen.utilities.evaluation_utils.metrics_computations:Evaluation took 479.00s seconds\n"
     ]
    },
    {
     "name": "stdout",
     "output_type": "stream",
     "text": [
      "0.2024787903691123 (0.1555378816052574, 0.29)\n"
     ]
    },
    {
     "name": "stderr",
     "output_type": "stream",
     "text": [
      "INFO:pykeen.utilities.train_utils:Epoch 220 /  500 (124.6s):  loss: 0.002  val loss: 0.005  value: 0.202  patience:  21\n",
      "INFO:pykeen.utilities.train_utils:Epoch 221 /  500 (124.6s):  loss: 0.002  val loss: 0.004  value: 0.202  patience:  22\n",
      "INFO:pykeen.utilities.train_utils:Epoch 222 /  500 (124.6s):  loss: 0.002  val loss: 0.004  value: 0.202  patience:  23\n",
      "INFO:pykeen.utilities.train_utils:Epoch 223 /  500 (124.6s):  loss: 0.002  val loss: 0.004  value: 0.202  patience:  24\n",
      "INFO:pykeen.utilities.train_utils:Epoch 224 /  500 (124.6s):  loss: 0.002  val loss: 0.004  value: 0.202  patience:  25\n",
      "INFO:pykeen.utilities.train_utils:Epoch 225 /  500 (124.6s):  loss: 0.002  val loss: 0.004  value: 0.202  patience:  26\n",
      "INFO:pykeen.utilities.train_utils:Epoch 226 /  500 (125.2s):  loss: 0.002  val loss: 0.004  value: 0.202  patience:  27\n",
      "INFO:pykeen.utilities.train_utils:Epoch 227 /  500 (125.0s):  loss: 0.002  val loss: 0.004  value: 0.202  patience:  28\n",
      "INFO:pykeen.utilities.train_utils:Epoch 228 /  500 (124.6s):  loss: 0.002  val loss: 0.004  value: 0.202  patience:  29\n",
      "INFO:pykeen.utilities.train_utils:Epoch 229 /  500 (124.6s):  loss: 0.002  val loss: 0.004  value: 0.202  patience:  30\n",
      "INFO:pykeen.utilities.evaluation_utils.metrics_computations:Evaluation took 478.95s seconds\n"
     ]
    },
    {
     "name": "stdout",
     "output_type": "stream",
     "text": [
      "0.20415374497740157 (0.15752341616357649, 0.29)\n"
     ]
    },
    {
     "name": "stderr",
     "output_type": "stream",
     "text": [
      "INFO:pykeen.utilities.train_utils:Epoch 230 /  500 (124.6s):  loss: 0.002  val loss: 0.004  value: 0.204  patience:  31\n",
      "INFO:pykeen.utilities.train_utils:Epoch 231 /  500 (124.6s):  loss: 0.002  val loss: 0.004  value: 0.204  patience:  32\n",
      "INFO:pykeen.utilities.train_utils:Epoch 232 /  500 (124.6s):  loss: 0.002  val loss: 0.004  value: 0.204  patience:  33\n",
      "INFO:pykeen.utilities.train_utils:Epoch 233 /  500 (124.6s):  loss: 0.002  val loss: 0.004  value: 0.204  patience:  34\n",
      "INFO:pykeen.utilities.train_utils:Epoch 234 /  500 (124.6s):  loss: 0.002  val loss: 0.004  value: 0.204  patience:  35\n",
      "INFO:pykeen.utilities.train_utils:Epoch 235 /  500 (124.6s):  loss: 0.002  val loss: 0.004  value: 0.204  patience:  36\n",
      "INFO:pykeen.utilities.train_utils:Epoch 236 /  500 (124.6s):  loss: 0.002  val loss: 0.004  value: 0.204  patience:  37\n",
      "INFO:pykeen.utilities.train_utils:Epoch 237 /  500 (124.6s):  loss: 0.002  val loss: 0.004  value: 0.204  patience:  38\n",
      "INFO:pykeen.utilities.train_utils:Epoch 238 /  500 (124.6s):  loss: 0.002  val loss: 0.004  value: 0.204  patience:  39\n",
      "INFO:pykeen.utilities.train_utils:Epoch 239 /  500 (124.6s):  loss: 0.002  val loss: 0.004  value: 0.204  patience:  40\n",
      "INFO:pykeen.utilities.evaluation_utils.metrics_computations:Evaluation took 478.93s seconds\n"
     ]
    },
    {
     "name": "stdout",
     "output_type": "stream",
     "text": [
      "0.2025569591834453 (0.15563015292617027, 0.29)\n"
     ]
    },
    {
     "name": "stderr",
     "output_type": "stream",
     "text": [
      "INFO:pykeen.utilities.train_utils:Epoch 240 /  500 (124.6s):  loss: 0.002  val loss: 0.004  value: 0.203  patience:  41\n",
      "INFO:pykeen.utilities.train_utils:Epoch 241 /  500 (124.6s):  loss: 0.002  val loss: 0.004  value: 0.203  patience:  42\n",
      "INFO:pykeen.utilities.train_utils:Epoch 242 /  500 (124.6s):  loss: 0.002  val loss: 0.004  value: 0.203  patience:  43\n",
      "INFO:pykeen.utilities.train_utils:Epoch 243 /  500 (124.6s):  loss: 0.002  val loss: 0.004  value: 0.203  patience:  44\n",
      "INFO:pykeen.utilities.train_utils:Epoch 244 /  500 (124.7s):  loss: 0.002  val loss: 0.004  value: 0.203  patience:  45\n",
      "INFO:pykeen.utilities.train_utils:Epoch 245 /  500 (124.6s):  loss: 0.002  val loss: 0.004  value: 0.203  patience:  46\n",
      "INFO:pykeen.utilities.train_utils:Epoch 246 /  500 (124.6s):  loss: 0.002  val loss: 0.004  value: 0.203  patience:  47\n",
      "INFO:pykeen.utilities.train_utils:Epoch 247 /  500 (124.6s):  loss: 0.002  val loss: 0.004  value: 0.203  patience:  48\n",
      "INFO:pykeen.utilities.train_utils:Epoch 248 /  500 (124.6s):  loss: 0.002  val loss: 0.004  value: 0.203  patience:  49\n",
      "INFO:pykeen.utilities.train_utils:Epoch 249 /  500 (124.6s):  loss: 0.002  val loss: 0.004  value: 0.203  patience:  50\n",
      "INFO:pykeen.utilities.evaluation_utils.metrics_computations:Evaluation took 478.93s seconds\n"
     ]
    },
    {
     "name": "stdout",
     "output_type": "stream",
     "text": [
      "0.20217916372778988 (0.15518455270904183, 0.29)\n"
     ]
    },
    {
     "name": "stderr",
     "output_type": "stream",
     "text": [
      "INFO:pykeen.utilities.train_utils:Epoch 250 /  500 (124.7s):  loss: 0.002  val loss: 0.004  value: 0.202  patience:  51\n",
      "INFO:pykeen.utilities.train_utils:Epoch 251 /  500 (124.6s):  loss: 0.002  val loss: 0.004  value: 0.202  patience:  52\n",
      "INFO:pykeen.utilities.train_utils:Epoch 252 /  500 (124.6s):  loss: 0.002  val loss: 0.004  value: 0.202  patience:  53\n",
      "INFO:pykeen.utilities.train_utils:Epoch 253 /  500 (124.6s):  loss: 0.002  val loss: 0.005  value: 0.202  patience:  54\n",
      "INFO:pykeen.utilities.train_utils:Epoch 254 /  500 (124.6s):  loss: 0.002  val loss: 0.005  value: 0.202  patience:  55\n",
      "INFO:pykeen.utilities.train_utils:Epoch 255 /  500 (124.6s):  loss: 0.002  val loss: 0.005  value: 0.202  patience:  56\n",
      "INFO:pykeen.utilities.train_utils:Epoch 256 /  500 (124.6s):  loss: 0.002  val loss: 0.004  value: 0.202  patience:  57\n",
      "INFO:pykeen.utilities.train_utils:Epoch 257 /  500 (124.6s):  loss: 0.002  val loss: 0.004  value: 0.202  patience:  58\n",
      "INFO:pykeen.utilities.train_utils:Epoch 258 /  500 (124.6s):  loss: 0.002  val loss: 0.004  value: 0.202  patience:  59\n",
      "INFO:pykeen.utilities.train_utils:Epoch 259 /  500 (124.6s):  loss: 0.002  val loss: 0.005  value: 0.202  patience:  60\n",
      "INFO:pykeen.utilities.evaluation_utils.metrics_computations:Evaluation took 479.00s seconds\n"
     ]
    },
    {
     "name": "stdout",
     "output_type": "stream",
     "text": [
      "0.19985219941804616 (0.1533972097400988, 0.2866666666666667)\n"
     ]
    },
    {
     "name": "stderr",
     "output_type": "stream",
     "text": [
      "INFO:pykeen.utilities.train_utils:Epoch 260 /  500 (124.6s):  loss: 0.002  val loss: 0.005  value: 0.200  patience:  61\n",
      "INFO:pykeen.utilities.train_utils:Epoch 261 /  500 (124.6s):  loss: 0.002  val loss: 0.005  value: 0.200  patience:  62\n",
      "INFO:pykeen.utilities.train_utils:Epoch 262 /  500 (124.6s):  loss: 0.002  val loss: 0.005  value: 0.200  patience:  63\n",
      "INFO:pykeen.utilities.train_utils:Epoch 263 /  500 (124.6s):  loss: 0.002  val loss: 0.005  value: 0.200  patience:  64\n",
      "INFO:pykeen.utilities.train_utils:Epoch 264 /  500 (124.6s):  loss: 0.002  val loss: 0.005  value: 0.200  patience:  65\n",
      "INFO:pykeen.utilities.train_utils:Epoch 265 /  500 (124.6s):  loss: 0.002  val loss: 0.005  value: 0.200  patience:  66\n",
      "INFO:pykeen.utilities.train_utils:Epoch 266 /  500 (124.6s):  loss: 0.002  val loss: 0.004  value: 0.200  patience:  67\n",
      "INFO:pykeen.utilities.train_utils:Epoch 267 /  500 (124.6s):  loss: 0.002  val loss: 0.004  value: 0.200  patience:  68\n",
      "INFO:pykeen.utilities.train_utils:Epoch 268 /  500 (124.6s):  loss: 0.002  val loss: 0.004  value: 0.200  patience:  69\n",
      "INFO:pykeen.utilities.train_utils:Epoch 269 /  500 (124.6s):  loss: 0.002  val loss: 0.004  value: 0.200  patience:  70\n",
      "INFO:pykeen.utilities.evaluation_utils.metrics_computations:Evaluation took 478.95s seconds\n"
     ]
    },
    {
     "name": "stdout",
     "output_type": "stream",
     "text": [
      "0.20143508276900943 (0.15527022146378297, 0.2866666666666667)\n"
     ]
    },
    {
     "name": "stderr",
     "output_type": "stream",
     "text": [
      "INFO:pykeen.utilities.train_utils:Epoch 270 /  500 (124.6s):  loss: 0.002  val loss: 0.004  value: 0.201  patience:  71\n",
      "INFO:pykeen.utilities.train_utils:Epoch 271 /  500 (124.6s):  loss: 0.002  val loss: 0.004  value: 0.201  patience:  72\n",
      "INFO:pykeen.utilities.train_utils:Epoch 272 /  500 (124.6s):  loss: 0.002  val loss: 0.004  value: 0.201  patience:  73\n",
      "INFO:pykeen.utilities.train_utils:Epoch 273 /  500 (124.6s):  loss: 0.002  val loss: 0.004  value: 0.201  patience:  74\n",
      "INFO:pykeen.utilities.train_utils:Epoch 274 /  500 (124.6s):  loss: 0.002  val loss: 0.004  value: 0.201  patience:  75\n",
      "INFO:pykeen.utilities.train_utils:Epoch 275 /  500 (124.6s):  loss: 0.002  val loss: 0.004  value: 0.201  patience:  76\n",
      "INFO:pykeen.utilities.train_utils:Epoch 276 /  500 (124.6s):  loss: 0.002  val loss: 0.004  value: 0.201  patience:  77\n",
      "INFO:pykeen.utilities.train_utils:Epoch 277 /  500 (124.6s):  loss: 0.002  val loss: 0.004  value: 0.201  patience:  78\n",
      "INFO:pykeen.utilities.train_utils:Epoch 278 /  500 (124.7s):  loss: 0.002  val loss: 0.004  value: 0.201  patience:  79\n",
      "INFO:pykeen.utilities.train_utils:Epoch 279 /  500 (124.6s):  loss: 0.002  val loss: 0.004  value: 0.201  patience:  80\n",
      "INFO:pykeen.utilities.evaluation_utils.metrics_computations:Evaluation took 478.97s seconds\n"
     ]
    },
    {
     "name": "stdout",
     "output_type": "stream",
     "text": [
      "0.20476425283071079 (0.15926210015072803, 0.2866666666666667)\n"
     ]
    },
    {
     "name": "stderr",
     "output_type": "stream",
     "text": [
      "INFO:pykeen.utilities.train_utils:Epoch 280 /  500 (124.6s):  loss: 0.002  val loss: 0.004  value: 0.205  patience:  81\n",
      "INFO:pykeen.utilities.train_utils:Epoch 281 /  500 (124.6s):  loss: 0.002  val loss: 0.005  value: 0.205  patience:  82\n",
      "INFO:pykeen.utilities.train_utils:Epoch 282 /  500 (124.6s):  loss: 0.002  val loss: 0.004  value: 0.205  patience:  83\n",
      "INFO:pykeen.utilities.train_utils:Epoch 283 /  500 (124.7s):  loss: 0.002  val loss: 0.004  value: 0.205  patience:  84\n",
      "INFO:pykeen.utilities.train_utils:Epoch 284 /  500 (124.6s):  loss: 0.002  val loss: 0.004  value: 0.205  patience:  85\n",
      "INFO:pykeen.utilities.train_utils:Epoch 285 /  500 (124.7s):  loss: 0.002  val loss: 0.004  value: 0.205  patience:  86\n",
      "INFO:pykeen.utilities.train_utils:Epoch 286 /  500 (124.6s):  loss: 0.002  val loss: 0.004  value: 0.205  patience:  87\n",
      "INFO:pykeen.utilities.train_utils:Epoch 287 /  500 (124.6s):  loss: 0.002  val loss: 0.004  value: 0.205  patience:  88\n",
      "INFO:pykeen.utilities.train_utils:Epoch 288 /  500 (124.6s):  loss: 0.002  val loss: 0.004  value: 0.205  patience:  89\n",
      "INFO:pykeen.utilities.train_utils:Epoch 289 /  500 (124.6s):  loss: 0.002  val loss: 0.004  value: 0.205  patience:  90\n",
      "INFO:pykeen.utilities.evaluation_utils.metrics_computations:Evaluation took 478.95s seconds\n"
     ]
    },
    {
     "name": "stdout",
     "output_type": "stream",
     "text": [
      "0.20182739846008543 (0.15573691326976458, 0.2866666666666667)\n"
     ]
    },
    {
     "name": "stderr",
     "output_type": "stream",
     "text": [
      "INFO:pykeen.utilities.train_utils:Epoch 290 /  500 (124.6s):  loss: 0.002  val loss: 0.004  value: 0.202  patience:  91\n",
      "INFO:pykeen.utilities.train_utils:Epoch 291 /  500 (124.6s):  loss: 0.002  val loss: 0.004  value: 0.202  patience:  92\n",
      "INFO:pykeen.utilities.train_utils:Epoch 292 /  500 (124.6s):  loss: 0.002  val loss: 0.005  value: 0.202  patience:  93\n",
      "INFO:pykeen.utilities.train_utils:Epoch 293 /  500 (124.6s):  loss: 0.002  val loss: 0.005  value: 0.202  patience:  94\n",
      "INFO:pykeen.utilities.train_utils:Epoch 294 /  500 (124.6s):  loss: 0.002  val loss: 0.005  value: 0.202  patience:  95\n",
      "INFO:pykeen.utilities.train_utils:Epoch 295 /  500 (124.6s):  loss: 0.002  val loss: 0.005  value: 0.202  patience:  96\n",
      "INFO:pykeen.utilities.train_utils:Epoch 296 /  500 (124.6s):  loss: 0.002  val loss: 0.005  value: 0.202  patience:  97\n",
      "INFO:pykeen.utilities.train_utils:Epoch 297 /  500 (124.6s):  loss: 0.002  val loss: 0.005  value: 0.202  patience:  98\n",
      "INFO:pykeen.utilities.train_utils:Epoch 298 /  500 (124.6s):  loss: 0.002  val loss: 0.005  value: 0.202  patience:  99\n",
      "INFO:pykeen.utilities.train_utils:Epoch 299 /  500 (124.6s):  loss: 0.002  val loss: 0.005  value: 0.202  patience: 100\n",
      "INFO:pykeen.utilities.evaluation_utils.metrics_computations:Evaluation took 479.11s seconds\n"
     ]
    },
    {
     "name": "stdout",
     "output_type": "stream",
     "text": [
      "MetricResults(mean_rank=0.16463474749149565, hits_at_k={1: 0.1, 3: 0.17333333333333334, 5: 0.20666666666666667, 10: 0.29}, precision=None, recall=None, accuracy=None, fscore=None)\n"
     ]
    },
    {
     "name": "stderr",
     "output_type": "stream",
     "text": [
      "HPO Iteration: 100%|███████████████████████████████████████████████████████████████| 1/1 [14:31:04<00:00, 52264.11s/it]\n"
     ]
    }
   ],
   "source": [
    "results = pykeen.run(\n",
    "    config=config,\n",
    "    output_directory=output_directory\n",
    ")"
   ]
  },
  {
   "cell_type": "code",
   "execution_count": 21,
   "metadata": {
    "ExecuteTime": {
     "end_time": "2019-07-11T12:54:24.602159Z",
     "start_time": "2019-07-11T05:27:01.091483Z"
    }
   },
   "outputs": [
    {
     "name": "stderr",
     "output_type": "stream",
     "text": [
      "\r",
      "HPO Iteration:   0%|                                                                             | 0/1 [00:00<?, ?it/s]"
     ]
    },
    {
     "name": "stdout",
     "output_type": "stream",
     "text": [
      "{'metrics': 'mean_rank', 'training_set_path': 'D:/uni/master/data/FB15K/train.tsv', 'test_set_path': 'D:/uni/master/data/FB15K/valid_150.tsv', 'mapping_path': 'D:/uni/master/data/fb15k/', 'execution_mode': 'HPO_mode', 'random_seed': 5, 'kg_embedding_model_name': 'Region', 'region_type': 'arbitrary', 'embedding_dim': 50, 'normalization_of_entities': 2, 'init_radius': 0, 'reg_lambda': 0, 'loss_type': 'MRL', 'margin_loss': 0.3, 'neg_factor': 1, 'corrupt_relations': False, 'filter_negative_triples': False, 'es_metric': 'custom', 'learning_rate': 0.1, 'num_epochs': 500, 'batch_size': 2048, 'test_batch_size': 4096, 'maximum_number_of_hpo_iters': 1, 'preferred_device': 'gpu', 'pykeen-version': '0.0.26-dev', 'num_entities': 14951, 'num_relations': 1345}\n"
     ]
    },
    {
     "name": "stderr",
     "output_type": "stream",
     "text": [
      "INFO:pykeen.utilities.evaluation_utils.metrics_computations:Evaluation took 478.94s seconds\n"
     ]
    },
    {
     "name": "stdout",
     "output_type": "stream",
     "text": [
      "0.12184347030636958 (0.10108398629009965, 0.15333333333333332)\n"
     ]
    },
    {
     "name": "stderr",
     "output_type": "stream",
     "text": [
      "INFO:pykeen.utilities.train_utils:Epoch   0 /  500 (124.3s):  loss: 0.108  val loss: 0.049  value: 0.122  patience:   1\n",
      "INFO:pykeen.utilities.train_utils:Epoch   1 /  500 (124.6s):  loss: 0.046  val loss: 0.038  value: 0.122  patience:   2\n",
      "INFO:pykeen.utilities.train_utils:Epoch   2 /  500 (124.6s):  loss: 0.036  val loss: 0.023  value: 0.122  patience:   3\n",
      "INFO:pykeen.utilities.train_utils:Epoch   3 /  500 (124.6s):  loss: 0.033  val loss: 0.018  value: 0.122  patience:   4\n",
      "INFO:pykeen.utilities.train_utils:Epoch   4 /  500 (124.6s):  loss: 0.031  val loss: 0.016  value: 0.122  patience:   5\n",
      "INFO:pykeen.utilities.train_utils:Epoch   5 /  500 (124.6s):  loss: 0.027  val loss: 0.023  value: 0.122  patience:   6\n",
      "INFO:pykeen.utilities.train_utils:Epoch   6 /  500 (124.6s):  loss: 0.024  val loss: 0.025  value: 0.122  patience:   7\n",
      "INFO:pykeen.utilities.train_utils:Epoch   7 /  500 (124.6s):  loss: 0.021  val loss: 0.023  value: 0.122  patience:   8\n",
      "INFO:pykeen.utilities.train_utils:Epoch   8 /  500 (124.6s):  loss: 0.020  val loss: 0.025  value: 0.122  patience:   9\n",
      "INFO:pykeen.utilities.train_utils:Epoch   9 /  500 (124.6s):  loss: 0.019  val loss: 0.025  value: 0.122  patience:  10\n",
      "INFO:pykeen.utilities.evaluation_utils.metrics_computations:Evaluation took 479.05s seconds\n"
     ]
    },
    {
     "name": "stdout",
     "output_type": "stream",
     "text": [
      "0.154794135379518 (0.119403960464873, 0.22)\n"
     ]
    },
    {
     "name": "stderr",
     "output_type": "stream",
     "text": [
      "INFO:pykeen.utilities.train_utils:Epoch  10 /  500 (124.6s):  loss: 0.019  val loss: 0.027  value: 0.155  patience:   1\n",
      "INFO:pykeen.utilities.train_utils:Epoch  11 /  500 (124.6s):  loss: 0.019  val loss: 0.026  value: 0.155  patience:   2\n",
      "INFO:pykeen.utilities.train_utils:Epoch  12 /  500 (124.6s):  loss: 0.018  val loss: 0.025  value: 0.155  patience:   3\n",
      "INFO:pykeen.utilities.train_utils:Epoch  13 /  500 (124.6s):  loss: 0.018  val loss: 0.025  value: 0.155  patience:   4\n",
      "INFO:pykeen.utilities.train_utils:Epoch  14 /  500 (124.6s):  loss: 0.018  val loss: 0.030  value: 0.155  patience:   5\n",
      "INFO:pykeen.utilities.train_utils:Epoch  15 /  500 (124.6s):  loss: 0.017  val loss: 0.026  value: 0.155  patience:   6\n",
      "INFO:pykeen.utilities.train_utils:Epoch  16 /  500 (124.6s):  loss: 0.017  val loss: 0.017  value: 0.155  patience:   7\n",
      "INFO:pykeen.utilities.train_utils:Epoch  17 /  500 (124.6s):  loss: 0.017  val loss: 0.020  value: 0.155  patience:   8\n",
      "INFO:pykeen.utilities.train_utils:Epoch  18 /  500 (124.6s):  loss: 0.017  val loss: 0.014  value: 0.155  patience:   9\n",
      "INFO:pykeen.utilities.train_utils:Epoch  19 /  500 (124.6s):  loss: 0.016  val loss: 0.012  value: 0.155  patience:  10\n",
      "INFO:pykeen.utilities.evaluation_utils.metrics_computations:Evaluation took 478.94s seconds\n"
     ]
    },
    {
     "name": "stdout",
     "output_type": "stream",
     "text": [
      "0.16016233572389565 (0.12944270645181907, 0.21)\n"
     ]
    },
    {
     "name": "stderr",
     "output_type": "stream",
     "text": [
      "INFO:pykeen.utilities.train_utils:Epoch  20 /  500 (124.6s):  loss: 0.016  val loss: 0.010  value: 0.160  patience:   1\n",
      "INFO:pykeen.utilities.train_utils:Epoch  21 /  500 (124.6s):  loss: 0.016  val loss: 0.016  value: 0.160  patience:   2\n",
      "INFO:pykeen.utilities.train_utils:Epoch  22 /  500 (124.6s):  loss: 0.016  val loss: 0.018  value: 0.160  patience:   3\n",
      "INFO:pykeen.utilities.train_utils:Epoch  23 /  500 (124.6s):  loss: 0.016  val loss: 0.009  value: 0.160  patience:   4\n",
      "INFO:pykeen.utilities.train_utils:Epoch  24 /  500 (124.6s):  loss: 0.016  val loss: 0.014  value: 0.160  patience:   5\n",
      "INFO:pykeen.utilities.train_utils:Epoch  25 /  500 (124.6s):  loss: 0.016  val loss: 0.009  value: 0.160  patience:   6\n",
      "INFO:pykeen.utilities.train_utils:Epoch  26 /  500 (124.6s):  loss: 0.016  val loss: 0.015  value: 0.160  patience:   7\n",
      "INFO:pykeen.utilities.train_utils:Epoch  27 /  500 (124.7s):  loss: 0.016  val loss: 0.024  value: 0.160  patience:   8\n",
      "INFO:pykeen.utilities.train_utils:Epoch  28 /  500 (124.6s):  loss: 0.015  val loss: 0.024  value: 0.160  patience:   9\n",
      "INFO:pykeen.utilities.train_utils:Epoch  29 /  500 (124.8s):  loss: 0.015  val loss: 0.022  value: 0.160  patience:  10\n",
      "INFO:pykeen.utilities.evaluation_utils.metrics_computations:Evaluation took 479.18s seconds\n"
     ]
    },
    {
     "name": "stdout",
     "output_type": "stream",
     "text": [
      "0.15143409419708032 (0.1136970780368434, 0.22666666666666666)\n"
     ]
    },
    {
     "name": "stderr",
     "output_type": "stream",
     "text": [
      "INFO:pykeen.utilities.train_utils:Epoch  30 /  500 (124.7s):  loss: 0.015  val loss: 0.024  value: 0.151  patience:  11\n",
      "INFO:pykeen.utilities.train_utils:Epoch  31 /  500 (124.6s):  loss: 0.015  val loss: 0.024  value: 0.151  patience:  12\n",
      "INFO:pykeen.utilities.train_utils:Epoch  32 /  500 (124.6s):  loss: 0.015  val loss: 0.026  value: 0.151  patience:  13\n",
      "INFO:pykeen.utilities.train_utils:Epoch  33 /  500 (124.6s):  loss: 0.015  val loss: 0.015  value: 0.151  patience:  14\n",
      "INFO:pykeen.utilities.train_utils:Epoch  34 /  500 (124.6s):  loss: 0.015  val loss: 0.017  value: 0.151  patience:  15\n",
      "INFO:pykeen.utilities.train_utils:Epoch  35 /  500 (124.6s):  loss: 0.015  val loss: 0.011  value: 0.151  patience:  16\n",
      "INFO:pykeen.utilities.train_utils:Epoch  36 /  500 (124.6s):  loss: 0.015  val loss: 0.023  value: 0.151  patience:  17\n",
      "INFO:pykeen.utilities.train_utils:Epoch  37 /  500 (124.6s):  loss: 0.015  val loss: 0.023  value: 0.151  patience:  18\n",
      "INFO:pykeen.utilities.train_utils:Epoch  38 /  500 (124.6s):  loss: 0.015  val loss: 0.020  value: 0.151  patience:  19\n",
      "INFO:pykeen.utilities.train_utils:Epoch  39 /  500 (124.6s):  loss: 0.015  val loss: 0.025  value: 0.151  patience:  20\n",
      "INFO:pykeen.utilities.evaluation_utils.metrics_computations:Evaluation took 478.91s seconds\n"
     ]
    },
    {
     "name": "stdout",
     "output_type": "stream",
     "text": [
      "0.17534497552107267 (0.14044209156103002, 0.23333333333333334)\n"
     ]
    },
    {
     "name": "stderr",
     "output_type": "stream",
     "text": [
      "INFO:pykeen.utilities.train_utils:Epoch  40 /  500 (124.6s):  loss: 0.014  val loss: 0.011  value: 0.175  patience:   1\n",
      "INFO:pykeen.utilities.train_utils:Epoch  41 /  500 (124.6s):  loss: 0.015  val loss: 0.015  value: 0.175  patience:   2\n",
      "INFO:pykeen.utilities.train_utils:Epoch  42 /  500 (124.6s):  loss: 0.015  val loss: 0.016  value: 0.175  patience:   3\n",
      "INFO:pykeen.utilities.train_utils:Epoch  43 /  500 (124.7s):  loss: 0.014  val loss: 0.014  value: 0.175  patience:   4\n",
      "INFO:pykeen.utilities.train_utils:Epoch  44 /  500 (124.6s):  loss: 0.014  val loss: 0.013  value: 0.175  patience:   5\n",
      "INFO:pykeen.utilities.train_utils:Epoch  45 /  500 (124.6s):  loss: 0.014  val loss: 0.013  value: 0.175  patience:   6\n"
     ]
    },
    {
     "name": "stdout",
     "output_type": "stream",
     "text": [
      "Epoch    46: reducing learning rate of group 0 to 1.0000e-02.\n"
     ]
    },
    {
     "name": "stderr",
     "output_type": "stream",
     "text": [
      "INFO:pykeen.utilities.train_utils:Epoch  46 /  500 (124.6s):  loss: 0.014  val loss: 0.020  value: 0.175  patience:   7\n",
      "INFO:pykeen.utilities.train_utils:Epoch  47 /  500 (124.6s):  loss: 0.012  val loss: 0.018  value: 0.175  patience:   8\n",
      "INFO:pykeen.utilities.train_utils:Epoch  48 /  500 (124.6s):  loss: 0.011  val loss: 0.016  value: 0.175  patience:   9\n",
      "INFO:pykeen.utilities.train_utils:Epoch  49 /  500 (124.6s):  loss: 0.010  val loss: 0.015  value: 0.175  patience:  10\n",
      "INFO:pykeen.utilities.evaluation_utils.metrics_computations:Evaluation took 479.22s seconds\n"
     ]
    },
    {
     "name": "stdout",
     "output_type": "stream",
     "text": [
      "0.17713834957103575 (0.1371627362181945, 0.25)\n"
     ]
    },
    {
     "name": "stderr",
     "output_type": "stream",
     "text": [
      "INFO:pykeen.utilities.train_utils:Epoch  50 /  500 (124.7s):  loss: 0.010  val loss: 0.015  value: 0.177  patience:   1\n",
      "INFO:pykeen.utilities.train_utils:Epoch  51 /  500 (124.6s):  loss: 0.009  val loss: 0.014  value: 0.177  patience:   2\n",
      "INFO:pykeen.utilities.train_utils:Epoch  52 /  500 (124.6s):  loss: 0.009  val loss: 0.012  value: 0.177  patience:   3\n",
      "INFO:pykeen.utilities.train_utils:Epoch  53 /  500 (124.6s):  loss: 0.009  val loss: 0.013  value: 0.177  patience:   4\n",
      "INFO:pykeen.utilities.train_utils:Epoch  54 /  500 (124.6s):  loss: 0.009  val loss: 0.012  value: 0.177  patience:   5\n",
      "INFO:pykeen.utilities.train_utils:Epoch  55 /  500 (124.6s):  loss: 0.009  val loss: 0.013  value: 0.177  patience:   6\n",
      "INFO:pykeen.utilities.train_utils:Epoch  56 /  500 (124.6s):  loss: 0.008  val loss: 0.012  value: 0.177  patience:   7\n",
      "INFO:pykeen.utilities.train_utils:Epoch  57 /  500 (124.6s):  loss: 0.008  val loss: 0.010  value: 0.177  patience:   8\n",
      "INFO:pykeen.utilities.train_utils:Epoch  58 /  500 (124.6s):  loss: 0.008  val loss: 0.012  value: 0.177  patience:   9\n",
      "INFO:pykeen.utilities.train_utils:Epoch  59 /  500 (124.6s):  loss: 0.008  val loss: 0.012  value: 0.177  patience:  10\n",
      "INFO:pykeen.utilities.evaluation_utils.metrics_computations:Evaluation took 478.93s seconds\n"
     ]
    },
    {
     "name": "stdout",
     "output_type": "stream",
     "text": [
      "0.2008171927280734 (0.15009148064108505, 0.30333333333333334)\n"
     ]
    },
    {
     "name": "stderr",
     "output_type": "stream",
     "text": [
      "INFO:pykeen.utilities.train_utils:Epoch  60 /  500 (124.6s):  loss: 0.008  val loss: 0.012  value: 0.201  patience:   1\n",
      "INFO:pykeen.utilities.train_utils:Epoch  61 /  500 (124.6s):  loss: 0.008  val loss: 0.012  value: 0.201  patience:   2\n",
      "INFO:pykeen.utilities.train_utils:Epoch  62 /  500 (124.7s):  loss: 0.008  val loss: 0.013  value: 0.201  patience:   3\n",
      "INFO:pykeen.utilities.train_utils:Epoch  63 /  500 (124.7s):  loss: 0.008  val loss: 0.014  value: 0.201  patience:   4\n",
      "INFO:pykeen.utilities.train_utils:Epoch  64 /  500 (124.9s):  loss: 0.008  val loss: 0.013  value: 0.201  patience:   5\n",
      "INFO:pykeen.utilities.train_utils:Epoch  65 /  500 (124.7s):  loss: 0.008  val loss: 0.012  value: 0.201  patience:   6\n",
      "INFO:pykeen.utilities.train_utils:Epoch  66 /  500 (124.9s):  loss: 0.008  val loss: 0.010  value: 0.201  patience:   7\n"
     ]
    },
    {
     "name": "stdout",
     "output_type": "stream",
     "text": [
      "Epoch    67: reducing learning rate of group 0 to 1.0000e-03.\n"
     ]
    },
    {
     "name": "stderr",
     "output_type": "stream",
     "text": [
      "INFO:pykeen.utilities.train_utils:Epoch  67 /  500 (124.7s):  loss: 0.008  val loss: 0.011  value: 0.201  patience:   8\n",
      "INFO:pykeen.utilities.train_utils:Epoch  68 /  500 (124.6s):  loss: 0.008  val loss: 0.012  value: 0.201  patience:   9\n",
      "INFO:pykeen.utilities.train_utils:Epoch  69 /  500 (124.6s):  loss: 0.007  val loss: 0.012  value: 0.201  patience:  10\n",
      "INFO:pykeen.utilities.evaluation_utils.metrics_computations:Evaluation took 479.22s seconds\n"
     ]
    },
    {
     "name": "stdout",
     "output_type": "stream",
     "text": [
      "0.21287610336008503 (0.1603272848187578, 0.31666666666666665)\n"
     ]
    },
    {
     "name": "stderr",
     "output_type": "stream",
     "text": [
      "INFO:pykeen.utilities.train_utils:Epoch  70 /  500 (124.6s):  loss: 0.007  val loss: 0.012  value: 0.213  patience:   1\n",
      "INFO:pykeen.utilities.train_utils:Epoch  71 /  500 (124.6s):  loss: 0.007  val loss: 0.011  value: 0.213  patience:   2\n",
      "INFO:pykeen.utilities.train_utils:Epoch  72 /  500 (124.6s):  loss: 0.007  val loss: 0.011  value: 0.213  patience:   3\n",
      "INFO:pykeen.utilities.train_utils:Epoch  73 /  500 (124.6s):  loss: 0.007  val loss: 0.011  value: 0.213  patience:   4\n",
      "INFO:pykeen.utilities.train_utils:Epoch  74 /  500 (124.6s):  loss: 0.007  val loss: 0.011  value: 0.213  patience:   5\n",
      "INFO:pykeen.utilities.train_utils:Epoch  75 /  500 (124.6s):  loss: 0.007  val loss: 0.011  value: 0.213  patience:   6\n",
      "INFO:pykeen.utilities.train_utils:Epoch  76 /  500 (124.6s):  loss: 0.007  val loss: 0.011  value: 0.213  patience:   7\n",
      "INFO:pykeen.utilities.train_utils:Epoch  77 /  500 (124.6s):  loss: 0.007  val loss: 0.011  value: 0.213  patience:   8\n",
      "INFO:pykeen.utilities.train_utils:Epoch  78 /  500 (124.6s):  loss: 0.007  val loss: 0.011  value: 0.213  patience:   9\n",
      "INFO:pykeen.utilities.train_utils:Epoch  79 /  500 (124.6s):  loss: 0.007  val loss: 0.011  value: 0.213  patience:  10\n",
      "INFO:pykeen.utilities.evaluation_utils.metrics_computations:Evaluation took 479.02s seconds\n"
     ]
    },
    {
     "name": "stdout",
     "output_type": "stream",
     "text": [
      "0.21722508028148693 (0.16531261176539716, 0.31666666666666665)\n"
     ]
    },
    {
     "name": "stderr",
     "output_type": "stream",
     "text": [
      "INFO:pykeen.utilities.train_utils:Epoch  80 /  500 (124.7s):  loss: 0.007  val loss: 0.011  value: 0.217  patience:   1\n",
      "INFO:pykeen.utilities.train_utils:Epoch  81 /  500 (124.8s):  loss: 0.007  val loss: 0.010  value: 0.217  patience:   2\n",
      "INFO:pykeen.utilities.train_utils:Epoch  82 /  500 (127.2s):  loss: 0.007  val loss: 0.010  value: 0.217  patience:   3\n",
      "INFO:pykeen.utilities.train_utils:Epoch  83 /  500 (128.0s):  loss: 0.007  val loss: 0.010  value: 0.217  patience:   4\n",
      "INFO:pykeen.utilities.train_utils:Epoch  84 /  500 (128.7s):  loss: 0.007  val loss: 0.010  value: 0.217  patience:   5\n",
      "INFO:pykeen.utilities.train_utils:Epoch  85 /  500 (128.9s):  loss: 0.007  val loss: 0.010  value: 0.217  patience:   6\n",
      "INFO:pykeen.utilities.train_utils:Epoch  86 /  500 (127.7s):  loss: 0.007  val loss: 0.010  value: 0.217  patience:   7\n",
      "INFO:pykeen.utilities.train_utils:Epoch  87 /  500 (127.6s):  loss: 0.007  val loss: 0.010  value: 0.217  patience:   8\n",
      "INFO:pykeen.utilities.train_utils:Epoch  88 /  500 (127.5s):  loss: 0.007  val loss: 0.010  value: 0.217  patience:   9\n",
      "INFO:pykeen.utilities.train_utils:Epoch  89 /  500 (127.6s):  loss: 0.007  val loss: 0.010  value: 0.217  patience:  10\n",
      "INFO:pykeen.utilities.evaluation_utils.metrics_computations:Evaluation took 479.83s seconds\n"
     ]
    },
    {
     "name": "stdout",
     "output_type": "stream",
     "text": [
      "0.2108477185344321 (0.1572198793878058, 0.32)\n"
     ]
    },
    {
     "name": "stderr",
     "output_type": "stream",
     "text": [
      "INFO:pykeen.utilities.train_utils:Epoch  90 /  500 (124.6s):  loss: 0.007  val loss: 0.010  value: 0.211  patience:  11\n",
      "INFO:pykeen.utilities.train_utils:Epoch  91 /  500 (124.8s):  loss: 0.007  val loss: 0.011  value: 0.211  patience:  12\n",
      "INFO:pykeen.utilities.train_utils:Epoch  92 /  500 (124.6s):  loss: 0.007  val loss: 0.011  value: 0.211  patience:  13\n",
      "INFO:pykeen.utilities.train_utils:Epoch  93 /  500 (124.6s):  loss: 0.007  val loss: 0.010  value: 0.211  patience:  14\n",
      "INFO:pykeen.utilities.train_utils:Epoch  94 /  500 (124.6s):  loss: 0.007  val loss: 0.010  value: 0.211  patience:  15\n",
      "INFO:pykeen.utilities.train_utils:Epoch  95 /  500 (124.7s):  loss: 0.007  val loss: 0.010  value: 0.211  patience:  16\n",
      "INFO:pykeen.utilities.train_utils:Epoch  96 /  500 (124.6s):  loss: 0.007  val loss: 0.010  value: 0.211  patience:  17\n",
      "INFO:pykeen.utilities.train_utils:Epoch  97 /  500 (124.6s):  loss: 0.007  val loss: 0.011  value: 0.211  patience:  18\n",
      "INFO:pykeen.utilities.train_utils:Epoch  98 /  500 (124.5s):  loss: 0.007  val loss: 0.011  value: 0.211  patience:  19\n",
      "INFO:pykeen.utilities.train_utils:Epoch  99 /  500 (124.5s):  loss: 0.007  val loss: 0.011  value: 0.211  patience:  20\n",
      "INFO:pykeen.utilities.evaluation_utils.metrics_computations:Evaluation took 478.94s seconds\n"
     ]
    },
    {
     "name": "stdout",
     "output_type": "stream",
     "text": [
      "0.21415872081681234 (0.1617868216100143, 0.31666666666666665)\n"
     ]
    },
    {
     "name": "stderr",
     "output_type": "stream",
     "text": [
      "INFO:pykeen.utilities.train_utils:Epoch 100 /  500 (124.5s):  loss: 0.007  val loss: 0.011  value: 0.214  patience:  21\n",
      "INFO:pykeen.utilities.train_utils:Epoch 101 /  500 (124.6s):  loss: 0.007  val loss: 0.011  value: 0.214  patience:  22\n",
      "INFO:pykeen.utilities.train_utils:Epoch 102 /  500 (124.6s):  loss: 0.007  val loss: 0.010  value: 0.214  patience:  23\n",
      "INFO:pykeen.utilities.train_utils:Epoch 103 /  500 (124.7s):  loss: 0.007  val loss: 0.010  value: 0.214  patience:  24\n",
      "INFO:pykeen.utilities.train_utils:Epoch 104 /  500 (124.7s):  loss: 0.007  val loss: 0.010  value: 0.214  patience:  25\n",
      "INFO:pykeen.utilities.train_utils:Epoch 105 /  500 (124.6s):  loss: 0.007  val loss: 0.010  value: 0.214  patience:  26\n",
      "INFO:pykeen.utilities.train_utils:Epoch 106 /  500 (124.6s):  loss: 0.007  val loss: 0.010  value: 0.214  patience:  27\n",
      "INFO:pykeen.utilities.train_utils:Epoch 107 /  500 (124.7s):  loss: 0.007  val loss: 0.010  value: 0.214  patience:  28\n",
      "INFO:pykeen.utilities.train_utils:Epoch 108 /  500 (124.8s):  loss: 0.007  val loss: 0.010  value: 0.214  patience:  29\n",
      "INFO:pykeen.utilities.train_utils:Epoch 109 /  500 (124.8s):  loss: 0.007  val loss: 0.010  value: 0.214  patience:  30\n",
      "INFO:pykeen.utilities.evaluation_utils.metrics_computations:Evaluation took 479.87s seconds\n"
     ]
    },
    {
     "name": "stdout",
     "output_type": "stream",
     "text": [
      "0.21364705301899067 (0.16298783342890916, 0.31)\n"
     ]
    },
    {
     "name": "stderr",
     "output_type": "stream",
     "text": [
      "INFO:pykeen.utilities.train_utils:Epoch 110 /  500 (124.6s):  loss: 0.007  val loss: 0.009  value: 0.214  patience:  31\n",
      "INFO:pykeen.utilities.train_utils:Epoch 111 /  500 (124.9s):  loss: 0.007  val loss: 0.009  value: 0.214  patience:  32\n",
      "INFO:pykeen.utilities.train_utils:Epoch 112 /  500 (124.6s):  loss: 0.007  val loss: 0.009  value: 0.214  patience:  33\n",
      "INFO:pykeen.utilities.train_utils:Epoch 113 /  500 (124.8s):  loss: 0.007  val loss: 0.010  value: 0.214  patience:  34\n",
      "INFO:pykeen.utilities.train_utils:Epoch 114 /  500 (124.7s):  loss: 0.007  val loss: 0.010  value: 0.214  patience:  35\n",
      "INFO:pykeen.utilities.train_utils:Epoch 115 /  500 (124.9s):  loss: 0.007  val loss: 0.010  value: 0.214  patience:  36\n",
      "INFO:pykeen.utilities.train_utils:Epoch 116 /  500 (124.6s):  loss: 0.007  val loss: 0.010  value: 0.214  patience:  37\n",
      "INFO:pykeen.utilities.train_utils:Epoch 117 /  500 (124.6s):  loss: 0.007  val loss: 0.010  value: 0.214  patience:  38\n",
      "INFO:pykeen.utilities.train_utils:Epoch 118 /  500 (124.5s):  loss: 0.007  val loss: 0.010  value: 0.214  patience:  39\n",
      "INFO:pykeen.utilities.train_utils:Epoch 119 /  500 (124.6s):  loss: 0.007  val loss: 0.010  value: 0.214  patience:  40\n",
      "INFO:pykeen.utilities.evaluation_utils.metrics_computations:Evaluation took 479.77s seconds\n"
     ]
    },
    {
     "name": "stdout",
     "output_type": "stream",
     "text": [
      "0.22327904404165594 (0.1705140956314864, 0.3233333333333333)\n"
     ]
    },
    {
     "name": "stderr",
     "output_type": "stream",
     "text": [
      "INFO:pykeen.utilities.train_utils:Epoch 120 /  500 (124.9s):  loss: 0.007  val loss: 0.010  value: 0.223  patience:   1\n",
      "INFO:pykeen.utilities.train_utils:Epoch 121 /  500 (125.0s):  loss: 0.007  val loss: 0.010  value: 0.223  patience:   2\n",
      "INFO:pykeen.utilities.train_utils:Epoch 122 /  500 (124.9s):  loss: 0.007  val loss: 0.010  value: 0.223  patience:   3\n",
      "INFO:pykeen.utilities.train_utils:Epoch 123 /  500 (124.8s):  loss: 0.007  val loss: 0.010  value: 0.223  patience:   4\n",
      "INFO:pykeen.utilities.train_utils:Epoch 124 /  500 (124.7s):  loss: 0.007  val loss: 0.010  value: 0.223  patience:   5\n",
      "INFO:pykeen.utilities.train_utils:Epoch 125 /  500 (124.6s):  loss: 0.007  val loss: 0.010  value: 0.223  patience:   6\n",
      "INFO:pykeen.utilities.train_utils:Epoch 126 /  500 (124.7s):  loss: 0.007  val loss: 0.010  value: 0.223  patience:   7\n",
      "INFO:pykeen.utilities.train_utils:Epoch 127 /  500 (124.7s):  loss: 0.007  val loss: 0.010  value: 0.223  patience:   8\n",
      "INFO:pykeen.utilities.train_utils:Epoch 128 /  500 (124.7s):  loss: 0.007  val loss: 0.010  value: 0.223  patience:   9\n",
      "INFO:pykeen.utilities.train_utils:Epoch 129 /  500 (124.7s):  loss: 0.007  val loss: 0.010  value: 0.223  patience:  10\n",
      "INFO:pykeen.utilities.evaluation_utils.metrics_computations:Evaluation took 482.24s seconds\n"
     ]
    },
    {
     "name": "stdout",
     "output_type": "stream",
     "text": [
      "0.21849637208479522 (0.1677294930457927, 0.31333333333333335)\n"
     ]
    },
    {
     "name": "stderr",
     "output_type": "stream",
     "text": [
      "INFO:pykeen.utilities.train_utils:Epoch 130 /  500 (124.7s):  loss: 0.007  val loss: 0.010  value: 0.218  patience:  11\n",
      "INFO:pykeen.utilities.train_utils:Epoch 131 /  500 (125.7s):  loss: 0.007  val loss: 0.011  value: 0.218  patience:  12\n",
      "INFO:pykeen.utilities.train_utils:Epoch 132 /  500 (125.0s):  loss: 0.007  val loss: 0.011  value: 0.218  patience:  13\n",
      "INFO:pykeen.utilities.train_utils:Epoch 133 /  500 (124.9s):  loss: 0.007  val loss: 0.010  value: 0.218  patience:  14\n",
      "INFO:pykeen.utilities.train_utils:Epoch 134 /  500 (124.9s):  loss: 0.007  val loss: 0.010  value: 0.218  patience:  15\n",
      "INFO:pykeen.utilities.train_utils:Epoch 135 /  500 (124.8s):  loss: 0.007  val loss: 0.010  value: 0.218  patience:  16\n",
      "INFO:pykeen.utilities.train_utils:Epoch 136 /  500 (124.9s):  loss: 0.007  val loss: 0.010  value: 0.218  patience:  17\n",
      "INFO:pykeen.utilities.train_utils:Epoch 137 /  500 (127.9s):  loss: 0.007  val loss: 0.010  value: 0.218  patience:  18\n",
      "INFO:pykeen.utilities.train_utils:Epoch 138 /  500 (128.4s):  loss: 0.007  val loss: 0.009  value: 0.218  patience:  19\n",
      "INFO:pykeen.utilities.train_utils:Epoch 139 /  500 (124.9s):  loss: 0.007  val loss: 0.009  value: 0.218  patience:  20\n",
      "INFO:pykeen.utilities.evaluation_utils.metrics_computations:Evaluation took 482.06s seconds\n"
     ]
    },
    {
     "name": "stdout",
     "output_type": "stream",
     "text": [
      "0.21972130500393625 (0.16917752452058119, 0.31333333333333335)\n"
     ]
    },
    {
     "name": "stderr",
     "output_type": "stream",
     "text": [
      "INFO:pykeen.utilities.train_utils:Epoch 140 /  500 (124.7s):  loss: 0.007  val loss: 0.009  value: 0.220  patience:  21\n",
      "INFO:pykeen.utilities.train_utils:Epoch 141 /  500 (125.1s):  loss: 0.007  val loss: 0.009  value: 0.220  patience:  22\n",
      "INFO:pykeen.utilities.train_utils:Epoch 142 /  500 (124.8s):  loss: 0.007  val loss: 0.009  value: 0.220  patience:  23\n",
      "INFO:pykeen.utilities.train_utils:Epoch 143 /  500 (125.4s):  loss: 0.007  val loss: 0.009  value: 0.220  patience:  24\n",
      "INFO:pykeen.utilities.train_utils:Epoch 144 /  500 (125.1s):  loss: 0.007  val loss: 0.009  value: 0.220  patience:  25\n",
      "INFO:pykeen.utilities.train_utils:Epoch 145 /  500 (125.0s):  loss: 0.007  val loss: 0.009  value: 0.220  patience:  26\n",
      "INFO:pykeen.utilities.train_utils:Epoch 146 /  500 (124.9s):  loss: 0.007  val loss: 0.009  value: 0.220  patience:  27\n",
      "INFO:pykeen.utilities.train_utils:Epoch 147 /  500 (125.0s):  loss: 0.007  val loss: 0.009  value: 0.220  patience:  28\n",
      "INFO:pykeen.utilities.train_utils:Epoch 148 /  500 (124.9s):  loss: 0.007  val loss: 0.010  value: 0.220  patience:  29\n",
      "INFO:pykeen.utilities.train_utils:Epoch 149 /  500 (125.7s):  loss: 0.007  val loss: 0.010  value: 0.220  patience:  30\n",
      "INFO:pykeen.utilities.evaluation_utils.metrics_computations:Evaluation took 480.40s seconds\n"
     ]
    },
    {
     "name": "stdout",
     "output_type": "stream",
     "text": [
      "0.22274295041025807 (0.1727870593373216, 0.31333333333333335)\n"
     ]
    },
    {
     "name": "stderr",
     "output_type": "stream",
     "text": [
      "INFO:pykeen.utilities.train_utils:Epoch 150 /  500 (125.6s):  loss: 0.007  val loss: 0.010  value: 0.223  patience:  31\n",
      "INFO:pykeen.utilities.train_utils:Epoch 151 /  500 (125.1s):  loss: 0.007  val loss: 0.010  value: 0.223  patience:  32\n",
      "INFO:pykeen.utilities.train_utils:Epoch 152 /  500 (124.9s):  loss: 0.007  val loss: 0.010  value: 0.223  patience:  33\n"
     ]
    },
    {
     "name": "stdout",
     "output_type": "stream",
     "text": [
      "Model training failed.\n"
     ]
    },
    {
     "name": "stderr",
     "output_type": "stream",
     "text": [
      "HPO Iteration: 100%|████████████████████████████████████████████████████████████████| 1/1 [7:27:10<00:00, 26830.02s/it]\n"
     ]
    },
    {
     "ename": "ValueError",
     "evalue": "attempt to get argmax of an empty sequence",
     "output_type": "error",
     "traceback": [
      "\u001b[1;31m---------------------------------------------------------------------------\u001b[0m",
      "\u001b[1;31mAttributeError\u001b[0m                            Traceback (most recent call last)",
      "\u001b[1;32mD:\\uni\\master\\conda_env\\lib\\site-packages\\numpy\\core\\fromnumeric.py\u001b[0m in \u001b[0;36m_wrapfunc\u001b[1;34m(obj, method, *args, **kwds)\u001b[0m\n\u001b[0;32m     55\u001b[0m     \u001b[1;32mtry\u001b[0m\u001b[1;33m:\u001b[0m\u001b[1;33m\u001b[0m\u001b[1;33m\u001b[0m\u001b[0m\n\u001b[1;32m---> 56\u001b[1;33m         \u001b[1;32mreturn\u001b[0m \u001b[0mgetattr\u001b[0m\u001b[1;33m(\u001b[0m\u001b[0mobj\u001b[0m\u001b[1;33m,\u001b[0m \u001b[0mmethod\u001b[0m\u001b[1;33m)\u001b[0m\u001b[1;33m(\u001b[0m\u001b[1;33m*\u001b[0m\u001b[0margs\u001b[0m\u001b[1;33m,\u001b[0m \u001b[1;33m**\u001b[0m\u001b[0mkwds\u001b[0m\u001b[1;33m)\u001b[0m\u001b[1;33m\u001b[0m\u001b[1;33m\u001b[0m\u001b[0m\n\u001b[0m\u001b[0;32m     57\u001b[0m \u001b[1;33m\u001b[0m\u001b[0m\n",
      "\u001b[1;31mAttributeError\u001b[0m: 'list' object has no attribute 'argmax'",
      "\nDuring handling of the above exception, another exception occurred:\n",
      "\u001b[1;31mValueError\u001b[0m                                Traceback (most recent call last)",
      "\u001b[1;32m<ipython-input-21-49c6bca2a848>\u001b[0m in \u001b[0;36m<module>\u001b[1;34m\u001b[0m\n\u001b[0;32m      2\u001b[0m results30 = pykeen.run(\n\u001b[0;32m      3\u001b[0m     \u001b[0mconfig\u001b[0m\u001b[1;33m=\u001b[0m\u001b[0mconfig\u001b[0m\u001b[1;33m,\u001b[0m\u001b[1;33m\u001b[0m\u001b[1;33m\u001b[0m\u001b[0m\n\u001b[1;32m----> 4\u001b[1;33m     \u001b[0moutput_directory\u001b[0m\u001b[1;33m=\u001b[0m\u001b[0moutput_directory\u001b[0m\u001b[1;33m\u001b[0m\u001b[1;33m\u001b[0m\u001b[0m\n\u001b[0m\u001b[0;32m      5\u001b[0m )\n",
      "\u001b[1;32md:\\uni\\master\\pykeen\\src\\pykeen\\run.py\u001b[0m in \u001b[0;36mrun\u001b[1;34m(config, output_directory)\u001b[0m\n\u001b[0;32m    162\u001b[0m \u001b[1;33m\u001b[0m\u001b[0m\n\u001b[0;32m    163\u001b[0m     \u001b[0mpipeline\u001b[0m \u001b[1;33m=\u001b[0m \u001b[0mPipeline\u001b[0m\u001b[1;33m(\u001b[0m\u001b[0mconfig\u001b[0m\u001b[1;33m=\u001b[0m\u001b[0mconfig\u001b[0m\u001b[1;33m)\u001b[0m\u001b[1;33m\u001b[0m\u001b[1;33m\u001b[0m\u001b[0m\n\u001b[1;32m--> 164\u001b[1;33m     \u001b[0mresults\u001b[0m \u001b[1;33m=\u001b[0m \u001b[0mpipeline\u001b[0m\u001b[1;33m.\u001b[0m\u001b[0mrun\u001b[0m\u001b[1;33m(\u001b[0m\u001b[0moutput_directory\u001b[0m\u001b[1;33m)\u001b[0m\u001b[1;33m\u001b[0m\u001b[1;33m\u001b[0m\u001b[0m\n\u001b[0m\u001b[0;32m    165\u001b[0m \u001b[1;33m\u001b[0m\u001b[0m\n\u001b[0;32m    166\u001b[0m     \u001b[1;31m# Export experimental artifacts\u001b[0m\u001b[1;33m\u001b[0m\u001b[1;33m\u001b[0m\u001b[1;33m\u001b[0m\u001b[0m\n",
      "\u001b[1;32md:\\uni\\master\\pykeen\\src\\pykeen\\utilities\\pipeline.py\u001b[0m in \u001b[0;36mrun\u001b[1;34m(self, output_directory)\u001b[0m\n\u001b[0;32m     84\u001b[0m                 \u001b[0mdevice\u001b[0m\u001b[1;33m=\u001b[0m\u001b[0mself\u001b[0m\u001b[1;33m.\u001b[0m\u001b[0mdevice\u001b[0m\u001b[1;33m,\u001b[0m\u001b[1;33m\u001b[0m\u001b[1;33m\u001b[0m\u001b[0m\n\u001b[0;32m     85\u001b[0m                 \u001b[0mseed\u001b[0m\u001b[1;33m=\u001b[0m\u001b[0mself\u001b[0m\u001b[1;33m.\u001b[0m\u001b[0mseed\u001b[0m\u001b[1;33m,\u001b[0m\u001b[1;33m\u001b[0m\u001b[1;33m\u001b[0m\u001b[0m\n\u001b[1;32m---> 86\u001b[1;33m                 \u001b[0mmodel_dir\u001b[0m\u001b[1;33m=\u001b[0m\u001b[0moutput_directory\u001b[0m\u001b[1;33m,\u001b[0m\u001b[1;33m\u001b[0m\u001b[1;33m\u001b[0m\u001b[0m\n\u001b[0m\u001b[0;32m     87\u001b[0m             )\n\u001b[0;32m     88\u001b[0m         \u001b[1;32melse\u001b[0m\u001b[1;33m:\u001b[0m  \u001b[1;31m# Training Mode\u001b[0m\u001b[1;33m\u001b[0m\u001b[1;33m\u001b[0m\u001b[0m\n",
      "\u001b[1;32md:\\uni\\master\\pykeen\\src\\pykeen\\hpo\\random_search.py\u001b[0m in \u001b[0;36mrun\u001b[1;34m(cls, mapped_train_triples, train_types, mapped_pos_test_triples, test_types, mapped_neg_test_triples, entity_to_id, rel_to_id, config, device, seed, model_dir)\u001b[0m\n\u001b[0;32m    214\u001b[0m             \u001b[0mdevice\u001b[0m\u001b[1;33m=\u001b[0m\u001b[0mdevice\u001b[0m\u001b[1;33m,\u001b[0m\u001b[1;33m\u001b[0m\u001b[1;33m\u001b[0m\u001b[0m\n\u001b[0;32m    215\u001b[0m             \u001b[0mseed\u001b[0m\u001b[1;33m=\u001b[0m\u001b[0mseed\u001b[0m\u001b[1;33m,\u001b[0m\u001b[1;33m\u001b[0m\u001b[1;33m\u001b[0m\u001b[0m\n\u001b[1;32m--> 216\u001b[1;33m             \u001b[0mmodel_dir\u001b[0m\u001b[1;33m=\u001b[0m\u001b[0mmodel_dir\u001b[0m\u001b[1;33m\u001b[0m\u001b[1;33m\u001b[0m\u001b[0m\n\u001b[0m\u001b[0;32m    217\u001b[0m         )\n",
      "\u001b[1;32md:\\uni\\master\\pykeen\\src\\pykeen\\hpo\\random_search.py\u001b[0m in \u001b[0;36moptimize_hyperparams\u001b[1;34m(self, mapped_train_triples, train_types, mapped_pos_test_triples, test_types, mapped_neg_test_triples, entity_to_id, rel_to_id, config, device, seed, model_dir)\u001b[0m\n\u001b[0;32m    176\u001b[0m                 \u001b[0mprint\u001b[0m\u001b[1;33m(\u001b[0m\u001b[1;34m\"Model training failed.\"\u001b[0m\u001b[1;33m)\u001b[0m\u001b[1;33m\u001b[0m\u001b[1;33m\u001b[0m\u001b[0m\n\u001b[0;32m    177\u001b[0m \u001b[1;33m\u001b[0m\u001b[0m\n\u001b[1;32m--> 178\u001b[1;33m         \u001b[0mindex_of_max\u001b[0m \u001b[1;33m=\u001b[0m \u001b[0mint\u001b[0m\u001b[1;33m(\u001b[0m\u001b[0mnp\u001b[0m\u001b[1;33m.\u001b[0m\u001b[0margmax\u001b[0m\u001b[1;33m(\u001b[0m\u001b[0ma\u001b[0m\u001b[1;33m=\u001b[0m\u001b[0mevaluation_criterion\u001b[0m\u001b[1;33m)\u001b[0m\u001b[1;33m)\u001b[0m\u001b[1;33m\u001b[0m\u001b[1;33m\u001b[0m\u001b[0m\n\u001b[0m\u001b[0;32m    179\u001b[0m \u001b[1;33m\u001b[0m\u001b[0m\n\u001b[0;32m    180\u001b[0m         return (\n",
      "\u001b[1;32mD:\\uni\\master\\conda_env\\lib\\site-packages\\numpy\\core\\fromnumeric.py\u001b[0m in \u001b[0;36margmax\u001b[1;34m(a, axis, out)\u001b[0m\n\u001b[0;32m   1101\u001b[0m \u001b[1;33m\u001b[0m\u001b[0m\n\u001b[0;32m   1102\u001b[0m     \"\"\"\n\u001b[1;32m-> 1103\u001b[1;33m     \u001b[1;32mreturn\u001b[0m \u001b[0m_wrapfunc\u001b[0m\u001b[1;33m(\u001b[0m\u001b[0ma\u001b[0m\u001b[1;33m,\u001b[0m \u001b[1;34m'argmax'\u001b[0m\u001b[1;33m,\u001b[0m \u001b[0maxis\u001b[0m\u001b[1;33m=\u001b[0m\u001b[0maxis\u001b[0m\u001b[1;33m,\u001b[0m \u001b[0mout\u001b[0m\u001b[1;33m=\u001b[0m\u001b[0mout\u001b[0m\u001b[1;33m)\u001b[0m\u001b[1;33m\u001b[0m\u001b[1;33m\u001b[0m\u001b[0m\n\u001b[0m\u001b[0;32m   1104\u001b[0m \u001b[1;33m\u001b[0m\u001b[0m\n\u001b[0;32m   1105\u001b[0m \u001b[1;33m\u001b[0m\u001b[0m\n",
      "\u001b[1;32mD:\\uni\\master\\conda_env\\lib\\site-packages\\numpy\\core\\fromnumeric.py\u001b[0m in \u001b[0;36m_wrapfunc\u001b[1;34m(obj, method, *args, **kwds)\u001b[0m\n\u001b[0;32m     64\u001b[0m     \u001b[1;31m# a downstream library like 'pandas'.\u001b[0m\u001b[1;33m\u001b[0m\u001b[1;33m\u001b[0m\u001b[1;33m\u001b[0m\u001b[0m\n\u001b[0;32m     65\u001b[0m     \u001b[1;32mexcept\u001b[0m \u001b[1;33m(\u001b[0m\u001b[0mAttributeError\u001b[0m\u001b[1;33m,\u001b[0m \u001b[0mTypeError\u001b[0m\u001b[1;33m)\u001b[0m\u001b[1;33m:\u001b[0m\u001b[1;33m\u001b[0m\u001b[1;33m\u001b[0m\u001b[0m\n\u001b[1;32m---> 66\u001b[1;33m         \u001b[1;32mreturn\u001b[0m \u001b[0m_wrapit\u001b[0m\u001b[1;33m(\u001b[0m\u001b[0mobj\u001b[0m\u001b[1;33m,\u001b[0m \u001b[0mmethod\u001b[0m\u001b[1;33m,\u001b[0m \u001b[1;33m*\u001b[0m\u001b[0margs\u001b[0m\u001b[1;33m,\u001b[0m \u001b[1;33m**\u001b[0m\u001b[0mkwds\u001b[0m\u001b[1;33m)\u001b[0m\u001b[1;33m\u001b[0m\u001b[1;33m\u001b[0m\u001b[0m\n\u001b[0m\u001b[0;32m     67\u001b[0m \u001b[1;33m\u001b[0m\u001b[0m\n\u001b[0;32m     68\u001b[0m \u001b[1;33m\u001b[0m\u001b[0m\n",
      "\u001b[1;32mD:\\uni\\master\\conda_env\\lib\\site-packages\\numpy\\core\\fromnumeric.py\u001b[0m in \u001b[0;36m_wrapit\u001b[1;34m(obj, method, *args, **kwds)\u001b[0m\n\u001b[0;32m     44\u001b[0m     \u001b[1;32mexcept\u001b[0m \u001b[0mAttributeError\u001b[0m\u001b[1;33m:\u001b[0m\u001b[1;33m\u001b[0m\u001b[1;33m\u001b[0m\u001b[0m\n\u001b[0;32m     45\u001b[0m         \u001b[0mwrap\u001b[0m \u001b[1;33m=\u001b[0m \u001b[1;32mNone\u001b[0m\u001b[1;33m\u001b[0m\u001b[1;33m\u001b[0m\u001b[0m\n\u001b[1;32m---> 46\u001b[1;33m     \u001b[0mresult\u001b[0m \u001b[1;33m=\u001b[0m \u001b[0mgetattr\u001b[0m\u001b[1;33m(\u001b[0m\u001b[0masarray\u001b[0m\u001b[1;33m(\u001b[0m\u001b[0mobj\u001b[0m\u001b[1;33m)\u001b[0m\u001b[1;33m,\u001b[0m \u001b[0mmethod\u001b[0m\u001b[1;33m)\u001b[0m\u001b[1;33m(\u001b[0m\u001b[1;33m*\u001b[0m\u001b[0margs\u001b[0m\u001b[1;33m,\u001b[0m \u001b[1;33m**\u001b[0m\u001b[0mkwds\u001b[0m\u001b[1;33m)\u001b[0m\u001b[1;33m\u001b[0m\u001b[1;33m\u001b[0m\u001b[0m\n\u001b[0m\u001b[0;32m     47\u001b[0m     \u001b[1;32mif\u001b[0m \u001b[0mwrap\u001b[0m\u001b[1;33m:\u001b[0m\u001b[1;33m\u001b[0m\u001b[1;33m\u001b[0m\u001b[0m\n\u001b[0;32m     48\u001b[0m         \u001b[1;32mif\u001b[0m \u001b[1;32mnot\u001b[0m \u001b[0misinstance\u001b[0m\u001b[1;33m(\u001b[0m\u001b[0mresult\u001b[0m\u001b[1;33m,\u001b[0m \u001b[0mmu\u001b[0m\u001b[1;33m.\u001b[0m\u001b[0mndarray\u001b[0m\u001b[1;33m)\u001b[0m\u001b[1;33m:\u001b[0m\u001b[1;33m\u001b[0m\u001b[1;33m\u001b[0m\u001b[0m\n",
      "\u001b[1;31mValueError\u001b[0m: attempt to get argmax of an empty sequence"
     ]
    }
   ],
   "source": [
    "config['margin_loss'] = [0.3]\n",
    "results30 = pykeen.run(\n",
    "    config=config,\n",
    "    output_directory=output_directory\n",
    ")"
   ]
  },
  {
   "cell_type": "code",
   "execution_count": null,
   "metadata": {
    "ExecuteTime": {
     "start_time": "2019-07-11T12:54:37.358Z"
    }
   },
   "outputs": [
    {
     "name": "stderr",
     "output_type": "stream",
     "text": [
      "\r",
      "HPO Iteration:   0%|                                                                             | 0/1 [00:00<?, ?it/s]"
     ]
    },
    {
     "name": "stdout",
     "output_type": "stream",
     "text": [
      "{'metrics': 'mean_rank', 'training_set_path': 'D:/uni/master/data/FB15K/train.tsv', 'test_set_path': 'D:/uni/master/data/FB15K/valid_150.tsv', 'mapping_path': 'D:/uni/master/data/fb15k/', 'execution_mode': 'HPO_mode', 'random_seed': 5, 'kg_embedding_model_name': 'Region', 'region_type': 'arbitrary', 'embedding_dim': 50, 'normalization_of_entities': 2, 'init_radius': 0, 'reg_lambda': 0, 'loss_type': 'MRL', 'margin_loss': 0.5, 'neg_factor': 1, 'corrupt_relations': False, 'filter_negative_triples': False, 'es_metric': 'custom', 'learning_rate': 0.1, 'num_epochs': 500, 'batch_size': 2048, 'test_batch_size': 4096, 'maximum_number_of_hpo_iters': 1, 'preferred_device': 'gpu', 'pykeen-version': '0.0.26-dev', 'num_entities': 14951, 'num_relations': 1345}\n"
     ]
    },
    {
     "name": "stderr",
     "output_type": "stream",
     "text": [
      "INFO:pykeen.utilities.evaluation_utils.metrics_computations:Evaluation took 480.73s seconds\n"
     ]
    },
    {
     "name": "stdout",
     "output_type": "stream",
     "text": [
      "0.12605881667754562 (0.09605165857470972, 0.18333333333333332)\n"
     ]
    },
    {
     "name": "stderr",
     "output_type": "stream",
     "text": [
      "INFO:pykeen.utilities.train_utils:Epoch   0 /  500 (125.9s):  loss: 0.189  val loss: 0.103  value: 0.126  patience:   1\n",
      "INFO:pykeen.utilities.train_utils:Epoch   1 /  500 (125.1s):  loss: 0.094  val loss: 0.066  value: 0.126  patience:   2\n",
      "INFO:pykeen.utilities.train_utils:Epoch   2 /  500 (125.2s):  loss: 0.076  val loss: 0.059  value: 0.126  patience:   3\n",
      "INFO:pykeen.utilities.train_utils:Epoch   3 /  500 (125.3s):  loss: 0.076  val loss: 0.070  value: 0.126  patience:   4\n",
      "INFO:pykeen.utilities.train_utils:Epoch   4 /  500 (125.1s):  loss: 0.070  val loss: 0.028  value: 0.126  patience:   5\n",
      "INFO:pykeen.utilities.train_utils:Epoch   5 /  500 (125.2s):  loss: 0.063  val loss: 0.043  value: 0.126  patience:   6\n",
      "INFO:pykeen.utilities.train_utils:Epoch   6 /  500 (124.8s):  loss: 0.071  val loss: 0.061  value: 0.126  patience:   7\n",
      "INFO:pykeen.utilities.train_utils:Epoch   7 /  500 (125.1s):  loss: 0.069  val loss: 0.059  value: 0.126  patience:   8\n",
      "INFO:pykeen.utilities.train_utils:Epoch   8 /  500 (124.7s):  loss: 0.055  val loss: 0.065  value: 0.126  patience:   9\n",
      "INFO:pykeen.utilities.train_utils:Epoch   9 /  500 (124.8s):  loss: 0.055  val loss: 0.061  value: 0.126  patience:  10\n",
      "INFO:pykeen.utilities.evaluation_utils.metrics_computations:Evaluation took 480.18s seconds\n"
     ]
    },
    {
     "name": "stdout",
     "output_type": "stream",
     "text": [
      "0.1387436348743807 (0.10926671556377933, 0.19)\n"
     ]
    },
    {
     "name": "stderr",
     "output_type": "stream",
     "text": [
      "INFO:pykeen.utilities.train_utils:Epoch  10 /  500 (125.1s):  loss: 0.054  val loss: 0.062  value: 0.139  patience:   1\n",
      "INFO:pykeen.utilities.train_utils:Epoch  11 /  500 (125.4s):  loss: 0.059  val loss: 0.069  value: 0.139  patience:   2\n",
      "INFO:pykeen.utilities.train_utils:Epoch  12 /  500 (124.8s):  loss: 0.052  val loss: 0.063  value: 0.139  patience:   3\n",
      "INFO:pykeen.utilities.train_utils:Epoch  13 /  500 (124.9s):  loss: 0.051  val loss: 0.053  value: 0.139  patience:   4\n",
      "INFO:pykeen.utilities.train_utils:Epoch  14 /  500 (124.8s):  loss: 0.049  val loss: 0.054  value: 0.139  patience:   5\n",
      "INFO:pykeen.utilities.train_utils:Epoch  15 /  500 (125.0s):  loss: 0.051  val loss: 0.069  value: 0.139  patience:   6\n",
      "INFO:pykeen.utilities.train_utils:Epoch  16 /  500 (125.1s):  loss: 0.053  val loss: 0.074  value: 0.139  patience:   7\n",
      "INFO:pykeen.utilities.train_utils:Epoch  17 /  500 (125.3s):  loss: 0.052  val loss: 0.050  value: 0.139  patience:   8\n",
      "INFO:pykeen.utilities.train_utils:Epoch  18 /  500 (125.3s):  loss: 0.048  val loss: 0.046  value: 0.139  patience:   9\n",
      "INFO:pykeen.utilities.train_utils:Epoch  19 /  500 (125.1s):  loss: 0.042  val loss: 0.050  value: 0.139  patience:  10\n",
      "INFO:pykeen.utilities.evaluation_utils.metrics_computations:Evaluation took 483.14s seconds\n"
     ]
    },
    {
     "name": "stdout",
     "output_type": "stream",
     "text": [
      "0.15778974792268102 (0.1276098603099381, 0.20666666666666667)\n"
     ]
    },
    {
     "name": "stderr",
     "output_type": "stream",
     "text": [
      "INFO:pykeen.utilities.train_utils:Epoch  20 /  500 (124.8s):  loss: 0.057  val loss: 0.073  value: 0.158  patience:   1\n",
      "INFO:pykeen.utilities.train_utils:Epoch  21 /  500 (126.7s):  loss: 0.053  val loss: 0.037  value: 0.158  patience:   2\n",
      "INFO:pykeen.utilities.train_utils:Epoch  22 /  500 (126.8s):  loss: 0.049  val loss: 0.054  value: 0.158  patience:   3\n",
      "INFO:pykeen.utilities.train_utils:Epoch  23 /  500 (126.8s):  loss: 0.053  val loss: 0.053  value: 0.158  patience:   4\n",
      "INFO:pykeen.utilities.train_utils:Epoch  24 /  500 (127.6s):  loss: 0.047  val loss: 0.044  value: 0.158  patience:   5\n"
     ]
    },
    {
     "name": "stdout",
     "output_type": "stream",
     "text": [
      "Epoch    25: reducing learning rate of group 0 to 1.0000e-02.\n"
     ]
    },
    {
     "name": "stderr",
     "output_type": "stream",
     "text": [
      "INFO:pykeen.utilities.train_utils:Epoch  25 /  500 (126.9s):  loss: 0.039  val loss: 0.034  value: 0.158  patience:   6\n",
      "INFO:pykeen.utilities.train_utils:Epoch  26 /  500 (127.0s):  loss: 0.027  val loss: 0.031  value: 0.158  patience:   7\n",
      "INFO:pykeen.utilities.train_utils:Epoch  27 /  500 (127.0s):  loss: 0.025  val loss: 0.028  value: 0.158  patience:   8\n",
      "INFO:pykeen.utilities.train_utils:Epoch  28 /  500 (127.2s):  loss: 0.023  val loss: 0.022  value: 0.158  patience:   9\n",
      "INFO:pykeen.utilities.train_utils:Epoch  29 /  500 (127.1s):  loss: 0.022  val loss: 0.020  value: 0.158  patience:  10\n",
      "INFO:pykeen.utilities.evaluation_utils.metrics_computations:Evaluation took 486.46s seconds\n"
     ]
    },
    {
     "name": "stdout",
     "output_type": "stream",
     "text": [
      "0.1702411416362095 (0.13754345452684807, 0.22333333333333333)\n"
     ]
    },
    {
     "name": "stderr",
     "output_type": "stream",
     "text": [
      "INFO:pykeen.utilities.train_utils:Epoch  30 /  500 (127.0s):  loss: 0.021  val loss: 0.026  value: 0.170  patience:   1\n",
      "INFO:pykeen.utilities.train_utils:Epoch  31 /  500 (126.9s):  loss: 0.021  val loss: 0.024  value: 0.170  patience:   2\n",
      "INFO:pykeen.utilities.train_utils:Epoch  32 /  500 (127.0s):  loss: 0.020  val loss: 0.018  value: 0.170  patience:   3\n",
      "INFO:pykeen.utilities.train_utils:Epoch  33 /  500 (127.1s):  loss: 0.020  val loss: 0.016  value: 0.170  patience:   4\n",
      "INFO:pykeen.utilities.train_utils:Epoch  34 /  500 (126.9s):  loss: 0.019  val loss: 0.024  value: 0.170  patience:   5\n",
      "INFO:pykeen.utilities.train_utils:Epoch  35 /  500 (127.0s):  loss: 0.019  val loss: 0.016  value: 0.170  patience:   6\n",
      "INFO:pykeen.utilities.train_utils:Epoch  36 /  500 (126.9s):  loss: 0.018  val loss: 0.018  value: 0.170  patience:   7\n",
      "INFO:pykeen.utilities.train_utils:Epoch  37 /  500 (126.9s):  loss: 0.018  val loss: 0.021  value: 0.170  patience:   8\n",
      "INFO:pykeen.utilities.train_utils:Epoch  38 /  500 (126.8s):  loss: 0.018  val loss: 0.016  value: 0.170  patience:   9\n",
      "INFO:pykeen.utilities.train_utils:Epoch  39 /  500 (125.1s):  loss: 0.018  val loss: 0.018  value: 0.170  patience:  10\n",
      "INFO:pykeen.utilities.evaluation_utils.metrics_computations:Evaluation took 479.25s seconds\n"
     ]
    },
    {
     "name": "stdout",
     "output_type": "stream",
     "text": [
      "0.18062865785407078 (0.14361932879413056, 0.24333333333333335)\n"
     ]
    },
    {
     "name": "stderr",
     "output_type": "stream",
     "text": [
      "INFO:pykeen.utilities.train_utils:Epoch  40 /  500 (124.7s):  loss: 0.018  val loss: 0.013  value: 0.181  patience:   1\n",
      "INFO:pykeen.utilities.train_utils:Epoch  41 /  500 (124.7s):  loss: 0.017  val loss: 0.014  value: 0.181  patience:   2\n",
      "INFO:pykeen.utilities.train_utils:Epoch  42 /  500 (124.8s):  loss: 0.017  val loss: 0.016  value: 0.181  patience:   3\n",
      "INFO:pykeen.utilities.train_utils:Epoch  43 /  500 (125.0s):  loss: 0.017  val loss: 0.012  value: 0.181  patience:   4\n",
      "INFO:pykeen.utilities.train_utils:Epoch  44 /  500 (125.0s):  loss: 0.017  val loss: 0.015  value: 0.181  patience:   5\n",
      "INFO:pykeen.utilities.train_utils:Epoch  45 /  500 (124.7s):  loss: 0.017  val loss: 0.011  value: 0.181  patience:   6\n",
      "INFO:pykeen.utilities.train_utils:Epoch  46 /  500 (124.7s):  loss: 0.017  val loss: 0.014  value: 0.181  patience:   7\n",
      "INFO:pykeen.utilities.train_utils:Epoch  47 /  500 (124.7s):  loss: 0.016  val loss: 0.017  value: 0.181  patience:   8\n",
      "INFO:pykeen.utilities.train_utils:Epoch  48 /  500 (124.6s):  loss: 0.017  val loss: 0.017  value: 0.181  patience:   9\n",
      "INFO:pykeen.utilities.train_utils:Epoch  49 /  500 (124.6s):  loss: 0.016  val loss: 0.016  value: 0.181  patience:  10\n",
      "INFO:pykeen.utilities.evaluation_utils.metrics_computations:Evaluation took 479.79s seconds\n"
     ]
    },
    {
     "name": "stdout",
     "output_type": "stream",
     "text": [
      "0.18851160747939066 (0.1512990628269703, 0.25)\n"
     ]
    },
    {
     "name": "stderr",
     "output_type": "stream",
     "text": [
      "INFO:pykeen.utilities.train_utils:Epoch  50 /  500 (124.6s):  loss: 0.016  val loss: 0.018  value: 0.189  patience:   1\n",
      "INFO:pykeen.utilities.train_utils:Epoch  51 /  500 (125.0s):  loss: 0.016  val loss: 0.020  value: 0.189  patience:   2\n",
      "INFO:pykeen.utilities.train_utils:Epoch  52 /  500 (125.1s):  loss: 0.016  val loss: 0.015  value: 0.189  patience:   3\n",
      "INFO:pykeen.utilities.train_utils:Epoch  53 /  500 (125.4s):  loss: 0.016  val loss: 0.017  value: 0.189  patience:   4\n",
      "INFO:pykeen.utilities.train_utils:Epoch  54 /  500 (125.6s):  loss: 0.015  val loss: 0.014  value: 0.189  patience:   5\n",
      "INFO:pykeen.utilities.train_utils:Epoch  55 /  500 (125.0s):  loss: 0.015  val loss: 0.018  value: 0.189  patience:   6\n",
      "INFO:pykeen.utilities.train_utils:Epoch  56 /  500 (124.7s):  loss: 0.015  val loss: 0.022  value: 0.189  patience:   7\n",
      "INFO:pykeen.utilities.train_utils:Epoch  57 /  500 (124.7s):  loss: 0.015  val loss: 0.014  value: 0.189  patience:   8\n",
      "INFO:pykeen.utilities.train_utils:Epoch  58 /  500 (124.6s):  loss: 0.015  val loss: 0.019  value: 0.189  patience:   9\n",
      "INFO:pykeen.utilities.train_utils:Epoch  59 /  500 (124.6s):  loss: 0.015  val loss: 0.018  value: 0.189  patience:  10\n",
      "INFO:pykeen.utilities.evaluation_utils.metrics_computations:Evaluation took 478.96s seconds\n"
     ]
    },
    {
     "name": "stdout",
     "output_type": "stream",
     "text": [
      "0.19262357706856367 (0.14681018762399917, 0.28)\n"
     ]
    },
    {
     "name": "stderr",
     "output_type": "stream",
     "text": [
      "INFO:pykeen.utilities.train_utils:Epoch  60 /  500 (124.6s):  loss: 0.015  val loss: 0.017  value: 0.193  patience:   1\n",
      "INFO:pykeen.utilities.train_utils:Epoch  61 /  500 (124.6s):  loss: 0.015  val loss: 0.024  value: 0.193  patience:   2\n",
      "INFO:pykeen.utilities.train_utils:Epoch  62 /  500 (124.6s):  loss: 0.015  val loss: 0.016  value: 0.193  patience:   3\n",
      "INFO:pykeen.utilities.train_utils:Epoch  63 /  500 (124.6s):  loss: 0.015  val loss: 0.014  value: 0.193  patience:   4\n",
      "INFO:pykeen.utilities.train_utils:Epoch  64 /  500 (124.6s):  loss: 0.015  val loss: 0.017  value: 0.193  patience:   5\n",
      "INFO:pykeen.utilities.train_utils:Epoch  65 /  500 (124.6s):  loss: 0.015  val loss: 0.016  value: 0.193  patience:   6\n"
     ]
    },
    {
     "name": "stdout",
     "output_type": "stream",
     "text": [
      "Epoch    66: reducing learning rate of group 0 to 1.0000e-03.\n"
     ]
    },
    {
     "name": "stderr",
     "output_type": "stream",
     "text": [
      "INFO:pykeen.utilities.train_utils:Epoch  66 /  500 (124.6s):  loss: 0.015  val loss: 0.020  value: 0.193  patience:   7\n",
      "INFO:pykeen.utilities.train_utils:Epoch  67 /  500 (124.6s):  loss: 0.014  val loss: 0.017  value: 0.193  patience:   8\n",
      "INFO:pykeen.utilities.train_utils:Epoch  68 /  500 (124.6s):  loss: 0.014  val loss: 0.017  value: 0.193  patience:   9\n",
      "INFO:pykeen.utilities.train_utils:Epoch  69 /  500 (124.7s):  loss: 0.014  val loss: 0.017  value: 0.193  patience:  10\n",
      "INFO:pykeen.utilities.evaluation_utils.metrics_computations:Evaluation took 479.28s seconds\n"
     ]
    },
    {
     "name": "stdout",
     "output_type": "stream",
     "text": [
      "0.19840143165284166 (0.15465237837848372, 0.27666666666666667)\n"
     ]
    },
    {
     "name": "stderr",
     "output_type": "stream",
     "text": [
      "INFO:pykeen.utilities.train_utils:Epoch  70 /  500 (124.8s):  loss: 0.014  val loss: 0.017  value: 0.198  patience:   1\n",
      "INFO:pykeen.utilities.train_utils:Epoch  71 /  500 (124.6s):  loss: 0.014  val loss: 0.016  value: 0.198  patience:   2\n",
      "INFO:pykeen.utilities.train_utils:Epoch  72 /  500 (124.6s):  loss: 0.014  val loss: 0.017  value: 0.198  patience:   3\n",
      "INFO:pykeen.utilities.train_utils:Epoch  73 /  500 (124.6s):  loss: 0.014  val loss: 0.016  value: 0.198  patience:   4\n",
      "INFO:pykeen.utilities.train_utils:Epoch  74 /  500 (124.6s):  loss: 0.013  val loss: 0.015  value: 0.198  patience:   5\n",
      "INFO:pykeen.utilities.train_utils:Epoch  75 /  500 (124.6s):  loss: 0.013  val loss: 0.016  value: 0.198  patience:   6\n",
      "INFO:pykeen.utilities.train_utils:Epoch  76 /  500 (124.6s):  loss: 0.014  val loss: 0.017  value: 0.198  patience:   7\n",
      "INFO:pykeen.utilities.train_utils:Epoch  77 /  500 (124.6s):  loss: 0.014  val loss: 0.015  value: 0.198  patience:   8\n",
      "INFO:pykeen.utilities.train_utils:Epoch  78 /  500 (124.6s):  loss: 0.014  val loss: 0.015  value: 0.198  patience:   9\n",
      "INFO:pykeen.utilities.train_utils:Epoch  79 /  500 (124.8s):  loss: 0.014  val loss: 0.016  value: 0.198  patience:  10\n",
      "INFO:pykeen.utilities.evaluation_utils.metrics_computations:Evaluation took 479.00s seconds\n"
     ]
    },
    {
     "name": "stdout",
     "output_type": "stream",
     "text": [
      "0.19794384746235838 (0.15856889184407597, 0.2633333333333333)\n"
     ]
    },
    {
     "name": "stderr",
     "output_type": "stream",
     "text": [
      "INFO:pykeen.utilities.train_utils:Epoch  80 /  500 (124.6s):  loss: 0.014  val loss: 0.018  value: 0.198  patience:  11\n",
      "INFO:pykeen.utilities.train_utils:Epoch  81 /  500 (124.6s):  loss: 0.013  val loss: 0.015  value: 0.198  patience:  12\n",
      "INFO:pykeen.utilities.train_utils:Epoch  82 /  500 (124.7s):  loss: 0.013  val loss: 0.016  value: 0.198  patience:  13\n",
      "INFO:pykeen.utilities.train_utils:Epoch  83 /  500 (124.9s):  loss: 0.014  val loss: 0.016  value: 0.198  patience:  14\n",
      "INFO:pykeen.utilities.train_utils:Epoch  84 /  500 (124.6s):  loss: 0.013  val loss: 0.015  value: 0.198  patience:  15\n",
      "INFO:pykeen.utilities.train_utils:Epoch  85 /  500 (124.7s):  loss: 0.013  val loss: 0.016  value: 0.198  patience:  16\n",
      "INFO:pykeen.utilities.train_utils:Epoch  86 /  500 (124.7s):  loss: 0.013  val loss: 0.015  value: 0.198  patience:  17\n",
      "INFO:pykeen.utilities.train_utils:Epoch  87 /  500 (124.6s):  loss: 0.013  val loss: 0.017  value: 0.198  patience:  18\n",
      "INFO:pykeen.utilities.train_utils:Epoch  88 /  500 (124.6s):  loss: 0.013  val loss: 0.015  value: 0.198  patience:  19\n",
      "INFO:pykeen.utilities.train_utils:Epoch  89 /  500 (124.5s):  loss: 0.013  val loss: 0.016  value: 0.198  patience:  20\n",
      "INFO:pykeen.utilities.evaluation_utils.metrics_computations:Evaluation took 478.93s seconds\n"
     ]
    },
    {
     "name": "stdout",
     "output_type": "stream",
     "text": [
      "0.1973302151690883 (0.15439821767332718, 0.2733333333333333)\n"
     ]
    },
    {
     "name": "stderr",
     "output_type": "stream",
     "text": [
      "INFO:pykeen.utilities.train_utils:Epoch  90 /  500 (124.6s):  loss: 0.013  val loss: 0.016  value: 0.197  patience:  21\n",
      "INFO:pykeen.utilities.train_utils:Epoch  91 /  500 (124.6s):  loss: 0.013  val loss: 0.016  value: 0.197  patience:  22\n",
      "INFO:pykeen.utilities.train_utils:Epoch  92 /  500 (124.6s):  loss: 0.013  val loss: 0.016  value: 0.197  patience:  23\n",
      "INFO:pykeen.utilities.train_utils:Epoch  93 /  500 (124.6s):  loss: 0.013  val loss: 0.015  value: 0.197  patience:  24\n",
      "INFO:pykeen.utilities.train_utils:Epoch  94 /  500 (124.5s):  loss: 0.013  val loss: 0.015  value: 0.197  patience:  25\n",
      "INFO:pykeen.utilities.train_utils:Epoch  95 /  500 (124.6s):  loss: 0.013  val loss: 0.017  value: 0.197  patience:  26\n",
      "INFO:pykeen.utilities.train_utils:Epoch  96 /  500 (124.6s):  loss: 0.013  val loss: 0.017  value: 0.197  patience:  27\n",
      "INFO:pykeen.utilities.train_utils:Epoch  97 /  500 (124.6s):  loss: 0.013  val loss: 0.016  value: 0.197  patience:  28\n",
      "INFO:pykeen.utilities.train_utils:Epoch  98 /  500 (124.6s):  loss: 0.013  val loss: 0.015  value: 0.197  patience:  29\n",
      "INFO:pykeen.utilities.train_utils:Epoch  99 /  500 (124.5s):  loss: 0.013  val loss: 0.017  value: 0.197  patience:  30\n",
      "INFO:pykeen.utilities.evaluation_utils.metrics_computations:Evaluation took 478.92s seconds\n"
     ]
    },
    {
     "name": "stdout",
     "output_type": "stream",
     "text": [
      "0.20369214688248713 (0.16477888100135632, 0.26666666666666666)\n"
     ]
    },
    {
     "name": "stderr",
     "output_type": "stream",
     "text": [
      "INFO:pykeen.utilities.train_utils:Epoch 100 /  500 (124.6s):  loss: 0.013  val loss: 0.017  value: 0.204  patience:   1\n",
      "INFO:pykeen.utilities.train_utils:Epoch 101 /  500 (124.6s):  loss: 0.013  val loss: 0.017  value: 0.204  patience:   2\n",
      "INFO:pykeen.utilities.train_utils:Epoch 102 /  500 (124.6s):  loss: 0.013  val loss: 0.015  value: 0.204  patience:   3\n",
      "INFO:pykeen.utilities.train_utils:Epoch 103 /  500 (124.7s):  loss: 0.013  val loss: 0.016  value: 0.204  patience:   4\n",
      "INFO:pykeen.utilities.train_utils:Epoch 104 /  500 (124.6s):  loss: 0.013  val loss: 0.017  value: 0.204  patience:   5\n",
      "INFO:pykeen.utilities.train_utils:Epoch 105 /  500 (124.7s):  loss: 0.013  val loss: 0.016  value: 0.204  patience:   6\n",
      "INFO:pykeen.utilities.train_utils:Epoch 106 /  500 (124.6s):  loss: 0.013  val loss: 0.017  value: 0.204  patience:   7\n",
      "INFO:pykeen.utilities.train_utils:Epoch 107 /  500 (124.6s):  loss: 0.013  val loss: 0.017  value: 0.204  patience:   8\n",
      "INFO:pykeen.utilities.train_utils:Epoch 108 /  500 (124.6s):  loss: 0.013  val loss: 0.016  value: 0.204  patience:   9\n",
      "INFO:pykeen.utilities.train_utils:Epoch 109 /  500 (124.6s):  loss: 0.013  val loss: 0.016  value: 0.204  patience:  10\n",
      "INFO:pykeen.utilities.evaluation_utils.metrics_computations:Evaluation took 478.94s seconds\n"
     ]
    },
    {
     "name": "stdout",
     "output_type": "stream",
     "text": [
      "0.2005926094206327 (0.15525430317773495, 0.2833333333333333)\n"
     ]
    },
    {
     "name": "stderr",
     "output_type": "stream",
     "text": [
      "INFO:pykeen.utilities.train_utils:Epoch 110 /  500 (124.6s):  loss: 0.013  val loss: 0.016  value: 0.201  patience:  11\n",
      "INFO:pykeen.utilities.train_utils:Epoch 111 /  500 (124.6s):  loss: 0.013  val loss: 0.015  value: 0.201  patience:  12\n",
      "INFO:pykeen.utilities.train_utils:Epoch 112 /  500 (124.6s):  loss: 0.013  val loss: 0.015  value: 0.201  patience:  13\n",
      "INFO:pykeen.utilities.train_utils:Epoch 113 /  500 (124.6s):  loss: 0.013  val loss: 0.016  value: 0.201  patience:  14\n",
      "INFO:pykeen.utilities.train_utils:Epoch 114 /  500 (124.6s):  loss: 0.013  val loss: 0.017  value: 0.201  patience:  15\n",
      "INFO:pykeen.utilities.train_utils:Epoch 115 /  500 (124.6s):  loss: 0.013  val loss: 0.016  value: 0.201  patience:  16\n",
      "INFO:pykeen.utilities.train_utils:Epoch 116 /  500 (124.6s):  loss: 0.013  val loss: 0.015  value: 0.201  patience:  17\n",
      "INFO:pykeen.utilities.train_utils:Epoch 117 /  500 (124.6s):  loss: 0.013  val loss: 0.016  value: 0.201  patience:  18\n",
      "INFO:pykeen.utilities.train_utils:Epoch 118 /  500 (124.6s):  loss: 0.013  val loss: 0.017  value: 0.201  patience:  19\n",
      "INFO:pykeen.utilities.train_utils:Epoch 119 /  500 (124.6s):  loss: 0.013  val loss: 0.018  value: 0.201  patience:  20\n",
      "INFO:pykeen.utilities.evaluation_utils.metrics_computations:Evaluation took 479.74s seconds\n"
     ]
    },
    {
     "name": "stdout",
     "output_type": "stream",
     "text": [
      "0.20193556091935394 (0.15791000413946238, 0.28)\n"
     ]
    },
    {
     "name": "stderr",
     "output_type": "stream",
     "text": [
      "INFO:pykeen.utilities.train_utils:Epoch 120 /  500 (124.5s):  loss: 0.013  val loss: 0.018  value: 0.202  patience:  21\n",
      "INFO:pykeen.utilities.train_utils:Epoch 121 /  500 (124.6s):  loss: 0.013  val loss: 0.016  value: 0.202  patience:  22\n",
      "INFO:pykeen.utilities.train_utils:Epoch 122 /  500 (124.6s):  loss: 0.013  val loss: 0.017  value: 0.202  patience:  23\n",
      "INFO:pykeen.utilities.train_utils:Epoch 123 /  500 (124.6s):  loss: 0.013  val loss: 0.016  value: 0.202  patience:  24\n",
      "INFO:pykeen.utilities.train_utils:Epoch 124 /  500 (124.8s):  loss: 0.013  val loss: 0.016  value: 0.202  patience:  25\n",
      "INFO:pykeen.utilities.train_utils:Epoch 125 /  500 (124.5s):  loss: 0.013  val loss: 0.015  value: 0.202  patience:  26\n",
      "INFO:pykeen.utilities.train_utils:Epoch 126 /  500 (124.7s):  loss: 0.013  val loss: 0.015  value: 0.202  patience:  27\n",
      "INFO:pykeen.utilities.train_utils:Epoch 127 /  500 (124.8s):  loss: 0.013  val loss: 0.016  value: 0.202  patience:  28\n",
      "INFO:pykeen.utilities.train_utils:Epoch 128 /  500 (124.8s):  loss: 0.013  val loss: 0.016  value: 0.202  patience:  29\n",
      "INFO:pykeen.utilities.train_utils:Epoch 129 /  500 (124.8s):  loss: 0.013  val loss: 0.016  value: 0.202  patience:  30\n",
      "INFO:pykeen.utilities.evaluation_utils.metrics_computations:Evaluation took 479.71s seconds\n"
     ]
    },
    {
     "name": "stdout",
     "output_type": "stream",
     "text": [
      "0.20484292537110166 (0.16149479540521458, 0.28)\n"
     ]
    },
    {
     "name": "stderr",
     "output_type": "stream",
     "text": [
      "INFO:pykeen.utilities.train_utils:Epoch 130 /  500 (124.7s):  loss: 0.013  val loss: 0.016  value: 0.205  patience:   1\n",
      "INFO:pykeen.utilities.train_utils:Epoch 131 /  500 (124.8s):  loss: 0.013  val loss: 0.017  value: 0.205  patience:   2\n",
      "INFO:pykeen.utilities.train_utils:Epoch 132 /  500 (124.7s):  loss: 0.013  val loss: 0.017  value: 0.205  patience:   3\n",
      "INFO:pykeen.utilities.train_utils:Epoch 133 /  500 (124.7s):  loss: 0.013  val loss: 0.015  value: 0.205  patience:   4\n",
      "INFO:pykeen.utilities.train_utils:Epoch 134 /  500 (124.7s):  loss: 0.012  val loss: 0.017  value: 0.205  patience:   5\n",
      "INFO:pykeen.utilities.train_utils:Epoch 135 /  500 (124.7s):  loss: 0.013  val loss: 0.016  value: 0.205  patience:   6\n",
      "INFO:pykeen.utilities.train_utils:Epoch 136 /  500 (124.7s):  loss: 0.012  val loss: 0.015  value: 0.205  patience:   7\n",
      "INFO:pykeen.utilities.train_utils:Epoch 137 /  500 (124.7s):  loss: 0.012  val loss: 0.015  value: 0.205  patience:   8\n",
      "INFO:pykeen.utilities.train_utils:Epoch 138 /  500 (124.7s):  loss: 0.013  val loss: 0.013  value: 0.205  patience:   9\n",
      "INFO:pykeen.utilities.train_utils:Epoch 139 /  500 (124.8s):  loss: 0.013  val loss: 0.014  value: 0.205  patience:  10\n",
      "INFO:pykeen.utilities.evaluation_utils.metrics_computations:Evaluation took 479.11s seconds\n"
     ]
    },
    {
     "name": "stdout",
     "output_type": "stream",
     "text": [
      "0.21019673215730997 (0.16707086632671195, 0.2833333333333333)\n"
     ]
    },
    {
     "name": "stderr",
     "output_type": "stream",
     "text": [
      "INFO:pykeen.utilities.train_utils:Epoch 140 /  500 (124.8s):  loss: 0.013  val loss: 0.013  value: 0.210  patience:   1\n",
      "INFO:pykeen.utilities.train_utils:Epoch 141 /  500 (124.5s):  loss: 0.013  val loss: 0.013  value: 0.210  patience:   2\n",
      "INFO:pykeen.utilities.train_utils:Epoch 142 /  500 (124.4s):  loss: 0.013  val loss: 0.013  value: 0.210  patience:   3\n",
      "INFO:pykeen.utilities.train_utils:Epoch 143 /  500 (124.5s):  loss: 0.012  val loss: 0.012  value: 0.210  patience:   4\n",
      "INFO:pykeen.utilities.train_utils:Epoch 144 /  500 (124.5s):  loss: 0.013  val loss: 0.016  value: 0.210  patience:   5\n",
      "INFO:pykeen.utilities.train_utils:Epoch 145 /  500 (124.5s):  loss: 0.013  val loss: 0.014  value: 0.210  patience:   6\n",
      "INFO:pykeen.utilities.train_utils:Epoch 146 /  500 (124.5s):  loss: 0.013  val loss: 0.014  value: 0.210  patience:   7\n",
      "INFO:pykeen.utilities.train_utils:Epoch 147 /  500 (124.6s):  loss: 0.012  val loss: 0.014  value: 0.210  patience:   8\n",
      "INFO:pykeen.utilities.train_utils:Epoch 148 /  500 (124.6s):  loss: 0.013  val loss: 0.014  value: 0.210  patience:   9\n",
      "INFO:pykeen.utilities.train_utils:Epoch 149 /  500 (124.5s):  loss: 0.012  val loss: 0.014  value: 0.210  patience:  10\n",
      "INFO:pykeen.utilities.evaluation_utils.metrics_computations:Evaluation took 478.53s seconds\n"
     ]
    },
    {
     "name": "stdout",
     "output_type": "stream",
     "text": [
      "0.20749689313302658 (0.16599602324600007, 0.27666666666666667)\n"
     ]
    },
    {
     "name": "stderr",
     "output_type": "stream",
     "text": [
      "INFO:pykeen.utilities.train_utils:Epoch 150 /  500 (124.6s):  loss: 0.012  val loss: 0.017  value: 0.207  patience:  11\n",
      "INFO:pykeen.utilities.train_utils:Epoch 151 /  500 (124.7s):  loss: 0.012  val loss: 0.015  value: 0.207  patience:  12\n",
      "INFO:pykeen.utilities.train_utils:Epoch 152 /  500 (124.6s):  loss: 0.012  val loss: 0.017  value: 0.207  patience:  13\n",
      "INFO:pykeen.utilities.train_utils:Epoch 153 /  500 (124.6s):  loss: 0.012  val loss: 0.016  value: 0.207  patience:  14\n",
      "INFO:pykeen.utilities.train_utils:Epoch 154 /  500 (124.6s):  loss: 0.012  val loss: 0.015  value: 0.207  patience:  15\n",
      "INFO:pykeen.utilities.train_utils:Epoch 155 /  500 (124.6s):  loss: 0.013  val loss: 0.015  value: 0.207  patience:  16\n",
      "INFO:pykeen.utilities.train_utils:Epoch 156 /  500 (124.6s):  loss: 0.012  val loss: 0.014  value: 0.207  patience:  17\n",
      "INFO:pykeen.utilities.train_utils:Epoch 157 /  500 (124.7s):  loss: 0.012  val loss: 0.013  value: 0.207  patience:  18\n",
      "INFO:pykeen.utilities.train_utils:Epoch 158 /  500 (124.6s):  loss: 0.012  val loss: 0.014  value: 0.207  patience:  19\n",
      "INFO:pykeen.utilities.train_utils:Epoch 159 /  500 (124.7s):  loss: 0.012  val loss: 0.014  value: 0.207  patience:  20\n",
      "INFO:pykeen.utilities.evaluation_utils.metrics_computations:Evaluation took 479.11s seconds\n"
     ]
    },
    {
     "name": "stdout",
     "output_type": "stream",
     "text": [
      "0.2077530064468848 (0.16400421146013838, 0.2833333333333333)\n"
     ]
    },
    {
     "name": "stderr",
     "output_type": "stream",
     "text": [
      "INFO:pykeen.utilities.train_utils:Epoch 160 /  500 (124.7s):  loss: 0.012  val loss: 0.015  value: 0.208  patience:  21\n",
      "INFO:pykeen.utilities.train_utils:Epoch 161 /  500 (124.6s):  loss: 0.012  val loss: 0.015  value: 0.208  patience:  22\n",
      "INFO:pykeen.utilities.train_utils:Epoch 162 /  500 (124.7s):  loss: 0.012  val loss: 0.015  value: 0.208  patience:  23\n",
      "INFO:pykeen.utilities.train_utils:Epoch 163 /  500 (124.8s):  loss: 0.012  val loss: 0.014  value: 0.208  patience:  24\n",
      "INFO:pykeen.utilities.train_utils:Epoch 164 /  500 (124.7s):  loss: 0.012  val loss: 0.014  value: 0.208  patience:  25\n",
      "INFO:pykeen.utilities.train_utils:Epoch 165 /  500 (124.7s):  loss: 0.012  val loss: 0.014  value: 0.208  patience:  26\n",
      "INFO:pykeen.utilities.train_utils:Epoch 166 /  500 (124.7s):  loss: 0.012  val loss: 0.015  value: 0.208  patience:  27\n",
      "INFO:pykeen.utilities.train_utils:Epoch 167 /  500 (124.7s):  loss: 0.012  val loss: 0.014  value: 0.208  patience:  28\n",
      "INFO:pykeen.utilities.train_utils:Epoch 168 /  500 (124.7s):  loss: 0.012  val loss: 0.016  value: 0.208  patience:  29\n",
      "INFO:pykeen.utilities.train_utils:Epoch 169 /  500 (124.6s):  loss: 0.012  val loss: 0.014  value: 0.208  patience:  30\n",
      "INFO:pykeen.utilities.evaluation_utils.metrics_computations:Evaluation took 478.90s seconds\n"
     ]
    },
    {
     "name": "stdout",
     "output_type": "stream",
     "text": [
      "0.20795958608859502 (0.16107826263209313, 0.29333333333333333)\n"
     ]
    },
    {
     "name": "stderr",
     "output_type": "stream",
     "text": [
      "INFO:pykeen.utilities.train_utils:Epoch 170 /  500 (124.7s):  loss: 0.012  val loss: 0.016  value: 0.208  patience:  31\n",
      "INFO:pykeen.utilities.train_utils:Epoch 171 /  500 (124.7s):  loss: 0.012  val loss: 0.017  value: 0.208  patience:  32\n",
      "INFO:pykeen.utilities.train_utils:Epoch 172 /  500 (124.7s):  loss: 0.012  val loss: 0.016  value: 0.208  patience:  33\n",
      "INFO:pykeen.utilities.train_utils:Epoch 173 /  500 (124.7s):  loss: 0.012  val loss: 0.015  value: 0.208  patience:  34\n",
      "INFO:pykeen.utilities.train_utils:Epoch 174 /  500 (124.7s):  loss: 0.012  val loss: 0.015  value: 0.208  patience:  35\n",
      "INFO:pykeen.utilities.train_utils:Epoch 175 /  500 (124.7s):  loss: 0.012  val loss: 0.016  value: 0.208  patience:  36\n",
      "INFO:pykeen.utilities.train_utils:Epoch 176 /  500 (124.7s):  loss: 0.012  val loss: 0.016  value: 0.208  patience:  37\n",
      "INFO:pykeen.utilities.train_utils:Epoch 177 /  500 (124.7s):  loss: 0.012  val loss: 0.015  value: 0.208  patience:  38\n",
      "INFO:pykeen.utilities.train_utils:Epoch 178 /  500 (124.7s):  loss: 0.012  val loss: 0.018  value: 0.208  patience:  39\n",
      "INFO:pykeen.utilities.train_utils:Epoch 179 /  500 (124.7s):  loss: 0.012  val loss: 0.016  value: 0.208  patience:  40\n",
      "INFO:pykeen.utilities.evaluation_utils.metrics_computations:Evaluation took 478.87s seconds\n"
     ]
    },
    {
     "name": "stdout",
     "output_type": "stream",
     "text": [
      "0.20872565349731476 (0.16303426316524, 0.29)\n"
     ]
    },
    {
     "name": "stderr",
     "output_type": "stream",
     "text": [
      "INFO:pykeen.utilities.train_utils:Epoch 180 /  500 (124.7s):  loss: 0.012  val loss: 0.016  value: 0.209  patience:  41\n",
      "INFO:pykeen.utilities.train_utils:Epoch 181 /  500 (124.3s):  loss: 0.012  val loss: 0.016  value: 0.209  patience:  42\n",
      "INFO:pykeen.utilities.train_utils:Epoch 182 /  500 (124.3s):  loss: 0.012  val loss: 0.015  value: 0.209  patience:  43\n",
      "INFO:pykeen.utilities.train_utils:Epoch 183 /  500 (124.5s):  loss: 0.012  val loss: 0.014  value: 0.209  patience:  44\n",
      "INFO:pykeen.utilities.train_utils:Epoch 184 /  500 (124.4s):  loss: 0.012  val loss: 0.013  value: 0.209  patience:  45\n",
      "INFO:pykeen.utilities.train_utils:Epoch 185 /  500 (124.4s):  loss: 0.012  val loss: 0.015  value: 0.209  patience:  46\n",
      "INFO:pykeen.utilities.train_utils:Epoch 186 /  500 (124.5s):  loss: 0.012  val loss: 0.014  value: 0.209  patience:  47\n",
      "INFO:pykeen.utilities.train_utils:Epoch 187 /  500 (124.5s):  loss: 0.012  val loss: 0.014  value: 0.209  patience:  48\n",
      "INFO:pykeen.utilities.train_utils:Epoch 188 /  500 (124.5s):  loss: 0.012  val loss: 0.013  value: 0.209  patience:  49\n",
      "INFO:pykeen.utilities.train_utils:Epoch 189 /  500 (124.4s):  loss: 0.012  val loss: 0.014  value: 0.209  patience:  50\n"
     ]
    }
   ],
   "source": [
    "config['margin_loss'] = [0.5]\n",
    "results30 = pykeen.run(\n",
    "    config=config,\n",
    "    output_directory=output_directory+'05'\n",
    ")"
   ]
  },
  {
   "cell_type": "code",
   "execution_count": null,
   "metadata": {
    "ExecuteTime": {
     "end_time": "2019-07-11T12:54:24.645669Z",
     "start_time": "2019-07-10T14:55:39.069Z"
    }
   },
   "outputs": [],
   "source": [
    "config['margin_loss'] = [0.7]\n",
    "results30 = pykeen.run(\n",
    "    config=config,\n",
    "    output_directory=output_directory+'07'\n",
    ")"
   ]
  },
  {
   "cell_type": "code",
   "execution_count": null,
   "metadata": {
    "ExecuteTime": {
     "end_time": "2019-07-11T12:54:24.647664Z",
     "start_time": "2019-07-10T14:55:39.417Z"
    }
   },
   "outputs": [],
   "source": [
    "config['margin_loss'] = [1]\n",
    "results40 = pykeen.run(\n",
    "    config=config,\n",
    "    output_directory=output_directory+'09'\n",
    ")"
   ]
  },
  {
   "cell_type": "markdown",
   "metadata": {},
   "source": [
    "Check result entries:"
   ]
  },
  {
   "cell_type": "code",
   "execution_count": null,
   "metadata": {
    "ExecuteTime": {
     "end_time": "2019-07-11T12:54:24.648661Z",
     "start_time": "2019-07-10T14:55:43.193Z"
    }
   },
   "outputs": [],
   "source": [
    "results.results.keys()"
   ]
  },
  {
   "cell_type": "code",
   "execution_count": null,
   "metadata": {
    "ExecuteTime": {
     "end_time": "2019-07-11T12:54:24.649658Z",
     "start_time": "2019-07-10T14:55:44.068Z"
    }
   },
   "outputs": [],
   "source": [
    "results = {\n",
    "    'losses': json.load(open(os.path.join(output_directory, 'losses.json'))),\n",
    "    'validation_losses': json.load(open(os.path.join(output_directory, 'val_losses.json'))),\n",
    "    'entity_to_embedding': json.load(open(os.path.join(output_directory, 'entities_to_embeddings.json'))),\n",
    "    'relation_to_embedding': json.load(open(os.path.join(output_directory, 'relations_to_embeddings.json'))),\n",
    "    'final_configuration': json.load(open(os.path.join(output_directory, 'configuration.json'))),\n",
    "    'eval_summary': json.load(open(os.path.join(output_directory, 'evaluation_summary.json'))),\n",
    "    'search_summary': json.load(open(os.path.join(output_directory, 'search_summary.json'))),\n",
    "    'entity_to_id': json.load(open(os.path.join(output_directory, 'entity_to_id.json'))),\n",
    "    'relation_to_id': json.load(open(os.path.join(output_directory, 'relation_to_id.json')))\n",
    "}"
   ]
  },
  {
   "cell_type": "code",
   "execution_count": null,
   "metadata": {
    "ExecuteTime": {
     "end_time": "2019-07-11T12:54:24.649658Z",
     "start_time": "2019-07-10T14:55:44.290Z"
    }
   },
   "outputs": [],
   "source": [
    "results['search_summary']"
   ]
  },
  {
   "cell_type": "code",
   "execution_count": 20,
   "metadata": {
    "ExecuteTime": {
     "end_time": "2019-07-06T05:44:17.923076Z",
     "start_time": "2019-07-06T05:44:17.377139Z"
    }
   },
   "outputs": [],
   "source": [
    "import torch, os\n",
    "import pykeen.constants as pkc\n",
    "from pykeen.kge_models import get_kge_model\n",
    "# Initialize KG embedding model\n",
    "config = results['final_configuration']\n",
    "if config['random_seed'] is not None:\n",
    "    torch.manual_seed(config['random_seed'])\n",
    "    \n",
    "model: torch.nn.Module = get_kge_model(config=config)\n",
    "model.load_state_dict(torch.load(os.path.join(output_directory, 'trained_model.pkl')))\n",
    "\n",
    "results['trained_model'] = model "
   ]
  },
  {
   "cell_type": "markdown",
   "metadata": {},
   "source": [
    "Get the model configuration that lead to best results:"
   ]
  },
  {
   "cell_type": "code",
   "execution_count": 21,
   "metadata": {
    "ExecuteTime": {
     "end_time": "2019-07-06T05:44:17.976954Z",
     "start_time": "2019-07-06T05:44:17.925038Z"
    }
   },
   "outputs": [
    {
     "data": {
      "text/plain": [
       "{'metrics': 'mean_rank',\n",
       " 'training_set_path': 'D:/uni/master/data/FB15K/train.tsv',\n",
       " 'test_set_path': 'D:/uni/master/data/FB15K/valid_150.tsv',\n",
       " 'mapping_path': 'D:/uni/master/data/fb15k/',\n",
       " 'execution_mode': 'HPO_mode',\n",
       " 'random_seed': 5,\n",
       " 'kg_embedding_model_name': 'Region',\n",
       " 'region_type': 'ellipse',\n",
       " 'embedding_dim': 40,\n",
       " 'normalization_of_entities': 2,\n",
       " 'init_radius': 0,\n",
       " 'reg_lambda': 5,\n",
       " 'loss_type': 'MRL',\n",
       " 'margin_loss': 0.5,\n",
       " 'neg_factor': 1,\n",
       " 'corrupt_relations': False,\n",
       " 'filter_negative_triples': False,\n",
       " 'es_metric': 'custom',\n",
       " 'learning_rate': 0.1,\n",
       " 'num_epochs': 500,\n",
       " 'batch_size': 2048,\n",
       " 'test_batch_size': 4096,\n",
       " 'maximum_number_of_hpo_iters': 1,\n",
       " 'preferred_device': 'gpu',\n",
       " 'pykeen-version': '0.0.26-dev',\n",
       " 'num_entities': 14951,\n",
       " 'num_relations': 1345}"
      ]
     },
     "execution_count": 21,
     "metadata": {},
     "output_type": "execute_result"
    }
   ],
   "source": [
    "results['final_configuration']"
   ]
  },
  {
   "cell_type": "markdown",
   "metadata": {},
   "source": [
    "Access trained model:"
   ]
  },
  {
   "cell_type": "code",
   "execution_count": 22,
   "metadata": {
    "ExecuteTime": {
     "end_time": "2019-07-06T05:44:18.046712Z",
     "start_time": "2019-07-06T05:44:17.977897Z"
    }
   },
   "outputs": [
    {
     "data": {
      "text/plain": [
       "Region(\n",
       "  (criterion): MarginRankingLoss()\n",
       "  (entity_embeddings): Embedding(14951, 40)\n",
       "  (relation_embeddings): Embedding(1345, 40)\n",
       "  (relation_regions): Embedding(1345, 40)\n",
       ")"
      ]
     },
     "execution_count": 22,
     "metadata": {},
     "output_type": "execute_result"
    }
   ],
   "source": [
    "results['trained_model']"
   ]
  },
  {
   "cell_type": "markdown",
   "metadata": {},
   "source": [
    "Visualize loss values:"
   ]
  },
  {
   "cell_type": "code",
   "execution_count": 23,
   "metadata": {
    "ExecuteTime": {
     "end_time": "2019-07-06T05:44:19.644247Z",
     "start_time": "2019-07-06T05:44:18.049706Z"
    }
   },
   "outputs": [
    {
     "data": {
      "image/png": "[encoded data removed]",
      "text/plain": [
       "<Figure size 432x288 with 1 Axes>"
      ]
     },
     "metadata": {
      "needs_background": "light"
     },
     "output_type": "display_data"
    }
   ],
   "source": [
    "losses = results['losses']\n",
    "epochs = np.arange(len(losses))\n",
    "plt.title(r'Loss Per Epoch')\n",
    "plt.xlabel('epoch')\n",
    "plt.ylabel('loss')\n",
    "plt.plot(epochs, losses)\n",
    "plt.show()"
   ]
  },
  {
   "cell_type": "code",
   "execution_count": 24,
   "metadata": {
    "ExecuteTime": {
     "end_time": "2019-07-06T05:44:19.849335Z",
     "start_time": "2019-07-06T05:44:19.645209Z"
    }
   },
   "outputs": [
    {
     "data": {
      "image/png": "[encoded data removed]",
      "text/plain": [
       "<Figure size 432x288 with 1 Axes>"
      ]
     },
     "metadata": {
      "needs_background": "light"
     },
     "output_type": "display_data"
    }
   ],
   "source": [
    "losses = results['validation_losses']\n",
    "epochs = np.arange(len(losses))\n",
    "plt.title(r'Loss Per Epoch')\n",
    "plt.xlabel('epoch')\n",
    "plt.ylabel('loss')\n",
    "plt.plot(epochs, losses)\n",
    "plt.show()"
   ]
  },
  {
   "cell_type": "markdown",
   "metadata": {},
   "source": [
    "Get evaluation results:\n",
    " * Mean rank\n",
    " * Hits@k, k $\\in$ {1,3,5,10} "
   ]
  },
  {
   "cell_type": "code",
   "execution_count": 25,
   "metadata": {
    "ExecuteTime": {
     "end_time": "2019-07-06T05:44:19.855322Z",
     "start_time": "2019-07-06T05:44:19.850300Z"
    }
   },
   "outputs": [
    {
     "data": {
      "text/plain": [
       "{'mean_rank': 0.19750057286535577,\n",
       " 'hits@k': {'1': 0.13, '3': 0.2, '5': 0.24666666666666667, '10': 0.34},\n",
       " 'precision': None,\n",
       " 'recall': None,\n",
       " 'accuracy': None,\n",
       " 'f1_score': None}"
      ]
     },
     "execution_count": 25,
     "metadata": {},
     "output_type": "execute_result"
    }
   ],
   "source": [
    "results['eval_summary']"
   ]
  },
  {
   "cell_type": "markdown",
   "metadata": {},
   "source": [
    "1.\n",
    "\n",
    "    {'training_set_path': 'D:/uni/master/data/YAGO39K/Train/triple2id.tsv',\n",
    "     'test_set_path': 'D:/uni/master/data/YAGO39K/Valid/instanceOf2id_positive.tsv',\n",
    "     'neg_test_set_path': 'D:/uni/master/data/YAGO39K/Valid/instanceOf2id_negative.tsv',\n",
    "     'execution_mode': 'HPO_mode',\n",
    "     'random_seed': 2,\n",
    "     'kg_embedding_model_name': 'Region',\n",
    "     'embedding_dim': 20,\n",
    "     'normalization_of_entities': 2,\n",
    "     'init_radius': 5,\n",
    "     'reg_lambda': 0.02,\n",
    "     'margin_loss': 0,\n",
    "     'learning_rate': 5,\n",
    "     'num_epochs': 30,\n",
    "     'batch_size': 1024,\n",
    "     'test_batch_size': 1024,\n",
    "     'filter_negative_triples': True,\n",
    "     'maximum_number_of_hpo_iters': 20,\n",
    "     'preferred_device': 'gpu',\n",
    "     'pykeen-version': '0.0.26-dev',\n",
    "     'num_entities': 46100,\n",
    "     'num_relations': 39}\n",
    "\n",
    "\n",
    "     {'mean_rank': None,\n",
    "     'hits@k': None,\n",
    "     'precision': [0.5817929759704251],\n",
    "     'recall': [0.7386089563913696],\n",
    "     'accuracy': [0.6035163257983495],\n",
    "     'f1_score': 0.6508889335669357}\n",
    "\n",
    "     30 epochs overfit"
   ]
  },
  {
   "cell_type": "markdown",
   "metadata": {},
   "source": [
    "2.\n",
    "   \n",
    "       {'training_set_path': 'D:/uni/master/data/YAGO39K/Train/instanceOf2id.tsv', 'test_set_path': 'D:/uni/master/data/YAGO39K/Valid/subClassOf2id_positive.tsv', 'neg_test_set_path': 'D:/uni/master/data/YAGO39K/Valid/triple2id_negative.tsv', 'execution_mode': 'HPO_mode', 'random_seed': 2, 'kg_embedding_model_name': 'Region', 'embedding_dim': 100, 'normalization_of_entities': 2, 'init_radius': 0.5, 'reg_lambda': 0.2, 'margin_loss': 0, 'learning_rate': 5, 'num_epochs': 30, 'batch_size': 1024, 'test_batch_size': 1024, 'filter_negative_triples': True, 'maximum_number_of_hpo_iters': 20, 'preferred_device': 'gpu', 'pykeen-version': '0.0.26-dev', 'num_entities': 46100, 'num_relations': 39}\n",
    "\n",
    "    MetricResults(mean_rank=None, hits_at_k=None, precision=(0.5531790499390986,), recall=(0.7401082067661822,), accuracy=(0.5707994911439476,), fscore=0.6331344448781575)\n",
    "\n",
    "    18 epochs\n"
   ]
  },
  {
   "cell_type": "markdown",
   "metadata": {},
   "source": [
    "3.\n",
    "\n",
    "    {'training_set_path': 'D:/uni/master/data/YAGO39K/Train/instanceOf2id.tsv', 'test_set_path': 'D:/uni/master/data/YAGO39K/Valid/instanceOf2id_positive.tsv', 'neg_test_set_path': 'D:/uni/master/data/YAGO39K/Valid/triple2id_negative.tsv', 'execution_mode': 'HPO_mode', 'random_seed': 2, 'kg_embedding_model_name': 'Region', 'embedding_dim': 50, 'normalization_of_entities': 2, 'init_radius': 10, 'reg_lambda': 0.1, 'margin_loss': 0, 'learning_rate': 2, 'num_epochs': 30, 'batch_size': 1024, 'test_batch_size': 1024, 'filter_negative_triples': True, 'maximum_number_of_hpo_iters': 20, 'preferred_device': 'gpu', 'pykeen-version': '0.0.26-dev', 'num_entities': 46100, 'num_relations': 39}\n",
    "\n",
    "    MetricResults(mean_rank=None, hits_at_k=None, precision=(0.5531279471864193,), recall=(0.6881559220389805,), accuracy=(0.5657435495971557,), fscore=0.6132977023847561)\n",
    "\n",
    "    30 epochs not finished\n",
    "\n"
   ]
  },
  {
   "cell_type": "markdown",
   "metadata": {},
   "source": [
    "        {'metrics': 'mean_rank', 'training_set_path': 'D:/uni/master/data/FB15K/train.tsv', 'test_set_path': 'D:/uni/master/data/FB15K/valid_150.tsv', 'mapping_path': 'D:/uni/master/data/fb15k/', 'execution_mode': 'HPO_mode', 'random_seed': 5, 'kg_embedding_model_name': 'Region', 'region_type': 'sphere', 'embedding_dim': 50, 'normalization_of_entities': 2, 'init_radius': 0, 'reg_lambda': 0.01, 'loss_type': 'MRL', 'margin_loss': 0.5, 'neg_factor': 5, 'corrupt_relations': False, 'filter_negative_triples': False, 'es_metric': 'custom', 'learning_rate': 0.1, 'num_epochs': 1000, 'batch_size': 2048, 'test_batch_size': 4096, 'maximum_number_of_hpo_iters': 5, 'preferred_device': 'gpu', 'pykeen-version': '0.0.26-dev', 'num_entities': 14951, 'num_relations': 1345}"
   ]
  },
  {
   "cell_type": "markdown",
   "metadata": {},
   "source": [
    "# "
   ]
  }
 ],
 "metadata": {
  "kernelspec": {
   "display_name": "Python 3",
   "language": "python",
   "name": "python3"
  },
  "language_info": {
   "codemirror_mode": {
    "name": "ipython",
    "version": 3
   },
   "file_extension": ".py",
   "mimetype": "text/x-python",
   "name": "python",
   "nbconvert_exporter": "python",
   "pygments_lexer": "ipython3",
   "version": "3.6.8"
  },
  "toc": {
   "base_numbering": 1,
   "nav_menu": {},
   "number_sections": true,
   "sideBar": false,
   "skip_h1_title": false,
   "title_cell": "Table of Contents",
   "title_sidebar": "Contents",
   "toc_cell": false,
   "toc_position": {},
   "toc_section_display": true,
   "toc_window_display": false
  }
 },
 "nbformat": 4,
 "nbformat_minor": 2
}
